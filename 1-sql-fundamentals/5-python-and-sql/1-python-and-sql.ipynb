{
  "cells": [
    {
      "cell_type": "markdown",
      "metadata": {
        "id": "PnHu4kptIvnR"
      },
      "source": [
        "# Python and SQL"
      ]
    },
    {
      "cell_type": "markdown",
      "metadata": {
        "tags": [],
        "id": "5zRfrOL4IvoD"
      },
      "source": [
        "### Introduction"
      ]
    },
    {
      "cell_type": "markdown",
      "metadata": {
        "id": "QnSWcRtAIvo3"
      },
      "source": [
        "So far, we have learned the fundamentals of SQL by writing code in `.sql` files and executing these files in the terminal.  Now, if we would like to eventually use that data with a Python codebase, we need to change a little bit about how we operate.  \n",
        "\n",
        "Going forward, we'll use a *Python library* called `sqlite3` to execute our SQL calls, and sqlite3 will return our information in Python."
      ]
    },
    {
      "cell_type": "markdown",
      "metadata": {
        "id": "WkHXtF2sIvpA"
      },
      "source": [
        "### SQL and Python"
      ]
    },
    {
      "cell_type": "markdown",
      "metadata": {
        "id": "vgoHrln_IvpB"
      },
      "source": [
        "So we'll use the Python library `sqlite3` to execute our SQL calls.  Let's set out as our first task, using the sqlite3 library to select all of the employees from our `mean_green.db` database."
      ]
    },
    {
      "cell_type": "markdown",
      "metadata": {
        "id": "EwOBw0adIvpC"
      },
      "source": [
        "So to select our employees, we will need to do the following:\n",
        "    \n",
        "1. Install the `sqlite3` Python library\n",
        "2. Then use the library to connect to our database\n",
        "3. Once connected, execute a query on our database"
      ]
    },
    {
      "cell_type": "markdown",
      "metadata": {
        "id": "x5E5uPMMIvpD"
      },
      "source": [
        "Let's learn how to do each of these tasks."
      ]
    },
    {
      "cell_type": "markdown",
      "metadata": {
        "id": "Ts6YyP2bIvpL"
      },
      "source": [
        "### Guided by the documentation"
      ]
    },
    {
      "cell_type": "markdown",
      "metadata": {
        "id": "JQEUQKE0IvpQ"
      },
      "source": [
        "Our first step is to install the relevant python library with `pip install sqlite3`.  Once we do that, step one is done.\n",
        "\n",
        "So all that's left is using the library to connect to our database and then executing a query on our database.  For these steps, we can look to the [sqlite3 documentation](https://docs.python.org/2/library/sqlite3.html)."
      ]
    },
    {
      "cell_type": "markdown",
      "metadata": {
        "id": "99LQJczbIvpi"
      },
      "source": [
        "<img src=\"https://github.com/eng-6-22/mod-1-sql-curriculum/blob/master/1-sql-fundamentals/5-python-and-sql/sqlite3-documentation.png?raw=1\" width=\"80%\"/>"
      ]
    },
    {
      "cell_type": "markdown",
      "metadata": {
        "id": "Ppmnh1rDIvp1"
      },
      "source": [
        "Now, looking at the documentation, it says \"To use the module...\" we must first:\n",
        "\n",
        "> create a Connection object that represents the database."
      ]
    },
    {
      "cell_type": "markdown",
      "metadata": {
        "id": "Ry96vLGvIvp1"
      },
      "source": [
        "And below we can see the code to do that.  So we simply copy and paste the code from the documentation and replace the `example.db` database with our `mean_green.db`."
      ]
    },
    {
      "cell_type": "code",
      "execution_count": 9,
      "metadata": {
        "id": "JH_RJUAeIvp2"
      },
      "outputs": [],
      "source": [
        "import sqlite3\n",
        "conn = sqlite3.connect('meangreen.db')"
      ]
    },
    {
      "cell_type": "markdown",
      "metadata": {
        "id": "5jabisiBIvqG"
      },
      "source": [
        "As mentioned in the documentation, this connection represents our database.  Continuing with the documentation, we next need to create a `cursor` object by running `conn.cursor()` and storing the return value in a variable."
      ]
    },
    {
      "cell_type": "code",
      "execution_count": 10,
      "metadata": {
        "id": "EyMxNG5qIvqG"
      },
      "outputs": [],
      "source": [
        "cursor = conn.cursor()"
      ]
    },
    {
      "cell_type": "markdown",
      "metadata": {
        "id": "qiQS6zBgIvqG"
      },
      "source": [
        "The cursor object is how we execute our sql statements against the connected database.  We can do this by calling the `cursor.execute` method with the related sql statement as an argument.  For example, we can do the following to create a table in our database."
      ]
    },
    {
      "cell_type": "code",
      "execution_count": 11,
      "metadata": {
        "id": "q-6rTSv7IvqG"
      },
      "outputs": [],
      "source": [
        "sql = \"\"\"CREATE TABLE employees (\n",
        "    name TEXT,\n",
        "    zipcode TEXT\n",
        ");\"\"\""
      ]
    },
    {
      "cell_type": "code",
      "execution_count": 12,
      "metadata": {
        "colab": {
          "base_uri": "https://localhost:8080/"
        },
        "id": "O5TmWFpSIvqd",
        "outputId": "3da5cb1f-8d3b-4feb-f76c-7ecd06327e3c"
      },
      "outputs": [
        {
          "output_type": "execute_result",
          "data": {
            "text/plain": [
              "<sqlite3.Cursor at 0x7de543040dc0>"
            ]
          },
          "metadata": {},
          "execution_count": 12
        }
      ],
      "source": [
        "cursor.execute(sql)"
      ]
    },
    {
      "cell_type": "markdown",
      "metadata": {
        "id": "Fi3cwXmNIvqi"
      },
      "source": [
        "So above we assigned a sql string to the Python variable SQL, and executed this string by passing it as an argument to the `cursor.execute` method.  The `execute` method call just stages our create table command.  To run this command, we need to commit our staged commands."
      ]
    },
    {
      "cell_type": "code",
      "execution_count": 13,
      "metadata": {
        "id": "QSEx8lUtIvqj"
      },
      "outputs": [],
      "source": [
        "conn.commit()"
      ]
    },
    {
      "cell_type": "markdown",
      "metadata": {
        "id": "qWnM_cflIvqj"
      },
      "source": [
        "Ok, so now we have new table in our database.  We can now query this table, with the following code."
      ]
    },
    {
      "cell_type": "code",
      "execution_count": 14,
      "metadata": {
        "colab": {
          "base_uri": "https://localhost:8080/"
        },
        "id": "4lAZdcgTIvqj",
        "outputId": "6c1b4070-14e9-46a4-df47-47767e1526d6"
      },
      "outputs": [
        {
          "output_type": "execute_result",
          "data": {
            "text/plain": [
              "<sqlite3.Cursor at 0x7de543040dc0>"
            ]
          },
          "metadata": {},
          "execution_count": 14
        }
      ],
      "source": [
        "cursor.execute('select * from employees;')"
      ]
    },
    {
      "cell_type": "code",
      "execution_count": 15,
      "metadata": {
        "colab": {
          "base_uri": "https://localhost:8080/"
        },
        "id": "PJxLlezTIvqk",
        "outputId": "63c593b4-de3f-4d28-fb7b-b4f7cf707ef4"
      },
      "outputs": [
        {
          "output_type": "execute_result",
          "data": {
            "text/plain": [
              "[]"
            ]
          },
          "metadata": {},
          "execution_count": 15
        }
      ],
      "source": [
        "cursor.fetchall()"
      ]
    },
    {
      "cell_type": "markdown",
      "metadata": {
        "id": "qBW5S7-zIvqm"
      },
      "source": [
        "So `cursor.execute` was used to specify our query, and `cursor.fetchall()` returned all of the results of our query.  In this case, we have no entries in our employees table so `fetchall` returns an empty list."
      ]
    },
    {
      "cell_type": "markdown",
      "metadata": {
        "id": "qnXHjaUXIvqn"
      },
      "source": [
        "So to execute code in SQL we simply use the `cursor.execute` command.  If our sql statement is a query like a select statement, we then we retrieve the results with `fetchall`.  If the sql statement changes our database, like a create table command, then we follow our `cursor.execute` method with `conn.commit` to execute the command."
      ]
    },
    {
      "cell_type": "markdown",
      "metadata": {
        "id": "TNNScaGoIvqo"
      },
      "source": [
        "### Summary"
      ]
    },
    {
      "cell_type": "markdown",
      "metadata": {
        "id": "0F_TaAvuIvqo"
      },
      "source": [
        "In this lesson, we learned about how to use the `sqlite3` Python library to execute our SQL statements.  We saw that to do so, we connect to our database with `sqlite3.connect` and then use the connection object to create a cursor with `cursor = conn.cursor()`.  Now we can execute our SQL methods with `cursor.execute`.  If our sql command changes the database like, creating a table, we follow the `cursor.execute` method call with `conn.commit`.  If however, our sql command is asking questions of the database, with a select statement, we follow our `execute` method call with `cursor.fetchall` to return all of the values of that query."
      ]
    }
  ],
  "metadata": {
    "kernelspec": {
      "display_name": "Python 3 (ipykernel)",
      "language": "python",
      "name": "python3"
    },
    "language_info": {
      "codemirror_mode": {
        "name": "ipython",
        "version": 3
      },
      "file_extension": ".py",
      "mimetype": "text/x-python",
      "name": "python",
      "nbconvert_exporter": "python",
      "pygments_lexer": "ipython3",
      "version": "3.11.1"
    },
    "colab": {
      "provenance": []
    }
  },
  "nbformat": 4,
  "nbformat_minor": 0
}