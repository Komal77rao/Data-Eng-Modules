{
  "cells": [
    {
      "cell_type": "markdown",
      "metadata": {
        "id": "e52a3XML2E_3"
      },
      "source": [
        "# Inserting Data into Database"
      ]
    },
    {
      "cell_type": "markdown",
      "metadata": {
        "id": "2dL1P32y2FAQ"
      },
      "source": [
        "## Introduction"
      ]
    },
    {
      "cell_type": "markdown",
      "metadata": {
        "id": "0MQ1f5jH2FAe"
      },
      "source": [
        "In the last lesson, we learned how to create and connect to a SQL database using SQLite3. We also learned how to create tables in our database. Now that we have our tables, we can begin to insert the data, or rows, into our tables."
      ]
    },
    {
      "cell_type": "markdown",
      "metadata": {
        "id": "CzEX0juA2FAl"
      },
      "source": [
        "### Creating the Table\n",
        "Lets start off by recreating the database from previous lessons."
      ]
    },
    {
      "cell_type": "markdown",
      "metadata": {
        "id": "dSP6N4NX2FAn"
      },
      "source": [
        "Our SQL statement to create the employees table is below.  Copy the text below, and insert it into a `create_table.sql` file.\n",
        "\n",
        "```SQL\n",
        "CREATE TABLE employees (\n",
        "    id INTEGER PRIMARY KEY,\n",
        "    name TEXT,\n",
        "    phone_number INTEGER,\n",
        "    home_zipcode INTEGER,\n",
        "    email TEXT);\n",
        "```"
      ]
    },
    {
      "cell_type": "markdown",
      "metadata": {
        "id": "dWpXKHcI2FAo"
      },
      "source": [
        "Then, we can run that file by going to the terminal and running `sqlite3 barbershop.db < create_employees.sql`."
      ]
    },
    {
      "cell_type": "markdown",
      "metadata": {
        "id": "Qvfz12Lu2FAt"
      },
      "source": [
        "### Inserting data into database\n",
        "Now that our database is ready and `employees` table is created, we are ready to insert our rows of data into their respective tables.  We can do so by creating a new file called `insert_employees.sql` and copying the following code to that file."
      ]
    },
    {
      "cell_type": "markdown",
      "metadata": {
        "id": "GyYGgFMQ2FAu"
      },
      "source": [
        "```sql\n",
        "-- insert_employees.sql\n",
        "INSERT INTO employees (name, phone_number, home_zipcode, email) VALUES\n",
        "('fred', '555-333-4444', 10001, 'fred@barbershop.com'),\n",
        "('bob', '555-333-4444', 10001, 'bob@barbershop.com');\n",
        "```"
      ]
    },
    {
      "cell_type": "markdown",
      "metadata": {
        "id": "Kf0aG__Q2FAv"
      },
      "source": [
        "In the code above, we started with the INSERT INTO command, followed by the name of the table to which we want to add data. Then, in parentheses, we wrote the column names that we will be filling with data. This is followed by the VALUES keyword, which is accompanied by a parentheses enclosed list of the values that correspond to each column name."
      ]
    },
    {
      "cell_type": "markdown",
      "metadata": {
        "id": "cTH0BDK32FAv"
      },
      "source": [
        "> Notice: We have commas in between each row, and that we ended the SQL statement with a semi-colon (as we do every SQL statement)."
      ]
    },
    {
      "cell_type": "markdown",
      "metadata": {
        "id": "-4tThu3O2FAw"
      },
      "source": [
        "Then, we can execute the command by going to the terminal and running the following:\n",
        "\n",
        "`sqlite3 barbershop.db < insert_employees.sql`"
      ]
    },
    {
      "cell_type": "markdown",
      "metadata": {
        "id": "Oo-QbBpv2FAw"
      },
      "source": [
        "At this point, if we don't see an error, we have properly inserted in our data"
      ]
    },
    {
      "cell_type": "markdown",
      "metadata": {
        "id": "xaf6maSb2FAx"
      },
      "source": [
        "### Summary"
      ]
    },
    {
      "cell_type": "markdown",
      "metadata": {
        "id": "hcAj37Qr2FA0"
      },
      "source": [
        "In this lesson, we worked with an INSERT statement in SQL."
      ]
    },
    {
      "cell_type": "markdown",
      "metadata": {
        "id": "LqGS6_hX2FA0"
      },
      "source": [
        "We followed the general pattern of writing our SQL statements in a separate file.  And we saw that an INSERT statement looks like the following:\n",
        "\n",
        "```sql\n",
        "-- insert_employees.sql\n",
        "INSERT INTO employees (name, phone_number, home_zipcode, email) VALUES\n",
        "('fred', '555-333-4444', 10001, 'fred@barbershop.com'),\n",
        "('bob', '555-333-4444', 10001, 'bob@barbershop.com');\n",
        "```"
      ]
    },
    {
      "cell_type": "markdown",
      "metadata": {
        "id": "sTetjMFU2FA0"
      },
      "source": [
        "Then, to execute that file, we went to the terminal and ran the following:\n",
        "\n",
        "`sqlite3 barbershop.db < insert_employees.sql`"
      ]
    }
  ],
  "metadata": {
    "kernelspec": {
      "display_name": "Python 3 (ipykernel)",
      "language": "python",
      "name": "python3"
    },
    "language_info": {
      "codemirror_mode": {
        "name": "ipython",
        "version": 3
      },
      "file_extension": ".py",
      "mimetype": "text/x-python",
      "name": "python",
      "nbconvert_exporter": "python",
      "pygments_lexer": "ipython3",
      "version": "3.9.10"
    },
    "colab": {
      "provenance": []
    }
  },
  "nbformat": 4,
  "nbformat_minor": 0
}