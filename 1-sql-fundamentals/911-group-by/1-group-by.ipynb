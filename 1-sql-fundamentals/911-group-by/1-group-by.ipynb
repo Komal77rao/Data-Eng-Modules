{
  "cells": [
    {
      "cell_type": "markdown",
      "metadata": {
        "id": "2XSLveCE6h-b"
      },
      "source": [
        "# Group By and Having"
      ]
    },
    {
      "cell_type": "markdown",
      "metadata": {
        "id": "vs_w4Nk06h--"
      },
      "source": [
        "### Introduction"
      ]
    },
    {
      "cell_type": "markdown",
      "metadata": {
        "id": "Nm3Ew84n6h-_"
      },
      "source": [
        "Now so far, when we have queried for aggregate information, we have done by asking questions about the entire table, or a single subset of the table.  For example, we could answer a question about the average rating of a restaurant in the Bronx, and then perhaps a separate query about the average restaurant rating in Queens.  But what if we'd like to organize our data into different groups based on the neighborhood, and then calculate the average rating of each group of restaurants?  For that we use group by.  "
      ]
    },
    {
      "cell_type": "markdown",
      "metadata": {
        "id": "DGi1Juo-6h_A"
      },
      "source": [
        "### Working with Group By"
      ]
    },
    {
      "cell_type": "markdown",
      "metadata": {
        "id": "Y4lOB56E6h_B"
      },
      "source": [
        "Let's start with that exact query.  We'll group our restaurants based on neighborhood and then calculate the average rating."
      ]
    },
    {
      "cell_type": "code",
      "execution_count": 1,
      "metadata": {
        "id": "inU7FGOs6h_B"
      },
      "outputs": [],
      "source": [
        "import pandas as pd\n",
        "import sqlite3\n",
        "\n",
        "yelp_db = sqlite3.connect('yelp.db')\n",
        "df = pd.read_csv('https://raw.githubusercontent.com/ledeprogram/courses/master/foundations/mapping/tilemill/yelp-lunch-nyc.csv')\n",
        "df.to_sql('restaurants', yelp_db)\n",
        "cursor = yelp_db.cursor()"
      ]
    },
    {
      "cell_type": "code",
      "execution_count": 2,
      "metadata": {
        "id": "3RiaOCae6h_F",
        "outputId": "ebdeca55-1fac-4c77-d000-1a4f422c296f",
        "colab": {
          "base_uri": "https://localhost:8080/",
          "height": 112
        }
      },
      "outputs": [
        {
          "output_type": "execute_result",
          "data": {
            "text/plain": [
              "             Name           Address   City Category  Rating  \\\n",
              "0  Rambling House  4292 Katonah Ave  Bronx     Pubs     4.0   \n",
              "1      Curry Spot  4268 Katonah Ave  Bronx   Indian     4.0   \n",
              "\n",
              "                                            URL  \n",
              "0  http://www.yelp.com/biz/rambling-house-bronx  \n",
              "1      http://www.yelp.com/biz/curry-spot-bronx  "
            ],
            "text/html": [
              "\n",
              "  <div id=\"df-2ba457a7-47cf-4d1f-ad0d-4bc7e038d1ca\" class=\"colab-df-container\">\n",
              "    <div>\n",
              "<style scoped>\n",
              "    .dataframe tbody tr th:only-of-type {\n",
              "        vertical-align: middle;\n",
              "    }\n",
              "\n",
              "    .dataframe tbody tr th {\n",
              "        vertical-align: top;\n",
              "    }\n",
              "\n",
              "    .dataframe thead th {\n",
              "        text-align: right;\n",
              "    }\n",
              "</style>\n",
              "<table border=\"1\" class=\"dataframe\">\n",
              "  <thead>\n",
              "    <tr style=\"text-align: right;\">\n",
              "      <th></th>\n",
              "      <th>Name</th>\n",
              "      <th>Address</th>\n",
              "      <th>City</th>\n",
              "      <th>Category</th>\n",
              "      <th>Rating</th>\n",
              "      <th>URL</th>\n",
              "    </tr>\n",
              "  </thead>\n",
              "  <tbody>\n",
              "    <tr>\n",
              "      <th>0</th>\n",
              "      <td>Rambling House</td>\n",
              "      <td>4292 Katonah Ave</td>\n",
              "      <td>Bronx</td>\n",
              "      <td>Pubs</td>\n",
              "      <td>4.0</td>\n",
              "      <td>http://www.yelp.com/biz/rambling-house-bronx</td>\n",
              "    </tr>\n",
              "    <tr>\n",
              "      <th>1</th>\n",
              "      <td>Curry Spot</td>\n",
              "      <td>4268 Katonah Ave</td>\n",
              "      <td>Bronx</td>\n",
              "      <td>Indian</td>\n",
              "      <td>4.0</td>\n",
              "      <td>http://www.yelp.com/biz/curry-spot-bronx</td>\n",
              "    </tr>\n",
              "  </tbody>\n",
              "</table>\n",
              "</div>\n",
              "    <div class=\"colab-df-buttons\">\n",
              "\n",
              "  <div class=\"colab-df-container\">\n",
              "    <button class=\"colab-df-convert\" onclick=\"convertToInteractive('df-2ba457a7-47cf-4d1f-ad0d-4bc7e038d1ca')\"\n",
              "            title=\"Convert this dataframe to an interactive table.\"\n",
              "            style=\"display:none;\">\n",
              "\n",
              "  <svg xmlns=\"http://www.w3.org/2000/svg\" height=\"24px\" viewBox=\"0 -960 960 960\">\n",
              "    <path d=\"M120-120v-720h720v720H120Zm60-500h600v-160H180v160Zm220 220h160v-160H400v160Zm0 220h160v-160H400v160ZM180-400h160v-160H180v160Zm440 0h160v-160H620v160ZM180-180h160v-160H180v160Zm440 0h160v-160H620v160Z\"/>\n",
              "  </svg>\n",
              "    </button>\n",
              "\n",
              "  <style>\n",
              "    .colab-df-container {\n",
              "      display:flex;\n",
              "      gap: 12px;\n",
              "    }\n",
              "\n",
              "    .colab-df-convert {\n",
              "      background-color: #E8F0FE;\n",
              "      border: none;\n",
              "      border-radius: 50%;\n",
              "      cursor: pointer;\n",
              "      display: none;\n",
              "      fill: #1967D2;\n",
              "      height: 32px;\n",
              "      padding: 0 0 0 0;\n",
              "      width: 32px;\n",
              "    }\n",
              "\n",
              "    .colab-df-convert:hover {\n",
              "      background-color: #E2EBFA;\n",
              "      box-shadow: 0px 1px 2px rgba(60, 64, 67, 0.3), 0px 1px 3px 1px rgba(60, 64, 67, 0.15);\n",
              "      fill: #174EA6;\n",
              "    }\n",
              "\n",
              "    .colab-df-buttons div {\n",
              "      margin-bottom: 4px;\n",
              "    }\n",
              "\n",
              "    [theme=dark] .colab-df-convert {\n",
              "      background-color: #3B4455;\n",
              "      fill: #D2E3FC;\n",
              "    }\n",
              "\n",
              "    [theme=dark] .colab-df-convert:hover {\n",
              "      background-color: #434B5C;\n",
              "      box-shadow: 0px 1px 3px 1px rgba(0, 0, 0, 0.15);\n",
              "      filter: drop-shadow(0px 1px 2px rgba(0, 0, 0, 0.3));\n",
              "      fill: #FFFFFF;\n",
              "    }\n",
              "  </style>\n",
              "\n",
              "    <script>\n",
              "      const buttonEl =\n",
              "        document.querySelector('#df-2ba457a7-47cf-4d1f-ad0d-4bc7e038d1ca button.colab-df-convert');\n",
              "      buttonEl.style.display =\n",
              "        google.colab.kernel.accessAllowed ? 'block' : 'none';\n",
              "\n",
              "      async function convertToInteractive(key) {\n",
              "        const element = document.querySelector('#df-2ba457a7-47cf-4d1f-ad0d-4bc7e038d1ca');\n",
              "        const dataTable =\n",
              "          await google.colab.kernel.invokeFunction('convertToInteractive',\n",
              "                                                    [key], {});\n",
              "        if (!dataTable) return;\n",
              "\n",
              "        const docLinkHtml = 'Like what you see? Visit the ' +\n",
              "          '<a target=\"_blank\" href=https://colab.research.google.com/notebooks/data_table.ipynb>data table notebook</a>'\n",
              "          + ' to learn more about interactive tables.';\n",
              "        element.innerHTML = '';\n",
              "        dataTable['output_type'] = 'display_data';\n",
              "        await google.colab.output.renderOutput(dataTable, element);\n",
              "        const docLink = document.createElement('div');\n",
              "        docLink.innerHTML = docLinkHtml;\n",
              "        element.appendChild(docLink);\n",
              "      }\n",
              "    </script>\n",
              "  </div>\n",
              "\n",
              "\n",
              "<div id=\"df-34f3f70a-82e7-4b5d-9008-a66ba4cadb03\">\n",
              "  <button class=\"colab-df-quickchart\" onclick=\"quickchart('df-34f3f70a-82e7-4b5d-9008-a66ba4cadb03')\"\n",
              "            title=\"Suggest charts.\"\n",
              "            style=\"display:none;\">\n",
              "\n",
              "<svg xmlns=\"http://www.w3.org/2000/svg\" height=\"24px\"viewBox=\"0 0 24 24\"\n",
              "     width=\"24px\">\n",
              "    <g>\n",
              "        <path d=\"M19 3H5c-1.1 0-2 .9-2 2v14c0 1.1.9 2 2 2h14c1.1 0 2-.9 2-2V5c0-1.1-.9-2-2-2zM9 17H7v-7h2v7zm4 0h-2V7h2v10zm4 0h-2v-4h2v4z\"/>\n",
              "    </g>\n",
              "</svg>\n",
              "  </button>\n",
              "\n",
              "<style>\n",
              "  .colab-df-quickchart {\n",
              "      --bg-color: #E8F0FE;\n",
              "      --fill-color: #1967D2;\n",
              "      --hover-bg-color: #E2EBFA;\n",
              "      --hover-fill-color: #174EA6;\n",
              "      --disabled-fill-color: #AAA;\n",
              "      --disabled-bg-color: #DDD;\n",
              "  }\n",
              "\n",
              "  [theme=dark] .colab-df-quickchart {\n",
              "      --bg-color: #3B4455;\n",
              "      --fill-color: #D2E3FC;\n",
              "      --hover-bg-color: #434B5C;\n",
              "      --hover-fill-color: #FFFFFF;\n",
              "      --disabled-bg-color: #3B4455;\n",
              "      --disabled-fill-color: #666;\n",
              "  }\n",
              "\n",
              "  .colab-df-quickchart {\n",
              "    background-color: var(--bg-color);\n",
              "    border: none;\n",
              "    border-radius: 50%;\n",
              "    cursor: pointer;\n",
              "    display: none;\n",
              "    fill: var(--fill-color);\n",
              "    height: 32px;\n",
              "    padding: 0;\n",
              "    width: 32px;\n",
              "  }\n",
              "\n",
              "  .colab-df-quickchart:hover {\n",
              "    background-color: var(--hover-bg-color);\n",
              "    box-shadow: 0 1px 2px rgba(60, 64, 67, 0.3), 0 1px 3px 1px rgba(60, 64, 67, 0.15);\n",
              "    fill: var(--button-hover-fill-color);\n",
              "  }\n",
              "\n",
              "  .colab-df-quickchart-complete:disabled,\n",
              "  .colab-df-quickchart-complete:disabled:hover {\n",
              "    background-color: var(--disabled-bg-color);\n",
              "    fill: var(--disabled-fill-color);\n",
              "    box-shadow: none;\n",
              "  }\n",
              "\n",
              "  .colab-df-spinner {\n",
              "    border: 2px solid var(--fill-color);\n",
              "    border-color: transparent;\n",
              "    border-bottom-color: var(--fill-color);\n",
              "    animation:\n",
              "      spin 1s steps(1) infinite;\n",
              "  }\n",
              "\n",
              "  @keyframes spin {\n",
              "    0% {\n",
              "      border-color: transparent;\n",
              "      border-bottom-color: var(--fill-color);\n",
              "      border-left-color: var(--fill-color);\n",
              "    }\n",
              "    20% {\n",
              "      border-color: transparent;\n",
              "      border-left-color: var(--fill-color);\n",
              "      border-top-color: var(--fill-color);\n",
              "    }\n",
              "    30% {\n",
              "      border-color: transparent;\n",
              "      border-left-color: var(--fill-color);\n",
              "      border-top-color: var(--fill-color);\n",
              "      border-right-color: var(--fill-color);\n",
              "    }\n",
              "    40% {\n",
              "      border-color: transparent;\n",
              "      border-right-color: var(--fill-color);\n",
              "      border-top-color: var(--fill-color);\n",
              "    }\n",
              "    60% {\n",
              "      border-color: transparent;\n",
              "      border-right-color: var(--fill-color);\n",
              "    }\n",
              "    80% {\n",
              "      border-color: transparent;\n",
              "      border-right-color: var(--fill-color);\n",
              "      border-bottom-color: var(--fill-color);\n",
              "    }\n",
              "    90% {\n",
              "      border-color: transparent;\n",
              "      border-bottom-color: var(--fill-color);\n",
              "    }\n",
              "  }\n",
              "</style>\n",
              "\n",
              "  <script>\n",
              "    async function quickchart(key) {\n",
              "      const quickchartButtonEl =\n",
              "        document.querySelector('#' + key + ' button');\n",
              "      quickchartButtonEl.disabled = true;  // To prevent multiple clicks.\n",
              "      quickchartButtonEl.classList.add('colab-df-spinner');\n",
              "      try {\n",
              "        const charts = await google.colab.kernel.invokeFunction(\n",
              "            'suggestCharts', [key], {});\n",
              "      } catch (error) {\n",
              "        console.error('Error during call to suggestCharts:', error);\n",
              "      }\n",
              "      quickchartButtonEl.classList.remove('colab-df-spinner');\n",
              "      quickchartButtonEl.classList.add('colab-df-quickchart-complete');\n",
              "    }\n",
              "    (() => {\n",
              "      let quickchartButtonEl =\n",
              "        document.querySelector('#df-34f3f70a-82e7-4b5d-9008-a66ba4cadb03 button');\n",
              "      quickchartButtonEl.style.display =\n",
              "        google.colab.kernel.accessAllowed ? 'block' : 'none';\n",
              "    })();\n",
              "  </script>\n",
              "</div>\n",
              "    </div>\n",
              "  </div>\n"
            ]
          },
          "metadata": {},
          "execution_count": 2
        }
      ],
      "source": [
        "df[:2]"
      ]
    },
    {
      "cell_type": "code",
      "execution_count": 3,
      "metadata": {
        "id": "tli10Dfs6h_Y",
        "outputId": "f61ea2cb-20ad-489f-d185-7707f4c017ed",
        "colab": {
          "base_uri": "https://localhost:8080/"
        }
      },
      "outputs": [
        {
          "output_type": "execute_result",
          "data": {
            "text/plain": [
              "<sqlite3.Cursor at 0x7b02122c45c0>"
            ]
          },
          "metadata": {},
          "execution_count": 3
        }
      ],
      "source": [
        "cursor.execute('SELECT City, AVG(rating) from restaurants GROUP BY City LIMIT 5;')"
      ]
    },
    {
      "cell_type": "code",
      "execution_count": 4,
      "metadata": {
        "id": "YqUdscOY6h_d",
        "outputId": "f503d6e4-827e-4bd2-e6df-c4f4173f7d5e",
        "colab": {
          "base_uri": "https://localhost:8080/"
        }
      },
      "outputs": [
        {
          "output_type": "execute_result",
          "data": {
            "text/plain": [
              "[('Arverne', 4.0),\n",
              " ('Astoria', 4.114130434782608),\n",
              " ('Bayonne', 4.0),\n",
              " ('Bayside', 3.907142857142857),\n",
              " ('Belle Harbor', 2.5)]"
            ]
          },
          "metadata": {},
          "execution_count": 4
        }
      ],
      "source": [
        "cursor.fetchall()"
      ]
    },
    {
      "cell_type": "markdown",
      "metadata": {
        "id": "TFLhulLF6h_e"
      },
      "source": [
        "`SELECT AVG(rating) from restaurants GROUP BY neighborhood`"
      ]
    },
    {
      "cell_type": "markdown",
      "metadata": {
        "id": "UsqTDFtc6h_e"
      },
      "source": [
        "One way to think of GROUP BY is that it first creates separate piles of the data based on the column provided, and then performs the calculation for each pile."
      ]
    },
    {
      "cell_type": "markdown",
      "metadata": {
        "id": "APxIIiKP6h_e"
      },
      "source": [
        "Note that we can use GROUP BY with any of our aggregate methods.  Let's do another one."
      ]
    },
    {
      "cell_type": "code",
      "execution_count": 5,
      "metadata": {
        "id": "R6fPnmUh6h_f",
        "outputId": "6ce7731c-12a7-4f00-b42a-0cbdfd8eab33",
        "colab": {
          "base_uri": "https://localhost:8080/"
        }
      },
      "outputs": [
        {
          "output_type": "execute_result",
          "data": {
            "text/plain": [
              "[('Arverne', 3),\n",
              " ('Astoria', 92),\n",
              " ('Bayonne', 4),\n",
              " ('Bayside', 70),\n",
              " ('Belle Harbor', 3)]"
            ]
          },
          "metadata": {},
          "execution_count": 5
        }
      ],
      "source": [
        "cursor.execute('SELECT City, COUNT(*) from restaurants GROUP BY City LIMIT 5;')\n",
        "cursor.fetchall()"
      ]
    },
    {
      "cell_type": "markdown",
      "metadata": {
        "id": "mG8G0qMQ6h_h"
      },
      "source": [
        "So now we have the number of restaurants in each of these cities.  Let's order by the count from largest to smallest."
      ]
    },
    {
      "cell_type": "code",
      "execution_count": 6,
      "metadata": {
        "id": "e05ejcJQ6h_h",
        "outputId": "2a427d99-6ce9-42c4-b01c-81b224e75397",
        "colab": {
          "base_uri": "https://localhost:8080/"
        }
      },
      "outputs": [
        {
          "output_type": "execute_result",
          "data": {
            "text/plain": [
              "[('Brooklyn', 1282),\n",
              " ('New York', 1149),\n",
              " ('Staten Island', 1034),\n",
              " ('Bronx', 817),\n",
              " ('Flushing', 161)]"
            ]
          },
          "metadata": {},
          "execution_count": 6
        }
      ],
      "source": [
        "cursor.execute('SELECT City, COUNT(*) as num_restaurants from restaurants GROUP BY City ORDER BY num_restaurants DESC LIMIT 5;')\n",
        "cursor.fetchall()"
      ]
    },
    {
      "cell_type": "markdown",
      "metadata": {
        "id": "KiGCQaeX6h_h"
      },
      "source": [
        "### Having"
      ]
    },
    {
      "cell_type": "markdown",
      "metadata": {
        "id": "-fI0LfjZ6h_i"
      },
      "source": [
        "Now so far we have returned an answer for each group in a column, but sometimes this can be unweildy.  For example, we may not wish to see the average rating of each neighborhood's restaurants, but only for those neighborhoods with over 50 restaurants.  We can do so with the following:"
      ]
    },
    {
      "cell_type": "code",
      "execution_count": 7,
      "metadata": {
        "id": "38fpwChH6h_i",
        "outputId": "e479817f-77bb-42ab-92b8-2ab8c6e87fe1",
        "colab": {
          "base_uri": "https://localhost:8080/"
        }
      },
      "outputs": [
        {
          "output_type": "execute_result",
          "data": {
            "text/plain": [
              "[('Astoria', 4.114130434782608),\n",
              " ('Bayside', 3.907142857142857),\n",
              " ('Bronx', 3.821297429620563),\n",
              " ('Brooklyn', 3.985179407176287),\n",
              " ('Flushing', 3.919254658385093),\n",
              " ('Forest Hills', 3.8556701030927836),\n",
              " ('Jamaica', 3.913793103448276),\n",
              " ('Long Island City', 3.6785714285714284),\n",
              " ('New York', 3.987815491731941),\n",
              " ('Rockaway Park', 3.4491525423728815),\n",
              " ('Staten Island', 3.710348162475822)]"
            ]
          },
          "metadata": {},
          "execution_count": 7
        }
      ],
      "source": [
        "cursor.execute('SELECT City, AVG(rating) FROM restaurants GROUP BY City HAVING COUNT(*) > 50;')\n",
        "cursor.fetchall()"
      ]
    },
    {
      "cell_type": "markdown",
      "metadata": {
        "id": "hzQgCDh36h_i"
      },
      "source": [
        "Notice that we are scoping down our information, so it seems like we would have to use a WHERE statement, but we're using HAVING instead.  What gives?  Well we can't use the WHERE statement because of a problem of order of operations in SQL.\n",
        "\n",
        "For us to select only those categories that have more than five rows, we must first group by and then category and then perform the count.  But in SQL, by default WHERE occurs before the GROUP BY clause.  So to tell SQL to not scope down our data until after we have separated it into groups, we use the HAVING clause."
      ]
    },
    {
      "cell_type": "markdown",
      "metadata": {
        "id": "3aHhI6Bh6h_j"
      },
      "source": [
        "### Summary"
      ]
    },
    {
      "cell_type": "markdown",
      "metadata": {
        "id": "8_Hf5KCG6h_k"
      },
      "source": [
        "In this lesson, we learned about using GROUP BY in SQL.  We saw that, GROUP BY first places our rows of data into different piles, and then performs an aggregate calculation on each respective pile.  For example, the following query groups our rows by neighborhood and then counts the items in each group."
      ]
    },
    {
      "cell_type": "code",
      "execution_count": 8,
      "metadata": {
        "id": "SEOIHIKl6h_n",
        "outputId": "df080497-e814-4c35-9c93-b7bf2c29ab7b",
        "colab": {
          "base_uri": "https://localhost:8080/"
        }
      },
      "outputs": [
        {
          "output_type": "execute_result",
          "data": {
            "text/plain": [
              "[('Arverne', 3),\n",
              " ('Astoria', 92),\n",
              " ('Bayonne', 4),\n",
              " ('Bayside', 70),\n",
              " ('Belle Harbor', 3)]"
            ]
          },
          "metadata": {},
          "execution_count": 8
        }
      ],
      "source": [
        "cursor.execute('SELECT City, COUNT(*) from restaurants GROUP BY City LIMIT 5;')\n",
        "cursor.fetchall()"
      ]
    },
    {
      "cell_type": "markdown",
      "metadata": {
        "id": "kj5YB32x6h_n"
      },
      "source": [
        "When we are then filtering data based on an aggregate, we use the HAVING keyword so that we tell SQL to delay the filtering until after the aggregation occurs."
      ]
    }
  ],
  "metadata": {
    "kernelspec": {
      "display_name": "Python 3 (ipykernel)",
      "language": "python",
      "name": "python3"
    },
    "language_info": {
      "codemirror_mode": {
        "name": "ipython",
        "version": 3
      },
      "file_extension": ".py",
      "mimetype": "text/x-python",
      "name": "python",
      "nbconvert_exporter": "python",
      "pygments_lexer": "ipython3",
      "version": "3.10.6"
    },
    "colab": {
      "provenance": []
    }
  },
  "nbformat": 4,
  "nbformat_minor": 0
}