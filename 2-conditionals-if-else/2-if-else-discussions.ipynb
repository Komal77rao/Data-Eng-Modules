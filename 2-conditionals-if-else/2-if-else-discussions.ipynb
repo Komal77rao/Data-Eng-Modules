{
  "cells": [
    {
      "cell_type": "markdown",
      "metadata": {
        "id": "tz6gN8EvYLqP"
      },
      "source": [
        "# Comparison Operators"
      ]
    },
    {
      "cell_type": "markdown",
      "metadata": {
        "id": "ZZusppEMYLqc"
      },
      "source": [
        "### Introduction"
      ]
    },
    {
      "cell_type": "markdown",
      "metadata": {
        "id": "qUiMdgcdYLqc"
      },
      "source": [
        "> Here is an example of a conditional statement in Python."
      ]
    },
    {
      "cell_type": "code",
      "execution_count": 1,
      "metadata": {
        "id": "txce6KqfYLqd"
      },
      "outputs": [],
      "source": [
        "def can_drive(age):\n",
        "    if age > 16:\n",
        "        return True\n",
        "    else:\n",
        "        return False"
      ]
    },
    {
      "cell_type": "markdown",
      "metadata": {
        "id": "1fh6CZTqYLqf"
      },
      "source": [
        "The function above relies on [comparison operators](https://www.tutorialspoint.com/python/python_basic_operators.htm).  Let's explore some comparison operators in Python below."
      ]
    },
    {
      "cell_type": "markdown",
      "metadata": {
        "id": "2OqscoBaYLqf"
      },
      "source": [
        "### Comparison Operators"
      ]
    },
    {
      "cell_type": "code",
      "execution_count": 2,
      "metadata": {
        "id": "hkOAzN-LYLqg",
        "outputId": "2082034c-da73-41b0-97cd-b1753e870298",
        "colab": {
          "base_uri": "https://localhost:8080/"
        }
      },
      "outputs": [
        {
          "output_type": "stream",
          "name": "stdout",
          "text": [
            "yes\n"
          ]
        }
      ],
      "source": [
        "if 1 < 2:\n",
        "    print('yes')"
      ]
    },
    {
      "cell_type": "code",
      "execution_count": 3,
      "metadata": {
        "id": "TsQ9yIDiYLqg"
      },
      "outputs": [],
      "source": [
        "if 1 > 2:\n",
        "    print('yes')"
      ]
    },
    {
      "cell_type": "code",
      "execution_count": 4,
      "metadata": {
        "id": "W_tYHe3AYLqh",
        "outputId": "0796623e-e8b3-4b08-eeef-c6885cdf83df",
        "colab": {
          "base_uri": "https://localhost:8080/"
        }
      },
      "outputs": [
        {
          "output_type": "stream",
          "name": "stdout",
          "text": [
            "yes\n"
          ]
        }
      ],
      "source": [
        "if 1 < 3 < 5:\n",
        "    print('yes')"
      ]
    },
    {
      "cell_type": "code",
      "execution_count": 5,
      "metadata": {
        "id": "mhabkK8vYLqi"
      },
      "outputs": [],
      "source": [
        "if 1 == 2:\n",
        "    print('yes')"
      ]
    },
    {
      "cell_type": "code",
      "execution_count": 6,
      "metadata": {
        "id": "Zz1G0NkdYLqi",
        "outputId": "27035e43-0bf9-4b07-a409-aa92831489c1",
        "colab": {
          "base_uri": "https://localhost:8080/"
        }
      },
      "outputs": [
        {
          "output_type": "stream",
          "name": "stdout",
          "text": [
            "yes\n"
          ]
        }
      ],
      "source": [
        "if 1 == 1:\n",
        "    print('yes')"
      ]
    },
    {
      "cell_type": "code",
      "execution_count": 7,
      "metadata": {
        "id": "Ofw1iencYLqi"
      },
      "outputs": [],
      "source": [
        "if 'Hello' == \"hello\":\n",
        "    print('yes')"
      ]
    },
    {
      "cell_type": "code",
      "execution_count": 8,
      "metadata": {
        "id": "r0w-OrY3YLqi",
        "outputId": "dd532f3f-fc92-4fb8-fcbb-5c9b2ce84e65",
        "colab": {
          "base_uri": "https://localhost:8080/"
        }
      },
      "outputs": [
        {
          "output_type": "stream",
          "name": "stdout",
          "text": [
            "yes\n"
          ]
        }
      ],
      "source": [
        "if 'hello' == \"hello\":\n",
        "    print('yes')"
      ]
    },
    {
      "cell_type": "code",
      "execution_count": 9,
      "metadata": {
        "id": "e3Y3s1s2YLqk"
      },
      "outputs": [],
      "source": [
        "if '1' == 1:\n",
        "    print('yes')"
      ]
    },
    {
      "cell_type": "code",
      "execution_count": 10,
      "metadata": {
        "id": "X6o1u-rbYLqp",
        "outputId": "02a33928-6368-418e-b27e-eae4cac1df51",
        "colab": {
          "base_uri": "https://localhost:8080/"
        }
      },
      "outputs": [
        {
          "output_type": "stream",
          "name": "stdout",
          "text": [
            "yes\n"
          ]
        }
      ],
      "source": [
        "if '1' != 1:\n",
        "    print('yes')"
      ]
    },
    {
      "cell_type": "markdown",
      "metadata": {
        "id": "DF0suVXnYLqr"
      },
      "source": [
        "The above are our **comparison operators**."
      ]
    },
    {
      "cell_type": "markdown",
      "metadata": {
        "id": "ATAo0ENAYLqr"
      },
      "source": [
        "* What can we infer from `==`.\n",
        "* How do we represent non-equality."
      ]
    },
    {
      "cell_type": "markdown",
      "metadata": {
        "id": "RnhaQAeyYLqs"
      },
      "source": [
        "### Truth in Numbers"
      ]
    },
    {
      "cell_type": "code",
      "execution_count": 11,
      "metadata": {
        "id": "oGpgX_F7YLqt",
        "outputId": "1cf8746a-31c9-4201-f291-2631b8aebcf3",
        "colab": {
          "base_uri": "https://localhost:8080/"
        }
      },
      "outputs": [
        {
          "output_type": "execute_result",
          "data": {
            "text/plain": [
              "True"
            ]
          },
          "metadata": {},
          "execution_count": 11
        }
      ],
      "source": [
        "1 == True"
      ]
    },
    {
      "cell_type": "code",
      "execution_count": 12,
      "metadata": {
        "id": "553rl4QmYLqu",
        "outputId": "6a134e8f-e47e-41be-fc05-359291ad1002",
        "colab": {
          "base_uri": "https://localhost:8080/"
        }
      },
      "outputs": [
        {
          "output_type": "execute_result",
          "data": {
            "text/plain": [
              "True"
            ]
          },
          "metadata": {},
          "execution_count": 12
        }
      ],
      "source": [
        "0 == False"
      ]
    },
    {
      "cell_type": "markdown",
      "metadata": {
        "id": "LtmiPh1OYLqu"
      },
      "source": [
        "> The last one's should be a bit of a surprise.  It means that instead of a list of True or False values, an equivalent list is one of 1s or 0s."
      ]
    },
    {
      "cell_type": "code",
      "execution_count": 14,
      "metadata": {
        "id": "elFNdsljYLqv",
        "outputId": "de56455c-319e-491a-99a3-b74604a47b4b",
        "colab": {
          "base_uri": "https://localhost:8080/"
        }
      },
      "outputs": [
        {
          "output_type": "execute_result",
          "data": {
            "text/plain": [
              "False"
            ]
          },
          "metadata": {},
          "execution_count": 14
        }
      ],
      "source": [
        "[True, False] == [1, 0]"
      ]
    },
    {
      "cell_type": "markdown",
      "metadata": {
        "id": "HQDxfw64YLqv"
      },
      "source": [
        "### Practice with If Else"
      ]
    },
    {
      "cell_type": "markdown",
      "metadata": {
        "id": "iPlkTp4lYLqv"
      },
      "source": [
        "So when we use an `if else` statement our code moves through the first branch if we pass `if` a True value and moves through the second branch if we pass through a False value."
      ]
    },
    {
      "cell_type": "code",
      "execution_count": 15,
      "metadata": {
        "id": "sF3U9KDJYLqv"
      },
      "outputs": [],
      "source": [
        "def what():\n",
        "    if True:\n",
        "        return 1\n",
        "    else:\n",
        "        return 0"
      ]
    },
    {
      "cell_type": "code",
      "execution_count": 18,
      "metadata": {
        "id": "3oq3Jjz9YLqv",
        "outputId": "f858541e-6e04-4e72-8502-9fe766706fde",
        "colab": {
          "base_uri": "https://localhost:8080/"
        }
      },
      "outputs": [
        {
          "output_type": "execute_result",
          "data": {
            "text/plain": [
              "1"
            ]
          },
          "metadata": {},
          "execution_count": 18
        }
      ],
      "source": [
        "what()"
      ]
    },
    {
      "cell_type": "markdown",
      "metadata": {
        "id": "Ow2XwFzJYLqw"
      },
      "source": [
        "> Your turn."
      ]
    },
    {
      "cell_type": "markdown",
      "metadata": {
        "id": "Xb7eppgVYLqw"
      },
      "source": [
        "Ok, now that we know more about boolean operators.  Let's practice a bit writing some `if else` statements."
      ]
    },
    {
      "cell_type": "markdown",
      "metadata": {
        "id": "UU254cv0YLqw"
      },
      "source": [
        "> Write a method that checks if two first names are precisely the same.  It returns `True` if they are the same and `False` otherwise."
      ]
    },
    {
      "cell_type": "code",
      "execution_count": 19,
      "metadata": {
        "id": "sTlJvXfYYLqw"
      },
      "outputs": [],
      "source": [
        "from IPython.utils.text import re\n",
        "def same_name(name_one, name_two):\n",
        "  if name_one == name_two:\n",
        "    return True\n",
        "  else:\n",
        "    return False\n",
        ""
      ]
    },
    {
      "cell_type": "code",
      "execution_count": 20,
      "metadata": {
        "id": "G9rIJMdBYLqw",
        "outputId": "3f26bbed-6878-4a41-f208-9611ef71ff30",
        "colab": {
          "base_uri": "https://localhost:8080/"
        }
      },
      "outputs": [
        {
          "output_type": "execute_result",
          "data": {
            "text/plain": [
              "True"
            ]
          },
          "metadata": {},
          "execution_count": 20
        }
      ],
      "source": [
        "same_name('sally', 'sally')\n",
        "# True"
      ]
    },
    {
      "cell_type": "code",
      "execution_count": 21,
      "metadata": {
        "id": "LkAgRLMAYLqx",
        "outputId": "280ef66b-6bc5-4bfc-b708-6515eec96e0f",
        "colab": {
          "base_uri": "https://localhost:8080/"
        }
      },
      "outputs": [
        {
          "output_type": "execute_result",
          "data": {
            "text/plain": [
              "False"
            ]
          },
          "metadata": {},
          "execution_count": 21
        }
      ],
      "source": [
        "same_name('sally', 'Sally')\n",
        "# False"
      ]
    },
    {
      "cell_type": "markdown",
      "metadata": {
        "id": "BuXN5-loYLqx"
      },
      "source": [
        "> Now write a new function that returns True even if the capitalization of the names is different."
      ]
    },
    {
      "cell_type": "code",
      "execution_count": 29,
      "metadata": {
        "id": "wiIHanqbYLqx"
      },
      "outputs": [],
      "source": [
        "def same_name_case_insensitive(name_one, name_two):\n",
        "  if (name_one.capitalize() == name_two.capitalize()):\n",
        "    return True\n",
        "  else:\n",
        "    return False"
      ]
    },
    {
      "cell_type": "code",
      "execution_count": 32,
      "metadata": {
        "id": "gwoQJUJZYLqx",
        "outputId": "336fc535-f7fd-4eca-8dc0-e954fab1715c",
        "colab": {
          "base_uri": "https://localhost:8080/"
        }
      },
      "outputs": [
        {
          "output_type": "execute_result",
          "data": {
            "text/plain": [
              "True"
            ]
          },
          "metadata": {},
          "execution_count": 32
        }
      ],
      "source": [
        "same_name_case_insensitive('sally', 'sally')\n",
        "# True\n",
        "\n"
      ]
    },
    {
      "cell_type": "markdown",
      "metadata": {
        "id": "QkiQVNwBYLqy"
      },
      "source": [
        "### Refactoring if else"
      ]
    },
    {
      "cell_type": "markdown",
      "metadata": {
        "id": "30v6AVGNYLqy"
      },
      "source": [
        "With if else functions, we can sometimes be repetitive."
      ]
    },
    {
      "cell_type": "markdown",
      "metadata": {
        "id": "3DV0vhV_YLqy"
      },
      "source": [
        "> For example, here is the `can_drive` function that we started with.  "
      ]
    },
    {
      "cell_type": "code",
      "execution_count": 40,
      "metadata": {
        "id": "a256044NYLqy"
      },
      "outputs": [],
      "source": [
        "def can_drive(age):\n",
        "    if age > 16:\n",
        "        return True\n",
        "    else:\n",
        "        return False"
      ]
    },
    {
      "cell_type": "code",
      "execution_count": 41,
      "metadata": {
        "id": "Y-VLbdFRYLq5",
        "outputId": "ea72e2a1-2e81-4e6b-bee7-1b3839f8794b",
        "colab": {
          "base_uri": "https://localhost:8080/"
        }
      },
      "outputs": [
        {
          "output_type": "execute_result",
          "data": {
            "text/plain": [
              "True"
            ]
          },
          "metadata": {},
          "execution_count": 41
        }
      ],
      "source": [
        "can_drive(17)"
      ]
    },
    {
      "cell_type": "markdown",
      "metadata": {
        "id": "J0pbBhK6YLq6"
      },
      "source": [
        "> Can you see a way that we can rewrite this in just one line, and without ever using the keywords `if else`?"
      ]
    },
    {
      "cell_type": "code",
      "execution_count": 59,
      "metadata": {
        "id": "vCuodYWIYLq6"
      },
      "outputs": [],
      "source": [
        "def can_drive(age):\n",
        "    return age > 16"
      ]
    },
    {
      "cell_type": "code",
      "execution_count": 60,
      "metadata": {
        "id": "AHVj9BmEYLq6",
        "outputId": "78cf32e1-afac-4207-abe0-45c4c1ff7902",
        "colab": {
          "base_uri": "https://localhost:8080/"
        }
      },
      "outputs": [
        {
          "output_type": "execute_result",
          "data": {
            "text/plain": [
              "True"
            ]
          },
          "metadata": {},
          "execution_count": 60
        }
      ],
      "source": [
        "can_drive(19)"
      ]
    },
    {
      "cell_type": "markdown",
      "metadata": {
        "id": "uzhJdpZxYLq7"
      },
      "source": [
        "> Can you write a function with that checks for the same name, and is case insensitive, without the keywords `if else`."
      ]
    },
    {
      "cell_type": "code",
      "execution_count": 52,
      "metadata": {
        "id": "iUTHhwQfYLq7"
      },
      "outputs": [],
      "source": [
        "def same_name_case_insensitive(name_one, name_two):\n",
        "    print(name_two.capitalize() == name_one.capitalize())\n",
        ""
      ]
    },
    {
      "cell_type": "code",
      "execution_count": 61,
      "metadata": {
        "id": "zYczmm17YLq7",
        "outputId": "a9511074-b60a-46e6-839c-6e2ba1734d37",
        "colab": {
          "base_uri": "https://localhost:8080/"
        }
      },
      "outputs": [
        {
          "output_type": "stream",
          "name": "stdout",
          "text": [
            "True\n"
          ]
        }
      ],
      "source": [
        "same_name_case_insensitive('sally', 'sally')\n",
        "# True"
      ]
    },
    {
      "cell_type": "code",
      "execution_count": 62,
      "metadata": {
        "id": "j4yVvPkXYLq7",
        "outputId": "419e1bb8-5a65-424d-e214-926a2a94e207",
        "colab": {
          "base_uri": "https://localhost:8080/"
        }
      },
      "outputs": [
        {
          "output_type": "stream",
          "name": "stdout",
          "text": [
            "False\n"
          ]
        }
      ],
      "source": [
        "same_name_case_insensitive('Sally', 'fred')\n",
        "# False"
      ]
    },
    {
      "cell_type": "markdown",
      "metadata": {
        "id": "zUFXa8PlYLq7"
      },
      "source": [
        "### Multibranch if else"
      ]
    },
    {
      "cell_type": "code",
      "execution_count": 92,
      "metadata": {
        "id": "jccn3HCPYLq8"
      },
      "outputs": [],
      "source": [
        "def discount(airline_miles):\n",
        "    if airline_miles < 2 :\n",
        "        return '-ve'\n",
        "    elif airline_miles > 1:\n",
        "        return '+ve'\n",
        "    else:\n",
        "        return 'neutral'"
      ]
    },
    {
      "cell_type": "code",
      "source": [
        "discount(1)"
      ],
      "metadata": {
        "id": "G8cdDHswxsZ9",
        "outputId": "4fe8b78e-2231-486b-9e7a-ef0f4ed1b6fd",
        "colab": {
          "base_uri": "https://localhost:8080/",
          "height": 35
        }
      },
      "execution_count": 95,
      "outputs": [
        {
          "output_type": "execute_result",
          "data": {
            "text/plain": [
              "'-ve'"
            ],
            "application/vnd.google.colaboratory.intrinsic+json": {
              "type": "string"
            }
          },
          "metadata": {},
          "execution_count": 95
        }
      ]
    },
    {
      "cell_type": "markdown",
      "metadata": {
        "id": "Z50121HyYLq8"
      },
      "source": [
        "Practice writing your own multi-branch if else statement below."
      ]
    },
    {
      "cell_type": "markdown",
      "metadata": {
        "id": "mHPjuqfMYLq8"
      },
      "source": [
        "> Write a function that returns places someone in a yoga class based on how long they have been practicing yoga.  \n",
        "\n",
        "* If 2 months or fewer, return `'beginner'`\n",
        "* If between 2 months and 2 years, return `'intermediate'`\n",
        "* If more than two years return `'advanced'` class"
      ]
    },
    {
      "cell_type": "code",
      "execution_count": 69,
      "metadata": {
        "id": "ibOPhulzYLq8"
      },
      "outputs": [],
      "source": [
        "def yoga_level(months):\n",
        "    if months <= 2:\n",
        "        return 'beginner'\n",
        "    elif 2 < months < 24:\n",
        "        return 'intermediate'\n",
        "    else:\n",
        "        return 'advanced'"
      ]
    },
    {
      "cell_type": "code",
      "execution_count": 65,
      "metadata": {
        "id": "MfkbD4WxYLq8",
        "outputId": "b0072d0c-ecee-43c7-c8ac-f29a5c08cf3a",
        "colab": {
          "base_uri": "https://localhost:8080/",
          "height": 35
        }
      },
      "outputs": [
        {
          "output_type": "execute_result",
          "data": {
            "text/plain": [
              "'beginner'"
            ],
            "application/vnd.google.colaboratory.intrinsic+json": {
              "type": "string"
            }
          },
          "metadata": {},
          "execution_count": 65
        }
      ],
      "source": [
        "yoga_level(2)\n",
        "# 'beginner'"
      ]
    },
    {
      "cell_type": "code",
      "execution_count": 66,
      "metadata": {
        "id": "jVRiQ5WaYLq9",
        "outputId": "aadd43a5-e463-41bd-cf58-1918cea5976e",
        "colab": {
          "base_uri": "https://localhost:8080/",
          "height": 35
        }
      },
      "outputs": [
        {
          "output_type": "execute_result",
          "data": {
            "text/plain": [
              "'intermediate'"
            ],
            "application/vnd.google.colaboratory.intrinsic+json": {
              "type": "string"
            }
          },
          "metadata": {},
          "execution_count": 66
        }
      ],
      "source": [
        "yoga_level(3)\n",
        "# 'intermediate'"
      ]
    },
    {
      "cell_type": "code",
      "execution_count": 67,
      "metadata": {
        "id": "aapf0QUhYLq9",
        "outputId": "aa7f61b3-0893-4b01-9b04-ef335b85caf5",
        "colab": {
          "base_uri": "https://localhost:8080/",
          "height": 35
        }
      },
      "outputs": [
        {
          "output_type": "execute_result",
          "data": {
            "text/plain": [
              "'advanced'"
            ],
            "application/vnd.google.colaboratory.intrinsic+json": {
              "type": "string"
            }
          },
          "metadata": {},
          "execution_count": 67
        }
      ],
      "source": [
        "yoga_level(25)\n",
        "# 'advanced'"
      ]
    },
    {
      "cell_type": "markdown",
      "metadata": {
        "id": "MNvJrDrQYLq9"
      },
      "source": [
        "### Summary"
      ]
    },
    {
      "cell_type": "markdown",
      "metadata": {
        "id": "4yrb-DVTYLq9"
      },
      "source": [
        "In this lesson, we practiced using `if else` conditionals in Python.  The general pattern for an `if else` conditional is:"
      ]
    },
    {
      "cell_type": "markdown",
      "metadata": {
        "id": "laUceU46YLq-"
      },
      "source": [
        "```python\n",
        "if comparison:\n",
        "    # do     \n",
        "else:\n",
        "    # do\n",
        "```"
      ]
    },
    {
      "cell_type": "markdown",
      "metadata": {
        "id": "DyEe3nJ1YLq-"
      },
      "source": [
        "We saw that a lot of understanding if else statements is understanding the rules of conditionals.  We can check for equality using `==` and inequality with `!=`.  We also saw that `1 == True`."
      ]
    }
  ],
  "metadata": {
    "kernelspec": {
      "display_name": "Python 3",
      "language": "python",
      "name": "python3"
    },
    "language_info": {
      "codemirror_mode": {
        "name": "ipython",
        "version": 3
      },
      "file_extension": ".py",
      "mimetype": "text/x-python",
      "name": "python",
      "nbconvert_exporter": "python",
      "pygments_lexer": "ipython3",
      "version": "3.8.3"
    },
    "colab": {
      "provenance": []
    }
  },
  "nbformat": 4,
  "nbformat_minor": 0
}