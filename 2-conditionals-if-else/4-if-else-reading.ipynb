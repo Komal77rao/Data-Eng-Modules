{
  "cells": [
    {
      "cell_type": "markdown",
      "metadata": {
        "id": "NkqMsn9Jleu8"
      },
      "source": [
        "# Comparison Operators"
      ]
    },
    {
      "cell_type": "markdown",
      "metadata": {
        "id": "32-SkDJtlevB"
      },
      "source": [
        "### Introduction"
      ]
    },
    {
      "cell_type": "markdown",
      "metadata": {
        "id": "-dtSw9JZlevB"
      },
      "source": [
        "We sometimes want our code to perform different operations depending on the circumstance."
      ]
    },
    {
      "cell_type": "markdown",
      "metadata": {
        "id": "WSAbkGwnlevC"
      },
      "source": [
        "For example, below we write a function to determine if someone can drive.  If the person is over 16, then we return True to indicate that the person can drive."
      ]
    },
    {
      "cell_type": "code",
      "execution_count": 1,
      "metadata": {
        "id": "rE0M6GdVlevD"
      },
      "outputs": [],
      "source": [
        "def can_drive(age):\n",
        "    if age > 16:\n",
        "        return True\n",
        "    else:\n",
        "        return False"
      ]
    },
    {
      "cell_type": "markdown",
      "metadata": {
        "id": "df4bA8HAlevL"
      },
      "source": [
        "The function above relies on [comparison operators](https://www.tutorialspoint.com/python/python_basic_operators.htm).  Let's break down how the function works below."
      ]
    },
    {
      "cell_type": "markdown",
      "metadata": {
        "id": "edvEGwW3levO"
      },
      "source": [
        "### Comparison Operators"
      ]
    },
    {
      "cell_type": "markdown",
      "metadata": {
        "id": "nQX5to8TlevP"
      },
      "source": [
        "The key component of the function is `age > 16`.  This `>` example of a comparison operator.  A comparison operator always returns either `True` or `False`.  Let's see a couple comparison operators."
      ]
    },
    {
      "cell_type": "markdown",
      "metadata": {
        "id": "ea3r64-dlevU"
      },
      "source": [
        "> Try to guess the return values before executing each cell."
      ]
    },
    {
      "cell_type": "code",
      "execution_count": 2,
      "metadata": {
        "id": "Y_DbmEHOlevV",
        "outputId": "4b790ccd-9f64-4f62-ea44-db036aaf98bb",
        "colab": {
          "base_uri": "https://localhost:8080/"
        }
      },
      "outputs": [
        {
          "output_type": "execute_result",
          "data": {
            "text/plain": [
              "False"
            ]
          },
          "metadata": {},
          "execution_count": 2
        }
      ],
      "source": [
        "1 > 2"
      ]
    },
    {
      "cell_type": "code",
      "execution_count": 3,
      "metadata": {
        "id": "_M6EihK6levX",
        "outputId": "9967159e-da4c-40c4-f440-0d8d6c7d42f2",
        "colab": {
          "base_uri": "https://localhost:8080/"
        }
      },
      "outputs": [
        {
          "output_type": "execute_result",
          "data": {
            "text/plain": [
              "True"
            ]
          },
          "metadata": {},
          "execution_count": 3
        }
      ],
      "source": [
        "1 < 2"
      ]
    },
    {
      "cell_type": "code",
      "execution_count": 4,
      "metadata": {
        "id": "taUO21v3levX",
        "outputId": "a8a96b25-7ed5-4c19-b7a5-6f50e776ed5c",
        "colab": {
          "base_uri": "https://localhost:8080/"
        }
      },
      "outputs": [
        {
          "output_type": "execute_result",
          "data": {
            "text/plain": [
              "False"
            ]
          },
          "metadata": {},
          "execution_count": 4
        }
      ],
      "source": [
        "1 == 2"
      ]
    },
    {
      "cell_type": "code",
      "execution_count": 5,
      "metadata": {
        "id": "8dm28aY8levX",
        "outputId": "dcc25b12-ded6-4529-9560-90a1f4e05a33",
        "colab": {
          "base_uri": "https://localhost:8080/"
        }
      },
      "outputs": [
        {
          "output_type": "execute_result",
          "data": {
            "text/plain": [
              "True"
            ]
          },
          "metadata": {},
          "execution_count": 5
        }
      ],
      "source": [
        "1 == 1"
      ]
    },
    {
      "cell_type": "code",
      "execution_count": 6,
      "metadata": {
        "id": "ykZUnLn6levY",
        "outputId": "196f06a7-1bc5-466f-b8ba-b64a72d3d18a",
        "colab": {
          "base_uri": "https://localhost:8080/"
        }
      },
      "outputs": [
        {
          "output_type": "execute_result",
          "data": {
            "text/plain": [
              "False"
            ]
          },
          "metadata": {},
          "execution_count": 6
        }
      ],
      "source": [
        "'Hello' == \"hello\""
      ]
    },
    {
      "cell_type": "code",
      "execution_count": 7,
      "metadata": {
        "id": "Oe9YPlOblevY",
        "outputId": "2296ced2-36d3-4f74-8bc2-9072be6e5f05",
        "colab": {
          "base_uri": "https://localhost:8080/"
        }
      },
      "outputs": [
        {
          "output_type": "execute_result",
          "data": {
            "text/plain": [
              "True"
            ]
          },
          "metadata": {},
          "execution_count": 7
        }
      ],
      "source": [
        "'hello' == \"hello\""
      ]
    },
    {
      "cell_type": "code",
      "execution_count": 8,
      "metadata": {
        "id": "oPXo67MylevY",
        "outputId": "eeb27c66-288d-4989-902d-a1f6ce3c20f4",
        "colab": {
          "base_uri": "https://localhost:8080/"
        }
      },
      "outputs": [
        {
          "output_type": "execute_result",
          "data": {
            "text/plain": [
              "False"
            ]
          },
          "metadata": {},
          "execution_count": 8
        }
      ],
      "source": [
        "'1' == 1"
      ]
    },
    {
      "cell_type": "code",
      "execution_count": 9,
      "metadata": {
        "id": "uURtu4v1levZ",
        "outputId": "aa1bf25a-d3c9-4314-b4d6-5a1e719f012c",
        "colab": {
          "base_uri": "https://localhost:8080/"
        }
      },
      "outputs": [
        {
          "output_type": "execute_result",
          "data": {
            "text/plain": [
              "True"
            ]
          },
          "metadata": {},
          "execution_count": 9
        }
      ],
      "source": [
        "'1' != 1"
      ]
    },
    {
      "cell_type": "code",
      "execution_count": 10,
      "metadata": {
        "id": "AbNh4RlJleva",
        "outputId": "2c2f7dab-47fa-4c11-d41d-491ac6ba0709",
        "colab": {
          "base_uri": "https://localhost:8080/"
        }
      },
      "outputs": [
        {
          "output_type": "execute_result",
          "data": {
            "text/plain": [
              "True"
            ]
          },
          "metadata": {},
          "execution_count": 10
        }
      ],
      "source": [
        "1 < 3 < 5"
      ]
    },
    {
      "cell_type": "markdown",
      "metadata": {
        "id": "BeCMW5hwlevg"
      },
      "source": [
        "> We can chain comparison operators in Python"
      ]
    },
    {
      "cell_type": "code",
      "execution_count": 11,
      "metadata": {
        "id": "dGtIwltSlevg",
        "outputId": "ce950d3c-b2a8-4c46-9b40-437c82537005",
        "colab": {
          "base_uri": "https://localhost:8080/"
        }
      },
      "outputs": [
        {
          "output_type": "execute_result",
          "data": {
            "text/plain": [
              "True"
            ]
          },
          "metadata": {},
          "execution_count": 11
        }
      ],
      "source": [
        "1 == 1 < 3"
      ]
    },
    {
      "cell_type": "markdown",
      "metadata": {
        "id": "wMw0Ic0Flevi"
      },
      "source": [
        "### Truth in Numbers"
      ]
    },
    {
      "cell_type": "code",
      "execution_count": 12,
      "metadata": {
        "id": "dj_TObvTlevk",
        "outputId": "82f0578f-86ad-41ee-ff22-5b53a1bc3142",
        "colab": {
          "base_uri": "https://localhost:8080/"
        }
      },
      "outputs": [
        {
          "output_type": "execute_result",
          "data": {
            "text/plain": [
              "True"
            ]
          },
          "metadata": {},
          "execution_count": 12
        }
      ],
      "source": [
        "1 == True"
      ]
    },
    {
      "cell_type": "code",
      "execution_count": 13,
      "metadata": {
        "id": "n-BTbQcXlevk",
        "outputId": "c2f30ab6-6b76-4fdd-cfe5-605276179409",
        "colab": {
          "base_uri": "https://localhost:8080/"
        }
      },
      "outputs": [
        {
          "output_type": "execute_result",
          "data": {
            "text/plain": [
              "True"
            ]
          },
          "metadata": {},
          "execution_count": 13
        }
      ],
      "source": [
        "0 == False"
      ]
    },
    {
      "cell_type": "markdown",
      "metadata": {
        "id": "LTaBJxLDlevl"
      },
      "source": [
        "> The last one's should be a bit of a surprise.  It means that instead of a list of True or False values, an equivalent list is one of 1s or 0s."
      ]
    },
    {
      "cell_type": "code",
      "execution_count": 14,
      "metadata": {
        "id": "opAT0FOilevl",
        "outputId": "757d31e6-fa95-4e30-e1e6-97007547132b",
        "colab": {
          "base_uri": "https://localhost:8080/"
        }
      },
      "outputs": [
        {
          "output_type": "execute_result",
          "data": {
            "text/plain": [
              "True"
            ]
          },
          "metadata": {},
          "execution_count": 14
        }
      ],
      "source": [
        "[True, False] == [1, 0]"
      ]
    },
    {
      "cell_type": "markdown",
      "metadata": {
        "id": "fVHpprc3levq"
      },
      "source": [
        "### Practice with If Else"
      ]
    },
    {
      "cell_type": "markdown",
      "metadata": {
        "id": "Qp1V1CvIlevq"
      },
      "source": [
        "So when we use an `if else` statement our code moves through the first branch if we pass `if` a True value and moves through the second branch if we pass through a False value."
      ]
    },
    {
      "cell_type": "code",
      "execution_count": 15,
      "metadata": {
        "id": "U0ihHSKPlevq"
      },
      "outputs": [],
      "source": [
        "def what():\n",
        "    if True:\n",
        "        return 1\n",
        "    else:\n",
        "        return 0"
      ]
    },
    {
      "cell_type": "code",
      "execution_count": 16,
      "metadata": {
        "id": "FUNXe2bolevr",
        "outputId": "486fe672-b74c-436b-d886-54dc87a1e9f5",
        "colab": {
          "base_uri": "https://localhost:8080/"
        }
      },
      "outputs": [
        {
          "output_type": "execute_result",
          "data": {
            "text/plain": [
              "1"
            ]
          },
          "metadata": {},
          "execution_count": 16
        }
      ],
      "source": [
        "what()"
      ]
    },
    {
      "cell_type": "markdown",
      "metadata": {
        "id": "O0qJiFhwlevr"
      },
      "source": [
        "> Your turn."
      ]
    },
    {
      "cell_type": "markdown",
      "metadata": {
        "id": "5iIA__8-levr"
      },
      "source": [
        "Ok, now that we know more about boolean operators.  Let's practice a bit writing some `if else` statements."
      ]
    },
    {
      "cell_type": "markdown",
      "metadata": {
        "id": "YSUx1uKplevr"
      },
      "source": [
        "> Write a method that checks if two first names are precisely the same.  It returns `True` if they are the same and `False` otherwise."
      ]
    },
    {
      "cell_type": "code",
      "execution_count": 17,
      "metadata": {
        "id": "95i3s3Zglevr"
      },
      "outputs": [],
      "source": [
        "def same_name(name_one, name_two):\n",
        "    if name_one == name_two:\n",
        "        return True\n",
        "    else:\n",
        "        return False"
      ]
    },
    {
      "cell_type": "code",
      "execution_count": 18,
      "metadata": {
        "id": "4CNPPw4Ilevs",
        "outputId": "2d8801e1-d217-41c6-c5ed-42c5080ee9a7",
        "colab": {
          "base_uri": "https://localhost:8080/"
        }
      },
      "outputs": [
        {
          "output_type": "execute_result",
          "data": {
            "text/plain": [
              "True"
            ]
          },
          "metadata": {},
          "execution_count": 18
        }
      ],
      "source": [
        "same_name('sally', 'sally')\n",
        "# True"
      ]
    },
    {
      "cell_type": "code",
      "execution_count": 19,
      "metadata": {
        "id": "5EUoEzuklevs",
        "outputId": "f1dada30-b28b-4a00-fbd6-4a51f3418892",
        "colab": {
          "base_uri": "https://localhost:8080/"
        }
      },
      "outputs": [
        {
          "output_type": "execute_result",
          "data": {
            "text/plain": [
              "False"
            ]
          },
          "metadata": {},
          "execution_count": 19
        }
      ],
      "source": [
        "same_name('sally', 'Sally')\n",
        "# False"
      ]
    },
    {
      "cell_type": "markdown",
      "metadata": {
        "id": "AMWDZejelevs"
      },
      "source": [
        "> Now write a new function that returns True even if the capitalization of the names is different."
      ]
    },
    {
      "cell_type": "code",
      "execution_count": 20,
      "metadata": {
        "id": "NV92fU_5levs"
      },
      "outputs": [],
      "source": [
        "def same_name_case_insensitive(name_one, name_two):\n",
        "    if name_one.capitalize() == name_two.capitalize():\n",
        "        return True\n",
        "    else:\n",
        "        return False"
      ]
    },
    {
      "cell_type": "code",
      "execution_count": 21,
      "metadata": {
        "id": "-vIzHZAtlevt",
        "outputId": "7ae5c0c5-4a48-4fba-cc1a-447476bce87e",
        "colab": {
          "base_uri": "https://localhost:8080/"
        }
      },
      "outputs": [
        {
          "output_type": "execute_result",
          "data": {
            "text/plain": [
              "True"
            ]
          },
          "metadata": {},
          "execution_count": 21
        }
      ],
      "source": [
        "same_name_case_insensitive('Sally', 'sally')\n",
        "# True"
      ]
    },
    {
      "cell_type": "markdown",
      "metadata": {
        "id": "__4GSyUulevt"
      },
      "source": [
        "### Refactoring if else"
      ]
    },
    {
      "cell_type": "markdown",
      "metadata": {
        "id": "1-ciHWg9levz"
      },
      "source": [
        "With if else functions, we can sometimes be repetitive."
      ]
    },
    {
      "cell_type": "markdown",
      "metadata": {
        "id": "jp91g05Qlev0"
      },
      "source": [
        "> For example, here is the function that we started with.  And here is a way to rewrite it."
      ]
    },
    {
      "cell_type": "code",
      "execution_count": 22,
      "metadata": {
        "id": "W7ZnOeRzlev0"
      },
      "outputs": [],
      "source": [
        "def can_drive(age):\n",
        "    if age > 16:\n",
        "        return True\n",
        "    else:\n",
        "        return False"
      ]
    },
    {
      "cell_type": "code",
      "execution_count": 23,
      "metadata": {
        "id": "zxg7Omb2lev1",
        "outputId": "b38c7648-92eb-4a2d-9930-84e8c35f917c",
        "colab": {
          "base_uri": "https://localhost:8080/"
        }
      },
      "outputs": [
        {
          "output_type": "execute_result",
          "data": {
            "text/plain": [
              "True"
            ]
          },
          "metadata": {},
          "execution_count": 23
        }
      ],
      "source": [
        "can_drive(17)"
      ]
    },
    {
      "cell_type": "code",
      "execution_count": 24,
      "metadata": {
        "id": "cRW_UFdmlev1"
      },
      "outputs": [],
      "source": [
        "def can_drive(age):\n",
        "    return age > 16"
      ]
    },
    {
      "cell_type": "code",
      "execution_count": 25,
      "metadata": {
        "id": "Cgc8EA8Rlev1",
        "outputId": "747078d7-17ae-4476-ea9b-587fc2edd448",
        "colab": {
          "base_uri": "https://localhost:8080/"
        }
      },
      "outputs": [
        {
          "output_type": "execute_result",
          "data": {
            "text/plain": [
              "False"
            ]
          },
          "metadata": {},
          "execution_count": 25
        }
      ],
      "source": [
        "can_drive(15)"
      ]
    },
    {
      "cell_type": "markdown",
      "metadata": {
        "id": "zIkR0YHUlev2"
      },
      "source": [
        "Do you see why this works?"
      ]
    },
    {
      "cell_type": "markdown",
      "metadata": {
        "id": "M1CTl6X7lev3"
      },
      "source": [
        "```python\n",
        "def can_drive(age):\n",
        "    if age > 16:\n",
        "        return True\n",
        "    else:\n",
        "        return False\n",
        "```"
      ]
    },
    {
      "cell_type": "markdown",
      "metadata": {
        "id": "1H6XA8bNlev5"
      },
      "source": [
        "In our first version of our function, we were essentially saying, if `age > 16` evaluates to True return True, and if it evaluates to `False` return `False`.  In the second version we say, just return the value that our statement evaluates."
      ]
    },
    {
      "cell_type": "code",
      "execution_count": 26,
      "metadata": {
        "id": "mVurIMOelev6"
      },
      "outputs": [],
      "source": [
        "def can_drive(age):\n",
        "    return age > 16"
      ]
    },
    {
      "cell_type": "markdown",
      "metadata": {
        "id": "oOVNXlqWlev6"
      },
      "source": [
        "> Your turn."
      ]
    },
    {
      "cell_type": "markdown",
      "metadata": {
        "id": "AcivvcY3lev6"
      },
      "source": [
        "If you can shorten the `same_name_case_insensitive` function above, give it a shot below."
      ]
    },
    {
      "cell_type": "code",
      "execution_count": 27,
      "metadata": {
        "id": "rNvZZNwIlev6"
      },
      "outputs": [],
      "source": [
        "def same_name_case_insensitive(name_one, name_two):\n",
        "    return name_one.capitalize() == name_two.capitalize()"
      ]
    },
    {
      "cell_type": "code",
      "execution_count": 28,
      "metadata": {
        "id": "QzbuA6KIlev7",
        "outputId": "c7b44398-7101-400a-fd0b-d6f1a716fd06",
        "colab": {
          "base_uri": "https://localhost:8080/"
        }
      },
      "outputs": [
        {
          "output_type": "execute_result",
          "data": {
            "text/plain": [
              "True"
            ]
          },
          "metadata": {},
          "execution_count": 28
        }
      ],
      "source": [
        "same_name_case_insensitive('Sally', 'sally')\n",
        "# True"
      ]
    },
    {
      "cell_type": "code",
      "execution_count": 29,
      "metadata": {
        "id": "HEdDTN2_lev7",
        "outputId": "245d4b41-1c39-4db5-b159-af8d755988a5",
        "colab": {
          "base_uri": "https://localhost:8080/"
        }
      },
      "outputs": [
        {
          "output_type": "execute_result",
          "data": {
            "text/plain": [
              "False"
            ]
          },
          "metadata": {},
          "execution_count": 29
        }
      ],
      "source": [
        "same_name_case_insensitive('Sally', 'fred')\n",
        "# False"
      ]
    },
    {
      "cell_type": "markdown",
      "metadata": {
        "id": "DhGJc5Tolev7"
      },
      "source": [
        "### Multibranch if else"
      ]
    },
    {
      "cell_type": "code",
      "execution_count": 30,
      "metadata": {
        "id": "oBINvvtplev7"
      },
      "outputs": [],
      "source": [
        "def discount(airline_miles):\n",
        "    if airline_miles > 20000:\n",
        "        return .2\n",
        "    elif airline_miles > 10000:\n",
        "        return .1\n",
        "    else:\n",
        "        return 0"
      ]
    },
    {
      "cell_type": "code",
      "source": [],
      "metadata": {
        "id": "F0v0-xDK6-4a"
      },
      "execution_count": null,
      "outputs": []
    }
  ],
  "metadata": {
    "kernelspec": {
      "display_name": "Python 3 (ipykernel)",
      "language": "python",
      "name": "python3"
    },
    "language_info": {
      "codemirror_mode": {
        "name": "ipython",
        "version": 3
      },
      "file_extension": ".py",
      "mimetype": "text/x-python",
      "name": "python",
      "nbconvert_exporter": "python",
      "pygments_lexer": "ipython3",
      "version": "3.9.7"
    },
    "colab": {
      "provenance": []
    }
  },
  "nbformat": 4,
  "nbformat_minor": 0
}