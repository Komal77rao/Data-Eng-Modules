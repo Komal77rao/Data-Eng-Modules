{
  "cells": [
    {
      "cell_type": "markdown",
      "metadata": {
        "id": "Mu0rTjfHgehq"
      },
      "source": [
        "# Postgres Databases and Tables"
      ]
    },
    {
      "cell_type": "markdown",
      "metadata": {
        "id": "qWHRU8hSgeiD"
      },
      "source": [
        "### Introduction"
      ]
    },
    {
      "cell_type": "markdown",
      "metadata": {
        "id": "3_ztihtbgeiF"
      },
      "source": [
        "In this lesson, we'll get begin to work with postgres.  We'll get started by learning how to connect to the postgres shell, and how to create databases and tables from inside that shell."
      ]
    },
    {
      "cell_type": "markdown",
      "metadata": {
        "id": "bqqd3XAfgeiK"
      },
      "source": [
        "### Connecting and viewing Databases"
      ]
    },
    {
      "cell_type": "markdown",
      "metadata": {
        "id": "eLhT8EoegeiL"
      },
      "source": [
        "Now, once postgres is installed, we can connect to the postgres shell with the command `psql postgres`."
      ]
    },
    {
      "cell_type": "markdown",
      "metadata": {
        "id": "K7ngUsI-geiQ"
      },
      "source": [
        "<img src=\"https://github.com/sql-fundamentals-jigsaw/postgres-curriculum/blob/master/postgres-login.png?raw=1\" width=\"60%\">"
      ]
    },
    {
      "cell_type": "markdown",
      "metadata": {
        "id": "MZ1HMxXtgeiW"
      },
      "source": [
        "So we just issued a command to connect to postgres with the command `psql` and to connect to the `postgres` database, a default database in postgres."
      ]
    },
    {
      "cell_type": "markdown",
      "metadata": {
        "id": "3tTwfL79geia"
      },
      "source": [
        "If we want to exit the postgres shell, we can simply type `\\q`."
      ]
    },
    {
      "cell_type": "markdown",
      "metadata": {
        "id": "8bOdcTeegeii"
      },
      "source": [
        "### Viewing Databases"
      ]
    },
    {
      "cell_type": "markdown",
      "metadata": {
        "id": "rO6Y038Fgeij"
      },
      "source": [
        "Let's stay logged into the postgres shell for now.  We can begin by viewing all of the available databases with the command `\\l`."
      ]
    },
    {
      "cell_type": "markdown",
      "metadata": {
        "id": "qfMHL8kvgeio"
      },
      "source": [
        "<img src=\"https://github.com/sql-fundamentals-jigsaw/postgres-curriculum/blob/master/postgres-databases.png?raw=1\" width=\"70%\">"
      ]
    },
    {
      "cell_type": "markdown",
      "metadata": {
        "id": "fcq6lL-Dgeip"
      },
      "source": [
        "From there, we can determine which database to connect to.  Remember we are currently connected to the database `postgres`.\n",
        "\n",
        "> You can see this in the command prompt, where it says `postgres=#`, that means the connected database is postgres."
      ]
    },
    {
      "cell_type": "markdown",
      "metadata": {
        "id": "2bGW59Wzgeiq"
      },
      "source": [
        "Now let's create a new database.  We can create a new database with the CREATE DATABASE command."
      ]
    },
    {
      "cell_type": "markdown",
      "metadata": {
        "id": "chUW5bUNgeiq"
      },
      "source": [
        "```SQL\n",
        "CREATE DATABASE practice;\n",
        "```"
      ]
    },
    {
      "cell_type": "markdown",
      "metadata": {
        "id": "eWCbNP75geir"
      },
      "source": [
        "Now that it's created, we can connect to this or any other database, with `\\c`.  For example, this is how we can connect to our new `practice` database.\n",
        "\n",
        "```SQL\n",
        "postgres=# \\c practice\n",
        "psql (13.0, server 11.0)\n",
        "You are now connected to database \"practice\" as user \"postgres\".\n",
        "```"
      ]
    },
    {
      "cell_type": "markdown",
      "metadata": {
        "id": "doz7zrnHgeir"
      },
      "source": [
        "So now that we are connected to that database, subsequent commands that we execute will be performed on that database."
      ]
    },
    {
      "cell_type": "markdown",
      "metadata": {
        "id": "hVfD3g3zgeis"
      },
      "source": [
        "### Creating Databases and Tables"
      ]
    },
    {
      "cell_type": "markdown",
      "metadata": {
        "id": "mzTmznPGgeis"
      },
      "source": [
        "Now that we are connected to the `practice` database, we can perform different commands on the database.  For example, we can view all of the tables in the practice database with the command `\\dt`, which stands for \"display tables\"."
      ]
    },
    {
      "cell_type": "markdown",
      "metadata": {
        "id": "V2Lzr-ukgeis"
      },
      "source": [
        "```SQL\n",
        "practice=# \\dt\n",
        "Did not find any relations.\n",
        "```"
      ]
    },
    {
      "cell_type": "markdown",
      "metadata": {
        "id": "TxmisxiggejA"
      },
      "source": [
        "So there are currently no tables.  But we can create a new table with the CREATE TABLE command."
      ]
    },
    {
      "cell_type": "markdown",
      "metadata": {
        "id": "yCAmNW5VgejB"
      },
      "source": [
        "```SQL\n",
        "practice=# CREATE TABLE users (user_id serial PRIMARY KEY);\n",
        "CREATE TABLE\n",
        "```"
      ]
    },
    {
      "cell_type": "markdown",
      "metadata": {
        "id": "DgThJUcXgejC"
      },
      "source": [
        "From there we can issue a select statement on the table."
      ]
    },
    {
      "cell_type": "markdown",
      "metadata": {
        "id": "XRzVXm6ugejC"
      },
      "source": [
        "```SQL\n",
        "practice=# SELECT * FROM users;\n",
        " user_id\n",
        "---------\n",
        "(0 rows)\n",
        "```"
      ]
    },
    {
      "cell_type": "markdown",
      "metadata": {
        "id": "-Kh10o8tgejC"
      },
      "source": [
        "So even though no rows were returned, we can see that there was a users table with a `user_id` column.  And, of course, we can also use our `\\dt` command to confirm that users has been created."
      ]
    },
    {
      "cell_type": "markdown",
      "metadata": {
        "id": "K4jJTFqkgejD"
      },
      "source": [
        "```sql\n",
        "practice=# \\dt\n",
        "         List of relations\n",
        " Schema | Name  | Type  |  Owner\n",
        "--------+-------+-------+----------\n",
        " public | users | table | postgres\n",
        "(1 row)\n",
        "```"
      ]
    },
    {
      "cell_type": "markdown",
      "metadata": {
        "id": "nagVW0dZgejD"
      },
      "source": [
        "So again `\\dt` is to list all tables in our database, and if we want to see details about the a specific table, we can use the command `\\d table_name`.\n",
        "\n",
        "So this is how we see more details about the users table."
      ]
    },
    {
      "cell_type": "markdown",
      "metadata": {
        "id": "hTh3cSi9gejE"
      },
      "source": [
        "```sql\n",
        "practice=# \\d users\n",
        "                               Table \"public.users\"\n",
        " Column  |  Type   | Collation | Nullable |                Default\n",
        "\n",
        " user_id | integer |           | not null | nextval('users_user_id_seq'::regclass)\n",
        "Indexes:\n",
        "    \"users_pkey\" PRIMARY KEY, btree (user_id)\n",
        "```"
      ]
    },
    {
      "cell_type": "markdown",
      "metadata": {
        "id": "84EWjFLggejI"
      },
      "source": [
        "> As we may have guessed, in postgres, `\\d` stands for display. This is why we used `\\dt` to display all tables in a database and `\\d users` to display the schema of the users table.  "
      ]
    },
    {
      "cell_type": "markdown",
      "metadata": {
        "id": "tKNQhy6QgejJ"
      },
      "source": [
        "Finally, now that we have successfult created a new database and table within it, we can exit our shell with `\\q`."
      ]
    },
    {
      "cell_type": "markdown",
      "metadata": {
        "id": "L8XL8X_pgejJ"
      },
      "source": [
        "### Summary"
      ]
    },
    {
      "cell_type": "markdown",
      "metadata": {
        "id": "PFFSSA3lgejJ"
      },
      "source": [
        "In this lesson, we learned commands for connecting to the postgres shell, and working with databases and tables from the shell.  Let's review."
      ]
    },
    {
      "cell_type": "markdown",
      "metadata": {
        "id": "T8gE1SQ8gejJ"
      },
      "source": [
        "1. Connecting to the shell\n",
        "* `psql database_name`: connects to the postgres shell\n",
        "* `\\q`: exits the shell\n",
        "\n",
        "2. Managing Databases\n",
        "* `\\l`: lists all databases\n",
        "* `CREATE DATABASE practice;`: create new practice database\n",
        "* `\\c practice`: connect to practice database\n",
        "\n",
        "3. Managing Tables\n",
        "* `CREATE TABLE users (user_id serial PRIMARY KEY);`: create new table\n",
        "* `\\dt` display all tables in database\n",
        "* `\\d users`\n"
      ]
    }
  ],
  "metadata": {
    "kernelspec": {
      "display_name": "Python 3",
      "language": "python",
      "name": "python3"
    },
    "language_info": {
      "codemirror_mode": {
        "name": "ipython",
        "version": 3
      },
      "file_extension": ".py",
      "mimetype": "text/x-python",
      "name": "python",
      "nbconvert_exporter": "python",
      "pygments_lexer": "ipython3",
      "version": "3.8.3"
    },
    "colab": {
      "provenance": []
    }
  },
  "nbformat": 4,
  "nbformat_minor": 0
}