{
  "cells": [
    {
      "cell_type": "markdown",
      "metadata": {
        "id": "ZZc47M2pSngr"
      },
      "source": [
        "# Working with dictionaries lab"
      ]
    },
    {
      "cell_type": "markdown",
      "metadata": {
        "id": "HSqLnTbZSngw"
      },
      "source": [
        "### Introduction"
      ]
    },
    {
      "cell_type": "markdown",
      "metadata": {
        "id": "k2rSLd3ESngx"
      },
      "source": [
        "Ok, so in this lesson, we'll practice working with dictionaries.  We'll start with  creating some dictionaries, and working with those.  Then, we'll move on to using our knowledge of dictionaries to explore the API."
      ]
    },
    {
      "cell_type": "markdown",
      "metadata": {
        "id": "9MwY50u6Sngx"
      },
      "source": [
        "### Using our own dictionaries"
      ]
    },
    {
      "cell_type": "markdown",
      "metadata": {
        "id": "NeRLpKSFSngy"
      },
      "source": [
        "As we know, dictionaries are a great way to label attributes about an entity.  Let's start with a dictionary describing a restaurant employee."
      ]
    },
    {
      "cell_type": "code",
      "execution_count": 5,
      "metadata": {
        "id": "OT4uLPFcSngy"
      },
      "outputs": [],
      "source": [
        "olivia = {'name': 'olivia', 'birthday': '11/6/1992',\n",
        "          'days_available': ['Monday', 'Tuesday', 'Saturday', 'Sunday']}"
      ]
    },
    {
      "cell_type": "markdown",
      "metadata": {
        "id": "R9qfjMdoSng0"
      },
      "source": [
        "Let's explore our data structure by looking at **all of the keys** in the data structure.  We'll assign these key values to a variable named `attributes`."
      ]
    },
    {
      "cell_type": "markdown",
      "metadata": {
        "id": "oI2eu-_xSng2"
      },
      "source": [
        "> Remember to use dot and tab if you cannot remember the name of the method."
      ]
    },
    {
      "cell_type": "code",
      "execution_count": 6,
      "metadata": {
        "colab": {
          "base_uri": "https://localhost:8080/"
        },
        "id": "VwlY2kDASng3",
        "outputId": "519bbf0c-50c6-4d34-9b92-797b8b2ef351"
      },
      "outputs": [
        {
          "output_type": "execute_result",
          "data": {
            "text/plain": [
              "dict_keys"
            ]
          },
          "metadata": {},
          "execution_count": 6
        }
      ],
      "source": [
        "olivia_keys = olivia.keys()\n",
        "\n",
        "type(olivia_keys)\n",
        "# # dict_keys"
      ]
    },
    {
      "cell_type": "markdown",
      "metadata": {
        "id": "YWIHqyc9Sng4"
      },
      "source": [
        "So if we look at keys, we see that three attributes are available."
      ]
    },
    {
      "cell_type": "code",
      "execution_count": 7,
      "metadata": {
        "colab": {
          "base_uri": "https://localhost:8080/"
        },
        "id": "nHwhlnLGSng4",
        "outputId": "9da31b64-2443-4c25-ee82-378b5f2902f9"
      },
      "outputs": [
        {
          "output_type": "execute_result",
          "data": {
            "text/plain": [
              "dict_keys(['name', 'birthday', 'days_available'])"
            ]
          },
          "metadata": {},
          "execution_count": 7
        }
      ],
      "source": [
        "olivia_keys\n",
        "\n",
        "# dict_keys(['name', 'birthday', 'days_available'])"
      ]
    },
    {
      "cell_type": "markdown",
      "metadata": {
        "id": "Pyv1NJ7ZSng6"
      },
      "source": [
        "Now, retreive the value for `birthday` for `olivia` and assign it to the variable `birthday`."
      ]
    },
    {
      "cell_type": "code",
      "execution_count": 9,
      "metadata": {
        "colab": {
          "base_uri": "https://localhost:8080/",
          "height": 35
        },
        "id": "XMkOAIKLSng6",
        "outputId": "1398269e-2f8f-4613-a38f-4a99096d1a5b"
      },
      "outputs": [
        {
          "output_type": "execute_result",
          "data": {
            "text/plain": [
              "'11/6/1992'"
            ],
            "application/vnd.google.colaboratory.intrinsic+json": {
              "type": "string"
            }
          },
          "metadata": {},
          "execution_count": 9
        }
      ],
      "source": [
        "birthday = olivia['birthday']\n",
        "\n",
        "birthday\n",
        "# 11/6/1992"
      ]
    },
    {
      "cell_type": "markdown",
      "metadata": {
        "id": "QMZkUbvOSng6"
      },
      "source": [
        "Now retreive the list of days that olivia is available, and assign it to the variable days available."
      ]
    },
    {
      "cell_type": "code",
      "execution_count": 10,
      "metadata": {
        "colab": {
          "base_uri": "https://localhost:8080/"
        },
        "id": "yWWIY0PjSng7",
        "outputId": "e059e810-ed4f-4db5-9ae0-dbbe5b2968a4"
      },
      "outputs": [
        {
          "output_type": "execute_result",
          "data": {
            "text/plain": [
              "['Monday', 'Tuesday', 'Saturday', 'Sunday']"
            ]
          },
          "metadata": {},
          "execution_count": 10
        }
      ],
      "source": [
        "days_available = olivia['days_available']\n",
        "days_available\n",
        "# ['Monday', 'Tuesday', 'Saturday', 'Sunday']"
      ]
    },
    {
      "cell_type": "markdown",
      "metadata": {
        "id": "_Q4fEPF_Sng7"
      },
      "source": [
        "Now Olivia tells us that she is no longer availabe on Sunday.  Start with the variable `olivia` and remove the last element from the list of days she is available."
      ]
    },
    {
      "cell_type": "code",
      "execution_count": 11,
      "metadata": {
        "colab": {
          "base_uri": "https://localhost:8080/",
          "height": 35
        },
        "id": "5RizlgCLSng7",
        "outputId": "288abb71-7a0f-4df4-8e4f-66fbb9a2a232"
      },
      "outputs": [
        {
          "output_type": "execute_result",
          "data": {
            "text/plain": [
              "'Sunday'"
            ],
            "application/vnd.google.colaboratory.intrinsic+json": {
              "type": "string"
            }
          },
          "metadata": {},
          "execution_count": 11
        }
      ],
      "source": [
        "# write code here\n",
        "olivia['days_available'].pop()"
      ]
    },
    {
      "cell_type": "code",
      "execution_count": 12,
      "metadata": {
        "colab": {
          "base_uri": "https://localhost:8080/"
        },
        "id": "3FGfo3NXSng7",
        "outputId": "743b495b-7fc8-4d78-9f63-cf9188e5c1a2"
      },
      "outputs": [
        {
          "output_type": "execute_result",
          "data": {
            "text/plain": [
              "['Monday', 'Tuesday', 'Saturday']"
            ]
          },
          "metadata": {},
          "execution_count": 12
        }
      ],
      "source": [
        "olivia['days_available']\n",
        "# ['Monday', 'Tuesday', 'Saturday']"
      ]
    },
    {
      "cell_type": "markdown",
      "metadata": {
        "id": "iQmcRAzQSng7"
      },
      "source": [
        "Now let's create a new dictionary to represent another employee.  We'll assign it to the variable of `amelia`.  Our dictionary should have keys of `name`, `birthday`, and `days_available`.  And the corresponding values should be `amelia`, `3/18/1989` and an empty list for days available (as these are unknown to us right now.  "
      ]
    },
    {
      "cell_type": "code",
      "execution_count": 44,
      "metadata": {
        "id": "ySY1U-6iSng8"
      },
      "outputs": [],
      "source": [
        "amelia = {'name': 'Amelia',\n",
        "          'birthday' : '3/18/1989',\n",
        "          'days_available' : []}"
      ]
    },
    {
      "cell_type": "code",
      "execution_count": 45,
      "metadata": {
        "colab": {
          "base_uri": "https://localhost:8080/"
        },
        "id": "HoZj3KLkSng8",
        "outputId": "ac85464f-5825-4c40-fdbb-ba5f0c2cb28f"
      },
      "outputs": [
        {
          "output_type": "execute_result",
          "data": {
            "text/plain": [
              "dict_keys(['name', 'birthday', 'days_available'])"
            ]
          },
          "metadata": {},
          "execution_count": 45
        }
      ],
      "source": [
        "amelia.keys()\n",
        "\n",
        "# dict_keys(['name', 'birthday', 'days_available'])"
      ]
    },
    {
      "cell_type": "code",
      "execution_count": 46,
      "metadata": {
        "colab": {
          "base_uri": "https://localhost:8080/"
        },
        "id": "9hkfHiUGSng8",
        "outputId": "32b82dc7-70d2-4a3b-ba26-6ef4b42db209"
      },
      "outputs": [
        {
          "output_type": "execute_result",
          "data": {
            "text/plain": [
              "dict_values(['Amelia', '3/18/1989', []])"
            ]
          },
          "metadata": {},
          "execution_count": 46
        }
      ],
      "source": [
        "amelia.values()\n",
        "\n",
        "# dict_values(['amelia', '3/18/1989', []])"
      ]
    },
    {
      "cell_type": "markdown",
      "metadata": {
        "id": "rKPSAenFSng9"
      },
      "source": [
        "Now, convert the dictionary above into the following list of nested data.\n",
        "\n",
        "> Indented block\n",
        "\n"
      ]
    },
    {
      "cell_type": "code",
      "execution_count": 47,
      "metadata": {
        "colab": {
          "base_uri": "https://localhost:8080/"
        },
        "id": "t2hxkOjQSng9",
        "outputId": "2fb99cbc-9b18-412e-87fb-1854db799f27"
      },
      "outputs": [
        {
          "output_type": "execute_result",
          "data": {
            "text/plain": [
              "[('name', 'Amelia'), ('birthday', '3/18/1989'), ('days_available', [])]"
            ]
          },
          "metadata": {},
          "execution_count": 47
        }
      ],
      "source": [
        "amelia_list = list(amelia.items())\n",
        "\n",
        "amelia_list\n",
        "# [('name', 'amelia'), ('birthday', '3/18/1989'), ('days_available', [])]"
      ]
    },
    {
      "cell_type": "markdown",
      "metadata": {
        "id": "th8l8VoKSng9"
      },
      "source": [
        "Then go usee this `amelia_list` to convert our data to a dictionary without the key value pair of `days_available`, `[]`."
      ]
    },
    {
      "cell_type": "code",
      "execution_count": 48,
      "metadata": {
        "colab": {
          "base_uri": "https://localhost:8080/"
        },
        "id": "kQzmCPLaSng9",
        "outputId": "d857cc6f-1e93-4a94-b963-edeed54c95cd"
      },
      "outputs": [
        {
          "output_type": "execute_result",
          "data": {
            "text/plain": [
              "[('name', 'Amelia'), ('birthday', '3/18/1989')]"
            ]
          },
          "metadata": {},
          "execution_count": 48
        }
      ],
      "source": [
        "amelia_list.pop()\n",
        "# {'name': 'amelia', 'birthday': '3/18/1989'}\n",
        "\n",
        "amelia.popitem()\n",
        "#type(amelia)\n",
        "#type(amelia_list)\n",
        "\n",
        "amelia_list"
      ]
    },
    {
      "cell_type": "markdown",
      "metadata": {
        "id": "fBe5BvpJSng9"
      },
      "source": [
        "### Summary"
      ]
    },
    {
      "cell_type": "markdown",
      "metadata": {
        "id": "i80CUYV3Sng-"
      },
      "source": [
        "In this lesson, we accessed information from dictionaries and we created our own dictionaries.  We practiced using the `keys` method, and the `values` method.  Then we moved onto nested data structures, a list of dictionaries.  We'll see in the next lesson that working with nested data structures is really one of the keys to working with APIs."
      ]
    }
  ],
  "metadata": {
    "kernelspec": {
      "display_name": "Python 3 (ipykernel)",
      "language": "python",
      "name": "python3"
    },
    "language_info": {
      "codemirror_mode": {
        "name": "ipython",
        "version": 3
      },
      "file_extension": ".py",
      "mimetype": "text/x-python",
      "name": "python",
      "nbconvert_exporter": "python",
      "pygments_lexer": "ipython3",
      "version": "3.9.7"
    },
    "colab": {
      "provenance": []
    }
  },
  "nbformat": 4,
  "nbformat_minor": 0
}