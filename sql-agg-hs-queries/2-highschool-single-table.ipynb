{
  "cells": [
    {
      "cell_type": "markdown",
      "metadata": {
        "id": "R_rkHqo085mt"
      },
      "source": [
        "# NYC High Schools Aggregates"
      ]
    },
    {
      "cell_type": "markdown",
      "metadata": {
        "id": "2Nwn377T85ni"
      },
      "source": [
        "### Introduction\n",
        "In this lab we will practice using aggregate SQL functions. These functions, such as AVG, MIN, and MAX, allow us to perform mathematical operations on a set of numbers, and return one value. We will also use the GROUP BY function. GROUP BY allows us to group rows that have identical values in a column (or columns), often with the intention of performing an aggregate function on these groups. In the database we are using in this lab, each row represents a school, with each column representing some metric or information about that school. We could use an aggregate function to find the MAX total students of all the schools listed. But what if we wanted to know the MAX number of students by Boro? Previously we might have used a WHERE clause, but that would require a separate statement for each boro. Thats where GROUP BY clauses come in. In this example we could use GROUP BY boro, and the query would return the results of our aggregate function for each boro."
      ]
    },
    {
      "cell_type": "markdown",
      "metadata": {
        "id": "IOncmxE685np"
      },
      "source": [
        "Lets begin by using the `sqlite3` library to connect to the database"
      ]
    },
    {
      "cell_type": "code",
      "execution_count": 1,
      "metadata": {
        "id": "y9M0j38e85nq",
        "outputId": "be457a3d-bd93-49bd-9c36-f67f765761b2",
        "colab": {
          "base_uri": "https://localhost:8080/"
        }
      },
      "outputs": [
        {
          "output_type": "execute_result",
          "data": {
            "text/plain": [
              "356"
            ]
          },
          "metadata": {},
          "execution_count": 1
        }
      ],
      "source": [
        "import sqlite3\n",
        "import pandas as pd\n",
        "conn = sqlite3.connect('nyc_schools.db')\n",
        "cursor = conn.cursor()\n",
        "hs_url = \"https://raw.githubusercontent.com/eng-6-22/mod-1-sql-curriculum/master/sql-agg-hs-queries/highschools.csv\"\n",
        "high_school_df = pd.read_csv(hs_url)\n",
        "high_school_df.to_sql('high_schools', conn, index = False, if_exists = 'replace')"
      ]
    },
    {
      "cell_type": "code",
      "source": [
        "high_school_df[:2]"
      ],
      "metadata": {
        "id": "ub3TPotm9Rrx",
        "outputId": "7816985c-5931-4d72-c9fa-fe2f8d16e5a3",
        "colab": {
          "base_uri": "https://localhost:8080/",
          "height": 219
        }
      },
      "execution_count": 5,
      "outputs": [
        {
          "output_type": "execute_result",
          "data": {
            "text/plain": [
              "   id     dbn                                           name  num_test_takers  \\\n",
              "0   0  01M292  HENRY STREET SCHOOL FOR INTERNATIONAL STUDIES             29.0   \n",
              "1   1  01M448            UNIVERSITY NEIGHBORHOOD HIGH SCHOOL             91.0   \n",
              "\n",
              "   reading_avg  math_avg  writing_score boro  total_students  graduation_rate  \\\n",
              "0        355.0     404.0          363.0    M             171             0.66   \n",
              "1        383.0     423.0          366.0    M             465             0.90   \n",
              "\n",
              "   attendance_rate  college_career_rate  \n",
              "0             0.87                 0.36  \n",
              "1             0.93                 0.70  "
            ],
            "text/html": [
              "\n",
              "  <div id=\"df-d97a20cc-eb0f-480f-89c9-edce7b0a3854\" class=\"colab-df-container\">\n",
              "    <div>\n",
              "<style scoped>\n",
              "    .dataframe tbody tr th:only-of-type {\n",
              "        vertical-align: middle;\n",
              "    }\n",
              "\n",
              "    .dataframe tbody tr th {\n",
              "        vertical-align: top;\n",
              "    }\n",
              "\n",
              "    .dataframe thead th {\n",
              "        text-align: right;\n",
              "    }\n",
              "</style>\n",
              "<table border=\"1\" class=\"dataframe\">\n",
              "  <thead>\n",
              "    <tr style=\"text-align: right;\">\n",
              "      <th></th>\n",
              "      <th>id</th>\n",
              "      <th>dbn</th>\n",
              "      <th>name</th>\n",
              "      <th>num_test_takers</th>\n",
              "      <th>reading_avg</th>\n",
              "      <th>math_avg</th>\n",
              "      <th>writing_score</th>\n",
              "      <th>boro</th>\n",
              "      <th>total_students</th>\n",
              "      <th>graduation_rate</th>\n",
              "      <th>attendance_rate</th>\n",
              "      <th>college_career_rate</th>\n",
              "    </tr>\n",
              "  </thead>\n",
              "  <tbody>\n",
              "    <tr>\n",
              "      <th>0</th>\n",
              "      <td>0</td>\n",
              "      <td>01M292</td>\n",
              "      <td>HENRY STREET SCHOOL FOR INTERNATIONAL STUDIES</td>\n",
              "      <td>29.0</td>\n",
              "      <td>355.0</td>\n",
              "      <td>404.0</td>\n",
              "      <td>363.0</td>\n",
              "      <td>M</td>\n",
              "      <td>171</td>\n",
              "      <td>0.66</td>\n",
              "      <td>0.87</td>\n",
              "      <td>0.36</td>\n",
              "    </tr>\n",
              "    <tr>\n",
              "      <th>1</th>\n",
              "      <td>1</td>\n",
              "      <td>01M448</td>\n",
              "      <td>UNIVERSITY NEIGHBORHOOD HIGH SCHOOL</td>\n",
              "      <td>91.0</td>\n",
              "      <td>383.0</td>\n",
              "      <td>423.0</td>\n",
              "      <td>366.0</td>\n",
              "      <td>M</td>\n",
              "      <td>465</td>\n",
              "      <td>0.90</td>\n",
              "      <td>0.93</td>\n",
              "      <td>0.70</td>\n",
              "    </tr>\n",
              "  </tbody>\n",
              "</table>\n",
              "</div>\n",
              "    <div class=\"colab-df-buttons\">\n",
              "\n",
              "  <div class=\"colab-df-container\">\n",
              "    <button class=\"colab-df-convert\" onclick=\"convertToInteractive('df-d97a20cc-eb0f-480f-89c9-edce7b0a3854')\"\n",
              "            title=\"Convert this dataframe to an interactive table.\"\n",
              "            style=\"display:none;\">\n",
              "\n",
              "  <svg xmlns=\"http://www.w3.org/2000/svg\" height=\"24px\" viewBox=\"0 -960 960 960\">\n",
              "    <path d=\"M120-120v-720h720v720H120Zm60-500h600v-160H180v160Zm220 220h160v-160H400v160Zm0 220h160v-160H400v160ZM180-400h160v-160H180v160Zm440 0h160v-160H620v160ZM180-180h160v-160H180v160Zm440 0h160v-160H620v160Z\"/>\n",
              "  </svg>\n",
              "    </button>\n",
              "\n",
              "  <style>\n",
              "    .colab-df-container {\n",
              "      display:flex;\n",
              "      gap: 12px;\n",
              "    }\n",
              "\n",
              "    .colab-df-convert {\n",
              "      background-color: #E8F0FE;\n",
              "      border: none;\n",
              "      border-radius: 50%;\n",
              "      cursor: pointer;\n",
              "      display: none;\n",
              "      fill: #1967D2;\n",
              "      height: 32px;\n",
              "      padding: 0 0 0 0;\n",
              "      width: 32px;\n",
              "    }\n",
              "\n",
              "    .colab-df-convert:hover {\n",
              "      background-color: #E2EBFA;\n",
              "      box-shadow: 0px 1px 2px rgba(60, 64, 67, 0.3), 0px 1px 3px 1px rgba(60, 64, 67, 0.15);\n",
              "      fill: #174EA6;\n",
              "    }\n",
              "\n",
              "    .colab-df-buttons div {\n",
              "      margin-bottom: 4px;\n",
              "    }\n",
              "\n",
              "    [theme=dark] .colab-df-convert {\n",
              "      background-color: #3B4455;\n",
              "      fill: #D2E3FC;\n",
              "    }\n",
              "\n",
              "    [theme=dark] .colab-df-convert:hover {\n",
              "      background-color: #434B5C;\n",
              "      box-shadow: 0px 1px 3px 1px rgba(0, 0, 0, 0.15);\n",
              "      filter: drop-shadow(0px 1px 2px rgba(0, 0, 0, 0.3));\n",
              "      fill: #FFFFFF;\n",
              "    }\n",
              "  </style>\n",
              "\n",
              "    <script>\n",
              "      const buttonEl =\n",
              "        document.querySelector('#df-d97a20cc-eb0f-480f-89c9-edce7b0a3854 button.colab-df-convert');\n",
              "      buttonEl.style.display =\n",
              "        google.colab.kernel.accessAllowed ? 'block' : 'none';\n",
              "\n",
              "      async function convertToInteractive(key) {\n",
              "        const element = document.querySelector('#df-d97a20cc-eb0f-480f-89c9-edce7b0a3854');\n",
              "        const dataTable =\n",
              "          await google.colab.kernel.invokeFunction('convertToInteractive',\n",
              "                                                    [key], {});\n",
              "        if (!dataTable) return;\n",
              "\n",
              "        const docLinkHtml = 'Like what you see? Visit the ' +\n",
              "          '<a target=\"_blank\" href=https://colab.research.google.com/notebooks/data_table.ipynb>data table notebook</a>'\n",
              "          + ' to learn more about interactive tables.';\n",
              "        element.innerHTML = '';\n",
              "        dataTable['output_type'] = 'display_data';\n",
              "        await google.colab.output.renderOutput(dataTable, element);\n",
              "        const docLink = document.createElement('div');\n",
              "        docLink.innerHTML = docLinkHtml;\n",
              "        element.appendChild(docLink);\n",
              "      }\n",
              "    </script>\n",
              "  </div>\n",
              "\n",
              "\n",
              "<div id=\"df-d5d3c68c-a5c4-478c-958f-7ca7f8c41ede\">\n",
              "  <button class=\"colab-df-quickchart\" onclick=\"quickchart('df-d5d3c68c-a5c4-478c-958f-7ca7f8c41ede')\"\n",
              "            title=\"Suggest charts.\"\n",
              "            style=\"display:none;\">\n",
              "\n",
              "<svg xmlns=\"http://www.w3.org/2000/svg\" height=\"24px\"viewBox=\"0 0 24 24\"\n",
              "     width=\"24px\">\n",
              "    <g>\n",
              "        <path d=\"M19 3H5c-1.1 0-2 .9-2 2v14c0 1.1.9 2 2 2h14c1.1 0 2-.9 2-2V5c0-1.1-.9-2-2-2zM9 17H7v-7h2v7zm4 0h-2V7h2v10zm4 0h-2v-4h2v4z\"/>\n",
              "    </g>\n",
              "</svg>\n",
              "  </button>\n",
              "\n",
              "<style>\n",
              "  .colab-df-quickchart {\n",
              "      --bg-color: #E8F0FE;\n",
              "      --fill-color: #1967D2;\n",
              "      --hover-bg-color: #E2EBFA;\n",
              "      --hover-fill-color: #174EA6;\n",
              "      --disabled-fill-color: #AAA;\n",
              "      --disabled-bg-color: #DDD;\n",
              "  }\n",
              "\n",
              "  [theme=dark] .colab-df-quickchart {\n",
              "      --bg-color: #3B4455;\n",
              "      --fill-color: #D2E3FC;\n",
              "      --hover-bg-color: #434B5C;\n",
              "      --hover-fill-color: #FFFFFF;\n",
              "      --disabled-bg-color: #3B4455;\n",
              "      --disabled-fill-color: #666;\n",
              "  }\n",
              "\n",
              "  .colab-df-quickchart {\n",
              "    background-color: var(--bg-color);\n",
              "    border: none;\n",
              "    border-radius: 50%;\n",
              "    cursor: pointer;\n",
              "    display: none;\n",
              "    fill: var(--fill-color);\n",
              "    height: 32px;\n",
              "    padding: 0;\n",
              "    width: 32px;\n",
              "  }\n",
              "\n",
              "  .colab-df-quickchart:hover {\n",
              "    background-color: var(--hover-bg-color);\n",
              "    box-shadow: 0 1px 2px rgba(60, 64, 67, 0.3), 0 1px 3px 1px rgba(60, 64, 67, 0.15);\n",
              "    fill: var(--button-hover-fill-color);\n",
              "  }\n",
              "\n",
              "  .colab-df-quickchart-complete:disabled,\n",
              "  .colab-df-quickchart-complete:disabled:hover {\n",
              "    background-color: var(--disabled-bg-color);\n",
              "    fill: var(--disabled-fill-color);\n",
              "    box-shadow: none;\n",
              "  }\n",
              "\n",
              "  .colab-df-spinner {\n",
              "    border: 2px solid var(--fill-color);\n",
              "    border-color: transparent;\n",
              "    border-bottom-color: var(--fill-color);\n",
              "    animation:\n",
              "      spin 1s steps(1) infinite;\n",
              "  }\n",
              "\n",
              "  @keyframes spin {\n",
              "    0% {\n",
              "      border-color: transparent;\n",
              "      border-bottom-color: var(--fill-color);\n",
              "      border-left-color: var(--fill-color);\n",
              "    }\n",
              "    20% {\n",
              "      border-color: transparent;\n",
              "      border-left-color: var(--fill-color);\n",
              "      border-top-color: var(--fill-color);\n",
              "    }\n",
              "    30% {\n",
              "      border-color: transparent;\n",
              "      border-left-color: var(--fill-color);\n",
              "      border-top-color: var(--fill-color);\n",
              "      border-right-color: var(--fill-color);\n",
              "    }\n",
              "    40% {\n",
              "      border-color: transparent;\n",
              "      border-right-color: var(--fill-color);\n",
              "      border-top-color: var(--fill-color);\n",
              "    }\n",
              "    60% {\n",
              "      border-color: transparent;\n",
              "      border-right-color: var(--fill-color);\n",
              "    }\n",
              "    80% {\n",
              "      border-color: transparent;\n",
              "      border-right-color: var(--fill-color);\n",
              "      border-bottom-color: var(--fill-color);\n",
              "    }\n",
              "    90% {\n",
              "      border-color: transparent;\n",
              "      border-bottom-color: var(--fill-color);\n",
              "    }\n",
              "  }\n",
              "</style>\n",
              "\n",
              "  <script>\n",
              "    async function quickchart(key) {\n",
              "      const quickchartButtonEl =\n",
              "        document.querySelector('#' + key + ' button');\n",
              "      quickchartButtonEl.disabled = true;  // To prevent multiple clicks.\n",
              "      quickchartButtonEl.classList.add('colab-df-spinner');\n",
              "      try {\n",
              "        const charts = await google.colab.kernel.invokeFunction(\n",
              "            'suggestCharts', [key], {});\n",
              "      } catch (error) {\n",
              "        console.error('Error during call to suggestCharts:', error);\n",
              "      }\n",
              "      quickchartButtonEl.classList.remove('colab-df-spinner');\n",
              "      quickchartButtonEl.classList.add('colab-df-quickchart-complete');\n",
              "    }\n",
              "    (() => {\n",
              "      let quickchartButtonEl =\n",
              "        document.querySelector('#df-d5d3c68c-a5c4-478c-958f-7ca7f8c41ede button');\n",
              "      quickchartButtonEl.style.display =\n",
              "        google.colab.kernel.accessAllowed ? 'block' : 'none';\n",
              "    })();\n",
              "  </script>\n",
              "</div>\n",
              "    </div>\n",
              "  </div>\n"
            ]
          },
          "metadata": {},
          "execution_count": 5
        }
      ]
    },
    {
      "cell_type": "code",
      "execution_count": 4,
      "metadata": {
        "id": "I4Iw9GqF85oP",
        "outputId": "eabf19c9-390a-4974-a01a-747fab5fdb59",
        "colab": {
          "base_uri": "https://localhost:8080/"
        }
      },
      "outputs": [
        {
          "output_type": "execute_result",
          "data": {
            "text/plain": [
              "[('high_schools',)]"
            ]
          },
          "metadata": {},
          "execution_count": 4
        }
      ],
      "source": [
        "cursor.execute('SELECT name from sqlite_master where type= \"table\"')\n",
        "cursor.fetchall()"
      ]
    },
    {
      "cell_type": "code",
      "execution_count": null,
      "metadata": {
        "id": "jhqb6iW_85oT",
        "outputId": "234764b2-cd94-40b0-b23f-f8662e2ec40f"
      },
      "outputs": [
        {
          "data": {
            "text/plain": [
              "[(0, 'id', 'INTEGER', 0, None, 0),\n",
              " (1, 'dbn', 'TEXT', 0, None, 0),\n",
              " (2, 'name', 'TEXT', 0, None, 0),\n",
              " (3, 'num_test_takers', 'REAL', 0, None, 0),\n",
              " (4, 'reading_avg', 'REAL', 0, None, 0),\n",
              " (5, 'math_avg', 'REAL', 0, None, 0),\n",
              " (6, 'writing_score', 'REAL', 0, None, 0),\n",
              " (7, 'boro', 'TEXT', 0, None, 0),\n",
              " (8, 'total_students', 'INTEGER', 0, None, 0),\n",
              " (9, 'graduation_rate', 'REAL', 0, None, 0),\n",
              " (10, 'attendance_rate', 'REAL', 0, None, 0),\n",
              " (11, 'college_career_rate', 'REAL', 0, None, 0)]"
            ]
          },
          "execution_count": 5,
          "metadata": {},
          "output_type": "execute_result"
        }
      ],
      "source": [
        "cursor.execute('PRAGMA table_info(high_schools)')\n",
        "cursor.fetchall()"
      ]
    },
    {
      "cell_type": "markdown",
      "metadata": {
        "id": "3gZXoRw085oZ"
      },
      "source": [
        "### Aggregates"
      ]
    },
    {
      "cell_type": "markdown",
      "metadata": {
        "id": "0R-0f9re85oa"
      },
      "source": [
        "For each of the questions below, use a SQL aggregate function to find the solution. (Note that in the database, the boro column consists of the values \"M\" for Manhattan, \"X\" for the Bronx, \"K\" for Brooklyn, and \"Q\" for Queens)"
      ]
    },
    {
      "cell_type": "markdown",
      "metadata": {
        "id": "LdsYQrTY85ob"
      },
      "source": [
        "* What's the average number of students in Manhattan?"
      ]
    },
    {
      "cell_type": "code",
      "execution_count": 7,
      "metadata": {
        "id": "v9gm-JS085oc",
        "outputId": "f4d8c232-da75-44e4-c406-f10cd260525b",
        "colab": {
          "base_uri": "https://localhost:8080/"
        }
      },
      "outputs": [
        {
          "output_type": "execute_result",
          "data": {
            "text/plain": [
              "[(601.9666666666667,)]"
            ]
          },
          "metadata": {},
          "execution_count": 7
        }
      ],
      "source": [
        "statement = \"\"\"\n",
        "select avg(total_students) as avg_num_students from high_schools\n",
        "where boro = 'M'\n",
        "\"\"\"\n",
        "\n",
        "def avg_students_manhattan():\n",
        "    return cursor.execute(statement).fetchall()\n",
        "\n",
        "avg_students_manhattan()\n",
        "# [(601.9666666666667,)]"
      ]
    },
    {
      "cell_type": "markdown",
      "metadata": {
        "id": "Xcfv1H7l85o0"
      },
      "source": [
        "* What's the average attendance in Manhattan?"
      ]
    },
    {
      "cell_type": "code",
      "execution_count": 8,
      "metadata": {
        "id": "TBxwsvCZ85o0",
        "outputId": "71a18927-ab3a-4811-c377-1160eeec68fd",
        "colab": {
          "base_uri": "https://localhost:8080/"
        }
      },
      "outputs": [
        {
          "output_type": "execute_result",
          "data": {
            "text/plain": [
              "[(0.8782222222222222,)]"
            ]
          },
          "metadata": {},
          "execution_count": 8
        }
      ],
      "source": [
        "statement = \"\"\"\n",
        "select avg(attendance_rate) as avg_attendance_rate\n",
        "from high_schools\n",
        "where boro = 'M'\n",
        "\"\"\"\n",
        "\n",
        "\n",
        "def avg_attendance_rate_in_hs():\n",
        "    return cursor.execute(statement).fetchall()\n",
        "\n",
        "\n",
        "\n",
        "avg_attendance_rate_in_hs()\n",
        "# [(0.8782222222222222,)]\n"
      ]
    },
    {
      "cell_type": "markdown",
      "metadata": {
        "id": "gjqCgS8R85o2"
      },
      "source": [
        "* What's the largest difference between graduation_rate and college_career_rate?"
      ]
    },
    {
      "cell_type": "code",
      "execution_count": 9,
      "metadata": {
        "id": "KcuYMhjc85o4",
        "outputId": "c57a6378-a760-4a02-a080-bdf7b556e10c",
        "colab": {
          "base_uri": "https://localhost:8080/"
        }
      },
      "outputs": [
        {
          "output_type": "execute_result",
          "data": {
            "text/plain": [
              "[(0.55,)]"
            ]
          },
          "metadata": {},
          "execution_count": 9
        }
      ],
      "source": [
        "statement = \"\"\"\n",
        "select max(graduation_rate - college_career_rate)\n",
        "from high_schools\n",
        "\"\"\"\n",
        "\n",
        "\n",
        "def largest_diff_btwn_grad_rate_and_college_career_rate():\n",
        "    return cursor.execute(statement).fetchall()\n",
        "\n",
        "largest_diff_btwn_grad_rate_and_college_career_rate()\n",
        "# [(0.55,)]"
      ]
    },
    {
      "cell_type": "markdown",
      "metadata": {
        "id": "4UbI--un85pY"
      },
      "source": [
        "* What is the highest math_avg in queens"
      ]
    },
    {
      "cell_type": "code",
      "execution_count": 10,
      "metadata": {
        "id": "ctYdrtNF85pY",
        "outputId": "dd9265cd-fd79-46ce-a559-7b16c2743eaf",
        "colab": {
          "base_uri": "https://localhost:8080/"
        }
      },
      "outputs": [
        {
          "output_type": "execute_result",
          "data": {
            "text/plain": [
              "[(660.0,)]"
            ]
          },
          "metadata": {},
          "execution_count": 10
        }
      ],
      "source": [
        "statement = \"\"\"\n",
        "select max(math_avg)\n",
        "from high_schools\n",
        "where boro = 'Q'\n",
        "\"\"\"\n",
        "\n",
        "def highest_math_avg_queens():\n",
        "    return cursor.execute(statement).fetchall()\n",
        "\n",
        "highest_math_avg_queens()\n",
        "# [(660.0,)]"
      ]
    },
    {
      "cell_type": "markdown",
      "metadata": {
        "id": "N1R1Vd4285pZ"
      },
      "source": [
        "* What is the highest math_avg in manhattan?"
      ]
    },
    {
      "cell_type": "code",
      "execution_count": 11,
      "metadata": {
        "id": "7sTcEyTb85pZ",
        "outputId": "e633a288-2fec-4f97-aa8f-c1a0c99e2796",
        "colab": {
          "base_uri": "https://localhost:8080/"
        }
      },
      "outputs": [
        {
          "output_type": "execute_result",
          "data": {
            "text/plain": [
              "[(735.0,)]"
            ]
          },
          "metadata": {},
          "execution_count": 11
        }
      ],
      "source": [
        "\n",
        "statement = \"\"\"\n",
        "select max(math_avg)\n",
        "from high_schools\n",
        "where boro = 'M'\n",
        "\"\"\"\n",
        "\n",
        "def highest_math_avg_manhattan():\n",
        "    return cursor.execute(statement).fetchall()\n",
        "\n",
        "highest_math_avg_manhattan()"
      ]
    },
    {
      "cell_type": "code",
      "execution_count": null,
      "metadata": {
        "id": "tZD9k-c985pb"
      },
      "outputs": [],
      "source": []
    },
    {
      "cell_type": "markdown",
      "metadata": {
        "id": "8UWQktZq85pd"
      },
      "source": [
        "* What is the highest combined score in manhattan?"
      ]
    },
    {
      "cell_type": "code",
      "execution_count": 20,
      "metadata": {
        "id": "XsUmqrXu85pe",
        "outputId": "b0743893-05a5-40dc-a667-8e545777fe01",
        "colab": {
          "base_uri": "https://localhost:8080/"
        }
      },
      "outputs": [
        {
          "output_type": "execute_result",
          "data": {
            "text/plain": [
              "[(1414.0,)]"
            ]
          },
          "metadata": {},
          "execution_count": 20
        }
      ],
      "source": [
        "statement = \"\"\"\n",
        "select MAX(reading_avg + math_avg) as total\n",
        "from high_schools\n",
        "where boro = 'M'\n",
        "\"\"\"\n",
        "\n",
        "\n",
        "def highest_combined_score():\n",
        "    return cursor.execute(statement).fetchall()\n",
        "\n",
        "\n",
        "highest_combined_score()\n",
        "# [(1414.0,)]"
      ]
    },
    {
      "cell_type": "markdown",
      "metadata": {
        "id": "BHrMRWn_85pe"
      },
      "source": [
        "### Group By"
      ]
    },
    {
      "cell_type": "markdown",
      "metadata": {
        "id": "J4_XcPsC85pe"
      },
      "source": [
        "* What's the average number of students in each borough"
      ]
    },
    {
      "cell_type": "code",
      "execution_count": 22,
      "metadata": {
        "id": "oyhBHlgr85pe",
        "outputId": "6b700b56-daa9-4c6d-b6fa-68d88bff771e",
        "colab": {
          "base_uri": "https://localhost:8080/"
        }
      },
      "outputs": [
        {
          "output_type": "execute_result",
          "data": {
            "text/plain": [
              "[('K', 740.2884615384615),\n",
              " ('M', 601.9666666666667),\n",
              " ('Q', 1135.4615384615386),\n",
              " ('R', 1863.2),\n",
              " ('X', 523.4827586206897)]"
            ]
          },
          "metadata": {},
          "execution_count": 22
        }
      ],
      "source": [
        "statement = \"\"\"\n",
        "select boro, avg(total_students)\n",
        "from high_schools\n",
        "group by boro\n",
        "\"\"\"\n",
        "\n",
        "def avg_num_of_students_per_borough():\n",
        "    return cursor.execute(statement).fetchall()\n",
        "\n",
        "\n",
        "avg_num_of_students_per_borough()\n",
        "# [('K', 740.2884615384615),\n",
        "#         ('M', 601.9666666666667),\n",
        "#         ('Q', 1135.4615384615386),\n",
        "#         ('R', 1863.2),\n",
        "#         ('X', 523.4827586206897)]"
      ]
    },
    {
      "cell_type": "markdown",
      "metadata": {
        "id": "71XRI-Vc85pf"
      },
      "source": [
        "* What's the average difference between graduation_rate and college_career_rate by borough"
      ]
    },
    {
      "cell_type": "code",
      "execution_count": 23,
      "metadata": {
        "id": "2Qy7JGCj85pf",
        "outputId": "7c740c20-e87f-43b3-ee81-f03270b236d3",
        "colab": {
          "base_uri": "https://localhost:8080/"
        }
      },
      "outputs": [
        {
          "output_type": "execute_result",
          "data": {
            "text/plain": [
              "[('K', 0.22480392156862752),\n",
              " ('M', 0.17298850574712643),\n",
              " ('Q', 0.1706153846153846),\n",
              " ('R', 0.23200000000000004),\n",
              " ('X', 0.21264367816091953)]"
            ]
          },
          "metadata": {},
          "execution_count": 23
        }
      ],
      "source": [
        "statement = \"\"\"\n",
        "select boro, avg(graduation_rate - college_career_rate)\n",
        "from high_schools\n",
        "group by boro\n",
        "\"\"\"\n",
        "\n",
        "\n",
        "\n",
        "def avg_diff_btwn_grad_rate_and_college_career_rate_by_boro():\n",
        "    return cursor.execute(statement).fetchall()\n",
        "\n",
        "\n",
        "avg_diff_btwn_grad_rate_and_college_career_rate_by_boro()\n",
        "\n",
        "# [('K', 0.22480392156862752),\n",
        "#             ('M', 0.17298850574712643),\n",
        "#             ('Q', 0.1706153846153846),\n",
        "#             ('R', 0.23200000000000004),\n",
        "#             ('X', 0.21264367816091953)]"
      ]
    },
    {
      "cell_type": "markdown",
      "metadata": {
        "id": "2yiR79qV85pg"
      },
      "source": [
        "* What's the avg college career rate grouped by math_avg scores (Hint: https://stackoverflow.com/questions/30929526/sqlite-group-by-range-of-1000s)"
      ]
    },
    {
      "cell_type": "code",
      "execution_count": null,
      "metadata": {
        "id": "Rs3BcHyx85pg"
      },
      "outputs": [],
      "source": [
        "statement = \"\"\"\n",
        "select math_avg, avg(college_career_rate)\n",
        "from high_schools\n",
        "group by math_avg\n",
        "\"\"\"\n",
        "\n",
        "def avg_clg_rate_math_scores():\n",
        "    return cursor.execute(statement).fetchall()\n",
        "\n",
        "avg_clg_rate_math_scores()"
      ]
    },
    {
      "cell_type": "markdown",
      "metadata": {
        "id": "xLJg6UOy85pg"
      },
      "source": [
        "### HAVING\n",
        "One important thing to note is that once we use the GROUP BY clause, we can no longer use the WHERE clause for aggregate functions. For example, let's say we wanted to know the average number of students in each boro, but we only wanted the results for boros with an average of more than 1000. Here we would use the HAVING clause. See the example below and then use the HAVING clause to find the solution for the the next question."
      ]
    },
    {
      "cell_type": "code",
      "execution_count": 27,
      "metadata": {
        "id": "X64s7Gdn85ph",
        "outputId": "054615da-32be-478c-ba85-96349757420f",
        "colab": {
          "base_uri": "https://localhost:8080/"
        }
      },
      "outputs": [
        {
          "output_type": "execute_result",
          "data": {
            "text/plain": [
              "[('Q', 1135.4615384615386), ('R', 1863.2)]"
            ]
          },
          "metadata": {},
          "execution_count": 27
        }
      ],
      "source": [
        "cursor.execute('''SELECT boro, AVG(total_students)\n",
        "FROM high_schools\n",
        "GROUP BY boro HAVING AVG(total_students) > 1000''')\n",
        "cursor.fetchall()"
      ]
    },
    {
      "cell_type": "code",
      "execution_count": 31,
      "metadata": {
        "id": "eqlpY6Fm85ph",
        "outputId": "268716bb-72e0-4542-e49d-89f52595a904",
        "colab": {
          "base_uri": "https://localhost:8080/"
        }
      },
      "outputs": [
        {
          "output_type": "execute_result",
          "data": {
            "text/plain": [
              "[('Q', 1135.4615384615386), ('R', 1863.2)]"
            ]
          },
          "metadata": {},
          "execution_count": 31
        }
      ],
      "source": [
        "statement = \"\"\"\n",
        "SELECT boro, AVG(total_students)\n",
        "FROM high_schools\n",
        "GROUP BY boro HAVING AVG(total_students) > 1000\n",
        "\n",
        "\"\"\"\n",
        "\n",
        "\n",
        "def boroughs_with_avg_total_students_over_one_thousand():\n",
        "    return cursor.execute(statement).fetchall()\n",
        "\n",
        "boroughs_with_avg_total_students_over_one_thousand()\n",
        "# [('Q', 1135.4615384615386), ('R', 1863.2)]"
      ]
    },
    {
      "cell_type": "markdown",
      "metadata": {
        "id": "PBdHWd1d85pj"
      },
      "source": [
        "What is the average college career rate for each boro, selecting only boros with an average college career rate less than .6?"
      ]
    },
    {
      "cell_type": "code",
      "execution_count": 32,
      "metadata": {
        "id": "lRldbSC885pj",
        "outputId": "87b36842-8223-4361-b449-9b5a6d7ce8d1",
        "colab": {
          "base_uri": "https://localhost:8080/"
        }
      },
      "outputs": [
        {
          "output_type": "execute_result",
          "data": {
            "text/plain": [
              "[('K', 0.5471568627450981), ('X', 0.5295402298850576)]"
            ]
          },
          "metadata": {},
          "execution_count": 32
        }
      ],
      "source": [
        "statement = \"\"\"\n",
        "SELECT boro, AVG(college_career_rate)\n",
        "FROM high_schools\n",
        "GROUP BY boro HAVING AVG(college_career_rate) < 0.6\n",
        "\n",
        "\"\"\"\n",
        "\n",
        "def boroughs_with_avg_college_career_under_point_six():\n",
        "     return cursor.execute(statement).fetchall()\n",
        "\n",
        "boroughs_with_avg_college_career_under_point_six()\n",
        "# [('K', 0.5471568627450981), ('X', 0.5295402298850576)]"
      ]
    },
    {
      "cell_type": "markdown",
      "metadata": {
        "id": "iFFDqUTQ85py"
      },
      "source": [
        "### Conclusion\n",
        "In this lab, we performed aggregate functions on our data. This allows us to perform mathematical operations on a set of values in our database. We also used the GROUP BY clause, which gave us the ability to perform the aggregate functions on different subsets of the data at once. Finally, we used the HAVING clause to filter our results in GROUP BY queries."
      ]
    }
  ],
  "metadata": {
    "kernelspec": {
      "display_name": "Python 3 (ipykernel)",
      "language": "python",
      "name": "python3"
    },
    "language_info": {
      "codemirror_mode": {
        "name": "ipython",
        "version": 3
      },
      "file_extension": ".py",
      "mimetype": "text/x-python",
      "name": "python",
      "nbconvert_exporter": "python",
      "pygments_lexer": "ipython3",
      "version": "3.9.10"
    },
    "colab": {
      "provenance": []
    }
  },
  "nbformat": 4,
  "nbformat_minor": 0
}