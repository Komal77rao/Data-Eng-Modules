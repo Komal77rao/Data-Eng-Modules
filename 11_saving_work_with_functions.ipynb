{
  "cells": [
    {
      "cell_type": "markdown",
      "metadata": {
        "id": "view-in-github",
        "colab_type": "text"
      },
      "source": [
        "<a href=\"https://colab.research.google.com/github/Komal77rao/Data-Eng-Modules/blob/main/11_saving_work_with_functions.ipynb\" target=\"_parent\"><img src=\"https://colab.research.google.com/assets/colab-badge.svg\" alt=\"Open In Colab\"/></a>"
      ]
    },
    {
      "cell_type": "markdown",
      "metadata": {
        "id": "8wGJJ0zE96rG"
      },
      "source": [
        "# Saving our Work With Functions"
      ]
    },
    {
      "cell_type": "markdown",
      "metadata": {
        "id": "lf88JR-R96rM"
      },
      "source": [
        "### Introduction"
      ]
    },
    {
      "cell_type": "markdown",
      "metadata": {
        "id": "26ZamPQN96rM"
      },
      "source": [
        "Ok, now at this point, we have learned almost all of the work to really go forth and code.  And we did some really good work in the process.\n",
        "\n",
        "But if we're going to put this code to use, and build some nice projects, we'll need to store some of our procedures in functions."
      ]
    },
    {
      "cell_type": "markdown",
      "metadata": {
        "id": "d-nRCPE996rP"
      },
      "source": [
        "### Saving our Work"
      ]
    },
    {
      "cell_type": "markdown",
      "metadata": {
        "id": "5bX9rwjX96rS"
      },
      "source": [
        "Now we've already seen how to save our work with variables."
      ]
    },
    {
      "cell_type": "code",
      "execution_count": null,
      "metadata": {
        "id": "HaaRGKjx96rV"
      },
      "outputs": [],
      "source": [
        "cities = ['nyc', 'los angeles', 'chicago']"
      ]
    },
    {
      "cell_type": "markdown",
      "metadata": {
        "id": "CfaBVp7w96rX"
      },
      "source": [
        "The code above **is something**.  It is a list, and we stored it as such."
      ]
    },
    {
      "cell_type": "markdown",
      "metadata": {
        "id": "WhF0Plop96rX"
      },
      "source": [
        "But how do we save code that **does something**?  For example, our code below goes to Wikipedia and gathers the information then converts it to a list of dictionaries.  We may want to save that process to easily do it again and again."
      ]
    },
    {
      "cell_type": "code",
      "execution_count": null,
      "metadata": {
        "colab": {
          "base_uri": "https://localhost:8080/"
        },
        "id": "tKRbf3uC96rY",
        "outputId": "ffad5a8f-0e2a-4257-e858-ef401a714f81"
      },
      "outputs": [
        {
          "output_type": "execute_result",
          "data": {
            "text/plain": [
              "[{'2022 rank': 1,\n",
              "  'City': 'New York[d]',\n",
              "  'State[c]': 'New York',\n",
              "  '2022 estimate': 8335897,\n",
              "  '2020 census': 8804190,\n",
              "  'Change': '−5.32%',\n",
              "  '2020 land area': '300.5\\xa0sq\\xa0mi',\n",
              "  '2020 land area.1': '778.3\\xa0km2',\n",
              "  '2020 population density': '29,298/sq\\xa0mi',\n",
              "  '2020 population density.1': '11,312/km2',\n",
              "  'Location': '.mw-parser-output .geo-default,.mw-parser-output .geo-dms,.mw-parser-output .geo-dec{display:inline}.mw-parser-output .geo-nondefault,.mw-parser-output .geo-multi-punct,.mw-parser-output .geo-inline-hidden{display:none}.mw-parser-output .longitude,.mw-parser-output .latitude{white-space:nowrap}40°40′N 73°56′W\\ufeff / \\ufeff40.66°N 73.94°W'},\n",
              " {'2022 rank': 2,\n",
              "  'City': 'Los Angeles',\n",
              "  'State[c]': 'California',\n",
              "  '2022 estimate': 3822238,\n",
              "  '2020 census': 3898747,\n",
              "  'Change': '−1.96%',\n",
              "  '2020 land area': '469.5\\xa0sq\\xa0mi',\n",
              "  '2020 land area.1': '1,216.0\\xa0km2',\n",
              "  '2020 population density': '8,304/sq\\xa0mi',\n",
              "  '2020 population density.1': '3,206/km2',\n",
              "  'Location': '34°01′N 118°25′W\\ufeff / \\ufeff34.02°N 118.41°W'}]"
            ]
          },
          "metadata": {},
          "execution_count": 5
        }
      ],
      "source": [
        "import pandas as pd\n",
        "url = 'https://en.wikipedia.org/wiki/List_of_United_States_cities_by_population'\n",
        "tables = pd.read_html(url)\n",
        "cities_table = tables[4]\n",
        "cities = cities_table.to_dict('records')\n",
        "cities[:2]"
      ]
    },
    {
      "cell_type": "markdown",
      "metadata": {
        "id": "f3jPcXQ496rZ"
      },
      "source": [
        "If we want to save code that does something, we can wrap it in a function.\n",
        "\n",
        "> Let's just do it.  We'll explain this code later."
      ]
    },
    {
      "cell_type": "code",
      "execution_count": null,
      "metadata": {
        "id": "UaR89B7l96ra"
      },
      "outputs": [],
      "source": [
        "def gather_cities():\n",
        "    url = 'https://en.wikipedia.org/wiki/List_of_United_States_cities_by_population'\n",
        "    tables = pd.read_html(url)\n",
        "    cities_table = tables[4]\n",
        "    cities = cities_table.to_dict('records')\n",
        "    return cities"
      ]
    },
    {
      "cell_type": "markdown",
      "metadata": {
        "id": "4O1vw1Eq96rb"
      },
      "source": [
        "Now that it's in a function, we can execute this code whenever like.  We do so by typing the name of the function followed by parentheses `function_name()`.  \n",
        "\n",
        "> Want to go to Wikipedia and scrape the webpage?  Coming right up."
      ]
    },
    {
      "cell_type": "code",
      "execution_count": null,
      "metadata": {
        "colab": {
          "base_uri": "https://localhost:8080/"
        },
        "id": "Tcw0u54696rb",
        "outputId": "f863be77-2316-4ea4-be43-9f92dddaf19a"
      },
      "outputs": [
        {
          "output_type": "execute_result",
          "data": {
            "text/plain": [
              "[{'2022 rank': 1,\n",
              "  'City': 'New York[d]',\n",
              "  'State[c]': 'New York',\n",
              "  '2022 estimate': 8335897,\n",
              "  '2020 census': 8804190,\n",
              "  'Change': '−5.32%',\n",
              "  '2020 land area': '300.5\\xa0sq\\xa0mi',\n",
              "  '2020 land area.1': '778.3\\xa0km2',\n",
              "  '2020 population density': '29,298/sq\\xa0mi',\n",
              "  '2020 population density.1': '11,312/km2',\n",
              "  'Location': '.mw-parser-output .geo-default,.mw-parser-output .geo-dms,.mw-parser-output .geo-dec{display:inline}.mw-parser-output .geo-nondefault,.mw-parser-output .geo-multi-punct,.mw-parser-output .geo-inline-hidden{display:none}.mw-parser-output .longitude,.mw-parser-output .latitude{white-space:nowrap}40°40′N 73°56′W\\ufeff / \\ufeff40.66°N 73.94°W'}]"
            ]
          },
          "metadata": {},
          "execution_count": 7
        }
      ],
      "source": [
        "collected_cities = gather_cities()\n",
        "collected_cities[:1]"
      ]
    },
    {
      "cell_type": "markdown",
      "metadata": {
        "id": "nSukWe6696rc"
      },
      "source": [
        "So you can see that we were able to store our procedure of collecting city information in our `gather_cities` function."
      ]
    },
    {
      "cell_type": "markdown",
      "metadata": {
        "id": "Fjy7w1mT96re"
      },
      "source": [
        "This is very useful, because it allows us to think of our programs as tasks.  For example, first gather the list of cities, then select the names and populations, and then plot our data.  \n",
        "\n",
        "> Remember we said a lot of coding is breaking things into steps?  Functions are a great way to do that.\n",
        "\n",
        "Ok, let's learn how to write a function."
      ]
    },
    {
      "cell_type": "markdown",
      "metadata": {
        "id": "jPUiK2EH96rf"
      },
      "source": [
        "### Function mechanics"
      ]
    },
    {
      "cell_type": "markdown",
      "metadata": {
        "id": "SuXWDaj496rf"
      },
      "source": [
        "Working with functions involves two steps:\n",
        "1. Defining our function\n",
        "2. Then executing our function."
      ]
    },
    {
      "cell_type": "markdown",
      "metadata": {
        "id": "P2auPORn96rf"
      },
      "source": [
        "* Defining our function"
      ]
    },
    {
      "cell_type": "markdown",
      "metadata": {
        "id": "0BkNEkq296rf"
      },
      "source": [
        "We define our function with the following pattern."
      ]
    },
    {
      "cell_type": "code",
      "execution_count": null,
      "metadata": {
        "id": "dEIhftIQ96rg"
      },
      "outputs": [],
      "source": [
        "def function_name():\n",
        "    return 'data'"
      ]
    },
    {
      "cell_type": "markdown",
      "metadata": {
        "id": "9JcsV2KY96rh"
      },
      "source": [
        "> Press shift + enter on the cell above.  And then the cell below."
      ]
    },
    {
      "cell_type": "markdown",
      "metadata": {
        "id": "eijjQyUQ96rh"
      },
      "source": [
        "Notice that when we define a function, we do not see an output.  This is similar to how we do not see an output when we assign a variable.  We need to execute the function to see an output.  \n",
        "\n",
        "> Press shift + enter on the cell below."
      ]
    },
    {
      "cell_type": "code",
      "execution_count": null,
      "metadata": {
        "colab": {
          "base_uri": "https://localhost:8080/",
          "height": 35
        },
        "id": "UqjuyjvM96ri",
        "outputId": "27f4f178-2740-459f-ea29-6463f8eeda21"
      },
      "outputs": [
        {
          "output_type": "execute_result",
          "data": {
            "text/plain": [
              "'data'"
            ],
            "application/vnd.google.colaboratory.intrinsic+json": {
              "type": "string"
            }
          },
          "metadata": {},
          "execution_count": 9
        }
      ],
      "source": [
        "function_name()"
      ]
    },
    {
      "cell_type": "markdown",
      "metadata": {
        "id": "G9bg0IDa96ri"
      },
      "source": [
        "Let's focus in on the first line where we defined our function: `def function_name():`."
      ]
    },
    {
      "cell_type": "markdown",
      "metadata": {
        "id": "_DqRaA9h96ri"
      },
      "source": [
        "* `def` is how we tell Python we are about to define a function.\n",
        "* The `function_name` is how we'll refer to the function.\n",
        "* And then we end our first line with parentheses and a colon `():`."
      ]
    },
    {
      "cell_type": "markdown",
      "metadata": {
        "id": "wCwDK9KC96ri"
      },
      "source": [
        "Now it's your turn.  Define a function called `collect_data`.  We wrote the second line `return data` for you."
      ]
    },
    {
      "cell_type": "code",
      "execution_count": null,
      "metadata": {
        "id": "H7S2EQPs96ri"
      },
      "outputs": [],
      "source": [
        "# write code here\n",
        "\n",
        "def collect_data():\n",
        "    return 'data'"
      ]
    },
    {
      "cell_type": "markdown",
      "metadata": {
        "id": "_roUdW2J96rj"
      },
      "source": [
        "> **You can check** that you did it correctly by pressing `shift + return` on the cell above, **and then** on the cell below.  If you did it correctly, you will see the word data.  "
      ]
    },
    {
      "cell_type": "code",
      "execution_count": null,
      "metadata": {
        "colab": {
          "base_uri": "https://localhost:8080/",
          "height": 35
        },
        "id": "AajTK54U96rj",
        "outputId": "cf894f48-331d-47cc-dfc5-e71e78e50dbf"
      },
      "outputs": [
        {
          "output_type": "execute_result",
          "data": {
            "text/plain": [
              "'data'"
            ],
            "application/vnd.google.colaboratory.intrinsic+json": {
              "type": "string"
            }
          },
          "metadata": {},
          "execution_count": 11
        }
      ],
      "source": [
        "collect_data()\n",
        "# 'data'"
      ]
    },
    {
      "cell_type": "markdown",
      "metadata": {
        "id": "R1Kwyr3R96rj"
      },
      "source": [
        "Ok, so we just saw how to write the first line of a function.  Now let's talk about that second line `return 'data'`."
      ]
    },
    {
      "cell_type": "code",
      "execution_count": null,
      "metadata": {
        "id": "TfXHyCQL96rj"
      },
      "outputs": [],
      "source": [
        "def function_name():\n",
        "    return 'data'"
      ]
    },
    {
      "cell_type": "markdown",
      "metadata": {
        "id": "c7AAttCd96rk"
      },
      "source": [
        "There middle of the function is called the body of the function.  Below `greeting` and `name` are in the body of the function.  The body of the function can be as long as we like.  But it's best to keep our functions under five lines (excluding the function name)."
      ]
    },
    {
      "cell_type": "markdown",
      "metadata": {
        "id": "8VjzqbBu96rk"
      },
      "source": [
        "### Functions are a dungeon"
      ]
    },
    {
      "cell_type": "markdown",
      "metadata": {
        "id": "tzihKkO596rk"
      },
      "source": [
        "There is something interesting about functions. Functions trap everything inside of them, like the walls of a dungeon."
      ]
    },
    {
      "cell_type": "code",
      "execution_count": null,
      "metadata": {
        "id": "3961dHyV96rk"
      },
      "outputs": [],
      "source": [
        "def function_name():\n",
        "    greeting = 'hello'\n",
        "    name = 'susan'"
      ]
    },
    {
      "cell_type": "markdown",
      "metadata": {
        "id": "EnIrniIm96rl"
      },
      "source": [
        "> Press shift + enter on the cells above and below.  We'll see that the cell below results in an error."
      ]
    },
    {
      "cell_type": "code",
      "execution_count": null,
      "metadata": {
        "colab": {
          "base_uri": "https://localhost:8080/",
          "height": 176
        },
        "id": "KLoPRg1W96rm",
        "outputId": "847b48f3-6799-4518-da14-6b197149ff6d"
      },
      "outputs": [
        {
          "output_type": "error",
          "ename": "NameError",
          "evalue": "ignored",
          "traceback": [
            "\u001b[0;31m---------------------------------------------------------------------------\u001b[0m",
            "\u001b[0;31mNameError\u001b[0m                                 Traceback (most recent call last)",
            "\u001b[0;32m<ipython-input-14-a0f7c5a79f7f>\u001b[0m in \u001b[0;36m<cell line: 1>\u001b[0;34m()\u001b[0m\n\u001b[0;32m----> 1\u001b[0;31m \u001b[0mgreeting\u001b[0m\u001b[0;34m\u001b[0m\u001b[0;34m\u001b[0m\u001b[0m\n\u001b[0m",
            "\u001b[0;31mNameError\u001b[0m: name 'greeting' is not defined"
          ]
        }
      ],
      "source": [
        "greeting"
      ]
    },
    {
      "cell_type": "markdown",
      "metadata": {
        "id": "KB9WvtLU96ro"
      },
      "source": [
        "So you'll see that even though we defined the variable greeting above, it is not available.  This is because it is only available inside the walls of the function."
      ]
    },
    {
      "cell_type": "markdown",
      "metadata": {
        "id": "feirQWxH96ro"
      },
      "source": [
        "To get to be released from the function, we must catapult a value over the walls with the word `return` followed by what we want returned."
      ]
    },
    {
      "cell_type": "code",
      "execution_count": null,
      "metadata": {
        "id": "AhTmfoFu96ru"
      },
      "outputs": [],
      "source": [
        "def function_name():\n",
        "    greeting = 'hello'\n",
        "    name = 'susan'\n",
        "    return name"
      ]
    },
    {
      "cell_type": "code",
      "execution_count": null,
      "metadata": {
        "colab": {
          "base_uri": "https://localhost:8080/",
          "height": 35
        },
        "id": "bdtcfVnb96ru",
        "outputId": "7d697446-daff-4269-8db5-a0ee39cb8028"
      },
      "outputs": [
        {
          "output_type": "execute_result",
          "data": {
            "text/plain": [
              "'susan'"
            ],
            "application/vnd.google.colaboratory.intrinsic+json": {
              "type": "string"
            }
          },
          "metadata": {},
          "execution_count": 16
        }
      ],
      "source": [
        "function_name()"
      ]
    },
    {
      "cell_type": "markdown",
      "metadata": {
        "id": "aHbYjtif96rv"
      },
      "source": [
        "So now, `susan` was thrown over the walls of the function."
      ]
    },
    {
      "cell_type": "markdown",
      "metadata": {
        "id": "709L16Tq96rv"
      },
      "source": [
        "> Notice that the inside of the code must be tabbed.  Or there must be two spaces for each line.  The indentation is how we indicate that something is inside of the function."
      ]
    },
    {
      "cell_type": "code",
      "execution_count": null,
      "metadata": {
        "id": "e_Lx3pwy96rv"
      },
      "outputs": [],
      "source": [
        "def function_name():\n",
        "    trapped_inside = 'hello'\n",
        "    catapulted_over = 'susan'\n",
        "    return catapulted_over"
      ]
    },
    {
      "cell_type": "markdown",
      "metadata": {
        "id": "H8YLMQCK96rv"
      },
      "source": [
        "So that is our pattern for a function."
      ]
    },
    {
      "cell_type": "code",
      "execution_count": null,
      "metadata": {
        "id": "u9LRGyk196rw"
      },
      "outputs": [],
      "source": [
        "def function_name():\n",
        "    body_of_function = 'hello'\n",
        "    return body_of_function + ' world'"
      ]
    },
    {
      "cell_type": "code",
      "execution_count": null,
      "metadata": {
        "colab": {
          "base_uri": "https://localhost:8080/",
          "height": 35
        },
        "id": "hyhDEGE_96rw",
        "outputId": "2188e624-a754-4980-c741-6268f09b7aa8"
      },
      "outputs": [
        {
          "output_type": "execute_result",
          "data": {
            "text/plain": [
              "'hello world'"
            ],
            "application/vnd.google.colaboratory.intrinsic+json": {
              "type": "string"
            }
          },
          "metadata": {},
          "execution_count": 19
        }
      ],
      "source": [
        "function_name()"
      ]
    },
    {
      "cell_type": "markdown",
      "metadata": {
        "id": "ynq3g6Jl96rw"
      },
      "source": [
        "Now, in the cell below, write a function called `catapult` that returns the word `slime`."
      ]
    },
    {
      "cell_type": "code",
      "execution_count": null,
      "metadata": {
        "id": "JuFYPRDK96rx"
      },
      "outputs": [],
      "source": [
        "# write function here\n",
        "def catapult():\n",
        "  return 'slime'"
      ]
    },
    {
      "cell_type": "code",
      "execution_count": null,
      "metadata": {
        "colab": {
          "base_uri": "https://localhost:8080/",
          "height": 35
        },
        "id": "vohtDQMt96rx",
        "outputId": "994331e7-9da8-4368-b2e1-a7dbe99b3682"
      },
      "outputs": [
        {
          "output_type": "execute_result",
          "data": {
            "text/plain": [
              "'slime'"
            ],
            "application/vnd.google.colaboratory.intrinsic+json": {
              "type": "string"
            }
          },
          "metadata": {},
          "execution_count": 21
        }
      ],
      "source": [
        "catapult()\n",
        "# slime"
      ]
    },
    {
      "cell_type": "markdown",
      "metadata": {
        "id": "lV1lZLBx96rx"
      },
      "source": [
        "## Back to our project"
      ]
    },
    {
      "cell_type": "markdown",
      "metadata": {
        "id": "Ano5AGzt96rx"
      },
      "source": [
        "Ok, so how can this help us?  Well functions allow us to store an entire procedure, and then name that procedure.  Once written, we can largely forget about how the function works.  \n",
        "\n",
        "All we care about is what the function does, which is execute a procedure and then throw something over the walls.\n",
        "\n",
        "So we can think of function like our cellphone: we only need to know how the wires underneath work when something breaks.  Otherwise, we can just call the function and get an output."
      ]
    },
    {
      "cell_type": "markdown",
      "metadata": {
        "id": "tefK0y4696ry"
      },
      "source": [
        "Ok, so let's wrap some more code in functions, so that we can move more into the push button, get an output mode.\n",
        "\n",
        "To do so, we wrap our ordinary code with the beginning line `def name_of_function():`.  And we end our function with returning an output."
      ]
    },
    {
      "cell_type": "markdown",
      "metadata": {
        "id": "97GW1tsJ96ry"
      },
      "source": [
        "> Here is our original code."
      ]
    },
    {
      "cell_type": "code",
      "execution_count": null,
      "metadata": {
        "id": "r2Z2jZyT96ry"
      },
      "outputs": [],
      "source": [
        "url = 'https://en.wikipedia.org/wiki/List_of_United_States_cities_by_population'\n",
        "tables = pd.read_html(url)\n",
        "cities_table = tables[4]\n",
        "cities = cities_table.to_dict('records')"
      ]
    },
    {
      "cell_type": "markdown",
      "metadata": {
        "id": "fxyvhgza96rz"
      },
      "source": [
        "> And here is that code wrapped in a function."
      ]
    },
    {
      "cell_type": "code",
      "execution_count": null,
      "metadata": {
        "id": "ct5kF_hd96rz"
      },
      "outputs": [],
      "source": [
        "def gather_cities():\n",
        "    url = 'https://en.wikipedia.org/wiki/List_of_United_States_cities_by_population'\n",
        "    tables = pd.read_html(url)\n",
        "    cities_table = tables[4]\n",
        "    cities = cities_table.to_dict('records')\n",
        "    return cities"
      ]
    },
    {
      "cell_type": "code",
      "execution_count": null,
      "metadata": {
        "colab": {
          "base_uri": "https://localhost:8080/"
        },
        "id": "yUZL7rZl96rz",
        "outputId": "30b1e71e-1c4a-473e-ddb0-21e23c2a074a"
      },
      "outputs": [
        {
          "output_type": "execute_result",
          "data": {
            "text/plain": [
              "[{'2022 rank': 1,\n",
              "  'City': 'New York[d]',\n",
              "  'State[c]': 'New York',\n",
              "  '2022 estimate': 8335897,\n",
              "  '2020 census': 8804190,\n",
              "  'Change': '−5.32%',\n",
              "  '2020 land area': '300.5\\xa0sq\\xa0mi',\n",
              "  '2020 land area.1': '778.3\\xa0km2',\n",
              "  '2020 population density': '29,298/sq\\xa0mi',\n",
              "  '2020 population density.1': '11,312/km2',\n",
              "  'Location': '.mw-parser-output .geo-default,.mw-parser-output .geo-dms,.mw-parser-output .geo-dec{display:inline}.mw-parser-output .geo-nondefault,.mw-parser-output .geo-multi-punct,.mw-parser-output .geo-inline-hidden{display:none}.mw-parser-output .longitude,.mw-parser-output .latitude{white-space:nowrap}40°40′N 73°56′W\\ufeff / \\ufeff40.66°N 73.94°W'}]"
            ]
          },
          "metadata": {},
          "execution_count": 24
        }
      ],
      "source": [
        "cities = gather_cities()\n",
        "cities[:1]"
      ]
    },
    {
      "cell_type": "markdown",
      "metadata": {
        "id": "cUpAZgQP96r0"
      },
      "source": [
        "Your turn."
      ]
    },
    {
      "cell_type": "markdown",
      "metadata": {
        "id": "lsN2IWo496r0"
      },
      "source": [
        "This time we'll work with the `for loop` that turns our list of dictionaries into a list of populations.  Below we'll create a new function called `get_populations`, that returns the list of the `populations`."
      ]
    },
    {
      "cell_type": "markdown",
      "metadata": {
        "id": "vIREpMG896r4"
      },
      "source": [
        "Do so in the following steps:  "
      ]
    },
    {
      "cell_type": "markdown",
      "metadata": {
        "id": "3uM-KrMW96r5"
      },
      "source": [
        "1. Start at the top of the cell, and hold down your cursor dragging until the bottom of the cell, so that the entire cell turns purple.  Then press `tab` to indent the code.\n",
        "\n",
        "2. Now we need another line at the top to define our function.  Place your cursor touching the `p` in `populations = []` and press enter.\n",
        "\n",
        "3. In the new line that we created above the statement `populations = []`, write the name of the function beginning with `def` and ending with `():` and named `get_populations`.  Remember that our first line **should not** be tabbed in.  In other words, the `d` of `def` should be touching the border of our gray cell.\n",
        "\n",
        "4. Then end your function with the return value."
      ]
    },
    {
      "cell_type": "code",
      "execution_count": null,
      "metadata": {
        "colab": {
          "base_uri": "https://localhost:8080/"
        },
        "id": "KVuky5DW96r7",
        "outputId": "f352430f-4ee7-4a2f-d9f2-cd7d1fcf8d32"
      },
      "outputs": [
        {
          "output_type": "execute_result",
          "data": {
            "text/plain": [
              "[8804190, 3898747, 2746388, 2304580, 1608139]"
            ]
          },
          "metadata": {},
          "execution_count": 29
        }
      ],
      "source": [
        "pops = get_populations()\n",
        "pops"
      ]
    },
    {
      "cell_type": "code",
      "execution_count": null,
      "metadata": {
        "id": "YfiF9Rb696r6"
      },
      "outputs": [],
      "source": [
        "def get_populations():\n",
        "\n",
        "  populations = []\n",
        "\n",
        "  for city in cities:\n",
        "      city_pop = city['2020 census']\n",
        "      populations.append(city_pop)\n",
        "  return populations[:5]"
      ]
    },
    {
      "cell_type": "markdown",
      "metadata": {
        "id": "5vEL66Ec96r7"
      },
      "source": [
        "Now do the same thing with the next block of code.  Write a function called `get_names` that returns the list of `city_names`."
      ]
    },
    {
      "cell_type": "code",
      "execution_count": null,
      "metadata": {
        "id": "pkSwuZwW96r7"
      },
      "outputs": [],
      "source": [
        "def get_names():\n",
        "  city_names = []\n",
        "\n",
        "  for city in cities:\n",
        "      city_name = city['City']\n",
        "      city_names.append(city_name)\n",
        "  return city_names[:5]"
      ]
    },
    {
      "cell_type": "code",
      "execution_count": null,
      "metadata": {
        "colab": {
          "base_uri": "https://localhost:8080/"
        },
        "id": "b1FPhN8r96r8",
        "outputId": "8b8d1432-74aa-4b47-ece9-9ddaff9d5843"
      },
      "outputs": [
        {
          "output_type": "execute_result",
          "data": {
            "text/plain": [
              "['New York[d]', 'Los Angeles']"
            ]
          },
          "metadata": {},
          "execution_count": 32
        }
      ],
      "source": [
        "names = get_names()\n",
        "names[:2]"
      ]
    },
    {
      "cell_type": "markdown",
      "metadata": {
        "id": "lpbJK3OX96r8"
      },
      "source": [
        "## Wrapping Up"
      ]
    },
    {
      "cell_type": "markdown",
      "metadata": {
        "id": "_GmxDs2F96r9"
      },
      "source": [
        "When were finished with our code, our function definitions will look like the following."
      ]
    },
    {
      "cell_type": "code",
      "execution_count": null,
      "metadata": {
        "id": "NNHguqhz96r9"
      },
      "outputs": [],
      "source": [
        "import pandas as pd\n",
        "def gather_cities():\n",
        "    url = 'https://en.wikipedia.org/wiki/List_of_United_States_cities_by_population'\n",
        "    tables = pd.read_html(url)\n",
        "    cities_table = tables[4]\n",
        "    cities = cities_table.to_dict('records')\n",
        "    return cities\n",
        "\n",
        "def get_populations():\n",
        "    populations = []\n",
        "\n",
        "    for city in cities:\n",
        "        city_pop = city['2020 census']\n",
        "        populations.append(city_pop)\n",
        "    return populations\n",
        "\n",
        "def get_names():\n",
        "    city_names = []\n",
        "\n",
        "    for city in cities:\n",
        "        city_name = city['City']\n",
        "        city_names.append(city_name)\n",
        "    return city_names"
      ]
    },
    {
      "cell_type": "markdown",
      "metadata": {
        "id": "2XRLu0zJ96r9"
      },
      "source": [
        "And we can call all of our code in just a few lines."
      ]
    },
    {
      "cell_type": "code",
      "execution_count": null,
      "metadata": {
        "id": "G_Y6cynS96r-"
      },
      "outputs": [],
      "source": [
        "cities = gather_cities()\n",
        "pops = get_populations()\n",
        "city_names = get_names()"
      ]
    },
    {
      "cell_type": "code",
      "execution_count": null,
      "metadata": {
        "colab": {
          "base_uri": "https://localhost:8080/"
        },
        "id": "SwbHnBGw96r-",
        "outputId": "d51d502a-22f2-4d43-e640-938bb658938a"
      },
      "outputs": [
        {
          "output_type": "execute_result",
          "data": {
            "text/plain": [
              "[8804190, 3898747]"
            ]
          },
          "metadata": {},
          "execution_count": 37
        }
      ],
      "source": [
        "pops[:2]"
      ]
    },
    {
      "cell_type": "code",
      "execution_count": null,
      "metadata": {
        "colab": {
          "base_uri": "https://localhost:8080/"
        },
        "id": "CZvmq3KD96r-",
        "outputId": "da086d06-91fc-4c1a-a048-14e6d69588c5"
      },
      "outputs": [
        {
          "output_type": "execute_result",
          "data": {
            "text/plain": [
              "['New York[d]', 'Los Angeles']"
            ]
          },
          "metadata": {},
          "execution_count": 38
        }
      ],
      "source": [
        "city_names[:2]"
      ]
    },
    {
      "cell_type": "markdown",
      "metadata": {
        "id": "qv602ng996r-"
      },
      "source": [
        "## Summary"
      ]
    },
    {
      "cell_type": "markdown",
      "metadata": {
        "id": "3YnC_sbu96r_"
      },
      "source": [
        "In this lesson, we learned about functions.  We saw that functions allow us to save a procedure underneath the walls of a function.  We do so with the following pattern."
      ]
    },
    {
      "cell_type": "markdown",
      "metadata": {
        "id": "3_6Nwz2m96r_"
      },
      "source": [
        "```python\n",
        "def function_name():\n",
        "    body_of_function = 'hello'\n",
        "    return body_of_function + ' world'\n",
        "```"
      ]
    },
    {
      "cell_type": "markdown",
      "metadata": {
        "id": "3lsp_rDP96r_"
      },
      "source": [
        "Once we define the function, then we can execute the function with the `function_name()` and we are given the return value of the function.\n",
        "\n",
        "Functions give names to our complicated code, and allow us to summarize complicated code in just a few steps."
      ]
    },
    {
      "cell_type": "markdown",
      "metadata": {
        "id": "X1eIbWbE96r_"
      },
      "source": [
        "```python\n",
        "cities = gather_cities()\n",
        "pops = get_populations()\n",
        "city_names = get_city_names()\n",
        "```"
      ]
    },
    {
      "cell_type": "markdown",
      "metadata": {
        "id": "MDRKVo6w96r_"
      },
      "source": [
        "### References"
      ]
    },
    {
      "cell_type": "markdown",
      "metadata": {
        "id": "MnuuL7uJ96sA"
      },
      "source": [
        "Credit to [John Resig](https://johnresig.com/) for the catapult analogy, and for a bunch of other amazing things."
      ]
    },
    {
      "cell_type": "markdown",
      "metadata": {
        "id": "XG6udUxD96sA"
      },
      "source": [
        "<right>\n",
        "<a href=\"https://colab.research.google.com/github/jigsawlabs-student/code-intro/blob/master/12-function-arguments.ipynb\">\n",
        "<img src=\"https://github.com/jigsawlabs-student/code-intro/blob/master/next-yellow.jpg?raw=1\" align=\"right\" style=\"padding-right: 20px\" width=\"10%\">\n",
        "    </a>\n",
        "</right>"
      ]
    },
    {
      "cell_type": "markdown",
      "metadata": {
        "id": "cvJ7EFDl96sA"
      },
      "source": [
        "<center>\n",
        "<a href=\"https://www.jigsawlabs.io\" style=\"position: center\"><img src=\"https://github.com/jigsawlabs-student/code-intro/blob/master/jigsaw-icon.png?raw=1\" width=\"15%\" style=\"text-align: center\"></a>\n",
        "</center>"
      ]
    },
    {
      "cell_type": "markdown",
      "metadata": {
        "id": "EF3F7NxR96sA"
      },
      "source": [
        "### Answers"
      ]
    },
    {
      "cell_type": "code",
      "execution_count": null,
      "metadata": {
        "id": "m6MjXx0496sA"
      },
      "outputs": [],
      "source": [
        "def collect_data():\n",
        "    return 'data'"
      ]
    },
    {
      "cell_type": "code",
      "execution_count": null,
      "metadata": {
        "id": "b-7iVMmk96sB"
      },
      "outputs": [],
      "source": [
        "def catapult():\n",
        "    return 'slime'"
      ]
    },
    {
      "cell_type": "code",
      "execution_count": null,
      "metadata": {
        "id": "PFtgVJRO96sB"
      },
      "outputs": [],
      "source": [
        "def get_populations():\n",
        "    populations = []\n",
        "\n",
        "    for each_city in cities:\n",
        "        city_pop = each_city['2022 estimate']\n",
        "        populations.append(city_pop)\n",
        "    return populations"
      ]
    },
    {
      "cell_type": "code",
      "execution_count": null,
      "metadata": {
        "colab": {
          "base_uri": "https://localhost:8080/"
        },
        "id": "DvEYiGeL96sB",
        "outputId": "c5f2fd22-c252-4efa-9428-f5a8545789b3"
      },
      "outputs": [
        {
          "output_type": "execute_result",
          "data": {
            "text/plain": [
              "[8335897, 3822238]"
            ]
          },
          "metadata": {},
          "execution_count": 47
        }
      ],
      "source": [
        "get_populations()[:2]"
      ]
    },
    {
      "cell_type": "code",
      "execution_count": null,
      "metadata": {
        "id": "Ap4Q5_HG96sB"
      },
      "outputs": [],
      "source": [
        "def get_names():\n",
        "    city_names = []\n",
        "\n",
        "    for each_city in cities:\n",
        "        city_name = each_city['City']\n",
        "        city_names.append(city_name)\n",
        "    return city_names"
      ]
    },
    {
      "cell_type": "code",
      "execution_count": null,
      "metadata": {
        "colab": {
          "base_uri": "https://localhost:8080/"
        },
        "id": "e4QSWIhD96sB",
        "outputId": "b7a998b0-6573-4a21-ea34-f0ce3326bb11"
      },
      "outputs": [
        {
          "output_type": "execute_result",
          "data": {
            "text/plain": [
              "['New York[d]', 'Los Angeles']"
            ]
          },
          "metadata": {},
          "execution_count": 49
        }
      ],
      "source": [
        "get_names()[:2]"
      ]
    },
    {
      "cell_type": "code",
      "execution_count": null,
      "metadata": {
        "id": "FmE4wbUY96sC"
      },
      "outputs": [],
      "source": []
    }
  ],
  "metadata": {
    "kernelspec": {
      "display_name": "Python 3 (ipykernel)",
      "language": "python",
      "name": "python3"
    },
    "language_info": {
      "codemirror_mode": {
        "name": "ipython",
        "version": 3
      },
      "file_extension": ".py",
      "mimetype": "text/x-python",
      "name": "python",
      "nbconvert_exporter": "python",
      "pygments_lexer": "ipython3",
      "version": "3.10.6"
    },
    "colab": {
      "provenance": [],
      "include_colab_link": true
    }
  },
  "nbformat": 4,
  "nbformat_minor": 0
}