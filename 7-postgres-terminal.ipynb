{
  "cells": [
    {
      "cell_type": "markdown",
      "metadata": {
        "id": "view-in-github",
        "colab_type": "text"
      },
      "source": [
        "<a href=\"https://colab.research.google.com/github/Komal77rao/Data-Eng-Modules/blob/main/7-postgres-terminal.ipynb\" target=\"_parent\"><img src=\"https://colab.research.google.com/assets/colab-badge.svg\" alt=\"Open In Colab\"/></a>"
      ]
    },
    {
      "cell_type": "markdown",
      "metadata": {
        "id": "dfcQu2V8gF87"
      },
      "source": [
        "# Postgres Terminal"
      ]
    },
    {
      "cell_type": "markdown",
      "metadata": {
        "id": "JpzTYb2egF9d"
      },
      "source": [
        "### Introduction"
      ]
    },
    {
      "cell_type": "markdown",
      "metadata": {
        "id": "0mLYzygrgF9e"
      },
      "source": [
        "In this lesson, we'll learn more about which postgres commands and options we have access to before we even get into the psql shell."
      ]
    },
    {
      "cell_type": "markdown",
      "metadata": {
        "id": "M3m-WlCygF9f"
      },
      "source": [
        "### Executing Postgres Commands Through Files"
      ]
    },
    {
      "cell_type": "markdown",
      "metadata": {
        "id": "3fkUSgg5gF9g"
      },
      "source": [
        "To begin, let's see the list of postgres commands available from the terminal in general:\n",
        "\n",
        "`psql --help`"
      ]
    },
    {
      "cell_type": "markdown",
      "metadata": {
        "id": "IjkAuRKNgF9h"
      },
      "source": [
        "<img src=\"https://github.com/sql-fundamentals-jigsaw/postgres-curriculum/blob/master/psql-terminal-help.png?raw=1\">"
      ]
    },
    {
      "cell_type": "markdown",
      "metadata": {
        "id": "XcJZmv1bgF9i"
      },
      "source": [
        "Now, let's say that we want connect to the postgres shell directly as a user.  We can see under `Usage:` above, that the format is `psql dbname username`.  We can also specify the user with the -U flag.  \n",
        "\n",
        "Let's give it a shot."
      ]
    },
    {
      "cell_type": "markdown",
      "metadata": {
        "id": "gf2AEWWtgF9m"
      },
      "source": [
        "`psql practice -U postgres`"
      ]
    },
    {
      "cell_type": "markdown",
      "metadata": {
        "id": "5UM4sZmmgF9n"
      },
      "source": [
        "> So above, we login to the practice database as the postgres user."
      ]
    },
    {
      "cell_type": "markdown",
      "metadata": {
        "id": "4XvqfCrqgF90"
      },
      "source": [
        "In addition, we can also use the `-d` flag to specify that we are referring to the database."
      ]
    },
    {
      "cell_type": "markdown",
      "metadata": {
        "id": "LcbdvKKwgF94"
      },
      "source": [
        "`psql -U postgres -d practice`"
      ]
    },
    {
      "cell_type": "markdown",
      "metadata": {
        "id": "P4ifTb_qgF94"
      },
      "source": [
        "> Notice that where we specify a flag for each argument, the order of the arguments does not matter."
      ]
    },
    {
      "cell_type": "markdown",
      "metadata": {
        "id": "MVwd0d0lgF95"
      },
      "source": [
        "### Executing Files From the Terminal"
      ]
    },
    {
      "cell_type": "markdown",
      "metadata": {
        "id": "Lplro8N6gF96"
      },
      "source": [
        "Now let's see how to execute one of our `.sql` files from the bash terminal.  For example, if we have a file named `create_orders.sql`, we can execute that file with the following:"
      ]
    },
    {
      "cell_type": "markdown",
      "metadata": {
        "id": "-hILI0KCgF96"
      },
      "source": [
        "> `psql practice -U postgres -f create_orders.sql`"
      ]
    },
    {
      "cell_type": "markdown",
      "metadata": {
        "id": "BGdnKViSgF97"
      },
      "source": [
        "So we specify that on the `practice` db, as the `postgres` user, to execute a the `create_order.sql`file."
      ]
    },
    {
      "cell_type": "markdown",
      "metadata": {
        "id": "99P9pNzwgF98"
      },
      "source": [
        "And if we wish to display the contents of the sql file as we perform the execution, we can use the `-a` command."
      ]
    },
    {
      "cell_type": "markdown",
      "metadata": {
        "id": "36TbzwThgF9-"
      },
      "source": [
        "`psql -a -d practice -U postgres -f  create_orders.sql`\n",
        "\n",
        "`CREATE TABLE IF NOT EXISTS orders (\n",
        "  id serial PRIMARY KEY,\n",
        "  user_id INT,\n",
        "  FOREIGN KEY (user_id)\n",
        "      REFERENCES users (user_id)\n",
        ")`"
      ]
    },
    {
      "cell_type": "markdown",
      "metadata": {
        "id": "rQqmEZ1tgF9_"
      },
      "source": [
        "So above, by providing the `-a` flag, we return the contents of the file."
      ]
    },
    {
      "cell_type": "markdown",
      "metadata": {
        "id": "XCFvyNuIgF-A"
      },
      "source": [
        "### Issuing Commands"
      ]
    },
    {
      "cell_type": "markdown",
      "metadata": {
        "id": "mGkh7mFEgF-A"
      },
      "source": [
        "Now we can also call a user command without logging into the shell with the `-c` flag.  Here's an example."
      ]
    },
    {
      "cell_type": "markdown",
      "metadata": {
        "id": "MgBrcQ1NgF-B"
      },
      "source": [
        "```SQL\n",
        "psql -d practice -U postgres -c \"SELECT * FROM users;\"`\n",
        "\n",
        " user_id\n",
        "---------\n",
        "(0 rows)\n",
        "```"
      ]
    },
    {
      "cell_type": "markdown",
      "metadata": {
        "id": "nb1PtzBRgF-B"
      },
      "source": [
        "And this will work with any SQL commmand.  For example, here we'll list all of the tables in our practice database."
      ]
    },
    {
      "cell_type": "markdown",
      "metadata": {
        "id": "wqUmKH-egF-B"
      },
      "source": [
        "`psql -a -d practice -U postgres -c \"\\dt\"`"
      ]
    },
    {
      "cell_type": "markdown",
      "metadata": {
        "id": "ka7BmgNjgF-B"
      },
      "source": [
        "```\n",
        "List of relations\n",
        " Schema |  Name  | Type  |  Owner\n",
        "--------+--------+-------+----------\n",
        " public | orders | table | postgres\n",
        " public | users  | table | postgres\n",
        "(2 rows)\n",
        "```"
      ]
    },
    {
      "cell_type": "markdown",
      "metadata": {
        "id": "jtu3kXuFgF-C"
      },
      "source": [
        "Finally, let's say that we want to execute a command without postgres then asking us for the password.  Well we can avoid this by specifying the postgres password as we execute the command.  Here, before we state the postgres statement, we first specify the password with `PGPASSWORD=`."
      ]
    },
    {
      "cell_type": "markdown",
      "metadata": {
        "id": "fqufgFfIgF-D"
      },
      "source": [
        "`PGPASSWORD=postgres psql -U postgres -d practice -c \"\\dt\"`"
      ]
    },
    {
      "cell_type": "markdown",
      "metadata": {
        "id": "T9CA1s_4gF-D"
      },
      "source": [
        "```\n",
        "List of relations\n",
        " Schema |  Name  | Type  |  Owner\n",
        "--------+--------+-------+----------\n",
        " public | orders | table | postgres\n",
        " public | users  | table | postgres\n",
        "(2 rows)\n",
        "```"
      ]
    },
    {
      "cell_type": "markdown",
      "metadata": {
        "id": "YFqaIbR8gF-G"
      },
      "source": [
        "And thus we login as the postgres user, and see the list of tables on the postgres database in one fell swoop."
      ]
    },
    {
      "cell_type": "markdown",
      "metadata": {
        "id": "aK-6W_RtgF-G"
      },
      "source": [
        "### Summary"
      ]
    },
    {
      "cell_type": "markdown",
      "metadata": {
        "id": "BAq1bsF8gF-H"
      },
      "source": [
        "In this lesson, we saw how to issue postgres commands from the terminal.  For example, we saw how to issue a specific command from the terminal while simultaneously providing a password with something like:"
      ]
    },
    {
      "cell_type": "markdown",
      "metadata": {
        "id": "PJVwhDXNgF-I"
      },
      "source": [
        "`PGPASSWORD=postgres psql -U postgres -d practice -c \"\\dt\"`"
      ]
    },
    {
      "cell_type": "markdown",
      "metadata": {
        "id": "WUdrri6CgF-I"
      },
      "source": [
        "And we saw how issue a command from a file and display the command in the file with:\n",
        "\n",
        "`psql -a -d practice -U postgres -f  create_orders.sql`"
      ]
    },
    {
      "cell_type": "markdown",
      "metadata": {
        "id": "n7niXIrDgF-I"
      },
      "source": [
        "### Resources\n",
        "\n",
        "[Postgres Files Object Rocket](https://kb.objectrocket.com/postgresql/how-to-run-an-sql-file-in-postgres-846)\n",
        "\n",
        "[PG exercises](https://pgexercises.com/)\n"
      ]
    },
    {
      "cell_type": "code",
      "execution_count": null,
      "metadata": {
        "id": "9k4iTWaSgF-J"
      },
      "outputs": [],
      "source": []
    }
  ],
  "metadata": {
    "kernelspec": {
      "display_name": "Python 3",
      "language": "python",
      "name": "python3"
    },
    "language_info": {
      "codemirror_mode": {
        "name": "ipython",
        "version": 3
      },
      "file_extension": ".py",
      "mimetype": "text/x-python",
      "name": "python",
      "nbconvert_exporter": "python",
      "pygments_lexer": "ipython3",
      "version": "3.8.3"
    },
    "colab": {
      "provenance": [],
      "include_colab_link": true
    }
  },
  "nbformat": 4,
  "nbformat_minor": 0
}