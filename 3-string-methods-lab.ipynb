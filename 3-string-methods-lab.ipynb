{
  "cells": [
    {
      "cell_type": "markdown",
      "metadata": {
        "id": "view-in-github",
        "colab_type": "text"
      },
      "source": [
        "<a href=\"https://colab.research.google.com/github/Komal77rao/Data-Eng-Modules/blob/main/3-string-methods-lab.ipynb\" target=\"_parent\"><img src=\"https://colab.research.google.com/assets/colab-badge.svg\" alt=\"Open In Colab\"/></a>"
      ]
    },
    {
      "cell_type": "markdown",
      "metadata": {
        "id": "omeJnEl6jo9h"
      },
      "source": [
        "# String Methods"
      ]
    },
    {
      "cell_type": "markdown",
      "metadata": {
        "id": "nffONY-rjo9s"
      },
      "source": [
        "### Loading our some data"
      ]
    },
    {
      "cell_type": "markdown",
      "metadata": {
        "id": "3z-IfO62jo9s"
      },
      "source": [
        "In this lesson, we'll work with data regarding Midwestern cities.  Now the data we'll be working with is available on [this Wikipedia page]('https://en.wikipedia.org/wiki/List_of_Midwestern_cities_by_size').  But unfortunately, it is not formatted in a way that pandas can understand it.  \n",
        "\n",
        "So instead we just copied and pasted the data below.  And assigned it to a variable."
      ]
    },
    {
      "cell_type": "code",
      "execution_count": 1,
      "metadata": {
        "id": "vMbSYgt0jo9t"
      },
      "outputs": [],
      "source": [
        "cities_text = \"\"\"Chicago, Illinois; 2,722,586\n",
        "Indianapolis, Indiana; 853,431\n",
        "Columbus, Ohio; 852,144\n",
        "Detroit, Michigan; 679,865\n",
        "Milwaukee, Wisconsin; 599,086\n",
        "Kansas City, Missouri; 476,974\n",
        "Omaha, Nebraska; 463,081\n",
        "Minneapolis, Minnesota; 411,452\n",
        "Wichita, Kansas; 389,054\n",
        "Cleveland, Ohio; 388,812\n",
        "St. Louis, Missouri; 314,867\n",
        "St. Paul, Minnesota; 300,820\n",
        "Cincinnati, Ohio; 298,957\n",
        "Toledo, Ohio; 279,455\n",
        "Lincoln, Nebraska; 277,315\n",
        "Fort Wayne, Indiana; 262,450\n",
        "Madison, Wisconsin; 248,856\n",
        "Des Moines, Iowa; 214,778\n",
        "Aurora, Illinois; 200,946\n",
        "Grand Rapids, Michigan; 195,355\n",
        "Akron, Ohio; 198,252\n",
        "Overland Park, Kansas; 186,147\n",
        "Sioux Falls, South Dakota; 170,401\n",
        "Springfield, Missouri; 165,785\n",
        "Kansas City, Kansas; 151,042\n",
        "Rockford, Illinois; 148,640\n",
        "Joliet, Illinois; 148,172\n",
        "Naperville, Illinois; 146,431\n",
        "Dayton, Ohio; 140,939\n",
        "Warren, Michigan; 135,147\n",
        "Olathe, Kansas; 134,368\n",
        "Sterling Heights, Michigan; 131,996\n",
        "Cedar Rapids, Iowa; 130,330\n",
        "Topeka, Kansas; 127,139\n",
        "Evansville, Indiana; 119,806\n",
        "Ann Arbor, Michigan; 119,303\n",
        "Columbia, Missouri; 118,620\n",
        "Fargo, North Dakota; 118,099\n",
        "Independence, Missouri; 117,369\n",
        "Springfield, Illinois; 116,313\n",
        "Peoria, Illinois; 115,424\n",
        "Lansing, Michigan; 115,222\n",
        "Rochester, Minnesota; 112,683\n",
        "Elgin, Illinois; 112,628\n",
        "Green Bay, Wisconsin; 104,796\n",
        "Davenport, Iowa; 102,268\n",
        "South Bend, Indiana; 101,928\"\"\""
      ]
    },
    {
      "cell_type": "markdown",
      "metadata": {
        "id": "qGmVLQIsjo9y"
      },
      "source": [
        "> Notice that we wrapped the string in triple quotes so that our string could span multiple lines."
      ]
    },
    {
      "cell_type": "markdown",
      "metadata": {
        "id": "0AAZggn_jo9y"
      },
      "source": [
        "To begin, select just the first 100 characters from the string to take a closer look at the data."
      ]
    },
    {
      "cell_type": "code",
      "execution_count": 2,
      "metadata": {
        "id": "LEWGwzUXjo9z",
        "outputId": "cf620517-a435-4e0d-eca0-b0b63374acae",
        "colab": {
          "base_uri": "https://localhost:8080/",
          "height": 35
        }
      },
      "outputs": [
        {
          "output_type": "execute_result",
          "data": {
            "text/plain": [
              "'Chicago, Illinois; 2,722,586\\nIndianapolis, Indiana; 853,431\\nColumbus, Ohio; 852,144\\nDetroit, Michiga'"
            ],
            "application/vnd.google.colaboratory.intrinsic+json": {
              "type": "string"
            }
          },
          "metadata": {},
          "execution_count": 2
        }
      ],
      "source": [
        "\n",
        "cities_text[0:100]\n",
        "# 'Chicago, Illinois; 2,722,586\\nIndianapolis, Indiana; 853,431\\nColumbus, Ohio;\n",
        "# 852,144\\nDetroit, Michiga'"
      ]
    },
    {
      "cell_type": "markdown",
      "metadata": {
        "id": "A3Olwj15jo90"
      },
      "source": [
        "So we can see that the pattern for each row of data is:\n",
        "    \n",
        "`city, State; 9,999,999 \\n`"
      ]
    },
    {
      "cell_type": "markdown",
      "metadata": {
        "id": "ix48lxiAjo91"
      },
      "source": [
        "Now currently our data is simply one long string.  Calculate the number of characters in the string."
      ]
    },
    {
      "cell_type": "code",
      "execution_count": 3,
      "metadata": {
        "id": "CC6Y0hBNjo91",
        "outputId": "05c67de6-e1d5-41ea-95d7-21ad9bc50108",
        "colab": {
          "base_uri": "https://localhost:8080/"
        }
      },
      "outputs": [
        {
          "output_type": "execute_result",
          "data": {
            "text/plain": [
              "1313"
            ]
          },
          "metadata": {},
          "execution_count": 3
        }
      ],
      "source": [
        "len(cities_text)\n",
        "\n",
        "# 1313"
      ]
    },
    {
      "cell_type": "markdown",
      "metadata": {
        "id": "x2-BLGSFjo92"
      },
      "source": [
        "Ok, it's a good idea if we begin to organize this string a bit better.  Let's begin by splitting the data by each line.\n",
        "\n",
        "> It may feel a little tricky, but try some different methods.  You can always google if you get stuck."
      ]
    },
    {
      "cell_type": "code",
      "execution_count": 6,
      "metadata": {
        "id": "FM0ErI8ajo93"
      },
      "outputs": [],
      "source": [
        "city_rows = cities_text.split('\\n')"
      ]
    },
    {
      "cell_type": "code",
      "execution_count": 7,
      "metadata": {
        "id": "hj5pmjKejo93",
        "outputId": "efc568dc-4abd-4b8e-d069-394afb4b2eaa",
        "colab": {
          "base_uri": "https://localhost:8080/"
        }
      },
      "outputs": [
        {
          "output_type": "execute_result",
          "data": {
            "text/plain": [
              "['Chicago, Illinois; 2,722,586',\n",
              " 'Indianapolis, Indiana; 853,431',\n",
              " 'Columbus, Ohio; 852,144']"
            ]
          },
          "metadata": {},
          "execution_count": 7
        }
      ],
      "source": [
        "city_rows[:3]\n",
        "\n",
        "# ['Chicago, Illinois; 2,722,586',\n",
        "#  'Indianapolis, Indiana; 853,431',\n",
        "#  'Columbus, Ohio; 852,144']"
      ]
    },
    {
      "cell_type": "markdown",
      "metadata": {
        "id": "odHH5hbJjo93"
      },
      "source": [
        "Next, let's select the first element from the list of strings."
      ]
    },
    {
      "cell_type": "code",
      "execution_count": 8,
      "metadata": {
        "id": "x6nkqk5_jo94",
        "outputId": "19423719-fda5-4d97-d18e-a88c45d2069a",
        "colab": {
          "base_uri": "https://localhost:8080/",
          "height": 35
        }
      },
      "outputs": [
        {
          "output_type": "execute_result",
          "data": {
            "text/plain": [
              "'Chicago, Illinois; 2,722,586'"
            ],
            "application/vnd.google.colaboratory.intrinsic+json": {
              "type": "string"
            }
          },
          "metadata": {},
          "execution_count": 8
        }
      ],
      "source": [
        "city = city_rows[0]\n",
        "\n",
        "\n",
        "city\n",
        "# 'Chicago, Illinois; 2,722,586'"
      ]
    },
    {
      "cell_type": "markdown",
      "metadata": {
        "id": "cszsgu-Ojo94"
      },
      "source": [
        "Ideally, we can organize this as a dictionary.  Where we have the city, state, and population values.\n",
        "\n",
        "First use split to divide the data between `city_and_state` and `population`."
      ]
    },
    {
      "cell_type": "code",
      "execution_count": 34,
      "metadata": {
        "id": "VUiiIEGFjo94"
      },
      "outputs": [],
      "source": [
        "city_and_state = city.split(';')[0]\n",
        "\n",
        "population = city.split(';')[1]"
      ]
    },
    {
      "cell_type": "code",
      "execution_count": 35,
      "metadata": {
        "id": "Nc4nRZkajo95",
        "outputId": "afc02e32-499b-49a5-e903-f85152e9d9a1",
        "colab": {
          "base_uri": "https://localhost:8080/",
          "height": 35
        }
      },
      "outputs": [
        {
          "output_type": "execute_result",
          "data": {
            "text/plain": [
              "'Chicago, Illinois'"
            ],
            "application/vnd.google.colaboratory.intrinsic+json": {
              "type": "string"
            }
          },
          "metadata": {},
          "execution_count": 35
        }
      ],
      "source": [
        "city_and_state\n",
        "# 'Chicago, Illinois'"
      ]
    },
    {
      "cell_type": "code",
      "execution_count": 36,
      "metadata": {
        "id": "s4o0eP3gjo95",
        "outputId": "9310fa23-5ed7-4599-d627-98b37085de87",
        "colab": {
          "base_uri": "https://localhost:8080/",
          "height": 35
        }
      },
      "outputs": [
        {
          "output_type": "execute_result",
          "data": {
            "text/plain": [
              "' 2,722,586'"
            ],
            "application/vnd.google.colaboratory.intrinsic+json": {
              "type": "string"
            }
          },
          "metadata": {},
          "execution_count": 36
        }
      ],
      "source": [
        "population\n",
        "\n",
        "# '2,722,586'"
      ]
    },
    {
      "cell_type": "markdown",
      "metadata": {
        "id": "BFxu1pYUjo96"
      },
      "source": [
        "Now separate `city_and_state` into `city_name` and `state`."
      ]
    },
    {
      "cell_type": "code",
      "execution_count": 20,
      "metadata": {
        "id": "EMQl2yMojo96"
      },
      "outputs": [],
      "source": [
        "\n",
        "\n",
        "city_name = city_and_state.split(',')[0]\n",
        "\n",
        "state = city_and_state.split(',')[1]\n",
        "\n",
        "# ['Chicago', 'Illinois']"
      ]
    },
    {
      "cell_type": "code",
      "execution_count": 21,
      "metadata": {
        "id": "8VflOobJjo96",
        "outputId": "f0e2b7bf-1569-4fb6-84b4-7d31ed8e2ed3",
        "colab": {
          "base_uri": "https://localhost:8080/",
          "height": 35
        }
      },
      "outputs": [
        {
          "output_type": "execute_result",
          "data": {
            "text/plain": [
              "'Chicago'"
            ],
            "application/vnd.google.colaboratory.intrinsic+json": {
              "type": "string"
            }
          },
          "metadata": {},
          "execution_count": 21
        }
      ],
      "source": [
        "city_name\n",
        "\n",
        "# 'Chicago'"
      ]
    },
    {
      "cell_type": "code",
      "execution_count": 22,
      "metadata": {
        "id": "sFCi9cU0jo96",
        "outputId": "20c0b6b3-4c25-48e8-da75-f3df9bfac177",
        "colab": {
          "base_uri": "https://localhost:8080/",
          "height": 35
        }
      },
      "outputs": [
        {
          "output_type": "execute_result",
          "data": {
            "text/plain": [
              "' Illinois'"
            ],
            "application/vnd.google.colaboratory.intrinsic+json": {
              "type": "string"
            }
          },
          "metadata": {},
          "execution_count": 22
        }
      ],
      "source": [
        "state\n",
        "\n",
        "# 'Illinois'"
      ]
    },
    {
      "cell_type": "markdown",
      "metadata": {
        "id": "DSUFudARjo96"
      },
      "source": [
        "### Now a bit harder"
      ]
    },
    {
      "cell_type": "markdown",
      "metadata": {
        "id": "cPgRLQ4Pjo97"
      },
      "source": [
        "Ok, now that we explored how to work individually on a row, let's get into this.  Let's now write code to start with the text in our variable `cities_text`.  And end with the variable `cities` with cities is a list of dictionaries with keys of `city`, `state`, and `population`."
      ]
    },
    {
      "cell_type": "code",
      "execution_count": 23,
      "metadata": {
        "id": "mnyGFfzOjo98",
        "outputId": "373478e4-c955-4ae2-b0ce-0504daf77365",
        "colab": {
          "base_uri": "https://localhost:8080/",
          "height": 35
        }
      },
      "outputs": [
        {
          "output_type": "execute_result",
          "data": {
            "text/plain": [
              "'Chicago, Illinois; 2,722,586\\nIndianapolis, Indiana; 853,431\\nColumbus, Ohio; 852,144\\nDetroit, Michiga'"
            ],
            "application/vnd.google.colaboratory.intrinsic+json": {
              "type": "string"
            }
          },
          "metadata": {},
          "execution_count": 23
        }
      ],
      "source": [
        "cities_text[:100]\n",
        "\n",
        "# 'Chicago, Illinois; 2,722,586\\nIndianapolis, Indiana; 853,431\\nColumbus, Ohio;\n",
        "# 852,144\\nDetroit, Michiga'"
      ]
    },
    {
      "cell_type": "code",
      "execution_count": 39,
      "metadata": {
        "id": "-hrFQTwhjo99"
      },
      "outputs": [],
      "source": [
        "# fill in code here\n",
        "cities = []\n",
        "for citi in cities_text.split('\\n'):\n",
        "  city = citi.split(',') [0]\n",
        "  state = citi.split(';')[0].split(',')[1]\n",
        "  population = citi.split(';')[1]\n",
        "  cities.append(\n",
        "      {'city' : city,\n",
        "       'state' : state,\n",
        "       'population' : population})"
      ]
    },
    {
      "cell_type": "code",
      "execution_count": 41,
      "metadata": {
        "id": "0879EBvjjo99",
        "outputId": "9135439c-7d33-49fd-832a-f65b42f3f4d7",
        "colab": {
          "base_uri": "https://localhost:8080/"
        }
      },
      "outputs": [
        {
          "output_type": "execute_result",
          "data": {
            "text/plain": [
              "[{'city': 'Chicago', 'state': ' Illinois', 'population': ' 2,722,586'},\n",
              " {'city': 'Indianapolis', 'state': ' Indiana', 'population': ' 853,431'},\n",
              " {'city': 'Columbus', 'state': ' Ohio', 'population': ' 852,144'},\n",
              " {'city': 'Detroit', 'state': ' Michigan', 'population': ' 679,865'},\n",
              " {'city': 'Milwaukee', 'state': ' Wisconsin', 'population': ' 599,086'}]"
            ]
          },
          "metadata": {},
          "execution_count": 41
        }
      ],
      "source": [
        "cities[:5]\n",
        "\n",
        "# [{'city': 'Chicago', 'state': 'Illinois', 'population': '2,722,586'},\n",
        "#  {'city': 'Indianapolis', 'state': 'Indiana', 'population': '853,431'},\n",
        "#  {'city': 'Columbus', 'state': 'Ohio', 'population': '852,144'}]"
      ]
    },
    {
      "cell_type": "markdown",
      "metadata": {
        "id": "UVgjogZFjo99"
      },
      "source": [
        "Now, one issue with the code above is that we would really like the population to be an integer, not a string.  So copy the code that we have above into the cell below, and update the code to make population an integer."
      ]
    },
    {
      "cell_type": "markdown",
      "metadata": {
        "id": "IGKdwKttjo99"
      },
      "source": [
        "> See if you can involve the `join` or the `replace` method to accomplish this step."
      ]
    },
    {
      "cell_type": "code",
      "execution_count": 43,
      "metadata": {
        "id": "tRioz0sajo99"
      },
      "outputs": [],
      "source": [
        "# fill in code here\n",
        "\n",
        "cities = []\n",
        "for citi in cities_text.split('\\n'):\n",
        "  city = citi.split(',') [0]\n",
        "  state = citi.split(';')[0].split(',')[1]\n",
        "  population = int(citi.split(';')[1].replace(',',''))\n",
        "  cities.append(\n",
        "      {'city' : city,\n",
        "       'state' : state,\n",
        "       'population' : population})"
      ]
    },
    {
      "cell_type": "code",
      "execution_count": 45,
      "metadata": {
        "id": "WGNs7SqJjo9-",
        "outputId": "1d039259-312b-4a2a-fe7b-53c9b42ba567",
        "colab": {
          "base_uri": "https://localhost:8080/"
        }
      },
      "outputs": [
        {
          "output_type": "execute_result",
          "data": {
            "text/plain": [
              "[{'city': 'Chicago', 'state': ' Illinois', 'population': 2722586},\n",
              " {'city': 'Indianapolis', 'state': ' Indiana', 'population': 853431},\n",
              " {'city': 'Columbus', 'state': ' Ohio', 'population': 852144}]"
            ]
          },
          "metadata": {},
          "execution_count": 45
        }
      ],
      "source": [
        "cities[:3]\n",
        "\n",
        "# [{'city': 'Chicago', 'state': 'Illinois', 'population': 2722586},\n",
        "#  {'city': 'Indianapolis', 'state': 'Indiana', 'population': 853431},\n",
        "#  {'city': 'Columbus', 'state': 'Ohio', 'population': 852144}]"
      ]
    },
    {
      "cell_type": "markdown",
      "metadata": {
        "id": "5ELmtK68jo9-"
      },
      "source": [
        "Ok, now that's better."
      ]
    },
    {
      "cell_type": "markdown",
      "metadata": {
        "id": "pPQv787Bjo9-"
      },
      "source": [
        "### Summary"
      ]
    },
    {
      "cell_type": "markdown",
      "metadata": {
        "id": "rCTZg9egjo9-"
      },
      "source": [
        "In this lesson, we practiced using the split and join methods to start with some raw text and organize it into a more easy to use list of dictionaries.\n",
        "\n",
        "Also pay attention to the workflow that we used.  \n",
        "\n",
        "1. Perform on one, then all\n",
        "\n",
        "Above, we first selected a single row of data.  "
      ]
    },
    {
      "cell_type": "code",
      "execution_count": 46,
      "metadata": {
        "id": "S_9U1QOCjo9-",
        "outputId": "c88c2b73-7b7e-41b8-b18c-187eb3baccd0",
        "colab": {
          "base_uri": "https://localhost:8080/",
          "height": 35
        }
      },
      "outputs": [
        {
          "output_type": "execute_result",
          "data": {
            "text/plain": [
              "'Chicago, Illinois; 2,722,586'"
            ],
            "application/vnd.google.colaboratory.intrinsic+json": {
              "type": "string"
            }
          },
          "metadata": {},
          "execution_count": 46
        }
      ],
      "source": [
        "city_rows[0]"
      ]
    },
    {
      "cell_type": "markdown",
      "metadata": {
        "id": "UrUWro5Mjo-B"
      },
      "source": [
        "The we worked on solving making progress with just a single row of data.  Only after feeling comfortable in working through the problem on a single element did we then move to the loop of data."
      ]
    },
    {
      "cell_type": "markdown",
      "metadata": {
        "id": "RH6HUAs5jo-C"
      },
      "source": [
        "2. Iterate on our solution"
      ]
    },
    {
      "cell_type": "markdown",
      "metadata": {
        "id": "joZPuVL5jo-C"
      },
      "source": [
        "In working with through the loop of data, we first were satisfied with a partially working solution: a list of dictionaries where all data was a string.  Only after getting that working did we then move onto converting our population into an integer.  "
      ]
    },
    {
      "cell_type": "markdown",
      "metadata": {
        "id": "9PMk9WUUjpAz"
      },
      "source": [
        "> Finding ways to break down our coding problems into steps and making the problem easier, will be a critical skillset moving forward."
      ]
    }
  ],
  "metadata": {
    "kernelspec": {
      "display_name": "Python 3 (ipykernel)",
      "language": "python",
      "name": "python3"
    },
    "language_info": {
      "codemirror_mode": {
        "name": "ipython",
        "version": 3
      },
      "file_extension": ".py",
      "mimetype": "text/x-python",
      "name": "python",
      "nbconvert_exporter": "python",
      "pygments_lexer": "ipython3",
      "version": "3.9.7"
    },
    "colab": {
      "provenance": [],
      "include_colab_link": true
    }
  },
  "nbformat": 4,
  "nbformat_minor": 0
}