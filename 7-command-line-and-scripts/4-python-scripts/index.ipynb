{
  "cells": [
    {
      "cell_type": "markdown",
      "metadata": {
        "id": "view-in-github",
        "colab_type": "text"
      },
      "source": [
        "<a href=\"https://colab.research.google.com/github/Komal77rao/Data-Eng-Modules/blob/main/7-command-line-and-scripts/4-python-scripts/index.ipynb\" target=\"_parent\"><img src=\"https://colab.research.google.com/assets/colab-badge.svg\" alt=\"Open In Colab\"/></a>"
      ]
    },
    {
      "cell_type": "markdown",
      "metadata": {
        "id": "IiNuqy6qzZT2"
      },
      "source": [
        "# Working with Python Scripts"
      ]
    },
    {
      "cell_type": "markdown",
      "metadata": {
        "id": "wuohPBlYzZUh"
      },
      "source": [
        "### Introduction"
      ]
    },
    {
      "cell_type": "markdown",
      "metadata": {
        "id": "rwCduqW-zZUh"
      },
      "source": [
        "Now that we know how to create files with bash, let's learn how to write some Python scripts."
      ]
    },
    {
      "cell_type": "markdown",
      "metadata": {
        "id": "XTj9qtnVzZUm"
      },
      "source": [
        "### Introduction to Python Scripts"
      ]
    },
    {
      "cell_type": "markdown",
      "metadata": {
        "id": "AMGwojfdzZUo"
      },
      "source": [
        "We are writing in a Python script whenever we use a `.py` file.  Let's create a script called `sample.py`."
      ]
    },
    {
      "cell_type": "code",
      "execution_count": 1,
      "metadata": {
        "id": "ugA-WDKQzZUq"
      },
      "outputs": [],
      "source": [
        "!touch sample.py"
      ]
    },
    {
      "cell_type": "markdown",
      "metadata": {
        "id": "kYiRuoM0zZUy"
      },
      "source": [
        "Now, unlike a Jupyter notebook, everything inside of our file must be valid Python.  That is, we cannot have any plain markdown or text."
      ]
    },
    {
      "cell_type": "markdown",
      "metadata": {
        "id": "AcWij1ixzZUy"
      },
      "source": [
        "Open up the file, and write the following."
      ]
    },
    {
      "cell_type": "markdown",
      "metadata": {
        "id": "DoLrLp4YzZU2"
      },
      "source": [
        "```python\n",
        "# sample.py\n",
        "print('hello world')\n",
        "```"
      ]
    },
    {
      "cell_type": "markdown",
      "metadata": {
        "id": "BnDo0EY8zZVB"
      },
      "source": [
        "Then, come back to the notebook.  Now, just like we have to execute a cell in a Jupyter notebook after writing the cell to see the output, we also have to execute a file after writing the contents of it.  \n",
        "\n",
        "We can execute a Python file with the command: `python file_name.py`."
      ]
    },
    {
      "cell_type": "code",
      "execution_count": 3,
      "metadata": {
        "id": "El7Pam0uzZVC",
        "outputId": "05992540-9e1b-499d-f206-4d8fc32d8a5e",
        "colab": {
          "base_uri": "https://localhost:8080/"
        }
      },
      "outputs": [
        {
          "output_type": "stream",
          "name": "stdout",
          "text": [
            "hello world\n"
          ]
        }
      ],
      "source": [
        "!python sample.py"
      ]
    },
    {
      "cell_type": "markdown",
      "metadata": {
        "id": "i4CGhax5zZVD"
      },
      "source": [
        "### Writing Functions"
      ]
    },
    {
      "cell_type": "markdown",
      "metadata": {
        "id": "wgmB6Am3zZVE"
      },
      "source": [
        "Next let's place a function inside of the file.  Copy and paste the `add` function and the `subtract` function into the `sample.py` file.\n",
        "\n",
        "```python\n",
        "# sample.py\n",
        "\n",
        "def add(num_one, num_two):\n",
        "    return num_one + num_two\n",
        "\n",
        "def subtract(num_one, num_two):\n",
        "    return num_one - num_two\n",
        "```\n",
        "\n",
        "Then run the file."
      ]
    },
    {
      "cell_type": "code",
      "execution_count": 4,
      "metadata": {
        "id": "yXtOWyCgzZVE",
        "outputId": "3029502f-0845-4b10-8356-cd87b05973ec",
        "colab": {
          "base_uri": "https://localhost:8080/"
        }
      },
      "outputs": [
        {
          "output_type": "stream",
          "name": "stdout",
          "text": [
            "hello world\n"
          ]
        }
      ],
      "source": [
        "!python sample.py"
      ]
    },
    {
      "cell_type": "markdown",
      "metadata": {
        "id": "B0RS_Ky2zZVE"
      },
      "source": [
        "Notice that we don't see any output from the functions in the file.  This is because, all we did is *declare* the functions.  But we never executed any of the functions.\n",
        "\n",
        "So now let's add the following in our `sample.py` file, below the `add` function."
      ]
    },
    {
      "cell_type": "markdown",
      "metadata": {
        "id": "Gvl0Pjl4zZVF"
      },
      "source": [
        "```python\n",
        "add(1, 2)\n",
        "```"
      ]
    },
    {
      "cell_type": "code",
      "execution_count": 5,
      "metadata": {
        "id": "0_OEiKddzZVF",
        "outputId": "0e8d019f-71c1-45ed-eead-5965f1b495a0",
        "colab": {
          "base_uri": "https://localhost:8080/"
        }
      },
      "outputs": [
        {
          "output_type": "stream",
          "name": "stdout",
          "text": [
            "hello world\n"
          ]
        }
      ],
      "source": [
        "!python sample.py"
      ]
    },
    {
      "cell_type": "markdown",
      "metadata": {
        "id": "VjMt-j_XzZVH"
      },
      "source": [
        "Still nothing.  But our function did run, there is simply no output displayed without a print statement.    "
      ]
    },
    {
      "cell_type": "markdown",
      "metadata": {
        "id": "baslrf06zZVH"
      },
      "source": [
        "### Working with Our Code"
      ]
    },
    {
      "cell_type": "markdown",
      "metadata": {
        "id": "15asuSPZzZVH"
      },
      "source": [
        "Now this doesn't mean we should begin filling our code with `print` statements.  There are other ways that we'll view and check our code.  \n",
        "\n",
        "One way is with with testing, which we'll see in later lessons.  Another way, is to run our Python script in interactive mode, which we can do from the terminal by running the following, from the folder that the file is in."
      ]
    },
    {
      "cell_type": "markdown",
      "metadata": {
        "id": "de-SqOxWzZVH"
      },
      "source": [
        "`python -i sample.py`"
      ]
    },
    {
      "cell_type": "markdown",
      "metadata": {
        "id": "Ych8g0NdzZVH"
      },
      "source": [
        "> Do not run the above line in the Jupyter notebook.  It won't work."
      ]
    },
    {
      "cell_type": "markdown",
      "metadata": {
        "id": "Cx6UXBEqzZVH"
      },
      "source": [
        "Yet another way is through a Jupyter notebook and an import statement."
      ]
    },
    {
      "cell_type": "markdown",
      "metadata": {
        "id": "xR132wpkzZVK"
      },
      "source": [
        "### Using an Import Statement"
      ]
    },
    {
      "cell_type": "markdown",
      "metadata": {
        "id": "_vZxV1wIzZVK"
      },
      "source": [
        "We can use the `import` statement to import the contents of a file into another file."
      ]
    },
    {
      "cell_type": "code",
      "execution_count": 6,
      "metadata": {
        "id": "DNFsNlIjzZVK",
        "outputId": "31ac0b73-2c49-4519-f3d4-134719802e7a",
        "colab": {
          "base_uri": "https://localhost:8080/"
        }
      },
      "outputs": [
        {
          "output_type": "stream",
          "name": "stdout",
          "text": [
            "hello world\n"
          ]
        }
      ],
      "source": [
        "from sample import add"
      ]
    },
    {
      "cell_type": "code",
      "execution_count": 7,
      "metadata": {
        "id": "ClYfHPSNzZVL",
        "outputId": "a58b0aee-b020-43e5-f8d7-e29049ce53f7",
        "colab": {
          "base_uri": "https://localhost:8080/"
        }
      },
      "outputs": [
        {
          "output_type": "execute_result",
          "data": {
            "text/plain": [
              "3"
            ]
          },
          "metadata": {},
          "execution_count": 7
        }
      ],
      "source": [
        "add(1, 2)"
      ]
    },
    {
      "cell_type": "markdown",
      "metadata": {
        "id": "nPL543FkzZVU"
      },
      "source": [
        "We imported our function with the format\n",
        "```python\n",
        "from file import function\n",
        "```"
      ]
    },
    {
      "cell_type": "markdown",
      "metadata": {
        "id": "Q7wEtxwWzZVU"
      },
      "source": [
        "And we can import more than one function, by simply placing a comma between each function."
      ]
    },
    {
      "cell_type": "code",
      "execution_count": 8,
      "metadata": {
        "id": "21sOu1zszZVV"
      },
      "outputs": [],
      "source": [
        "from sample import add, subtract"
      ]
    },
    {
      "cell_type": "code",
      "execution_count": 9,
      "metadata": {
        "id": "LHlZcsmVzZVW",
        "outputId": "aa4bc56b-c09d-42c6-af01-5a3e843900b0",
        "colab": {
          "base_uri": "https://localhost:8080/"
        }
      },
      "outputs": [
        {
          "output_type": "execute_result",
          "data": {
            "text/plain": [
              "1"
            ]
          },
          "metadata": {},
          "execution_count": 9
        }
      ],
      "source": [
        "subtract(2, 1)"
      ]
    },
    {
      "cell_type": "markdown",
      "metadata": {
        "id": "gVMDq3M3zZVX"
      },
      "source": [
        "Note that we've seen an import statement before, specifically when we use a Python package like pandas."
      ]
    },
    {
      "cell_type": "code",
      "execution_count": 11,
      "metadata": {
        "id": "2mbSNlk2zZVX"
      },
      "outputs": [],
      "source": [
        "import pandas"
      ]
    },
    {
      "cell_type": "markdown",
      "metadata": {
        "id": "BPBPUgJ8zZVX"
      },
      "source": [
        "One difference is that here we are specifying the *specific function* that we wish to import.  This is a nice option, as it tells us exactly what code we are using from the file.\n",
        "\n",
        "But if we wish to import all of the contents of a file, we can do so with the use of `*`:"
      ]
    },
    {
      "cell_type": "code",
      "execution_count": 10,
      "metadata": {
        "id": "VW_Pcp_EzZVY"
      },
      "outputs": [],
      "source": [
        "from sample import *"
      ]
    },
    {
      "cell_type": "code",
      "execution_count": 12,
      "metadata": {
        "id": "rbCLGnFvzZVY",
        "outputId": "a1a1c9c3-65a7-4e14-cf0b-dd7f1e486133",
        "colab": {
          "base_uri": "https://localhost:8080/"
        }
      },
      "outputs": [
        {
          "output_type": "execute_result",
          "data": {
            "text/plain": [
              "3"
            ]
          },
          "metadata": {},
          "execution_count": 12
        }
      ],
      "source": [
        "add(1, 2)"
      ]
    },
    {
      "cell_type": "code",
      "execution_count": null,
      "metadata": {
        "id": "vdFveHyYzZVY",
        "outputId": "87b4b120-aec7-4afb-ba32-5125929adf08"
      },
      "outputs": [
        {
          "data": {
            "text/plain": [
              "1"
            ]
          },
          "execution_count": 5,
          "metadata": {},
          "output_type": "execute_result"
        }
      ],
      "source": [
        "subtract(2, 1)"
      ]
    },
    {
      "cell_type": "markdown",
      "metadata": {
        "id": "GDkSVzwyzZVa"
      },
      "source": [
        "Finally, in a codebase, it is pretty rare to have just one file.  We can use code from different files by simply importing the functions or files that we need.  For example, if we have another file for calculating time passed."
      ]
    },
    {
      "cell_type": "markdown",
      "metadata": {
        "id": "Yy-riGx8zZVa"
      },
      "source": [
        "We can write a difference between months function our `date_helpers.py` file."
      ]
    },
    {
      "cell_type": "code",
      "execution_count": 13,
      "metadata": {
        "id": "np9mGIqszZV6"
      },
      "outputs": [],
      "source": [
        "!touch date_helpers.py"
      ]
    },
    {
      "cell_type": "markdown",
      "metadata": {
        "id": "5dV-G5jWzZV9"
      },
      "source": [
        "And then perhaps we want to write a function that takes in two dates, and calculates the difference between months, this is how we could do this:"
      ]
    },
    {
      "cell_type": "markdown",
      "metadata": {
        "id": "xVfKWG_SzZV9"
      },
      "source": [
        "```python\n",
        "from sample import subtract\n",
        "\n",
        "def age_difference(age_1, age_2):\n",
        "    return subtract(age_1, age_2)\n",
        "```"
      ]
    },
    {
      "cell_type": "markdown",
      "metadata": {
        "id": "hMVK9MtJzZV-"
      },
      "source": [
        "Finally, if we want an easy way to get access to our entire codebase, both `subtract`, and `age_difference`, we can create a third file, that imports both of these files."
      ]
    },
    {
      "cell_type": "code",
      "execution_count": 14,
      "metadata": {
        "id": "GC1h8PQmzZV-"
      },
      "outputs": [],
      "source": [
        "!touch index.py"
      ]
    },
    {
      "cell_type": "markdown",
      "metadata": {
        "id": "jzrnNZ3-zZV-"
      },
      "source": [
        "And inside the file can add simply import all of the contents from all of the files."
      ]
    },
    {
      "cell_type": "markdown",
      "metadata": {
        "id": "DCS034FqzZV_"
      },
      "source": [
        "```python\n",
        "from sample import *\n",
        "from date_helpers import *\n",
        "```"
      ]
    },
    {
      "cell_type": "markdown",
      "metadata": {
        "id": "xfCjjCq3zZV_"
      },
      "source": [
        "And now, if we want to access the whole codebase, we can import all of the contents of the `index.py` file."
      ]
    },
    {
      "cell_type": "code",
      "execution_count": 15,
      "metadata": {
        "id": "bQJkW7w4zZV_"
      },
      "outputs": [],
      "source": [
        "from index import *"
      ]
    },
    {
      "cell_type": "code",
      "source": [
        "age_difference(1,2)"
      ],
      "metadata": {
        "id": "J8fmELod_VeV",
        "outputId": "313e0422-40a1-4995-bb74-9843ae6e343c",
        "colab": {
          "base_uri": "https://localhost:8080/"
        }
      },
      "execution_count": 17,
      "outputs": [
        {
          "output_type": "execute_result",
          "data": {
            "text/plain": [
              "-1"
            ]
          },
          "metadata": {},
          "execution_count": 17
        }
      ]
    },
    {
      "cell_type": "markdown",
      "metadata": {
        "id": "x3wF2SJSzZWA"
      },
      "source": [
        "### A gotcha"
      ]
    },
    {
      "cell_type": "markdown",
      "metadata": {
        "id": "vSoWj3VJzZWA"
      },
      "source": [
        "One tricky thing about loading functions from a Python file into a notebook, is that if we update the code in the file, our notebook may not see it.  \n",
        "\n",
        "That is, our notebook, may not reload the Python file.  One way to fix this is with the autoreload package."
      ]
    },
    {
      "cell_type": "code",
      "execution_count": null,
      "metadata": {
        "id": "IdA_ZrXPzZWA"
      },
      "outputs": [],
      "source": [
        "%load_ext autoreload\n",
        "%autoreload 2"
      ]
    },
    {
      "cell_type": "markdown",
      "metadata": {
        "id": "1fgVfSWrzZWA"
      },
      "source": [
        "Now if we update our Python file, it should be detected by the notebook - but we still may have to re-execute the cell with the *import* statement."
      ]
    },
    {
      "cell_type": "markdown",
      "metadata": {
        "id": "TZsK4zqvzZWA"
      },
      "source": [
        "### Summary"
      ]
    },
    {
      "cell_type": "markdown",
      "metadata": {
        "id": "-6udcSybzZWB"
      },
      "source": [
        "In this lesson, we were introduced to working with Python scripts.  \n",
        "\n",
        "We write a script in Python by first creating a file that ends of the format `file_name.py`.  And we can run this file from the terminal with the command `python file_name.py`.  To have access to functions available in the file, we can run the file in interactive mode with `python -i file_name.py`.\n",
        "\n",
        "Next, we saw how to use code from our scripts in different files.  We saw that we can import a specific function with the Python code `from file_name import function_name`, and that we can import all of the functions from a file with `from file_name import *`.\n",
        "\n",
        "Finally, we saw that in a codebase, we are often importing functions from different files.  We do this just by using our import statement to import the necessary functions and code.  And finally, to easily access our entire codebase, we can create a file that imports the code from each files, and then simply import the code from this aggregate file."
      ]
    }
  ],
  "metadata": {
    "kernelspec": {
      "display_name": "Python 3",
      "language": "python",
      "name": "python3"
    },
    "language_info": {
      "codemirror_mode": {
        "name": "ipython",
        "version": 3
      },
      "file_extension": ".py",
      "mimetype": "text/x-python",
      "name": "python",
      "nbconvert_exporter": "python",
      "pygments_lexer": "ipython3",
      "version": "3.7.4"
    },
    "colab": {
      "provenance": [],
      "include_colab_link": true
    }
  },
  "nbformat": 4,
  "nbformat_minor": 0
}