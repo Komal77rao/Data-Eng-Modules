{
  "cells": [
    {
      "cell_type": "markdown",
      "metadata": {
        "id": "iY1rxEwZSuQr"
      },
      "source": [
        "# Working with Folders"
      ]
    },
    {
      "cell_type": "markdown",
      "metadata": {
        "id": "BpczcrRkSuQ0"
      },
      "source": [
        "### Introduction"
      ]
    },
    {
      "cell_type": "markdown",
      "metadata": {
        "id": "P53kwZU8SuQ1"
      },
      "source": [
        "In the last lesson, we saw how we use bash to create, remove, and move files.  In this lesson, let's see how we can use bash to perform similar operations with folders."
      ]
    },
    {
      "cell_type": "markdown",
      "metadata": {
        "id": "Z8ejvrfqSuQ2"
      },
      "source": [
        "### Working with Folders"
      ]
    },
    {
      "cell_type": "markdown",
      "metadata": {
        "id": "RsQrPBvpSuQ2"
      },
      "source": [
        "Now that we've seen how to work with files, let's see how to work with folders, or directories.  We can make a new directory with `mkdir` followed by the name of the directory."
      ]
    },
    {
      "cell_type": "code",
      "execution_count": 1,
      "metadata": {
        "id": "hWz1kv5JSuQ3"
      },
      "outputs": [],
      "source": [
        "!mkdir practice"
      ]
    },
    {
      "cell_type": "markdown",
      "metadata": {
        "id": "venabVvlSuQ7"
      },
      "source": [
        "And we can remove a directory with `rm -rf ` followed by the name of the directory."
      ]
    },
    {
      "cell_type": "code",
      "execution_count": 2,
      "metadata": {
        "id": "PH4jpMonSuQ8"
      },
      "outputs": [],
      "source": [
        "rm -rf practice"
      ]
    },
    {
      "cell_type": "markdown",
      "metadata": {
        "id": "0r1kGkS0SuQ9"
      },
      "source": [
        "> **Warning**: Be careful with `rm -rf`.  It will remove the folder you specify and any folders or contents inside.  There is no way to undo the command."
      ]
    },
    {
      "cell_type": "markdown",
      "metadata": {
        "id": "L4uVXg_9SuQ9"
      },
      "source": [
        "Let's create another folder called `temp`."
      ]
    },
    {
      "cell_type": "code",
      "execution_count": 3,
      "metadata": {
        "id": "QFWmqGG8SuQ-"
      },
      "outputs": [],
      "source": [
        "!mkdir temp"
      ]
    },
    {
      "cell_type": "markdown",
      "metadata": {
        "id": "ZBBGm7foSuQ-"
      },
      "source": [
        "And let's create a file inside of that new folder."
      ]
    },
    {
      "cell_type": "code",
      "execution_count": 4,
      "metadata": {
        "id": "qYWJPbS4SuQ_"
      },
      "outputs": [],
      "source": [
        "!touch temp/readme.txt"
      ]
    },
    {
      "cell_type": "markdown",
      "metadata": {
        "id": "36iXcTbeSuQ_"
      },
      "source": [
        "Now if we want to work inside of the `temp` folder, we can move into it by `changing our directory` with the `cd` command."
      ]
    },
    {
      "cell_type": "code",
      "execution_count": 8,
      "metadata": {
        "id": "a8Gx640gSuQ_"
      },
      "outputs": [],
      "source": [
        "!cd temp/"
      ]
    },
    {
      "cell_type": "markdown",
      "metadata": {
        "id": "OUH5P8k9SuRA"
      },
      "source": [
        "> Notice that now, if we type `ls` we will see `readme.txt` file.  Although this may not work inside of the notebook."
      ]
    },
    {
      "cell_type": "code",
      "source": [
        "!pwd"
      ],
      "metadata": {
        "id": "Q_buQk2NTIjz",
        "outputId": "9e4ba3fa-2e1d-41c9-9083-25df2e9b47a8",
        "colab": {
          "base_uri": "https://localhost:8080/"
        }
      },
      "execution_count": 9,
      "outputs": [
        {
          "output_type": "stream",
          "name": "stdout",
          "text": [
            "/content\n"
          ]
        }
      ]
    },
    {
      "cell_type": "code",
      "execution_count": 6,
      "metadata": {
        "id": "N9jV4luwSuRA",
        "outputId": "34bf0221-7d0a-41d2-ea8a-53509387b02e",
        "colab": {
          "base_uri": "https://localhost:8080/"
        }
      },
      "outputs": [
        {
          "output_type": "stream",
          "name": "stdout",
          "text": [
            "sample_data  temp\n"
          ]
        }
      ],
      "source": [
        "!ls\n",
        "# readme.txt"
      ]
    },
    {
      "cell_type": "markdown",
      "metadata": {
        "id": "7IffIeD2SuRD"
      },
      "source": [
        "### Where are we? Absolute and Relative Paths"
      ]
    },
    {
      "cell_type": "markdown",
      "metadata": {
        "id": "BuxjriLnSuRE"
      },
      "source": [
        "Now we just moved inside of the `temp` folder by calling `cd temp`.  When we are moving between folders, it can be easier to forget where we are located.  Let's print our working directory."
      ]
    },
    {
      "cell_type": "code",
      "execution_count": 10,
      "metadata": {
        "id": "40f1EOqISuRE",
        "outputId": "d9accd29-f33a-4a6b-998d-69d064b98425",
        "colab": {
          "base_uri": "https://localhost:8080/"
        }
      },
      "outputs": [
        {
          "output_type": "stream",
          "name": "stdout",
          "text": [
            "/content\n"
          ]
        }
      ],
      "source": [
        "!pwd\n",
        "# '/Users/jeff/Documents/jigsaw/curriculum/\n",
        "# 1-section-content/mod-1/2-datatypes/\n",
        "# 1-fundamentals/a-fundamentals/command-line/8-working-with-folders'"
      ]
    },
    {
      "cell_type": "markdown",
      "metadata": {
        "id": "1S0AyEsWSuRF"
      },
      "source": [
        "`pwd` shows us the absolute path to the current folder we are in.  So for example, for the folder I am in, we can start with at the root directory `/Users`, and then go to the `jeff` folder, and so on."
      ]
    },
    {
      "cell_type": "markdown",
      "metadata": {
        "id": "ptcEnnBbSuRF"
      },
      "source": [
        "If we ever want to change the directory into this folder, we can just type `cd` followed by the absolute path to the folder."
      ]
    },
    {
      "cell_type": "markdown",
      "metadata": {
        "id": "Qs5-kyiBSuRF"
      },
      "source": [
        "* We have options"
      ]
    },
    {
      "cell_type": "markdown",
      "metadata": {
        "id": "w6mT-wQhSuRG"
      },
      "source": [
        "Notice that we just saw two ways to navigate to a folder.  One way is the absolute path, which shows us the path from the root path (here beginning with `Users`) to the folder location.\n",
        "\n",
        "And we can also navigate to a folder with the relative path, which is what we saw with the `cd temp`.  With the relative path, we specify the path relative to the current directory."
      ]
    },
    {
      "cell_type": "markdown",
      "metadata": {
        "id": "QXaLVPlLSuRG"
      },
      "source": [
        "### Relative Paths"
      ]
    },
    {
      "cell_type": "markdown",
      "metadata": {
        "id": "44n2yZbXSuRG"
      },
      "source": [
        "Let's learn a little bit more about relative paths.  With most commands, by default, bash generally assumes that we would like to perform the command *relative* to our current work directory.  For example, when we list the files, it lists the files in the current directory.  And if we want to list the files in folder, it assumes the folder is *relative* to our current directory."
      ]
    },
    {
      "cell_type": "code",
      "execution_count": 11,
      "metadata": {
        "id": "tjODK6sKSuRG",
        "outputId": "3df69e24-17ca-4f45-d408-81124218af04",
        "colab": {
          "base_uri": "https://localhost:8080/"
        }
      },
      "outputs": [
        {
          "output_type": "stream",
          "name": "stdout",
          "text": [
            "sample_data  temp\n"
          ]
        }
      ],
      "source": [
        "!ls"
      ]
    },
    {
      "cell_type": "code",
      "execution_count": 13,
      "metadata": {
        "id": "ZtDbwkIFSuRH",
        "outputId": "6d78b3e4-a7d8-466e-ae21-649929f015e4",
        "colab": {
          "base_uri": "https://localhost:8080/"
        }
      },
      "outputs": [
        {
          "output_type": "stream",
          "name": "stdout",
          "text": [
            "readme.txt\n"
          ]
        }
      ],
      "source": [
        "!ls temp"
      ]
    },
    {
      "cell_type": "markdown",
      "metadata": {
        "id": "MkH85tn0SuRI"
      },
      "source": [
        "Now one way to explicitly indictate the current directory is with `.`."
      ]
    },
    {
      "cell_type": "code",
      "execution_count": 14,
      "metadata": {
        "id": "vwOimx9iSuRI",
        "outputId": "044de5cd-188a-4950-aefb-3c424ed25042",
        "colab": {
          "base_uri": "https://localhost:8080/"
        }
      },
      "outputs": [
        {
          "output_type": "stream",
          "name": "stdout",
          "text": [
            "\u001b[0m\u001b[01;34msample_data\u001b[0m/  \u001b[01;34mtemp\u001b[0m/\n"
          ]
        }
      ],
      "source": [
        "ls ."
      ]
    },
    {
      "cell_type": "markdown",
      "metadata": {
        "id": "gch817RBSuRJ"
      },
      "source": [
        "And if we want to indicate the folder just outside of the current directory, we can use `..`."
      ]
    },
    {
      "cell_type": "code",
      "execution_count": 15,
      "metadata": {
        "id": "0BdxQdNxSuRK",
        "outputId": "241ee8ab-5d0b-46a8-b90a-6b3f0fd89850",
        "colab": {
          "base_uri": "https://localhost:8080/"
        }
      },
      "outputs": [
        {
          "output_type": "stream",
          "name": "stdout",
          "text": [
            "\u001b[0m\u001b[01;36mbin\u001b[0m@                        \u001b[01;34mdatalab\u001b[0m/  \u001b[01;36mlib\u001b[0m@     \u001b[01;34mmedia\u001b[0m/                    \u001b[01;34mproc\u001b[0m/        \u001b[01;36msbin\u001b[0m@  \u001b[01;34mtools\u001b[0m/\n",
            "\u001b[01;34mboot\u001b[0m/                       \u001b[01;34mdev\u001b[0m/      \u001b[01;36mlib32\u001b[0m@   \u001b[01;34mmnt\u001b[0m/                      \u001b[01;34mpython-apt\u001b[0m/  \u001b[01;34msrv\u001b[0m/   \u001b[01;34musr\u001b[0m/\n",
            "\u001b[01;34mcontent\u001b[0m/                    \u001b[01;34metc\u001b[0m/      \u001b[01;36mlib64\u001b[0m@   NGC-DL-CONTAINER-LICENSE  \u001b[01;34mroot\u001b[0m/        \u001b[01;34msys\u001b[0m/   \u001b[01;34mvar\u001b[0m/\n",
            "cuda-keyring_1.0-1_all.deb  \u001b[01;34mhome\u001b[0m/     \u001b[01;36mlibx32\u001b[0m@  \u001b[01;34mopt\u001b[0m/                      \u001b[01;34mrun\u001b[0m/         \u001b[30;42mtmp\u001b[0m/\n"
          ]
        }
      ],
      "source": [
        "ls .."
      ]
    },
    {
      "cell_type": "markdown",
      "metadata": {
        "id": "BEPTeUyVSuRL"
      },
      "source": [
        "So above, we are listing the contents of the folder outside of the current one."
      ]
    },
    {
      "cell_type": "markdown",
      "metadata": {
        "id": "9QIpDm-6SuRL"
      },
      "source": [
        "But if we preferred, any of these commands also work with the absolute path.  For example, let's first find the absolute path of the folder outside of the current one.  And then list it's contents."
      ]
    },
    {
      "cell_type": "code",
      "execution_count": 16,
      "metadata": {
        "id": "sb0HpaL4SuRL",
        "outputId": "aa0a1b40-2bb2-4784-e101-befb2827d8b8",
        "colab": {
          "base_uri": "https://localhost:8080/",
          "height": 35
        }
      },
      "outputs": [
        {
          "output_type": "execute_result",
          "data": {
            "text/plain": [
              "'/content'"
            ],
            "application/vnd.google.colaboratory.intrinsic+json": {
              "type": "string"
            }
          },
          "metadata": {},
          "execution_count": 16
        }
      ],
      "source": [
        "pwd .."
      ]
    },
    {
      "cell_type": "markdown",
      "metadata": {
        "id": "kDhhzOBbSuRM"
      },
      "source": [
        "Copy the output from above, and place it after the `ls` command below."
      ]
    },
    {
      "cell_type": "code",
      "execution_count": 18,
      "metadata": {
        "id": "vef_Unl0SuRM",
        "outputId": "7c39ffd3-68a1-487c-9863-760542daca8d",
        "colab": {
          "base_uri": "https://localhost:8080/"
        }
      },
      "outputs": [
        {
          "output_type": "stream",
          "name": "stdout",
          "text": [
            "\u001b[0m\u001b[01;34msample_data\u001b[0m/  \u001b[01;34mtemp\u001b[0m/\n"
          ]
        }
      ],
      "source": [
        "ls /content"
      ]
    },
    {
      "cell_type": "markdown",
      "metadata": {
        "id": "D05PMrqbSuRN"
      },
      "source": [
        "### Summary"
      ]
    },
    {
      "cell_type": "markdown",
      "metadata": {
        "id": "YQdbndeFSuRN"
      },
      "source": [
        "In this lesson, we learned about working with directories, as well as the absolute and relative path.  \n",
        "\n",
        "* We saw that we can make a directory with:\n",
        "    * `mkdir name_of_folder`\n",
        "* And remove a directory with:\n",
        "    * `rm -rf name_of_folder`"
      ]
    },
    {
      "cell_type": "markdown",
      "metadata": {
        "id": "h4ariWf6SuRW"
      },
      "source": [
        "Then we learned about absolute and relative paths.  \n",
        "* We can see the absolute path to the current directory with `pwd`, which stands for print working directory.  \n",
        "* We can reference the relative path with `.`\n",
        "* We can reference a folder above the current directory with `..`\n",
        "\n",
        "For the bash commands we have learned so far (`ls`, `touch`, `cd`), we can pass the commands either a relative or absolute path."
      ]
    }
  ],
  "metadata": {
    "kernelspec": {
      "display_name": "Python 3 (ipykernel)",
      "language": "python",
      "name": "python3"
    },
    "language_info": {
      "codemirror_mode": {
        "name": "ipython",
        "version": 3
      },
      "file_extension": ".py",
      "mimetype": "text/x-python",
      "name": "python",
      "nbconvert_exporter": "python",
      "pygments_lexer": "ipython3",
      "version": "3.9.7"
    },
    "colab": {
      "provenance": []
    }
  },
  "nbformat": 4,
  "nbformat_minor": 0
}