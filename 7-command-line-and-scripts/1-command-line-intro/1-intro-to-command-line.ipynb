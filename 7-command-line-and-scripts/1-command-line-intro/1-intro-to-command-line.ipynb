{
  "cells": [
    {
      "cell_type": "markdown",
      "metadata": {
        "id": "F25GSRXxOqcp"
      },
      "source": [
        "# Introduction to Bash"
      ]
    },
    {
      "cell_type": "markdown",
      "metadata": {
        "id": "3nHYPoSeOqdP"
      },
      "source": [
        "### Introduction"
      ]
    },
    {
      "cell_type": "markdown",
      "metadata": {
        "id": "2MG_pTHfOqdQ"
      },
      "source": [
        "In our journey of learning software engineering skills, that we can more quickly by decreasing our reliance on the mouse, and instead using the keyboard.  Moreover, by relying on the keyboard we can work with machines where we generally do not have mouse access, like in cloud computing.\n",
        "\n",
        "One way to do this is to develop skills with Bash.  Bash is a language that we can use to do almost anything on our computer with typing instead of with a mouse (at least in a Mac, or Linux computer)."
      ]
    },
    {
      "cell_type": "markdown",
      "metadata": {
        "id": "xJ8Fxv7tOqdS"
      },
      "source": [
        "### Loading Up A Terminal"
      ]
    },
    {
      "cell_type": "markdown",
      "metadata": {
        "id": "K1kj_m-9OqdU"
      },
      "source": [
        "To start working with Bash, we first bring up our terminal.  There exists a terminal both on Windows and Mac computers, but only Mac computers use the Bash language by default.\n",
        "\n",
        "If you have a Mac computer do the following:\n",
        "\n",
        "1. Click on the `magnifying glass` for spotlight search in the top righthand corner of your computer."
      ]
    },
    {
      "cell_type": "markdown",
      "metadata": {
        "id": "Mv2ag_ymOqdo"
      },
      "source": [
        "<img src=\"https://github.com/data-eng-10-21/mod-1-a-data-structures/blob/master/7-command-line-and-scripts/1-command-line-intro/spotlight-search.png?raw=1\" width=\"40%\">"
      ]
    },
    {
      "cell_type": "markdown",
      "metadata": {
        "id": "4Oui4b7zOqeO"
      },
      "source": [
        "> In my computer, we can see that the spotlight is third from the right."
      ]
    },
    {
      "cell_type": "markdown",
      "metadata": {
        "id": "PdXGCxJAOqeV"
      },
      "source": [
        "Clicking on the magnifying glass will bring up a search bar, and from there, we can search for the `terminal`.  Press enter, after typing in the word `terminal`."
      ]
    },
    {
      "cell_type": "markdown",
      "metadata": {
        "id": "kKExNZu8OqeX"
      },
      "source": [
        "> You should see something like the following."
      ]
    },
    {
      "cell_type": "markdown",
      "metadata": {
        "id": "jADOGbJyOqeY"
      },
      "source": [
        "> <img src=\"https://github.com/data-eng-10-21/mod-1-a-data-structures/blob/master/7-command-line-and-scripts/1-command-line-intro/terminal-1.png?raw=1\" width=\"60%\">"
      ]
    },
    {
      "cell_type": "markdown",
      "metadata": {
        "id": "3pqRqojoOqeZ"
      },
      "source": [
        "2. If you are on a Windows, bash is probably not installed on your computer."
      ]
    },
    {
      "cell_type": "markdown",
      "metadata": {
        "id": "3R9nMTeaOqeb"
      },
      "source": [
        "A good option to begin working with `bash` is to go to [repl.it](https://repl.it/).  Once there, click on `Start Coding`, and then click on  `Create Repl`."
      ]
    },
    {
      "cell_type": "markdown",
      "metadata": {
        "id": "hnnD2zXLOqeb"
      },
      "source": [
        "<img src=\"https://github.com/data-eng-10-21/mod-1-a-data-structures/blob/master/7-command-line-and-scripts/1-command-line-intro/create-repl.png?raw=1\" width=\"50%\">"
      ]
    },
    {
      "cell_type": "markdown",
      "metadata": {
        "id": "JWaZfBzUOqeb"
      },
      "source": [
        "Then search for bash before clicking `Create Repl` again."
      ]
    },
    {
      "cell_type": "markdown",
      "metadata": {
        "id": "_trWxANkOqeb"
      },
      "source": [
        "<img src=\"https://github.com/data-eng-10-21/mod-1-a-data-structures/blob/master/7-command-line-and-scripts/1-command-line-intro/build-repl.png?raw=1\" width=\"60%\">"
      ]
    },
    {
      "cell_type": "markdown",
      "metadata": {
        "id": "pc0hyTnyOqeg"
      },
      "source": [
        "### File Management With Bash"
      ]
    },
    {
      "cell_type": "markdown",
      "metadata": {
        "id": "aBtS4jHxOqeg"
      },
      "source": [
        "Now `bash` is the language that our terminal is running.  Let's see what it can do."
      ]
    },
    {
      "cell_type": "markdown",
      "metadata": {
        "id": "mSUNSVswOqeg"
      },
      "source": [
        "The main thing that we'll use bash for is file management.  And just like the finder in a Mac, we can use bash to view files, add files, delete files, or move them.  Let's see how."
      ]
    },
    {
      "cell_type": "markdown",
      "metadata": {
        "id": "oGNCYDDJOqeg"
      },
      "source": [
        "1. Listing Files"
      ]
    },
    {
      "cell_type": "markdown",
      "metadata": {
        "id": "dtSDmTHyOqeh"
      },
      "source": [
        "Now in bash, the command for listing the files in a directory is the `ls` command."
      ]
    },
    {
      "cell_type": "code",
      "execution_count": 3,
      "metadata": {
        "id": "AZcPNmE9Oqeh",
        "outputId": "db9d50d1-afc8-4570-8431-544968402ce0",
        "colab": {
          "base_uri": "https://localhost:8080/"
        }
      },
      "outputs": [
        {
          "output_type": "stream",
          "name": "stdout",
          "text": [
            "sample_data\n"
          ]
        }
      ],
      "source": [
        "!ls\n",
        "#1-intro-to-command-line.ipynb sample_data"
      ]
    },
    {
      "cell_type": "markdown",
      "metadata": {
        "id": "04sNwrTtOqeo"
      },
      "source": [
        "> While we can (and generally do) use bash in a terminal, we can access the terminal through our Jupyter notebook, by typing `!` before each command.  I do so here, mainly for teaching purposes."
      ]
    },
    {
      "cell_type": "markdown",
      "metadata": {
        "id": "nbQKtMFROqeo"
      },
      "source": [
        "So above, we can see that in the current folder is the file `intro-to-the-command-line.ipynb` and the folder `sample_data`."
      ]
    },
    {
      "cell_type": "markdown",
      "metadata": {
        "id": "QjB9BAQiOqeq"
      },
      "source": [
        "2. Creating Files"
      ]
    },
    {
      "cell_type": "markdown",
      "metadata": {
        "id": "Yu2gd775Oqer"
      },
      "source": [
        "Now let's say we want to create a new file.  We can do so with the `touch` command.  Let's create a new file called `readme.txt`"
      ]
    },
    {
      "cell_type": "code",
      "execution_count": 4,
      "metadata": {
        "id": "4dI6AENROqer"
      },
      "outputs": [],
      "source": [
        "!touch readme.txt"
      ]
    },
    {
      "cell_type": "code",
      "source": [],
      "metadata": {
        "id": "sF_jdfAjRUfN"
      },
      "execution_count": 4,
      "outputs": []
    },
    {
      "cell_type": "markdown",
      "metadata": {
        "id": "XstI3krdOqer"
      },
      "source": [
        "Doing so, we now see a new file, `readme.txt`, located in our directory."
      ]
    },
    {
      "cell_type": "code",
      "execution_count": 5,
      "metadata": {
        "id": "NopLpQbuOqer",
        "outputId": "85a5d9e2-ac64-40f5-e810-b104e22ae87f",
        "colab": {
          "base_uri": "https://localhost:8080/"
        }
      },
      "outputs": [
        {
          "output_type": "stream",
          "name": "stdout",
          "text": [
            "readme.txt  sample_data\n"
          ]
        }
      ],
      "source": [
        "!ls\n",
        "# 1-intro-to-command-line.ipynb sample_data\n",
        "# readme.txt"
      ]
    },
    {
      "cell_type": "markdown",
      "metadata": {
        "id": "UGJH3gB8Oqes"
      },
      "source": [
        "3. Moving and Renaming Files"
      ]
    },
    {
      "cell_type": "markdown",
      "metadata": {
        "id": "T4hnqOwiOqet"
      },
      "source": [
        "If we want to move or rename the file, we can do so with `mv` command."
      ]
    },
    {
      "cell_type": "markdown",
      "metadata": {
        "id": "XDzYaDreOqet"
      },
      "source": [
        "For example, let's rename the file to be `dontreadme.txt`."
      ]
    },
    {
      "cell_type": "code",
      "execution_count": 6,
      "metadata": {
        "id": "j4Iy7XZKOqev"
      },
      "outputs": [],
      "source": [
        "mv readme.txt dontreadme.txt"
      ]
    },
    {
      "cell_type": "code",
      "execution_count": 7,
      "metadata": {
        "id": "VPLYrunEOqex",
        "outputId": "c0931461-f0f0-496b-8a0f-a3ff7de1ea0f",
        "colab": {
          "base_uri": "https://localhost:8080/"
        }
      },
      "outputs": [
        {
          "output_type": "stream",
          "name": "stdout",
          "text": [
            "dontreadme.txt\tsample_data\n"
          ]
        }
      ],
      "source": [
        "!ls"
      ]
    },
    {
      "cell_type": "markdown",
      "metadata": {
        "id": "M2Y1VB_cOqex"
      },
      "source": [
        "Then, we can move the file into our sample_data folder with the following:"
      ]
    },
    {
      "cell_type": "code",
      "execution_count": 8,
      "metadata": {
        "id": "G67deozMOqex"
      },
      "outputs": [],
      "source": [
        "mv dontreadme.txt sample_data"
      ]
    },
    {
      "cell_type": "markdown",
      "metadata": {
        "id": "nMJgobnnOqey"
      },
      "source": [
        "And we can check that it's in the `sample_data` folder with the following:"
      ]
    },
    {
      "cell_type": "code",
      "execution_count": 9,
      "metadata": {
        "id": "EQ2577O7Oqez",
        "outputId": "66e2d03c-cc1f-409b-eb36-4d1a94738bfa",
        "colab": {
          "base_uri": "https://localhost:8080/"
        }
      },
      "outputs": [
        {
          "output_type": "stream",
          "name": "stdout",
          "text": [
            "anscombe.json\t\t     california_housing_train.csv  mnist_test.csv\t  README.md\n",
            "california_housing_test.csv  dontreadme.txt\t\t   mnist_train_small.csv\n"
          ]
        }
      ],
      "source": [
        "!ls sample_data\n",
        "# dontreadme.txt"
      ]
    },
    {
      "cell_type": "markdown",
      "metadata": {
        "id": "U6zzxFQ6Oqez"
      },
      "source": [
        "So `ls sample_data` shows us the contents of the `sample_data` folder."
      ]
    },
    {
      "cell_type": "markdown",
      "metadata": {
        "id": "WgtaNVkvOqez"
      },
      "source": [
        "4. Deleting Files"
      ]
    },
    {
      "cell_type": "markdown",
      "metadata": {
        "id": "YnM_U-meOqfJ"
      },
      "source": [
        "Finally, we can remove a file with `rm`.  We want to remove `dontreadme.txt` located in the `sample_data` folder.  To do so, we type the following."
      ]
    },
    {
      "cell_type": "code",
      "execution_count": 10,
      "metadata": {
        "id": "VD6DEccDOqfJ"
      },
      "outputs": [],
      "source": [
        "!rm sample_data/dontreadme.txt"
      ]
    },
    {
      "cell_type": "markdown",
      "metadata": {
        "id": "E4ON_og3OqfJ"
      },
      "source": [
        "And then we can check that nothing is in the file."
      ]
    },
    {
      "cell_type": "code",
      "execution_count": 11,
      "metadata": {
        "id": "jtvyL9esOqfK",
        "outputId": "ff5ced2d-1398-4281-897f-5336e219e114",
        "colab": {
          "base_uri": "https://localhost:8080/"
        }
      },
      "outputs": [
        {
          "output_type": "stream",
          "name": "stdout",
          "text": [
            "anscombe.json\t\t     california_housing_train.csv  mnist_train_small.csv\n",
            "california_housing_test.csv  mnist_test.csv\t\t   README.md\n"
          ]
        }
      ],
      "source": [
        "!ls sample_data"
      ]
    },
    {
      "cell_type": "markdown",
      "metadata": {
        "id": "W629U5cgOqfK"
      },
      "source": [
        "### Your turn"
      ]
    },
    {
      "cell_type": "markdown",
      "metadata": {
        "id": "yJ2nlJddOqfL"
      },
      "source": [
        "Now practice creating a new file called `sample.txt`."
      ]
    },
    {
      "cell_type": "code",
      "execution_count": 12,
      "metadata": {
        "id": "LV8_ZVmJOqfM"
      },
      "outputs": [],
      "source": [
        "!touch sample.txt"
      ]
    },
    {
      "cell_type": "markdown",
      "metadata": {
        "id": "mziuxpEcOqfS"
      },
      "source": [
        "Check that it's there by listing the contents of the current directory."
      ]
    },
    {
      "cell_type": "code",
      "execution_count": 13,
      "metadata": {
        "id": "MCFDgjOIOqfS",
        "outputId": "3dfcde6d-97aa-4d4f-9ec5-fa6c902408cc",
        "colab": {
          "base_uri": "https://localhost:8080/"
        }
      },
      "outputs": [
        {
          "output_type": "stream",
          "name": "stdout",
          "text": [
            "sample_data  sample.txt\n"
          ]
        }
      ],
      "source": [
        "!ls\n",
        "# 1-intro-to-command-line.ipynb sample_data\n",
        "# sample.txt"
      ]
    },
    {
      "cell_type": "markdown",
      "metadata": {
        "id": "fqvX6J-YOqfW"
      },
      "source": [
        "Then move the file into the `sample_data` directory."
      ]
    },
    {
      "cell_type": "code",
      "execution_count": 14,
      "metadata": {
        "id": "KYcJuGPZOqfX"
      },
      "outputs": [],
      "source": [
        "!mv sample.txt sample_data"
      ]
    },
    {
      "cell_type": "markdown",
      "metadata": {
        "id": "-xdBGXA-Oqfa"
      },
      "source": [
        "Then remove the `sample.txt` file."
      ]
    },
    {
      "cell_type": "code",
      "execution_count": 17,
      "metadata": {
        "id": "SLLeKpdIOqfq"
      },
      "outputs": [],
      "source": [
        "!rm sample_data/sample.txt"
      ]
    },
    {
      "cell_type": "markdown",
      "metadata": {
        "id": "DBJP2571Oqfq"
      },
      "source": [
        "And check that you did by again, looking at the contents of the `sample_data` directory."
      ]
    },
    {
      "cell_type": "code",
      "execution_count": 18,
      "metadata": {
        "id": "i_vc4D9BOqfq",
        "outputId": "7ddc753a-651b-46f6-9395-304e8f208161",
        "colab": {
          "base_uri": "https://localhost:8080/"
        }
      },
      "outputs": [
        {
          "output_type": "stream",
          "name": "stdout",
          "text": [
            "anscombe.json\t\t     california_housing_train.csv  mnist_train_small.csv\n",
            "california_housing_test.csv  mnist_test.csv\t\t   README.md\n"
          ]
        }
      ],
      "source": [
        "!ls sample_data\n",
        "# 1-intro-to-command-line.ipynb sample_data"
      ]
    },
    {
      "cell_type": "markdown",
      "metadata": {
        "id": "hQ8uV-RLOqfr"
      },
      "source": []
    },
    {
      "cell_type": "markdown",
      "metadata": {
        "id": "luf9Gf7WOqfr"
      },
      "source": [
        "### Summary"
      ]
    },
    {
      "cell_type": "markdown",
      "metadata": {
        "id": "TO0_qXAjOqfr"
      },
      "source": [
        "In this lesson, we were introduced to working with files in the terminal with bash.  We saw how to list, create, move and remove files."
      ]
    },
    {
      "cell_type": "markdown",
      "metadata": {
        "id": "jBhctLtaOqfu"
      },
      "source": [
        "* list: `ls`\n",
        "* create: `touch`\n",
        "* move: `mv`\n",
        "* remove `rm`"
      ]
    }
  ],
  "metadata": {
    "kernelspec": {
      "display_name": "Python 3 (ipykernel)",
      "language": "python",
      "name": "python3"
    },
    "language_info": {
      "codemirror_mode": {
        "name": "ipython",
        "version": 3
      },
      "file_extension": ".py",
      "mimetype": "text/x-python",
      "name": "python",
      "nbconvert_exporter": "python",
      "pygments_lexer": "ipython3",
      "version": "3.9.7"
    },
    "colab": {
      "provenance": []
    }
  },
  "nbformat": 4,
  "nbformat_minor": 0
}