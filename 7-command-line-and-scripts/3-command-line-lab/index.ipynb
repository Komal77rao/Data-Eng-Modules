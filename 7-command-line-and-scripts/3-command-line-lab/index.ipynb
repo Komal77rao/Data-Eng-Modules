{
  "cells": [
    {
      "cell_type": "markdown",
      "metadata": {
        "id": "sDMkF-SCUmiW"
      },
      "source": [
        "# Working with the Command Line Lab"
      ]
    },
    {
      "cell_type": "markdown",
      "metadata": {
        "id": "E10h8SlIUmit"
      },
      "source": [
        "### Introduction"
      ]
    },
    {
      "cell_type": "markdown",
      "metadata": {
        "id": "YDifW_UZUmiv"
      },
      "source": [
        "In this lesson, let's become more familiar with working with the command line."
      ]
    },
    {
      "cell_type": "markdown",
      "metadata": {
        "id": "d7yeCC2IUmiw"
      },
      "source": [
        "### Organizing our files"
      ]
    },
    {
      "cell_type": "markdown",
      "metadata": {
        "id": "XnIyIausUmiw"
      },
      "source": [
        "Let's create a codebase for working with our songs and albums project from before.  To begin with, let's create files for songs, albums, and artists."
      ]
    },
    {
      "cell_type": "markdown",
      "metadata": {
        "id": "D_ZfCOdpUmix"
      },
      "source": [
        "1. Create an `artist.py` file, a `album.py` and a `song.py` file."
      ]
    },
    {
      "cell_type": "code",
      "execution_count": 12,
      "metadata": {
        "id": "Bjw8FgGeUmiz"
      },
      "outputs": [],
      "source": [
        "!touch artist.py album.py song.py"
      ]
    },
    {
      "cell_type": "code",
      "execution_count": 13,
      "metadata": {
        "id": "7gPyb-5yUmi2",
        "outputId": "522efb47-a19d-4f88-ae5c-eff8019f010b",
        "colab": {
          "base_uri": "https://localhost:8080/"
        }
      },
      "outputs": [
        {
          "output_type": "stream",
          "name": "stdout",
          "text": [
            "album.py  artist.py  code  sample_data\tsong.py\n"
          ]
        }
      ],
      "source": [
        "!ls\n",
        "# index.ipynb artist.py album.py song.py"
      ]
    },
    {
      "cell_type": "markdown",
      "metadata": {
        "id": "K4-hAt5fUmi6"
      },
      "source": [
        "Let's create a directory to place these files called `code`."
      ]
    },
    {
      "cell_type": "code",
      "execution_count": 14,
      "metadata": {
        "id": "At1aZv2TUmi6",
        "outputId": "09090fca-18e1-4f27-a15c-c32ac26445be",
        "colab": {
          "base_uri": "https://localhost:8080/"
        }
      },
      "outputs": [
        {
          "output_type": "stream",
          "name": "stdout",
          "text": [
            "mkdir: cannot create directory ‘code’: File exists\n"
          ]
        }
      ],
      "source": [
        "!mkdir code"
      ]
    },
    {
      "cell_type": "markdown",
      "metadata": {
        "id": "CdnTnLVQUmi7"
      },
      "source": [
        "Then move the files into the `code` directory."
      ]
    },
    {
      "cell_type": "code",
      "source": [
        "!touch trial.txt"
      ],
      "metadata": {
        "id": "4LQoIm-CVqAW"
      },
      "execution_count": 15,
      "outputs": []
    },
    {
      "cell_type": "code",
      "execution_count": 16,
      "metadata": {
        "id": "VwRuvagQUmi7"
      },
      "outputs": [],
      "source": [
        "!mv *.py code/"
      ]
    },
    {
      "cell_type": "code",
      "execution_count": 18,
      "metadata": {
        "id": "za4QG7gxUmjC",
        "outputId": "abc98983-d429-4083-8d69-bcb994fad70c",
        "colab": {
          "base_uri": "https://localhost:8080/"
        }
      },
      "outputs": [
        {
          "output_type": "stream",
          "name": "stdout",
          "text": [
            "code  sample_data  trial.txt\n"
          ]
        }
      ],
      "source": [
        "!ls\n",
        "# index.ipynb code"
      ]
    },
    {
      "cell_type": "markdown",
      "metadata": {
        "id": "QzS3WCSTUmjE"
      },
      "source": [
        "Check that the files are located in the `code` directory by listing the files there."
      ]
    },
    {
      "cell_type": "code",
      "execution_count": 19,
      "metadata": {
        "id": "fRkAm7zxUmjE",
        "outputId": "fd181973-7f96-4fb9-9686-a22170d6601d",
        "colab": {
          "base_uri": "https://localhost:8080/"
        }
      },
      "outputs": [
        {
          "output_type": "stream",
          "name": "stdout",
          "text": [
            "album.py  artist.py  song.py  trial.txt\n"
          ]
        }
      ],
      "source": [
        "!ls code"
      ]
    },
    {
      "cell_type": "markdown",
      "metadata": {
        "id": "dJFiIFfgUmjI"
      },
      "source": [
        "Next let's create a folder for our data, called `data`."
      ]
    },
    {
      "cell_type": "code",
      "source": [
        "!rm trial.txt"
      ],
      "metadata": {
        "id": "Q1OvBajnWasG"
      },
      "execution_count": 22,
      "outputs": []
    },
    {
      "cell_type": "code",
      "execution_count": 20,
      "metadata": {
        "id": "ld62039aUmjI"
      },
      "outputs": [],
      "source": [
        "!mkdir data"
      ]
    },
    {
      "cell_type": "markdown",
      "metadata": {
        "id": "x1hCQYJmUmjJ"
      },
      "source": [
        "If we list the contents of the current directory, it should look like the following."
      ]
    },
    {
      "cell_type": "code",
      "execution_count": 23,
      "metadata": {
        "id": "7GrpgB67UmjL",
        "outputId": "bd638e12-1736-4e1f-a337-1b210b651a20",
        "colab": {
          "base_uri": "https://localhost:8080/"
        }
      },
      "outputs": [
        {
          "output_type": "stream",
          "name": "stdout",
          "text": [
            "code  data  sample_data\n"
          ]
        }
      ],
      "source": [
        "!ls\n",
        "# index.ipynb code data"
      ]
    },
    {
      "cell_type": "markdown",
      "metadata": {
        "id": "LKa_K-43UmjM"
      },
      "source": [
        "Now let's change our working directory to the `data` folder. Once there, let's confirm that there are no files inside of that folder."
      ]
    },
    {
      "cell_type": "code",
      "execution_count": 24,
      "metadata": {
        "id": "3HAnJeO7UmjP"
      },
      "outputs": [],
      "source": [
        "!cd data/"
      ]
    },
    {
      "cell_type": "code",
      "execution_count": 26,
      "metadata": {
        "id": "LNOCr-e7UmjQ"
      },
      "outputs": [],
      "source": [
        "! ls data/\n",
        "#"
      ]
    },
    {
      "cell_type": "markdown",
      "metadata": {
        "id": "uYtdmmweUmjQ"
      },
      "source": [
        "Then let's change our directory to move one folder up, and to be back where we started."
      ]
    },
    {
      "cell_type": "code",
      "execution_count": 27,
      "metadata": {
        "id": "uBouMrsSUmjR"
      },
      "outputs": [],
      "source": [
        "!cd .."
      ]
    },
    {
      "cell_type": "markdown",
      "metadata": {
        "id": "ZjaD1bpNUmjR"
      },
      "source": [
        "If we look at the contents of the current directory now, we see the following:"
      ]
    },
    {
      "cell_type": "code",
      "execution_count": 28,
      "metadata": {
        "id": "Z0RouePAUmjR",
        "outputId": "a0546caa-a918-4a33-d3e3-bee068a453b5",
        "colab": {
          "base_uri": "https://localhost:8080/"
        }
      },
      "outputs": [
        {
          "output_type": "stream",
          "name": "stdout",
          "text": [
            "code  data  sample_data\n"
          ]
        }
      ],
      "source": [
        "!ls\n",
        "# index.ipynb code data"
      ]
    },
    {
      "cell_type": "markdown",
      "metadata": {
        "id": "aLdMcsQpUmjR"
      },
      "source": [
        "### Summary"
      ]
    },
    {
      "cell_type": "markdown",
      "metadata": {
        "id": "xQ-6EJoOUmjS"
      },
      "source": [
        "In this lesson, we practiced working with both files and folders from inside the terminal."
      ]
    }
  ],
  "metadata": {
    "kernelspec": {
      "display_name": "Python 3 (ipykernel)",
      "language": "python",
      "name": "python3"
    },
    "language_info": {
      "codemirror_mode": {
        "name": "ipython",
        "version": 3
      },
      "file_extension": ".py",
      "mimetype": "text/x-python",
      "name": "python",
      "nbconvert_exporter": "python",
      "pygments_lexer": "ipython3",
      "version": "3.9.7"
    },
    "colab": {
      "provenance": []
    }
  },
  "nbformat": 4,
  "nbformat_minor": 0
}