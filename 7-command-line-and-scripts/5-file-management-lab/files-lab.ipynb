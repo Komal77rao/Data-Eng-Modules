{
  "cells": [
    {
      "cell_type": "markdown",
      "metadata": {
        "id": "view-in-github",
        "colab_type": "text"
      },
      "source": [
        "<a href=\"https://colab.research.google.com/github/Komal77rao/Data-Eng-Modules/blob/main/7-command-line-and-scripts/5-file-management-lab/files-lab.ipynb\" target=\"_parent\"><img src=\"https://colab.research.google.com/assets/colab-badge.svg\" alt=\"Open In Colab\"/></a>"
      ]
    },
    {
      "cell_type": "markdown",
      "metadata": {
        "id": "D8fTDJ6gAKHl"
      },
      "source": [
        "# File Management Lab"
      ]
    },
    {
      "cell_type": "markdown",
      "metadata": {
        "id": "yocW9LSAAKKH"
      },
      "source": [
        "### Introduction"
      ]
    },
    {
      "cell_type": "markdown",
      "metadata": {
        "id": "ZusoaPyZAKKM"
      },
      "source": [
        "In this lesson, let's begin to practice organizing our code into different files.  Along the way, we'll practice loading code from different files as necessary."
      ]
    },
    {
      "cell_type": "markdown",
      "metadata": {
        "id": "oWn_keRuAKKX"
      },
      "source": [
        "### Grouping Our Functions"
      ]
    },
    {
      "cell_type": "markdown",
      "metadata": {
        "id": "zyTUzGwFAKKc"
      },
      "source": [
        "Below are the functions that we wrote in the top songs lab.  Now let's begin to move the functions into separate files.\n",
        "\n",
        "Use the touch command to create three files:\n",
        "\n",
        "* `song.py`\n",
        "* `album.py`\n",
        "* `top_songs.py`"
      ]
    },
    {
      "cell_type": "code",
      "execution_count": 1,
      "metadata": {
        "id": "Tyt136iEAKKd"
      },
      "outputs": [],
      "source": [
        "!touch song.py\n",
        "!touch album.py\n",
        "!touch top_songs.py"
      ]
    },
    {
      "cell_type": "markdown",
      "metadata": {
        "id": "O2MhUN58AKKl"
      },
      "source": [
        "Above each function below, we indicated the file that the function should be inside of.  Move the functions into the specified files."
      ]
    },
    {
      "cell_type": "markdown",
      "metadata": {
        "id": "LtNAHgJXAKKp"
      },
      "source": [
        "```python\n",
        "# album.py\n",
        "def songs_from(album):\n",
        "    return album['tracks']\n",
        "\n",
        "# song.py\n",
        "def find_song(songs, name):\n",
        "    found_song = [song for song in songs if song['song'] == name]\n",
        "    return next(iter(found_song), None)\n",
        "\n",
        "# album.py\n",
        "def tracks(album_track):\n",
        "    tracks = album_track['tracks']\n",
        "    return [clean_track(track) for track in tracks]\n",
        "\n",
        "# album.py\n",
        "def clean_track(track):\n",
        "    return track.split(' - ')[0]\n",
        "\n",
        "# top_songs.py\n",
        "def albums_top_songs(albums_tracks):\n",
        "    albums_top = {}\n",
        "    for album in albums_tracks:\n",
        "        top_songs = find_top_songs(album)\n",
        "        albums_top[album['album']] = top_songs\n",
        "        \n",
        "    return albums_top\n",
        "\n",
        "# top_songs.py\n",
        "def find_top_songs(album, songs):\n",
        "    top_songs = [find_song(songs, track)['song']\n",
        "             for track in tracks(album)\n",
        "             if find_song(songs, track)]\n",
        "    uniq_top_songs = list(set(top_songs))\n",
        "    return uniq_top_songs\n",
        "```"
      ]
    },
    {
      "cell_type": "markdown",
      "metadata": {
        "id": "bVsVZIfjAKKu"
      },
      "source": [
        "### Loading Data"
      ]
    },
    {
      "cell_type": "code",
      "execution_count": 23,
      "metadata": {
        "id": "1XUknd96AKKw"
      },
      "outputs": [],
      "source": [
        "import pandas as pd\n",
        "songs_url = \"https://raw.githubusercontent.com/data-eng-10-21/mod-1-a-data-structures/master/6-top-songs/top-500-songs.txt\"\n",
        "songs_df = pd.read_csv(songs_url, sep='\\t', header = None, names = ['rank', 'song', 'artist', 'year'])\n",
        "songs = songs_df.to_dict('records')\n",
        "\n",
        "track_url = \"https://raw.githubusercontent.com/data-eng-10-21/mod-1-a-data-structures/master/6-top-songs/track_data.json\"\n",
        "albums_and_tracks = pd.read_json(track_url)\n",
        "albums_tracks = albums_and_tracks.to_dict('records')\n",
        "\n",
        "import pandas as pd\n",
        "url = \"https://raw.githubusercontent.com/data-eng-10-21/mod-1-a-data-structures/master/6-top-songs/data.csv\"\n",
        "df = pd.read_csv(url)\n",
        "albums = df.to_dict('records')"
      ]
    },
    {
      "cell_type": "markdown",
      "metadata": {
        "id": "_7lQoLkWAKKw"
      },
      "source": [
        "### Tying the Code Together"
      ]
    },
    {
      "cell_type": "markdown",
      "metadata": {
        "id": "rz5ScjH0AKK_"
      },
      "source": [
        "Next, let's see what happens if we try to load our and then call some functions from our files.  Because we may need to update our scripts along the way, press `shift + return` on the cell below, so that our notebook can detect our updates to the scripts."
      ]
    },
    {
      "cell_type": "code",
      "execution_count": 36,
      "metadata": {
        "id": "aaxYYZWFAKLA",
        "outputId": "c4ab1b4a-9849-4ab3-ab63-12f4470e29b6",
        "colab": {
          "base_uri": "https://localhost:8080/"
        }
      },
      "outputs": [
        {
          "output_type": "stream",
          "name": "stdout",
          "text": [
            "The autoreload extension is already loaded. To reload it, use:\n",
            "  %reload_ext autoreload\n"
          ]
        }
      ],
      "source": [
        "%load_ext autoreload\n",
        "%autoreload 1"
      ]
    },
    {
      "cell_type": "markdown",
      "metadata": {
        "id": "TXzcSnLeAKLB"
      },
      "source": [
        "We can begin with the code in the `song` file.  Use `import` to load the `find_song` function into this notebook.  After doing so, we can try to execute the function below."
      ]
    },
    {
      "cell_type": "code",
      "execution_count": 13,
      "metadata": {
        "id": "uDN_XnDuAKLC"
      },
      "outputs": [],
      "source": [
        "from song import find_song"
      ]
    },
    {
      "cell_type": "code",
      "execution_count": 14,
      "metadata": {
        "id": "9B6OFT4DAKLD",
        "outputId": "7069d2d0-9735-420a-8859-0698b23b1761",
        "colab": {
          "base_uri": "https://localhost:8080/"
        }
      },
      "outputs": [
        {
          "output_type": "execute_result",
          "data": {
            "text/plain": [
              "{'rank': 1,\n",
              " 'song': 'Like a Rolling Stone',\n",
              " 'artist': 'Bob Dylan',\n",
              " 'year': 1965}"
            ]
          },
          "metadata": {},
          "execution_count": 14
        }
      ],
      "source": [
        "find_song(songs, \"Like a Rolling Stone\")\n",
        "# {'rank': 1,\n",
        "#  'song': 'Like a Rolling Stone',\n",
        "#  'artist': 'Bob Dylan',\n",
        "#  'year': 1965}"
      ]
    },
    {
      "cell_type": "markdown",
      "metadata": {
        "id": "ItNwkSmpAKLI"
      },
      "source": [
        "Now let's try some functions from the `top_songs` file."
      ]
    },
    {
      "cell_type": "code",
      "execution_count": 38,
      "metadata": {
        "id": "ZbsVBVmGAKLI"
      },
      "outputs": [],
      "source": [
        "from top_songs import find_top_songs\n",
        "from album import tracks"
      ]
    },
    {
      "cell_type": "code",
      "source": [
        "tracks(albums_tracks[1])"
      ],
      "metadata": {
        "id": "BW_Q1ra1FQT_",
        "outputId": "5d65c100-b1ef-47af-82d8-ff9031db2c9a",
        "colab": {
          "base_uri": "https://localhost:8080/"
        }
      },
      "execution_count": 37,
      "outputs": [
        {
          "output_type": "execute_result",
          "data": {
            "text/plain": [
              "[\"Wouldn't It Be Nice\",\n",
              " 'You Still Believe In Me',\n",
              " \"That's Not Me\",\n",
              " \"Don't Talk (Put Your Head On My Shoulder)\",\n",
              " \"I'm Waiting For The Day\",\n",
              " \"Let's Go Away For Awhile\",\n",
              " 'Sloop John B',\n",
              " 'God Only Knows',\n",
              " \"I Know There's An Answer\",\n",
              " 'Here Today',\n",
              " \"I Just Wasn't Made For These Times\",\n",
              " 'Pet Sounds',\n",
              " 'Caroline, No',\n",
              " 'Hang On To Your Ego',\n",
              " \"Wouldn't It Be Nice\",\n",
              " 'You Still Believe In Me',\n",
              " \"That's Not Me\",\n",
              " \"Don't Talk (Put Your Head On My Shoulder)\",\n",
              " \"I'm Waiting For The Day\",\n",
              " \"Let's Go Away For Awhile\",\n",
              " 'Sloop John B',\n",
              " 'God Only Knows',\n",
              " \"I Know There's An Answer\",\n",
              " 'Here Today',\n",
              " \"I Just Wasn't Made For These Times\",\n",
              " 'Pet Sounds',\n",
              " 'Caroline, No']"
            ]
          },
          "metadata": {},
          "execution_count": 37
        }
      ]
    },
    {
      "cell_type": "markdown",
      "metadata": {
        "id": "k68zMSGeAKLL"
      },
      "source": [
        "If we run the `find_top_songs` function below, we'll see that it breaks.  We'll need to import a couple of functions into the `top_songs` file to get our function to work."
      ]
    },
    {
      "cell_type": "markdown",
      "metadata": {
        "id": "nv2JzRmjAKLk"
      },
      "source": [
        "> Trying running the code below to see the error message."
      ]
    },
    {
      "cell_type": "code",
      "execution_count": 39,
      "metadata": {
        "id": "IAtupCYHAKLl",
        "outputId": "e7913819-2451-487a-8d91-bfe5ae124ea4",
        "colab": {
          "base_uri": "https://localhost:8080/",
          "height": 332
        }
      },
      "outputs": [
        {
          "output_type": "error",
          "ename": "NameError",
          "evalue": "ignored",
          "traceback": [
            "\u001b[0;31m---------------------------------------------------------------------------\u001b[0m",
            "\u001b[0;31mNameError\u001b[0m                                 Traceback (most recent call last)",
            "\u001b[0;32m<ipython-input-39-582ca49526e8>\u001b[0m in \u001b[0;36m<cell line: 2>\u001b[0;34m()\u001b[0m\n\u001b[1;32m      1\u001b[0m \u001b[0mpet_sounds\u001b[0m \u001b[0;34m=\u001b[0m \u001b[0malbums_tracks\u001b[0m\u001b[0;34m[\u001b[0m\u001b[0;36m0\u001b[0m\u001b[0;34m]\u001b[0m\u001b[0;34m\u001b[0m\u001b[0;34m\u001b[0m\u001b[0m\n\u001b[0;32m----> 2\u001b[0;31m \u001b[0mfind_top_songs\u001b[0m\u001b[0;34m(\u001b[0m\u001b[0mpet_sounds\u001b[0m\u001b[0;34m,\u001b[0m \u001b[0msongs\u001b[0m\u001b[0;34m)\u001b[0m\u001b[0;34m\u001b[0m\u001b[0;34m\u001b[0m\u001b[0m\n\u001b[0m\u001b[1;32m      3\u001b[0m \u001b[0;31m# ['Caroline, No', 'God Only Knows', 'Sloop John B']\u001b[0m\u001b[0;34m\u001b[0m\u001b[0;34m\u001b[0m\u001b[0m\n",
            "\u001b[0;32m/content/top_songs.py\u001b[0m in \u001b[0;36mfind_top_songs\u001b[0;34m(album, songs)\u001b[0m\n\u001b[1;32m     12\u001b[0m         \u001b[0malbums_top\u001b[0m\u001b[0;34m[\u001b[0m\u001b[0malbum\u001b[0m\u001b[0;34m[\u001b[0m\u001b[0;34m'album'\u001b[0m\u001b[0;34m]\u001b[0m\u001b[0;34m]\u001b[0m \u001b[0;34m=\u001b[0m \u001b[0mtop_songs\u001b[0m\u001b[0;34m\u001b[0m\u001b[0;34m\u001b[0m\u001b[0m\n\u001b[1;32m     13\u001b[0m \u001b[0;34m\u001b[0m\u001b[0m\n\u001b[0;32m---> 14\u001b[0;31m     \u001b[0;32mreturn\u001b[0m \u001b[0malbums_top\u001b[0m\u001b[0;34m\u001b[0m\u001b[0;34m\u001b[0m\u001b[0m\n\u001b[0m\u001b[1;32m     15\u001b[0m \u001b[0;34m\u001b[0m\u001b[0m\n\u001b[1;32m     16\u001b[0m \u001b[0;31m# top_songs.py\u001b[0m\u001b[0;34m\u001b[0m\u001b[0;34m\u001b[0m\u001b[0m\n",
            "\u001b[0;31mNameError\u001b[0m: name 'tracks' is not defined"
          ]
        }
      ],
      "source": [
        "pet_sounds = albums_tracks[0]\n",
        "find_top_songs(pet_sounds, songs)\n",
        "# ['Caroline, No', 'God Only Knows', 'Sloop John B']"
      ]
    },
    {
      "cell_type": "markdown",
      "metadata": {
        "id": "qGBxULcyAKLr"
      },
      "source": [
        "Ok, the reason why `tracks` is not defined is because it's defined in a different file.  Use import to load it into the `top_songs` file.  Then call the `from top_songs import find_top_songs` statement again so that the notebook see the changes."
      ]
    },
    {
      "cell_type": "markdown",
      "metadata": {
        "id": "U-26qwFRAKLr"
      },
      "source": [
        "If `tracks` is now loaded in, we should see another error that `find_song` is not defined."
      ]
    },
    {
      "cell_type": "markdown",
      "metadata": {
        "id": "-zA4_BvvAKLr"
      },
      "source": [
        "> Make the necessary changes to fix this error."
      ]
    },
    {
      "cell_type": "markdown",
      "metadata": {
        "id": "_qCq0LPWAKLr"
      },
      "source": [
        "You can check that your function is working by re-executing it.  It should output\n",
        "\n",
        "`['Caroline, No', 'God Only Knows', 'Sloop John B']`."
      ]
    },
    {
      "cell_type": "markdown",
      "metadata": {
        "id": "0YwpbwjnAKLr"
      },
      "source": [
        "### One File to Load Them All"
      ]
    },
    {
      "cell_type": "markdown",
      "metadata": {
        "id": "JDlo9vCfAKLs"
      },
      "source": [
        "Finally, let's create a file that loads each of the others called `index.py`.  Again use the `touch` command to create the file."
      ]
    },
    {
      "cell_type": "code",
      "source": [
        "!touch index.py"
      ],
      "metadata": {
        "id": "b6S8WKo3G3gI"
      },
      "execution_count": 40,
      "outputs": []
    },
    {
      "cell_type": "markdown",
      "metadata": {
        "id": "pGtzhijJAKNG"
      },
      "source": [
        "Then import all of the functions in our codebase into the `index` file.\n",
        "\n",
        "If it works, we can simply load up the code available in the index file, and use it in our notebook."
      ]
    },
    {
      "cell_type": "code",
      "execution_count": 42,
      "metadata": {
        "id": "RAf6iiaTAKNG"
      },
      "outputs": [],
      "source": [
        "from index import *"
      ]
    },
    {
      "cell_type": "markdown",
      "metadata": {
        "id": "67KU3b8BAKNH"
      },
      "source": [
        "Let's check that we can now use the functions written in our codebase."
      ]
    },
    {
      "cell_type": "code",
      "execution_count": 43,
      "metadata": {
        "id": "fSQWf0o4AKNH",
        "outputId": "94354de3-c11e-42d8-c988-8825695f1b85",
        "colab": {
          "base_uri": "https://localhost:8080/",
          "height": 35
        }
      },
      "outputs": [
        {
          "output_type": "execute_result",
          "data": {
            "text/plain": [
              "'With A Little Help From My Friends'"
            ],
            "application/vnd.google.colaboratory.intrinsic+json": {
              "type": "string"
            }
          },
          "metadata": {},
          "execution_count": 43
        }
      ],
      "source": [
        "track = 'With A Little Help From My Friends - Remix'\n",
        "clean_track(track)\n",
        "# 'With A Little Help From My Friends'"
      ]
    },
    {
      "cell_type": "markdown",
      "metadata": {
        "id": "bRmupjupAKNH"
      },
      "source": [
        "### Summary"
      ]
    },
    {
      "cell_type": "markdown",
      "metadata": {
        "id": "ihe5CO-uAKNI"
      },
      "source": [
        "In this lab, we saw how to connect files together with the import statement.  We also saw that how to fix errors in our files through the use of import.  Finally, we practiced loading our codebase into one aggrgegating file and then importing that file to gain access code in our codebase."
      ]
    }
  ],
  "metadata": {
    "kernelspec": {
      "display_name": "Python 3",
      "language": "python",
      "name": "python3"
    },
    "language_info": {
      "codemirror_mode": {
        "name": "ipython",
        "version": 3
      },
      "file_extension": ".py",
      "mimetype": "text/x-python",
      "name": "python",
      "nbconvert_exporter": "python",
      "pygments_lexer": "ipython3",
      "version": "3.7.4"
    },
    "colab": {
      "provenance": [],
      "include_colab_link": true
    }
  },
  "nbformat": 4,
  "nbformat_minor": 0
}