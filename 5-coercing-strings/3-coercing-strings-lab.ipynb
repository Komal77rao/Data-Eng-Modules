{
  "cells": [
    {
      "cell_type": "markdown",
      "metadata": {
        "id": "lc3uicQ61oWH"
      },
      "source": [
        "# Coercing Strings Lab"
      ]
    },
    {
      "cell_type": "markdown",
      "metadata": {
        "id": "YfgPnhnC1oWO"
      },
      "source": [
        "### Introduction"
      ]
    },
    {
      "cell_type": "markdown",
      "metadata": {
        "id": "9ZZd0uqm1oWP"
      },
      "source": [
        "In this lesson, let's practice working with string data in Python.  We'll do so by looking at the Yelp reviews for Max's Wine Bar in Texas."
      ]
    },
    {
      "cell_type": "markdown",
      "metadata": {
        "id": "QKDEFQIz1oWQ"
      },
      "source": [
        "### Loading The Data"
      ]
    },
    {
      "cell_type": "markdown",
      "metadata": {
        "id": "1rAM5BVd1oWR"
      },
      "source": [
        "We start by loading up the data, and then selecting the text from the reviews."
      ]
    },
    {
      "cell_type": "code",
      "execution_count": 4,
      "metadata": {
        "id": "ifc8GsAF1oWR",
        "outputId": "afb8bc29-4aeb-48bb-e167-a4d5122aae2e",
        "colab": {
          "base_uri": "https://localhost:8080/",
          "height": 206
        }
      },
      "outputs": [
        {
          "output_type": "execute_result",
          "data": {
            "text/plain": [
              "   rating       date                                               text\n",
              "0       5 2018-01-28  Chicken and waffles are bombomski!!!! So yum 1...\n",
              "1       5 2018-01-04  This place holds great memories for me and my ...\n",
              "2       5 2017-12-05  I love this place! I appreciate how diverse th...\n",
              "3       3 2017-08-15  Oh Max's... such DELICIOUS food and yet terrib...\n",
              "4       3 2017-08-10  This place has been soo talked about via Thril..."
            ],
            "text/html": [
              "\n",
              "  <div id=\"df-86f99280-6eae-4a1d-bb86-172a48bd503e\" class=\"colab-df-container\">\n",
              "    <div>\n",
              "<style scoped>\n",
              "    .dataframe tbody tr th:only-of-type {\n",
              "        vertical-align: middle;\n",
              "    }\n",
              "\n",
              "    .dataframe tbody tr th {\n",
              "        vertical-align: top;\n",
              "    }\n",
              "\n",
              "    .dataframe thead th {\n",
              "        text-align: right;\n",
              "    }\n",
              "</style>\n",
              "<table border=\"1\" class=\"dataframe\">\n",
              "  <thead>\n",
              "    <tr style=\"text-align: right;\">\n",
              "      <th></th>\n",
              "      <th>rating</th>\n",
              "      <th>date</th>\n",
              "      <th>text</th>\n",
              "    </tr>\n",
              "  </thead>\n",
              "  <tbody>\n",
              "    <tr>\n",
              "      <th>0</th>\n",
              "      <td>5</td>\n",
              "      <td>2018-01-28</td>\n",
              "      <td>Chicken and waffles are bombomski!!!! So yum 1...</td>\n",
              "    </tr>\n",
              "    <tr>\n",
              "      <th>1</th>\n",
              "      <td>5</td>\n",
              "      <td>2018-01-04</td>\n",
              "      <td>This place holds great memories for me and my ...</td>\n",
              "    </tr>\n",
              "    <tr>\n",
              "      <th>2</th>\n",
              "      <td>5</td>\n",
              "      <td>2017-12-05</td>\n",
              "      <td>I love this place! I appreciate how diverse th...</td>\n",
              "    </tr>\n",
              "    <tr>\n",
              "      <th>3</th>\n",
              "      <td>3</td>\n",
              "      <td>2017-08-15</td>\n",
              "      <td>Oh Max's... such DELICIOUS food and yet terrib...</td>\n",
              "    </tr>\n",
              "    <tr>\n",
              "      <th>4</th>\n",
              "      <td>3</td>\n",
              "      <td>2017-08-10</td>\n",
              "      <td>This place has been soo talked about via Thril...</td>\n",
              "    </tr>\n",
              "  </tbody>\n",
              "</table>\n",
              "</div>\n",
              "    <div class=\"colab-df-buttons\">\n",
              "\n",
              "  <div class=\"colab-df-container\">\n",
              "    <button class=\"colab-df-convert\" onclick=\"convertToInteractive('df-86f99280-6eae-4a1d-bb86-172a48bd503e')\"\n",
              "            title=\"Convert this dataframe to an interactive table.\"\n",
              "            style=\"display:none;\">\n",
              "\n",
              "  <svg xmlns=\"http://www.w3.org/2000/svg\" height=\"24px\" viewBox=\"0 -960 960 960\">\n",
              "    <path d=\"M120-120v-720h720v720H120Zm60-500h600v-160H180v160Zm220 220h160v-160H400v160Zm0 220h160v-160H400v160ZM180-400h160v-160H180v160Zm440 0h160v-160H620v160ZM180-180h160v-160H180v160Zm440 0h160v-160H620v160Z\"/>\n",
              "  </svg>\n",
              "    </button>\n",
              "\n",
              "  <style>\n",
              "    .colab-df-container {\n",
              "      display:flex;\n",
              "      gap: 12px;\n",
              "    }\n",
              "\n",
              "    .colab-df-convert {\n",
              "      background-color: #E8F0FE;\n",
              "      border: none;\n",
              "      border-radius: 50%;\n",
              "      cursor: pointer;\n",
              "      display: none;\n",
              "      fill: #1967D2;\n",
              "      height: 32px;\n",
              "      padding: 0 0 0 0;\n",
              "      width: 32px;\n",
              "    }\n",
              "\n",
              "    .colab-df-convert:hover {\n",
              "      background-color: #E2EBFA;\n",
              "      box-shadow: 0px 1px 2px rgba(60, 64, 67, 0.3), 0px 1px 3px 1px rgba(60, 64, 67, 0.15);\n",
              "      fill: #174EA6;\n",
              "    }\n",
              "\n",
              "    .colab-df-buttons div {\n",
              "      margin-bottom: 4px;\n",
              "    }\n",
              "\n",
              "    [theme=dark] .colab-df-convert {\n",
              "      background-color: #3B4455;\n",
              "      fill: #D2E3FC;\n",
              "    }\n",
              "\n",
              "    [theme=dark] .colab-df-convert:hover {\n",
              "      background-color: #434B5C;\n",
              "      box-shadow: 0px 1px 3px 1px rgba(0, 0, 0, 0.15);\n",
              "      filter: drop-shadow(0px 1px 2px rgba(0, 0, 0, 0.3));\n",
              "      fill: #FFFFFF;\n",
              "    }\n",
              "  </style>\n",
              "\n",
              "    <script>\n",
              "      const buttonEl =\n",
              "        document.querySelector('#df-86f99280-6eae-4a1d-bb86-172a48bd503e button.colab-df-convert');\n",
              "      buttonEl.style.display =\n",
              "        google.colab.kernel.accessAllowed ? 'block' : 'none';\n",
              "\n",
              "      async function convertToInteractive(key) {\n",
              "        const element = document.querySelector('#df-86f99280-6eae-4a1d-bb86-172a48bd503e');\n",
              "        const dataTable =\n",
              "          await google.colab.kernel.invokeFunction('convertToInteractive',\n",
              "                                                    [key], {});\n",
              "        if (!dataTable) return;\n",
              "\n",
              "        const docLinkHtml = 'Like what you see? Visit the ' +\n",
              "          '<a target=\"_blank\" href=https://colab.research.google.com/notebooks/data_table.ipynb>data table notebook</a>'\n",
              "          + ' to learn more about interactive tables.';\n",
              "        element.innerHTML = '';\n",
              "        dataTable['output_type'] = 'display_data';\n",
              "        await google.colab.output.renderOutput(dataTable, element);\n",
              "        const docLink = document.createElement('div');\n",
              "        docLink.innerHTML = docLinkHtml;\n",
              "        element.appendChild(docLink);\n",
              "      }\n",
              "    </script>\n",
              "  </div>\n",
              "\n",
              "\n",
              "<div id=\"df-26992d81-ea21-44a2-aa8a-5a008ba5ec36\">\n",
              "  <button class=\"colab-df-quickchart\" onclick=\"quickchart('df-26992d81-ea21-44a2-aa8a-5a008ba5ec36')\"\n",
              "            title=\"Suggest charts.\"\n",
              "            style=\"display:none;\">\n",
              "\n",
              "<svg xmlns=\"http://www.w3.org/2000/svg\" height=\"24px\"viewBox=\"0 0 24 24\"\n",
              "     width=\"24px\">\n",
              "    <g>\n",
              "        <path d=\"M19 3H5c-1.1 0-2 .9-2 2v14c0 1.1.9 2 2 2h14c1.1 0 2-.9 2-2V5c0-1.1-.9-2-2-2zM9 17H7v-7h2v7zm4 0h-2V7h2v10zm4 0h-2v-4h2v4z\"/>\n",
              "    </g>\n",
              "</svg>\n",
              "  </button>\n",
              "\n",
              "<style>\n",
              "  .colab-df-quickchart {\n",
              "      --bg-color: #E8F0FE;\n",
              "      --fill-color: #1967D2;\n",
              "      --hover-bg-color: #E2EBFA;\n",
              "      --hover-fill-color: #174EA6;\n",
              "      --disabled-fill-color: #AAA;\n",
              "      --disabled-bg-color: #DDD;\n",
              "  }\n",
              "\n",
              "  [theme=dark] .colab-df-quickchart {\n",
              "      --bg-color: #3B4455;\n",
              "      --fill-color: #D2E3FC;\n",
              "      --hover-bg-color: #434B5C;\n",
              "      --hover-fill-color: #FFFFFF;\n",
              "      --disabled-bg-color: #3B4455;\n",
              "      --disabled-fill-color: #666;\n",
              "  }\n",
              "\n",
              "  .colab-df-quickchart {\n",
              "    background-color: var(--bg-color);\n",
              "    border: none;\n",
              "    border-radius: 50%;\n",
              "    cursor: pointer;\n",
              "    display: none;\n",
              "    fill: var(--fill-color);\n",
              "    height: 32px;\n",
              "    padding: 0;\n",
              "    width: 32px;\n",
              "  }\n",
              "\n",
              "  .colab-df-quickchart:hover {\n",
              "    background-color: var(--hover-bg-color);\n",
              "    box-shadow: 0 1px 2px rgba(60, 64, 67, 0.3), 0 1px 3px 1px rgba(60, 64, 67, 0.15);\n",
              "    fill: var(--button-hover-fill-color);\n",
              "  }\n",
              "\n",
              "  .colab-df-quickchart-complete:disabled,\n",
              "  .colab-df-quickchart-complete:disabled:hover {\n",
              "    background-color: var(--disabled-bg-color);\n",
              "    fill: var(--disabled-fill-color);\n",
              "    box-shadow: none;\n",
              "  }\n",
              "\n",
              "  .colab-df-spinner {\n",
              "    border: 2px solid var(--fill-color);\n",
              "    border-color: transparent;\n",
              "    border-bottom-color: var(--fill-color);\n",
              "    animation:\n",
              "      spin 1s steps(1) infinite;\n",
              "  }\n",
              "\n",
              "  @keyframes spin {\n",
              "    0% {\n",
              "      border-color: transparent;\n",
              "      border-bottom-color: var(--fill-color);\n",
              "      border-left-color: var(--fill-color);\n",
              "    }\n",
              "    20% {\n",
              "      border-color: transparent;\n",
              "      border-left-color: var(--fill-color);\n",
              "      border-top-color: var(--fill-color);\n",
              "    }\n",
              "    30% {\n",
              "      border-color: transparent;\n",
              "      border-left-color: var(--fill-color);\n",
              "      border-top-color: var(--fill-color);\n",
              "      border-right-color: var(--fill-color);\n",
              "    }\n",
              "    40% {\n",
              "      border-color: transparent;\n",
              "      border-right-color: var(--fill-color);\n",
              "      border-top-color: var(--fill-color);\n",
              "    }\n",
              "    60% {\n",
              "      border-color: transparent;\n",
              "      border-right-color: var(--fill-color);\n",
              "    }\n",
              "    80% {\n",
              "      border-color: transparent;\n",
              "      border-right-color: var(--fill-color);\n",
              "      border-bottom-color: var(--fill-color);\n",
              "    }\n",
              "    90% {\n",
              "      border-color: transparent;\n",
              "      border-bottom-color: var(--fill-color);\n",
              "    }\n",
              "  }\n",
              "</style>\n",
              "\n",
              "  <script>\n",
              "    async function quickchart(key) {\n",
              "      const quickchartButtonEl =\n",
              "        document.querySelector('#' + key + ' button');\n",
              "      quickchartButtonEl.disabled = true;  // To prevent multiple clicks.\n",
              "      quickchartButtonEl.classList.add('colab-df-spinner');\n",
              "      try {\n",
              "        const charts = await google.colab.kernel.invokeFunction(\n",
              "            'suggestCharts', [key], {});\n",
              "      } catch (error) {\n",
              "        console.error('Error during call to suggestCharts:', error);\n",
              "      }\n",
              "      quickchartButtonEl.classList.remove('colab-df-spinner');\n",
              "      quickchartButtonEl.classList.add('colab-df-quickchart-complete');\n",
              "    }\n",
              "    (() => {\n",
              "      let quickchartButtonEl =\n",
              "        document.querySelector('#df-26992d81-ea21-44a2-aa8a-5a008ba5ec36 button');\n",
              "      quickchartButtonEl.style.display =\n",
              "        google.colab.kernel.accessAllowed ? 'block' : 'none';\n",
              "    })();\n",
              "  </script>\n",
              "</div>\n",
              "    </div>\n",
              "  </div>\n"
            ]
          },
          "metadata": {},
          "execution_count": 4
        }
      ],
      "source": [
        "import pandas as pd\n",
        "url = \"https://raw.githubusercontent.com/eng-6-22/mod-1-a-data-structures/master/5-coercing-strings/updated-reviews.json\"\n",
        "df = pd.read_json(url)\n",
        "df.head()"
      ]
    },
    {
      "cell_type": "code",
      "execution_count": 5,
      "metadata": {
        "id": "EZTpNunT1oWU"
      },
      "outputs": [],
      "source": [
        "reviews = list(df.text)"
      ]
    },
    {
      "cell_type": "code",
      "execution_count": 6,
      "metadata": {
        "id": "0cdMrl1z1oWW",
        "outputId": "c7738c51-4e04-4615-b679-8e36d193cbef",
        "colab": {
          "base_uri": "https://localhost:8080/",
          "height": 53
        }
      },
      "outputs": [
        {
          "output_type": "execute_result",
          "data": {
            "text/plain": [
              "'I love this place! I appreciate how diverse the staff is; how knowledgeable they are about the menu and pairings. The food is also amazing, I would recommend anything on the menu. Try the Cobb salad, superb! Also, excellent in house dressing! Keep up the good work.'"
            ],
            "application/vnd.google.colaboratory.intrinsic+json": {
              "type": "string"
            }
          },
          "metadata": {},
          "execution_count": 6
        }
      ],
      "source": [
        "reviews[2]"
      ]
    },
    {
      "cell_type": "markdown",
      "metadata": {
        "id": "tLheVXLB1oWY"
      },
      "source": [
        "### Finding and Counting"
      ]
    },
    {
      "cell_type": "markdown",
      "metadata": {
        "id": "RDPa4CHw1oWZ"
      },
      "source": [
        "Let's start by practicing with the `find` method in Python.  We'll start by selecting the seventh review."
      ]
    },
    {
      "cell_type": "code",
      "execution_count": 9,
      "metadata": {
        "id": "EZSOdriL1oWZ",
        "outputId": "8e9fb6bb-092e-47b0-a68e-79cc507e7547",
        "colab": {
          "base_uri": "https://localhost:8080/",
          "height": 35
        }
      },
      "outputs": [
        {
          "output_type": "execute_result",
          "data": {
            "text/plain": [
              "'The friend chicken here is del'"
            ],
            "application/vnd.google.colaboratory.intrinsic+json": {
              "type": "string"
            }
          },
          "metadata": {},
          "execution_count": 9
        }
      ],
      "source": [
        "seventh_review = reviews[6]\n",
        "seventh_review[:30]"
      ]
    },
    {
      "cell_type": "markdown",
      "metadata": {
        "id": "i39GJ8nB1oWZ"
      },
      "source": [
        "Now imagine that we want to write a method that selects characters before and after the word chicken to see what it is often associated with."
      ]
    },
    {
      "cell_type": "markdown",
      "metadata": {
        "id": "QHqPU7h51oWZ"
      },
      "source": [
        "> Begin by finding the index of the string in the `seventh_review` where the word `'chicken'` begins."
      ]
    },
    {
      "cell_type": "code",
      "execution_count": 10,
      "metadata": {
        "id": "VcS1cVfH1oWa"
      },
      "outputs": [],
      "source": [
        "char_chicken = seventh_review.find('chicken')\n",
        "# 11"
      ]
    },
    {
      "cell_type": "markdown",
      "metadata": {
        "id": "SJIQ4N6k1oWa"
      },
      "source": [
        "Next, write a method that selects ten characters before the word chicken and after the word chicken.  "
      ]
    },
    {
      "cell_type": "code",
      "execution_count": 13,
      "metadata": {
        "id": "dLOntCii1oWa"
      },
      "outputs": [],
      "source": [
        "def select_text(review):\n",
        "  idx = review.find('chicken')\n",
        "  return review[idx-10 : idx+17]\n",
        ""
      ]
    },
    {
      "cell_type": "code",
      "execution_count": 14,
      "metadata": {
        "id": "QTu4qMii1oWa",
        "outputId": "e9cb477b-12e4-4358-d1c2-9889aa75dd96",
        "colab": {
          "base_uri": "https://localhost:8080/",
          "height": 35
        }
      },
      "outputs": [
        {
          "output_type": "execute_result",
          "data": {
            "text/plain": [
              "'he friend chicken here is d'"
            ],
            "application/vnd.google.colaboratory.intrinsic+json": {
              "type": "string"
            }
          },
          "metadata": {},
          "execution_count": 14
        }
      ],
      "source": [
        "select_text(seventh_review)\n",
        "# 'he friend chicken here is d'"
      ]
    },
    {
      "cell_type": "markdown",
      "metadata": {
        "id": "MAy8REuY1oWb"
      },
      "source": [
        "Now write a method that can take any string and word as an argument and return ten characters before and after that word."
      ]
    },
    {
      "cell_type": "code",
      "execution_count": 19,
      "metadata": {
        "id": "VnAxXY7Z1oWb"
      },
      "outputs": [],
      "source": [
        "def select_text_around(review, word):\n",
        "  idx = review.find(word)\n",
        "  start = idx-10\n",
        "  end = idx+len(word)+10\n",
        "  return review[start:end]\n",
        ""
      ]
    },
    {
      "cell_type": "code",
      "execution_count": 20,
      "metadata": {
        "id": "_9u6PybL1oWb",
        "outputId": "8342f027-b070-454b-9e07-0eeec0bcff49",
        "colab": {
          "base_uri": "https://localhost:8080/",
          "height": 35
        }
      },
      "outputs": [
        {
          "output_type": "execute_result",
          "data": {
            "text/plain": [
              "'e classic fried chicken, '"
            ],
            "application/vnd.google.colaboratory.intrinsic+json": {
              "type": "string"
            }
          },
          "metadata": {},
          "execution_count": 20
        }
      ],
      "source": [
        "select_text_around(seventh_review, 'fried')\n",
        "# 'e classic fried chicken, '"
      ]
    },
    {
      "cell_type": "markdown",
      "metadata": {
        "id": "hk23kfUq1oWc"
      },
      "source": [
        "2. Using Count"
      ]
    },
    {
      "cell_type": "markdown",
      "metadata": {
        "id": "NJOkYmN31oWc"
      },
      "source": [
        "Next, let's write a function that counts up the number of exclamation points in a review."
      ]
    },
    {
      "cell_type": "markdown",
      "metadata": {
        "id": "cn7Ck02a1oWc"
      },
      "source": [
        "> Do so with the `count` method."
      ]
    },
    {
      "cell_type": "code",
      "execution_count": 21,
      "metadata": {
        "id": "yMUfZdZf1oWd"
      },
      "outputs": [],
      "source": [
        "def count_exclamations(review):\n",
        "    return review.count('!')"
      ]
    },
    {
      "cell_type": "code",
      "execution_count": 22,
      "metadata": {
        "id": "k-Bja5Si1oWd",
        "outputId": "5ebc3ead-4cd1-49c0-fbb2-c0366c70bd3f",
        "colab": {
          "base_uri": "https://localhost:8080/"
        }
      },
      "outputs": [
        {
          "output_type": "execute_result",
          "data": {
            "text/plain": [
              "5"
            ]
          },
          "metadata": {},
          "execution_count": 22
        }
      ],
      "source": [
        "first_review = reviews[0]\n",
        "count_exclamations(first_review)\n",
        "# 5"
      ]
    },
    {
      "cell_type": "markdown",
      "metadata": {
        "id": "eQDihLdy1oWd"
      },
      "source": [
        "There are other ways to do this.  For example, note that we can iterate through the characters of a string."
      ]
    },
    {
      "cell_type": "markdown",
      "metadata": {
        "id": "6jmsIGdW1oWe"
      },
      "source": [
        "> See this by uncommenting and executing the cell below."
      ]
    },
    {
      "cell_type": "code",
      "execution_count": 29,
      "metadata": {
        "id": "1RFozsY91oWe",
        "outputId": "878c611f-0bd7-4276-9ffb-2ffed02808e7",
        "colab": {
          "base_uri": "https://localhost:8080/",
          "height": 35
        }
      },
      "outputs": [
        {
          "output_type": "execute_result",
          "data": {
            "text/plain": [
              "'Chicken and waffles are bombomski!!!! So yum 100% recommend. Outdoor area is good! Will be back.'"
            ],
            "application/vnd.google.colaboratory.intrinsic+json": {
              "type": "string"
            }
          },
          "metadata": {},
          "execution_count": 29
        }
      ],
      "source": [
        "first_review"
      ]
    },
    {
      "cell_type": "markdown",
      "metadata": {
        "id": "vf4Ea1st1oWe"
      },
      "source": [
        "So use list comprehension to count up the number of exclamation points in a string."
      ]
    },
    {
      "cell_type": "code",
      "execution_count": 26,
      "metadata": {
        "id": "Jzhgr0JE1oWe"
      },
      "outputs": [],
      "source": [
        "def count_exclamations(review):\n",
        "  #points = [ for char in review]\n",
        "  #return points\n",
        ""
      ]
    },
    {
      "cell_type": "code",
      "source": [],
      "metadata": {
        "id": "71InUcGq5SPk"
      },
      "execution_count": 27,
      "outputs": []
    },
    {
      "cell_type": "markdown",
      "metadata": {
        "id": "vSHcdvk-1oWe"
      },
      "source": [
        "### Back to Split"
      ]
    },
    {
      "cell_type": "markdown",
      "metadata": {
        "id": "NzXKiU-F1oWf"
      },
      "source": [
        "Let's return to our method where we found the text that surrounds the word  `chicken` using the find method.  Now another way that we could do this is by splitting the review by word, and then selecting the words before and after the specified word in a reviww.  \n",
        "\n",
        "> To do this, we'll need a way to find the `index` where our word is located, so look at:\n",
        "\n",
        "* `enumerate` in Python\n",
        "* using `range()` to iterate through a list"
      ]
    },
    {
      "cell_type": "code",
      "execution_count": 99,
      "metadata": {
        "id": "gCo4ffIA1oWf"
      },
      "outputs": [],
      "source": [
        "def review_word(review, selected_word):\n",
        "  idx = None\n",
        "  reviews = review.split()\n",
        "  context = []\n",
        "\n",
        "  for index, word in enumerate(reviews, start = 0):\n",
        "    if word == selected_word:\n",
        "      idx = int(index)\n",
        "\n",
        "      start_idx = max(0,idx-2)\n",
        "      end_idx = min(len(review),idx+2)\n",
        "\n",
        "      context.append(' '.join(reviews[start_idx : end_idx]))\n",
        "\n",
        "  return context\n",
        "\n",
        ""
      ]
    },
    {
      "cell_type": "code",
      "source": [
        "idx = None\n",
        "review = reviews[13].split()\n",
        "#print(review)\n",
        "for index, word in enumerate(review, start = 0):\n",
        "\n",
        "  if word == 'was':\n",
        "    idx = int(index)\n",
        "    start_idx = max(0,idx-2)\n",
        "    end_idx = min(len(review),idx+2)\n",
        "\n",
        "    print(review[start_idx:end_idx])\n",
        "\n",
        "    #return ass\n"
      ],
      "metadata": {
        "id": "GEPUthjPPxH0",
        "outputId": "ef893427-9ff3-4e78-e649-0ec784059dbc",
        "colab": {
          "base_uri": "https://localhost:8080/"
        }
      },
      "execution_count": 74,
      "outputs": [
        {
          "output_type": "stream",
          "name": "stdout",
          "text": [
            "['Service', 'was', 'slow', 'even', 'though', 'the', 'place', \"wasn't\", 'crowded.', 'I', 'ordered', 'the', 'chicken', 'and', 'waffles.', 'The', 'waffle', 'was', 'cold', 'with', 'no', 'butter', 'the', 'chicken', 'was', 'good', 'but', 'I', 'had', 'to', 'ask', 'for', 'syrup.', 'I', 'think', 'the', 'dish', 'was', 'over', 'priced', 'as', 'well', '18$', 'for', 'a', 'waffle', 'and', 'three', 'chicken', 'wings.', 'Luckily', 'I', 'got', 'a', 'Groupon', 'deal', 'on', 'the', 'meal', 'the', 'total', 'for', 'our', 'table', 'would', 'have', 'been', '65$', 'without', 'the', 'deal.', 'The', 'only', 'way', 'I', 'would', 'eat', 'here', 'again', 'is', 'through', 'Groupon', 'def', 'not', 'worth', 'full', 'price.']\n",
            "['Service', 'was', 'slow']\n",
            "['The', 'waffle', 'was', 'cold']\n",
            "['the', 'chicken', 'was', 'good']\n",
            "['the', 'dish', 'was', 'over']\n"
          ]
        }
      ]
    },
    {
      "cell_type": "code",
      "source": [
        "chosen_review = reviews[13]\n",
        "review_word(chosen_review,'was')\n"
      ],
      "metadata": {
        "id": "A2HumKp0CE88",
        "outputId": "52fd7d26-3bcc-4f97-f80c-c733d028b6fd",
        "colab": {
          "base_uri": "https://localhost:8080/"
        }
      },
      "execution_count": 100,
      "outputs": [
        {
          "output_type": "execute_result",
          "data": {
            "text/plain": [
              "['Service was slow',\n",
              " 'The waffle was cold',\n",
              " 'the chicken was good',\n",
              " 'the dish was over']"
            ]
          },
          "metadata": {},
          "execution_count": 100
        }
      ]
    },
    {
      "cell_type": "code",
      "source": [
        "#enumerate() function example\n",
        "\n",
        "fruits = ['apple', 'banana', 'cherry', 'date']\n",
        "\n",
        "for index, fruit in enumerate(fruits, start=0):\n",
        "    print(f\"Item {index}: {fruit}\")\n"
      ],
      "metadata": {
        "id": "FdN4ZAFo75Uj",
        "outputId": "dced0d45-03b9-48cf-922b-2fcb8efad071",
        "colab": {
          "base_uri": "https://localhost:8080/"
        }
      },
      "execution_count": 28,
      "outputs": [
        {
          "output_type": "stream",
          "name": "stdout",
          "text": [
            "Item 0: apple\n",
            "Item 1: banana\n",
            "Item 2: cherry\n",
            "Item 3: date\n"
          ]
        }
      ]
    },
    {
      "cell_type": "code",
      "execution_count": null,
      "metadata": {
        "id": "9hjYXjkX1oWg"
      },
      "outputs": [],
      "source": [
        "chosen_review = reviews[13]\n",
        "review_word(chosen_review, \"was\")\n",
        "# ['Service was slow',\n",
        "#  'The waffle was cold',\n",
        "#  'the chicken was good',\n",
        "#  'the dish was over']"
      ]
    },
    {
      "cell_type": "markdown",
      "metadata": {
        "id": "EN8Ig98M1oXN"
      },
      "source": [
        "> The above is hard so please split it into steps and try to make progress."
      ]
    }
  ],
  "metadata": {
    "kernelspec": {
      "display_name": "Python 3 (ipykernel)",
      "language": "python",
      "name": "python3"
    },
    "language_info": {
      "codemirror_mode": {
        "name": "ipython",
        "version": 3
      },
      "file_extension": ".py",
      "mimetype": "text/x-python",
      "name": "python",
      "nbconvert_exporter": "python",
      "pygments_lexer": "ipython3",
      "version": "3.9.10"
    },
    "colab": {
      "provenance": []
    }
  },
  "nbformat": 4,
  "nbformat_minor": 0
}