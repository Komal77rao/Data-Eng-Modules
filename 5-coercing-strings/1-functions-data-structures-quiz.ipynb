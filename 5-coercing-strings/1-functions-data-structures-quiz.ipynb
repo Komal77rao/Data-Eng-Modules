{
  "cells": [
    {
      "cell_type": "markdown",
      "metadata": {
        "id": "c-vN4jsKEdeL"
      },
      "source": [
        "# Functions Data Structures Quiz"
      ]
    },
    {
      "cell_type": "markdown",
      "metadata": {
        "id": "XflzC4mDEdfD"
      },
      "source": [
        "### Function Warmup"
      ]
    },
    {
      "cell_type": "markdown",
      "metadata": {
        "id": "trJd9b8kEdfE"
      },
      "source": [
        "Write a function that takes in a person's name and capitalizes it."
      ]
    },
    {
      "cell_type": "code",
      "execution_count": 1,
      "metadata": {
        "id": "h-uB9qOyEdfH"
      },
      "outputs": [],
      "source": [
        "def capitalize_name(name):\n",
        "    return name.capitalize()"
      ]
    },
    {
      "cell_type": "code",
      "execution_count": 2,
      "metadata": {
        "id": "_o7niGueEdfY",
        "outputId": "57c335da-d5c7-44ed-b426-d8186c104369",
        "colab": {
          "base_uri": "https://localhost:8080/",
          "height": 35
        }
      },
      "outputs": [
        {
          "output_type": "execute_result",
          "data": {
            "text/plain": [
              "'Bob'"
            ],
            "application/vnd.google.colaboratory.intrinsic+json": {
              "type": "string"
            }
          },
          "metadata": {},
          "execution_count": 2
        }
      ],
      "source": [
        "capitalize_name('bob')\n",
        "# 'Bob'"
      ]
    },
    {
      "cell_type": "code",
      "execution_count": 3,
      "metadata": {
        "id": "KxNGLM2NEdfh",
        "outputId": "a35fa274-e5cf-43b4-e32a-d720e2885ac3",
        "colab": {
          "base_uri": "https://localhost:8080/",
          "height": 35
        }
      },
      "outputs": [
        {
          "output_type": "execute_result",
          "data": {
            "text/plain": [
              "'Fred'"
            ],
            "application/vnd.google.colaboratory.intrinsic+json": {
              "type": "string"
            }
          },
          "metadata": {},
          "execution_count": 3
        }
      ],
      "source": [
        "capitalize_name('fred')\n",
        "# 'Fred'"
      ]
    },
    {
      "cell_type": "markdown",
      "metadata": {
        "id": "TU-UVqOnEdfp"
      },
      "source": [
        "* Write a function that takes two numbers and divides them"
      ]
    },
    {
      "cell_type": "code",
      "execution_count": 7,
      "metadata": {
        "id": "aRjvY011Edfs"
      },
      "outputs": [],
      "source": [
        "def divide(first_number, second_number = 1):\n",
        "  return first_number/second_number"
      ]
    },
    {
      "cell_type": "code",
      "execution_count": 8,
      "metadata": {
        "id": "22_Qan6GEdft",
        "outputId": "16201b11-4ead-4803-f591-ee9064c1eeef",
        "colab": {
          "base_uri": "https://localhost:8080/"
        }
      },
      "outputs": [
        {
          "output_type": "execute_result",
          "data": {
            "text/plain": [
              "3.0"
            ]
          },
          "metadata": {},
          "execution_count": 8
        }
      ],
      "source": [
        "divide(6, 2)\n",
        "# 3.0"
      ]
    },
    {
      "cell_type": "markdown",
      "metadata": {
        "id": "0XI5B-_oEdfu"
      },
      "source": [
        "Now change the function `divide` so that when `second_number` is not defined, we divide by one."
      ]
    },
    {
      "cell_type": "code",
      "execution_count": 9,
      "metadata": {
        "id": "CDfF7wspEdfy",
        "outputId": "42779131-7927-4595-b66d-1739fe907704",
        "colab": {
          "base_uri": "https://localhost:8080/"
        }
      },
      "outputs": [
        {
          "output_type": "execute_result",
          "data": {
            "text/plain": [
              "6.0"
            ]
          },
          "metadata": {},
          "execution_count": 9
        }
      ],
      "source": [
        "divide(6)\n",
        "# 6"
      ]
    },
    {
      "cell_type": "markdown",
      "metadata": {
        "id": "FPcZUEdMEdf-"
      },
      "source": [
        "### Loops Warmup"
      ]
    },
    {
      "cell_type": "code",
      "execution_count": 10,
      "metadata": {
        "id": "BdfIkJhrEdf-"
      },
      "outputs": [],
      "source": [
        "parks = ['bryant', 'central', 'battery']"
      ]
    },
    {
      "cell_type": "markdown",
      "metadata": {
        "id": "sbl2bYSwEdgB"
      },
      "source": [
        "* Use loops to create a list of the `capitalized_parks` where each park is capitalized."
      ]
    },
    {
      "cell_type": "code",
      "execution_count": 11,
      "metadata": {
        "id": "QlMB5X-0EdgC"
      },
      "outputs": [],
      "source": [
        "capitalized_parks = [capitalize_name(park) for park in parks]\n",
        "\n"
      ]
    },
    {
      "cell_type": "code",
      "execution_count": 12,
      "metadata": {
        "id": "gCQL2wLjEdgC",
        "outputId": "a0a4a17d-ad3c-414a-a4ae-9b48a41de1b0",
        "colab": {
          "base_uri": "https://localhost:8080/"
        }
      },
      "outputs": [
        {
          "output_type": "execute_result",
          "data": {
            "text/plain": [
              "['Bryant', 'Central', 'Battery']"
            ]
          },
          "metadata": {},
          "execution_count": 12
        }
      ],
      "source": [
        "capitalized_parks\n",
        "# ['Bryant', 'Central', 'Battery']"
      ]
    },
    {
      "cell_type": "markdown",
      "metadata": {
        "id": "IgOUCeELEdgG"
      },
      "source": [
        "If you did not do so above, use list comprehension to capizalize the parks."
      ]
    },
    {
      "cell_type": "code",
      "execution_count": 13,
      "metadata": {
        "id": "64atT0aXEdgJ"
      },
      "outputs": [],
      "source": [
        "capitalized_parks = [capitalize_name(park) for park in parks]"
      ]
    },
    {
      "cell_type": "markdown",
      "metadata": {
        "id": "ea6eLTDnEdgL"
      },
      "source": [
        "* Working with lists of dictionaries"
      ]
    },
    {
      "cell_type": "code",
      "execution_count": 37,
      "metadata": {
        "id": "I6AyeQgLEdgL"
      },
      "outputs": [],
      "source": [
        "detailed_parks = [\n",
        "    {'name': 'Bryant Park', 'location': 'Midtown', 'acres': 9.6},\n",
        "    {'name': 'Central Park', 'location': 'Uptown', 'acres': 840},\n",
        "    {'name': 'Battery Park', 'location': 'Downtown', 'acres': 25},\n",
        "    {'name': 'Morningside Park', 'location': 'Morningside', 'acres': 30}\n",
        "]"
      ]
    },
    {
      "cell_type": "markdown",
      "metadata": {
        "id": "s6v_Eu4mEdgM"
      },
      "source": [
        "* Write a function that will add a key value pair of `'city': 'New York'` to each of the dictionaries above."
      ]
    },
    {
      "cell_type": "code",
      "execution_count": 48,
      "metadata": {
        "id": "_Ehg6BTpEdgM"
      },
      "outputs": [],
      "source": [
        "def add_city(detailed_parks):\n",
        "  park_city = []\n",
        "  for park in detailed_parks:\n",
        "    park['city'] = 'New york'\n",
        "    park_city.append(park)\n",
        "  return park_city\n",
        "\n"
      ]
    },
    {
      "cell_type": "code",
      "execution_count": 49,
      "metadata": {
        "id": "LmXl_TsHEdgM",
        "outputId": "78b8d618-6ee3-42f4-b520-cfbdde6985e6",
        "colab": {
          "base_uri": "https://localhost:8080/"
        }
      },
      "outputs": [
        {
          "output_type": "execute_result",
          "data": {
            "text/plain": [
              "[{'name': 'Bryant Park',\n",
              "  'location': 'Midtown',\n",
              "  'acres': 9.6,\n",
              "  'city': 'New york'},\n",
              " {'name': 'Central Park',\n",
              "  'location': 'Uptown',\n",
              "  'acres': 840,\n",
              "  'city': 'New york'},\n",
              " {'name': 'Battery Park',\n",
              "  'location': 'Downtown',\n",
              "  'acres': 25,\n",
              "  'city': 'New york'},\n",
              " {'name': 'Morningside Park',\n",
              "  'location': 'Morningside',\n",
              "  'acres': 30,\n",
              "  'city': 'New york'}]"
            ]
          },
          "metadata": {},
          "execution_count": 49
        }
      ],
      "source": [
        "add_city(detailed_parks)\n",
        "\n",
        "# [{'name': 'Bryant Park', 'location': 'Midtown', 'acres': 9.6, 'city': 'New York'},\n",
        "# {'name': 'Central Park', 'location': 'Uptown', 'acres': 840, 'city': 'New York'},\n",
        "# {'name': 'Battery Park', 'location': 'Downtown', 'acres': 25, 'city': 'New York'},\n",
        "# {'name': 'Morningside Park', 'location': 'Morningside', 'acres': 30, 'city': 'New York'}]"
      ]
    },
    {
      "cell_type": "markdown",
      "metadata": {
        "id": "YxvoP-XWEdgN"
      },
      "source": [
        "* Then use list comprehension to create a list of park names."
      ]
    },
    {
      "cell_type": "code",
      "execution_count": 52,
      "metadata": {
        "id": "Jmlmt7RMEdgO",
        "outputId": "2010d609-c87b-4a87-8225-00f87fcefea3",
        "colab": {
          "base_uri": "https://localhost:8080/"
        }
      },
      "outputs": [
        {
          "output_type": "execute_result",
          "data": {
            "text/plain": [
              "['Bryant Park', 'Central Park', 'Battery Park', 'Morningside Park']"
            ]
          },
          "metadata": {},
          "execution_count": 52
        }
      ],
      "source": [
        "park_names = [park_name['name'] for park_name in detailed_parks]\n",
        "park_names\n",
        "\n",
        "# ['Bryant Park', 'Central Park', 'Battery Park', 'Morningside Park']"
      ]
    },
    {
      "cell_type": "markdown",
      "metadata": {
        "id": "hGGkXtzfEdgQ"
      },
      "source": [
        "* Loop through each of the parks, and only add the parks that are strictly less than 30 acres.  Assign them to the list, smaller parks."
      ]
    },
    {
      "cell_type": "code",
      "execution_count": 53,
      "metadata": {
        "id": "sGHSI0yuEdgQ",
        "outputId": "0ef02771-714d-45a4-ce4f-5d837f5e2c8f",
        "colab": {
          "base_uri": "https://localhost:8080/"
        }
      },
      "outputs": [
        {
          "output_type": "execute_result",
          "data": {
            "text/plain": [
              "[{'name': 'Bryant Park',\n",
              "  'location': 'Midtown',\n",
              "  'acres': 9.6,\n",
              "  'city': 'New york'},\n",
              " {'name': 'Battery Park',\n",
              "  'location': 'Downtown',\n",
              "  'acres': 25,\n",
              "  'city': 'New york'}]"
            ]
          },
          "metadata": {},
          "execution_count": 53
        }
      ],
      "source": [
        "smaller_parks = [park for park in detailed_parks if park['acres'] < 30]\n",
        "\n",
        "\n",
        "smaller_parks\n",
        "# [\n",
        "# {'name': 'Battery Park', 'location': 'Downtown', 'acres': 25},\n",
        "# {'name': 'Bryant Park', 'location': 'Midtown', 'acres': 9.6}\n",
        "# ]"
      ]
    },
    {
      "cell_type": "markdown",
      "metadata": {
        "id": "IRX1Gx8-EdgQ"
      },
      "source": [
        "* Then write a function that allows you to specify provide the size of a park to select."
      ]
    },
    {
      "cell_type": "code",
      "execution_count": 56,
      "metadata": {
        "id": "xpT-t_3GEdgR"
      },
      "outputs": [],
      "source": [
        "def parks_less_than(parks, size):\n",
        "  return [park for park in detailed_parks if park['acres'] <= size]\n",
        ""
      ]
    },
    {
      "cell_type": "code",
      "execution_count": 57,
      "metadata": {
        "id": "eL3hi9aAEdgR",
        "outputId": "10fa2f93-3204-473a-e438-95fd315ef818",
        "colab": {
          "base_uri": "https://localhost:8080/"
        }
      },
      "outputs": [
        {
          "output_type": "execute_result",
          "data": {
            "text/plain": [
              "[{'name': 'Bryant Park',\n",
              "  'location': 'Midtown',\n",
              "  'acres': 9.6,\n",
              "  'city': 'New york'}]"
            ]
          },
          "metadata": {},
          "execution_count": 57
        }
      ],
      "source": [
        "parks_less_than(detailed_parks, 10)\n",
        "# [{'name': 'Bryant Park', 'location': 'Midtown', 'acres': 9.6}]"
      ]
    },
    {
      "cell_type": "code",
      "execution_count": 58,
      "metadata": {
        "id": "pd-iyaaJEdgR",
        "outputId": "3e8f95fe-bc29-482f-c756-a927751dbe56",
        "colab": {
          "base_uri": "https://localhost:8080/"
        }
      },
      "outputs": [
        {
          "output_type": "execute_result",
          "data": {
            "text/plain": [
              "[{'name': 'Bryant Park',\n",
              "  'location': 'Midtown',\n",
              "  'acres': 9.6,\n",
              "  'city': 'New york'},\n",
              " {'name': 'Battery Park',\n",
              "  'location': 'Downtown',\n",
              "  'acres': 25,\n",
              "  'city': 'New york'},\n",
              " {'name': 'Morningside Park',\n",
              "  'location': 'Morningside',\n",
              "  'acres': 30,\n",
              "  'city': 'New york'}]"
            ]
          },
          "metadata": {},
          "execution_count": 58
        }
      ],
      "source": [
        "parks_less_than(detailed_parks, 50)\n",
        "# [{'name': 'Bryant Park', 'location': 'Midtown', 'acres': 9.6},\n",
        "#  {'name': 'Battery Park', 'location': 'Downtown', 'acres': 25},\n",
        "#  {'name': 'Morningside Park', 'location': 'Morningside', 'acres': 30}]"
      ]
    },
    {
      "cell_type": "markdown",
      "metadata": {
        "id": "uYEoYCdOEdgR"
      },
      "source": [
        "Now write a function that only returns the *names* of a park smaller than a specified size."
      ]
    },
    {
      "cell_type": "code",
      "execution_count": 59,
      "metadata": {
        "id": "iKGSKjqdEdga"
      },
      "outputs": [],
      "source": [
        "def park_name_less_than(parks, size):\n",
        "    return [park['name'] for park in detailed_parks if park['acres'] <= size]\n",
        "\n",
        "\n",
        ""
      ]
    },
    {
      "cell_type": "code",
      "execution_count": 60,
      "metadata": {
        "id": "-7zpz9YwEdgd",
        "outputId": "4bc636da-e040-46be-e7d8-95654d99fb4e",
        "colab": {
          "base_uri": "https://localhost:8080/"
        }
      },
      "outputs": [
        {
          "output_type": "execute_result",
          "data": {
            "text/plain": [
              "['Bryant Park']"
            ]
          },
          "metadata": {},
          "execution_count": 60
        }
      ],
      "source": [
        "park_name_less_than(detailed_parks, 10)\n",
        "# ['Bryant Park']"
      ]
    },
    {
      "cell_type": "code",
      "execution_count": 61,
      "metadata": {
        "id": "NdhkWQ_nEdgh",
        "outputId": "523f6b11-a912-4e6d-d51e-02e9eda10fb3",
        "colab": {
          "base_uri": "https://localhost:8080/"
        }
      },
      "outputs": [
        {
          "output_type": "execute_result",
          "data": {
            "text/plain": [
              "['Bryant Park', 'Battery Park', 'Morningside Park']"
            ]
          },
          "metadata": {},
          "execution_count": 61
        }
      ],
      "source": [
        "park_name_less_than(detailed_parks, 50)\n",
        "# ['Bryant Park', 'Battery Park', 'Morningside Park']"
      ]
    },
    {
      "cell_type": "code",
      "source": [],
      "metadata": {
        "id": "vU6NSZbcIo0E"
      },
      "execution_count": null,
      "outputs": []
    }
  ],
  "metadata": {
    "kernelspec": {
      "display_name": "Python 3 (ipykernel)",
      "language": "python",
      "name": "python3"
    },
    "language_info": {
      "codemirror_mode": {
        "name": "ipython",
        "version": 3
      },
      "file_extension": ".py",
      "mimetype": "text/x-python",
      "name": "python",
      "nbconvert_exporter": "python",
      "pygments_lexer": "ipython3",
      "version": "3.9.10"
    },
    "colab": {
      "provenance": []
    }
  },
  "nbformat": 4,
  "nbformat_minor": 0
}