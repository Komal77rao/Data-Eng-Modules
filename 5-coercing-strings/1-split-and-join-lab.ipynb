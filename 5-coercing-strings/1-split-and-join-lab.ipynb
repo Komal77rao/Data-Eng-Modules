{
  "cells": [
    {
      "cell_type": "markdown",
      "metadata": {
        "id": "-Atf1fN8W7OP"
      },
      "source": [
        "# Split and Join Lab"
      ]
    },
    {
      "cell_type": "markdown",
      "metadata": {
        "id": "JRlyq23sW7OW"
      },
      "source": [
        "### Introduction"
      ]
    },
    {
      "cell_type": "markdown",
      "metadata": {
        "id": "QnZ-5KR7W7OW"
      },
      "source": [
        "In this lesson, we'll practice working with `split` and `join`.  We'll do so to practice working with some location information from [Texas Drink Receipts API](https://data.texas.gov/Government-and-Taxes/Mixed-Beverage-Gross-Receipts/naix-2893)."
      ]
    },
    {
      "cell_type": "markdown",
      "metadata": {
        "id": "I63xz8D8W7OX"
      },
      "source": [
        "### Loading our data"
      ]
    },
    {
      "cell_type": "markdown",
      "metadata": {
        "id": "oozS7SbsW7OY"
      },
      "source": [
        "To begin with, let's get a bunch of store locations for Max's Wine Bar."
      ]
    },
    {
      "cell_type": "code",
      "execution_count": 1,
      "metadata": {
        "id": "WsNBn55NW7OY"
      },
      "outputs": [],
      "source": [
        "import pandas as pd\n",
        "df = pd.read_json(\"https://raw.githubusercontent.com/eng-6-22/mod-1-a-data-structures/master/5-coercing-strings/locations.json\")"
      ]
    },
    {
      "cell_type": "code",
      "execution_count": 2,
      "metadata": {
        "id": "YtWwZdk-W7Oa",
        "outputId": "4d107540-4c54-44a2-f152-77403d161d7b",
        "colab": {
          "base_uri": "https://localhost:8080/"
        }
      },
      "outputs": [
        {
          "output_type": "execute_result",
          "data": {
            "text/plain": [
              "['2914 HARRY HINES BLVD', '3001 PABLO KISEL BLVD STE N', '21815 W HWY 71']"
            ]
          },
          "metadata": {},
          "execution_count": 2
        }
      ],
      "source": [
        "locations = list(df.location_address)\n",
        "locations[0:3]"
      ]
    },
    {
      "cell_type": "markdown",
      "metadata": {
        "id": "DiysNKGsW7Od"
      },
      "source": [
        "Now let's say that we need to separate the street number from the rest of the street address for each element.  So this way we can can have a list of just the streets of the locations."
      ]
    },
    {
      "cell_type": "markdown",
      "metadata": {
        "id": "7u6AbZ3mW7Oe"
      },
      "source": [
        "```python\n",
        "['HARRY HINES BLVD', 'PABLO KISEL BLVD STE N', 'W HWY 71']\n",
        "```"
      ]
    },
    {
      "cell_type": "markdown",
      "metadata": {
        "id": "IqzbejKtW7Oe"
      },
      "source": [
        "1. Do it for one element."
      ]
    },
    {
      "cell_type": "markdown",
      "metadata": {
        "id": "smr4RhoGW7Of"
      },
      "source": [
        "Let's start by accomplishing this for a single string, so that we turn an address like `'2914 HARRY HINES BLVD'` into `'HARRY HINES BLVD'`."
      ]
    },
    {
      "cell_type": "markdown",
      "metadata": {
        "id": "a6L9k4iqW7Of"
      },
      "source": [
        "> Press shift + return on the cell below."
      ]
    },
    {
      "cell_type": "code",
      "execution_count": 3,
      "metadata": {
        "id": "xGVF-j5MW7Of"
      },
      "outputs": [],
      "source": [
        "address = '2914 HARRY HINES BLVD'"
      ]
    },
    {
      "cell_type": "markdown",
      "metadata": {
        "id": "2BmEcdAyW7Og"
      },
      "source": [
        "> To start, let's take our address above and turn the string into a list of words."
      ]
    },
    {
      "cell_type": "code",
      "execution_count": 5,
      "metadata": {
        "id": "Qs79HYMRW7Og",
        "outputId": "f8585b30-eede-4f94-df2d-63f4bd28b668",
        "colab": {
          "base_uri": "https://localhost:8080/"
        }
      },
      "outputs": [
        {
          "output_type": "execute_result",
          "data": {
            "text/plain": [
              "['2914', 'HARRY', 'HINES', 'BLVD']"
            ]
          },
          "metadata": {},
          "execution_count": 5
        }
      ],
      "source": [
        "address_words = address.split(\" \")\n",
        "address_words\n",
        "# ['2914', 'HARRY', 'HINES', 'BLVD']"
      ]
    },
    {
      "cell_type": "markdown",
      "metadata": {
        "id": "9yC8BXHnW7Og"
      },
      "source": [
        "> Then select every element after the first element, and turn them back into a string."
      ]
    },
    {
      "cell_type": "code",
      "execution_count": 7,
      "metadata": {
        "id": "AdPqHzGPW7Og",
        "outputId": "7bac677e-db6a-4445-9093-fadd106f4cc0",
        "colab": {
          "base_uri": "https://localhost:8080/",
          "height": 35
        }
      },
      "outputs": [
        {
          "output_type": "execute_result",
          "data": {
            "text/plain": [
              "'HARRY HINES BLVD'"
            ],
            "application/vnd.google.colaboratory.intrinsic+json": {
              "type": "string"
            }
          },
          "metadata": {},
          "execution_count": 7
        }
      ],
      "source": [
        "address_street_words = \" \".join(address_words[1:])\n",
        "address_street_words\n",
        "# 'HARRY HINES BLVD'"
      ]
    },
    {
      "cell_type": "markdown",
      "metadata": {
        "id": "n8U6Ys2QW7Oh"
      },
      "source": [
        "2. Do it for all"
      ]
    },
    {
      "cell_type": "markdown",
      "metadata": {
        "id": "474aruO_W7Oh"
      },
      "source": [
        "Now that we determined how to do this for one of the reviews, let's form a list of all of the streets."
      ]
    },
    {
      "cell_type": "code",
      "execution_count": 8,
      "metadata": {
        "id": "rESz4heRW7Oh"
      },
      "outputs": [],
      "source": [
        "address_streets = [\" \".join((location.split(\" \"))[1:]) for location in locations]"
      ]
    },
    {
      "cell_type": "code",
      "execution_count": 9,
      "metadata": {
        "id": "sVixLSj0W7Oh",
        "outputId": "76178681-7c99-450b-85a2-acef551bf8b7",
        "colab": {
          "base_uri": "https://localhost:8080/"
        }
      },
      "outputs": [
        {
          "output_type": "execute_result",
          "data": {
            "text/plain": [
              "['HARRY HINES BLVD', 'PABLO KISEL BLVD STE N', 'W HWY 71', 'SLIDE RD STE 100']"
            ]
          },
          "metadata": {},
          "execution_count": 9
        }
      ],
      "source": [
        "address_streets[:4]\n",
        "# ['HARRY HINES BLVD', 'PABLO KISEL BLVD STE N',\n",
        "# 'W HWY 71', 'SLIDE RD STE 100']"
      ]
    },
    {
      "cell_type": "markdown",
      "metadata": {
        "id": "U-XvGcuCW7Oh"
      },
      "source": [
        "### Summary"
      ]
    },
    {
      "cell_type": "markdown",
      "metadata": {
        "id": "bls3Lgf_W7Oi"
      },
      "source": [
        "In this lesson, we saw how we can use split and join to coerce our string data.  We also reinforced our process of first solving a problem on just one element, and then moving to solving the same problem on each element in a loop."
      ]
    },
    {
      "cell_type": "code",
      "source": [],
      "metadata": {
        "id": "-J4eXaKRX82J"
      },
      "execution_count": null,
      "outputs": []
    }
  ],
  "metadata": {
    "kernelspec": {
      "display_name": "Python 3 (ipykernel)",
      "language": "python",
      "name": "python3"
    },
    "language_info": {
      "codemirror_mode": {
        "name": "ipython",
        "version": 3
      },
      "file_extension": ".py",
      "mimetype": "text/x-python",
      "name": "python",
      "nbconvert_exporter": "python",
      "pygments_lexer": "ipython3",
      "version": "3.9.10"
    },
    "colab": {
      "provenance": []
    }
  },
  "nbformat": 4,
  "nbformat_minor": 0
}