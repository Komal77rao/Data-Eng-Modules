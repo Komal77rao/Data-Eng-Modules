{
  "cells": [
    {
      "cell_type": "markdown",
      "metadata": {
        "id": "78fguEG8WFrH"
      },
      "source": [
        "# Cleaning Strings with Split and Join"
      ]
    },
    {
      "cell_type": "markdown",
      "metadata": {
        "id": "YZAgP6KTWFrO"
      },
      "source": [
        "### Introduction"
      ]
    },
    {
      "cell_type": "markdown",
      "metadata": {
        "id": "eDFgWiwHWFrP"
      },
      "source": [
        "As we program more and more, we'll tend to fall in love with lists.  Lists are really good because they allow us to both select elements and also loop through elements of a list.\n",
        "\n",
        "In this lesson we'll see how we can turn a string into a list with the `split` method.  And then we'll move onto the join method."
      ]
    },
    {
      "cell_type": "markdown",
      "metadata": {
        "id": "Mxk-cv7JWFrU"
      },
      "source": [
        "### Introducing Split"
      ]
    },
    {
      "cell_type": "markdown",
      "metadata": {
        "id": "EXn1z1-_WFrV"
      },
      "source": [
        "Let's say that we get some text that is consists of a person's first and last name. And we want to write a method that selects the person's last name."
      ]
    },
    {
      "cell_type": "code",
      "execution_count": 1,
      "metadata": {
        "id": "f4joXFrOWFrW"
      },
      "outputs": [],
      "source": [
        "name = 'bob smith'"
      ]
    },
    {
      "cell_type": "markdown",
      "metadata": {
        "id": "AYUk2LSjWFrY"
      },
      "source": [
        "We think of the task as separating the string into two words, and then selecting the last word.  A good way to perform this is with the split method.  "
      ]
    },
    {
      "cell_type": "code",
      "execution_count": 1,
      "metadata": {
        "id": "JIddAGp6WFrY"
      },
      "outputs": [],
      "source": []
    },
    {
      "cell_type": "code",
      "execution_count": 2,
      "metadata": {
        "id": "aH8QNsyZWFrZ",
        "outputId": "46f4b968-6542-42c5-e504-616bf0ad2571",
        "colab": {
          "base_uri": "https://localhost:8080/"
        }
      },
      "outputs": [
        {
          "output_type": "execute_result",
          "data": {
            "text/plain": [
              "['bob', 'smith']"
            ]
          },
          "metadata": {},
          "execution_count": 2
        }
      ],
      "source": [
        "name.split(' ')"
      ]
    },
    {
      "cell_type": "markdown",
      "metadata": {
        "id": "5hNy2rWDWFra"
      },
      "source": [
        "We can call the split method on a string.  And as it's argument, we indicate what character to separate our string by.  Here, every time we see a space, we want to separate our string into a different element."
      ]
    },
    {
      "cell_type": "markdown",
      "metadata": {
        "id": "llpQ9qCIWFra"
      },
      "source": [
        "Then we can select the last element."
      ]
    },
    {
      "cell_type": "code",
      "execution_count": 3,
      "metadata": {
        "id": "eR0bnKaiWFrb",
        "outputId": "8aa7b184-8b15-47e5-879f-c1f6aedc30b7",
        "colab": {
          "base_uri": "https://localhost:8080/",
          "height": 35
        }
      },
      "outputs": [
        {
          "output_type": "execute_result",
          "data": {
            "text/plain": [
              "'smith'"
            ],
            "application/vnd.google.colaboratory.intrinsic+json": {
              "type": "string"
            }
          },
          "metadata": {},
          "execution_count": 3
        }
      ],
      "source": [
        "name.split(' ')[-1]"
      ]
    },
    {
      "cell_type": "markdown",
      "metadata": {
        "id": "VG3gm2NmWFrb"
      },
      "source": [
        "### Change then recombine."
      ]
    },
    {
      "cell_type": "markdown",
      "metadata": {
        "id": "y-b_9jX3WFrb"
      },
      "source": [
        "Now we just saw how we can split with a string, let's see how we can use split to format our text. For example, let's say that we want to capitalize each word in our string.  One way to do this is with split."
      ]
    },
    {
      "cell_type": "code",
      "execution_count": 4,
      "metadata": {
        "id": "cAomC3wNWFrd",
        "outputId": "97d34263-4e5c-4a8e-cf8d-fd96e75ff8fb",
        "colab": {
          "base_uri": "https://localhost:8080/"
        }
      },
      "outputs": [
        {
          "output_type": "execute_result",
          "data": {
            "text/plain": [
              "['Bob', 'Smith']"
            ]
          },
          "metadata": {},
          "execution_count": 4
        }
      ],
      "source": [
        "names = name.split(' ')\n",
        "cap_words = [word.capitalize() for word in names]\n",
        "cap_words"
      ]
    },
    {
      "cell_type": "markdown",
      "metadata": {
        "id": "9NP56tHxWFrd"
      },
      "source": [
        "So this is a common task in programming - the need to format components of a string in the same way.  So to do so, we can break parts of our string into elements of a list, and then format each of the elements."
      ]
    },
    {
      "cell_type": "markdown",
      "metadata": {
        "id": "RgD7oj4gWFrd"
      },
      "source": [
        "Finally, we may want to recombine our list of elements.  We can do this with join."
      ]
    },
    {
      "cell_type": "code",
      "execution_count": 5,
      "metadata": {
        "id": "Q2q8HUhEWFrd",
        "outputId": "4158a91e-bd6d-4eba-abc5-f261bfbbec96",
        "colab": {
          "base_uri": "https://localhost:8080/",
          "height": 35
        }
      },
      "outputs": [
        {
          "output_type": "execute_result",
          "data": {
            "text/plain": [
              "'Bob Smith'"
            ],
            "application/vnd.google.colaboratory.intrinsic+json": {
              "type": "string"
            }
          },
          "metadata": {},
          "execution_count": 5
        }
      ],
      "source": [
        "' '.join(cap_words)"
      ]
    },
    {
      "cell_type": "markdown",
      "metadata": {
        "id": "gNIwPWWcWFre"
      },
      "source": [
        "So in the join method, we can recombine our the elements of our list.  And we `join` our elements by the string we call join on.  For example, let's join our two elements with a comma."
      ]
    },
    {
      "cell_type": "code",
      "execution_count": 6,
      "metadata": {
        "id": "iTKoWYVVWFre",
        "outputId": "b391d56b-52f6-4134-a9b1-6f668bdbf5b8",
        "colab": {
          "base_uri": "https://localhost:8080/",
          "height": 35
        }
      },
      "outputs": [
        {
          "output_type": "execute_result",
          "data": {
            "text/plain": [
              "'Bob, Smith'"
            ],
            "application/vnd.google.colaboratory.intrinsic+json": {
              "type": "string"
            }
          },
          "metadata": {},
          "execution_count": 6
        }
      ],
      "source": [
        "', '.join(cap_words)"
      ]
    },
    {
      "cell_type": "markdown",
      "metadata": {
        "id": "BnSQUpt3WFre"
      },
      "source": [
        "### Do it again"
      ]
    },
    {
      "cell_type": "markdown",
      "metadata": {
        "id": "mtkBwUHPWFre"
      },
      "source": [
        "Let's recap what we just saw.  We saw that we can more easily work with strings by first changing them into lists, performing an operation, and then joining components of the list back together."
      ]
    },
    {
      "cell_type": "code",
      "execution_count": 7,
      "metadata": {
        "id": "X7Wq1G-mWFrf",
        "outputId": "a0182a3a-2909-459d-d627-fb02a030f49b",
        "colab": {
          "base_uri": "https://localhost:8080/"
        }
      },
      "outputs": [
        {
          "output_type": "execute_result",
          "data": {
            "text/plain": [
              "['Bob', 'Smith']"
            ]
          },
          "metadata": {},
          "execution_count": 7
        }
      ],
      "source": [
        "name = 'bob smith'\n",
        "\n",
        "names = [word.capitalize()\n",
        "          for word in name.split()]\n",
        "names"
      ]
    },
    {
      "cell_type": "code",
      "execution_count": 8,
      "metadata": {
        "id": "VhKApSVpWFrf",
        "outputId": "639dbf50-bfa7-4c66-c7a7-091cf3091a9e",
        "colab": {
          "base_uri": "https://localhost:8080/",
          "height": 35
        }
      },
      "outputs": [
        {
          "output_type": "execute_result",
          "data": {
            "text/plain": [
              "'Bob Smith'"
            ],
            "application/vnd.google.colaboratory.intrinsic+json": {
              "type": "string"
            }
          },
          "metadata": {},
          "execution_count": 8
        }
      ],
      "source": [
        "' '.join(names)"
      ]
    },
    {
      "cell_type": "markdown",
      "metadata": {
        "tags": [],
        "id": "tLE3EcEjWFrj"
      },
      "source": [
        "### Summary"
      ]
    },
    {
      "cell_type": "markdown",
      "metadata": {
        "id": "oNbtC6z_WFrj"
      },
      "source": [
        "In this lesson we saw how we can clean strings by using the `split` method followed by the `join` method.\n",
        "\n",
        "We can use the split method to separate our string into elements of a list.  Then we can loop throug our list and coerce each element.  Finally, we can recombine our elements into a string using the `join` method.\n",
        "\n"
      ]
    },
    {
      "cell_type": "code",
      "source": [],
      "metadata": {
        "id": "U7RkV0CoWzWk"
      },
      "execution_count": 8,
      "outputs": []
    }
  ],
  "metadata": {
    "kernelspec": {
      "display_name": "Python 3 (ipykernel)",
      "language": "python",
      "name": "python3"
    },
    "language_info": {
      "codemirror_mode": {
        "name": "ipython",
        "version": 3
      },
      "file_extension": ".py",
      "mimetype": "text/x-python",
      "name": "python",
      "nbconvert_exporter": "python",
      "pygments_lexer": "ipython3",
      "version": "3.9.7"
    },
    "colab": {
      "provenance": []
    }
  },
  "nbformat": 4,
  "nbformat_minor": 0
}