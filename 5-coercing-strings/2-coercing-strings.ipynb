{
  "cells": [
    {
      "cell_type": "markdown",
      "metadata": {
        "id": "NvJ7UtE8tI6U"
      },
      "source": [
        "# Coercing and Creating Strings"
      ]
    },
    {
      "cell_type": "markdown",
      "metadata": {
        "id": "8on5jhFstI6a"
      },
      "source": [
        "### Introduction"
      ]
    },
    {
      "cell_type": "markdown",
      "metadata": {
        "id": "7f1FspKDtI6a"
      },
      "source": [
        "One of the reasons why programming skills are so essential is because data is rarely in the format that we prefer.  As burgeoning data scientists, it's our job to both think about the ideal way to represent our data.  Over the next several lessons, we'll learn how to do this."
      ]
    },
    {
      "cell_type": "markdown",
      "metadata": {
        "id": "tQkWTdh2tI6b"
      },
      "source": [
        "### Coercing Strings"
      ]
    },
    {
      "cell_type": "markdown",
      "metadata": {
        "id": "LHnBJZrWtI6b"
      },
      "source": [
        "Imagine that we want to write a method that extracts data from the strings."
      ]
    },
    {
      "cell_type": "code",
      "execution_count": 2,
      "metadata": {
        "id": "duCLkisQtI6c"
      },
      "outputs": [],
      "source": [
        "restaurant_names = ['AIMBRIDGE CONCESSIONS, INC.']"
      ]
    },
    {
      "cell_type": "markdown",
      "metadata": {
        "id": "1et_iDvqtI6e"
      },
      "source": [
        "For example, perhaps we can get some information based on the type of corporation of the restaurant.  Perhaps we could use it as a proxy for the size of the restaurant, or whether or not it is a chain.  "
      ]
    },
    {
      "cell_type": "markdown",
      "metadata": {
        "id": "PwrQhmdttI6e"
      },
      "source": [
        "Let's try to explore some string methods that can extract information about the company type."
      ]
    },
    {
      "cell_type": "code",
      "execution_count": 3,
      "metadata": {
        "id": "lSh16v-LtI6f"
      },
      "outputs": [],
      "source": [
        "first_restaurant = restaurant_names[0]"
      ]
    },
    {
      "cell_type": "markdown",
      "metadata": {
        "id": "ZrGvha_atI6g"
      },
      "source": [
        "### Limiting Our String"
      ]
    },
    {
      "cell_type": "markdown",
      "metadata": {
        "id": "kkQGiC5YtI6g"
      },
      "source": [
        "The first thing to realize is that we can select characters from a string the same way that we would from a list."
      ]
    },
    {
      "cell_type": "code",
      "execution_count": 4,
      "metadata": {
        "id": "5ztutBZPtI6h",
        "outputId": "e1cb88a6-7b87-4e4e-8c22-78473a5ad56d",
        "colab": {
          "base_uri": "https://localhost:8080/",
          "height": 35
        }
      },
      "outputs": [
        {
          "output_type": "execute_result",
          "data": {
            "text/plain": [
              "'AIMBRIDGE CONCESSIONS, INC.'"
            ],
            "application/vnd.google.colaboratory.intrinsic+json": {
              "type": "string"
            }
          },
          "metadata": {},
          "execution_count": 4
        }
      ],
      "source": [
        "first_restaurant"
      ]
    },
    {
      "cell_type": "code",
      "execution_count": 5,
      "metadata": {
        "id": "iGEow82dtI6i",
        "outputId": "c9d967cb-5806-4934-d33f-d031a219a59e",
        "colab": {
          "base_uri": "https://localhost:8080/",
          "height": 35
        }
      },
      "outputs": [
        {
          "output_type": "execute_result",
          "data": {
            "text/plain": [
              "'A'"
            ],
            "application/vnd.google.colaboratory.intrinsic+json": {
              "type": "string"
            }
          },
          "metadata": {},
          "execution_count": 5
        }
      ],
      "source": [
        "first_restaurant[0]"
      ]
    },
    {
      "cell_type": "markdown",
      "metadata": {
        "id": "6HutTjVotI6j"
      },
      "source": [
        "So for example, if we want to select just the last five characters from a string, we can do so with the following:"
      ]
    },
    {
      "cell_type": "code",
      "execution_count": 6,
      "metadata": {
        "id": "h10G2aVJtI6j",
        "outputId": "19c3368b-35b1-43ba-caf9-3b2879f7dfed",
        "colab": {
          "base_uri": "https://localhost:8080/",
          "height": 35
        }
      },
      "outputs": [
        {
          "output_type": "execute_result",
          "data": {
            "text/plain": [
              "' INC.'"
            ],
            "application/vnd.google.colaboratory.intrinsic+json": {
              "type": "string"
            }
          },
          "metadata": {},
          "execution_count": 6
        }
      ],
      "source": [
        "first_restaurant[-5:]"
      ]
    },
    {
      "cell_type": "markdown",
      "metadata": {
        "id": "Lj5Z5X5OtI6j"
      },
      "source": [
        "Practice selecting the just the first ten characters from a our string."
      ]
    },
    {
      "cell_type": "code",
      "execution_count": 8,
      "metadata": {
        "id": "iCjn_ER5tI6k",
        "outputId": "f7aacd1d-6e5f-4b4e-8ca0-c6712e20c2bd",
        "colab": {
          "base_uri": "https://localhost:8080/",
          "height": 35
        }
      },
      "outputs": [
        {
          "output_type": "execute_result",
          "data": {
            "text/plain": [
              "'AIMBRIDGE '"
            ],
            "application/vnd.google.colaboratory.intrinsic+json": {
              "type": "string"
            }
          },
          "metadata": {},
          "execution_count": 8
        }
      ],
      "source": [
        "first_restaurant = 'AIMBRIDGE CONCESSIONS, INC.'\n",
        "first_restaurant[0:10]\n",
        "# 'AIMBRIDGE '"
      ]
    },
    {
      "cell_type": "markdown",
      "metadata": {
        "id": "0PZXfm9WtI6l"
      },
      "source": [
        "Now practice selecting the last 10 characters from our string."
      ]
    },
    {
      "cell_type": "code",
      "execution_count": 9,
      "metadata": {
        "id": "o_Tm_iCFtI6l",
        "outputId": "bc323a84-44dd-4fb1-fe6c-706b250dff7c",
        "colab": {
          "base_uri": "https://localhost:8080/",
          "height": 35
        }
      },
      "outputs": [
        {
          "output_type": "execute_result",
          "data": {
            "text/plain": [
              "'IONS, INC.'"
            ],
            "application/vnd.google.colaboratory.intrinsic+json": {
              "type": "string"
            }
          },
          "metadata": {},
          "execution_count": 9
        }
      ],
      "source": [
        "first_restaurant = 'AIMBRIDGE CONCESSIONS, INC.'\n",
        "first_restaurant[-10:]\n",
        "# 'IONS, INC.'"
      ]
    },
    {
      "cell_type": "markdown",
      "metadata": {
        "id": "tUA2ScAQtI6l"
      },
      "source": [
        "### Find and Split"
      ]
    },
    {
      "cell_type": "markdown",
      "metadata": {
        "id": "CSYJ2ab3tI6l"
      },
      "source": [
        "Of course it would be nice if we could detect if certain characters were in the string, and then select those characters.  Well here's one way we could do this."
      ]
    },
    {
      "cell_type": "code",
      "execution_count": 10,
      "metadata": {
        "id": "jjzIHDagtI6m",
        "outputId": "1128f5b2-7c27-4f48-dc7e-793a92c25a3f",
        "colab": {
          "base_uri": "https://localhost:8080/"
        }
      },
      "outputs": [
        {
          "output_type": "execute_result",
          "data": {
            "text/plain": [
              "23"
            ]
          },
          "metadata": {},
          "execution_count": 10
        }
      ],
      "source": [
        "first_restaurant = 'AIMBRIDGE CONCESSIONS, INC.'\n",
        "first_restaurant.find('INC')"
      ]
    },
    {
      "cell_type": "markdown",
      "metadata": {
        "id": "q_f1ylvVtI6m"
      },
      "source": [
        "We can see that the `find` method returns the index of the start of our matching string."
      ]
    },
    {
      "cell_type": "code",
      "execution_count": 11,
      "metadata": {
        "id": "B2hx1GpUtI6m",
        "outputId": "56c85fa2-b810-4440-e5fb-61fa576ae45d",
        "colab": {
          "base_uri": "https://localhost:8080/",
          "height": 35
        }
      },
      "outputs": [
        {
          "output_type": "execute_result",
          "data": {
            "text/plain": [
              "'I'"
            ],
            "application/vnd.google.colaboratory.intrinsic+json": {
              "type": "string"
            }
          },
          "metadata": {},
          "execution_count": 11
        }
      ],
      "source": [
        "first_restaurant[23]"
      ]
    },
    {
      "cell_type": "markdown",
      "metadata": {
        "id": "rAAi8lXFtI6m"
      },
      "source": [
        "So now let's write a method where we can pass through a string, and then just select the characters from `LLC` on."
      ]
    },
    {
      "cell_type": "code",
      "execution_count": 23,
      "metadata": {
        "id": "kxXI1nMAtI6n"
      },
      "outputs": [],
      "source": [
        "first_restaurant = 'SUPER CREAM LLC'\n",
        "\n",
        "def select_characters(string):\n",
        "  idx = string.find('LLC')\n",
        "  return string[idx:]\n",
        "\n",
        ""
      ]
    },
    {
      "cell_type": "code",
      "execution_count": 24,
      "metadata": {
        "id": "isHRtuNTtI6n",
        "outputId": "f2a639ce-8a3b-42dd-ab55-f1b886f4ecbd",
        "colab": {
          "base_uri": "https://localhost:8080/",
          "height": 35
        }
      },
      "outputs": [
        {
          "output_type": "execute_result",
          "data": {
            "text/plain": [
              "'LLC'"
            ],
            "application/vnd.google.colaboratory.intrinsic+json": {
              "type": "string"
            }
          },
          "metadata": {},
          "execution_count": 24
        }
      ],
      "source": [
        "first_restaurant = 'SUPER CREAM LLC'\n",
        "select_characters(first_restaurant)\n",
        "# 'LLC'"
      ]
    },
    {
      "cell_type": "code",
      "execution_count": 25,
      "metadata": {
        "id": "_kKkgvwktI6n",
        "outputId": "d018a0fe-f4dd-434e-e36b-0c4d5ff4d320",
        "colab": {
          "base_uri": "https://localhost:8080/",
          "height": 35
        }
      },
      "outputs": [
        {
          "output_type": "execute_result",
          "data": {
            "text/plain": [
              "'LLC'"
            ],
            "application/vnd.google.colaboratory.intrinsic+json": {
              "type": "string"
            }
          },
          "metadata": {},
          "execution_count": 25
        }
      ],
      "source": [
        "second_restaurant = \"ANGEL'S ICEHOUSE, LLC\"\n",
        "select_characters(second_restaurant)"
      ]
    },
    {
      "cell_type": "markdown",
      "metadata": {
        "id": "_UrU2DMetI6o"
      },
      "source": [
        "### Concatenating Strings"
      ]
    },
    {
      "cell_type": "markdown",
      "metadata": {
        "id": "VSj6Po9GtI6o"
      },
      "source": [
        "Finally, Python has methods that allow us to create new strings programatically.  Let's look at the format method."
      ]
    },
    {
      "cell_type": "code",
      "execution_count": null,
      "metadata": {
        "id": "4N8zOl0qtI6o",
        "outputId": "c840da3a-7d94-47c1-b7d2-4a2f51074b31"
      },
      "outputs": [
        {
          "data": {
            "text/plain": [
              "'Please try the chicken.'"
            ]
          },
          "execution_count": 5,
          "metadata": {},
          "output_type": "execute_result"
        }
      ],
      "source": [
        "\"Please try the {}.\".format(\"chicken\")"
      ]
    },
    {
      "cell_type": "markdown",
      "metadata": {
        "id": "nkbHvKmVtI6p"
      },
      "source": [
        "> So we pass through the string to format, and then the `{}` indicates the location of the argument."
      ]
    },
    {
      "cell_type": "markdown",
      "metadata": {
        "id": "vsqDUcOAtI6p"
      },
      "source": [
        "It also works with multiple arguments."
      ]
    },
    {
      "cell_type": "code",
      "execution_count": null,
      "metadata": {
        "id": "c3dmj4QztI6q",
        "outputId": "33d00f1b-dc06-4cd7-882c-5a5a7a443a25"
      },
      "outputs": [
        {
          "data": {
            "text/plain": [
              "'Please try the chicken and broccoli.'"
            ]
          },
          "execution_count": 7,
          "metadata": {},
          "output_type": "execute_result"
        }
      ],
      "source": [
        "\"Please try the {} and {}.\".format(\"chicken\", \"broccoli\")"
      ]
    },
    {
      "cell_type": "markdown",
      "metadata": {
        "id": "kUXqkJREtI6q"
      },
      "source": [
        "Or keyword arguments."
      ]
    },
    {
      "cell_type": "code",
      "execution_count": null,
      "metadata": {
        "id": "ZBheNta5tI6q",
        "outputId": "d7959d29-d42b-4d43-f510-9dedf187df5e"
      },
      "outputs": [
        {
          "data": {
            "text/plain": [
              "'Please try the broccoli and chicken.'"
            ]
          },
          "execution_count": 9,
          "metadata": {},
          "output_type": "execute_result"
        }
      ],
      "source": [
        "\"Please try the {side} and {main}.\".format(main = \"chicken\", side = \"broccoli\")"
      ]
    },
    {
      "cell_type": "markdown",
      "metadata": {
        "id": "xXamrx9XtI6q"
      },
      "source": [
        "An alternative to the format method is the `f` string."
      ]
    },
    {
      "cell_type": "code",
      "execution_count": 27,
      "metadata": {
        "id": "-I84SfuLtI6q",
        "outputId": "8fb43df0-13c4-47cd-e27e-f29027ae0e55",
        "colab": {
          "base_uri": "https://localhost:8080/",
          "height": 35
        }
      },
      "outputs": [
        {
          "output_type": "execute_result",
          "data": {
            "text/plain": [
              "'hello broccoli and turkey!'"
            ],
            "application/vnd.google.colaboratory.intrinsic+json": {
              "type": "string"
            }
          },
          "metadata": {},
          "execution_count": 27
        }
      ],
      "source": [
        "side = 'broccoli'\n",
        "main = 'turkey'\n",
        "f'hello {side} and {main}!'"
      ]
    },
    {
      "cell_type": "markdown",
      "metadata": {
        "id": "tmf5teXZtI6r"
      },
      "source": [
        "> Take some time to try them both out below."
      ]
    },
    {
      "cell_type": "code",
      "execution_count": 30,
      "metadata": {
        "id": "60sflvyttI6x",
        "outputId": "e2db0834-cc2f-411a-dd9f-c3d66ad80fec",
        "colab": {
          "base_uri": "https://localhost:8080/",
          "height": 35
        }
      },
      "outputs": [
        {
          "output_type": "execute_result",
          "data": {
            "text/plain": [
              "'try something please, may be choclate'"
            ],
            "application/vnd.google.colaboratory.intrinsic+json": {
              "type": "string"
            }
          },
          "metadata": {},
          "execution_count": 30
        }
      ],
      "source": [
        "f'try some {side} and {main}'\n",
        "\n",
        "\"try something please, may be {}\".format('choclate')"
      ]
    },
    {
      "cell_type": "markdown",
      "metadata": {
        "id": "eRhLvJuKtI6x"
      },
      "source": [
        "### Summary"
      ]
    },
    {
      "cell_type": "markdown",
      "metadata": {
        "id": "qJiWGwjPtI6x"
      },
      "source": [
        "In this lesson, we took a deeper dive into how to work with strings.  We saw that we can select characters from a string with the bracket accessors, the same way that we would from a list."
      ]
    },
    {
      "cell_type": "code",
      "execution_count": 31,
      "metadata": {
        "id": "8G-TUF4GtI6x",
        "outputId": "8dd15e26-6c3f-4711-ec56-f652ce24173d",
        "colab": {
          "base_uri": "https://localhost:8080/",
          "height": 35
        }
      },
      "outputs": [
        {
          "output_type": "execute_result",
          "data": {
            "text/plain": [
              "'llc'"
            ],
            "application/vnd.google.colaboratory.intrinsic+json": {
              "type": "string"
            }
          },
          "metadata": {},
          "execution_count": 31
        }
      ],
      "source": [
        "\"angel's icehouse, llc\"[-3:]"
      ]
    },
    {
      "cell_type": "markdown",
      "metadata": {
        "id": "oIf1_GOmtI6x"
      },
      "source": [
        "Then we saw that we can find the index that matches a string."
      ]
    },
    {
      "cell_type": "code",
      "execution_count": 32,
      "metadata": {
        "id": "wG6jC71dtI6y",
        "outputId": "b4e32f1c-6730-4853-cff7-58f68d72ef31",
        "colab": {
          "base_uri": "https://localhost:8080/"
        }
      },
      "outputs": [
        {
          "output_type": "execute_result",
          "data": {
            "text/plain": [
              "18"
            ]
          },
          "metadata": {},
          "execution_count": 32
        }
      ],
      "source": [
        "\"angel's icehouse, llc\".find('llc')"
      ]
    },
    {
      "cell_type": "markdown",
      "metadata": {
        "id": "wynFvQ8ntI6y"
      },
      "source": [
        "And that we can divide our string into different elements of a list with the `split` method."
      ]
    },
    {
      "cell_type": "code",
      "execution_count": 33,
      "metadata": {
        "id": "2g1pFuultI6y",
        "outputId": "4119a864-9170-4426-8847-067dc126381e",
        "colab": {
          "base_uri": "https://localhost:8080/"
        }
      },
      "outputs": [
        {
          "output_type": "execute_result",
          "data": {
            "text/plain": [
              "[\"angel's icehouse\", 'llc']"
            ]
          },
          "metadata": {},
          "execution_count": 33
        }
      ],
      "source": [
        "\"angel's icehouse, llc\".split(', ')"
      ]
    },
    {
      "cell_type": "markdown",
      "metadata": {
        "id": "D2zdwYx2tI6y"
      },
      "source": [
        "And select elements of the returned list."
      ]
    },
    {
      "cell_type": "code",
      "execution_count": 34,
      "metadata": {
        "id": "AFOTESy3tI6y",
        "outputId": "56ba9923-dcc4-4830-ca25-9eb0b36200e3",
        "colab": {
          "base_uri": "https://localhost:8080/",
          "height": 35
        }
      },
      "outputs": [
        {
          "output_type": "execute_result",
          "data": {
            "text/plain": [
              "'llc'"
            ],
            "application/vnd.google.colaboratory.intrinsic+json": {
              "type": "string"
            }
          },
          "metadata": {},
          "execution_count": 34
        }
      ],
      "source": [
        "\"angel's icehouse, llc\".split(', ')[-1]"
      ]
    },
    {
      "cell_type": "code",
      "source": [],
      "metadata": {
        "id": "zSbQ1hZ01LCR"
      },
      "execution_count": 34,
      "outputs": []
    }
  ],
  "metadata": {
    "kernelspec": {
      "display_name": "Python 3 (ipykernel)",
      "language": "python",
      "name": "python3"
    },
    "language_info": {
      "codemirror_mode": {
        "name": "ipython",
        "version": 3
      },
      "file_extension": ".py",
      "mimetype": "text/x-python",
      "name": "python",
      "nbconvert_exporter": "python",
      "pygments_lexer": "ipython3",
      "version": "3.9.10"
    },
    "colab": {
      "provenance": []
    }
  },
  "nbformat": 4,
  "nbformat_minor": 0
}