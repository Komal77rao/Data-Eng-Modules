{
  "cells": [
    {
      "cell_type": "markdown",
      "metadata": {
        "id": "TZGg5HajAqJ8"
      },
      "source": [
        "# Filtering With Lists"
      ]
    },
    {
      "cell_type": "markdown",
      "metadata": {
        "id": "MZ1JfsCwAqKJ"
      },
      "source": [
        "### Introduction"
      ]
    },
    {
      "cell_type": "markdown",
      "metadata": {
        "id": "M8KwIEXjAqKK"
      },
      "source": [
        "In the last couple lessons, we saw how we can loop through a collection of items in a list.  We did so to both select specific information from each element, as well as to make new calculations from each element.  In other words, we saw how to use loops to reject components of each element, as well as how to coerce each element.  \n",
        "\n",
        "In this lesson, we'll see how to remove entire elements with filtering."
      ]
    },
    {
      "cell_type": "markdown",
      "metadata": {
        "id": "BE4-mfVnAqKL"
      },
      "source": [
        "### What's filtering?"
      ]
    },
    {
      "cell_type": "markdown",
      "metadata": {
        "id": "SCJOtQdAAqKM"
      },
      "source": [
        "With filtering, we will only select certain elements from our list."
      ]
    },
    {
      "cell_type": "markdown",
      "metadata": {
        "id": "QCafZ2uKAqKM"
      },
      "source": [
        "For example, let's say that we have a list of numbers, we could select just those numbers that are greater than zero."
      ]
    },
    {
      "cell_type": "code",
      "execution_count": 3,
      "metadata": {
        "id": "rn40_rZpAqKN",
        "outputId": "605926a6-ba62-44cf-cdfd-7588afebe7f8",
        "colab": {
          "base_uri": "https://localhost:8080/"
        }
      },
      "outputs": [
        {
          "output_type": "execute_result",
          "data": {
            "text/plain": [
              "[-6, 8, -8, -2, -7, -3, 2, 4, 3, 0]"
            ]
          },
          "metadata": {},
          "execution_count": 3
        }
      ],
      "source": [
        "rand_list = [-6, 8, -8, -2, -7, -3, 2, 4, 3, 0]\n",
        "rand_list"
      ]
    },
    {
      "cell_type": "code",
      "execution_count": 6,
      "metadata": {
        "id": "Z1Ke0VWgAqKQ"
      },
      "outputs": [],
      "source": [
        "pos_numbers = []\n",
        "for num in rand_list:\n",
        "    if num > 0:\n",
        "      pos_numbers.append(num)"
      ]
    },
    {
      "cell_type": "code",
      "execution_count": 7,
      "metadata": {
        "id": "nt6Fiby7AqKS",
        "outputId": "c6189758-aa22-44d6-ab11-976012b7abf4",
        "colab": {
          "base_uri": "https://localhost:8080/"
        }
      },
      "outputs": [
        {
          "output_type": "execute_result",
          "data": {
            "text/plain": [
              "[8, 2, 4, 3]"
            ]
          },
          "metadata": {},
          "execution_count": 7
        }
      ],
      "source": [
        "pos_numbers"
      ]
    },
    {
      "cell_type": "markdown",
      "metadata": {
        "id": "BpIAsVaHAqKU"
      },
      "source": [
        "Or let's say that we have data that has a mix of names but also empty strings.  We can remove the strings that are empty like so."
      ]
    },
    {
      "cell_type": "code",
      "execution_count": 8,
      "metadata": {
        "id": "A-scKx-jAqKU"
      },
      "outputs": [],
      "source": [
        "names = ['sal', 'don', '', 'betty']\n",
        "clean_names = []\n",
        "for name in names:\n",
        "    if name:\n",
        "      clean_names.append(name)"
      ]
    },
    {
      "cell_type": "code",
      "execution_count": 9,
      "metadata": {
        "id": "KXXVkDqzAqKV",
        "outputId": "a1bda488-0910-4388-8fac-d3ab97faf08b",
        "colab": {
          "base_uri": "https://localhost:8080/"
        }
      },
      "outputs": [
        {
          "output_type": "execute_result",
          "data": {
            "text/plain": [
              "['sal', 'don', 'betty']"
            ]
          },
          "metadata": {},
          "execution_count": 9
        }
      ],
      "source": [
        "clean_names"
      ]
    },
    {
      "cell_type": "markdown",
      "metadata": {
        "id": "LMayecyWAqKV"
      },
      "source": [
        "> Notice the use of a one line `if` statement."
      ]
    },
    {
      "cell_type": "markdown",
      "metadata": {
        "id": "IO8P2Kd3AqKV"
      },
      "source": [
        "Above we take advantage of the fact that only a string with contents is truthy."
      ]
    },
    {
      "cell_type": "markdown",
      "metadata": {
        "id": "8BfOZwg1AqKW"
      },
      "source": [
        "### Selecting with List Comprehension"
      ]
    },
    {
      "cell_type": "markdown",
      "metadata": {
        "id": "e00JczgbAqKW"
      },
      "source": [
        "Above we selected sepecific elements through using a for loop.  But notice that we can also perform filtering through list comprehensions."
      ]
    },
    {
      "cell_type": "markdown",
      "metadata": {
        "id": "HELNVEtzAqKW"
      },
      "source": [
        "For example, here are our list of numbers."
      ]
    },
    {
      "cell_type": "code",
      "execution_count": 10,
      "metadata": {
        "id": "AdIQ9rhTAqKW"
      },
      "outputs": [],
      "source": [
        "rand_nums = [-6, 8, -8, -2, -7, -3, 2, 4, 3, 0]"
      ]
    },
    {
      "cell_type": "markdown",
      "metadata": {
        "id": "2QU8QUJxAqKX"
      },
      "source": [
        "And we can use list comprehension to select the numbers like so."
      ]
    },
    {
      "cell_type": "code",
      "execution_count": 11,
      "metadata": {
        "id": "JqfxPhLqAqKX",
        "outputId": "0c16dfab-7774-4a9e-8a8f-ba31f759e6e0",
        "colab": {
          "base_uri": "https://localhost:8080/"
        }
      },
      "outputs": [
        {
          "output_type": "execute_result",
          "data": {
            "text/plain": [
              "[8, 2, 4, 3]"
            ]
          },
          "metadata": {},
          "execution_count": 11
        }
      ],
      "source": [
        "[num for num in rand_nums if num > 0]"
      ]
    },
    {
      "cell_type": "markdown",
      "metadata": {
        "id": "1NiWRYMXAqKX"
      },
      "source": [
        "So breaking it down, this follows the following sequence.\n",
        "\n",
        "`[return_val for var in sequence if condition]`"
      ]
    },
    {
      "cell_type": "markdown",
      "metadata": {
        "id": "oz7jOMckAqKX"
      },
      "source": [
        "So we can divide the list comprehension into a couple of parts."
      ]
    },
    {
      "cell_type": "markdown",
      "metadata": {
        "id": "ExcNX9x3AqKX"
      },
      "source": [
        "> The first two parts are the return value, and then the loop."
      ]
    },
    {
      "cell_type": "code",
      "execution_count": 12,
      "metadata": {
        "id": "wL0eoGfoAqKX",
        "outputId": "5f87dd19-de09-4c18-a8e6-e2518c237dd3",
        "colab": {
          "base_uri": "https://localhost:8080/"
        }
      },
      "outputs": [
        {
          "output_type": "execute_result",
          "data": {
            "text/plain": [
              "[-6, 8, -8, -2, -7, -3, 2, 4, 3, 0]"
            ]
          },
          "metadata": {},
          "execution_count": 12
        }
      ],
      "source": [
        "[num for num in rand_nums]\n",
        "#return val, loop"
      ]
    },
    {
      "cell_type": "markdown",
      "metadata": {
        "id": "-uIyeEDPAqKY"
      },
      "source": [
        "And we end with the conditional."
      ]
    },
    {
      "cell_type": "code",
      "execution_count": 13,
      "metadata": {
        "id": "juqUTnvaAqKY",
        "outputId": "8c1337f8-a395-4bae-ca3d-593b12b8c7a5",
        "colab": {
          "base_uri": "https://localhost:8080/"
        }
      },
      "outputs": [
        {
          "output_type": "execute_result",
          "data": {
            "text/plain": [
              "[8, 2, 4, 3]"
            ]
          },
          "metadata": {},
          "execution_count": 13
        }
      ],
      "source": [
        "[num for num in rand_nums if num > 0]\n",
        "                        # conditional"
      ]
    },
    {
      "cell_type": "markdown",
      "metadata": {
        "id": "bB06miKnAqKY"
      },
      "source": [
        "> Now it's your turn."
      ]
    },
    {
      "cell_type": "markdown",
      "metadata": {
        "id": "ejfb5QDkAqKY"
      },
      "source": [
        "Use list comprehension to select only strings that are non-empty in the list below."
      ]
    },
    {
      "cell_type": "code",
      "execution_count": 14,
      "metadata": {
        "id": "XUVBam88AqKY"
      },
      "outputs": [],
      "source": [
        "names = ['sal', 'don', '', 'betty']"
      ]
    },
    {
      "cell_type": "code",
      "execution_count": 16,
      "metadata": {
        "id": "H1oTsB2VAqKZ",
        "outputId": "be1dfec8-85d9-40a2-c70f-8aa55ddd9bae",
        "colab": {
          "base_uri": "https://localhost:8080/"
        }
      },
      "outputs": [
        {
          "output_type": "execute_result",
          "data": {
            "text/plain": [
              "['sal', 'don', 'betty']"
            ]
          },
          "metadata": {},
          "execution_count": 16
        }
      ],
      "source": [
        "# write code here\n",
        "[name for name in names if name]\n",
        "\n",
        "# ['sal', 'don', 'betty']"
      ]
    },
    {
      "cell_type": "markdown",
      "metadata": {
        "id": "YNpkxizZAqKZ"
      },
      "source": [
        "### Filtering and Mapping"
      ]
    },
    {
      "cell_type": "markdown",
      "metadata": {
        "id": "F2TyQf1BAqKZ"
      },
      "source": [
        "Finally, by altering the return value, we can both reduce the number of elements and coerce the elements that remain."
      ]
    },
    {
      "cell_type": "markdown",
      "metadata": {
        "id": "VyFT-ZEqAqKZ"
      },
      "source": [
        "> For example, here we filter out the numbers that are negative."
      ]
    },
    {
      "cell_type": "code",
      "execution_count": 17,
      "metadata": {
        "id": "NDqei1blAqKZ",
        "outputId": "03f360b8-a65d-47d7-d33f-14530a441d4f",
        "colab": {
          "base_uri": "https://localhost:8080/"
        }
      },
      "outputs": [
        {
          "output_type": "execute_result",
          "data": {
            "text/plain": [
              "[8, 2, 4, 3]"
            ]
          },
          "metadata": {},
          "execution_count": 17
        }
      ],
      "source": [
        "[num for num in rand_nums if num > 0]"
      ]
    },
    {
      "cell_type": "markdown",
      "metadata": {
        "id": "fZP9sM_7AqKZ"
      },
      "source": [
        "And here we filter those numbers out, but multiply our remaining numbers by 100."
      ]
    },
    {
      "cell_type": "code",
      "execution_count": 18,
      "metadata": {
        "id": "87HV2Wk9AqKa",
        "outputId": "f0c6d455-5529-4f94-f1cb-6f8581b622f1",
        "colab": {
          "base_uri": "https://localhost:8080/"
        }
      },
      "outputs": [
        {
          "output_type": "execute_result",
          "data": {
            "text/plain": [
              "[800, 200, 400, 300]"
            ]
          },
          "metadata": {},
          "execution_count": 18
        }
      ],
      "source": [
        "[100*num for num in rand_nums if num > 0]"
      ]
    },
    {
      "cell_type": "markdown",
      "metadata": {
        "id": "AUS5xXExAqKa"
      },
      "source": [
        "### Summary"
      ]
    },
    {
      "cell_type": "markdown",
      "metadata": {
        "id": "0eqEFrRdAqKa"
      },
      "source": [
        "In this lesson, we saw how to only add certain elements to a list.  We first did this with a for loop.\n",
        "\n",
        "One by one, we only added the element `if` is passed a certain criteria."
      ]
    },
    {
      "cell_type": "markdown",
      "metadata": {
        "id": "g1sfiJIMAqKa"
      },
      "source": [
        "```python\n",
        "rand_list = [-6, 8, -8, -2, -7, -3, 4, 3, 0]\n",
        "pos_numbers = []\n",
        "for num in rand_list:\n",
        "    if num > 0: pos_numbers.append(num)\n",
        "```"
      ]
    },
    {
      "cell_type": "markdown",
      "metadata": {
        "id": "xtxbL8AUAqKf"
      },
      "source": [
        "Then we saw how to perform the equivalent operation with a list comprehension."
      ]
    },
    {
      "cell_type": "code",
      "execution_count": 19,
      "metadata": {
        "id": "bbnpsRpAAqKf",
        "outputId": "f07675ce-9cfb-49a9-e8fb-dc833118be8f",
        "colab": {
          "base_uri": "https://localhost:8080/"
        }
      },
      "outputs": [
        {
          "output_type": "execute_result",
          "data": {
            "text/plain": [
              "[8, 2, 4, 3]"
            ]
          },
          "metadata": {},
          "execution_count": 19
        }
      ],
      "source": [
        "rand_nums = [-6, 8, -8, -2, -7, -3, 2, 4, 3, 0]\n",
        "[num for num in rand_nums if num > 0]"
      ]
    },
    {
      "cell_type": "markdown",
      "metadata": {
        "id": "F2mZ6m01AqKg"
      },
      "source": [
        "Finally, we saw that we can combine filtering, and then adjusting the return value of the selected elements in one statement."
      ]
    },
    {
      "cell_type": "code",
      "execution_count": 20,
      "metadata": {
        "id": "fC6g5YPAAqKg",
        "outputId": "0fffdb82-a947-4bcd-f570-28f4bef1c12d",
        "colab": {
          "base_uri": "https://localhost:8080/"
        }
      },
      "outputs": [
        {
          "output_type": "execute_result",
          "data": {
            "text/plain": [
              "[4.0, 1.0, 2.0, 1.5]"
            ]
          },
          "metadata": {},
          "execution_count": 20
        }
      ],
      "source": [
        "[num/2 for num in rand_nums if num > 0]"
      ]
    },
    {
      "cell_type": "code",
      "source": [],
      "metadata": {
        "id": "nqAsE0BWKe82"
      },
      "execution_count": null,
      "outputs": []
    }
  ],
  "metadata": {
    "kernelspec": {
      "display_name": "Python 3 (ipykernel)",
      "language": "python",
      "name": "python3"
    },
    "language_info": {
      "codemirror_mode": {
        "name": "ipython",
        "version": 3
      },
      "file_extension": ".py",
      "mimetype": "text/x-python",
      "name": "python",
      "nbconvert_exporter": "python",
      "pygments_lexer": "ipython3",
      "version": "3.9.7"
    },
    "colab": {
      "provenance": []
    }
  },
  "nbformat": 4,
  "nbformat_minor": 0
}