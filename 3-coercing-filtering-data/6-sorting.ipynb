{
  "cells": [
    {
      "cell_type": "markdown",
      "metadata": {
        "id": "mjJu8Je0Bwo_"
      },
      "source": [
        "# Sorting"
      ]
    },
    {
      "cell_type": "markdown",
      "metadata": {
        "id": "v7iW6cKXBwpI"
      },
      "source": [
        "### Introduction"
      ]
    },
    {
      "cell_type": "markdown",
      "metadata": {
        "id": "SiXsNFDpBwpK"
      },
      "source": [
        "In the last lesson, we saw how we can select elements based on their criteria.  One other feature of Python is that we can sort elements by certain criteria.  \n",
        "\n",
        "Let's take a look."
      ]
    },
    {
      "cell_type": "markdown",
      "metadata": {
        "id": "9iieSaoIBwpL"
      },
      "source": [
        "### Working with Sorting"
      ]
    },
    {
      "cell_type": "markdown",
      "metadata": {
        "id": "c7cB6YsdBwpM"
      },
      "source": [
        "There are two ways to sort a list in Python."
      ]
    },
    {
      "cell_type": "markdown",
      "metadata": {
        "id": "TVUsXBcyBwpM"
      },
      "source": [
        "1. Using the `sorted` method."
      ]
    },
    {
      "cell_type": "code",
      "execution_count": 1,
      "metadata": {
        "id": "RK5cjQIiBwpN"
      },
      "outputs": [],
      "source": [
        "rand_nums = [-6, 8, -8, -2, -7, -3, 2, 4, 3, 0]"
      ]
    },
    {
      "cell_type": "code",
      "execution_count": 2,
      "metadata": {
        "id": "eEfFZAO5BwpQ",
        "outputId": "e5109ebf-042f-4f2b-90e5-82d436f2033d",
        "colab": {
          "base_uri": "https://localhost:8080/"
        }
      },
      "outputs": [
        {
          "output_type": "execute_result",
          "data": {
            "text/plain": [
              "[-8, -7, -6, -3, -2, 0, 2, 3, 4, 8]"
            ]
          },
          "metadata": {},
          "execution_count": 2
        }
      ],
      "source": [
        "sorted(rand_nums)"
      ]
    },
    {
      "cell_type": "markdown",
      "metadata": {
        "id": "E1IEsO9YBwpR"
      },
      "source": [
        "> Using the sorted method returns a new list of sorted elements."
      ]
    },
    {
      "cell_type": "markdown",
      "metadata": {
        "id": "0w6VNKVLBwpS"
      },
      "source": [
        "2. Using the `sort` method."
      ]
    },
    {
      "cell_type": "code",
      "execution_count": 3,
      "metadata": {
        "id": "UAMyG6ycBwpS"
      },
      "outputs": [],
      "source": [
        "rand_nums.sort()"
      ]
    },
    {
      "cell_type": "code",
      "execution_count": 4,
      "metadata": {
        "id": "5MQH7q9pBwpS",
        "outputId": "b67582ed-29a9-4a0f-f084-364f02b0393a",
        "colab": {
          "base_uri": "https://localhost:8080/"
        }
      },
      "outputs": [
        {
          "output_type": "execute_result",
          "data": {
            "text/plain": [
              "[-8, -7, -6, -3, -2, 0, 2, 3, 4, 8]"
            ]
          },
          "metadata": {},
          "execution_count": 4
        }
      ],
      "source": [
        "rand_nums"
      ]
    },
    {
      "cell_type": "markdown",
      "metadata": {
        "id": "bnnATHVZBwpT"
      },
      "source": [
        "> The `sort` method alters the original list."
      ]
    },
    {
      "cell_type": "markdown",
      "metadata": {
        "id": "4fwLdajXBwpT"
      },
      "source": [
        "We can choose to sort in a descending order (from highest to lowest) like so."
      ]
    },
    {
      "cell_type": "code",
      "execution_count": 6,
      "metadata": {
        "id": "uDarWPAdBwpT",
        "outputId": "1c1d18b8-2b99-4f5b-8bc2-2a39bfdcfaf6",
        "colab": {
          "base_uri": "https://localhost:8080/"
        }
      },
      "outputs": [
        {
          "output_type": "execute_result",
          "data": {
            "text/plain": [
              "[8, 4, 3, 2, 0, -2, -3, -6, -7, -8]"
            ]
          },
          "metadata": {},
          "execution_count": 6
        }
      ],
      "source": [
        "sorted(rand_nums, reverse = True)"
      ]
    },
    {
      "cell_type": "markdown",
      "metadata": {
        "id": "9AA58pwQBwpT"
      },
      "source": [
        "### Sorting Nested Data"
      ]
    },
    {
      "cell_type": "markdown",
      "metadata": {
        "id": "Z0BgvWnABwpU"
      },
      "source": [
        "The `sorted` method also allows us to sort a nested list of data."
      ]
    },
    {
      "cell_type": "code",
      "execution_count": 7,
      "metadata": {
        "id": "f3T27FEBBwpU"
      },
      "outputs": [],
      "source": [
        "cities = [\n",
        "{'name': 'Chicago', 'population': 2700000},\n",
        "{'name': 'Nyc', 'population':8000000},\n",
        "{'name': 'Los Angeles', 'population': 4000000}\n",
        "]"
      ]
    },
    {
      "cell_type": "markdown",
      "metadata": {
        "id": "ANlGA6nEBwpU"
      },
      "source": [
        "For example, here is how we can sort a list of cities by their population."
      ]
    },
    {
      "cell_type": "code",
      "execution_count": 8,
      "metadata": {
        "id": "leQzLRc4BwpU",
        "outputId": "9194275d-2cd0-41da-93fc-22e2819ba2fd",
        "colab": {
          "base_uri": "https://localhost:8080/"
        }
      },
      "outputs": [
        {
          "output_type": "execute_result",
          "data": {
            "text/plain": [
              "[{'name': 'Chicago', 'population': 2700000},\n",
              " {'name': 'Los Angeles', 'population': 4000000},\n",
              " {'name': 'Nyc', 'population': 8000000}]"
            ]
          },
          "metadata": {},
          "execution_count": 8
        }
      ],
      "source": [
        "sorted(cities, key = lambda city: city['population'])"
      ]
    },
    {
      "cell_type": "markdown",
      "metadata": {
        "id": "Pyn81snwBwpV"
      },
      "source": [
        "Let's break down the above.  We provide the `key = ` argument a `lambda` statement.  This works kind of like selecting elements from a dictionary in a loop.  `city` is our block variable that takes turns being each element in the list.  And we sort by the return value of the `lambda` statement - here, each city's population."
      ]
    },
    {
      "cell_type": "markdown",
      "metadata": {
        "id": "JpnOpV0LBwpV"
      },
      "source": [
        "Now it's your turn. Try placing the list of cities in alphabetical order using the `sorted` method."
      ]
    },
    {
      "cell_type": "code",
      "execution_count": 9,
      "metadata": {
        "id": "bcSMS0bKBwpV",
        "outputId": "940a4e8c-d3c4-430c-9936-7587f869c724",
        "colab": {
          "base_uri": "https://localhost:8080/"
        }
      },
      "outputs": [
        {
          "output_type": "execute_result",
          "data": {
            "text/plain": [
              "[{'name': 'Chicago', 'population': 2700000},\n",
              " {'name': 'Los Angeles', 'population': 4000000},\n",
              " {'name': 'Nyc', 'population': 8000000}]"
            ]
          },
          "metadata": {},
          "execution_count": 9
        }
      ],
      "source": [
        "alpha_sorted = sorted(cities, key = lambda city: city['name'])\n",
        "alpha_sorted\n",
        "# [{'name': 'Chicago', 'population': 2700000},\n",
        "#  {'name': 'Los Angeles', 'population': 4000000},\n",
        "#  {'name': 'Nyc', 'population': 8000000}]"
      ]
    },
    {
      "cell_type": "markdown",
      "metadata": {
        "id": "7YiVapPOBwpW"
      },
      "source": [
        "Note that Python also has `min` and `max` functions that work similarly."
      ]
    },
    {
      "cell_type": "code",
      "execution_count": 10,
      "metadata": {
        "id": "8kpLUsKXBwpW",
        "outputId": "8dfcdedd-57fd-48f3-c776-3da2656c4b78",
        "colab": {
          "base_uri": "https://localhost:8080/"
        }
      },
      "outputs": [
        {
          "output_type": "execute_result",
          "data": {
            "text/plain": [
              "{'name': 'Chicago', 'population': 2700000}"
            ]
          },
          "metadata": {},
          "execution_count": 10
        }
      ],
      "source": [
        "min(cities, key = lambda city: city['population'])"
      ]
    },
    {
      "cell_type": "markdown",
      "metadata": {
        "id": "AYkchuLvBwpX"
      },
      "source": [
        "> Above we used the `max` method to find the city with the largest population."
      ]
    },
    {
      "cell_type": "markdown",
      "metadata": {
        "id": "x8P_HXhsBwpX"
      },
      "source": [
        "Your turn.  Use the `max` method to find the city that comes last alphabetically."
      ]
    },
    {
      "cell_type": "code",
      "execution_count": 11,
      "metadata": {
        "id": "i8ocBFOtBwpX",
        "outputId": "92892590-2ae5-469f-d6a0-01ec51ad73c3",
        "colab": {
          "base_uri": "https://localhost:8080/"
        }
      },
      "outputs": [
        {
          "output_type": "execute_result",
          "data": {
            "text/plain": [
              "{'name': 'Nyc', 'population': 8000000}"
            ]
          },
          "metadata": {},
          "execution_count": 11
        }
      ],
      "source": [
        "last_city = max(cities, key =lambda x:x['name'])\n",
        "last_city\n",
        "# {'name': 'Nyc', 'population': 8000000}"
      ]
    },
    {
      "cell_type": "markdown",
      "metadata": {
        "id": "Chv03tH2BwpY"
      },
      "source": [
        "### Summary"
      ]
    },
    {
      "cell_type": "markdown",
      "metadata": {
        "id": "mXTPtzm_BwpY"
      },
      "source": [
        "In this lesson we saw how to `sort` elements of our list in Python.  We can do so either using the `sort` method -- which alters the original list -- or the `sorted` method, which returns a new list.\n",
        "\n",
        "We saw that we can sort by different criteria with the element `key = lambda x:` pattern."
      ]
    }
  ],
  "metadata": {
    "kernelspec": {
      "display_name": "Python 3 (ipykernel)",
      "language": "python",
      "name": "python3"
    },
    "language_info": {
      "codemirror_mode": {
        "name": "ipython",
        "version": 3
      },
      "file_extension": ".py",
      "mimetype": "text/x-python",
      "name": "python",
      "nbconvert_exporter": "python",
      "pygments_lexer": "ipython3",
      "version": "3.9.10"
    },
    "colab": {
      "provenance": []
    }
  },
  "nbformat": 4,
  "nbformat_minor": 0
}