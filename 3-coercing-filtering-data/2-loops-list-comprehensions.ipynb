{
  "cells": [
    {
      "cell_type": "markdown",
      "metadata": {
        "id": "6GZTVnSwR_FT"
      },
      "source": [
        "# Loops and List Comprehensions"
      ]
    },
    {
      "cell_type": "markdown",
      "metadata": {
        "id": "pUi0bZVmR_Fa"
      },
      "source": [
        "### Introduction"
      ]
    },
    {
      "cell_type": "markdown",
      "metadata": {
        "id": "zqFUHN2AR_Fa"
      },
      "source": [
        "A useful tool for coercing and reducing our data is with loops.  Let's see how we can use them to do both."
      ]
    },
    {
      "cell_type": "markdown",
      "metadata": {
        "id": "TsTfcBZKR_Fb"
      },
      "source": [
        "### Reviewing Loops"
      ]
    },
    {
      "cell_type": "markdown",
      "metadata": {
        "id": "SkRJ-5XKR_Fb"
      },
      "source": [
        "As we know, we use loops to perform the same operation on each element in a list."
      ]
    },
    {
      "cell_type": "code",
      "execution_count": 2,
      "metadata": {
        "id": "W0wENe_vR_Fc"
      },
      "outputs": [],
      "source": [
        "names = ['homer', 'marge', 'lisa']"
      ]
    },
    {
      "cell_type": "code",
      "execution_count": 3,
      "metadata": {
        "id": "hZHGv8iiR_Ff",
        "outputId": "0c175c9f-4ec0-4811-ae0c-7d2a90c88f22",
        "colab": {
          "base_uri": "https://localhost:8080/"
        }
      },
      "outputs": [
        {
          "output_type": "execute_result",
          "data": {
            "text/plain": [
              "['Homer', 'Marge', 'Lisa']"
            ]
          },
          "metadata": {},
          "execution_count": 3
        }
      ],
      "source": [
        "cap_names = []\n",
        "for name in names:\n",
        "    #variable, input\n",
        "    cap_names.append(name.capitalize())\n",
        "\n",
        "cap_names\n",
        "# output"
      ]
    },
    {
      "cell_type": "markdown",
      "metadata": {
        "id": "WqYwrLesR_Fi"
      },
      "source": [
        "For example, we can use a for loop to format each of the movies with the proper capitalization."
      ]
    },
    {
      "cell_type": "code",
      "execution_count": 4,
      "metadata": {
        "id": "oj1v3uWBR_Fj"
      },
      "outputs": [],
      "source": [
        "movies = ['fast and the furious', 'the titanic', 'frozen']"
      ]
    },
    {
      "cell_type": "markdown",
      "metadata": {
        "id": "_xG3boLlR_Fk"
      },
      "source": [
        "* Give it a shot below.  Use a for loop to capitalize each movie and assign it to the list `capitalized_movies`."
      ]
    },
    {
      "cell_type": "code",
      "execution_count": 6,
      "metadata": {
        "id": "pB6sX1mlR_Fl",
        "outputId": "eb2790ab-a0c0-4c65-bc76-799e6f905193",
        "colab": {
          "base_uri": "https://localhost:8080/"
        }
      },
      "outputs": [
        {
          "output_type": "execute_result",
          "data": {
            "text/plain": [
              "['Fast and the furious', 'The titanic', 'Frozen']"
            ]
          },
          "metadata": {},
          "execution_count": 6
        }
      ],
      "source": [
        "capitalized_movies = [movie.capitalize() for movie in movies]\n",
        "capitalized_movies"
      ]
    },
    {
      "cell_type": "markdown",
      "metadata": {
        "id": "uPt9Q4yOR_Fl"
      },
      "source": [
        "### Using List Comprehension"
      ]
    },
    {
      "cell_type": "markdown",
      "metadata": {
        "id": "9Jws4IsyR_Fm"
      },
      "source": [
        "Another way to use loops is with list comprehension."
      ]
    },
    {
      "cell_type": "code",
      "execution_count": 7,
      "metadata": {
        "id": "6y0Pqf_tR_Fm"
      },
      "outputs": [],
      "source": [
        "names = ['homer', 'marge', 'lisa']"
      ]
    },
    {
      "cell_type": "code",
      "execution_count": 8,
      "metadata": {
        "id": "r8yZq3aAR_Fm",
        "outputId": "9e4d6aa5-6dbf-4b2c-cc78-8cf4d81c4315",
        "colab": {
          "base_uri": "https://localhost:8080/"
        }
      },
      "outputs": [
        {
          "output_type": "execute_result",
          "data": {
            "text/plain": [
              "['Homer', 'Marge', 'Lisa']"
            ]
          },
          "metadata": {},
          "execution_count": 8
        }
      ],
      "source": [
        "[name.capitalize() for name in names]\n",
        "### output,           variable, input"
      ]
    },
    {
      "cell_type": "code",
      "execution_count": 9,
      "metadata": {
        "id": "vNbyb19oR_Fn"
      },
      "outputs": [],
      "source": [
        "movies = ['fast and the furious', 'the titanic', 'frozen']"
      ]
    },
    {
      "cell_type": "markdown",
      "metadata": {
        "id": "5FEq9fUZR_Fn"
      },
      "source": [
        "Here are the list of movies again.  Now use list comprehension to capitalize the each word of each movie."
      ]
    },
    {
      "cell_type": "code",
      "execution_count": 10,
      "metadata": {
        "id": "02NnvsIrR_Fo"
      },
      "outputs": [],
      "source": [
        "movie_titles = [movie.capitalize() for movie in movies]"
      ]
    },
    {
      "cell_type": "code",
      "source": [],
      "metadata": {
        "id": "mfA6OWz_jRtt"
      },
      "execution_count": null,
      "outputs": []
    }
  ],
  "metadata": {
    "kernelspec": {
      "display_name": "Python 3 (ipykernel)",
      "language": "python",
      "name": "python3"
    },
    "language_info": {
      "codemirror_mode": {
        "name": "ipython",
        "version": 3
      },
      "file_extension": ".py",
      "mimetype": "text/x-python",
      "name": "python",
      "nbconvert_exporter": "python",
      "pygments_lexer": "ipython3",
      "version": "3.9.7"
    },
    "colab": {
      "provenance": []
    }
  },
  "nbformat": 4,
  "nbformat_minor": 0
}