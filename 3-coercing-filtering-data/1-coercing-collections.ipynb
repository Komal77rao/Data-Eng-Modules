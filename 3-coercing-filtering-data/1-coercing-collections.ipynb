{
  "cells": [
    {
      "cell_type": "markdown",
      "metadata": {
        "id": "xG6f9X-uGbVh"
      },
      "source": [
        "# Coercing Collections"
      ]
    },
    {
      "cell_type": "markdown",
      "metadata": {
        "id": "w_Y9WYzmGbVp"
      },
      "source": [
        "### Introduction"
      ]
    },
    {
      "cell_type": "markdown",
      "metadata": {
        "id": "_tGYUvtUGbVq"
      },
      "source": [
        "So far we have learned about lists and dictionaries - and we have thought about the purpose of each.  One thing to explore further is how change our data from one form or another.  Doing so will allow us to take advantage of different methods and purposes of each datapoint."
      ]
    },
    {
      "cell_type": "markdown",
      "metadata": {
        "id": "ECIrwStBGbVr"
      },
      "source": [
        "### Lists and Sets"
      ]
    },
    {
      "cell_type": "markdown",
      "metadata": {
        "id": "phPrC4_BGbVr"
      },
      "source": [
        "For example, two datatypes that are similar are lists and sets.  Here is a list of ages of employees."
      ]
    },
    {
      "cell_type": "code",
      "execution_count": 1,
      "metadata": {
        "id": "RQ8XFkChGbVs"
      },
      "outputs": [],
      "source": [
        "ages = [22, 23, 22, 35, 40]"
      ]
    },
    {
      "cell_type": "markdown",
      "metadata": {
        "id": "wSdAc5hOGbVu"
      },
      "source": [
        "And below we coerce the list into a set."
      ]
    },
    {
      "cell_type": "code",
      "execution_count": 2,
      "metadata": {
        "colab": {
          "base_uri": "https://localhost:8080/"
        },
        "id": "ji8saAx6GbVv",
        "outputId": "963845d3-4f2d-4c39-d952-7439961b57a4"
      },
      "outputs": [
        {
          "output_type": "execute_result",
          "data": {
            "text/plain": [
              "{22, 23, 35, 40}"
            ]
          },
          "metadata": {},
          "execution_count": 2
        }
      ],
      "source": [
        "ages_set = set(ages)\n",
        "ages_set"
      ]
    },
    {
      "cell_type": "markdown",
      "metadata": {
        "id": "vefIUxiFGbVx"
      },
      "source": [
        "So as we can see, the set is a collection of unique items.  We can do a couple of things with sets.  Like seeing if there is an element in the set, or calculating the length of a set."
      ]
    },
    {
      "cell_type": "code",
      "execution_count": 3,
      "metadata": {
        "colab": {
          "base_uri": "https://localhost:8080/"
        },
        "id": "v0ob_wAcGbVy",
        "outputId": "37b00ae2-1a3f-4017-b913-733a3232a6ff"
      },
      "outputs": [
        {
          "output_type": "execute_result",
          "data": {
            "text/plain": [
              "True"
            ]
          },
          "metadata": {},
          "execution_count": 3
        }
      ],
      "source": [
        "22 in ages_set"
      ]
    },
    {
      "cell_type": "markdown",
      "metadata": {
        "id": "HhyQPGlFGbVz"
      },
      "source": [
        "But sets do not have a sense of order like a list does, and because of that there is no sense of an index in a set."
      ]
    },
    {
      "cell_type": "code",
      "execution_count": 5,
      "metadata": {
        "colab": {
          "base_uri": "https://localhost:8080/"
        },
        "id": "TVR6xB6fGbV0",
        "outputId": "1edc48da-2c3c-43de-d232-4f9d7cf11a8c"
      },
      "outputs": [
        {
          "output_type": "execute_result",
          "data": {
            "text/plain": [
              "{22, 23, 35, 40}"
            ]
          },
          "metadata": {},
          "execution_count": 5
        }
      ],
      "source": [
        "ages_set"
      ]
    },
    {
      "cell_type": "markdown",
      "metadata": {
        "id": "mWAoSosOGbV0"
      },
      "source": [
        "For that we need a list."
      ]
    },
    {
      "cell_type": "code",
      "execution_count": 6,
      "metadata": {
        "colab": {
          "base_uri": "https://localhost:8080/"
        },
        "id": "l5-G-chiGbV0",
        "outputId": "3f397d07-df74-4cac-be2d-779b2bc21a89"
      },
      "outputs": [
        {
          "output_type": "execute_result",
          "data": {
            "text/plain": [
              "[40, 35, 22, 23]"
            ]
          },
          "metadata": {},
          "execution_count": 6
        }
      ],
      "source": [
        "list(ages_set)"
      ]
    },
    {
      "cell_type": "markdown",
      "metadata": {
        "id": "VQMfuOZ_GbV1"
      },
      "source": [
        "### Dictionaries and Lists"
      ]
    },
    {
      "cell_type": "markdown",
      "metadata": {
        "id": "qaBKem7cGbV1"
      },
      "source": [
        "Let's take a look at a dictionary."
      ]
    },
    {
      "cell_type": "code",
      "execution_count": 7,
      "metadata": {
        "id": "MylPgk-4GbV1"
      },
      "outputs": [],
      "source": [
        "nyc = {'name': 'nyc', 'state': 'NY', 'population': 8000000}"
      ]
    },
    {
      "cell_type": "markdown",
      "metadata": {
        "id": "TAZ-VgULGbV1"
      },
      "source": [
        "Now if we were to break down this dictionary, we might say that there is a list of keys and a list of values.  Let's access each of these components."
      ]
    },
    {
      "cell_type": "code",
      "execution_count": 8,
      "metadata": {
        "colab": {
          "base_uri": "https://localhost:8080/"
        },
        "id": "4v6gJbrgGbV1",
        "outputId": "0a7d21ca-f62f-40c5-c8f6-a94e2c338ce1"
      },
      "outputs": [
        {
          "output_type": "execute_result",
          "data": {
            "text/plain": [
              "dict_keys(['name', 'state', 'population'])"
            ]
          },
          "metadata": {},
          "execution_count": 8
        }
      ],
      "source": [
        "nyc.keys()"
      ]
    },
    {
      "cell_type": "code",
      "execution_count": 9,
      "metadata": {
        "colab": {
          "base_uri": "https://localhost:8080/"
        },
        "id": "k3-BFzELGbV2",
        "outputId": "87eccfce-af49-45ba-a5ea-ab6d20f90453"
      },
      "outputs": [
        {
          "output_type": "execute_result",
          "data": {
            "text/plain": [
              "dict_values(['nyc', 'NY', 8000000])"
            ]
          },
          "metadata": {},
          "execution_count": 9
        }
      ],
      "source": [
        "nyc.values()"
      ]
    },
    {
      "cell_type": "markdown",
      "metadata": {
        "id": "O6uwehg1GbV2"
      },
      "source": [
        "Each of these returns a `dict_keys` object.  Unfortunately, we cannot directly access the elements of a dictkeys object.  But we can if we change this object into a list."
      ]
    },
    {
      "cell_type": "code",
      "execution_count": 10,
      "metadata": {
        "colab": {
          "base_uri": "https://localhost:8080/",
          "height": 35
        },
        "id": "qMwhpinlGbV2",
        "outputId": "bb38dd4d-3969-42b3-aafb-d45f7c297327"
      },
      "outputs": [
        {
          "output_type": "execute_result",
          "data": {
            "text/plain": [
              "'population'"
            ],
            "application/vnd.google.colaboratory.intrinsic+json": {
              "type": "string"
            }
          },
          "metadata": {},
          "execution_count": 10
        }
      ],
      "source": [
        "city_keys = list(nyc.keys())\n",
        "city_keys[-1]"
      ]
    },
    {
      "cell_type": "markdown",
      "metadata": {
        "id": "vDbhw0GvGbV3"
      },
      "source": [
        "### From lists to dictionaries"
      ]
    },
    {
      "cell_type": "markdown",
      "metadata": {
        "id": "nki6641RGbV3"
      },
      "source": [
        "Finally, if we have a list of keys and a list of values, we can turn them into a dictionary.  For example, here are the list of keys from `nyc`."
      ]
    },
    {
      "cell_type": "code",
      "execution_count": 11,
      "metadata": {
        "colab": {
          "base_uri": "https://localhost:8080/"
        },
        "id": "iciJTQ7sGbV3",
        "outputId": "ea030c82-fc4a-463d-c27f-fee245b39a00"
      },
      "outputs": [
        {
          "output_type": "execute_result",
          "data": {
            "text/plain": [
              "['name', 'state', 'population']"
            ]
          },
          "metadata": {},
          "execution_count": 11
        }
      ],
      "source": [
        "city_keys"
      ]
    },
    {
      "cell_type": "markdown",
      "metadata": {
        "id": "SopKaZWNGbV3"
      },
      "source": [
        "Let's say that we want to pair these with the values of a new city, Chicago.  We could do so with the following."
      ]
    },
    {
      "cell_type": "code",
      "execution_count": 12,
      "metadata": {
        "id": "f0RUqtr1GbV4"
      },
      "outputs": [],
      "source": [
        "chicago_vals = ['Chicago', 'Illinois', 4000000]"
      ]
    },
    {
      "cell_type": "code",
      "execution_count": 13,
      "metadata": {
        "colab": {
          "base_uri": "https://localhost:8080/"
        },
        "id": "ywu6KxIeGbV4",
        "outputId": "b73f3dc4-fdc6-4d28-fdd5-ea4f1ffb7d1c"
      },
      "outputs": [
        {
          "output_type": "execute_result",
          "data": {
            "text/plain": [
              "[('name', 'Chicago'), ('state', 'Illinois'), ('population', 4000000)]"
            ]
          },
          "metadata": {},
          "execution_count": 13
        }
      ],
      "source": [
        "paired_data = list(zip(city_keys, chicago_vals))\n",
        "paired_data"
      ]
    },
    {
      "cell_type": "markdown",
      "metadata": {
        "id": "TqlLm5daGbV5"
      },
      "source": [
        "So using `zip` we have paired up the keys and values.  And from there, we can turn this into a dictionary."
      ]
    },
    {
      "cell_type": "code",
      "execution_count": 14,
      "metadata": {
        "colab": {
          "base_uri": "https://localhost:8080/"
        },
        "id": "hq9BKr9jGbV5",
        "outputId": "92b10119-3b23-4dc6-ae04-93f72f036cf3"
      },
      "outputs": [
        {
          "output_type": "execute_result",
          "data": {
            "text/plain": [
              "{'name': 'Chicago', 'state': 'Illinois', 'population': 4000000}"
            ]
          },
          "metadata": {},
          "execution_count": 14
        }
      ],
      "source": [
        "chicago = dict(paired_data)\n",
        "chicago"
      ]
    },
    {
      "cell_type": "code",
      "execution_count": 15,
      "metadata": {
        "colab": {
          "base_uri": "https://localhost:8080/",
          "height": 35
        },
        "id": "D9LLmVzCGbV6",
        "outputId": "4534fe6e-e957-4bb9-e5e3-9b05c323d0d2"
      },
      "outputs": [
        {
          "output_type": "execute_result",
          "data": {
            "text/plain": [
              "'Illinois'"
            ],
            "application/vnd.google.colaboratory.intrinsic+json": {
              "type": "string"
            }
          },
          "metadata": {},
          "execution_count": 15
        }
      ],
      "source": [
        "chicago['state']"
      ]
    },
    {
      "cell_type": "markdown",
      "metadata": {
        "id": "E7duRodaGbV6"
      },
      "source": [
        "### Summary"
      ]
    },
    {
      "cell_type": "markdown",
      "metadata": {
        "id": "4Qx_j_RnGbV6"
      },
      "source": [
        "In this lesson we saw how we can coerce our data into different types of collections.  We first went from a list to a set, which is an unordered collection that has a unique collection of items.  And saw how we can go from set to list.\n",
        "\n",
        "We also saw how we can extract a list of a dictionary's keys or values.  \n",
        "\n",
        "Finally, we saw how we can `zip` two lists together, and turn the result into a dictionary."
      ]
    },
    {
      "cell_type": "code",
      "source": [],
      "metadata": {
        "id": "oPjEAFiHNgZH"
      },
      "execution_count": null,
      "outputs": []
    }
  ],
  "metadata": {
    "kernelspec": {
      "display_name": "Python 3 (ipykernel)",
      "language": "python",
      "name": "python3"
    },
    "language_info": {
      "codemirror_mode": {
        "name": "ipython",
        "version": 3
      },
      "file_extension": ".py",
      "mimetype": "text/x-python",
      "name": "python",
      "nbconvert_exporter": "python",
      "pygments_lexer": "ipython3",
      "version": "3.10.6"
    },
    "colab": {
      "provenance": []
    }
  },
  "nbformat": 4,
  "nbformat_minor": 0
}