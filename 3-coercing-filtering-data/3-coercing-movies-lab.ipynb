{
  "cells": [
    {
      "cell_type": "markdown",
      "metadata": {
        "id": "F_N9yZq1n9jH"
      },
      "source": [
        "# Coercing and Reducing Data Lab"
      ]
    },
    {
      "cell_type": "markdown",
      "metadata": {
        "id": "YOHe4CYKn9jN"
      },
      "source": [
        "### Introduction"
      ]
    },
    {
      "cell_type": "markdown",
      "metadata": {
        "id": "vmBJSfwtn9jN"
      },
      "source": [
        "In this lesson, we'll see how we can use loops and list comprehensions to both reduce the amount of information, and coerce our data."
      ]
    },
    {
      "cell_type": "markdown",
      "metadata": {
        "id": "x6lamSIin9jO"
      },
      "source": [
        "### Loading the Data"
      ]
    },
    {
      "cell_type": "code",
      "execution_count": 2,
      "metadata": {
        "id": "C0VA9CmHn9jQ"
      },
      "outputs": [],
      "source": [
        "import pandas as pd\n",
        "df = pd.read_csv('https://raw.githubusercontent.com/eng-6-22/mod-1-a-data-structures/master/3-coercing-filtering-data/imdb_movies.csv')\n",
        "movies = df.to_dict('records')"
      ]
    },
    {
      "cell_type": "code",
      "execution_count": 3,
      "metadata": {
        "id": "czZAg27Fn9jU",
        "outputId": "08b8a828-1bba-4713-f7d9-8391240275e7",
        "colab": {
          "base_uri": "https://localhost:8080/"
        }
      },
      "outputs": [
        {
          "output_type": "execute_result",
          "data": {
            "text/plain": [
              "[{'title': 'Avatar',\n",
              "  'genre': 'Action',\n",
              "  'budget': 237000000,\n",
              "  'runtime': 162.0,\n",
              "  'year': 2009,\n",
              "  'month': 12,\n",
              "  'revenue': 2787965087},\n",
              " {'title': \"Pirates of the Caribbean: At World's End\",\n",
              "  'genre': 'Adventure',\n",
              "  'budget': 300000000,\n",
              "  'runtime': 169.0,\n",
              "  'year': 2007,\n",
              "  'month': 5,\n",
              "  'revenue': 961000000}]"
            ]
          },
          "metadata": {},
          "execution_count": 3
        }
      ],
      "source": [
        "movies[:2]"
      ]
    },
    {
      "cell_type": "markdown",
      "metadata": {
        "id": "JY8BCgHkn9jX"
      },
      "source": [
        "### Exploring Data"
      ]
    },
    {
      "cell_type": "markdown",
      "metadata": {
        "id": "eIEJIGNdn9jY"
      },
      "source": [
        "1. Start by selecting the first movie from the list of movies, this way we can get a sense of our data."
      ]
    },
    {
      "cell_type": "code",
      "execution_count": 3,
      "metadata": {
        "id": "q6eiv-p_n9jb",
        "outputId": "6aca404b-9af3-4e25-c835-ec4dd83d607e",
        "colab": {
          "base_uri": "https://localhost:8080/"
        }
      },
      "outputs": [
        {
          "output_type": "execute_result",
          "data": {
            "text/plain": [
              "{'title': 'Avatar',\n",
              " 'genre': 'Action',\n",
              " 'budget': 237000000,\n",
              " 'runtime': 162.0,\n",
              " 'year': 2009,\n",
              " 'month': 12,\n",
              " 'revenue': 2787965087}"
            ]
          },
          "metadata": {},
          "execution_count": 3
        }
      ],
      "source": [
        "first_movie = movies[0]\n",
        "first_movie\n",
        "# {'title': 'Avatar',\n",
        "#  'genre': 'Action',\n",
        "#  'budget': 237000000,\n",
        "#  'runtime': 162.0,\n",
        "#  'year': 2009,\n",
        "#  'month': 12,\n",
        "#  'revenue': 2787965087}"
      ]
    },
    {
      "cell_type": "markdown",
      "metadata": {
        "id": "-Jf1g3V0n9jc"
      },
      "source": [
        "Now let's just return the keys from the dictionary.."
      ]
    },
    {
      "cell_type": "code",
      "execution_count": 4,
      "metadata": {
        "id": "qFS2-LVZn9jc",
        "outputId": "c476a1a2-5fcb-4ac0-9ab6-d3e997c8bd69",
        "colab": {
          "base_uri": "https://localhost:8080/"
        }
      },
      "outputs": [
        {
          "output_type": "execute_result",
          "data": {
            "text/plain": [
              "dict_keys(['title', 'genre', 'budget', 'runtime', 'year', 'month', 'revenue'])"
            ]
          },
          "metadata": {},
          "execution_count": 4
        }
      ],
      "source": [
        "movie_keys = first_movie.keys()\n",
        "movie_keys\n",
        "\n",
        "# dict_keys(['title', 'genre', 'budget', 'runtime', 'year', 'month', 'revenue'])"
      ]
    },
    {
      "cell_type": "markdown",
      "metadata": {
        "id": "ck-smP4kn9jc"
      },
      "source": [
        "And then calculate the number of keys."
      ]
    },
    {
      "cell_type": "code",
      "execution_count": 5,
      "metadata": {
        "id": "latLt8qVn9jd",
        "outputId": "4201795b-1dcd-4948-a75d-a42b7bd9bc1f",
        "colab": {
          "base_uri": "https://localhost:8080/"
        }
      },
      "outputs": [
        {
          "output_type": "execute_result",
          "data": {
            "text/plain": [
              "7"
            ]
          },
          "metadata": {},
          "execution_count": 5
        }
      ],
      "source": [
        "num_keys = len(movie_keys)\n",
        "\n",
        "num_keys\n",
        "# 7"
      ]
    },
    {
      "cell_type": "markdown",
      "metadata": {
        "id": "yWuAQerWn9jd"
      },
      "source": [
        "2. Now let's see how many movies we have"
      ]
    },
    {
      "cell_type": "code",
      "execution_count": 6,
      "metadata": {
        "id": "rTG5PnyIn9jd",
        "outputId": "3c844cef-0416-46d6-b077-ebc42d355d74",
        "colab": {
          "base_uri": "https://localhost:8080/"
        }
      },
      "outputs": [
        {
          "output_type": "execute_result",
          "data": {
            "text/plain": [
              "2000"
            ]
          },
          "metadata": {},
          "execution_count": 6
        }
      ],
      "source": [
        "movies_count = len(movies)\n",
        "movies_count\n",
        "# 2000"
      ]
    },
    {
      "cell_type": "markdown",
      "metadata": {
        "id": "hyuwEPOSn9jd"
      },
      "source": [
        "### 2. Using Loops to Reduce Data"
      ]
    },
    {
      "cell_type": "markdown",
      "metadata": {
        "id": "kGQ61ZcIn9jd"
      },
      "source": [
        "Next, let's plot the amount of money that each movie makes along with it's name.  \n",
        "\n",
        "To do so, loop through the list to select only `title` from each movie.\n",
        "> Let's practice this using first a `for` loop, and then list comprehension."
      ]
    },
    {
      "cell_type": "markdown",
      "metadata": {
        "id": "af5ON8MFn9je"
      },
      "source": [
        "1. Use a `for` loop and the `append` method to add each title to a list."
      ]
    },
    {
      "cell_type": "code",
      "execution_count": 8,
      "metadata": {
        "id": "ItAE0QCXn9je"
      },
      "outputs": [],
      "source": [
        "titles = []\n",
        "\n",
        "for movie in movies:\n",
        "  title = movie['title']\n",
        "  titles.append(title)\n",
        "\n"
      ]
    },
    {
      "cell_type": "code",
      "execution_count": 9,
      "metadata": {
        "id": "ol_FnmZcn9je",
        "outputId": "19240277-3a07-4cca-8e9a-fa5921f994aa",
        "colab": {
          "base_uri": "https://localhost:8080/"
        }
      },
      "outputs": [
        {
          "output_type": "execute_result",
          "data": {
            "text/plain": [
              "['Avatar', \"Pirates of the Caribbean: At World's End\", 'Spectre']"
            ]
          },
          "metadata": {},
          "execution_count": 9
        }
      ],
      "source": [
        "titles[:3]\n",
        "# ['Avatar', \"Pirates of the Caribbean: At World's End\", 'Spectre']\n"
      ]
    },
    {
      "cell_type": "markdown",
      "metadata": {
        "id": "IGNFH_uSn9je"
      },
      "source": [
        "2. Now do the same thing using list comprehension."
      ]
    },
    {
      "cell_type": "code",
      "execution_count": 10,
      "metadata": {
        "id": "X0AbnZdan9je"
      },
      "outputs": [],
      "source": [
        "titles = [movie['title'] for movie in movies]"
      ]
    },
    {
      "cell_type": "code",
      "execution_count": 11,
      "metadata": {
        "id": "qzPg7O70n9jf",
        "outputId": "3ef8ba9d-313c-48a9-fec5-6bd5b0185508",
        "colab": {
          "base_uri": "https://localhost:8080/"
        }
      },
      "outputs": [
        {
          "output_type": "execute_result",
          "data": {
            "text/plain": [
              "['Avatar', \"Pirates of the Caribbean: At World's End\", 'Spectre']"
            ]
          },
          "metadata": {},
          "execution_count": 11
        }
      ],
      "source": [
        "titles[:3]\n",
        "# ['Avatar',\n",
        "# \"Pirates of the Caribbean: At World's End\",\n",
        "# 'Spectre']"
      ]
    },
    {
      "cell_type": "markdown",
      "metadata": {
        "id": "fRU32pfzn9jf"
      },
      "source": [
        "3. Select the revenue from each movie using list comprehension"
      ]
    },
    {
      "cell_type": "code",
      "execution_count": 12,
      "metadata": {
        "id": "o5GLV4dDn9jg"
      },
      "outputs": [],
      "source": [
        "revenues = [movie['revenue'] for movie in movies]\n"
      ]
    },
    {
      "cell_type": "code",
      "execution_count": 13,
      "metadata": {
        "id": "E4IUCU4-n9jg",
        "outputId": "270dddb0-2c1b-4fa1-b7df-f70af829560a",
        "colab": {
          "base_uri": "https://localhost:8080/"
        }
      },
      "outputs": [
        {
          "output_type": "execute_result",
          "data": {
            "text/plain": [
              "[2787965087, 961000000, 880674609]"
            ]
          },
          "metadata": {},
          "execution_count": 13
        }
      ],
      "source": [
        "revenues[:3]\n",
        "# [2787965087, 961000000, 880674609]"
      ]
    },
    {
      "cell_type": "markdown",
      "metadata": {
        "id": "Z6U2SEA8n9jg"
      },
      "source": [
        "4. Now select the year from each movie."
      ]
    },
    {
      "cell_type": "code",
      "execution_count": 14,
      "metadata": {
        "id": "AJqnoaoNn9jg",
        "outputId": "381e1ac3-0b6d-4aba-de0d-f8f72c1d2eff",
        "colab": {
          "base_uri": "https://localhost:8080/"
        }
      },
      "outputs": [
        {
          "output_type": "execute_result",
          "data": {
            "text/plain": [
              "[2009, 2007, 2015]"
            ]
          },
          "metadata": {},
          "execution_count": 14
        }
      ],
      "source": [
        "years = [movie['year'] for movie in movies]\n",
        "\n",
        "years[:3]\n",
        "\n",
        "# [2009, 2007, 2015]"
      ]
    },
    {
      "cell_type": "markdown",
      "metadata": {
        "id": "YEErUvAdn9jh"
      },
      "source": [
        "> Press `shift + return` on the cell below to plot the movie information."
      ]
    },
    {
      "cell_type": "code",
      "execution_count": 15,
      "metadata": {
        "id": "CCND0_W_n9jh",
        "outputId": "27f4fc5f-eff8-4e1c-e537-4088e19ce021",
        "colab": {
          "base_uri": "https://localhost:8080/",
          "height": 542
        }
      },
      "outputs": [
        {
          "output_type": "display_data",
          "data": {
            "text/html": [
              "<html>\n",
              "<head><meta charset=\"utf-8\" /></head>\n",
              "<body>\n",
              "    <div>            <script src=\"https://cdnjs.cloudflare.com/ajax/libs/mathjax/2.7.5/MathJax.js?config=TeX-AMS-MML_SVG\"></script><script type=\"text/javascript\">if (window.MathJax && window.MathJax.Hub && window.MathJax.Hub.Config) {window.MathJax.Hub.Config({SVG: {font: \"STIX-Web\"}});}</script>                <script type=\"text/javascript\">window.PlotlyConfig = {MathJaxConfig: 'local'};</script>\n",
              "        <script charset=\"utf-8\" src=\"https://cdn.plot.ly/plotly-2.24.1.min.js\"></script>                <div id=\"03b932e2-671f-4825-84c5-f92ce486e7eb\" class=\"plotly-graph-div\" style=\"height:525px; width:100%;\"></div>            <script type=\"text/javascript\">                                    window.PLOTLYENV=window.PLOTLYENV || {};                                    if (document.getElementById(\"03b932e2-671f-4825-84c5-f92ce486e7eb\")) {                    Plotly.newPlot(                        \"03b932e2-671f-4825-84c5-f92ce486e7eb\",                        [{\"hovertext\":[\"Avatar\",\"Pirates of the Caribbean: At World's End\",\"Spectre\",\"The Dark Knight Rises\",\"John Carter\",\"Spider-Man 3\",\"Tangled\",\"Avengers: Age of Ultron\",\"Harry Potter and the Half-Blood Prince\",\"Batman v Superman: Dawn of Justice\",\"Superman Returns\",\"Quantum of Solace\",\"Pirates of the Caribbean: Dead Man's Chest\",\"The Lone Ranger\",\"Man of Steel\",\"The Chronicles of Narnia: Prince Caspian\",\"The Avengers\",\"Pirates of the Caribbean: On Stranger Tides\",\"Men in Black 3\",\"The Hobbit: The Battle of the Five Armies\",\"The Amazing Spider-Man\",\"Robin Hood\",\"The Hobbit: The Desolation of Smaug\",\"The Golden Compass\",\"King Kong\",\"Titanic\",\"Captain America: Civil War\",\"Battleship\",\"Jurassic World\",\"Skyfall\",\"Spider-Man 2\",\"Iron Man 3\",\"Alice in Wonderland\",\"X-Men: The Last Stand\",\"Monsters University\",\"Transformers: Revenge of the Fallen\",\"Transformers: Age of Extinction\",\"Oz: The Great and Powerful\",\"The Amazing Spider-Man 2\",\"TRON: Legacy\",\"Cars 2\",\"Green Lantern\",\"Toy Story 3\",\"Terminator Salvation\",\"Furious 7\",\"World War Z\",\"X-Men: Days of Future Past\",\"Star Trek Into Darkness\",\"Jack the Giant Slayer\",\"The Great Gatsby\",\"Prince of Persia: The Sands of Time\",\"Pacific Rim\",\"Transformers: Dark of the Moon\",\"Indiana Jones and the Kingdom of the Crystal Skull\",\"The Good Dinosaur\",\"Brave\",\"Star Trek Beyond\",\"WALL\\u00b7E\",\"Rush Hour 3\",\"2012\",\"A Christmas Carol\",\"Jupiter Ascending\",\"The Legend of Tarzan\",\"The Chronicles of Narnia: The Lion, the Witch and the Wardrobe\",\"X-Men: Apocalypse\",\"The Dark Knight\",\"Up\",\"Monsters vs Aliens\",\"Iron Man\",\"Hugo\",\"Wild Wild West\",\"The Mummy: Tomb of the Dragon Emperor\",\"Suicide Squad\",\"Evan Almighty\",\"Edge of Tomorrow\",\"Waterworld\",\"G.I. Joe: The Rise of Cobra\",\"Inside Out\",\"The Jungle Book\",\"Iron Man 2\",\"Snow White and the Huntsman\",\"Maleficent\",\"Dawn of the Planet of the Apes\",\"The Lovers\",\"47 Ronin\",\"Captain America: The Winter Soldier\",\"Shrek Forever After\",\"Tomorrowland\",\"Big Hero 6\",\"Wreck-It Ralph\",\"The Polar Express\",\"Independence Day: Resurgence\",\"How to Train Your Dragon\",\"Terminator 3: Rise of the Machines\",\"Guardians of the Galaxy\",\"Interstellar\",\"Inception\",\"Shin Godzilla\",\"The Hobbit: An Unexpected Journey\",\"The Fast and the Furious\",\"The Curious Case of Benjamin Button\",\"X-Men: First Class\",\"The Hunger Games: Mockingjay - Part 2\",\"The Sorcerer's Apprentice\",\"Poseidon\",\"Alice Through the Looking Glass\",\"Shrek the Third\",\"Warcraft\",\"Terminator Genisys\",\"The Chronicles of Narnia: The Voyage of the Dawn Treader\",\"Pearl Harbor\",\"Transformers\",\"Alexander\",\"Harry Potter and the Order of the Phoenix\",\"Harry Potter and the Goblet of Fire\",\"Hancock\",\"I Am Legend\",\"Charlie and the Chocolate Factory\",\"Ratatouille\",\"Batman Begins\",\"Madagascar: Escape 2 Africa\",\"Night at the Museum: Battle of the Smithsonian\",\"X-Men Origins: Wolverine\",\"The Matrix Revolutions\",\"Frozen\",\"The Matrix Reloaded\",\"Thor: The Dark World\",\"Mad Max: Fury Road\",\"Angels & Demons\",\"Thor\",\"Bolt\",\"G-Force\",\"Wrath of the Titans\",\"Dark Shadows\",\"Mission: Impossible - Rogue Nation\",\"The Wolfman\",\"Bee Movie\",\"Kung Fu Panda 2\",\"The Last Airbender\",\"Mission: Impossible III\",\"White House Down\",\"Mars Needs Moms\",\"Flushed Away\",\"Pan\",\"Mr. Peabody & Sherman\",\"Troy\",\"Madagascar 3: Europe's Most Wanted\",\"Die Another Day\",\"Ghostbusters\",\"Armageddon\",\"Men in Black II\",\"Beowulf\",\"Kung Fu Panda 3\",\"Mission: Impossible - Ghost Protocol\",\"Rise of the Guardians\",\"Fun with Dick and Jane\",\"The Last Samurai\",\"Exodus: Gods and Kings\",\"Star Trek\",\"Spider-Man\",\"How to Train Your Dragon 2\",\"Gods of Egypt\",\"Stealth\",\"Watchmen\",\"Lethal Weapon 4\",\"Hulk\",\"G.I. Joe: Retaliation\",\"Sahara\",\"Final Fantasy: The Spirits Within\",\"Captain America: The First Avenger\",\"The World Is Not Enough\",\"Master and Commander: The Far Side of the World\",\"The Twilight Saga: Breaking Dawn - Part 2\",\"Happy Feet Two\",\"The Incredible Hulk\",\"The BFG\",\"The Revenant\",\"Turbo\",\"Rango\",\"Penguins of Madagascar\",\"The Bourne Ultimatum\",\"Kung Fu Panda\",\"Ant-Man\",\"The Hunger Games: Catching Fire\",\"Home\",\"War of the Worlds\",\"Bad Boys II\",\"Puss in Boots\",\"Salt\",\"Noah\",\"The Adventures of Tintin\",\"Harry Potter and the Prisoner of Azkaban\",\"Australia\",\"After Earth\",\"Dinosaur\",\"Night at the Museum: Secret of the Tomb\",\"Megamind\",\"Harry Potter and the Philosopher's Stone\",\"R.I.P.D.\",\"Pirates of the Caribbean: The Curse of the Black Pearl\",\"The Hunger Games: Mockingjay - Part 1\",\"The Da Vinci Code\",\"Rio 2\",\"X2\",\"Fast Five\",\"Sherlock Holmes: A Game of Shadows\",\"Clash of the Titans\",\"Total Recall\",\"The 13th Warrior\",\"The Bourne Legacy\",\"Batman & Robin\",\"How the Grinch Stole Christmas\",\"The Day After Tomorrow\",\"Mission: Impossible II\",\"The Perfect Storm\",\"Fantastic 4: Rise of the Silver Surfer\",\"Life of Pi\",\"Ghost Rider\",\"Jason Bourne\",\"Charlie's Angels: Full Throttle\",\"Prometheus\",\"Stuart Little 2\",\"Elysium\",\"The Chronicles of Riddick\",\"RoboCop\",\"Speed Racer\",\"How Do You Know\",\"Knight and Day\",\"Oblivion\",\"Star Wars: Episode III - Revenge of the Sith\",\"Star Wars: Episode II - Attack of the Clones\",\"Monsters, Inc.\",\"The Wolverine\",\"Star Wars: Episode I - The Phantom Menace\",\"The Croods\",\"Asterix at the Olympic Games\",\"Windtalkers\",\"The Huntsman: Winter's War\",\"Teenage Mutant Ninja Turtles\",\"Gravity\",\"Dante's Peak\",\"Teenage Mutant Ninja Turtles: Out of the Shadows\",\"Fantastic Four\",\"Night at the Museum\",\"San Andreas\",\"Tomorrow Never Dies\",\"The Patriot\",\"Ocean's Twelve\",\"Mr. & Mrs. Smith\",\"Insurgent\",\"The Aviator\",\"Gulliver's Travels\",\"The Green Hornet\",\"300: Rise of an Empire\",\"The Smurfs\",\"Home on the Range\",\"Allegiant\",\"Real Steel\",\"The Smurfs 2\",\"Speed 2: Cruise Control\",\"Ender's Game\",\"Live Free or Die Hard\",\"The Lord of the Rings: The Fellowship of the Ring\",\"Around the World in 80 Days\",\"Ali\",\"The Cat in the Hat\",\"I, Robot\",\"Kingdom of Heaven\",\"Stuart Little\",\"The Princess and the Frog\",\"The Martian\",\"The Island\",\"Town & Country\",\"Gone in Sixty Seconds\",\"Gladiator\",\"Minority Report\",\"Harry Potter and the Chamber of Secrets\",\"Casino Royale\",\"Planet of the Apes\",\"Terminator 2: Judgment Day\",\"Public Enemies\",\"American Gangster\",\"True Lies\",\"The Taking of Pelham 1 2 3\",\"Little Fockers\",\"The Other Guys\",\"Eraser\",\"Django Unchained\",\"The Hunchback of Notre Dame\",\"The Emperor's New Groove\",\"The Expendables 2\",\"National Treasure\",\"Eragon\",\"Where the Wild Things Are\",\"Epic\",\"The Tourist\",\"End of Days\",\"Blood Diamond\",\"The Wolf of Wall Street\",\"Batman Forever\",\"Starship Troopers\",\"Cloud Atlas\",\"Legend of the Guardians: The Owls of Ga'Hoole\",\"Catwoman\",\"Hercules\",\"Treasure Planet\",\"Land of the Lost\",\"The Expendables 3\",\"Point Break\",\"Son of the Mask\",\"In the Heart of the Sea\",\"The Adventures of Pluto Nash\",\"Green Zone\",\"The Peanuts Movie\",\"The Spanish Prisoner\",\"The Mummy Returns\",\"Gangs of New York\",\"The Flowers of War\",\"Surf's Up\",\"The Stepford Wives\",\"Black Hawk Down\",\"The Campaign\",\"The Fifth Element\",\"Sex and the City 2\",\"The Road to El Dorado\",\"Ice Age: Continental Drift\",\"Cinderella\",\"The Lovely Bones\",\"Finding Nemo\",\"The Lord of the Rings: The Return of the King\",\"The Lord of the Rings: The Two Towers\",\"Seventh Son\",\"Lara Croft: Tomb Raider\",\"Transcendence\",\"Jurassic Park III\",\"Rise of the Planet of the Apes\",\"The Spiderwick Chronicles\",\"A Good Day to Die Hard\",\"The Alamo\",\"The Incredibles\",\"Cutthroat Island\",\"Percy Jackson & the Olympians: The Lightning Thief\",\"Men in Black\",\"Toy Story 2\",\"Unstoppable\",\"Rush Hour 2\",\"What Lies Beneath\",\"Cloudy with a Chance of Meatballs\",\"Ice Age: Dawn of the Dinosaurs\",\"The Secret Life of Walter Mitty\",\"Charlie's Angels\",\"The Departed\",\"Mulan\",\"Tropic Thunder\",\"The Girl with the Dragon Tattoo\",\"Die Hard: With a Vengeance\",\"Sherlock Holmes\",\"Ben-Hur\",\"Atlantis: The Lost Empire\",\"Alvin and the Chipmunks: The Road Chip\",\"Valkyrie\",\"You Don't Mess with the Zohan\",\"Pixels\",\"A.I. Artificial Intelligence\",\"The Haunted Mansion\",\"Contact\",\"Hollow Man\",\"The Interpreter\",\"Percy Jackson: Sea of Monsters\",\"Lara Croft Tomb Raider: The Cradle of Life\",\"Now You See Me 2\",\"The Saint\",\"Spy Game\",\"Mission to Mars\",\"Rio\",\"Bicentennial Man\",\"Volcano\",\"The Devil's Own\",\"K-19: The Widowmaker\",\"Conan the Barbarian\",\"Cinderella Man\",\"The Nutcracker: The Untold Story\",\"Seabiscuit\",\"Twister\",\"Cast Away\",\"Happy Feet\",\"The Bourne Supremacy\",\"Air Force One\",\"Ocean's Eleven\",\"The Three Musketeers\",\"Hotel Transylvania\",\"Enchanted\",\"Safe House\",\"102 Dalmatians\",\"Tower Heist\",\"The Holiday\",\"Enemy of the State\",\"It's Complicated\",\"Ocean's Thirteen\",\"Open Season\",\"Divergent\",\"Enemy at the Gates\",\"The Rundown\",\"Last Action Hero\",\"Memoirs of a Geisha\",\"The Fast and the Furious: Tokyo Drift\",\"Arthur Christmas\",\"Meet Joe Black\",\"Collateral Damage\",\"All That Jazz\",\"Mirror Mirror\",\"Scott Pilgrim vs. the World\",\"The Core\",\"Nutty Professor II: The Klumps\",\"Scooby-Doo\",\"Dredd\",\"Click\",\"Creepshow\",\"Cats & Dogs 2 : The Revenge of Kitty Galore\",\"Jumper\",\"Hellboy II: The Golden Army\",\"Zodiac\",\"The 6th Day\",\"Bruce Almighty\",\"The Expendables\",\"Mission: Impossible\",\"The Hunger Games\",\"The Hangover Part II\",\"Batman Returns\",\"Over the Hedge\",\"Lilo & Stitch\",\"Charlotte's Web\",\"Deep Impact\",\"RED 2\",\"The Longest Yard\",\"Alvin and the Chipmunks: Chipwrecked\",\"Grown Ups 2\",\"Get Smart\",\"Something's Gotta Give\",\"Shutter Island\",\"Four Christmases\",\"Robots\",\"Face\\u002fOff\",\"Bedtime Stories\",\"Road to Perdition\",\"Just Go with It\",\"Con Air\",\"Eagle Eye\",\"Cold Mountain\",\"The Book of Eli\",\"Flubber\",\"The Haunting\",\"Space Jam\",\"The Pink Panther\",\"The Day the Earth Stood Still\",\"Conspiracy Theory\",\"Fury\",\"Six Days Seven Nights\",\"Yogi Bear\",\"Spirit: Stallion of the Cimarron\",\"Zookeeper\",\"Lost in Space\",\"The Manchurian Candidate\",\"D\\u00e9j\\u00e0 Vu\",\"Hotel Transylvania 2\",\"Fantasia 2000\",\"The Time Machine\",\"Mighty Joe Young\",\"Swordfish\",\"The Legend of Zorro\",\"What Dreams May Come\",\"Little Nicky\",\"The Brothers Grimm\",\"Mars Attacks!\",\"Evolution\",\"The Edge\",\"Surrogates\",\"Thirteen Days\",\"Daylight\",\"Walking With Dinosaurs\",\"Battlefield Earth\",\"Looney Tunes: Back in Action\",\"Nine\",\"Timeline\",\"The Postman\",\"Babe: Pig in the City\",\"The Last Witch Hunter\",\"Red Planet\",\"Arthur and the Invisibles\",\"Oceans\",\"A Sound of Thunder\",\"Pompeii\",\"Top Cat Begins\",\"A Beautiful Mind\",\"The Lion King\",\"Journey 2: The Mysterious Island\",\"Cloudy with a Chance of Meatballs 2\",\"Red Dragon\",\"Hidalgo\",\"Jack and Jill\",\"2 Fast 2 Furious\",\"The Little Prince\",\"The Invasion\",\"The Adventures of Rocky & Bullwinkle\",\"The Secret Life of Pets\",\"The League of Extraordinary Gentlemen\",\"Despicable Me 2\",\"Independence Day\",\"The Lost World: Jurassic Park\",\"Madagascar\",\"Children of Men\",\"X-Men\",\"Wanted\",\"The Rock\",\"Ice Age: The Meltdown\",\"50 First Dates\",\"Hairspray\",\"Exorcist: The Beginning\",\"Inspector Gadget\",\"Now You See Me\",\"Grown Ups\",\"The Terminal\",\"Hotel for Dogs\",\"Vertical Limit\",\"Charlie Wilson's War\",\"Shark Tale\",\"Dreamgirls\",\"Be Cool\",\"Munich\",\"Tears of the Sun\",\"Killers\",\"The Man from U.N.C.L.E.\",\"Spanglish\",\"Monster House\",\"Bandits\",\"First Knight\",\"Anna and the King\",\"Immortals\",\"Hostage\",\"Titan A.E.\",\"Hollywood Homicide\",\"Soldier\",\"Carriers\",\"Monkeybone\",\"Flight of the Phoenix\",\"Unbreakable\",\"Minions\",\"Sucker Punch\",\"Snake Eyes\",\"Sphere\",\"The Angry Birds Movie\",\"Fool's Gold\",\"Funny People\",\"The Kingdom\",\"Talladega Nights: The Ballad of Ricky Bobby\",\"Dr. Dolittle 2\",\"Braveheart\",\"Jarhead\",\"The Simpsons Movie\",\"The Majestic\",\"Driven\",\"Two Brothers\",\"The Village\",\"Doctor Dolittle\",\"Signs\",\"Shrek 2\",\"Cars\",\"Runaway Bride\",\"xXx\",\"The SpongeBob Movie: Sponge Out of Water\",\"Ransom\",\"Inglourious Basterds\",\"Hook\",\"Die Hard 2\",\"S.W.A.T.\",\"Vanilla Sky\",\"Lady in the Water\",\"AVP: Alien vs. Predator\",\"Alvin and the Chipmunks: The Squeakquel\",\"We Were Soldiers\",\"Olympus Has Fallen\",\"Star Trek: Insurrection\",\"Battle: Los Angeles\",\"Big Fish\",\"Wolf\",\"War Horse\",\"The Monuments Men\",\"The Abyss\",\"Wall Street: Money Never Sleeps\",\"Dracula Untold\",\"The Siege\",\"Stardust\",\"Seven Years in Tibet\",\"The Dilemma\",\"Bad Company\",\"Doom\",\"I Spy\",\"Underworld: Awakening\",\"Rock of Ages\",\"Hart's War\",\"Killer Elite\",\"Rollerball\",\"Ballistic: Ecks vs. Sever\",\"Hard Rain\",\"Osmosis Jones\",\"Legends of Oz: Dorothy's Return\",\"Blackhat\",\"Sky Captain and the World of Tomorrow\",\"Basic Instinct 2\",\"Escape Plan\",\"The Legend of Hercules\",\"The Sum of All Fears\",\"The Twilight Saga: Eclipse\",\"The Score\",\"Despicable Me\",\"Money Train\",\"Ted 2\",\"Agora\",\"Mystery Men\",\"Hall Pass\",\"The Insider\",\"The Finest Hours\",\"Body of Lies\",\"Dinner for Schmucks\",\"Abraham Lincoln: Vampire Hunter\",\"Entrapment\",\"The X Files\",\"The Last Legion\",\"Saving Private Ryan\",\"Need for Speed\",\"What Women Want\",\"Ice Age\",\"Dreamcatcher\",\"Lincoln\",\"The Matrix\",\"Apollo 13\",\"The Santa Clause 2\",\"Les Mis\\u00e9rables\",\"You've Got Mail\",\"Step Brothers\",\"The Mask of Zorro\",\"Due Date\",\"Unbroken\",\"Space Cowboys\",\"Cliffhanger\",\"Broken Arrow\",\"The Kid\",\"World Trade Center\",\"Mona Lisa Smile\",\"The Dictator\",\"Eyes Wide Shut\",\"Annie\",\"Focus\",\"This Means War\",\"Blade: Trinity\",\"Red Dawn\",\"Primary Colors\",\"Resident Evil: Retribution\",\"Death Race\",\"The Long Kiss Goodnight\",\"Proof of Life\",\"Zathura: A Space Adventure\",\"Fight Club\",\"We Are Marshall\",\"Hudson Hawk\",\"Lucky Numbers\",\"I, Frankenstein\",\"Oliver Twist\",\"Elektra\",\"Sin City: A Dame to Kill For\",\"Random Hearts\",\"Everest\",\"Perfume: The Story of a Murderer\",\"Austin Powers in Goldmember\",\"Astro Boy\",\"Jurassic Park\",\"Wyatt Earp\",\"Clear and Present Danger\",\"Dragon Blade\",\"Little Man\",\"U-571\",\"The American President\",\"The Love Guru\",\"3000 Miles to Graceland\",\"The Hateful Eight\",\"Blades of Glory\",\"Hop\",\"300\",\"Meet the Fockers\",\"Marley & Me\",\"The Green Mile\",\"Wild Hogs\",\"Chicken Little\",\"Gone Girl\",\"The Bourne Identity\",\"GoldenEye\",\"The General's Daughter\",\"The Truman Show\",\"The Prince of Egypt\",\"Daddy Day Care\",\"2 Guns\",\"Cats & Dogs\",\"The Italian Job\",\"Two Weeks Notice\",\"Antz\",\"Couples Retreat\",\"Days of Thunder\",\"Cheaper by the Dozen 2\",\"Maze Runner: The Scorch Trials\",\"Eat Pray Love\",\"The Family Man\",\"RED\",\"Any Given Sunday\",\"The Horse Whisperer\",\"Collateral\",\"The Scorpion King\",\"Ladder 49\",\"Jack Reacher\",\"Deep Blue Sea\",\"This Is It\",\"Contagion\",\"Kangaroo Jack\",\"Coraline\",\"The Happening\",\"Man on Fire\",\"The Shaggy Dog\",\"Starsky & Hutch\",\"Jingle All the Way\",\"Hellboy\",\"A Civil Action\",\"ParaNorman\",\"The Jackal\",\"Paycheck\",\"Up Close & Personal\",\"The Tale of Despereaux\",\"The Tuxedo\",\"Under Siege 2: Dark Territory\",\"Jack Ryan: Shadow Recruit\",\"Joy\",\"London Has Fallen\",\"Alien: Resurrection\",\"Shooter\",\"The Boxtrolls\",\"Practical Magic\",\"The Lego Movie\",\"Miss Congeniality 2: Armed and Fabulous\",\"Reign of Fire\",\"Gangster Squad\",\"Year One\",\"Invictus\",\"State of Play\",\"Duplicity\",\"My Favorite Martian\",\"The Sentinel\",\"Planet 51\",\"Star Trek: Nemesis\",\"Intolerable Cruelty\",\"Trouble with the Curve\",\"Edge of Darkness\",\"The Relic\",\"Analyze That\",\"Righteous Kill\",\"Mercury Rising\",\"The Soloist\",\"The Legend of Bagger Vance\",\"Almost Famous\",\"Garfield: A Tail of Two Kitties\",\"xXx: State of the Union\",\"Priest\",\"Sinbad: Legend of the Seven Seas\",\"Event Horizon\",\"Dragonfly\",\"The Black Dahlia\",\"Flyboys\",\"The Last Castle\",\"Supernova\",\"Winter's Tale\",\"The Mortal Instruments: City of Bones\",\"Meet Dave\",\"Dark Water\",\"Edtv\",\"Inkheart\",\"The Spirit\",\"Mortdecai\",\"In the Name of the King: A Dungeon Siege Tale\",\"Beyond Borders\",\"The Monkey King 2\",\"The Great Raid\",\"Deadpool\",\"Holy Man\",\"American Sniper\",\"Goosebumps\",\"Just Like Heaven\",\"The Flintstones in Viva Rock Vegas\",\"Rambo III\",\"Leatherheads\",\"The Ridiculous 6\",\"Did You Hear About the Morgans?\",\"The Internship\",\"Resident Evil: Afterlife\",\"Red Tails\",\"The Devil's Advocate\",\"That's My Boy\",\"DragonHeart\",\"After the Sunset\",\"Ghost Rider: Spirit of Vengeance\",\"Captain Corelli's Mandolin\",\"The Pacifier\",\"Walking Tall\",\"Forrest Gump\",\"Alvin and the Chipmunks\",\"Meet the Parents\",\"Pocahontas\",\"Superman\",\"The Nutty Professor\",\"Hitch\",\"George of the Jungle\",\"American Wedding\",\"Captain Phillips\",\"Date Night\",\"Casper\",\"The Equalizer\",\"Maid in Manhattan\",\"Crimson Tide\",\"The Pursuit of Happyness\",\"Flightplan\",\"Disclosure\",\"City of Angels\",\"Kill Bill: Vol. 1\",\"Bowfinger\",\"Kill Bill: Vol. 2\",\"Tango & Cash\",\"Death Becomes Her\",\"Shanghai Noon\",\"Executive Decision\",\"Mr. Popper's Penguins\",\"The Forbidden Kingdom\",\"Free Birds\",\"Alien\\u00b3\",\"Evita\",\"Ronin\",\"The Ghost and the Darkness\",\"Paddington\",\"The Watch\",\"The Hunted\",\"Instinct\",\"Stuck on You\",\"Semi-Pro\",\"The Pirates! In an Adventure with Scientists!\",\"Changeling\",\"Chain Reaction\",\"The Fan\",\"The Phantom of the Opera\",\"Elizabeth: The Golden Age\",\"\\u00c6on Flux\",\"Gods and Generals\",\"Turbulence\",\"Imagine That\",\"Muppets Most Wanted\",\"Thunderbirds\",\"Burlesque\",\"A Very Long Engagement\",\"Lolita\",\"D-Tox\",\"Blade II\",\"Seven Pounds\",\"Bullet to the Head\",\"The Godfather: Part III\",\"Elizabethtown\",\"You, Me and Dupree\",\"Superman II\",\"Gigli\",\"All the King's Men\",\"Shaft\",\"Anastasia\",\"Moulin Rouge!\",\"Domestic Disturbance\",\"Black Mass\",\"Flags of Our Fathers\",\"Law Abiding Citizen\",\"Grindhouse\",\"Beloved\",\"Lucky You\",\"Catch Me If You Can\",\"Zero Dark Thirty\",\"The Break-Up\",\"Mamma Mia!\",\"Valentine's Day\",\"The Dukes of Hazzard\",\"The Thin Red Line\",\"The Change-Up\",\"Man on the Moon\",\"Casino\",\"From Paris with Love\",\"Bulletproof Monk\",\"Me, Myself & Irene\",\"Barnyard\",\"Deck the Halls\",\"The Twilight Saga: New Moon\",\"Shrek\",\"The Adjustment Bureau\",\"Robin Hood: Prince of Thieves\",\"Jerry Maguire\",\"Ted\",\"As Good as It Gets\",\"Patch Adams\",\"Anchorman 2: The Legend Continues\",\"Mr. Deeds\",\"Super 8\",\"Erin Brockovich\",\"How to Lose a Guy in 10 Days\",\"22 Jump Street\",\"Interview with the Vampire\",\"Yes Man\",\"Central Intelligence\",\"Stepmom\",\"Daddy's Home\",\"Into the Woods\",\"Inside Man\",\"Payback\",\"Congo\",\"We Bought a Zoo\",\"Knowing\",\"Failure to Launch\",\"The Ring Two\",\"Crazy, Stupid, Love.\",\"Garfield\",\"Christmas with the Kranks\",\"Moneyball\",\"Outbreak\",\"Non-Stop\",\"Race to Witch Mountain\",\"V for Vendetta\",\"Shanghai Knights\",\"Curious George\",\"Herbie Fully Loaded\",\"Don't Say a Word\",\"Hansel & Gretel: Witch Hunters\",\"Unfaithful\",\"I Am Number Four\",\"Syriana\",\"13 Hours: The Secret Soldiers of Benghazi\",\"The Book of Life\",\"Firewall\",\"Absolute Power\",\"G.I. Jane\",\"The Game\",\"Silent Hill\",\"The Replacements\",\"American Reunion\",\"The Negotiator\",\"Into the Storm\",\"Beverly Hills Cop III\",\"Gremlins 2: The New Batch\",\"The Judge\",\"The Peacemaker\",\"Resident Evil: Apocalypse\",\"Bridget Jones: The Edge of Reason\",\"Out of Time\",\"On Deadly Ground\",\"The Adventures of Sharkboy and Lavagirl\",\"The Beach\",\"Raising Helen\",\"Ninja Assassin\",\"For Love of the Game\",\"Striptease\",\"Marmaduke\",\"Hereafter\",\"Murder by Numbers\",\"Assassins\",\"Hannibal Rising\",\"The Story of Us\",\"The Host\",\"Basic\",\"Blood Work\",\"The International\",\"Escape from L.A.\",\"The Iron Giant\",\"The Life Aquatic with Steve Zissou\",\"Free State of Jones\",\"The Life of David Gale\",\"Man of the House\",\"Run All Night\",\"Eastern Promises\",\"Into the Blue\",\"The Messenger: The Story of Joan of Arc\",\"Your Highness\",\"Dream House\",\"Mad City\",\"Baby's Day Out\",\"The Scarlet Letter\",\"Fair Game\",\"Domino\",\"Jade\",\"Gamer\",\"Beautiful Creatures\",\"Death to Smoochy\",\"Zoolander 2\",\"The Big Bounce\",\"What Planet Are You From?\",\"Drive Angry\",\"Street Fighter: The Legend of Chun-Li\",\"The One\",\"The Adventures of Ford Fairlane\",\"The Boat That Rocked\",\"Traffic\",\"Indiana Jones and the Last Crusade\",\"Anna Karenina\",\"Chappie\",\"The Bone Collector\",\"Panic Room\",\"The Tooth Fairy\",\"Three Kings\",\"Child 44\",\"Rat Race\",\"K-PAX\",\"Kate & Leopold\",\"Bedazzled\",\"The Cotton Club\",\"3:10 to Yuma\",\"Taken 3\",\"Out of Sight\",\"The Cable Guy\",\"Earth\",\"Dick Tracy\",\"The Thomas Crown Affair\",\"Riding in Cars with Boys\",\"First Blood\",\"Solaris\",\"Happily N'Ever After\",\"Mary Reilly\",\"My Best Friend's Wedding\",\"America's Sweethearts\",\"Insomnia\",\"Star Trek: First Contact\",\"Jonah Hex\",\"Courage Under Fire\",\"Liar Liar\",\"The Infiltrator\",\"Inchon\",\"The Flintstones\",\"Taken 2\",\"Scary Movie 3\",\"Miss Congeniality\",\"Journey to the Center of the Earth\",\"The Princess Diaries 2: Royal Engagement\",\"The Pelican Brief\",\"The Client\",\"The Bucket List\",\"Patriot Games\",\"Monster-in-Law\",\"Prisoners\",\"Training Day\",\"Galaxy Quest\",\"Scary Movie 2\",\"The Muppets\",\"Blade\",\"Coach Carter\",\"Changing Lanes\",\"Anaconda\",\"Coyote Ugly\",\"Love Actually\",\"A Bug's Life\",\"From Hell\",\"The Specialist\",\"Tin Cup\",\"Yours, Mine and Ours\",\"Kicking & Screaming\",\"The Hitchhiker's Guide to the Galaxy\",\"Fat Albert\",\"Resident Evil: Extinction\",\"Blended\",\"Last Holiday\",\"The River Wild\",\"The Indian in the Cupboard\",\"Savages\",\"Cellular\",\"Johnny English\",\"The Ant Bully\",\"Dune\",\"Across the Universe\",\"Revolutionary Road\",\"16 Blocks\",\"Babylon A.D.\",\"The Glimmer Man\",\"Multiplicity\",\"Aliens in the Attic\",\"The Pledge\",\"The Producers\",\"The Phantom\",\"All the Pretty Horses\",\"Nixon\",\"The Ghost Writer\",\"Deep Rising\",\"Miracle at St. Anna\",\"Curse of the Golden Flower\",\"Bangkok Dangerous\",\"Big Trouble\",\"Love in the Time of Cholera\",\"Shadow Conspiracy\",\"Johnny English Reborn\",\"Foodfight!\",\"Argo\",\"The Fugitive\",\"The Bounty Hunter\",\"Sleepers\",\"Rambo: First Blood Part II\",\"The Juror\",\"Pinocchio\",\"Heaven's Gate\",\"Underworld: Evolution\",\"Victor Frankenstein\",\"Finding Forrester\",\"28 Days\",\"Unleashed\",\"The Sweetest Thing\",\"The Firm\",\"Charlie St. Cloud\",\"The Mechanic\",\"21 Jump Street\",\"Notting Hill\",\"Chicken Run\",\"Along Came Polly\",\"Boomerang\",\"The Heat\",\"Cleopatra\",\"Here Comes the Boom\",\"High Crimes\",\"The Mirror Has Two Faces\",\"The Mothman Prophecies\",\"Br\\u00fcno\",\"Licence to Kill\",\"Red Riding Hood\",\"15 Minutes\",\"Super Mario Bros.\",\"Lord of War\",\"Hero\",\"One for the Money\",\"The Interview\",\"The Warrior's Way\",\"Micmacs\",\"8 Mile\",\"Why I Did (Not) Eat My Father\",\"A Knight's Tale\",\"The Medallion\",\"The Sixth Sense\",\"Man on a Ledge\",\"The Big Year\",\"The Karate Kid\",\"American Hustle\",\"The Proposal\",\"Double Jeopardy\",\"Back to the Future Part II\",\"Lucy\",\"Fifty Shades of Grey\",\"Spy Kids 3-D: Game Over\",\"A Time to Kill\",\"Cheaper by the Dozen\",\"Lone Survivor\",\"A League of Their Own\",\"The Conjuring 2\",\"The Social Network\",\"He's Just Not That Into You\",\"Scary Movie 4\",\"Scream 3\",\"Back to the Future Part III\",\"Get Hard\",\"Dracula\",\"Julie & Julia\",\"42\",\"The Talented Mr. Ripley\",\"Dumb and Dumber To\",\"Eight Below\",\"The Intern\",\"Ride Along 2\",\"The Last of the Mohicans\",\"Ray\",\"Sin City\",\"Vantage Point\",\"I Love You, Man\",\"Shallow Hal\",\"JFK\",\"Big Momma's House 2\",\"The Mexican\",\"17 Again\",\"The Other Woman\",\"The Final Destination\",\"Bridge of Spies\",\"Behind Enemy Lines\",\"Get Him to the Greek\",\"Shall We Dance?\",\"Small Soldiers\",\"Spawn\",\"The Count of Monte Cristo\",\"The Lincoln Lawyer\",\"Unknown\",\"The Prestige\",\"Horrible Bosses 2\",\"Escape from Planet Earth\",\"Apocalypto\",\"The Living Daylights\",\"Predators\",\"Legal Eagles\",\"Secret Window\",\"The Lake House\",\"The Skeleton Key\",\"The Odd Life of Timothy Green\",\"Made of Honor\",\"Jersey Boys\",\"The Rainmaker\",\"Gothika\",\"Amistad\",\"Medicine Man\",\"Aliens vs Predator: Requiem\",\"Ri\\u00a2hie Ri\\u00a2h\",\"Autumn in New York\",\"Music and Lyrics\",\"Paul\",\"The Guilt Trip\",\"Scream 4\",\"8MM\",\"The Doors\",\"Sex Tape\",\"Hanging Up\",\"Final Destination 5\",\"Mickey Blue Eyes\",\"Pay It Forward\",\"Fever Pitch\",\"Drillbit Taylor\",\"A Million Ways to Die in the West\",\"The Shadow\",\"Extremely Loud & Incredibly Close\",\"Morning Glory\",\"Get Rich or Die Tryin'\",\"The Art of War\",\"Rent\",\"Bless the Child\",\"The Out-of-Towners\",\"The Island of Dr. Moreau\",\"The Musketeer\",\"The Other Boleyn Girl\",\"Sweet November\",\"The Reaping\",\"Mean Streets\",\"Renaissance Man\",\"Colombiana\",\"Quest for Camelot\",\"City By The Sea\",\"At First Sight\",\"Torque\",\"City Hall\",\"Showgirls\",\"Marie Antoinette\",\"Kiss of Death\",\"Get Carter\",\"The Impossible\",\"Ishtar\",\"Fantastic Mr. Fox\",\"Life or Something Like It\",\"Memoirs of an Invisible Man\",\"Am\\u00e9lie\",\"New York Minute\",\"Alfie\",\"Big Miracle\",\"The Deep End of the Ocean\",\"FearDotCom\",\"Cirque du Freak: The Vampire's Assistant\",\"Duplex\",\"Soul Men\",\"Raise the Titanic\",\"Universal Soldier: The Return\",\"Pandorum\",\"Impostor\",\"Extreme Ops\",\"Just Visiting\",\"Sunshine\",\"A Thousand Words\",\"Delgo\",\"The Gunman\",\"Stormbreaker\",\"Disturbia\",\"Hackers\",\"The Hunting Party\",\"The Hudsucker Proxy\",\"The Warlords\",\"Nomad: The Warrior\",\"Snowpiercer\",\"A Monster in Paris\",\"The Last Shot\",\"The Crow\",\"Baahubali: The Beginning\",\"The Time Traveler's Wife\",\"Because I Said So\",\"Frankenweenie\",\"Serenity\",\"Against the Ropes\",\"Superman III\",\"Grudge Match\",\"Red Cliff\",\"Sweet Home Alabama\",\"The Ugly Truth\",\"Sgt. Bilko\",\"Spy Kids 2: The Island of Lost Dreams\",\"Star Trek: Generations\",\"The Grandmaster\",\"Water for Elephants\",\"Dragon Nest: Warriors' Dawn\",\"The Hurricane\",\"Enough\",\"Heartbreakers\",\"Paul Blart: Mall Cop 2\",\"Angel Eyes\",\"Joe Somebody\",\"The Ninth Gate\",\"Extreme Measures\",\"Rock Star\",\"Precious\",\"White Squall\",\"The Thing\",\"Riddick\",\"Switchback\",\"Texas Rangers\",\"City of Ember\",\"The Master\",\"Virgin Territory\",\"The Express\",\"The 5th Wave\",\"Creed\",\"The Town\",\"What to Expect When You're Expecting\",\"Burn After Reading\",\"Nim's Island\",\"Rush\",\"Magnolia\",\"Cop Out\",\"How to Be Single\",\"Dolphin Tale\",\"Twilight\",\"John Q\",\"Blue Streak\",\"We're the Millers\",\"The Inhabited Island\",\"Breakdown\",\"Never Say Never Again\",\"Hot Tub Time Machine\",\"Dolphin Tale 2\",\"Reindeer Games\",\"A Man Apart\",\"Aloha\",\"Ghosts of Mississippi\",\"Snow Falling on Cedars\",\"The Rite\",\"Gattaca\",\"Isn't She Great\",\"Space Chimps\",\"Head of State\",\"The Hangover\",\"Ip Man 3\",\"Austin Powers: The Spy Who Shagged Me\",\"Batman\",\"There Be Dragons\",\"Lethal Weapon 3\",\"The Blind Side\",\"Spy Kids\",\"Horrible Bosses\",\"True Grit\",\"The Devil Wears Prada\",\"Star Trek: The Motion Picture\",\"Identity Thief\",\"Cape Fear\",\"21\",\"Trainwreck\",\"Guess Who\",\"The English Patient\",\"L.A. Confidential\",\"Sky High\",\"In & Out\",\"Species\",\"A Nightmare on Elm Street\",\"The Cell\",\"The Man in the Iron Mask\",\"Secretariat\",\"TMNT\",\"Radio\",\"Friends with Benefits\",\"Neighbors 2: Sorority Rising\",\"Saving Mr. Banks\",\"Malcolm X\",\"This Is 40\",\"Old Dogs\",\"Underworld: Rise of the Lycans\",\"License to Wed\",\"The Benchwarmers\",\"Must Love Dogs\",\"Donnie Brasco\",\"Resident Evil\",\"Poltergeist\",\"The Ladykillers\",\"Max Payne\",\"In Time\",\"The Back-Up Plan\",\"Something Borrowed\",\"Black Knight\",\"The Bad News Bears\",\"Street Fighter\",\"The Pianist\",\"The Nativity Story\",\"House of Wax\",\"Closer\",\"J. Edgar\",\"Mirrors\",\"Queen of the Damned\",\"Predator 2\",\"Untraceable\",\"Blast from the Past\",\"Flash Gordon\",\"Jersey Girl\",\"Alex Cross\",\"Midnight in the Garden of Good and Evil\",\"Heist\",\"Nanny McPhee and the Big Bang\",\"Hoffa\",\"The X Files: I Want to Believe\",\"Ella Enchanted\",\"Concussion\",\"Abduction\",\"Valiant\",\"Wonder Boys\",\"Superhero Movie\",\"Broken City\",\"Cursed\",\"Premium Rush\",\"Hot Pursuit\",\"The Four Feathers\",\"Parker\",\"Wimbledon\",\"Furry Vengeance\",\"Bait\",\"Krull\",\"Lions for Lambs\",\"Flight of the Intruder\",\"Walk Hard: The Dewey Cox Story\",\"The Shipping News\",\"American Outlaws\",\"The Young Victoria\",\"Whiteout\",\"The Tree of Life\",\"Knock Off\",\"Sabotage\",\"The Order\",\"Punisher: War Zone\",\"Zoom\",\"The Walk\",\"Warriors of Virtue\",\"A Good Year\",\"Radio Flyer\",\"Bound by Honor\",\"Smilla's Sense of Snow\",\"Femme Fatale\",\"Lion of the Desert\",\"The Horseman on the Roof\",\"Ride with the Devil\",\"Biutiful\",\"Bandidas\",\"Black Water Transit\",\"The Maze Runner\",\"Unfinished Business\",\"The Age of Innocence\",\"The Fountain\",\"Chill Factor\",\"Stolen\",\"Ponyo\",\"The Longest Ride\",\"The Astronaut's Wife\",\"I Dreamed of Africa\",\"Playing for Keeps\",\"Mandela: Long Walk to Freedom\",\"Reds\",\"A Few Good Men\",\"Exit Wounds\",\"Big Momma's House\",\"Thunder and the House of Magic\",\"The Darkest Hour\",\"Step Up Revolution\",\"Snakes on a Plane\",\"The Watcher\",\"The Punisher\",\"Goal!: The Dream Begins\",\"Safe\",\"Pushing Tin\",\"Return of the Jedi\",\"Doomsday\",\"The Reader\",\"Wanderlust\",\"Elf\",\"Phenomenon\",\"Snow Dogs\",\"Scrooged\",\"Nacho Libre\",\"Bridesmaids\",\"This Is the End\",\"Stigmata\",\"Men of Honor\",\"Takers\",\"The Big Wedding\",\"Big Mommas: Like Father, Like Son\",\"Source Code\",\"Alive\",\"The Number 23\",\"The Young and Prodigious T.S. Spivet\",\"1941\",\"Dreamer: Inspired By a True Story\",\"A History of Violence\",\"Transporter 2\",\"The Quick and the Dead\",\"Laws of Attraction\",\"Bringing Out the Dead\",\"Repo Men\",\"Dragon Wars: D-War\",\"Bogus\",\"The Incredible Burt Wonderstone\",\"Cats Don't Dance\",\"Cradle Will Rock\",\"The Good German\",\"George and the Dragon\",\"Apocalypse Now\",\"Going the Distance\",\"Mr. Holland's Opus\",\"Criminal\",\"Out of Africa\",\"Flight\",\"Moonraker\",\"The Grand Budapest Hotel\",\"Hearts in Atlantis\",\"Arachnophobia\",\"Frequency\",\"Vacation\",\"Get Shorty\",\"Chicago\",\"Big Daddy\",\"American Pie 2\",\"Toy Story\",\"Speed\",\"The Vow\",\"Extraordinary Measures\",\"Remember the Titans\",\"The Hunt for Red October\",\"The Butler\",\"DodgeBall: A True Underdog Story\",\"The Addams Family\",\"Ace Ventura: When Nature Calls\",\"The Princess Diaries\",\"The First Wives Club\",\"Se7en\",\"District 9\",\"The SpongeBob SquarePants Movie\",\"Mystic River\",\"Million Dollar Baby\",\"Analyze This\",\"The Notebook\",\"27 Dresses\",\"Hannah Montana: The Movie\",\"Rugrats in Paris: The Movie\",\"The Prince of Tides\",\"Legends of the Fall\",\"Up in the Air\",\"About Schmidt\",\"Warm Bodies\",\"Looper\",\"Down to Earth\",\"Babe\",\"Hope Springs\",\"Forgetting Sarah Marshall\",\"Four Brothers\",\"Baby Mama\",\"Hope Floats\",\"Bride Wars\",\"Without a Paddle\",\"13 Going on 30\",\"Midnight in Paris\",\"The Nut Job\",\"Blow\",\"Message in a Bottle\",\"Star Trek V: The Final Frontier\",\"Like Mike\",\"The Naked Gun 33\\u2153: The Final Insult\",\"A View to a Kill\",\"The Curse of the Were-Rabbit\",\"P.S. I Love You\",\"Racing Stripes\",\"Atonement\",\"Letters to Juliet\",\"Black Rain\",\"The Three Stooges\",\"Corpse Bride\",\"Glory Road\",\"Sicario\",\"Southpaw\",\"Drag Me to Hell\",\"The Age of Adaline\",\"Secondhand Lions\",\"Step Up 3D\",\"Blue Crush\",\"Stranger Than Fiction\",\"30 Days of Night\",\"The Cabin in the Woods\",\"Meet the Spartans\",\"Midnight Run\",\"The Running Man\",\"Little Shop of Horrors\",\"Hanna\",\"Mortal Kombat: Annihilation\",\"Larry Crowne\",\"Carrie\",\"Take the Lead\",\"Gridiron Gang\",\"What's the Worst That Could Happen?\",\"9\",\"Side Effects\",\"The Prince & Me\",\"Winnie the Pooh\",\"Dumb and Dumberer: When Harry Met Lloyd\",\"Bulworth\",\"Get on Up\",\"One True Thing\",\"Virtuosity\",\"My Super Ex-Girlfriend\",\"Deliver Us from Evil\",\"Sanctum\",\"Little Black Book\",\"The Five-Year Engagement\",\"Mr. 3000\",\"The Next Three Days\",\"Ultraviolet\",\"Assault on Precinct 13\",\"The Replacement Killers\",\"Fled\",\"Eight Legged Freaks\",\"Love & Other Drugs\",\"88 Minutes\",\"North Country\",\"The Whole Ten Yards\",\"Splice\",\"Howard the Duck\",\"Pride and Glory\",\"The Cave\",\"Alex & Emma\",\"Wicker Park\",\"Fright Night\",\"The New World\",\"Wing Commander\",\"In Dreams\",\"Dragonball Evolution\",\"The Last Stand\",\"Godsend\",\"Chasing Liberty\",\"Hoodwinked Too! Hood VS. Evil\",\"An Unfinished Life\",\"The Imaginarium of Doctor Parnassus\",\"Barney's Version\",\"Runner Runner\",\"Antitrust\",\"Glory\",\"Once Upon a Time in America\",\"Dead Man Down\",\"The Merchant of Venice\",\"The Good Thief\",\"Supercross\",\"Miss Potter\",\"The Promise\",\"DOA: Dead or Alive\",\"The Assassination of Jesse James by the Coward Robert Ford\",\"1911\",\"Little Nicholas\",\"Wild Card\",\"Machine Gun Preacher\",\"Animals United\",\"Goodbye Bafana\",\"United Passions\",\"Grace of Monaco\",\"Savva. Heart of the Warrior\",\"Ripley's Game\",\"Sausage Party\",\"Pitch Perfect 2\",\"Walk the Line\",\"Keeping the Faith\",\"The Borrowers\",\"Frost\\u002fNixon\",\"Confessions of a Dangerous Mind\",\"Serving Sara\",\"The Boss\",\"Cry Freedom\",\"Mumford\",\"Seed of Chucky\",\"The Jacket\",\"Aladdin\",\"Straight Outta Compton\",\"Indiana Jones and the Temple of Doom\",\"The Rugrats Movie\",\"Along Came a Spider\",\"Florence Foster Jenkins\",\"Once Upon a Time in Mexico\",\"Die Hard\",\"Role Models\",\"The Big Short\",\"Taking Woodstock\",\"Miracle\",\"Dawn of the Dead\",\"The Wedding Planner\",\"Space Pirate Captain Harlock\",\"The Royal Tenenbaums\",\"Identity\",\"Last Vegas\",\"For Your Eyes Only\",\"Serendipity\",\"Timecop\",\"Zoolander\",\"Safe Haven\",\"Hocus Pocus\",\"No Reservations\",\"Kick-Ass\",\"30 Minutes or Less\",\"Dracula 2000\",\"Alexander and the Terrible, Horrible, No Good, Very Bad Day\",\"Pride & Prejudice\",\"Blade Runner\",\"Rob Roy\",\"3 Days to Kill\",\"We Own the Night\",\"Lost Souls\",\"Winged Migration\",\"Just My Luck\",\"Mystery, Alaska\",\"The Spy Next Door\",\"A Simple Wish\",\"Ghosts of Mars\",\"Our Brand Is Crisis\",\"Pride and Prejudice and Zombies\",\"Kundun\",\"How to Lose Friends & Alienate People\",\"Kick-Ass 2\",\"Alatriste\",\"Brick Mansions\",\"Octopussy\",\"Knocked Up\",\"My Sister's Keeper\",\"Welcome Home Roscoe Jenkins\",\"A Passage to India\",\"Notes on a Scandal\",\"Rendition\",\"Star Trek VI: The Undiscovered Country\",\"Divine Secrets of the Ya-Ya Sisterhood\",\"Kiss the Girls\",\"The Blues Brothers\",\"The Sisterhood of the Traveling Pants 2\",\"Joyful Noise\",\"About a Boy\",\"Lake Placid\",\"Lucky Number Slevin\",\"The Right Stuff\",\"Anonymous\",\"The NeverEnding Story\",\"Dark City\",\"The Duchess\",\"Return to Oz\",\"The Newton Boys\",\"Case 39\",\"Suspect Zero\",\"Martian Child\",\"Spy Kids: All the Time in the World\",\"Money Monster\",\"The 51st State\",\"Flawless\",\"Mindhunters\",\"What Just Happened\",\"The Statement\",\"The Magic Flute\",\"Paul Blart: Mall Cop\",\"Freaky Friday\",\"The 40 Year Old Virgin\",\"Shakespeare in Love\",\"A Walk Among the Tombstones\",\"Kindergarten Cop\",\"Pineapple Express\",\"Ever After: A Cinderella Story\",\"Open Range\",\"Flatliners\",\"A Bridge Too Far\",\"Red Eye\",\"Final Destination 2\",\"O Brother, Where Art Thou?\",\"Legion\",\"Pain & Gain\",\"In Good Company\",\"Clockstoppers\",\"Silverado\",\"Brothers\",\"Agent Cody Banks 2: Destination London\",\"New Year's Eve\",\"Original Sin\",\"The Raven\",\"Welcome to Mooseport\",\"Highlander: The Final Dimension\",\"Blood and Wine\",\"Snow White: A Tale of Terror\",\"The Curse of the Jade Scorpion\",\"Accidental Love\",\"Flipper\",\"Self\\u002fless\",\"The Constant Gardener\",\"The Passion of the Christ\",\"Mrs. Doubtfire\",\"Rain Man\",\"Gran Torino\",\"W.\",\"Taken\",\"The Best of Me\",\"The Bodyguard\",\"Schindler's List\",\"The Help\",\"The Fifth Estate\",\"Scooby-Doo 2: Monsters Unleashed\",\"Forbidden Kingdom\",\"Freddy vs. Jason\",\"The Face of an Angel\",\"Jimmy Neutron: Boy Genius\",\"Cloverfield\",\"Teenage Mutant Ninja Turtles II: The Secret of the Ooze\",\"The Untouchables\",\"No Country for Old Men\",\"Ride Along\",\"Bridget Jones's Diary\",\"Chocolat\",\"Legally Blonde 2: Red, White & Blonde\",\"Parental Guidance\",\"No Strings Attached\",\"Tombstone\",\"Romeo Must Die\",\"The Omen\",\"Final Destination 3\",\"The Lucky One\",\"Bridge to Terabithia\",\"Finding Neverland\",\"A Madea Christmas\",\"The Grey\",\"Hide and Seek\",\"Anchorman: The Legend of Ron Burgundy\",\"GoodFellas\",\"Agent Cody Banks\",\"Nanny McPhee\",\"Scarface\",\"Nothing to Lose\",\"The Last Emperor\",\"Contraband\",\"Money Talks\",\"There Will Be Blood\",\"The Wild Thornberrys Movie\",\"Rugrats Go Wild\",\"Undercover Brother\",\"The Sisterhood of the Traveling Pants\",\"Kiss of the Dragon\",\"The House Bunny\",\"Beauty Shop\",\"Million Dollar Arm\",\"The Giver\",\"What a Girl Wants\",\"Jeepers Creepers 2\",\"Good Luck Chuck\",\"Cradle 2 the Grave\",\"The Hours\",\"She's the Man\",\"Mr. Bean's Holiday\",\"Anacondas: The Hunt for the Blood Orchid\",\"Blood Ties\",\"August Rush\",\"Elizabeth\",\"Bride of Chucky\",\"Tora! Tora! Tora!\",\"Spice World\",\"The Sitter\",\"Dance Flick\",\"The Shawshank Redemption\",\"Crocodile Dundee in Los Angeles\",\"Kingpin\",\"The Gambler\",\"August: Osage County\",\"Ice Princess\",\"A Lot Like Love\",\"Eddie the Eagle\",\"He Got Game\",\"Don Juan DeMarco\",\"Dear John\",\"The Losers\",\"Don't Be Afraid of the Dark\",\"War\",\"Punch-Drunk Love\",\"EuroTrip\",\"Half Past Dead\",\"Unaccompanied Minors\",\"Bright Lights, Big City\",\"The Adventures of Pinocchio\",\"The Greatest Game Ever Played\",\"The Box\",\"The Ruins\",\"The Next Best Thing\",\"My Soul to Take\",\"The Girl Next Door\",\"Maximum Risk\",\"Stealing Harvard\",\"Legend\",\"Hot Rod\",\"Shark Night\",\"Angela's Ashes\",\"Draft Day\",\"Lifeforce\",\"The Conspirator\",\"Lords of Dogtown\",\"The 33\",\"Big Trouble in Little China\",\"Fly Me to the Moon\",\"Warrior\",\"Michael Collins\",\"Gettysburg\",\"Stop-Loss\",\"Abandon\",\"Brokedown Palace\",\"The Possession\",\"Mrs. Winterbourne\",\"Straw Dogs\",\"The Hoax\",\"Stone Cold\",\"The Road\",\"Sheena\",\"Underclassman\",\"Say It Isn't So\",\"The World's Fastest Indian\",\"Tank Girl\",\"King's Ransom\",\"Blindness\",\"BloodRayne\",\"Carnage\",\"Where the Truth Lies\",\"Cirque du Soleil: Worlds Away\",\"Without Limits\",\"Me and Orson Welles\",\"The Best Offer\",\"The Bad Lieutenant: Port of Call - New Orleans\",\"A Turtle's Tale: Sammy's Adventures\",\"Little White Lies\",\"Love Ranch\",\"The True Story of Puss 'n Boots\",\"Space Dogs\",\"The Counselor\",\"Ironclad\",\"Waterloo\",\"Kung Fu Jungle\",\"Red Sky\",\"Dangerous Liaisons\",\"On the Road\",\"Star Trek IV: The Voyage Home\",\"Rocky Balboa\",\"Scream 2\",\"Jane Got a Gun\",\"Think Like a Man Too\",\"The Whole Nine Yards\",\"Footloose\",\"Old School\",\"The Fisher King\",\"I Still Know What You Did Last Summer\",\"Return to Me\",\"Zack and Miri Make a Porno\",\"Nurse Betty\",\"The Men Who Stare at Goats\",\"Double Take\",\"Girl, Interrupted\",\"Win a Date with Tad Hamilton!\",\"Muppets from Space\",\"The Wiz\",\"Ready to Rumble\",\"Play It to the Bone\",\"I Don't Know How She Does It\",\"Piranha 3D\",\"Beyond the Sea\",\"Meet the Deedles\",\"The Thief and the Cobbler\",\"The Bridge of San Luis Rey\",\"Faster\",\"Howl's Moving Castle\",\"Zombieland\",\"The Waterboy\",\"The Empire Strikes Back\",\"Bad Boys\",\"The Naked Gun 2\\u00bd: The Smell of Fear\",\"Final Destination\",\"The Ides of March\",\"Pitch Black\",\"Someone Like You...\",\"Her\",\"Joy Ride\",\"The Adventurer: The Curse of the Midas Box\"],\"mode\":\"markers\",\"x\":[2009,2007,2015,2012,2012,2007,2010,2015,2009,2016,2006,2008,2006,2013,2013,2008,2012,2011,2012,2014,2012,2010,2013,2007,2005,1997,2016,2012,2015,2012,2004,2013,2010,2006,2013,2009,2014,2013,2014,2010,2011,2011,2010,2009,2015,2013,2014,2013,2013,2013,2010,2013,2011,2008,2015,2012,2016,2008,2007,2009,2009,2015,2016,2005,2016,2008,2009,2009,2008,2011,1999,2008,2016,2007,2014,1995,2009,2015,2016,2010,2012,2014,2014,2015,2013,2014,2010,2015,2014,2012,2004,2016,2010,2003,2014,2014,2010,2016,2012,2001,2008,2011,2015,2010,2006,2016,2007,2016,2015,2010,2001,2007,2004,2007,2005,2008,2007,2005,2007,2005,2008,2009,2009,2003,2013,2003,2013,2015,2009,2011,2008,2009,2012,2012,2015,2010,2007,2011,2010,2006,2013,2011,2006,2015,2014,2004,2012,2002,2016,1998,2002,2007,2016,2011,2012,2005,2003,2014,2009,2002,2014,2016,2005,2009,1998,2003,2013,2005,2001,2011,1999,2003,2012,2011,2008,2016,2015,2013,2011,2014,2007,2008,2015,2013,2015,2005,2003,2011,2010,2014,2011,2004,2008,2013,2000,2014,2010,2001,2013,2003,2014,2006,2014,2003,2011,2011,2010,1990,1999,2012,1997,2000,2004,2000,2000,2007,2012,2007,2016,2003,2012,2002,2013,2004,2014,2008,2010,2010,2013,2005,2002,2001,2013,1999,2013,2008,2002,2016,2014,2013,1997,2016,2015,2006,2015,1997,2000,2004,2005,2015,2004,2010,2011,2014,2011,2004,2016,2011,2013,1997,2013,2007,2001,2004,2001,2003,2004,2005,1999,2009,2015,2005,2001,2000,2000,2002,2002,2006,2001,1991,2009,2007,1994,2009,2010,2010,1996,2012,1996,2000,2012,2004,2006,2009,2013,2010,1999,2006,2013,1995,1997,2012,2010,2004,2014,2002,2009,2014,2015,2005,2015,2002,2010,2015,1997,2001,2002,2011,2007,2004,2001,2012,1997,2010,2000,2012,2015,2009,2003,2003,2002,2014,2001,2014,2001,2011,2008,2013,2004,2004,1995,2010,1997,1999,2010,2001,2000,2009,2009,2013,2000,2006,1998,2008,2011,1995,2009,2016,2001,2015,2008,2008,2015,2001,2003,1997,2000,2005,2013,2003,2016,1997,2001,2000,2011,1999,1997,1997,2002,1982,2005,2010,2003,1996,2000,2006,2004,1997,2001,2011,2012,2007,2012,2000,2011,2006,1998,2009,2007,2006,2014,2001,2003,1993,2005,2006,2011,1998,2002,1979,2012,2010,2003,2000,2002,2012,2006,1982,2010,2008,2008,2007,2000,2003,2010,1996,2012,2011,1992,2006,2002,2006,1998,2013,2005,2011,2013,2008,2003,2010,2008,2005,1997,2008,2002,2011,1997,2008,2003,2010,1997,1999,1996,2006,2008,1997,2014,1998,2010,2002,2011,1998,2004,1998,2015,1999,2002,1998,2001,2005,1998,2000,2005,1996,2015,1997,2009,2000,1996,2013,2000,2003,2009,2003,1997,1998,2015,2000,2006,2009,2005,2014,2015,2001,1994,2012,2013,2002,2004,2011,2003,2015,2007,2000,2016,2003,2013,1996,1997,2005,2006,2000,2008,1996,2006,2004,2007,2004,1999,2013,2010,2004,2009,2000,2007,2004,2006,2005,2005,2003,2010,2015,2004,2006,2001,1995,1999,2011,2005,2000,2003,1998,2009,2001,2004,2000,2015,2011,1998,1998,2016,2008,2009,2007,2006,2001,1995,2005,2007,2001,2001,2004,2004,1998,2002,2004,2006,1999,2002,2015,1996,2009,1991,1990,2003,2001,2006,2004,2009,2002,2013,1998,2011,2003,1994,2011,2014,1989,2010,2014,1998,2007,1997,2011,2002,2005,2002,2012,2012,2002,2011,2002,2002,1998,2001,2013,2015,2004,2006,2013,2014,2002,2010,2001,2010,1995,2015,2009,1999,2011,1999,2016,2008,2010,2012,1999,1998,2007,1998,2014,2000,2002,2003,2012,1999,1995,2002,2012,1998,2008,1998,2010,2014,2000,1993,1996,2000,2006,2003,2012,1999,2014,2015,2012,2004,1984,1998,2012,2008,1996,2000,2005,1999,2006,1991,2000,2014,2005,2005,2014,1999,2015,2006,2002,2009,1993,1994,1994,2015,2006,2000,1995,2008,2001,2015,2007,2011,2006,2004,2008,1999,2007,2005,2014,2002,1995,1999,1998,1998,2003,2013,2001,2003,2002,1998,2009,1990,2005,2015,2010,2000,2010,1999,1998,2004,2002,2004,2012,1999,2009,2011,2003,2009,2008,2004,2006,2004,1996,2004,1998,2012,1997,2003,1996,2008,2002,1995,2014,2015,2016,1997,2007,2014,1998,2014,2005,2002,2013,2009,2009,2009,2009,1999,2006,2009,2002,2003,2012,2010,1997,2002,2008,1998,2009,2000,2000,2006,2005,2011,2003,1997,2002,2006,2006,2001,2000,2014,2013,2008,2005,1999,2008,2008,2015,2007,2003,2016,2005,2016,1998,2014,2015,2005,2000,1988,2008,2015,2009,2013,2010,2012,1997,2012,1996,2004,2011,2001,2005,2004,1994,2007,2000,1995,1978,1996,2005,1997,2003,2013,2010,1995,2014,2002,1995,2006,2005,1994,1998,2003,1999,2004,1989,1992,2000,1996,2011,2008,2013,1992,1996,1998,1996,2014,2012,2003,1999,2003,2008,2012,2008,1996,1996,2004,2007,2005,2003,1997,2009,2014,2004,2010,2004,1962,2002,2002,2008,2013,1990,2005,2006,1980,2003,2006,2000,1997,2001,2001,2015,2006,2009,2007,1998,2007,2002,2012,2006,2008,2010,2005,1998,2011,1999,1995,2010,2003,2000,2006,2006,2009,2001,2011,1991,1996,2012,1997,1998,2013,2002,2011,2000,2003,2014,1994,2008,2016,1998,2015,2014,2006,1999,1995,2011,2009,2006,2005,2011,2004,2004,2011,1995,2014,2009,2006,2003,2006,2005,2001,2013,2002,2011,2005,2016,2014,2006,1997,1997,1997,2006,2000,2012,1998,2014,1994,1990,2014,1997,2004,2004,2003,1994,2005,2000,2004,2009,1999,1996,2010,2010,2002,1995,2007,1999,2013,2003,2002,2009,1996,1999,2004,2016,2003,2005,2015,2007,2005,1999,2011,2011,1997,1994,1995,2010,2005,1995,2009,2013,2002,2016,2004,2000,2011,2009,2001,1990,2009,2000,1989,2012,2015,1999,2002,2006,1999,2015,2001,2001,2001,2000,1984,2007,2014,1998,1996,1998,1990,1999,2001,1982,1972,2006,1996,1997,2001,2002,1996,2010,1996,1997,2016,1981,1994,2012,2003,2000,2008,2004,1993,1994,2007,1992,2005,2013,2001,1999,2001,2011,1998,2005,2002,1997,2000,2003,1998,2001,1994,1996,1968,2005,2005,2004,2007,2014,2006,1994,1995,2012,2004,2003,2006,1984,2007,2008,2006,2008,1996,1996,2009,2001,2005,1996,2000,1995,2010,1998,2008,2006,2008,2002,2007,1997,2011,2012,2012,1993,2010,1996,1985,1996,1940,1980,2006,2015,2000,2000,2005,2002,1993,2010,2011,2012,1999,2000,2004,1992,2013,1963,2012,2002,1996,2002,2009,1989,2011,2001,1993,2005,2002,2012,2014,2010,2009,2002,2015,2001,2003,1999,2012,2011,1984,2013,2009,1999,1989,2014,2015,2003,1996,2003,2013,1992,2016,2010,2009,2006,2000,1990,2015,1992,2009,2013,1999,2014,2006,2015,2016,1992,2004,2005,2008,2009,2001,1991,2006,2001,2009,2014,2009,2015,2001,2010,2004,1998,1997,2002,2011,2011,2006,2014,2013,2006,1987,2010,1986,2004,2006,2005,2012,2008,2014,1997,2003,1997,1992,2007,1994,2000,2007,2011,2012,2011,1999,1991,2014,2000,2011,1999,2000,2005,2008,2014,1994,2011,2010,2005,2000,2005,2000,1999,1996,2001,2008,2001,2007,1973,1994,2011,1998,2002,1999,2004,1996,1995,2006,1995,2000,2012,1987,2009,2002,1992,2001,2004,2004,2012,1999,2002,2009,2003,2008,1980,1999,2009,2001,2002,2001,2007,2012,2008,2015,2006,2007,1995,2007,1994,2007,2005,2013,2011,2004,1994,2015,2009,2007,2012,2005,2004,1983,2013,2008,2002,2009,1996,2002,1994,2013,2011,2014,1999,2002,2001,2015,2001,2001,1999,1996,2001,2009,1996,1982,2013,1997,2001,2008,2012,2007,2008,2016,2015,2010,2012,2008,2008,2013,1999,2010,2016,2011,2008,2002,1999,2013,2008,1997,1983,2010,2014,2000,2003,2015,1996,1999,2011,1997,2000,2008,2003,2009,2015,1999,1989,2011,1992,2009,2001,2011,2010,2006,1979,2013,1991,2008,2015,2005,1996,1997,2005,1997,1995,1984,2000,1998,2010,2007,2003,2011,2016,2013,1992,2012,2009,2009,2007,2006,2005,1997,2002,1982,2004,2008,2011,2010,2011,2001,1976,1994,2002,2006,2005,2004,2011,2008,2002,1990,2008,1999,1980,2004,2012,1997,2015,2010,1992,2008,2004,2015,2011,2005,2000,2008,2013,2005,2012,2015,2002,2013,2004,2010,2012,1983,2007,1991,2007,2001,2001,2009,2009,2011,1998,2014,2003,2008,2006,2015,1997,2006,1992,1993,1997,2002,1981,1995,1999,2010,2006,2009,2014,2015,1993,2006,1999,2012,2008,2015,1999,2000,2012,2013,1981,1992,2001,2000,2013,2011,2012,2006,2000,2004,2005,2012,1999,1983,2008,2008,2012,2003,1996,2002,1988,2006,2011,2013,1999,2000,2010,2013,2011,2011,1993,2007,2013,1979,2005,2005,2005,1995,2004,1999,2010,2007,1996,2013,1997,1999,2006,2004,1979,2010,1995,2016,1985,2012,1979,2014,2001,1990,2000,2015,1995,2002,1999,2001,1995,1994,2012,2010,2000,1990,2013,2004,1991,1995,2001,1996,1995,2009,2004,2003,2004,1999,2004,2008,2009,2000,1991,1994,2009,2002,2013,2012,2001,1995,2012,2008,2005,2008,1998,2009,2004,2004,2011,2014,2001,1999,1989,2002,1994,1985,2005,2007,2005,2007,2010,1989,2012,2005,2006,2015,2015,2009,2015,2003,2010,2002,2006,2007,2012,2008,1988,1987,1986,2011,1997,2011,2013,2006,2006,2001,2009,2013,2004,2011,2003,1998,2014,1998,1995,2006,2014,2011,2004,2012,2004,2010,2006,2005,1998,1996,2002,2010,2007,2005,2004,2009,1986,2008,2005,2003,2004,2011,2005,1999,1999,2009,2013,2004,2004,2011,2005,2009,2010,2013,2001,1989,1984,2013,2004,2003,2005,2006,2005,2006,2007,2011,2009,2015,2011,2010,2007,2014,2014,2015,2002,2016,2015,2005,2000,1997,2008,2002,2002,2016,1987,1999,2004,2005,1992,2015,1984,1998,2001,2016,2003,1988,2008,2015,2009,2004,2004,2001,2013,2001,2003,2013,1981,2001,1994,2001,2013,1993,2007,2010,2011,2000,2014,2005,1982,1995,2014,2007,2000,2001,2006,1999,2010,1997,2001,2015,2016,1997,2008,2013,2006,2014,1983,2007,2009,2008,1984,2006,2007,1991,2002,1997,1980,2008,2012,2002,1999,2006,1983,2011,1984,1998,2008,1985,1998,2009,2004,2007,2011,2016,2001,1999,2004,2008,2003,2006,2009,2003,2005,1998,2014,1990,2008,1998,2003,1990,1977,2005,2003,2000,2010,2013,2004,2002,1985,2009,2004,2011,2001,2012,2004,1994,1996,1997,2001,2015,1996,2015,2005,2004,1993,1988,2008,2008,2008,2014,1992,1993,2011,2013,2004,2014,2003,2014,2001,2008,1991,1987,2007,2014,2001,2000,2003,2012,2011,1993,2000,1976,2006,2012,2007,2004,2013,2012,2005,2004,1990,2003,2005,1983,1997,1987,2012,1997,2007,2002,2003,2002,2005,2001,2008,2005,2014,2014,2003,2003,2007,2003,2002,2006,2007,2004,2013,2007,1998,1998,1970,1997,2011,2009,1994,2001,1996,2014,2013,2005,2005,2016,1998,1994,2010,2010,2010,2007,2002,2004,2002,2006,1988,1996,2005,2009,2008,2000,2010,2004,1996,2002,2015,2007,2011,1999,2014,1985,2010,2005,2015,1986,2012,2011,1996,1993,2008,2002,1999,2012,1996,2011,2006,1991,2009,1984,2005,2001,2005,1995,2005,2008,2005,2011,2005,2012,1998,2009,2013,2009,2010,2010,2010,2009,2010,2013,2011,1970,2014,2014,1988,2012,1986,2006,1997,2016,2014,2000,1984,2003,1991,1998,2000,2008,2000,2009,2001,1999,2004,1999,1978,2000,1999,2011,2010,2004,1998,1993,2004,2010,2004,2009,1998,1980,1995,1991,2000,2011,2000,2001,2013,2001,2013],\"y\":[2787965087,961000000,880674609,1084939099,284139100,890871626,591794936,1405403694,933959197,873260194,391081192,586090727,1065659812,89289910,662845518,419651413,1519557910,1045713802,624026776,956019788,752215857,310669540,958400000,372234864,550000000,1845034188,1153304495,303025485,1513528810,1108561013,783766341,1215439994,1025491110,459359555,743559607,836297228,1091405097,491868548,705717432,400062763,559852396,219851172,1066969703,371353001,1506249360,531865000,747862775,467365246,197687603,351040419,335154643,407602906,1123746996,786636033,331926147,538983207,343471816,521311860,258022233,769653595,325233863,183987723,356743061,748806957,543934787,1004558444,735099082,381509870,585174222,185770160,222104681,401128639,745000000,173000000,370541256,264218220,302469017,857611174,966550600,623933331,396600000,758539785,710644566,0,150962475,714766572,752600867,209154322,652105443,471222889,305875730,389681935,494878759,435000000,773328629,675120017,825532764,77000000,1021103568,207283925,333932083,353624124,653428261,215283742,181674817,299370084,798958165,433677183,440603537,415686217,449220945,709709780,167298192,938212738,895921036,624029371,585349010,474968763,623722818,374218673,603900354,413106170,373062864,424988211,1274219009,738599701,644571402,378858340,356613439,449326618,309979994,292817841,301000000,245527149,682330139,0,287594577,665692281,318502923,397850012,205366737,38992758,64459316,128388320,272912430,497409852,746921274,431971116,229147509,553799566,441818803,195735876,521170825,694713380,306941670,202026112,456758981,268031828,385680446,821708551,609123048,150680864,76932943,185258983,285444603,245360480,371876278,119269486,85131830,370569774,361832400,212011111,829000000,150406466,163712074,183345589,532950503,282570682,245724603,373552094,442824138,631744560,519311965,847423452,368871007,591739379,273339556,554987477,293329073,362637473,371940071,789804554,49554002,243843127,354248063,349424282,321887208,976475550,61648500,655011224,752100229,767820459,500188435,407711549,626137675,334615000,232713139,261317921,61698899,276572938,238207122,345141403,544272402,546388105,325756637,289047763,609016565,228738393,415484914,259175788,403170142,169956806,286140700,115772733,242688965,93945766,48668907,261930431,286168572,850000000,649398328,562816256,415440673,924317558,585178928,132900000,77628265,164602163,477200000,716392705,178127760,245623848,167977596,574480841,470490832,333011068,215294342,362744280,478207520,295238201,102000000,237382724,227817248,337580051,563749323,103951461,179246868,299268508,347434178,164508066,125537191,383531464,871368364,72178895,87713825,0,347234916,211643158,300135367,267045765,630161890,162949164,10372291,237202299,457640427,358372926,876688482,599045960,362211740,520000000,214104620,266465037,378882411,150166126,310650585,170432927,242295562,425368238,100138851,169327687,312573423,347451894,249288105,100086793,268426634,278731369,211989043,170877916,392000694,336529144,121214377,130482868,140073390,82102379,243400000,109578115,68688831,206172544,133718711,0,93820758,7103973,94882889,246233113,13835130,433013274,193772504,95311434,149044513,102000000,172989651,104907746,263920180,288347692,76432727,877244782,543514353,93525586,940335536,1118888979,926287400,114178613,274703340,103039258,368780809,482860185,162839667,304654182,25819961,631442092,10017322,226497209,589390539,497366869,167805466,347325802,155464351,242988466,886686817,188133322,264105545,289847354,304320254,188072649,232617430,366101666,524028679,94061311,186053725,233755553,200276000,201596308,243637091,235926552,182290266,171120329,190213455,162944923,174578751,156505388,334901337,118063304,143049560,60874615,484635760,93700000,0,140807547,35168966,79114085,108539911,16178959,148336445,494471524,429632142,384335608,288500217,315156409,450717150,132274484,358375603,340487652,208076205,183611771,152930623,194168700,250649836,219103655,311312624,197309027,288747895,96976270,80916492,137298489,162242962,158468292,0,142940100,78382433,37823676,183018522,47664559,74208267,123307945,275650703,41037742,237681299,21028755,112483764,222231186,160388063,84785914,96085477,484572835,274470394,457696359,691210692,254455986,280000000,343397247,145771527,144000000,140464664,0,190320568,342695435,246984278,230685453,266728738,294804195,163733697,260696994,245676146,212874442,181001478,214918407,224012234,178066569,173013509,157107755,177977226,91188905,250200000,0,233093859,136982834,211817906,164000000,201584141,122563539,169852759,136159423,96105964,0,473226958,90874570,123729176,0,147080413,142400065,71485043,0,105316267,101371017,0,43312294,122444772,34566746,159212469,126546518,21400000,68514844,53825515,19480739,17626234,69131860,146936910,33463969,107944236,19406406,5989640,117831631,0,313542341,788241776,355692760,248384621,209196298,108103450,149673788,236350661,97571250,15071514,35134820,875958308,179265204,970761885,816969268,229074524,532680671,69959751,296339527,258270008,335062621,660940780,196482882,90450008,78000586,0,117698894,271430189,219417255,73034460,215663859,119000410,367275019,154937680,95226116,130358911,85632458,98159963,108145109,55041367,140175006,67631903,127600435,0,226904017,77944725,36754634,51142659,14567883,5802422,5409517,21009180,248118121,1156730962,89792502,103891409,13100000,349779543,111231041,61458982,86658558,162966177,176104344,210000000,96889998,527068851,37317558,54744738,62172050,256697520,294456605,408247917,919838758,461983149,309457509,277448382,311594032,309492681,319131050,300854823,240031094,116643346,203388341,42285169,171183863,443140005,114660784,161025640,118000000,202466756,122919055,0,177584879,154984035,90000098,134748021,215529201,116672912,135560026,131457682,67112664,65977295,55987321,33561137,160112671,59418613,32287044,57777106,0,19924033,19870567,13596911,18662027,17752940,57958696,38629478,122915111,61279452,193000000,698491347,71069884,543513985,35431113,217022588,39041505,29762011,83160734,60289912,52099090,113280098,86387857,112265139,212404396,189198313,25303038,481840909,203277636,374111707,383257136,75715436,275293450,463517383,355237933,172855065,441809770,250821495,128107642,250288523,211780824,163442937,128884132,255000211,150270147,69700000,162945894,0,179379533,162091208,133821816,153962963,156974557,128905366,38376497,0,240159255,73762516,89456761,0,64321501,100853753,43545364,17218080,0,71154592,42093706,56681566,39407616,74608570,203427584,132180323,296655431,44091067,920100000,25052000,215887717,121545703,101595121,127666415,107879496,41819064,18720175,155760117,0,183953723,422610419,516642939,244082376,284600000,253625427,314432665,369330363,214034224,352194034,149705852,264118201,218613188,164433867,131940411,93375151,176070171,93354918,171757863,171844840,157920733,129181830,311256926,204594016,0,71664962,100230832,186883563,217764291,165333180,74541707,218340595,73648228,0,137551594,0,124596398,163403799,130293714,61112916,170268750,129832389,99318987,56702901,107139399,159330280,96269812,0,50877145,0,104324083,50549107,101134059,205754447,162000000,95696996,108255770,46683377,469160692,0,43061982,105200903,62357900,122233971,87784194,60000000,36850101,77920346,104945765,67312826,119940815,0,74901339,33956608,55003135,73174566,0,31720158,39459427,47383689,141702264,71073932,78309131,26288320,26673242,52322400,49111202,17800000,27642707,14828081,30800231,90565421,50650079,25473093,0,57490374,39031337,30418560,0,0,193677158,10166502,783112979,0,542307423,158162788,102854431,59468275,189015611,41299492,0,85280250,44000000,300228084,50365377,152944660,58058367,115267375,61347797,149217355,62112895,113006880,57223890,677945399,361366633,330444045,346079773,300218018,128769345,368100420,0,231449203,95000000,152263880,287928194,192330738,154906693,157387195,307077295,223387299,214015089,198685114,180949000,0,152159461,63408614,149022650,56932305,121969216,187361754,127906624,110000000,159773545,141047179,41610884,75000000,259207227,68267862,34234008,0,33828318,33472850,118338361,113020255,60209334,18626419,154648887,74237563,52304001,12923936,11466088,0,80383290,28283637,89519773,0,9250000,6416302,155010032,168167691,9489829,136766062,52034889,130431368,190458706,7266209,9450897,107196498,139804348,179213434,54249294,98837872,65900249,126690726,25037897,0,5761917,352114312,132820716,204999686,609841637,216485654,110803676,98126565,75450437,47434430,116112375,52826594,0,149270999,72779000,47231070,709827462,484409218,127869379,390493908,273552592,549368315,314178011,202292902,173649015,171269535,260095987,256271286,177371441,188441614,223664608,225990978,216972543,0,242786137,212902372,184376254,161626121,152022101,120081841,155446362,88715192,161451538,142851197,200804534,0,110206216,189859560,222809600,106303988,132511035,88323487,69834815,66002004,100020092,224803475,119137784,144492830,94000000,69411370,97437106,82800000,50068310,48169156,109423648,97607453,0,234989584,44547681,160602194,119208989,41482207,83719388,0,129394835,40203020,55495563,49000000,69425966,144056873,49718611,60462347,0,113309743,83761844,105197635,56714147,30303072,82169884,58900031,63327201,42792561,26199517,60161391,42277365,23159305,34808403,25035950,38955598,0,71561644,55112356,44434439,66976317,26121638,38502340,10541523,16671505,10382407,24188922,22944502,9851610,40828540,60052138,0,55969000,6808550,0,28931401,12764201,72700000,20423389,36348784,207515725,474171806,68929150,104399548,151493655,196397415,0,108000000,3324330,85498534,50315140,0,90383208,25928721,70016220,325771424,77745568,102825796,528972,103738726,124305181,35743308,125212904,0,38085778,12379402,299288605,0,113714830,150000000,10539000,100860818,181000000,15436808,5200000,341631208,376141306,220673217,212000000,101702060,95149435,195268056,117615211,175372502,178051587,154749918,122126687,104876233,90683916,141220678,165184237,131183530,76669806,94935764,136885767,113916474,244931766,363258859,74558115,170362582,53854588,0,56070433,104478416,0,148412065,123494610,38399961,0,0,82966152,56422687,160583018,55181129,30925690,0,75225693,65664721,72108608,0,0,57881056,29400000,38058335,17300889,0,13681765,60222298,11203026,9323833,0,42487390,8493890,4607608,2154540,160078586,73706,232324128,368875760,136000000,165615285,300400432,0,84300000,3484331,111340801,34227298,80049764,0,50871113,68696770,270248367,48190704,51070807,201585328,363889678,224834564,171963386,70100000,158674180,71000000,73100172,63781810,0,55157539,0,156167015,89162162,56359980,20915465,24127895,177394432,36893721,12342632,11087569,14000000,215000000,0,117487473,0,672806292,46221189,7448385,90815558,251171807,317375031,177841558,332000000,126546825,571006128,197011982,152266007,190212113,149295601,107458785,320170008,224920315,177259441,178262620,161834276,244527583,111811453,215862692,129540499,95020213,128798265,169837010,120455994,194564672,124827316,75505856,124731534,158733820,151161491,91636986,141069860,205405498,138259062,147845033,136267476,196781193,186167139,165478348,91753202,90029656,170128460,54682547,87840042,75395048,85412898,130786397,109676311,107670357,74597643,120175290,191185897,126248813,0,92913171,114830111,91974818,51854875,84601681,67347013,45916769,141591324,74000000,0,41797066,0,0,145896422,97552050,41863726,97138686,96618699,34416893,126069509,36037909,157887643,0,55707411,50451307,0,0,48063435,55247881,58785180,46442528,30199105,31670620,0,29000000,49627779,27053815,0,65754228,62771059,3000000,24332324,60965854,38172500,22433915,0,46546197,0,20350754,60474340,0,19412993,180274123,14375181,46471023,16872671,14358033,173921954,0,13395939,24719215,28121100,18902015,28169671,19322135,0,0,10667893,20645327,0,10959475,0,32017803,22044277,0,13644292,23937870,117760134,7563728,0,0,0,0,86758912,0,0,94000000,100000000,101229792,69485490,35287788,38869464,6614280,75850624,44907260,127814609,180622424,205298907,0,119723358,120000000,64076736,114156230,0,73956241,51801187,0,107597242,29700000,0,58401898,17380126,16991902,47536959,10300000,19629760,98337295,6482195,0,17869048,28258060,5410749,9793496,109906372,173567581,154026136,79700000,163720069,100076342,90247624,48451803,55583804,112343513,95404397,392616625,102244770,117758500,269994119,21834845,50159144,160000000,64572262,52424533,32168970,44350926,26250020,0,0,96047633,12532777,3003296,63800345,0,459270619,156844753,310940086,411348924,0,321731527,309208309,147934180,117000000,252276927,326551094,139000000,173965010,182300000,69823199,140795793,68915888,231976425,126216940,86369815,0,113374103,25504513,104155843,0,60251371,95608995,52277485,150483765,108758521,112544580,48169908,88058786,92219310,91353501,69307224,0,58405313,41954997,102984862,122200000,0,85416905,173930596,77477008,59901913,0,35323292,99423521,120072577,0,68766121,115505027,84606030,72436439,45479110,57120318,32483410,40263020,27107960,36098382,30353232,25105255,4100000,93246388,0,68369434,27388767,50363790,82087155,19478106,0,25871834,19701164,19294901,31083599,51680201,29882645,46216641,41512007,39340177,0,16519460,63215872,0,18317151,0,13678913,27409889,12206028,54674226,0,17508518,11560806,10089373,12506188,61181942,0,42064105,4651977,0,0,16838910,0,15000000,635096,25147786,10496317,0,348319861,14431253,32255440,15304890,11263966,2106557,187479518,63013281,19598588,0,0,27330000,40382659,243240178,79958599,173959438,0,64626786,140470746,62022014,0,54700105,27610873,40346186,0,572700000,22211426,113019290,24159934,173398518,152036382,0,60328000,80197993,288383523,126041322,50041732,48814909,69055695,21819348,83615414,147332697,36733909,77566815,9494789,31755742,0,60740827,85167639,18552460,30016165,0,18409891,53587404,0,27437881,3566637,0,5914908,0,89460381,42045846,106269971,14708696,128499205,161772375,210308099,174600318,24185781,53208180,68106245,104384188,115101622,306776732,234801895,287553595,373554033,350448145,196114570,15134293,136706683,199200000,115922175,167722310,191502426,212385533,165335153,116400000,327311859,210819611,140161792,156822020,216763646,176885658,115603229,160259319,155545279,103,74787599,160638883,163670000,105834556,116980662,47042000,0,254134910,114281051,105173115,92374674,63833449,0,114663461,69631118,96455697,151119219,0,83282296,118880016,70200000,0,51132598,152427960,192452832,156835339,93772522,129266061,0,45892212,54819301,117195061,42647449,84025816,91709827,90810892,65663276,0,159291809,51842679,53653224,75505973,66486080,84646831,38413606,38122105,38748395,63782078,51376861,36160375,82394288,34742066,41480851,0,48428063,63372757,0,14460000,39267515,29202884,31911598,0,24048000,60896147,0,108609310,22034832,53909751,21800302,51148651,31070211,35294470,19204929,17193231,0,102820008,16930884,25224242,26155781,0,37962774,31148328,15007991,15368897,13001257,24922237,30536013,0,0,0,0,30114487,12,13521829,18618284,64352607,8454301,62616646,18195610,26828365,0,18074539,0,0,3102550,35078241,0,480314,14711793,108348,0,0,2527904,0,0,0,0,0,0,140752617,287506194,186438883,37036004,0,0,33013805,16930185,78636257,0,0,24829644,21126225,504050219,201634991,333000000,100491683,105178561,48902953,98185582,140767956,92380927,133346506,0,64445708,102356381,94728529,17137302,71441250,90259536,134402450,195312802,77516304,101646581,60780981,97594140,39514713,92601050,96188903,40547440,33000337,100654149,121147947,33139618,31596911,52597999,54926886,0,20217080,38159905,8888143,45236543,8345056,14010832,7002261,16374328,5684789,17286299,60700000,23321954,68896829,187500000,219076518,95714875,43650785,27187653,49469904,24748670,96900000,0,60527873,115229890,44352417,0,129000000,56870414,56308881,21500000,15395087,20158808,27200316,0,11137801,76000000,29000000,13000000,0,85564310,93282604,14,4488529,21148829,6673422,0,0,183293131,110230332,109449237,289317794,53181600,201957688,101624843,65705772,68296293,61489265,50750000,57891803,90426405,71868327,67918658,86175291,0,38793283,0,43318349,28818995,142044638,35402320,29657751,14000000,36800000,0,0,0,0,20080020,30523226,82466670,611899420,441286195,412800000,269958228,29506464,226830568,35926213,411006740,321365567,124272124,8555008,181466833,0,114908830,0,80936232,170764026,78000000,76270454,171600000,153997819,281929795,152500343,124914842,119772232,147780440,56505065,91036760,60922980,117719158,99357138,137587063,116766556,0,77278331,122644820,90574188,46836394,58795814,122489822,65884703,0,43984230,63100000,0,77208711,0,0,41604473,39053061,64437847,70442940,36351350,38307627,66980456,0,63102666,59192128,56489558,41597830,33889159,229736344,70992898,2415472,66122026,82150642,50671850,29548291,100000000,34942188,0,28341469,39438674,25023434,39171130,74188937,27645491,42886719,46152800,21567853,22200000,114977104,23580000,36993168,40452643,17000000,20796847,0,0,0,0,15431177,33333531,0,24362772,19829957,30411183,51702483,0,42972994,14334401,10126458,13,28831145,0,15478800,13411957,24902723,11000000,0,23057115,16900000,25000000,11207130,10719357,13000000,85446075,10070000,10324441,11772461,0,27635305,5778353,0,0,0,4064495,0,19844979,2405420,27603069,0,34153101,777423,2336172,19255873,10589102,0,48531470,0,0,6500000,71009334,0,3052000,0,0,34670720,8784318,133000000,155721132,172363301,1397284,70181428,106371651,80035402,87055349,41895491,40002112,36609995,42105111,0,68729358,0,0,16980098,16290976,21049053,12372410,8434146,30551495,83188165,0,4562146,669276,0,23081726,234710455,102391382,185991646,538400000,141407024,86930411,53302314,75993061,53187659,0,47351251,36642838,6399],\"type\":\"scatter\"}],                        {\"template\":{\"data\":{\"histogram2dcontour\":[{\"type\":\"histogram2dcontour\",\"colorbar\":{\"outlinewidth\":0,\"ticks\":\"\"},\"colorscale\":[[0.0,\"#0d0887\"],[0.1111111111111111,\"#46039f\"],[0.2222222222222222,\"#7201a8\"],[0.3333333333333333,\"#9c179e\"],[0.4444444444444444,\"#bd3786\"],[0.5555555555555556,\"#d8576b\"],[0.6666666666666666,\"#ed7953\"],[0.7777777777777778,\"#fb9f3a\"],[0.8888888888888888,\"#fdca26\"],[1.0,\"#f0f921\"]]}],\"choropleth\":[{\"type\":\"choropleth\",\"colorbar\":{\"outlinewidth\":0,\"ticks\":\"\"}}],\"histogram2d\":[{\"type\":\"histogram2d\",\"colorbar\":{\"outlinewidth\":0,\"ticks\":\"\"},\"colorscale\":[[0.0,\"#0d0887\"],[0.1111111111111111,\"#46039f\"],[0.2222222222222222,\"#7201a8\"],[0.3333333333333333,\"#9c179e\"],[0.4444444444444444,\"#bd3786\"],[0.5555555555555556,\"#d8576b\"],[0.6666666666666666,\"#ed7953\"],[0.7777777777777778,\"#fb9f3a\"],[0.8888888888888888,\"#fdca26\"],[1.0,\"#f0f921\"]]}],\"heatmap\":[{\"type\":\"heatmap\",\"colorbar\":{\"outlinewidth\":0,\"ticks\":\"\"},\"colorscale\":[[0.0,\"#0d0887\"],[0.1111111111111111,\"#46039f\"],[0.2222222222222222,\"#7201a8\"],[0.3333333333333333,\"#9c179e\"],[0.4444444444444444,\"#bd3786\"],[0.5555555555555556,\"#d8576b\"],[0.6666666666666666,\"#ed7953\"],[0.7777777777777778,\"#fb9f3a\"],[0.8888888888888888,\"#fdca26\"],[1.0,\"#f0f921\"]]}],\"heatmapgl\":[{\"type\":\"heatmapgl\",\"colorbar\":{\"outlinewidth\":0,\"ticks\":\"\"},\"colorscale\":[[0.0,\"#0d0887\"],[0.1111111111111111,\"#46039f\"],[0.2222222222222222,\"#7201a8\"],[0.3333333333333333,\"#9c179e\"],[0.4444444444444444,\"#bd3786\"],[0.5555555555555556,\"#d8576b\"],[0.6666666666666666,\"#ed7953\"],[0.7777777777777778,\"#fb9f3a\"],[0.8888888888888888,\"#fdca26\"],[1.0,\"#f0f921\"]]}],\"contourcarpet\":[{\"type\":\"contourcarpet\",\"colorbar\":{\"outlinewidth\":0,\"ticks\":\"\"}}],\"contour\":[{\"type\":\"contour\",\"colorbar\":{\"outlinewidth\":0,\"ticks\":\"\"},\"colorscale\":[[0.0,\"#0d0887\"],[0.1111111111111111,\"#46039f\"],[0.2222222222222222,\"#7201a8\"],[0.3333333333333333,\"#9c179e\"],[0.4444444444444444,\"#bd3786\"],[0.5555555555555556,\"#d8576b\"],[0.6666666666666666,\"#ed7953\"],[0.7777777777777778,\"#fb9f3a\"],[0.8888888888888888,\"#fdca26\"],[1.0,\"#f0f921\"]]}],\"surface\":[{\"type\":\"surface\",\"colorbar\":{\"outlinewidth\":0,\"ticks\":\"\"},\"colorscale\":[[0.0,\"#0d0887\"],[0.1111111111111111,\"#46039f\"],[0.2222222222222222,\"#7201a8\"],[0.3333333333333333,\"#9c179e\"],[0.4444444444444444,\"#bd3786\"],[0.5555555555555556,\"#d8576b\"],[0.6666666666666666,\"#ed7953\"],[0.7777777777777778,\"#fb9f3a\"],[0.8888888888888888,\"#fdca26\"],[1.0,\"#f0f921\"]]}],\"mesh3d\":[{\"type\":\"mesh3d\",\"colorbar\":{\"outlinewidth\":0,\"ticks\":\"\"}}],\"scatter\":[{\"fillpattern\":{\"fillmode\":\"overlay\",\"size\":10,\"solidity\":0.2},\"type\":\"scatter\"}],\"parcoords\":[{\"type\":\"parcoords\",\"line\":{\"colorbar\":{\"outlinewidth\":0,\"ticks\":\"\"}}}],\"scatterpolargl\":[{\"type\":\"scatterpolargl\",\"marker\":{\"colorbar\":{\"outlinewidth\":0,\"ticks\":\"\"}}}],\"bar\":[{\"error_x\":{\"color\":\"#2a3f5f\"},\"error_y\":{\"color\":\"#2a3f5f\"},\"marker\":{\"line\":{\"color\":\"#E5ECF6\",\"width\":0.5},\"pattern\":{\"fillmode\":\"overlay\",\"size\":10,\"solidity\":0.2}},\"type\":\"bar\"}],\"scattergeo\":[{\"type\":\"scattergeo\",\"marker\":{\"colorbar\":{\"outlinewidth\":0,\"ticks\":\"\"}}}],\"scatterpolar\":[{\"type\":\"scatterpolar\",\"marker\":{\"colorbar\":{\"outlinewidth\":0,\"ticks\":\"\"}}}],\"histogram\":[{\"marker\":{\"pattern\":{\"fillmode\":\"overlay\",\"size\":10,\"solidity\":0.2}},\"type\":\"histogram\"}],\"scattergl\":[{\"type\":\"scattergl\",\"marker\":{\"colorbar\":{\"outlinewidth\":0,\"ticks\":\"\"}}}],\"scatter3d\":[{\"type\":\"scatter3d\",\"line\":{\"colorbar\":{\"outlinewidth\":0,\"ticks\":\"\"}},\"marker\":{\"colorbar\":{\"outlinewidth\":0,\"ticks\":\"\"}}}],\"scattermapbox\":[{\"type\":\"scattermapbox\",\"marker\":{\"colorbar\":{\"outlinewidth\":0,\"ticks\":\"\"}}}],\"scatterternary\":[{\"type\":\"scatterternary\",\"marker\":{\"colorbar\":{\"outlinewidth\":0,\"ticks\":\"\"}}}],\"scattercarpet\":[{\"type\":\"scattercarpet\",\"marker\":{\"colorbar\":{\"outlinewidth\":0,\"ticks\":\"\"}}}],\"carpet\":[{\"aaxis\":{\"endlinecolor\":\"#2a3f5f\",\"gridcolor\":\"white\",\"linecolor\":\"white\",\"minorgridcolor\":\"white\",\"startlinecolor\":\"#2a3f5f\"},\"baxis\":{\"endlinecolor\":\"#2a3f5f\",\"gridcolor\":\"white\",\"linecolor\":\"white\",\"minorgridcolor\":\"white\",\"startlinecolor\":\"#2a3f5f\"},\"type\":\"carpet\"}],\"table\":[{\"cells\":{\"fill\":{\"color\":\"#EBF0F8\"},\"line\":{\"color\":\"white\"}},\"header\":{\"fill\":{\"color\":\"#C8D4E3\"},\"line\":{\"color\":\"white\"}},\"type\":\"table\"}],\"barpolar\":[{\"marker\":{\"line\":{\"color\":\"#E5ECF6\",\"width\":0.5},\"pattern\":{\"fillmode\":\"overlay\",\"size\":10,\"solidity\":0.2}},\"type\":\"barpolar\"}],\"pie\":[{\"automargin\":true,\"type\":\"pie\"}]},\"layout\":{\"autotypenumbers\":\"strict\",\"colorway\":[\"#636efa\",\"#EF553B\",\"#00cc96\",\"#ab63fa\",\"#FFA15A\",\"#19d3f3\",\"#FF6692\",\"#B6E880\",\"#FF97FF\",\"#FECB52\"],\"font\":{\"color\":\"#2a3f5f\"},\"hovermode\":\"closest\",\"hoverlabel\":{\"align\":\"left\"},\"paper_bgcolor\":\"white\",\"plot_bgcolor\":\"#E5ECF6\",\"polar\":{\"bgcolor\":\"#E5ECF6\",\"angularaxis\":{\"gridcolor\":\"white\",\"linecolor\":\"white\",\"ticks\":\"\"},\"radialaxis\":{\"gridcolor\":\"white\",\"linecolor\":\"white\",\"ticks\":\"\"}},\"ternary\":{\"bgcolor\":\"#E5ECF6\",\"aaxis\":{\"gridcolor\":\"white\",\"linecolor\":\"white\",\"ticks\":\"\"},\"baxis\":{\"gridcolor\":\"white\",\"linecolor\":\"white\",\"ticks\":\"\"},\"caxis\":{\"gridcolor\":\"white\",\"linecolor\":\"white\",\"ticks\":\"\"}},\"coloraxis\":{\"colorbar\":{\"outlinewidth\":0,\"ticks\":\"\"}},\"colorscale\":{\"sequential\":[[0.0,\"#0d0887\"],[0.1111111111111111,\"#46039f\"],[0.2222222222222222,\"#7201a8\"],[0.3333333333333333,\"#9c179e\"],[0.4444444444444444,\"#bd3786\"],[0.5555555555555556,\"#d8576b\"],[0.6666666666666666,\"#ed7953\"],[0.7777777777777778,\"#fb9f3a\"],[0.8888888888888888,\"#fdca26\"],[1.0,\"#f0f921\"]],\"sequentialminus\":[[0.0,\"#0d0887\"],[0.1111111111111111,\"#46039f\"],[0.2222222222222222,\"#7201a8\"],[0.3333333333333333,\"#9c179e\"],[0.4444444444444444,\"#bd3786\"],[0.5555555555555556,\"#d8576b\"],[0.6666666666666666,\"#ed7953\"],[0.7777777777777778,\"#fb9f3a\"],[0.8888888888888888,\"#fdca26\"],[1.0,\"#f0f921\"]],\"diverging\":[[0,\"#8e0152\"],[0.1,\"#c51b7d\"],[0.2,\"#de77ae\"],[0.3,\"#f1b6da\"],[0.4,\"#fde0ef\"],[0.5,\"#f7f7f7\"],[0.6,\"#e6f5d0\"],[0.7,\"#b8e186\"],[0.8,\"#7fbc41\"],[0.9,\"#4d9221\"],[1,\"#276419\"]]},\"xaxis\":{\"gridcolor\":\"white\",\"linecolor\":\"white\",\"ticks\":\"\",\"title\":{\"standoff\":15},\"zerolinecolor\":\"white\",\"automargin\":true,\"zerolinewidth\":2},\"yaxis\":{\"gridcolor\":\"white\",\"linecolor\":\"white\",\"ticks\":\"\",\"title\":{\"standoff\":15},\"zerolinecolor\":\"white\",\"automargin\":true,\"zerolinewidth\":2},\"scene\":{\"xaxis\":{\"backgroundcolor\":\"#E5ECF6\",\"gridcolor\":\"white\",\"linecolor\":\"white\",\"showbackground\":true,\"ticks\":\"\",\"zerolinecolor\":\"white\",\"gridwidth\":2},\"yaxis\":{\"backgroundcolor\":\"#E5ECF6\",\"gridcolor\":\"white\",\"linecolor\":\"white\",\"showbackground\":true,\"ticks\":\"\",\"zerolinecolor\":\"white\",\"gridwidth\":2},\"zaxis\":{\"backgroundcolor\":\"#E5ECF6\",\"gridcolor\":\"white\",\"linecolor\":\"white\",\"showbackground\":true,\"ticks\":\"\",\"zerolinecolor\":\"white\",\"gridwidth\":2}},\"shapedefaults\":{\"line\":{\"color\":\"#2a3f5f\"}},\"annotationdefaults\":{\"arrowcolor\":\"#2a3f5f\",\"arrowhead\":0,\"arrowwidth\":1},\"geo\":{\"bgcolor\":\"white\",\"landcolor\":\"#E5ECF6\",\"subunitcolor\":\"white\",\"showland\":true,\"showlakes\":true,\"lakecolor\":\"white\"},\"title\":{\"x\":0.05},\"mapbox\":{\"style\":\"light\"}}}},                        {\"responsive\": true}                    ).then(function(){\n",
              "                            \n",
              "var gd = document.getElementById('03b932e2-671f-4825-84c5-f92ce486e7eb');\n",
              "var x = new MutationObserver(function (mutations, observer) {{\n",
              "        var display = window.getComputedStyle(gd).display;\n",
              "        if (!display || display === 'none') {{\n",
              "            console.log([gd, 'removed!']);\n",
              "            Plotly.purge(gd);\n",
              "            observer.disconnect();\n",
              "        }}\n",
              "}});\n",
              "\n",
              "// Listen for the removal of the full notebook cells\n",
              "var notebookContainer = gd.closest('#notebook-container');\n",
              "if (notebookContainer) {{\n",
              "    x.observe(notebookContainer, {childList: true});\n",
              "}}\n",
              "\n",
              "// Listen for the clearing of the current output cell\n",
              "var outputEl = gd.closest('.output');\n",
              "if (outputEl) {{\n",
              "    x.observe(outputEl, {childList: true});\n",
              "}}\n",
              "\n",
              "                        })                };                            </script>        </div>\n",
              "</body>\n",
              "</html>"
            ]
          },
          "metadata": {}
        }
      ],
      "source": [
        "import plotly.graph_objects as go\n",
        "scatter = go.Scatter(x = years,\n",
        "                     y = revenues,\n",
        "                     hovertext=titles,\n",
        "                     mode = 'markers')\n",
        "fig = go.Figure(scatter)\n",
        "fig"
      ]
    },
    {
      "cell_type": "markdown",
      "metadata": {
        "id": "wzvxDRxHn9jh"
      },
      "source": [
        "> Answer: <img src=\"https://github.com/eng-6-22/mod-1-a-data-structures/blob/master/3-coercing-filtering-data/movie-revenue.png?raw=1\" width=\"60%\">"
      ]
    },
    {
      "cell_type": "markdown",
      "metadata": {
        "id": "Yd8-sZGHn9jh"
      },
      "source": [
        "## 3. Coercing Data"
      ]
    },
    {
      "cell_type": "markdown",
      "metadata": {
        "id": "vrDKGET5n9jh"
      },
      "source": [
        "Let's take another look at the years of all of our movies, that we created above."
      ]
    },
    {
      "cell_type": "code",
      "execution_count": 16,
      "metadata": {
        "id": "H-UUx6PLn9jh",
        "outputId": "4209e7b1-1640-44b5-cf9c-56d2b2fc947f",
        "colab": {
          "base_uri": "https://localhost:8080/"
        }
      },
      "outputs": [
        {
          "output_type": "execute_result",
          "data": {
            "text/plain": [
              "[2009, 2007]"
            ]
          },
          "metadata": {},
          "execution_count": 16
        }
      ],
      "source": [
        "years[:2]\n",
        "# [2009, 2007]"
      ]
    },
    {
      "cell_type": "markdown",
      "metadata": {
        "id": "TfW4lMJLn9ji"
      },
      "source": [
        "We can see we only have movies from a certain number of years.  So now let's see the unique collection of years with the by turning our list into a `set`."
      ]
    },
    {
      "cell_type": "code",
      "execution_count": 17,
      "metadata": {
        "id": "g817xK0fn9ji"
      },
      "outputs": [],
      "source": [
        "unique_years = set(years)"
      ]
    },
    {
      "cell_type": "code",
      "execution_count": 18,
      "metadata": {
        "id": "33PZr9q0n9ji",
        "outputId": "9b81d995-05dd-4849-86cb-387b47b0e0d2",
        "colab": {
          "base_uri": "https://localhost:8080/"
        }
      },
      "outputs": [
        {
          "output_type": "execute_result",
          "data": {
            "text/plain": [
              "48"
            ]
          },
          "metadata": {},
          "execution_count": 18
        }
      ],
      "source": [
        "len(unique_years)\n",
        "# 48"
      ]
    },
    {
      "cell_type": "markdown",
      "metadata": {
        "id": "bClB7soGn9ji"
      },
      "source": [
        "2. Also find unique list of genres in our collection of movies above."
      ]
    },
    {
      "cell_type": "markdown",
      "metadata": {
        "id": "rlpPhWaAn9ji"
      },
      "source": [
        "> First collect all of the genres."
      ]
    },
    {
      "cell_type": "code",
      "execution_count": 19,
      "metadata": {
        "id": "3vFv_kXTn9jo",
        "outputId": "d6a72971-b5e4-4777-bf47-ce48394c8c1a",
        "colab": {
          "base_uri": "https://localhost:8080/"
        }
      },
      "outputs": [
        {
          "output_type": "execute_result",
          "data": {
            "text/plain": [
              "['Action', 'Adventure', 'Action']"
            ]
          },
          "metadata": {},
          "execution_count": 19
        }
      ],
      "source": [
        "genres = [movie['genre'] for movie in movies]\n",
        "\n",
        "genres[:3]"
      ]
    },
    {
      "cell_type": "markdown",
      "metadata": {
        "id": "kFCYkk95n9jo"
      },
      "source": [
        "Then assign a unique list of genres."
      ]
    },
    {
      "cell_type": "code",
      "execution_count": 23,
      "metadata": {
        "id": "ak8o5Dusn9jo"
      },
      "outputs": [],
      "source": [
        "unique_genres = list(set(genres))"
      ]
    },
    {
      "cell_type": "code",
      "execution_count": 24,
      "metadata": {
        "id": "JQ_65D0Fn9jo",
        "outputId": "47111fa7-dfb0-4498-ba15-aeccf29fb09d",
        "colab": {
          "base_uri": "https://localhost:8080/"
        }
      },
      "outputs": [
        {
          "output_type": "execute_result",
          "data": {
            "text/plain": [
              "12"
            ]
          },
          "metadata": {},
          "execution_count": 24
        }
      ],
      "source": [
        "len(unique_genres)\n",
        "# 12"
      ]
    },
    {
      "cell_type": "code",
      "execution_count": 25,
      "metadata": {
        "id": "bfhGmphwn9jp",
        "outputId": "63afc5ed-7406-4939-cc4c-63cd05ead8b7",
        "colab": {
          "base_uri": "https://localhost:8080/"
        }
      },
      "outputs": [
        {
          "output_type": "execute_result",
          "data": {
            "text/plain": [
              "[nan, 'Crime', 'Drama', 'Horror', 'Science Fiction']"
            ]
          },
          "metadata": {},
          "execution_count": 25
        }
      ],
      "source": [
        "unique_genres[:5]\n",
        "# [nan, 'Science Fiction', 'Action', 'Romance', 'Horror']"
      ]
    },
    {
      "cell_type": "markdown",
      "metadata": {
        "id": "kOjpMNnQn9jp"
      },
      "source": [
        "2. Calculate the net revenue for each movie\n",
        "* net revenue = revenue - budget"
      ]
    },
    {
      "cell_type": "code",
      "execution_count": 26,
      "metadata": {
        "id": "8rGwsrXZn9jp"
      },
      "outputs": [],
      "source": [
        "net_revenues = [movie['revenue']-movie['budget'] for movie in movies]"
      ]
    },
    {
      "cell_type": "code",
      "execution_count": 27,
      "metadata": {
        "id": "4N1L1HFLn9jp",
        "outputId": "08001a19-1e6f-47b8-ac7b-40c0bc39407f",
        "colab": {
          "base_uri": "https://localhost:8080/"
        }
      },
      "outputs": [
        {
          "output_type": "execute_result",
          "data": {
            "text/plain": [
              "[2550965087, 661000000, 635674609, 834939099, 24139100]"
            ]
          },
          "metadata": {},
          "execution_count": 27
        }
      ],
      "source": [
        "net_revenues[:5]\n",
        "# [2550965087, 661000000, 635674609, 834939099, 24139100]"
      ]
    },
    {
      "cell_type": "markdown",
      "metadata": {
        "id": "7DJibdBFn9jq"
      },
      "source": [
        "Now it would be great to plot the net revenue along with the genre.  To do so we need to replace each occurrence of a movie genre with a corresponding color.  For example, if we look at the first genre of each of the first five movies:"
      ]
    },
    {
      "cell_type": "code",
      "execution_count": 28,
      "metadata": {
        "id": "CD_cyOLHn9jq",
        "outputId": "fbb27488-5c9a-4e34-b42b-6d22ddadc52b",
        "colab": {
          "base_uri": "https://localhost:8080/"
        }
      },
      "outputs": [
        {
          "output_type": "execute_result",
          "data": {
            "text/plain": [
              "['Action', 'Adventure', 'Action', 'Action', 'Action']"
            ]
          },
          "metadata": {},
          "execution_count": 28
        }
      ],
      "source": [
        "genres[:5]\n",
        "# ['Action', 'Adventure', 'Action', 'Action', 'Action']"
      ]
    },
    {
      "cell_type": "markdown",
      "metadata": {
        "id": "P1EFIip0n9jq"
      },
      "source": [
        "We could replace the first five elements below with:"
      ]
    },
    {
      "cell_type": "markdown",
      "metadata": {
        "id": "X8NLasLnn9jq"
      },
      "source": [
        "`['Red', 'Blue', 'Red', 'Red', 'Red']`."
      ]
    },
    {
      "cell_type": "markdown",
      "metadata": {
        "id": "EaU31NZln9jq"
      },
      "source": [
        "So below, we'll create a dictionary for replacing each of the values to a corresponding color."
      ]
    },
    {
      "cell_type": "code",
      "execution_count": 29,
      "metadata": {
        "id": "_jzcgY_Rn9jr",
        "outputId": "766b1f7a-006b-4960-b171-d9cded79231a",
        "colab": {
          "base_uri": "https://localhost:8080/"
        }
      },
      "outputs": [
        {
          "output_type": "execute_result",
          "data": {
            "text/plain": [
              "[nan,\n",
              " 'Crime',\n",
              " 'Drama',\n",
              " 'Horror',\n",
              " 'Science Fiction',\n",
              " 'Adventure',\n",
              " 'Action',\n",
              " 'Romance',\n",
              " 'Thriller',\n",
              " 'Animation',\n",
              " 'Comedy',\n",
              " 'Fantasy']"
            ]
          },
          "metadata": {},
          "execution_count": 29
        }
      ],
      "source": [
        "unique_genres"
      ]
    },
    {
      "cell_type": "code",
      "execution_count": 30,
      "metadata": {
        "id": "5aWbd9don9jr"
      },
      "outputs": [],
      "source": [
        "colors = ['black', 'yellow', 'yellow', 'red',\n",
        "          'purple', 'gold', 'gold', 'yellow',\n",
        "          'orange', 'green', 'yellow', 'blue']\n",
        "color_map = dict(zip(unique_genres, colors))"
      ]
    },
    {
      "cell_type": "code",
      "source": [
        "color_map"
      ],
      "metadata": {
        "id": "qmySXLnYCDO_",
        "outputId": "2bba02ef-d1a9-44dc-aced-54868d6e99a0",
        "colab": {
          "base_uri": "https://localhost:8080/"
        }
      },
      "execution_count": 31,
      "outputs": [
        {
          "output_type": "execute_result",
          "data": {
            "text/plain": [
              "{nan: 'black',\n",
              " 'Crime': 'yellow',\n",
              " 'Drama': 'yellow',\n",
              " 'Horror': 'red',\n",
              " 'Science Fiction': 'purple',\n",
              " 'Adventure': 'gold',\n",
              " 'Action': 'gold',\n",
              " 'Romance': 'yellow',\n",
              " 'Thriller': 'orange',\n",
              " 'Animation': 'green',\n",
              " 'Comedy': 'yellow',\n",
              " 'Fantasy': 'blue'}"
            ]
          },
          "metadata": {},
          "execution_count": 31
        }
      ]
    },
    {
      "cell_type": "code",
      "execution_count": 32,
      "metadata": {
        "id": "MiEFSgkGn9jr",
        "outputId": "8e5a7aaf-0ff3-40d2-c183-de555acdb0a8",
        "colab": {
          "base_uri": "https://localhost:8080/"
        }
      },
      "outputs": [
        {
          "output_type": "execute_result",
          "data": {
            "text/plain": [
              "['gold', 'gold', 'gold']"
            ]
          },
          "metadata": {},
          "execution_count": 32
        }
      ],
      "source": [
        "colors = [color_map[genre] for genre in genres]\n",
        "\n",
        "colors[:3]"
      ]
    },
    {
      "cell_type": "code",
      "execution_count": 33,
      "metadata": {
        "id": "zlce_Zvkn9jr",
        "outputId": "e37b1a46-422c-4f70-8f0f-d007f5d7640a",
        "colab": {
          "base_uri": "https://localhost:8080/",
          "height": 542
        }
      },
      "outputs": [
        {
          "output_type": "display_data",
          "data": {
            "text/html": [
              "<html>\n",
              "<head><meta charset=\"utf-8\" /></head>\n",
              "<body>\n",
              "    <div>            <script src=\"https://cdnjs.cloudflare.com/ajax/libs/mathjax/2.7.5/MathJax.js?config=TeX-AMS-MML_SVG\"></script><script type=\"text/javascript\">if (window.MathJax && window.MathJax.Hub && window.MathJax.Hub.Config) {window.MathJax.Hub.Config({SVG: {font: \"STIX-Web\"}});}</script>                <script type=\"text/javascript\">window.PlotlyConfig = {MathJaxConfig: 'local'};</script>\n",
              "        <script charset=\"utf-8\" src=\"https://cdn.plot.ly/plotly-2.24.1.min.js\"></script>                <div id=\"891eac95-4362-41f6-81ed-cc9d6c214e97\" class=\"plotly-graph-div\" style=\"height:525px; width:100%;\"></div>            <script type=\"text/javascript\">                                    window.PLOTLYENV=window.PLOTLYENV || {};                                    if (document.getElementById(\"891eac95-4362-41f6-81ed-cc9d6c214e97\")) {                    Plotly.newPlot(                        \"891eac95-4362-41f6-81ed-cc9d6c214e97\",                        [{\"hovertext\":[\"Avatar\",\"Pirates of the Caribbean: At World's End\",\"Spectre\",\"The Dark Knight Rises\",\"John Carter\",\"Spider-Man 3\",\"Tangled\",\"Avengers: Age of Ultron\",\"Harry Potter and the Half-Blood Prince\",\"Batman v Superman: Dawn of Justice\",\"Superman Returns\",\"Quantum of Solace\",\"Pirates of the Caribbean: Dead Man's Chest\",\"The Lone Ranger\",\"Man of Steel\",\"The Chronicles of Narnia: Prince Caspian\",\"The Avengers\",\"Pirates of the Caribbean: On Stranger Tides\",\"Men in Black 3\",\"The Hobbit: The Battle of the Five Armies\",\"The Amazing Spider-Man\",\"Robin Hood\",\"The Hobbit: The Desolation of Smaug\",\"The Golden Compass\",\"King Kong\",\"Titanic\",\"Captain America: Civil War\",\"Battleship\",\"Jurassic World\",\"Skyfall\",\"Spider-Man 2\",\"Iron Man 3\",\"Alice in Wonderland\",\"X-Men: The Last Stand\",\"Monsters University\",\"Transformers: Revenge of the Fallen\",\"Transformers: Age of Extinction\",\"Oz: The Great and Powerful\",\"The Amazing Spider-Man 2\",\"TRON: Legacy\",\"Cars 2\",\"Green Lantern\",\"Toy Story 3\",\"Terminator Salvation\",\"Furious 7\",\"World War Z\",\"X-Men: Days of Future Past\",\"Star Trek Into Darkness\",\"Jack the Giant Slayer\",\"The Great Gatsby\",\"Prince of Persia: The Sands of Time\",\"Pacific Rim\",\"Transformers: Dark of the Moon\",\"Indiana Jones and the Kingdom of the Crystal Skull\",\"The Good Dinosaur\",\"Brave\",\"Star Trek Beyond\",\"WALL\\u00b7E\",\"Rush Hour 3\",\"2012\",\"A Christmas Carol\",\"Jupiter Ascending\",\"The Legend of Tarzan\",\"The Chronicles of Narnia: The Lion, the Witch and the Wardrobe\",\"X-Men: Apocalypse\",\"The Dark Knight\",\"Up\",\"Monsters vs Aliens\",\"Iron Man\",\"Hugo\",\"Wild Wild West\",\"The Mummy: Tomb of the Dragon Emperor\",\"Suicide Squad\",\"Evan Almighty\",\"Edge of Tomorrow\",\"Waterworld\",\"G.I. Joe: The Rise of Cobra\",\"Inside Out\",\"The Jungle Book\",\"Iron Man 2\",\"Snow White and the Huntsman\",\"Maleficent\",\"Dawn of the Planet of the Apes\",\"The Lovers\",\"47 Ronin\",\"Captain America: The Winter Soldier\",\"Shrek Forever After\",\"Tomorrowland\",\"Big Hero 6\",\"Wreck-It Ralph\",\"The Polar Express\",\"Independence Day: Resurgence\",\"How to Train Your Dragon\",\"Terminator 3: Rise of the Machines\",\"Guardians of the Galaxy\",\"Interstellar\",\"Inception\",\"Shin Godzilla\",\"The Hobbit: An Unexpected Journey\",\"The Fast and the Furious\",\"The Curious Case of Benjamin Button\",\"X-Men: First Class\",\"The Hunger Games: Mockingjay - Part 2\",\"The Sorcerer's Apprentice\",\"Poseidon\",\"Alice Through the Looking Glass\",\"Shrek the Third\",\"Warcraft\",\"Terminator Genisys\",\"The Chronicles of Narnia: The Voyage of the Dawn Treader\",\"Pearl Harbor\",\"Transformers\",\"Alexander\",\"Harry Potter and the Order of the Phoenix\",\"Harry Potter and the Goblet of Fire\",\"Hancock\",\"I Am Legend\",\"Charlie and the Chocolate Factory\",\"Ratatouille\",\"Batman Begins\",\"Madagascar: Escape 2 Africa\",\"Night at the Museum: Battle of the Smithsonian\",\"X-Men Origins: Wolverine\",\"The Matrix Revolutions\",\"Frozen\",\"The Matrix Reloaded\",\"Thor: The Dark World\",\"Mad Max: Fury Road\",\"Angels & Demons\",\"Thor\",\"Bolt\",\"G-Force\",\"Wrath of the Titans\",\"Dark Shadows\",\"Mission: Impossible - Rogue Nation\",\"The Wolfman\",\"Bee Movie\",\"Kung Fu Panda 2\",\"The Last Airbender\",\"Mission: Impossible III\",\"White House Down\",\"Mars Needs Moms\",\"Flushed Away\",\"Pan\",\"Mr. Peabody & Sherman\",\"Troy\",\"Madagascar 3: Europe's Most Wanted\",\"Die Another Day\",\"Ghostbusters\",\"Armageddon\",\"Men in Black II\",\"Beowulf\",\"Kung Fu Panda 3\",\"Mission: Impossible - Ghost Protocol\",\"Rise of the Guardians\",\"Fun with Dick and Jane\",\"The Last Samurai\",\"Exodus: Gods and Kings\",\"Star Trek\",\"Spider-Man\",\"How to Train Your Dragon 2\",\"Gods of Egypt\",\"Stealth\",\"Watchmen\",\"Lethal Weapon 4\",\"Hulk\",\"G.I. Joe: Retaliation\",\"Sahara\",\"Final Fantasy: The Spirits Within\",\"Captain America: The First Avenger\",\"The World Is Not Enough\",\"Master and Commander: The Far Side of the World\",\"The Twilight Saga: Breaking Dawn - Part 2\",\"Happy Feet Two\",\"The Incredible Hulk\",\"The BFG\",\"The Revenant\",\"Turbo\",\"Rango\",\"Penguins of Madagascar\",\"The Bourne Ultimatum\",\"Kung Fu Panda\",\"Ant-Man\",\"The Hunger Games: Catching Fire\",\"Home\",\"War of the Worlds\",\"Bad Boys II\",\"Puss in Boots\",\"Salt\",\"Noah\",\"The Adventures of Tintin\",\"Harry Potter and the Prisoner of Azkaban\",\"Australia\",\"After Earth\",\"Dinosaur\",\"Night at the Museum: Secret of the Tomb\",\"Megamind\",\"Harry Potter and the Philosopher's Stone\",\"R.I.P.D.\",\"Pirates of the Caribbean: The Curse of the Black Pearl\",\"The Hunger Games: Mockingjay - Part 1\",\"The Da Vinci Code\",\"Rio 2\",\"X2\",\"Fast Five\",\"Sherlock Holmes: A Game of Shadows\",\"Clash of the Titans\",\"Total Recall\",\"The 13th Warrior\",\"The Bourne Legacy\",\"Batman & Robin\",\"How the Grinch Stole Christmas\",\"The Day After Tomorrow\",\"Mission: Impossible II\",\"The Perfect Storm\",\"Fantastic 4: Rise of the Silver Surfer\",\"Life of Pi\",\"Ghost Rider\",\"Jason Bourne\",\"Charlie's Angels: Full Throttle\",\"Prometheus\",\"Stuart Little 2\",\"Elysium\",\"The Chronicles of Riddick\",\"RoboCop\",\"Speed Racer\",\"How Do You Know\",\"Knight and Day\",\"Oblivion\",\"Star Wars: Episode III - Revenge of the Sith\",\"Star Wars: Episode II - Attack of the Clones\",\"Monsters, Inc.\",\"The Wolverine\",\"Star Wars: Episode I - The Phantom Menace\",\"The Croods\",\"Asterix at the Olympic Games\",\"Windtalkers\",\"The Huntsman: Winter's War\",\"Teenage Mutant Ninja Turtles\",\"Gravity\",\"Dante's Peak\",\"Teenage Mutant Ninja Turtles: Out of the Shadows\",\"Fantastic Four\",\"Night at the Museum\",\"San Andreas\",\"Tomorrow Never Dies\",\"The Patriot\",\"Ocean's Twelve\",\"Mr. & Mrs. Smith\",\"Insurgent\",\"The Aviator\",\"Gulliver's Travels\",\"The Green Hornet\",\"300: Rise of an Empire\",\"The Smurfs\",\"Home on the Range\",\"Allegiant\",\"Real Steel\",\"The Smurfs 2\",\"Speed 2: Cruise Control\",\"Ender's Game\",\"Live Free or Die Hard\",\"The Lord of the Rings: The Fellowship of the Ring\",\"Around the World in 80 Days\",\"Ali\",\"The Cat in the Hat\",\"I, Robot\",\"Kingdom of Heaven\",\"Stuart Little\",\"The Princess and the Frog\",\"The Martian\",\"The Island\",\"Town & Country\",\"Gone in Sixty Seconds\",\"Gladiator\",\"Minority Report\",\"Harry Potter and the Chamber of Secrets\",\"Casino Royale\",\"Planet of the Apes\",\"Terminator 2: Judgment Day\",\"Public Enemies\",\"American Gangster\",\"True Lies\",\"The Taking of Pelham 1 2 3\",\"Little Fockers\",\"The Other Guys\",\"Eraser\",\"Django Unchained\",\"The Hunchback of Notre Dame\",\"The Emperor's New Groove\",\"The Expendables 2\",\"National Treasure\",\"Eragon\",\"Where the Wild Things Are\",\"Epic\",\"The Tourist\",\"End of Days\",\"Blood Diamond\",\"The Wolf of Wall Street\",\"Batman Forever\",\"Starship Troopers\",\"Cloud Atlas\",\"Legend of the Guardians: The Owls of Ga'Hoole\",\"Catwoman\",\"Hercules\",\"Treasure Planet\",\"Land of the Lost\",\"The Expendables 3\",\"Point Break\",\"Son of the Mask\",\"In the Heart of the Sea\",\"The Adventures of Pluto Nash\",\"Green Zone\",\"The Peanuts Movie\",\"The Spanish Prisoner\",\"The Mummy Returns\",\"Gangs of New York\",\"The Flowers of War\",\"Surf's Up\",\"The Stepford Wives\",\"Black Hawk Down\",\"The Campaign\",\"The Fifth Element\",\"Sex and the City 2\",\"The Road to El Dorado\",\"Ice Age: Continental Drift\",\"Cinderella\",\"The Lovely Bones\",\"Finding Nemo\",\"The Lord of the Rings: The Return of the King\",\"The Lord of the Rings: The Two Towers\",\"Seventh Son\",\"Lara Croft: Tomb Raider\",\"Transcendence\",\"Jurassic Park III\",\"Rise of the Planet of the Apes\",\"The Spiderwick Chronicles\",\"A Good Day to Die Hard\",\"The Alamo\",\"The Incredibles\",\"Cutthroat Island\",\"Percy Jackson & the Olympians: The Lightning Thief\",\"Men in Black\",\"Toy Story 2\",\"Unstoppable\",\"Rush Hour 2\",\"What Lies Beneath\",\"Cloudy with a Chance of Meatballs\",\"Ice Age: Dawn of the Dinosaurs\",\"The Secret Life of Walter Mitty\",\"Charlie's Angels\",\"The Departed\",\"Mulan\",\"Tropic Thunder\",\"The Girl with the Dragon Tattoo\",\"Die Hard: With a Vengeance\",\"Sherlock Holmes\",\"Ben-Hur\",\"Atlantis: The Lost Empire\",\"Alvin and the Chipmunks: The Road Chip\",\"Valkyrie\",\"You Don't Mess with the Zohan\",\"Pixels\",\"A.I. Artificial Intelligence\",\"The Haunted Mansion\",\"Contact\",\"Hollow Man\",\"The Interpreter\",\"Percy Jackson: Sea of Monsters\",\"Lara Croft Tomb Raider: The Cradle of Life\",\"Now You See Me 2\",\"The Saint\",\"Spy Game\",\"Mission to Mars\",\"Rio\",\"Bicentennial Man\",\"Volcano\",\"The Devil's Own\",\"K-19: The Widowmaker\",\"Conan the Barbarian\",\"Cinderella Man\",\"The Nutcracker: The Untold Story\",\"Seabiscuit\",\"Twister\",\"Cast Away\",\"Happy Feet\",\"The Bourne Supremacy\",\"Air Force One\",\"Ocean's Eleven\",\"The Three Musketeers\",\"Hotel Transylvania\",\"Enchanted\",\"Safe House\",\"102 Dalmatians\",\"Tower Heist\",\"The Holiday\",\"Enemy of the State\",\"It's Complicated\",\"Ocean's Thirteen\",\"Open Season\",\"Divergent\",\"Enemy at the Gates\",\"The Rundown\",\"Last Action Hero\",\"Memoirs of a Geisha\",\"The Fast and the Furious: Tokyo Drift\",\"Arthur Christmas\",\"Meet Joe Black\",\"Collateral Damage\",\"All That Jazz\",\"Mirror Mirror\",\"Scott Pilgrim vs. the World\",\"The Core\",\"Nutty Professor II: The Klumps\",\"Scooby-Doo\",\"Dredd\",\"Click\",\"Creepshow\",\"Cats & Dogs 2 : The Revenge of Kitty Galore\",\"Jumper\",\"Hellboy II: The Golden Army\",\"Zodiac\",\"The 6th Day\",\"Bruce Almighty\",\"The Expendables\",\"Mission: Impossible\",\"The Hunger Games\",\"The Hangover Part II\",\"Batman Returns\",\"Over the Hedge\",\"Lilo & Stitch\",\"Charlotte's Web\",\"Deep Impact\",\"RED 2\",\"The Longest Yard\",\"Alvin and the Chipmunks: Chipwrecked\",\"Grown Ups 2\",\"Get Smart\",\"Something's Gotta Give\",\"Shutter Island\",\"Four Christmases\",\"Robots\",\"Face\\u002fOff\",\"Bedtime Stories\",\"Road to Perdition\",\"Just Go with It\",\"Con Air\",\"Eagle Eye\",\"Cold Mountain\",\"The Book of Eli\",\"Flubber\",\"The Haunting\",\"Space Jam\",\"The Pink Panther\",\"The Day the Earth Stood Still\",\"Conspiracy Theory\",\"Fury\",\"Six Days Seven Nights\",\"Yogi Bear\",\"Spirit: Stallion of the Cimarron\",\"Zookeeper\",\"Lost in Space\",\"The Manchurian Candidate\",\"D\\u00e9j\\u00e0 Vu\",\"Hotel Transylvania 2\",\"Fantasia 2000\",\"The Time Machine\",\"Mighty Joe Young\",\"Swordfish\",\"The Legend of Zorro\",\"What Dreams May Come\",\"Little Nicky\",\"The Brothers Grimm\",\"Mars Attacks!\",\"Evolution\",\"The Edge\",\"Surrogates\",\"Thirteen Days\",\"Daylight\",\"Walking With Dinosaurs\",\"Battlefield Earth\",\"Looney Tunes: Back in Action\",\"Nine\",\"Timeline\",\"The Postman\",\"Babe: Pig in the City\",\"The Last Witch Hunter\",\"Red Planet\",\"Arthur and the Invisibles\",\"Oceans\",\"A Sound of Thunder\",\"Pompeii\",\"Top Cat Begins\",\"A Beautiful Mind\",\"The Lion King\",\"Journey 2: The Mysterious Island\",\"Cloudy with a Chance of Meatballs 2\",\"Red Dragon\",\"Hidalgo\",\"Jack and Jill\",\"2 Fast 2 Furious\",\"The Little Prince\",\"The Invasion\",\"The Adventures of Rocky & Bullwinkle\",\"The Secret Life of Pets\",\"The League of Extraordinary Gentlemen\",\"Despicable Me 2\",\"Independence Day\",\"The Lost World: Jurassic Park\",\"Madagascar\",\"Children of Men\",\"X-Men\",\"Wanted\",\"The Rock\",\"Ice Age: The Meltdown\",\"50 First Dates\",\"Hairspray\",\"Exorcist: The Beginning\",\"Inspector Gadget\",\"Now You See Me\",\"Grown Ups\",\"The Terminal\",\"Hotel for Dogs\",\"Vertical Limit\",\"Charlie Wilson's War\",\"Shark Tale\",\"Dreamgirls\",\"Be Cool\",\"Munich\",\"Tears of the Sun\",\"Killers\",\"The Man from U.N.C.L.E.\",\"Spanglish\",\"Monster House\",\"Bandits\",\"First Knight\",\"Anna and the King\",\"Immortals\",\"Hostage\",\"Titan A.E.\",\"Hollywood Homicide\",\"Soldier\",\"Carriers\",\"Monkeybone\",\"Flight of the Phoenix\",\"Unbreakable\",\"Minions\",\"Sucker Punch\",\"Snake Eyes\",\"Sphere\",\"The Angry Birds Movie\",\"Fool's Gold\",\"Funny People\",\"The Kingdom\",\"Talladega Nights: The Ballad of Ricky Bobby\",\"Dr. Dolittle 2\",\"Braveheart\",\"Jarhead\",\"The Simpsons Movie\",\"The Majestic\",\"Driven\",\"Two Brothers\",\"The Village\",\"Doctor Dolittle\",\"Signs\",\"Shrek 2\",\"Cars\",\"Runaway Bride\",\"xXx\",\"The SpongeBob Movie: Sponge Out of Water\",\"Ransom\",\"Inglourious Basterds\",\"Hook\",\"Die Hard 2\",\"S.W.A.T.\",\"Vanilla Sky\",\"Lady in the Water\",\"AVP: Alien vs. Predator\",\"Alvin and the Chipmunks: The Squeakquel\",\"We Were Soldiers\",\"Olympus Has Fallen\",\"Star Trek: Insurrection\",\"Battle: Los Angeles\",\"Big Fish\",\"Wolf\",\"War Horse\",\"The Monuments Men\",\"The Abyss\",\"Wall Street: Money Never Sleeps\",\"Dracula Untold\",\"The Siege\",\"Stardust\",\"Seven Years in Tibet\",\"The Dilemma\",\"Bad Company\",\"Doom\",\"I Spy\",\"Underworld: Awakening\",\"Rock of Ages\",\"Hart's War\",\"Killer Elite\",\"Rollerball\",\"Ballistic: Ecks vs. Sever\",\"Hard Rain\",\"Osmosis Jones\",\"Legends of Oz: Dorothy's Return\",\"Blackhat\",\"Sky Captain and the World of Tomorrow\",\"Basic Instinct 2\",\"Escape Plan\",\"The Legend of Hercules\",\"The Sum of All Fears\",\"The Twilight Saga: Eclipse\",\"The Score\",\"Despicable Me\",\"Money Train\",\"Ted 2\",\"Agora\",\"Mystery Men\",\"Hall Pass\",\"The Insider\",\"The Finest Hours\",\"Body of Lies\",\"Dinner for Schmucks\",\"Abraham Lincoln: Vampire Hunter\",\"Entrapment\",\"The X Files\",\"The Last Legion\",\"Saving Private Ryan\",\"Need for Speed\",\"What Women Want\",\"Ice Age\",\"Dreamcatcher\",\"Lincoln\",\"The Matrix\",\"Apollo 13\",\"The Santa Clause 2\",\"Les Mis\\u00e9rables\",\"You've Got Mail\",\"Step Brothers\",\"The Mask of Zorro\",\"Due Date\",\"Unbroken\",\"Space Cowboys\",\"Cliffhanger\",\"Broken Arrow\",\"The Kid\",\"World Trade Center\",\"Mona Lisa Smile\",\"The Dictator\",\"Eyes Wide Shut\",\"Annie\",\"Focus\",\"This Means War\",\"Blade: Trinity\",\"Red Dawn\",\"Primary Colors\",\"Resident Evil: Retribution\",\"Death Race\",\"The Long Kiss Goodnight\",\"Proof of Life\",\"Zathura: A Space Adventure\",\"Fight Club\",\"We Are Marshall\",\"Hudson Hawk\",\"Lucky Numbers\",\"I, Frankenstein\",\"Oliver Twist\",\"Elektra\",\"Sin City: A Dame to Kill For\",\"Random Hearts\",\"Everest\",\"Perfume: The Story of a Murderer\",\"Austin Powers in Goldmember\",\"Astro Boy\",\"Jurassic Park\",\"Wyatt Earp\",\"Clear and Present Danger\",\"Dragon Blade\",\"Little Man\",\"U-571\",\"The American President\",\"The Love Guru\",\"3000 Miles to Graceland\",\"The Hateful Eight\",\"Blades of Glory\",\"Hop\",\"300\",\"Meet the Fockers\",\"Marley & Me\",\"The Green Mile\",\"Wild Hogs\",\"Chicken Little\",\"Gone Girl\",\"The Bourne Identity\",\"GoldenEye\",\"The General's Daughter\",\"The Truman Show\",\"The Prince of Egypt\",\"Daddy Day Care\",\"2 Guns\",\"Cats & Dogs\",\"The Italian Job\",\"Two Weeks Notice\",\"Antz\",\"Couples Retreat\",\"Days of Thunder\",\"Cheaper by the Dozen 2\",\"Maze Runner: The Scorch Trials\",\"Eat Pray Love\",\"The Family Man\",\"RED\",\"Any Given Sunday\",\"The Horse Whisperer\",\"Collateral\",\"The Scorpion King\",\"Ladder 49\",\"Jack Reacher\",\"Deep Blue Sea\",\"This Is It\",\"Contagion\",\"Kangaroo Jack\",\"Coraline\",\"The Happening\",\"Man on Fire\",\"The Shaggy Dog\",\"Starsky & Hutch\",\"Jingle All the Way\",\"Hellboy\",\"A Civil Action\",\"ParaNorman\",\"The Jackal\",\"Paycheck\",\"Up Close & Personal\",\"The Tale of Despereaux\",\"The Tuxedo\",\"Under Siege 2: Dark Territory\",\"Jack Ryan: Shadow Recruit\",\"Joy\",\"London Has Fallen\",\"Alien: Resurrection\",\"Shooter\",\"The Boxtrolls\",\"Practical Magic\",\"The Lego Movie\",\"Miss Congeniality 2: Armed and Fabulous\",\"Reign of Fire\",\"Gangster Squad\",\"Year One\",\"Invictus\",\"State of Play\",\"Duplicity\",\"My Favorite Martian\",\"The Sentinel\",\"Planet 51\",\"Star Trek: Nemesis\",\"Intolerable Cruelty\",\"Trouble with the Curve\",\"Edge of Darkness\",\"The Relic\",\"Analyze That\",\"Righteous Kill\",\"Mercury Rising\",\"The Soloist\",\"The Legend of Bagger Vance\",\"Almost Famous\",\"Garfield: A Tail of Two Kitties\",\"xXx: State of the Union\",\"Priest\",\"Sinbad: Legend of the Seven Seas\",\"Event Horizon\",\"Dragonfly\",\"The Black Dahlia\",\"Flyboys\",\"The Last Castle\",\"Supernova\",\"Winter's Tale\",\"The Mortal Instruments: City of Bones\",\"Meet Dave\",\"Dark Water\",\"Edtv\",\"Inkheart\",\"The Spirit\",\"Mortdecai\",\"In the Name of the King: A Dungeon Siege Tale\",\"Beyond Borders\",\"The Monkey King 2\",\"The Great Raid\",\"Deadpool\",\"Holy Man\",\"American Sniper\",\"Goosebumps\",\"Just Like Heaven\",\"The Flintstones in Viva Rock Vegas\",\"Rambo III\",\"Leatherheads\",\"The Ridiculous 6\",\"Did You Hear About the Morgans?\",\"The Internship\",\"Resident Evil: Afterlife\",\"Red Tails\",\"The Devil's Advocate\",\"That's My Boy\",\"DragonHeart\",\"After the Sunset\",\"Ghost Rider: Spirit of Vengeance\",\"Captain Corelli's Mandolin\",\"The Pacifier\",\"Walking Tall\",\"Forrest Gump\",\"Alvin and the Chipmunks\",\"Meet the Parents\",\"Pocahontas\",\"Superman\",\"The Nutty Professor\",\"Hitch\",\"George of the Jungle\",\"American Wedding\",\"Captain Phillips\",\"Date Night\",\"Casper\",\"The Equalizer\",\"Maid in Manhattan\",\"Crimson Tide\",\"The Pursuit of Happyness\",\"Flightplan\",\"Disclosure\",\"City of Angels\",\"Kill Bill: Vol. 1\",\"Bowfinger\",\"Kill Bill: Vol. 2\",\"Tango & Cash\",\"Death Becomes Her\",\"Shanghai Noon\",\"Executive Decision\",\"Mr. Popper's Penguins\",\"The Forbidden Kingdom\",\"Free Birds\",\"Alien\\u00b3\",\"Evita\",\"Ronin\",\"The Ghost and the Darkness\",\"Paddington\",\"The Watch\",\"The Hunted\",\"Instinct\",\"Stuck on You\",\"Semi-Pro\",\"The Pirates! In an Adventure with Scientists!\",\"Changeling\",\"Chain Reaction\",\"The Fan\",\"The Phantom of the Opera\",\"Elizabeth: The Golden Age\",\"\\u00c6on Flux\",\"Gods and Generals\",\"Turbulence\",\"Imagine That\",\"Muppets Most Wanted\",\"Thunderbirds\",\"Burlesque\",\"A Very Long Engagement\",\"Lolita\",\"D-Tox\",\"Blade II\",\"Seven Pounds\",\"Bullet to the Head\",\"The Godfather: Part III\",\"Elizabethtown\",\"You, Me and Dupree\",\"Superman II\",\"Gigli\",\"All the King's Men\",\"Shaft\",\"Anastasia\",\"Moulin Rouge!\",\"Domestic Disturbance\",\"Black Mass\",\"Flags of Our Fathers\",\"Law Abiding Citizen\",\"Grindhouse\",\"Beloved\",\"Lucky You\",\"Catch Me If You Can\",\"Zero Dark Thirty\",\"The Break-Up\",\"Mamma Mia!\",\"Valentine's Day\",\"The Dukes of Hazzard\",\"The Thin Red Line\",\"The Change-Up\",\"Man on the Moon\",\"Casino\",\"From Paris with Love\",\"Bulletproof Monk\",\"Me, Myself & Irene\",\"Barnyard\",\"Deck the Halls\",\"The Twilight Saga: New Moon\",\"Shrek\",\"The Adjustment Bureau\",\"Robin Hood: Prince of Thieves\",\"Jerry Maguire\",\"Ted\",\"As Good as It Gets\",\"Patch Adams\",\"Anchorman 2: The Legend Continues\",\"Mr. Deeds\",\"Super 8\",\"Erin Brockovich\",\"How to Lose a Guy in 10 Days\",\"22 Jump Street\",\"Interview with the Vampire\",\"Yes Man\",\"Central Intelligence\",\"Stepmom\",\"Daddy's Home\",\"Into the Woods\",\"Inside Man\",\"Payback\",\"Congo\",\"We Bought a Zoo\",\"Knowing\",\"Failure to Launch\",\"The Ring Two\",\"Crazy, Stupid, Love.\",\"Garfield\",\"Christmas with the Kranks\",\"Moneyball\",\"Outbreak\",\"Non-Stop\",\"Race to Witch Mountain\",\"V for Vendetta\",\"Shanghai Knights\",\"Curious George\",\"Herbie Fully Loaded\",\"Don't Say a Word\",\"Hansel & Gretel: Witch Hunters\",\"Unfaithful\",\"I Am Number Four\",\"Syriana\",\"13 Hours: The Secret Soldiers of Benghazi\",\"The Book of Life\",\"Firewall\",\"Absolute Power\",\"G.I. Jane\",\"The Game\",\"Silent Hill\",\"The Replacements\",\"American Reunion\",\"The Negotiator\",\"Into the Storm\",\"Beverly Hills Cop III\",\"Gremlins 2: The New Batch\",\"The Judge\",\"The Peacemaker\",\"Resident Evil: Apocalypse\",\"Bridget Jones: The Edge of Reason\",\"Out of Time\",\"On Deadly Ground\",\"The Adventures of Sharkboy and Lavagirl\",\"The Beach\",\"Raising Helen\",\"Ninja Assassin\",\"For Love of the Game\",\"Striptease\",\"Marmaduke\",\"Hereafter\",\"Murder by Numbers\",\"Assassins\",\"Hannibal Rising\",\"The Story of Us\",\"The Host\",\"Basic\",\"Blood Work\",\"The International\",\"Escape from L.A.\",\"The Iron Giant\",\"The Life Aquatic with Steve Zissou\",\"Free State of Jones\",\"The Life of David Gale\",\"Man of the House\",\"Run All Night\",\"Eastern Promises\",\"Into the Blue\",\"The Messenger: The Story of Joan of Arc\",\"Your Highness\",\"Dream House\",\"Mad City\",\"Baby's Day Out\",\"The Scarlet Letter\",\"Fair Game\",\"Domino\",\"Jade\",\"Gamer\",\"Beautiful Creatures\",\"Death to Smoochy\",\"Zoolander 2\",\"The Big Bounce\",\"What Planet Are You From?\",\"Drive Angry\",\"Street Fighter: The Legend of Chun-Li\",\"The One\",\"The Adventures of Ford Fairlane\",\"The Boat That Rocked\",\"Traffic\",\"Indiana Jones and the Last Crusade\",\"Anna Karenina\",\"Chappie\",\"The Bone Collector\",\"Panic Room\",\"The Tooth Fairy\",\"Three Kings\",\"Child 44\",\"Rat Race\",\"K-PAX\",\"Kate & Leopold\",\"Bedazzled\",\"The Cotton Club\",\"3:10 to Yuma\",\"Taken 3\",\"Out of Sight\",\"The Cable Guy\",\"Earth\",\"Dick Tracy\",\"The Thomas Crown Affair\",\"Riding in Cars with Boys\",\"First Blood\",\"Solaris\",\"Happily N'Ever After\",\"Mary Reilly\",\"My Best Friend's Wedding\",\"America's Sweethearts\",\"Insomnia\",\"Star Trek: First Contact\",\"Jonah Hex\",\"Courage Under Fire\",\"Liar Liar\",\"The Infiltrator\",\"Inchon\",\"The Flintstones\",\"Taken 2\",\"Scary Movie 3\",\"Miss Congeniality\",\"Journey to the Center of the Earth\",\"The Princess Diaries 2: Royal Engagement\",\"The Pelican Brief\",\"The Client\",\"The Bucket List\",\"Patriot Games\",\"Monster-in-Law\",\"Prisoners\",\"Training Day\",\"Galaxy Quest\",\"Scary Movie 2\",\"The Muppets\",\"Blade\",\"Coach Carter\",\"Changing Lanes\",\"Anaconda\",\"Coyote Ugly\",\"Love Actually\",\"A Bug's Life\",\"From Hell\",\"The Specialist\",\"Tin Cup\",\"Yours, Mine and Ours\",\"Kicking & Screaming\",\"The Hitchhiker's Guide to the Galaxy\",\"Fat Albert\",\"Resident Evil: Extinction\",\"Blended\",\"Last Holiday\",\"The River Wild\",\"The Indian in the Cupboard\",\"Savages\",\"Cellular\",\"Johnny English\",\"The Ant Bully\",\"Dune\",\"Across the Universe\",\"Revolutionary Road\",\"16 Blocks\",\"Babylon A.D.\",\"The Glimmer Man\",\"Multiplicity\",\"Aliens in the Attic\",\"The Pledge\",\"The Producers\",\"The Phantom\",\"All the Pretty Horses\",\"Nixon\",\"The Ghost Writer\",\"Deep Rising\",\"Miracle at St. Anna\",\"Curse of the Golden Flower\",\"Bangkok Dangerous\",\"Big Trouble\",\"Love in the Time of Cholera\",\"Shadow Conspiracy\",\"Johnny English Reborn\",\"Foodfight!\",\"Argo\",\"The Fugitive\",\"The Bounty Hunter\",\"Sleepers\",\"Rambo: First Blood Part II\",\"The Juror\",\"Pinocchio\",\"Heaven's Gate\",\"Underworld: Evolution\",\"Victor Frankenstein\",\"Finding Forrester\",\"28 Days\",\"Unleashed\",\"The Sweetest Thing\",\"The Firm\",\"Charlie St. Cloud\",\"The Mechanic\",\"21 Jump Street\",\"Notting Hill\",\"Chicken Run\",\"Along Came Polly\",\"Boomerang\",\"The Heat\",\"Cleopatra\",\"Here Comes the Boom\",\"High Crimes\",\"The Mirror Has Two Faces\",\"The Mothman Prophecies\",\"Br\\u00fcno\",\"Licence to Kill\",\"Red Riding Hood\",\"15 Minutes\",\"Super Mario Bros.\",\"Lord of War\",\"Hero\",\"One for the Money\",\"The Interview\",\"The Warrior's Way\",\"Micmacs\",\"8 Mile\",\"Why I Did (Not) Eat My Father\",\"A Knight's Tale\",\"The Medallion\",\"The Sixth Sense\",\"Man on a Ledge\",\"The Big Year\",\"The Karate Kid\",\"American Hustle\",\"The Proposal\",\"Double Jeopardy\",\"Back to the Future Part II\",\"Lucy\",\"Fifty Shades of Grey\",\"Spy Kids 3-D: Game Over\",\"A Time to Kill\",\"Cheaper by the Dozen\",\"Lone Survivor\",\"A League of Their Own\",\"The Conjuring 2\",\"The Social Network\",\"He's Just Not That Into You\",\"Scary Movie 4\",\"Scream 3\",\"Back to the Future Part III\",\"Get Hard\",\"Dracula\",\"Julie & Julia\",\"42\",\"The Talented Mr. Ripley\",\"Dumb and Dumber To\",\"Eight Below\",\"The Intern\",\"Ride Along 2\",\"The Last of the Mohicans\",\"Ray\",\"Sin City\",\"Vantage Point\",\"I Love You, Man\",\"Shallow Hal\",\"JFK\",\"Big Momma's House 2\",\"The Mexican\",\"17 Again\",\"The Other Woman\",\"The Final Destination\",\"Bridge of Spies\",\"Behind Enemy Lines\",\"Get Him to the Greek\",\"Shall We Dance?\",\"Small Soldiers\",\"Spawn\",\"The Count of Monte Cristo\",\"The Lincoln Lawyer\",\"Unknown\",\"The Prestige\",\"Horrible Bosses 2\",\"Escape from Planet Earth\",\"Apocalypto\",\"The Living Daylights\",\"Predators\",\"Legal Eagles\",\"Secret Window\",\"The Lake House\",\"The Skeleton Key\",\"The Odd Life of Timothy Green\",\"Made of Honor\",\"Jersey Boys\",\"The Rainmaker\",\"Gothika\",\"Amistad\",\"Medicine Man\",\"Aliens vs Predator: Requiem\",\"Ri\\u00a2hie Ri\\u00a2h\",\"Autumn in New York\",\"Music and Lyrics\",\"Paul\",\"The Guilt Trip\",\"Scream 4\",\"8MM\",\"The Doors\",\"Sex Tape\",\"Hanging Up\",\"Final Destination 5\",\"Mickey Blue Eyes\",\"Pay It Forward\",\"Fever Pitch\",\"Drillbit Taylor\",\"A Million Ways to Die in the West\",\"The Shadow\",\"Extremely Loud & Incredibly Close\",\"Morning Glory\",\"Get Rich or Die Tryin'\",\"The Art of War\",\"Rent\",\"Bless the Child\",\"The Out-of-Towners\",\"The Island of Dr. Moreau\",\"The Musketeer\",\"The Other Boleyn Girl\",\"Sweet November\",\"The Reaping\",\"Mean Streets\",\"Renaissance Man\",\"Colombiana\",\"Quest for Camelot\",\"City By The Sea\",\"At First Sight\",\"Torque\",\"City Hall\",\"Showgirls\",\"Marie Antoinette\",\"Kiss of Death\",\"Get Carter\",\"The Impossible\",\"Ishtar\",\"Fantastic Mr. Fox\",\"Life or Something Like It\",\"Memoirs of an Invisible Man\",\"Am\\u00e9lie\",\"New York Minute\",\"Alfie\",\"Big Miracle\",\"The Deep End of the Ocean\",\"FearDotCom\",\"Cirque du Freak: The Vampire's Assistant\",\"Duplex\",\"Soul Men\",\"Raise the Titanic\",\"Universal Soldier: The Return\",\"Pandorum\",\"Impostor\",\"Extreme Ops\",\"Just Visiting\",\"Sunshine\",\"A Thousand Words\",\"Delgo\",\"The Gunman\",\"Stormbreaker\",\"Disturbia\",\"Hackers\",\"The Hunting Party\",\"The Hudsucker Proxy\",\"The Warlords\",\"Nomad: The Warrior\",\"Snowpiercer\",\"A Monster in Paris\",\"The Last Shot\",\"The Crow\",\"Baahubali: The Beginning\",\"The Time Traveler's Wife\",\"Because I Said So\",\"Frankenweenie\",\"Serenity\",\"Against the Ropes\",\"Superman III\",\"Grudge Match\",\"Red Cliff\",\"Sweet Home Alabama\",\"The Ugly Truth\",\"Sgt. Bilko\",\"Spy Kids 2: The Island of Lost Dreams\",\"Star Trek: Generations\",\"The Grandmaster\",\"Water for Elephants\",\"Dragon Nest: Warriors' Dawn\",\"The Hurricane\",\"Enough\",\"Heartbreakers\",\"Paul Blart: Mall Cop 2\",\"Angel Eyes\",\"Joe Somebody\",\"The Ninth Gate\",\"Extreme Measures\",\"Rock Star\",\"Precious\",\"White Squall\",\"The Thing\",\"Riddick\",\"Switchback\",\"Texas Rangers\",\"City of Ember\",\"The Master\",\"Virgin Territory\",\"The Express\",\"The 5th Wave\",\"Creed\",\"The Town\",\"What to Expect When You're Expecting\",\"Burn After Reading\",\"Nim's Island\",\"Rush\",\"Magnolia\",\"Cop Out\",\"How to Be Single\",\"Dolphin Tale\",\"Twilight\",\"John Q\",\"Blue Streak\",\"We're the Millers\",\"The Inhabited Island\",\"Breakdown\",\"Never Say Never Again\",\"Hot Tub Time Machine\",\"Dolphin Tale 2\",\"Reindeer Games\",\"A Man Apart\",\"Aloha\",\"Ghosts of Mississippi\",\"Snow Falling on Cedars\",\"The Rite\",\"Gattaca\",\"Isn't She Great\",\"Space Chimps\",\"Head of State\",\"The Hangover\",\"Ip Man 3\",\"Austin Powers: The Spy Who Shagged Me\",\"Batman\",\"There Be Dragons\",\"Lethal Weapon 3\",\"The Blind Side\",\"Spy Kids\",\"Horrible Bosses\",\"True Grit\",\"The Devil Wears Prada\",\"Star Trek: The Motion Picture\",\"Identity Thief\",\"Cape Fear\",\"21\",\"Trainwreck\",\"Guess Who\",\"The English Patient\",\"L.A. Confidential\",\"Sky High\",\"In & Out\",\"Species\",\"A Nightmare on Elm Street\",\"The Cell\",\"The Man in the Iron Mask\",\"Secretariat\",\"TMNT\",\"Radio\",\"Friends with Benefits\",\"Neighbors 2: Sorority Rising\",\"Saving Mr. Banks\",\"Malcolm X\",\"This Is 40\",\"Old Dogs\",\"Underworld: Rise of the Lycans\",\"License to Wed\",\"The Benchwarmers\",\"Must Love Dogs\",\"Donnie Brasco\",\"Resident Evil\",\"Poltergeist\",\"The Ladykillers\",\"Max Payne\",\"In Time\",\"The Back-Up Plan\",\"Something Borrowed\",\"Black Knight\",\"The Bad News Bears\",\"Street Fighter\",\"The Pianist\",\"The Nativity Story\",\"House of Wax\",\"Closer\",\"J. Edgar\",\"Mirrors\",\"Queen of the Damned\",\"Predator 2\",\"Untraceable\",\"Blast from the Past\",\"Flash Gordon\",\"Jersey Girl\",\"Alex Cross\",\"Midnight in the Garden of Good and Evil\",\"Heist\",\"Nanny McPhee and the Big Bang\",\"Hoffa\",\"The X Files: I Want to Believe\",\"Ella Enchanted\",\"Concussion\",\"Abduction\",\"Valiant\",\"Wonder Boys\",\"Superhero Movie\",\"Broken City\",\"Cursed\",\"Premium Rush\",\"Hot Pursuit\",\"The Four Feathers\",\"Parker\",\"Wimbledon\",\"Furry Vengeance\",\"Bait\",\"Krull\",\"Lions for Lambs\",\"Flight of the Intruder\",\"Walk Hard: The Dewey Cox Story\",\"The Shipping News\",\"American Outlaws\",\"The Young Victoria\",\"Whiteout\",\"The Tree of Life\",\"Knock Off\",\"Sabotage\",\"The Order\",\"Punisher: War Zone\",\"Zoom\",\"The Walk\",\"Warriors of Virtue\",\"A Good Year\",\"Radio Flyer\",\"Bound by Honor\",\"Smilla's Sense of Snow\",\"Femme Fatale\",\"Lion of the Desert\",\"The Horseman on the Roof\",\"Ride with the Devil\",\"Biutiful\",\"Bandidas\",\"Black Water Transit\",\"The Maze Runner\",\"Unfinished Business\",\"The Age of Innocence\",\"The Fountain\",\"Chill Factor\",\"Stolen\",\"Ponyo\",\"The Longest Ride\",\"The Astronaut's Wife\",\"I Dreamed of Africa\",\"Playing for Keeps\",\"Mandela: Long Walk to Freedom\",\"Reds\",\"A Few Good Men\",\"Exit Wounds\",\"Big Momma's House\",\"Thunder and the House of Magic\",\"The Darkest Hour\",\"Step Up Revolution\",\"Snakes on a Plane\",\"The Watcher\",\"The Punisher\",\"Goal!: The Dream Begins\",\"Safe\",\"Pushing Tin\",\"Return of the Jedi\",\"Doomsday\",\"The Reader\",\"Wanderlust\",\"Elf\",\"Phenomenon\",\"Snow Dogs\",\"Scrooged\",\"Nacho Libre\",\"Bridesmaids\",\"This Is the End\",\"Stigmata\",\"Men of Honor\",\"Takers\",\"The Big Wedding\",\"Big Mommas: Like Father, Like Son\",\"Source Code\",\"Alive\",\"The Number 23\",\"The Young and Prodigious T.S. Spivet\",\"1941\",\"Dreamer: Inspired By a True Story\",\"A History of Violence\",\"Transporter 2\",\"The Quick and the Dead\",\"Laws of Attraction\",\"Bringing Out the Dead\",\"Repo Men\",\"Dragon Wars: D-War\",\"Bogus\",\"The Incredible Burt Wonderstone\",\"Cats Don't Dance\",\"Cradle Will Rock\",\"The Good German\",\"George and the Dragon\",\"Apocalypse Now\",\"Going the Distance\",\"Mr. Holland's Opus\",\"Criminal\",\"Out of Africa\",\"Flight\",\"Moonraker\",\"The Grand Budapest Hotel\",\"Hearts in Atlantis\",\"Arachnophobia\",\"Frequency\",\"Vacation\",\"Get Shorty\",\"Chicago\",\"Big Daddy\",\"American Pie 2\",\"Toy Story\",\"Speed\",\"The Vow\",\"Extraordinary Measures\",\"Remember the Titans\",\"The Hunt for Red October\",\"The Butler\",\"DodgeBall: A True Underdog Story\",\"The Addams Family\",\"Ace Ventura: When Nature Calls\",\"The Princess Diaries\",\"The First Wives Club\",\"Se7en\",\"District 9\",\"The SpongeBob SquarePants Movie\",\"Mystic River\",\"Million Dollar Baby\",\"Analyze This\",\"The Notebook\",\"27 Dresses\",\"Hannah Montana: The Movie\",\"Rugrats in Paris: The Movie\",\"The Prince of Tides\",\"Legends of the Fall\",\"Up in the Air\",\"About Schmidt\",\"Warm Bodies\",\"Looper\",\"Down to Earth\",\"Babe\",\"Hope Springs\",\"Forgetting Sarah Marshall\",\"Four Brothers\",\"Baby Mama\",\"Hope Floats\",\"Bride Wars\",\"Without a Paddle\",\"13 Going on 30\",\"Midnight in Paris\",\"The Nut Job\",\"Blow\",\"Message in a Bottle\",\"Star Trek V: The Final Frontier\",\"Like Mike\",\"The Naked Gun 33\\u2153: The Final Insult\",\"A View to a Kill\",\"The Curse of the Were-Rabbit\",\"P.S. I Love You\",\"Racing Stripes\",\"Atonement\",\"Letters to Juliet\",\"Black Rain\",\"The Three Stooges\",\"Corpse Bride\",\"Glory Road\",\"Sicario\",\"Southpaw\",\"Drag Me to Hell\",\"The Age of Adaline\",\"Secondhand Lions\",\"Step Up 3D\",\"Blue Crush\",\"Stranger Than Fiction\",\"30 Days of Night\",\"The Cabin in the Woods\",\"Meet the Spartans\",\"Midnight Run\",\"The Running Man\",\"Little Shop of Horrors\",\"Hanna\",\"Mortal Kombat: Annihilation\",\"Larry Crowne\",\"Carrie\",\"Take the Lead\",\"Gridiron Gang\",\"What's the Worst That Could Happen?\",\"9\",\"Side Effects\",\"The Prince & Me\",\"Winnie the Pooh\",\"Dumb and Dumberer: When Harry Met Lloyd\",\"Bulworth\",\"Get on Up\",\"One True Thing\",\"Virtuosity\",\"My Super Ex-Girlfriend\",\"Deliver Us from Evil\",\"Sanctum\",\"Little Black Book\",\"The Five-Year Engagement\",\"Mr. 3000\",\"The Next Three Days\",\"Ultraviolet\",\"Assault on Precinct 13\",\"The Replacement Killers\",\"Fled\",\"Eight Legged Freaks\",\"Love & Other Drugs\",\"88 Minutes\",\"North Country\",\"The Whole Ten Yards\",\"Splice\",\"Howard the Duck\",\"Pride and Glory\",\"The Cave\",\"Alex & Emma\",\"Wicker Park\",\"Fright Night\",\"The New World\",\"Wing Commander\",\"In Dreams\",\"Dragonball Evolution\",\"The Last Stand\",\"Godsend\",\"Chasing Liberty\",\"Hoodwinked Too! Hood VS. Evil\",\"An Unfinished Life\",\"The Imaginarium of Doctor Parnassus\",\"Barney's Version\",\"Runner Runner\",\"Antitrust\",\"Glory\",\"Once Upon a Time in America\",\"Dead Man Down\",\"The Merchant of Venice\",\"The Good Thief\",\"Supercross\",\"Miss Potter\",\"The Promise\",\"DOA: Dead or Alive\",\"The Assassination of Jesse James by the Coward Robert Ford\",\"1911\",\"Little Nicholas\",\"Wild Card\",\"Machine Gun Preacher\",\"Animals United\",\"Goodbye Bafana\",\"United Passions\",\"Grace of Monaco\",\"Savva. Heart of the Warrior\",\"Ripley's Game\",\"Sausage Party\",\"Pitch Perfect 2\",\"Walk the Line\",\"Keeping the Faith\",\"The Borrowers\",\"Frost\\u002fNixon\",\"Confessions of a Dangerous Mind\",\"Serving Sara\",\"The Boss\",\"Cry Freedom\",\"Mumford\",\"Seed of Chucky\",\"The Jacket\",\"Aladdin\",\"Straight Outta Compton\",\"Indiana Jones and the Temple of Doom\",\"The Rugrats Movie\",\"Along Came a Spider\",\"Florence Foster Jenkins\",\"Once Upon a Time in Mexico\",\"Die Hard\",\"Role Models\",\"The Big Short\",\"Taking Woodstock\",\"Miracle\",\"Dawn of the Dead\",\"The Wedding Planner\",\"Space Pirate Captain Harlock\",\"The Royal Tenenbaums\",\"Identity\",\"Last Vegas\",\"For Your Eyes Only\",\"Serendipity\",\"Timecop\",\"Zoolander\",\"Safe Haven\",\"Hocus Pocus\",\"No Reservations\",\"Kick-Ass\",\"30 Minutes or Less\",\"Dracula 2000\",\"Alexander and the Terrible, Horrible, No Good, Very Bad Day\",\"Pride & Prejudice\",\"Blade Runner\",\"Rob Roy\",\"3 Days to Kill\",\"We Own the Night\",\"Lost Souls\",\"Winged Migration\",\"Just My Luck\",\"Mystery, Alaska\",\"The Spy Next Door\",\"A Simple Wish\",\"Ghosts of Mars\",\"Our Brand Is Crisis\",\"Pride and Prejudice and Zombies\",\"Kundun\",\"How to Lose Friends & Alienate People\",\"Kick-Ass 2\",\"Alatriste\",\"Brick Mansions\",\"Octopussy\",\"Knocked Up\",\"My Sister's Keeper\",\"Welcome Home Roscoe Jenkins\",\"A Passage to India\",\"Notes on a Scandal\",\"Rendition\",\"Star Trek VI: The Undiscovered Country\",\"Divine Secrets of the Ya-Ya Sisterhood\",\"Kiss the Girls\",\"The Blues Brothers\",\"The Sisterhood of the Traveling Pants 2\",\"Joyful Noise\",\"About a Boy\",\"Lake Placid\",\"Lucky Number Slevin\",\"The Right Stuff\",\"Anonymous\",\"The NeverEnding Story\",\"Dark City\",\"The Duchess\",\"Return to Oz\",\"The Newton Boys\",\"Case 39\",\"Suspect Zero\",\"Martian Child\",\"Spy Kids: All the Time in the World\",\"Money Monster\",\"The 51st State\",\"Flawless\",\"Mindhunters\",\"What Just Happened\",\"The Statement\",\"The Magic Flute\",\"Paul Blart: Mall Cop\",\"Freaky Friday\",\"The 40 Year Old Virgin\",\"Shakespeare in Love\",\"A Walk Among the Tombstones\",\"Kindergarten Cop\",\"Pineapple Express\",\"Ever After: A Cinderella Story\",\"Open Range\",\"Flatliners\",\"A Bridge Too Far\",\"Red Eye\",\"Final Destination 2\",\"O Brother, Where Art Thou?\",\"Legion\",\"Pain & Gain\",\"In Good Company\",\"Clockstoppers\",\"Silverado\",\"Brothers\",\"Agent Cody Banks 2: Destination London\",\"New Year's Eve\",\"Original Sin\",\"The Raven\",\"Welcome to Mooseport\",\"Highlander: The Final Dimension\",\"Blood and Wine\",\"Snow White: A Tale of Terror\",\"The Curse of the Jade Scorpion\",\"Accidental Love\",\"Flipper\",\"Self\\u002fless\",\"The Constant Gardener\",\"The Passion of the Christ\",\"Mrs. Doubtfire\",\"Rain Man\",\"Gran Torino\",\"W.\",\"Taken\",\"The Best of Me\",\"The Bodyguard\",\"Schindler's List\",\"The Help\",\"The Fifth Estate\",\"Scooby-Doo 2: Monsters Unleashed\",\"Forbidden Kingdom\",\"Freddy vs. Jason\",\"The Face of an Angel\",\"Jimmy Neutron: Boy Genius\",\"Cloverfield\",\"Teenage Mutant Ninja Turtles II: The Secret of the Ooze\",\"The Untouchables\",\"No Country for Old Men\",\"Ride Along\",\"Bridget Jones's Diary\",\"Chocolat\",\"Legally Blonde 2: Red, White & Blonde\",\"Parental Guidance\",\"No Strings Attached\",\"Tombstone\",\"Romeo Must Die\",\"The Omen\",\"Final Destination 3\",\"The Lucky One\",\"Bridge to Terabithia\",\"Finding Neverland\",\"A Madea Christmas\",\"The Grey\",\"Hide and Seek\",\"Anchorman: The Legend of Ron Burgundy\",\"GoodFellas\",\"Agent Cody Banks\",\"Nanny McPhee\",\"Scarface\",\"Nothing to Lose\",\"The Last Emperor\",\"Contraband\",\"Money Talks\",\"There Will Be Blood\",\"The Wild Thornberrys Movie\",\"Rugrats Go Wild\",\"Undercover Brother\",\"The Sisterhood of the Traveling Pants\",\"Kiss of the Dragon\",\"The House Bunny\",\"Beauty Shop\",\"Million Dollar Arm\",\"The Giver\",\"What a Girl Wants\",\"Jeepers Creepers 2\",\"Good Luck Chuck\",\"Cradle 2 the Grave\",\"The Hours\",\"She's the Man\",\"Mr. Bean's Holiday\",\"Anacondas: The Hunt for the Blood Orchid\",\"Blood Ties\",\"August Rush\",\"Elizabeth\",\"Bride of Chucky\",\"Tora! Tora! Tora!\",\"Spice World\",\"The Sitter\",\"Dance Flick\",\"The Shawshank Redemption\",\"Crocodile Dundee in Los Angeles\",\"Kingpin\",\"The Gambler\",\"August: Osage County\",\"Ice Princess\",\"A Lot Like Love\",\"Eddie the Eagle\",\"He Got Game\",\"Don Juan DeMarco\",\"Dear John\",\"The Losers\",\"Don't Be Afraid of the Dark\",\"War\",\"Punch-Drunk Love\",\"EuroTrip\",\"Half Past Dead\",\"Unaccompanied Minors\",\"Bright Lights, Big City\",\"The Adventures of Pinocchio\",\"The Greatest Game Ever Played\",\"The Box\",\"The Ruins\",\"The Next Best Thing\",\"My Soul to Take\",\"The Girl Next Door\",\"Maximum Risk\",\"Stealing Harvard\",\"Legend\",\"Hot Rod\",\"Shark Night\",\"Angela's Ashes\",\"Draft Day\",\"Lifeforce\",\"The Conspirator\",\"Lords of Dogtown\",\"The 33\",\"Big Trouble in Little China\",\"Fly Me to the Moon\",\"Warrior\",\"Michael Collins\",\"Gettysburg\",\"Stop-Loss\",\"Abandon\",\"Brokedown Palace\",\"The Possession\",\"Mrs. Winterbourne\",\"Straw Dogs\",\"The Hoax\",\"Stone Cold\",\"The Road\",\"Sheena\",\"Underclassman\",\"Say It Isn't So\",\"The World's Fastest Indian\",\"Tank Girl\",\"King's Ransom\",\"Blindness\",\"BloodRayne\",\"Carnage\",\"Where the Truth Lies\",\"Cirque du Soleil: Worlds Away\",\"Without Limits\",\"Me and Orson Welles\",\"The Best Offer\",\"The Bad Lieutenant: Port of Call - New Orleans\",\"A Turtle's Tale: Sammy's Adventures\",\"Little White Lies\",\"Love Ranch\",\"The True Story of Puss 'n Boots\",\"Space Dogs\",\"The Counselor\",\"Ironclad\",\"Waterloo\",\"Kung Fu Jungle\",\"Red Sky\",\"Dangerous Liaisons\",\"On the Road\",\"Star Trek IV: The Voyage Home\",\"Rocky Balboa\",\"Scream 2\",\"Jane Got a Gun\",\"Think Like a Man Too\",\"The Whole Nine Yards\",\"Footloose\",\"Old School\",\"The Fisher King\",\"I Still Know What You Did Last Summer\",\"Return to Me\",\"Zack and Miri Make a Porno\",\"Nurse Betty\",\"The Men Who Stare at Goats\",\"Double Take\",\"Girl, Interrupted\",\"Win a Date with Tad Hamilton!\",\"Muppets from Space\",\"The Wiz\",\"Ready to Rumble\",\"Play It to the Bone\",\"I Don't Know How She Does It\",\"Piranha 3D\",\"Beyond the Sea\",\"Meet the Deedles\",\"The Thief and the Cobbler\",\"The Bridge of San Luis Rey\",\"Faster\",\"Howl's Moving Castle\",\"Zombieland\",\"The Waterboy\",\"The Empire Strikes Back\",\"Bad Boys\",\"The Naked Gun 2\\u00bd: The Smell of Fear\",\"Final Destination\",\"The Ides of March\",\"Pitch Black\",\"Someone Like You...\",\"Her\",\"Joy Ride\",\"The Adventurer: The Curse of the Midas Box\"],\"marker\":{\"color\":[\"gold\",\"gold\",\"gold\",\"gold\",\"gold\",\"blue\",\"green\",\"gold\",\"gold\",\"gold\",\"gold\",\"gold\",\"gold\",\"gold\",\"gold\",\"gold\",\"purple\",\"gold\",\"gold\",\"gold\",\"gold\",\"gold\",\"gold\",\"gold\",\"gold\",\"yellow\",\"gold\",\"orange\",\"gold\",\"gold\",\"gold\",\"gold\",\"black\",\"gold\",\"green\",\"purple\",\"purple\",\"blue\",\"gold\",\"gold\",\"green\",\"gold\",\"green\",\"gold\",\"gold\",\"gold\",\"gold\",\"gold\",\"gold\",\"yellow\",\"gold\",\"gold\",\"gold\",\"gold\",\"gold\",\"green\",\"gold\",\"green\",\"gold\",\"gold\",\"green\",\"purple\",\"gold\",\"gold\",\"purple\",\"yellow\",\"green\",\"green\",\"gold\",\"gold\",\"gold\",\"gold\",\"gold\",\"blue\",\"gold\",\"gold\",\"gold\",\"yellow\",\"black\",\"gold\",\"gold\",\"blue\",\"purple\",\"gold\",\"yellow\",\"gold\",\"yellow\",\"gold\",\"gold\",\"black\",\"gold\",\"gold\",\"blue\",\"gold\",\"gold\",\"gold\",\"gold\",\"gold\",\"gold\",\"gold\",\"blue\",\"gold\",\"gold\",\"blue\",\"gold\",\"blue\",\"blue\",\"gold\",\"purple\",\"gold\",\"black\",\"gold\",\"black\",\"gold\",\"gold\",\"blue\",\"yellow\",\"gold\",\"green\",\"gold\",\"black\",\"gold\",\"gold\",\"gold\",\"green\",\"gold\",\"gold\",\"gold\",\"orange\",\"gold\",\"green\",\"blue\",\"gold\",\"yellow\",\"gold\",\"yellow\",\"black\",\"green\",\"gold\",\"gold\",\"gold\",\"gold\",\"gold\",\"gold\",\"green\",\"gold\",\"green\",\"gold\",\"gold\",\"gold\",\"gold\",\"gold\",\"gold\",\"gold\",\"blue\",\"yellow\",\"yellow\",\"gold\",\"purple\",\"blue\",\"blue\",\"blue\",\"gold\",\"gold\",\"gold\",\"yellow\",\"gold\",\"gold\",\"gold\",\"gold\",\"gold\",\"gold\",\"gold\",\"green\",\"purple\",\"gold\",\"black\",\"green\",\"green\",\"black\",\"gold\",\"gold\",\"purple\",\"gold\",\"blue\",\"gold\",\"gold\",\"gold\",\"gold\",\"yellow\",\"gold\",\"gold\",\"yellow\",\"purple\",\"green\",\"gold\",\"green\",\"gold\",\"blue\",\"gold\",\"purple\",\"orange\",\"green\",\"gold\",\"gold\",\"gold\",\"gold\",\"gold\",\"gold\",\"gold\",\"gold\",\"black\",\"gold\",\"gold\",\"yellow\",\"gold\",\"gold\",\"orange\",\"gold\",\"gold\",\"purple\",\"black\",\"purple\",\"gold\",\"gold\",\"gold\",\"yellow\",\"gold\",\"gold\",\"purple\",\"gold\",\"green\",\"gold\",\"gold\",\"gold\",\"blue\",\"yellow\",\"gold\",\"purple\",\"purple\",\"gold\",\"blue\",\"gold\",\"gold\",\"gold\",\"gold\",\"yellow\",\"orange\",\"gold\",\"gold\",\"yellow\",\"yellow\",\"gold\",\"gold\",\"green\",\"green\",\"gold\",\"gold\",\"blue\",\"gold\",\"purple\",\"gold\",\"gold\",\"gold\",\"yellow\",\"yellow\",\"gold\",\"yellow\",\"green\",\"yellow\",\"yellow\",\"gold\",\"yellow\",\"gold\",\"gold\",\"gold\",\"gold\",\"gold\",\"orange\",\"gold\",\"black\",\"yellow\",\"gold\",\"orange\",\"yellow\",\"gold\",\"gold\",\"yellow\",\"yellow\",\"gold\",\"gold\",\"gold\",\"blue\",\"black\",\"green\",\"gold\",\"gold\",\"yellow\",\"yellow\",\"gold\",\"gold\",\"yellow\",\"green\",\"gold\",\"gold\",\"gold\",\"gold\",\"gold\",\"gold\",\"blue\",\"orange\",\"gold\",\"black\",\"green\",\"yellow\",\"gold\",\"yellow\",\"yellow\",\"green\",\"gold\",\"gold\",\"yellow\",\"gold\",\"yellow\",\"gold\",\"green\",\"yellow\",\"blue\",\"green\",\"gold\",\"gold\",\"gold\",\"gold\",\"orange\",\"gold\",\"orange\",\"gold\",\"gold\",\"black\",\"gold\",\"gold\",\"gold\",\"gold\",\"green\",\"gold\",\"gold\",\"yellow\",\"green\",\"green\",\"gold\",\"gold\",\"yellow\",\"green\",\"gold\",\"orange\",\"gold\",\"gold\",\"yellow\",\"green\",\"gold\",\"yellow\",\"yellow\",\"gold\",\"yellow\",\"orange\",\"yellow\",\"gold\",\"yellow\",\"gold\",\"gold\",\"gold\",\"orange\",\"gold\",\"purple\",\"green\",\"yellow\",\"purple\",\"yellow\",\"yellow\",\"gold\",\"yellow\",\"blue\",\"yellow\",\"gold\",\"gold\",\"green\",\"gold\",\"gold\",\"orange\",\"gold\",\"green\",\"yellow\",\"gold\",\"yellow\",\"gold\",\"yellow\",\"gold\",\"yellow\",\"yellow\",\"gold\",\"gold\",\"black\",\"gold\",\"gold\",\"yellow\",\"gold\",\"yellow\",\"blue\",\"gold\",\"yellow\",\"gold\",\"gold\",\"gold\",\"blue\",\"black\",\"gold\",\"yellow\",\"red\",\"yellow\",\"gold\",\"gold\",\"yellow\",\"purple\",\"blue\",\"orange\",\"gold\",\"purple\",\"yellow\",\"gold\",\"yellow\",\"green\",\"yellow\",\"gold\",\"gold\",\"yellow\",\"yellow\",\"yellow\",\"gold\",\"yellow\",\"yellow\",\"yellow\",\"green\",\"gold\",\"blue\",\"orange\",\"yellow\",\"gold\",\"black\",\"yellow\",\"gold\",\"yellow\",\"red\",\"green\",\"gold\",\"yellow\",\"gold\",\"black\",\"gold\",\"yellow\",\"black\",\"yellow\",\"gold\",\"yellow\",\"yellow\",\"green\",\"green\",\"purple\",\"gold\",\"gold\",\"gold\",\"yellow\",\"yellow\",\"gold\",\"yellow\",\"black\",\"gold\",\"gold\",\"yellow\",\"gold\",\"green\",\"gold\",\"green\",\"yellow\",\"gold\",\"yellow\",\"gold\",\"blue\",\"orange\",\"gold\",\"black\",\"orange\",\"gold\",\"yellow\",\"yellow\",\"black\",\"gold\",\"green\",\"yellow\",\"black\",\"yellow\",\"gold\",\"gold\",\"purple\",\"gold\",\"green\",\"blue\",\"green\",\"gold\",\"gold\",\"black\",\"yellow\",\"gold\",\"gold\",\"gold\",\"green\",\"yellow\",\"black\",\"red\",\"gold\",\"orange\",\"yellow\",\"yellow\",\"yellow\",\"gold\",\"yellow\",\"green\",\"yellow\",\"yellow\",\"yellow\",\"gold\",\"gold\",\"yellow\",\"yellow\",\"green\",\"gold\",\"gold\",\"yellow\",\"blue\",\"black\",\"green\",\"gold\",\"gold\",\"gold\",\"gold\",\"gold\",\"purple\",\"black\",\"gold\",\"yellow\",\"purple\",\"black\",\"yellow\",\"yellow\",\"orange\",\"yellow\",\"yellow\",\"gold\",\"yellow\",\"green\",\"yellow\",\"gold\",\"gold\",\"yellow\",\"yellow\",\"yellow\",\"gold\",\"green\",\"yellow\",\"gold\",\"green\",\"gold\",\"yellow\",\"gold\",\"gold\",\"gold\",\"yellow\",\"yellow\",\"gold\",\"yellow\",\"gold\",\"gold\",\"purple\",\"gold\",\"gold\",\"blue\",\"yellow\",\"black\",\"gold\",\"yellow\",\"red\",\"yellow\",\"gold\",\"gold\",\"yellow\",\"gold\",\"gold\",\"gold\",\"blue\",\"yellow\",\"yellow\",\"gold\",\"gold\",\"gold\",\"orange\",\"gold\",\"green\",\"yellow\",\"black\",\"yellow\",\"gold\",\"gold\",\"orange\",\"gold\",\"gold\",\"green\",\"gold\",\"yellow\",\"gold\",\"gold\",\"yellow\",\"yellow\",\"gold\",\"gold\",\"yellow\",\"gold\",\"yellow\",\"black\",\"gold\",\"yellow\",\"gold\",\"yellow\",\"green\",\"yellow\",\"black\",\"gold\",\"yellow\",\"blue\",\"yellow\",\"yellow\",\"yellow\",\"gold\",\"yellow\",\"yellow\",\"gold\",\"gold\",\"gold\",\"blue\",\"yellow\",\"yellow\",\"yellow\",\"black\",\"yellow\",\"yellow\",\"gold\",\"purple\",\"gold\",\"yellow\",\"gold\",\"gold\",\"yellow\",\"gold\",\"black\",\"yellow\",\"yellow\",\"gold\",\"gold\",\"red\",\"yellow\",\"gold\",\"yellow\",\"yellow\",\"gold\",\"yellow\",\"yellow\",\"green\",\"gold\",\"yellow\",\"gold\",\"gold\",\"yellow\",\"gold\",\"yellow\",\"yellow\",\"gold\",\"yellow\",\"gold\",\"green\",\"gold\",\"yellow\",\"yellow\",\"blue\",\"gold\",\"green\",\"black\",\"gold\",\"gold\",\"yellow\",\"yellow\",\"gold\",\"yellow\",\"gold\",\"yellow\",\"gold\",\"yellow\",\"gold\",\"yellow\",\"gold\",\"yellow\",\"gold\",\"yellow\",\"yellow\",\"gold\",\"yellow\",\"yellow\",\"yellow\",\"gold\",\"yellow\",\"yellow\",\"gold\",\"black\",\"yellow\",\"yellow\",\"green\",\"orange\",\"gold\",\"yellow\",\"yellow\",\"black\",\"blue\",\"yellow\",\"black\",\"gold\",\"gold\",\"yellow\",\"gold\",\"orange\",\"gold\",\"gold\",\"yellow\",\"gold\",\"purple\",\"gold\",\"green\",\"yellow\",\"gold\",\"gold\",\"gold\",\"yellow\",\"yellow\",\"yellow\",\"gold\",\"yellow\",\"yellow\",\"gold\",\"purple\",\"purple\",\"yellow\",\"yellow\",\"yellow\",\"red\",\"yellow\",\"gold\",\"gold\",\"yellow\",\"blue\",\"yellow\",\"green\",\"gold\",\"gold\",\"black\",\"red\",\"yellow\",\"yellow\",\"gold\",\"gold\",\"red\",\"yellow\",\"gold\",\"yellow\",\"yellow\",\"yellow\",\"gold\",\"gold\",\"yellow\",\"gold\",\"yellow\",\"gold\",\"gold\",\"gold\",\"yellow\",\"black\",\"gold\",\"yellow\",\"purple\",\"gold\",\"yellow\",\"yellow\",\"yellow\",\"yellow\",\"gold\",\"yellow\",\"yellow\",\"yellow\",\"blue\",\"gold\",\"gold\",\"yellow\",\"gold\",\"gold\",\"yellow\",\"yellow\",\"yellow\",\"gold\",\"gold\",\"blue\",\"yellow\",\"gold\",\"yellow\",\"gold\",\"yellow\",\"blue\",\"orange\",\"yellow\",\"gold\",\"yellow\",\"orange\",\"yellow\",\"yellow\",\"gold\",\"yellow\",\"gold\",\"gold\",\"blue\",\"gold\",\"gold\",\"yellow\",\"gold\",\"green\",\"purple\",\"black\",\"gold\",\"gold\",\"black\",\"yellow\",\"yellow\",\"yellow\",\"yellow\",\"yellow\",\"green\",\"yellow\",\"gold\",\"yellow\",\"orange\",\"yellow\",\"gold\",\"yellow\",\"gold\",\"yellow\",\"yellow\",\"gold\",\"yellow\",\"yellow\",\"yellow\",\"gold\",\"blue\",\"yellow\",\"gold\",\"yellow\",\"yellow\",\"yellow\",\"gold\",\"yellow\",\"yellow\",\"gold\",\"green\",\"yellow\",\"black\",\"yellow\",\"black\",\"yellow\",\"orange\",\"yellow\",\"yellow\",\"yellow\",\"orange\",\"yellow\",\"yellow\",\"yellow\",\"gold\",\"yellow\",\"yellow\",\"yellow\",\"yellow\",\"gold\",\"gold\",\"yellow\",\"green\",\"yellow\",\"gold\",\"gold\",\"purple\",\"gold\",\"yellow\",\"yellow\",\"yellow\",\"yellow\",\"yellow\",\"yellow\",\"orange\",\"yellow\",\"yellow\",\"yellow\",\"red\",\"yellow\",\"gold\",\"yellow\",\"yellow\",\"blue\",\"yellow\",\"yellow\",\"gold\",\"yellow\",\"gold\",\"yellow\",\"yellow\",\"yellow\",\"green\",\"yellow\",\"yellow\",\"gold\",\"gold\",\"gold\",\"gold\",\"gold\",\"gold\",\"yellow\",\"orange\",\"blue\",\"orange\",\"gold\",\"yellow\",\"gold\",\"yellow\",\"orange\",\"yellow\",\"gold\",\"yellow\",\"red\",\"yellow\",\"yellow\",\"gold\",\"gold\",\"gold\",\"yellow\",\"yellow\",\"gold\",\"red\",\"yellow\",\"orange\",\"gold\",\"gold\",\"yellow\",\"yellow\",\"gold\",\"yellow\",\"yellow\",\"black\",\"yellow\",\"yellow\",\"gold\",\"yellow\",\"yellow\",\"gold\",\"gold\",\"yellow\",\"yellow\",\"gold\",\"gold\",\"gold\",\"black\",\"yellow\",\"yellow\",\"gold\",\"orange\",\"gold\",\"gold\",\"yellow\",\"yellow\",\"gold\",\"gold\",\"yellow\",\"yellow\",\"gold\",\"gold\",\"gold\",\"blue\",\"yellow\",\"yellow\",\"yellow\",\"yellow\",\"blue\",\"gold\",\"gold\",\"gold\",\"yellow\",\"orange\",\"gold\",\"yellow\",\"yellow\",\"yellow\",\"yellow\",\"red\",\"gold\",\"yellow\",\"gold\",\"yellow\",\"yellow\",\"blue\",\"black\",\"black\",\"orange\",\"yellow\",\"yellow\",\"yellow\",\"gold\",\"yellow\",\"yellow\",\"gold\",\"yellow\",\"green\",\"yellow\",\"yellow\",\"yellow\",\"yellow\",\"purple\",\"gold\",\"yellow\",\"yellow\",\"yellow\",\"yellow\",\"blue\",\"gold\",\"yellow\",\"yellow\",\"gold\",\"yellow\",\"yellow\",\"yellow\",\"yellow\",\"yellow\",\"yellow\",\"yellow\",\"gold\",\"yellow\",\"yellow\",\"yellow\",\"red\",\"yellow\",\"gold\",\"gold\",\"yellow\",\"yellow\",\"gold\",\"red\",\"gold\",\"yellow\",\"yellow\",\"yellow\",\"gold\",\"yellow\",\"red\",\"yellow\",\"gold\",\"gold\",\"gold\",\"yellow\",\"gold\",\"gold\",\"blue\",\"gold\",\"gold\",\"yellow\",\"gold\",\"gold\",\"gold\",\"yellow\",\"gold\",\"yellow\",\"yellow\",\"gold\",\"yellow\",\"black\",\"orange\",\"gold\",\"yellow\",\"gold\",\"gold\",\"gold\",\"yellow\",\"gold\",\"yellow\",\"green\",\"yellow\",\"gold\",\"gold\",\"yellow\",\"gold\",\"yellow\",\"green\",\"gold\",\"blue\",\"yellow\",\"yellow\",\"yellow\",\"gold\",\"yellow\",\"yellow\",\"yellow\",\"gold\",\"gold\",\"yellow\",\"green\",\"yellow\",\"yellow\",\"gold\",\"yellow\",\"yellow\",\"yellow\",\"yellow\",\"yellow\",\"yellow\",\"gold\",\"blue\",\"gold\",\"gold\",\"yellow\",\"yellow\",\"gold\",\"gold\",\"gold\",\"gold\",\"yellow\",\"gold\",\"gold\",\"orange\",\"black\",\"gold\",\"yellow\",\"yellow\",\"yellow\",\"yellow\",\"yellow\",\"gold\",\"gold\",\"yellow\",\"gold\",\"yellow\",\"yellow\",\"gold\",\"yellow\",\"red\",\"yellow\",\"yellow\",\"yellow\",\"red\",\"gold\",\"yellow\",\"yellow\",\"yellow\",\"yellow\",\"orange\",\"yellow\",\"gold\",\"yellow\",\"gold\",\"gold\",\"yellow\",\"gold\",\"yellow\",\"yellow\",\"yellow\",\"yellow\",\"yellow\",\"gold\",\"yellow\",\"yellow\",\"red\",\"orange\",\"gold\",\"yellow\",\"yellow\",\"yellow\",\"gold\",\"gold\",\"yellow\",\"gold\",\"yellow\",\"yellow\",\"green\",\"gold\",\"gold\",\"gold\",\"yellow\",\"orange\",\"yellow\",\"yellow\",\"blue\",\"yellow\",\"black\",\"yellow\",\"red\",\"yellow\",\"gold\",\"blue\",\"yellow\",\"yellow\",\"yellow\",\"gold\",\"yellow\",\"red\",\"orange\",\"yellow\",\"yellow\",\"yellow\",\"red\",\"yellow\",\"yellow\",\"yellow\",\"yellow\",\"yellow\",\"gold\",\"yellow\",\"yellow\",\"yellow\",\"yellow\",\"yellow\",\"yellow\",\"yellow\",\"blue\",\"gold\",\"yellow\",\"yellow\",\"red\",\"yellow\",\"yellow\",\"gold\",\"blue\",\"yellow\",\"yellow\",\"gold\",\"yellow\",\"yellow\",\"yellow\",\"gold\",\"gold\",\"orange\",\"gold\",\"gold\",\"yellow\",\"yellow\",\"yellow\",\"yellow\",\"yellow\",\"gold\",\"yellow\",\"red\",\"gold\",\"gold\",\"yellow\",\"gold\",\"gold\",\"gold\",\"gold\",\"gold\",\"yellow\",\"purple\",\"yellow\",\"gold\",\"gold\",\"gold\",\"orange\",\"gold\",\"gold\",\"yellow\",\"gold\",\"gold\",\"gold\",\"gold\",\"gold\",\"blue\",\"gold\",\"yellow\",\"yellow\",\"green\",\"purple\",\"yellow\",\"yellow\",\"yellow\",\"gold\",\"yellow\",\"yellow\",\"yellow\",\"gold\",\"purple\",\"gold\",\"yellow\",\"gold\",\"yellow\",\"yellow\",\"yellow\",\"gold\",\"yellow\",\"yellow\",\"red\",\"yellow\",\"black\",\"yellow\",\"gold\",\"red\",\"purple\",\"gold\",\"gold\",\"gold\",\"yellow\",\"gold\",\"yellow\",\"gold\",\"yellow\",\"yellow\",\"yellow\",\"yellow\",\"gold\",\"yellow\",\"yellow\",\"gold\",\"yellow\",\"yellow\",\"gold\",\"yellow\",\"gold\",\"yellow\",\"gold\",\"yellow\",\"gold\",\"purple\",\"black\",\"orange\",\"gold\",\"yellow\",\"black\",\"yellow\",\"yellow\",\"orange\",\"yellow\",\"green\",\"yellow\",\"yellow\",\"gold\",\"gold\",\"blue\",\"yellow\",\"gold\",\"yellow\",\"gold\",\"yellow\",\"yellow\",\"yellow\",\"purple\",\"yellow\",\"yellow\",\"yellow\",\"yellow\",\"yellow\",\"yellow\",\"yellow\",\"gold\",\"yellow\",\"purple\",\"red\",\"red\",\"gold\",\"yellow\",\"gold\",\"yellow\",\"yellow\",\"yellow\",\"yellow\",\"yellow\",\"yellow\",\"yellow\",\"blue\",\"yellow\",\"yellow\",\"yellow\",\"yellow\",\"red\",\"red\",\"yellow\",\"gold\",\"gold\",\"yellow\",\"yellow\",\"gold\",\"yellow\",\"gold\",\"yellow\",\"yellow\",\"red\",\"yellow\",\"yellow\",\"red\",\"yellow\",\"purple\",\"yellow\",\"yellow\",\"purple\",\"yellow\",\"gold\",\"yellow\",\"yellow\",\"yellow\",\"yellow\",\"yellow\",\"black\",\"yellow\",\"orange\",\"green\",\"yellow\",\"gold\",\"orange\",\"red\",\"yellow\",\"gold\",\"black\",\"gold\",\"yellow\",\"yellow\",\"gold\",\"blue\",\"gold\",\"gold\",\"yellow\",\"yellow\",\"gold\",\"yellow\",\"gold\",\"yellow\",\"gold\",\"gold\",\"yellow\",\"gold\",\"black\",\"gold\",\"blue\",\"yellow\",\"yellow\",\"gold\",\"gold\",\"orange\",\"gold\",\"black\",\"yellow\",\"yellow\",\"gold\",\"yellow\",\"gold\",\"yellow\",\"yellow\",\"yellow\",\"gold\",\"gold\",\"green\",\"yellow\",\"yellow\",\"yellow\",\"yellow\",\"yellow\",\"yellow\",\"yellow\",\"gold\",\"yellow\",\"black\",\"red\",\"black\",\"gold\",\"black\",\"gold\",\"yellow\",\"gold\",\"yellow\",\"gold\",\"gold\",\"yellow\",\"yellow\",\"yellow\",\"yellow\",\"gold\",\"blue\",\"yellow\",\"yellow\",\"gold\",\"red\",\"yellow\",\"gold\",\"yellow\",\"yellow\",\"orange\",\"gold\",\"orange\",\"gold\",\"gold\",\"yellow\",\"yellow\",\"gold\",\"gold\",\"gold\",\"yellow\",\"gold\",\"blue\",\"blue\",\"yellow\",\"green\",\"yellow\",\"black\",\"gold\",\"yellow\",\"yellow\",\"black\",\"gold\",\"yellow\",\"yellow\",\"gold\",\"yellow\",\"yellow\",\"yellow\",\"yellow\",\"yellow\",\"yellow\",\"gold\",\"yellow\",\"yellow\",\"green\",\"gold\",\"yellow\",\"yellow\",\"yellow\",\"gold\",\"yellow\",\"yellow\",\"red\",\"yellow\",\"yellow\",\"yellow\",\"yellow\",\"purple\",\"green\",\"orange\",\"yellow\",\"yellow\",\"yellow\",\"yellow\",\"yellow\",\"gold\",\"yellow\",\"gold\",\"yellow\",\"yellow\",\"red\",\"gold\",\"blue\",\"blue\",\"yellow\",\"yellow\",\"gold\",\"yellow\",\"yellow\",\"yellow\",\"gold\",\"yellow\",\"blue\",\"green\",\"yellow\",\"yellow\",\"purple\",\"yellow\",\"yellow\",\"gold\",\"gold\",\"yellow\",\"yellow\",\"yellow\",\"yellow\",\"gold\",\"yellow\",\"yellow\",\"yellow\",\"gold\",\"gold\",\"red\",\"blue\",\"yellow\",\"yellow\",\"gold\",\"yellow\",\"red\",\"red\",\"yellow\",\"gold\",\"gold\",\"red\",\"gold\",\"gold\",\"yellow\",\"yellow\",\"black\",\"gold\",\"gold\",\"gold\",\"orange\",\"yellow\",\"green\",\"yellow\",\"yellow\",\"yellow\",\"yellow\",\"gold\",\"blue\",\"orange\",\"gold\",\"yellow\",\"yellow\",\"yellow\",\"yellow\",\"purple\",\"orange\",\"gold\",\"gold\",\"gold\",\"yellow\",\"yellow\",\"yellow\",\"yellow\",\"red\",\"yellow\",\"orange\",\"gold\",\"yellow\",\"yellow\",\"red\",\"yellow\",\"gold\",\"yellow\",\"gold\",\"gold\",\"yellow\",\"yellow\",\"yellow\",\"yellow\",\"gold\",\"yellow\",\"yellow\",\"gold\",\"black\",\"yellow\",\"orange\",\"yellow\",\"yellow\",\"gold\",\"yellow\",\"blue\",\"gold\",\"gold\",\"gold\",\"yellow\",\"orange\",\"gold\",\"green\",\"black\",\"yellow\",\"yellow\",\"blue\",\"yellow\",\"gold\",\"yellow\",\"yellow\",\"yellow\",\"gold\",\"yellow\",\"yellow\",\"yellow\",\"yellow\",\"yellow\",\"yellow\",\"yellow\",\"yellow\",\"green\",\"yellow\",\"gold\",\"green\",\"yellow\",\"yellow\",\"gold\",\"gold\",\"yellow\",\"yellow\",\"black\",\"yellow\",\"blue\",\"yellow\",\"green\",\"yellow\",\"black\",\"yellow\",\"gold\",\"yellow\",\"orange\",\"yellow\",\"yellow\",\"yellow\",\"yellow\",\"gold\",\"gold\",\"orange\",\"black\",\"yellow\",\"purple\",\"gold\",\"gold\",\"yellow\",\"red\",\"black\",\"yellow\",\"yellow\",\"gold\",\"gold\",\"gold\",\"yellow\",\"yellow\",\"yellow\",\"yellow\",\"gold\",\"gold\",\"gold\",\"gold\",\"yellow\",\"yellow\",\"yellow\",\"yellow\",\"yellow\",\"yellow\",\"purple\",\"yellow\",\"yellow\",\"black\",\"gold\",\"yellow\",\"yellow\",\"red\",\"yellow\",\"yellow\",\"yellow\",\"yellow\",\"black\",\"yellow\",\"gold\",\"yellow\",\"red\",\"yellow\",\"yellow\",\"black\",\"orange\",\"orange\",\"yellow\",\"black\",\"yellow\",\"yellow\",\"yellow\",\"gold\",\"yellow\",\"yellow\",\"yellow\",\"yellow\",\"yellow\",\"gold\",\"yellow\",\"black\",\"yellow\",\"yellow\",\"red\",\"red\",\"gold\",\"red\",\"orange\",\"yellow\",\"gold\",\"gold\",\"yellow\",\"yellow\",\"yellow\",\"yellow\",\"yellow\",\"yellow\",\"gold\",\"yellow\",\"blue\",\"yellow\",\"yellow\",\"gold\",\"purple\",\"yellow\",\"yellow\",\"yellow\",\"yellow\",\"yellow\",\"yellow\",\"gold\",\"yellow\",\"orange\",\"yellow\",\"yellow\",\"yellow\",\"black\",\"orange\",\"red\",\"orange\",\"gold\",\"gold\",\"purple\",\"yellow\",\"yellow\",\"gold\",\"yellow\",\"yellow\",\"yellow\",\"yellow\",\"yellow\",\"gold\",\"gold\",\"red\",\"red\",\"yellow\",\"gold\",\"yellow\",\"yellow\",\"gold\",\"red\",\"yellow\",\"yellow\",\"gold\",\"blue\",\"gold\",\"gold\",\"yellow\",\"orange\",\"gold\",\"yellow\",\"green\",\"green\",\"gold\",\"yellow\",\"gold\",\"yellow\",\"yellow\",\"yellow\",\"yellow\",\"yellow\",\"red\",\"yellow\",\"gold\",\"yellow\",\"yellow\",\"black\",\"gold\",\"orange\",\"yellow\",\"yellow\",\"red\",\"black\",\"gold\",\"yellow\",\"gold\",\"yellow\",\"gold\",\"yellow\",\"orange\",\"yellow\",\"yellow\",\"yellow\",\"yellow\",\"yellow\",\"yellow\",\"yellow\",\"gold\",\"blue\",\"gold\",\"yellow\",\"yellow\",\"yellow\",\"yellow\",\"yellow\",\"green\",\"yellow\",\"orange\",\"yellow\",\"yellow\",\"yellow\",\"yellow\",\"gold\",\"gold\",\"yellow\",\"gold\",\"red\",\"yellow\",\"yellow\",\"blue\",\"yellow\",\"yellow\",\"yellow\",\"gold\",\"yellow\",\"gold\",\"yellow\",\"black\",\"yellow\",\"yellow\",\"yellow\",\"red\",\"yellow\",\"yellow\",\"yellow\",\"gold\",\"gold\",\"gold\",\"gold\",\"yellow\",\"yellow\",\"gold\",\"yellow\",\"yellow\",\"gold\",\"yellow\",\"yellow\",\"blue\",\"yellow\",\"yellow\",\"yellow\",\"yellow\",\"green\",\"yellow\",\"yellow\",\"black\",\"black\",\"orange\",\"yellow\",\"black\",\"yellow\",\"gold\",\"yellow\",\"gold\",\"purple\",\"yellow\",\"red\",\"gold\",\"yellow\",\"yellow\",\"yellow\",\"yellow\",\"yellow\",\"red\",\"yellow\",\"yellow\",\"yellow\",\"yellow\",\"gold\",\"yellow\",\"yellow\",\"blue\",\"gold\",\"gold\",\"yellow\",\"yellow\",\"yellow\",\"yellow\",\"green\",\"gold\",\"yellow\",\"yellow\",\"blue\",\"yellow\",\"yellow\",\"gold\",\"gold\",\"yellow\",\"red\",\"yellow\",\"orange\",\"yellow\",\"yellow\",\"black\",\"blue\"],\"size\":8},\"mode\":\"markers\",\"x\":[2009,2007,2015,2012,2012,2007,2010,2015,2009,2016,2006,2008,2006,2013,2013,2008,2012,2011,2012,2014,2012,2010,2013,2007,2005,1997,2016,2012,2015,2012,2004,2013,2010,2006,2013,2009,2014,2013,2014,2010,2011,2011,2010,2009,2015,2013,2014,2013,2013,2013,2010,2013,2011,2008,2015,2012,2016,2008,2007,2009,2009,2015,2016,2005,2016,2008,2009,2009,2008,2011,1999,2008,2016,2007,2014,1995,2009,2015,2016,2010,2012,2014,2014,2015,2013,2014,2010,2015,2014,2012,2004,2016,2010,2003,2014,2014,2010,2016,2012,2001,2008,2011,2015,2010,2006,2016,2007,2016,2015,2010,2001,2007,2004,2007,2005,2008,2007,2005,2007,2005,2008,2009,2009,2003,2013,2003,2013,2015,2009,2011,2008,2009,2012,2012,2015,2010,2007,2011,2010,2006,2013,2011,2006,2015,2014,2004,2012,2002,2016,1998,2002,2007,2016,2011,2012,2005,2003,2014,2009,2002,2014,2016,2005,2009,1998,2003,2013,2005,2001,2011,1999,2003,2012,2011,2008,2016,2015,2013,2011,2014,2007,2008,2015,2013,2015,2005,2003,2011,2010,2014,2011,2004,2008,2013,2000,2014,2010,2001,2013,2003,2014,2006,2014,2003,2011,2011,2010,1990,1999,2012,1997,2000,2004,2000,2000,2007,2012,2007,2016,2003,2012,2002,2013,2004,2014,2008,2010,2010,2013,2005,2002,2001,2013,1999,2013,2008,2002,2016,2014,2013,1997,2016,2015,2006,2015,1997,2000,2004,2005,2015,2004,2010,2011,2014,2011,2004,2016,2011,2013,1997,2013,2007,2001,2004,2001,2003,2004,2005,1999,2009,2015,2005,2001,2000,2000,2002,2002,2006,2001,1991,2009,2007,1994,2009,2010,2010,1996,2012,1996,2000,2012,2004,2006,2009,2013,2010,1999,2006,2013,1995,1997,2012,2010,2004,2014,2002,2009,2014,2015,2005,2015,2002,2010,2015,1997,2001,2002,2011,2007,2004,2001,2012,1997,2010,2000,2012,2015,2009,2003,2003,2002,2014,2001,2014,2001,2011,2008,2013,2004,2004,1995,2010,1997,1999,2010,2001,2000,2009,2009,2013,2000,2006,1998,2008,2011,1995,2009,2016,2001,2015,2008,2008,2015,2001,2003,1997,2000,2005,2013,2003,2016,1997,2001,2000,2011,1999,1997,1997,2002,1982,2005,2010,2003,1996,2000,2006,2004,1997,2001,2011,2012,2007,2012,2000,2011,2006,1998,2009,2007,2006,2014,2001,2003,1993,2005,2006,2011,1998,2002,1979,2012,2010,2003,2000,2002,2012,2006,1982,2010,2008,2008,2007,2000,2003,2010,1996,2012,2011,1992,2006,2002,2006,1998,2013,2005,2011,2013,2008,2003,2010,2008,2005,1997,2008,2002,2011,1997,2008,2003,2010,1997,1999,1996,2006,2008,1997,2014,1998,2010,2002,2011,1998,2004,1998,2015,1999,2002,1998,2001,2005,1998,2000,2005,1996,2015,1997,2009,2000,1996,2013,2000,2003,2009,2003,1997,1998,2015,2000,2006,2009,2005,2014,2015,2001,1994,2012,2013,2002,2004,2011,2003,2015,2007,2000,2016,2003,2013,1996,1997,2005,2006,2000,2008,1996,2006,2004,2007,2004,1999,2013,2010,2004,2009,2000,2007,2004,2006,2005,2005,2003,2010,2015,2004,2006,2001,1995,1999,2011,2005,2000,2003,1998,2009,2001,2004,2000,2015,2011,1998,1998,2016,2008,2009,2007,2006,2001,1995,2005,2007,2001,2001,2004,2004,1998,2002,2004,2006,1999,2002,2015,1996,2009,1991,1990,2003,2001,2006,2004,2009,2002,2013,1998,2011,2003,1994,2011,2014,1989,2010,2014,1998,2007,1997,2011,2002,2005,2002,2012,2012,2002,2011,2002,2002,1998,2001,2013,2015,2004,2006,2013,2014,2002,2010,2001,2010,1995,2015,2009,1999,2011,1999,2016,2008,2010,2012,1999,1998,2007,1998,2014,2000,2002,2003,2012,1999,1995,2002,2012,1998,2008,1998,2010,2014,2000,1993,1996,2000,2006,2003,2012,1999,2014,2015,2012,2004,1984,1998,2012,2008,1996,2000,2005,1999,2006,1991,2000,2014,2005,2005,2014,1999,2015,2006,2002,2009,1993,1994,1994,2015,2006,2000,1995,2008,2001,2015,2007,2011,2006,2004,2008,1999,2007,2005,2014,2002,1995,1999,1998,1998,2003,2013,2001,2003,2002,1998,2009,1990,2005,2015,2010,2000,2010,1999,1998,2004,2002,2004,2012,1999,2009,2011,2003,2009,2008,2004,2006,2004,1996,2004,1998,2012,1997,2003,1996,2008,2002,1995,2014,2015,2016,1997,2007,2014,1998,2014,2005,2002,2013,2009,2009,2009,2009,1999,2006,2009,2002,2003,2012,2010,1997,2002,2008,1998,2009,2000,2000,2006,2005,2011,2003,1997,2002,2006,2006,2001,2000,2014,2013,2008,2005,1999,2008,2008,2015,2007,2003,2016,2005,2016,1998,2014,2015,2005,2000,1988,2008,2015,2009,2013,2010,2012,1997,2012,1996,2004,2011,2001,2005,2004,1994,2007,2000,1995,1978,1996,2005,1997,2003,2013,2010,1995,2014,2002,1995,2006,2005,1994,1998,2003,1999,2004,1989,1992,2000,1996,2011,2008,2013,1992,1996,1998,1996,2014,2012,2003,1999,2003,2008,2012,2008,1996,1996,2004,2007,2005,2003,1997,2009,2014,2004,2010,2004,1962,2002,2002,2008,2013,1990,2005,2006,1980,2003,2006,2000,1997,2001,2001,2015,2006,2009,2007,1998,2007,2002,2012,2006,2008,2010,2005,1998,2011,1999,1995,2010,2003,2000,2006,2006,2009,2001,2011,1991,1996,2012,1997,1998,2013,2002,2011,2000,2003,2014,1994,2008,2016,1998,2015,2014,2006,1999,1995,2011,2009,2006,2005,2011,2004,2004,2011,1995,2014,2009,2006,2003,2006,2005,2001,2013,2002,2011,2005,2016,2014,2006,1997,1997,1997,2006,2000,2012,1998,2014,1994,1990,2014,1997,2004,2004,2003,1994,2005,2000,2004,2009,1999,1996,2010,2010,2002,1995,2007,1999,2013,2003,2002,2009,1996,1999,2004,2016,2003,2005,2015,2007,2005,1999,2011,2011,1997,1994,1995,2010,2005,1995,2009,2013,2002,2016,2004,2000,2011,2009,2001,1990,2009,2000,1989,2012,2015,1999,2002,2006,1999,2015,2001,2001,2001,2000,1984,2007,2014,1998,1996,1998,1990,1999,2001,1982,1972,2006,1996,1997,2001,2002,1996,2010,1996,1997,2016,1981,1994,2012,2003,2000,2008,2004,1993,1994,2007,1992,2005,2013,2001,1999,2001,2011,1998,2005,2002,1997,2000,2003,1998,2001,1994,1996,1968,2005,2005,2004,2007,2014,2006,1994,1995,2012,2004,2003,2006,1984,2007,2008,2006,2008,1996,1996,2009,2001,2005,1996,2000,1995,2010,1998,2008,2006,2008,2002,2007,1997,2011,2012,2012,1993,2010,1996,1985,1996,1940,1980,2006,2015,2000,2000,2005,2002,1993,2010,2011,2012,1999,2000,2004,1992,2013,1963,2012,2002,1996,2002,2009,1989,2011,2001,1993,2005,2002,2012,2014,2010,2009,2002,2015,2001,2003,1999,2012,2011,1984,2013,2009,1999,1989,2014,2015,2003,1996,2003,2013,1992,2016,2010,2009,2006,2000,1990,2015,1992,2009,2013,1999,2014,2006,2015,2016,1992,2004,2005,2008,2009,2001,1991,2006,2001,2009,2014,2009,2015,2001,2010,2004,1998,1997,2002,2011,2011,2006,2014,2013,2006,1987,2010,1986,2004,2006,2005,2012,2008,2014,1997,2003,1997,1992,2007,1994,2000,2007,2011,2012,2011,1999,1991,2014,2000,2011,1999,2000,2005,2008,2014,1994,2011,2010,2005,2000,2005,2000,1999,1996,2001,2008,2001,2007,1973,1994,2011,1998,2002,1999,2004,1996,1995,2006,1995,2000,2012,1987,2009,2002,1992,2001,2004,2004,2012,1999,2002,2009,2003,2008,1980,1999,2009,2001,2002,2001,2007,2012,2008,2015,2006,2007,1995,2007,1994,2007,2005,2013,2011,2004,1994,2015,2009,2007,2012,2005,2004,1983,2013,2008,2002,2009,1996,2002,1994,2013,2011,2014,1999,2002,2001,2015,2001,2001,1999,1996,2001,2009,1996,1982,2013,1997,2001,2008,2012,2007,2008,2016,2015,2010,2012,2008,2008,2013,1999,2010,2016,2011,2008,2002,1999,2013,2008,1997,1983,2010,2014,2000,2003,2015,1996,1999,2011,1997,2000,2008,2003,2009,2015,1999,1989,2011,1992,2009,2001,2011,2010,2006,1979,2013,1991,2008,2015,2005,1996,1997,2005,1997,1995,1984,2000,1998,2010,2007,2003,2011,2016,2013,1992,2012,2009,2009,2007,2006,2005,1997,2002,1982,2004,2008,2011,2010,2011,2001,1976,1994,2002,2006,2005,2004,2011,2008,2002,1990,2008,1999,1980,2004,2012,1997,2015,2010,1992,2008,2004,2015,2011,2005,2000,2008,2013,2005,2012,2015,2002,2013,2004,2010,2012,1983,2007,1991,2007,2001,2001,2009,2009,2011,1998,2014,2003,2008,2006,2015,1997,2006,1992,1993,1997,2002,1981,1995,1999,2010,2006,2009,2014,2015,1993,2006,1999,2012,2008,2015,1999,2000,2012,2013,1981,1992,2001,2000,2013,2011,2012,2006,2000,2004,2005,2012,1999,1983,2008,2008,2012,2003,1996,2002,1988,2006,2011,2013,1999,2000,2010,2013,2011,2011,1993,2007,2013,1979,2005,2005,2005,1995,2004,1999,2010,2007,1996,2013,1997,1999,2006,2004,1979,2010,1995,2016,1985,2012,1979,2014,2001,1990,2000,2015,1995,2002,1999,2001,1995,1994,2012,2010,2000,1990,2013,2004,1991,1995,2001,1996,1995,2009,2004,2003,2004,1999,2004,2008,2009,2000,1991,1994,2009,2002,2013,2012,2001,1995,2012,2008,2005,2008,1998,2009,2004,2004,2011,2014,2001,1999,1989,2002,1994,1985,2005,2007,2005,2007,2010,1989,2012,2005,2006,2015,2015,2009,2015,2003,2010,2002,2006,2007,2012,2008,1988,1987,1986,2011,1997,2011,2013,2006,2006,2001,2009,2013,2004,2011,2003,1998,2014,1998,1995,2006,2014,2011,2004,2012,2004,2010,2006,2005,1998,1996,2002,2010,2007,2005,2004,2009,1986,2008,2005,2003,2004,2011,2005,1999,1999,2009,2013,2004,2004,2011,2005,2009,2010,2013,2001,1989,1984,2013,2004,2003,2005,2006,2005,2006,2007,2011,2009,2015,2011,2010,2007,2014,2014,2015,2002,2016,2015,2005,2000,1997,2008,2002,2002,2016,1987,1999,2004,2005,1992,2015,1984,1998,2001,2016,2003,1988,2008,2015,2009,2004,2004,2001,2013,2001,2003,2013,1981,2001,1994,2001,2013,1993,2007,2010,2011,2000,2014,2005,1982,1995,2014,2007,2000,2001,2006,1999,2010,1997,2001,2015,2016,1997,2008,2013,2006,2014,1983,2007,2009,2008,1984,2006,2007,1991,2002,1997,1980,2008,2012,2002,1999,2006,1983,2011,1984,1998,2008,1985,1998,2009,2004,2007,2011,2016,2001,1999,2004,2008,2003,2006,2009,2003,2005,1998,2014,1990,2008,1998,2003,1990,1977,2005,2003,2000,2010,2013,2004,2002,1985,2009,2004,2011,2001,2012,2004,1994,1996,1997,2001,2015,1996,2015,2005,2004,1993,1988,2008,2008,2008,2014,1992,1993,2011,2013,2004,2014,2003,2014,2001,2008,1991,1987,2007,2014,2001,2000,2003,2012,2011,1993,2000,1976,2006,2012,2007,2004,2013,2012,2005,2004,1990,2003,2005,1983,1997,1987,2012,1997,2007,2002,2003,2002,2005,2001,2008,2005,2014,2014,2003,2003,2007,2003,2002,2006,2007,2004,2013,2007,1998,1998,1970,1997,2011,2009,1994,2001,1996,2014,2013,2005,2005,2016,1998,1994,2010,2010,2010,2007,2002,2004,2002,2006,1988,1996,2005,2009,2008,2000,2010,2004,1996,2002,2015,2007,2011,1999,2014,1985,2010,2005,2015,1986,2012,2011,1996,1993,2008,2002,1999,2012,1996,2011,2006,1991,2009,1984,2005,2001,2005,1995,2005,2008,2005,2011,2005,2012,1998,2009,2013,2009,2010,2010,2010,2009,2010,2013,2011,1970,2014,2014,1988,2012,1986,2006,1997,2016,2014,2000,1984,2003,1991,1998,2000,2008,2000,2009,2001,1999,2004,1999,1978,2000,1999,2011,2010,2004,1998,1993,2004,2010,2004,2009,1998,1980,1995,1991,2000,2011,2000,2001,2013,2001,2013],\"y\":[2550965087,661000000,635674609,834939099,24139100,632871626,331794936,1125403694,683959197,623260194,121081192,386090727,865659812,-165710090,437845518,194651413,1299557910,665713802,399026776,706019788,537215857,110669540,708400000,192234864,343000000,1645034188,903304495,94025485,1363528810,908561013,583766341,1015439994,825491110,249359555,543559607,686297228,881405097,291868548,505717432,230062763,359852396,19851172,866969703,171353001,1316249360,331865000,497862775,277365246,2687603,246040419,185154643,227602906,928746996,601636033,156926147,353983207,158471816,341311860,118022233,569653595,125233863,7987720,176743061,568806957,365934787,819558444,560099082,206509870,445174222,15770160,52104681,256128639,570000000,-2000000,192541256,89218220,127469017,682611174,791550600,423933331,226600000,578539785,540644566,-27000000,-24037525,544766572,587600867,19154322,487105443,306222889,140875730,224681935,329878759,235000000,603328629,510120017,665532764,62000000,771103568,169283925,183932083,193624124,493428261,65283742,21674817,129370084,638958165,273677183,285603537,260686217,309220945,559709780,12298192,788212738,745921036,474029371,435349010,324968763,473722818,224218673,453900354,263106170,223062864,274988211,1124219009,588599701,474571402,228858340,206613439,299326618,159979994,142817841,151000000,95527149,532330139,-150000000,137594577,515692281,168502923,247850012,55366737,-111007242,-84540684,-21611680,127912430,322409852,601921274,291971116,85147509,413799566,301818803,125735876,376170825,549713380,161941670,102026112,316758981,128031828,235680446,682708551,464123048,10680864,-58067057,55258983,145444603,108360480,241876278,-10730514,-51868170,230569774,226832400,62011111,709000000,20406466,13712074,43345589,397950503,147570682,110724603,241552094,372824138,501744560,389311965,717423452,233871007,459739379,143339556,424987477,183329073,237637473,241940071,659804554,-80445998,113843127,226748063,222424282,191887208,851475550,-68351500,515011224,627100229,642820459,397188435,297711549,501137675,209615000,107713139,196317921,-98301101,146572938,113207122,222141403,419272402,421388105,205756637,159047763,489016565,118738393,295484914,139175788,273170142,49956806,171140700,10772733,122688965,-26054234,-71331093,144930431,166168572,737000000,529398328,447816256,295440673,809317558,450178928,35649600,-37371735,49602163,352200000,611392705,62127760,110623848,47977596,464480841,360490832,223011068,105294342,252744280,368207520,185238201,-14000000,125382724,107817248,227580051,453749323,-6048539,69246868,189268508,242434178,4508066,15537191,273531464,778368364,-37821105,-19286175,0,227234916,81643158,167135367,162045765,522161890,36949164,-79627709,147202299,354640427,256372926,776688482,449045960,262211740,420000000,134104620,166465037,263882411,50166126,210650585,70432927,142295562,325368238,138851,69327687,212573423,247451894,149288105,86793,168426634,178731369,111989043,70877916,292000694,236529144,16214377,28482868,60073390,-17897621,143400000,-30421885,-31311169,116172544,28718711,-84000000,-6179242,-92896027,-5117111,147233113,3835130,335013274,93772504,1311434,64044513,12000000,80989651,104907746,173920180,188347692,-18567273,782244782,448514353,28525586,846335536,1024888979,847287400,19178613,159703340,3039258,275780809,389860185,72839667,212654182,-119180039,539442092,-87982678,131497209,499390539,407366869,67805466,257325802,55464351,142988466,796686817,98133322,172105545,199847354,214320254,96072649,142617430,276101666,434028679,-5938689,66053725,233755553,125276000,111596308,155637091,135926552,92290266,81120329,95213455,82944923,84578751,61505388,244901337,50063304,51049560,-29125385,394635760,-6300000,-90000000,50807547,-64831034,59114085,20539911,-73821041,61336445,402471524,339632142,284335608,213500217,230156409,365717150,57274484,273375603,255487652,123076205,98611771,77930623,109168700,160649836,134103655,226312624,112309027,203747895,28976270,-4083508,52298489,77242962,73468292,0,52940100,-6617567,37823676,98018522,-12335441,14208267,39307945,191650703,-8962258,155181299,13028755,27483764,137231186,75388063,19785914,14085477,404572835,194470394,377696359,616210692,174455986,200000000,263397247,65771527,59000000,65464664,-84000000,108320568,267695435,166984278,150685453,186728738,214804195,83733697,185696994,165676146,132874442,101001478,134918407,149012234,98066569,94013509,77107755,97977226,11188905,170200000,0,153093859,61982834,143817906,94000000,121584141,42563539,89852759,56159423,16105964,0,393226958,10874570,43729176,-90000000,45080413,67400065,-13514957,-85000000,17316267,31371017,0,43312294,42444772,-45433254,79212469,46546518,-22600000,-11485156,-26174485,-60519261,-62373766,-20868140,56936910,-46536031,21944236,19406406,-74010360,-12168369,-8000000,253542341,743241776,276692760,170384621,131196298,8103450,70673788,160350661,33571250,-64928486,-40865180,800958308,101265204,894761885,741969268,156074524,457680671,-6040249,221339527,183270008,260062621,580940780,121482882,40450008,-1999414,-75000000,42698894,191430189,159417255,38034460,140663859,44000410,292275019,84937680,42226116,60358911,15632458,23159963,33145109,-24958633,65175006,-7368097,72600435,-75000000,151904017,25944725,-38245366,-23857341,-60432117,5802422,-69590483,-23990820,173118121,1082730962,7792502,30891409,-61900000,276779543,41231041,-13541018,16658558,90466177,106104344,138000000,24889998,452068851,-34682442,-39255262,-12327950,196697520,223456605,336247917,769838758,341983149,239457509,207448382,237594032,229492681,249131050,230854823,170031094,36643346,135388341,-32714831,101183863,368140005,39660784,91025640,48000000,132466756,52919055,0,111584879,84984035,20000098,64748021,145529201,46672912,65560026,61457682,-2887336,-4022705,-4012679,-36438863,90112671,-15581387,-37712956,-8222894,0,-50075967,-50129433,-61403089,-51337973,-52247060,-12041304,-31370522,72915111,-8720548,125000000,630491347,3069884,474513985,-24568887,149022588,-30958495,-38237989,47160734,-29710088,-27900910,43280098,17387857,43265139,146404396,123198313,-41696962,411840909,137277636,304111707,324257136,7715436,210293450,400517383,303237933,107855065,380809770,185821495,63107642,155288523,146780824,98442937,63884132,185000211,100270147,4700000,99945894,-65000000,114379533,97091208,68821816,103862963,91974557,63905366,34176497,-65000000,175159255,28762516,24456761,-65000000,-678499,37853753,-21454636,-47781920,-65000000,6154592,-7906294,13681566,-25592384,10608570,148427584,82180323,233655431,-20908933,857100000,-37948000,153887717,56545703,37595121,65666415,45879496,-20180936,-43279825,111760117,-53000000,120953723,357610419,436642939,184082376,224600000,253625427,164432665,308330363,154034224,294194034,89705852,204118201,148613188,104433867,70940411,33375151,116070171,33354918,111757863,101844840,97920733,69181830,250256926,144594016,-60000000,13664962,45230832,126883563,152764291,105333180,14541707,158340595,13648228,-60000000,77551594,0,64596398,103403799,60293714,11112916,110268750,69832389,33318987,-13297099,47139399,99330280,36269812,-60000000,-9122855,0,44324083,-9450893,41134059,145754447,92000000,34696996,48255770,-28316623,409160692,0,-16938018,45200903,2357900,62233971,27784194,-18146652,-28149899,17920346,34945765,7312826,59940815,0,-5098661,-26043392,-4996865,13174566,-60000000,-28279842,-40540573,-12616311,141702264,11073932,18309131,-33711680,-33326758,-7677600,-888798,-42200000,-44357293,-75171919,-29199769,30565421,-9349921,-4526907,-80000000,-2509626,-20968663,-29581440,-60000000,-35000000,125187158,-69833498,725112979,-60000000,483507423,100162788,44854431,-23531725,126015611,-16700508,-60000000,27280250,-14000000,240228084,-7634623,95944660,-11941633,58267375,1347797,92217355,5112895,57006880,1223890,622945399,301366633,275444045,291079773,245218018,74769345,298100420,-55000000,176449203,40000000,97263880,237928194,137330738,99906693,104387195,252077295,168387299,159015089,143685114,150949000,-55000000,122159461,8408614,94022650,1932305,66969216,132361754,72906624,55000000,109773545,86047179,-13389116,25000000,204207227,267862,-20765992,-80000000,-21171682,33472850,58338361,58020255,10209334,-36373581,84648887,19237563,-9695999,-43076064,-43533912,-55000000,30383290,-28716363,34519773,-47000000,7250000,-48583698,101010032,113167691,-45510171,82766062,-4965111,76431368,136458706,-46733791,-45549103,61196498,86804348,126713434,-20750706,45837872,-24099751,73690726,-41962103,0,5761917,300114312,92820716,152999686,557841637,164485654,60803676,46126565,23450437,-34565570,64112375,826594,-52000000,98270999,21779000,47231070,659827462,424409218,77669379,342493908,223552592,499368315,264178011,152292902,123649015,121269535,210095987,204271286,127371441,138441614,163664608,155990978,166972543,0,192786137,162902372,139376254,71626121,102022101,70081841,105446362,38715192,111451538,92851197,150804534,-60000000,60206216,139859560,172809600,56303988,78511035,38323487,19834815,16002004,50020092,174803475,69137784,94492830,44000000,19411370,47437106,37800000,68310,-1830844,59423648,47607453,0,184989584,-5452319,110602194,69208989,-8517793,33719388,-50000000,84394835,-9796980,5495563,-1000000,19425966,104056873,-281389,20462347,-50000000,63309743,33761844,55197635,6714147,-19696928,32169884,8900031,19327201,-7207439,-23800483,10161391,-7722635,-46840695,-15191597,-24964050,-11044402,-40000000,21561644,3612356,-5565561,6976317,-23778362,-11497660,-39458477,-33328495,-39617593,2188922,-27055498,-40148390,-9171460,52138,-55000000,5969000,-43191450,-60000000,-21068599,-37235799,23700000,-28576611,-13651216,159515725,426171806,68929150,55399548,78493655,148397415,0,33000000,-46675670,37498534,2315140,0,42383208,-32071279,15016220,277771424,29745568,55825796,528972,56738726,76305181,-12256692,110212904,0,-8914222,-34620598,261288605,0,67714830,104000000,-36461000,54860818,136000000,-9563192,-40800000,295631208,331141306,172673217,167000000,56702060,55149435,150268056,72615211,130372502,133051587,111749918,76126687,59876233,45683916,96220678,120184237,86183530,46669806,49935764,91885767,68916474,204931766,243258859,39558115,125362582,8854588,0,11070433,54478416,0,103412065,83494610,-6600039,-45000000,-45000000,37966152,31422687,120583018,5181129,-9074310,0,40225693,10664721,2108608,-45000000,-45000000,12881056,-5600000,-6941665,-27699111,-57000000,-30318235,15222298,-33796974,-35676167,-110,-2512610,-31506110,-40392392,-42845460,115078586,-64926294,187824128,324875760,96000000,121615285,256400432,-44000000,81700000,-40515669,61340801,-5772702,37049764,-43000000,5871113,25696770,228248367,4190704,11070807,159585328,321889678,179834564,129963386,30100000,115674180,39885000,73100172,21781810,-42000000,23157539,-42000000,124167015,47162162,-3640020,-27084535,-17872105,146394432,-3106279,-31657368,-30912431,-19000000,174000000,0,52487473,-41000000,632806292,4221189,-33551615,82815558,211171807,277375031,107841558,292000000,86546825,531006128,159011982,112266007,150212113,109295601,67458785,280170008,184920315,137259441,133262620,121834276,204527583,71811453,175862692,89540499,55020213,88798265,129837010,80455994,159564672,84827316,35505856,84731534,118733820,111161491,50636986,101069860,165405498,98259062,90845033,116267476,156781193,146167139,125478348,51753202,50029656,120128460,14682547,47840042,40395048,45412898,100786397,69676311,65670357,34597643,80175290,151185897,86248813,0,52913171,74830111,48974818,51854875,44601681,27347013,5916769,101591324,38000000,-40000000,1797066,-40000000,-65000000,105896422,57552050,1863726,57138686,56618699,-3583107,86069509,-3962091,110887643,0,15707411,20451307,-40000000,0,23063435,15247881,18785180,6442528,-9800895,-8329380,-40000000,-46000000,9627779,-12946185,-35000000,25754228,22771059,2500000,-15667676,20965854,-1827500,-17566085,0,6546197,0,-24649246,20474340,-40000000,-44187007,138274123,-40624819,6471023,-23127329,-25641967,163921954,0,-46604061,-15280785,-9878900,-21097985,-11830329,-20677865,0,0,-34332107,-12354673,-40000000,-29040525,0,-17982197,-17955723,-40000000,-26355708,-16062130,97760134,-12436272,0,-30000000,-40000000,-25000000,47558912,-25000000,0,79000000,60000000,62229792,69485490,-3712212,-130536,-32385720,36850624,4907260,47473609,150622424,167298907,0,81723358,82000000,60216736,76156230,-40000000,23956241,13801187,-35000000,69597242,-23300000,-38000000,20401898,-20619874,-40008098,37536959,-27700000,4629760,60337295,-30517805,0,-37130952,-3741940,-32589251,-30206504,71906372,136567581,117026136,39700000,126720069,63076342,52247624,11451803,25583804,74343513,58404397,355616625,66244770,52758500,232994119,-14665155,14159144,124000000,28572262,16424533,-9831030,8350926,-10749980,0,0,59047633,-23467223,-32996704,26800345,0,424270619,120844753,277940086,376348924,0,286731527,280208309,112934180,82000000,214276927,291551094,104000000,138965010,147300000,34823199,105795793,33915888,204976425,91216940,51369815,-35000000,78374103,23704513,71155843,0,25251371,61608995,20277485,115483765,73758521,77544580,14169908,53058786,57219310,56353501,34307224,0,28405313,6954997,69984862,111500000,0,50416905,133930596,42477008,24901913,0,323292,64423521,85072577,-35000000,28766121,88505027,49606030,37436439,10479110,22120318,-2516590,5263020,-7892040,1098382,-14646768,-9894745,-4800000,58246388,-35000000,38369434,-3611233,15363790,47087155,-15521894,-35000000,-9128166,-36298836,-15705099,-3916401,16680201,-5117355,11216641,10512007,4340177,-30000000,-10480540,28215872,-35000000,-16682849,0,-21321087,-7590111,-27793972,22674226,-33000000,-17491482,-23439194,-10410627,-22493812,26181942,0,7064105,-30348023,-35000000,-35000000,-18161090,-35000000,-20000000,-37364904,25147786,-24503683,0,314319861,-20568747,-1744560,-19695110,-58736034,-32893443,145801819,29013281,-55401412,-34000000,-35000000,-7670000,8382659,203240178,29958599,143959438,-34000000,34626786,107470746,29022014,-33000000,21700105,-2389127,10346186,-33000000,540350000,-7788574,81019290,-10840066,141398518,120036382,-33000000,60328000,48197993,255883523,94041322,21041732,16814909,37055695,-13180652,51615414,115332697,4733909,47566815,-23505211,-3244258,0,28740827,53167639,-13447540,2016165,-32000000,-13590109,-16412596,-32000000,-2562119,-28433363,0,-26085092,-32000000,57960381,10045846,106269971,-16791304,97499205,130772375,176308099,144600318,-6814219,22208180,37106245,73384188,84851622,261776732,200601895,257553595,343554033,320448145,166114570,-15865707,106706683,169200000,90922175,147722310,161502426,182385533,128335153,90400000,294311859,180819611,110161792,131822020,186763646,96885658,86603229,130259319,120545279,73,44787599,130638883,138670000,75834556,81980662,17042000,0,224134910,84281051,75173115,47374674,33833449,0,84663461,50631118,59455697,121119219,0,30282296,38880016,40200000,-30000000,21132598,122427960,162452832,126835339,63772522,99266061,-30000000,15892212,24819301,77195061,42647449,54025816,61709827,60810892,40663276,0,129291809,26842679,23653224,45505973,36486080,54646831,8413606,11122105,13748395,33782078,21376861,6160375,52394288,4742066,11480851,-45000000,18428063,33372757,0,-15540000,20267515,-797116,31911598,0,-5952000,60896147,-30000000,78609310,-12965168,23909751,-8199698,21148651,1070211,5294470,-10795071,-7806769,0,72820008,-13069116,-9775758,-13844219,-26000000,962774,1148328,-14992009,-14631103,-16998743,7922237,536013,-30000000,0,-100000000,-30000000,5114487,-22999988,-16478171,-11381716,34352607,-21545699,32616646,-11804390,8828365,-30000000,18074539,0,0,3102550,5078241,0,-20519686,-15288207,-29891652,0,-30000000,-27472096,0,-30000000,-27000000,-30000000,-30000000,-30000000,121752617,258506194,158438883,7036004,-29000000,0,3013805,-12069815,49636257,0,0,12829644,-7873775,476050219,173634991,305000000,70491683,45178561,19902953,69185582,112767956,64380927,105346506,0,36445708,74356381,59728529,-12862698,50441250,60259536,106402450,167312802,49516304,74646581,32780981,69594140,11514713,64601050,68188903,12547440,5000337,72654149,93147947,5139618,3596911,24597999,33926886,0,-15649317,10159905,-19111857,17236543,-19654944,-13989168,-20997739,-11625672,-22315211,-9713701,32700000,-678046,40896829,160000000,189076518,65714875,8650785,19187653,34469904,-2751330,69900000,-27000000,33527873,88229890,17352417,0,102000000,29870414,29308881,-5500000,-14604913,-6841192,200316,0,-13862199,49000000,2000000,-14000000,0,58564310,66282604,-14,4488529,-5851171,-18326578,0,0,157293131,84230332,83449237,264317794,25181600,186957688,74624843,39705772,46296293,35489265,28750000,31891803,64426405,45868327,41918658,61175291,0,12793283,-26000000,17318349,2818995,86044638,-6597680,3657751,-16000000,10800000,-26000000,-26000000,0,-26000000,-5449980,4523226,57466670,581899420,416286195,387800000,236958228,4406464,201830568,9926213,386006740,299365567,99272124,-19444992,181466833,-26000000,84908830,0,55936232,145764026,53000000,51270454,146600000,128997819,256929795,127500343,79914842,94772232,122780440,31505065,66036760,58122980,92719158,74357138,77587063,91766556,0,52278331,97644820,64574188,21836394,30795814,97489822,40884703,-25000000,20984230,38100000,0,52208711,-35000000,0,16604473,14053061,39437847,45442940,11351350,13307627,41980456,0,46102666,34192128,31489558,16597830,13889159,204736344,50992898,-23084528,41122026,52150642,25671850,4063291,75000000,9942188,0,3341469,18288674,-1976566,14171130,49188937,2645491,12886719,23152800,-3432147,-2800000,89977104,-1420000,11993168,15452643,-8000000,-4203153,-13000000,-26000000,0,0,-9568823,3333531,-8000000,-637228,-5170043,5411183,26702483,0,17972994,14334401,-17873542,-12,3831145,-25000000,-9521200,-11588043,-97277,-14000000,0,-1942885,-11100000,25000000,-13792870,-14280643,-12000000,71446075,-14930000,-14675559,-13227539,0,-4364695,-19221647,0,-25000000,-25000000,-20935505,0,-5155021,-22594580,2603069,-25000000,34153101,-24222577,-22663828,5755873,-14410898,0,23531470,0,0,-18500000,46009334,-25000000,-21948000,-25000000,-25000000,20670720,-16215682,109000000,131721132,148363301,-23602716,46181428,65071651,71835402,63055349,17895491,-24997888,12609995,18105111,-24000000,44729358,0,-40000000,-19902,-7709024,-2950947,-11627590,-15565854,6551495,59188165,-23000000,-19437854,-27330724,0,-918274,210710455,78791382,162991646,520400000,122407024,63930411,30302314,63493061,30187659,-23000000,24351251,13642838,-24993601],\"type\":\"scatter\"}],                        {\"template\":{\"data\":{\"histogram2dcontour\":[{\"type\":\"histogram2dcontour\",\"colorbar\":{\"outlinewidth\":0,\"ticks\":\"\"},\"colorscale\":[[0.0,\"#0d0887\"],[0.1111111111111111,\"#46039f\"],[0.2222222222222222,\"#7201a8\"],[0.3333333333333333,\"#9c179e\"],[0.4444444444444444,\"#bd3786\"],[0.5555555555555556,\"#d8576b\"],[0.6666666666666666,\"#ed7953\"],[0.7777777777777778,\"#fb9f3a\"],[0.8888888888888888,\"#fdca26\"],[1.0,\"#f0f921\"]]}],\"choropleth\":[{\"type\":\"choropleth\",\"colorbar\":{\"outlinewidth\":0,\"ticks\":\"\"}}],\"histogram2d\":[{\"type\":\"histogram2d\",\"colorbar\":{\"outlinewidth\":0,\"ticks\":\"\"},\"colorscale\":[[0.0,\"#0d0887\"],[0.1111111111111111,\"#46039f\"],[0.2222222222222222,\"#7201a8\"],[0.3333333333333333,\"#9c179e\"],[0.4444444444444444,\"#bd3786\"],[0.5555555555555556,\"#d8576b\"],[0.6666666666666666,\"#ed7953\"],[0.7777777777777778,\"#fb9f3a\"],[0.8888888888888888,\"#fdca26\"],[1.0,\"#f0f921\"]]}],\"heatmap\":[{\"type\":\"heatmap\",\"colorbar\":{\"outlinewidth\":0,\"ticks\":\"\"},\"colorscale\":[[0.0,\"#0d0887\"],[0.1111111111111111,\"#46039f\"],[0.2222222222222222,\"#7201a8\"],[0.3333333333333333,\"#9c179e\"],[0.4444444444444444,\"#bd3786\"],[0.5555555555555556,\"#d8576b\"],[0.6666666666666666,\"#ed7953\"],[0.7777777777777778,\"#fb9f3a\"],[0.8888888888888888,\"#fdca26\"],[1.0,\"#f0f921\"]]}],\"heatmapgl\":[{\"type\":\"heatmapgl\",\"colorbar\":{\"outlinewidth\":0,\"ticks\":\"\"},\"colorscale\":[[0.0,\"#0d0887\"],[0.1111111111111111,\"#46039f\"],[0.2222222222222222,\"#7201a8\"],[0.3333333333333333,\"#9c179e\"],[0.4444444444444444,\"#bd3786\"],[0.5555555555555556,\"#d8576b\"],[0.6666666666666666,\"#ed7953\"],[0.7777777777777778,\"#fb9f3a\"],[0.8888888888888888,\"#fdca26\"],[1.0,\"#f0f921\"]]}],\"contourcarpet\":[{\"type\":\"contourcarpet\",\"colorbar\":{\"outlinewidth\":0,\"ticks\":\"\"}}],\"contour\":[{\"type\":\"contour\",\"colorbar\":{\"outlinewidth\":0,\"ticks\":\"\"},\"colorscale\":[[0.0,\"#0d0887\"],[0.1111111111111111,\"#46039f\"],[0.2222222222222222,\"#7201a8\"],[0.3333333333333333,\"#9c179e\"],[0.4444444444444444,\"#bd3786\"],[0.5555555555555556,\"#d8576b\"],[0.6666666666666666,\"#ed7953\"],[0.7777777777777778,\"#fb9f3a\"],[0.8888888888888888,\"#fdca26\"],[1.0,\"#f0f921\"]]}],\"surface\":[{\"type\":\"surface\",\"colorbar\":{\"outlinewidth\":0,\"ticks\":\"\"},\"colorscale\":[[0.0,\"#0d0887\"],[0.1111111111111111,\"#46039f\"],[0.2222222222222222,\"#7201a8\"],[0.3333333333333333,\"#9c179e\"],[0.4444444444444444,\"#bd3786\"],[0.5555555555555556,\"#d8576b\"],[0.6666666666666666,\"#ed7953\"],[0.7777777777777778,\"#fb9f3a\"],[0.8888888888888888,\"#fdca26\"],[1.0,\"#f0f921\"]]}],\"mesh3d\":[{\"type\":\"mesh3d\",\"colorbar\":{\"outlinewidth\":0,\"ticks\":\"\"}}],\"scatter\":[{\"fillpattern\":{\"fillmode\":\"overlay\",\"size\":10,\"solidity\":0.2},\"type\":\"scatter\"}],\"parcoords\":[{\"type\":\"parcoords\",\"line\":{\"colorbar\":{\"outlinewidth\":0,\"ticks\":\"\"}}}],\"scatterpolargl\":[{\"type\":\"scatterpolargl\",\"marker\":{\"colorbar\":{\"outlinewidth\":0,\"ticks\":\"\"}}}],\"bar\":[{\"error_x\":{\"color\":\"#2a3f5f\"},\"error_y\":{\"color\":\"#2a3f5f\"},\"marker\":{\"line\":{\"color\":\"#E5ECF6\",\"width\":0.5},\"pattern\":{\"fillmode\":\"overlay\",\"size\":10,\"solidity\":0.2}},\"type\":\"bar\"}],\"scattergeo\":[{\"type\":\"scattergeo\",\"marker\":{\"colorbar\":{\"outlinewidth\":0,\"ticks\":\"\"}}}],\"scatterpolar\":[{\"type\":\"scatterpolar\",\"marker\":{\"colorbar\":{\"outlinewidth\":0,\"ticks\":\"\"}}}],\"histogram\":[{\"marker\":{\"pattern\":{\"fillmode\":\"overlay\",\"size\":10,\"solidity\":0.2}},\"type\":\"histogram\"}],\"scattergl\":[{\"type\":\"scattergl\",\"marker\":{\"colorbar\":{\"outlinewidth\":0,\"ticks\":\"\"}}}],\"scatter3d\":[{\"type\":\"scatter3d\",\"line\":{\"colorbar\":{\"outlinewidth\":0,\"ticks\":\"\"}},\"marker\":{\"colorbar\":{\"outlinewidth\":0,\"ticks\":\"\"}}}],\"scattermapbox\":[{\"type\":\"scattermapbox\",\"marker\":{\"colorbar\":{\"outlinewidth\":0,\"ticks\":\"\"}}}],\"scatterternary\":[{\"type\":\"scatterternary\",\"marker\":{\"colorbar\":{\"outlinewidth\":0,\"ticks\":\"\"}}}],\"scattercarpet\":[{\"type\":\"scattercarpet\",\"marker\":{\"colorbar\":{\"outlinewidth\":0,\"ticks\":\"\"}}}],\"carpet\":[{\"aaxis\":{\"endlinecolor\":\"#2a3f5f\",\"gridcolor\":\"white\",\"linecolor\":\"white\",\"minorgridcolor\":\"white\",\"startlinecolor\":\"#2a3f5f\"},\"baxis\":{\"endlinecolor\":\"#2a3f5f\",\"gridcolor\":\"white\",\"linecolor\":\"white\",\"minorgridcolor\":\"white\",\"startlinecolor\":\"#2a3f5f\"},\"type\":\"carpet\"}],\"table\":[{\"cells\":{\"fill\":{\"color\":\"#EBF0F8\"},\"line\":{\"color\":\"white\"}},\"header\":{\"fill\":{\"color\":\"#C8D4E3\"},\"line\":{\"color\":\"white\"}},\"type\":\"table\"}],\"barpolar\":[{\"marker\":{\"line\":{\"color\":\"#E5ECF6\",\"width\":0.5},\"pattern\":{\"fillmode\":\"overlay\",\"size\":10,\"solidity\":0.2}},\"type\":\"barpolar\"}],\"pie\":[{\"automargin\":true,\"type\":\"pie\"}]},\"layout\":{\"autotypenumbers\":\"strict\",\"colorway\":[\"#636efa\",\"#EF553B\",\"#00cc96\",\"#ab63fa\",\"#FFA15A\",\"#19d3f3\",\"#FF6692\",\"#B6E880\",\"#FF97FF\",\"#FECB52\"],\"font\":{\"color\":\"#2a3f5f\"},\"hovermode\":\"closest\",\"hoverlabel\":{\"align\":\"left\"},\"paper_bgcolor\":\"white\",\"plot_bgcolor\":\"#E5ECF6\",\"polar\":{\"bgcolor\":\"#E5ECF6\",\"angularaxis\":{\"gridcolor\":\"white\",\"linecolor\":\"white\",\"ticks\":\"\"},\"radialaxis\":{\"gridcolor\":\"white\",\"linecolor\":\"white\",\"ticks\":\"\"}},\"ternary\":{\"bgcolor\":\"#E5ECF6\",\"aaxis\":{\"gridcolor\":\"white\",\"linecolor\":\"white\",\"ticks\":\"\"},\"baxis\":{\"gridcolor\":\"white\",\"linecolor\":\"white\",\"ticks\":\"\"},\"caxis\":{\"gridcolor\":\"white\",\"linecolor\":\"white\",\"ticks\":\"\"}},\"coloraxis\":{\"colorbar\":{\"outlinewidth\":0,\"ticks\":\"\"}},\"colorscale\":{\"sequential\":[[0.0,\"#0d0887\"],[0.1111111111111111,\"#46039f\"],[0.2222222222222222,\"#7201a8\"],[0.3333333333333333,\"#9c179e\"],[0.4444444444444444,\"#bd3786\"],[0.5555555555555556,\"#d8576b\"],[0.6666666666666666,\"#ed7953\"],[0.7777777777777778,\"#fb9f3a\"],[0.8888888888888888,\"#fdca26\"],[1.0,\"#f0f921\"]],\"sequentialminus\":[[0.0,\"#0d0887\"],[0.1111111111111111,\"#46039f\"],[0.2222222222222222,\"#7201a8\"],[0.3333333333333333,\"#9c179e\"],[0.4444444444444444,\"#bd3786\"],[0.5555555555555556,\"#d8576b\"],[0.6666666666666666,\"#ed7953\"],[0.7777777777777778,\"#fb9f3a\"],[0.8888888888888888,\"#fdca26\"],[1.0,\"#f0f921\"]],\"diverging\":[[0,\"#8e0152\"],[0.1,\"#c51b7d\"],[0.2,\"#de77ae\"],[0.3,\"#f1b6da\"],[0.4,\"#fde0ef\"],[0.5,\"#f7f7f7\"],[0.6,\"#e6f5d0\"],[0.7,\"#b8e186\"],[0.8,\"#7fbc41\"],[0.9,\"#4d9221\"],[1,\"#276419\"]]},\"xaxis\":{\"gridcolor\":\"white\",\"linecolor\":\"white\",\"ticks\":\"\",\"title\":{\"standoff\":15},\"zerolinecolor\":\"white\",\"automargin\":true,\"zerolinewidth\":2},\"yaxis\":{\"gridcolor\":\"white\",\"linecolor\":\"white\",\"ticks\":\"\",\"title\":{\"standoff\":15},\"zerolinecolor\":\"white\",\"automargin\":true,\"zerolinewidth\":2},\"scene\":{\"xaxis\":{\"backgroundcolor\":\"#E5ECF6\",\"gridcolor\":\"white\",\"linecolor\":\"white\",\"showbackground\":true,\"ticks\":\"\",\"zerolinecolor\":\"white\",\"gridwidth\":2},\"yaxis\":{\"backgroundcolor\":\"#E5ECF6\",\"gridcolor\":\"white\",\"linecolor\":\"white\",\"showbackground\":true,\"ticks\":\"\",\"zerolinecolor\":\"white\",\"gridwidth\":2},\"zaxis\":{\"backgroundcolor\":\"#E5ECF6\",\"gridcolor\":\"white\",\"linecolor\":\"white\",\"showbackground\":true,\"ticks\":\"\",\"zerolinecolor\":\"white\",\"gridwidth\":2}},\"shapedefaults\":{\"line\":{\"color\":\"#2a3f5f\"}},\"annotationdefaults\":{\"arrowcolor\":\"#2a3f5f\",\"arrowhead\":0,\"arrowwidth\":1},\"geo\":{\"bgcolor\":\"white\",\"landcolor\":\"#E5ECF6\",\"subunitcolor\":\"white\",\"showland\":true,\"showlakes\":true,\"lakecolor\":\"white\"},\"title\":{\"x\":0.05},\"mapbox\":{\"style\":\"light\"}}}},                        {\"responsive\": true}                    ).then(function(){\n",
              "                            \n",
              "var gd = document.getElementById('891eac95-4362-41f6-81ed-cc9d6c214e97');\n",
              "var x = new MutationObserver(function (mutations, observer) {{\n",
              "        var display = window.getComputedStyle(gd).display;\n",
              "        if (!display || display === 'none') {{\n",
              "            console.log([gd, 'removed!']);\n",
              "            Plotly.purge(gd);\n",
              "            observer.disconnect();\n",
              "        }}\n",
              "}});\n",
              "\n",
              "// Listen for the removal of the full notebook cells\n",
              "var notebookContainer = gd.closest('#notebook-container');\n",
              "if (notebookContainer) {{\n",
              "    x.observe(notebookContainer, {childList: true});\n",
              "}}\n",
              "\n",
              "// Listen for the clearing of the current output cell\n",
              "var outputEl = gd.closest('.output');\n",
              "if (outputEl) {{\n",
              "    x.observe(outputEl, {childList: true});\n",
              "}}\n",
              "\n",
              "                        })                };                            </script>        </div>\n",
              "</body>\n",
              "</html>"
            ]
          },
          "metadata": {}
        }
      ],
      "source": [
        "import plotly.graph_objects as go\n",
        "scatter = go.Scatter(x = years,\n",
        "                     y = net_revenues,\n",
        "                     hovertext=titles,\n",
        "                    marker = dict(size=8, color=colors),\n",
        "                     mode = 'markers')\n",
        "fig = go.Figure(scatter)\n",
        "fig"
      ]
    },
    {
      "cell_type": "markdown",
      "metadata": {
        "id": "SCAjfHx-n9js"
      },
      "source": [
        "<img src=\"https://github.com/eng-6-22/mod-1-a-data-structures/blob/master/3-coercing-filtering-data/revenue-genres.png?raw=1\" width=\"60%\">"
      ]
    },
    {
      "cell_type": "markdown",
      "metadata": {
        "id": "iZFODF5wn9js"
      },
      "source": [
        "> No one said it was gonna be pretty."
      ]
    },
    {
      "cell_type": "markdown",
      "metadata": {
        "id": "pZ8HX6Uxn9js"
      },
      "source": [
        "### Creating new dictionaries"
      ]
    },
    {
      "cell_type": "markdown",
      "metadata": {
        "id": "VTX5H_sLn9js"
      },
      "source": [
        "Now let's create new dictionaries of movie titles, revenues and dates.  \n",
        "\n",
        "We'll do so in steps.  First, let's first pair together the lists of `titles`, `net_revenues` and `dates`.  The paired data should be a list where each element contains this data for each movie."
      ]
    },
    {
      "cell_type": "code",
      "execution_count": 5,
      "metadata": {
        "id": "WWT1tFfGn9js",
        "outputId": "a7d4bb0a-697f-4df7-bfff-96306b4088f3",
        "colab": {
          "base_uri": "https://localhost:8080/"
        }
      },
      "outputs": [
        {
          "output_type": "execute_result",
          "data": {
            "text/plain": [
              "[('Avatar', 2550965087),\n",
              " (\"Pirates of the Caribbean: At World's End\", 661000000)]"
            ]
          },
          "metadata": {},
          "execution_count": 5
        }
      ],
      "source": [
        "from pandas.core.tools.datetimes import to_datetime\n",
        "titles_revenues = [(movie['title'],movie['revenue']-movie['budget'])  for movie in movies]\n",
        "titles_revenues[:2]"
      ]
    },
    {
      "cell_type": "code",
      "execution_count": 6,
      "metadata": {
        "id": "ZZ_oqitJn9jt",
        "outputId": "e879052a-5c8f-4597-e9c7-e0679c7341a2",
        "colab": {
          "base_uri": "https://localhost:8080/"
        }
      },
      "outputs": [
        {
          "output_type": "execute_result",
          "data": {
            "text/plain": [
              "[('Avatar', 2550965087),\n",
              " (\"Pirates of the Caribbean: At World's End\", 661000000),\n",
              " ('Spectre', 635674609)]"
            ]
          },
          "metadata": {},
          "execution_count": 6
        }
      ],
      "source": [
        "titles_revenues[:3]\n",
        "# [('Avatar', 2550965087, datetime.datetime(2009, 12, 1, 0, 0)),\n",
        "#  (\"Pirates of the Caribbean: At World's End\",\n",
        "#   661000000,\n",
        "#   datetime.datetime(2007, 5, 1, 0, 0)),\n",
        "#  ('Spectre', 635674609, datetime.datetime(2015, 10, 1, 0, 0))]"
      ]
    },
    {
      "cell_type": "markdown",
      "metadata": {
        "id": "F-eZGuVbn9jt"
      },
      "source": [
        "Now from here, create a list of dictionaries, where there is a new dictionary for every movie.  The keys are defined below."
      ]
    },
    {
      "cell_type": "code",
      "execution_count": 42,
      "metadata": {
        "id": "eM1_wjinn9jt",
        "outputId": "169d7df5-3ea5-43a1-96ba-fc3e2305a8ad",
        "colab": {
          "base_uri": "https://localhost:8080/"
        }
      },
      "outputs": [
        {
          "output_type": "execute_result",
          "data": {
            "text/plain": [
              "{'title': 'Avatar', 'net_revenue': 2550965087}"
            ]
          },
          "metadata": {},
          "execution_count": 42
        }
      ],
      "source": [
        "keys = ['title', 'net_revenue']\n",
        "\n",
        "first = ('Avatar', 2550965087)\n",
        "\n",
        "new = dict(zip(keys,first))\n",
        "new"
      ]
    },
    {
      "cell_type": "markdown",
      "metadata": {
        "id": "AX7aA7Ugn9jt"
      },
      "source": [
        "Use the paired data above to create the new dictionaries."
      ]
    },
    {
      "cell_type": "code",
      "execution_count": 74,
      "metadata": {
        "id": "gdKfUVtAn9jt",
        "outputId": "aa19acfb-6c16-4123-cc09-3781f80b68f3",
        "colab": {
          "base_uri": "https://localhost:8080/"
        }
      },
      "outputs": [
        {
          "output_type": "execute_result",
          "data": {
            "text/plain": [
              "[{'title': 'Avatar', 'net_revenue': 2550965087},\n",
              " {'title': \"Pirates of the Caribbean: At World's End\",\n",
              "  'net_revenue': 661000000},\n",
              " {'title': 'Spectre', 'net_revenue': 635674609}]"
            ]
          },
          "metadata": {},
          "execution_count": 74
        }
      ],
      "source": [
        "movie_summaries = []\n",
        "for item in titles_revenues:\n",
        "   new= dict(zip(keys,item))\n",
        "   movie_summaries.append(new)\n",
        "\n",
        "movie_summaries[:3]\n",
        "\n"
      ]
    },
    {
      "cell_type": "code",
      "source": [
        "for item in titles_revenues:\n",
        "  result_dict = {key: value for key, value in zip(keys, item)}\n",
        "\n",
        "\n",
        "result_dict"
      ],
      "metadata": {
        "id": "7kEbhQPePrYT",
        "outputId": "82ed48d6-81ad-4407-96db-b1f6a6cfaad0",
        "colab": {
          "base_uri": "https://localhost:8080/"
        }
      },
      "execution_count": 52,
      "outputs": [
        {
          "output_type": "execute_result",
          "data": {
            "text/plain": [
              "{'title': 'The Adventurer: The Curse of the Midas Box',\n",
              " 'net_revenue': -24993601}"
            ]
          },
          "metadata": {},
          "execution_count": 52
        }
      ]
    },
    {
      "cell_type": "code",
      "execution_count": 75,
      "metadata": {
        "id": "QtBDNJn0n9ju",
        "outputId": "3808e278-3dc7-4515-9bd8-9e3d32c22b1f",
        "colab": {
          "base_uri": "https://localhost:8080/"
        }
      },
      "outputs": [
        {
          "output_type": "execute_result",
          "data": {
            "text/plain": [
              "[{'title': 'Avatar', 'net_revenue': 2550965087},\n",
              " {'title': \"Pirates of the Caribbean: At World's End\",\n",
              "  'net_revenue': 661000000},\n",
              " {'title': 'Spectre', 'net_revenue': 635674609}]"
            ]
          },
          "metadata": {},
          "execution_count": 75
        }
      ],
      "source": [
        "\n",
        "movie_summaries[:3]\n",
        "# [{'title': 'Avatar', 'net_revenue': 2550965087},\n",
        "#  {'title': \"Pirates of the Caribbean: At World's End\",\n",
        "#   'net_revenue': 661000000},\n",
        "#  {'title': 'Spectre', 'net_revenue': 635674609}]"
      ]
    },
    {
      "cell_type": "markdown",
      "metadata": {
        "id": "RZ7lfUcln9jz"
      },
      "source": [
        "Then sort the movies by the amount of net revenue they earned, from most to least."
      ]
    },
    {
      "cell_type": "code",
      "execution_count": 79,
      "metadata": {
        "id": "8X3-0puQn9jz"
      },
      "outputs": [],
      "source": [
        "sorted_movies = sorted(movie_summaries , key=lambda x: x['net_revenue'], reverse= True)"
      ]
    },
    {
      "cell_type": "code",
      "execution_count": 80,
      "metadata": {
        "id": "Mfw1GpfVn9jz",
        "outputId": "adfb1124-fc9a-4a09-f16a-bf85630f68d0",
        "colab": {
          "base_uri": "https://localhost:8080/"
        }
      },
      "outputs": [
        {
          "output_type": "execute_result",
          "data": {
            "text/plain": [
              "[{'title': 'Avatar', 'net_revenue': 2550965087},\n",
              " {'title': 'Titanic', 'net_revenue': 1645034188},\n",
              " {'title': 'Jurassic World', 'net_revenue': 1363528810},\n",
              " {'title': 'Furious 7', 'net_revenue': 1316249360},\n",
              " {'title': 'The Avengers', 'net_revenue': 1299557910}]"
            ]
          },
          "metadata": {},
          "execution_count": 80
        }
      ],
      "source": [
        "sorted_movies[:5]"
      ]
    },
    {
      "cell_type": "markdown",
      "metadata": {
        "id": "sdw7h0aFn9j0"
      },
      "source": [
        "### Summary"
      ]
    },
    {
      "cell_type": "markdown",
      "metadata": {
        "id": "Z--wtKzwn9j1"
      },
      "source": [
        "In this lesson we practiced using loops and list comprehensions to coerce our data.  We saw that both loops and list comprehensions perform the same operation, but that a list comprehension is shorter syntactically ."
      ]
    },
    {
      "cell_type": "markdown",
      "metadata": {
        "id": "PBV9CiwYn9j2"
      },
      "source": [
        "```python\n",
        "# ordinary loops\n",
        "titles = []\n",
        "for movie in movies:\n",
        "    titles.append(movie['title'])\n",
        "    \n",
        "# list comprehensions\n",
        "titles = [movie['title'] for movie in movies]\n",
        "```"
      ]
    },
    {
      "cell_type": "markdown",
      "metadata": {
        "id": "hR7JALScn9j2"
      },
      "source": [
        "We also practiced pairing up two lists of data with the `zip` method."
      ]
    }
  ],
  "metadata": {
    "kernelspec": {
      "display_name": "Python 3 (ipykernel)",
      "language": "python",
      "name": "python3"
    },
    "language_info": {
      "codemirror_mode": {
        "name": "ipython",
        "version": 3
      },
      "file_extension": ".py",
      "mimetype": "text/x-python",
      "name": "python",
      "nbconvert_exporter": "python",
      "pygments_lexer": "ipython3",
      "version": "3.10.6"
    },
    "colab": {
      "provenance": []
    }
  },
  "nbformat": 4,
  "nbformat_minor": 0
}