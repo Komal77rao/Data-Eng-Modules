{
  "cells": [
    {
      "cell_type": "markdown",
      "metadata": {
        "id": "view-in-github",
        "colab_type": "text"
      },
      "source": [
        "<a href=\"https://colab.research.google.com/github/Komal77rao/Data-Eng-Modules/blob/main/8-testing/3-writing-tests/3-practice-writing-tests.ipynb\" target=\"_parent\"><img src=\"https://colab.research.google.com/assets/colab-badge.svg\" alt=\"Open In Colab\"/></a>"
      ]
    },
    {
      "cell_type": "markdown",
      "metadata": {
        "id": "29KP5okHAr1A"
      },
      "source": [
        "# Practice Writing Tests"
      ]
    },
    {
      "cell_type": "markdown",
      "metadata": {
        "id": "g9hYmhtJAr1W"
      },
      "source": [
        "### Introduction"
      ]
    },
    {
      "cell_type": "markdown",
      "metadata": {
        "id": "k4jp7a58Ar1Y"
      },
      "source": [
        "In the last lesson, we saw some of the mechanics about how the `pytest` library works.  As we know, a testing frame just automates checking that our functions return the correct value, given certain inputs.  \n",
        "\n",
        "With `pytest`, it helps us automate this by looking for all of the test files when `pytest` is run.  And it does this by looking for files that begin with `test_`.  Then inside of each of these files, it looks for functions that begins with `test_`."
      ]
    },
    {
      "cell_type": "markdown",
      "metadata": {
        "id": "rZ-3AHfzAr1d"
      },
      "source": [
        "### 1. Doing the Work"
      ]
    },
    {
      "cell_type": "markdown",
      "metadata": {
        "id": "18z7ZWh-Ar1e"
      },
      "source": [
        "Ok, now it's your turn to practice writing some tests."
      ]
    },
    {
      "cell_type": "markdown",
      "metadata": {
        "id": "XIj680kOAr1h"
      },
      "source": [
        "a) Setup the Data\n",
        "\n",
        "Start by creating a file called `test_songs.py`, and copy the list of `songs` below into the file."
      ]
    },
    {
      "cell_type": "code",
      "execution_count": 1,
      "metadata": {
        "id": "FHLZ18PpAr1n"
      },
      "outputs": [],
      "source": [
        "songs = [{'rank': 1, 'song': 'Like a Rolling Stone', 'artist': 'Bob Dylan', 'year': 1965},\n",
        "         {'rank': 2, 'song': 'Satisfaction', 'artist': 'The Rolling Stones', 'year': 1965},\n",
        "         {'rank': 5, 'song': 'Respect', 'artist': 'Aretha Franklin', 'year': 1967}]"
      ]
    },
    {
      "cell_type": "markdown",
      "metadata": {
        "id": "yyOrvx8XAr1q"
      },
      "source": [
        "b) Write the tests and code"
      ]
    },
    {
      "cell_type": "markdown",
      "metadata": {
        "id": "uWxqh1u2Ar1t"
      },
      "source": [
        "Next, let's write the folowing functions.  \n",
        "\n",
        "> For each of the below, start by writing the tests for the function, and then after writing the tests for an individual function, write the corresponding function."
      ]
    },
    {
      "cell_type": "markdown",
      "metadata": {
        "id": "z2XIbdn5Ar1t"
      },
      "source": [
        "1. `find_by_artist(songs, artist_name)` (write two tests)\n",
        "    * The function should take in two arguments of `songs` and an `artist_name`.\n",
        "    * This should return a list of songs with the matching artist.  \n",
        "    * It should return an empty list if there are no matches.  \n",
        "    \n",
        "2. `display_song_names(songs)` (write one test)\n",
        "    * It should take in a list of songs (as dictionaries), and return a list of the corresponding song names.\n",
        "    \n",
        "3. `alphebatize(songs)` (write two tests)\n",
        "    * It should take in a list of songs in alphabetical order and return a list of songs in alphabetical order.\n",
        "    * It should take an optional argument where we reverse the alphabetical order of the song.\n",
        "    * The return value in each case should be a list of dictionaries.\n",
        "    \n",
        "4. `tracks_from(album)`\n",
        "    * It takes in an album, and returns the list of song names\n",
        "    "
      ]
    },
    {
      "cell_type": "code",
      "source": [
        "def find_by_artist(songs, artist_name):\n",
        "  for song in songs:\n",
        "    if song['artist'] == artist_name:\n",
        "      return song\n",
        "\n",
        "def display_song_names(songs):\n",
        "  return [song['song'] for song in songs]\n",
        "\n",
        "def alphebatize(songs, order = False ):\n",
        "  list_songs = sorted(songs, key= lambda x: x['song'], reverse = order)\n",
        "  return [song['song'] for song in list_songs]\n",
        "\n",
        ""
      ],
      "metadata": {
        "id": "218OlbilB26K",
        "outputId": "2892e35e-3477-48be-da29-4358c79813af",
        "colab": {
          "base_uri": "https://localhost:8080/"
        }
      },
      "execution_count": 22,
      "outputs": [
        {
          "output_type": "execute_result",
          "data": {
            "text/plain": [
              "['Like a Rolling Stone', 'Respect', 'Satisfaction']"
            ]
          },
          "metadata": {},
          "execution_count": 22
        }
      ]
    },
    {
      "cell_type": "code",
      "source": [
        "\n",
        "\n",
        "def test_alphebatize():\n",
        "  songs = [{'rank': 1, 'song': 'Like a Rolling Stone','artist': 'Bob Dylan','year': 1965}]\n",
        "  assert alphebatize(songs, order=False) == ['Like a Rolling Stone', 'Respect', 'Satisfaction']\n",
        "\n",
        "\n",
        "def test_find_by_artist():\n",
        "  artist_name = 'Bob Dylan'\n",
        "  assert find_by_artist(songs, artist_name) == [{'rank': 1, 'song': 'Like a Rolling Stone','artist': 'Bob Dylan','year': 1965}]\n",
        "\n",
        "\n",
        "\n",
        "\n",
        "def test_display_song_names():\n",
        "  songs = [{'rank': 1, 'song': 'Like a Rolling Stone','artist': 'Bob Dylan','year': 1965}]\n",
        "  assert display_song_names(songs) == ['Like a Rolling Stone']\n",
        "\n"
      ],
      "metadata": {
        "id": "Hni80_m4D8Ru"
      },
      "execution_count": 12,
      "outputs": []
    },
    {
      "cell_type": "markdown",
      "metadata": {
        "id": "bJaBrn1rAr1u"
      },
      "source": [
        "### 2. Using Different Files"
      ]
    },
    {
      "cell_type": "markdown",
      "metadata": {
        "id": "OewKlIcfAr1v"
      },
      "source": [
        "Finally, now that we have written the tests and code in one file, let's use two different files.  \n",
        "\n",
        "Create a new file called `songs.py`, and move the code that is not related to the tests into that file (that is the four functions specified above.)\n",
        "\n",
        "Then, in the `test_songs.py` file, import the functions from the `songs.py` file, then run the tests again to see that they pass."
      ]
    },
    {
      "cell_type": "markdown",
      "metadata": {
        "id": "lQ5KWwBLAr1y"
      },
      "source": [
        "### Summary"
      ]
    },
    {
      "cell_type": "markdown",
      "metadata": {
        "id": "OOJB-dtrAr1y"
      },
      "source": [
        "In this lesson, we practiced writing tests.  We did so by thinking about the different requirements of each function, writing tests to assert that the function met those requirements, and then filling in the functions so that they passed those tests.  Finally, we separated our functions and the tests for those functions into different files."
      ]
    }
  ],
  "metadata": {
    "kernelspec": {
      "display_name": "Python 3",
      "language": "python",
      "name": "python3"
    },
    "language_info": {
      "codemirror_mode": {
        "name": "ipython",
        "version": 3
      },
      "file_extension": ".py",
      "mimetype": "text/x-python",
      "name": "python",
      "nbconvert_exporter": "python",
      "pygments_lexer": "ipython3",
      "version": "3.8.3"
    },
    "colab": {
      "provenance": [],
      "include_colab_link": true
    }
  },
  "nbformat": 4,
  "nbformat_minor": 0
}