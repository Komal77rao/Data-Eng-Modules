{
  "cells": [
    {
      "cell_type": "markdown",
      "metadata": {
        "id": "view-in-github",
        "colab_type": "text"
      },
      "source": [
        "<a href=\"https://colab.research.google.com/github/Komal77rao/Data-Eng-Modules/blob/main/8-testing/3-writing-tests/4-practice-navigating.ipynb\" target=\"_parent\"><img src=\"https://colab.research.google.com/assets/colab-badge.svg\" alt=\"Open In Colab\"/></a>"
      ]
    },
    {
      "cell_type": "markdown",
      "metadata": {
        "id": "Z0PnTVlWLgsM"
      },
      "source": [
        "# Writing FourSquare Tests"
      ]
    },
    {
      "cell_type": "markdown",
      "metadata": {
        "id": "NpcTzHi1Lgth"
      },
      "source": [
        "### Introduction"
      ]
    },
    {
      "cell_type": "markdown",
      "metadata": {
        "id": "IG6lDqGtLgtx"
      },
      "source": [
        "Now in this lesson, let's practice working with the Foursquare API and writing functions to better help us navigate the API.  In this lesson we'll try to use test driven development.  This means that we should write the tests first, and then can move onto the code."
      ]
    },
    {
      "cell_type": "markdown",
      "metadata": {
        "id": "41WU6bTgLgt3"
      },
      "source": [
        "### A. Setup the files"
      ]
    },
    {
      "cell_type": "markdown",
      "metadata": {
        "id": "Sxdxy-yULguG"
      },
      "source": [
        "Let's review some functions tasks from the FourSquare lab, and use them to practice writing tests."
      ]
    },
    {
      "cell_type": "markdown",
      "metadata": {
        "id": "zKtiqOXGLguG"
      },
      "source": [
        "Begin by creating `index.py` and `test_index.py` files."
      ]
    },
    {
      "cell_type": "markdown",
      "metadata": {
        "id": "bgOuQwR1LguK"
      },
      "source": [
        "### B. The Querying Params method\n",
        "\n",
        "Let's rewrite the `params_string` method."
      ]
    },
    {
      "cell_type": "markdown",
      "metadata": {
        "id": "KUuKexMALguN"
      },
      "source": [
        "#### 1. Write the tests first.\n",
        "\n",
        "Let's begin by writing the tests for params string.  "
      ]
    },
    {
      "cell_type": "markdown",
      "metadata": {
        "id": "FYsKONPoLguP"
      },
      "source": [
        "a) The first test should check for the following."
      ]
    },
    {
      "cell_type": "markdown",
      "metadata": {
        "id": "ftJUlZieLguU"
      },
      "source": [
        "* Input: `params = {'ll': \"40.7,-74\", \"query\": \"tacos\"}`\n",
        "* Output: `'&ll=40.7,-74&query=tacos'`"
      ]
    },
    {
      "cell_type": "markdown",
      "metadata": {
        "id": "QWDx5T4wLgue"
      },
      "source": [
        "> Write this in the `test_index.py` file."
      ]
    },
    {
      "cell_type": "code",
      "source": [
        "def test_params_string():\n",
        "  params = {'ll': \"40.7,-74\", \"query\": \"tacos\"}\n",
        "  assert params_string(params) == '&ll=40.7,-74&query=tacos'"
      ],
      "metadata": {
        "id": "m_BxaYCmMHCA"
      },
      "execution_count": null,
      "outputs": []
    },
    {
      "cell_type": "markdown",
      "metadata": {
        "id": "YDfWkAqtLguf"
      },
      "source": [
        "b. Next, write another test that passes through *three* key value pairs, and checks that the proper output is returned."
      ]
    },
    {
      "cell_type": "code",
      "source": [
        "def test_params_string_additional():\n",
        "  params = {'ll': \"40.7,-74\", \"query\": \"tacos\", \"type\": \"mexican\"}\n",
        "  assert params_string(params) == '&ll=40.7,-74&query=tacos&type=mexican'"
      ],
      "metadata": {
        "id": "suANWSJ2MfD2"
      },
      "execution_count": null,
      "outputs": []
    },
    {
      "cell_type": "code",
      "source": [],
      "metadata": {
        "id": "GySm79r6MfQs"
      },
      "execution_count": null,
      "outputs": []
    },
    {
      "cell_type": "markdown",
      "metadata": {
        "id": "qzEOjA-ZLguj"
      },
      "source": [
        "#### 2. Then the code\n",
        "\n",
        "Finally write the `params_string` function to pass both tests.  We can write that code in the `index.py` file."
      ]
    },
    {
      "cell_type": "code",
      "execution_count": 6,
      "metadata": {
        "id": "3B_7SmmTLguk",
        "outputId": "5a1bbe8b-6518-40e6-8f38-7d951cf7b713",
        "colab": {
          "base_uri": "https://localhost:8080/",
          "height": 35
        }
      },
      "outputs": [
        {
          "output_type": "execute_result",
          "data": {
            "text/plain": [
              "'ll=40.7,-74&query=tacos'"
            ],
            "application/vnd.google.colaboratory.intrinsic+json": {
              "type": "string"
            }
          },
          "metadata": {},
          "execution_count": 6
        }
      ],
      "source": [
        "params = {'ll': \"40.7,-74\", \"query\": \"tacos\"}\n",
        "\n",
        "def params_string(params):\n",
        "  return \"&\".join([\"=\".join(param) for param in params.items()])\n",
        "\n",
        "params_string(params)"
      ]
    },
    {
      "cell_type": "markdown",
      "metadata": {
        "id": "SmvYzFulLguo"
      },
      "source": [
        "### 3. Run the tests"
      ]
    },
    {
      "cell_type": "markdown",
      "metadata": {
        "id": "8f_sOTPWLgup"
      },
      "source": [
        "Then, run the tests by running `pytest` from the terminal to see if the code was written properly."
      ]
    },
    {
      "cell_type": "code",
      "execution_count": 7,
      "metadata": {
        "id": "mnJI5wY-Lguq"
      },
      "outputs": [],
      "source": [
        "def test_params_string_additional():\n",
        "  params = {'ll': \"40.7,-74\", \"query\": \"tacos\", \"type\": \"mexican\"}\n",
        "  assert params_string(params) == 'll=40.7,-74&query=tacos&type=mexican'\n",
        "\n",
        "test_params_string_additional()"
      ]
    },
    {
      "cell_type": "markdown",
      "metadata": {
        "id": "kLgpuLTxLguq"
      },
      "source": [
        "### Extract Venues"
      ]
    },
    {
      "cell_type": "markdown",
      "metadata": {
        "id": "Bln7pPxwLguq"
      },
      "source": [
        "* `extract_details_from_venue` method"
      ]
    },
    {
      "cell_type": "markdown",
      "metadata": {
        "id": "jgkMuM6WLguq"
      },
      "source": [
        "*  Here, we want to write a method that will take a venue, and just return the id, name, and location as values"
      ]
    },
    {
      "cell_type": "markdown",
      "metadata": {
        "id": "6j_wZBEQLguq"
      },
      "source": [
        "1. Begin by writing a test that takes in the input and checks that the appropriate output is returned."
      ]
    },
    {
      "cell_type": "markdown",
      "metadata": {
        "id": "Vhsa8CM0Lgur"
      },
      "source": [
        "2. Then write a function that accomplishes this"
      ]
    },
    {
      "cell_type": "code",
      "execution_count": 8,
      "metadata": {
        "id": "wr_TQovfLgur"
      },
      "outputs": [],
      "source": [
        "def extract_details_from_venue(venue):\n",
        "  return {'id' : venue['id'],\n",
        "          'name': venue['name'],\n",
        "          'location': venue['location']}\n",
        "\n"
      ]
    },
    {
      "cell_type": "code",
      "source": [],
      "metadata": {
        "id": "JpxptekmQ40E"
      },
      "execution_count": null,
      "outputs": []
    },
    {
      "cell_type": "code",
      "source": [
        "def test_extract_details_from_venue():\n",
        "  assert extract_details_from_venue(venue) =={'id': '5b2932a0f5e9d70039787cf2', 'name': 'Los Tacos Al Pastor', 'location': [40.70243624175102, -73.98753900608666]}"
      ],
      "metadata": {
        "id": "gLgERT9VPETK"
      },
      "execution_count": 13,
      "outputs": []
    },
    {
      "cell_type": "code",
      "source": [
        "venue = {'id': '5b2932a0f5e9d70039787cf2',\n",
        "'name': 'Los Tacos Al Pastor',\n",
        "'location': [40.70243624175102, -73.98753900608666],\n",
        "'query': 'tacos',\n",
        "'type': 'mexican'}"
      ],
      "metadata": {
        "id": "JLXYTPtWQIGe"
      },
      "execution_count": 11,
      "outputs": []
    },
    {
      "cell_type": "code",
      "execution_count": 12,
      "metadata": {
        "id": "Lnln6y0-Lgur",
        "outputId": "c1f8ece9-2ea4-4274-ff0e-12c912b96864",
        "colab": {
          "base_uri": "https://localhost:8080/"
        }
      },
      "outputs": [
        {
          "output_type": "execute_result",
          "data": {
            "text/plain": [
              "{'id': '5b2932a0f5e9d70039787cf2',\n",
              " 'name': 'Los Tacos Al Pastor',\n",
              " 'location': [40.70243624175102, -73.98753900608666]}"
            ]
          },
          "metadata": {},
          "execution_count": 12
        }
      ],
      "source": [
        "extract_details_from_venue(venue)\n",
        "# {'id': '5b2932a0f5e9d70039787cf2',\n",
        "#  'name': 'Los Tacos Al Pastor',\n",
        "#  'location': [40.70243624175102, -73.98753900608666]}"
      ]
    },
    {
      "cell_type": "markdown",
      "metadata": {
        "id": "MdiPlyPALgut"
      },
      "source": [
        "### Working with an Individual Venue"
      ]
    },
    {
      "cell_type": "markdown",
      "metadata": {
        "id": "o-K6kiweLguu"
      },
      "source": [
        "1. Write a function that retrieves the details of an individual restaurant"
      ]
    },
    {
      "cell_type": "code",
      "execution_count": null,
      "metadata": {
        "id": "s233vP8CLguu"
      },
      "outputs": [],
      "source": [
        "restaurant_id = \"5b2932a0f5e9d70039787cf2\"\n",
        "\n",
        "\n",
        "def get_details(restaurant_id, auth):\n",
        ""
      ]
    },
    {
      "cell_type": "markdown",
      "metadata": {
        "id": "Jq-vIKmFLguv"
      },
      "source": [
        "2. Write the tests for the `extract_likes` function\n",
        "\n",
        "* The function should take in the details of a restaurant, and return the following `{'rating': 8.2, 'signals': 60, 'likes_count': 45}`"
      ]
    }
  ],
  "metadata": {
    "kernelspec": {
      "display_name": "Python 3",
      "language": "python",
      "name": "python3"
    },
    "language_info": {
      "codemirror_mode": {
        "name": "ipython",
        "version": 3
      },
      "file_extension": ".py",
      "mimetype": "text/x-python",
      "name": "python",
      "nbconvert_exporter": "python",
      "pygments_lexer": "ipython3",
      "version": "3.7.4"
    },
    "colab": {
      "provenance": [],
      "include_colab_link": true
    }
  },
  "nbformat": 4,
  "nbformat_minor": 0
}