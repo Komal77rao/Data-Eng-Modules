{
  "cells": [
    {
      "cell_type": "markdown",
      "metadata": {
        "id": "view-in-github",
        "colab_type": "text"
      },
      "source": [
        "<a href=\"https://colab.research.google.com/github/Komal77rao/Data-Eng-Modules/blob/main/8-testing/1-testing-intro/1-testing-intro.ipynb\" target=\"_parent\"><img src=\"https://colab.research.google.com/assets/colab-badge.svg\" alt=\"Open In Colab\"/></a>"
      ]
    },
    {
      "cell_type": "markdown",
      "metadata": {
        "id": "IXbFCKYre9Ty"
      },
      "source": [
        "# Testing"
      ]
    },
    {
      "cell_type": "markdown",
      "metadata": {
        "id": "VSfY596ie9T6"
      },
      "source": [
        "### Introduction"
      ]
    },
    {
      "cell_type": "markdown",
      "metadata": {
        "id": "_fkwR-iTe9T7"
      },
      "source": [
        "As we write longer programs, the opportunity to introduce bugs into our code increases.  Moreover, as our codebase becomes larger, it can become more difficult to identify what code is causing these bugs.\n",
        "\n",
        "For these reasons and more, it's important to test our code."
      ]
    },
    {
      "cell_type": "markdown",
      "metadata": {
        "id": "QmVxOrfbe9UC"
      },
      "source": [
        "### How to test"
      ]
    },
    {
      "cell_type": "markdown",
      "metadata": {
        "id": "JROnD3HAe9UD"
      },
      "source": [
        "To get started, let's get back to the list of top albums according to Rolling Stones.  Let's load the data."
      ]
    },
    {
      "cell_type": "code",
      "execution_count": 1,
      "metadata": {
        "id": "mskxOl3ze9UM"
      },
      "outputs": [],
      "source": [
        "import pandas as pd\n",
        "url = \"https://raw.githubusercontent.com/data-eng-10-21/mod-1-a-data-structures/master/8-testing/1-testing-intro/track_data.json\"\n",
        "df = pd.read_json(url)\n",
        "albums = df.to_dict('records')"
      ]
    },
    {
      "cell_type": "markdown",
      "metadata": {
        "id": "53gBrlMwe9UP"
      },
      "source": [
        "For each album, we have a list of the tracks on the album."
      ]
    },
    {
      "cell_type": "code",
      "execution_count": 2,
      "metadata": {
        "id": "cPhWGIyoe9US"
      },
      "outputs": [],
      "source": [
        "first_album = albums[0]"
      ]
    },
    {
      "cell_type": "code",
      "execution_count": 3,
      "metadata": {
        "colab": {
          "base_uri": "https://localhost:8080/"
        },
        "id": "rBl5uvHke9Ua",
        "outputId": "859f2ca6-bf31-4462-bec8-dd427e02a7a5"
      },
      "outputs": [
        {
          "output_type": "execute_result",
          "data": {
            "text/plain": [
              "[\"Sgt. Pepper's Lonely Hearts Club Band - Remix\",\n",
              " 'With A Little Help From My Friends - Remix',\n",
              " 'Lucy In The Sky With Diamonds - Remix']"
            ]
          },
          "metadata": {},
          "execution_count": 3
        }
      ],
      "source": [
        "first_album['tracks'][:3]"
      ]
    },
    {
      "cell_type": "markdown",
      "metadata": {
        "id": "U4ReIN6be9Ud"
      },
      "source": [
        "Now remember that we have a `clean_track` method that removes the word `Remix` from the end of the string."
      ]
    },
    {
      "cell_type": "code",
      "execution_count": 4,
      "metadata": {
        "colab": {
          "base_uri": "https://localhost:8080/",
          "height": 35
        },
        "id": "w5WVKONJe9Ue",
        "outputId": "b2ce7254-0d0d-4d25-d75b-6c909e3b79a0"
      },
      "outputs": [
        {
          "output_type": "execute_result",
          "data": {
            "text/plain": [
              "\"Sgt. Pepper's Lonely Hearts Club Band - Remix\""
            ],
            "application/vnd.google.colaboratory.intrinsic+json": {
              "type": "string"
            }
          },
          "metadata": {},
          "execution_count": 4
        }
      ],
      "source": [
        "first_track_first_album = first_album['tracks'][0]\n",
        "first_track_first_album"
      ]
    },
    {
      "cell_type": "code",
      "execution_count": 5,
      "metadata": {
        "id": "r9ehw7-5e9Uf"
      },
      "outputs": [],
      "source": [
        "def clean_track(track_name):\n",
        "    return track_name.split(' - ')[0]"
      ]
    },
    {
      "cell_type": "code",
      "execution_count": 6,
      "metadata": {
        "colab": {
          "base_uri": "https://localhost:8080/",
          "height": 35
        },
        "id": "IYUy4vule9Uh",
        "outputId": "b31ad549-9536-47bb-a073-61ca720b519e"
      },
      "outputs": [
        {
          "output_type": "execute_result",
          "data": {
            "text/plain": [
              "\"Sgt. Pepper's Lonely Hearts Club Band\""
            ],
            "application/vnd.google.colaboratory.intrinsic+json": {
              "type": "string"
            }
          },
          "metadata": {},
          "execution_count": 6
        }
      ],
      "source": [
        "clean_track(first_track_first_album)"
      ]
    },
    {
      "cell_type": "markdown",
      "metadata": {
        "id": "egM_Trxfe9Uh"
      },
      "source": [
        "Now notice how we check that it works.  \n",
        "\n",
        "1. **Setup**: We define some data that sets up our problem.  \n",
        "2. **Execute**: We call the method we want to test.  \n",
        "3. **Result**: We check that the method returns the correct value"
      ]
    },
    {
      "cell_type": "markdown",
      "metadata": {
        "id": "Pu0BYyQhe9Uh"
      },
      "source": [
        "This is precisely how we write a test."
      ]
    },
    {
      "cell_type": "code",
      "execution_count": 7,
      "metadata": {
        "id": "32mWFG6Ee9Uh"
      },
      "outputs": [],
      "source": [
        "# 1. Setup data\n",
        "first_track_first_album = \"Sgt. Pepper's Lonely Hearts Club Band - Remix\"\n",
        "\n",
        "# 2. Execute the method\n",
        "\n",
        "result = clean_track(first_track_first_album)\n",
        "\n",
        "# 3. Check equality\n",
        "\n",
        "# We check that the return value is correct\n",
        "assert result == \"Sgt. Pepper's Lonely Hearts Club Band\""
      ]
    },
    {
      "cell_type": "markdown",
      "metadata": {
        "id": "7mdMMPYve9Uh"
      },
      "source": [
        "Generally, the test is written to be more condensed."
      ]
    },
    {
      "cell_type": "code",
      "execution_count": 10,
      "metadata": {
        "id": "2ZEkSj-Qe9Ui"
      },
      "outputs": [],
      "source": [
        "first_track_first_album = \"Sgt. Pepper's Lonely Hearts Club Band - Remix\"\n",
        "\n",
        "assert clean_track(first_track_first_album) == \"Sgt. Pepper's Lonely Hearts Club Band\""
      ]
    },
    {
      "cell_type": "markdown",
      "metadata": {
        "id": "D_kysukDe9Ui"
      },
      "source": [
        "### Another test"
      ]
    },
    {
      "cell_type": "markdown",
      "metadata": {
        "id": "5wZ-IM56e9Ui"
      },
      "source": [
        "Now let's say that we want to make sure that our `clean_track` method properly handles tracks that have hyphens in the title.  For example, a `track_name` that looks like `\"When I'm - Sixty-Four - Remix\"`."
      ]
    },
    {
      "cell_type": "markdown",
      "metadata": {
        "id": "hKEuV4-de9Uj"
      },
      "source": [
        "1. Setup"
      ]
    },
    {
      "cell_type": "code",
      "execution_count": 13,
      "metadata": {
        "colab": {
          "base_uri": "https://localhost:8080/",
          "height": 35
        },
        "id": "RiHOk1fje9Ul",
        "outputId": "8a7608e5-0ef5-4773-ef0e-36cefdfdfb69"
      },
      "outputs": [
        {
          "output_type": "execute_result",
          "data": {
            "text/plain": [
              "\"When I'm Sixty-Four\""
            ],
            "application/vnd.google.colaboratory.intrinsic+json": {
              "type": "string"
            }
          },
          "metadata": {},
          "execution_count": 13
        }
      ],
      "source": [
        "track_name = \"When I'm Sixty-Four - Remix\"\n"
      ]
    },
    {
      "cell_type": "markdown",
      "metadata": {
        "id": "OVU4r2HSe9Up"
      },
      "source": [
        "2. Execute and Check Result"
      ]
    },
    {
      "cell_type": "code",
      "execution_count": 15,
      "metadata": {
        "id": "k-xTSQRYe9Ur"
      },
      "outputs": [],
      "source": [
        "assert clean_track(track_name) == \"When I'm Sixty-Four\", \"Not equal\""
      ]
    },
    {
      "cell_type": "markdown",
      "metadata": {
        "id": "pLeHFJ2_e9Ur"
      },
      "source": [
        "Notice above, we use assert by calling our function with a specified input, and then checked the expected output.  After the comma, we placed wrote a message that we want to display if the equality test fails.\n",
        "\n",
        "> Because `clean_track` returned the correct result we did not see a failure."
      ]
    },
    {
      "cell_type": "markdown",
      "metadata": {
        "id": "zW3eQk84e9Us"
      },
      "source": [
        "Is that it?\n",
        "\n",
        "Well, more or less, yes.  With testing we simply setup some data, execute our function, and check that the result matches some expectation.\n",
        "\n",
        "Still, testing is important because when we make changes to our codebase, we can alter our code in unexpected ways.  So we will want lots of checks to ensure that each function continues to operate as it should."
      ]
    },
    {
      "cell_type": "markdown",
      "metadata": {
        "id": "qI8xNEIqe9Us"
      },
      "source": [
        "### What to test?"
      ]
    },
    {
      "cell_type": "markdown",
      "metadata": {
        "id": "f1VqFFK-e9Us"
      },
      "source": [
        "In testing, think about the different use cases that the code is designed to handle.  Testing ensures that the code properly handles these use cases.\n",
        "\n",
        "For example, what if there are two dashes after our song name?  Will our code handle this?"
      ]
    },
    {
      "cell_type": "markdown",
      "metadata": {
        "id": "2MchFvw-e9Us"
      },
      "source": [
        "Let's find out."
      ]
    },
    {
      "cell_type": "code",
      "execution_count": 16,
      "metadata": {
        "id": "N8ubuzlbe9Us"
      },
      "outputs": [],
      "source": [
        "track_name = \"When I'm Sixty-Four - Remix - Hidden\"\n",
        "assert clean_track(track_name) == \"When I'm Sixty-Four\", \"Not equal\""
      ]
    },
    {
      "cell_type": "markdown",
      "metadata": {
        "id": "0F_8hWUCe9Ut"
      },
      "source": [
        "So it *does* handle that scenario.  "
      ]
    },
    {
      "cell_type": "markdown",
      "metadata": {
        "id": "e8_VuZMEe9Ut"
      },
      "source": [
        "However it will not handle a hyphen that comes before the title."
      ]
    },
    {
      "cell_type": "code",
      "execution_count": 18,
      "metadata": {
        "colab": {
          "base_uri": "https://localhost:8080/",
          "height": 194
        },
        "id": "jJlC0Rgde9Ut",
        "outputId": "6b4d80bc-f744-4ced-f32f-a850858c75a4"
      },
      "outputs": [
        {
          "output_type": "error",
          "ename": "AssertionError",
          "evalue": "ignored",
          "traceback": [
            "\u001b[0;31m---------------------------------------------------------------------------\u001b[0m",
            "\u001b[0;31mAssertionError\u001b[0m                            Traceback (most recent call last)",
            "\u001b[0;32m<ipython-input-18-7f9d1df8d696>\u001b[0m in \u001b[0;36m<cell line: 2>\u001b[0;34m()\u001b[0m\n\u001b[1;32m      1\u001b[0m \u001b[0mtrack_name\u001b[0m \u001b[0;34m=\u001b[0m \u001b[0;34m\"Hidden - When I'm Sixty-Four - Remix - Hidden\"\u001b[0m\u001b[0;34m\u001b[0m\u001b[0;34m\u001b[0m\u001b[0m\n\u001b[0;32m----> 2\u001b[0;31m \u001b[0;32massert\u001b[0m \u001b[0mclean_track\u001b[0m\u001b[0;34m(\u001b[0m\u001b[0mtrack_name\u001b[0m\u001b[0;34m)\u001b[0m \u001b[0;34m==\u001b[0m \u001b[0;34m\"When I'm Sixty-Four\"\u001b[0m\u001b[0;34m,\u001b[0m \u001b[0;34m\"Not equal\"\u001b[0m\u001b[0;34m\u001b[0m\u001b[0;34m\u001b[0m\u001b[0m\n\u001b[0m",
            "\u001b[0;31mAssertionError\u001b[0m: Not equal"
          ]
        }
      ],
      "source": [
        "track_name = \"Hidden - When I'm Sixty-Four - Remix - Hidden\"\n",
        "assert clean_track(track_name) == \"When I'm Sixty-Four\", \"Not equal\""
      ]
    },
    {
      "cell_type": "code",
      "execution_count": 20,
      "metadata": {
        "colab": {
          "base_uri": "https://localhost:8080/",
          "height": 35
        },
        "id": "F_vBUuzPe9Uw",
        "outputId": "4af3570b-0530-42e1-c4d4-635c97ee92c3"
      },
      "outputs": [
        {
          "output_type": "execute_result",
          "data": {
            "text/plain": [
              "'Hidden'"
            ],
            "application/vnd.google.colaboratory.intrinsic+json": {
              "type": "string"
            }
          },
          "metadata": {},
          "execution_count": 20
        }
      ],
      "source": [
        "clean_track(track_name)"
      ]
    },
    {
      "cell_type": "markdown",
      "metadata": {
        "id": "D5QS2vVue9Ux"
      },
      "source": [
        "> Before we go fixing this, remember that we do not need our code to do *everything*.  If we want this function to handle inputs that has hyphens before and after the track name, then we should add this functionality.  If this is not necessary, then we don't need this functionality, and we don't need this test."
      ]
    },
    {
      "cell_type": "markdown",
      "metadata": {
        "id": "qha02ZEVe9Uy"
      },
      "source": [
        "For right now, our inputs are only in the format of `- Remix` after the title, so we're ok."
      ]
    },
    {
      "cell_type": "code",
      "execution_count": 21,
      "metadata": {
        "id": "o3xH8Q1te9U_"
      },
      "outputs": [],
      "source": [
        "track_name = \"When I'm Sixty-Four - Remix\"\n",
        "assert clean_track(track_name) == \"When I'm Sixty-Four\", \"Not equal\""
      ]
    },
    {
      "cell_type": "markdown",
      "metadata": {
        "id": "gKo1CyYMe9VA"
      },
      "source": [
        "### What not to test"
      ]
    },
    {
      "cell_type": "markdown",
      "metadata": {
        "id": "UHIVgLwje9VA"
      },
      "source": [
        "Notice that our test does not indicate how we go from `\"When I'm Sixty-Four - Remix\"` to `\"When I'm Sixty-Four\"`.  That is, we could have removed the word `Remix` or look for the `-`.  Our test **does not** specify how to get to the answer.\n",
        "\n",
        "This is a good thing.  It means that we can change and improve our code over time.  As long as our code acheives the same goals, as before, we are good.  \n",
        "\n",
        "> For example, below we perform a different implementation of our `clean_track` function.  Notice that our test still passes."
      ]
    },
    {
      "cell_type": "code",
      "execution_count": 22,
      "metadata": {
        "id": "rxWlIAhwe9VH"
      },
      "outputs": [],
      "source": [
        "# def clean_track():\n",
        "#     return track.split(' - ')[0]\n",
        "\n",
        "def clean_track(track):\n",
        "    index = track.find(' - ')\n",
        "    return track[:index]"
      ]
    },
    {
      "cell_type": "code",
      "execution_count": 25,
      "metadata": {
        "id": "gfOkf8wSe9VJ"
      },
      "outputs": [],
      "source": [
        "assert clean_track(track_name) == \"When I'm Sixty-Four\", \"Not equal\""
      ]
    },
    {
      "cell_type": "markdown",
      "metadata": {
        "id": "ywlg4wAOe9VJ"
      },
      "source": [
        "So testing allows us to change around (and ideally improve our code), and ensure that we did not break anything.  "
      ]
    },
    {
      "cell_type": "markdown",
      "metadata": {
        "id": "t4rM85dDe9VK"
      },
      "source": [
        "### Summary"
      ]
    },
    {
      "cell_type": "markdown",
      "metadata": {
        "id": "NwXeErFge9VK"
      },
      "source": [
        "In this lesson, we were introduced to how and why to test.  Testing is a way of automating the process of checking that our code works.  We can test by passing through inputs that we expect our code to handle, and return the appropriate output.  \n",
        "\n",
        "Testing is similar to how we normally check our code.  The only difference is that now we write it in such a way, that we get an alert if a part of our codebase does not work."
      ]
    }
  ],
  "metadata": {
    "kernelspec": {
      "display_name": "Python 3 (ipykernel)",
      "language": "python",
      "name": "python3"
    },
    "language_info": {
      "codemirror_mode": {
        "name": "ipython",
        "version": 3
      },
      "file_extension": ".py",
      "mimetype": "text/x-python",
      "name": "python",
      "nbconvert_exporter": "python",
      "pygments_lexer": "ipython3",
      "version": "3.9.7"
    },
    "colab": {
      "provenance": [],
      "include_colab_link": true
    }
  },
  "nbformat": 4,
  "nbformat_minor": 0
}