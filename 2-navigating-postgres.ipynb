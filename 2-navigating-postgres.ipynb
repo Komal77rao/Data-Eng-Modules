{
  "cells": [
    {
      "cell_type": "markdown",
      "metadata": {
        "id": "QII-XJAuqjZ5"
      },
      "source": [
        "# Postgres Databases and Tables"
      ]
    },
    {
      "cell_type": "markdown",
      "metadata": {
        "id": "96-aCIxYqjc2"
      },
      "source": [
        "### Introduction"
      ]
    },
    {
      "cell_type": "markdown",
      "metadata": {
        "id": "m1U0pzhjqjc6"
      },
      "source": [
        "In this lesson we'll learn how to better navigate our postgres application.  We'll learn about the help commands, and how to learn the status of our connection.  Let's get started."
      ]
    },
    {
      "cell_type": "markdown",
      "metadata": {
        "id": "2zF4gRPFqjc6"
      },
      "source": [
        "### Viewing the Possibilities"
      ]
    },
    {
      "cell_type": "markdown",
      "metadata": {
        "id": "Jj4LoKEmqjc_"
      },
      "source": [
        "Let's begin by logging into our postgres database with `psql postgres`."
      ]
    },
    {
      "cell_type": "markdown",
      "metadata": {
        "id": "GyelKSxfqjdB"
      },
      "source": [
        "<img src=\"https://github.com/sql-fundamentals-jigsaw/postgres-curriculum/blob/master/postgres-login.png?raw=1\" width=\"60%\">"
      ]
    },
    {
      "cell_type": "markdown",
      "metadata": {
        "id": "7z_KWbZjqjdB"
      },
      "source": [
        "Now that we have connected to the postgres shell, we can see which commands are available to us by typing `\\?`."
      ]
    },
    {
      "cell_type": "markdown",
      "metadata": {
        "id": "dY-ZQQ8rqjdC"
      },
      "source": [
        "<img src=\"https://github.com/sql-fundamentals-jigsaw/postgres-curriculum/blob/master/postgres-help.png?raw=1\" width=\"60%\">"
      ]
    },
    {
      "cell_type": "markdown",
      "metadata": {
        "id": "4dX8v61SqjdD"
      },
      "source": [
        "> We can press the spacebar to page down, and press `q` to return to the command prompt."
      ]
    },
    {
      "cell_type": "markdown",
      "metadata": {
        "id": "LdxhXme6qjdD"
      },
      "source": [
        "Notice in our list able that `\\h` is listed toward the bottom as a command to get help on SQL commands.  So we can type `\\h *` to access all of the commands alphabetically.  Or we can type `\\h command` to access a specific command.  For example, let's view information about the `CREATE TABLE` command."
      ]
    },
    {
      "cell_type": "markdown",
      "metadata": {
        "id": "LBlJy6Y-qjdH"
      },
      "source": [
        "<img src=\"https://github.com/sql-fundamentals-jigsaw/postgres-curriculum/blob/master/create-table-help.png?raw=1\" width=\"70%\">"
      ]
    },
    {
      "cell_type": "markdown",
      "metadata": {
        "id": "XUt6LkjPqjdI"
      },
      "source": [
        "Here, postgres prints out the documentation for the command, and shows us different options for executing the command."
      ]
    },
    {
      "cell_type": "markdown",
      "metadata": {
        "id": "LoRFIaSxqjdI"
      },
      "source": [
        "### Learning about our status"
      ]
    },
    {
      "cell_type": "markdown",
      "metadata": {
        "id": "pX3-vxbfqjdI"
      },
      "source": [
        "Now that we know how to search which commands are available to us in our postgres shell, let's see how we can currently learn what is occurring in postgres.\n",
        "\n",
        "We can get a sense of our current postgres connection through `\\conninfo`."
      ]
    },
    {
      "cell_type": "markdown",
      "metadata": {
        "id": "A9wJASGSqjdJ"
      },
      "source": [
        "```SQL\n",
        "postgres=# \\conninfo\n",
        "You are connected to database \"postgres\" as user \"postgres\" via socket in \"/tmp\" at port \"5432\".\n",
        "```"
      ]
    },
    {
      "cell_type": "markdown",
      "metadata": {
        "id": "J7_YiHOuqjdJ"
      },
      "source": [
        "So from here, we can see the port that the server is listening to requests on.  When we run a select statement, the server listens for the requests at location 5432."
      ]
    },
    {
      "cell_type": "markdown",
      "metadata": {
        "id": "RP-UcIPYqjdJ"
      },
      "source": [
        "### Viewing Postgres Configuration Files"
      ]
    },
    {
      "cell_type": "markdown",
      "metadata": {
        "id": "TPztMU1rqjdJ"
      },
      "source": [
        "Now, when it comes to further configuring postgres, for example, which particular security settings, we need to know where these settings are managed.  We can get a sense of this with running `SHOW config_file;` from the postgres shell."
      ]
    },
    {
      "cell_type": "markdown",
      "metadata": {
        "id": "bPoOgjO-qjdK"
      },
      "source": [
        "```SQL\n",
        "SHOW config_file;\n",
        "config_file\n",
        "-------------------------------------------------------------------------\n",
        " /Users/jeff/Library/Application Support/Postgres/var-11/postgresql.conf\n",
        "(1 row)\n",
        "```"
      ]
    },
    {
      "cell_type": "markdown",
      "metadata": {
        "id": "nKrHnN1TqjdK"
      },
      "source": [
        "Now, from bash, let's move to the directory of our config file, `/Application Support/Postgres/var-11/`.  There, we'll see multiple files related to our postgres application."
      ]
    },
    {
      "cell_type": "markdown",
      "metadata": {
        "id": "PNKvLUR4qjdL"
      },
      "source": [
        "<img src=\"https://github.com/sql-fundamentals-jigsaw/postgres-curriculum/blob/master/postgres-filetree.png?raw=1\" width=\"100%\">"
      ]
    },
    {
      "cell_type": "markdown",
      "metadata": {
        "id": "3b4fJyoaqjdL"
      },
      "source": [
        "For example, the `pg_hba.conf` file manages the login policies of postgres users, and `postgresql.conf` file manages broader configuration.  Finally, we can see a log of our postgres commands in the `postgresql.log`."
      ]
    },
    {
      "cell_type": "markdown",
      "metadata": {
        "id": "GSNsvQXrqjdL"
      },
      "source": [
        "It's common to display a running output of the log file.  So we tail and `follow` that file with the command `tail -f postgresql.log`.  In doing so we will have our log file outputted to our terminal."
      ]
    },
    {
      "cell_type": "markdown",
      "metadata": {
        "id": "nwHuDslAqjdL"
      },
      "source": [
        "<img src=\"https://github.com/sql-fundamentals-jigsaw/postgres-curriculum/blob/master/postgres-logs.png?raw=1\" width=\"100%\">"
      ]
    },
    {
      "cell_type": "markdown",
      "metadata": {
        "id": "Tlc0iz8KqjdM"
      },
      "source": [
        "> Currently the log file only shows errors, we can update the configuration by altering the `postgresql.conf` file as described [here](https://tableplus.com/blog/2018/10/how-to-show-queries-log-in-postgresql.html)."
      ]
    },
    {
      "cell_type": "markdown",
      "metadata": {
        "id": "59KgvcywqjdM"
      },
      "source": [
        "### Summary"
      ]
    },
    {
      "cell_type": "markdown",
      "metadata": {
        "id": "jDKHb_GNqjdN"
      },
      "source": [
        "In this lesson, we saw various ways to navigate our postgres application.  For example, we saw that we list available shell commands by typing `\\?`.  And that we view the documentation of any SQL commands with something like `\\h CREATE TABLE`.  \n",
        "\n",
        "Then we saw that we can find configuration files for postgres by typing `SHOW config_file;`.  We used this to display the running logs of our postgres application by finding the `postgresql.log` file, and then running  `tail -f postgresql.log` to display a running output of the log file."
      ]
    }
  ],
  "metadata": {
    "kernelspec": {
      "display_name": "Python 3",
      "language": "python",
      "name": "python3"
    },
    "language_info": {
      "codemirror_mode": {
        "name": "ipython",
        "version": 3
      },
      "file_extension": ".py",
      "mimetype": "text/x-python",
      "name": "python",
      "nbconvert_exporter": "python",
      "pygments_lexer": "ipython3",
      "version": "3.8.3"
    },
    "colab": {
      "provenance": []
    }
  },
  "nbformat": 4,
  "nbformat_minor": 0
}