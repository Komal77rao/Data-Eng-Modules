{
  "cells": [
    {
      "cell_type": "markdown",
      "metadata": {
        "id": "AkIyvPbqsXsu"
      },
      "source": [
        "# List Comprehension Lab"
      ]
    },
    {
      "cell_type": "markdown",
      "metadata": {
        "id": "XbU3qCNKsXs2"
      },
      "source": [
        "### Introduction"
      ]
    },
    {
      "cell_type": "markdown",
      "metadata": {
        "id": "NJlVgt3xsXs3"
      },
      "source": [
        "In this lesson, we'll practice working with list comprehension while working with data regarding restaurant chains.  Let's get started."
      ]
    },
    {
      "cell_type": "markdown",
      "metadata": {
        "id": "8DxSenvSsXs4"
      },
      "source": [
        "### Loading the Data"
      ]
    },
    {
      "cell_type": "markdown",
      "metadata": {
        "id": "AZER_qXfsXs5"
      },
      "source": [
        "We can get our data about restaurant chains at the following web address."
      ]
    },
    {
      "cell_type": "code",
      "execution_count": 1,
      "metadata": {
        "id": "vkGVGEwKsXs6"
      },
      "outputs": [],
      "source": [
        "url = \"https://en.wikipedia.org/wiki/List_of_the_largest_fast_food_restaurant_chains\""
      ]
    },
    {
      "cell_type": "markdown",
      "metadata": {
        "id": "HRisZrqMsXs8"
      },
      "source": [
        "> Press shift + return on the cell above."
      ]
    },
    {
      "cell_type": "markdown",
      "metadata": {
        "id": "L9LrlMOZsXs9"
      },
      "source": [
        "Then, let's scrape our data from the url using pandas."
      ]
    },
    {
      "cell_type": "code",
      "execution_count": 2,
      "metadata": {
        "id": "z7H73nPqsXs9"
      },
      "outputs": [],
      "source": [
        "import pandas as pd\n",
        "tables = pd.read_html(url, index_col = 0)"
      ]
    },
    {
      "cell_type": "markdown",
      "metadata": {
        "id": "qxmsgQ3vsXs-"
      },
      "source": [
        "We select the last table on the page."
      ]
    },
    {
      "cell_type": "code",
      "execution_count": 3,
      "metadata": {
        "id": "v-HqhmyFsXs-"
      },
      "outputs": [],
      "source": [
        "restaurant_chains_df =  tables[-1]"
      ]
    },
    {
      "cell_type": "markdown",
      "metadata": {
        "id": "BhbUp553sXs_"
      },
      "source": [
        "Then convert our dataframe to a list of dictionaries."
      ]
    },
    {
      "cell_type": "code",
      "execution_count": 4,
      "metadata": {
        "id": "mHrm7wRwsXs_"
      },
      "outputs": [],
      "source": [
        "restaurant_chains = restaurant_chains_df.to_dict('records')"
      ]
    },
    {
      "cell_type": "code",
      "execution_count": 5,
      "metadata": {
        "id": "I7rd1AzEsXs_",
        "outputId": "5720c492-6ea7-4368-c9ac-f9f4239e288d",
        "colab": {
          "base_uri": "https://localhost:8080/"
        }
      },
      "outputs": [
        {
          "output_type": "execute_result",
          "data": {
            "text/plain": [
              "[{'Country of origin': 'United States',\n",
              "  'Name': \"McDonald's\",\n",
              "  'Number of locations': '40,275 (2022)[1]',\n",
              "  'Revenue': 'US$23.2 billion (2021)[1]'},\n",
              " {'Country of origin': 'United States',\n",
              "  'Name': 'Subway',\n",
              "  'Number of locations': '37,000 (2021)[2][3]',\n",
              "  'Revenue': 'US$16.1 billion (2020)[4]'},\n",
              " {'Country of origin': 'United States',\n",
              "  'Name': 'Starbucks',\n",
              "  'Number of locations': '36,170 (2023)[5]',\n",
              "  'Revenue': 'US$32.3 billion (2022)[6]'}]"
            ]
          },
          "metadata": {},
          "execution_count": 5
        }
      ],
      "source": [
        "restaurant_chains[:3]"
      ]
    },
    {
      "cell_type": "markdown",
      "metadata": {
        "id": "5jE2lYw1sXtC"
      },
      "source": [
        "Ok, so we now have a list dictionaries where each dictionary represents a separate restaurant chain."
      ]
    },
    {
      "cell_type": "markdown",
      "metadata": {
        "id": "RfqBvdhtsXtD"
      },
      "source": [
        "### Coercing our Data"
      ]
    },
    {
      "cell_type": "markdown",
      "metadata": {
        "id": "F890IddQsXtD"
      },
      "source": [
        "> For this first section, do not use list comprehension."
      ]
    },
    {
      "cell_type": "markdown",
      "metadata": {
        "id": "U9a7W1WLsXtD"
      },
      "source": [
        "Now that we have our list of dictionaries above.  Let's start by focusing on our revenue data.  Begin by simply extracting the text related to the revenue for each chain, and storing this data in a list."
      ]
    },
    {
      "cell_type": "code",
      "execution_count": 6,
      "metadata": {
        "id": "Du31tNi8sXtD"
      },
      "outputs": [],
      "source": [
        "revenue_texts = []\n",
        "for item in restaurant_chains:\n",
        "  revenue_texts.append(item['Revenue'])\n"
      ]
    },
    {
      "cell_type": "code",
      "execution_count": 7,
      "metadata": {
        "id": "IWCpMN22sXtE",
        "outputId": "14e135f6-2dc6-4358-d5e4-63ff3f4d0af3",
        "colab": {
          "base_uri": "https://localhost:8080/"
        }
      },
      "outputs": [
        {
          "output_type": "execute_result",
          "data": {
            "text/plain": [
              "['US$23.2 billion (2021)[1]',\n",
              " 'US$16.1 billion (2020)[4]',\n",
              " 'US$32.3 billion (2022)[6]',\n",
              " 'US$31.3 billion (2021)[7]',\n",
              " 'US$23.4 billion (2021)[9]',\n",
              " 'US$17.7 billion (2021)',\n",
              " 'US$12.9 billion (2021)[11]',\n",
              " 'US$1.37 billion (2020)[15]',\n",
              " 'US$1.38 billion (2021)[16]',\n",
              " nan]"
            ]
          },
          "metadata": {},
          "execution_count": 7
        }
      ],
      "source": [
        "revenue_texts[:10]\n",
        "\n",
        "# ['US$21.07 billion (2020)[2]',\n",
        " # 'US$16.1 billion (2020)[2]',\n",
        " # 'US$26.7 billion (2020)[5]',\n",
        " # 'US$27.9 billion (2020)[7]',\n",
        " # nan,\n",
        " # nan,\n",
        " # 'US$3.62 billion (2019)[11]',\n",
        " # 'US$1.37 billion (2020)[13]',\n",
        " # nan,\n",
        " # nan]"
      ]
    },
    {
      "cell_type": "markdown",
      "metadata": {
        "id": "XOp05k5FsXtE"
      },
      "source": [
        "Take a look at the `nan`s below.  This stands for not a number, and it is not very helpful to us.  A lotof the values after the first four are nan values.  So instead let's just select the first four restaurant chains, and then get to work with turning the data above into numbers."
      ]
    },
    {
      "cell_type": "code",
      "execution_count": 10,
      "metadata": {
        "id": "5KvzjXjIsXtE"
      },
      "outputs": [],
      "source": [
        "first_restaurants = restaurant_chains[:4]"
      ]
    },
    {
      "cell_type": "code",
      "execution_count": 11,
      "metadata": {
        "id": "gSIKp4nRsXtF",
        "outputId": "e8ea1d56-a4dc-47f1-b6ab-da3a9e47cbed",
        "colab": {
          "base_uri": "https://localhost:8080/"
        }
      },
      "outputs": [
        {
          "output_type": "execute_result",
          "data": {
            "text/plain": [
              "4"
            ]
          },
          "metadata": {},
          "execution_count": 11
        }
      ],
      "source": [
        "len(first_restaurants)\n",
        "\n",
        "# 4"
      ]
    },
    {
      "cell_type": "markdown",
      "metadata": {
        "id": "hamf6VyGsXtF"
      },
      "source": [
        "In the cell below extract the revenue data from `first_restaurants` and store the `revenues` in billions of revenue."
      ]
    },
    {
      "cell_type": "code",
      "execution_count": 24,
      "metadata": {
        "id": "S9KD-f3lsXtF",
        "outputId": "f0d2a9ed-e982-48b0-eb99-a613b68c658c",
        "colab": {
          "base_uri": "https://localhost:8080/"
        }
      },
      "outputs": [
        {
          "output_type": "execute_result",
          "data": {
            "text/plain": [
              "[23.2, 16.1, 32.3, 31.3]"
            ]
          },
          "metadata": {},
          "execution_count": 24
        }
      ],
      "source": [
        "revenues = [float(item['Revenue'][3:7]) for item in first_restaurants]\n",
        "revenues"
      ]
    },
    {
      "cell_type": "code",
      "execution_count": 25,
      "metadata": {
        "id": "vrkRLdDYsXtG",
        "outputId": "874a29a6-8c3c-414a-e526-cbed49c0d162",
        "colab": {
          "base_uri": "https://localhost:8080/"
        }
      },
      "outputs": [
        {
          "output_type": "execute_result",
          "data": {
            "text/plain": [
              "[23.2, 16.1, 32.3, 31.3]"
            ]
          },
          "metadata": {},
          "execution_count": 25
        }
      ],
      "source": [
        "revenues\n",
        "\n",
        "# [21.07, 16.1, 26.7, 27.9]"
      ]
    },
    {
      "cell_type": "markdown",
      "metadata": {
        "id": "gWTzZO8BsXtG"
      },
      "source": [
        "### Moving to List Comprehension"
      ]
    },
    {
      "cell_type": "markdown",
      "metadata": {
        "id": "IZmRNMQ4sXtG"
      },
      "source": [
        "Let's begin by using list comprehension to create a list of the names of each restaurant chain."
      ]
    },
    {
      "cell_type": "markdown",
      "metadata": {
        "id": "Cj8i-01SsXtG"
      },
      "source": [
        "> Assign the result to the variable `restaurant_names`."
      ]
    },
    {
      "cell_type": "code",
      "execution_count": 26,
      "metadata": {
        "id": "PeqloGt6sXtG"
      },
      "outputs": [],
      "source": [
        "restaurant_names = [item['Name'] for item in first_restaurants]"
      ]
    },
    {
      "cell_type": "code",
      "execution_count": 27,
      "metadata": {
        "id": "PwaxgCVdsXtG",
        "outputId": "6bdea4bc-aa16-4719-dbb4-91d7f3fc95bf",
        "colab": {
          "base_uri": "https://localhost:8080/"
        }
      },
      "outputs": [
        {
          "output_type": "execute_result",
          "data": {
            "text/plain": [
              "[\"McDonald's\", 'Subway', 'Starbucks', 'KFC']"
            ]
          },
          "metadata": {},
          "execution_count": 27
        }
      ],
      "source": [
        "restaurant_names[:4]\n",
        "\n",
        "# [\"McDonald's\", 'Subway', 'Starbucks', 'KFC']"
      ]
    },
    {
      "cell_type": "markdown",
      "metadata": {
        "id": "ZCmuFWSGsXtH"
      },
      "source": [
        "Now use list comprehension to select the number of locations of each restaurant chain."
      ]
    },
    {
      "cell_type": "markdown",
      "metadata": {
        "id": "Jkq_Fb4YsXtH"
      },
      "source": [
        "> Assign the result to the variable `franchise_amounts`."
      ]
    },
    {
      "cell_type": "code",
      "execution_count": 39,
      "metadata": {
        "id": "frzdmdRisXtH"
      },
      "outputs": [],
      "source": [
        "franchise_amounts = [item['Number of locations'][:6] for item in restaurant_chains]"
      ]
    },
    {
      "cell_type": "code",
      "execution_count": 40,
      "metadata": {
        "id": "JFIZqbEosXtH",
        "outputId": "654102e5-b23b-4ad4-aa78-c0b7fd6ca6d7",
        "colab": {
          "base_uri": "https://localhost:8080/"
        }
      },
      "outputs": [
        {
          "output_type": "execute_result",
          "data": {
            "text/plain": [
              "['40,275', '37,000', '36,170']"
            ]
          },
          "metadata": {},
          "execution_count": 40
        }
      ],
      "source": [
        "franchise_amounts[:3]\n",
        "\n",
        "# ['38,348 [1]', '36,840 [3]', '33,833[4]']"
      ]
    },
    {
      "cell_type": "markdown",
      "metadata": {
        "id": "4VKmVQn8sXtH"
      },
      "source": [
        "Now remove the square brackets from the number of locations."
      ]
    },
    {
      "cell_type": "code",
      "execution_count": 50,
      "metadata": {
        "id": "dHzbQlpusXtH"
      },
      "outputs": [],
      "source": [
        "clean_franchise_amounts = [item['Number of locations'] for item in restaurant_chains]"
      ]
    },
    {
      "cell_type": "code",
      "execution_count": 51,
      "metadata": {
        "id": "nzKzFz49sXtI",
        "outputId": "d9bbf1b0-26dc-4bcf-80cb-72cc272e6feb",
        "colab": {
          "base_uri": "https://localhost:8080/"
        }
      },
      "outputs": [
        {
          "output_type": "execute_result",
          "data": {
            "text/plain": [
              "['40,275 (2022)[1]', '37,000 (2021)[2][3]', '36,170 (2023)[5]']"
            ]
          },
          "metadata": {},
          "execution_count": 51
        }
      ],
      "source": [
        "clean_franchise_amounts[:3]\n",
        "\n",
        "# ['38,348 ', '36,840 ', '33,833']"
      ]
    },
    {
      "cell_type": "code",
      "execution_count": 46,
      "metadata": {
        "id": "nno5_-kOsXtJ",
        "outputId": "ae3125e8-01ad-43ac-9ba8-631a83d2f351",
        "colab": {
          "base_uri": "https://localhost:8080/"
        }
      },
      "outputs": [
        {
          "output_type": "execute_result",
          "data": {
            "text/plain": [
              "['508[141]', '507+[142]', '500+[143]']"
            ]
          },
          "metadata": {},
          "execution_count": 46
        }
      ],
      "source": [
        "clean_franchise_amounts[-3:]\n",
        "\n",
        "# ['508', '507+', '500+']"
      ]
    },
    {
      "cell_type": "markdown",
      "metadata": {
        "id": "bDanXN3lsXtO"
      },
      "source": [
        "Now, coerce the data from a list of strings to a list of integers.\n",
        "> **Hint**: Look up the `replace` method."
      ]
    },
    {
      "cell_type": "code",
      "execution_count": null,
      "metadata": {
        "id": "TP-ZPxIRsXtP"
      },
      "outputs": [],
      "source": [
        "franchise_amount_ints = None"
      ]
    },
    {
      "cell_type": "code",
      "execution_count": null,
      "metadata": {
        "id": "xB4yUhn2sXtP",
        "outputId": "741812f8-26ac-4d37-ecdc-a7e354c9fc2a"
      },
      "outputs": [
        {
          "data": {
            "text/plain": [
              "[42600, 38695, 31256]"
            ]
          },
          "execution_count": 46,
          "metadata": {},
          "output_type": "execute_result"
        }
      ],
      "source": [
        "franchise_amount_ints[:3]\n",
        "\n",
        "# [38348, 36840, 33833]"
      ]
    },
    {
      "cell_type": "markdown",
      "metadata": {
        "id": "mx35EfQvsXtP"
      },
      "source": [
        "### Bonus: Combining our Data"
      ]
    },
    {
      "cell_type": "markdown",
      "metadata": {
        "id": "X9635R3asXtP"
      },
      "source": [
        "Ok, so now, for the first eight restaurant chains let's find the amount of revenue earned per franchise.  Remember, that we already have the revenues."
      ]
    },
    {
      "cell_type": "code",
      "execution_count": null,
      "metadata": {
        "id": "V3rSoQ9HsXtP",
        "outputId": "74634f2c-cc13-4be1-89aa-72edfca5fffa"
      },
      "outputs": [
        {
          "data": {
            "text/plain": [
              "[10.4, 20.8, 26.7, 26.2, 1.3, 1.15, 3.62, 1.37]"
            ]
          },
          "execution_count": 47,
          "metadata": {},
          "output_type": "execute_result"
        }
      ],
      "source": [
        "revenues"
      ]
    },
    {
      "cell_type": "markdown",
      "metadata": {
        "id": "74MKK1vYsXtQ"
      },
      "source": [
        "And we have the number of franchises."
      ]
    },
    {
      "cell_type": "code",
      "execution_count": null,
      "metadata": {
        "id": "y3-xwtYTsXtQ"
      },
      "outputs": [],
      "source": [
        "franchise_amount_ints[:4]"
      ]
    },
    {
      "cell_type": "markdown",
      "metadata": {
        "id": "qGgZK3EGsXtQ"
      },
      "source": [
        "Create a list of where each element is the revenue per franchise, for the first eight chains."
      ]
    },
    {
      "cell_type": "code",
      "execution_count": null,
      "metadata": {
        "id": "e3HCBZE1sXtQ"
      },
      "outputs": [],
      "source": [
        "one_billion = 1_000_000_000"
      ]
    },
    {
      "cell_type": "code",
      "execution_count": null,
      "metadata": {
        "id": "s-tiP0U8sXtR"
      },
      "outputs": [],
      "source": [
        "revenues_per_franchise = None"
      ]
    },
    {
      "cell_type": "code",
      "execution_count": null,
      "metadata": {
        "id": "i5UnqwOrsXtR"
      },
      "outputs": [],
      "source": [
        "revenues_per_franchise\n",
        "# [549441, 437024, 789170, 1116000]"
      ]
    },
    {
      "cell_type": "code",
      "execution_count": null,
      "metadata": {
        "id": "mjoc56mgsXtR"
      },
      "outputs": [],
      "source": [
        "# restaurant_names[:4]\n",
        "\n",
        "# [\"McDonald's\",\n",
        "#  'Subway',\n",
        "#  'Starbucks',\n",
        "#  'KFC',\n",
        "#  'Burger King',\n",
        "#  \"Domino's Pizza\",\n",
        "#  'Pizza Hut',\n",
        "#  \"Dunkin'\"]"
      ]
    },
    {
      "cell_type": "markdown",
      "metadata": {
        "id": "kLxv8mbUsXtR"
      },
      "source": [
        "### Summary"
      ]
    },
    {
      "cell_type": "markdown",
      "metadata": {
        "id": "7Zy8WNCksXtR"
      },
      "source": [
        "In this lesson we practiced working with looping through our data and list comprehension.  We should use simple looping when performing more complex steps in our loop, and lean on list comprehension when there is not a coercion involved as we loop through each elements."
      ]
    }
  ],
  "metadata": {
    "kernelspec": {
      "display_name": "Python 3 (ipykernel)",
      "language": "python",
      "name": "python3"
    },
    "language_info": {
      "codemirror_mode": {
        "name": "ipython",
        "version": 3
      },
      "file_extension": ".py",
      "mimetype": "text/x-python",
      "name": "python",
      "nbconvert_exporter": "python",
      "pygments_lexer": "ipython3",
      "version": "3.9.10"
    },
    "colab": {
      "provenance": []
    }
  },
  "nbformat": 4,
  "nbformat_minor": 0
}