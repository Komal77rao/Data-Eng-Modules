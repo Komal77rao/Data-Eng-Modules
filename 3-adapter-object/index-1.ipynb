{
  "cells": [
    {
      "cell_type": "markdown",
      "metadata": {
        "id": "view-in-github",
        "colab_type": "text"
      },
      "source": [
        "<a href=\"https://colab.research.google.com/github/Komal77rao/Data-Eng-Modules/blob/main/3-adapter-object/index-1.ipynb\" target=\"_parent\"><img src=\"https://colab.research.google.com/assets/colab-badge.svg\" alt=\"Open In Colab\"/></a>"
      ]
    },
    {
      "cell_type": "markdown",
      "metadata": {
        "id": "-tuHfqo_pIyf"
      },
      "source": [
        "# The adapter object"
      ]
    },
    {
      "cell_type": "markdown",
      "metadata": {
        "id": "SjezXbl8pIzM"
      },
      "source": [
        "### Introduction"
      ]
    },
    {
      "cell_type": "markdown",
      "metadata": {
        "id": "PI-hYMZPpIzd"
      },
      "source": [
        "In previous lessons, we changed our code to use a receipt class.  The main change was to create a receipt class."
      ]
    },
    {
      "cell_type": "code",
      "execution_count": 2,
      "metadata": {
        "id": "VsXfaEBgpIzi"
      },
      "outputs": [],
      "source": [
        "class Receipt:\n",
        "    def __init__(self, total, address, end_date, restaurant_name):\n",
        "        self.total = int(total)\n",
        "        self.address = address\n",
        "        self.end_date = end_date\n",
        "        self.restaurant_name = restaurant_name"
      ]
    },
    {
      "cell_type": "markdown",
      "metadata": {
        "id": "Rb_DRxGGpIzo"
      },
      "source": [
        "Now, let's continue to refactor our code.  We can do this by looking for code that's not wrapped in either a method or an object, and that's the code that we still need to clean."
      ]
    },
    {
      "cell_type": "markdown",
      "metadata": {
        "id": "mHtOPtPEpIzs"
      },
      "source": [
        "### 1. Identify Messy Code"
      ]
    },
    {
      "cell_type": "markdown",
      "metadata": {
        "id": "S5NuEu4ypIzs"
      },
      "source": [
        "This is the code we would like to refactor."
      ]
    },
    {
      "cell_type": "code",
      "execution_count": 3,
      "metadata": {
        "id": "Q2D5izzypIzv"
      },
      "outputs": [],
      "source": [
        "import requests\n",
        "response = requests.get(\"https://data.texas.gov/resource/naix-2893.json?location_name=MAX%27S%20WINE%20DIVE\")\n",
        "restaurant_receipts = response.json()\n",
        "\n",
        "receipts = []\n",
        "for receipt in restaurant_receipts:\n",
        "    receipt = Receipt(receipt['total_receipts'], receipt['location_address'],\n",
        "                      receipt['obligation_end_date_yyyymmdd'], receipt['location_name'])\n",
        "    receipts.append(receipt)"
      ]
    },
    {
      "cell_type": "code",
      "execution_count": 4,
      "metadata": {
        "id": "xWiB-TJDpIz9",
        "outputId": "addd18e2-0b45-4dcd-fdab-b8bf6f658943",
        "colab": {
          "base_uri": "https://localhost:8080/"
        }
      },
      "outputs": [
        {
          "output_type": "execute_result",
          "data": {
            "text/plain": [
              "{'total': 0,\n",
              " 'address': '3600 MCKINNEY AVE STE 100',\n",
              " 'end_date': '2015-08-31T00:00:00.000',\n",
              " 'restaurant_name': \"MAX'S WINE DIVE\"}"
            ]
          },
          "metadata": {},
          "execution_count": 4
        }
      ],
      "source": [
        "receipts[0].__dict__"
      ]
    },
    {
      "cell_type": "markdown",
      "metadata": {
        "id": "P9iDWXSgpIz_"
      },
      "source": [
        "Now let's turn this into functions.  Ideally any function should not be longer than five lines long, and should not be more than one if else statement (ideally zero if else statements)."
      ]
    },
    {
      "cell_type": "markdown",
      "metadata": {
        "id": "-GGAWUd7pIz_"
      },
      "source": [
        "Let's go."
      ]
    },
    {
      "cell_type": "markdown",
      "metadata": {
        "id": "vb2Puge2pIz_"
      },
      "source": [
        "### 2. Move messy code into an object"
      ]
    },
    {
      "cell_type": "markdown",
      "metadata": {
        "id": "HFKjTt9ypI0A"
      },
      "source": [
        "The first step when we have a collection of messy code, is simply to wrap it in an object."
      ]
    },
    {
      "cell_type": "code",
      "execution_count": 5,
      "metadata": {
        "id": "jsRBfc4MpI0A"
      },
      "outputs": [],
      "source": [
        "import requests\n",
        "class ReceiptBuilder:\n",
        "    def run(self):\n",
        "        response = requests.get(\"https://data.texas.gov/resource/naix-2893.json?location_name=MAX%27S%20WINE%20DIVE\")\n",
        "        restaurant_receipts = response.json()\n",
        "        receipts = []\n",
        "        for restaurant_receipt in restaurant_receipts:\n",
        "            receipt = Receipt(restaurant_receipt['total_receipts'],\n",
        "                              restaurant_receipt['location_address'], restaurant_receipt['obligation_end_date_yyyymmdd'], restaurant_receipt['location_name'])\n",
        "            receipts.append(receipt)\n",
        "        return receipts"
      ]
    },
    {
      "cell_type": "markdown",
      "metadata": {
        "id": "S4qmRrMEpI0A"
      },
      "source": [
        "> So above, we take our code from above and place it inside of our ReceiptBuilder class.  Then, before making any more changes, we check that our code still works."
      ]
    },
    {
      "cell_type": "code",
      "execution_count": 6,
      "metadata": {
        "id": "DPqNvaGHpI0B",
        "outputId": "a243d720-98c2-4efd-f07e-ca8c78b056ac",
        "colab": {
          "base_uri": "https://localhost:8080/"
        }
      },
      "outputs": [
        {
          "output_type": "execute_result",
          "data": {
            "text/plain": [
              "[<__main__.Receipt at 0x7be0785d4ca0>, <__main__.Receipt at 0x7be0785d63b0>]"
            ]
          },
          "metadata": {},
          "execution_count": 6
        }
      ],
      "source": [
        "builder = ReceiptBuilder()\n",
        "builder.run()[0:2]"
      ]
    },
    {
      "cell_type": "markdown",
      "metadata": {
        "id": "daZQY2CcpI0H"
      },
      "source": [
        "This is pretty nice.  We simply create a new instance of ReceiptBuilder, call our `run` method, and then immediately get a list of receipts."
      ]
    },
    {
      "cell_type": "markdown",
      "metadata": {
        "id": "Gaek9oqkpI0K"
      },
      "source": [
        "### 3. Try: Refactor into smaller methods"
      ]
    },
    {
      "cell_type": "markdown",
      "metadata": {
        "id": "8qMX9uHapI0N"
      },
      "source": [
        "Now our `run` method is fairly long.  Ideally we want our methods to be no more than five lines long.  A good technique is to write comments above the code and then turn the comments into methods."
      ]
    },
    {
      "cell_type": "markdown",
      "metadata": {
        "id": "pQq7jeTSpI0O"
      },
      "source": [
        "Give it a shot in the lines below.  You'll know that you didn't break any thing if you can still call `run` and receive back the same list of receipts."
      ]
    },
    {
      "cell_type": "code",
      "execution_count": 10,
      "metadata": {
        "id": "6cNX_44XpI0O"
      },
      "outputs": [],
      "source": [
        "import requests\n",
        "class ReceiptBuilder:\n",
        "    def run(self):\n",
        "        response = requests.get(\"https://data.texas.gov/resource/naix-2893.json?location_name=MAX%27S%20WINE%20DIVE\")\n",
        "        restaurant_receipts = response.json()\n",
        "        return self.receipt(restaurant_receipts)\n",
        "\n",
        "\n",
        "    def receipt(self, restaurant_receipts):\n",
        "        receipts = []\n",
        "        for restaurant_receipt in restaurant_receipts:\n",
        "            receipt = Receipt(restaurant_receipt['total_receipts'], restaurant_receipt['location_address'],\n",
        "                              restaurant_receipt['obligation_end_date_yyyymmdd'], restaurant_receipt['location_name'])\n",
        "            receipts.append(receipt)\n",
        "        return receipts"
      ]
    },
    {
      "cell_type": "code",
      "execution_count": 11,
      "metadata": {
        "id": "60hEGc39pI0O",
        "outputId": "44e4ed90-0dda-4909-98e6-219fed085aeb",
        "colab": {
          "base_uri": "https://localhost:8080/"
        }
      },
      "outputs": [
        {
          "output_type": "execute_result",
          "data": {
            "text/plain": [
              "[<__main__.Receipt at 0x7be0781f2020>, <__main__.Receipt at 0x7be0781f2710>]"
            ]
          },
          "metadata": {},
          "execution_count": 11
        }
      ],
      "source": [
        "builder = ReceiptBuilder()\n",
        "builder.run()[0:2]"
      ]
    },
    {
      "cell_type": "markdown",
      "metadata": {
        "tags": [],
        "id": "Nh0BMx-bpI0P"
      },
      "source": [
        "### Check Answer: Making methods smaller"
      ]
    },
    {
      "cell_type": "markdown",
      "metadata": {
        "id": "Aq2cLGavpI0Q"
      },
      "source": [
        "Ok, let's see how we could have made our `run` method smaller.  Remember that this involves two steps:\n",
        "\n",
        "1. Write comments above complicated code\n",
        "2. Turn comments into method names"
      ]
    },
    {
      "cell_type": "markdown",
      "metadata": {
        "id": "3saRIcG7pI0R"
      },
      "source": [
        "Let's start by adding some comments."
      ]
    },
    {
      "cell_type": "code",
      "execution_count": null,
      "metadata": {
        "id": "JKbiS0KmpI0R"
      },
      "outputs": [],
      "source": [
        "import requests\n",
        "class ReceiptBuilder:\n",
        "    def run(self):\n",
        "        # retrieve restaurant receipts\n",
        "        response = requests.get(\"https://data.texas.gov/resource/naix-2893.json?location_name=MAX%27S%20WINE%20DIVE\")\n",
        "        restaurant_receipts = response.json()\n",
        "\n",
        "        # turn receipts into objects\n",
        "        receipts = []\n",
        "        for restaurant_receipt in restaurant_receipts:\n",
        "\n",
        "            receipt = Receipt(restaurant_receipt['total_receipts'], restaurant_receipt['location_address'],\n",
        "                              restaurant_receipt['obligation_end_date_yyyymmdd'], restaurant_receipt['location_name'])\n",
        "            receipts.append(receipt)\n",
        "        return receipts"
      ]
    },
    {
      "cell_type": "markdown",
      "metadata": {
        "id": "mtxsuNMipI0R"
      },
      "source": [
        "2. Turn comments into methods."
      ]
    },
    {
      "cell_type": "markdown",
      "metadata": {
        "id": "RofbvyuLpI0S"
      },
      "source": [
        "Now let's change the comments into methods."
      ]
    },
    {
      "cell_type": "code",
      "execution_count": 12,
      "metadata": {
        "id": "VvmLfOjlpI0S"
      },
      "outputs": [],
      "source": [
        "import requests\n",
        "class ReceiptBuilder:\n",
        "    def retrieve_receipts(self):\n",
        "        response = requests.get(\"https://data.texas.gov/resource/naix-2893.json?location_name=MAX%27S%20WINE%20DIVE\")\n",
        "        return response.json()\n",
        "\n",
        "    def receipts_data_to_objects(self, restaurant_receipts):\n",
        "        receipts = []\n",
        "        for restaurant_receipt in restaurant_receipts:\n",
        "            receipt = Receipt(restaurant_receipt['total_receipts'],\n",
        "                              restaurant_receipt['location_address'],\n",
        "                              restaurant_receipt['obligation_end_date_yyyymmdd'], restaurant_receipt['location_name'])\n",
        "            receipts.append(receipt)\n",
        "        return receipts\n",
        "\n",
        "    def run(self):\n",
        "        self._receipts_data = self.retrieve_receipts()\n",
        "        self._receipts = self.receipts_data_to_objects(self._receipts_data)\n",
        "        return self._receipts"
      ]
    },
    {
      "cell_type": "code",
      "execution_count": 13,
      "metadata": {
        "id": "RBH0EsripI0S",
        "outputId": "f07215fb-14ff-46b0-f699-0d8606f4483e",
        "colab": {
          "base_uri": "https://localhost:8080/"
        }
      },
      "outputs": [
        {
          "output_type": "execute_result",
          "data": {
            "text/plain": [
              "[<__main__.Receipt at 0x7be070709d80>,\n",
              " <__main__.Receipt at 0x7be07070ac80>,\n",
              " <__main__.Receipt at 0x7be07070ba60>]"
            ]
          },
          "metadata": {},
          "execution_count": 13
        }
      ],
      "source": [
        "builder = ReceiptBuilder()\n",
        "builder.run()[0:3]"
      ]
    },
    {
      "cell_type": "markdown",
      "metadata": {
        "id": "04VxSqEapI0m"
      },
      "source": [
        "At this point, our `receipts_data_to_objects` method still is too long so once again, the steps are to read the long method, make comments to see the steps involved, and then turn those comments into methods."
      ]
    },
    {
      "cell_type": "markdown",
      "metadata": {
        "id": "d2DqHPBvpI0n"
      },
      "source": [
        "### Tidying Up"
      ]
    },
    {
      "cell_type": "markdown",
      "metadata": {
        "id": "TkFlS7IrpI0n"
      },
      "source": [
        "This is what we have as our final version of the class.\n",
        "\n",
        "Once again, we need our receipt class."
      ]
    },
    {
      "cell_type": "code",
      "execution_count": null,
      "metadata": {
        "id": "BLqmqnu0pI0n"
      },
      "outputs": [],
      "source": [
        "from datetime import datetime\n",
        "class Receipt:\n",
        "    def __init__(self, total, address, end_date, restaurant_name):\n",
        "        self.total = int(total)\n",
        "        self.address = address\n",
        "        self.end_date = end_date\n",
        "        self.restaurant_name = restaurant_name"
      ]
    },
    {
      "cell_type": "markdown",
      "metadata": {
        "id": "Xo5E_aSApI0o"
      },
      "source": [
        "And this is our new `ReceiptBuilder`."
      ]
    },
    {
      "cell_type": "code",
      "execution_count": null,
      "metadata": {
        "id": "Amafvc3VpI0o"
      },
      "outputs": [],
      "source": [
        "import requests\n",
        "class ReceiptBuilder:\n",
        "    def run(self):\n",
        "        self._receipts_data = self.retrieve_receipts()\n",
        "        self._receipts = self.receipts_data_to_objects(self._receipts_data)\n",
        "        return self._receipts\n",
        "\n",
        "    def retrieve_receipts(self):\n",
        "        response = requests.get(\"https://data.texas.gov/resource/naix-2893.json?location_name=MAX%27S%20WINE%20DIVE\")\n",
        "        return response.json()\n",
        "\n",
        "    def create_receipt(self, receipt_data):\n",
        "        receipt = Receipt(receipt_data['total_receipts'], receipt_data['location_address'], receipt_data['obligation_end_date_yyyymmdd'], receipt_data['location_name'])\n",
        "        return receipt\n",
        "\n",
        "    def receipts_data_to_objects(self, receipts_data):\n",
        "        receipts = []\n",
        "        for receipt_data in receipts_data:\n",
        "            receipt = self.create_receipt(receipt_data)\n",
        "            receipts.append(receipt)\n",
        "        return receipts"
      ]
    },
    {
      "cell_type": "code",
      "execution_count": null,
      "metadata": {
        "id": "ypk1rlr1pI0o",
        "outputId": "1fc8e540-9ac9-487f-d556-ba48499f9ff8"
      },
      "outputs": [
        {
          "data": {
            "text/plain": [
              "[<__main__.Receipt at 0x105e6a940>,\n",
              " <__main__.Receipt at 0x106ab4e20>,\n",
              " <__main__.Receipt at 0x106ab4fd0>]"
            ]
          },
          "execution_count": 19,
          "metadata": {},
          "output_type": "execute_result"
        }
      ],
      "source": [
        "builder = ReceiptBuilder()\n",
        "builder.run()[0:3]"
      ]
    },
    {
      "cell_type": "markdown",
      "metadata": {
        "id": "ak2qKw_VpI0o"
      },
      "source": [
        "### Summary"
      ]
    },
    {
      "cell_type": "markdown",
      "metadata": {
        "id": "1W6m7PR5pI0p"
      },
      "source": [
        "In this lesson we saw how to take a collection of unorganized code and make it more organized.  We did this through a step by step procedure.\n",
        "\n",
        "1. Identify the messy code\n",
        "2. Create a new class to place the messy code, and place code in MessyClass.run() method\n",
        "3. Make methods smaller by\n",
        "    * Write comments explaining what parts of the method do\n",
        "    * Turn those comments into individual method calls"
      ]
    }
  ],
  "metadata": {
    "kernelspec": {
      "display_name": "Python 3 (ipykernel)",
      "language": "python",
      "name": "python3"
    },
    "language_info": {
      "codemirror_mode": {
        "name": "ipython",
        "version": 3
      },
      "file_extension": ".py",
      "mimetype": "text/x-python",
      "name": "python",
      "nbconvert_exporter": "python",
      "pygments_lexer": "ipython3",
      "version": "3.9.12"
    },
    "colab": {
      "provenance": [],
      "include_colab_link": true
    }
  },
  "nbformat": 4,
  "nbformat_minor": 0
}