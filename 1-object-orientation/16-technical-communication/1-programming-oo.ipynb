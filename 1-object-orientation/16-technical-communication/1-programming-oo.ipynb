{
  "cells": [
    {
      "cell_type": "markdown",
      "metadata": {
        "id": "view-in-github",
        "colab_type": "text"
      },
      "source": [
        "<a href=\"https://colab.research.google.com/github/Komal77rao/Data-Eng-Modules/blob/main/1-object-orientation/16-technical-communication/1-programming-oo.ipynb\" target=\"_parent\"><img src=\"https://colab.research.google.com/assets/colab-badge.svg\" alt=\"Open In Colab\"/></a>"
      ]
    },
    {
      "cell_type": "markdown",
      "id": "b7b1eec0-95d7-49b1-9001-e40d0bed554c",
      "metadata": {
        "id": "b7b1eec0-95d7-49b1-9001-e40d0bed554c"
      },
      "source": [
        "# Functional and OOP Communication"
      ]
    },
    {
      "cell_type": "markdown",
      "id": "1ff5ed87-00be-49f6-a558-a1aa55c14012",
      "metadata": {
        "id": "1ff5ed87-00be-49f6-a558-a1aa55c14012"
      },
      "source": [
        "### Introduction"
      ]
    },
    {
      "cell_type": "markdown",
      "id": "be53d024-fbbe-4b89-a837-d016e9909d08",
      "metadata": {
        "id": "be53d024-fbbe-4b89-a837-d016e9909d08"
      },
      "source": [
        "In this lesson, we will practice answering verbal technical questions.  Let's get started."
      ]
    },
    {
      "cell_type": "markdown",
      "id": "7c9e27a3-0075-4c95-848d-79325858b568",
      "metadata": {
        "id": "7c9e27a3-0075-4c95-848d-79325858b568"
      },
      "source": [
        "### Functional Questions"
      ]
    },
    {
      "cell_type": "code",
      "execution_count": 1,
      "id": "d8205997-35fe-409e-b909-1b0b1fa6d56b",
      "metadata": {
        "id": "d8205997-35fe-409e-b909-1b0b1fa6d56b"
      },
      "outputs": [],
      "source": [
        "movies = [{'title': 'Shawshank Redemption'},\n",
        "          {'title': 'Men In Black'}]"
      ]
    },
    {
      "cell_type": "markdown",
      "id": "472e1987-6bca-403d-a2c8-1dd958b6bd09",
      "metadata": {
        "id": "472e1987-6bca-403d-a2c8-1dd958b6bd09"
      },
      "source": [
        "* Begin by describing the data above"
      ]
    },
    {
      "cell_type": "code",
      "source": [
        "#list of dictionaries is assigned to a variable called movies. the data consists of the title of movies."
      ],
      "metadata": {
        "id": "zFVV4xhF0fA-"
      },
      "id": "zFVV4xhF0fA-",
      "execution_count": null,
      "outputs": []
    },
    {
      "cell_type": "markdown",
      "id": "07a21b59-ad1e-418d-85d7-0af70cb06357",
      "metadata": {
        "id": "07a21b59-ad1e-418d-85d7-0af70cb06357"
      },
      "source": [
        "Then describe the following procedure."
      ]
    },
    {
      "cell_type": "code",
      "execution_count": null,
      "id": "d361fc40-feac-4c83-b18f-1fb6dabfbc9a",
      "metadata": {
        "id": "d361fc40-feac-4c83-b18f-1fb6dabfbc9a"
      },
      "outputs": [],
      "source": [
        "titles = []\n",
        "for movie in movies:\n",
        "    titles.append(movie['title'])"
      ]
    },
    {
      "cell_type": "markdown",
      "source": [
        "creating a empty list and assigning to the variable called titles. The for loop,iterates over every dictionary in the movies list and appends each value of the dictionary to the list titles"
      ],
      "metadata": {
        "id": "vDUWAJjt9l05"
      },
      "id": "vDUWAJjt9l05"
    },
    {
      "cell_type": "markdown",
      "id": "252048b8-5332-4fe6-a5a6-94d0fb8662f4",
      "metadata": {
        "id": "252048b8-5332-4fe6-a5a6-94d0fb8662f4"
      },
      "source": [
        "### Database Questions"
      ]
    },
    {
      "cell_type": "markdown",
      "id": "0ceb0342-276c-4d0b-8604-cafdeb229d25",
      "metadata": {
        "id": "0ceb0342-276c-4d0b-8604-cafdeb229d25"
      },
      "source": [
        "* What is the difference between an inner join and an outer join"
      ]
    },
    {
      "cell_type": "markdown",
      "source": [
        "inner join gives the common records between the two tables and the outer join gives the common records between the two tables and all the records of the corresponding table."
      ],
      "metadata": {
        "id": "xmr4SJcj9524"
      },
      "id": "xmr4SJcj9524"
    },
    {
      "cell_type": "code",
      "source": [
        "#inner join is the intersection between two tables, gives the matching records on the joining keys."
      ],
      "metadata": {
        "id": "qpTtQUQr6CRa"
      },
      "id": "qpTtQUQr6CRa",
      "execution_count": null,
      "outputs": []
    },
    {
      "cell_type": "markdown",
      "id": "5ace58f0-73d2-4574-8660-c25671b60b53",
      "metadata": {
        "id": "5ace58f0-73d2-4574-8660-c25671b60b53"
      },
      "source": [
        "* Name the different kinds of keys and describe them"
      ]
    },
    {
      "cell_type": "markdown",
      "source": [
        "primary key - unique key for each record in a table\n",
        "foreign key - key the refrences the primary key in the corresponding table.\n"
      ],
      "metadata": {
        "id": "zUXvN0IJ-PxR"
      },
      "id": "zUXvN0IJ-PxR"
    },
    {
      "cell_type": "markdown",
      "id": "e1cc4311-8559-4ab7-aaf0-509616a0290e",
      "metadata": {
        "id": "e1cc4311-8559-4ab7-aaf0-509616a0290e"
      },
      "source": [
        "### Object Oriented Questions"
      ]
    },
    {
      "cell_type": "code",
      "execution_count": null,
      "id": "43725d45-90eb-4b00-976b-6ac4180b5c6d",
      "metadata": {
        "id": "43725d45-90eb-4b00-976b-6ac4180b5c6d"
      },
      "outputs": [],
      "source": [
        "class Student:\n",
        "    def greet(self):\n",
        "        return 'hello everyone'"
      ]
    },
    {
      "cell_type": "markdown",
      "id": "a06a7fd7-74cb-451d-8113-561d1c2bda55",
      "metadata": {
        "id": "a06a7fd7-74cb-451d-8113-561d1c2bda55"
      },
      "source": [
        "* Please describe the above"
      ]
    },
    {
      "cell_type": "markdown",
      "source": [
        "declaring a class called Student, which consits of an instance method called greet."
      ],
      "metadata": {
        "id": "sVGJxh5Q-jNh"
      },
      "id": "sVGJxh5Q-jNh"
    },
    {
      "cell_type": "code",
      "execution_count": null,
      "id": "bb61ff7c-9dc6-42e3-939f-338fe4d7111e",
      "metadata": {
        "id": "bb61ff7c-9dc6-42e3-939f-338fe4d7111e"
      },
      "outputs": [],
      "source": [
        "bob = Student()"
      ]
    },
    {
      "cell_type": "markdown",
      "source": [
        "we are creating an instance of the class Student and assiging it to the variable bob."
      ],
      "metadata": {
        "id": "HmJVYthF-tPy"
      },
      "id": "HmJVYthF-tPy"
    },
    {
      "cell_type": "markdown",
      "id": "43fe6086-87ff-4bbb-b1aa-87d3fc4a2ca6",
      "metadata": {
        "id": "43fe6086-87ff-4bbb-b1aa-87d3fc4a2ca6"
      },
      "source": [
        "Then describe the above."
      ]
    },
    {
      "cell_type": "markdown",
      "id": "d22fc4f1-3f7a-43e5-8a7b-9fff69b4b79b",
      "metadata": {
        "id": "d22fc4f1-3f7a-43e5-8a7b-9fff69b4b79b"
      },
      "source": [
        "And now describe what happens below."
      ]
    },
    {
      "cell_type": "code",
      "execution_count": null,
      "id": "2c80aeb0-5348-4b4b-8f3e-b0a8e2932121",
      "metadata": {
        "id": "2c80aeb0-5348-4b4b-8f3e-b0a8e2932121",
        "outputId": "d3f290a3-2f5c-4748-8026-2b5af975c56c"
      },
      "outputs": [
        {
          "data": {
            "text/plain": [
              "'hello everyone'"
            ]
          },
          "execution_count": 11,
          "metadata": {},
          "output_type": "execute_result"
        }
      ],
      "source": [
        "bob.greet()"
      ]
    },
    {
      "cell_type": "markdown",
      "source": [
        "the instance bob calls the instance method greet."
      ],
      "metadata": {
        "id": "cFlZYRl1-5zO"
      },
      "id": "cFlZYRl1-5zO"
    },
    {
      "cell_type": "markdown",
      "id": "2ebe2e19-2bc9-42fa-8afd-b04fbaa0a4a0",
      "metadata": {
        "id": "2ebe2e19-2bc9-42fa-8afd-b04fbaa0a4a0"
      },
      "source": [
        "### Project Management Questions"
      ]
    },
    {
      "cell_type": "markdown",
      "id": "ca3fc327-7f39-4c8f-b3c4-cd7320169d0d",
      "metadata": {
        "id": "ca3fc327-7f39-4c8f-b3c4-cd7320169d0d"
      },
      "source": [
        "1. Describe the following in 100 words or less"
      ]
    },
    {
      "cell_type": "markdown",
      "id": "3683adae-513e-4e98-a6de-58034f6c3d62",
      "metadata": {
        "id": "3683adae-513e-4e98-a6de-58034f6c3d62"
      },
      "source": [
        "<img src=\"https://github.com/oop-jigsaw/mod-1-objects/blob/main/1-object-orientation/16-technical-communication/describe-picture.png?raw=1\" width=\"60%\">"
      ]
    }
  ],
  "metadata": {
    "kernelspec": {
      "display_name": "Python 3 (ipykernel)",
      "language": "python",
      "name": "python3"
    },
    "language_info": {
      "codemirror_mode": {
        "name": "ipython",
        "version": 3
      },
      "file_extension": ".py",
      "mimetype": "text/x-python",
      "name": "python",
      "nbconvert_exporter": "python",
      "pygments_lexer": "ipython3",
      "version": "3.9.12"
    },
    "colab": {
      "provenance": [],
      "include_colab_link": true
    }
  },
  "nbformat": 4,
  "nbformat_minor": 5
}