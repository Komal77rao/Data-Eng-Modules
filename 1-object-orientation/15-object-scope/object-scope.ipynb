{
  "cells": [
    {
      "cell_type": "markdown",
      "metadata": {
        "id": "view-in-github",
        "colab_type": "text"
      },
      "source": [
        "<a href=\"https://colab.research.google.com/github/Komal77rao/Data-Eng-Modules/blob/main/1-object-orientation/15-object-scope/object-scope.ipynb\" target=\"_parent\"><img src=\"https://colab.research.google.com/assets/colab-badge.svg\" alt=\"Open In Colab\"/></a>"
      ]
    },
    {
      "cell_type": "markdown",
      "metadata": {
        "id": "gYFuyas0f_Gj"
      },
      "source": [
        "# Object Scope"
      ]
    },
    {
      "cell_type": "markdown",
      "metadata": {
        "id": "Y4IGhpymf_HX"
      },
      "source": [
        "### Introduction\n",
        "\n",
        "Now that we are working with objects, we have different ways to both store and access our data.  We'll explore that in this lesson."
      ]
    },
    {
      "cell_type": "markdown",
      "metadata": {
        "id": "2QPngMOjf_HY"
      },
      "source": [
        "### Local scope and Object Scope"
      ]
    },
    {
      "cell_type": "markdown",
      "metadata": {
        "id": "Yf-R1fvRf_Hp"
      },
      "source": [
        "Before working with objects, we really just have two differnet kinds of scope: local scope, and global scope."
      ]
    },
    {
      "cell_type": "code",
      "execution_count": 1,
      "metadata": {
        "id": "XowDTJfaf_Hs"
      },
      "outputs": [],
      "source": [
        "global_greeting = 'hello global world'\n",
        "\n",
        "def say_greeting():\n",
        "    local_greeting = 'hello local function'"
      ]
    },
    {
      "cell_type": "markdown",
      "metadata": {
        "id": "QfMQzOUBf_IP"
      },
      "source": [
        "As we know, we can access our global variables throughout our module (python file), whereas local variables we can only access from inside the function.  "
      ]
    },
    {
      "cell_type": "code",
      "execution_count": 2,
      "metadata": {
        "id": "Vy2iCij4f_IQ",
        "outputId": "93b29e04-2e00-4040-fcde-d26c8bbec6c6",
        "colab": {
          "base_uri": "https://localhost:8080/",
          "height": 35
        }
      },
      "outputs": [
        {
          "output_type": "execute_result",
          "data": {
            "text/plain": [
              "'hello global world'"
            ],
            "application/vnd.google.colaboratory.intrinsic+json": {
              "type": "string"
            }
          },
          "metadata": {},
          "execution_count": 2
        }
      ],
      "source": [
        "global_greeting"
      ]
    },
    {
      "cell_type": "code",
      "execution_count": 3,
      "metadata": {
        "id": "-jglMXxtf_IX",
        "outputId": "fbe0b009-97d7-4362-f9da-97bbec1b3309",
        "colab": {
          "base_uri": "https://localhost:8080/",
          "height": 176
        }
      },
      "outputs": [
        {
          "output_type": "error",
          "ename": "NameError",
          "evalue": "ignored",
          "traceback": [
            "\u001b[0;31m---------------------------------------------------------------------------\u001b[0m",
            "\u001b[0;31mNameError\u001b[0m                                 Traceback (most recent call last)",
            "\u001b[0;32m<ipython-input-3-209a2096fb29>\u001b[0m in \u001b[0;36m<cell line: 1>\u001b[0;34m()\u001b[0m\n\u001b[0;32m----> 1\u001b[0;31m \u001b[0mlocal_greeting\u001b[0m\u001b[0;34m\u001b[0m\u001b[0;34m\u001b[0m\u001b[0m\n\u001b[0m",
            "\u001b[0;31mNameError\u001b[0m: name 'local_greeting' is not defined"
          ]
        }
      ],
      "source": [
        "local_greeting"
      ]
    },
    {
      "cell_type": "markdown",
      "metadata": {
        "id": "8nkXna2sf_Ig"
      },
      "source": [
        "To access our local variables, we need to throw our variable over the walls of the function with a `return` statement."
      ]
    },
    {
      "cell_type": "code",
      "execution_count": 4,
      "metadata": {
        "id": "oroKo2Jhf_Il",
        "outputId": "f3c7d5da-8a75-4266-84ec-9984127970a3",
        "colab": {
          "base_uri": "https://localhost:8080/",
          "height": 35
        }
      },
      "outputs": [
        {
          "output_type": "execute_result",
          "data": {
            "text/plain": [
              "'hello local function'"
            ],
            "application/vnd.google.colaboratory.intrinsic+json": {
              "type": "string"
            }
          },
          "metadata": {},
          "execution_count": 4
        }
      ],
      "source": [
        "def say_greeting():\n",
        "    local_greeting = 'hello local function'\n",
        "    return local_greeting\n",
        "\n",
        "say_greeting()"
      ]
    },
    {
      "cell_type": "markdown",
      "metadata": {
        "id": "BuhoVgGyf_Im"
      },
      "source": [
        "### Instance Scope (Object Level Scope)"
      ]
    },
    {
      "cell_type": "markdown",
      "metadata": {
        "id": "nXGArAjzf_Io"
      },
      "source": [
        "Now that we have working with objects, we have a new level of scope.  These are attributes that are available throughout our object.\n",
        "\n",
        "Unlike before, we can store our data not through declaring a variable (whether local or global), but by adding an attribute to the instance."
      ]
    },
    {
      "cell_type": "code",
      "execution_count": 5,
      "metadata": {
        "id": "XUrVOX_Af_Ip"
      },
      "outputs": [],
      "source": [
        "class Person():\n",
        "    def __init__(self, name):\n",
        "        self.name = name\n",
        "\n",
        "    def say_greeting(self):\n",
        "        return f'hello my name is {self.name}'"
      ]
    },
    {
      "cell_type": "code",
      "execution_count": 6,
      "metadata": {
        "id": "qQ2Fa39Af_Iq",
        "outputId": "507beeaf-2a95-49e6-f2bc-7210cf475959",
        "colab": {
          "base_uri": "https://localhost:8080/",
          "height": 35
        }
      },
      "outputs": [
        {
          "output_type": "execute_result",
          "data": {
            "text/plain": [
              "'hello my name is bob smith'"
            ],
            "application/vnd.google.colaboratory.intrinsic+json": {
              "type": "string"
            }
          },
          "metadata": {},
          "execution_count": 6
        }
      ],
      "source": [
        "bob = Person('bob smith')\n",
        "\n",
        "bob.say_greeting()"
      ]
    },
    {
      "cell_type": "markdown",
      "metadata": {
        "id": "tBxqKK3Hf_It"
      },
      "source": [
        "So above, in the `init` function, we store the `name` attribute on the object, and we then access that attribute in a different function.  The attribute is stored on the instance."
      ]
    },
    {
      "cell_type": "code",
      "execution_count": null,
      "metadata": {
        "id": "Y96wD3IDf_It",
        "outputId": "f2e16847-af0e-4008-d75d-483ece06e881"
      },
      "outputs": [
        {
          "data": {
            "text/plain": [
              "'bob smith'"
            ]
          },
          "execution_count": 20,
          "metadata": {},
          "output_type": "execute_result"
        }
      ],
      "source": [
        "bob.name"
      ]
    },
    {
      "cell_type": "markdown",
      "metadata": {
        "id": "grud9ekWf_I6"
      },
      "source": [
        "So now when storing our data, it's important to think about whether we will need that data throughout the instance or just during the life of a function."
      ]
    },
    {
      "cell_type": "markdown",
      "metadata": {
        "id": "MwRwrkeXf_I6"
      },
      "source": [
        "For example, below in the `say_greeting` function, we declare a local variable `greeting` that is only available in that object.  This makes sense, as it is the only place that we would need the greeting.  It's not really something we need to access throughout an instance."
      ]
    },
    {
      "cell_type": "code",
      "execution_count": null,
      "metadata": {
        "id": "Usav48Izf_I7"
      },
      "outputs": [],
      "source": [
        "class Person():\n",
        "    def __init__(self, name):\n",
        "        self.name = name # instance scope\n",
        "\n",
        "    def say_greeting(self):\n",
        "        greeting = 'hello my name is' # local scope\n",
        "        print('my name is', 'komal')\n",
        "        return f'{greeting} {self.name}'"
      ]
    },
    {
      "cell_type": "code",
      "source": [],
      "metadata": {
        "id": "vRAvZv5EhPRI"
      },
      "execution_count": 11,
      "outputs": []
    },
    {
      "cell_type": "markdown",
      "metadata": {
        "id": "R9ZcpHkSf_JK"
      },
      "source": [
        "### Making data accessible"
      ]
    },
    {
      "cell_type": "markdown",
      "metadata": {
        "id": "cUsL99cbf_JK"
      },
      "source": [
        "Notice also that with instances, we now have two different ways to make our data accessible outside of a function.\n",
        "\n",
        "One is by storing the data as an attribute."
      ]
    },
    {
      "cell_type": "code",
      "execution_count": null,
      "metadata": {
        "id": "TA2DxXAsf_JM",
        "outputId": "00c85325-dd07-41ba-84a6-38765577f8ce"
      },
      "outputs": [
        {
          "data": {
            "text/plain": [
              "{'name': 'bob smith'}"
            ]
          },
          "execution_count": 22,
          "metadata": {},
          "output_type": "execute_result"
        }
      ],
      "source": [
        "bob = Person('bob smith')\n",
        "bob.__dict__"
      ]
    },
    {
      "cell_type": "code",
      "execution_count": null,
      "metadata": {
        "id": "5y7KrSqkf_JO",
        "outputId": "29f6cdf3-9036-4c8d-d94a-8bde35c3093c"
      },
      "outputs": [
        {
          "data": {
            "text/plain": [
              "'bob smith'"
            ]
          },
          "execution_count": 23,
          "metadata": {},
          "output_type": "execute_result"
        }
      ],
      "source": [
        "bob.name"
      ]
    },
    {
      "cell_type": "markdown",
      "metadata": {
        "id": "J7N37OHcf_JP"
      },
      "source": [
        "And the other is by returing the value from a function.  For example, with `say_name` we do not store the greeting on the instance, but rather make it accessible by throwing it over the walls of the function."
      ]
    },
    {
      "cell_type": "code",
      "execution_count": null,
      "metadata": {
        "id": "ZZ9hvgE7f_JP",
        "outputId": "eba0e851-f7ce-46c4-fbb0-29cfb433d8f8"
      },
      "outputs": [
        {
          "data": {
            "text/plain": [
              "'hello my name is bob smith'"
            ]
          },
          "execution_count": 25,
          "metadata": {},
          "output_type": "execute_result"
        }
      ],
      "source": [
        "bob.say_greeting()"
      ]
    },
    {
      "cell_type": "markdown",
      "metadata": {
        "id": "0AE2uddqf_JQ"
      },
      "source": [
        "Which we choose really depends on whether we think the value should be a property of the object, and that we should *change* the object by calling the function..or if we only need the value when we call the function, and so should simply return the value from the function."
      ]
    },
    {
      "cell_type": "markdown",
      "metadata": {
        "id": "RZhrhCODf_JQ"
      },
      "source": [
        "### Summary\n",
        "\n",
        "In this lesson, we went into a more in depth understanding of scope."
      ]
    },
    {
      "cell_type": "code",
      "execution_count": null,
      "metadata": {
        "id": "RlPNEW01f_JR"
      },
      "outputs": [],
      "source": [
        "class Person():\n",
        "    def __init__(self, name):\n",
        "        self.name = name # instance scope\n",
        "\n",
        "    def say_greeting(self):\n",
        "        greeting = 'hello my name is' # local scope\n",
        "        return f'{greeting} {self.name}'"
      ]
    },
    {
      "cell_type": "markdown",
      "metadata": {
        "id": "DHSEzVuQf_JR"
      },
      "source": [
        "As we saw, we can now make our variables local to a function, global, or store an attribute on an instance so that it is accessible anywhere on the instance.  Which we choose, depends on how we anticipate using the data.  \n",
        "\n",
        "If it's an attribute that seems to belong to the object, we can store it on the instance.  Whereas if it is something we only need in the context of a specific function then we can use a local variable, and make the contents of a function available by returning the value."
      ]
    },
    {
      "cell_type": "code",
      "source": [],
      "metadata": {
        "id": "E_ux-O5jiASi"
      },
      "execution_count": null,
      "outputs": []
    }
  ],
  "metadata": {
    "kernelspec": {
      "display_name": "Python 3.9.10 64-bit",
      "language": "python",
      "name": "python3"
    },
    "language_info": {
      "codemirror_mode": {
        "name": "ipython",
        "version": 3
      },
      "file_extension": ".py",
      "mimetype": "text/x-python",
      "name": "python",
      "nbconvert_exporter": "python",
      "pygments_lexer": "ipython3",
      "version": "3.9.10"
    },
    "orig_nbformat": 4,
    "vscode": {
      "interpreter": {
        "hash": "aee8b7b246df8f9039afb4144a1f6fd8d2ca17a180786b69acc140d282b71a49"
      }
    },
    "colab": {
      "provenance": [],
      "include_colab_link": true
    }
  },
  "nbformat": 4,
  "nbformat_minor": 0
}