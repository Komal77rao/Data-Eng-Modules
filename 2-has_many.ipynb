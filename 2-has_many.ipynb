{
  "cells": [
    {
      "cell_type": "markdown",
      "metadata": {
        "id": "view-in-github",
        "colab_type": "text"
      },
      "source": [
        "<a href=\"https://colab.research.google.com/github/Komal77rao/Data-Eng-Modules/blob/main/2-has_many.ipynb\" target=\"_parent\"><img src=\"https://colab.research.google.com/assets/colab-badge.svg\" alt=\"Open In Colab\"/></a>"
      ]
    },
    {
      "cell_type": "markdown",
      "metadata": {
        "id": "8FizSkg_w7iQ"
      },
      "source": [
        "# ORM Has Many Reading"
      ]
    },
    {
      "cell_type": "markdown",
      "metadata": {
        "id": "euor6tBZw7ib"
      },
      "source": [
        "### Introduction"
      ]
    },
    {
      "cell_type": "markdown",
      "metadata": {
        "id": "AYZLItyjw7ic"
      },
      "source": [
        "In this lesson, we'll fill in our other relationship methods.  We'll see how we can query our database fill in our `hasmany` functions.  For example, we'll stick with the moe's bar domain, but this time fill in a query that returns the many orders that each customer may have."
      ]
    },
    {
      "cell_type": "markdown",
      "metadata": {
        "id": "sY3Z8r14w7id"
      },
      "source": [
        "### Loading up our database"
      ]
    },
    {
      "cell_type": "markdown",
      "metadata": {
        "id": "Wl7UXAmSw7ir"
      },
      "source": [
        "Let's again work with Moe's bar.  We can begin by loading the data from our database.  And let's take a look at the tables.  \n",
        "\n",
        "> This lesson will work if you download it from github."
      ]
    },
    {
      "cell_type": "code",
      "execution_count": 1,
      "metadata": {
        "id": "AUXf11dkw7is",
        "outputId": "1df219b9-e741-4aed-afb9-b2a0da31d165",
        "colab": {
          "base_uri": "https://localhost:8080/"
        }
      },
      "outputs": [
        {
          "output_type": "execute_result",
          "data": {
            "text/plain": [
              "[('bartenders',),\n",
              " ('customers',),\n",
              " ('drinks',),\n",
              " ('orders',),\n",
              " ('ingredients',),\n",
              " ('ingredients_drinks',)]"
            ]
          },
          "metadata": {},
          "execution_count": 1
        }
      ],
      "source": [
        "import sqlite3\n",
        "conn = sqlite3.connect('./moes_bar.db')\n",
        "cursor = conn.cursor()\n",
        "\n",
        "import pandas as pd\n",
        "root_url = \"https://raw.githubusercontent.com/jigsawlabs-student/curriculum-images/main/has-many-through-bar/data/\"\n",
        "names = ['bartenders', 'customers', 'drinks', 'orders', 'ingredients', 'ingredients_drinks']\n",
        "loaded_dfs = [pd.read_csv(f'{root_url}{name}.csv') for name in names]\n",
        "for index, name in enumerate(names):\n",
        "    loaded_dfs[index].to_sql(f'{name}', conn, index = False, if_exists = 'replace')\n",
        "cursor.execute(\"SELECT name FROM sqlite_master WHERE type='table';\")\n",
        "cursor.fetchall()"
      ]
    },
    {
      "cell_type": "markdown",
      "metadata": {
        "id": "0Zl4m0pXw7ix"
      },
      "source": [
        "### Has many queries"
      ]
    },
    {
      "cell_type": "markdown",
      "metadata": {
        "id": "AWxzmZxdw7iy"
      },
      "source": [
        "Now let's get moving with our has many relationship.  We already saw how to add an method to our order class to return the associated customer."
      ]
    },
    {
      "cell_type": "code",
      "execution_count": 2,
      "metadata": {
        "id": "HHfaFZxRw7iz"
      },
      "outputs": [],
      "source": [
        "class Order:\n",
        "    __table__ = 'orders'\n",
        "    columns = ['id', 'customer_id', 'drink_id', 'bartender_id']\n",
        "\n",
        "    def customer(self):\n",
        "        cursor.execute('SELECT * FROM customers WHERE id = ?', (self.customer_id,))\n",
        "        customer_record = cursor.fetchone()\n",
        "        return build_from_record(Customer, customer_record)\n",
        "\n",
        "class Customer:\n",
        "    __table__ = 'customers'\n",
        "    columns = ['id', 'name', 'hometown']\n",
        "\n",
        "\n",
        "def build_from_record(Class, record):\n",
        "    if not record: return None\n",
        "    attr = dict(zip(Class.columns, record))\n",
        "    obj = Class()\n",
        "    obj.__dict__ = attr\n",
        "    return obj\n",
        "\n",
        "def build_from_records(Class, records):\n",
        "    return [build_from_record(Class, record) for record in records]"
      ]
    },
    {
      "cell_type": "markdown",
      "metadata": {
        "id": "PMu7f21Jw7i0"
      },
      "source": [
        "Now let's add a method to our customer class that returns the all of the related orders.  Once again, it's easier if we start with a record from the database."
      ]
    },
    {
      "cell_type": "code",
      "execution_count": 3,
      "metadata": {
        "id": "t1zNwxd5w7i1",
        "outputId": "93f2a441-a66c-4621-cfb4-6299f4ef64aa",
        "colab": {
          "base_uri": "https://localhost:8080/"
        }
      },
      "outputs": [
        {
          "output_type": "execute_result",
          "data": {
            "text/plain": [
              "{'id': 3, 'name': 'lisa simpson', 'hometown': 'philly'}"
            ]
          },
          "metadata": {},
          "execution_count": 3
        }
      ],
      "source": [
        "cursor.execute('SELECT * FROM customers ORDER BY id DESC LIMIT 1;')\n",
        "last_customer_record = cursor.fetchone()\n",
        "\n",
        "last_customer = build_from_record(Customer, last_customer_record)\n",
        "\n",
        "last_customer.__dict__"
      ]
    },
    {
      "cell_type": "markdown",
      "metadata": {
        "id": "Ccit4Dudw7i2"
      },
      "source": [
        "So now, starting with this customer let's think about how we can get all of the associated orders.  Well the only id we have is the customer id.  And we can use that if we remember that there is a `customer_id` column on the orders table.  Our method looks like the following:"
      ]
    },
    {
      "cell_type": "code",
      "execution_count": 4,
      "metadata": {
        "id": "g0C1_Ncvw7i3"
      },
      "outputs": [],
      "source": [
        "class Customer:\n",
        "    __table__ = 'customers'\n",
        "    columns = ['id', 'name', 'hometown']\n",
        "\n",
        "    def orders(self):\n",
        "        cursor.execute('SELECT * FROM orders WHERE orders.customer_id = ?;', (self.id,))\n",
        "        order_records = cursor.fetchall()\n",
        "        return build_from_records(Order, order_records)"
      ]
    },
    {
      "cell_type": "code",
      "execution_count": 5,
      "metadata": {
        "id": "qQ-FMLO1w7i4"
      },
      "outputs": [],
      "source": [
        "last_customer = build_from_record(Customer, last_customer_record)"
      ]
    },
    {
      "cell_type": "code",
      "execution_count": 6,
      "metadata": {
        "id": "9rpI1QvKw7i4",
        "outputId": "c23cd789-e093-4401-d933-7ed34abc95a4",
        "colab": {
          "base_uri": "https://localhost:8080/"
        }
      },
      "outputs": [
        {
          "output_type": "execute_result",
          "data": {
            "text/plain": [
              "[<__main__.Order at 0x7fa1037eac20>, <__main__.Order at 0x7fa1037eb250>]"
            ]
          },
          "metadata": {},
          "execution_count": 6
        }
      ],
      "source": [
        "orders = last_customer.orders()\n",
        "orders"
      ]
    },
    {
      "cell_type": "markdown",
      "metadata": {
        "id": "0moC1v0ew7i4"
      },
      "source": [
        "> Take a moment to read back through the query and make sure that you understand how it works."
      ]
    },
    {
      "cell_type": "markdown",
      "metadata": {
        "id": "Hj8Z4-yXw7i4"
      },
      "source": [
        "### Give it a shot"
      ]
    },
    {
      "cell_type": "markdown",
      "metadata": {
        "id": "RYSFWE27w7i5"
      },
      "source": [
        "In fact if we give you the Bartender class, add a function that returns all of the bartender's orders."
      ]
    },
    {
      "cell_type": "code",
      "execution_count": 7,
      "metadata": {
        "id": "TlRh4qldw7i5"
      },
      "outputs": [],
      "source": [
        "class Bartender:\n",
        "    __table__ = 'bartenders'\n",
        "    columns = ['id', 'name', 'hometown', 'birthyear']\n",
        "\n",
        "    def orders(self):\n",
        "      cursor.execute('SELECT * FROM orders WHERE orders.bartender_id = ?;', (self.id,))\n",
        "      order_records = cursor.fetchall()\n",
        "      return build_from_records(Order, order_records)\n",
        ""
      ]
    },
    {
      "cell_type": "markdown",
      "metadata": {
        "id": "H6zKP1pQw7i5"
      },
      "source": [
        "### Many to Many"
      ]
    },
    {
      "cell_type": "markdown",
      "metadata": {
        "id": "UX9c8qEGw7i5"
      },
      "source": [
        "Finally, the last relationship to tackle is the many to many relatioship.  For example, a customer has many bartenders and a bartender has many customers.  These two entities are linked through our join table, here `orders`.  Let's think about what it would take for us to add an `bartenders` function to our customers table."
      ]
    },
    {
      "cell_type": "code",
      "execution_count": 8,
      "metadata": {
        "id": "HeucBRkqw7i5",
        "outputId": "9b72d401-e929-4226-abfa-08b20ecd39be",
        "colab": {
          "base_uri": "https://localhost:8080/"
        }
      },
      "outputs": [
        {
          "output_type": "execute_result",
          "data": {
            "text/plain": [
              "{'id': 3, 'name': 'lisa simpson', 'hometown': 'philly'}"
            ]
          },
          "metadata": {},
          "execution_count": 8
        }
      ],
      "source": [
        "last_customer.__dict__"
      ]
    },
    {
      "cell_type": "markdown",
      "metadata": {
        "id": "6HgU_jjjw7i6"
      },
      "source": [
        "Well, the only thing useful on our customer is the customer id.  We can use this by finding all of the orders whose customer_id matches the id on customer, and then getting the associated bartenders of those orders.  Ok, let's give it a shot."
      ]
    },
    {
      "cell_type": "code",
      "execution_count": 9,
      "metadata": {
        "id": "NpfP33gWw7i6"
      },
      "outputs": [],
      "source": [
        "class Customer:\n",
        "    __table__ = 'customers'\n",
        "    columns = ['id', 'name', 'hometown']\n",
        "\n",
        "    def orders(self):\n",
        "        cursor.execute('SELECT * FROM orders WHERE orders.customer_id = ?;', (self.id,))\n",
        "        order_records = cursor.fetchall()\n",
        "        return build_from_records(Order, order_records)\n",
        "\n",
        "    def bartenders(self):\n",
        "        cursor.execute(\"\"\"SELECT DISTINCT bartenders.*\n",
        "        FROM bartenders JOIN orders ON\n",
        "        orders.bartender_id = bartenders.id\n",
        "        WHERE orders.customer_id =  ?;\"\"\", (self.id,))\n",
        "        bartender_records = cursor.fetchall()\n",
        "        return build_from_records(Bartender, bartender_records)"
      ]
    },
    {
      "cell_type": "code",
      "execution_count": 10,
      "metadata": {
        "id": "uOmU9syUw7i7"
      },
      "outputs": [],
      "source": [
        "last_customer = build_from_record(Customer, last_customer_record)"
      ]
    },
    {
      "cell_type": "code",
      "execution_count": 11,
      "metadata": {
        "id": "QT_QZ8hVw7i8",
        "outputId": "fa922189-c8fe-46dd-c4fe-0c30696bc32d",
        "colab": {
          "base_uri": "https://localhost:8080/"
        }
      },
      "outputs": [
        {
          "output_type": "execute_result",
          "data": {
            "text/plain": [
              "[{'id': 3, 'name': 'patty', 'hometown': 'philly', 'birthyear': 1970}]"
            ]
          },
          "metadata": {},
          "execution_count": 11
        }
      ],
      "source": [
        "bartenders = last_customer.bartenders()\n",
        "\n",
        "[bartender.__dict__ for bartender in bartenders]"
      ]
    },
    {
      "cell_type": "code",
      "execution_count": 12,
      "metadata": {
        "id": "_TA39ijHw7i9"
      },
      "outputs": [],
      "source": [
        "class Bartender:\n",
        "    __table__ = 'bartenders'\n",
        "    columns = ['id', 'name', 'hometown', 'birthyear']\n",
        "\n",
        "    def orders(self):\n",
        "        pass"
      ]
    },
    {
      "cell_type": "markdown",
      "metadata": {
        "id": "Hb2cypxvw7i9"
      },
      "source": [
        "### Summary"
      ]
    },
    {
      "cell_type": "markdown",
      "metadata": {
        "id": "Qkk1m-dWw7jJ"
      },
      "source": [
        "In this lesson, we'll saw how to write a has many query and a many to many query.  With both queries, we start with the primary key, like `customers.id`, and find the relevant records on a separate table.  For example, to find the customers orders we wrote:"
      ]
    },
    {
      "cell_type": "code",
      "execution_count": null,
      "metadata": {
        "id": "4MiZdMW5w7jK"
      },
      "outputs": [],
      "source": [
        "class Customer:\n",
        "    __table__ = 'customers'\n",
        "    columns = ['id', 'name', 'hometown']\n",
        "\n",
        "    def orders(self):\n",
        "        cursor.execute('SELECT * FROM orders WHERE orders.customer_id = ?;', (self.id,))\n",
        "        order_records = cursor.fetchall()\n",
        "        return build_from_records(Order, order_records)"
      ]
    },
    {
      "cell_type": "markdown",
      "metadata": {
        "id": "KYNYZ42tw7jK"
      },
      "source": [
        "So when we call `customer.orders()`, we find the orders whose `customer_id` matches the id of the current `customer`.\n",
        "\n",
        "With our many to many relationship, we this time joined two different tables together.  We saw this with our `customer.bartenders()` function."
      ]
    },
    {
      "cell_type": "code",
      "execution_count": null,
      "metadata": {
        "id": "OneK0ATVw7jK"
      },
      "outputs": [],
      "source": [
        "def bartenders(self):\n",
        "        cursor.execute(\"\"\"SELECT DISTINCT bartenders.*\n",
        "        FROM bartenders JOIN orders ON\n",
        "        orders.bartender_id = bartenders.id\n",
        "        WHERE orders.customer_id =  ?;\"\"\", (self.id,))\n",
        "        bartender_records = cursor.fetchall()\n",
        "        return build_from_records(Bartender, bartender_records)"
      ]
    },
    {
      "cell_type": "markdown",
      "metadata": {
        "id": "9jemUAHPw7jO"
      },
      "source": [
        "We needed to return the relevant bartender records from our bartenders table, but found these records by finding the orders whose `customer_id` equaled our current customer's id."
      ]
    }
  ],
  "metadata": {
    "kernelspec": {
      "display_name": "Python 3 (ipykernel)",
      "language": "python",
      "name": "python3"
    },
    "language_info": {
      "codemirror_mode": {
        "name": "ipython",
        "version": 3
      },
      "file_extension": ".py",
      "mimetype": "text/x-python",
      "name": "python",
      "nbconvert_exporter": "python",
      "pygments_lexer": "ipython3",
      "version": "3.9.12"
    },
    "vscode": {
      "interpreter": {
        "hash": "31f2aee4e71d21fbe5cf8b01ff0e069b9275f58929596ceb00d14d90e3e16cd6"
      }
    },
    "colab": {
      "provenance": [],
      "include_colab_link": true
    }
  },
  "nbformat": 4,
  "nbformat_minor": 0
}