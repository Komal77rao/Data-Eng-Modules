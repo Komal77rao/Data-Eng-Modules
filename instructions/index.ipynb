{
  "cells": [
    {
      "cell_type": "markdown",
      "metadata": {
        "id": "view-in-github",
        "colab_type": "text"
      },
      "source": [
        "<a href=\"https://colab.research.google.com/github/Komal77rao/Data-Eng-Modules/blob/main/instructions/index.ipynb\" target=\"_parent\"><img src=\"https://colab.research.google.com/assets/colab-badge.svg\" alt=\"Open In Colab\"/></a>"
      ]
    },
    {
      "cell_type": "markdown",
      "id": "7e82864b-9300-45ed-b984-b30c6e3efbc9",
      "metadata": {
        "id": "7e82864b-9300-45ed-b984-b30c6e3efbc9"
      },
      "source": [
        "# Cocktail Quiz"
      ]
    },
    {
      "cell_type": "markdown",
      "id": "e333fb0d-ff2d-4960-a562-4dd6130d6120",
      "metadata": {
        "id": "e333fb0d-ff2d-4960-a562-4dd6130d6120"
      },
      "source": [
        "### Introduction"
      ]
    },
    {
      "cell_type": "markdown",
      "id": "66a0cc45-697a-41cc-9803-72c73a63d9d6",
      "metadata": {
        "id": "66a0cc45-697a-41cc-9803-72c73a63d9d6"
      },
      "source": [
        "In this lesson, we'll build an application that gathers data from [The Cocktail DB](https://www.thecocktaildb.com/api.php).\n",
        "\n",
        "Let's get started."
      ]
    },
    {
      "cell_type": "markdown",
      "id": "8532c73c-b2bb-4e43-bb55-e5fc58dd1e94",
      "metadata": {
        "id": "8532c73c-b2bb-4e43-bb55-e5fc58dd1e94"
      },
      "source": [
        "### Making an API Call"
      ]
    },
    {
      "cell_type": "markdown",
      "id": "eb729b3c-3867-4be0-8e4b-20bad108a76d",
      "metadata": {
        "id": "eb729b3c-3867-4be0-8e4b-20bad108a76d"
      },
      "source": [
        "We can search for information on a particular drink -- like a margarita -- with something like the following:"
      ]
    },
    {
      "cell_type": "markdown",
      "id": "f4e98cf9-518e-4687-b86d-412727e244f1",
      "metadata": {
        "tags": [],
        "id": "f4e98cf9-518e-4687-b86d-412727e244f1"
      },
      "source": [
        "```python\n",
        "import requests\n",
        "url = \"https://www.thecocktaildb.com/api/json/v1/1/search.php?s=margarita\"\n",
        "response = requests.get(url)\n",
        "response.json()\n",
        "```"
      ]
    },
    {
      "cell_type": "code",
      "source": [
        "import requests\n",
        "url = \"https://www.thecocktaildb.com/api/json/v1/1/search.php?s=old fashioned\"\n",
        "response = requests.get(url)\n",
        "margarita_results = response.json()\n",
        "margarita_results"
      ],
      "metadata": {
        "id": "Lx7R3H8trzc5"
      },
      "id": "Lx7R3H8trzc5",
      "execution_count": null,
      "outputs": []
    },
    {
      "cell_type": "code",
      "source": [
        "def drinks_by_name(name):\n",
        "  url = \"https://www.thecocktaildb.com/api/json/v1/1/search.php?s=\"+name\n",
        "  response = requests.get(url)\n",
        "  margarita_results = response.json()\n",
        "  return margarita_results\n",
        "\n",
        "len(drinks_by_name('old fashioned'))"
      ],
      "metadata": {
        "id": "cN4r2ZbGsJ1B",
        "outputId": "dd6e7fef-6c46-4df5-b25a-70faed9d2f87",
        "colab": {
          "base_uri": "https://localhost:8080/"
        }
      },
      "id": "cN4r2ZbGsJ1B",
      "execution_count": 34,
      "outputs": [
        {
          "output_type": "execute_result",
          "data": {
            "text/plain": [
              "1"
            ]
          },
          "metadata": {},
          "execution_count": 34
        }
      ]
    },
    {
      "cell_type": "markdown",
      "id": "1a0851c1-49f5-4fbc-b4eb-2e4d4d0b513b",
      "metadata": {
        "tags": [],
        "id": "1a0851c1-49f5-4fbc-b4eb-2e4d4d0b513b"
      },
      "source": [
        "1. Write a function called `drinks_by_name` that takes an argument of a cocktail name, and then searches for that cocktail.\n",
        "\n",
        "> You can check your work by passing the related test."
      ]
    },
    {
      "cell_type": "code",
      "execution_count": null,
      "id": "e59767dc-2ff3-4d14-988e-b404342133ae",
      "metadata": {
        "tags": [],
        "id": "e59767dc-2ff3-4d14-988e-b404342133ae"
      },
      "outputs": [],
      "source": [
        "import requests\n",
        "url = \"https://www.thecocktaildb.com/api/json/v1/1/search.php?s=margarita\"\n",
        "response = requests.get(url)\n",
        "results = response.json()"
      ]
    },
    {
      "cell_type": "markdown",
      "id": "7d9f4434-9505-4679-93b4-c21eb8d29182",
      "metadata": {
        "id": "7d9f4434-9505-4679-93b4-c21eb8d29182"
      },
      "source": [
        "2. Next write a function called `drink_by_id` that takes a drink id and returns the corresponding drink.\n",
        "\n",
        "> Look at the [api documentation](https://www.thecocktaildb.com/api.php) for how to do this."
      ]
    },
    {
      "cell_type": "code",
      "source": [
        "def drinks_by_id(id):\n",
        "  url = f'https://www.thecocktaildb.com/api/json/v1/1/lookup.php?i={id}'\n",
        "  response = requests.get(url)\n",
        "  margarita_results = response.json()\n",
        "  return margarita_results\n",
        "\n",
        "drinks_by_id(12322)['drinks'][0]\n",
        "\n",
        "\n"
      ],
      "metadata": {
        "id": "RQ8KI7K_w2Er",
        "outputId": "c6cc5c3d-6198-422a-b5c1-35ddd0eb5d22",
        "colab": {
          "base_uri": "https://localhost:8080/"
        }
      },
      "id": "RQ8KI7K_w2Er",
      "execution_count": 40,
      "outputs": [
        {
          "output_type": "execute_result",
          "data": {
            "text/plain": [
              "{'idDrink': '12322',\n",
              " 'strDrink': 'Strawberry Margarita',\n",
              " 'strDrinkAlternate': None,\n",
              " 'strTags': None,\n",
              " 'strVideo': None,\n",
              " 'strCategory': 'Ordinary Drink',\n",
              " 'strIBA': None,\n",
              " 'strAlcoholic': 'Alcoholic',\n",
              " 'strGlass': 'Cocktail glass',\n",
              " 'strInstructions': 'Rub rim of cocktail glass with lemon juice and dip rim in salt. Shake schnapps, tequila, triple sec, lemon juice, and strawberries with ice, strain into the salt-rimmed glass, and serve.',\n",
              " 'strInstructionsES': None,\n",
              " 'strInstructionsDE': 'Cocktailglasrand mit Zitronensaft und Tauchrand in Salz wenden. Schnaps, Tequila, Triple-Sec, Zitronensaft und Erdbeeren mit Eis schütteln, in das salzige Glas sieben und servieren.',\n",
              " 'strInstructionsFR': None,\n",
              " 'strInstructionsIT': 'Strofinare il bordo del bicchiere da cocktail con succo di limone e immergerlo nel sale. Shakerare grappa, tequila, triple sec, succo di limone e fragole con ghiaccio, filtrare nel bicchiere bordato di sale e servire.',\n",
              " 'strInstructionsZH-HANS': None,\n",
              " 'strInstructionsZH-HANT': None,\n",
              " 'strDrinkThumb': 'https://www.thecocktaildb.com/images/media/drink/tqyrpw1439905311.jpg',\n",
              " 'strIngredient1': 'Strawberry schnapps',\n",
              " 'strIngredient2': 'Tequila',\n",
              " 'strIngredient3': 'Triple sec',\n",
              " 'strIngredient4': 'Lemon juice',\n",
              " 'strIngredient5': 'Strawberries',\n",
              " 'strIngredient6': 'Salt',\n",
              " 'strIngredient7': None,\n",
              " 'strIngredient8': None,\n",
              " 'strIngredient9': None,\n",
              " 'strIngredient10': None,\n",
              " 'strIngredient11': None,\n",
              " 'strIngredient12': None,\n",
              " 'strIngredient13': None,\n",
              " 'strIngredient14': None,\n",
              " 'strIngredient15': None,\n",
              " 'strMeasure1': '1/2 oz ',\n",
              " 'strMeasure2': '1 oz ',\n",
              " 'strMeasure3': '1/2 oz ',\n",
              " 'strMeasure4': '1 oz ',\n",
              " 'strMeasure5': '1 oz ',\n",
              " 'strMeasure6': None,\n",
              " 'strMeasure7': None,\n",
              " 'strMeasure8': None,\n",
              " 'strMeasure9': None,\n",
              " 'strMeasure10': None,\n",
              " 'strMeasure11': None,\n",
              " 'strMeasure12': None,\n",
              " 'strMeasure13': None,\n",
              " 'strMeasure14': None,\n",
              " 'strMeasure15': None,\n",
              " 'strImageSource': None,\n",
              " 'strImageAttribution': None,\n",
              " 'strCreativeCommonsConfirmed': 'No',\n",
              " 'dateModified': '2015-08-18 14:41:51'}"
            ]
          },
          "metadata": {},
          "execution_count": 40
        }
      ]
    },
    {
      "cell_type": "markdown",
      "id": "94dc6b97-2aaa-4284-9edd-cd313dc7acba",
      "metadata": {
        "id": "94dc6b97-2aaa-4284-9edd-cd313dc7acba"
      },
      "source": [
        "3. Then write a test, and a function called `extract_api_drink` that given the return value from the `drink_by_id` function returns a dictionary with keys of the id, name, main_ingredient, and recipe.\n",
        "\n",
        "For example, given an input of the strawberry_margarita response, seen in `data.py`, it would return the following."
      ]
    },
    {
      "cell_type": "code",
      "source": [
        "def extract_api_drink(id):\n",
        "  id = drinks_by_id(id)['drinks'][0]\n",
        "  return {'id': id['idDrink'] , 'name': id['strDrink'] , 'main_ingredient': id['strIngredient1'], 'instrucions':id['strInstructions'] }\n",
        "\n",
        "extract_api_drink(12322)\n",
        "\n",
        "def test_extract_api_drink():\n",
        "  assert extract_api_drink(12322) == {'id': '12322',\n",
        " 'name': 'Strawberry Margarita',\n",
        " 'main_ingredient': 'Strawberry schnapps',\n",
        " 'instrucions': 'Rub rim of cocktail glass with lemon juice and dip rim in salt. Shake schnapps, tequila, triple sec, lemon juice, and strawberries with ice, strain into the salt-rimmed glass, and serve.'}\n",
        "\n"
      ],
      "metadata": {
        "id": "8AoRq5kSxhYO"
      },
      "id": "8AoRq5kSxhYO",
      "execution_count": 54,
      "outputs": []
    },
    {
      "cell_type": "markdown",
      "id": "22c4a431-53e0-4f43-99a0-ec3486183971",
      "metadata": {
        "id": "22c4a431-53e0-4f43-99a0-ec3486183971"
      },
      "source": [
        "```python\n",
        "{'id': '12322',\n",
        " 'name': 'Strawberry Margarita',\n",
        " 'instructions': 'Rub rim of cocktail glass with lemon juice and dip rim in salt. Shake schnapps, tequila, triple sec, lemon juice, and strawberries with ice, strain into the salt-rimmed glass, and serve.',\n",
        "'main_ingredient': 'Strawberry schnapps'}\n",
        "```"
      ]
    },
    {
      "cell_type": "code",
      "source": [
        "def extract_ingredients(name):\n",
        "  result = drinks_by_name(name)['drinks'][0]\n",
        "  name = result['strDrink']\n",
        "  ingredients = []\n",
        "  for k, v in result.items():\n",
        "    if k.startswith('strIngredient') and v:\n",
        "      ingredients.append(v)\n",
        "  return {'name': name, 'ingredients' : ingredients}\n",
        "\n",
        "extract_drink_ingredients('strawberry_margarita')\n"
      ],
      "metadata": {
        "id": "ShcVFKz9yvT4",
        "outputId": "337416f8-a875-442d-cfab-10726c869650",
        "colab": {
          "base_uri": "https://localhost:8080/"
        }
      },
      "id": "ShcVFKz9yvT4",
      "execution_count": 46,
      "outputs": [
        {
          "output_type": "execute_result",
          "data": {
            "text/plain": [
              "{'name': 'Strawberry Margarita',\n",
              " 'ingredients': ['Strawberry schnapps',\n",
              "  'Tequila',\n",
              "  'Triple sec',\n",
              "  'Lemon juice',\n",
              "  'Strawberries',\n",
              "  'Salt']}"
            ]
          },
          "metadata": {},
          "execution_count": 46
        }
      ]
    },
    {
      "cell_type": "markdown",
      "id": "45eb3178-733d-441d-ae9f-633afb66e281",
      "metadata": {
        "id": "45eb3178-733d-441d-ae9f-633afb66e281"
      },
      "source": [
        "4. As you can see from the API response for a drink, there are fifteen potential ingredients.  Write a function called `extract_drink_ingredients` that given the return value from the drink_by_id function, returns the name of the drink, and a list of just the present ingredients of each drink.\n",
        "\n",
        "> There **is** a corresponding test for this, so get the test to pass."
      ]
    },
    {
      "cell_type": "markdown",
      "id": "730c73cc-752a-41c8-9b44-c33d9ee32b20",
      "metadata": {
        "id": "730c73cc-752a-41c8-9b44-c33d9ee32b20"
      },
      "source": [
        "5. Next write a function called `extract_ingredients_and_amounts` that given the same input, returns a dictionary with a key of `ingredients_amounts` where the value is a list of tuples with each ingredient and the corresponding amount."
      ]
    },
    {
      "cell_type": "code",
      "source": [
        "def extract_ingredients_and_amount(name):\n",
        "  result = drinks_by_name(name)['drinks'][0]\n",
        "  name = result['strDrink']\n",
        "  ingredients = extract_ingredients(name)['ingredients']\n",
        "  amount = []\n",
        "\n",
        "  for k, v in result.items():\n",
        "    if k.startswith('strMeasure') and v:\n",
        "      amount.append(v)\n",
        "  return {'name': name, 'ingredients' : list(zip(ingredients,amount))}\n",
        "\n",
        "extract_ingredients_and_amount('strawberry_margarita')"
      ],
      "metadata": {
        "id": "By8Hd6BL1O8B",
        "outputId": "9d670d1e-79a2-40ff-98a3-209f29e42481",
        "colab": {
          "base_uri": "https://localhost:8080/"
        }
      },
      "id": "By8Hd6BL1O8B",
      "execution_count": 50,
      "outputs": [
        {
          "output_type": "execute_result",
          "data": {
            "text/plain": [
              "{'name': 'Strawberry Margarita',\n",
              " 'ingredients': [('Strawberry schnapps', '1/2 oz '),\n",
              "  ('Tequila', '1 oz '),\n",
              "  ('Triple sec', '1/2 oz '),\n",
              "  ('Lemon juice', '1 oz '),\n",
              "  ('Strawberries', '1 oz ')]}"
            ]
          },
          "metadata": {},
          "execution_count": 50
        }
      ]
    },
    {
      "cell_type": "code",
      "source": [
        "ingredients= [('Strawberry schnapps', '1 oz '),\n",
        "  ('Tequila', '1 oz '),\n",
        "  ('Triple sec', '1 oz '),\n",
        "  ('Lemon juice', '1 oz '),\n",
        "  ('Strawberries', '1 oz ')]\n",
        "\n",
        "def coerce_ingredient_amounts(ingredients):\n",
        "\n",
        "  ingredient_name = []\n",
        "  ingredient_amt = []\n",
        "\n",
        "  for k,v in ingredients:\n",
        "    ingredient_name.append(k)\n",
        "    ingredient_amt.append(int(v.split(\" \")[0]))\n",
        "\n",
        "  return list(zip(ingredient_name,ingredient_amt))\n",
        "\n",
        "\n",
        "\n",
        "coerce_ingredient_amounts(ingredients)\n",
        "\n"
      ],
      "metadata": {
        "id": "y3uydcLa2y-j",
        "outputId": "ac7526cd-bc12-424b-c95c-ea470ae9d775",
        "colab": {
          "base_uri": "https://localhost:8080/"
        }
      },
      "id": "y3uydcLa2y-j",
      "execution_count": 63,
      "outputs": [
        {
          "output_type": "execute_result",
          "data": {
            "text/plain": [
              "[('Strawberry schnapps', 1),\n",
              " ('Tequila', 1),\n",
              " ('Triple sec', 1),\n",
              " ('Lemon juice', 1),\n",
              " ('Strawberries', 1)]"
            ]
          },
          "metadata": {},
          "execution_count": 63
        }
      ]
    },
    {
      "cell_type": "markdown",
      "id": "9ea08bbd-0ee0-4cc5-bc6d-873d9e3f5d86",
      "metadata": {
        "id": "9ea08bbd-0ee0-4cc5-bc6d-873d9e3f5d86"
      },
      "source": [
        "6. Then write a function called `coerce_ingredient_amounts` where given the list of tuples of ingredients_amounts, converts each of the corresponding amounts to an integer.  Once again, there is a test to pass.\n",
        "\n",
        "> We removed the fraction to make this problem easier -- so your function does not have to handle fractions."
      ]
    },
    {
      "cell_type": "markdown",
      "id": "99b05782-ebc4-4068-998f-07c1b336eb3f",
      "metadata": {
        "id": "99b05782-ebc4-4068-998f-07c1b336eb3f"
      },
      "source": [
        "### Reorganizing the codebase"
      ]
    },
    {
      "cell_type": "markdown",
      "id": "f54e3f3e-f607-4438-b314-9c5c1ad37c9b",
      "metadata": {
        "id": "f54e3f3e-f607-4438-b314-9c5c1ad37c9b"
      },
      "source": [
        "Now update the codebase so that the tests are in a folder called tests, and the code is in a folder called `src`.  Update the codebase so that all of the tests pass."
      ]
    },
    {
      "cell_type": "code",
      "execution_count": null,
      "id": "747ed2d3-2843-434f-9769-673a3a2918a0",
      "metadata": {
        "id": "747ed2d3-2843-434f-9769-673a3a2918a0"
      },
      "outputs": [],
      "source": []
    }
  ],
  "metadata": {
    "kernelspec": {
      "display_name": "Python 3",
      "language": "python",
      "name": "python3"
    },
    "language_info": {
      "codemirror_mode": {
        "name": "ipython",
        "version": 3
      },
      "file_extension": ".py",
      "mimetype": "text/x-python",
      "name": "python",
      "nbconvert_exporter": "python",
      "pygments_lexer": "ipython3",
      "version": "3.11.1"
    },
    "vscode": {
      "interpreter": {
        "hash": "5c7b89af1651d0b8571dde13640ecdccf7d5a6204171d6ab33e7c296e100e08a"
      }
    },
    "colab": {
      "provenance": [],
      "include_colab_link": true
    }
  },
  "nbformat": 4,
  "nbformat_minor": 5
}