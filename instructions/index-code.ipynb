{
  "cells": [
    {
      "cell_type": "markdown",
      "metadata": {
        "id": "view-in-github",
        "colab_type": "text"
      },
      "source": [
        "<a href=\"https://colab.research.google.com/github/Komal77rao/Data-Eng-Modules/blob/main/instructions/index-code.ipynb\" target=\"_parent\"><img src=\"https://colab.research.google.com/assets/colab-badge.svg\" alt=\"Open In Colab\"/></a>"
      ]
    },
    {
      "cell_type": "markdown",
      "id": "d72aaf2b-723b-466d-8b93-00b83734a139",
      "metadata": {
        "id": "d72aaf2b-723b-466d-8b93-00b83734a139"
      },
      "source": [
        "# Write your code here"
      ]
    },
    {
      "cell_type": "markdown",
      "id": "27877bf7-f022-45a9-b391-24d0a3681f9b",
      "metadata": {
        "id": "27877bf7-f022-45a9-b391-24d0a3681f9b"
      },
      "source": [
        "1. Now copy and paste the code from the `index.py` file below."
      ]
    },
    {
      "cell_type": "code",
      "execution_count": null,
      "id": "1d07940e-941e-436d-9be3-bed061a82297",
      "metadata": {
        "id": "1d07940e-941e-436d-9be3-bed061a82297"
      },
      "outputs": [],
      "source": [
        "import requests\n",
        "\n",
        "def drinks_by_name(name):\n",
        "  url = \"https://www.thecocktaildb.com/api/json/v1/1/search.php?s=\"+name\n",
        "  response = requests.get(url)\n",
        "  margarita_results = response.json()\n",
        "  return margarita_results\n",
        "\n",
        "\n",
        "def drinks_by_id(id):\n",
        "  url = f'https://www.thecocktaildb.com/api/json/v1/1/lookup.php?i={id}'\n",
        "  response = requests.get(url)\n",
        "  margarita_results = response.json()\n",
        "  return margarita_results\n",
        "\n",
        "\n",
        "def extract_api_drink(id):\n",
        "  id = drinks_by_id(id)['drinks'][0]\n",
        "  return {'id': id['idDrink'] , 'name': id['strDrink'] , 'main_ingredient': id['strIngredient1'], 'instrucions':id['strInstructions'] }\n",
        "\n",
        "\n",
        "\n",
        "def extract_ingredients(name):\n",
        "  result = drinks_by_name(name)['drinks'][0]\n",
        "  name = result['strDrink']\n",
        "  ingredients = []\n",
        "  for k, v in result.items():\n",
        "    if k.startswith('strIngredient') and v:\n",
        "      ingredients.append(v)\n",
        "  return {'name': name, 'ingredients' : ingredients}\n",
        "\n",
        "\n",
        "def extract_ingredients_and_amount(name):\n",
        "  result = drinks_by_name(name)['drinks'][0]\n",
        "  name = result['strDrink']\n",
        "  ingredients = extract_ingredients(name)['ingredients']\n",
        "  amount = []\n",
        "\n",
        "  for k, v in result.items():\n",
        "    if k.startswith('strMeasure') and v:\n",
        "      amount.append(v)\n",
        "  return {'name': name, 'ingredients' : list(zip(ingredients,amount))}\n",
        "\n",
        "ingredients_amounts = [('Strawberry schnapps', '1 oz '), ('Tequila', '1 oz '), ('Triple sec', '2 oz '),\n",
        "     ('Lemon juice', '1 oz '), ('Strawberries', '1 oz ')]\n",
        "\n",
        "def coerce_ingredient_amounts(ingredients):\n",
        "  ingredient_name = []\n",
        "  ingredient_amt = []\n",
        "  for k,v in ingredients:\n",
        "    ingredient_name.append(k)\n",
        "    ingredient_amt.append(int(v.split(\" \")[0]))\n",
        "  return list(zip(ingredient_name,ingredient_amt))\n",
        "\n"
      ]
    },
    {
      "cell_type": "markdown",
      "id": "84812d93-b439-434f-94c1-d9b326033c2d",
      "metadata": {
        "id": "84812d93-b439-434f-94c1-d9b326033c2d"
      },
      "source": [
        "2. And then copy and paste the test from the `test_index.py`file."
      ]
    },
    {
      "cell_type": "code",
      "execution_count": null,
      "id": "aca7f670-607b-4d75-b92d-d2ab4047a045",
      "metadata": {
        "id": "aca7f670-607b-4d75-b92d-d2ab4047a045"
      },
      "outputs": [],
      "source": [
        "\n",
        "# write test for extract_api_drink\n",
        "def test_extract_api_drink():\n",
        "  assert extract_api_drink(12322) == {'id': '12322',\n",
        " 'name': 'Strawberry Margarita',\n",
        " 'main_ingredient': 'Strawberry schnapps',\n",
        " 'instrucions': 'Rub rim of cocktail glass with lemon juice and dip rim in salt. Shake schnapps, tequila, triple sec, lemon juice, and strawberries with ice, strain into the salt-rimmed glass, and serve.'}\n",
        "\n"
      ]
    }
  ],
  "metadata": {
    "kernelspec": {
      "display_name": "Python 3 (ipykernel)",
      "language": "python",
      "name": "python3"
    },
    "language_info": {
      "codemirror_mode": {
        "name": "ipython",
        "version": 3
      },
      "file_extension": ".py",
      "mimetype": "text/x-python",
      "name": "python",
      "nbconvert_exporter": "python",
      "pygments_lexer": "ipython3",
      "version": "3.11.1"
    },
    "colab": {
      "provenance": [],
      "include_colab_link": true
    }
  },
  "nbformat": 4,
  "nbformat_minor": 5
}