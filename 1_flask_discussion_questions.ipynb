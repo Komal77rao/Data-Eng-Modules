{
  "cells": [
    {
      "cell_type": "markdown",
      "metadata": {
        "id": "view-in-github",
        "colab_type": "text"
      },
      "source": [
        "<a href=\"https://colab.research.google.com/github/Komal77rao/Data-Eng-Modules/blob/main/1_flask_discussion_questions.ipynb\" target=\"_parent\"><img src=\"https://colab.research.google.com/assets/colab-badge.svg\" alt=\"Open In Colab\"/></a>"
      ]
    },
    {
      "cell_type": "markdown",
      "id": "247c7a5c-d9a4-4c29-b520-8a34e679e3a2",
      "metadata": {
        "id": "247c7a5c-d9a4-4c29-b520-8a34e679e3a2"
      },
      "source": [
        "# Flask Discussion Questions"
      ]
    },
    {
      "cell_type": "markdown",
      "id": "a3aa4225-5c0b-44a0-99d4-6ec2ae82a083",
      "metadata": {
        "id": "a3aa4225-5c0b-44a0-99d4-6ec2ae82a083"
      },
      "source": [
        "### A. Flask Questions"
      ]
    },
    {
      "cell_type": "markdown",
      "id": "596a89b8-9b0d-4cdf-879c-6e0e6f1b1846",
      "metadata": {
        "id": "596a89b8-9b0d-4cdf-879c-6e0e6f1b1846"
      },
      "source": [
        "* Describe the request response cycle.  For example, let's say that we have an API for a school that keeps track of the different courses that teachers teach.  What are the steps that occur when a user visits `/teachers/<id>`."
      ]
    },
    {
      "cell_type": "markdown",
      "source": [
        "The request response cycle begins with a request\n",
        "\n",
        "* Request - the request comes from the client, which is typically either a browser or an API call from a backend language like Python.  The request comes in the form of a a specific url.\n",
        "\n",
        "* Flask will receive the request, and match it to the appropriate route, then executing the corresponding code in the appropriate route function.\n",
        "\n",
        "* This routes function's job is to prepare the response -- that is serve back the information that the client requested.  It may do this by querying the database, then serving back the information, along with the content type of the response (html, json), and a status code (200, 404).  This is sent back to the requesting client.\n",
        "\n"
      ],
      "metadata": {
        "id": "XEyO7jyuCNbL"
      },
      "id": "XEyO7jyuCNbL"
    },
    {
      "cell_type": "markdown",
      "id": "32455d1e-29c9-4a75-832a-7848cea7fe2d",
      "metadata": {
        "id": "32455d1e-29c9-4a75-832a-7848cea7fe2d"
      },
      "source": [
        "* Please fill in the controller action for the method above -- do not use any orm method except for `build_from_record`."
      ]
    },
    {
      "cell_type": "markdown",
      "id": "48f235e8-c715-4fd5-8979-c8c1d3024554",
      "metadata": {
        "id": "48f235e8-c715-4fd5-8979-c8c1d3024554"
      },
      "source": [
        "```python\n",
        "@app.route('/teachers/<id>')\n",
        "# fill in the code here below\n",
        "\n",
        "```"
      ]
    },
    {
      "cell_type": "markdown",
      "id": "f1339b23-1f8e-4191-8e5d-f2b5ed073ade",
      "metadata": {
        "id": "f1339b23-1f8e-4191-8e5d-f2b5ed073ade"
      },
      "source": [
        "* Now describe the role of a controller in MVC.\n",
        "\n",
        "> Write a few lines below"
      ]
    },
    {
      "cell_type": "markdown",
      "source": [
        "A controller contains the various routes that our API can respond to, as well as the route functions to process the response.  A controller is primarily concerned with receiving and processing the requests, and serving the response.  We even have access to the request object (allowing us to access parameters, the origin of the request) from the controller.  "
      ],
      "metadata": {
        "id": "hLa17JYiDg9T"
      },
      "id": "hLa17JYiDg9T"
    },
    {
      "cell_type": "markdown",
      "id": "ec3976fc-11ec-4263-ad99-ddaa3c890a44",
      "metadata": {
        "id": "ec3976fc-11ec-4263-ad99-ddaa3c890a44"
      },
      "source": [
        "* What is the role of a model in the MVC paradigm.\n",
        "\n",
        "> Write a few lines below."
      ]
    },
    {
      "cell_type": "markdown",
      "source": [
        "> The model is the data layer of the application.  It is close to the database, and because of this we query the database directly from the model layer.  \n",
        "\n",
        "> If we are following the query command principle, we should be careful only to *query* the database from our model layer, and not change the state of the data -- that would be more appropriate from the controller, or (even better) a service object/module."
      ],
      "metadata": {
        "id": "Y-fPCcmJD8XO"
      },
      "id": "Y-fPCcmJD8XO"
    },
    {
      "cell_type": "markdown",
      "source": [],
      "metadata": {
        "id": "ZwKYdE5qFE1Z"
      },
      "id": "ZwKYdE5qFE1Z"
    },
    {
      "cell_type": "markdown",
      "id": "c0798465-f222-4413-bd40-783c398d2792",
      "metadata": {
        "id": "c0798465-f222-4413-bd40-783c398d2792"
      },
      "source": [
        "* Ok, now why do we even have a pattern like MVC?  How would our life be different if we didn't have it?"
      ]
    },
    {
      "cell_type": "markdown",
      "source": [
        "* MVC, which stands for model - view - controller promotes separation of concerns.  Specifically, we separate out code pertaining to querying the database (the model layer), processing requests and responses (the controller), and the presentation of the response (the view) in different parts of the codebase, or files.\n",
        "\n",
        "This has various benefits:\n",
        "1. More Reusable Code - By keeping our queries at the model level, we can call those model functions from various parts of our codebase, making our code reusable.\n",
        "\n",
        "2. More organized - This promotes us placing code that depends on each other, closer to each other.  For example, our find_or_create_by_name method, depends on a find_by_name method, which is defined in the same file.  \n",
        "\n",
        "3. Reducing dependencies - This separation reduces the dependencies of an individual module or function.  For example, a specific model only really knows about the database, and primarily about a single table -- it does have any information about the request or response.  Similarly, we reduce a controller's knowledge about the database, or a table, by calling model methods from the controller.\n",
        "\n",
        "4. More readable - by following these patterns and reducing dependencies, and keeping our code organized, this makes our code more readable, as it reduces what is defined in a specific file, and makes our code follow expectations."
      ],
      "metadata": {
        "id": "cZaKEbjlFZRw"
      },
      "id": "cZaKEbjlFZRw"
    },
    {
      "cell_type": "markdown",
      "id": "a0e752a4-b611-4665-9cf8-dd5b3c228de1",
      "metadata": {
        "id": "a0e752a4-b611-4665-9cf8-dd5b3c228de1"
      },
      "source": [
        "### B. Modeling Questions"
      ]
    },
    {
      "cell_type": "markdown",
      "id": "1b2a9846-e3fc-4e3c-a907-5ee7a445e9c6",
      "metadata": {
        "id": "1b2a9846-e3fc-4e3c-a907-5ee7a445e9c6"
      },
      "source": [
        "* Now let's go back to thinking about our school domain.  If we have teachers, students and courses.  Using language such as has_one, and has_many, what are the relations between `teachers`, `students`, and `courses`.\n",
        "\n",
        "Now specify the columns for all needed tables.  We really only care about primary and foreign keys.  The only other column you need is essentially a name column.\n",
        "\n",
        "Add the missing columns and any missing tables."
      ]
    },
    {
      "cell_type": "markdown",
      "id": "b164a936-913b-4133-b565-a4d351f4bfd7",
      "metadata": {
        "id": "b164a936-913b-4133-b565-a4d351f4bfd7"
      },
      "source": [
        "* teachers\n",
        "\n",
        "    * id, name\n",
        "    \n",
        "* students\n",
        "\n",
        "    * id, name\n",
        "    "
      ]
    },
    {
      "cell_type": "markdown",
      "source": [
        "* seats\n",
        "  - course_id, student_id\n",
        "\n",
        "* courses\n",
        "  * id, name, teacher_id (assumes a course has one teacher)"
      ],
      "metadata": {
        "id": "UDPe5UlaHYu5"
      },
      "id": "UDPe5UlaHYu5"
    },
    {
      "cell_type": "markdown",
      "id": "cf5f602d-e1aa-4c1a-a52a-de324d5b0e2c",
      "metadata": {
        "id": "cf5f602d-e1aa-4c1a-a52a-de324d5b0e2c"
      },
      "source": [
        "* Now consider that we have the following code from our orm.py file.\n"
      ]
    },
    {
      "cell_type": "code",
      "execution_count": null,
      "id": "7d9ce905-8ce9-4a12-a937-f563cd225521",
      "metadata": {
        "id": "7d9ce905-8ce9-4a12-a937-f563cd225521"
      },
      "outputs": [],
      "source": [
        "def build_from_record(Class, record):\n",
        "    if not record: return None\n",
        "    attr = dict(zip(Class.columns, record))\n",
        "    obj = Class()\n",
        "    obj.__dict__ = attr\n",
        "    return obj"
      ]
    },
    {
      "cell_type": "markdown",
      "id": "adf69666-86ee-40f7-8291-f100f555f3ca",
      "metadata": {
        "id": "adf69666-86ee-40f7-8291-f100f555f3ca"
      },
      "source": [
        "And the following Teacher model.  Fill in the related code so that we return a list of related courses and a list of related students to a teacher.\n",
        "\n",
        "> The most important component below is the sql query."
      ]
    },
    {
      "cell_type": "code",
      "execution_count": null,
      "id": "85145f10-1099-4499-8a75-345b97604142",
      "metadata": {
        "id": "85145f10-1099-4499-8a75-345b97604142"
      },
      "outputs": [],
      "source": [
        "from src import build_from_record\n",
        "class Teacher:\n",
        "    __table__ = 'teachers'\n",
        "    columns = ['id', 'name']\n",
        "\n",
        "    def courses(self, cursor):\n",
        "        query = '''\n",
        "        '''\n",
        "        cursor.execute(query, (self.id,))\n",
        "        records = cursor.fetchall()\n",
        "        return [build_from_record(src.Course, record) for record in records]\n",
        "\n",
        "    def students(self, cursor):\n",
        "        query = \"\"\"\n",
        "        \"\"\"\n",
        "        cursor.execute(query)\n",
        "        records = cursor.fetchall()\n",
        "        return [build_from_record(src.Student, record) for record in records]"
      ]
    }
  ],
  "metadata": {
    "kernelspec": {
      "display_name": "Python 3 (ipykernel)",
      "language": "python",
      "name": "python3"
    },
    "language_info": {
      "codemirror_mode": {
        "name": "ipython",
        "version": 3
      },
      "file_extension": ".py",
      "mimetype": "text/x-python",
      "name": "python",
      "nbconvert_exporter": "python",
      "pygments_lexer": "ipython3",
      "version": "3.9.12"
    },
    "colab": {
      "provenance": [],
      "include_colab_link": true
    }
  },
  "nbformat": 4,
  "nbformat_minor": 5
}