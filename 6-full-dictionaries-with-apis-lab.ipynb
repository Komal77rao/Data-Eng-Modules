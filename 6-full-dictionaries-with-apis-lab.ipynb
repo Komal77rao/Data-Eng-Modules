{
  "cells": [
    {
      "cell_type": "markdown",
      "metadata": {
        "id": "qQ8FulLZCqDQ"
      },
      "source": [
        "# Dictionaries with APIs"
      ]
    },
    {
      "cell_type": "markdown",
      "metadata": {
        "id": "rVkDnPEJCqDY"
      },
      "source": [
        "### Introduction"
      ]
    },
    {
      "cell_type": "markdown",
      "metadata": {
        "id": "DrTIBTqwCqDZ"
      },
      "source": [
        "Now that we have better explored lists, strings, and dictionaries, we can explore additional data from Max's Wine Bar.  "
      ]
    },
    {
      "cell_type": "code",
      "execution_count": 1,
      "metadata": {
        "id": "D4XoChcYCqDc"
      },
      "outputs": [],
      "source": [
        "import pandas as pd\n",
        "df = pd.read_json('https://raw.githubusercontent.com/eng-6-22/mod-1-fundamentals/master/restaurant_receipts_2020.json')\n",
        "restaurant_receipts = df.to_dict('records')"
      ]
    },
    {
      "cell_type": "code",
      "execution_count": 2,
      "metadata": {
        "id": "X3dDEnEjCqDg",
        "outputId": "dc50474c-f67e-453b-b274-4a0f489e7eb1",
        "colab": {
          "base_uri": "https://localhost:8080/"
        }
      },
      "outputs": [
        {
          "output_type": "execute_result",
          "data": {
            "text/plain": [
              "[{'taxpayer_number': 12727298569,\n",
              "  'taxpayer_name': 'MWD AUSTIN DOWNTOWN, LLC',\n",
              "  'taxpayer_address': '7026 OLD KATY RD STE 255',\n",
              "  'taxpayer_city': 'HOUSTON',\n",
              "  'taxpayer_state': 'TX',\n",
              "  'taxpayer_zip': 77024,\n",
              "  'taxpayer_county': 101,\n",
              "  'location_number': 1,\n",
              "  'location_name': \"MAX'S WINE DIVE\",\n",
              "  'location_address': '207 SAN JACINTO BLVD STE 200',\n",
              "  'location_city': 'AUSTIN',\n",
              "  'location_state': 'TX',\n",
              "  'location_zip': 78701,\n",
              "  'location_county': 227,\n",
              "  'inside_outside_city_limits_code_y_n': 'Y',\n",
              "  'tabc_permit_number': 'MB944126',\n",
              "  'responsibility_begin_date_yyyymmdd': '2016-05-13T00:00:00.000',\n",
              "  'obligation_end_date_yyyymmdd': '2020-08-31T00:00:00.000',\n",
              "  'liquor_receipts': 0,\n",
              "  'wine_receipts': 0,\n",
              "  'beer_receipts': 0,\n",
              "  'cover_charge_receipts': 0,\n",
              "  'total_receipts': 0,\n",
              "  'responsibility_end_date_yyyymmdd': None},\n",
              " {'taxpayer_number': 12727298569,\n",
              "  'taxpayer_name': 'MWD AUSTIN DOWNTOWN, LLC',\n",
              "  'taxpayer_address': '7026 OLD KATY RD STE 255',\n",
              "  'taxpayer_city': 'HOUSTON',\n",
              "  'taxpayer_state': 'TX',\n",
              "  'taxpayer_zip': 77024,\n",
              "  'taxpayer_county': 101,\n",
              "  'location_number': 1,\n",
              "  'location_name': \"MAX'S WINE DIVE\",\n",
              "  'location_address': '207 SAN JACINTO BLVD STE 200',\n",
              "  'location_city': 'AUSTIN',\n",
              "  'location_state': 'TX',\n",
              "  'location_zip': 78701,\n",
              "  'location_county': 227,\n",
              "  'inside_outside_city_limits_code_y_n': 'Y',\n",
              "  'tabc_permit_number': 'MB944126',\n",
              "  'responsibility_begin_date_yyyymmdd': '2016-05-13T00:00:00.000',\n",
              "  'obligation_end_date_yyyymmdd': '2020-07-31T00:00:00.000',\n",
              "  'liquor_receipts': 620,\n",
              "  'wine_receipts': 1812,\n",
              "  'beer_receipts': 476,\n",
              "  'cover_charge_receipts': 0,\n",
              "  'total_receipts': 2908,\n",
              "  'responsibility_end_date_yyyymmdd': None},\n",
              " {'taxpayer_number': 12727298569,\n",
              "  'taxpayer_name': 'MWD AUSTIN DOWNTOWN, LLC',\n",
              "  'taxpayer_address': '7026 OLD KATY RD STE 255',\n",
              "  'taxpayer_city': 'HOUSTON',\n",
              "  'taxpayer_state': 'TX',\n",
              "  'taxpayer_zip': 77024,\n",
              "  'taxpayer_county': 101,\n",
              "  'location_number': 1,\n",
              "  'location_name': \"MAX'S WINE DIVE\",\n",
              "  'location_address': '207 SAN JACINTO BLVD STE 200',\n",
              "  'location_city': 'AUSTIN',\n",
              "  'location_state': 'TX',\n",
              "  'location_zip': 78701,\n",
              "  'location_county': 227,\n",
              "  'inside_outside_city_limits_code_y_n': 'Y',\n",
              "  'tabc_permit_number': 'MB944126',\n",
              "  'responsibility_begin_date_yyyymmdd': '2016-05-13T00:00:00.000',\n",
              "  'obligation_end_date_yyyymmdd': '2020-06-30T00:00:00.000',\n",
              "  'liquor_receipts': 1871,\n",
              "  'wine_receipts': 6405,\n",
              "  'beer_receipts': 1046,\n",
              "  'cover_charge_receipts': 0,\n",
              "  'total_receipts': 9322,\n",
              "  'responsibility_end_date_yyyymmdd': None}]"
            ]
          },
          "metadata": {},
          "execution_count": 2
        }
      ],
      "source": [
        "restaurant_receipts[:3]"
      ]
    },
    {
      "cell_type": "markdown",
      "metadata": {
        "id": "kPtNzntHCqDg"
      },
      "source": [
        "We now have returned a list of dictionaries, where each dictionary contains information about a separate month's drink revenue."
      ]
    },
    {
      "cell_type": "code",
      "execution_count": 3,
      "metadata": {
        "id": "pCbzqo_UCqDh"
      },
      "outputs": [],
      "source": [
        "#restaurant_receipts[:2]"
      ]
    },
    {
      "cell_type": "markdown",
      "metadata": {
        "id": "gkO0ZyoLCqDi"
      },
      "source": [
        "So while each dictionary is fairly large, in the end it is just a list of dictionaries which we have seen before."
      ]
    },
    {
      "cell_type": "markdown",
      "metadata": {
        "id": "1ganfrkhCqDj"
      },
      "source": [
        "```python\n",
        "restaurant_receipts\n",
        "# [{receipt1}, {receipt2}]\n",
        "```"
      ]
    },
    {
      "cell_type": "markdown",
      "metadata": {
        "id": "bmTXKSMVCqDk"
      },
      "source": [
        "Ok, let's use our knowledge of datatypes to explore and organize this data."
      ]
    },
    {
      "cell_type": "markdown",
      "metadata": {
        "id": "5YU50kSCCqDl"
      },
      "source": [
        "### Starting Broad"
      ]
    },
    {
      "cell_type": "markdown",
      "metadata": {
        "id": "GmO4X4PzCqDl"
      },
      "source": [
        "Begin by calculating the number of elements in our list of receipts."
      ]
    },
    {
      "cell_type": "code",
      "execution_count": 4,
      "metadata": {
        "id": "B00YRSs6CqDl",
        "outputId": "1da0ef90-5b42-4378-bd98-d723b4ebce60",
        "colab": {
          "base_uri": "https://localhost:8080/"
        }
      },
      "outputs": [
        {
          "output_type": "execute_result",
          "data": {
            "text/plain": [
              "77"
            ]
          },
          "metadata": {},
          "execution_count": 4
        }
      ],
      "source": [
        "len(restaurant_receipts)\n",
        "# 77"
      ]
    },
    {
      "cell_type": "markdown",
      "metadata": {
        "id": "bKmDWoxoCqDm"
      },
      "source": [
        "So it looks like there are 77 restaurant receipts that are returned.  Now let's select the first receipt and take a look at it."
      ]
    },
    {
      "cell_type": "markdown",
      "metadata": {
        "id": "qWzyv6hdCqDm"
      },
      "source": [
        "> Select the first receipt below and assign it to the variable receipt."
      ]
    },
    {
      "cell_type": "code",
      "execution_count": 5,
      "metadata": {
        "id": "xxj82BadCqDn",
        "outputId": "25ded178-cc1f-4f7d-8fc0-77993eacbaec",
        "colab": {
          "base_uri": "https://localhost:8080/"
        }
      },
      "outputs": [
        {
          "output_type": "execute_result",
          "data": {
            "text/plain": [
              "{'taxpayer_number': 12727298569,\n",
              " 'taxpayer_name': 'MWD AUSTIN DOWNTOWN, LLC',\n",
              " 'taxpayer_address': '7026 OLD KATY RD STE 255',\n",
              " 'taxpayer_city': 'HOUSTON',\n",
              " 'taxpayer_state': 'TX',\n",
              " 'taxpayer_zip': 77024,\n",
              " 'taxpayer_county': 101,\n",
              " 'location_number': 1,\n",
              " 'location_name': \"MAX'S WINE DIVE\",\n",
              " 'location_address': '207 SAN JACINTO BLVD STE 200',\n",
              " 'location_city': 'AUSTIN',\n",
              " 'location_state': 'TX',\n",
              " 'location_zip': 78701,\n",
              " 'location_county': 227,\n",
              " 'inside_outside_city_limits_code_y_n': 'Y',\n",
              " 'tabc_permit_number': 'MB944126',\n",
              " 'responsibility_begin_date_yyyymmdd': '2016-05-13T00:00:00.000',\n",
              " 'obligation_end_date_yyyymmdd': '2020-08-31T00:00:00.000',\n",
              " 'liquor_receipts': 0,\n",
              " 'wine_receipts': 0,\n",
              " 'beer_receipts': 0,\n",
              " 'cover_charge_receipts': 0,\n",
              " 'total_receipts': 0,\n",
              " 'responsibility_end_date_yyyymmdd': None}"
            ]
          },
          "metadata": {},
          "execution_count": 5
        }
      ],
      "source": [
        "receipt = restaurant_receipts[0]\n",
        "receipt\n",
        "\n",
        "# {'taxpayer_number': 12727298569,\n",
        "#  'taxpayer_name': 'MWD AUSTIN DOWNTOWN, LLC',\n",
        "#  'taxpayer_address': '7026 OLD KATY RD STE 255',\n",
        "#  'taxpayer_city': 'HOUSTON',\n",
        "#  'taxpayer_state': 'TX',\n",
        "#  'taxpayer_zip': 77024,\n",
        "#  'taxpayer_county': 101,\n",
        "# ...\n",
        "# 'cover_charge_receipts': 0,\n",
        "#  'total_receipts': 0,\n",
        "#  'responsibility_end_date_yyyymmdd': None}"
      ]
    },
    {
      "cell_type": "markdown",
      "metadata": {
        "id": "1c34Zl69CqDn"
      },
      "source": [
        "Ok, so there's our dictionary."
      ]
    },
    {
      "cell_type": "markdown",
      "metadata": {
        "id": "FomFyYLtCqDn"
      },
      "source": [
        "Now let's see what information is available in our dictionary.  Return all of the keys available, and assign them to the variable `receipt_attributes`."
      ]
    },
    {
      "cell_type": "code",
      "execution_count": 6,
      "metadata": {
        "id": "7W_Uo8RnCqDn",
        "outputId": "c1195619-c2d8-4fa7-9e8f-600367cf689a",
        "colab": {
          "base_uri": "https://localhost:8080/"
        }
      },
      "outputs": [
        {
          "output_type": "execute_result",
          "data": {
            "text/plain": [
              "dict_keys(['taxpayer_number', 'taxpayer_name', 'taxpayer_address', 'taxpayer_city', 'taxpayer_state', 'taxpayer_zip', 'taxpayer_county', 'location_number', 'location_name', 'location_address', 'location_city', 'location_state', 'location_zip', 'location_county', 'inside_outside_city_limits_code_y_n', 'tabc_permit_number', 'responsibility_begin_date_yyyymmdd', 'obligation_end_date_yyyymmdd', 'liquor_receipts', 'wine_receipts', 'beer_receipts', 'cover_charge_receipts', 'total_receipts', 'responsibility_end_date_yyyymmdd'])"
            ]
          },
          "metadata": {},
          "execution_count": 6
        }
      ],
      "source": [
        "receipt_attributes = receipt.keys()\n",
        "receipt_attributes\n",
        "\n",
        "# dict_keys(['taxpayer_number', 'taxpayer_name', 'taxpayer_address', 'taxpayer_city', 'taxpayer_state', 'taxpayer_zip', 'taxpayer_county', 'location_number', 'location_name', 'location_address', 'location_city', 'location_state', 'location_zip', 'location_county', 'inside_outside_city_limits_code_y_n', 'tabc_permit_number', 'responsibility_begin_date_yyyymmdd', 'obligation_end_date_yyyymmdd', 'liquor_receipts',\n",
        "#            'wine_receipts', 'beer_receipts', 'cover_charge_receipts', 'total_receipts'])"
      ]
    },
    {
      "cell_type": "markdown",
      "metadata": {
        "id": "bpzmA0YbCqDo"
      },
      "source": [
        "Now, that's a lot of attributes.  Let's see how many."
      ]
    },
    {
      "cell_type": "code",
      "execution_count": 7,
      "metadata": {
        "id": "U4v4pVF7CqDo",
        "outputId": "1c88b8a6-230e-4d4b-ca91-8e9ef89f5673",
        "colab": {
          "base_uri": "https://localhost:8080/"
        }
      },
      "outputs": [
        {
          "output_type": "execute_result",
          "data": {
            "text/plain": [
              "24"
            ]
          },
          "metadata": {},
          "execution_count": 7
        }
      ],
      "source": [
        "num_attributes = len(receipt_attributes)\n",
        "\n",
        "num_attributes\n",
        "# 23"
      ]
    },
    {
      "cell_type": "markdown",
      "metadata": {
        "id": "gdCCxuhpCqDo"
      },
      "source": [
        "And to better organize the data we have, let's sort those attribute alphabetically."
      ]
    },
    {
      "cell_type": "code",
      "execution_count": 8,
      "metadata": {
        "id": "VwQjspooCqDp",
        "outputId": "4cf1eb57-ed5f-4edd-beef-1f9621ca9f11",
        "colab": {
          "base_uri": "https://localhost:8080/"
        }
      },
      "outputs": [
        {
          "output_type": "execute_result",
          "data": {
            "text/plain": [
              "['beer_receipts',\n",
              " 'cover_charge_receipts',\n",
              " 'inside_outside_city_limits_code_y_n',\n",
              " 'liquor_receipts',\n",
              " 'location_address',\n",
              " 'location_city',\n",
              " 'location_county',\n",
              " 'location_name',\n",
              " 'location_number',\n",
              " 'location_state']"
            ]
          },
          "metadata": {},
          "execution_count": 8
        }
      ],
      "source": [
        "sorted_attrs = sorted(receipt_attributes)\n",
        "\n",
        "sorted_attrs[:10]\n",
        "\n",
        "# ['beer_receipts', 'cover_charge_receipts', 'inside_outside_city_limits_code_y_n',\n",
        "#  'liquor_receipts', 'location_address', 'location_city', 'location_county',\n",
        "#  'location_name', 'location_number', 'location_state']"
      ]
    },
    {
      "cell_type": "markdown",
      "metadata": {
        "id": "TBXJHDVfCqDp"
      },
      "source": [
        "Ok, now we can focus in on a few of our attributes.  We can perhaps reduce down the number of attributes by selecting just the values that change over time.  For example, are there multiple locations of Max's wine bar?  \n",
        "\n",
        "First create a list that has the `location_address` in each dictionary."
      ]
    },
    {
      "cell_type": "markdown",
      "metadata": {
        "id": "yktM1_GDCqDp"
      },
      "source": [
        "> Assign the result to the variable `location_addresses`."
      ]
    },
    {
      "cell_type": "code",
      "execution_count": 9,
      "metadata": {
        "id": "POLpcotJCqDq"
      },
      "outputs": [],
      "source": [
        "location_addresses = [location['location_address'] for location in restaurant_receipts]"
      ]
    },
    {
      "cell_type": "code",
      "execution_count": 10,
      "metadata": {
        "id": "mmcXMHRUCqDq",
        "outputId": "0d0e6680-d1d9-4eb2-b06a-6ac77f0fab11",
        "colab": {
          "base_uri": "https://localhost:8080/"
        }
      },
      "outputs": [
        {
          "output_type": "execute_result",
          "data": {
            "text/plain": [
              "['207 SAN JACINTO BLVD STE 200',\n",
              " '207 SAN JACINTO BLVD STE 200',\n",
              " '207 SAN JACINTO BLVD STE 200']"
            ]
          },
          "metadata": {},
          "execution_count": 10
        }
      ],
      "source": [
        "location_addresses[:3]\n",
        "\n",
        "# ['207 SAN JACINTO BLVD STE 200',\n",
        "#  '207 SAN JACINTO BLVD STE 200',\n",
        "#  '207 SAN JACINTO BLVD STE 200']"
      ]
    },
    {
      "cell_type": "markdown",
      "metadata": {
        "id": "Ant50X2qCqDq"
      },
      "source": [
        "Then turn this into a unique list of locations."
      ]
    },
    {
      "cell_type": "code",
      "execution_count": 11,
      "metadata": {
        "id": "vVwjNH54CqDr",
        "outputId": "dfda50c7-608f-4345-d003-4542c50dde59",
        "colab": {
          "base_uri": "https://localhost:8080/"
        }
      },
      "outputs": [
        {
          "output_type": "execute_result",
          "data": {
            "text/plain": [
              "{'207 SAN JACINTO BLVD STE 200', '3600 MCKINNEY AVE STE 100'}"
            ]
          },
          "metadata": {},
          "execution_count": 11
        }
      ],
      "source": [
        "unique_locations = set(location_addresses)\n",
        "\n",
        "unique_locations\n",
        "\n",
        "# ['3600 MCKINNEY AVE STE 100', '207 SAN JACINTO BLVD STE 200']"
      ]
    },
    {
      "cell_type": "markdown",
      "metadata": {
        "id": "IzMgvQrFCqDs"
      },
      "source": [
        "Ok, so it looks like we have two different locations of Max's Wine Bar.  \n",
        "\n",
        "Now let's begin to reduce the amount information in our dictionary.  Let's select just the key value pairs of `total_receipts`, `obligation_end_date_yyyymmdd`, and `location_address`.\n",
        "\n",
        "Assign the result to the variable `abridged_receipts`."
      ]
    },
    {
      "cell_type": "code",
      "execution_count": 23,
      "metadata": {
        "id": "wwlKRLGUCqDs",
        "outputId": "d602406f-987b-4507-f9bd-9a3ffaf583dc",
        "colab": {
          "base_uri": "https://localhost:8080/"
        }
      },
      "outputs": [
        {
          "output_type": "execute_result",
          "data": {
            "text/plain": [
              "[{'total_receipts': 0,\n",
              "  'obligation_end_date_yyyymmdd': '2020-08-31T00:00:00.000',\n",
              "  'location_address': '207 SAN JACINTO BLVD STE 200'},\n",
              " {'total_receipts': 2908,\n",
              "  'obligation_end_date_yyyymmdd': '2020-07-31T00:00:00.000',\n",
              "  'location_address': '207 SAN JACINTO BLVD STE 200'},\n",
              " {'total_receipts': 9322,\n",
              "  'obligation_end_date_yyyymmdd': '2020-06-30T00:00:00.000',\n",
              "  'location_address': '207 SAN JACINTO BLVD STE 200'}]"
            ]
          },
          "metadata": {},
          "execution_count": 23
        }
      ],
      "source": [
        "abridged_receipts = [{'total_receipts': item['total_receipts'],\n",
        "                      'obligation_end_date_yyyymmdd' : item['obligation_end_date_yyyymmdd'],\n",
        "                      'location_address' : item['location_address']\n",
        "                      } for item in restaurant_receipts]\n",
        "abridged_receipts[:3]"
      ]
    },
    {
      "cell_type": "code",
      "execution_count": 24,
      "metadata": {
        "id": "C2LcmActCqDt",
        "outputId": "a755aa58-9afd-4c02-dbff-2aaf8abc3a68",
        "colab": {
          "base_uri": "https://localhost:8080/"
        }
      },
      "outputs": [
        {
          "output_type": "execute_result",
          "data": {
            "text/plain": [
              "[{'total_receipts': 0,\n",
              "  'obligation_end_date_yyyymmdd': '2020-08-31T00:00:00.000',\n",
              "  'location_address': '207 SAN JACINTO BLVD STE 200'},\n",
              " {'total_receipts': 2908,\n",
              "  'obligation_end_date_yyyymmdd': '2020-07-31T00:00:00.000',\n",
              "  'location_address': '207 SAN JACINTO BLVD STE 200'},\n",
              " {'total_receipts': 9322,\n",
              "  'obligation_end_date_yyyymmdd': '2020-06-30T00:00:00.000',\n",
              "  'location_address': '207 SAN JACINTO BLVD STE 200'}]"
            ]
          },
          "metadata": {},
          "execution_count": 24
        }
      ],
      "source": [
        "abridged_receipts[:3]\n",
        "\n",
        "# [{'total_receipts': '0',\n",
        "#   'obligation_end_date_yyyymmdd': '2020-08-31T00:00:00.000',\n",
        "#   'location_address': '207 SAN JACINTO BLVD STE 200'},\n",
        "#  {'total_receipts': '2908',\n",
        "#   'obligation_end_date_yyyymmdd': '2020-07-31T00:00:00.000',\n",
        "#   'location_address': '207 SAN JACINTO BLVD STE 200'},\n",
        "#  {'total_receipts': '9322',\n",
        "#   'obligation_end_date_yyyymmdd': '2020-06-30T00:00:00.000',\n",
        "#   'location_address': '207 SAN JACINTO BLVD STE 200'}]\n"
      ]
    },
    {
      "cell_type": "markdown",
      "metadata": {
        "id": "3hctu0bbCqDu"
      },
      "source": [
        "Ok, now let's clean up some of our resulting data.  To begin with, instead of `obligation-end_date_yyyymmdd`, let's create separate keys of year and month, and store the respective values.  In addition let's coerce each `total_receipts`, `year` and `month` value to an integer.  Finally, let's only store the first fifteen characters of the location address.\n",
        "\n",
        "Store the new result in the variable `clean_receipts`."
      ]
    },
    {
      "cell_type": "markdown",
      "metadata": {
        "id": "myCs5jnKCqDu"
      },
      "source": [
        "> We can start from our existing `abridged_receipts` data and keep going from there."
      ]
    },
    {
      "cell_type": "code",
      "execution_count": 40,
      "metadata": {
        "id": "8U7XkYYeCqDz"
      },
      "outputs": [],
      "source": [
        "import datetime\n",
        "from  datetime import datetime as dt\n",
        "\n",
        "clean_receipts = []\n",
        "\n",
        "\n",
        "for item in abridged_receipts:\n",
        "  date= datetime.datetime.strptime(item['obligation_end_date_yyyymmdd'], '%Y-%m-%dT%H:%M:%S.%f')\n",
        "\n",
        "    # Extract year, month, and day as integers\n",
        "  year = date.year\n",
        "  month = date.month\n",
        "  day = date.day\n",
        "  total = int(item['total_receipts'])\n",
        "\n",
        "  clean_receipt = {\n",
        "      'year': year,\n",
        "      'month': month,\n",
        "      'total' : total,\n",
        "      'location_address': item['location_address'][:15]\n",
        "  }\n",
        "\n",
        "  clean_receipts.append(clean_receipt)"
      ]
    },
    {
      "cell_type": "code",
      "execution_count": 41,
      "metadata": {
        "id": "x4pQAdaACqD0",
        "outputId": "7aa265ea-ce63-424d-ba10-cbfd8243ac74",
        "colab": {
          "base_uri": "https://localhost:8080/"
        }
      },
      "outputs": [
        {
          "output_type": "execute_result",
          "data": {
            "text/plain": [
              "[{'year': 2020, 'month': 8, 'total': 0, 'location_address': '207 SAN JACINTO'},\n",
              " {'year': 2020,\n",
              "  'month': 7,\n",
              "  'total': 2908,\n",
              "  'location_address': '207 SAN JACINTO'},\n",
              " {'year': 2020,\n",
              "  'month': 6,\n",
              "  'total': 9322,\n",
              "  'location_address': '207 SAN JACINTO'},\n",
              " {'year': 2020,\n",
              "  'month': 5,\n",
              "  'total': 3421,\n",
              "  'location_address': '207 SAN JACINTO'},\n",
              " {'year': 2020,\n",
              "  'month': 4,\n",
              "  'total': 90,\n",
              "  'location_address': '207 SAN JACINTO'}]"
            ]
          },
          "metadata": {},
          "execution_count": 41
        }
      ],
      "source": [
        "clean_receipts[:5]\n",
        "\n",
        "# [{'year': 2020, 'month': 8, 'total': 0, 'location_address': '207 SAN JACINTO'},\n",
        "#  {'year': 2020,\n",
        "#   'month': 7,\n",
        "#   'total': 2908,\n",
        "#   'location_address': '207 SAN JACINTO'},\n",
        "#  {'year': 2020,\n",
        "#   'month': 6,\n",
        "#   'total': 9322,\n",
        "#   'location_address': '207 SAN JACINTO'},\n",
        "#  {'year': 2020,\n",
        "#   'month': 5,\n",
        "#   'total': 3421,\n",
        "#   'location_address': '207 SAN JACINTO'},\n",
        "#  {'year': 2020,\n",
        "#   'month': 4,\n",
        "#   'total': 90,\n",
        "#   'location_address': '207 SAN JACINTO'}]"
      ]
    },
    {
      "cell_type": "markdown",
      "metadata": {
        "id": "zIVszi8TCqD0"
      },
      "source": [
        "### Bonus"
      ]
    },
    {
      "cell_type": "markdown",
      "metadata": {
        "id": "gOf0uCrtCqD0"
      },
      "source": [
        "Notice that we can use the `sorted` method to sort our data by a specific attribute.  See if you can figure out how this works."
      ]
    },
    {
      "cell_type": "code",
      "execution_count": 42,
      "metadata": {
        "id": "eQrXUV_aCqD1",
        "outputId": "5056e2ef-02f4-49bb-c283-fe23cc005c5a",
        "colab": {
          "base_uri": "https://localhost:8080/"
        }
      },
      "outputs": [
        {
          "output_type": "execute_result",
          "data": {
            "text/plain": [
              "[{'year': 2020, 'month': 8, 'total': 0, 'location_address': '207 SAN JACINTO'},\n",
              " {'year': 2015, 'month': 8, 'total': 0, 'location_address': '3600 MCKINNEY A'},\n",
              " {'year': 2020,\n",
              "  'month': 4,\n",
              "  'total': 90,\n",
              "  'location_address': '207 SAN JACINTO'},\n",
              " {'year': 2020,\n",
              "  'month': 7,\n",
              "  'total': 2908,\n",
              "  'location_address': '207 SAN JACINTO'},\n",
              " {'year': 2020,\n",
              "  'month': 5,\n",
              "  'total': 3421,\n",
              "  'location_address': '207 SAN JACINTO'}]"
            ]
          },
          "metadata": {},
          "execution_count": 42
        }
      ],
      "source": [
        "sorted(clean_receipts, key=lambda receipt: receipt['total'])[:5]"
      ]
    },
    {
      "cell_type": "markdown",
      "metadata": {
        "id": "6fxNsJRyCqD-"
      },
      "source": [
        "> See if you can sort the data by year."
      ]
    },
    {
      "cell_type": "code",
      "execution_count": 44,
      "metadata": {
        "id": "bNwJdH2fCqD-",
        "outputId": "051a408d-49a5-4924-f134-108139194637",
        "colab": {
          "base_uri": "https://localhost:8080/"
        }
      },
      "outputs": [
        {
          "output_type": "execute_result",
          "data": {
            "text/plain": [
              "[{'year': 2015,\n",
              "  'month': 9,\n",
              "  'total': 66609,\n",
              "  'location_address': '3600 MCKINNEY A'},\n",
              " {'year': 2015, 'month': 8, 'total': 0, 'location_address': '3600 MCKINNEY A'},\n",
              " {'year': 2015,\n",
              "  'month': 11,\n",
              "  'total': 69664,\n",
              "  'location_address': '3600 MCKINNEY A'},\n",
              " {'year': 2015,\n",
              "  'month': 12,\n",
              "  'total': 72238,\n",
              "  'location_address': '3600 MCKINNEY A'},\n",
              " {'year': 2015,\n",
              "  'month': 10,\n",
              "  'total': 67048,\n",
              "  'location_address': '3600 MCKINNEY A'}]"
            ]
          },
          "metadata": {},
          "execution_count": 44
        }
      ],
      "source": [
        "receipts_sorted_year = sorted(clean_receipts, key=lambda receipt: receipt['year'])\n",
        "\n",
        "receipts_sorted_year[:5]\n",
        "\n",
        "# [{'year': 2015,\n",
        "#   'month': 9,\n",
        "#   'total': 66609,\n",
        "#   'location_address': '3600 MCKINNEY A'},\n",
        "#  {'year': 2015, 'month': 8, 'total': 0, 'location_address': '3600 MCKINNEY A'},\n",
        "#  {'year': 2015,\n",
        "#   'month': 11,\n",
        "#   'total': 69664,\n",
        "#   'location_address': '3600 MCKINNEY A'},\n",
        "#  {'year': 2015,\n",
        "#   'month': 12,\n",
        "#   'total': 72238,\n",
        "#   'location_address': '3600 MCKINNEY A'},\n",
        "#  {'year': 2015,\n",
        "#   'month': 10,\n",
        "#   'total': 67048,\n",
        "#   'location_address': '3600 MCKINNEY A'}]"
      ]
    },
    {
      "cell_type": "markdown",
      "metadata": {
        "id": "7YBl-LN0CqD-"
      },
      "source": [
        "### Summary"
      ]
    },
    {
      "cell_type": "markdown",
      "metadata": {
        "id": "uV0pPjljCqD_"
      },
      "source": [
        "In this lesson we started with a messy dataset and made our data more managable by:\n",
        "\n",
        "1. Limiting the number of attributes in each dictionary\n",
        "2. Coercing our data to more appropriate datatype (integers for dates and revenue, shorter strings).\n",
        "\n",
        "Once we did so, sorting and exploring our data became easier.\n",
        "\n",
        "We also used our knowledge of datatypes explore our data by finding the number of locations we would be handling receipts of."
      ]
    },
    {
      "cell_type": "markdown",
      "metadata": {
        "id": "ikQ_c9cNCqD_"
      },
      "source": [
        "### Resources"
      ]
    },
    {
      "cell_type": "markdown",
      "metadata": {
        "id": "Jwc8gaocCqD_"
      },
      "source": [
        "[Mixed Beverage API](https://data.texas.gov/Government-and-Taxes/Mixed-Beverage-Gross-Receipts/naix-2893)"
      ]
    },
    {
      "cell_type": "code",
      "source": [],
      "metadata": {
        "id": "YZ8gemEIV7xy"
      },
      "execution_count": null,
      "outputs": []
    }
  ],
  "metadata": {
    "kernelspec": {
      "display_name": "Python 3 (ipykernel)",
      "language": "python",
      "name": "python3"
    },
    "language_info": {
      "codemirror_mode": {
        "name": "ipython",
        "version": 3
      },
      "file_extension": ".py",
      "mimetype": "text/x-python",
      "name": "python",
      "nbconvert_exporter": "python",
      "pygments_lexer": "ipython3",
      "version": "3.9.10"
    },
    "colab": {
      "provenance": []
    }
  },
  "nbformat": 4,
  "nbformat_minor": 0
}