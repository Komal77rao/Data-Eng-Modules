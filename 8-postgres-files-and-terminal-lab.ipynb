{
  "cells": [
    {
      "cell_type": "markdown",
      "metadata": {
        "id": "view-in-github",
        "colab_type": "text"
      },
      "source": [
        "<a href=\"https://colab.research.google.com/github/Komal77rao/Data-Eng-Modules/blob/main/8-postgres-files-and-terminal-lab.ipynb\" target=\"_parent\"><img src=\"https://colab.research.google.com/assets/colab-badge.svg\" alt=\"Open In Colab\"/></a>"
      ]
    },
    {
      "cell_type": "markdown",
      "metadata": {
        "id": "rTp_grWqqr4T"
      },
      "source": [
        "# Postgres Files and Terminal Lab"
      ]
    },
    {
      "cell_type": "markdown",
      "metadata": {
        "id": "Vg_uBNL_qr6R"
      },
      "source": [
        "### Introduction"
      ]
    },
    {
      "cell_type": "markdown",
      "metadata": {
        "id": "7l4C8mzrqr6V"
      },
      "source": [
        "In this lesson, we'll work through the bash terminal to write sql commands to create and load data into a postgres database.  Let's get started."
      ]
    },
    {
      "cell_type": "markdown",
      "metadata": {
        "id": "5wShHyTuqr6X"
      },
      "source": [
        "### Creating a Table"
      ]
    },
    {
      "cell_type": "markdown",
      "metadata": {
        "id": "Q8PVDlxdqr6w"
      },
      "source": [
        "For this lesson, we'll create a table to store data from a csv file that has our movie revenue data.  \n",
        "\n",
        "We can begin by downloading our data onto our computer by placing the following command in the terminal.\n",
        "\n",
        "```bash\n",
        "curl https://raw.githubusercontent.com/jigsawlabs-student/curriculum-images/main/postgres-curriculum/imdb_movies.csv -o imdb_movies.csv\n",
        "```\n",
        "\n",
        "Then take a look at the first few lines of the file by running the following in the terminal.  "
      ]
    },
    {
      "cell_type": "markdown",
      "metadata": {
        "id": "7lSKZZXWqr64"
      },
      "source": [
        "> We use the linux command `head` to explore the file."
      ]
    },
    {
      "cell_type": "code",
      "execution_count": null,
      "metadata": {
        "id": "Peb8hFW1qr65",
        "outputId": "7fd68987-a3dd-4ba4-e77a-8cf541adee4a"
      },
      "outputs": [
        {
          "name": "stdout",
          "output_type": "stream",
          "text": [
            "title,genre,budget,runtime,year,month,revenue\n",
            "Avatar,Action,237000000,162.0,2009,12,2787965087\n",
            "Pirates of the Caribbean: At World's End,Adventure,300000000,169.0,2007,5,961000000\n",
            "Spectre,Action,245000000,148.0,2015,10,880674609\n",
            "The Dark Knight Rises,Action,250000000,165.0,2012,7,1084939099\n",
            "John Carter,Action,260000000,132.0,2012,3,284139100\n",
            "Spider-Man 3,Fantasy,258000000,139.0,2007,5,890871626\n",
            "Tangled,Animation,260000000,100.0,2010,11,591794936\n",
            "Avengers: Age of Ultron,Action,280000000,141.0,2015,4,1405403694\n",
            "Harry Potter and the Half-Blood Prince,Adventure,250000000,153.0,2009,7,933959197\n"
          ]
        }
      ],
      "source": [
        "head imdb_movies.csv"
      ]
    },
    {
      "cell_type": "markdown",
      "metadata": {
        "id": "KCw6Duj-qr7Y"
      },
      "source": [
        "So it looks like we should create a table called movies with the following columns:"
      ]
    },
    {
      "cell_type": "markdown",
      "metadata": {
        "id": "EtKJt_XIqr7Z"
      },
      "source": [
        "* id serial\n",
        "* title varchar(255)\n",
        "* genre varchar(255)\n",
        "* budget bigint\n",
        "* runtime decimal\n",
        "* year integer\n",
        "* month integer\n",
        "* revenue bigint\n",
        "* created_at timestamp"
      ]
    },
    {
      "cell_type": "markdown",
      "metadata": {
        "id": "6f0LdRQyqr7Z"
      },
      "source": [
        "Let's also add the following constraints that title must be unique and present on each column, and id should be the primary key.  The created_at column should have a default value of the current time.\n",
        "\n",
        "Write the command in a new file called `create_movies.sql`."
      ]
    },
    {
      "cell_type": "markdown",
      "metadata": {
        "id": "pmUK3OW2qr7a"
      },
      "source": [
        "### Executing the file"
      ]
    },
    {
      "cell_type": "markdown",
      "metadata": {
        "id": "ZIXEqu3Rqr7a"
      },
      "source": [
        "Begin by logging into the postgres shell as the postgres user and create a new database called movies.  Confirm that the new database exists by listing the databases."
      ]
    },
    {
      "cell_type": "markdown",
      "metadata": {
        "id": "kdHPz2X6qr7a"
      },
      "source": [
        "Then logout of the postgres shell, and create the table from the bash terminal as the postgres user."
      ]
    },
    {
      "cell_type": "code",
      "execution_count": null,
      "metadata": {
        "id": "zBVB8qLsqr7a"
      },
      "outputs": [],
      "source": []
    },
    {
      "cell_type": "markdown",
      "metadata": {
        "id": "0civUjnlqr7b"
      },
      "source": [
        "We should see the following output."
      ]
    },
    {
      "cell_type": "markdown",
      "metadata": {
        "id": "7TQuEfrKqr7b"
      },
      "source": [
        "> ``CREATE TABLE``"
      ]
    },
    {
      "cell_type": "markdown",
      "metadata": {
        "id": "wWQr3Eoaqr7b"
      },
      "source": [
        "We can confirm that it worked, still from the terminal, by using the command to list all of the tables in the movies database.  Let's give it a shot."
      ]
    },
    {
      "cell_type": "markdown",
      "metadata": {
        "id": "_Ev9EKkWqr7c"
      },
      "source": [
        "```bash\n",
        "         List of relations\n",
        " Schema |  Name  | Type  |  Owner\n",
        "--------+--------+-------+----------\n",
        " public | movies | table | postgres\n",
        "(1 row)\n",
        "```"
      ]
    },
    {
      "cell_type": "markdown",
      "metadata": {
        "id": "e4ICVQPsqr7c"
      },
      "source": [
        "Ok, now let's load the csv file into the database.  We can do so with the following command."
      ]
    },
    {
      "cell_type": "markdown",
      "metadata": {
        "id": "OZrNxNPPqr7c"
      },
      "source": [
        "` \\copy movies (title, genre, budget, runtime, year, month, revenue) FROM '/path/to/imdb_movies.csv' DELIMITER ',' CSV HEADER;`"
      ]
    },
    {
      "cell_type": "markdown",
      "metadata": {
        "id": "kLbRzyRCqr7q"
      },
      "source": [
        "We'll see the following as output."
      ]
    },
    {
      "cell_type": "markdown",
      "source": [],
      "metadata": {
        "id": "SrTGIC1lUDvn"
      }
    },
    {
      "cell_type": "markdown",
      "metadata": {
        "id": "L2dZdc5Qqr7r"
      },
      "source": [
        "> `COPY 2000`"
      ]
    },
    {
      "cell_type": "markdown",
      "metadata": {
        "id": "O0EXjyLPqr7r"
      },
      "source": [
        "Finally, from the shell we can output the first ten movies with the -c command, and having the output format as csv by adding --csv at the end."
      ]
    },
    {
      "cell_type": "markdown",
      "metadata": {
        "id": "kzD2O1Stqr7s"
      },
      "source": [
        "Then if we want to write the results of our bash command to a new file, we can do so with:"
      ]
    },
    {
      "cell_type": "markdown",
      "metadata": {
        "id": "ZtYLnj3Nqr7s"
      },
      "source": [
        "\n",
        "`PGPASSWORD=postgres psql movies -U postgres -c \"SELECT * FROM movies LIMIT 10;\" --csv | tee  selected_movies.csv`"
      ]
    },
    {
      "cell_type": "markdown",
      "source": [
        "change the -U to your username\n"
      ],
      "metadata": {
        "id": "hdVFte6Ye13t"
      }
    },
    {
      "cell_type": "markdown",
      "metadata": {
        "id": "t8rWvgLjqr7v"
      },
      "source": [
        "### Summary"
      ]
    },
    {
      "cell_type": "markdown",
      "metadata": {
        "id": "6elkmhoLqr7y"
      },
      "source": [
        "In this lab we practiced working both creating tables and working from the command line.  We can execute a file from the command line with the following:\n",
        "\n",
        "`PGPASSWORD=postgres psql movies -U postgres -f create_movies.sql`\n",
        "\n",
        "Then we saw that we can connect to the postgres shell and load data into our newly created table with something like the following:\n",
        "\n",
        "`\\copy table_name (col_1, col_2) FROM '/path/to/data.csv' DELIMITER ',' CSV HEADER;`"
      ]
    },
    {
      "cell_type": "markdown",
      "metadata": {
        "id": "6xAtgzTZqr70"
      },
      "source": [
        "Finally, we outputted selected from the bash terminal and outputted the data to the csv file."
      ]
    },
    {
      "cell_type": "markdown",
      "metadata": {
        "id": "Xcx92r_zqr72"
      },
      "source": [
        "\n",
        "`PGPASSWORD=postgres psql movies -U postgres -c \"SELECT * FROM movies LIMIT 10;\" --csv | tee  selected_movies.csv`"
      ]
    },
    {
      "cell_type": "markdown",
      "metadata": {
        "id": "NbvBceZ_qr72"
      },
      "source": [
        "### Resources\n",
        "\n",
        "[Copy few Columns](https://stackoverflow.com/questions/12618232/copy-a-few-of-the-columns-of-a-csv-file-into-a-table)\n"
      ]
    }
  ],
  "metadata": {
    "kernelspec": {
      "display_name": "Python 3 (ipykernel)",
      "language": "python",
      "name": "python3"
    },
    "language_info": {
      "codemirror_mode": {
        "name": "ipython",
        "version": 3
      },
      "file_extension": ".py",
      "mimetype": "text/x-python",
      "name": "python",
      "nbconvert_exporter": "python",
      "pygments_lexer": "ipython3",
      "version": "3.9.10"
    },
    "colab": {
      "provenance": [],
      "include_colab_link": true
    }
  },
  "nbformat": 4,
  "nbformat_minor": 0
}