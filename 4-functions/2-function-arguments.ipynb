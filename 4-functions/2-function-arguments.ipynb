{
  "cells": [
    {
      "cell_type": "markdown",
      "metadata": {
        "id": "1CIKqhgIWJ6p"
      },
      "source": [
        "# Function arguments"
      ]
    },
    {
      "cell_type": "markdown",
      "metadata": {
        "id": "TwmPmdOqWJ6x"
      },
      "source": [
        "## Introduction"
      ]
    },
    {
      "cell_type": "markdown",
      "metadata": {
        "id": "Dk38UmqcWJ6y"
      },
      "source": [
        "In the last lesson we learned about functions.  We saw that functions allow us to save a procedure of a code and, once defined, execute that function whenever we want.  We declare a function with the following pattern:"
      ]
    },
    {
      "cell_type": "markdown",
      "metadata": {
        "id": "h8-Y0AbSWJ6z"
      },
      "source": [
        "```python\n",
        "def function_name():\n",
        "    body_of_function = 'hello'\n",
        "    return body_of_function + ' world'\n",
        "```"
      ]
    },
    {
      "cell_type": "markdown",
      "metadata": {
        "id": "2p0lLOCIWJ60"
      },
      "source": [
        "The contents of the function stay within the walls of the function, except for the return value, which we catapult over the walls.  This allows us to think about the end result of what a function does, instead of worrying about the procedure that the function takes to get there."
      ]
    },
    {
      "cell_type": "markdown",
      "metadata": {
        "id": "EZTgohXAWJ60"
      },
      "source": [
        "### Updating our Code"
      ]
    },
    {
      "cell_type": "markdown",
      "metadata": {
        "id": "RVdkuYZuWJ60"
      },
      "source": [
        "In the previous lesson, we defined a function to automate collecting our data and creating lists of data.  Now imagine that we want to write a function to automatically plot our data."
      ]
    },
    {
      "cell_type": "markdown",
      "metadata": {
        "id": "ERPyItvhWJ61"
      },
      "source": [
        "Let's remember how we plot our data.  First we can create a figure, which is just a blank plot."
      ]
    },
    {
      "cell_type": "code",
      "execution_count": 1,
      "metadata": {
        "id": "KGuGVTTRWJ61",
        "outputId": "91ad3877-91de-4cd9-bb90-2d262449eace",
        "colab": {
          "base_uri": "https://localhost:8080/",
          "height": 542
        }
      },
      "outputs": [
        {
          "output_type": "display_data",
          "data": {
            "text/html": [
              "<html>\n",
              "<head><meta charset=\"utf-8\" /></head>\n",
              "<body>\n",
              "    <div>            <script src=\"https://cdnjs.cloudflare.com/ajax/libs/mathjax/2.7.5/MathJax.js?config=TeX-AMS-MML_SVG\"></script><script type=\"text/javascript\">if (window.MathJax && window.MathJax.Hub && window.MathJax.Hub.Config) {window.MathJax.Hub.Config({SVG: {font: \"STIX-Web\"}});}</script>                <script type=\"text/javascript\">window.PlotlyConfig = {MathJaxConfig: 'local'};</script>\n",
              "        <script charset=\"utf-8\" src=\"https://cdn.plot.ly/plotly-2.24.1.min.js\"></script>                <div id=\"3c603225-fadc-488d-8bc5-f27b6cccb851\" class=\"plotly-graph-div\" style=\"height:525px; width:100%;\"></div>            <script type=\"text/javascript\">                                    window.PLOTLYENV=window.PLOTLYENV || {};                                    if (document.getElementById(\"3c603225-fadc-488d-8bc5-f27b6cccb851\")) {                    Plotly.newPlot(                        \"3c603225-fadc-488d-8bc5-f27b6cccb851\",                        [],                        {\"template\":{\"data\":{\"histogram2dcontour\":[{\"type\":\"histogram2dcontour\",\"colorbar\":{\"outlinewidth\":0,\"ticks\":\"\"},\"colorscale\":[[0.0,\"#0d0887\"],[0.1111111111111111,\"#46039f\"],[0.2222222222222222,\"#7201a8\"],[0.3333333333333333,\"#9c179e\"],[0.4444444444444444,\"#bd3786\"],[0.5555555555555556,\"#d8576b\"],[0.6666666666666666,\"#ed7953\"],[0.7777777777777778,\"#fb9f3a\"],[0.8888888888888888,\"#fdca26\"],[1.0,\"#f0f921\"]]}],\"choropleth\":[{\"type\":\"choropleth\",\"colorbar\":{\"outlinewidth\":0,\"ticks\":\"\"}}],\"histogram2d\":[{\"type\":\"histogram2d\",\"colorbar\":{\"outlinewidth\":0,\"ticks\":\"\"},\"colorscale\":[[0.0,\"#0d0887\"],[0.1111111111111111,\"#46039f\"],[0.2222222222222222,\"#7201a8\"],[0.3333333333333333,\"#9c179e\"],[0.4444444444444444,\"#bd3786\"],[0.5555555555555556,\"#d8576b\"],[0.6666666666666666,\"#ed7953\"],[0.7777777777777778,\"#fb9f3a\"],[0.8888888888888888,\"#fdca26\"],[1.0,\"#f0f921\"]]}],\"heatmap\":[{\"type\":\"heatmap\",\"colorbar\":{\"outlinewidth\":0,\"ticks\":\"\"},\"colorscale\":[[0.0,\"#0d0887\"],[0.1111111111111111,\"#46039f\"],[0.2222222222222222,\"#7201a8\"],[0.3333333333333333,\"#9c179e\"],[0.4444444444444444,\"#bd3786\"],[0.5555555555555556,\"#d8576b\"],[0.6666666666666666,\"#ed7953\"],[0.7777777777777778,\"#fb9f3a\"],[0.8888888888888888,\"#fdca26\"],[1.0,\"#f0f921\"]]}],\"heatmapgl\":[{\"type\":\"heatmapgl\",\"colorbar\":{\"outlinewidth\":0,\"ticks\":\"\"},\"colorscale\":[[0.0,\"#0d0887\"],[0.1111111111111111,\"#46039f\"],[0.2222222222222222,\"#7201a8\"],[0.3333333333333333,\"#9c179e\"],[0.4444444444444444,\"#bd3786\"],[0.5555555555555556,\"#d8576b\"],[0.6666666666666666,\"#ed7953\"],[0.7777777777777778,\"#fb9f3a\"],[0.8888888888888888,\"#fdca26\"],[1.0,\"#f0f921\"]]}],\"contourcarpet\":[{\"type\":\"contourcarpet\",\"colorbar\":{\"outlinewidth\":0,\"ticks\":\"\"}}],\"contour\":[{\"type\":\"contour\",\"colorbar\":{\"outlinewidth\":0,\"ticks\":\"\"},\"colorscale\":[[0.0,\"#0d0887\"],[0.1111111111111111,\"#46039f\"],[0.2222222222222222,\"#7201a8\"],[0.3333333333333333,\"#9c179e\"],[0.4444444444444444,\"#bd3786\"],[0.5555555555555556,\"#d8576b\"],[0.6666666666666666,\"#ed7953\"],[0.7777777777777778,\"#fb9f3a\"],[0.8888888888888888,\"#fdca26\"],[1.0,\"#f0f921\"]]}],\"surface\":[{\"type\":\"surface\",\"colorbar\":{\"outlinewidth\":0,\"ticks\":\"\"},\"colorscale\":[[0.0,\"#0d0887\"],[0.1111111111111111,\"#46039f\"],[0.2222222222222222,\"#7201a8\"],[0.3333333333333333,\"#9c179e\"],[0.4444444444444444,\"#bd3786\"],[0.5555555555555556,\"#d8576b\"],[0.6666666666666666,\"#ed7953\"],[0.7777777777777778,\"#fb9f3a\"],[0.8888888888888888,\"#fdca26\"],[1.0,\"#f0f921\"]]}],\"mesh3d\":[{\"type\":\"mesh3d\",\"colorbar\":{\"outlinewidth\":0,\"ticks\":\"\"}}],\"scatter\":[{\"fillpattern\":{\"fillmode\":\"overlay\",\"size\":10,\"solidity\":0.2},\"type\":\"scatter\"}],\"parcoords\":[{\"type\":\"parcoords\",\"line\":{\"colorbar\":{\"outlinewidth\":0,\"ticks\":\"\"}}}],\"scatterpolargl\":[{\"type\":\"scatterpolargl\",\"marker\":{\"colorbar\":{\"outlinewidth\":0,\"ticks\":\"\"}}}],\"bar\":[{\"error_x\":{\"color\":\"#2a3f5f\"},\"error_y\":{\"color\":\"#2a3f5f\"},\"marker\":{\"line\":{\"color\":\"#E5ECF6\",\"width\":0.5},\"pattern\":{\"fillmode\":\"overlay\",\"size\":10,\"solidity\":0.2}},\"type\":\"bar\"}],\"scattergeo\":[{\"type\":\"scattergeo\",\"marker\":{\"colorbar\":{\"outlinewidth\":0,\"ticks\":\"\"}}}],\"scatterpolar\":[{\"type\":\"scatterpolar\",\"marker\":{\"colorbar\":{\"outlinewidth\":0,\"ticks\":\"\"}}}],\"histogram\":[{\"marker\":{\"pattern\":{\"fillmode\":\"overlay\",\"size\":10,\"solidity\":0.2}},\"type\":\"histogram\"}],\"scattergl\":[{\"type\":\"scattergl\",\"marker\":{\"colorbar\":{\"outlinewidth\":0,\"ticks\":\"\"}}}],\"scatter3d\":[{\"type\":\"scatter3d\",\"line\":{\"colorbar\":{\"outlinewidth\":0,\"ticks\":\"\"}},\"marker\":{\"colorbar\":{\"outlinewidth\":0,\"ticks\":\"\"}}}],\"scattermapbox\":[{\"type\":\"scattermapbox\",\"marker\":{\"colorbar\":{\"outlinewidth\":0,\"ticks\":\"\"}}}],\"scatterternary\":[{\"type\":\"scatterternary\",\"marker\":{\"colorbar\":{\"outlinewidth\":0,\"ticks\":\"\"}}}],\"scattercarpet\":[{\"type\":\"scattercarpet\",\"marker\":{\"colorbar\":{\"outlinewidth\":0,\"ticks\":\"\"}}}],\"carpet\":[{\"aaxis\":{\"endlinecolor\":\"#2a3f5f\",\"gridcolor\":\"white\",\"linecolor\":\"white\",\"minorgridcolor\":\"white\",\"startlinecolor\":\"#2a3f5f\"},\"baxis\":{\"endlinecolor\":\"#2a3f5f\",\"gridcolor\":\"white\",\"linecolor\":\"white\",\"minorgridcolor\":\"white\",\"startlinecolor\":\"#2a3f5f\"},\"type\":\"carpet\"}],\"table\":[{\"cells\":{\"fill\":{\"color\":\"#EBF0F8\"},\"line\":{\"color\":\"white\"}},\"header\":{\"fill\":{\"color\":\"#C8D4E3\"},\"line\":{\"color\":\"white\"}},\"type\":\"table\"}],\"barpolar\":[{\"marker\":{\"line\":{\"color\":\"#E5ECF6\",\"width\":0.5},\"pattern\":{\"fillmode\":\"overlay\",\"size\":10,\"solidity\":0.2}},\"type\":\"barpolar\"}],\"pie\":[{\"automargin\":true,\"type\":\"pie\"}]},\"layout\":{\"autotypenumbers\":\"strict\",\"colorway\":[\"#636efa\",\"#EF553B\",\"#00cc96\",\"#ab63fa\",\"#FFA15A\",\"#19d3f3\",\"#FF6692\",\"#B6E880\",\"#FF97FF\",\"#FECB52\"],\"font\":{\"color\":\"#2a3f5f\"},\"hovermode\":\"closest\",\"hoverlabel\":{\"align\":\"left\"},\"paper_bgcolor\":\"white\",\"plot_bgcolor\":\"#E5ECF6\",\"polar\":{\"bgcolor\":\"#E5ECF6\",\"angularaxis\":{\"gridcolor\":\"white\",\"linecolor\":\"white\",\"ticks\":\"\"},\"radialaxis\":{\"gridcolor\":\"white\",\"linecolor\":\"white\",\"ticks\":\"\"}},\"ternary\":{\"bgcolor\":\"#E5ECF6\",\"aaxis\":{\"gridcolor\":\"white\",\"linecolor\":\"white\",\"ticks\":\"\"},\"baxis\":{\"gridcolor\":\"white\",\"linecolor\":\"white\",\"ticks\":\"\"},\"caxis\":{\"gridcolor\":\"white\",\"linecolor\":\"white\",\"ticks\":\"\"}},\"coloraxis\":{\"colorbar\":{\"outlinewidth\":0,\"ticks\":\"\"}},\"colorscale\":{\"sequential\":[[0.0,\"#0d0887\"],[0.1111111111111111,\"#46039f\"],[0.2222222222222222,\"#7201a8\"],[0.3333333333333333,\"#9c179e\"],[0.4444444444444444,\"#bd3786\"],[0.5555555555555556,\"#d8576b\"],[0.6666666666666666,\"#ed7953\"],[0.7777777777777778,\"#fb9f3a\"],[0.8888888888888888,\"#fdca26\"],[1.0,\"#f0f921\"]],\"sequentialminus\":[[0.0,\"#0d0887\"],[0.1111111111111111,\"#46039f\"],[0.2222222222222222,\"#7201a8\"],[0.3333333333333333,\"#9c179e\"],[0.4444444444444444,\"#bd3786\"],[0.5555555555555556,\"#d8576b\"],[0.6666666666666666,\"#ed7953\"],[0.7777777777777778,\"#fb9f3a\"],[0.8888888888888888,\"#fdca26\"],[1.0,\"#f0f921\"]],\"diverging\":[[0,\"#8e0152\"],[0.1,\"#c51b7d\"],[0.2,\"#de77ae\"],[0.3,\"#f1b6da\"],[0.4,\"#fde0ef\"],[0.5,\"#f7f7f7\"],[0.6,\"#e6f5d0\"],[0.7,\"#b8e186\"],[0.8,\"#7fbc41\"],[0.9,\"#4d9221\"],[1,\"#276419\"]]},\"xaxis\":{\"gridcolor\":\"white\",\"linecolor\":\"white\",\"ticks\":\"\",\"title\":{\"standoff\":15},\"zerolinecolor\":\"white\",\"automargin\":true,\"zerolinewidth\":2},\"yaxis\":{\"gridcolor\":\"white\",\"linecolor\":\"white\",\"ticks\":\"\",\"title\":{\"standoff\":15},\"zerolinecolor\":\"white\",\"automargin\":true,\"zerolinewidth\":2},\"scene\":{\"xaxis\":{\"backgroundcolor\":\"#E5ECF6\",\"gridcolor\":\"white\",\"linecolor\":\"white\",\"showbackground\":true,\"ticks\":\"\",\"zerolinecolor\":\"white\",\"gridwidth\":2},\"yaxis\":{\"backgroundcolor\":\"#E5ECF6\",\"gridcolor\":\"white\",\"linecolor\":\"white\",\"showbackground\":true,\"ticks\":\"\",\"zerolinecolor\":\"white\",\"gridwidth\":2},\"zaxis\":{\"backgroundcolor\":\"#E5ECF6\",\"gridcolor\":\"white\",\"linecolor\":\"white\",\"showbackground\":true,\"ticks\":\"\",\"zerolinecolor\":\"white\",\"gridwidth\":2}},\"shapedefaults\":{\"line\":{\"color\":\"#2a3f5f\"}},\"annotationdefaults\":{\"arrowcolor\":\"#2a3f5f\",\"arrowhead\":0,\"arrowwidth\":1},\"geo\":{\"bgcolor\":\"white\",\"landcolor\":\"#E5ECF6\",\"subunitcolor\":\"white\",\"showland\":true,\"showlakes\":true,\"lakecolor\":\"white\"},\"title\":{\"x\":0.05},\"mapbox\":{\"style\":\"light\"}}}},                        {\"responsive\": true}                    ).then(function(){\n",
              "                            \n",
              "var gd = document.getElementById('3c603225-fadc-488d-8bc5-f27b6cccb851');\n",
              "var x = new MutationObserver(function (mutations, observer) {{\n",
              "        var display = window.getComputedStyle(gd).display;\n",
              "        if (!display || display === 'none') {{\n",
              "            console.log([gd, 'removed!']);\n",
              "            Plotly.purge(gd);\n",
              "            observer.disconnect();\n",
              "        }}\n",
              "}});\n",
              "\n",
              "// Listen for the removal of the full notebook cells\n",
              "var notebookContainer = gd.closest('#notebook-container');\n",
              "if (notebookContainer) {{\n",
              "    x.observe(notebookContainer, {childList: true});\n",
              "}}\n",
              "\n",
              "// Listen for the clearing of the current output cell\n",
              "var outputEl = gd.closest('.output');\n",
              "if (outputEl) {{\n",
              "    x.observe(outputEl, {childList: true});\n",
              "}}\n",
              "\n",
              "                        })                };                            </script>        </div>\n",
              "</body>\n",
              "</html>"
            ]
          },
          "metadata": {}
        }
      ],
      "source": [
        "import plotly.graph_objects as go\n",
        "fig = go.Figure()\n",
        "fig"
      ]
    },
    {
      "cell_type": "markdown",
      "metadata": {
        "id": "eKQPOMr-WJ63"
      },
      "source": [
        "And then we can add a scatter plot to this figure, here with the values 4, 5, and 6."
      ]
    },
    {
      "cell_type": "code",
      "execution_count": 2,
      "metadata": {
        "id": "7MwI0c6iWJ64",
        "outputId": "5287f1d0-cf12-4052-dfeb-30ed578c02c5",
        "colab": {
          "base_uri": "https://localhost:8080/",
          "height": 542
        }
      },
      "outputs": [
        {
          "output_type": "display_data",
          "data": {
            "text/html": [
              "<html>\n",
              "<head><meta charset=\"utf-8\" /></head>\n",
              "<body>\n",
              "    <div>            <script src=\"https://cdnjs.cloudflare.com/ajax/libs/mathjax/2.7.5/MathJax.js?config=TeX-AMS-MML_SVG\"></script><script type=\"text/javascript\">if (window.MathJax && window.MathJax.Hub && window.MathJax.Hub.Config) {window.MathJax.Hub.Config({SVG: {font: \"STIX-Web\"}});}</script>                <script type=\"text/javascript\">window.PlotlyConfig = {MathJaxConfig: 'local'};</script>\n",
              "        <script charset=\"utf-8\" src=\"https://cdn.plot.ly/plotly-2.24.1.min.js\"></script>                <div id=\"35a051fe-7bf4-4c69-b630-059eed1a3cdb\" class=\"plotly-graph-div\" style=\"height:525px; width:100%;\"></div>            <script type=\"text/javascript\">                                    window.PLOTLYENV=window.PLOTLYENV || {};                                    if (document.getElementById(\"35a051fe-7bf4-4c69-b630-059eed1a3cdb\")) {                    Plotly.newPlot(                        \"35a051fe-7bf4-4c69-b630-059eed1a3cdb\",                        [{\"mode\":\"markers\",\"y\":[4,5,6],\"type\":\"scatter\"}],                        {\"template\":{\"data\":{\"histogram2dcontour\":[{\"type\":\"histogram2dcontour\",\"colorbar\":{\"outlinewidth\":0,\"ticks\":\"\"},\"colorscale\":[[0.0,\"#0d0887\"],[0.1111111111111111,\"#46039f\"],[0.2222222222222222,\"#7201a8\"],[0.3333333333333333,\"#9c179e\"],[0.4444444444444444,\"#bd3786\"],[0.5555555555555556,\"#d8576b\"],[0.6666666666666666,\"#ed7953\"],[0.7777777777777778,\"#fb9f3a\"],[0.8888888888888888,\"#fdca26\"],[1.0,\"#f0f921\"]]}],\"choropleth\":[{\"type\":\"choropleth\",\"colorbar\":{\"outlinewidth\":0,\"ticks\":\"\"}}],\"histogram2d\":[{\"type\":\"histogram2d\",\"colorbar\":{\"outlinewidth\":0,\"ticks\":\"\"},\"colorscale\":[[0.0,\"#0d0887\"],[0.1111111111111111,\"#46039f\"],[0.2222222222222222,\"#7201a8\"],[0.3333333333333333,\"#9c179e\"],[0.4444444444444444,\"#bd3786\"],[0.5555555555555556,\"#d8576b\"],[0.6666666666666666,\"#ed7953\"],[0.7777777777777778,\"#fb9f3a\"],[0.8888888888888888,\"#fdca26\"],[1.0,\"#f0f921\"]]}],\"heatmap\":[{\"type\":\"heatmap\",\"colorbar\":{\"outlinewidth\":0,\"ticks\":\"\"},\"colorscale\":[[0.0,\"#0d0887\"],[0.1111111111111111,\"#46039f\"],[0.2222222222222222,\"#7201a8\"],[0.3333333333333333,\"#9c179e\"],[0.4444444444444444,\"#bd3786\"],[0.5555555555555556,\"#d8576b\"],[0.6666666666666666,\"#ed7953\"],[0.7777777777777778,\"#fb9f3a\"],[0.8888888888888888,\"#fdca26\"],[1.0,\"#f0f921\"]]}],\"heatmapgl\":[{\"type\":\"heatmapgl\",\"colorbar\":{\"outlinewidth\":0,\"ticks\":\"\"},\"colorscale\":[[0.0,\"#0d0887\"],[0.1111111111111111,\"#46039f\"],[0.2222222222222222,\"#7201a8\"],[0.3333333333333333,\"#9c179e\"],[0.4444444444444444,\"#bd3786\"],[0.5555555555555556,\"#d8576b\"],[0.6666666666666666,\"#ed7953\"],[0.7777777777777778,\"#fb9f3a\"],[0.8888888888888888,\"#fdca26\"],[1.0,\"#f0f921\"]]}],\"contourcarpet\":[{\"type\":\"contourcarpet\",\"colorbar\":{\"outlinewidth\":0,\"ticks\":\"\"}}],\"contour\":[{\"type\":\"contour\",\"colorbar\":{\"outlinewidth\":0,\"ticks\":\"\"},\"colorscale\":[[0.0,\"#0d0887\"],[0.1111111111111111,\"#46039f\"],[0.2222222222222222,\"#7201a8\"],[0.3333333333333333,\"#9c179e\"],[0.4444444444444444,\"#bd3786\"],[0.5555555555555556,\"#d8576b\"],[0.6666666666666666,\"#ed7953\"],[0.7777777777777778,\"#fb9f3a\"],[0.8888888888888888,\"#fdca26\"],[1.0,\"#f0f921\"]]}],\"surface\":[{\"type\":\"surface\",\"colorbar\":{\"outlinewidth\":0,\"ticks\":\"\"},\"colorscale\":[[0.0,\"#0d0887\"],[0.1111111111111111,\"#46039f\"],[0.2222222222222222,\"#7201a8\"],[0.3333333333333333,\"#9c179e\"],[0.4444444444444444,\"#bd3786\"],[0.5555555555555556,\"#d8576b\"],[0.6666666666666666,\"#ed7953\"],[0.7777777777777778,\"#fb9f3a\"],[0.8888888888888888,\"#fdca26\"],[1.0,\"#f0f921\"]]}],\"mesh3d\":[{\"type\":\"mesh3d\",\"colorbar\":{\"outlinewidth\":0,\"ticks\":\"\"}}],\"scatter\":[{\"fillpattern\":{\"fillmode\":\"overlay\",\"size\":10,\"solidity\":0.2},\"type\":\"scatter\"}],\"parcoords\":[{\"type\":\"parcoords\",\"line\":{\"colorbar\":{\"outlinewidth\":0,\"ticks\":\"\"}}}],\"scatterpolargl\":[{\"type\":\"scatterpolargl\",\"marker\":{\"colorbar\":{\"outlinewidth\":0,\"ticks\":\"\"}}}],\"bar\":[{\"error_x\":{\"color\":\"#2a3f5f\"},\"error_y\":{\"color\":\"#2a3f5f\"},\"marker\":{\"line\":{\"color\":\"#E5ECF6\",\"width\":0.5},\"pattern\":{\"fillmode\":\"overlay\",\"size\":10,\"solidity\":0.2}},\"type\":\"bar\"}],\"scattergeo\":[{\"type\":\"scattergeo\",\"marker\":{\"colorbar\":{\"outlinewidth\":0,\"ticks\":\"\"}}}],\"scatterpolar\":[{\"type\":\"scatterpolar\",\"marker\":{\"colorbar\":{\"outlinewidth\":0,\"ticks\":\"\"}}}],\"histogram\":[{\"marker\":{\"pattern\":{\"fillmode\":\"overlay\",\"size\":10,\"solidity\":0.2}},\"type\":\"histogram\"}],\"scattergl\":[{\"type\":\"scattergl\",\"marker\":{\"colorbar\":{\"outlinewidth\":0,\"ticks\":\"\"}}}],\"scatter3d\":[{\"type\":\"scatter3d\",\"line\":{\"colorbar\":{\"outlinewidth\":0,\"ticks\":\"\"}},\"marker\":{\"colorbar\":{\"outlinewidth\":0,\"ticks\":\"\"}}}],\"scattermapbox\":[{\"type\":\"scattermapbox\",\"marker\":{\"colorbar\":{\"outlinewidth\":0,\"ticks\":\"\"}}}],\"scatterternary\":[{\"type\":\"scatterternary\",\"marker\":{\"colorbar\":{\"outlinewidth\":0,\"ticks\":\"\"}}}],\"scattercarpet\":[{\"type\":\"scattercarpet\",\"marker\":{\"colorbar\":{\"outlinewidth\":0,\"ticks\":\"\"}}}],\"carpet\":[{\"aaxis\":{\"endlinecolor\":\"#2a3f5f\",\"gridcolor\":\"white\",\"linecolor\":\"white\",\"minorgridcolor\":\"white\",\"startlinecolor\":\"#2a3f5f\"},\"baxis\":{\"endlinecolor\":\"#2a3f5f\",\"gridcolor\":\"white\",\"linecolor\":\"white\",\"minorgridcolor\":\"white\",\"startlinecolor\":\"#2a3f5f\"},\"type\":\"carpet\"}],\"table\":[{\"cells\":{\"fill\":{\"color\":\"#EBF0F8\"},\"line\":{\"color\":\"white\"}},\"header\":{\"fill\":{\"color\":\"#C8D4E3\"},\"line\":{\"color\":\"white\"}},\"type\":\"table\"}],\"barpolar\":[{\"marker\":{\"line\":{\"color\":\"#E5ECF6\",\"width\":0.5},\"pattern\":{\"fillmode\":\"overlay\",\"size\":10,\"solidity\":0.2}},\"type\":\"barpolar\"}],\"pie\":[{\"automargin\":true,\"type\":\"pie\"}]},\"layout\":{\"autotypenumbers\":\"strict\",\"colorway\":[\"#636efa\",\"#EF553B\",\"#00cc96\",\"#ab63fa\",\"#FFA15A\",\"#19d3f3\",\"#FF6692\",\"#B6E880\",\"#FF97FF\",\"#FECB52\"],\"font\":{\"color\":\"#2a3f5f\"},\"hovermode\":\"closest\",\"hoverlabel\":{\"align\":\"left\"},\"paper_bgcolor\":\"white\",\"plot_bgcolor\":\"#E5ECF6\",\"polar\":{\"bgcolor\":\"#E5ECF6\",\"angularaxis\":{\"gridcolor\":\"white\",\"linecolor\":\"white\",\"ticks\":\"\"},\"radialaxis\":{\"gridcolor\":\"white\",\"linecolor\":\"white\",\"ticks\":\"\"}},\"ternary\":{\"bgcolor\":\"#E5ECF6\",\"aaxis\":{\"gridcolor\":\"white\",\"linecolor\":\"white\",\"ticks\":\"\"},\"baxis\":{\"gridcolor\":\"white\",\"linecolor\":\"white\",\"ticks\":\"\"},\"caxis\":{\"gridcolor\":\"white\",\"linecolor\":\"white\",\"ticks\":\"\"}},\"coloraxis\":{\"colorbar\":{\"outlinewidth\":0,\"ticks\":\"\"}},\"colorscale\":{\"sequential\":[[0.0,\"#0d0887\"],[0.1111111111111111,\"#46039f\"],[0.2222222222222222,\"#7201a8\"],[0.3333333333333333,\"#9c179e\"],[0.4444444444444444,\"#bd3786\"],[0.5555555555555556,\"#d8576b\"],[0.6666666666666666,\"#ed7953\"],[0.7777777777777778,\"#fb9f3a\"],[0.8888888888888888,\"#fdca26\"],[1.0,\"#f0f921\"]],\"sequentialminus\":[[0.0,\"#0d0887\"],[0.1111111111111111,\"#46039f\"],[0.2222222222222222,\"#7201a8\"],[0.3333333333333333,\"#9c179e\"],[0.4444444444444444,\"#bd3786\"],[0.5555555555555556,\"#d8576b\"],[0.6666666666666666,\"#ed7953\"],[0.7777777777777778,\"#fb9f3a\"],[0.8888888888888888,\"#fdca26\"],[1.0,\"#f0f921\"]],\"diverging\":[[0,\"#8e0152\"],[0.1,\"#c51b7d\"],[0.2,\"#de77ae\"],[0.3,\"#f1b6da\"],[0.4,\"#fde0ef\"],[0.5,\"#f7f7f7\"],[0.6,\"#e6f5d0\"],[0.7,\"#b8e186\"],[0.8,\"#7fbc41\"],[0.9,\"#4d9221\"],[1,\"#276419\"]]},\"xaxis\":{\"gridcolor\":\"white\",\"linecolor\":\"white\",\"ticks\":\"\",\"title\":{\"standoff\":15},\"zerolinecolor\":\"white\",\"automargin\":true,\"zerolinewidth\":2},\"yaxis\":{\"gridcolor\":\"white\",\"linecolor\":\"white\",\"ticks\":\"\",\"title\":{\"standoff\":15},\"zerolinecolor\":\"white\",\"automargin\":true,\"zerolinewidth\":2},\"scene\":{\"xaxis\":{\"backgroundcolor\":\"#E5ECF6\",\"gridcolor\":\"white\",\"linecolor\":\"white\",\"showbackground\":true,\"ticks\":\"\",\"zerolinecolor\":\"white\",\"gridwidth\":2},\"yaxis\":{\"backgroundcolor\":\"#E5ECF6\",\"gridcolor\":\"white\",\"linecolor\":\"white\",\"showbackground\":true,\"ticks\":\"\",\"zerolinecolor\":\"white\",\"gridwidth\":2},\"zaxis\":{\"backgroundcolor\":\"#E5ECF6\",\"gridcolor\":\"white\",\"linecolor\":\"white\",\"showbackground\":true,\"ticks\":\"\",\"zerolinecolor\":\"white\",\"gridwidth\":2}},\"shapedefaults\":{\"line\":{\"color\":\"#2a3f5f\"}},\"annotationdefaults\":{\"arrowcolor\":\"#2a3f5f\",\"arrowhead\":0,\"arrowwidth\":1},\"geo\":{\"bgcolor\":\"white\",\"landcolor\":\"#E5ECF6\",\"subunitcolor\":\"white\",\"showland\":true,\"showlakes\":true,\"lakecolor\":\"white\"},\"title\":{\"x\":0.05},\"mapbox\":{\"style\":\"light\"}}}},                        {\"responsive\": true}                    ).then(function(){\n",
              "                            \n",
              "var gd = document.getElementById('35a051fe-7bf4-4c69-b630-059eed1a3cdb');\n",
              "var x = new MutationObserver(function (mutations, observer) {{\n",
              "        var display = window.getComputedStyle(gd).display;\n",
              "        if (!display || display === 'none') {{\n",
              "            console.log([gd, 'removed!']);\n",
              "            Plotly.purge(gd);\n",
              "            observer.disconnect();\n",
              "        }}\n",
              "}});\n",
              "\n",
              "// Listen for the removal of the full notebook cells\n",
              "var notebookContainer = gd.closest('#notebook-container');\n",
              "if (notebookContainer) {{\n",
              "    x.observe(notebookContainer, {childList: true});\n",
              "}}\n",
              "\n",
              "// Listen for the clearing of the current output cell\n",
              "var outputEl = gd.closest('.output');\n",
              "if (outputEl) {{\n",
              "    x.observe(outputEl, {childList: true});\n",
              "}}\n",
              "\n",
              "                        })                };                            </script>        </div>\n",
              "</body>\n",
              "</html>"
            ]
          },
          "metadata": {}
        }
      ],
      "source": [
        "scatter = go.Scatter(y = [4, 5, 6], mode = 'markers')\n",
        "fig = go.Figure(data = scatter)\n",
        "fig"
      ]
    },
    {
      "cell_type": "markdown",
      "metadata": {
        "id": "7nZQdRIWWJ64"
      },
      "source": [
        "By wrapping this code in a function called `plot`, we can simply type `plot()` and have our scatter plot show up as many times as we want."
      ]
    },
    {
      "cell_type": "code",
      "execution_count": 3,
      "metadata": {
        "id": "clOqmFf0WJ65"
      },
      "outputs": [],
      "source": [
        "import plotly.graph_objects as go\n",
        "\n",
        "def plot():\n",
        "    scatter = go.Scatter(y = [4, 5, 6], mode = 'markers')\n",
        "    fig = go.Figure(data = scatter)\n",
        "    return fig"
      ]
    },
    {
      "cell_type": "markdown",
      "metadata": {
        "id": "MggffzaUWJ65"
      },
      "source": [
        "> Press `shift + enter` on the code above."
      ]
    },
    {
      "cell_type": "markdown",
      "metadata": {
        "id": "iJfV8nOXWJ66"
      },
      "source": [
        "So to turn our code into a function, we named the function at the top, and then specified our return value -- here the figure.  We execute the function by typing the name of the function followed by parentheses."
      ]
    },
    {
      "cell_type": "code",
      "execution_count": 4,
      "metadata": {
        "id": "4FqZcRP8WJ66",
        "outputId": "74c89c3f-0d2d-4856-b814-c74e85ae0210",
        "colab": {
          "base_uri": "https://localhost:8080/",
          "height": 542
        }
      },
      "outputs": [
        {
          "output_type": "display_data",
          "data": {
            "text/html": [
              "<html>\n",
              "<head><meta charset=\"utf-8\" /></head>\n",
              "<body>\n",
              "    <div>            <script src=\"https://cdnjs.cloudflare.com/ajax/libs/mathjax/2.7.5/MathJax.js?config=TeX-AMS-MML_SVG\"></script><script type=\"text/javascript\">if (window.MathJax && window.MathJax.Hub && window.MathJax.Hub.Config) {window.MathJax.Hub.Config({SVG: {font: \"STIX-Web\"}});}</script>                <script type=\"text/javascript\">window.PlotlyConfig = {MathJaxConfig: 'local'};</script>\n",
              "        <script charset=\"utf-8\" src=\"https://cdn.plot.ly/plotly-2.24.1.min.js\"></script>                <div id=\"333aff1d-3961-49f9-b0ff-d46fc9179fa5\" class=\"plotly-graph-div\" style=\"height:525px; width:100%;\"></div>            <script type=\"text/javascript\">                                    window.PLOTLYENV=window.PLOTLYENV || {};                                    if (document.getElementById(\"333aff1d-3961-49f9-b0ff-d46fc9179fa5\")) {                    Plotly.newPlot(                        \"333aff1d-3961-49f9-b0ff-d46fc9179fa5\",                        [{\"mode\":\"markers\",\"y\":[4,5,6],\"type\":\"scatter\"}],                        {\"template\":{\"data\":{\"histogram2dcontour\":[{\"type\":\"histogram2dcontour\",\"colorbar\":{\"outlinewidth\":0,\"ticks\":\"\"},\"colorscale\":[[0.0,\"#0d0887\"],[0.1111111111111111,\"#46039f\"],[0.2222222222222222,\"#7201a8\"],[0.3333333333333333,\"#9c179e\"],[0.4444444444444444,\"#bd3786\"],[0.5555555555555556,\"#d8576b\"],[0.6666666666666666,\"#ed7953\"],[0.7777777777777778,\"#fb9f3a\"],[0.8888888888888888,\"#fdca26\"],[1.0,\"#f0f921\"]]}],\"choropleth\":[{\"type\":\"choropleth\",\"colorbar\":{\"outlinewidth\":0,\"ticks\":\"\"}}],\"histogram2d\":[{\"type\":\"histogram2d\",\"colorbar\":{\"outlinewidth\":0,\"ticks\":\"\"},\"colorscale\":[[0.0,\"#0d0887\"],[0.1111111111111111,\"#46039f\"],[0.2222222222222222,\"#7201a8\"],[0.3333333333333333,\"#9c179e\"],[0.4444444444444444,\"#bd3786\"],[0.5555555555555556,\"#d8576b\"],[0.6666666666666666,\"#ed7953\"],[0.7777777777777778,\"#fb9f3a\"],[0.8888888888888888,\"#fdca26\"],[1.0,\"#f0f921\"]]}],\"heatmap\":[{\"type\":\"heatmap\",\"colorbar\":{\"outlinewidth\":0,\"ticks\":\"\"},\"colorscale\":[[0.0,\"#0d0887\"],[0.1111111111111111,\"#46039f\"],[0.2222222222222222,\"#7201a8\"],[0.3333333333333333,\"#9c179e\"],[0.4444444444444444,\"#bd3786\"],[0.5555555555555556,\"#d8576b\"],[0.6666666666666666,\"#ed7953\"],[0.7777777777777778,\"#fb9f3a\"],[0.8888888888888888,\"#fdca26\"],[1.0,\"#f0f921\"]]}],\"heatmapgl\":[{\"type\":\"heatmapgl\",\"colorbar\":{\"outlinewidth\":0,\"ticks\":\"\"},\"colorscale\":[[0.0,\"#0d0887\"],[0.1111111111111111,\"#46039f\"],[0.2222222222222222,\"#7201a8\"],[0.3333333333333333,\"#9c179e\"],[0.4444444444444444,\"#bd3786\"],[0.5555555555555556,\"#d8576b\"],[0.6666666666666666,\"#ed7953\"],[0.7777777777777778,\"#fb9f3a\"],[0.8888888888888888,\"#fdca26\"],[1.0,\"#f0f921\"]]}],\"contourcarpet\":[{\"type\":\"contourcarpet\",\"colorbar\":{\"outlinewidth\":0,\"ticks\":\"\"}}],\"contour\":[{\"type\":\"contour\",\"colorbar\":{\"outlinewidth\":0,\"ticks\":\"\"},\"colorscale\":[[0.0,\"#0d0887\"],[0.1111111111111111,\"#46039f\"],[0.2222222222222222,\"#7201a8\"],[0.3333333333333333,\"#9c179e\"],[0.4444444444444444,\"#bd3786\"],[0.5555555555555556,\"#d8576b\"],[0.6666666666666666,\"#ed7953\"],[0.7777777777777778,\"#fb9f3a\"],[0.8888888888888888,\"#fdca26\"],[1.0,\"#f0f921\"]]}],\"surface\":[{\"type\":\"surface\",\"colorbar\":{\"outlinewidth\":0,\"ticks\":\"\"},\"colorscale\":[[0.0,\"#0d0887\"],[0.1111111111111111,\"#46039f\"],[0.2222222222222222,\"#7201a8\"],[0.3333333333333333,\"#9c179e\"],[0.4444444444444444,\"#bd3786\"],[0.5555555555555556,\"#d8576b\"],[0.6666666666666666,\"#ed7953\"],[0.7777777777777778,\"#fb9f3a\"],[0.8888888888888888,\"#fdca26\"],[1.0,\"#f0f921\"]]}],\"mesh3d\":[{\"type\":\"mesh3d\",\"colorbar\":{\"outlinewidth\":0,\"ticks\":\"\"}}],\"scatter\":[{\"fillpattern\":{\"fillmode\":\"overlay\",\"size\":10,\"solidity\":0.2},\"type\":\"scatter\"}],\"parcoords\":[{\"type\":\"parcoords\",\"line\":{\"colorbar\":{\"outlinewidth\":0,\"ticks\":\"\"}}}],\"scatterpolargl\":[{\"type\":\"scatterpolargl\",\"marker\":{\"colorbar\":{\"outlinewidth\":0,\"ticks\":\"\"}}}],\"bar\":[{\"error_x\":{\"color\":\"#2a3f5f\"},\"error_y\":{\"color\":\"#2a3f5f\"},\"marker\":{\"line\":{\"color\":\"#E5ECF6\",\"width\":0.5},\"pattern\":{\"fillmode\":\"overlay\",\"size\":10,\"solidity\":0.2}},\"type\":\"bar\"}],\"scattergeo\":[{\"type\":\"scattergeo\",\"marker\":{\"colorbar\":{\"outlinewidth\":0,\"ticks\":\"\"}}}],\"scatterpolar\":[{\"type\":\"scatterpolar\",\"marker\":{\"colorbar\":{\"outlinewidth\":0,\"ticks\":\"\"}}}],\"histogram\":[{\"marker\":{\"pattern\":{\"fillmode\":\"overlay\",\"size\":10,\"solidity\":0.2}},\"type\":\"histogram\"}],\"scattergl\":[{\"type\":\"scattergl\",\"marker\":{\"colorbar\":{\"outlinewidth\":0,\"ticks\":\"\"}}}],\"scatter3d\":[{\"type\":\"scatter3d\",\"line\":{\"colorbar\":{\"outlinewidth\":0,\"ticks\":\"\"}},\"marker\":{\"colorbar\":{\"outlinewidth\":0,\"ticks\":\"\"}}}],\"scattermapbox\":[{\"type\":\"scattermapbox\",\"marker\":{\"colorbar\":{\"outlinewidth\":0,\"ticks\":\"\"}}}],\"scatterternary\":[{\"type\":\"scatterternary\",\"marker\":{\"colorbar\":{\"outlinewidth\":0,\"ticks\":\"\"}}}],\"scattercarpet\":[{\"type\":\"scattercarpet\",\"marker\":{\"colorbar\":{\"outlinewidth\":0,\"ticks\":\"\"}}}],\"carpet\":[{\"aaxis\":{\"endlinecolor\":\"#2a3f5f\",\"gridcolor\":\"white\",\"linecolor\":\"white\",\"minorgridcolor\":\"white\",\"startlinecolor\":\"#2a3f5f\"},\"baxis\":{\"endlinecolor\":\"#2a3f5f\",\"gridcolor\":\"white\",\"linecolor\":\"white\",\"minorgridcolor\":\"white\",\"startlinecolor\":\"#2a3f5f\"},\"type\":\"carpet\"}],\"table\":[{\"cells\":{\"fill\":{\"color\":\"#EBF0F8\"},\"line\":{\"color\":\"white\"}},\"header\":{\"fill\":{\"color\":\"#C8D4E3\"},\"line\":{\"color\":\"white\"}},\"type\":\"table\"}],\"barpolar\":[{\"marker\":{\"line\":{\"color\":\"#E5ECF6\",\"width\":0.5},\"pattern\":{\"fillmode\":\"overlay\",\"size\":10,\"solidity\":0.2}},\"type\":\"barpolar\"}],\"pie\":[{\"automargin\":true,\"type\":\"pie\"}]},\"layout\":{\"autotypenumbers\":\"strict\",\"colorway\":[\"#636efa\",\"#EF553B\",\"#00cc96\",\"#ab63fa\",\"#FFA15A\",\"#19d3f3\",\"#FF6692\",\"#B6E880\",\"#FF97FF\",\"#FECB52\"],\"font\":{\"color\":\"#2a3f5f\"},\"hovermode\":\"closest\",\"hoverlabel\":{\"align\":\"left\"},\"paper_bgcolor\":\"white\",\"plot_bgcolor\":\"#E5ECF6\",\"polar\":{\"bgcolor\":\"#E5ECF6\",\"angularaxis\":{\"gridcolor\":\"white\",\"linecolor\":\"white\",\"ticks\":\"\"},\"radialaxis\":{\"gridcolor\":\"white\",\"linecolor\":\"white\",\"ticks\":\"\"}},\"ternary\":{\"bgcolor\":\"#E5ECF6\",\"aaxis\":{\"gridcolor\":\"white\",\"linecolor\":\"white\",\"ticks\":\"\"},\"baxis\":{\"gridcolor\":\"white\",\"linecolor\":\"white\",\"ticks\":\"\"},\"caxis\":{\"gridcolor\":\"white\",\"linecolor\":\"white\",\"ticks\":\"\"}},\"coloraxis\":{\"colorbar\":{\"outlinewidth\":0,\"ticks\":\"\"}},\"colorscale\":{\"sequential\":[[0.0,\"#0d0887\"],[0.1111111111111111,\"#46039f\"],[0.2222222222222222,\"#7201a8\"],[0.3333333333333333,\"#9c179e\"],[0.4444444444444444,\"#bd3786\"],[0.5555555555555556,\"#d8576b\"],[0.6666666666666666,\"#ed7953\"],[0.7777777777777778,\"#fb9f3a\"],[0.8888888888888888,\"#fdca26\"],[1.0,\"#f0f921\"]],\"sequentialminus\":[[0.0,\"#0d0887\"],[0.1111111111111111,\"#46039f\"],[0.2222222222222222,\"#7201a8\"],[0.3333333333333333,\"#9c179e\"],[0.4444444444444444,\"#bd3786\"],[0.5555555555555556,\"#d8576b\"],[0.6666666666666666,\"#ed7953\"],[0.7777777777777778,\"#fb9f3a\"],[0.8888888888888888,\"#fdca26\"],[1.0,\"#f0f921\"]],\"diverging\":[[0,\"#8e0152\"],[0.1,\"#c51b7d\"],[0.2,\"#de77ae\"],[0.3,\"#f1b6da\"],[0.4,\"#fde0ef\"],[0.5,\"#f7f7f7\"],[0.6,\"#e6f5d0\"],[0.7,\"#b8e186\"],[0.8,\"#7fbc41\"],[0.9,\"#4d9221\"],[1,\"#276419\"]]},\"xaxis\":{\"gridcolor\":\"white\",\"linecolor\":\"white\",\"ticks\":\"\",\"title\":{\"standoff\":15},\"zerolinecolor\":\"white\",\"automargin\":true,\"zerolinewidth\":2},\"yaxis\":{\"gridcolor\":\"white\",\"linecolor\":\"white\",\"ticks\":\"\",\"title\":{\"standoff\":15},\"zerolinecolor\":\"white\",\"automargin\":true,\"zerolinewidth\":2},\"scene\":{\"xaxis\":{\"backgroundcolor\":\"#E5ECF6\",\"gridcolor\":\"white\",\"linecolor\":\"white\",\"showbackground\":true,\"ticks\":\"\",\"zerolinecolor\":\"white\",\"gridwidth\":2},\"yaxis\":{\"backgroundcolor\":\"#E5ECF6\",\"gridcolor\":\"white\",\"linecolor\":\"white\",\"showbackground\":true,\"ticks\":\"\",\"zerolinecolor\":\"white\",\"gridwidth\":2},\"zaxis\":{\"backgroundcolor\":\"#E5ECF6\",\"gridcolor\":\"white\",\"linecolor\":\"white\",\"showbackground\":true,\"ticks\":\"\",\"zerolinecolor\":\"white\",\"gridwidth\":2}},\"shapedefaults\":{\"line\":{\"color\":\"#2a3f5f\"}},\"annotationdefaults\":{\"arrowcolor\":\"#2a3f5f\",\"arrowhead\":0,\"arrowwidth\":1},\"geo\":{\"bgcolor\":\"white\",\"landcolor\":\"#E5ECF6\",\"subunitcolor\":\"white\",\"showland\":true,\"showlakes\":true,\"lakecolor\":\"white\"},\"title\":{\"x\":0.05},\"mapbox\":{\"style\":\"light\"}}}},                        {\"responsive\": true}                    ).then(function(){\n",
              "                            \n",
              "var gd = document.getElementById('333aff1d-3961-49f9-b0ff-d46fc9179fa5');\n",
              "var x = new MutationObserver(function (mutations, observer) {{\n",
              "        var display = window.getComputedStyle(gd).display;\n",
              "        if (!display || display === 'none') {{\n",
              "            console.log([gd, 'removed!']);\n",
              "            Plotly.purge(gd);\n",
              "            observer.disconnect();\n",
              "        }}\n",
              "}});\n",
              "\n",
              "// Listen for the removal of the full notebook cells\n",
              "var notebookContainer = gd.closest('#notebook-container');\n",
              "if (notebookContainer) {{\n",
              "    x.observe(notebookContainer, {childList: true});\n",
              "}}\n",
              "\n",
              "// Listen for the clearing of the current output cell\n",
              "var outputEl = gd.closest('.output');\n",
              "if (outputEl) {{\n",
              "    x.observe(outputEl, {childList: true});\n",
              "}}\n",
              "\n",
              "                        })                };                            </script>        </div>\n",
              "</body>\n",
              "</html>"
            ]
          },
          "metadata": {}
        }
      ],
      "source": [
        "plot()"
      ]
    },
    {
      "cell_type": "markdown",
      "metadata": {
        "id": "9b1NZQmgWJ67"
      },
      "source": [
        "> Shift + enter below."
      ]
    },
    {
      "cell_type": "markdown",
      "metadata": {
        "id": "m6JzIjufWJ67"
      },
      "source": [
        "Now what if we wanted to not only plot the values 4, 5, and 6, but any values.  Well to achieve something like this, we first need to learn about function arguments."
      ]
    },
    {
      "cell_type": "markdown",
      "metadata": {
        "id": "FjzE9Ki2WJ67"
      },
      "source": [
        "### Function arguments"
      ]
    },
    {
      "cell_type": "markdown",
      "metadata": {
        "id": "Aw1wQj3uWJ67"
      },
      "source": [
        "Below is a function argument."
      ]
    },
    {
      "cell_type": "code",
      "execution_count": 5,
      "metadata": {
        "id": "czIosRByWJ67"
      },
      "outputs": [],
      "source": [
        "def greet(person):\n",
        "    return print('hello ' + person)"
      ]
    },
    {
      "cell_type": "code",
      "execution_count": 6,
      "metadata": {
        "id": "WanbLvu2WJ68",
        "outputId": "b3b2eee6-1618-457b-e513-2cce714ede1a",
        "colab": {
          "base_uri": "https://localhost:8080/"
        }
      },
      "outputs": [
        {
          "output_type": "stream",
          "name": "stdout",
          "text": [
            "hello sam\n"
          ]
        }
      ],
      "source": [
        "greet('sam')"
      ]
    },
    {
      "cell_type": "code",
      "execution_count": 7,
      "metadata": {
        "id": "xu5ap7hHWJ68",
        "outputId": "df23f48f-38b9-4afd-a8b1-a71b41eaa7a4",
        "colab": {
          "base_uri": "https://localhost:8080/"
        }
      },
      "outputs": [
        {
          "output_type": "stream",
          "name": "stdout",
          "text": [
            "hello susan\n"
          ]
        }
      ],
      "source": [
        "greet('susan')"
      ]
    },
    {
      "cell_type": "markdown",
      "metadata": {
        "id": "czgKtfVPWJ68"
      },
      "source": [
        "Let's explain what happens in the code above.  When we define our function, we leave a function argument called `person` to be defined later.  This function argument is defined, not when we first write our function, but when we later execute our function."
      ]
    },
    {
      "cell_type": "code",
      "execution_count": 8,
      "metadata": {
        "id": "y8-bNXf_WJ69",
        "outputId": "ac8f091a-436c-450b-dc31-ac1c3ed9af17",
        "colab": {
          "base_uri": "https://localhost:8080/"
        }
      },
      "outputs": [
        {
          "output_type": "stream",
          "name": "stdout",
          "text": [
            "hello simpson\n"
          ]
        }
      ],
      "source": [
        "greet('simpson')"
      ]
    },
    {
      "cell_type": "markdown",
      "metadata": {
        "id": "co5MMC7sWJ69"
      },
      "source": [
        "In the line above, we passed through `'simpson'` to be our argument, and everytime Python sees the word `person`  in the function, it replaced it with `'simpson'`.  Then the function finishes executing.\n",
        "\n",
        "The next time we call the function, we need to set another function argument.  Try calling the `greet` function with the argument `miss darcy` in the cell below."
      ]
    },
    {
      "cell_type": "code",
      "execution_count": 9,
      "metadata": {
        "id": "wyzBvyGmWJ69",
        "outputId": "33b955ee-8300-4146-e46a-8fe4f9e861db",
        "colab": {
          "base_uri": "https://localhost:8080/"
        }
      },
      "outputs": [
        {
          "output_type": "stream",
          "name": "stdout",
          "text": [
            "hello miss Darcy\n"
          ]
        }
      ],
      "source": [
        "greet('miss Darcy')\n",
        "\n",
        "# 'hello miss darcy'"
      ]
    },
    {
      "cell_type": "markdown",
      "metadata": {
        "id": "xzSu5g0nWJ6-"
      },
      "source": [
        "Now what if we call the greet function without the function argument."
      ]
    },
    {
      "cell_type": "code",
      "execution_count": 10,
      "metadata": {
        "id": "-XoKFgrAWJ6-",
        "outputId": "b6772ba3-1dca-4c4f-fb30-576d7be9bf91",
        "colab": {
          "base_uri": "https://localhost:8080/",
          "height": 176
        }
      },
      "outputs": [
        {
          "output_type": "error",
          "ename": "TypeError",
          "evalue": "ignored",
          "traceback": [
            "\u001b[0;31m---------------------------------------------------------------------------\u001b[0m",
            "\u001b[0;31mTypeError\u001b[0m                                 Traceback (most recent call last)",
            "\u001b[0;32m<ipython-input-10-db845682bfe7>\u001b[0m in \u001b[0;36m<cell line: 1>\u001b[0;34m()\u001b[0m\n\u001b[0;32m----> 1\u001b[0;31m \u001b[0mgreet\u001b[0m\u001b[0;34m(\u001b[0m\u001b[0;34m)\u001b[0m\u001b[0;34m\u001b[0m\u001b[0;34m\u001b[0m\u001b[0m\n\u001b[0m",
            "\u001b[0;31mTypeError\u001b[0m: greet() missing 1 required positional argument: 'person'"
          ]
        }
      ],
      "source": [
        "greet()"
      ]
    },
    {
      "cell_type": "markdown",
      "metadata": {
        "id": "XBwPRQdZWJ6-"
      },
      "source": [
        "> We often run into this kind of error when calling functions.  We have a mismatch.  We defined our greet function to take one argument, yet we did not pass through that argument when we called the function.  Thus the `missing one required positional argument` error."
      ]
    },
    {
      "cell_type": "markdown",
      "metadata": {
        "id": "UtuALSlpWJ6_"
      },
      "source": [
        "Next write a function that takes an argument of `name` and says goodbye to the name passed through as an argument."
      ]
    },
    {
      "cell_type": "code",
      "execution_count": 13,
      "metadata": {
        "id": "QbaEUYxjWJ6_"
      },
      "outputs": [],
      "source": [
        "# write your function here\n",
        "def goodbye(name):\n",
        "  return 'goodbye '+name"
      ]
    },
    {
      "cell_type": "markdown",
      "metadata": {
        "id": "Tn-pEWSiWJ6_"
      },
      "source": [
        "> Press shift + return on the cell above.  You **will not** see any output when you press shift + return above.  You need to execute your function below to check that it worked.  Press shift + return on the cell below.  \n",
        "\n",
        "> Note that you do not need to write `print` anywhere in your function."
      ]
    },
    {
      "cell_type": "code",
      "execution_count": 14,
      "metadata": {
        "id": "nyb4rnFQWJ6_",
        "outputId": "a60223ae-6e15-4e5a-d5f6-b55cbca75e89",
        "colab": {
          "base_uri": "https://localhost:8080/",
          "height": 35
        }
      },
      "outputs": [
        {
          "output_type": "execute_result",
          "data": {
            "text/plain": [
              "'goodbye gracie'"
            ],
            "application/vnd.google.colaboratory.intrinsic+json": {
              "type": "string"
            }
          },
          "metadata": {},
          "execution_count": 14
        }
      ],
      "source": [
        "goodbye('gracie')\n",
        "\n",
        "# 'goodbye gracie'"
      ]
    },
    {
      "cell_type": "markdown",
      "metadata": {
        "id": "QkjVBafTWJ7A"
      },
      "source": [
        "### Why functions arguments matter"
      ]
    },
    {
      "cell_type": "markdown",
      "metadata": {
        "id": "uiYKUUPhWJ7A"
      },
      "source": [
        "Think of our functions like a record player.  In a record player, we insert the record, and hear music.  An argument is the slot into the function that allows us to use a different piece of data every time we call the function.\n",
        "\n",
        "Now below is our function that plots the list of numbers 4, 5, and 6."
      ]
    },
    {
      "cell_type": "code",
      "execution_count": 15,
      "metadata": {
        "id": "MlflBnqMWJ7A"
      },
      "outputs": [],
      "source": [
        "import plotly.graph_objects as go\n",
        "\n",
        "def plot():\n",
        "    scatter = go.Scatter(y = [4, 5, 6], mode = 'markers')\n",
        "    fig = go.Figure(data = scatter)\n",
        "    return fig"
      ]
    },
    {
      "cell_type": "markdown",
      "metadata": {
        "id": "mSOTICXzWJ7E"
      },
      "source": [
        "Now let's try to change the function so that we can plot different kinds of values?  Notice that the list `[4, 5, 6]` is hard coded into the `plot` function."
      ]
    },
    {
      "cell_type": "markdown",
      "metadata": {
        "id": "KvW9OzbUWJ7E"
      },
      "source": [
        "So just like earlier we were able to use function arguments so that our function would `greet` a different `person`.  Here we want to use arguments so that our code will plot different data.  We need to find the hard coded values above that we want to make flexible and turn them into a function argument.  Here is the code."
      ]
    },
    {
      "cell_type": "code",
      "execution_count": 16,
      "metadata": {
        "id": "wOufLvwSWJ7K"
      },
      "outputs": [],
      "source": [
        "import plotly.graph_objects as go\n",
        "\n",
        "def plot(y_values):\n",
        "    scatter = go.Scatter(y = y_values, mode = 'markers')\n",
        "    fig = go.Figure(data = scatter)\n",
        "    return fig"
      ]
    },
    {
      "cell_type": "markdown",
      "metadata": {
        "id": "6GyHDT1hWJ7K"
      },
      "source": [
        "So we made `y_values` a function argument, so that now we can plot a different list of values each time."
      ]
    },
    {
      "cell_type": "markdown",
      "metadata": {
        "id": "SxWGyMK4WJ7K"
      },
      "source": [
        "> Press shift + enter on the cell above.  \n",
        "> Then press shift + enter on the cell below to plot.\n",
        "\n",
        "> To see how this works, change the numbers in `values` to update the plot just by changing the argument."
      ]
    },
    {
      "cell_type": "code",
      "execution_count": 17,
      "metadata": {
        "id": "59IiC9uMWJ7K",
        "outputId": "f32e5ca0-e61e-4648-ad12-f0928fb57daa",
        "colab": {
          "base_uri": "https://localhost:8080/",
          "height": 542
        }
      },
      "outputs": [
        {
          "output_type": "display_data",
          "data": {
            "text/html": [
              "<html>\n",
              "<head><meta charset=\"utf-8\" /></head>\n",
              "<body>\n",
              "    <div>            <script src=\"https://cdnjs.cloudflare.com/ajax/libs/mathjax/2.7.5/MathJax.js?config=TeX-AMS-MML_SVG\"></script><script type=\"text/javascript\">if (window.MathJax && window.MathJax.Hub && window.MathJax.Hub.Config) {window.MathJax.Hub.Config({SVG: {font: \"STIX-Web\"}});}</script>                <script type=\"text/javascript\">window.PlotlyConfig = {MathJaxConfig: 'local'};</script>\n",
              "        <script charset=\"utf-8\" src=\"https://cdn.plot.ly/plotly-2.24.1.min.js\"></script>                <div id=\"c0d01716-a5d7-4dd2-9382-9468e2802e4b\" class=\"plotly-graph-div\" style=\"height:525px; width:100%;\"></div>            <script type=\"text/javascript\">                                    window.PLOTLYENV=window.PLOTLYENV || {};                                    if (document.getElementById(\"c0d01716-a5d7-4dd2-9382-9468e2802e4b\")) {                    Plotly.newPlot(                        \"c0d01716-a5d7-4dd2-9382-9468e2802e4b\",                        [{\"mode\":\"markers\",\"y\":[1,8,5],\"type\":\"scatter\"}],                        {\"template\":{\"data\":{\"histogram2dcontour\":[{\"type\":\"histogram2dcontour\",\"colorbar\":{\"outlinewidth\":0,\"ticks\":\"\"},\"colorscale\":[[0.0,\"#0d0887\"],[0.1111111111111111,\"#46039f\"],[0.2222222222222222,\"#7201a8\"],[0.3333333333333333,\"#9c179e\"],[0.4444444444444444,\"#bd3786\"],[0.5555555555555556,\"#d8576b\"],[0.6666666666666666,\"#ed7953\"],[0.7777777777777778,\"#fb9f3a\"],[0.8888888888888888,\"#fdca26\"],[1.0,\"#f0f921\"]]}],\"choropleth\":[{\"type\":\"choropleth\",\"colorbar\":{\"outlinewidth\":0,\"ticks\":\"\"}}],\"histogram2d\":[{\"type\":\"histogram2d\",\"colorbar\":{\"outlinewidth\":0,\"ticks\":\"\"},\"colorscale\":[[0.0,\"#0d0887\"],[0.1111111111111111,\"#46039f\"],[0.2222222222222222,\"#7201a8\"],[0.3333333333333333,\"#9c179e\"],[0.4444444444444444,\"#bd3786\"],[0.5555555555555556,\"#d8576b\"],[0.6666666666666666,\"#ed7953\"],[0.7777777777777778,\"#fb9f3a\"],[0.8888888888888888,\"#fdca26\"],[1.0,\"#f0f921\"]]}],\"heatmap\":[{\"type\":\"heatmap\",\"colorbar\":{\"outlinewidth\":0,\"ticks\":\"\"},\"colorscale\":[[0.0,\"#0d0887\"],[0.1111111111111111,\"#46039f\"],[0.2222222222222222,\"#7201a8\"],[0.3333333333333333,\"#9c179e\"],[0.4444444444444444,\"#bd3786\"],[0.5555555555555556,\"#d8576b\"],[0.6666666666666666,\"#ed7953\"],[0.7777777777777778,\"#fb9f3a\"],[0.8888888888888888,\"#fdca26\"],[1.0,\"#f0f921\"]]}],\"heatmapgl\":[{\"type\":\"heatmapgl\",\"colorbar\":{\"outlinewidth\":0,\"ticks\":\"\"},\"colorscale\":[[0.0,\"#0d0887\"],[0.1111111111111111,\"#46039f\"],[0.2222222222222222,\"#7201a8\"],[0.3333333333333333,\"#9c179e\"],[0.4444444444444444,\"#bd3786\"],[0.5555555555555556,\"#d8576b\"],[0.6666666666666666,\"#ed7953\"],[0.7777777777777778,\"#fb9f3a\"],[0.8888888888888888,\"#fdca26\"],[1.0,\"#f0f921\"]]}],\"contourcarpet\":[{\"type\":\"contourcarpet\",\"colorbar\":{\"outlinewidth\":0,\"ticks\":\"\"}}],\"contour\":[{\"type\":\"contour\",\"colorbar\":{\"outlinewidth\":0,\"ticks\":\"\"},\"colorscale\":[[0.0,\"#0d0887\"],[0.1111111111111111,\"#46039f\"],[0.2222222222222222,\"#7201a8\"],[0.3333333333333333,\"#9c179e\"],[0.4444444444444444,\"#bd3786\"],[0.5555555555555556,\"#d8576b\"],[0.6666666666666666,\"#ed7953\"],[0.7777777777777778,\"#fb9f3a\"],[0.8888888888888888,\"#fdca26\"],[1.0,\"#f0f921\"]]}],\"surface\":[{\"type\":\"surface\",\"colorbar\":{\"outlinewidth\":0,\"ticks\":\"\"},\"colorscale\":[[0.0,\"#0d0887\"],[0.1111111111111111,\"#46039f\"],[0.2222222222222222,\"#7201a8\"],[0.3333333333333333,\"#9c179e\"],[0.4444444444444444,\"#bd3786\"],[0.5555555555555556,\"#d8576b\"],[0.6666666666666666,\"#ed7953\"],[0.7777777777777778,\"#fb9f3a\"],[0.8888888888888888,\"#fdca26\"],[1.0,\"#f0f921\"]]}],\"mesh3d\":[{\"type\":\"mesh3d\",\"colorbar\":{\"outlinewidth\":0,\"ticks\":\"\"}}],\"scatter\":[{\"fillpattern\":{\"fillmode\":\"overlay\",\"size\":10,\"solidity\":0.2},\"type\":\"scatter\"}],\"parcoords\":[{\"type\":\"parcoords\",\"line\":{\"colorbar\":{\"outlinewidth\":0,\"ticks\":\"\"}}}],\"scatterpolargl\":[{\"type\":\"scatterpolargl\",\"marker\":{\"colorbar\":{\"outlinewidth\":0,\"ticks\":\"\"}}}],\"bar\":[{\"error_x\":{\"color\":\"#2a3f5f\"},\"error_y\":{\"color\":\"#2a3f5f\"},\"marker\":{\"line\":{\"color\":\"#E5ECF6\",\"width\":0.5},\"pattern\":{\"fillmode\":\"overlay\",\"size\":10,\"solidity\":0.2}},\"type\":\"bar\"}],\"scattergeo\":[{\"type\":\"scattergeo\",\"marker\":{\"colorbar\":{\"outlinewidth\":0,\"ticks\":\"\"}}}],\"scatterpolar\":[{\"type\":\"scatterpolar\",\"marker\":{\"colorbar\":{\"outlinewidth\":0,\"ticks\":\"\"}}}],\"histogram\":[{\"marker\":{\"pattern\":{\"fillmode\":\"overlay\",\"size\":10,\"solidity\":0.2}},\"type\":\"histogram\"}],\"scattergl\":[{\"type\":\"scattergl\",\"marker\":{\"colorbar\":{\"outlinewidth\":0,\"ticks\":\"\"}}}],\"scatter3d\":[{\"type\":\"scatter3d\",\"line\":{\"colorbar\":{\"outlinewidth\":0,\"ticks\":\"\"}},\"marker\":{\"colorbar\":{\"outlinewidth\":0,\"ticks\":\"\"}}}],\"scattermapbox\":[{\"type\":\"scattermapbox\",\"marker\":{\"colorbar\":{\"outlinewidth\":0,\"ticks\":\"\"}}}],\"scatterternary\":[{\"type\":\"scatterternary\",\"marker\":{\"colorbar\":{\"outlinewidth\":0,\"ticks\":\"\"}}}],\"scattercarpet\":[{\"type\":\"scattercarpet\",\"marker\":{\"colorbar\":{\"outlinewidth\":0,\"ticks\":\"\"}}}],\"carpet\":[{\"aaxis\":{\"endlinecolor\":\"#2a3f5f\",\"gridcolor\":\"white\",\"linecolor\":\"white\",\"minorgridcolor\":\"white\",\"startlinecolor\":\"#2a3f5f\"},\"baxis\":{\"endlinecolor\":\"#2a3f5f\",\"gridcolor\":\"white\",\"linecolor\":\"white\",\"minorgridcolor\":\"white\",\"startlinecolor\":\"#2a3f5f\"},\"type\":\"carpet\"}],\"table\":[{\"cells\":{\"fill\":{\"color\":\"#EBF0F8\"},\"line\":{\"color\":\"white\"}},\"header\":{\"fill\":{\"color\":\"#C8D4E3\"},\"line\":{\"color\":\"white\"}},\"type\":\"table\"}],\"barpolar\":[{\"marker\":{\"line\":{\"color\":\"#E5ECF6\",\"width\":0.5},\"pattern\":{\"fillmode\":\"overlay\",\"size\":10,\"solidity\":0.2}},\"type\":\"barpolar\"}],\"pie\":[{\"automargin\":true,\"type\":\"pie\"}]},\"layout\":{\"autotypenumbers\":\"strict\",\"colorway\":[\"#636efa\",\"#EF553B\",\"#00cc96\",\"#ab63fa\",\"#FFA15A\",\"#19d3f3\",\"#FF6692\",\"#B6E880\",\"#FF97FF\",\"#FECB52\"],\"font\":{\"color\":\"#2a3f5f\"},\"hovermode\":\"closest\",\"hoverlabel\":{\"align\":\"left\"},\"paper_bgcolor\":\"white\",\"plot_bgcolor\":\"#E5ECF6\",\"polar\":{\"bgcolor\":\"#E5ECF6\",\"angularaxis\":{\"gridcolor\":\"white\",\"linecolor\":\"white\",\"ticks\":\"\"},\"radialaxis\":{\"gridcolor\":\"white\",\"linecolor\":\"white\",\"ticks\":\"\"}},\"ternary\":{\"bgcolor\":\"#E5ECF6\",\"aaxis\":{\"gridcolor\":\"white\",\"linecolor\":\"white\",\"ticks\":\"\"},\"baxis\":{\"gridcolor\":\"white\",\"linecolor\":\"white\",\"ticks\":\"\"},\"caxis\":{\"gridcolor\":\"white\",\"linecolor\":\"white\",\"ticks\":\"\"}},\"coloraxis\":{\"colorbar\":{\"outlinewidth\":0,\"ticks\":\"\"}},\"colorscale\":{\"sequential\":[[0.0,\"#0d0887\"],[0.1111111111111111,\"#46039f\"],[0.2222222222222222,\"#7201a8\"],[0.3333333333333333,\"#9c179e\"],[0.4444444444444444,\"#bd3786\"],[0.5555555555555556,\"#d8576b\"],[0.6666666666666666,\"#ed7953\"],[0.7777777777777778,\"#fb9f3a\"],[0.8888888888888888,\"#fdca26\"],[1.0,\"#f0f921\"]],\"sequentialminus\":[[0.0,\"#0d0887\"],[0.1111111111111111,\"#46039f\"],[0.2222222222222222,\"#7201a8\"],[0.3333333333333333,\"#9c179e\"],[0.4444444444444444,\"#bd3786\"],[0.5555555555555556,\"#d8576b\"],[0.6666666666666666,\"#ed7953\"],[0.7777777777777778,\"#fb9f3a\"],[0.8888888888888888,\"#fdca26\"],[1.0,\"#f0f921\"]],\"diverging\":[[0,\"#8e0152\"],[0.1,\"#c51b7d\"],[0.2,\"#de77ae\"],[0.3,\"#f1b6da\"],[0.4,\"#fde0ef\"],[0.5,\"#f7f7f7\"],[0.6,\"#e6f5d0\"],[0.7,\"#b8e186\"],[0.8,\"#7fbc41\"],[0.9,\"#4d9221\"],[1,\"#276419\"]]},\"xaxis\":{\"gridcolor\":\"white\",\"linecolor\":\"white\",\"ticks\":\"\",\"title\":{\"standoff\":15},\"zerolinecolor\":\"white\",\"automargin\":true,\"zerolinewidth\":2},\"yaxis\":{\"gridcolor\":\"white\",\"linecolor\":\"white\",\"ticks\":\"\",\"title\":{\"standoff\":15},\"zerolinecolor\":\"white\",\"automargin\":true,\"zerolinewidth\":2},\"scene\":{\"xaxis\":{\"backgroundcolor\":\"#E5ECF6\",\"gridcolor\":\"white\",\"linecolor\":\"white\",\"showbackground\":true,\"ticks\":\"\",\"zerolinecolor\":\"white\",\"gridwidth\":2},\"yaxis\":{\"backgroundcolor\":\"#E5ECF6\",\"gridcolor\":\"white\",\"linecolor\":\"white\",\"showbackground\":true,\"ticks\":\"\",\"zerolinecolor\":\"white\",\"gridwidth\":2},\"zaxis\":{\"backgroundcolor\":\"#E5ECF6\",\"gridcolor\":\"white\",\"linecolor\":\"white\",\"showbackground\":true,\"ticks\":\"\",\"zerolinecolor\":\"white\",\"gridwidth\":2}},\"shapedefaults\":{\"line\":{\"color\":\"#2a3f5f\"}},\"annotationdefaults\":{\"arrowcolor\":\"#2a3f5f\",\"arrowhead\":0,\"arrowwidth\":1},\"geo\":{\"bgcolor\":\"white\",\"landcolor\":\"#E5ECF6\",\"subunitcolor\":\"white\",\"showland\":true,\"showlakes\":true,\"lakecolor\":\"white\"},\"title\":{\"x\":0.05},\"mapbox\":{\"style\":\"light\"}}}},                        {\"responsive\": true}                    ).then(function(){\n",
              "                            \n",
              "var gd = document.getElementById('c0d01716-a5d7-4dd2-9382-9468e2802e4b');\n",
              "var x = new MutationObserver(function (mutations, observer) {{\n",
              "        var display = window.getComputedStyle(gd).display;\n",
              "        if (!display || display === 'none') {{\n",
              "            console.log([gd, 'removed!']);\n",
              "            Plotly.purge(gd);\n",
              "            observer.disconnect();\n",
              "        }}\n",
              "}});\n",
              "\n",
              "// Listen for the removal of the full notebook cells\n",
              "var notebookContainer = gd.closest('#notebook-container');\n",
              "if (notebookContainer) {{\n",
              "    x.observe(notebookContainer, {childList: true});\n",
              "}}\n",
              "\n",
              "// Listen for the clearing of the current output cell\n",
              "var outputEl = gd.closest('.output');\n",
              "if (outputEl) {{\n",
              "    x.observe(outputEl, {childList: true});\n",
              "}}\n",
              "\n",
              "                        })                };                            </script>        </div>\n",
              "</body>\n",
              "</html>"
            ]
          },
          "metadata": {}
        }
      ],
      "source": [
        "values = [1, 8, 5]\n",
        "\n",
        "plot(values)"
      ]
    },
    {
      "cell_type": "markdown",
      "metadata": {
        "id": "hjJ6IfnaWJ7L"
      },
      "source": [
        "We can add a second argument to our function simply by placing a comma and a second argument name inside of our parentheses."
      ]
    },
    {
      "cell_type": "markdown",
      "metadata": {
        "id": "1FSeTu0YWJ7L"
      },
      "source": [
        "> Press `shift + return` to define the function below."
      ]
    },
    {
      "cell_type": "code",
      "execution_count": 18,
      "metadata": {
        "id": "fF2WEqcwWJ7L"
      },
      "outputs": [],
      "source": [
        "def plot_with_labels(y_values, labels):\n",
        "    scatter = go.Scatter(y = y_values, hovertext = labels, mode = 'markers')\n",
        "    fig = go.Figure(data = scatter)\n",
        "    return fig"
      ]
    },
    {
      "cell_type": "markdown",
      "metadata": {
        "id": "V475v1I4WJ7L"
      },
      "source": [
        "> Once again, press `shift + return` on the cell below, and change the values to see how they affect the output."
      ]
    },
    {
      "cell_type": "code",
      "execution_count": 19,
      "metadata": {
        "id": "ddtknQWUWJ7L",
        "outputId": "2563c01a-9930-46ea-c47e-e80265bb2b6a",
        "colab": {
          "base_uri": "https://localhost:8080/",
          "height": 542
        }
      },
      "outputs": [
        {
          "output_type": "display_data",
          "data": {
            "text/html": [
              "<html>\n",
              "<head><meta charset=\"utf-8\" /></head>\n",
              "<body>\n",
              "    <div>            <script src=\"https://cdnjs.cloudflare.com/ajax/libs/mathjax/2.7.5/MathJax.js?config=TeX-AMS-MML_SVG\"></script><script type=\"text/javascript\">if (window.MathJax && window.MathJax.Hub && window.MathJax.Hub.Config) {window.MathJax.Hub.Config({SVG: {font: \"STIX-Web\"}});}</script>                <script type=\"text/javascript\">window.PlotlyConfig = {MathJaxConfig: 'local'};</script>\n",
              "        <script charset=\"utf-8\" src=\"https://cdn.plot.ly/plotly-2.24.1.min.js\"></script>                <div id=\"a09177e1-40ec-476c-8d61-0e4d9f2e2237\" class=\"plotly-graph-div\" style=\"height:525px; width:100%;\"></div>            <script type=\"text/javascript\">                                    window.PLOTLYENV=window.PLOTLYENV || {};                                    if (document.getElementById(\"a09177e1-40ec-476c-8d61-0e4d9f2e2237\")) {                    Plotly.newPlot(                        \"a09177e1-40ec-476c-8d61-0e4d9f2e2237\",                        [{\"hovertext\":[\"chicago\",\"new york\",\"philadelpia\"],\"mode\":\"markers\",\"y\":[11,28,89],\"type\":\"scatter\"}],                        {\"template\":{\"data\":{\"histogram2dcontour\":[{\"type\":\"histogram2dcontour\",\"colorbar\":{\"outlinewidth\":0,\"ticks\":\"\"},\"colorscale\":[[0.0,\"#0d0887\"],[0.1111111111111111,\"#46039f\"],[0.2222222222222222,\"#7201a8\"],[0.3333333333333333,\"#9c179e\"],[0.4444444444444444,\"#bd3786\"],[0.5555555555555556,\"#d8576b\"],[0.6666666666666666,\"#ed7953\"],[0.7777777777777778,\"#fb9f3a\"],[0.8888888888888888,\"#fdca26\"],[1.0,\"#f0f921\"]]}],\"choropleth\":[{\"type\":\"choropleth\",\"colorbar\":{\"outlinewidth\":0,\"ticks\":\"\"}}],\"histogram2d\":[{\"type\":\"histogram2d\",\"colorbar\":{\"outlinewidth\":0,\"ticks\":\"\"},\"colorscale\":[[0.0,\"#0d0887\"],[0.1111111111111111,\"#46039f\"],[0.2222222222222222,\"#7201a8\"],[0.3333333333333333,\"#9c179e\"],[0.4444444444444444,\"#bd3786\"],[0.5555555555555556,\"#d8576b\"],[0.6666666666666666,\"#ed7953\"],[0.7777777777777778,\"#fb9f3a\"],[0.8888888888888888,\"#fdca26\"],[1.0,\"#f0f921\"]]}],\"heatmap\":[{\"type\":\"heatmap\",\"colorbar\":{\"outlinewidth\":0,\"ticks\":\"\"},\"colorscale\":[[0.0,\"#0d0887\"],[0.1111111111111111,\"#46039f\"],[0.2222222222222222,\"#7201a8\"],[0.3333333333333333,\"#9c179e\"],[0.4444444444444444,\"#bd3786\"],[0.5555555555555556,\"#d8576b\"],[0.6666666666666666,\"#ed7953\"],[0.7777777777777778,\"#fb9f3a\"],[0.8888888888888888,\"#fdca26\"],[1.0,\"#f0f921\"]]}],\"heatmapgl\":[{\"type\":\"heatmapgl\",\"colorbar\":{\"outlinewidth\":0,\"ticks\":\"\"},\"colorscale\":[[0.0,\"#0d0887\"],[0.1111111111111111,\"#46039f\"],[0.2222222222222222,\"#7201a8\"],[0.3333333333333333,\"#9c179e\"],[0.4444444444444444,\"#bd3786\"],[0.5555555555555556,\"#d8576b\"],[0.6666666666666666,\"#ed7953\"],[0.7777777777777778,\"#fb9f3a\"],[0.8888888888888888,\"#fdca26\"],[1.0,\"#f0f921\"]]}],\"contourcarpet\":[{\"type\":\"contourcarpet\",\"colorbar\":{\"outlinewidth\":0,\"ticks\":\"\"}}],\"contour\":[{\"type\":\"contour\",\"colorbar\":{\"outlinewidth\":0,\"ticks\":\"\"},\"colorscale\":[[0.0,\"#0d0887\"],[0.1111111111111111,\"#46039f\"],[0.2222222222222222,\"#7201a8\"],[0.3333333333333333,\"#9c179e\"],[0.4444444444444444,\"#bd3786\"],[0.5555555555555556,\"#d8576b\"],[0.6666666666666666,\"#ed7953\"],[0.7777777777777778,\"#fb9f3a\"],[0.8888888888888888,\"#fdca26\"],[1.0,\"#f0f921\"]]}],\"surface\":[{\"type\":\"surface\",\"colorbar\":{\"outlinewidth\":0,\"ticks\":\"\"},\"colorscale\":[[0.0,\"#0d0887\"],[0.1111111111111111,\"#46039f\"],[0.2222222222222222,\"#7201a8\"],[0.3333333333333333,\"#9c179e\"],[0.4444444444444444,\"#bd3786\"],[0.5555555555555556,\"#d8576b\"],[0.6666666666666666,\"#ed7953\"],[0.7777777777777778,\"#fb9f3a\"],[0.8888888888888888,\"#fdca26\"],[1.0,\"#f0f921\"]]}],\"mesh3d\":[{\"type\":\"mesh3d\",\"colorbar\":{\"outlinewidth\":0,\"ticks\":\"\"}}],\"scatter\":[{\"fillpattern\":{\"fillmode\":\"overlay\",\"size\":10,\"solidity\":0.2},\"type\":\"scatter\"}],\"parcoords\":[{\"type\":\"parcoords\",\"line\":{\"colorbar\":{\"outlinewidth\":0,\"ticks\":\"\"}}}],\"scatterpolargl\":[{\"type\":\"scatterpolargl\",\"marker\":{\"colorbar\":{\"outlinewidth\":0,\"ticks\":\"\"}}}],\"bar\":[{\"error_x\":{\"color\":\"#2a3f5f\"},\"error_y\":{\"color\":\"#2a3f5f\"},\"marker\":{\"line\":{\"color\":\"#E5ECF6\",\"width\":0.5},\"pattern\":{\"fillmode\":\"overlay\",\"size\":10,\"solidity\":0.2}},\"type\":\"bar\"}],\"scattergeo\":[{\"type\":\"scattergeo\",\"marker\":{\"colorbar\":{\"outlinewidth\":0,\"ticks\":\"\"}}}],\"scatterpolar\":[{\"type\":\"scatterpolar\",\"marker\":{\"colorbar\":{\"outlinewidth\":0,\"ticks\":\"\"}}}],\"histogram\":[{\"marker\":{\"pattern\":{\"fillmode\":\"overlay\",\"size\":10,\"solidity\":0.2}},\"type\":\"histogram\"}],\"scattergl\":[{\"type\":\"scattergl\",\"marker\":{\"colorbar\":{\"outlinewidth\":0,\"ticks\":\"\"}}}],\"scatter3d\":[{\"type\":\"scatter3d\",\"line\":{\"colorbar\":{\"outlinewidth\":0,\"ticks\":\"\"}},\"marker\":{\"colorbar\":{\"outlinewidth\":0,\"ticks\":\"\"}}}],\"scattermapbox\":[{\"type\":\"scattermapbox\",\"marker\":{\"colorbar\":{\"outlinewidth\":0,\"ticks\":\"\"}}}],\"scatterternary\":[{\"type\":\"scatterternary\",\"marker\":{\"colorbar\":{\"outlinewidth\":0,\"ticks\":\"\"}}}],\"scattercarpet\":[{\"type\":\"scattercarpet\",\"marker\":{\"colorbar\":{\"outlinewidth\":0,\"ticks\":\"\"}}}],\"carpet\":[{\"aaxis\":{\"endlinecolor\":\"#2a3f5f\",\"gridcolor\":\"white\",\"linecolor\":\"white\",\"minorgridcolor\":\"white\",\"startlinecolor\":\"#2a3f5f\"},\"baxis\":{\"endlinecolor\":\"#2a3f5f\",\"gridcolor\":\"white\",\"linecolor\":\"white\",\"minorgridcolor\":\"white\",\"startlinecolor\":\"#2a3f5f\"},\"type\":\"carpet\"}],\"table\":[{\"cells\":{\"fill\":{\"color\":\"#EBF0F8\"},\"line\":{\"color\":\"white\"}},\"header\":{\"fill\":{\"color\":\"#C8D4E3\"},\"line\":{\"color\":\"white\"}},\"type\":\"table\"}],\"barpolar\":[{\"marker\":{\"line\":{\"color\":\"#E5ECF6\",\"width\":0.5},\"pattern\":{\"fillmode\":\"overlay\",\"size\":10,\"solidity\":0.2}},\"type\":\"barpolar\"}],\"pie\":[{\"automargin\":true,\"type\":\"pie\"}]},\"layout\":{\"autotypenumbers\":\"strict\",\"colorway\":[\"#636efa\",\"#EF553B\",\"#00cc96\",\"#ab63fa\",\"#FFA15A\",\"#19d3f3\",\"#FF6692\",\"#B6E880\",\"#FF97FF\",\"#FECB52\"],\"font\":{\"color\":\"#2a3f5f\"},\"hovermode\":\"closest\",\"hoverlabel\":{\"align\":\"left\"},\"paper_bgcolor\":\"white\",\"plot_bgcolor\":\"#E5ECF6\",\"polar\":{\"bgcolor\":\"#E5ECF6\",\"angularaxis\":{\"gridcolor\":\"white\",\"linecolor\":\"white\",\"ticks\":\"\"},\"radialaxis\":{\"gridcolor\":\"white\",\"linecolor\":\"white\",\"ticks\":\"\"}},\"ternary\":{\"bgcolor\":\"#E5ECF6\",\"aaxis\":{\"gridcolor\":\"white\",\"linecolor\":\"white\",\"ticks\":\"\"},\"baxis\":{\"gridcolor\":\"white\",\"linecolor\":\"white\",\"ticks\":\"\"},\"caxis\":{\"gridcolor\":\"white\",\"linecolor\":\"white\",\"ticks\":\"\"}},\"coloraxis\":{\"colorbar\":{\"outlinewidth\":0,\"ticks\":\"\"}},\"colorscale\":{\"sequential\":[[0.0,\"#0d0887\"],[0.1111111111111111,\"#46039f\"],[0.2222222222222222,\"#7201a8\"],[0.3333333333333333,\"#9c179e\"],[0.4444444444444444,\"#bd3786\"],[0.5555555555555556,\"#d8576b\"],[0.6666666666666666,\"#ed7953\"],[0.7777777777777778,\"#fb9f3a\"],[0.8888888888888888,\"#fdca26\"],[1.0,\"#f0f921\"]],\"sequentialminus\":[[0.0,\"#0d0887\"],[0.1111111111111111,\"#46039f\"],[0.2222222222222222,\"#7201a8\"],[0.3333333333333333,\"#9c179e\"],[0.4444444444444444,\"#bd3786\"],[0.5555555555555556,\"#d8576b\"],[0.6666666666666666,\"#ed7953\"],[0.7777777777777778,\"#fb9f3a\"],[0.8888888888888888,\"#fdca26\"],[1.0,\"#f0f921\"]],\"diverging\":[[0,\"#8e0152\"],[0.1,\"#c51b7d\"],[0.2,\"#de77ae\"],[0.3,\"#f1b6da\"],[0.4,\"#fde0ef\"],[0.5,\"#f7f7f7\"],[0.6,\"#e6f5d0\"],[0.7,\"#b8e186\"],[0.8,\"#7fbc41\"],[0.9,\"#4d9221\"],[1,\"#276419\"]]},\"xaxis\":{\"gridcolor\":\"white\",\"linecolor\":\"white\",\"ticks\":\"\",\"title\":{\"standoff\":15},\"zerolinecolor\":\"white\",\"automargin\":true,\"zerolinewidth\":2},\"yaxis\":{\"gridcolor\":\"white\",\"linecolor\":\"white\",\"ticks\":\"\",\"title\":{\"standoff\":15},\"zerolinecolor\":\"white\",\"automargin\":true,\"zerolinewidth\":2},\"scene\":{\"xaxis\":{\"backgroundcolor\":\"#E5ECF6\",\"gridcolor\":\"white\",\"linecolor\":\"white\",\"showbackground\":true,\"ticks\":\"\",\"zerolinecolor\":\"white\",\"gridwidth\":2},\"yaxis\":{\"backgroundcolor\":\"#E5ECF6\",\"gridcolor\":\"white\",\"linecolor\":\"white\",\"showbackground\":true,\"ticks\":\"\",\"zerolinecolor\":\"white\",\"gridwidth\":2},\"zaxis\":{\"backgroundcolor\":\"#E5ECF6\",\"gridcolor\":\"white\",\"linecolor\":\"white\",\"showbackground\":true,\"ticks\":\"\",\"zerolinecolor\":\"white\",\"gridwidth\":2}},\"shapedefaults\":{\"line\":{\"color\":\"#2a3f5f\"}},\"annotationdefaults\":{\"arrowcolor\":\"#2a3f5f\",\"arrowhead\":0,\"arrowwidth\":1},\"geo\":{\"bgcolor\":\"white\",\"landcolor\":\"#E5ECF6\",\"subunitcolor\":\"white\",\"showland\":true,\"showlakes\":true,\"lakecolor\":\"white\"},\"title\":{\"x\":0.05},\"mapbox\":{\"style\":\"light\"}}}},                        {\"responsive\": true}                    ).then(function(){\n",
              "                            \n",
              "var gd = document.getElementById('a09177e1-40ec-476c-8d61-0e4d9f2e2237');\n",
              "var x = new MutationObserver(function (mutations, observer) {{\n",
              "        var display = window.getComputedStyle(gd).display;\n",
              "        if (!display || display === 'none') {{\n",
              "            console.log([gd, 'removed!']);\n",
              "            Plotly.purge(gd);\n",
              "            observer.disconnect();\n",
              "        }}\n",
              "}});\n",
              "\n",
              "// Listen for the removal of the full notebook cells\n",
              "var notebookContainer = gd.closest('#notebook-container');\n",
              "if (notebookContainer) {{\n",
              "    x.observe(notebookContainer, {childList: true});\n",
              "}}\n",
              "\n",
              "// Listen for the clearing of the current output cell\n",
              "var outputEl = gd.closest('.output');\n",
              "if (outputEl) {{\n",
              "    x.observe(outputEl, {childList: true});\n",
              "}}\n",
              "\n",
              "                        })                };                            </script>        </div>\n",
              "</body>\n",
              "</html>"
            ]
          },
          "metadata": {}
        }
      ],
      "source": [
        "numbers = [11, 28, 89]\n",
        "names = ['chicago', 'new york', 'philadelpia']\n",
        "plot_with_labels(numbers, names)"
      ]
    },
    {
      "cell_type": "markdown",
      "metadata": {
        "id": "UMwwP0eWWJ7M"
      },
      "source": [
        "So this is great.  By writing some functions with arguments we can quickly create different plots of data."
      ]
    },
    {
      "cell_type": "markdown",
      "metadata": {
        "id": "O-3qhO1AWJ7M"
      },
      "source": [
        "## A step backwards to move forwards"
      ]
    },
    {
      "cell_type": "markdown",
      "metadata": {
        "id": "K63lYAdaWJ7M"
      },
      "source": [
        "So great now what if want to update populations method to take an argument."
      ]
    },
    {
      "cell_type": "code",
      "execution_count": 20,
      "metadata": {
        "id": "uhXqaA8qWJ7M"
      },
      "outputs": [],
      "source": [
        "def get_populations():\n",
        "    populations = []\n",
        "\n",
        "    for each_city in cities:\n",
        "        city_pop = each_city['2018estimate']\n",
        "        populations.append(city_pop)\n",
        "    return populations"
      ]
    },
    {
      "cell_type": "markdown",
      "metadata": {
        "id": "9w7TkKvVWJ7M"
      },
      "source": [
        "Right now it only returns a list of populations.  But with a function argument, we can change the function so that it can return a list of any data we like.\n",
        "\n",
        "I would qualify this as a hard problem.  So let's break this problem down and then build up to this."
      ]
    },
    {
      "cell_type": "markdown",
      "metadata": {
        "id": "pv1JY3nWWJ7N"
      },
      "source": [
        "1. Functions as a temporary variable"
      ]
    },
    {
      "cell_type": "markdown",
      "metadata": {
        "id": "Gs1tDvRMWJ7N"
      },
      "source": [
        "One way to think about function arguments is that they are essentially a temporary variable, that only exists while we execute the function."
      ]
    },
    {
      "cell_type": "code",
      "execution_count": 21,
      "metadata": {
        "id": "iSAtQrs2WJ7N"
      },
      "outputs": [],
      "source": [
        "def greet(person):\n",
        "    return 'hello ' + person"
      ]
    },
    {
      "cell_type": "markdown",
      "metadata": {
        "id": "R6zgvPlxWJ7O"
      },
      "source": [
        "So our function:"
      ]
    },
    {
      "cell_type": "code",
      "execution_count": 22,
      "metadata": {
        "id": "5ZEseEWJWJ7O",
        "outputId": "fd796525-067a-4aac-d632-ca1097fe5f87",
        "colab": {
          "base_uri": "https://localhost:8080/",
          "height": 35
        }
      },
      "outputs": [
        {
          "output_type": "execute_result",
          "data": {
            "text/plain": [
              "'hello sam'"
            ],
            "application/vnd.google.colaboratory.intrinsic+json": {
              "type": "string"
            }
          },
          "metadata": {},
          "execution_count": 22
        }
      ],
      "source": [
        "greet('sam')"
      ]
    },
    {
      "cell_type": "markdown",
      "metadata": {
        "id": "N1nrLkvBWJ7O"
      },
      "source": [
        "Is kinda like:"
      ]
    },
    {
      "cell_type": "code",
      "execution_count": 23,
      "metadata": {
        "id": "ohbEytH7WJ7O",
        "outputId": "1a23f835-a8b8-4ae1-9aef-c22209a25420",
        "colab": {
          "base_uri": "https://localhost:8080/",
          "height": 35
        }
      },
      "outputs": [
        {
          "output_type": "execute_result",
          "data": {
            "text/plain": [
              "'hello sam'"
            ],
            "application/vnd.google.colaboratory.intrinsic+json": {
              "type": "string"
            }
          },
          "metadata": {},
          "execution_count": 23
        }
      ],
      "source": [
        "person = 'sam'\n",
        "'hello ' + person"
      ]
    },
    {
      "cell_type": "markdown",
      "metadata": {
        "id": "H09fr7gBWJ7P"
      },
      "source": [
        "Except the value of the function is only set while the function is being called."
      ]
    },
    {
      "cell_type": "code",
      "execution_count": 24,
      "metadata": {
        "id": "perdBD2iWJ7P"
      },
      "outputs": [],
      "source": [
        "def greet(person):\n",
        "    return 'hello ' + person"
      ]
    },
    {
      "cell_type": "markdown",
      "metadata": {
        "id": "2SPDO-J7WJ7P"
      },
      "source": [
        "2. Accessing data from dictionaries with variables"
      ]
    },
    {
      "cell_type": "markdown",
      "metadata": {
        "id": "rpAzLyc4WJ7P"
      },
      "source": [
        "> Get an audio walkthrough of the below code [by clicking here.](https://storage.googleapis.com/curriculum-assets/curriculum-assets.nosync/mom-files/walkthrough-get-val.wav)"
      ]
    },
    {
      "cell_type": "markdown",
      "metadata": {
        "id": "KskYf2epWJ7Q"
      },
      "source": [
        "Now let's take this same step with dictionaries.  \n",
        "\n",
        "We can dynamically ask questions of our dictionary with the following:"
      ]
    },
    {
      "cell_type": "code",
      "execution_count": 25,
      "metadata": {
        "id": "pGtHBYEKWJ7R",
        "outputId": "4b4a8a11-59b8-4a34-daf7-2058c03e1689",
        "colab": {
          "base_uri": "https://localhost:8080/",
          "height": 35
        }
      },
      "outputs": [
        {
          "output_type": "execute_result",
          "data": {
            "text/plain": [
              "'Chicago'"
            ],
            "application/vnd.google.colaboratory.intrinsic+json": {
              "type": "string"
            }
          },
          "metadata": {},
          "execution_count": 25
        }
      ],
      "source": [
        "city = {'name': 'Chicago', 'population': 2000000}\n",
        "key = 'name'\n",
        "city[key]"
      ]
    },
    {
      "cell_type": "code",
      "execution_count": 26,
      "metadata": {
        "id": "YiZPrgQ9WJ7R",
        "outputId": "e5a1327f-ccd2-401f-e8eb-6821cee37289",
        "colab": {
          "base_uri": "https://localhost:8080/"
        }
      },
      "outputs": [
        {
          "output_type": "execute_result",
          "data": {
            "text/plain": [
              "2000000"
            ]
          },
          "metadata": {},
          "execution_count": 26
        }
      ],
      "source": [
        "city = {'name': 'Chicago', 'population': 2000000}\n",
        "key = 'population'\n",
        "city[key]"
      ]
    },
    {
      "cell_type": "markdown",
      "metadata": {
        "id": "6skOQZWyWJ7S"
      },
      "source": [
        "Next, let's turn this into a function."
      ]
    },
    {
      "cell_type": "code",
      "execution_count": 27,
      "metadata": {
        "id": "AToJqueUWJ7S"
      },
      "outputs": [],
      "source": [
        "def get_value_from_chicago(key):\n",
        "    city = {'name': 'Chicago', 'population': 2000000}\n",
        "    return city[key]"
      ]
    },
    {
      "cell_type": "code",
      "execution_count": 28,
      "metadata": {
        "id": "i6_2V3zxWJ7S",
        "outputId": "8500895c-004c-4fc5-b67c-7ec026334413",
        "colab": {
          "base_uri": "https://localhost:8080/",
          "height": 35
        }
      },
      "outputs": [
        {
          "output_type": "execute_result",
          "data": {
            "text/plain": [
              "'Chicago'"
            ],
            "application/vnd.google.colaboratory.intrinsic+json": {
              "type": "string"
            }
          },
          "metadata": {},
          "execution_count": 28
        }
      ],
      "source": [
        "get_value_from_chicago('name')\n",
        "# 'Chicago'"
      ]
    },
    {
      "cell_type": "markdown",
      "metadata": {
        "id": "DWMYJwoeWJ7S"
      },
      "source": [
        "Fill in the code below so that it returns the value `2000000`."
      ]
    },
    {
      "cell_type": "code",
      "execution_count": 30,
      "metadata": {
        "id": "_nOiTJYzWJ7S",
        "outputId": "c9807a92-a34a-42a4-d086-193f6de0ee20",
        "colab": {
          "base_uri": "https://localhost:8080/"
        }
      },
      "outputs": [
        {
          "output_type": "execute_result",
          "data": {
            "text/plain": [
              "2000000"
            ]
          },
          "metadata": {},
          "execution_count": 30
        }
      ],
      "source": [
        "get_value_from_chicago('population')\n",
        "# 2000000"
      ]
    },
    {
      "cell_type": "markdown",
      "metadata": {
        "id": "9cjNZEq4WJ7T"
      },
      "source": [
        "So if we can provide an argument to select a value from dictionary, we can also have our argument select a value from each dictionary in our list of cities.  "
      ]
    },
    {
      "cell_type": "markdown",
      "metadata": {
        "id": "VM4gnBbHWJ7T"
      },
      "source": [
        "> We'll start with getting our list of cities.\n",
        "> Press shift + return on the cell below."
      ]
    },
    {
      "cell_type": "code",
      "execution_count": 31,
      "metadata": {
        "id": "4eoGWCXeWJ7T"
      },
      "outputs": [],
      "source": [
        "import pandas as pd\n",
        "def gather_cities():\n",
        "    url = 'https://en.wikipedia.org/wiki/List_of_United_States_cities_by_population'\n",
        "    tables = pd.read_html(url)\n",
        "    cities_table = tables[4]\n",
        "    cities = cities_table.to_dict('records')\n",
        "    return cities\n",
        "\n",
        "cities = gather_cities()"
      ]
    },
    {
      "cell_type": "markdown",
      "metadata": {
        "id": "LkX5mgeJWJ7T"
      },
      "source": [
        "Now in our updated `get_values` function below, when we go through all of our dictionaries, we can specify the `key` we want to select each time.  Pay special attention to the `city_pop = each_city[key]` line."
      ]
    },
    {
      "cell_type": "markdown",
      "metadata": {
        "id": "wlOG56gZWJ7T"
      },
      "source": [
        "> Get an audio walkthrough of the below code [by clicking here.](https://storage.googleapis.com/curriculum-assets/curriculum-assets.nosync/mom-files/select-all-arg.wav)"
      ]
    },
    {
      "cell_type": "code",
      "execution_count": 32,
      "metadata": {
        "id": "PPKo5nrnWJ7U"
      },
      "outputs": [],
      "source": [
        "def get_values(key):\n",
        "    populations = []\n",
        "\n",
        "    for each_city in cities:\n",
        "        city_pop = each_city[key]\n",
        "        populations.append(city_pop)\n",
        "    return populations"
      ]
    },
    {
      "cell_type": "markdown",
      "metadata": {
        "id": "pM83b3YqWJ7U"
      },
      "source": [
        "So now when we call our function, we can specify what `key` is equal to as the function loops through the list of cities."
      ]
    },
    {
      "cell_type": "code",
      "execution_count": 33,
      "metadata": {
        "id": "1dv-jr9JWJ7U",
        "outputId": "88161eba-5591-4068-f5c9-b627cf64445d",
        "colab": {
          "base_uri": "https://localhost:8080/"
        }
      },
      "outputs": [
        {
          "output_type": "execute_result",
          "data": {
            "text/plain": [
              "['New York[d]', 'Los Angeles']"
            ]
          },
          "metadata": {},
          "execution_count": 33
        }
      ],
      "source": [
        "city_names = get_values('City')\n",
        "city_names[:2]"
      ]
    },
    {
      "cell_type": "code",
      "execution_count": 38,
      "metadata": {
        "id": "MnQHiv4XWJ7V",
        "outputId": "90404453-c49e-4a68-9855-5b1dc4c15876",
        "colab": {
          "base_uri": "https://localhost:8080/"
        }
      },
      "outputs": [
        {
          "output_type": "execute_result",
          "data": {
            "text/plain": [
              "[8335897, 3822238]"
            ]
          },
          "metadata": {},
          "execution_count": 38
        }
      ],
      "source": [
        "populations = get_values('2022 estimate')\n",
        "populations[:2]"
      ]
    },
    {
      "cell_type": "markdown",
      "metadata": {
        "id": "RFdaEmZ1WJ7W"
      },
      "source": [
        "Call `get_values` with the string `'Change'` to select the list of percentage changes from each dictionary."
      ]
    },
    {
      "cell_type": "code",
      "execution_count": 40,
      "metadata": {
        "id": "hVSQDkSYWJ7W",
        "outputId": "8c4b4e1e-21cd-4d57-f3e0-fc5f5728220a",
        "colab": {
          "base_uri": "https://localhost:8080/"
        }
      },
      "outputs": [
        {
          "output_type": "execute_result",
          "data": {
            "text/plain": [
              "['−5.32%',\n",
              " '−1.96%',\n",
              " '−2.96%',\n",
              " '−0.07%',\n",
              " '+2.26%',\n",
              " '−2.28%',\n",
              " '+2.67%',\n",
              " '−0.42%',\n",
              " '−0.37%',\n",
              " '+1.31%',\n",
              " '+2.29%',\n",
              " '−4.15%',\n",
              " '+4.11%',\n",
              " '+0.25%',\n",
              " '+2.65%',\n",
              " '−0.79%',\n",
              " '−7.50%',\n",
              " '+1.66%',\n",
              " '−0.32%',\n",
              " '+2.02%',\n",
              " '−0.84%',\n",
              " '−0.20%',\n",
              " '−2.57%',\n",
              " '+2.24%',\n",
              " '−3.69%',\n",
              " '−2.67%',\n",
              " '−1.36%',\n",
              " '−1.90%',\n",
              " '−2.93%',\n",
              " '−2.69%',\n",
              " '−2.41%',\n",
              " '−0.63%',\n",
              " '+0.73%',\n",
              " '+0.64%',\n",
              " '+0.58%',\n",
              " '+1.63%',\n",
              " '+0.24%',\n",
              " '+0.08%',\n",
              " '+1.52%',\n",
              " '−0.18%',\n",
              " '+1.91%',\n",
              " '−0.84%',\n",
              " '−3.31%',\n",
              " '+1.64%',\n",
              " '−2.29%',\n",
              " '−1.13%',\n",
              " '−0.29%',\n",
              " '+1.78%',\n",
              " '+3.43%',\n",
              " '−0.34%',\n",
              " '+0.09%',\n",
              " '+1.88%',\n",
              " '−3.71%',\n",
              " '−2.96%',\n",
              " '−0.68%',\n",
              " '−2.15%',\n",
              " '+4.35%',\n",
              " '+0.32%',\n",
              " '+1.83%',\n",
              " '−0.69%',\n",
              " '−0.51%',\n",
              " '+2.77%',\n",
              " '+1.96%',\n",
              " '+0.06%',\n",
              " '−0.66%',\n",
              " '−1.99%',\n",
              " '−2.68%',\n",
              " '−0.02%',\n",
              " '+0.70%',\n",
              " '+0.53%',\n",
              " '+2.97%',\n",
              " '+1.42%',\n",
              " '−1.41%',\n",
              " '−1.98%',\n",
              " '−4.97%',\n",
              " '+1.71%',\n",
              " '+6.86%',\n",
              " '+1.34%',\n",
              " '−0.67%',\n",
              " '+2.77%',\n",
              " '+3.51%',\n",
              " '+1.14%',\n",
              " '+1.53%',\n",
              " '−1.69%',\n",
              " '+2.64%',\n",
              " '+1.14%',\n",
              " '+0.38%',\n",
              " '−0.77%',\n",
              " '+1.23%',\n",
              " '+1.53%',\n",
              " '+0.72%',\n",
              " '+0.70%',\n",
              " '−2.10%',\n",
              " '+0.40%',\n",
              " '−2.10%',\n",
              " '+13.15%',\n",
              " '+0.51%',\n",
              " '+1.23%',\n",
              " '−2.88%',\n",
              " '+3.22%',\n",
              " '+1.11%',\n",
              " '−2.65%',\n",
              " '−3.20%',\n",
              " '−0.80%',\n",
              " '−1.26%',\n",
              " '+9.51%',\n",
              " '−0.18%',\n",
              " '+11.84%',\n",
              " '+1.96%',\n",
              " '+1.58%',\n",
              " '−1.45%',\n",
              " '−0.94%',\n",
              " '+0.18%',\n",
              " '−1.63%',\n",
              " '+6.25%',\n",
              " '−0.58%',\n",
              " '+2.47%',\n",
              " '+0.13%',\n",
              " '−2.08%',\n",
              " '+0.01%',\n",
              " '+4.97%',\n",
              " '+2.93%',\n",
              " '+2.84%',\n",
              " '+0.45%',\n",
              " '−0.82%',\n",
              " '+3.60%',\n",
              " '+0.25%',\n",
              " '−1.80%',\n",
              " '−1.90%',\n",
              " '−1.01%',\n",
              " '+2.70%',\n",
              " '+1.88%',\n",
              " '−2.21%',\n",
              " '−0.72%',\n",
              " '+1.42%',\n",
              " '−3.73%',\n",
              " '−1.03%',\n",
              " '+2.97%',\n",
              " '−1.04%',\n",
              " '+1.65%',\n",
              " '−2.01%',\n",
              " '+0.21%',\n",
              " '+3.24%',\n",
              " '−3.97%',\n",
              " '+2.17%',\n",
              " '+0.72%',\n",
              " '−1.48%',\n",
              " '+0.81%',\n",
              " '+1.11%',\n",
              " '−0.53%',\n",
              " '+6.15%',\n",
              " '+1.08%',\n",
              " '−1.07%',\n",
              " '+0.53%',\n",
              " '−0.76%',\n",
              " '−1.57%',\n",
              " '−0.33%',\n",
              " '−2.50%',\n",
              " '−3.53%',\n",
              " '+6.30%',\n",
              " '−1.54%',\n",
              " '+1.55%',\n",
              " '+3.97%',\n",
              " '−3.80%',\n",
              " '−1.92%',\n",
              " '−0.73%',\n",
              " '+0.09%',\n",
              " '−2.47%',\n",
              " '+4.77%',\n",
              " '+7.72%',\n",
              " '−1.20%',\n",
              " '+2.29%',\n",
              " '−2.08%',\n",
              " '−1.74%',\n",
              " '+0.60%',\n",
              " '−0.27%',\n",
              " '+7.50%',\n",
              " '−0.51%',\n",
              " '−0.22%',\n",
              " '+0.26%',\n",
              " '−0.19%',\n",
              " '+0.15%',\n",
              " '−1.47%',\n",
              " '−2.82%',\n",
              " '−1.31%',\n",
              " '−3.75%',\n",
              " '−5.01%',\n",
              " '+3.06%',\n",
              " '+2.93%',\n",
              " '+1.67%',\n",
              " '−2.81%',\n",
              " '+3.97%',\n",
              " '+1.83%',\n",
              " '+1.00%',\n",
              " '−4.04%',\n",
              " '−2.14%',\n",
              " '+2.24%',\n",
              " '+3.22%',\n",
              " '+3.65%',\n",
              " '+0.65%',\n",
              " '+1.86%',\n",
              " '+1.79%',\n",
              " '−1.64%',\n",
              " '−2.55%',\n",
              " '−0.93%',\n",
              " '+0.53%',\n",
              " '−2.67%',\n",
              " '−1.24%',\n",
              " '+1.45%',\n",
              " '−1.61%',\n",
              " '−2.20%',\n",
              " '−3.24%',\n",
              " '+0.29%',\n",
              " '−0.76%',\n",
              " '−1.32%',\n",
              " '+4.33%',\n",
              " '+17.34%',\n",
              " '+10.29%',\n",
              " '+1.25%',\n",
              " '+7.91%',\n",
              " '+0.98%',\n",
              " '+1.82%',\n",
              " '+1.76%',\n",
              " '+0.89%',\n",
              " '−0.56%',\n",
              " '+6.05%',\n",
              " '−0.90%',\n",
              " '−0.60%',\n",
              " '+3.69%',\n",
              " '−1.55%',\n",
              " '+3.16%',\n",
              " '−2.13%',\n",
              " '−2.00%',\n",
              " '−2.22%',\n",
              " '+0.40%',\n",
              " '−2.27%',\n",
              " '+0.01%',\n",
              " '−1.47%',\n",
              " '+3.00%',\n",
              " '−0.30%',\n",
              " '+4.22%',\n",
              " '+6.60%',\n",
              " '+2.43%',\n",
              " '−3.21%',\n",
              " '−0.45%',\n",
              " '−4.32%',\n",
              " '−0.56%',\n",
              " '+3.27%',\n",
              " '+0.07%',\n",
              " '+3.85%',\n",
              " '−0.23%',\n",
              " '−0.25%',\n",
              " '−1.32%',\n",
              " '+0.90%',\n",
              " '−0.02%',\n",
              " '−0.43%',\n",
              " '+0.88%',\n",
              " '+0.54%',\n",
              " '−1.53%',\n",
              " '−1.84%',\n",
              " '−0.51%',\n",
              " '+2.25%',\n",
              " '+2.55%',\n",
              " '−1.68%',\n",
              " '−1.42%',\n",
              " '−0.98%',\n",
              " '−1.41%',\n",
              " '−1.33%',\n",
              " '−0.09%',\n",
              " '+0.23%',\n",
              " '−2.77%',\n",
              " '+1.59%',\n",
              " '−2.30%',\n",
              " '+6.62%',\n",
              " '−0.38%',\n",
              " '+0.64%',\n",
              " '+3.46%',\n",
              " '−1.88%',\n",
              " '+10.73%',\n",
              " '+11.05%',\n",
              " '−1.02%',\n",
              " '+0.38%',\n",
              " '−3.87%',\n",
              " '+4.42%',\n",
              " '−1.12%',\n",
              " '−2.14%',\n",
              " '−1.45%',\n",
              " '+6.70%',\n",
              " '+3.10%',\n",
              " '+0.72%',\n",
              " '+0.38%',\n",
              " '+3.88%',\n",
              " '−0.29%',\n",
              " '−2.06%',\n",
              " '+2.43%',\n",
              " '−0.21%',\n",
              " '+4.22%',\n",
              " '+0.80%',\n",
              " '+0.78%',\n",
              " '−1.21%',\n",
              " '−2.35%',\n",
              " '+15.37%',\n",
              " '−2.55%',\n",
              " '+10.61%',\n",
              " '−3.78%',\n",
              " '−4.10%',\n",
              " '−0.77%',\n",
              " '+15.82%',\n",
              " '−1.70%',\n",
              " '+4.04%',\n",
              " '−2.56%',\n",
              " '−3.18%',\n",
              " '−3.84%',\n",
              " '−0.46%',\n",
              " '+2.33%',\n",
              " '+4.11%',\n",
              " '−0.40%',\n",
              " '−0.33%',\n",
              " '+0.34%',\n",
              " '+7.53%',\n",
              " '+3.02%',\n",
              " '+2.21%',\n",
              " '−0.46%',\n",
              " '+0.09%',\n",
              " '+12.73%',\n",
              " '−0.17%',\n",
              " '−4.43%',\n",
              " '−0.36%',\n",
              " '+1.61%',\n",
              " '+0.93%',\n",
              " '−0.39%',\n",
              " '−1.22%',\n",
              " '−4.67%']"
            ]
          },
          "metadata": {},
          "execution_count": 40
        }
      ],
      "source": [
        "get_values('Change')"
      ]
    },
    {
      "cell_type": "markdown",
      "metadata": {
        "id": "JSeVGKLvWJ7W"
      },
      "source": [
        "Now that we have a function that can return a list of values, we update our function so that it no longer defines it's variables as populations."
      ]
    },
    {
      "cell_type": "markdown",
      "metadata": {
        "id": "dJgB-gjWWJ7W"
      },
      "source": [
        "So we'll change our code from this:\n",
        "\n",
        "```python\n",
        "def get_values(key):\n",
        "    populations = []\n",
        "\n",
        "    for each_city in cities:\n",
        "        city_pop = each_city[key]\n",
        "        populations.append(city_pop)\n",
        "    return populations\n",
        "```"
      ]
    },
    {
      "cell_type": "markdown",
      "metadata": {
        "id": "T-tJzCxHWJ7W"
      },
      "source": [
        "To this:"
      ]
    },
    {
      "cell_type": "code",
      "execution_count": 41,
      "metadata": {
        "id": "Bhha26fXWJ7W"
      },
      "outputs": [],
      "source": [
        "def get_values(key):\n",
        "    values = []\n",
        "\n",
        "    for each_city in cities:\n",
        "    # {'City': 'Chicago', 'Population': 80000000}\n",
        "        value = each_city[key]\n",
        "        values.append(value)\n",
        "    return values"
      ]
    },
    {
      "cell_type": "markdown",
      "metadata": {
        "id": "0ZnaplHnWJ7X"
      },
      "source": [
        "### Wrapping Up"
      ]
    },
    {
      "cell_type": "markdown",
      "metadata": {
        "id": "k2XchgaSWJ7X"
      },
      "source": [
        "Notice that now that we have these functions, we go to collecting and plotting our data in just a few lines of code."
      ]
    },
    {
      "cell_type": "code",
      "execution_count": 44,
      "metadata": {
        "id": "sSK1xgk7WJ7X",
        "outputId": "69b90a9f-a40f-4532-a2e1-1edac45660d7",
        "colab": {
          "base_uri": "https://localhost:8080/",
          "height": 542
        }
      },
      "outputs": [
        {
          "output_type": "display_data",
          "data": {
            "text/html": [
              "<html>\n",
              "<head><meta charset=\"utf-8\" /></head>\n",
              "<body>\n",
              "    <div>            <script src=\"https://cdnjs.cloudflare.com/ajax/libs/mathjax/2.7.5/MathJax.js?config=TeX-AMS-MML_SVG\"></script><script type=\"text/javascript\">if (window.MathJax && window.MathJax.Hub && window.MathJax.Hub.Config) {window.MathJax.Hub.Config({SVG: {font: \"STIX-Web\"}});}</script>                <script type=\"text/javascript\">window.PlotlyConfig = {MathJaxConfig: 'local'};</script>\n",
              "        <script charset=\"utf-8\" src=\"https://cdn.plot.ly/plotly-2.24.1.min.js\"></script>                <div id=\"dfec3f73-6f92-4a02-ba23-c2c98a0f389f\" class=\"plotly-graph-div\" style=\"height:525px; width:100%;\"></div>            <script type=\"text/javascript\">                                    window.PLOTLYENV=window.PLOTLYENV || {};                                    if (document.getElementById(\"dfec3f73-6f92-4a02-ba23-c2c98a0f389f\")) {                    Plotly.newPlot(                        \"dfec3f73-6f92-4a02-ba23-c2c98a0f389f\",                        [{\"hovertext\":[\"New York[d]\",\"Los Angeles\",\"Chicago\",\"Houston\",\"Phoenix\",\"Philadelphia[e]\",\"San Antonio\",\"San Diego\",\"Dallas\",\"Austin\",\"Jacksonville[f]\",\"San Jose\",\"Fort Worth\",\"Columbus\",\"Charlotte\",\"Indianapolis[g]\",\"San Francisco[h]\",\"Seattle\",\"Denver[i]\",\"Oklahoma City\",\"Nashville[j]\",\"El Paso\",\"Washington[k]\",\"Las Vegas\",\"Boston\",\"Portland\",\"Louisville[l]\",\"Memphis\",\"Detroit\",\"Baltimore[m]\",\"Milwaukee\",\"Albuquerque\",\"Tucson\",\"Fresno\",\"Sacramento\",\"Mesa\",\"Kansas City\",\"Atlanta\",\"Colorado Springs\",\"Omaha\",\"Raleigh\",\"Virginia Beach[m]\",\"Long Beach\",\"Miami\",\"Oakland\",\"Minneapolis\",\"Tulsa\",\"Bakersfield\",\"Tampa\",\"Wichita\",\"Arlington\",\"Aurora\",\"New Orleans[n]\",\"Cleveland\",\"Anaheim\",\"Honolulu[o]\",\"Henderson\",\"Stockton\",\"Riverside\",\"Lexington[p]\",\"Corpus Christi\",\"Orlando\",\"Irvine\",\"Cincinnati\",\"Santa Ana\",\"Newark\",\"Saint Paul\",\"Pittsburgh\",\"Greensboro\",\"Lincoln\",\"Durham\",\"Plano\",\"Anchorage[q]\",\"Jersey City\",\"St. Louis[m]\",\"Chandler\",\"North Las Vegas\",\"Chula Vista\",\"Buffalo\",\"Gilbert[r]\",\"Reno\",\"Madison\",\"Fort Wayne\",\"Toledo\",\"Lubbock\",\"St. Petersburg\",\"Laredo\",\"Irving\",\"Chesapeake[m]\",\"Glendale\",\"Winston-Salem\",\"Scottsdale\",\"Garland\",\"Boise[s]\",\"Norfolk[m]\",\"Port St. Lucie\",\"Spokane\",\"Richmond[m]\",\"Fremont\",\"Huntsville\",\"Tacoma\",\"Baton Rouge[t]\",\"Santa Clarita\",\"San Bernardino\",\"Hialeah\",\"Frisco\",\"Modesto\",\"Cape Coral\",\"Fontana\",\"Moreno Valley\",\"Des Moines\",\"Rochester\",\"Fayetteville\",\"Yonkers\",\"McKinney\",\"Worcester\",\"Salt Lake City\",\"Little Rock\",\"Columbus[u]\",\"Augusta[v]\",\"Sioux Falls\",\"Grand Prairie\",\"Tallahassee\",\"Amarillo\",\"Oxnard\",\"Peoria\",\"Overland Park\",\"Montgomery\",\"Birmingham\",\"Grand Rapids\",\"Knoxville\",\"Vancouver\",\"Huntington Beach\",\"Providence\",\"Brownsville\",\"Glendale\",\"Akron\",\"Tempe\",\"Newport News[m]\",\"Chattanooga\",\"Mobile\",\"Fort Lauderdale\",\"Cary\",\"Shreveport\",\"Ontario\",\"Eugene\",\"Aurora\",\"Elk Grove\",\"Salem\",\"Santa Rosa\",\"Clarksville\",\"Rancho Cucamonga\",\"Oceanside\",\"Springfield\",\"Pembroke Pines\",\"Garden Grove\",\"Fort Collins\",\"Lancaster\",\"Palmdale\",\"Murfreesboro\",\"Salinas\",\"Corona\",\"Killeen\",\"Hayward\",\"Paterson\",\"Macon[w]\",\"Lakewood\",\"Alexandria[m]\",\"Roseville\",\"Surprise\",\"Springfield\",\"Charleston\",\"Kansas City[x]\",\"Sunnyvale\",\"Bellevue\",\"Hollywood\",\"Denton\",\"Escondido\",\"Joliet\",\"Naperville\",\"Bridgeport\",\"Savannah\",\"Mesquite\",\"Pasadena\",\"Rockford\",\"Pomona\",\"Jackson\",\"Olathe\",\"Gainesville\",\"McAllen\",\"Syracuse\",\"Waco\",\"Visalia\",\"Thornton\",\"Torrance\",\"Fullerton\",\"Columbia\",\"Lakewood\",\"New Haven\",\"Hampton[m]\",\"Miramar\",\"Victorville\",\"Warren\",\"West Valley City\",\"Cedar Rapids\",\"Stamford\",\"Orange\",\"Dayton\",\"Midland\",\"Kent\",\"Elizabeth\",\"Pasadena\",\"Carrollton\",\"Coral Springs\",\"Sterling Heights\",\"Fargo\",\"Lewisville\",\"Meridian\",\"Norman\",\"Palm Bay\",\"Athens[y]\",\"Columbia\",\"Abilene\",\"Pearland\",\"Santa Clara\",\"Round Rock\",\"Topeka\",\"Allentown\",\"Clovis\",\"Simi Valley\",\"College Station\",\"Thousand Oaks\",\"Vallejo\",\"Concord\",\"Rochester\",\"Arvada\",\"Lafayette[z]\",\"Independence\",\"West Palm Beach\",\"Hartford\",\"Wilmington\",\"Lakeland\",\"Billings\",\"Ann Arbor\",\"Fairfield\",\"Berkeley\",\"Richardson\",\"North Charleston\",\"Cambridge\",\"Broken Arrow\",\"Clearwater\",\"West Jordan\",\"Evansville\",\"League City\",\"Antioch\",\"Manchester\",\"High Point\",\"Waterbury\",\"Westminster\",\"Richmond\",\"Carlsbad\",\"Las Cruces\",\"Murrieta\",\"Lowell\",\"Provo\",\"Springfield\",\"Elgin\",\"Odessa\",\"Lansing\",\"Pompano Beach\",\"Beaumont\",\"Temecula\",\"Gresham\",\"Allen\",\"Pueblo\",\"Everett\",\"South Fulton\",\"Peoria\",\"Nampa\",\"Tuscaloosa\",\"Miami Gardens\",\"Santa Maria\",\"Downey\",\"Concord\",\"Ventura[aa]\",\"Costa Mesa\",\"Sugar Land\",\"Menifee\",\"Tyler\",\"Sparks\",\"Greeley\",\"Rio Rancho\",\"Sandy Springs\",\"Dearborn\",\"Jurupa Valley\",\"Edison\",\"Spokane Valley\",\"Hillsboro\",\"Davie\",\"Green Bay\",\"Centennial\",\"Buckeye\",\"Boulder\",\"Goodyear\",\"El Monte\",\"West Covina\",\"Brockton\",\"New Braunfels\",\"El Cajon\",\"Edinburg\",\"Renton\",\"Burbank\",\"Inglewood\",\"Rialto\",\"Lee's Summit\",\"Bend\",\"Woodbridge\",\"South Bend\",\"Wichita Falls\",\"St. George\",\"Fishers\",\"Carmel\",\"Vacaville\",\"Quincy\",\"Conroe\",\"Chico\",\"San Mateo\",\"Lynn\",\"Albany\",\"Hesperia\",\"New Bedford\",\"Davenport\",\"Daly City\"],\"mode\":\"markers\",\"y\":[8335897,3822238,2665039,2302878,1644409,1567258,1472909,1381162,1299544,974447,971319,971233,956709,907971,897720,880621,808437,749256,713252,694800,683622,677456,671803,656274,650706,635067,624444,621056,620376,569931,563305,561008,546574,545567,528001,512498,509297,499127,486248,485153,476587,455618,451307,449514,430553,425096,411867,410647,398173,396192,394602,393537,369749,361607,344461,343421,331415,321819,320764,320347,316239,316081,313685,309513,308189,305344,303176,302898,301115,292627,291928,289547,287145,286670,286578,280711,280543,279170,276486,275346,273448,272903,267927,266301,263930,261256,256187,254715,252488,252136,251350,243050,240854,236634,232995,231790,230160,229395,223871,221933,221776,221453,221345,220328,220292,219587,218069,216992,212475,211924,211034,209352,208873,208121,207507,205319,204657,202864,202616,202096,202078,201843,201731,201291,200415,197866,197726,196986,196910,196908,195889,194512,194310,189563,189382,189221,188509,185950,184306,184086,183289,183146,180388,180153,179061,177923,177866,177558,177487,177181,176974,176336,172199,170067,169876,169254,169249,169185,163463,162398,161020,159567,159172,156754,156661,156197,156120,155525,154817,154198,154064,153672,153345,153091,152767,152650,150353,150270,150033,149936,148377,148004,147899,147662,146713,146017,145995,145616,145214,144579,144451,143984,143966,143282,141126,140541,139698,139506,138915,138037,137228,137221,137107,136650,136429,136188,136178,135944,134444,134392,134283,134211,133820,133369,132567,131444,131215,129736,129627,129234,128561,128555,127385,126949,126930,126697,125449,125094,124556,124398,124319,124265,123564,122625,121878,121581,121389,121202,120932,120686,120324,120071,119960,119875,119338,118950,118802,118608,118488,117911,117027,116664,115749,115418,115264,115141,115067,115016,114533,114301,114160,113888,113783,113608,113523,113273,113177,112906,112537,112302,112089,111752,111621,111551,111456,111337,111158,111021,110951,110602,110497,110125,109934,109896,109527,109521,109414,109399,109286,109226,109209,108082,107763,107710,107609,107361,107325,107299,106513,106095,105865,105567,105485,105406,105312,105013,104826,104707,104414,104294,104047,103920,103621,103545,103465,103254,103229,103110,102664,102519,101966,101964,101918,101727,101405,101299,100984,100891,100826,100744,100682,100486,100007],\"type\":\"scatter\"}],                        {\"template\":{\"data\":{\"histogram2dcontour\":[{\"type\":\"histogram2dcontour\",\"colorbar\":{\"outlinewidth\":0,\"ticks\":\"\"},\"colorscale\":[[0.0,\"#0d0887\"],[0.1111111111111111,\"#46039f\"],[0.2222222222222222,\"#7201a8\"],[0.3333333333333333,\"#9c179e\"],[0.4444444444444444,\"#bd3786\"],[0.5555555555555556,\"#d8576b\"],[0.6666666666666666,\"#ed7953\"],[0.7777777777777778,\"#fb9f3a\"],[0.8888888888888888,\"#fdca26\"],[1.0,\"#f0f921\"]]}],\"choropleth\":[{\"type\":\"choropleth\",\"colorbar\":{\"outlinewidth\":0,\"ticks\":\"\"}}],\"histogram2d\":[{\"type\":\"histogram2d\",\"colorbar\":{\"outlinewidth\":0,\"ticks\":\"\"},\"colorscale\":[[0.0,\"#0d0887\"],[0.1111111111111111,\"#46039f\"],[0.2222222222222222,\"#7201a8\"],[0.3333333333333333,\"#9c179e\"],[0.4444444444444444,\"#bd3786\"],[0.5555555555555556,\"#d8576b\"],[0.6666666666666666,\"#ed7953\"],[0.7777777777777778,\"#fb9f3a\"],[0.8888888888888888,\"#fdca26\"],[1.0,\"#f0f921\"]]}],\"heatmap\":[{\"type\":\"heatmap\",\"colorbar\":{\"outlinewidth\":0,\"ticks\":\"\"},\"colorscale\":[[0.0,\"#0d0887\"],[0.1111111111111111,\"#46039f\"],[0.2222222222222222,\"#7201a8\"],[0.3333333333333333,\"#9c179e\"],[0.4444444444444444,\"#bd3786\"],[0.5555555555555556,\"#d8576b\"],[0.6666666666666666,\"#ed7953\"],[0.7777777777777778,\"#fb9f3a\"],[0.8888888888888888,\"#fdca26\"],[1.0,\"#f0f921\"]]}],\"heatmapgl\":[{\"type\":\"heatmapgl\",\"colorbar\":{\"outlinewidth\":0,\"ticks\":\"\"},\"colorscale\":[[0.0,\"#0d0887\"],[0.1111111111111111,\"#46039f\"],[0.2222222222222222,\"#7201a8\"],[0.3333333333333333,\"#9c179e\"],[0.4444444444444444,\"#bd3786\"],[0.5555555555555556,\"#d8576b\"],[0.6666666666666666,\"#ed7953\"],[0.7777777777777778,\"#fb9f3a\"],[0.8888888888888888,\"#fdca26\"],[1.0,\"#f0f921\"]]}],\"contourcarpet\":[{\"type\":\"contourcarpet\",\"colorbar\":{\"outlinewidth\":0,\"ticks\":\"\"}}],\"contour\":[{\"type\":\"contour\",\"colorbar\":{\"outlinewidth\":0,\"ticks\":\"\"},\"colorscale\":[[0.0,\"#0d0887\"],[0.1111111111111111,\"#46039f\"],[0.2222222222222222,\"#7201a8\"],[0.3333333333333333,\"#9c179e\"],[0.4444444444444444,\"#bd3786\"],[0.5555555555555556,\"#d8576b\"],[0.6666666666666666,\"#ed7953\"],[0.7777777777777778,\"#fb9f3a\"],[0.8888888888888888,\"#fdca26\"],[1.0,\"#f0f921\"]]}],\"surface\":[{\"type\":\"surface\",\"colorbar\":{\"outlinewidth\":0,\"ticks\":\"\"},\"colorscale\":[[0.0,\"#0d0887\"],[0.1111111111111111,\"#46039f\"],[0.2222222222222222,\"#7201a8\"],[0.3333333333333333,\"#9c179e\"],[0.4444444444444444,\"#bd3786\"],[0.5555555555555556,\"#d8576b\"],[0.6666666666666666,\"#ed7953\"],[0.7777777777777778,\"#fb9f3a\"],[0.8888888888888888,\"#fdca26\"],[1.0,\"#f0f921\"]]}],\"mesh3d\":[{\"type\":\"mesh3d\",\"colorbar\":{\"outlinewidth\":0,\"ticks\":\"\"}}],\"scatter\":[{\"fillpattern\":{\"fillmode\":\"overlay\",\"size\":10,\"solidity\":0.2},\"type\":\"scatter\"}],\"parcoords\":[{\"type\":\"parcoords\",\"line\":{\"colorbar\":{\"outlinewidth\":0,\"ticks\":\"\"}}}],\"scatterpolargl\":[{\"type\":\"scatterpolargl\",\"marker\":{\"colorbar\":{\"outlinewidth\":0,\"ticks\":\"\"}}}],\"bar\":[{\"error_x\":{\"color\":\"#2a3f5f\"},\"error_y\":{\"color\":\"#2a3f5f\"},\"marker\":{\"line\":{\"color\":\"#E5ECF6\",\"width\":0.5},\"pattern\":{\"fillmode\":\"overlay\",\"size\":10,\"solidity\":0.2}},\"type\":\"bar\"}],\"scattergeo\":[{\"type\":\"scattergeo\",\"marker\":{\"colorbar\":{\"outlinewidth\":0,\"ticks\":\"\"}}}],\"scatterpolar\":[{\"type\":\"scatterpolar\",\"marker\":{\"colorbar\":{\"outlinewidth\":0,\"ticks\":\"\"}}}],\"histogram\":[{\"marker\":{\"pattern\":{\"fillmode\":\"overlay\",\"size\":10,\"solidity\":0.2}},\"type\":\"histogram\"}],\"scattergl\":[{\"type\":\"scattergl\",\"marker\":{\"colorbar\":{\"outlinewidth\":0,\"ticks\":\"\"}}}],\"scatter3d\":[{\"type\":\"scatter3d\",\"line\":{\"colorbar\":{\"outlinewidth\":0,\"ticks\":\"\"}},\"marker\":{\"colorbar\":{\"outlinewidth\":0,\"ticks\":\"\"}}}],\"scattermapbox\":[{\"type\":\"scattermapbox\",\"marker\":{\"colorbar\":{\"outlinewidth\":0,\"ticks\":\"\"}}}],\"scatterternary\":[{\"type\":\"scatterternary\",\"marker\":{\"colorbar\":{\"outlinewidth\":0,\"ticks\":\"\"}}}],\"scattercarpet\":[{\"type\":\"scattercarpet\",\"marker\":{\"colorbar\":{\"outlinewidth\":0,\"ticks\":\"\"}}}],\"carpet\":[{\"aaxis\":{\"endlinecolor\":\"#2a3f5f\",\"gridcolor\":\"white\",\"linecolor\":\"white\",\"minorgridcolor\":\"white\",\"startlinecolor\":\"#2a3f5f\"},\"baxis\":{\"endlinecolor\":\"#2a3f5f\",\"gridcolor\":\"white\",\"linecolor\":\"white\",\"minorgridcolor\":\"white\",\"startlinecolor\":\"#2a3f5f\"},\"type\":\"carpet\"}],\"table\":[{\"cells\":{\"fill\":{\"color\":\"#EBF0F8\"},\"line\":{\"color\":\"white\"}},\"header\":{\"fill\":{\"color\":\"#C8D4E3\"},\"line\":{\"color\":\"white\"}},\"type\":\"table\"}],\"barpolar\":[{\"marker\":{\"line\":{\"color\":\"#E5ECF6\",\"width\":0.5},\"pattern\":{\"fillmode\":\"overlay\",\"size\":10,\"solidity\":0.2}},\"type\":\"barpolar\"}],\"pie\":[{\"automargin\":true,\"type\":\"pie\"}]},\"layout\":{\"autotypenumbers\":\"strict\",\"colorway\":[\"#636efa\",\"#EF553B\",\"#00cc96\",\"#ab63fa\",\"#FFA15A\",\"#19d3f3\",\"#FF6692\",\"#B6E880\",\"#FF97FF\",\"#FECB52\"],\"font\":{\"color\":\"#2a3f5f\"},\"hovermode\":\"closest\",\"hoverlabel\":{\"align\":\"left\"},\"paper_bgcolor\":\"white\",\"plot_bgcolor\":\"#E5ECF6\",\"polar\":{\"bgcolor\":\"#E5ECF6\",\"angularaxis\":{\"gridcolor\":\"white\",\"linecolor\":\"white\",\"ticks\":\"\"},\"radialaxis\":{\"gridcolor\":\"white\",\"linecolor\":\"white\",\"ticks\":\"\"}},\"ternary\":{\"bgcolor\":\"#E5ECF6\",\"aaxis\":{\"gridcolor\":\"white\",\"linecolor\":\"white\",\"ticks\":\"\"},\"baxis\":{\"gridcolor\":\"white\",\"linecolor\":\"white\",\"ticks\":\"\"},\"caxis\":{\"gridcolor\":\"white\",\"linecolor\":\"white\",\"ticks\":\"\"}},\"coloraxis\":{\"colorbar\":{\"outlinewidth\":0,\"ticks\":\"\"}},\"colorscale\":{\"sequential\":[[0.0,\"#0d0887\"],[0.1111111111111111,\"#46039f\"],[0.2222222222222222,\"#7201a8\"],[0.3333333333333333,\"#9c179e\"],[0.4444444444444444,\"#bd3786\"],[0.5555555555555556,\"#d8576b\"],[0.6666666666666666,\"#ed7953\"],[0.7777777777777778,\"#fb9f3a\"],[0.8888888888888888,\"#fdca26\"],[1.0,\"#f0f921\"]],\"sequentialminus\":[[0.0,\"#0d0887\"],[0.1111111111111111,\"#46039f\"],[0.2222222222222222,\"#7201a8\"],[0.3333333333333333,\"#9c179e\"],[0.4444444444444444,\"#bd3786\"],[0.5555555555555556,\"#d8576b\"],[0.6666666666666666,\"#ed7953\"],[0.7777777777777778,\"#fb9f3a\"],[0.8888888888888888,\"#fdca26\"],[1.0,\"#f0f921\"]],\"diverging\":[[0,\"#8e0152\"],[0.1,\"#c51b7d\"],[0.2,\"#de77ae\"],[0.3,\"#f1b6da\"],[0.4,\"#fde0ef\"],[0.5,\"#f7f7f7\"],[0.6,\"#e6f5d0\"],[0.7,\"#b8e186\"],[0.8,\"#7fbc41\"],[0.9,\"#4d9221\"],[1,\"#276419\"]]},\"xaxis\":{\"gridcolor\":\"white\",\"linecolor\":\"white\",\"ticks\":\"\",\"title\":{\"standoff\":15},\"zerolinecolor\":\"white\",\"automargin\":true,\"zerolinewidth\":2},\"yaxis\":{\"gridcolor\":\"white\",\"linecolor\":\"white\",\"ticks\":\"\",\"title\":{\"standoff\":15},\"zerolinecolor\":\"white\",\"automargin\":true,\"zerolinewidth\":2},\"scene\":{\"xaxis\":{\"backgroundcolor\":\"#E5ECF6\",\"gridcolor\":\"white\",\"linecolor\":\"white\",\"showbackground\":true,\"ticks\":\"\",\"zerolinecolor\":\"white\",\"gridwidth\":2},\"yaxis\":{\"backgroundcolor\":\"#E5ECF6\",\"gridcolor\":\"white\",\"linecolor\":\"white\",\"showbackground\":true,\"ticks\":\"\",\"zerolinecolor\":\"white\",\"gridwidth\":2},\"zaxis\":{\"backgroundcolor\":\"#E5ECF6\",\"gridcolor\":\"white\",\"linecolor\":\"white\",\"showbackground\":true,\"ticks\":\"\",\"zerolinecolor\":\"white\",\"gridwidth\":2}},\"shapedefaults\":{\"line\":{\"color\":\"#2a3f5f\"}},\"annotationdefaults\":{\"arrowcolor\":\"#2a3f5f\",\"arrowhead\":0,\"arrowwidth\":1},\"geo\":{\"bgcolor\":\"white\",\"landcolor\":\"#E5ECF6\",\"subunitcolor\":\"white\",\"showland\":true,\"showlakes\":true,\"lakecolor\":\"white\"},\"title\":{\"x\":0.05},\"mapbox\":{\"style\":\"light\"}}}},                        {\"responsive\": true}                    ).then(function(){\n",
              "                            \n",
              "var gd = document.getElementById('dfec3f73-6f92-4a02-ba23-c2c98a0f389f');\n",
              "var x = new MutationObserver(function (mutations, observer) {{\n",
              "        var display = window.getComputedStyle(gd).display;\n",
              "        if (!display || display === 'none') {{\n",
              "            console.log([gd, 'removed!']);\n",
              "            Plotly.purge(gd);\n",
              "            observer.disconnect();\n",
              "        }}\n",
              "}});\n",
              "\n",
              "// Listen for the removal of the full notebook cells\n",
              "var notebookContainer = gd.closest('#notebook-container');\n",
              "if (notebookContainer) {{\n",
              "    x.observe(notebookContainer, {childList: true});\n",
              "}}\n",
              "\n",
              "// Listen for the clearing of the current output cell\n",
              "var outputEl = gd.closest('.output');\n",
              "if (outputEl) {{\n",
              "    x.observe(outputEl, {childList: true});\n",
              "}}\n",
              "\n",
              "                        })                };                            </script>        </div>\n",
              "</body>\n",
              "</html>"
            ]
          },
          "metadata": {}
        }
      ],
      "source": [
        "# cities = gather_cities()\n",
        "# cities[:2]\n",
        "\n",
        "city_names = get_values('City')\n",
        "city_pops = get_values('2022 estimate')\n",
        "\n",
        "plot_with_labels(city_pops, city_names)"
      ]
    },
    {
      "cell_type": "markdown",
      "metadata": {
        "id": "edjJgAmIWJ7X"
      },
      "source": [
        "## Summary"
      ]
    },
    {
      "cell_type": "markdown",
      "metadata": {
        "id": "5U3aYkLxWJ7X"
      },
      "source": [
        "In this lesson we saw how to work with function arguments.  Function arguments give flexibility to our functions, and allows our functions to perform the same operation on many different types of data.  \n",
        "\n",
        "Our pattern for function arguments is the following:"
      ]
    },
    {
      "cell_type": "code",
      "execution_count": 45,
      "metadata": {
        "id": "eu7h0qHqWJ7X"
      },
      "outputs": [],
      "source": [
        "def greet(person):\n",
        "    return print('hello ' + person)"
      ]
    },
    {
      "cell_type": "markdown",
      "metadata": {
        "id": "Mu1rkzK1WJ7Y"
      },
      "source": [
        "And then we specify the function argument each time we execute the function."
      ]
    },
    {
      "cell_type": "code",
      "execution_count": 46,
      "metadata": {
        "id": "nD5bPw-xWJ7Y",
        "outputId": "bc9d458f-4d88-4033-db52-727233dd9c57",
        "colab": {
          "base_uri": "https://localhost:8080/"
        }
      },
      "outputs": [
        {
          "output_type": "stream",
          "name": "stdout",
          "text": [
            "hello sam\n"
          ]
        }
      ],
      "source": [
        "greet('sam')"
      ]
    },
    {
      "cell_type": "markdown",
      "metadata": {
        "id": "QUpwb3egWJ7Z"
      },
      "source": [
        "We saw that if we can start with an inflexible ordinary function, and then add arguments to make it flexible.  A good way to do this, is to look for the hard coded values -- often involving numbers or a string."
      ]
    },
    {
      "cell_type": "code",
      "execution_count": 47,
      "metadata": {
        "id": "ZMPzbLT-WJ7Z"
      },
      "outputs": [],
      "source": [
        "def plot():\n",
        "    # replace our hard coded values [4, 5, 6]\n",
        "    scatter = go.Scatter(y = [4, 5, 6], mode = 'markers')\n",
        "    fig = go.Figure(data = scatter)\n",
        "    return fig"
      ]
    },
    {
      "cell_type": "code",
      "execution_count": 48,
      "metadata": {
        "id": "zOI_3S8OWJ7Z"
      },
      "outputs": [],
      "source": [
        "\n",
        "def plot(y_values):\n",
        "    scatter = go.Scatter(y = y_values, mode = 'markers')\n",
        "    fig = go.Figure(data = scatter)\n",
        "    return fig"
      ]
    },
    {
      "cell_type": "markdown",
      "metadata": {
        "id": "NCPnkQaDWJ7Z"
      },
      "source": [
        "<right>\n",
        "<a href=\"https://colab.research.google.com/github/jigsawlabs-student/code-intro/blob/master/13-code-to-codebase.ipynb\">\n",
        "<img src=\"https://storage.cloud.google.com/curriculum-assets/curriculum-assets.nosync/mom-files/pngfuel.com.png\" align=\"right\" style=\"padding-right: 20px\" width=\"10%\">\n",
        "    </a>\n",
        "</right>"
      ]
    },
    {
      "cell_type": "markdown",
      "metadata": {
        "id": "83CzCGSNWJ7Z"
      },
      "source": [
        "<center>\n",
        "<a href=\"https://www.jigsawlabs.io/free\" style=\"position: center\"><img src=\"https://storage.cloud.google.com/curriculum-assets/curriculum-assets.nosync/mom-files/jigsaw-labs.png\" width=\"15%\" style=\"text-align: center\"></a>\n",
        "</center>"
      ]
    }
  ],
  "metadata": {
    "kernelspec": {
      "display_name": "Python 3 (ipykernel)",
      "language": "python",
      "name": "python3"
    },
    "language_info": {
      "codemirror_mode": {
        "name": "ipython",
        "version": 3
      },
      "file_extension": ".py",
      "mimetype": "text/x-python",
      "name": "python",
      "nbconvert_exporter": "python",
      "pygments_lexer": "ipython3",
      "version": "3.9.7"
    },
    "colab": {
      "provenance": []
    }
  },
  "nbformat": 4,
  "nbformat_minor": 0
}