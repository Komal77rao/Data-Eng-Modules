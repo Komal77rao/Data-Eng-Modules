{
  "cells": [
    {
      "cell_type": "markdown",
      "metadata": {
        "id": "rBMt6mvKNT-P"
      },
      "source": [
        "# Belongs to Airbnb Lab"
      ]
    },
    {
      "cell_type": "markdown",
      "metadata": {
        "jp-MarkdownHeadingCollapsed": true,
        "tags": [],
        "id": "DIMZJc6nNT-a"
      },
      "source": [
        "### Introduction\n",
        "In this lab we will continue to explore the relationships between data in different tables of a database. The Airbnb database for this lab contains four tables, `hosts`, `listings`, `locations`, and `neighborhoods`. In order to understand and analyze the data, we need to first understand the relationships between the tables. Relationships include \"Has One\" and \"Has Many\". For example, the `listings` table has a column \"host_id\" which HAS ONE record in hosts table that it corresponds to (a listing will only have one host). The `locations` table has an id column which HAS MANY corresponding records in the `listings` table (a location will have more than one listing)."
      ]
    },
    {
      "cell_type": "markdown",
      "metadata": {
        "id": "BAqySkXwNT-e"
      },
      "source": [
        "Let's begin by connecting to the database and reviewing the schema of the tables."
      ]
    },
    {
      "cell_type": "markdown",
      "metadata": {
        "id": "VaJcho2bNT-h"
      },
      "source": [
        "### Loading Data"
      ]
    },
    {
      "cell_type": "code",
      "execution_count": 32,
      "metadata": {
        "colab": {
          "base_uri": "https://localhost:8080/",
          "height": 112
        },
        "id": "B6U2Pz4qNT-k",
        "outputId": "227ea692-6cf0-454c-85a9-48ad60c972a0"
      },
      "outputs": [
        {
          "output_type": "execute_result",
          "data": {
            "text/plain": [
              "   id        name neighbourhood_group\n",
              "0   0  Kensington            Brooklyn\n",
              "1   1     Midtown           Manhattan"
            ],
            "text/html": [
              "\n",
              "  <div id=\"df-95921ed1-8432-4656-862e-c0ec01272363\" class=\"colab-df-container\">\n",
              "    <div>\n",
              "<style scoped>\n",
              "    .dataframe tbody tr th:only-of-type {\n",
              "        vertical-align: middle;\n",
              "    }\n",
              "\n",
              "    .dataframe tbody tr th {\n",
              "        vertical-align: top;\n",
              "    }\n",
              "\n",
              "    .dataframe thead th {\n",
              "        text-align: right;\n",
              "    }\n",
              "</style>\n",
              "<table border=\"1\" class=\"dataframe\">\n",
              "  <thead>\n",
              "    <tr style=\"text-align: right;\">\n",
              "      <th></th>\n",
              "      <th>id</th>\n",
              "      <th>name</th>\n",
              "      <th>neighbourhood_group</th>\n",
              "    </tr>\n",
              "  </thead>\n",
              "  <tbody>\n",
              "    <tr>\n",
              "      <th>0</th>\n",
              "      <td>0</td>\n",
              "      <td>Kensington</td>\n",
              "      <td>Brooklyn</td>\n",
              "    </tr>\n",
              "    <tr>\n",
              "      <th>1</th>\n",
              "      <td>1</td>\n",
              "      <td>Midtown</td>\n",
              "      <td>Manhattan</td>\n",
              "    </tr>\n",
              "  </tbody>\n",
              "</table>\n",
              "</div>\n",
              "    <div class=\"colab-df-buttons\">\n",
              "\n",
              "  <div class=\"colab-df-container\">\n",
              "    <button class=\"colab-df-convert\" onclick=\"convertToInteractive('df-95921ed1-8432-4656-862e-c0ec01272363')\"\n",
              "            title=\"Convert this dataframe to an interactive table.\"\n",
              "            style=\"display:none;\">\n",
              "\n",
              "  <svg xmlns=\"http://www.w3.org/2000/svg\" height=\"24px\" viewBox=\"0 -960 960 960\">\n",
              "    <path d=\"M120-120v-720h720v720H120Zm60-500h600v-160H180v160Zm220 220h160v-160H400v160Zm0 220h160v-160H400v160ZM180-400h160v-160H180v160Zm440 0h160v-160H620v160ZM180-180h160v-160H180v160Zm440 0h160v-160H620v160Z\"/>\n",
              "  </svg>\n",
              "    </button>\n",
              "\n",
              "  <style>\n",
              "    .colab-df-container {\n",
              "      display:flex;\n",
              "      gap: 12px;\n",
              "    }\n",
              "\n",
              "    .colab-df-convert {\n",
              "      background-color: #E8F0FE;\n",
              "      border: none;\n",
              "      border-radius: 50%;\n",
              "      cursor: pointer;\n",
              "      display: none;\n",
              "      fill: #1967D2;\n",
              "      height: 32px;\n",
              "      padding: 0 0 0 0;\n",
              "      width: 32px;\n",
              "    }\n",
              "\n",
              "    .colab-df-convert:hover {\n",
              "      background-color: #E2EBFA;\n",
              "      box-shadow: 0px 1px 2px rgba(60, 64, 67, 0.3), 0px 1px 3px 1px rgba(60, 64, 67, 0.15);\n",
              "      fill: #174EA6;\n",
              "    }\n",
              "\n",
              "    .colab-df-buttons div {\n",
              "      margin-bottom: 4px;\n",
              "    }\n",
              "\n",
              "    [theme=dark] .colab-df-convert {\n",
              "      background-color: #3B4455;\n",
              "      fill: #D2E3FC;\n",
              "    }\n",
              "\n",
              "    [theme=dark] .colab-df-convert:hover {\n",
              "      background-color: #434B5C;\n",
              "      box-shadow: 0px 1px 3px 1px rgba(0, 0, 0, 0.15);\n",
              "      filter: drop-shadow(0px 1px 2px rgba(0, 0, 0, 0.3));\n",
              "      fill: #FFFFFF;\n",
              "    }\n",
              "  </style>\n",
              "\n",
              "    <script>\n",
              "      const buttonEl =\n",
              "        document.querySelector('#df-95921ed1-8432-4656-862e-c0ec01272363 button.colab-df-convert');\n",
              "      buttonEl.style.display =\n",
              "        google.colab.kernel.accessAllowed ? 'block' : 'none';\n",
              "\n",
              "      async function convertToInteractive(key) {\n",
              "        const element = document.querySelector('#df-95921ed1-8432-4656-862e-c0ec01272363');\n",
              "        const dataTable =\n",
              "          await google.colab.kernel.invokeFunction('convertToInteractive',\n",
              "                                                    [key], {});\n",
              "        if (!dataTable) return;\n",
              "\n",
              "        const docLinkHtml = 'Like what you see? Visit the ' +\n",
              "          '<a target=\"_blank\" href=https://colab.research.google.com/notebooks/data_table.ipynb>data table notebook</a>'\n",
              "          + ' to learn more about interactive tables.';\n",
              "        element.innerHTML = '';\n",
              "        dataTable['output_type'] = 'display_data';\n",
              "        await google.colab.output.renderOutput(dataTable, element);\n",
              "        const docLink = document.createElement('div');\n",
              "        docLink.innerHTML = docLinkHtml;\n",
              "        element.appendChild(docLink);\n",
              "      }\n",
              "    </script>\n",
              "  </div>\n",
              "\n",
              "\n",
              "<div id=\"df-9be74862-2f8f-4d65-9ba9-03168ea10ec4\">\n",
              "  <button class=\"colab-df-quickchart\" onclick=\"quickchart('df-9be74862-2f8f-4d65-9ba9-03168ea10ec4')\"\n",
              "            title=\"Suggest charts\"\n",
              "            style=\"display:none;\">\n",
              "\n",
              "<svg xmlns=\"http://www.w3.org/2000/svg\" height=\"24px\"viewBox=\"0 0 24 24\"\n",
              "     width=\"24px\">\n",
              "    <g>\n",
              "        <path d=\"M19 3H5c-1.1 0-2 .9-2 2v14c0 1.1.9 2 2 2h14c1.1 0 2-.9 2-2V5c0-1.1-.9-2-2-2zM9 17H7v-7h2v7zm4 0h-2V7h2v10zm4 0h-2v-4h2v4z\"/>\n",
              "    </g>\n",
              "</svg>\n",
              "  </button>\n",
              "\n",
              "<style>\n",
              "  .colab-df-quickchart {\n",
              "      --bg-color: #E8F0FE;\n",
              "      --fill-color: #1967D2;\n",
              "      --hover-bg-color: #E2EBFA;\n",
              "      --hover-fill-color: #174EA6;\n",
              "      --disabled-fill-color: #AAA;\n",
              "      --disabled-bg-color: #DDD;\n",
              "  }\n",
              "\n",
              "  [theme=dark] .colab-df-quickchart {\n",
              "      --bg-color: #3B4455;\n",
              "      --fill-color: #D2E3FC;\n",
              "      --hover-bg-color: #434B5C;\n",
              "      --hover-fill-color: #FFFFFF;\n",
              "      --disabled-bg-color: #3B4455;\n",
              "      --disabled-fill-color: #666;\n",
              "  }\n",
              "\n",
              "  .colab-df-quickchart {\n",
              "    background-color: var(--bg-color);\n",
              "    border: none;\n",
              "    border-radius: 50%;\n",
              "    cursor: pointer;\n",
              "    display: none;\n",
              "    fill: var(--fill-color);\n",
              "    height: 32px;\n",
              "    padding: 0;\n",
              "    width: 32px;\n",
              "  }\n",
              "\n",
              "  .colab-df-quickchart:hover {\n",
              "    background-color: var(--hover-bg-color);\n",
              "    box-shadow: 0 1px 2px rgba(60, 64, 67, 0.3), 0 1px 3px 1px rgba(60, 64, 67, 0.15);\n",
              "    fill: var(--button-hover-fill-color);\n",
              "  }\n",
              "\n",
              "  .colab-df-quickchart-complete:disabled,\n",
              "  .colab-df-quickchart-complete:disabled:hover {\n",
              "    background-color: var(--disabled-bg-color);\n",
              "    fill: var(--disabled-fill-color);\n",
              "    box-shadow: none;\n",
              "  }\n",
              "\n",
              "  .colab-df-spinner {\n",
              "    border: 2px solid var(--fill-color);\n",
              "    border-color: transparent;\n",
              "    border-bottom-color: var(--fill-color);\n",
              "    animation:\n",
              "      spin 1s steps(1) infinite;\n",
              "  }\n",
              "\n",
              "  @keyframes spin {\n",
              "    0% {\n",
              "      border-color: transparent;\n",
              "      border-bottom-color: var(--fill-color);\n",
              "      border-left-color: var(--fill-color);\n",
              "    }\n",
              "    20% {\n",
              "      border-color: transparent;\n",
              "      border-left-color: var(--fill-color);\n",
              "      border-top-color: var(--fill-color);\n",
              "    }\n",
              "    30% {\n",
              "      border-color: transparent;\n",
              "      border-left-color: var(--fill-color);\n",
              "      border-top-color: var(--fill-color);\n",
              "      border-right-color: var(--fill-color);\n",
              "    }\n",
              "    40% {\n",
              "      border-color: transparent;\n",
              "      border-right-color: var(--fill-color);\n",
              "      border-top-color: var(--fill-color);\n",
              "    }\n",
              "    60% {\n",
              "      border-color: transparent;\n",
              "      border-right-color: var(--fill-color);\n",
              "    }\n",
              "    80% {\n",
              "      border-color: transparent;\n",
              "      border-right-color: var(--fill-color);\n",
              "      border-bottom-color: var(--fill-color);\n",
              "    }\n",
              "    90% {\n",
              "      border-color: transparent;\n",
              "      border-bottom-color: var(--fill-color);\n",
              "    }\n",
              "  }\n",
              "</style>\n",
              "\n",
              "  <script>\n",
              "    async function quickchart(key) {\n",
              "      const quickchartButtonEl =\n",
              "        document.querySelector('#' + key + ' button');\n",
              "      quickchartButtonEl.disabled = true;  // To prevent multiple clicks.\n",
              "      quickchartButtonEl.classList.add('colab-df-spinner');\n",
              "      try {\n",
              "        const charts = await google.colab.kernel.invokeFunction(\n",
              "            'suggestCharts', [key], {});\n",
              "      } catch (error) {\n",
              "        console.error('Error during call to suggestCharts:', error);\n",
              "      }\n",
              "      quickchartButtonEl.classList.remove('colab-df-spinner');\n",
              "      quickchartButtonEl.classList.add('colab-df-quickchart-complete');\n",
              "    }\n",
              "    (() => {\n",
              "      let quickchartButtonEl =\n",
              "        document.querySelector('#df-9be74862-2f8f-4d65-9ba9-03168ea10ec4 button');\n",
              "      quickchartButtonEl.style.display =\n",
              "        google.colab.kernel.accessAllowed ? 'block' : 'none';\n",
              "    })();\n",
              "  </script>\n",
              "</div>\n",
              "    </div>\n",
              "  </div>\n"
            ]
          },
          "metadata": {},
          "execution_count": 32
        }
      ],
      "source": [
        "import pandas as pd\n",
        "neighborhoods_url = \"https://raw.githubusercontent.com/sql-fundamentals-jigsaw/mod-1-sql-curriculum/master/2-sql-relations/3-belongs-to-bnb/data/neighborhoods.csv\"\n",
        "hosts_url = \"https://raw.githubusercontent.com/sql-fundamentals-jigsaw/mod-1-sql-curriculum/master/2-sql-relations/3-belongs-to-bnb/data/hosts.csv\"\n",
        "locations_url = \"https://raw.githubusercontent.com/sql-fundamentals-jigsaw/mod-1-sql-curriculum/master/2-sql-relations/3-belongs-to-bnb/data/locations.csv\"\n",
        "listings_url = \"https://raw.githubusercontent.com/sql-fundamentals-jigsaw/mod-1-sql-curriculum/master/2-sql-relations/3-belongs-to-bnb/data/listings.csv\"\n",
        "\n",
        "\n",
        "hosts_df = pd.read_csv(hosts_url)\n",
        "neighborhoods_df = pd.read_csv(neighborhoods_url)\n",
        "\n",
        "locations_df = pd.read_csv(locations_url)\n",
        "listings_df = pd.read_csv(listings_url)\n",
        "neighborhoods_df[:2]"
      ]
    },
    {
      "cell_type": "code",
      "execution_count": 2,
      "metadata": {
        "id": "NBCJD4OvNT-7"
      },
      "outputs": [],
      "source": [
        "import sqlite3\n",
        "conn = sqlite3.connect('listings.db')\n",
        "cursor = conn.cursor()"
      ]
    },
    {
      "cell_type": "code",
      "execution_count": 3,
      "metadata": {
        "colab": {
          "base_uri": "https://localhost:8080/"
        },
        "id": "aSRo2_DPNT_A",
        "outputId": "fe4a6bb9-15f4-4355-d5e8-dc8c5ebfe3e5"
      },
      "outputs": [
        {
          "output_type": "execute_result",
          "data": {
            "text/plain": [
              "48895"
            ]
          },
          "metadata": {},
          "execution_count": 3
        }
      ],
      "source": [
        "hosts_df.to_sql('hosts',conn, index = False, if_exists = 'replace')\n",
        "neighborhoods_df.to_sql('neighborhoods',conn, index = False, if_exists = 'replace')\n",
        "locations_df.to_sql('locations',conn, index = False, if_exists = 'replace')\n",
        "listings_df.to_sql('listings', conn, index = False, if_exists = 'replace')"
      ]
    },
    {
      "cell_type": "markdown",
      "metadata": {
        "id": "nP6Ke9IINT_H"
      },
      "source": [
        "### Exploring Data"
      ]
    },
    {
      "cell_type": "code",
      "execution_count": 4,
      "metadata": {
        "colab": {
          "base_uri": "https://localhost:8080/"
        },
        "id": "__rKsmJQNT_J",
        "outputId": "4788fc8c-e345-4d89-9e9f-de84793ca93f"
      },
      "outputs": [
        {
          "output_type": "execute_result",
          "data": {
            "text/plain": [
              "[('hosts',), ('neighborhoods',), ('locations',), ('listings',)]"
            ]
          },
          "metadata": {},
          "execution_count": 4
        }
      ],
      "source": [
        "cursor.execute('SELECT name from sqlite_master where type= \"table\"')\n",
        "cursor.fetchall()"
      ]
    },
    {
      "cell_type": "code",
      "execution_count": 5,
      "metadata": {
        "colab": {
          "base_uri": "https://localhost:8080/"
        },
        "id": "wxtDSTLUNT_M",
        "outputId": "6a6ea1ea-1b8a-4043-ffe0-7126fb37acd7"
      },
      "outputs": [
        {
          "output_type": "execute_result",
          "data": {
            "text/plain": [
              "[(0, 'id', 'INTEGER', 0, None, 0), (1, 'host_name', 'TEXT', 0, None, 0)]"
            ]
          },
          "metadata": {},
          "execution_count": 5
        }
      ],
      "source": [
        "cursor.execute('PRAGMA table_info(hosts)')\n",
        "cursor.fetchall()"
      ]
    },
    {
      "cell_type": "code",
      "execution_count": 6,
      "metadata": {
        "colab": {
          "base_uri": "https://localhost:8080/"
        },
        "id": "aVwROyMrNT_N",
        "outputId": "5eeab52b-4b2f-4480-deb2-f7615ccd007d"
      },
      "outputs": [
        {
          "output_type": "execute_result",
          "data": {
            "text/plain": [
              "[(0, 'id', 'INTEGER', 0, None, 0),\n",
              " (1, 'name', 'TEXT', 0, None, 0),\n",
              " (2, 'neighbourhood_group', 'TEXT', 0, None, 0)]"
            ]
          },
          "metadata": {},
          "execution_count": 6
        }
      ],
      "source": [
        "cursor.execute('PRAGMA table_info(neighborhoods)')\n",
        "cursor.fetchall()"
      ]
    },
    {
      "cell_type": "code",
      "execution_count": 7,
      "metadata": {
        "colab": {
          "base_uri": "https://localhost:8080/"
        },
        "id": "NAbRdISvNT_N",
        "outputId": "eaaa6f2f-ba20-44cf-fd3c-0c915f765b2f"
      },
      "outputs": [
        {
          "output_type": "execute_result",
          "data": {
            "text/plain": [
              "[(0, 'id', 'INTEGER', 0, None, 0),\n",
              " (1, 'longitude', 'REAL', 0, None, 0),\n",
              " (2, 'latitude', 'REAL', 0, None, 0),\n",
              " (3, 'neighborhood_id', 'INTEGER', 0, None, 0)]"
            ]
          },
          "metadata": {},
          "execution_count": 7
        }
      ],
      "source": [
        "cursor.execute('PRAGMA table_info(locations)')\n",
        "cursor.fetchall()"
      ]
    },
    {
      "cell_type": "code",
      "execution_count": 8,
      "metadata": {
        "colab": {
          "base_uri": "https://localhost:8080/"
        },
        "id": "bxojH6aHNT_O",
        "outputId": "a420cc6b-5e0c-4166-e528-b1c1a2b0b678"
      },
      "outputs": [
        {
          "output_type": "execute_result",
          "data": {
            "text/plain": [
              "[(0, 'id', 'INTEGER', 0, None, 0),\n",
              " (1, 'name', 'TEXT', 0, None, 0),\n",
              " (2, 'host_id', 'INTEGER', 0, None, 0),\n",
              " (3, 'location_id', 'INTEGER', 0, None, 0),\n",
              " (4, 'number_of_reviews', 'INTEGER', 0, None, 0),\n",
              " (5, 'occupancy', 'INTEGER', 0, None, 0),\n",
              " (6, 'price', 'INTEGER', 0, None, 0),\n",
              " (7, 'room_type', 'TEXT', 0, None, 0),\n",
              " (8, 'host_listings_count', 'INTEGER', 0, None, 0)]"
            ]
          },
          "metadata": {},
          "execution_count": 8
        }
      ],
      "source": [
        "cursor.execute('PRAGMA table_info(listings)')\n",
        "cursor.fetchall()"
      ]
    },
    {
      "cell_type": "markdown",
      "metadata": {
        "id": "_GCgsfN3NT_P"
      },
      "source": [
        "We'll start off with some basic one table queries:"
      ]
    },
    {
      "cell_type": "markdown",
      "metadata": {
        "id": "qdHjiKSCNT_R"
      },
      "source": [
        "* Which listing name has the highest price?"
      ]
    },
    {
      "cell_type": "code",
      "execution_count": 24,
      "metadata": {
        "colab": {
          "base_uri": "https://localhost:8080/"
        },
        "id": "fJUMYZUVNT_S",
        "outputId": "ca46f798-5ff2-4230-9bc8-8ac3b8bf05fe"
      },
      "outputs": [
        {
          "output_type": "execute_result",
          "data": {
            "text/plain": [
              "[('Furnished room in Astoria apartment', 10000)]"
            ]
          },
          "metadata": {},
          "execution_count": 24
        }
      ],
      "source": [
        "query = \"\"\"\n",
        "select name, price from listings\n",
        "order by price desc\n",
        "limit 1\n",
        "\n",
        "\"\"\"\n",
        "\n",
        "\n",
        "\n",
        "cursor.execute(query)\n",
        "cursor.fetchall()\n",
        "\n",
        "# [('Furnished room in Astoria apartment',)]"
      ]
    },
    {
      "cell_type": "markdown",
      "metadata": {
        "id": "6ZIQnA9-NT_S"
      },
      "source": [
        "* What is the id of the location with the lowest longitude?"
      ]
    },
    {
      "cell_type": "code",
      "execution_count": 23,
      "metadata": {
        "colab": {
          "base_uri": "https://localhost:8080/"
        },
        "id": "WxrqKpxbNT_T",
        "outputId": "53f6a880-1996-4d84-b85b-2b4c786049b8"
      },
      "outputs": [
        {
          "output_type": "execute_result",
          "data": {
            "text/plain": [
              "[(45652,)]"
            ]
          },
          "metadata": {},
          "execution_count": 23
        }
      ],
      "source": [
        "query = \"\"\"\n",
        "select id from locations\n",
        "order by longitude\n",
        "limit 1\n",
        "\n",
        "\"\"\"\n",
        "\n",
        "\n",
        "\n",
        "cursor.execute(query)\n",
        "cursor.fetchall()\n",
        "\n",
        "# [(45652,)]"
      ]
    },
    {
      "cell_type": "markdown",
      "metadata": {
        "id": "C1zbF7pRNT_T"
      },
      "source": [
        "* What is the greatest occupancy of a listing?"
      ]
    },
    {
      "cell_type": "code",
      "execution_count": 26,
      "metadata": {
        "colab": {
          "base_uri": "https://localhost:8080/"
        },
        "id": "N6IrNAJMNT_T",
        "outputId": "05cdce7d-c149-4f5c-b469-98e20113ad6d"
      },
      "outputs": [
        {
          "output_type": "execute_result",
          "data": {
            "text/plain": [
              "[(365,)]"
            ]
          },
          "metadata": {},
          "execution_count": 26
        }
      ],
      "source": [
        "query = \"\"\"\n",
        "select occupancy from listings\n",
        "order by occupancy desc\n",
        "limit 1\n",
        "\n",
        "\"\"\"\n",
        "\n",
        "cursor.execute(query)\n",
        "cursor.fetchall()\n",
        "\n",
        "# [(365,)]"
      ]
    },
    {
      "cell_type": "markdown",
      "metadata": {
        "id": "Yp3cB3YmNT_T"
      },
      "source": [
        "* What is the average price of a listing?"
      ]
    },
    {
      "cell_type": "code",
      "execution_count": 27,
      "metadata": {
        "colab": {
          "base_uri": "https://localhost:8080/"
        },
        "id": "WResS7W6NT_T",
        "outputId": "a0876b37-ebdc-4d69-feaf-9ba8a0e4223c"
      },
      "outputs": [
        {
          "output_type": "execute_result",
          "data": {
            "text/plain": [
              "[(152.7206871868289,)]"
            ]
          },
          "metadata": {},
          "execution_count": 27
        }
      ],
      "source": [
        "query = \"\"\"\n",
        "select avg(price) from listings\n",
        "\"\"\"\n",
        "\n",
        "cursor.execute(query)\n",
        "cursor.fetchall()\n",
        "\n",
        "\n",
        "# [(152.7206871868289,)]"
      ]
    },
    {
      "cell_type": "markdown",
      "metadata": {
        "id": "V4wqJR0ENT_U"
      },
      "source": [
        "* What is the count of number of hosts?"
      ]
    },
    {
      "cell_type": "code",
      "execution_count": 28,
      "metadata": {
        "colab": {
          "base_uri": "https://localhost:8080/"
        },
        "id": "HGB7-NPjNT_U",
        "outputId": "e068469c-f9c8-4a68-eba9-ba01e4215a65"
      },
      "outputs": [
        {
          "output_type": "execute_result",
          "data": {
            "text/plain": [
              "[(37457,)]"
            ]
          },
          "metadata": {},
          "execution_count": 28
        }
      ],
      "source": [
        "query = \"\"\"\n",
        "select count(*) from hosts\n",
        "\n",
        "\"\"\"\n",
        "\n",
        "cursor.execute(query)\n",
        "cursor.fetchall()\n",
        "\n",
        "# [(37457,)]"
      ]
    },
    {
      "cell_type": "markdown",
      "metadata": {
        "id": "AcdAiwVRNT_U"
      },
      "source": [
        "### Relationships\n",
        "To help us better understand the relationships, create queries below that JOIN the tables."
      ]
    },
    {
      "cell_type": "markdown",
      "metadata": {
        "id": "6Ki2ZBquNT_U"
      },
      "source": [
        "### JOINs"
      ]
    },
    {
      "cell_type": "markdown",
      "metadata": {
        "id": "msp0wuvZNT_V"
      },
      "source": [
        "For the following queries, use the relationships between the tables to find the solutions"
      ]
    },
    {
      "cell_type": "markdown",
      "metadata": {
        "id": "SH7xuUJ6NT_V"
      },
      "source": [
        "* What is the longitude and latitude of the listing of the highest price?"
      ]
    },
    {
      "cell_type": "code",
      "execution_count": 31,
      "metadata": {
        "colab": {
          "base_uri": "https://localhost:8080/"
        },
        "id": "t8Smb_unNT_V",
        "outputId": "0953242a-94b6-408d-bab5-fdb141cf122a"
      },
      "outputs": [
        {
          "output_type": "execute_result",
          "data": {
            "text/plain": [
              "[(-73.91651, 40.7681)]"
            ]
          },
          "metadata": {},
          "execution_count": 31
        }
      ],
      "source": [
        "query = \"\"\"\n",
        "select\n",
        "  locations.longitude,\n",
        "  locations.latitude\n",
        "from listings\n",
        "join locations\n",
        "  on listings.location_id = locations.id\n",
        "order by listings.price desc\n",
        "limit 1\n",
        "\"\"\"\n",
        "\n",
        "cursor.execute(query)\n",
        "cursor.fetchall()\n",
        "\n",
        "\n",
        "# [(-73.91651, 40.7681)]"
      ]
    },
    {
      "cell_type": "markdown",
      "metadata": {
        "id": "VROmI_vMNT_V"
      },
      "source": [
        "* What is the neighborhood id of the listing with the lowest price?"
      ]
    },
    {
      "cell_type": "code",
      "execution_count": 33,
      "metadata": {
        "colab": {
          "base_uri": "https://localhost:8080/"
        },
        "id": "NgIOQ5JMNT_V",
        "outputId": "3fc2353a-74a1-4a4b-8b64-003024fb2980"
      },
      "outputs": [
        {
          "output_type": "execute_result",
          "data": {
            "text/plain": [
              "[(6,)]"
            ]
          },
          "metadata": {},
          "execution_count": 33
        }
      ],
      "source": [
        "query = \"\"\"\n",
        "select\n",
        "  neighborhood_id\n",
        "from listings\n",
        "join locations\n",
        "  on listings.location_id = locations.id\n",
        "order by listings.price asc\n",
        "limit 1\n",
        "\"\"\"\n",
        "\n",
        "cursor.execute(query)\n",
        "cursor.fetchall()\n",
        "\n",
        "\n",
        "# [(6,)]"
      ]
    },
    {
      "cell_type": "markdown",
      "metadata": {
        "id": "NPWQw3bTNT_V"
      },
      "source": [
        "* What is the longitude and latitude of the listing of the lowest price?"
      ]
    },
    {
      "cell_type": "code",
      "execution_count": 34,
      "metadata": {
        "colab": {
          "base_uri": "https://localhost:8080/"
        },
        "id": "Qx3zwWNQNT_W",
        "outputId": "db699e90-b584-4210-f82d-45541c885a3f"
      },
      "outputs": [
        {
          "output_type": "execute_result",
          "data": {
            "text/plain": [
              "[(-73.95428000000001, 40.69023)]"
            ]
          },
          "metadata": {},
          "execution_count": 34
        }
      ],
      "source": [
        "query = \"\"\"\n",
        "select\n",
        "  locations.longitude,\n",
        "  locations.latitude\n",
        "from listings\n",
        "join locations\n",
        "  on listings.location_id = locations.id\n",
        "order by listings.price asc\n",
        "limit 1\n",
        "\"\"\"\n",
        "\n",
        "cursor.execute(query)\n",
        "cursor.fetchall()\n",
        "\n",
        "# [(-73.95428000000001, 40.69023)]"
      ]
    },
    {
      "cell_type": "markdown",
      "metadata": {
        "id": "kPhwI_61NT_W"
      },
      "source": [
        "### Relations and GROUP BY"
      ]
    },
    {
      "cell_type": "markdown",
      "metadata": {
        "id": "Ab0MBdLBNT_W"
      },
      "source": [
        "* What is the name of the host has the most number of reviews?"
      ]
    },
    {
      "cell_type": "code",
      "execution_count": 58,
      "metadata": {
        "colab": {
          "base_uri": "https://localhost:8080/"
        },
        "id": "do0vNoCYNT_W",
        "outputId": "49c2ba91-d54c-480d-f028-094c9753ba90"
      },
      "outputs": [
        {
          "output_type": "execute_result",
          "data": {
            "text/plain": [
              "[('Maya', 2273)]"
            ]
          },
          "metadata": {},
          "execution_count": 58
        }
      ],
      "source": [
        "query = \"\"\"\n",
        "select\n",
        "  hosts.host_name,\n",
        "  sum(listings.number_of_reviews)\n",
        "from listings\n",
        "join hosts\n",
        "  on listings.host_id = hosts.id\n",
        "group by listings.host_id\n",
        "order by sum(listings.number_of_reviews) desc\n",
        "limit 1\n",
        "\"\"\"\n",
        "\n",
        "cursor.execute(query)\n",
        "cursor.fetchall()\n",
        "\n",
        "# [('Maya', 2273)]"
      ]
    },
    {
      "cell_type": "markdown",
      "metadata": {
        "id": "BnizsJFsNT_X"
      },
      "source": [
        "* What is the name of the host with the highest average listing price?"
      ]
    },
    {
      "cell_type": "code",
      "execution_count": 62,
      "metadata": {
        "colab": {
          "base_uri": "https://localhost:8080/"
        },
        "id": "RccQjo1INT_X",
        "outputId": "ffcd96c2-f5c7-4d6c-ffb7-b7417acf2db8"
      },
      "outputs": [
        {
          "output_type": "execute_result",
          "data": {
            "text/plain": [
              "[('Jelena', 10000.0)]"
            ]
          },
          "metadata": {},
          "execution_count": 62
        }
      ],
      "source": [
        "query = \"\"\"\n",
        "select\n",
        "  hosts.host_name,\n",
        "  avg(listings.price)\n",
        "from listings\n",
        "join hosts\n",
        "  on listings.host_id = hosts.id\n",
        "group by listings.host_id\n",
        "order by  avg(listings.price) desc\n",
        "limit 1\n",
        "\"\"\"\n",
        "\n",
        "cursor.execute(query)\n",
        "cursor.fetchall()\n",
        "\n",
        "# [('Jelena',)]"
      ]
    },
    {
      "cell_type": "markdown",
      "metadata": {
        "id": "hCYcaSv2NT_X"
      },
      "source": [
        "* What is the name of the host with the lowest average listing price?"
      ]
    },
    {
      "cell_type": "code",
      "execution_count": 63,
      "metadata": {
        "colab": {
          "base_uri": "https://localhost:8080/"
        },
        "id": "NjSIEQfGNUAB",
        "outputId": "ee8e81e0-fb97-4d9b-b259-924455d3fc5a"
      },
      "outputs": [
        {
          "output_type": "execute_result",
          "data": {
            "text/plain": [
              "[('Aymeric', 0.0)]"
            ]
          },
          "metadata": {},
          "execution_count": 63
        }
      ],
      "source": [
        "query = \"\"\"\n",
        "select\n",
        "  hosts.host_name,\n",
        "  avg(listings.price)\n",
        "from listings\n",
        "join hosts\n",
        "  on listings.host_id = hosts.id\n",
        "group by listings.host_id\n",
        "order by  avg(listings.price) asc\n",
        "limit 1\n",
        "\"\"\"\n",
        "\n",
        "cursor.execute(query)\n",
        "cursor.fetchall()\n",
        "\n",
        "# [('Aymeric',)]"
      ]
    },
    {
      "cell_type": "markdown",
      "metadata": {
        "id": "2eDtdnsFNUAC"
      },
      "source": [
        "* What is the name of the neighborhood with the most number of locations"
      ]
    },
    {
      "cell_type": "code",
      "execution_count": 71,
      "metadata": {
        "colab": {
          "base_uri": "https://localhost:8080/"
        },
        "id": "HE_0g8qtNUAC",
        "outputId": "880f864b-88be-4cff-fe6b-e5b1f472c719"
      },
      "outputs": [
        {
          "output_type": "execute_result",
          "data": {
            "text/plain": [
              "[('Williamsburg',)]"
            ]
          },
          "metadata": {},
          "execution_count": 71
        }
      ],
      "source": [
        "query = \"\"\"\n",
        "select\n",
        "  neighborhoods.name\n",
        "from locations\n",
        "join neighborhoods\n",
        "  on locations.neighborhood_id = neighborhoods.id\n",
        "group by neighborhoods.name\n",
        "order by count(*) desc\n",
        "limit 1\n",
        "\"\"\"\n",
        "\n",
        "cursor.execute(query)\n",
        "cursor.fetchall()\n",
        "\n",
        "\n",
        "# [('Williamsburg',)]"
      ]
    },
    {
      "cell_type": "markdown",
      "metadata": {
        "id": "LiZRV-j9NUAD"
      },
      "source": [
        "* What are the names of the neighborhoods with 10 locations?"
      ]
    },
    {
      "cell_type": "code",
      "execution_count": 75,
      "metadata": {
        "colab": {
          "base_uri": "https://localhost:8080/"
        },
        "id": "7bL6Oh_aNUAM",
        "outputId": "59dd7c02-0cd0-4261-cd5b-8f4be8ec8d91"
      },
      "outputs": [
        {
          "output_type": "execute_result",
          "data": {
            "text/plain": [
              "[('Bergen Beach',),\n",
              " ('East Morrisania',),\n",
              " ('Great Kills',),\n",
              " ('Melrose',),\n",
              " ('North Riverdale',),\n",
              " ('Westchester Square',)]"
            ]
          },
          "metadata": {},
          "execution_count": 75
        }
      ],
      "source": [
        "query = \"\"\"\n",
        "select\n",
        "  neighborhoods.name\n",
        "from locations\n",
        "join neighborhoods\n",
        "  on locations.neighborhood_id = neighborhoods.id\n",
        "group by neighborhoods.name\n",
        "having count(*) = 10\n",
        "\"\"\"\n",
        "\n",
        "cursor.execute(query)\n",
        "cursor.fetchall()\n",
        "\n",
        "\n",
        "# [('North Riverdale',),\n",
        "#  ('Great Kills',),\n",
        "#  ('East Morrisania',),\n",
        "#  ('Melrose',),\n",
        "#  ('Bergen Beach',),\n",
        "#  ('Westchester Square',)]"
      ]
    },
    {
      "cell_type": "markdown",
      "metadata": {
        "id": "wJJjF-AmNUAM"
      },
      "source": [
        "The following questions will require joins of three tables"
      ]
    },
    {
      "cell_type": "markdown",
      "metadata": {
        "id": "itPAvp_rNUAM"
      },
      "source": [
        "* What is the average occupancy of each neighborhood (limit to the first five results)?"
      ]
    },
    {
      "cell_type": "code",
      "execution_count": 96,
      "metadata": {
        "colab": {
          "base_uri": "https://localhost:8080/"
        },
        "id": "CqnF89gwNUAN",
        "outputId": "d3ebb639-be96-4285-a373-ac4bfd174560"
      },
      "outputs": [
        {
          "output_type": "execute_result",
          "data": {
            "text/plain": [
              "[('Kensington', 281.0514285714286),\n",
              " ('Midtown', 207.29644012944985),\n",
              " ('Harlem', 258.4224981188864),\n",
              " ('Clinton Hill', 269.986013986014),\n",
              " ('East Harlem', 266.0268576544315)]"
            ]
          },
          "metadata": {},
          "execution_count": 96
        }
      ],
      "source": [
        "query = \"\"\"\n",
        "select\n",
        "  neighborhoods.name,\n",
        "  avg(listings.occupancy)\n",
        "from locations\n",
        "join neighborhoods\n",
        "  on locations.neighborhood_id = neighborhoods.id\n",
        "join listings\n",
        "  on locations.id = listings.location_id\n",
        "group by neighborhoods.name\n",
        "order by neighborhoods.id\n",
        "limit 5\n",
        "\"\"\"\n",
        "\n",
        "cursor.execute(query)\n",
        "cursor.fetchall()\n",
        "\n",
        "# [('Kensington', 281.0514285714286),\n",
        "#  ('Midtown', 207.29644012944985),\n",
        "#  ('Harlem', 258.4224981188864),\n",
        "#  ('Clinton Hill', 269.986013986014),\n",
        "#  ('East Harlem', 266.0268576544315)]"
      ]
    },
    {
      "cell_type": "markdown",
      "metadata": {
        "id": "S0zzlY1UNUAN"
      },
      "source": [
        "* What is the total number of reviews for each neighborhood (limit to the first five results)?"
      ]
    },
    {
      "cell_type": "code",
      "execution_count": 98,
      "metadata": {
        "colab": {
          "base_uri": "https://localhost:8080/"
        },
        "id": "N8G1-ZI2NUAO",
        "outputId": "0f13af4f-f4e4-4100-c38c-2b921e7207cd"
      },
      "outputs": [
        {
          "output_type": "execute_result",
          "data": {
            "text/plain": [
              "[('Kensington', 2972),\n",
              " ('Midtown', 19444),\n",
              " ('Harlem', 75962),\n",
              " ('Clinton Hill', 14586),\n",
              " ('East Harlem', 36446)]"
            ]
          },
          "metadata": {},
          "execution_count": 98
        }
      ],
      "source": [
        "query = \"\"\"\n",
        "select\n",
        "  neighborhoods.name,\n",
        "  sum(listings.number_of_reviews)\n",
        "from locations\n",
        "join neighborhoods\n",
        "  on locations.neighborhood_id = neighborhoods.id\n",
        "join listings\n",
        "  on locations.id = listings.location_id\n",
        "group by neighborhoods.id\n",
        "order by neighborhoods.id\n",
        "\n",
        "\n",
        "limit 5\n",
        "\n",
        "\"\"\"\n",
        "\n",
        "cursor.execute(query)\n",
        "cursor.fetchall()\n",
        "\n",
        "# [('Kensington', 2972),\n",
        "#  ('Midtown', 19444),\n",
        "#  ('Harlem', 75962),\n",
        "#  ('Clinton Hill', 14586),\n",
        "#  ('East Harlem', 36446)]"
      ]
    },
    {
      "cell_type": "markdown",
      "metadata": {
        "id": "EUQ5wVvlNUAO"
      },
      "source": [
        "* Write a query that returns the name and average listing price of each neighborhood (limit to the first five results)"
      ]
    },
    {
      "cell_type": "code",
      "execution_count": 99,
      "metadata": {
        "colab": {
          "base_uri": "https://localhost:8080/"
        },
        "id": "3CD_xUc5NUAO",
        "outputId": "99c8eb43-fd26-4a85-cd83-b1228c9a8c4c"
      },
      "outputs": [
        {
          "output_type": "execute_result",
          "data": {
            "text/plain": [
              "[('Kensington', 92.88571428571429),\n",
              " ('Midtown', 282.7190938511327),\n",
              " ('Harlem', 118.97404063205417),\n",
              " ('Clinton Hill', 181.89335664335664),\n",
              " ('East Harlem', 133.1987466427932)]"
            ]
          },
          "metadata": {},
          "execution_count": 99
        }
      ],
      "source": [
        "query = \"\"\"\n",
        "select\n",
        "  neighborhoods.name,\n",
        "  AVG(listings.price)\n",
        "from locations\n",
        "join neighborhoods\n",
        "  on locations.neighborhood_id = neighborhoods.id\n",
        "join listings\n",
        "  on locations.id = listings.location_id\n",
        "group by neighborhoods.id\n",
        "order by neighborhoods.id\n",
        "limit 5\n",
        "\n",
        "\"\"\"\n",
        "\n",
        "cursor.execute(query)\n",
        "cursor.fetchall()\n",
        "\n",
        "\n",
        "# [('Kensington', 92.88571428571429),\n",
        "#  ('Midtown', 282.7190938511327),\n",
        "#  ('Harlem', 118.97404063205417),\n",
        "#  ('Clinton Hill', 181.89335664335664),\n",
        "#  ('East Harlem', 133.1987466427932)]"
      ]
    },
    {
      "cell_type": "markdown",
      "metadata": {
        "id": "lO1ZHgGPNUAP"
      },
      "source": [
        "### Conclusion\n",
        "In this lab we worked on the \"Has One\" and \"Has Many\" relations in SQL. We began by mapping out the relations between the tables, which gave us a better idea of how we could then join them in our queries. We finished the lab by creating queries using JOIN clauses that connect the tables using these relationships."
      ]
    }
  ],
  "metadata": {
    "kernelspec": {
      "display_name": "Python 3 (ipykernel)",
      "language": "python",
      "name": "python3"
    },
    "language_info": {
      "codemirror_mode": {
        "name": "ipython",
        "version": 3
      },
      "file_extension": ".py",
      "mimetype": "text/x-python",
      "name": "python",
      "nbconvert_exporter": "python",
      "pygments_lexer": "ipython3",
      "version": "3.9.12"
    },
    "colab": {
      "provenance": []
    }
  },
  "nbformat": 4,
  "nbformat_minor": 0
}