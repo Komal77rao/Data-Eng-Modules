{
  "cells": [
    {
      "cell_type": "markdown",
      "metadata": {
        "id": "bRhVpAu2dg36"
      },
      "source": [
        "# Has Many Movie Lab"
      ]
    },
    {
      "cell_type": "markdown",
      "metadata": {
        "id": "cKwpFqmqdg4G"
      },
      "source": [
        "### Introduction\n",
        "In this lab we will continue to look at the \"Has-Many\" relationships in our data. The database we will be using during this lab contains information about a selection of movies and related entities such as actors, directors and writers. A movie entity will have relationships with actor, director, and writer entities. The actors, directors and writers will also have relationships with themselves (i.e. a director will have worked with many actors). In problems below, we will use our knowledge of these relationships to build SQL queries."
      ]
    },
    {
      "cell_type": "markdown",
      "metadata": {
        "id": "EEzCwiacdg4N"
      },
      "source": [
        "Let's begin by connecting to the database and reviewing the schema of the tables."
      ]
    },
    {
      "cell_type": "code",
      "execution_count": 1,
      "metadata": {
        "id": "YiUUA9NVdg4O"
      },
      "outputs": [],
      "source": [
        "import sqlite3\n",
        "conn = sqlite3.connect('movie_films_actors.db')\n",
        "cursor = conn.cursor()"
      ]
    },
    {
      "cell_type": "code",
      "execution_count": 2,
      "metadata": {
        "id": "HtMMTDtmdg4V"
      },
      "outputs": [],
      "source": [
        "import pandas as pd\n",
        "root_url = \"https://raw.githubusercontent.com/jigsawlabs-student/curriculum-images/main/has-many-movies-lab/\"\n",
        "names = ['actors', 'directors', 'movies', 'writers', 'movie_actors', 'movie_directors', 'movie_writers']\n",
        "loaded_dfs = [pd.read_csv(f'{root_url}{name}.csv') for name in names]"
      ]
    },
    {
      "cell_type": "code",
      "execution_count": 3,
      "metadata": {
        "id": "T4FmX6Ahdg4W"
      },
      "outputs": [],
      "source": [
        "for index, name in enumerate(names):\n",
        "    loaded_dfs[index].to_sql(f'{name}', conn, index = False)"
      ]
    },
    {
      "cell_type": "code",
      "execution_count": 4,
      "metadata": {
        "colab": {
          "base_uri": "https://localhost:8080/"
        },
        "id": "KbMUeM96dg4X",
        "outputId": "481480dd-0852-4017-b54f-39ea76218727"
      },
      "outputs": [
        {
          "output_type": "execute_result",
          "data": {
            "text/plain": [
              "[('actors',),\n",
              " ('directors',),\n",
              " ('movies',),\n",
              " ('writers',),\n",
              " ('movie_actors',),\n",
              " ('movie_directors',),\n",
              " ('movie_writers',)]"
            ]
          },
          "metadata": {},
          "execution_count": 4
        }
      ],
      "source": [
        "cursor.execute('SELECT name from sqlite_master where type= \"table\"')\n",
        "cursor.fetchall()"
      ]
    },
    {
      "cell_type": "code",
      "execution_count": 5,
      "metadata": {
        "colab": {
          "base_uri": "https://localhost:8080/"
        },
        "id": "XOpR2IZ5dg4Z",
        "outputId": "0940fe29-18aa-4544-9c2f-03cdfd9b3c25"
      },
      "outputs": [
        {
          "output_type": "execute_result",
          "data": {
            "text/plain": [
              "[(0, 'id', 'INTEGER', 0, None, 0),\n",
              " (1, 'title', 'TEXT', 0, None, 0),\n",
              " (2, 'studio', 'TEXT', 0, None, 0),\n",
              " (3, 'runtime', 'REAL', 0, None, 0),\n",
              " (4, 'description', 'TEXT', 0, None, 0),\n",
              " (5, 'release_date', 'TEXT', 0, None, 0),\n",
              " (6, 'year', 'INTEGER', 0, None, 0)]"
            ]
          },
          "metadata": {},
          "execution_count": 5
        }
      ],
      "source": [
        "cursor.execute('PRAGMA table_info(movies)')\n",
        "cursor.fetchall()"
      ]
    },
    {
      "cell_type": "code",
      "execution_count": 6,
      "metadata": {
        "colab": {
          "base_uri": "https://localhost:8080/"
        },
        "id": "uwGR7lpLdg4Z",
        "outputId": "bd08f26c-1937-4217-ff17-0cd6638150fc"
      },
      "outputs": [
        {
          "output_type": "execute_result",
          "data": {
            "text/plain": [
              "[(0, 'id', 'INTEGER', 0, None, 0), (1, 'name', 'TEXT', 0, None, 0)]"
            ]
          },
          "metadata": {},
          "execution_count": 6
        }
      ],
      "source": [
        "cursor.execute('PRAGMA table_info(actors)')\n",
        "cursor.fetchall()"
      ]
    },
    {
      "cell_type": "code",
      "execution_count": 8,
      "metadata": {
        "colab": {
          "base_uri": "https://localhost:8080/"
        },
        "id": "kN5KU6ondg4a",
        "outputId": "f2017699-f79e-43a3-c875-754359b8872f"
      },
      "outputs": [
        {
          "output_type": "execute_result",
          "data": {
            "text/plain": [
              "[(0, 'id', 'INTEGER', 0, None, 0), (1, 'name', 'TEXT', 0, None, 0)]"
            ]
          },
          "metadata": {},
          "execution_count": 8
        }
      ],
      "source": [
        "cursor.execute('PRAGMA table_info(directors)')\n",
        "cursor.fetchall()"
      ]
    },
    {
      "cell_type": "code",
      "execution_count": 7,
      "metadata": {
        "colab": {
          "base_uri": "https://localhost:8080/"
        },
        "id": "CbGPIX09dg4e",
        "outputId": "c6b63fdf-a2d7-49b5-d0b5-1e1c932c735f"
      },
      "outputs": [
        {
          "output_type": "execute_result",
          "data": {
            "text/plain": [
              "[(0, 'id', 'INTEGER', 0, None, 0), (1, 'name', 'TEXT', 0, None, 0)]"
            ]
          },
          "metadata": {},
          "execution_count": 7
        }
      ],
      "source": [
        "cursor.execute('PRAGMA table_info(writers)')\n",
        "cursor.fetchall()"
      ]
    },
    {
      "cell_type": "code",
      "execution_count": 9,
      "metadata": {
        "colab": {
          "base_uri": "https://localhost:8080/"
        },
        "id": "fQBV3wt6dg4g",
        "outputId": "ef9e87af-0f9e-433d-dc1a-dd72018bae28"
      },
      "outputs": [
        {
          "output_type": "execute_result",
          "data": {
            "text/plain": [
              "[(0, 'id', 'INTEGER', 0, None, 0),\n",
              " (1, 'movie_id', 'INTEGER', 0, None, 0),\n",
              " (2, 'actor_id', 'INTEGER', 0, None, 0)]"
            ]
          },
          "metadata": {},
          "execution_count": 9
        }
      ],
      "source": [
        "cursor.execute('PRAGMA table_info(movie_actors)')\n",
        "cursor.fetchall()"
      ]
    },
    {
      "cell_type": "code",
      "execution_count": 10,
      "metadata": {
        "colab": {
          "base_uri": "https://localhost:8080/"
        },
        "id": "6Ph_PY-mdg4j",
        "outputId": "106681d8-c0ba-4f14-d39b-1682962501ff"
      },
      "outputs": [
        {
          "output_type": "execute_result",
          "data": {
            "text/plain": [
              "[(0, 'id', 'INTEGER', 0, None, 0),\n",
              " (1, 'movie_id', 'INTEGER', 0, None, 0),\n",
              " (2, 'director_id', 'INTEGER', 0, None, 0)]"
            ]
          },
          "metadata": {},
          "execution_count": 10
        }
      ],
      "source": [
        "cursor.execute('PRAGMA table_info(movie_directors)')\n",
        "cursor.fetchall()"
      ]
    },
    {
      "cell_type": "code",
      "execution_count": 11,
      "metadata": {
        "colab": {
          "base_uri": "https://localhost:8080/"
        },
        "id": "_q6AaUyedg5d",
        "outputId": "33775d23-5dcd-48f9-ffc9-c677298949a4"
      },
      "outputs": [
        {
          "output_type": "execute_result",
          "data": {
            "text/plain": [
              "[(0, 'id', 'INTEGER', 0, None, 0),\n",
              " (1, 'movie_id', 'INTEGER', 0, None, 0),\n",
              " (2, 'writer_id', 'INTEGER', 0, None, 0)]"
            ]
          },
          "metadata": {},
          "execution_count": 11
        }
      ],
      "source": [
        "cursor.execute('PRAGMA table_info(movie_writers)')\n",
        "cursor.fetchall()"
      ]
    },
    {
      "cell_type": "markdown",
      "metadata": {
        "id": "SKn5r63ldg5e"
      },
      "source": [
        "Let's start off with some basic one table queries:"
      ]
    },
    {
      "cell_type": "markdown",
      "metadata": {
        "id": "y5XYp60Idg5e"
      },
      "source": [
        "* What is the title, length, and id of the movie with the longest runtime?"
      ]
    },
    {
      "cell_type": "code",
      "execution_count": 13,
      "metadata": {
        "colab": {
          "base_uri": "https://localhost:8080/"
        },
        "id": "OptX4x7ndg5e",
        "outputId": "1102fff8-094b-4ec5-e951-15c35319cd0e"
      },
      "outputs": [
        {
          "output_type": "execute_result",
          "data": {
            "text/plain": [
              "[(11415, 'Never Sleep Again: The Elm Street Legacy', 480.0)]"
            ]
          },
          "metadata": {},
          "execution_count": 13
        }
      ],
      "source": [
        "query = \"\"\"\n",
        "select id,\n",
        "      title,\n",
        "      runtime\n",
        "from movies\n",
        "order by runtime desc\n",
        "limit 1\n",
        "\"\"\"\n",
        "\n",
        "\n",
        "cursor.execute(query)\n",
        "cursor.fetchall()\n",
        "\n",
        "# [('Never Sleep Again: The Elm Street Legacy', 480.0, 11415)]"
      ]
    },
    {
      "cell_type": "markdown",
      "metadata": {
        "id": "qem57Co1dg5e"
      },
      "source": [
        "* Using your answer from the previous question, how many actors were credited for the movie with the longest runtime? Hint: Use the COUNT function with the movie ID"
      ]
    },
    {
      "cell_type": "code",
      "execution_count": 20,
      "metadata": {
        "colab": {
          "base_uri": "https://localhost:8080/"
        },
        "id": "EmEecnNydg5e",
        "outputId": "aef708a2-06fe-48a7-d86c-9ab64bab90a2"
      },
      "outputs": [
        {
          "output_type": "execute_result",
          "data": {
            "text/plain": [
              "[(6,)]"
            ]
          },
          "metadata": {},
          "execution_count": 20
        }
      ],
      "source": [
        "query = \"\"\"\n",
        "select count(*)\n",
        "from movie_actors\n",
        "where movie_id = 11415\n",
        "\"\"\"\n",
        "\n",
        "\n",
        "cursor.execute(query)\n",
        "cursor.fetchall()\n",
        "\n",
        "# [(6,)]"
      ]
    },
    {
      "cell_type": "markdown",
      "metadata": {
        "id": "fyIBM1TSdg5f"
      },
      "source": [
        "* What was the shortest movie released in 2006?"
      ]
    },
    {
      "cell_type": "code",
      "execution_count": 18,
      "metadata": {
        "colab": {
          "base_uri": "https://localhost:8080/"
        },
        "id": "x2wlvmFGdg6E",
        "outputId": "248e0cf9-2343-47c5-b5d7-efee9b3d4b1e"
      },
      "outputs": [
        {
          "output_type": "execute_result",
          "data": {
            "text/plain": [
              "[('The Guardian',)]"
            ]
          },
          "metadata": {},
          "execution_count": 18
        }
      ],
      "source": [
        "query = \"\"\"\n",
        "select\n",
        "      title\n",
        "from movies\n",
        "where year = 2006\n",
        "order by runtime asc\n",
        "limit 1\n",
        "\"\"\"\n",
        "\n",
        "\n",
        "cursor.execute(query)\n",
        "cursor.fetchall()\n",
        "\n",
        "# [('The Guardian',)]"
      ]
    },
    {
      "cell_type": "markdown",
      "metadata": {
        "id": "kEdGZRBGdg6E"
      },
      "source": [
        "### Has Many"
      ]
    },
    {
      "cell_type": "markdown",
      "metadata": {
        "id": "wJBYvOBndg6G"
      },
      "source": [
        "* What are the names of the actors in Toy Story?"
      ]
    },
    {
      "cell_type": "code",
      "execution_count": 23,
      "metadata": {
        "colab": {
          "base_uri": "https://localhost:8080/"
        },
        "id": "IkaLWG-9dg6G",
        "outputId": "32cc0603-df8b-4dbe-af67-79f7f51c8401"
      },
      "outputs": [
        {
          "output_type": "execute_result",
          "data": {
            "text/plain": [
              "[('Tom Hanks',),\n",
              " ('Tim Allen',),\n",
              " ('Jim Varney',),\n",
              " ('Wallace Shawn',),\n",
              " ('Don Rickles',),\n",
              " ('John Ratzenberger',)]"
            ]
          },
          "metadata": {},
          "execution_count": 23
        }
      ],
      "source": [
        "query = \"\"\"\n",
        "select\n",
        "      a.name\n",
        "from movies m\n",
        "join movie_actors ma on m.id = ma.movie_id\n",
        "join actors a on a.id = ma.actor_id\n",
        "where title = 'Toy Story'\n",
        "\"\"\"\n",
        "\n",
        "\n",
        "cursor.execute(query)\n",
        "cursor.fetchall()\n",
        "\n",
        "# [('Tom Hanks',),\n",
        "#  ('Jim Varney',),\n",
        "#  ('Wallace Shawn',),\n",
        "#  ('Don Rickles',),\n",
        "#  ('John Ratzenberger',),\n",
        "#  ('Tim Allen',)]"
      ]
    },
    {
      "cell_type": "markdown",
      "metadata": {
        "id": "BtguX2a2dg6N"
      },
      "source": [
        "* What is the name of the director of Toy Story?"
      ]
    },
    {
      "cell_type": "code",
      "execution_count": 24,
      "metadata": {
        "colab": {
          "base_uri": "https://localhost:8080/"
        },
        "id": "_kNEyE7udg6N",
        "outputId": "ffc9c702-1a92-4448-f129-75d6d7c580fa"
      },
      "outputs": [
        {
          "output_type": "execute_result",
          "data": {
            "text/plain": [
              "[('John Lasseter',)]"
            ]
          },
          "metadata": {},
          "execution_count": 24
        }
      ],
      "source": [
        "\n",
        "query = \"\"\"\n",
        "select\n",
        "      d.name\n",
        "from movies m\n",
        "join movie_directors md on m.id = md.movie_id\n",
        "join directors d on d.id = md.director_id\n",
        "where m.title = 'Toy Story'\n",
        "\"\"\"\n",
        "\n",
        "\n",
        "cursor.execute(query)\n",
        "cursor.fetchall()\n",
        "\n",
        "# [('John Lasseter',)]"
      ]
    },
    {
      "cell_type": "markdown",
      "metadata": {
        "id": "oJMNdpxCdg6l"
      },
      "source": [
        "* What are the names of the writers of Toy Story?"
      ]
    },
    {
      "cell_type": "code",
      "execution_count": 26,
      "metadata": {
        "colab": {
          "base_uri": "https://localhost:8080/"
        },
        "id": "eWBhXdXLdg6l",
        "outputId": "746973d0-404e-4963-a05d-40df2352d51f"
      },
      "outputs": [
        {
          "output_type": "execute_result",
          "data": {
            "text/plain": [
              "[('Joss Whedon',), ('Joel Cohen',), ('Andrew Stanton',), ('Alec Sokolow',)]"
            ]
          },
          "metadata": {},
          "execution_count": 26
        }
      ],
      "source": [
        "\n",
        "query = \"\"\"\n",
        "select\n",
        "      w.name\n",
        "from movies m\n",
        "join movie_writers mw on m.id = mw.movie_id\n",
        "join writers w on w.id = mw.writer_id\n",
        "where m.title = 'Toy Story'\n",
        "\"\"\"\n",
        "\n",
        "\n",
        "cursor.execute(query)\n",
        "cursor.fetchall()\n",
        "\n",
        "\n",
        "# [('Joss Whedon',), ('Joel Cohen',), ('Andrew Stanton',), ('Alec Sokolow',)]"
      ]
    },
    {
      "cell_type": "markdown",
      "metadata": {
        "id": "awDO4ejMdg7I"
      },
      "source": [
        "* What is the name and actor id of the actor with the most credits in the database?"
      ]
    },
    {
      "cell_type": "code",
      "execution_count": 32,
      "metadata": {
        "colab": {
          "base_uri": "https://localhost:8080/"
        },
        "id": "b-v0gV-jdg7J",
        "outputId": "669be5f3-af11-46dd-f1cf-f546fdb8448d"
      },
      "outputs": [
        {
          "output_type": "execute_result",
          "data": {
            "text/plain": [
              "[('Robert De Niro', 429, 78)]"
            ]
          },
          "metadata": {},
          "execution_count": 32
        }
      ],
      "source": [
        "actor = \"\"\"\n",
        "select\n",
        "      a.name, ma.actor_id as id,\n",
        "      count(*)\n",
        "from movie_actors ma\n",
        "join actors a on a.id = ma.actor_id\n",
        "group by ma.actor_id\n",
        "order by count(*) desc\n",
        "limit 1\n",
        "\"\"\"\n",
        "\n",
        "cursor.execute(actor)\n",
        "cursor.fetchall()\n",
        "\n",
        "\n",
        "# [('Robert De Niro', 429, 78)]"
      ]
    },
    {
      "cell_type": "markdown",
      "metadata": {
        "id": "IDzPMZRgdg7M"
      },
      "source": [
        "* What are the titles of the movies the actor from the previous question has been in, after the year 2005?"
      ]
    },
    {
      "cell_type": "code",
      "execution_count": 38,
      "metadata": {
        "colab": {
          "base_uri": "https://localhost:8080/"
        },
        "id": "upQQkeSHdg7M",
        "outputId": "3196dd2b-86a5-4f92-9a3e-c81c8e0e4774"
      },
      "outputs": [
        {
          "output_type": "execute_result",
          "data": {
            "text/plain": [
              "[(\"New Year's Eve\",),\n",
              " ('Mr. Warmth: The Don Rickles Project',),\n",
              " ('Hands of Stone',),\n",
              " ('Last Vegas',),\n",
              " ('I Knew It Was You: Rediscovering John Cazale',),\n",
              " ('Stardust',),\n",
              " ('Killer Elite',),\n",
              " (\"Everybody's Fine\",),\n",
              " ('Stone',),\n",
              " ('Machete',),\n",
              " ('Red Lights',),\n",
              " ('Righteous Kill',),\n",
              " ('The Good Shepherd',),\n",
              " ('The Bag Man',),\n",
              " ('Being Flynn',),\n",
              " ('Joy',),\n",
              " ('The Wizard of Lies',),\n",
              " ('Limitless',),\n",
              " ('Killing Season',),\n",
              " ('The Family',),\n",
              " ('Heist',),\n",
              " ('Great Expectations',),\n",
              " ('Little Fockers',),\n",
              " ('What Just Happened?',),\n",
              " ('The Comedian',),\n",
              " ('The Big Wedding',),\n",
              " ('Dirty Grandpa',),\n",
              " ('Grudge Match',)]"
            ]
          },
          "metadata": {},
          "execution_count": 38
        }
      ],
      "source": [
        "query = \"\"\"\n",
        "select\n",
        "      m.title\n",
        "from movies m\n",
        "join movie_actors ma on m.id = ma.movie_id\n",
        "join actors a on a.id = ma.actor_id\n",
        "where a.id = 429 and m.year > 2005\n",
        "\n",
        "\"\"\"\n",
        "\n",
        "cursor.execute(query)\n",
        "cursor.fetchall()\n",
        "\n",
        "# [(\"New Year's Eve\",),\n",
        "#  ('Mr. Warmth: The Don Rickles Project',),\n",
        "#  ('Hands of Stone',),\n",
        "#  ('Last Vegas',),\n",
        "#  ('I Knew It Was You: Rediscovering John Cazale',),\n",
        "#  ('Stardust',),\n",
        "#  ('Killer Elite',),\n",
        "#  (\"Everybody's Fine\",),\n",
        "#  ('Stone',),\n",
        "#  ('Machete',),\n",
        "#  ('Red Lights',),\n",
        "#  ('Righteous Kill',),\n",
        "#  ('The Good Shepherd',),\n",
        "#  ('The Bag Man',),\n",
        "#  ('Being Flynn',),\n",
        "#  ('Joy',),\n",
        "#  ('The Wizard of Lies',),\n",
        "#  ('Limitless',),\n",
        "#  ('Killing Season',),\n",
        "#  ('The Family',),\n",
        "#  ('Heist',),\n",
        "#  ('Great Expectations',),\n",
        "#  ('Little Fockers',),\n",
        "#  ('What Just Happened?',),\n",
        "#  ('The Comedian',),\n",
        "#  ('The Big Wedding',),\n",
        "#  ('Dirty Grandpa',),\n",
        "#  ('Grudge Match',)]"
      ]
    },
    {
      "cell_type": "markdown",
      "metadata": {
        "id": "U4rMw2i-dg7N"
      },
      "source": [
        "* What are the titles of movies with more than two directors -- order by title ascending and limit to the first five results"
      ]
    },
    {
      "cell_type": "code",
      "execution_count": 55,
      "metadata": {
        "colab": {
          "base_uri": "https://localhost:8080/"
        },
        "id": "xn2XzVRedg7N",
        "outputId": "759bc263-cf63-4704-f5ad-e01e6a934307"
      },
      "outputs": [
        {
          "output_type": "execute_result",
          "data": {
            "text/plain": [
              "[('101 Dalmatians', 4),\n",
              " ('11/8/2016', 3),\n",
              " ('A Crude Awakening: The Oil Crash', 3),\n",
              " ('A Farewell To Arms', 3),\n",
              " (\"A Liar's Autobiography - The Untrue Story of Monty Python's Graham Chapman\",\n",
              "  3)]"
            ]
          },
          "metadata": {},
          "execution_count": 55
        }
      ],
      "source": [
        "query = \"\"\"\n",
        "select m.title, count(*)\n",
        "from movies m\n",
        "join movie_directors md on m.id = md.movie_id\n",
        "join directors d on d.id = md.director_id\n",
        "group by md.movie_id\n",
        "having count(*) > 2\n",
        "order by m.title asc\n",
        "limit 5\n",
        "\"\"\"\n",
        "\n",
        "cursor.execute(query)\n",
        "cursor.fetchall()\n",
        "\n",
        "# [('101 Dalmatians',),\n",
        "#  ('11/8/2016',),\n",
        "#  ('A Crude Awakening: The Oil Crash',),\n",
        "#  ('A Farewell To Arms',),\n",
        "#  (\"A Liar's Autobiography - The Untrue Story of Monty Python's Graham Chapman\",)]"
      ]
    },
    {
      "cell_type": "markdown",
      "metadata": {
        "id": "uMqSS0Bgdg7P"
      },
      "source": [
        "### Has Many Through"
      ]
    },
    {
      "cell_type": "markdown",
      "metadata": {
        "id": "WQV3ZMaOdg7P"
      },
      "source": [
        "* What is the name of the writer in the database that has been credited the most times during the year 2018?"
      ]
    },
    {
      "cell_type": "code",
      "execution_count": 61,
      "metadata": {
        "colab": {
          "base_uri": "https://localhost:8080/"
        },
        "id": "QuSo07J2dg7Q",
        "outputId": "2001bd06-8531-4afe-f2d6-50fab971ae5d"
      },
      "outputs": [
        {
          "output_type": "execute_result",
          "data": {
            "text/plain": [
              "[('Ryan Engle', 3)]"
            ]
          },
          "metadata": {},
          "execution_count": 61
        }
      ],
      "source": [
        "query = \"\"\"\n",
        "select\n",
        "  w.name, count(*)\n",
        "from movies m\n",
        "join movie_writers mw\n",
        "  on m.id = mw.movie_id\n",
        "join writers w\n",
        "  on w.id = mw.writer_id\n",
        "where m.year = 2018\n",
        " group by w.id\n",
        " order by count(*) desc\n",
        "limit 1\n",
        "\"\"\"\n",
        "\n",
        "cursor.execute(query)\n",
        "cursor.fetchall()\n",
        "\n",
        "# [('Ryan Engle', 3)]"
      ]
    },
    {
      "cell_type": "markdown",
      "metadata": {
        "id": "HJER8MCWdg7Q"
      },
      "source": [
        "* What is the name of the actor or actress in the database that has been credited the most between 2010 and 2015 (inclusive)?"
      ]
    },
    {
      "cell_type": "code",
      "execution_count": 63,
      "metadata": {
        "colab": {
          "base_uri": "https://localhost:8080/"
        },
        "id": "wEWU5BWhdg7Q",
        "outputId": "417c37cd-818d-44a6-c38b-085fae02c70d"
      },
      "outputs": [
        {
          "output_type": "execute_result",
          "data": {
            "text/plain": [
              "[('James Franco', 22)]"
            ]
          },
          "metadata": {},
          "execution_count": 63
        }
      ],
      "source": [
        "query = \"\"\"\n",
        "select\n",
        "  a.name, count(*)\n",
        "from movies m\n",
        "join movie_actors ma\n",
        "  on m.id = ma.movie_id\n",
        "join actors a\n",
        "  on a.id = ma.actor_id\n",
        "where m.year >= 2010 and m.year <= 2015\n",
        " group by a.id\n",
        " order by count(*) desc\n",
        "limit 1\n",
        "\"\"\"\n",
        "\n",
        "cursor.execute(query)\n",
        "cursor.fetchall()\n",
        "\n",
        "# [('James Franco', 22)]"
      ]
    },
    {
      "cell_type": "markdown",
      "metadata": {
        "id": "lWWdtaIVdg7h"
      },
      "source": [
        "* What are the names of all actors who performed in more than 3 movies in 2010?"
      ]
    },
    {
      "cell_type": "code",
      "execution_count": null,
      "metadata": {
        "id": "q4vDv69Ddg7i"
      },
      "outputs": [],
      "source": [
        "query = \"\"\"\n",
        "select\n",
        "  a.name\n",
        "from movies m\n",
        "join movie_actors ma\n",
        "  on m.id = ma.movie_id\n",
        "join actors a\n",
        "  on a.id = ma.actor_id\n",
        "where m.year = 2010\n",
        "group by\n",
        "  a.id\n",
        "having count(*) > 3\n",
        "order by a.name\n",
        "\"\"\"\n",
        "\n",
        "cursor.execute(query)\n",
        "cursor.fetchall()\n",
        "\n",
        "# [('Aaron Taylor-Johnson',),\n",
        "#  ('Adam Scott',),\n",
        "#  ('Barry Pepper',),\n",
        "#  ('Ben Stiller',),\n",
        "#  ('Danny Huston',),\n",
        "#  ('Gemma Arterton',),\n",
        "#  ('Helen Mirren',),\n",
        "#  ('Jay Baruchel',),\n",
        "#  ('Jessica Alba',),\n",
        "#  ('Jonah Hill',),\n",
        "#  ('Josh Brolin',),\n",
        "#  ('Josh Duhamel',),\n",
        "#  ('Keith David',),\n",
        "#  ('Liam Neeson',),\n",
        "#  ('Matt Damon',),\n",
        "#  ('Melissa Leo',),\n",
        "#  ('Patricia Clarkson',),\n",
        "#  ('Pierce Brosnan',),\n",
        "#  ('Ralph Fiennes',),\n",
        "#  ('Susan Sarandon',),\n",
        "#  ('Zach Galifianakis',)]"
      ]
    },
    {
      "cell_type": "markdown",
      "metadata": {
        "id": "Vb_eFdmfdg7i"
      },
      "source": [
        "* What studio has Steven Spielberg worked with the most?"
      ]
    },
    {
      "cell_type": "code",
      "execution_count": 78,
      "metadata": {
        "colab": {
          "base_uri": "https://localhost:8080/"
        },
        "id": "--N_crbmdg7i",
        "outputId": "85388c2e-9eb9-44d4-892b-11fcbe15354a"
      },
      "outputs": [
        {
          "output_type": "execute_result",
          "data": {
            "text/plain": [
              "[('Universal Pictures', 7),\n",
              " ('Paramount Pictures', 6),\n",
              " ('Warner Bros. Pictures', 2),\n",
              " ('Walt Disney Pictures', 2),\n",
              " ('MCA Universal Home Video', 2),\n",
              " ('Dreamworks Pictures', 2),\n",
              " ('Dreamworks', 2),\n",
              " ('DreamWorks SKG', 2),\n",
              " ('Warner Home Video', 1),\n",
              " ('Universal City Studios', 1),\n",
              " ('TriStar Pictures', 1),\n",
              " ('Sony Pictures Releasing', 1),\n",
              " ('Paramount', 1),\n",
              " ('Dreamworks Distribution LLC', 1),\n",
              " ('20th Century Fox', 1)]"
            ]
          },
          "metadata": {},
          "execution_count": 78
        }
      ],
      "source": [
        "query = \"\"\"\n",
        "select\n",
        "  m.studio , count(*)\n",
        "from movies m\n",
        "join movie_directors md\n",
        "  on m.id = md.movie_id\n",
        "join directors d\n",
        "  on d.id = md.director_id\n",
        "where d.name = 'Steven Spielberg'\n",
        "group by\n",
        "  m.studio\n",
        "order by count(*) desc\n",
        "\n",
        "\"\"\"\n",
        "\n",
        "cursor.execute(query)\n",
        "cursor.fetchall()\n",
        "\n",
        "# [('Universal Pictures', 7)]"
      ]
    },
    {
      "cell_type": "markdown",
      "metadata": {
        "id": "J1SyVTkYdg7j"
      },
      "source": [
        "* What years did Steven Spielberg direct 2 movies?"
      ]
    },
    {
      "cell_type": "code",
      "execution_count": 82,
      "metadata": {
        "colab": {
          "base_uri": "https://localhost:8080/"
        },
        "id": "S2QPZyKfdg7j",
        "outputId": "01a69d2d-627d-4281-e1d4-485342ecf551"
      },
      "outputs": [
        {
          "output_type": "execute_result",
          "data": {
            "text/plain": [
              "[(1989, 2), (1993, 2), (1997, 2), (2002, 2), (2005, 2), (2011, 2), (2018, 2)]"
            ]
          },
          "metadata": {},
          "execution_count": 82
        }
      ],
      "source": [
        "query = \"\"\"\n",
        "select\n",
        "  m.year , count(*)\n",
        "from movies m\n",
        "join movie_directors md\n",
        "  on m.id = md.movie_id\n",
        "join directors d\n",
        "  on d.id = md.director_id\n",
        "where d.name = 'Steven Spielberg'\n",
        "group by\n",
        "  m.year\n",
        "having count(*) = 2\n",
        "order by count(*)\n",
        "\n",
        "\"\"\"\n",
        "\n",
        "cursor.execute(query)\n",
        "cursor.fetchall()\n",
        "\n",
        "# [(1989, 2), (1993, 2), (1997, 2), (2002, 2),\n",
        "# (2005, 2), (2011, 2), (2018, 2)]"
      ]
    },
    {
      "cell_type": "markdown",
      "metadata": {
        "id": "GID0ScEndg7k"
      },
      "source": [
        "* How many movies has each of the actors from Toy Story been in? (movie ID is 3648)"
      ]
    },
    {
      "cell_type": "code",
      "execution_count": 88,
      "metadata": {
        "colab": {
          "base_uri": "https://localhost:8080/"
        },
        "id": "KQ87QMr8dg7k",
        "outputId": "2511dbd6-f1fe-41ad-f70c-c18cdd192fed"
      },
      "outputs": [
        {
          "output_type": "execute_result",
          "data": {
            "text/plain": [
              "[('Tom Hanks', 46),\n",
              " ('Wallace Shawn', 27),\n",
              " ('Tim Allen', 20),\n",
              " ('Don Rickles', 10),\n",
              " ('Jim Varney', 8),\n",
              " ('John Ratzenberger', 7)]"
            ]
          },
          "metadata": {},
          "execution_count": 88
        }
      ],
      "source": [
        "query = \"\"\"\n",
        "select\n",
        "  a.name, count(m.id)\n",
        "from movies m\n",
        "join movie_actors ma\n",
        "  on m.id = ma.movie_id\n",
        "join actors a\n",
        "  on a.id = ma.actor_id\n",
        "group by\n",
        "  a.name\n",
        "having a.id in (select a.id from movies m\n",
        "                    join movie_actors ma\n",
        "                    on m.id = ma.movie_id\n",
        "                    join actors a\n",
        "                  on a.id = ma.actor_id\n",
        "                  where m.id = 3648)\n",
        "order by count(*) desc\n",
        "\n",
        "\"\"\"\n",
        "\n",
        "cursor.execute(query)\n",
        "cursor.fetchall()\n",
        "\n",
        "# [('Tom Hanks', 46),\n",
        " # ('Jim Varney', 8),\n",
        " # ('Wallace Shawn', 27),\n",
        " # ('Don Rickles', 10),\n",
        " # ('John Ratzenberger', 7),\n",
        " # ('Tim Allen', 20)]"
      ]
    },
    {
      "cell_type": "markdown",
      "metadata": {
        "id": "c1jSb8Ftdg7k"
      },
      "source": [
        "* What are the names of other movies the director of Toy Story directed?"
      ]
    },
    {
      "cell_type": "code",
      "execution_count": 91,
      "metadata": {
        "colab": {
          "base_uri": "https://localhost:8080/"
        },
        "id": "p611TrPHdg7k",
        "outputId": "d7dccde5-bce8-453b-b209-2e98c6b72499"
      },
      "outputs": [
        {
          "output_type": "execute_result",
          "data": {
            "text/plain": [
              "[('Cars 2',), ('Cars',), (\"A Bug's Life\",), ('Toy Story 2',), ('Toy Story',)]"
            ]
          },
          "metadata": {},
          "execution_count": 91
        }
      ],
      "source": [
        "query = \"\"\"\n",
        "select\n",
        "  m.title\n",
        "from movies m\n",
        "join movie_directors md\n",
        "  on m.id = md.movie_id\n",
        "join directors d\n",
        "  on d.id = md.director_id\n",
        "where d.id in (select d.id from movies m\n",
        "                    join movie_directors md on m.id = md.movie_id\n",
        "                    join directors d on d.id = md.director_id\n",
        "                  where m.id = 3648)\n",
        "\n",
        "\"\"\"\n",
        "\n",
        "cursor.execute(query)\n",
        "cursor.fetchall()\n",
        "\n",
        "# [('Cars 2',), ('Cars',), (\"A Bug's Life\",), ('Toy Story 2',), ('Toy Story',)]"
      ]
    },
    {
      "cell_type": "markdown",
      "metadata": {
        "id": "LMYYX9l4dg7k"
      },
      "source": [
        "* What are the names of all the directors Tom Hanks has worked with? (Actor ID 189) -- order by the director's name ascending and limit to the first five results."
      ]
    },
    {
      "cell_type": "code",
      "execution_count": 120,
      "metadata": {
        "colab": {
          "base_uri": "https://localhost:8080/"
        },
        "id": "dDt6SKC6dg7l",
        "outputId": "a14570f3-88ce-4bde-b779-e690555d1d0b"
      },
      "outputs": [
        {
          "output_type": "execute_result",
          "data": {
            "text/plain": [
              "[('Alexander Mackendrick',),\n",
              " ('Angus MacLane',),\n",
              " ('Brian DePalma',),\n",
              " ('Chris Paine',),\n",
              " ('Clint Eastwood',)]"
            ]
          },
          "metadata": {},
          "execution_count": 120
        }
      ],
      "source": [
        "query = \"\"\"\n",
        "select d.name from movies m\n",
        "                    join movie_directors md on m.id = md.movie_id\n",
        "                    join directors d on d.id = md.director_id\n",
        "                    join movie_actors ma on m.id = ma.movie_id\n",
        "                    join actors a on ma.actor_id = a.id\n",
        "                    where a.id = 189\n",
        "order by d.name asc\n",
        "limit 5\n",
        "\n",
        "\"\"\"\n",
        "\n",
        "cursor.execute(query)\n",
        "cursor.fetchall()\n",
        "\n",
        "# [('Alexander Mackendrick',),\n",
        "#  ('Angus MacLane',),\n",
        "#  ('Brian DePalma',),\n",
        "#  ('Chris Paine',),\n",
        "#  ('Clint Eastwood',)]"
      ]
    },
    {
      "cell_type": "markdown",
      "metadata": {
        "id": "CMbjiagvdg7l"
      },
      "source": [
        "* What is the name of the director Tom Hanks has worked with the most?"
      ]
    },
    {
      "cell_type": "code",
      "execution_count": 111,
      "metadata": {
        "colab": {
          "base_uri": "https://localhost:8080/"
        },
        "id": "aUrmeLLcdg7m",
        "outputId": "85670247-a229-4dd8-e02d-348416326f19"
      },
      "outputs": [
        {
          "output_type": "execute_result",
          "data": {
            "text/plain": [
              "[('Steven Spielberg', 5)]"
            ]
          },
          "metadata": {},
          "execution_count": 111
        }
      ],
      "source": [
        "query = \"\"\"\n",
        "select\n",
        "  distinct(d.name), count(*)\n",
        "from movies m\n",
        "                    join movie_directors md on m.id = md.movie_id\n",
        "                    join directors d on d.id = md.director_id\n",
        "                    join movie_actors ma on m.id = ma.movie_id\n",
        "                    join actors a on ma.actor_id = a.id\n",
        "                    where a.id = 189\n",
        "group by d.id\n",
        "order by count(*) desc\n",
        "limit 1\n",
        "\n",
        "\"\"\"\n",
        "\n",
        "cursor.execute(query)\n",
        "cursor.fetchall()\n",
        "\n",
        "# [('Steven Spielberg', 5)]"
      ]
    },
    {
      "cell_type": "markdown",
      "metadata": {
        "id": "-8Lr8S0-dg7m"
      },
      "source": [
        "* What are the names of all the writers Tom Hanks has worked with?"
      ]
    },
    {
      "cell_type": "code",
      "execution_count": 118,
      "metadata": {
        "colab": {
          "base_uri": "https://localhost:8080/"
        },
        "id": "zysav8WLdg7n",
        "outputId": "332c070a-0e8f-416c-9199-d8c5701be68d"
      },
      "outputs": [
        {
          "output_type": "execute_result",
          "data": {
            "text/plain": [
              "[('Eric Roth',),\n",
              " ('Nia Vardalos',),\n",
              " ('Tom Hanks',),\n",
              " ('Gary Ross',),\n",
              " ('Anne Spielberg',),\n",
              " ('Chris Paine',),\n",
              " ('Scott Frank',),\n",
              " ('Robert Rodat',),\n",
              " ('Frank Darabont',),\n",
              " ('Tom Tykwer',)]"
            ]
          },
          "metadata": {},
          "execution_count": 118
        }
      ],
      "source": [
        "query = \"\"\"\n",
        "select distinct(w.name) from movies m\n",
        "                    join movie_writers mw on m.id = mw.movie_id\n",
        "                    join writers w on w.id = mw.writer_id\n",
        "                    join movie_actors ma on m.id = ma.movie_id\n",
        "                    join actors a on ma.actor_id = a.id\n",
        "                    where a.id = 189\n",
        "limit 10\n",
        "\"\"\"\n",
        "\n",
        "cursor.execute(query)\n",
        "cursor.fetchall()\n",
        "\n",
        "# [('Eric Roth',),\n",
        "#  ('Nia Vardalos',),\n",
        "#  ('Tom Hanks',),\n",
        "#  ('Gary Ross',),\n",
        "#  ('Anne Spielberg',),\n",
        "#  ('Chris Paine',),\n",
        "#  ('Scott Frank',),\n",
        "#  ('Robert Rodat',),\n",
        "#  ('Frank Darabont',),\n",
        "#  ('Tom Tykwer',)]"
      ]
    },
    {
      "cell_type": "markdown",
      "metadata": {
        "id": "B5hYQ0LGdg7n"
      },
      "source": [
        "### Conclusion\n",
        "The movie database we queried during this lab had a multitude of relationships between the tables. We saw how we could use JOIN to connect the tables, in order query information about entities in different tables."
      ]
    }
  ],
  "metadata": {
    "kernelspec": {
      "display_name": "Python 3 (ipykernel)",
      "language": "python",
      "name": "python3"
    },
    "language_info": {
      "codemirror_mode": {
        "name": "ipython",
        "version": 3
      },
      "file_extension": ".py",
      "mimetype": "text/x-python",
      "name": "python",
      "nbconvert_exporter": "python",
      "pygments_lexer": "ipython3",
      "version": "3.10.6"
    },
    "colab": {
      "provenance": []
    }
  },
  "nbformat": 4,
  "nbformat_minor": 0
}