{
  "cells": [
    {
      "cell_type": "markdown",
      "metadata": {
        "id": "-S1K-ExlC16q"
      },
      "source": [
        "# Has Many Through"
      ]
    },
    {
      "cell_type": "markdown",
      "metadata": {
        "id": "Vuk8fAv3C17C"
      },
      "source": [
        "### Introduction"
      ]
    },
    {
      "cell_type": "markdown",
      "metadata": {
        "id": "kCZMuiBfC17F"
      },
      "source": [
        "In previous lessons, we saw how to work with a `has_many`, `has_one` relationship pattern, like an artist that has created many albums.  In this lesson, we'll see how to structure database for a many to many relationship."
      ]
    },
    {
      "cell_type": "markdown",
      "metadata": {
        "id": "sS8VmzFKC17L"
      },
      "source": [
        "### Our Setting"
      ]
    },
    {
      "cell_type": "markdown",
      "metadata": {
        "id": "VX4yZFjLC17N"
      },
      "source": [
        "Imagine we are creating a database for a hospital.  We want to keep track of the patients that each doctor has.  Notice that here, we do not really have a `has_many` `has_one` relationship.\n",
        "\n",
        "This is because:\n",
        "* A patient `has_many` doctors **and**\n",
        "* A doctor `has_many` patients."
      ]
    },
    {
      "cell_type": "markdown",
      "metadata": {
        "id": "tjx12bmoC17O"
      },
      "source": [
        "Let's try to structure this type of relationship in excel.  To start with here are our tables of doctors and patients."
      ]
    },
    {
      "cell_type": "markdown",
      "metadata": {
        "id": "S_iQ6xQQC17P"
      },
      "source": [
        "* Doctors"
      ]
    },
    {
      "cell_type": "markdown",
      "metadata": {
        "id": "n2r2sEbRC17Q"
      },
      "source": [
        "<img src=\"https://github.com/sql-fundamentals-jigsaw/mod-1-sql-curriculum/blob/master/2-sql-relations/4-has-many-through-reading/doctors-table.png?raw=1\" width=\"50%\">"
      ]
    },
    {
      "cell_type": "markdown",
      "metadata": {
        "id": "ychCgoa1C17Y"
      },
      "source": [
        "* Patients"
      ]
    },
    {
      "cell_type": "markdown",
      "metadata": {
        "id": "oXBi1Y1JC17Y"
      },
      "source": [
        "<img src=\"https://github.com/sql-fundamentals-jigsaw/mod-1-sql-curriculum/blob/master/2-sql-relations/4-has-many-through-reading/patients-table.png?raw=1\" width=\"50%\">"
      ]
    },
    {
      "cell_type": "markdown",
      "metadata": {
        "id": "vjof-ALSC17v"
      },
      "source": [
        "Now let's think about how we can connect the two.\n",
        "\n",
        "If we place the foreign key of `doctor_id` on the patients, then we are saying that a patient can only have one doctor.  And every time a patient gets another doctor, we would have to add another `doctor_id` column."
      ]
    },
    {
      "cell_type": "markdown",
      "metadata": {
        "id": "TvSFwvSKC18I"
      },
      "source": [
        "<img src=\"https://github.com/sql-fundamentals-jigsaw/mod-1-sql-curriculum/blob/master/2-sql-relations/4-has-many-through-reading/wrong-join-doctors.png?raw=1\" width=\"50%\">"
      ]
    },
    {
      "cell_type": "markdown",
      "metadata": {
        "id": "tfYXNteIC18J"
      },
      "source": [
        "But if we place the foreign key of `patient_id` on the doctors table, then we are saying that a doctor can only have one patient.  And every time a doctor gets another patient, we would have to add another `patient_id` column."
      ]
    },
    {
      "cell_type": "markdown",
      "metadata": {
        "id": "EaNiyCaTC18K"
      },
      "source": [
        "<img src=\"https://github.com/sql-fundamentals-jigsaw/mod-1-sql-curriculum/blob/master/2-sql-relations/4-has-many-through-reading/wrong-doctors.png?raw=1\" width=\"50%\">"
      ]
    },
    {
      "cell_type": "markdown",
      "metadata": {
        "id": "AbcNRnvgC18K"
      },
      "source": [
        "Either way, we are running into an issue.  The problem is that:\n",
        "* We do not know how many patients a doctor will have, and\n",
        "* We do not know how doctors a patient will have\n",
        "\n",
        "### The Solution"
      ]
    },
    {
      "cell_type": "markdown",
      "metadata": {
        "id": "xKzwhVR7C18K"
      },
      "source": [
        "We can solve this by creating a join table.  In our join table each row will represent a doctor patient relationship."
      ]
    },
    {
      "cell_type": "markdown",
      "metadata": {
        "id": "q0v1zehjC18L"
      },
      "source": [
        "* `doctor_patients`"
      ]
    },
    {
      "cell_type": "markdown",
      "metadata": {
        "id": "DrJhQb7qC18N"
      },
      "source": [
        "<img src=\"https://github.com/sql-fundamentals-jigsaw/mod-1-sql-curriculum/blob/master/2-sql-relations/4-has-many-through-reading/doctors-patients-join.png?raw=1\" width=\"60%\">"
      ]
    },
    {
      "cell_type": "markdown",
      "metadata": {
        "id": "OQlGABP2C18N"
      },
      "source": [
        "Let's take a moment to understand the new table above.\n",
        "\n",
        "Above the first row represents the relationship between the doctor with `id = 2` and the patient where `id = 3`.  And then if we want to see the other patient that the doctor has, we can see in the fourth row that the doctor with `id = 2` also has a patient of `4`."
      ]
    },
    {
      "cell_type": "markdown",
      "metadata": {
        "id": "TT07cj4LC18O"
      },
      "source": [
        "### Loading Our Data"
      ]
    },
    {
      "cell_type": "code",
      "execution_count": 1,
      "metadata": {
        "id": "ncXEDB7hC18P"
      },
      "outputs": [],
      "source": [
        "import pandas as pd\n",
        "import sqlite3\n",
        "conn = sqlite3.connect('./hospitals.db')"
      ]
    },
    {
      "cell_type": "code",
      "execution_count": 2,
      "metadata": {
        "id": "eM9Al0DgC183"
      },
      "outputs": [],
      "source": [
        "import pandas as pd\n",
        "doctors_patients_url = \"https://raw.githubusercontent.com/sql-fundamentals-jigsaw/mod-1-sql-curriculum/master/2-sql-relations/4-has-many-through-reading/doctors_patients.csv\"\n",
        "doctors_url = \"https://raw.githubusercontent.com/sql-fundamentals-jigsaw/mod-1-sql-curriculum/master/2-sql-relations/4-has-many-through-reading/doctors.csv\"\n",
        "patients_url = \"https://raw.githubusercontent.com/sql-fundamentals-jigsaw/mod-1-sql-curriculum/master/2-sql-relations/4-has-many-through-reading/patients.csv\"\n",
        "\n",
        "doctors_df = pd.read_csv(doctors_url)\n",
        "patients_df = pd.read_csv(patients_url)\n",
        "doctors_patients_df = pd.read_csv(doctors_patients_url)"
      ]
    },
    {
      "cell_type": "code",
      "execution_count": 3,
      "metadata": {
        "id": "-JuCfNpKC183",
        "outputId": "f8266396-f35d-4359-bbe9-54ecb3cf4e08",
        "colab": {
          "base_uri": "https://localhost:8080/"
        }
      },
      "outputs": [
        {
          "output_type": "execute_result",
          "data": {
            "text/plain": [
              "6"
            ]
          },
          "metadata": {},
          "execution_count": 3
        }
      ],
      "source": [
        "doctors_df.to_sql('doctors', conn, index = False)\n",
        "patients_df.to_sql('patients', conn, index = False)\n",
        "doctors_patients_df.to_sql('doctors_patients', conn, index = False)"
      ]
    },
    {
      "cell_type": "code",
      "execution_count": 4,
      "metadata": {
        "id": "a-tMXzePC19O",
        "outputId": "242e96a9-9c90-428f-ecc7-5bbbb43a92a4",
        "colab": {
          "base_uri": "https://localhost:8080/"
        }
      },
      "outputs": [
        {
          "output_type": "execute_result",
          "data": {
            "text/plain": [
              "[('doctors',), ('patients',), ('doctors_patients',)]"
            ]
          },
          "metadata": {},
          "execution_count": 4
        }
      ],
      "source": [
        "cursor = conn.cursor()\n",
        "cursor.execute('SELECT name from sqlite_master where type= \"table\"')\n",
        "cursor.fetchall()"
      ]
    },
    {
      "cell_type": "code",
      "execution_count": 5,
      "metadata": {
        "id": "8pM1uwlgC19Q"
      },
      "outputs": [],
      "source": [
        "doctors_df = pd.read_sql('select * from doctors;', conn)\n",
        "patients_df = pd.read_sql('select * from patients;', conn)\n",
        "doctors_patients_df = pd.read_sql('select * from doctors_patients;', conn)"
      ]
    },
    {
      "cell_type": "code",
      "execution_count": 6,
      "metadata": {
        "id": "I8cWFS3rC19R",
        "outputId": "332c3191-cf59-463d-fb8b-771b1e7267f5",
        "colab": {
          "base_uri": "https://localhost:8080/",
          "height": 206
        }
      },
      "outputs": [
        {
          "output_type": "execute_result",
          "data": {
            "text/plain": [
              "   id first_name last_name              position\n",
              "0   1    Gregory     House  General Practitioner\n",
              "1   2       Lisa     Cuddy          Chief Doctor\n",
              "2   3      James    Wilson     Cancer Specialist\n",
              "3   4     Robert     Chase              Resident\n",
              "4   5       Eric   Foreman     Practicing Doctor"
            ],
            "text/html": [
              "\n",
              "  <div id=\"df-4e6e1c78-76fd-4cb8-ac1c-70da5e19f3d7\" class=\"colab-df-container\">\n",
              "    <div>\n",
              "<style scoped>\n",
              "    .dataframe tbody tr th:only-of-type {\n",
              "        vertical-align: middle;\n",
              "    }\n",
              "\n",
              "    .dataframe tbody tr th {\n",
              "        vertical-align: top;\n",
              "    }\n",
              "\n",
              "    .dataframe thead th {\n",
              "        text-align: right;\n",
              "    }\n",
              "</style>\n",
              "<table border=\"1\" class=\"dataframe\">\n",
              "  <thead>\n",
              "    <tr style=\"text-align: right;\">\n",
              "      <th></th>\n",
              "      <th>id</th>\n",
              "      <th>first_name</th>\n",
              "      <th>last_name</th>\n",
              "      <th>position</th>\n",
              "    </tr>\n",
              "  </thead>\n",
              "  <tbody>\n",
              "    <tr>\n",
              "      <th>0</th>\n",
              "      <td>1</td>\n",
              "      <td>Gregory</td>\n",
              "      <td>House</td>\n",
              "      <td>General Practitioner</td>\n",
              "    </tr>\n",
              "    <tr>\n",
              "      <th>1</th>\n",
              "      <td>2</td>\n",
              "      <td>Lisa</td>\n",
              "      <td>Cuddy</td>\n",
              "      <td>Chief Doctor</td>\n",
              "    </tr>\n",
              "    <tr>\n",
              "      <th>2</th>\n",
              "      <td>3</td>\n",
              "      <td>James</td>\n",
              "      <td>Wilson</td>\n",
              "      <td>Cancer Specialist</td>\n",
              "    </tr>\n",
              "    <tr>\n",
              "      <th>3</th>\n",
              "      <td>4</td>\n",
              "      <td>Robert</td>\n",
              "      <td>Chase</td>\n",
              "      <td>Resident</td>\n",
              "    </tr>\n",
              "    <tr>\n",
              "      <th>4</th>\n",
              "      <td>5</td>\n",
              "      <td>Eric</td>\n",
              "      <td>Foreman</td>\n",
              "      <td>Practicing Doctor</td>\n",
              "    </tr>\n",
              "  </tbody>\n",
              "</table>\n",
              "</div>\n",
              "    <div class=\"colab-df-buttons\">\n",
              "\n",
              "  <div class=\"colab-df-container\">\n",
              "    <button class=\"colab-df-convert\" onclick=\"convertToInteractive('df-4e6e1c78-76fd-4cb8-ac1c-70da5e19f3d7')\"\n",
              "            title=\"Convert this dataframe to an interactive table.\"\n",
              "            style=\"display:none;\">\n",
              "\n",
              "  <svg xmlns=\"http://www.w3.org/2000/svg\" height=\"24px\" viewBox=\"0 -960 960 960\">\n",
              "    <path d=\"M120-120v-720h720v720H120Zm60-500h600v-160H180v160Zm220 220h160v-160H400v160Zm0 220h160v-160H400v160ZM180-400h160v-160H180v160Zm440 0h160v-160H620v160ZM180-180h160v-160H180v160Zm440 0h160v-160H620v160Z\"/>\n",
              "  </svg>\n",
              "    </button>\n",
              "\n",
              "  <style>\n",
              "    .colab-df-container {\n",
              "      display:flex;\n",
              "      gap: 12px;\n",
              "    }\n",
              "\n",
              "    .colab-df-convert {\n",
              "      background-color: #E8F0FE;\n",
              "      border: none;\n",
              "      border-radius: 50%;\n",
              "      cursor: pointer;\n",
              "      display: none;\n",
              "      fill: #1967D2;\n",
              "      height: 32px;\n",
              "      padding: 0 0 0 0;\n",
              "      width: 32px;\n",
              "    }\n",
              "\n",
              "    .colab-df-convert:hover {\n",
              "      background-color: #E2EBFA;\n",
              "      box-shadow: 0px 1px 2px rgba(60, 64, 67, 0.3), 0px 1px 3px 1px rgba(60, 64, 67, 0.15);\n",
              "      fill: #174EA6;\n",
              "    }\n",
              "\n",
              "    .colab-df-buttons div {\n",
              "      margin-bottom: 4px;\n",
              "    }\n",
              "\n",
              "    [theme=dark] .colab-df-convert {\n",
              "      background-color: #3B4455;\n",
              "      fill: #D2E3FC;\n",
              "    }\n",
              "\n",
              "    [theme=dark] .colab-df-convert:hover {\n",
              "      background-color: #434B5C;\n",
              "      box-shadow: 0px 1px 3px 1px rgba(0, 0, 0, 0.15);\n",
              "      filter: drop-shadow(0px 1px 2px rgba(0, 0, 0, 0.3));\n",
              "      fill: #FFFFFF;\n",
              "    }\n",
              "  </style>\n",
              "\n",
              "    <script>\n",
              "      const buttonEl =\n",
              "        document.querySelector('#df-4e6e1c78-76fd-4cb8-ac1c-70da5e19f3d7 button.colab-df-convert');\n",
              "      buttonEl.style.display =\n",
              "        google.colab.kernel.accessAllowed ? 'block' : 'none';\n",
              "\n",
              "      async function convertToInteractive(key) {\n",
              "        const element = document.querySelector('#df-4e6e1c78-76fd-4cb8-ac1c-70da5e19f3d7');\n",
              "        const dataTable =\n",
              "          await google.colab.kernel.invokeFunction('convertToInteractive',\n",
              "                                                    [key], {});\n",
              "        if (!dataTable) return;\n",
              "\n",
              "        const docLinkHtml = 'Like what you see? Visit the ' +\n",
              "          '<a target=\"_blank\" href=https://colab.research.google.com/notebooks/data_table.ipynb>data table notebook</a>'\n",
              "          + ' to learn more about interactive tables.';\n",
              "        element.innerHTML = '';\n",
              "        dataTable['output_type'] = 'display_data';\n",
              "        await google.colab.output.renderOutput(dataTable, element);\n",
              "        const docLink = document.createElement('div');\n",
              "        docLink.innerHTML = docLinkHtml;\n",
              "        element.appendChild(docLink);\n",
              "      }\n",
              "    </script>\n",
              "  </div>\n",
              "\n",
              "\n",
              "<div id=\"df-9848a32c-5bc4-48c5-a06e-6323331c5128\">\n",
              "  <button class=\"colab-df-quickchart\" onclick=\"quickchart('df-9848a32c-5bc4-48c5-a06e-6323331c5128')\"\n",
              "            title=\"Suggest charts.\"\n",
              "            style=\"display:none;\">\n",
              "\n",
              "<svg xmlns=\"http://www.w3.org/2000/svg\" height=\"24px\"viewBox=\"0 0 24 24\"\n",
              "     width=\"24px\">\n",
              "    <g>\n",
              "        <path d=\"M19 3H5c-1.1 0-2 .9-2 2v14c0 1.1.9 2 2 2h14c1.1 0 2-.9 2-2V5c0-1.1-.9-2-2-2zM9 17H7v-7h2v7zm4 0h-2V7h2v10zm4 0h-2v-4h2v4z\"/>\n",
              "    </g>\n",
              "</svg>\n",
              "  </button>\n",
              "\n",
              "<style>\n",
              "  .colab-df-quickchart {\n",
              "      --bg-color: #E8F0FE;\n",
              "      --fill-color: #1967D2;\n",
              "      --hover-bg-color: #E2EBFA;\n",
              "      --hover-fill-color: #174EA6;\n",
              "      --disabled-fill-color: #AAA;\n",
              "      --disabled-bg-color: #DDD;\n",
              "  }\n",
              "\n",
              "  [theme=dark] .colab-df-quickchart {\n",
              "      --bg-color: #3B4455;\n",
              "      --fill-color: #D2E3FC;\n",
              "      --hover-bg-color: #434B5C;\n",
              "      --hover-fill-color: #FFFFFF;\n",
              "      --disabled-bg-color: #3B4455;\n",
              "      --disabled-fill-color: #666;\n",
              "  }\n",
              "\n",
              "  .colab-df-quickchart {\n",
              "    background-color: var(--bg-color);\n",
              "    border: none;\n",
              "    border-radius: 50%;\n",
              "    cursor: pointer;\n",
              "    display: none;\n",
              "    fill: var(--fill-color);\n",
              "    height: 32px;\n",
              "    padding: 0;\n",
              "    width: 32px;\n",
              "  }\n",
              "\n",
              "  .colab-df-quickchart:hover {\n",
              "    background-color: var(--hover-bg-color);\n",
              "    box-shadow: 0 1px 2px rgba(60, 64, 67, 0.3), 0 1px 3px 1px rgba(60, 64, 67, 0.15);\n",
              "    fill: var(--button-hover-fill-color);\n",
              "  }\n",
              "\n",
              "  .colab-df-quickchart-complete:disabled,\n",
              "  .colab-df-quickchart-complete:disabled:hover {\n",
              "    background-color: var(--disabled-bg-color);\n",
              "    fill: var(--disabled-fill-color);\n",
              "    box-shadow: none;\n",
              "  }\n",
              "\n",
              "  .colab-df-spinner {\n",
              "    border: 2px solid var(--fill-color);\n",
              "    border-color: transparent;\n",
              "    border-bottom-color: var(--fill-color);\n",
              "    animation:\n",
              "      spin 1s steps(1) infinite;\n",
              "  }\n",
              "\n",
              "  @keyframes spin {\n",
              "    0% {\n",
              "      border-color: transparent;\n",
              "      border-bottom-color: var(--fill-color);\n",
              "      border-left-color: var(--fill-color);\n",
              "    }\n",
              "    20% {\n",
              "      border-color: transparent;\n",
              "      border-left-color: var(--fill-color);\n",
              "      border-top-color: var(--fill-color);\n",
              "    }\n",
              "    30% {\n",
              "      border-color: transparent;\n",
              "      border-left-color: var(--fill-color);\n",
              "      border-top-color: var(--fill-color);\n",
              "      border-right-color: var(--fill-color);\n",
              "    }\n",
              "    40% {\n",
              "      border-color: transparent;\n",
              "      border-right-color: var(--fill-color);\n",
              "      border-top-color: var(--fill-color);\n",
              "    }\n",
              "    60% {\n",
              "      border-color: transparent;\n",
              "      border-right-color: var(--fill-color);\n",
              "    }\n",
              "    80% {\n",
              "      border-color: transparent;\n",
              "      border-right-color: var(--fill-color);\n",
              "      border-bottom-color: var(--fill-color);\n",
              "    }\n",
              "    90% {\n",
              "      border-color: transparent;\n",
              "      border-bottom-color: var(--fill-color);\n",
              "    }\n",
              "  }\n",
              "</style>\n",
              "\n",
              "  <script>\n",
              "    async function quickchart(key) {\n",
              "      const quickchartButtonEl =\n",
              "        document.querySelector('#' + key + ' button');\n",
              "      quickchartButtonEl.disabled = true;  // To prevent multiple clicks.\n",
              "      quickchartButtonEl.classList.add('colab-df-spinner');\n",
              "      try {\n",
              "        const charts = await google.colab.kernel.invokeFunction(\n",
              "            'suggestCharts', [key], {});\n",
              "      } catch (error) {\n",
              "        console.error('Error during call to suggestCharts:', error);\n",
              "      }\n",
              "      quickchartButtonEl.classList.remove('colab-df-spinner');\n",
              "      quickchartButtonEl.classList.add('colab-df-quickchart-complete');\n",
              "    }\n",
              "    (() => {\n",
              "      let quickchartButtonEl =\n",
              "        document.querySelector('#df-9848a32c-5bc4-48c5-a06e-6323331c5128 button');\n",
              "      quickchartButtonEl.style.display =\n",
              "        google.colab.kernel.accessAllowed ? 'block' : 'none';\n",
              "    })();\n",
              "  </script>\n",
              "</div>\n",
              "    </div>\n",
              "  </div>\n"
            ]
          },
          "metadata": {},
          "execution_count": 6
        }
      ],
      "source": [
        "doctors_df"
      ]
    },
    {
      "cell_type": "code",
      "execution_count": 7,
      "metadata": {
        "id": "uv5_g2kaC19R",
        "outputId": "317baec9-0736-477e-f30d-8b1a899c466b",
        "colab": {
          "base_uri": "https://localhost:8080/",
          "height": 175
        }
      },
      "outputs": [
        {
          "output_type": "execute_result",
          "data": {
            "text/plain": [
              "   id first_name last_name   birthday\n",
              "0   1      Jerry  Seinfeld   1962-3-3\n",
              "1   2     Elaine     Benis   1966-4-5\n",
              "2   3      Cosmo    Kramer  1960-5-10\n",
              "3   4   Costanza    George  1962-6-10"
            ],
            "text/html": [
              "\n",
              "  <div id=\"df-c813df8f-3391-4764-ad65-514c5397c526\" class=\"colab-df-container\">\n",
              "    <div>\n",
              "<style scoped>\n",
              "    .dataframe tbody tr th:only-of-type {\n",
              "        vertical-align: middle;\n",
              "    }\n",
              "\n",
              "    .dataframe tbody tr th {\n",
              "        vertical-align: top;\n",
              "    }\n",
              "\n",
              "    .dataframe thead th {\n",
              "        text-align: right;\n",
              "    }\n",
              "</style>\n",
              "<table border=\"1\" class=\"dataframe\">\n",
              "  <thead>\n",
              "    <tr style=\"text-align: right;\">\n",
              "      <th></th>\n",
              "      <th>id</th>\n",
              "      <th>first_name</th>\n",
              "      <th>last_name</th>\n",
              "      <th>birthday</th>\n",
              "    </tr>\n",
              "  </thead>\n",
              "  <tbody>\n",
              "    <tr>\n",
              "      <th>0</th>\n",
              "      <td>1</td>\n",
              "      <td>Jerry</td>\n",
              "      <td>Seinfeld</td>\n",
              "      <td>1962-3-3</td>\n",
              "    </tr>\n",
              "    <tr>\n",
              "      <th>1</th>\n",
              "      <td>2</td>\n",
              "      <td>Elaine</td>\n",
              "      <td>Benis</td>\n",
              "      <td>1966-4-5</td>\n",
              "    </tr>\n",
              "    <tr>\n",
              "      <th>2</th>\n",
              "      <td>3</td>\n",
              "      <td>Cosmo</td>\n",
              "      <td>Kramer</td>\n",
              "      <td>1960-5-10</td>\n",
              "    </tr>\n",
              "    <tr>\n",
              "      <th>3</th>\n",
              "      <td>4</td>\n",
              "      <td>Costanza</td>\n",
              "      <td>George</td>\n",
              "      <td>1962-6-10</td>\n",
              "    </tr>\n",
              "  </tbody>\n",
              "</table>\n",
              "</div>\n",
              "    <div class=\"colab-df-buttons\">\n",
              "\n",
              "  <div class=\"colab-df-container\">\n",
              "    <button class=\"colab-df-convert\" onclick=\"convertToInteractive('df-c813df8f-3391-4764-ad65-514c5397c526')\"\n",
              "            title=\"Convert this dataframe to an interactive table.\"\n",
              "            style=\"display:none;\">\n",
              "\n",
              "  <svg xmlns=\"http://www.w3.org/2000/svg\" height=\"24px\" viewBox=\"0 -960 960 960\">\n",
              "    <path d=\"M120-120v-720h720v720H120Zm60-500h600v-160H180v160Zm220 220h160v-160H400v160Zm0 220h160v-160H400v160ZM180-400h160v-160H180v160Zm440 0h160v-160H620v160ZM180-180h160v-160H180v160Zm440 0h160v-160H620v160Z\"/>\n",
              "  </svg>\n",
              "    </button>\n",
              "\n",
              "  <style>\n",
              "    .colab-df-container {\n",
              "      display:flex;\n",
              "      gap: 12px;\n",
              "    }\n",
              "\n",
              "    .colab-df-convert {\n",
              "      background-color: #E8F0FE;\n",
              "      border: none;\n",
              "      border-radius: 50%;\n",
              "      cursor: pointer;\n",
              "      display: none;\n",
              "      fill: #1967D2;\n",
              "      height: 32px;\n",
              "      padding: 0 0 0 0;\n",
              "      width: 32px;\n",
              "    }\n",
              "\n",
              "    .colab-df-convert:hover {\n",
              "      background-color: #E2EBFA;\n",
              "      box-shadow: 0px 1px 2px rgba(60, 64, 67, 0.3), 0px 1px 3px 1px rgba(60, 64, 67, 0.15);\n",
              "      fill: #174EA6;\n",
              "    }\n",
              "\n",
              "    .colab-df-buttons div {\n",
              "      margin-bottom: 4px;\n",
              "    }\n",
              "\n",
              "    [theme=dark] .colab-df-convert {\n",
              "      background-color: #3B4455;\n",
              "      fill: #D2E3FC;\n",
              "    }\n",
              "\n",
              "    [theme=dark] .colab-df-convert:hover {\n",
              "      background-color: #434B5C;\n",
              "      box-shadow: 0px 1px 3px 1px rgba(0, 0, 0, 0.15);\n",
              "      filter: drop-shadow(0px 1px 2px rgba(0, 0, 0, 0.3));\n",
              "      fill: #FFFFFF;\n",
              "    }\n",
              "  </style>\n",
              "\n",
              "    <script>\n",
              "      const buttonEl =\n",
              "        document.querySelector('#df-c813df8f-3391-4764-ad65-514c5397c526 button.colab-df-convert');\n",
              "      buttonEl.style.display =\n",
              "        google.colab.kernel.accessAllowed ? 'block' : 'none';\n",
              "\n",
              "      async function convertToInteractive(key) {\n",
              "        const element = document.querySelector('#df-c813df8f-3391-4764-ad65-514c5397c526');\n",
              "        const dataTable =\n",
              "          await google.colab.kernel.invokeFunction('convertToInteractive',\n",
              "                                                    [key], {});\n",
              "        if (!dataTable) return;\n",
              "\n",
              "        const docLinkHtml = 'Like what you see? Visit the ' +\n",
              "          '<a target=\"_blank\" href=https://colab.research.google.com/notebooks/data_table.ipynb>data table notebook</a>'\n",
              "          + ' to learn more about interactive tables.';\n",
              "        element.innerHTML = '';\n",
              "        dataTable['output_type'] = 'display_data';\n",
              "        await google.colab.output.renderOutput(dataTable, element);\n",
              "        const docLink = document.createElement('div');\n",
              "        docLink.innerHTML = docLinkHtml;\n",
              "        element.appendChild(docLink);\n",
              "      }\n",
              "    </script>\n",
              "  </div>\n",
              "\n",
              "\n",
              "<div id=\"df-0f8c0a91-6926-4db1-bf4e-52cff47830ba\">\n",
              "  <button class=\"colab-df-quickchart\" onclick=\"quickchart('df-0f8c0a91-6926-4db1-bf4e-52cff47830ba')\"\n",
              "            title=\"Suggest charts.\"\n",
              "            style=\"display:none;\">\n",
              "\n",
              "<svg xmlns=\"http://www.w3.org/2000/svg\" height=\"24px\"viewBox=\"0 0 24 24\"\n",
              "     width=\"24px\">\n",
              "    <g>\n",
              "        <path d=\"M19 3H5c-1.1 0-2 .9-2 2v14c0 1.1.9 2 2 2h14c1.1 0 2-.9 2-2V5c0-1.1-.9-2-2-2zM9 17H7v-7h2v7zm4 0h-2V7h2v10zm4 0h-2v-4h2v4z\"/>\n",
              "    </g>\n",
              "</svg>\n",
              "  </button>\n",
              "\n",
              "<style>\n",
              "  .colab-df-quickchart {\n",
              "      --bg-color: #E8F0FE;\n",
              "      --fill-color: #1967D2;\n",
              "      --hover-bg-color: #E2EBFA;\n",
              "      --hover-fill-color: #174EA6;\n",
              "      --disabled-fill-color: #AAA;\n",
              "      --disabled-bg-color: #DDD;\n",
              "  }\n",
              "\n",
              "  [theme=dark] .colab-df-quickchart {\n",
              "      --bg-color: #3B4455;\n",
              "      --fill-color: #D2E3FC;\n",
              "      --hover-bg-color: #434B5C;\n",
              "      --hover-fill-color: #FFFFFF;\n",
              "      --disabled-bg-color: #3B4455;\n",
              "      --disabled-fill-color: #666;\n",
              "  }\n",
              "\n",
              "  .colab-df-quickchart {\n",
              "    background-color: var(--bg-color);\n",
              "    border: none;\n",
              "    border-radius: 50%;\n",
              "    cursor: pointer;\n",
              "    display: none;\n",
              "    fill: var(--fill-color);\n",
              "    height: 32px;\n",
              "    padding: 0;\n",
              "    width: 32px;\n",
              "  }\n",
              "\n",
              "  .colab-df-quickchart:hover {\n",
              "    background-color: var(--hover-bg-color);\n",
              "    box-shadow: 0 1px 2px rgba(60, 64, 67, 0.3), 0 1px 3px 1px rgba(60, 64, 67, 0.15);\n",
              "    fill: var(--button-hover-fill-color);\n",
              "  }\n",
              "\n",
              "  .colab-df-quickchart-complete:disabled,\n",
              "  .colab-df-quickchart-complete:disabled:hover {\n",
              "    background-color: var(--disabled-bg-color);\n",
              "    fill: var(--disabled-fill-color);\n",
              "    box-shadow: none;\n",
              "  }\n",
              "\n",
              "  .colab-df-spinner {\n",
              "    border: 2px solid var(--fill-color);\n",
              "    border-color: transparent;\n",
              "    border-bottom-color: var(--fill-color);\n",
              "    animation:\n",
              "      spin 1s steps(1) infinite;\n",
              "  }\n",
              "\n",
              "  @keyframes spin {\n",
              "    0% {\n",
              "      border-color: transparent;\n",
              "      border-bottom-color: var(--fill-color);\n",
              "      border-left-color: var(--fill-color);\n",
              "    }\n",
              "    20% {\n",
              "      border-color: transparent;\n",
              "      border-left-color: var(--fill-color);\n",
              "      border-top-color: var(--fill-color);\n",
              "    }\n",
              "    30% {\n",
              "      border-color: transparent;\n",
              "      border-left-color: var(--fill-color);\n",
              "      border-top-color: var(--fill-color);\n",
              "      border-right-color: var(--fill-color);\n",
              "    }\n",
              "    40% {\n",
              "      border-color: transparent;\n",
              "      border-right-color: var(--fill-color);\n",
              "      border-top-color: var(--fill-color);\n",
              "    }\n",
              "    60% {\n",
              "      border-color: transparent;\n",
              "      border-right-color: var(--fill-color);\n",
              "    }\n",
              "    80% {\n",
              "      border-color: transparent;\n",
              "      border-right-color: var(--fill-color);\n",
              "      border-bottom-color: var(--fill-color);\n",
              "    }\n",
              "    90% {\n",
              "      border-color: transparent;\n",
              "      border-bottom-color: var(--fill-color);\n",
              "    }\n",
              "  }\n",
              "</style>\n",
              "\n",
              "  <script>\n",
              "    async function quickchart(key) {\n",
              "      const quickchartButtonEl =\n",
              "        document.querySelector('#' + key + ' button');\n",
              "      quickchartButtonEl.disabled = true;  // To prevent multiple clicks.\n",
              "      quickchartButtonEl.classList.add('colab-df-spinner');\n",
              "      try {\n",
              "        const charts = await google.colab.kernel.invokeFunction(\n",
              "            'suggestCharts', [key], {});\n",
              "      } catch (error) {\n",
              "        console.error('Error during call to suggestCharts:', error);\n",
              "      }\n",
              "      quickchartButtonEl.classList.remove('colab-df-spinner');\n",
              "      quickchartButtonEl.classList.add('colab-df-quickchart-complete');\n",
              "    }\n",
              "    (() => {\n",
              "      let quickchartButtonEl =\n",
              "        document.querySelector('#df-0f8c0a91-6926-4db1-bf4e-52cff47830ba button');\n",
              "      quickchartButtonEl.style.display =\n",
              "        google.colab.kernel.accessAllowed ? 'block' : 'none';\n",
              "    })();\n",
              "  </script>\n",
              "</div>\n",
              "    </div>\n",
              "  </div>\n"
            ]
          },
          "metadata": {},
          "execution_count": 7
        }
      ],
      "source": [
        "patients_df"
      ]
    },
    {
      "cell_type": "markdown",
      "metadata": {
        "id": "WkElj-8lC19S"
      },
      "source": [
        "### Querying the Data"
      ]
    },
    {
      "cell_type": "markdown",
      "metadata": {
        "id": "p5kJcsoVC19S"
      },
      "source": [
        "Now that we have loaded our data into our database, let's begin to ask questions of it."
      ]
    },
    {
      "cell_type": "markdown",
      "metadata": {
        "id": "tg99e7G5C19T"
      },
      "source": [
        "<img src=\"https://github.com/sql-fundamentals-jigsaw/mod-1-sql-curriculum/blob/master/2-sql-relations/4-has-many-through-reading/doctors-patients-join.png?raw=1\" width=\"30%\"> <img src=\"https://github.com/sql-fundamentals-jigsaw/mod-1-sql-curriculum/blob/master/2-sql-relations/4-has-many-through-reading/doctors-table.png?raw=1\" width=\"30%\"> <img src=\"https://github.com/sql-fundamentals-jigsaw/mod-1-sql-curriculum/blob/master/2-sql-relations/4-has-many-through-reading/patients-table.png?raw=1\" width=\"30%\">"
      ]
    },
    {
      "cell_type": "markdown",
      "metadata": {
        "id": "VNIJygrsC19U"
      },
      "source": [
        "Let's start with working with the `doctors_patients` table and then we can go from there."
      ]
    },
    {
      "cell_type": "markdown",
      "metadata": {
        "id": "xX0e3zPMC19U"
      },
      "source": [
        "* Find the all of the patients who have the doctor with `id = 2`."
      ]
    },
    {
      "cell_type": "code",
      "execution_count": 10,
      "metadata": {
        "id": "EfgmI7hMC19U",
        "outputId": "22991cec-a43a-4208-ebfd-66456be2a311",
        "colab": {
          "base_uri": "https://localhost:8080/"
        }
      },
      "outputs": [
        {
          "output_type": "execute_result",
          "data": {
            "text/plain": [
              "[(1, 2, 3), (4, 2, 4)]"
            ]
          },
          "metadata": {},
          "execution_count": 10
        }
      ],
      "source": [
        "cursor.execute('select * from doctors_patients WHERE doctor_id = 2')\n",
        "cursor.fetchall()"
      ]
    },
    {
      "cell_type": "markdown",
      "metadata": {
        "id": "Y5crjcw9C19x"
      },
      "source": [
        "We can see that our first and fourth rows are returned, and that the patients of the doctor with id 2 is the patient with `id = 3`, and the patient with `id = 4`."
      ]
    },
    {
      "cell_type": "markdown",
      "metadata": {
        "id": "DAthyNrJC19y"
      },
      "source": [
        "The next thing to do from here, is get the names of those patients who have had the doctor with id = 2."
      ]
    },
    {
      "cell_type": "code",
      "execution_count": 11,
      "metadata": {
        "id": "YbPMkKEjC19y",
        "outputId": "fb3ddec1-4266-4ee5-f370-720718a6fa57",
        "colab": {
          "base_uri": "https://localhost:8080/"
        }
      },
      "outputs": [
        {
          "output_type": "execute_result",
          "data": {
            "text/plain": [
              "[(3, 'Cosmo', 'Kramer', '1960-5-10'), (4, 'Costanza', 'George', '1962-6-10')]"
            ]
          },
          "metadata": {},
          "execution_count": 11
        }
      ],
      "source": [
        "statement = '''SELECT patients.* FROM doctors_patients\n",
        "JOIN patients ON doctors_patients.patient_id = patients.id\n",
        "WHERE doctor_id = 2'''\n",
        "\n",
        "cursor.execute(statement)\n",
        "cursor.fetchall()"
      ]
    },
    {
      "cell_type": "markdown",
      "metadata": {
        "id": "ZOmoYULNC191"
      },
      "source": [
        "So here we can see that the patients that had `doctor_id = 2` are Kramer and George."
      ]
    },
    {
      "cell_type": "markdown",
      "metadata": {
        "id": "SNhSFmJCC191"
      },
      "source": [
        "Let's take a moment to better this statement."
      ]
    },
    {
      "cell_type": "markdown",
      "metadata": {
        "id": "y6fCIq_UC191"
      },
      "source": [
        "We went from this:"
      ]
    },
    {
      "cell_type": "markdown",
      "metadata": {
        "id": "wanUG958C1-W"
      },
      "source": [
        "```sql\n",
        "SELECT * FROM doctors_patients WHERE doctor_id = 2\n",
        "```"
      ]
    },
    {
      "cell_type": "markdown",
      "metadata": {
        "id": "oRxvvlbvC1-X"
      },
      "source": [
        "To this:"
      ]
    },
    {
      "cell_type": "markdown",
      "metadata": {
        "id": "gVaH1_0EC1-X"
      },
      "source": [
        "```sql\n",
        "SELECT patients.* FROM doctors_patients\n",
        "JOIN patients ON doctors_patients.patient_id = patients.id\n",
        "WHERE doctor_id = 2\n",
        "```"
      ]
    },
    {
      "cell_type": "markdown",
      "metadata": {
        "id": "S4qoVdi0C1-Y"
      },
      "source": [
        "In the latter statement, to get to the patients names, we had to join the patients table.  And to link the `doctors_patients` table to the `patients` table, we joined on `doctors_patients.patient_id = patients.id`."
      ]
    },
    {
      "cell_type": "markdown",
      "metadata": {
        "id": "GX-lyfQZC1-a"
      },
      "source": [
        "<img src=\"https://github.com/sql-fundamentals-jigsaw/mod-1-sql-curriculum/blob/master/2-sql-relations/4-has-many-through-reading/joined-doctors-patients.png?raw=1\" width=\"60%\">"
      ]
    },
    {
      "cell_type": "markdown",
      "metadata": {
        "id": "RL2BbHwyC1-b"
      },
      "source": [
        "Then we found those rows where the `doctor_id` was 2."
      ]
    },
    {
      "cell_type": "markdown",
      "metadata": {
        "id": "ZLVEbSGDC1-b"
      },
      "source": [
        "<img src=\"https://github.com/sql-fundamentals-jigsaw/mod-1-sql-curriculum/blob/master/2-sql-relations/4-has-many-through-reading/filtered-join.png?raw=1\" width=\"70%\">"
      ]
    },
    {
      "cell_type": "markdown",
      "metadata": {
        "id": "_bVEGbBdC1-b"
      },
      "source": [
        "And from there we only said to only select the patient columns."
      ]
    },
    {
      "cell_type": "markdown",
      "metadata": {
        "id": "HU1jUtmaC1-c"
      },
      "source": [
        "<img src=\"https://github.com/sql-fundamentals-jigsaw/mod-1-sql-curriculum/blob/master/2-sql-relations/4-has-many-through-reading/patient-cols.png?raw=1\" width=\"50%\">"
      ]
    },
    {
      "cell_type": "markdown",
      "metadata": {
        "id": "UXZ1G9VJC1-c"
      },
      "source": [
        "### Queries with three tables"
      ]
    },
    {
      "cell_type": "markdown",
      "metadata": {
        "id": "bF_XlqXoC1-f"
      },
      "source": [
        "Let's take a look at the data from our three tables again."
      ]
    },
    {
      "cell_type": "markdown",
      "metadata": {
        "id": "NPglCC6dC1-g"
      },
      "source": [
        "<img src=\"https://github.com/sql-fundamentals-jigsaw/mod-1-sql-curriculum/blob/master/2-sql-relations/4-has-many-through-reading/doctors-patients-join.png?raw=1\" width=\"30%\"> <img src=\"https://github.com/sql-fundamentals-jigsaw/mod-1-sql-curriculum/blob/master/2-sql-relations/4-has-many-through-reading/doctors-table.png?raw=1\" width=\"30%\"> <img src=\"https://github.com/sql-fundamentals-jigsaw/mod-1-sql-curriculum/blob/master/2-sql-relations/4-has-many-through-reading/patients-table.png?raw=1\" width=\"30%\">"
      ]
    },
    {
      "cell_type": "markdown",
      "metadata": {
        "id": "0vXSJesjC1-s"
      },
      "source": [
        "Let's say that now we want to find the patients of Lisa Cuddy.  To do so we will need to have a query that involves all three queries."
      ]
    },
    {
      "cell_type": "markdown",
      "metadata": {
        "id": "r6f7uzPUC1-s"
      },
      "source": [
        "Our previous statement was pretty close."
      ]
    },
    {
      "cell_type": "markdown",
      "metadata": {
        "id": "bM8WA2YcC1-v"
      },
      "source": [
        "```sql\n",
        "SELECT patients.* FROM doctors_patients\n",
        "JOIN patients ON doctors_patients.patient_id = patients.id\n",
        "WHERE doctor_id = 2\n",
        "```"
      ]
    },
    {
      "cell_type": "markdown",
      "metadata": {
        "id": "Rusf0BCaC1-w"
      },
      "source": [
        "The change we would like to make is to replace `WHERE doctor_id = 2` with `WHERE doctors.last_name = Cuddy`."
      ]
    },
    {
      "cell_type": "markdown",
      "metadata": {
        "id": "NprHDI3aC1-x"
      },
      "source": [
        "And to do that, we need to load up the doctors table, and join the rows to our `doctors_patients` table.  Here's how we can do that:"
      ]
    },
    {
      "cell_type": "markdown",
      "metadata": {
        "id": "jsVnyt8RC1-x"
      },
      "source": [
        "```sql\n",
        "SELECT patients.* FROM doctors_patients\n",
        "JOIN patients ON doctors_patients.patient_id = patients.id\n",
        "JOIN doctors ON doctors_patients.doctor_id = doctors.id\n",
        "WHERE doctors.last_name = 'Cuddy'\n",
        "```"
      ]
    },
    {
      "cell_type": "code",
      "execution_count": 12,
      "metadata": {
        "id": "M_fCHLHGC1-z"
      },
      "outputs": [],
      "source": [
        "select = \"\"\"SELECT patients.* FROM doctors_patients\n",
        "JOIN patients ON doctors_patients.patient_id = patients.id\n",
        "JOIN doctors ON doctors_patients.doctor_id = doctors.id\n",
        "WHERE doctors.last_name = 'Cuddy'\"\"\""
      ]
    },
    {
      "cell_type": "code",
      "execution_count": 13,
      "metadata": {
        "id": "62gWnK1rC1-5",
        "outputId": "d077ffb6-a24a-49d8-b4a9-cb1e5525f0e8",
        "colab": {
          "base_uri": "https://localhost:8080/"
        }
      },
      "outputs": [
        {
          "output_type": "execute_result",
          "data": {
            "text/plain": [
              "[(3, 'Cosmo', 'Kramer', '1960-5-10'), (4, 'Costanza', 'George', '1962-6-10')]"
            ]
          },
          "metadata": {},
          "execution_count": 13
        }
      ],
      "source": [
        "cursor.execute(select)\n",
        "cursor.fetchall()"
      ]
    },
    {
      "cell_type": "markdown",
      "metadata": {
        "id": "bBlJIlQ6C1_A"
      },
      "source": [
        "It worked!  We now got the same result, but we did it by using a doctor's name, instead of using a doctor's id.  Finally, we could query using both the first and last name."
      ]
    },
    {
      "cell_type": "code",
      "execution_count": 14,
      "metadata": {
        "id": "OXEu0K9yC1_B",
        "outputId": "132ac8fe-ccf0-4418-e005-2d1a4d363490",
        "colab": {
          "base_uri": "https://localhost:8080/"
        }
      },
      "outputs": [
        {
          "output_type": "execute_result",
          "data": {
            "text/plain": [
              "[(3, 'Cosmo', 'Kramer', '1960-5-10'), (4, 'Costanza', 'George', '1962-6-10')]"
            ]
          },
          "metadata": {},
          "execution_count": 14
        }
      ],
      "source": [
        "updated_select = \"\"\"SELECT patients.* FROM doctors_patients\n",
        "JOIN patients ON doctors_patients.patient_id = patients.id\n",
        "JOIN doctors ON doctors_patients.doctor_id = doctors.id\n",
        "WHERE doctors.first_name = 'Lisa' AND doctors.last_name = 'Cuddy'\"\"\"\n",
        "\n",
        "cursor.execute(updated_select)\n",
        "cursor.fetchall()"
      ]
    },
    {
      "cell_type": "markdown",
      "metadata": {
        "id": "bjCini8fC1_C"
      },
      "source": [
        "### Your Turn"
      ]
    },
    {
      "cell_type": "markdown",
      "metadata": {
        "id": "Nkx24GNIC1_C"
      },
      "source": [
        "Now it's your turn.  Once again, here are our tables."
      ]
    },
    {
      "cell_type": "markdown",
      "metadata": {
        "id": "0_jsU9RPC1_Q"
      },
      "source": [
        "<img src=\"https://github.com/sql-fundamentals-jigsaw/mod-1-sql-curriculum/blob/master/2-sql-relations/4-has-many-through-reading/doctors-patients-join.png?raw=1\" width=\"30%\"> <img src=\"https://github.com/sql-fundamentals-jigsaw/mod-1-sql-curriculum/blob/master/2-sql-relations/4-has-many-through-reading/doctors-table.png?raw=1\" width=\"30%\"> <img src=\"https://github.com/sql-fundamentals-jigsaw/mod-1-sql-curriculum/blob/master/2-sql-relations/4-has-many-through-reading/patients-table.png?raw=1\" width=\"30%\">"
      ]
    },
    {
      "cell_type": "markdown",
      "metadata": {
        "id": "YdRdfFjWC1_Q"
      },
      "source": [
        "Now write a sql query that finds all of the doctors that Cosmo Kramer has been served by."
      ]
    },
    {
      "cell_type": "code",
      "execution_count": 27,
      "metadata": {
        "id": "_RS3TCvMC1_R"
      },
      "outputs": [],
      "source": [
        "select_doctors = \"\"\"\n",
        "SELECT doctors.* FROM doctors_patients\n",
        "JOIN patients ON doctors_patients.patient_id = patients.id\n",
        "JOIN doctors ON doctors_patients.doctor_id = doctors.id\n",
        "WHERE patients.first_name = 'Cosmo' AND patients.last_name = 'Kramer'\"\"\"\n",
        "\n"
      ]
    },
    {
      "cell_type": "code",
      "execution_count": 28,
      "metadata": {
        "id": "dU_US0FpC1_S",
        "outputId": "e2f5a04b-a14b-4e6b-eb4f-a2ede81430d0",
        "colab": {
          "base_uri": "https://localhost:8080/"
        }
      },
      "outputs": [
        {
          "output_type": "execute_result",
          "data": {
            "text/plain": [
              "[(2, 'Lisa', 'Cuddy', 'Chief Doctor'), (4, 'Robert', 'Chase', 'Resident')]"
            ]
          },
          "metadata": {},
          "execution_count": 28
        }
      ],
      "source": [
        "cursor.execute(select_doctors)\n",
        "cursor.fetchall()\n",
        "\n",
        "# [(2, 'Lisa', 'Cuddy', 'Chief Doctor'), (4, 'Robert', 'Chase', 'Resident')]"
      ]
    },
    {
      "cell_type": "markdown",
      "metadata": {
        "id": "_guw-BImC1_U"
      },
      "source": [
        "### Answers"
      ]
    },
    {
      "cell_type": "code",
      "execution_count": null,
      "metadata": {
        "id": "ZltTS9kuC1_U"
      },
      "outputs": [],
      "source": [
        "select_doctors = \"\"\"SELECT doctors.* FROM doctors_patients\n",
        "JOIN patients ON doctors_patients.patient_id = patients.id\n",
        "JOIN doctors ON doctors_patients.doctor_id = doctors.id\n",
        "WHERE patients.first_name = 'Cosmo' AND patients.last_name = 'Kramer'\"\"\"\n"
      ]
    }
  ],
  "metadata": {
    "kernelspec": {
      "display_name": "Python 3 (ipykernel)",
      "language": "python",
      "name": "python3"
    },
    "language_info": {
      "codemirror_mode": {
        "name": "ipython",
        "version": 3
      },
      "file_extension": ".py",
      "mimetype": "text/x-python",
      "name": "python",
      "nbconvert_exporter": "python",
      "pygments_lexer": "ipython3",
      "version": "3.11.1"
    },
    "colab": {
      "provenance": []
    }
  },
  "nbformat": 4,
  "nbformat_minor": 0
}