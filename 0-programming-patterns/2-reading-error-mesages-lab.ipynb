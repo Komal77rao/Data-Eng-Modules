{
  "cells": [
    {
      "cell_type": "markdown",
      "id": "c7143247-2d04-4e10-87e1-490d1bdb3722",
      "metadata": {
        "id": "c7143247-2d04-4e10-87e1-490d1bdb3722"
      },
      "source": [
        "# Reading Error Messages Lab"
      ]
    },
    {
      "cell_type": "markdown",
      "id": "86d6dbe0-082f-4243-bf4a-46bde4fe6c66",
      "metadata": {
        "id": "86d6dbe0-082f-4243-bf4a-46bde4fe6c66"
      },
      "source": [
        "### Introduction"
      ]
    },
    {
      "cell_type": "markdown",
      "id": "55c9ea03-fa22-4b26-90b4-c52a456e5554",
      "metadata": {
        "id": "55c9ea03-fa22-4b26-90b4-c52a456e5554"
      },
      "source": [
        "In this lesson, we'll practice reading our error messages.  Let's get started."
      ]
    },
    {
      "cell_type": "markdown",
      "id": "d8df36ce-b7e7-4919-a3bc-b9b4d17b4668",
      "metadata": {
        "id": "d8df36ce-b7e7-4919-a3bc-b9b4d17b4668"
      },
      "source": [
        "### Loading our Data"
      ]
    },
    {
      "cell_type": "markdown",
      "id": "0c6b70d6-6489-4fb3-b7b8-43e900b05824",
      "metadata": {
        "id": "0c6b70d6-6489-4fb3-b7b8-43e900b05824"
      },
      "source": [
        "Let's load our data, but not look at any of the error messages.  Instead, we would just like to read the error messages, and understand what is occurring."
      ]
    },
    {
      "cell_type": "code",
      "execution_count": 3,
      "id": "5fe3369c-5a85-4b40-b11b-f7977ff26cfb",
      "metadata": {
        "id": "5fe3369c-5a85-4b40-b11b-f7977ff26cfb"
      },
      "outputs": [],
      "source": [
        "import pandas as pd\n",
        "\n",
        "url = \"https://raw.githubusercontent.com/eng-6-22/mod-1-a-data-structures/master/0-programming-patterns/polls.csv\"\n",
        "df = pd.read_csv(url)\n",
        "records = df.to_dict('records')"
      ]
    },
    {
      "cell_type": "markdown",
      "id": "7a68336a-3580-43bd-a4be-0fc0ce03e591",
      "metadata": {
        "id": "7a68336a-3580-43bd-a4be-0fc0ce03e591"
      },
      "source": [
        "### Guessing the error message"
      ]
    },
    {
      "cell_type": "markdown",
      "id": "a1a46279-d335-4288-8a86-15cb5b3b360c",
      "metadata": {
        "id": "a1a46279-d335-4288-8a86-15cb5b3b360c"
      },
      "source": [
        "* For each of the following errors, explain why it means, and why it is occurring."
      ]
    },
    {
      "cell_type": "code",
      "execution_count": 3,
      "id": "fd642deb-57ed-4bbb-ada6-233305dc49b0",
      "metadata": {
        "id": "fd642deb-57ed-4bbb-ada6-233305dc49b0",
        "outputId": "c006cf45-d5e5-4550-9d29-d7809be67884",
        "colab": {
          "base_uri": "https://localhost:8080/",
          "height": 176
        }
      },
      "outputs": [
        {
          "output_type": "error",
          "ename": "TypeError",
          "evalue": "ignored",
          "traceback": [
            "\u001b[0;31m---------------------------------------------------------------------------\u001b[0m",
            "\u001b[0;31mTypeError\u001b[0m                                 Traceback (most recent call last)",
            "\u001b[0;32m<ipython-input-3-fcc5683de51c>\u001b[0m in \u001b[0;36m<cell line: 1>\u001b[0;34m()\u001b[0m\n\u001b[0;32m----> 1\u001b[0;31m \u001b[0mrecords\u001b[0m\u001b[0;34m[\u001b[0m\u001b[0;34m'state'\u001b[0m\u001b[0;34m]\u001b[0m\u001b[0;34m\u001b[0m\u001b[0;34m\u001b[0m\u001b[0m\n\u001b[0m",
            "\u001b[0;31mTypeError\u001b[0m: list indices must be integers or slices, not str"
          ]
        }
      ],
      "source": [
        "records['state']"
      ]
    },
    {
      "cell_type": "code",
      "execution_count": 4,
      "id": "dacaf333-588f-4629-8e28-be2125b202be",
      "metadata": {
        "id": "dacaf333-588f-4629-8e28-be2125b202be"
      },
      "outputs": [],
      "source": [
        "# Explain here\n",
        "##records contains list of dictionaries, In order to get an element from a list we need to use integers or indices."
      ]
    },
    {
      "cell_type": "code",
      "execution_count": 5,
      "id": "4d49ea52-acf5-4dc2-8d7a-d689e49d3e6f",
      "metadata": {
        "id": "4d49ea52-acf5-4dc2-8d7a-d689e49d3e6f",
        "outputId": "03dcc788-da8f-4bc1-8161-c5cb2d9d2a16",
        "colab": {
          "base_uri": "https://localhost:8080/",
          "height": 176
        }
      },
      "outputs": [
        {
          "output_type": "error",
          "ename": "AttributeError",
          "evalue": "ignored",
          "traceback": [
            "\u001b[0;31m---------------------------------------------------------------------------\u001b[0m",
            "\u001b[0;31mAttributeError\u001b[0m                            Traceback (most recent call last)",
            "\u001b[0;32m<ipython-input-5-8e35531cc972>\u001b[0m in \u001b[0;36m<cell line: 1>\u001b[0;34m()\u001b[0m\n\u001b[0;32m----> 1\u001b[0;31m \u001b[0mrecords\u001b[0m\u001b[0;34m.\u001b[0m\u001b[0mkeys\u001b[0m\u001b[0;34m(\u001b[0m\u001b[0;34m)\u001b[0m\u001b[0;34m\u001b[0m\u001b[0;34m\u001b[0m\u001b[0m\n\u001b[0m",
            "\u001b[0;31mAttributeError\u001b[0m: 'list' object has no attribute 'keys'"
          ]
        }
      ],
      "source": [
        "records.keys()"
      ]
    },
    {
      "cell_type": "code",
      "execution_count": 19,
      "id": "9c2dff80-2696-49d0-a58c-f3441e4b8f29",
      "metadata": {
        "id": "9c2dff80-2696-49d0-a58c-f3441e4b8f29"
      },
      "outputs": [],
      "source": [
        "# Explain here\n",
        "#records is a list of dictionaries. keys() is a function for dictionaries and not lists."
      ]
    },
    {
      "cell_type": "code",
      "execution_count": 7,
      "id": "2899623d-27d0-456c-bdf8-dadfd11e3ac1",
      "metadata": {
        "id": "2899623d-27d0-456c-bdf8-dadfd11e3ac1",
        "outputId": "5be2798b-464d-49c2-e58b-180d99f8e078",
        "colab": {
          "base_uri": "https://localhost:8080/",
          "height": 176
        }
      },
      "outputs": [
        {
          "output_type": "error",
          "ename": "IndexError",
          "evalue": "ignored",
          "traceback": [
            "\u001b[0;31m---------------------------------------------------------------------------\u001b[0m",
            "\u001b[0;31mIndexError\u001b[0m                                Traceback (most recent call last)",
            "\u001b[0;32m<ipython-input-7-9688ee58919f>\u001b[0m in \u001b[0;36m<cell line: 1>\u001b[0;34m()\u001b[0m\n\u001b[0;32m----> 1\u001b[0;31m \u001b[0mrecords\u001b[0m\u001b[0;34m[\u001b[0m\u001b[0;36m1_000_000\u001b[0m\u001b[0;34m]\u001b[0m\u001b[0;34m\u001b[0m\u001b[0;34m\u001b[0m\u001b[0m\n\u001b[0m",
            "\u001b[0;31mIndexError\u001b[0m: list index out of range"
          ]
        }
      ],
      "source": [
        "records[1_000_000]"
      ]
    },
    {
      "cell_type": "code",
      "execution_count": null,
      "id": "8085aab3-c912-4af7-a883-3638b0c1b3c4",
      "metadata": {
        "id": "8085aab3-c912-4af7-a883-3638b0c1b3c4"
      },
      "outputs": [],
      "source": [
        "# What kind of error is this.  What do you think is occurring.\n",
        "It is an index error. The range of mentioned in the brackets is more than the elements in the list."
      ]
    },
    {
      "cell_type": "markdown",
      "id": "535eb76d-3491-46d9-86ee-dce9f00f9a51",
      "metadata": {
        "id": "535eb76d-3491-46d9-86ee-dce9f00f9a51"
      },
      "source": [
        "### Discussion"
      ]
    },
    {
      "cell_type": "markdown",
      "id": "bc75725e-3b61-422a-b10f-30a3682c100d",
      "metadata": {
        "id": "bc75725e-3b61-422a-b10f-30a3682c100d"
      },
      "source": [
        "Ok, so as we may have seen from the above, that our records are of type list.  The initial errors occurred because we were performing operations that are not available to a list.  And the last error occurred because we are selecting an element at index `1_000_000` where we do not have that many elements, thus getting the out of range error."
      ]
    },
    {
      "cell_type": "markdown",
      "id": "36441226-33bb-430d-be59-042c6c3ba64a",
      "metadata": {
        "id": "36441226-33bb-430d-be59-042c6c3ba64a"
      },
      "source": [
        "### Continuing with Error Messages"
      ]
    },
    {
      "cell_type": "markdown",
      "id": "c6a98f37-f888-48ef-b625-be74bd8e2133",
      "metadata": {
        "id": "c6a98f37-f888-48ef-b625-be74bd8e2133"
      },
      "source": [
        "Now without looking at the records, try to guess what is occurring with the error message below."
      ]
    },
    {
      "cell_type": "markdown",
      "id": "31f8450d-b1b2-49cd-a1fa-b8b6ad965b47",
      "metadata": {
        "id": "31f8450d-b1b2-49cd-a1fa-b8b6ad965b47"
      },
      "source": [
        "> Where specifically is the error occurring?"
      ]
    },
    {
      "cell_type": "code",
      "execution_count": 12,
      "id": "f52581cc-960a-4156-a653-56e08aa8771d",
      "metadata": {
        "id": "f52581cc-960a-4156-a653-56e08aa8771d",
        "outputId": "875791a9-3c22-48f8-bd5c-669a5139f556",
        "colab": {
          "base_uri": "https://localhost:8080/",
          "height": 211
        }
      },
      "outputs": [
        {
          "output_type": "error",
          "ename": "AttributeError",
          "evalue": "ignored",
          "traceback": [
            "\u001b[0;31m---------------------------------------------------------------------------\u001b[0m",
            "\u001b[0;31mAttributeError\u001b[0m                            Traceback (most recent call last)",
            "\u001b[0;32m<ipython-input-12-e3b53a7a2a37>\u001b[0m in \u001b[0;36m<cell line: 2>\u001b[0;34m()\u001b[0m\n\u001b[1;32m      1\u001b[0m \u001b[0myears\u001b[0m \u001b[0;34m=\u001b[0m \u001b[0;34m[\u001b[0m\u001b[0;34m]\u001b[0m\u001b[0;34m\u001b[0m\u001b[0;34m\u001b[0m\u001b[0m\n\u001b[1;32m      2\u001b[0m \u001b[0;32mfor\u001b[0m \u001b[0mrecord\u001b[0m \u001b[0;32min\u001b[0m \u001b[0mrecords\u001b[0m\u001b[0;34m:\u001b[0m\u001b[0;34m\u001b[0m\u001b[0;34m\u001b[0m\u001b[0m\n\u001b[0;32m----> 3\u001b[0;31m     \u001b[0myears\u001b[0m\u001b[0;34m.\u001b[0m\u001b[0mappend\u001b[0m\u001b[0;34m(\u001b[0m\u001b[0;34m(\u001b[0m\u001b[0mrecord\u001b[0m\u001b[0;34m[\u001b[0m\u001b[0;34m'cycle'\u001b[0m\u001b[0;34m]\u001b[0m\u001b[0;34m.\u001b[0m\u001b[0msplit\u001b[0m\u001b[0;34m(\u001b[0m\u001b[0;34m)\u001b[0m\u001b[0;34m[\u001b[0m\u001b[0;34m-\u001b[0m\u001b[0;36m1\u001b[0m\u001b[0;34m]\u001b[0m\u001b[0;34m)\u001b[0m\u001b[0;34m)\u001b[0m\u001b[0;34m\u001b[0m\u001b[0;34m\u001b[0m\u001b[0m\n\u001b[0m",
            "\u001b[0;31mAttributeError\u001b[0m: 'int' object has no attribute 'split'"
          ]
        }
      ],
      "source": [
        "years = []\n",
        "for record in records:\n",
        "    years.append((record['cycle'].split()[-1]))\n"
      ]
    },
    {
      "cell_type": "markdown",
      "id": "79a0712c-ceaf-4c60-82a0-3c1ab3fdbc7b",
      "metadata": {
        "id": "79a0712c-ceaf-4c60-82a0-3c1ab3fdbc7b"
      },
      "source": [
        "Then look at the data to better understand the error.\n",
        "\n",
        "Ok, now let's keep going with this.  What do you think is occurring in the error below.  What method or function is causing the error.  \n",
        "\n",
        "> Use Google to search for this error message and understand when it typically occurs."
      ]
    },
    {
      "cell_type": "code",
      "execution_count": 18,
      "id": "e2899130-5782-4bcc-9161-18a2d1d53314",
      "metadata": {
        "id": "e2899130-5782-4bcc-9161-18a2d1d53314",
        "outputId": "0bf0330c-8c91-4c99-b2df-efd9526c431e",
        "colab": {
          "base_uri": "https://localhost:8080/"
        }
      },
      "outputs": [
        {
          "output_type": "stream",
          "name": "stdout",
          "text": [
            "3/3\n",
            "3/3\n",
            "3/3\n",
            "3/3\n",
            "3/3\n"
          ]
        }
      ],
      "source": [
        "for record in records[:5]:\n",
        "    print(record['modeldate'][:3])"
      ]
    },
    {
      "cell_type": "markdown",
      "id": "7ce143c5-7f42-4df0-a4c2-c09149566ddc",
      "metadata": {
        "id": "7ce143c5-7f42-4df0-a4c2-c09149566ddc"
      },
      "source": [
        "### Continued practice with debugging"
      ]
    },
    {
      "cell_type": "markdown",
      "id": "581b6251-fcac-4887-9364-11d27ae5fedb",
      "metadata": {
        "id": "581b6251-fcac-4887-9364-11d27ae5fedb"
      },
      "source": [
        "Now this time, let's practice debugging trying to identify when our code is doing something different than we expected."
      ]
    },
    {
      "cell_type": "code",
      "execution_count": 18,
      "id": "c6ee77ab-5777-45c3-9bcf-34dda65d401a",
      "metadata": {
        "id": "c6ee77ab-5777-45c3-9bcf-34dda65d401a"
      },
      "outputs": [],
      "source": [
        "model_dates = {}\n",
        "for record in records:\n",
        "    #model_date = record.get('modeldate')\n",
        "    candidate_name = record.get('candidate_name')\n",
        "    #print(candidate_name)\n",
        "    candidate = {'model_date': model_date, 'candidate_name': candidate_name[:3]}"
      ]
    },
    {
      "cell_type": "code",
      "source": [],
      "metadata": {
        "id": "CTyLiHWKKBAC"
      },
      "id": "CTyLiHWKKBAC",
      "execution_count": 15,
      "outputs": []
    },
    {
      "cell_type": "markdown",
      "id": "c5f19ecf-5cd3-4688-b0a0-0cf4f561a09a",
      "metadata": {
        "id": "c5f19ecf-5cd3-4688-b0a0-0cf4f561a09a"
      },
      "source": [
        "> Hint: Remember that when debugging, we can inspect what is occurring either by trying to perform the operations only on a single element.  Or we can also use the `print` function to view our data."
      ]
    },
    {
      "cell_type": "markdown",
      "id": "e71b3b5c-dc6b-4a00-ac11-79040812010e",
      "metadata": {
        "id": "e71b3b5c-dc6b-4a00-ac11-79040812010e"
      },
      "source": [
        "### Summary"
      ]
    },
    {
      "cell_type": "markdown",
      "id": "c8cfe1c3-7b78-42bf-905e-4245c5f67766",
      "metadata": {
        "id": "c8cfe1c3-7b78-42bf-905e-4245c5f67766"
      },
      "source": [
        "In this lesson, we spent some practice debugging.  The first step to debugging is to read and understand the error message.  If you do not understand the error message, it's a good idea to search Google to get a better understanding.\n",
        "\n",
        "Also take a look at each component of the error message, the carrot tells us where the error is occurring.  And the `type` of error tells us what kind of error we have.   \n",
        "\n",
        "Then we saw a problem where the error occurred because our data is different than what we expected.  For this, it is a good idea to identify where our code is operating as we expected, and then find the place where things started to change."
      ]
    }
  ],
  "metadata": {
    "kernelspec": {
      "display_name": "Python 3 (ipykernel)",
      "language": "python",
      "name": "python3"
    },
    "language_info": {
      "codemirror_mode": {
        "name": "ipython",
        "version": 3
      },
      "file_extension": ".py",
      "mimetype": "text/x-python",
      "name": "python",
      "nbconvert_exporter": "python",
      "pygments_lexer": "ipython3",
      "version": "3.9.10"
    },
    "colab": {
      "provenance": []
    }
  },
  "nbformat": 4,
  "nbformat_minor": 5
}