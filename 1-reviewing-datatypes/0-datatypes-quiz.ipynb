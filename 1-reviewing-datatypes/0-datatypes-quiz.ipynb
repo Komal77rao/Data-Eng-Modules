{
  "cells": [
    {
      "cell_type": "markdown",
      "metadata": {
        "id": "COf1iJnS-uUZ"
      },
      "source": [
        "# Datatypes Quiz"
      ]
    },
    {
      "cell_type": "markdown",
      "metadata": {
        "id": "2wB7TJnD-uUo"
      },
      "source": [
        "### Introduction"
      ]
    },
    {
      "cell_type": "markdown",
      "metadata": {
        "id": "2SCpwTuR-uUp"
      },
      "source": [
        "In this lesson, we'll practice with reviewing lists, dictionaries, and loops.  Let's get started."
      ]
    },
    {
      "cell_type": "markdown",
      "metadata": {
        "id": "31oqx64e-uUt"
      },
      "source": [
        "### Structuring our Data"
      ]
    },
    {
      "cell_type": "markdown",
      "metadata": {
        "id": "1IX3WPF5-uUu"
      },
      "source": [
        "Let's take a look at the following chart:"
      ]
    },
    {
      "cell_type": "markdown",
      "metadata": {
        "id": "Y6twBcDf-uUu"
      },
      "source": [
        "<img src=\"https://raw.githubusercontent.com/eng-6-22/mod-1-a-data-structures/main/1-reviewing-datatypes/presidency.png\" width=\"70%\">"
      ]
    },
    {
      "cell_type": "markdown",
      "metadata": {
        "id": "4jcz2tZD-uUv"
      },
      "source": [
        "Begin by creating a datatype to represent Thomas Jefferson.  The datatype should include information about his `name`, `party`, and `vice-presidents`."
      ]
    },
    {
      "cell_type": "markdown",
      "metadata": {
        "id": "kicn2BXs-uUv"
      },
      "source": [
        "> Replace the word None below with the correct data structure."
      ]
    },
    {
      "cell_type": "code",
      "execution_count": 1,
      "metadata": {
        "id": "pm8ytAC5-uUw"
      },
      "outputs": [],
      "source": [
        "jefferson = {\n",
        "    'name': 'Thomas Jefferson',\n",
        "    'party': 'Democratic-Republican',\n",
        "    'vice_presidents': ['Aaron Burr','George Clinton']\n",
        "}"
      ]
    },
    {
      "cell_type": "markdown",
      "metadata": {
        "id": "S5XsQEL--uUy"
      },
      "source": [
        "Next create a data structure that represents the collection of presidents.  Each of the presidents' attributes should be represented by the same datatypes -- only the actual data should change."
      ]
    },
    {
      "cell_type": "code",
      "execution_count": 17,
      "metadata": {
        "id": "6sjV44IB-uUy"
      },
      "outputs": [],
      "source": [
        "presidents = [\n",
        "    {'name': 'Thomas Jefferson',\n",
        "    'party': 'Democratic-Republican',\n",
        "    'vice_presidents': ['Aaron Burr','George Clinton'],\n",
        "     'election': 1800},\n",
        "    {'name': 'Geroge Washington',\n",
        "    'party': 'Unaffiliated',\n",
        "    'vice_presidents': 'John Adams',\n",
        "     'election': 1788},\n",
        "    {'name': 'John Adams',\n",
        "    'party': 'Federalist',\n",
        "    'vice_presidents': 'Thomas Jefferson',\n",
        "     'election': 1796}\n",
        "]"
      ]
    },
    {
      "cell_type": "markdown",
      "metadata": {
        "id": "6NBpDRaE-uUz"
      },
      "source": [
        "Now, from the `presidents` created above, retrieve the middle president's `party`."
      ]
    },
    {
      "cell_type": "code",
      "execution_count": 6,
      "metadata": {
        "id": "ugUFfy-L-uUz",
        "outputId": "b82cc7b4-cf99-475a-f9e1-345129ed87b1",
        "colab": {
          "base_uri": "https://localhost:8080/",
          "height": 35
        }
      },
      "outputs": [
        {
          "output_type": "execute_result",
          "data": {
            "text/plain": [
              "'Federalist'"
            ],
            "application/vnd.google.colaboratory.intrinsic+json": {
              "type": "string"
            }
          },
          "metadata": {},
          "execution_count": 6
        }
      ],
      "source": [
        "john_adams_party = presidents[2]['party']\n",
        "john_adams_party"
      ]
    },
    {
      "cell_type": "markdown",
      "metadata": {
        "id": "uD5Rle-y-uUz"
      },
      "source": [
        "Now select the last three letters from  `john_adams_party` and make each of those letters capitalized, so you should see the following."
      ]
    },
    {
      "cell_type": "markdown",
      "metadata": {
        "id": "PQMghWmE-uUz"
      },
      "source": [
        "> Feel free to use Google for the below."
      ]
    },
    {
      "cell_type": "code",
      "execution_count": 13,
      "metadata": {
        "id": "w4we8jL9-uUz",
        "outputId": "fe80783d-b6ec-4f51-e0a7-717796094a29",
        "colab": {
          "base_uri": "https://localhost:8080/",
          "height": 35
        }
      },
      "outputs": [
        {
          "output_type": "execute_result",
          "data": {
            "text/plain": [
              "'IST'"
            ],
            "application/vnd.google.colaboratory.intrinsic+json": {
              "type": "string"
            }
          },
          "metadata": {},
          "execution_count": 13
        }
      ],
      "source": [
        "john_adams_party[-3:].upper()\n",
        "#str.upper(john_adams_party[-3:])\n",
        "\n",
        "# \"LIST\""
      ]
    },
    {
      "cell_type": "markdown",
      "metadata": {
        "id": "3FX3lsx--uU0"
      },
      "source": [
        "Next, write a some code that will store each of president's parties as a list."
      ]
    },
    {
      "cell_type": "code",
      "execution_count": 16,
      "metadata": {
        "id": "ZK217yLN-uU0",
        "outputId": "ec57bcb8-2ee4-4328-a5b9-9dcfb039671f",
        "colab": {
          "base_uri": "https://localhost:8080/"
        }
      },
      "outputs": [
        {
          "output_type": "execute_result",
          "data": {
            "text/plain": [
              "['Democratic-Republican', 'Unaffiliated', 'Federalist']"
            ]
          },
          "metadata": {},
          "execution_count": 16
        }
      ],
      "source": [
        "parties = [president['party'] for president in presidents]\n",
        "parties\n",
        "# you should see something like the following\n",
        "# parties = ['Unaffiliated', 'Federalist', 'Democratic-Republican']"
      ]
    },
    {
      "cell_type": "markdown",
      "metadata": {
        "id": "4dj9Igyt-uU0"
      },
      "source": [
        "Now, from the `presidents` above, return a list that contains the first year of each president's presidency."
      ]
    },
    {
      "cell_type": "code",
      "execution_count": 19,
      "metadata": {
        "id": "-ivKcX_--uU0",
        "outputId": "5aad0395-90c9-4a8c-c01c-7fd82580d5f4",
        "colab": {
          "base_uri": "https://localhost:8080/"
        }
      },
      "outputs": [
        {
          "output_type": "execute_result",
          "data": {
            "text/plain": [
              "[1800, 1788, 1796]"
            ]
          },
          "metadata": {},
          "execution_count": 19
        }
      ],
      "source": [
        "first_years = [president['election'] for president in presidents]\n",
        "first_years\n",
        "# first_years = [1788, 1796, 1800]"
      ]
    },
    {
      "cell_type": "code",
      "source": [],
      "metadata": {
        "id": "SJrrI9FTFInI"
      },
      "execution_count": null,
      "outputs": []
    }
  ],
  "metadata": {
    "kernelspec": {
      "display_name": "Python 3 (ipykernel)",
      "language": "python",
      "name": "python3"
    },
    "language_info": {
      "codemirror_mode": {
        "name": "ipython",
        "version": 3
      },
      "file_extension": ".py",
      "mimetype": "text/x-python",
      "name": "python",
      "nbconvert_exporter": "python",
      "pygments_lexer": "ipython3",
      "version": "3.10.6"
    },
    "colab": {
      "provenance": []
    }
  },
  "nbformat": 4,
  "nbformat_minor": 0
}