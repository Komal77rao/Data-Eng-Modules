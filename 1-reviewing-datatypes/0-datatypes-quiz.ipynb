{
  "cells": [
    {
      "cell_type": "markdown",
      "metadata": {
        "id": "1jvr0vB4BN_V"
      },
      "source": [
        "# Datatypes Quiz"
      ]
    },
    {
      "cell_type": "markdown",
      "metadata": {
        "id": "I7Hz4GN2BN_6"
      },
      "source": [
        "### Introduction"
      ]
    },
    {
      "cell_type": "markdown",
      "metadata": {
        "id": "ZTK60YzLBN_8"
      },
      "source": [
        "In this lesson, we'll practice with reviewing lists, dictionaries, and loops.  Let's get started."
      ]
    },
    {
      "cell_type": "markdown",
      "metadata": {
        "id": "aiW8kfG-BN_9"
      },
      "source": [
        "### Structuring our Data"
      ]
    },
    {
      "cell_type": "markdown",
      "metadata": {
        "id": "kW3o_W7lBN__"
      },
      "source": [
        "Let's take a look at the following chart:"
      ]
    },
    {
      "cell_type": "markdown",
      "metadata": {
        "id": "LbgXUSygBOAB"
      },
      "source": [
        "<img src=\"https://raw.githubusercontent.com/eng-6-22/mod-1-a-data-structures/main/1-reviewing-datatypes/presidency.png\" width=\"70%\">"
      ]
    },
    {
      "cell_type": "markdown",
      "metadata": {
        "id": "8AXKCk23BOAH"
      },
      "source": [
        "Begin by creating a datatype to represent Thomas Jefferson.  The datatype should include information about his `name`, `party`, and `vice-presidents`."
      ]
    },
    {
      "cell_type": "markdown",
      "metadata": {
        "id": "0Wl_8BKUBOAO"
      },
      "source": [
        "> Replace the word None below with the correct data structure."
      ]
    },
    {
      "cell_type": "code",
      "execution_count": 1,
      "metadata": {
        "id": "ong5YAruBOAP"
      },
      "outputs": [],
      "source": [
        "jefferson = {\n",
        "    'name' : 'Thomas Jefferson',\n",
        "    'Party' : 'Democratic-Republican',\n",
        "    'vice-presidents': ['Aaron Burr', 'Geoge Clinton']\n",
        "}"
      ]
    },
    {
      "cell_type": "markdown",
      "metadata": {
        "id": "1pcRs6rgBOAX"
      },
      "source": [
        "Next create a data structure that represents the collection of presidents.  Each of the presidents' attributes should be represented by the same datatypes -- only the actual data should change."
      ]
    },
    {
      "cell_type": "code",
      "execution_count": 19,
      "metadata": {
        "id": "GK49BeskBOAY"
      },
      "outputs": [],
      "source": [
        "presidents = [\n",
        "    {\n",
        "    'name' : 'George Washington',\n",
        "    'party' : 'Unaffliated',\n",
        "    'vice-presidents': 'John Adams',\n",
        "    'presidency' : [1788,1792]\n",
        "},\n",
        "    {\n",
        "    'name' : 'John Adams',\n",
        "    'party' : 'Federalist',\n",
        "    'vice-presidents': 'Thomas Jefferson',\n",
        "    'presidency' : [1796]\n",
        "},\n",
        "    {\n",
        "    'name' : 'Thomas Jefferson',\n",
        "    'party' : 'Democratic-Republican',\n",
        "    'vice-presidents': ['Aaron Burr', 'Geoge Clinton'],\n",
        "    'presidency' : [1800,1804]\n",
        "}\n",
        "]"
      ]
    },
    {
      "cell_type": "markdown",
      "metadata": {
        "id": "fjUfYl2vBOAY"
      },
      "source": [
        "Now, from the `presidents` created above, retrieve the middle president's `party`."
      ]
    },
    {
      "cell_type": "code",
      "execution_count": 9,
      "metadata": {
        "colab": {
          "base_uri": "https://localhost:8080/",
          "height": 35
        },
        "id": "W8r7bzgvBOAb",
        "outputId": "ced30ea2-f5d1-48c0-c5e6-e20c325517c5"
      },
      "outputs": [
        {
          "output_type": "execute_result",
          "data": {
            "text/plain": [
              "'Federalist'"
            ],
            "application/vnd.google.colaboratory.intrinsic+json": {
              "type": "string"
            }
          },
          "metadata": {},
          "execution_count": 9
        }
      ],
      "source": [
        "john_adams_party = presidents[1]['party']\n",
        "john_adams_party"
      ]
    },
    {
      "cell_type": "markdown",
      "metadata": {
        "id": "6AroP_sGBOAc"
      },
      "source": [
        "Now select the last three letters from  `john_adams_party` and make each of those letters capitalized, so you should see the following."
      ]
    },
    {
      "cell_type": "markdown",
      "metadata": {
        "id": "7eKajHfwBOAc"
      },
      "source": [
        "> Feel free to use Google for the below."
      ]
    },
    {
      "cell_type": "code",
      "execution_count": 13,
      "metadata": {
        "colab": {
          "base_uri": "https://localhost:8080/",
          "height": 35
        },
        "id": "ANsSwIVPBOAc",
        "outputId": "249dfeef-1104-4b7c-e6ac-cb7cdfc9b1b7"
      },
      "outputs": [
        {
          "output_type": "execute_result",
          "data": {
            "text/plain": [
              "'list'"
            ],
            "application/vnd.google.colaboratory.intrinsic+json": {
              "type": "string"
            }
          },
          "metadata": {},
          "execution_count": 13
        }
      ],
      "source": [
        "john_adams_party[-4:]\n",
        "\n",
        "# \"LIST\""
      ]
    },
    {
      "cell_type": "markdown",
      "metadata": {
        "id": "CJmusdklBOAu"
      },
      "source": [
        "Next, write a some code that will store each of president's parties as a list."
      ]
    },
    {
      "cell_type": "code",
      "execution_count": 14,
      "metadata": {
        "colab": {
          "base_uri": "https://localhost:8080/"
        },
        "id": "omV2UicZBOAv",
        "outputId": "b008d4c9-246f-4aaf-dba1-6dcfddecce09"
      },
      "outputs": [
        {
          "output_type": "execute_result",
          "data": {
            "text/plain": [
              "['Unaffliated', 'Federalist', 'Democratic-Republican']"
            ]
          },
          "metadata": {},
          "execution_count": 14
        }
      ],
      "source": [
        "parties = [president['party'] for president in presidents]\n",
        "parties\n",
        "# you should see something like the following\n",
        "# parties = ['Unaffiliated', 'Federalist', 'Democratic-Republican']"
      ]
    },
    {
      "cell_type": "markdown",
      "metadata": {
        "id": "w5Lg4jCPBOAw"
      },
      "source": [
        "Now, from the `presidents` above, return a list that contains the first year of each president's presidency."
      ]
    },
    {
      "cell_type": "code",
      "execution_count": 20,
      "metadata": {
        "colab": {
          "base_uri": "https://localhost:8080/"
        },
        "id": "w92EKazmBOAw",
        "outputId": "460b4494-b3d7-4a18-b02f-f47cd4388a0c"
      },
      "outputs": [
        {
          "output_type": "execute_result",
          "data": {
            "text/plain": [
              "[1788, 1796, 1800]"
            ]
          },
          "metadata": {},
          "execution_count": 20
        }
      ],
      "source": [
        "first_years = [president['presidency'][0] for president in presidents]\n",
        "first_years\n",
        "\n",
        "# first_years = [1788, 1796, 1800]"
      ]
    },
    {
      "cell_type": "code",
      "source": [],
      "metadata": {
        "id": "VmNS9C_BEHVa"
      },
      "execution_count": null,
      "outputs": []
    }
  ],
  "metadata": {
    "kernelspec": {
      "display_name": "Python 3 (ipykernel)",
      "language": "python",
      "name": "python3"
    },
    "language_info": {
      "codemirror_mode": {
        "name": "ipython",
        "version": 3
      },
      "file_extension": ".py",
      "mimetype": "text/x-python",
      "name": "python",
      "nbconvert_exporter": "python",
      "pygments_lexer": "ipython3",
      "version": "3.10.6"
    },
    "colab": {
      "provenance": []
    }
  },
  "nbformat": 4,
  "nbformat_minor": 0
}