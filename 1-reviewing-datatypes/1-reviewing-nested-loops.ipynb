{
  "cells": [
    {
      "cell_type": "markdown",
      "id": "4569aea3-f0c1-4f17-9d5c-0656aa8132fe",
      "metadata": {
        "id": "4569aea3-f0c1-4f17-9d5c-0656aa8132fe"
      },
      "source": [
        "# Nested Loops Lab"
      ]
    },
    {
      "cell_type": "markdown",
      "id": "f752ca01-1c1e-4f21-8072-0131624d9640",
      "metadata": {
        "id": "f752ca01-1c1e-4f21-8072-0131624d9640"
      },
      "source": [
        "### Introduction"
      ]
    },
    {
      "cell_type": "markdown",
      "id": "9baa7d1c-0e07-48c5-9db5-91dee3b5223f",
      "metadata": {
        "id": "9baa7d1c-0e07-48c5-9db5-91dee3b5223f"
      },
      "source": [
        "In this lesson, we'll review working with lists of dictionaries.  We'll be asked to select attributes from each dictionary in the list, and to coerce data in each dictionary.  When work on this task, we recommend operating on a single element before solving the problem for all of the elements -- so please, use that technique."
      ]
    },
    {
      "cell_type": "markdown",
      "id": "6ae24f21-11fb-4fdd-86aa-fa3d033ca028",
      "metadata": {
        "id": "6ae24f21-11fb-4fdd-86aa-fa3d033ca028"
      },
      "source": [
        "### Loading our Data"
      ]
    },
    {
      "cell_type": "code",
      "execution_count": 2,
      "id": "2d1c3897-f66b-4989-818d-76c7b90d7eb7",
      "metadata": {
        "id": "2d1c3897-f66b-4989-818d-76c7b90d7eb7"
      },
      "outputs": [],
      "source": [
        "url = \"https://en.wikipedia.org/wiki/List_of_most-streamed_songs_on_Spotify\"\n",
        "import pandas as pd\n",
        "\n",
        "dfs = pd.read_html(url)"
      ]
    },
    {
      "cell_type": "code",
      "execution_count": 3,
      "id": "a2942839-6c13-4d24-a6e9-db0c9a0b785d",
      "metadata": {
        "id": "a2942839-6c13-4d24-a6e9-db0c9a0b785d"
      },
      "outputs": [],
      "source": [
        "df = dfs[0]"
      ]
    },
    {
      "cell_type": "code",
      "execution_count": 4,
      "id": "fa6bd115-28e7-4901-88bd-6a1bf743cad1",
      "metadata": {
        "id": "fa6bd115-28e7-4901-88bd-6a1bf743cad1"
      },
      "outputs": [],
      "source": [
        "songs = df.to_dict('records')"
      ]
    },
    {
      "cell_type": "markdown",
      "id": "57a087da-77f1-4311-a98f-5f854bc8ac14",
      "metadata": {
        "tags": [],
        "id": "57a087da-77f1-4311-a98f-5f854bc8ac14"
      },
      "source": [
        "### Working with our data"
      ]
    },
    {
      "cell_type": "markdown",
      "id": "6aea1c85-9166-425d-a7bb-a73c74edff4d",
      "metadata": {
        "id": "6aea1c85-9166-425d-a7bb-a73c74edff4d"
      },
      "source": [
        "Now that we've downloaded our data, let's start exploring it.  Begin by selecting the first element from our list of songs, and assign it to the variable `first_song`."
      ]
    },
    {
      "cell_type": "code",
      "execution_count": 5,
      "id": "3cbee826-59ff-48e1-824c-bf575d2ac501",
      "metadata": {
        "colab": {
          "base_uri": "https://localhost:8080/"
        },
        "id": "3cbee826-59ff-48e1-824c-bf575d2ac501",
        "outputId": "41b40a19-9ef6-4fe6-e50a-06fa6bfc31a7"
      },
      "outputs": [
        {
          "output_type": "execute_result",
          "data": {
            "text/plain": [
              "{'Rank': '1',\n",
              " 'Song': '\"Blinding Lights\"',\n",
              " 'Artist(s)': 'The Weeknd',\n",
              " 'Streams (billions)': '3.787',\n",
              " 'Release date': 'November 29, 2019',\n",
              " 'Ref.': '[2][3]'}"
            ]
          },
          "metadata": {},
          "execution_count": 5
        }
      ],
      "source": [
        "first_song = songs[0]\n",
        "\n",
        "first_song\n",
        "\n",
        "# {'Rank': '1',\n",
        "#  'Song[A]': '\"Blinding Lights\"',\n",
        "#  'Streams(billions)': '3.374',\n",
        "#  'Artist(s)': 'The Weeknd',\n",
        "#  'Release date': '29 November 2019',\n",
        "#  'Ref(s)': '[8][9]'}"
      ]
    },
    {
      "cell_type": "markdown",
      "id": "b86bc4ad-18a0-4f78-b29e-2480988549a3",
      "metadata": {
        "id": "b86bc4ad-18a0-4f78-b29e-2480988549a3"
      },
      "source": [
        "Now take a look at the last three albums in the list."
      ]
    },
    {
      "cell_type": "code",
      "execution_count": 6,
      "id": "18501091-8004-4ef4-85e3-89a4be591ca4",
      "metadata": {
        "colab": {
          "base_uri": "https://localhost:8080/"
        },
        "id": "18501091-8004-4ef4-85e3-89a4be591ca4",
        "outputId": "173a9940-21c3-43cb-abf7-20ce97e69e8d"
      },
      "outputs": [
        {
          "output_type": "execute_result",
          "data": {
            "text/plain": [
              "[{'Rank': '99',\n",
              "  'Song': '\"See You Again\"',\n",
              "  'Artist(s)': 'Wiz Khalifa featuring Charlie Puth',\n",
              "  'Streams (billions)': '1.672',\n",
              "  'Release date': '10 March 2015',\n",
              "  'Ref.': '[128][129]'},\n",
              " {'Rank': '100',\n",
              "  'Song': '\"Cold Heart (Pnau Remix)\"',\n",
              "  'Artist(s)': 'Elton John and Dua Lipa with Pnau',\n",
              "  'Streams (billions)': '1.671',\n",
              "  'Release date': '13 August 2021',\n",
              "  'Ref.': '[130][131]'},\n",
              " {'Rank': 'As of September 12th 2023',\n",
              "  'Song': 'As of September 12th 2023',\n",
              "  'Artist(s)': 'As of September 12th 2023',\n",
              "  'Streams (billions)': 'As of September 12th 2023',\n",
              "  'Release date': 'As of September 12th 2023',\n",
              "  'Ref.': 'As of September 12th 2023'}]"
            ]
          },
          "metadata": {},
          "execution_count": 6
        }
      ],
      "source": [
        "songs[-3:]\n",
        "\n",
        "# [{'Rank': '99',\n",
        "#   'Song[A]': '\"Sugar\"',\n",
        "#   'Streams(billions)': '1.498',\n",
        "#   'Artist(s)': 'Maroon 5',\n",
        "#   'Release date': '29 August 2014',\n",
        "#   'Ref(s)': '[143][144]'},\n",
        "#  {'Rank': '100',\n",
        "#   'Song[A]': '\"Youngblood\"',\n",
        "#   'Streams(billions)': '1.489',\n",
        "#   'Artist(s)': '5 Seconds of Summer',\n",
        "#   'Release date': '12 April 2018',\n",
        "#   'Ref(s)': '[145][146]'},\n",
        "#  {'Rank': 'As of 25 January 2023',\n",
        "#   'Song[A]': 'As of 25 January 2023',\n",
        "#   'Streams(billions)': 'As of 25 January 2023',\n",
        "#   'Artist(s)': 'As of 25 January 2023',\n",
        "#   'Release date': 'As of 25 January 2023',\n",
        "#   'Ref(s)': nan}]"
      ]
    },
    {
      "cell_type": "markdown",
      "id": "a912803f-de51-4e88-b854-896f80f3a0ca",
      "metadata": {
        "id": "a912803f-de51-4e88-b854-896f80f3a0ca"
      },
      "source": [
        "It looks like the last song is not a song at all, so instead select all songs except for the last one and assign it to a list called `selected_songs`."
      ]
    },
    {
      "cell_type": "code",
      "execution_count": 7,
      "id": "e6fde108-f928-4c1e-97b8-894b534a2249",
      "metadata": {
        "colab": {
          "base_uri": "https://localhost:8080/"
        },
        "id": "e6fde108-f928-4c1e-97b8-894b534a2249",
        "outputId": "7551bab2-3b2c-41de-8570-88b21e21cfb7"
      },
      "outputs": [
        {
          "output_type": "execute_result",
          "data": {
            "text/plain": [
              "{'Rank': '1',\n",
              " 'Song': '\"Blinding Lights\"',\n",
              " 'Artist(s)': 'The Weeknd',\n",
              " 'Streams (billions)': '3.787',\n",
              " 'Release date': 'November 29, 2019',\n",
              " 'Ref.': '[2][3]'}"
            ]
          },
          "metadata": {},
          "execution_count": 7
        }
      ],
      "source": [
        "selected_songs = songs[:-1]\n",
        "selected_songs[0]"
      ]
    },
    {
      "cell_type": "code",
      "execution_count": 8,
      "id": "70f24acb-4b46-4e26-8930-c959a0ae70b0",
      "metadata": {
        "colab": {
          "base_uri": "https://localhost:8080/"
        },
        "id": "70f24acb-4b46-4e26-8930-c959a0ae70b0",
        "outputId": "0d2756e9-de1b-4bcb-8721-e193bfc9b55d"
      },
      "outputs": [
        {
          "output_type": "execute_result",
          "data": {
            "text/plain": [
              "100"
            ]
          },
          "metadata": {},
          "execution_count": 8
        }
      ],
      "source": [
        "len(selected_songs)\n",
        "\n",
        "# 100"
      ]
    },
    {
      "cell_type": "markdown",
      "id": "6fb9f554-cf51-4743-864c-d6a9a47a34cc",
      "metadata": {
        "id": "6fb9f554-cf51-4743-864c-d6a9a47a34cc"
      },
      "source": [
        "And let's confirm that the last song is in fact a song.  Select the last song from `selected_songs`."
      ]
    },
    {
      "cell_type": "code",
      "execution_count": 9,
      "id": "34b8e191-704e-4695-900c-a1e75c688111",
      "metadata": {
        "colab": {
          "base_uri": "https://localhost:8080/"
        },
        "id": "34b8e191-704e-4695-900c-a1e75c688111",
        "outputId": "ba2903fa-9b1e-402d-d1ea-7aeb7f37a30e"
      },
      "outputs": [
        {
          "output_type": "execute_result",
          "data": {
            "text/plain": [
              "{'Rank': '100',\n",
              " 'Song': '\"Cold Heart (Pnau Remix)\"',\n",
              " 'Artist(s)': 'Elton John and Dua Lipa with Pnau',\n",
              " 'Streams (billions)': '1.671',\n",
              " 'Release date': '13 August 2021',\n",
              " 'Ref.': '[130][131]'}"
            ]
          },
          "metadata": {},
          "execution_count": 9
        }
      ],
      "source": [
        "last_song = selected_songs[99]\n",
        "last_song\n",
        "\n",
        "# {'Rank': '100',\n",
        " # 'Song[A]': '\"Youngblood\"',\n",
        " # 'Streams(billions)': '1.489',\n",
        " # 'Artist(s)': '5 Seconds of Summer',\n",
        " # 'Release date': '12 April 2018',\n",
        " # 'Ref(s)': '[145][146]'}"
      ]
    },
    {
      "cell_type": "markdown",
      "id": "e0a126fe-0185-414e-822d-3a7a2de51e3a",
      "metadata": {
        "id": "e0a126fe-0185-414e-822d-3a7a2de51e3a"
      },
      "source": [
        "Selecting data.  Ok, now from the above list of dictionaries, let's create a a list of just the name of the each of the songs and assign it to the variable `names`."
      ]
    },
    {
      "cell_type": "code",
      "execution_count": 10,
      "id": "9d8ec494-d4c5-4dc2-a5e2-795da6c30075",
      "metadata": {
        "id": "9d8ec494-d4c5-4dc2-a5e2-795da6c30075"
      },
      "outputs": [],
      "source": [
        "names = []\n",
        "for song in selected_songs:\n",
        "  song_names = song['Song']\n",
        "  names.append(song_names)"
      ]
    },
    {
      "cell_type": "code",
      "execution_count": 11,
      "id": "c8dc6cfb-9484-4e37-9437-7c3d8c1a182c",
      "metadata": {
        "colab": {
          "base_uri": "https://localhost:8080/"
        },
        "id": "c8dc6cfb-9484-4e37-9437-7c3d8c1a182c",
        "outputId": "eedf5d71-3c7a-4d23-8949-31f80bf6329f"
      },
      "outputs": [
        {
          "output_type": "execute_result",
          "data": {
            "text/plain": [
              "['\"Blinding Lights\"', '\"Shape of You\"', '\"Someone You Loved\"']"
            ]
          },
          "metadata": {},
          "execution_count": 11
        }
      ],
      "source": [
        "names[:3]\n",
        "\n",
        "# ['\"Blinding Lights\"', '\"Shape of You\"', '\"Dance Monkey\"']"
      ]
    },
    {
      "cell_type": "markdown",
      "id": "24567a0e-c82d-412f-8f82-fbc1512ca025",
      "metadata": {
        "id": "24567a0e-c82d-412f-8f82-fbc1512ca025"
      },
      "source": [
        "Now find the *number* of artists that were listed more than once on the top 100 songs list."
      ]
    },
    {
      "cell_type": "code",
      "execution_count": 12,
      "id": "1866a55f-193f-45cf-a6aa-4c101d3f94f6",
      "metadata": {
        "colab": {
          "base_uri": "https://localhost:8080/"
        },
        "id": "1866a55f-193f-45cf-a6aa-4c101d3f94f6",
        "outputId": "46c64449-f220-4744-d2a5-3d114bad800c"
      },
      "outputs": [
        {
          "output_type": "execute_result",
          "data": {
            "text/plain": [
              "15"
            ]
          },
          "metadata": {},
          "execution_count": 12
        }
      ],
      "source": [
        "counter = []\n",
        "artists =[]\n",
        "\n",
        "for name in selected_songs:\n",
        "  artists.append(name['Artist(s)'])\n",
        "\n",
        "  for artist in range(len(artists)-1):\n",
        "    sorted_artists = sorted(artists)\n",
        "\n",
        "    first_idx = sorted_artists[artist]\n",
        "    second_idx = sorted_artists[artist+1]\n",
        "    #print(first_idx)\n",
        "\n",
        "    if first_idx == second_idx:\n",
        "      #print(first_idx)\n",
        "      counter.append(first_idx)\n",
        "\n",
        "\n",
        "len(set(counter))\n",
        "\n",
        "\n",
        "# 13"
      ]
    },
    {
      "cell_type": "code",
      "source": [
        "selected_songs[:2]"
      ],
      "metadata": {
        "id": "PVCIu_XDpxqA",
        "outputId": "69b2ce54-aec7-481b-ee93-59289b8bc28e",
        "colab": {
          "base_uri": "https://localhost:8080/"
        }
      },
      "id": "PVCIu_XDpxqA",
      "execution_count": 13,
      "outputs": [
        {
          "output_type": "execute_result",
          "data": {
            "text/plain": [
              "[{'Rank': '1',\n",
              "  'Song': '\"Blinding Lights\"',\n",
              "  'Artist(s)': 'The Weeknd',\n",
              "  'Streams (billions)': '3.787',\n",
              "  'Release date': 'November 29, 2019',\n",
              "  'Ref.': '[2][3]'},\n",
              " {'Rank': '2',\n",
              "  'Song': '\"Shape of You\"',\n",
              "  'Artist(s)': 'Ed Sheeran',\n",
              "  'Streams (billions)': '3.618',\n",
              "  'Release date': 'January 6, 2017',\n",
              "  'Ref.': '[4]'}]"
            ]
          },
          "metadata": {},
          "execution_count": 13
        }
      ]
    },
    {
      "cell_type": "markdown",
      "id": "112946c9-6353-4f88-a05c-6640c5d78ac3",
      "metadata": {
        "id": "112946c9-6353-4f88-a05c-6640c5d78ac3"
      },
      "source": [
        "Ok, now if we return to our original list of dictionaries, there is certain data that does not look like its of the correct type."
      ]
    },
    {
      "cell_type": "markdown",
      "id": "ac139c75-9788-434b-8a3d-4ea664d1d747",
      "metadata": {
        "id": "ac139c75-9788-434b-8a3d-4ea664d1d747"
      },
      "source": [
        "Change the `Rank` values to integers, and `Streams(billions)` to floats. It also looks like each of the songs names have an extra single or double quotation mark at the beginning and end of the songs.  Remove these extra quotation marks from each of the songs.\n",
        "\n",
        "Assign this new list of songs to the variable `coerced_songs`."
      ]
    },
    {
      "cell_type": "code",
      "execution_count": 51,
      "id": "fbeffc30-1e5e-479b-911e-af88d67fcce5",
      "metadata": {
        "id": "fbeffc30-1e5e-479b-911e-af88d67fcce5"
      },
      "outputs": [],
      "source": [
        "coerced_songs = []\n",
        "\n",
        "for album in selected_songs:\n",
        "  rank =  int(album['Rank'])\n",
        "  streams = float(album['Streams (billions)'])\n",
        "  song = str(album['Song']).replace('\"', \"\")\n",
        "\n",
        "  coerced_song = {\n",
        "    'Rank': rank,\n",
        "   'Song': song,\n",
        "   'Artist(s)': album['Artist(s)'],\n",
        "   'Streams (billions)': streams,\n",
        "   'Release date': album['Release date'],\n",
        "   'Ref.': album['Ref.']\n",
        "  }\n",
        "  coerced_songs.append(coerced_song)\n"
      ]
    },
    {
      "cell_type": "code",
      "source": [
        "coerced_songs[0]"
      ],
      "metadata": {
        "id": "39h-vBNA1zlT",
        "outputId": "418d4280-8f87-42d8-c007-cf700733de55",
        "colab": {
          "base_uri": "https://localhost:8080/"
        }
      },
      "id": "39h-vBNA1zlT",
      "execution_count": 52,
      "outputs": [
        {
          "output_type": "execute_result",
          "data": {
            "text/plain": [
              "{'Rank': 1,\n",
              " 'Song': 'Blinding Lights',\n",
              " 'Artist(s)': 'The Weeknd',\n",
              " 'Streams (billions)': 3.787,\n",
              " 'Release date': 'November 29, 2019',\n",
              " 'Ref.': '[2][3]'}"
            ]
          },
          "metadata": {},
          "execution_count": 52
        }
      ]
    },
    {
      "cell_type": "code",
      "execution_count": 53,
      "id": "ffdcb436-47c0-4408-a6dd-9331325075d0",
      "metadata": {
        "colab": {
          "base_uri": "https://localhost:8080/"
        },
        "id": "ffdcb436-47c0-4408-a6dd-9331325075d0",
        "outputId": "c284532d-a0ed-44b9-ed3d-12a12d357b6e"
      },
      "outputs": [
        {
          "output_type": "execute_result",
          "data": {
            "text/plain": [
              "[{'Rank': 1,\n",
              "  'Song': 'Blinding Lights',\n",
              "  'Artist(s)': 'The Weeknd',\n",
              "  'Streams (billions)': 3.787,\n",
              "  'Release date': 'November 29, 2019',\n",
              "  'Ref.': '[2][3]'},\n",
              " {'Rank': 2,\n",
              "  'Song': 'Shape of You',\n",
              "  'Artist(s)': 'Ed Sheeran',\n",
              "  'Streams (billions)': 3.618,\n",
              "  'Release date': 'January 6, 2017',\n",
              "  'Ref.': '[4]'}]"
            ]
          },
          "metadata": {},
          "execution_count": 53
        }
      ],
      "source": [
        "coerced_songs[:2]\n",
        "\n",
        "# [{'Rank': 1,\n",
        "#   'Song[A]': 'Blinding Lights',\n",
        "#   'Streams(billions)': 3.374,\n",
        "#   'Artist(s)': 'The Weeknd',\n",
        "#   'Release date': '29 November 2019',\n",
        "#   'Ref(s)': '[8][9]'},\n",
        "#  {'Rank': 2,\n",
        "#   'Song[A]': 'Shape of You',\n",
        "#   'Streams(billions)': 3.354,\n",
        "#   'Artist(s)': 'Ed Sheeran',\n",
        "#   'Release date': '6 January 2017',\n",
        "#   'Ref(s)': '[10]'}]"
      ]
    },
    {
      "cell_type": "markdown",
      "id": "b2b19786-217f-46eb-a0eb-9e73e2c6f6b1",
      "metadata": {
        "id": "b2b19786-217f-46eb-a0eb-9e73e2c6f6b1"
      },
      "source": [
        "Now if we select the `Rank` and `Streams(Billions)` from any of the dictionaries, we should see that they are of type integer."
      ]
    },
    {
      "cell_type": "code",
      "execution_count": 54,
      "id": "ab1acf79-39f2-4e5c-8337-482006e05829",
      "metadata": {
        "colab": {
          "base_uri": "https://localhost:8080/"
        },
        "id": "ab1acf79-39f2-4e5c-8337-482006e05829",
        "outputId": "096625c1-a664-4008-b084-255935169851"
      },
      "outputs": [
        {
          "output_type": "execute_result",
          "data": {
            "text/plain": [
              "int"
            ]
          },
          "metadata": {},
          "execution_count": 54
        }
      ],
      "source": [
        "first_coerced = coerced_songs[0]\n",
        "\n",
        "type(first_coerced['Rank'])\n",
        "\n",
        "# int"
      ]
    },
    {
      "cell_type": "code",
      "execution_count": 56,
      "id": "3d12c7bb-e589-471b-9c26-7c9d2d6437c5",
      "metadata": {
        "colab": {
          "base_uri": "https://localhost:8080/"
        },
        "id": "3d12c7bb-e589-471b-9c26-7c9d2d6437c5",
        "outputId": "55587f66-4100-464f-c72d-0c56516966eb"
      },
      "outputs": [
        {
          "output_type": "execute_result",
          "data": {
            "text/plain": [
              "float"
            ]
          },
          "metadata": {},
          "execution_count": 56
        }
      ],
      "source": [
        "type(first_coerced['Streams (billions)'])\n",
        "\n",
        "# float"
      ]
    },
    {
      "cell_type": "markdown",
      "id": "f8f6eb9c-a452-40fc-8ee2-9767f5713509",
      "metadata": {
        "id": "f8f6eb9c-a452-40fc-8ee2-9767f5713509"
      },
      "source": [
        "And if we view the title of even the last song, we should see that the first character is no longer a quotation mark but a letter."
      ]
    },
    {
      "cell_type": "code",
      "execution_count": 58,
      "id": "6f5f1c50-067e-49e6-9cfd-070cc6fd0a44",
      "metadata": {
        "colab": {
          "base_uri": "https://localhost:8080/",
          "height": 35
        },
        "id": "6f5f1c50-067e-49e6-9cfd-070cc6fd0a44",
        "outputId": "08edd086-2d16-4cda-9005-b2eb7ed54bb1"
      },
      "outputs": [
        {
          "output_type": "execute_result",
          "data": {
            "text/plain": [
              "'C'"
            ],
            "application/vnd.google.colaboratory.intrinsic+json": {
              "type": "string"
            }
          },
          "metadata": {},
          "execution_count": 58
        }
      ],
      "source": [
        "coerced_songs[-1]['Song'][:1]\n",
        "\n",
        "# 'Y'"
      ]
    },
    {
      "cell_type": "markdown",
      "id": "b6178a93-029c-4a71-8c3a-7a6f6d6e460a",
      "metadata": {
        "id": "b6178a93-029c-4a71-8c3a-7a6f6d6e460a"
      },
      "source": [
        "Now that we have this list of `coerced_songs`, let update our list of dictionaries even further.  If we look at one of the dictionaries, we'll see that date is hard to parse."
      ]
    },
    {
      "cell_type": "code",
      "execution_count": 59,
      "id": "0f59cfc0-ab7f-407b-bf82-ed1ea05cc619",
      "metadata": {
        "colab": {
          "base_uri": "https://localhost:8080/",
          "height": 35
        },
        "id": "0f59cfc0-ab7f-407b-bf82-ed1ea05cc619",
        "outputId": "2440679d-58e0-449f-831a-36eba70ef817"
      },
      "outputs": [
        {
          "output_type": "execute_result",
          "data": {
            "text/plain": [
              "'November 29, 2019'"
            ],
            "application/vnd.google.colaboratory.intrinsic+json": {
              "type": "string"
            }
          },
          "metadata": {},
          "execution_count": 59
        }
      ],
      "source": [
        "coerced_songs[0]['Release date']\n",
        "\n"
      ]
    },
    {
      "cell_type": "markdown",
      "id": "a3c12a98-5eac-469f-9731-fa787547dc21",
      "metadata": {
        "id": "a3c12a98-5eac-469f-9731-fa787547dc21"
      },
      "source": [
        "We'd like to create three new keys on each of the dictionaries and of day, month and year.  Also remove the date published key, as the information in this key would then be duplicative."
      ]
    },
    {
      "cell_type": "markdown",
      "id": "b5b0f1e8-b315-44f3-b51f-9b67650ded39",
      "metadata": {
        "id": "b5b0f1e8-b315-44f3-b51f-9b67650ded39"
      },
      "source": [
        "> You can delete a key from a dictionary with the pop method."
      ]
    },
    {
      "cell_type": "code",
      "execution_count": 60,
      "id": "d68dbd4d-a1f3-4173-aaac-647f5e5b413a",
      "metadata": {
        "colab": {
          "base_uri": "https://localhost:8080/",
          "height": 35
        },
        "id": "d68dbd4d-a1f3-4173-aaac-647f5e5b413a",
        "outputId": "6b047438-02be-4095-a849-f0763be0c569"
      },
      "outputs": [
        {
          "output_type": "execute_result",
          "data": {
            "text/plain": [
              "'29 November 2019'"
            ],
            "application/vnd.google.colaboratory.intrinsic+json": {
              "type": "string"
            }
          },
          "metadata": {},
          "execution_count": 60
        }
      ],
      "source": [
        "blinding_lights = {'Rank': 1,\n",
        " 'Song[A]': 'Blinding Lights',\n",
        " 'Streams(billions)': 3.374,\n",
        " 'Artist(s)': 'The Weeknd',\n",
        " 'Release date': '29 November 2019',\n",
        " 'Ref(s)': '[8][9]'}\n",
        "\n",
        "blinding_lights.pop('Release date')"
      ]
    },
    {
      "cell_type": "code",
      "execution_count": 61,
      "id": "d488f222-23b7-46ab-8254-a3a9157291c3",
      "metadata": {
        "colab": {
          "base_uri": "https://localhost:8080/"
        },
        "id": "d488f222-23b7-46ab-8254-a3a9157291c3",
        "outputId": "bc8f3082-f8cd-469c-c599-577a9fdc3f0e"
      },
      "outputs": [
        {
          "output_type": "execute_result",
          "data": {
            "text/plain": [
              "{'Rank': 1,\n",
              " 'Song[A]': 'Blinding Lights',\n",
              " 'Streams(billions)': 3.374,\n",
              " 'Artist(s)': 'The Weeknd',\n",
              " 'Ref(s)': '[8][9]'}"
            ]
          },
          "metadata": {},
          "execution_count": 61
        }
      ],
      "source": [
        "blinding_lights"
      ]
    },
    {
      "cell_type": "markdown",
      "id": "3a7326ea-c915-42a8-b287-61250227c34d",
      "metadata": {
        "id": "3a7326ea-c915-42a8-b287-61250227c34d"
      },
      "source": [
        "Ok, so create three new keys of `day`, `month` and year for each of our `coerced_songs` and then remove the `'Date published'` key."
      ]
    },
    {
      "cell_type": "markdown",
      "id": "0b3fe2d1-8073-4f92-b18d-6c2f8df43343",
      "metadata": {
        "id": "0b3fe2d1-8073-4f92-b18d-6c2f8df43343"
      },
      "source": [
        "Assign the new list to the variable `dated_songs`."
      ]
    },
    {
      "cell_type": "markdown",
      "id": "e7db9a2c-3171-4356-b1da-b5c088ba4cd9",
      "metadata": {
        "id": "e7db9a2c-3171-4356-b1da-b5c088ba4cd9"
      },
      "source": [
        "> Hint: It's easier if you solve accomplish this for one song first, before trying to solve this for all songs."
      ]
    },
    {
      "cell_type": "markdown",
      "id": "e55bf1d2-e080-48f4-9096-8a8a2f7e4fea",
      "metadata": {
        "id": "e55bf1d2-e080-48f4-9096-8a8a2f7e4fea"
      },
      "source": [
        "Assign the result to the variable `dated_songs`."
      ]
    },
    {
      "cell_type": "code",
      "execution_count": 85,
      "id": "f71fe086-42d9-47ea-a448-c3e818f219f8",
      "metadata": {
        "id": "f71fe086-42d9-47ea-a448-c3e818f219f8"
      },
      "outputs": [],
      "source": [
        "from pandas.tseries.frequencies import Day\n",
        "from pandas.core.reshape.tile import to_datetime\n",
        "dated_songs = []\n",
        "\n",
        "for album in coerced_songs:\n",
        "  date =  to_datetime(album['Release date'])\n",
        "  day = date.day\n",
        "  month = date.month_name()\n",
        "  year = date.year\n",
        "\n",
        "  coerced_song = {\n",
        "    'Rank': album['Rank'],\n",
        "   'Song': album['Song'],\n",
        "   'Artist(s)': album['Artist(s)'],\n",
        "   'Streams (billions)': album['Streams (billions)'],\n",
        "   'Release date': album['Release date'],\n",
        "   'Ref.': album['Ref.'],\n",
        "  'day': int(day),\n",
        "  'month': str(month),\n",
        "  'year': int(year)}\n",
        "\n",
        "  dated_songs.append(coerced_song)"
      ]
    },
    {
      "cell_type": "code",
      "execution_count": 86,
      "id": "8db8940d-c3b1-46e5-b51b-cd037f41be24",
      "metadata": {
        "colab": {
          "base_uri": "https://localhost:8080/"
        },
        "id": "8db8940d-c3b1-46e5-b51b-cd037f41be24",
        "outputId": "236149f7-5a08-4d02-8aa5-9a020a2404a8"
      },
      "outputs": [
        {
          "output_type": "execute_result",
          "data": {
            "text/plain": [
              "[{'Rank': 1,\n",
              "  'Song': 'Blinding Lights',\n",
              "  'Artist(s)': 'The Weeknd',\n",
              "  'Streams (billions)': 3.787,\n",
              "  'Release date': 'November 29, 2019',\n",
              "  'Ref.': '[2][3]',\n",
              "  'day': 29,\n",
              "  'month': 'November',\n",
              "  'year': 2019},\n",
              " {'Rank': 2,\n",
              "  'Song': 'Shape of You',\n",
              "  'Artist(s)': 'Ed Sheeran',\n",
              "  'Streams (billions)': 3.618,\n",
              "  'Release date': 'January 6, 2017',\n",
              "  'Ref.': '[4]',\n",
              "  'day': 6,\n",
              "  'month': 'January',\n",
              "  'year': 2017}]"
            ]
          },
          "metadata": {},
          "execution_count": 86
        }
      ],
      "source": [
        "dated_songs[:2]\n",
        "\n",
        "# [{'Rank': 1,\n",
        "#   'Song[A]': 'Blinding Lights',\n",
        "#   'Streams(billions)': 3.374,\n",
        "#   'Artist(s)': 'The Weeknd',\n",
        "#   'Release date': '29 November 2019',\n",
        "#   'Ref(s)': '[8][9]',\n",
        "#   'day': 29,\n",
        "#   'month': 'November',\n",
        "#   'year': 2019},\n",
        "#  {'Rank': 2,\n",
        "#   'Song[A]': 'Shape of You',\n",
        "#   'Streams(billions)': 3.354,\n",
        "#   'Artist(s)': 'Ed Sheeran',\n",
        "#   'Release date': '6 January 2017',\n",
        "#   'Ref(s)': '[10]',\n",
        "#   'day': 6,\n",
        "#   'month': 'January',\n",
        "#   'year': 2017}]"
      ]
    },
    {
      "cell_type": "markdown",
      "id": "f19e4e76-e1cb-4fb1-b09c-b923a500923e",
      "metadata": {
        "id": "f19e4e76-e1cb-4fb1-b09c-b923a500923e"
      },
      "source": [
        "### Bonus"
      ]
    },
    {
      "cell_type": "markdown",
      "id": "461962a4-ebe5-460a-a032-ba0d28d47d30",
      "metadata": {
        "id": "461962a4-ebe5-460a-a032-ba0d28d47d30"
      },
      "source": [
        "Ok, now remember that we like to convert as many values as possible to numbers.  One of the attributes that perhaps should be a number is the month.  We'd like to convert `January` to `1` and `November` to `11` for example.  We'll get you started with this by creating a dictionary that has the keys and corresponding value for each month.  "
      ]
    },
    {
      "cell_type": "code",
      "execution_count": 87,
      "id": "c7d784de-f2fc-460b-a05e-0a33736c2957",
      "metadata": {
        "id": "c7d784de-f2fc-460b-a05e-0a33736c2957"
      },
      "outputs": [],
      "source": [
        "month_nums = {'January': 1, 'February': 2, 'March': 3, 'April': 4, 'May': 5, 'June': 6, 'July': 7, 'August': 8, 'September': 9, 'October': 10, 'November': 11, 'December': 12}"
      ]
    },
    {
      "cell_type": "markdown",
      "id": "52314a9a-e00c-404b-8424-3fc9adfb766f",
      "metadata": {
        "id": "52314a9a-e00c-404b-8424-3fc9adfb766f"
      },
      "source": [
        "And now notice that if we pass the month as any key, we are returned the corresponding value."
      ]
    },
    {
      "cell_type": "code",
      "execution_count": 88,
      "id": "bcb97b14-ae44-4c6b-b37b-003d246ef3f3",
      "metadata": {
        "colab": {
          "base_uri": "https://localhost:8080/"
        },
        "id": "bcb97b14-ae44-4c6b-b37b-003d246ef3f3",
        "outputId": "3ec9d4d3-2373-4abf-9473-470d9a03a719"
      },
      "outputs": [
        {
          "output_type": "execute_result",
          "data": {
            "text/plain": [
              "1"
            ]
          },
          "metadata": {},
          "execution_count": 88
        }
      ],
      "source": [
        "month_nums['January']"
      ]
    },
    {
      "cell_type": "markdown",
      "id": "89d265fa-984c-4575-a3d1-61cf242904ba",
      "metadata": {
        "id": "89d265fa-984c-4575-a3d1-61cf242904ba"
      },
      "source": [
        "So use the above, to convert each of the `dated_songs` month attributes to the corresponding number.  Assign the result to the list `formatted_songs`."
      ]
    },
    {
      "cell_type": "code",
      "execution_count": 114,
      "id": "3a6a9fc1-9a16-43bb-a856-a6aeb04f996d",
      "metadata": {
        "id": "3a6a9fc1-9a16-43bb-a856-a6aeb04f996d"
      },
      "outputs": [],
      "source": [
        "formatted_songs = []\n",
        "\n",
        "for album in dated_songs:\n",
        "  for key in month_nums.items():\n",
        "    if album['month'] == key[0]:\n",
        "      coerced_song = {\n",
        "            'Rank': album['Rank'],\n",
        "             'Song': album['Song'],\n",
        "            'Artist(s)': album['Artist(s)'],\n",
        "           'Streams (billions)': album['Streams (billions)'],\n",
        "           'Release date': album['Release date'],\n",
        "            'Ref.': album['Ref.'],\n",
        "           'day': album['day'],\n",
        "           'month': key[1] ,\n",
        "           'year': album['year']}\n",
        "\n",
        "      formatted_songs.append(coerced_song)\n"
      ]
    },
    {
      "cell_type": "markdown",
      "id": "6bdbc201-4949-4ef1-91fd-0c2cbe16d956",
      "metadata": {
        "id": "6bdbc201-4949-4ef1-91fd-0c2cbe16d956"
      },
      "source": [
        "And now we can see that each of the songs is represented by a number."
      ]
    },
    {
      "cell_type": "code",
      "execution_count": 117,
      "id": "ddf441fe-e428-42cb-82b5-fbf07de7baab",
      "metadata": {
        "colab": {
          "base_uri": "https://localhost:8080/"
        },
        "id": "ddf441fe-e428-42cb-82b5-fbf07de7baab",
        "outputId": "fcdfcd82-c82c-4eee-bff1-bfc0518fb436"
      },
      "outputs": [
        {
          "output_type": "execute_result",
          "data": {
            "text/plain": [
              "{'Rank': 1,\n",
              " 'Song': 'Blinding Lights',\n",
              " 'Artist(s)': 'The Weeknd',\n",
              " 'Streams (billions)': 3.787,\n",
              " 'Release date': 'November 29, 2019',\n",
              " 'Ref.': '[2][3]',\n",
              " 'day': 29,\n",
              " 'month': 11,\n",
              " 'year': 2019}"
            ]
          },
          "metadata": {},
          "execution_count": 117
        }
      ],
      "source": [
        "formatted_songs[0]"
      ]
    },
    {
      "cell_type": "code",
      "execution_count": 116,
      "id": "d4143fbe-c84b-47db-8920-29936bd7a22a",
      "metadata": {
        "colab": {
          "base_uri": "https://localhost:8080/"
        },
        "id": "d4143fbe-c84b-47db-8920-29936bd7a22a",
        "outputId": "73da9f1b-569c-4018-cd7a-7fbdcc014e88"
      },
      "outputs": [
        {
          "output_type": "execute_result",
          "data": {
            "text/plain": [
              "1"
            ]
          },
          "metadata": {},
          "execution_count": 116
        }
      ],
      "source": [
        "formatted_songs[1]['month']"
      ]
    },
    {
      "cell_type": "markdown",
      "id": "fcd2b903-0e42-443e-b35f-db1ae171b01b",
      "metadata": {
        "id": "fcd2b903-0e42-443e-b35f-db1ae171b01b"
      },
      "source": [
        "### Summary"
      ]
    },
    {
      "cell_type": "markdown",
      "id": "07d56f04-c8fb-41dd-bb4b-5fb1384f914e",
      "metadata": {
        "id": "07d56f04-c8fb-41dd-bb4b-5fb1384f914e"
      },
      "source": [
        "In this lesson, we practiced selecting and coercing individual attributes from a list of dictionaries.  Our main goal was to ensure that the attributes of each element were of the correct datatype, by coercing our data to numeric values when necessary."
      ]
    }
  ],
  "metadata": {
    "kernelspec": {
      "display_name": "Python 3 (ipykernel)",
      "language": "python",
      "name": "python3"
    },
    "language_info": {
      "codemirror_mode": {
        "name": "ipython",
        "version": 3
      },
      "file_extension": ".py",
      "mimetype": "text/x-python",
      "name": "python",
      "nbconvert_exporter": "python",
      "pygments_lexer": "ipython3",
      "version": "3.10.6"
    },
    "colab": {
      "provenance": []
    }
  },
  "nbformat": 4,
  "nbformat_minor": 5
}