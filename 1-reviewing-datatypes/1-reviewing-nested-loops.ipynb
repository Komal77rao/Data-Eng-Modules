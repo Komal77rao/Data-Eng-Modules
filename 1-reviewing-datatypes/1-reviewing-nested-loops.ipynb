{
  "cells": [
    {
      "cell_type": "markdown",
      "id": "4569aea3-f0c1-4f17-9d5c-0656aa8132fe",
      "metadata": {
        "id": "4569aea3-f0c1-4f17-9d5c-0656aa8132fe"
      },
      "source": [
        "# Nested Loops Lab"
      ]
    },
    {
      "cell_type": "markdown",
      "id": "f752ca01-1c1e-4f21-8072-0131624d9640",
      "metadata": {
        "id": "f752ca01-1c1e-4f21-8072-0131624d9640"
      },
      "source": [
        "### Introduction"
      ]
    },
    {
      "cell_type": "markdown",
      "id": "9baa7d1c-0e07-48c5-9db5-91dee3b5223f",
      "metadata": {
        "id": "9baa7d1c-0e07-48c5-9db5-91dee3b5223f"
      },
      "source": [
        "In this lesson, we'll review working with lists of dictionaries.  We'll be asked to select attributes from each dictionary in the list, and to coerce data in each dictionary.  When work on this task, we recommend operating on a single element before solving the problem for all of the elements -- so please, use that technique."
      ]
    },
    {
      "cell_type": "markdown",
      "id": "6ae24f21-11fb-4fdd-86aa-fa3d033ca028",
      "metadata": {
        "id": "6ae24f21-11fb-4fdd-86aa-fa3d033ca028"
      },
      "source": [
        "### Loading our Data"
      ]
    },
    {
      "cell_type": "code",
      "execution_count": 1,
      "id": "2d1c3897-f66b-4989-818d-76c7b90d7eb7",
      "metadata": {
        "id": "2d1c3897-f66b-4989-818d-76c7b90d7eb7"
      },
      "outputs": [],
      "source": [
        "url = \"https://en.wikipedia.org/wiki/List_of_most-streamed_songs_on_Spotify\"\n",
        "import pandas as pd\n",
        "\n",
        "dfs = pd.read_html(url)"
      ]
    },
    {
      "cell_type": "code",
      "execution_count": 2,
      "id": "a2942839-6c13-4d24-a6e9-db0c9a0b785d",
      "metadata": {
        "id": "a2942839-6c13-4d24-a6e9-db0c9a0b785d"
      },
      "outputs": [],
      "source": [
        "df = dfs[0]"
      ]
    },
    {
      "cell_type": "code",
      "execution_count": 3,
      "id": "fa6bd115-28e7-4901-88bd-6a1bf743cad1",
      "metadata": {
        "id": "fa6bd115-28e7-4901-88bd-6a1bf743cad1"
      },
      "outputs": [],
      "source": [
        "songs = df.to_dict('records')"
      ]
    },
    {
      "cell_type": "markdown",
      "id": "57a087da-77f1-4311-a98f-5f854bc8ac14",
      "metadata": {
        "tags": [],
        "id": "57a087da-77f1-4311-a98f-5f854bc8ac14"
      },
      "source": [
        "### Working with our data"
      ]
    },
    {
      "cell_type": "markdown",
      "id": "6aea1c85-9166-425d-a7bb-a73c74edff4d",
      "metadata": {
        "id": "6aea1c85-9166-425d-a7bb-a73c74edff4d"
      },
      "source": [
        "Now that we've downloaded our data, let's start exploring it.  Begin by selecting the first element from our list of songs, and assign it to the variable `first_song`."
      ]
    },
    {
      "cell_type": "code",
      "execution_count": 4,
      "id": "3cbee826-59ff-48e1-824c-bf575d2ac501",
      "metadata": {
        "id": "3cbee826-59ff-48e1-824c-bf575d2ac501",
        "outputId": "599b91ef-aca6-4b47-d5d6-6d8e79fb0188",
        "colab": {
          "base_uri": "https://localhost:8080/"
        }
      },
      "outputs": [
        {
          "output_type": "execute_result",
          "data": {
            "text/plain": [
              "{'Rank': '1',\n",
              " 'Song': '\"Blinding Lights\"',\n",
              " 'Artist(s)': 'The Weeknd',\n",
              " 'Streams (billions)': '3.783',\n",
              " 'Release date': 'November 29, 2019',\n",
              " 'Ref.': '[2][3]'}"
            ]
          },
          "metadata": {},
          "execution_count": 4
        }
      ],
      "source": [
        "first_song = songs[0]\n",
        "\n",
        "first_song\n",
        "\n",
        "# {'Rank': '1',\n",
        "#  'Song[A]': '\"Blinding Lights\"',\n",
        "#  'Streams(billions)': '3.374',\n",
        "#  'Artist(s)': 'The Weeknd',\n",
        "#  'Release date': '29 November 2019',\n",
        "#  'Ref(s)': '[8][9]'}"
      ]
    },
    {
      "cell_type": "markdown",
      "id": "b86bc4ad-18a0-4f78-b29e-2480988549a3",
      "metadata": {
        "id": "b86bc4ad-18a0-4f78-b29e-2480988549a3"
      },
      "source": [
        "Now take a look at the last three albums in the list."
      ]
    },
    {
      "cell_type": "code",
      "execution_count": 5,
      "id": "18501091-8004-4ef4-85e3-89a4be591ca4",
      "metadata": {
        "id": "18501091-8004-4ef4-85e3-89a4be591ca4",
        "outputId": "46ab05a5-2b25-4373-a36a-8dd53dd1e352",
        "colab": {
          "base_uri": "https://localhost:8080/"
        }
      },
      "outputs": [
        {
          "output_type": "execute_result",
          "data": {
            "text/plain": [
              "[{'Rank': '99',\n",
              "  'Song': '\"See You Again\"',\n",
              "  'Artist(s)': 'Wiz Khalifa featuring Charlie Puth',\n",
              "  'Streams (billions)': '1.670',\n",
              "  'Release date': '10 March 2015',\n",
              "  'Ref.': '[128][129]'},\n",
              " {'Rank': '100',\n",
              "  'Song': '\"Cold Heart (Pnau Remix)\"',\n",
              "  'Artist(s)': 'Elton John and Dua Lipa with Pnau',\n",
              "  'Streams (billions)': '1.668',\n",
              "  'Release date': '13 August 2021',\n",
              "  'Ref.': '[130][131]'},\n",
              " {'Rank': 'As of September 8th 2023',\n",
              "  'Song': 'As of September 8th 2023',\n",
              "  'Artist(s)': 'As of September 8th 2023',\n",
              "  'Streams (billions)': 'As of September 8th 2023',\n",
              "  'Release date': 'As of September 8th 2023',\n",
              "  'Ref.': 'As of September 8th 2023'}]"
            ]
          },
          "metadata": {},
          "execution_count": 5
        }
      ],
      "source": [
        "songs[-3:]\n",
        "\n",
        "# [{'Rank': '99',\n",
        "#   'Song[A]': '\"Sugar\"',\n",
        "#   'Streams(billions)': '1.498',\n",
        "#   'Artist(s)': 'Maroon 5',\n",
        "#   'Release date': '29 August 2014',\n",
        "#   'Ref(s)': '[143][144]'},\n",
        "#  {'Rank': '100',\n",
        "#   'Song[A]': '\"Youngblood\"',\n",
        "#   'Streams(billions)': '1.489',\n",
        "#   'Artist(s)': '5 Seconds of Summer',\n",
        "#   'Release date': '12 April 2018',\n",
        "#   'Ref(s)': '[145][146]'},\n",
        "#  {'Rank': 'As of 25 January 2023',\n",
        "#   'Song[A]': 'As of 25 January 2023',\n",
        "#   'Streams(billions)': 'As of 25 January 2023',\n",
        "#   'Artist(s)': 'As of 25 January 2023',\n",
        "#   'Release date': 'As of 25 January 2023',\n",
        "#   'Ref(s)': nan}]"
      ]
    },
    {
      "cell_type": "markdown",
      "id": "a912803f-de51-4e88-b854-896f80f3a0ca",
      "metadata": {
        "id": "a912803f-de51-4e88-b854-896f80f3a0ca"
      },
      "source": [
        "It looks like the last song is not a song at all, so instead select all songs except for the last one and assign it to a list called `selected_songs`."
      ]
    },
    {
      "cell_type": "code",
      "execution_count": 36,
      "id": "e6fde108-f928-4c1e-97b8-894b534a2249",
      "metadata": {
        "id": "e6fde108-f928-4c1e-97b8-894b534a2249",
        "outputId": "ae65783e-d462-4fc7-cf37-0079bbca17be",
        "colab": {
          "base_uri": "https://localhost:8080/"
        }
      },
      "outputs": [
        {
          "output_type": "execute_result",
          "data": {
            "text/plain": [
              "{'Rank': '1',\n",
              " 'Song': '\"Blinding Lights\"',\n",
              " 'Artist(s)': 'The Weeknd',\n",
              " 'Streams (billions)': '3.783',\n",
              " 'Release date': 'November 29, 2019',\n",
              " 'Ref.': '[2][3]'}"
            ]
          },
          "metadata": {},
          "execution_count": 36
        }
      ],
      "source": [
        "selected_songs = songs[:-1]\n",
        "selected_songs[0]"
      ]
    },
    {
      "cell_type": "code",
      "execution_count": 12,
      "id": "70f24acb-4b46-4e26-8930-c959a0ae70b0",
      "metadata": {
        "id": "70f24acb-4b46-4e26-8930-c959a0ae70b0",
        "outputId": "69e4a43a-b8c8-46b2-810a-802db45cc680",
        "colab": {
          "base_uri": "https://localhost:8080/"
        }
      },
      "outputs": [
        {
          "output_type": "execute_result",
          "data": {
            "text/plain": [
              "100"
            ]
          },
          "metadata": {},
          "execution_count": 12
        }
      ],
      "source": [
        "len(selected_songs)\n",
        "\n",
        "# 100"
      ]
    },
    {
      "cell_type": "markdown",
      "id": "6fb9f554-cf51-4743-864c-d6a9a47a34cc",
      "metadata": {
        "id": "6fb9f554-cf51-4743-864c-d6a9a47a34cc"
      },
      "source": [
        "And let's confirm that the last song is in fact a song.  Select the last song from `selected_songs`."
      ]
    },
    {
      "cell_type": "code",
      "execution_count": 14,
      "id": "34b8e191-704e-4695-900c-a1e75c688111",
      "metadata": {
        "id": "34b8e191-704e-4695-900c-a1e75c688111",
        "outputId": "3ec04886-9a87-430f-d9be-186e4dc073f8",
        "colab": {
          "base_uri": "https://localhost:8080/"
        }
      },
      "outputs": [
        {
          "output_type": "execute_result",
          "data": {
            "text/plain": [
              "{'Rank': '100',\n",
              " 'Song': '\"Cold Heart (Pnau Remix)\"',\n",
              " 'Artist(s)': 'Elton John and Dua Lipa with Pnau',\n",
              " 'Streams (billions)': '1.668',\n",
              " 'Release date': '13 August 2021',\n",
              " 'Ref.': '[130][131]'}"
            ]
          },
          "metadata": {},
          "execution_count": 14
        }
      ],
      "source": [
        "last_song = selected_songs[99]\n",
        "last_song\n",
        "\n",
        "# {'Rank': '100',\n",
        " # 'Song[A]': '\"Youngblood\"',\n",
        " # 'Streams(billions)': '1.489',\n",
        " # 'Artist(s)': '5 Seconds of Summer',\n",
        " # 'Release date': '12 April 2018',\n",
        " # 'Ref(s)': '[145][146]'}"
      ]
    },
    {
      "cell_type": "markdown",
      "id": "e0a126fe-0185-414e-822d-3a7a2de51e3a",
      "metadata": {
        "id": "e0a126fe-0185-414e-822d-3a7a2de51e3a"
      },
      "source": [
        "Selecting data.  Ok, now from the above list of dictionaries, let's create a a list of just the name of the each of the songs and assign it to the variable `names`."
      ]
    },
    {
      "cell_type": "code",
      "execution_count": 19,
      "id": "9d8ec494-d4c5-4dc2-a5e2-795da6c30075",
      "metadata": {
        "id": "9d8ec494-d4c5-4dc2-a5e2-795da6c30075"
      },
      "outputs": [],
      "source": [
        "names = []\n",
        "for song in selected_songs:\n",
        "  song_names = song['Song']\n",
        "  names.append(song_names)"
      ]
    },
    {
      "cell_type": "code",
      "execution_count": 21,
      "id": "c8dc6cfb-9484-4e37-9437-7c3d8c1a182c",
      "metadata": {
        "id": "c8dc6cfb-9484-4e37-9437-7c3d8c1a182c",
        "outputId": "cc884bf6-824d-4e4a-9ff5-753052cc2882",
        "colab": {
          "base_uri": "https://localhost:8080/"
        }
      },
      "outputs": [
        {
          "output_type": "execute_result",
          "data": {
            "text/plain": [
              "['\"Blinding Lights\"', '\"Shape of You\"', '\"Someone You Loved\"']"
            ]
          },
          "metadata": {},
          "execution_count": 21
        }
      ],
      "source": [
        "names[:3]\n",
        "\n",
        "# ['\"Blinding Lights\"', '\"Shape of You\"', '\"Dance Monkey\"']"
      ]
    },
    {
      "cell_type": "markdown",
      "id": "24567a0e-c82d-412f-8f82-fbc1512ca025",
      "metadata": {
        "id": "24567a0e-c82d-412f-8f82-fbc1512ca025"
      },
      "source": [
        "Now find the *number* of artists that were listed more than once on the top 100 songs list."
      ]
    },
    {
      "cell_type": "code",
      "execution_count": 55,
      "id": "1866a55f-193f-45cf-a6aa-4c101d3f94f6",
      "metadata": {
        "id": "1866a55f-193f-45cf-a6aa-4c101d3f94f6",
        "outputId": "2525ee93-426f-4370-f57b-c8ba6adf0b30",
        "colab": {
          "base_uri": "https://localhost:8080/"
        }
      },
      "outputs": [
        {
          "output_type": "execute_result",
          "data": {
            "text/plain": [
              "15"
            ]
          },
          "metadata": {},
          "execution_count": 55
        }
      ],
      "source": [
        "counter = []\n",
        "artists =[]\n",
        "\n",
        "for name in selected_songs:\n",
        "  artists.append(name['Artist(s)'])\n",
        "\n",
        "  for artist in range(len(artists)-1):\n",
        "    sorted_artists = sorted(artists)\n",
        "\n",
        "    first_idx = sorted_artists[artist]\n",
        "    second_idx = sorted_artists[artist+1]\n",
        "    #print(first_idx)\n",
        "\n",
        "    if first_idx == second_idx:\n",
        "      #print(first_idx)\n",
        "      counter.append(first_idx)\n",
        "\n",
        "\n",
        "len(set(counter))\n",
        "\n",
        "\n",
        "# 13"
      ]
    },
    {
      "cell_type": "markdown",
      "id": "112946c9-6353-4f88-a05c-6640c5d78ac3",
      "metadata": {
        "id": "112946c9-6353-4f88-a05c-6640c5d78ac3"
      },
      "source": [
        "Ok, now if we return to our original list of dictionaries, there is certain data that does not look like its of the correct type."
      ]
    },
    {
      "cell_type": "markdown",
      "id": "ac139c75-9788-434b-8a3d-4ea664d1d747",
      "metadata": {
        "id": "ac139c75-9788-434b-8a3d-4ea664d1d747"
      },
      "source": [
        "Change the `Rank` values to integers, and `Streams(billions)` to floats. It also looks like each of the songs names have an extra single or double quotation mark at the beginning and end of the songs.  Remove these extra quotation marks from each of the songs.\n",
        "\n",
        "Assign this new list of songs to the variable `coerced_songs`."
      ]
    },
    {
      "cell_type": "code",
      "execution_count": null,
      "id": "fbeffc30-1e5e-479b-911e-af88d67fcce5",
      "metadata": {
        "id": "fbeffc30-1e5e-479b-911e-af88d67fcce5"
      },
      "outputs": [],
      "source": [
        "coerced_songs ="
      ]
    },
    {
      "cell_type": "code",
      "execution_count": null,
      "id": "ffdcb436-47c0-4408-a6dd-9331325075d0",
      "metadata": {
        "id": "ffdcb436-47c0-4408-a6dd-9331325075d0",
        "outputId": "b95b977b-12f7-419b-a770-075b2065f926"
      },
      "outputs": [
        {
          "data": {
            "text/plain": [
              "[{'Rank': 1,\n",
              "  'Song[A]': 'Blinding Lights',\n",
              "  'Streams(billions)': 3.374,\n",
              "  'Artist(s)': 'The Weeknd',\n",
              "  'Release date': '29 November 2019',\n",
              "  'Ref(s)': '[8][9]'},\n",
              " {'Rank': 2,\n",
              "  'Song[A]': 'Shape of You',\n",
              "  'Streams(billions)': 3.354,\n",
              "  'Artist(s)': 'Ed Sheeran',\n",
              "  'Release date': '6 January 2017',\n",
              "  'Ref(s)': '[10]'}]"
            ]
          },
          "execution_count": 108,
          "metadata": {},
          "output_type": "execute_result"
        }
      ],
      "source": [
        "coerced_songs[:2]\n",
        "\n",
        "# [{'Rank': 1,\n",
        "#   'Song[A]': 'Blinding Lights',\n",
        "#   'Streams(billions)': 3.374,\n",
        "#   'Artist(s)': 'The Weeknd',\n",
        "#   'Release date': '29 November 2019',\n",
        "#   'Ref(s)': '[8][9]'},\n",
        "#  {'Rank': 2,\n",
        "#   'Song[A]': 'Shape of You',\n",
        "#   'Streams(billions)': 3.354,\n",
        "#   'Artist(s)': 'Ed Sheeran',\n",
        "#   'Release date': '6 January 2017',\n",
        "#   'Ref(s)': '[10]'}]"
      ]
    },
    {
      "cell_type": "markdown",
      "id": "b2b19786-217f-46eb-a0eb-9e73e2c6f6b1",
      "metadata": {
        "id": "b2b19786-217f-46eb-a0eb-9e73e2c6f6b1"
      },
      "source": [
        "Now if we select the `Rank` and `Streams(Billions)` from any of the dictionaries, we should see that they are of type integer."
      ]
    },
    {
      "cell_type": "code",
      "execution_count": null,
      "id": "ab1acf79-39f2-4e5c-8337-482006e05829",
      "metadata": {
        "id": "ab1acf79-39f2-4e5c-8337-482006e05829",
        "outputId": "9235e649-8392-4e23-e9b3-9a314ade963f"
      },
      "outputs": [
        {
          "data": {
            "text/plain": [
              "int"
            ]
          },
          "execution_count": 85,
          "metadata": {},
          "output_type": "execute_result"
        }
      ],
      "source": [
        "first_coerced = coerced_songs[0]\n",
        "\n",
        "type(first_coerced['Rank'])\n",
        "\n",
        "# int"
      ]
    },
    {
      "cell_type": "code",
      "execution_count": null,
      "id": "3d12c7bb-e589-471b-9c26-7c9d2d6437c5",
      "metadata": {
        "id": "3d12c7bb-e589-471b-9c26-7c9d2d6437c5",
        "outputId": "0b8c5dfd-73b3-4176-d870-1d177e15ed2f"
      },
      "outputs": [
        {
          "data": {
            "text/plain": [
              "float"
            ]
          },
          "execution_count": 88,
          "metadata": {},
          "output_type": "execute_result"
        }
      ],
      "source": [
        "type(first_coerced['Streams(billions)'])\n",
        "\n",
        "# float"
      ]
    },
    {
      "cell_type": "markdown",
      "id": "f8f6eb9c-a452-40fc-8ee2-9767f5713509",
      "metadata": {
        "id": "f8f6eb9c-a452-40fc-8ee2-9767f5713509"
      },
      "source": [
        "And if we view the title of even the last song, we should see that the first character is no longer a quotation mark but a letter."
      ]
    },
    {
      "cell_type": "code",
      "execution_count": null,
      "id": "6f5f1c50-067e-49e6-9cfd-070cc6fd0a44",
      "metadata": {
        "id": "6f5f1c50-067e-49e6-9cfd-070cc6fd0a44",
        "outputId": "693d34bc-3702-4884-b63d-18d444a92bb9"
      },
      "outputs": [
        {
          "data": {
            "text/plain": [
              "'Y'"
            ]
          },
          "execution_count": 90,
          "metadata": {},
          "output_type": "execute_result"
        }
      ],
      "source": [
        "coerced_songs[-1]['Song[A]'][:1]\n",
        "\n",
        "# 'Y'"
      ]
    },
    {
      "cell_type": "markdown",
      "id": "b6178a93-029c-4a71-8c3a-7a6f6d6e460a",
      "metadata": {
        "id": "b6178a93-029c-4a71-8c3a-7a6f6d6e460a"
      },
      "source": [
        "Now that we have this list of `coerced_songs`, let update our list of dictionaries even further.  If we look at one of the dictionaries, we'll see that date is hard to parse."
      ]
    },
    {
      "cell_type": "code",
      "execution_count": null,
      "id": "0f59cfc0-ab7f-407b-bf82-ed1ea05cc619",
      "metadata": {
        "id": "0f59cfc0-ab7f-407b-bf82-ed1ea05cc619",
        "outputId": "53fb8953-2bf0-4f55-c92f-3dcb49a37667"
      },
      "outputs": [
        {
          "data": {
            "text/plain": [
              "'29 November 2019'"
            ]
          },
          "execution_count": 92,
          "metadata": {},
          "output_type": "execute_result"
        }
      ],
      "source": [
        "coerced_songs[0]['Release date']\n",
        "\n"
      ]
    },
    {
      "cell_type": "markdown",
      "id": "a3c12a98-5eac-469f-9731-fa787547dc21",
      "metadata": {
        "id": "a3c12a98-5eac-469f-9731-fa787547dc21"
      },
      "source": [
        "We'd like to create three new keys on each of the dictionaries and of day, month and year.  Also remove the date published key, as the information in this key would then be duplicative."
      ]
    },
    {
      "cell_type": "markdown",
      "id": "b5b0f1e8-b315-44f3-b51f-9b67650ded39",
      "metadata": {
        "id": "b5b0f1e8-b315-44f3-b51f-9b67650ded39"
      },
      "source": [
        "> You can delete a key from a dictionary with the pop method."
      ]
    },
    {
      "cell_type": "code",
      "execution_count": null,
      "id": "d68dbd4d-a1f3-4173-aaac-647f5e5b413a",
      "metadata": {
        "id": "d68dbd4d-a1f3-4173-aaac-647f5e5b413a",
        "outputId": "855c9527-a19a-42b3-f779-62c391056afe"
      },
      "outputs": [
        {
          "data": {
            "text/plain": [
              "'29 November 2019'"
            ]
          },
          "execution_count": 94,
          "metadata": {},
          "output_type": "execute_result"
        }
      ],
      "source": [
        "blinding_lights = {'Rank': 1,\n",
        " 'Song[A]': 'Blinding Lights',\n",
        " 'Streams(billions)': 3.374,\n",
        " 'Artist(s)': 'The Weeknd',\n",
        " 'Release date': '29 November 2019',\n",
        " 'Ref(s)': '[8][9]'}\n",
        "\n",
        "blinding_lights.pop('Release date')"
      ]
    },
    {
      "cell_type": "code",
      "execution_count": null,
      "id": "d488f222-23b7-46ab-8254-a3a9157291c3",
      "metadata": {
        "id": "d488f222-23b7-46ab-8254-a3a9157291c3",
        "outputId": "71e270d8-8672-4293-ead1-5f6b4b20cde9"
      },
      "outputs": [
        {
          "data": {
            "text/plain": [
              "{'Rank': 1,\n",
              " 'Song[A]': 'Blinding Lights',\n",
              " 'Streams(billions)': 3.374,\n",
              " 'Artist(s)': 'The Weeknd',\n",
              " 'Ref(s)': '[8][9]'}"
            ]
          },
          "execution_count": 95,
          "metadata": {},
          "output_type": "execute_result"
        }
      ],
      "source": [
        "blinding_lights"
      ]
    },
    {
      "cell_type": "markdown",
      "id": "3a7326ea-c915-42a8-b287-61250227c34d",
      "metadata": {
        "id": "3a7326ea-c915-42a8-b287-61250227c34d"
      },
      "source": [
        "Ok, so create three new keys of `day`, `month` and year for each of our `coerced_songs` and then remove the `'Date published'` key."
      ]
    },
    {
      "cell_type": "markdown",
      "id": "0b3fe2d1-8073-4f92-b18d-6c2f8df43343",
      "metadata": {
        "id": "0b3fe2d1-8073-4f92-b18d-6c2f8df43343"
      },
      "source": [
        "Assign the new list to the variable `dated_songs`."
      ]
    },
    {
      "cell_type": "markdown",
      "id": "e7db9a2c-3171-4356-b1da-b5c088ba4cd9",
      "metadata": {
        "id": "e7db9a2c-3171-4356-b1da-b5c088ba4cd9"
      },
      "source": [
        "> Hint: It's easier if you solve accomplish this for one song first, before trying to solve this for all songs."
      ]
    },
    {
      "cell_type": "markdown",
      "id": "e55bf1d2-e080-48f4-9096-8a8a2f7e4fea",
      "metadata": {
        "id": "e55bf1d2-e080-48f4-9096-8a8a2f7e4fea"
      },
      "source": [
        "Assign the result to the variable `dated_songs`."
      ]
    },
    {
      "cell_type": "code",
      "execution_count": null,
      "id": "f71fe086-42d9-47ea-a448-c3e818f219f8",
      "metadata": {
        "id": "f71fe086-42d9-47ea-a448-c3e818f219f8"
      },
      "outputs": [],
      "source": [
        "dated_songs = None"
      ]
    },
    {
      "cell_type": "code",
      "execution_count": null,
      "id": "8db8940d-c3b1-46e5-b51b-cd037f41be24",
      "metadata": {
        "id": "8db8940d-c3b1-46e5-b51b-cd037f41be24"
      },
      "outputs": [],
      "source": [
        "# dated_songs[:2]\n",
        "\n",
        "# [{'Rank': 1,\n",
        "#   'Song[A]': 'Blinding Lights',\n",
        "#   'Streams(billions)': 3.374,\n",
        "#   'Artist(s)': 'The Weeknd',\n",
        "#   'Release date': '29 November 2019',\n",
        "#   'Ref(s)': '[8][9]',\n",
        "#   'day': 29,\n",
        "#   'month': 'November',\n",
        "#   'year': 2019},\n",
        "#  {'Rank': 2,\n",
        "#   'Song[A]': 'Shape of You',\n",
        "#   'Streams(billions)': 3.354,\n",
        "#   'Artist(s)': 'Ed Sheeran',\n",
        "#   'Release date': '6 January 2017',\n",
        "#   'Ref(s)': '[10]',\n",
        "#   'day': 6,\n",
        "#   'month': 'January',\n",
        "#   'year': 2017}]"
      ]
    },
    {
      "cell_type": "markdown",
      "id": "f19e4e76-e1cb-4fb1-b09c-b923a500923e",
      "metadata": {
        "id": "f19e4e76-e1cb-4fb1-b09c-b923a500923e"
      },
      "source": [
        "### Bonus"
      ]
    },
    {
      "cell_type": "markdown",
      "id": "461962a4-ebe5-460a-a032-ba0d28d47d30",
      "metadata": {
        "id": "461962a4-ebe5-460a-a032-ba0d28d47d30"
      },
      "source": [
        "Ok, now remember that we like to convert as many values as possible to numbers.  One of the attributes that perhaps should be a number is the month.  We'd like to convert `January` to `1` and `November` to `11` for example.  We'll get you started with this by creating a dictionary that has the keys and corresponding value for each month.  "
      ]
    },
    {
      "cell_type": "code",
      "execution_count": null,
      "id": "c7d784de-f2fc-460b-a05e-0a33736c2957",
      "metadata": {
        "id": "c7d784de-f2fc-460b-a05e-0a33736c2957"
      },
      "outputs": [],
      "source": [
        "month_nums = {'January': 1, 'February': 2, 'March': 3, 'April': 4, 'May': 5, 'June': 6, 'July': 7, 'August': 8, 'September': 9, 'October': 10, 'November': 11, 'December': 12}"
      ]
    },
    {
      "cell_type": "markdown",
      "id": "52314a9a-e00c-404b-8424-3fc9adfb766f",
      "metadata": {
        "id": "52314a9a-e00c-404b-8424-3fc9adfb766f"
      },
      "source": [
        "And now notice that if we pass the month as any key, we are returned the corresponding value."
      ]
    },
    {
      "cell_type": "code",
      "execution_count": null,
      "id": "bcb97b14-ae44-4c6b-b37b-003d246ef3f3",
      "metadata": {
        "id": "bcb97b14-ae44-4c6b-b37b-003d246ef3f3",
        "outputId": "9541bcca-10a4-43a0-835f-466b227451bc"
      },
      "outputs": [
        {
          "data": {
            "text/plain": [
              "1"
            ]
          },
          "execution_count": 97,
          "metadata": {},
          "output_type": "execute_result"
        }
      ],
      "source": [
        "month_nums['January']"
      ]
    },
    {
      "cell_type": "markdown",
      "id": "89d265fa-984c-4575-a3d1-61cf242904ba",
      "metadata": {
        "id": "89d265fa-984c-4575-a3d1-61cf242904ba"
      },
      "source": [
        "So use the above, to convert each of the `dated_songs` month attributes to the corresponding number.  Assign the result to the list `formatted_songs`."
      ]
    },
    {
      "cell_type": "code",
      "execution_count": null,
      "id": "3a6a9fc1-9a16-43bb-a856-a6aeb04f996d",
      "metadata": {
        "id": "3a6a9fc1-9a16-43bb-a856-a6aeb04f996d"
      },
      "outputs": [],
      "source": [
        "formatted_songs = None\n"
      ]
    },
    {
      "cell_type": "markdown",
      "id": "6bdbc201-4949-4ef1-91fd-0c2cbe16d956",
      "metadata": {
        "id": "6bdbc201-4949-4ef1-91fd-0c2cbe16d956"
      },
      "source": [
        "And now we can see that each of the songs is represented by a number."
      ]
    },
    {
      "cell_type": "code",
      "execution_count": null,
      "id": "ddf441fe-e428-42cb-82b5-fbf07de7baab",
      "metadata": {
        "id": "ddf441fe-e428-42cb-82b5-fbf07de7baab",
        "outputId": "9a549bc0-49c5-43e0-89ee-a65a6da079a8"
      },
      "outputs": [
        {
          "data": {
            "text/plain": [
              "1"
            ]
          },
          "execution_count": 101,
          "metadata": {},
          "output_type": "execute_result"
        }
      ],
      "source": [
        "formatted_songs[0]['month']"
      ]
    },
    {
      "cell_type": "code",
      "execution_count": null,
      "id": "d4143fbe-c84b-47db-8920-29936bd7a22a",
      "metadata": {
        "id": "d4143fbe-c84b-47db-8920-29936bd7a22a",
        "outputId": "7696b3ac-8f1a-4cb5-cc20-f165a6f02874"
      },
      "outputs": [
        {
          "data": {
            "text/plain": [
              "11"
            ]
          },
          "execution_count": 102,
          "metadata": {},
          "output_type": "execute_result"
        }
      ],
      "source": [
        "formatted_songs[1]['month']"
      ]
    },
    {
      "cell_type": "markdown",
      "id": "fcd2b903-0e42-443e-b35f-db1ae171b01b",
      "metadata": {
        "id": "fcd2b903-0e42-443e-b35f-db1ae171b01b"
      },
      "source": [
        "### Summary"
      ]
    },
    {
      "cell_type": "markdown",
      "id": "07d56f04-c8fb-41dd-bb4b-5fb1384f914e",
      "metadata": {
        "id": "07d56f04-c8fb-41dd-bb4b-5fb1384f914e"
      },
      "source": [
        "In this lesson, we practiced selecting and coercing individual attributes from a list of dictionaries.  Our main goal was to ensure that the attributes of each element were of the correct datatype, by coercing our data to numeric values when necessary."
      ]
    }
  ],
  "metadata": {
    "kernelspec": {
      "display_name": "Python 3 (ipykernel)",
      "language": "python",
      "name": "python3"
    },
    "language_info": {
      "codemirror_mode": {
        "name": "ipython",
        "version": 3
      },
      "file_extension": ".py",
      "mimetype": "text/x-python",
      "name": "python",
      "nbconvert_exporter": "python",
      "pygments_lexer": "ipython3",
      "version": "3.10.6"
    },
    "colab": {
      "provenance": []
    }
  },
  "nbformat": 4,
  "nbformat_minor": 5
}