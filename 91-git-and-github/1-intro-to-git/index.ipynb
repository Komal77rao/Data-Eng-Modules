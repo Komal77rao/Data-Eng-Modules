{
  "cells": [
    {
      "cell_type": "markdown",
      "metadata": {
        "id": "view-in-github",
        "colab_type": "text"
      },
      "source": [
        "<a href=\"https://colab.research.google.com/github/Komal77rao/Data-Eng-Modules/blob/main/91-git-and-github/1-intro-to-git/index.ipynb\" target=\"_parent\"><img src=\"https://colab.research.google.com/assets/colab-badge.svg\" alt=\"Open In Colab\"/></a>"
      ]
    },
    {
      "cell_type": "markdown",
      "metadata": {
        "id": "jz6nwRLW2Gz_"
      },
      "source": [
        "# Introducing Git"
      ]
    },
    {
      "cell_type": "markdown",
      "metadata": {
        "id": "YhX8S1iM2G0F"
      },
      "source": [
        "### Introduction"
      ]
    },
    {
      "cell_type": "markdown",
      "metadata": {
        "id": "0l9JQ4n12G0G"
      },
      "source": [
        "As we continue to build up a codebase in Python, we'll need a way to keep track of and save our progress.  Sometimes we'll work on a problem, only to decide that we would like to move back to how the code was previously.  Or perhaps we would like to better understand why certain code was written.  Well git can help us with each of these.  "
      ]
    },
    {
      "cell_type": "markdown",
      "metadata": {
        "id": "Cv00fE4a2G0G"
      },
      "source": [
        "### What is Git"
      ]
    },
    {
      "cell_type": "markdown",
      "metadata": {
        "id": "LbWlmLxR2G0H"
      },
      "source": [
        "> Git is a distributed version-control system for tracking changes in source code during software development"
      ]
    },
    {
      "cell_type": "markdown",
      "metadata": {
        "id": "0LEs58862G0I"
      },
      "source": [
        "Version control means what we would think.  Our software has various versions -- like whenever we add new code -- and Git tracks changes across versions.  As we learn some of the features in Git, we can see how it can help us."
      ]
    },
    {
      "cell_type": "markdown",
      "metadata": {
        "id": "98prdEM22G0I"
      },
      "source": [
        "### Starting Git"
      ]
    },
    {
      "cell_type": "markdown",
      "metadata": {
        "id": "YHAclHyx2G0K"
      },
      "source": [
        "Ok, so Git is a system for keeping track of the changes we make in our codebase.  We can begin using Git by typing into the terminal `git init`."
      ]
    },
    {
      "cell_type": "code",
      "execution_count": 1,
      "metadata": {
        "id": "hh7G6fbs2G0X",
        "outputId": "0c9a1ecd-ebcc-44b9-ca31-d22fcbda35cc",
        "colab": {
          "base_uri": "https://localhost:8080/"
        }
      },
      "outputs": [
        {
          "output_type": "stream",
          "name": "stdout",
          "text": [
            "\u001b[33mhint: Using 'master' as the name for the initial branch. This default branch name\u001b[m\n",
            "\u001b[33mhint: is subject to change. To configure the initial branch name to use in all\u001b[m\n",
            "\u001b[33mhint: of your new repositories, which will suppress this warning, call:\u001b[m\n",
            "\u001b[33mhint: \u001b[m\n",
            "\u001b[33mhint: \tgit config --global init.defaultBranch <name>\u001b[m\n",
            "\u001b[33mhint: \u001b[m\n",
            "\u001b[33mhint: Names commonly chosen instead of 'master' are 'main', 'trunk' and\u001b[m\n",
            "\u001b[33mhint: 'development'. The just-created branch can be renamed via this command:\u001b[m\n",
            "\u001b[33mhint: \u001b[m\n",
            "\u001b[33mhint: \tgit branch -m <name>\u001b[m\n",
            "Initialized empty Git repository in /content/.git/\n"
          ]
        }
      ],
      "source": [
        "!git init\n",
        "# Initialized empty Git repository"
      ]
    },
    {
      "cell_type": "markdown",
      "metadata": {
        "id": "CdhXRWik2G4T"
      },
      "source": [
        "This creates an empty repository.\n",
        "\n",
        "> A Git repository is just a folder that has content to keep track of the various changes we make in our code."
      ]
    },
    {
      "cell_type": "markdown",
      "metadata": {
        "id": "oahd2qcn2G4V"
      },
      "source": [
        "Now if we look for this Git repository with ls, we won't see it as the folder is hidden."
      ]
    },
    {
      "cell_type": "code",
      "execution_count": 2,
      "metadata": {
        "id": "dfs0YV672G4Y",
        "outputId": "c3f6a6fc-f853-4370-b0b8-1c121d8852e7",
        "colab": {
          "base_uri": "https://localhost:8080/"
        }
      },
      "outputs": [
        {
          "output_type": "stream",
          "name": "stdout",
          "text": [
            "\u001b[0m\u001b[01;34msample_data\u001b[0m/\n"
          ]
        }
      ],
      "source": [
        "ls"
      ]
    },
    {
      "cell_type": "markdown",
      "metadata": {
        "id": "3iTNVlom2G4Z"
      },
      "source": [
        "But, it can't hide forever.  Type `ls -a`, which lists *all* files and folders, even those hidden, and we'll see it."
      ]
    },
    {
      "cell_type": "code",
      "execution_count": 3,
      "metadata": {
        "id": "jrUpdhUe2G4Z",
        "outputId": "961085ec-ea6f-433e-912c-fad8911e1adc",
        "colab": {
          "base_uri": "https://localhost:8080/"
        }
      },
      "outputs": [
        {
          "output_type": "stream",
          "name": "stdout",
          "text": [
            "\u001b[0m\u001b[01;34m.\u001b[0m/  \u001b[01;34m..\u001b[0m/  \u001b[01;34m.config\u001b[0m/  \u001b[01;34m.git\u001b[0m/  \u001b[01;34msample_data\u001b[0m/\n"
          ]
        }
      ],
      "source": [
        "ls -a"
      ]
    },
    {
      "cell_type": "markdown",
      "metadata": {
        "id": "rf3CI9lC2G4a"
      },
      "source": [
        "> Hidden folders and files are just those whose name begins with a dot."
      ]
    },
    {
      "cell_type": "markdown",
      "metadata": {
        "id": "wHMM8v6P2G4a"
      },
      "source": [
        "Ok, so we just created a git repository, which is our `.git` folder.  Now let's add some code.  \n",
        "\n",
        "We'll create a new file, `album.py`."
      ]
    },
    {
      "cell_type": "code",
      "execution_count": 4,
      "metadata": {
        "id": "EG6265sb2G4a"
      },
      "outputs": [],
      "source": [
        "!touch album.py"
      ]
    },
    {
      "cell_type": "markdown",
      "metadata": {
        "id": "bXZAiGzf2G4a"
      },
      "source": [
        "And copy the code below into the file."
      ]
    },
    {
      "cell_type": "markdown",
      "metadata": {
        "id": "ywKYwt6C2G4b"
      },
      "source": [
        "```python\n",
        "def find_by_name(album, name):\n",
        "    return [album for albums where album['name'] == name]\n",
        "```"
      ]
    },
    {
      "cell_type": "markdown",
      "metadata": {
        "id": "aT9Y35R52G4b"
      },
      "source": [
        "Now that we've added some code, let's take use some Git."
      ]
    },
    {
      "cell_type": "markdown",
      "metadata": {
        "id": "EYL77LMj2G4b"
      },
      "source": [
        "### Git Commands"
      ]
    },
    {
      "cell_type": "markdown",
      "metadata": {
        "id": "p2z7QPB92G4b"
      },
      "source": [
        "In the lines that follow, let's move through the steps of saving work with Git.  We'll see the entire workflow, and then we'll break down each of the steps in future lessons.\n",
        "\n",
        "1. View an overview of the work we've done so far"
      ]
    },
    {
      "cell_type": "code",
      "execution_count": 5,
      "metadata": {
        "id": "Rb2iuzpD2G4c",
        "outputId": "dba1353b-badb-4187-8eb9-43d83683d7fa",
        "colab": {
          "base_uri": "https://localhost:8080/"
        }
      },
      "outputs": [
        {
          "output_type": "stream",
          "name": "stdout",
          "text": [
            "On branch master\n",
            "\n",
            "No commits yet\n",
            "\n",
            "Untracked files:\n",
            "  (use \"git add <file>...\" to include in what will be committed)\n",
            "\t\u001b[31m.config/\u001b[m\n",
            "\t\u001b[31malbum.py\u001b[m\n",
            "\t\u001b[31msample_data/\u001b[m\n",
            "\n",
            "nothing added to commit but untracked files present (use \"git add\" to track)\n"
          ]
        }
      ],
      "source": [
        "!git status"
      ]
    },
    {
      "cell_type": "markdown",
      "metadata": {
        "id": "P1h0nQHR2G4d"
      },
      "source": [
        "> Git does an excellent job of helping you out along the way, so please take the time to read the text that it prints out for us."
      ]
    },
    {
      "cell_type": "markdown",
      "metadata": {
        "id": "tNAFhz212G4j"
      },
      "source": [
        "In red, we see the files that we have so far.  \n",
        "\n",
        "2. Add the files we wish to save (here `album.py`)"
      ]
    },
    {
      "cell_type": "code",
      "execution_count": null,
      "metadata": {
        "id": "sWRh0dZQ2G4j"
      },
      "outputs": [],
      "source": [
        "!git add album.py"
      ]
    },
    {
      "cell_type": "markdown",
      "metadata": {
        "id": "RK03igAX2G4j"
      },
      "source": [
        "3. View what we've done (add the `album.py` file)"
      ]
    },
    {
      "cell_type": "code",
      "execution_count": null,
      "metadata": {
        "id": "wYGmmlkJ2G4k",
        "outputId": "f800098b-cb09-43d1-8deb-796c009ef223"
      },
      "outputs": [
        {
          "name": "stdout",
          "output_type": "stream",
          "text": [
            "On branch master\n",
            "\n",
            "No commits yet\n",
            "\n",
            "Changes to be committed:\n",
            "  (use \"git rm --cached <file>...\" to unstage)\n",
            "\n",
            "\t\u001b[32mnew file:   album.py\u001b[m\n",
            "\n",
            "Untracked files:\n",
            "  (use \"git add <file>...\" to include in what will be committed)\n",
            "\n",
            "\t\u001b[31m.ipynb_checkpoints/\u001b[m\n",
            "\t\u001b[31mindex.ipynb\u001b[m\n",
            "\n"
          ]
        }
      ],
      "source": [
        "!git status"
      ]
    },
    {
      "cell_type": "markdown",
      "metadata": {
        "id": "4HcvesGk2G4k"
      },
      "source": [
        "4. Commit the added files (here `album.py`)"
      ]
    },
    {
      "cell_type": "code",
      "execution_count": null,
      "metadata": {
        "id": "B-DY2YUC2G4k",
        "outputId": "6eecc6ed-bd5a-4687-ee57-6cb5f02ebab9"
      },
      "outputs": [
        {
          "name": "stdout",
          "output_type": "stream",
          "text": [
            "[master (root-commit) a6959c8] find album by name\n",
            " 1 file changed, 2 insertions(+)\n",
            " create mode 100644 album.py\n"
          ]
        }
      ],
      "source": [
        "!git commit -m 'find album by name'"
      ]
    },
    {
      "cell_type": "markdown",
      "metadata": {
        "id": "UqQpTa_L2G4k"
      },
      "source": [
        "So above, we saved our work in the `album.py` file, by calling `git add album.py`, followed by `git commit -m 'find album by name'`.  As we mentioned, we'll break down these commands later.  But for, now, let's see what commiting our `album.py` file got us."
      ]
    },
    {
      "cell_type": "markdown",
      "metadata": {
        "id": "2C7-mGwL2G4p"
      },
      "source": [
        "### The fruit of our labor"
      ]
    },
    {
      "cell_type": "markdown",
      "metadata": {
        "id": "APS3AmUS2G4q"
      },
      "source": [
        "1. See a history of our changes by calling `git log`."
      ]
    },
    {
      "cell_type": "code",
      "execution_count": null,
      "metadata": {
        "id": "pXM2yWS02G4q",
        "outputId": "1d034da6-eb99-4951-fafc-2afdf0706750"
      },
      "outputs": [
        {
          "name": "stdout",
          "output_type": "stream",
          "text": [
            "\u001b[33mcommit a6959c8dc2d8c440743ab4739d7c12bd348be548\u001b[m\u001b[33m (\u001b[m\u001b[1;36mHEAD -> \u001b[m\u001b[1;32mmaster\u001b[m\u001b[33m)\u001b[m\n",
            "Author: Jeff Katz <JeffreyEricKatz@gmail.com>\n",
            "Date:   Wed Feb 5 10:56:35 2020 -0500\n",
            "\n",
            "    find album by name\n"
          ]
        }
      ],
      "source": [
        "!git log"
      ]
    },
    {
      "cell_type": "markdown",
      "metadata": {
        "id": "eNzuR61p2G4t"
      },
      "source": [
        "So above we see our first and only commit of `find album by name`."
      ]
    },
    {
      "cell_type": "markdown",
      "metadata": {
        "id": "S0ITsAu32G4u"
      },
      "source": [
        "And we can see the contents of this commit with `git show`."
      ]
    },
    {
      "cell_type": "code",
      "execution_count": null,
      "metadata": {
        "id": "rbA6TIr12G4u",
        "outputId": "8c8712ba-c7d0-4fc4-a72a-466c52fb249c"
      },
      "outputs": [
        {
          "name": "stdout",
          "output_type": "stream",
          "text": [
            "\u001b[33mcommit a6959c8dc2d8c440743ab4739d7c12bd348be548\u001b[m\u001b[33m (\u001b[m\u001b[1;36mHEAD -> \u001b[m\u001b[1;32mmaster\u001b[m\u001b[33m)\u001b[m\n",
            "Author: Jeff Katz <JeffreyEricKatz@gmail.com>\n",
            "Date:   Wed Feb 5 10:56:35 2020 -0500\n",
            "\n",
            "    find album by name\n",
            "\n",
            "\u001b[1mdiff --git a/album.py b/album.py\u001b[m\n",
            "\u001b[1mnew file mode 100644\u001b[m\n",
            "\u001b[1mindex 0000000..fae6ce5\u001b[m\n",
            "\u001b[1m--- /dev/null\u001b[m\n",
            "\u001b[1m+++ b/album.py\u001b[m\n",
            "\u001b[36m@@ -0,0 +1,2 @@\u001b[m\n",
            "\u001b[32m+\u001b[m\u001b[32mdef find_by_name(album, name):\u001b[m\n",
            "\u001b[32m+\u001b[m\u001b[32m    return [album for albums where album['name'] == name]\u001b[m\n",
            "\\ No newline at end of file\u001b[m\n"
          ]
        }
      ],
      "source": [
        "!git show"
      ]
    },
    {
      "cell_type": "markdown",
      "metadata": {
        "id": "zyX66dCC2G4u"
      },
      "source": [
        "So notice at the bottom, we see all of the changes made to the file committed, the line of `def find_by_name`."
      ]
    },
    {
      "cell_type": "markdown",
      "metadata": {
        "id": "XbyEjyz_2G4u"
      },
      "source": [
        "### Why did we do this?"
      ]
    },
    {
      "cell_type": "markdown",
      "metadata": {
        "id": "Hlh1Vr1R2G41"
      },
      "source": [
        "The benefit of git is that, if we make commits along the way, it allows us to better understand, and make changes to our codebase.  \n",
        "\n",
        "For example, let's say that we have a bug that recently showed up in our code related to searching for albums.  To help us discover what caused the bug, we could use `git log` to see recent changes to our codebase related to finding albums, and then we could use `git show` to see the changes to the codebase that we made.  \n",
        "\n",
        "This is exceptionally powerful.  For example, imagine if in medicine, there was a log of all of the treatments ever given to a patient.  And then a doctor could quickly look at specifically what was done.  The doctor might better be able to understand what could be causing symptoms in a patient.\n",
        "\n",
        "A codebase can become exceptionally complicated and thousands, if not millions, of lines long.  Having a documentation that tells us what changes were made, and an explanation of why these changes were made can make our lives a lot easier as developers."
      ]
    },
    {
      "cell_type": "markdown",
      "metadata": {
        "id": "onBkE0RF2G41"
      },
      "source": [
        "Over the next lessons, we'll take a deeper look at our git commands."
      ]
    },
    {
      "cell_type": "markdown",
      "metadata": {
        "id": "P4aK4bZY2G41"
      },
      "source": [
        "### Summary"
      ]
    },
    {
      "cell_type": "markdown",
      "metadata": {
        "id": "sRjVRo_n2G42"
      },
      "source": [
        "In this lesson, we saw how git can allow us to keep track of the changes in a codebase over time.  We learned a number of git commands where we are able to do this:\n",
        "\n",
        "* `git init`: initializes a new repository\n",
        "* `git status`: shows us any new, added, or committed files\n",
        "* `git add`: adds one or more files to staging\n",
        "* `git commit`: makes a new commit\n",
        "* `git log`: shows us previous commits"
      ]
    }
  ],
  "metadata": {
    "kernelspec": {
      "display_name": "Python 3",
      "language": "python",
      "name": "python3"
    },
    "language_info": {
      "codemirror_mode": {
        "name": "ipython",
        "version": 3
      },
      "file_extension": ".py",
      "mimetype": "text/x-python",
      "name": "python",
      "nbconvert_exporter": "python",
      "pygments_lexer": "ipython3",
      "version": "3.8.3"
    },
    "colab": {
      "provenance": [],
      "include_colab_link": true
    }
  },
  "nbformat": 4,
  "nbformat_minor": 0
}