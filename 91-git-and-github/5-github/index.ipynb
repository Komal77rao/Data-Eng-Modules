{
  "cells": [
    {
      "cell_type": "markdown",
      "metadata": {
        "id": "view-in-github",
        "colab_type": "text"
      },
      "source": [
        "<a href=\"https://colab.research.google.com/github/Komal77rao/Data-Eng-Modules/blob/main/91-git-and-github/5-github/index.ipynb\" target=\"_parent\"><img src=\"https://colab.research.google.com/assets/colab-badge.svg\" alt=\"Open In Colab\"/></a>"
      ]
    },
    {
      "cell_type": "markdown",
      "metadata": {
        "id": "HRYTLLGzDMNf"
      },
      "source": [
        "# Introduction to Github"
      ]
    },
    {
      "cell_type": "markdown",
      "metadata": {
        "id": "XnDmF9MMDMN1"
      },
      "source": [
        "### Introduction"
      ]
    },
    {
      "cell_type": "markdown",
      "metadata": {
        "id": "OJ33J243DMN2"
      },
      "source": [
        "Now that we have worked with git locally on our computer, it's time to see how we can share our work online.  One way to do this is with Github.  We'll learn how to work with Github in this lesson."
      ]
    },
    {
      "cell_type": "markdown",
      "metadata": {
        "id": "mdb_Qr0ADMOJ"
      },
      "source": [
        "### Creating a Git Repository"
      ]
    },
    {
      "cell_type": "markdown",
      "metadata": {
        "id": "dz4pX13MDMOM"
      },
      "source": [
        "Let's start by creating a git repository, adding a file, and making a commit."
      ]
    },
    {
      "cell_type": "code",
      "execution_count": null,
      "metadata": {
        "id": "bUcQ6KItDMOP",
        "outputId": "977a8d7e-e1e5-4582-fe89-6242db17c4ad"
      },
      "outputs": [
        {
          "name": "stdout",
          "output_type": "stream",
          "text": [
            "Initialized empty Git repository in /Users/jeff/Documents/jigsaw/curriculum/1-section-content/mod-1/2-datatypes/a-fundamentals/91-git-and-github/5-github/.git/\n"
          ]
        }
      ],
      "source": [
        "!git init"
      ]
    },
    {
      "cell_type": "code",
      "execution_count": null,
      "metadata": {
        "id": "3LbvMr75DMOt"
      },
      "outputs": [],
      "source": [
        "!touch index.py"
      ]
    },
    {
      "cell_type": "code",
      "execution_count": null,
      "metadata": {
        "id": "zl1wugzeDMOv",
        "outputId": "c69cf443-497d-4b17-e5f9-67e896a0cffb"
      },
      "outputs": [
        {
          "name": "stdout",
          "output_type": "stream",
          "text": [
            "[master (root-commit) 94dc85e] adding index\n",
            " 1 file changed, 0 insertions(+), 0 deletions(-)\n",
            " create mode 100644 index.py\n"
          ]
        }
      ],
      "source": [
        "!git add index.py\n",
        "!git commit -m 'adding index'"
      ]
    },
    {
      "cell_type": "code",
      "execution_count": null,
      "metadata": {
        "id": "OMYjpZh0DMOy",
        "outputId": "0ea8bfb9-6250-44d0-a4e1-d0c973f88cab"
      },
      "outputs": [
        {
          "name": "stdout",
          "output_type": "stream",
          "text": [
            "\u001b[33mcommit 94dc85e51465253ddcfc3f4192f520dbaae69f68\u001b[m\u001b[33m (\u001b[m\u001b[1;36mHEAD -> \u001b[m\u001b[1;32mmaster\u001b[m\u001b[33m)\u001b[m\n",
            "Author: Jeff Katz <JeffreyEricKatz@gmail.com>\n",
            "Date:   Wed Feb 5 18:17:53 2020 -0500\n",
            "\n",
            "    adding index\n"
          ]
        }
      ],
      "source": [
        "!git log"
      ]
    },
    {
      "cell_type": "markdown",
      "metadata": {
        "id": "AvmXixMBDMO8"
      },
      "source": [
        "### Signing Up for Github"
      ]
    },
    {
      "cell_type": "markdown",
      "metadata": {
        "id": "a-Z8hZ5RDMPA"
      },
      "source": [
        "If you haven't do so before, create a new github account by going to [github.com](https://github.com/)."
      ]
    },
    {
      "cell_type": "markdown",
      "metadata": {
        "id": "0XlUspFTDMPA"
      },
      "source": [
        "Next, if you have not set up a github account before, we will need to give your computer a password to add files to your github account.  The way to do this is to generate a random key -- called an ssh key, that is then stored on your computer, and also placed onto Github."
      ]
    },
    {
      "cell_type": "markdown",
      "metadata": {
        "id": "6ztuCDPLDMPJ"
      },
      "source": [
        "[Walkthrough the guide on adding ssh keys here](https://help.github.com/en/github/authenticating-to-github/checking-for-existing-ssh-keys)."
      ]
    },
    {
      "cell_type": "markdown",
      "metadata": {
        "id": "1gs--aJWDMPT"
      },
      "source": [
        "### Adding Code to Github"
      ]
    },
    {
      "cell_type": "markdown",
      "metadata": {
        "id": "oDKBaZR4DMPY"
      },
      "source": [
        "Next, we want to create a new location where we will store our code.  We can create this by creating a new repository on Github."
      ]
    },
    {
      "cell_type": "markdown",
      "metadata": {
        "id": "x-aSigi8DMPY"
      },
      "source": [
        "<img src=\"https://github.com/data-eng-10-21/mod-1-a-data-structures/blob/master/91-git-and-github/5-github/new-repo.png?raw=1\" width=\"50%\">"
      ]
    },
    {
      "cell_type": "markdown",
      "metadata": {
        "id": "umnSH2UNDMPg"
      },
      "source": [
        "Look for the `+` in the top right, and then click on `New repository`."
      ]
    },
    {
      "cell_type": "markdown",
      "metadata": {
        "id": "m6UC1IRLDMPj"
      },
      "source": [
        "Then let's create a repository called `sample-repo`."
      ]
    },
    {
      "cell_type": "markdown",
      "metadata": {
        "id": "zJJhVhRRDMPj"
      },
      "source": [
        "<img src=\"https://github.com/data-eng-10-21/mod-1-a-data-structures/blob/master/91-git-and-github/5-github/create-repo.png?raw=1\">"
      ]
    },
    {
      "cell_type": "markdown",
      "metadata": {
        "id": "VbZxtT3EDMPj"
      },
      "source": [
        "Click on the green `Create repository` button to create the new repository."
      ]
    },
    {
      "cell_type": "markdown",
      "metadata": {
        "id": "q4othzycDMPj"
      },
      "source": [
        "Then to connect your local code to the repository in the cloud, Github tells you to first add an origin, and then run `git push -u origin master`."
      ]
    },
    {
      "cell_type": "markdown",
      "metadata": {
        "id": "THgK5G5MDMPk"
      },
      "source": [
        "<img src=\"https://github.com/data-eng-10-21/mod-1-a-data-structures/blob/master/91-git-and-github/5-github/repository.png?raw=1\">"
      ]
    },
    {
      "cell_type": "markdown",
      "metadata": {
        "id": "WWFvsaJmDMPk"
      },
      "source": [
        "You should see your code on github."
      ]
    },
    {
      "cell_type": "markdown",
      "metadata": {
        "id": "2hMHB0tpDMPk"
      },
      "source": [
        "### Summary"
      ]
    },
    {
      "cell_type": "markdown",
      "metadata": {
        "id": "ACk1exztDMPs"
      },
      "source": [
        "In this lesson, we saw how to begin using Github.  With Github, we are able to place on our code on the web so that we can share it with others.  In this lesson, we got started by creating a new repository on github, adding the address of this github repository with `git remote add origin ...` and then pushing on code to this remote repository with `git push -u origin master`."
      ]
    }
  ],
  "metadata": {
    "kernelspec": {
      "display_name": "Python 3 (ipykernel)",
      "language": "python",
      "name": "python3"
    },
    "language_info": {
      "codemirror_mode": {
        "name": "ipython",
        "version": 3
      },
      "file_extension": ".py",
      "mimetype": "text/x-python",
      "name": "python",
      "nbconvert_exporter": "python",
      "pygments_lexer": "ipython3",
      "version": "3.9.7"
    },
    "colab": {
      "provenance": [],
      "include_colab_link": true
    }
  },
  "nbformat": 4,
  "nbformat_minor": 0
}