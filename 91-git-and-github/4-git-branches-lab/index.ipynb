{
  "cells": [
    {
      "cell_type": "markdown",
      "metadata": {
        "id": "view-in-github",
        "colab_type": "text"
      },
      "source": [
        "<a href=\"https://colab.research.google.com/github/Komal77rao/Data-Eng-Modules/blob/main/91-git-and-github/4-git-branches-lab/index.ipynb\" target=\"_parent\"><img src=\"https://colab.research.google.com/assets/colab-badge.svg\" alt=\"Open In Colab\"/></a>"
      ]
    },
    {
      "cell_type": "markdown",
      "metadata": {
        "id": "fWaxNRkq2RH7"
      },
      "source": [
        "# Git Branches Lab"
      ]
    },
    {
      "cell_type": "markdown",
      "metadata": {
        "id": "KgIUo98y2RJ3"
      },
      "source": [
        "### Introduction"
      ]
    },
    {
      "cell_type": "markdown",
      "metadata": {
        "id": "2Fj2nb982RJ5"
      },
      "source": [
        "Now it's time to practice with git commits and branches.  In this lesson, we'll imagine we are working to track real estate data."
      ]
    },
    {
      "cell_type": "markdown",
      "metadata": {
        "id": "Q4Kw3ODc2RJ6"
      },
      "source": [
        "### Our first steps"
      ]
    },
    {
      "cell_type": "markdown",
      "metadata": {
        "id": "R1k-weO72RJ6"
      },
      "source": [
        "Let's start by initalizing a new repository and creating a file called `listing.py` and another file called `agent.py`."
      ]
    },
    {
      "cell_type": "code",
      "execution_count": 2,
      "metadata": {
        "id": "SMdPPLs82RJ8",
        "outputId": "bfccb06d-66d4-4317-f00f-8b5589277504",
        "colab": {
          "base_uri": "https://localhost:8080/"
        }
      },
      "outputs": [
        {
          "output_type": "stream",
          "name": "stdout",
          "text": [
            "Reinitialized existing Git repository in /content/.git/\n"
          ]
        }
      ],
      "source": [
        "!git init\n",
        "!touch listing.py\n",
        "!touch agent.py"
      ]
    },
    {
      "cell_type": "code",
      "execution_count": null,
      "metadata": {
        "id": "4xNDJEBP2RJ-"
      },
      "outputs": [],
      "source": []
    },
    {
      "cell_type": "code",
      "execution_count": null,
      "metadata": {
        "id": "vq37v8G42RJ_"
      },
      "outputs": [],
      "source": []
    },
    {
      "cell_type": "markdown",
      "metadata": {
        "id": "y7tOcU9K2RJ_"
      },
      "source": [
        "Now only add the `listing.py` file to staging."
      ]
    },
    {
      "cell_type": "code",
      "execution_count": 3,
      "metadata": {
        "id": "zkF1j3wD2RKD"
      },
      "outputs": [],
      "source": [
        "!git add listing.py"
      ]
    },
    {
      "cell_type": "markdown",
      "metadata": {
        "id": "sYv2LReT2RKD"
      },
      "source": [
        "Then create a commit with the message `track listings`."
      ]
    },
    {
      "cell_type": "code",
      "execution_count": 4,
      "metadata": {
        "id": "FzqKLyGP2RKM",
        "outputId": "ff53ec94-4c10-4ee9-fd80-6263c750e25e",
        "colab": {
          "base_uri": "https://localhost:8080/"
        }
      },
      "outputs": [
        {
          "output_type": "stream",
          "name": "stdout",
          "text": [
            "Author identity unknown\n",
            "\n",
            "*** Please tell me who you are.\n",
            "\n",
            "Run\n",
            "\n",
            "  git config --global user.email \"you@example.com\"\n",
            "  git config --global user.name \"Your Name\"\n",
            "\n",
            "to set your account's default identity.\n",
            "Omit --global to set the identity only in this repository.\n",
            "\n",
            "fatal: unable to auto-detect email address (got 'root@1c02d75a79fe.(none)')\n"
          ]
        }
      ],
      "source": [
        "!git commit -m \"track listings\""
      ]
    },
    {
      "cell_type": "markdown",
      "metadata": {
        "id": "fYkbmz5O2RLU"
      },
      "source": [
        "### Working with Branches"
      ]
    },
    {
      "cell_type": "markdown",
      "metadata": {
        "id": "0kqCqriM2RLV"
      },
      "source": [
        "Now let's work with git branches.  First, list all of the branches in the repository."
      ]
    },
    {
      "cell_type": "code",
      "execution_count": 6,
      "metadata": {
        "id": "_tc_hXAN2RLX"
      },
      "outputs": [],
      "source": [
        "!git branch -a"
      ]
    },
    {
      "cell_type": "markdown",
      "metadata": {
        "id": "2vaHI6r62RLY"
      },
      "source": [
        "Then create and switch to a new branch called `add_agents`."
      ]
    },
    {
      "cell_type": "code",
      "execution_count": null,
      "metadata": {
        "id": "wjpZ_5Ud2RLb",
        "outputId": "23c86417-67ad-413a-96c2-d72ce366339c"
      },
      "outputs": [
        {
          "name": "stdout",
          "output_type": "stream",
          "text": [
            "Switched to a new branch 'add_agents'\n"
          ]
        }
      ],
      "source": [
        "\n",
        "# Switched to a new branch 'add_agents'"
      ]
    },
    {
      "cell_type": "markdown",
      "metadata": {
        "id": "vuQezJEc2RLe"
      },
      "source": [
        "Double check that you are indeed on a new branch."
      ]
    },
    {
      "cell_type": "code",
      "execution_count": null,
      "metadata": {
        "id": "xjeC_oEX2RLf",
        "outputId": "932d7c59-f65a-4ae0-d8fe-849cf9c03a4e"
      },
      "outputs": [
        {
          "name": "stdout",
          "output_type": "stream",
          "text": [
            "* \u001b[32madd_agents\u001b[m\n",
            "  master\u001b[m\n"
          ]
        }
      ],
      "source": [
        "\n",
        "#* add_agents\n",
        "# master"
      ]
    },
    {
      "cell_type": "markdown",
      "metadata": {
        "id": "uGGwMVD82RLf"
      },
      "source": [
        "> Remember that the `*` tells us which branch we are on."
      ]
    },
    {
      "cell_type": "markdown",
      "metadata": {
        "id": "N5dcisji2RLg"
      },
      "source": [
        "Ok, now check the status."
      ]
    },
    {
      "cell_type": "code",
      "execution_count": null,
      "metadata": {
        "id": "LDlw9LJD2RLh",
        "outputId": "ea02f597-ced1-4822-c6c1-6ff06bef3568"
      },
      "outputs": [
        {
          "name": "stdout",
          "output_type": "stream",
          "text": [
            "On branch add_agents\n",
            "Untracked files:\n",
            "  (use \"git add <file>...\" to include in what will be committed)\n",
            "\n",
            "\t\u001b[31m.ipynb_checkpoints/\u001b[m\n",
            "\t\u001b[31magent.py\u001b[m\n",
            "\t\u001b[31mindex.ipynb\u001b[m\n",
            "\n",
            "nothing added to commit but untracked files present (use \"git add\" to track)\n"
          ]
        }
      ],
      "source": []
    },
    {
      "cell_type": "markdown",
      "metadata": {
        "id": "D3Z2QN6P2RLh"
      },
      "source": [
        "We can see that there are no changes to be added with the `listing.py` file, as we added it in the previous commit.  So let's make add and commit the `agent.py` file.  The commit should have a message of `adding agent feature`."
      ]
    },
    {
      "cell_type": "code",
      "execution_count": null,
      "metadata": {
        "id": "hxJIlIu-2RLh"
      },
      "outputs": [],
      "source": []
    },
    {
      "cell_type": "code",
      "execution_count": null,
      "metadata": {
        "id": "oJ4yTUM82RLh",
        "outputId": "7c89c25a-d638-4f55-b6b0-b84eb448497d"
      },
      "outputs": [
        {
          "name": "stdout",
          "output_type": "stream",
          "text": [
            "[add_agents 44e3160] adding agent feature\n",
            " 1 file changed, 0 insertions(+), 0 deletions(-)\n",
            " create mode 100644 agent.py\n"
          ]
        }
      ],
      "source": []
    },
    {
      "cell_type": "markdown",
      "metadata": {
        "id": "wsmeZyW92RLh"
      },
      "source": [
        "Now check the log of the `add_agents` branch."
      ]
    },
    {
      "cell_type": "code",
      "execution_count": null,
      "metadata": {
        "id": "2vFHck2C2RLi",
        "outputId": "244a3c9b-66de-49b0-d945-45c13f556028"
      },
      "outputs": [
        {
          "name": "stdout",
          "output_type": "stream",
          "text": [
            "\u001b[33mcommit 44e3160ac33716f55ec24ac9c82e8b6ebd879b37\u001b[m\u001b[33m (\u001b[m\u001b[1;36mHEAD -> \u001b[m\u001b[1;32madd_agents\u001b[m\u001b[33m)\u001b[m\n",
            "Author: Jeff Katz <JeffreyEricKatz@gmail.com>\n",
            "Date:   Wed Feb 5 17:11:57 2020 -0500\n",
            "\n",
            "    adding agent feature\n",
            "\n",
            "\u001b[33mcommit b61792fcfb08ed9633ec4df3482ba6df8e22f562\u001b[m\u001b[33m (\u001b[m\u001b[1;32mmaster\u001b[m\u001b[33m)\u001b[m\n",
            "Author: Jeff Katz <JeffreyEricKatz@gmail.com>\n",
            "Date:   Wed Feb 5 17:01:22 2020 -0500\n",
            "\n",
            "    track listings\n"
          ]
        }
      ],
      "source": []
    },
    {
      "cell_type": "markdown",
      "metadata": {
        "id": "JPh72HSs2RLi"
      },
      "source": [
        "Notice that it has the original commit from the master branch."
      ]
    },
    {
      "cell_type": "markdown",
      "metadata": {
        "id": "bM0hCYQK2RLi"
      },
      "source": [
        "### Merging our branch"
      ]
    },
    {
      "cell_type": "markdown",
      "metadata": {
        "id": "CsVjoma12RLi"
      },
      "source": [
        "Ok, now we want to merge the `adding agent feature` commit onto the master branch.  The first step is to move back to the master branch.  Do so in the cell below."
      ]
    },
    {
      "cell_type": "code",
      "execution_count": null,
      "metadata": {
        "id": "xfXaQgZB2RLi",
        "outputId": "ac35a5e8-7762-442a-d4ac-caac34a7a35d"
      },
      "outputs": [
        {
          "name": "stdout",
          "output_type": "stream",
          "text": [
            "Switched to branch 'master'\n"
          ]
        }
      ],
      "source": [
        "\n",
        "# Switched to branch 'master'"
      ]
    },
    {
      "cell_type": "markdown",
      "metadata": {
        "id": "Emic7xJB2RLk"
      },
      "source": [
        "> Notice that the `agent.py` file is no longer in the file tree."
      ]
    },
    {
      "cell_type": "markdown",
      "metadata": {
        "id": "OvQnr09J2RLl"
      },
      "source": [
        "And let's view the logs on the master branch."
      ]
    },
    {
      "cell_type": "code",
      "execution_count": null,
      "metadata": {
        "id": "frQ8h-lv2RLl",
        "outputId": "705addce-a4c2-48ae-9216-e47c954a7321"
      },
      "outputs": [
        {
          "name": "stdout",
          "output_type": "stream",
          "text": [
            "\u001b[33mcommit b61792fcfb08ed9633ec4df3482ba6df8e22f562\u001b[m\u001b[33m (\u001b[m\u001b[1;36mHEAD -> \u001b[m\u001b[1;32mmaster\u001b[m\u001b[33m)\u001b[m\n",
            "Author: Jeff Katz <JeffreyEricKatz@gmail.com>\n",
            "Date:   Wed Feb 5 17:01:22 2020 -0500\n",
            "\n",
            "    track listings\n"
          ]
        }
      ],
      "source": []
    },
    {
      "cell_type": "markdown",
      "metadata": {
        "id": "QaHT67VZ2RLm"
      },
      "source": [
        "So we can see that there is only one commit on the master branch."
      ]
    },
    {
      "cell_type": "markdown",
      "metadata": {
        "id": "eIZigu-W2RLm"
      },
      "source": [
        "Now we want to merge the other branch we created onto the master branch.  What was the name of that branch?  Let's find out by listing all of the branches."
      ]
    },
    {
      "cell_type": "code",
      "execution_count": null,
      "metadata": {
        "id": "t_LF1MVe2RLn",
        "outputId": "a2de3913-a5b1-4783-fabd-941f5896a8e7"
      },
      "outputs": [
        {
          "name": "stdout",
          "output_type": "stream",
          "text": [
            "  add_agents\u001b[m\n",
            "* \u001b[32mmaster\u001b[m\n"
          ]
        }
      ],
      "source": []
    },
    {
      "cell_type": "markdown",
      "metadata": {
        "id": "PWUfRNgR2RLp"
      },
      "source": [
        "And then let's merge that branch onto master."
      ]
    },
    {
      "cell_type": "code",
      "execution_count": null,
      "metadata": {
        "id": "07E3MaGx2RLx",
        "outputId": "470743cf-965f-4302-cdd0-c52f953cc7cb"
      },
      "outputs": [
        {
          "name": "stdout",
          "output_type": "stream",
          "text": [
            "Updating b61792f..44e3160\n",
            "Fast-forward\n",
            " agent.py | 0\n",
            " 1 file changed, 0 insertions(+), 0 deletions(-)\n",
            " create mode 100644 agent.py\n"
          ]
        }
      ],
      "source": []
    },
    {
      "cell_type": "markdown",
      "metadata": {
        "id": "o7H4b6W42RL-"
      },
      "source": [
        "If you look at the file tree, we should now see both the `agent.py` and the `listing.py` files.  Let's also check the log of the master branch."
      ]
    },
    {
      "cell_type": "code",
      "execution_count": null,
      "metadata": {
        "id": "oDCPQHNn2RL_",
        "outputId": "eae37881-183c-4577-f69f-eca263630faa"
      },
      "outputs": [
        {
          "name": "stdout",
          "output_type": "stream",
          "text": [
            "\u001b[33mcommit 44e3160ac33716f55ec24ac9c82e8b6ebd879b37\u001b[m\u001b[33m (\u001b[m\u001b[1;36mHEAD -> \u001b[m\u001b[1;32mmaster\u001b[m\u001b[33m, \u001b[m\u001b[1;32madd_agents\u001b[m\u001b[33m)\u001b[m\n",
            "Author: Jeff Katz <JeffreyEricKatz@gmail.com>\n",
            "Date:   Wed Feb 5 17:11:57 2020 -0500\n",
            "\n",
            "    adding agent feature\n",
            "\n",
            "\u001b[33mcommit b61792fcfb08ed9633ec4df3482ba6df8e22f562\u001b[m\n",
            "Author: Jeff Katz <JeffreyEricKatz@gmail.com>\n",
            "Date:   Wed Feb 5 17:01:22 2020 -0500\n",
            "\n",
            "    track listings\n"
          ]
        }
      ],
      "source": []
    },
    {
      "cell_type": "markdown",
      "metadata": {
        "id": "lDhSsgLu2RMA"
      },
      "source": [
        "So we can see that both commits are now on our master branch as well."
      ]
    },
    {
      "cell_type": "markdown",
      "metadata": {
        "id": "he_VuCK32RMA"
      },
      "source": [
        "Finally, if we wish to delete the `add_agents` branch, we now can with the following:"
      ]
    },
    {
      "cell_type": "code",
      "execution_count": null,
      "metadata": {
        "id": "T83p1A4s2RMB",
        "outputId": "40bbdcad-e47b-4c48-9ce3-813047db70fc"
      },
      "outputs": [
        {
          "name": "stdout",
          "output_type": "stream",
          "text": [
            "Deleted branch add_agents (was 44e3160).\n"
          ]
        }
      ],
      "source": []
    },
    {
      "cell_type": "markdown",
      "metadata": {
        "id": "LfgSBN3n2RMD"
      },
      "source": [
        "And see that we are now only left with the master branch."
      ]
    },
    {
      "cell_type": "code",
      "execution_count": null,
      "metadata": {
        "id": "Oi7e89tW2RMD",
        "outputId": "bb29d932-06ec-4f99-9b86-5550b304c8d1"
      },
      "outputs": [
        {
          "name": "stdout",
          "output_type": "stream",
          "text": [
            "* \u001b[32mmaster\u001b[m\n"
          ]
        }
      ],
      "source": []
    },
    {
      "cell_type": "markdown",
      "metadata": {
        "id": "w-FPCfds2RML"
      },
      "source": [
        "### Summary"
      ]
    },
    {
      "cell_type": "markdown",
      "metadata": {
        "id": "3fus1_KS2RNM"
      },
      "source": [
        "In this lesson we practiced making git commits and creating and then merging git branches."
      ]
    }
  ],
  "metadata": {
    "kernelspec": {
      "display_name": "Python 3",
      "language": "python",
      "name": "python3"
    },
    "language_info": {
      "codemirror_mode": {
        "name": "ipython",
        "version": 3
      },
      "file_extension": ".py",
      "mimetype": "text/x-python",
      "name": "python",
      "nbconvert_exporter": "python",
      "pygments_lexer": "ipython3",
      "version": "3.8.3"
    },
    "colab": {
      "provenance": [],
      "include_colab_link": true
    }
  },
  "nbformat": 4,
  "nbformat_minor": 0
}