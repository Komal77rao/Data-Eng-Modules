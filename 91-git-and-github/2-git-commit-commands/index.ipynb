{
  "cells": [
    {
      "cell_type": "markdown",
      "metadata": {
        "id": "view-in-github",
        "colab_type": "text"
      },
      "source": [
        "<a href=\"https://colab.research.google.com/github/Komal77rao/Data-Eng-Modules/blob/main/91-git-and-github/2-git-commit-commands/index.ipynb\" target=\"_parent\"><img src=\"https://colab.research.google.com/assets/colab-badge.svg\" alt=\"Open In Colab\"/></a>"
      ]
    },
    {
      "cell_type": "markdown",
      "metadata": {
        "id": "9PQ1GJfB2LjY"
      },
      "source": [
        "# Commands for Git Commits - Code Along"
      ]
    },
    {
      "cell_type": "markdown",
      "metadata": {
        "id": "oDINOvJL2LmQ"
      },
      "source": [
        "### Introduction"
      ]
    },
    {
      "cell_type": "markdown",
      "metadata": {
        "id": "QSMb2E1e2LmY"
      },
      "source": [
        "In the last lesson, we saw an overview of the Git workflow for saving changes with Git.  In this lesson, we'll walk through this workflow again."
      ]
    },
    {
      "cell_type": "markdown",
      "metadata": {
        "id": "U4v1zUX72Lma"
      },
      "source": [
        "### Creating Files and Initializing a Repository"
      ]
    },
    {
      "cell_type": "markdown",
      "metadata": {
        "id": "l-9H1WaG2Lmb"
      },
      "source": [
        "Let's start by creating our `album.py` file, and then initializing a repository."
      ]
    },
    {
      "cell_type": "code",
      "execution_count": 4,
      "metadata": {
        "id": "wnx2t8Zp2Lox"
      },
      "outputs": [],
      "source": [
        "!touch album.py"
      ]
    },
    {
      "cell_type": "markdown",
      "metadata": {
        "id": "hwadcb712Lo3"
      },
      "source": [
        "Now write `git init` to initialize the repository.  \n",
        "> Remember to do this in a Jupyter notebook, precede each command with an exclamation point (`!git init`)."
      ]
    },
    {
      "cell_type": "code",
      "execution_count": 3,
      "metadata": {
        "id": "hppFerQI2Lo5",
        "outputId": "02811448-734c-45b9-ff05-8e9c2b041bf4",
        "colab": {
          "base_uri": "https://localhost:8080/"
        }
      },
      "outputs": [
        {
          "output_type": "stream",
          "name": "stdout",
          "text": [
            "\u001b[33mhint: Using 'master' as the name for the initial branch. This default branch name\u001b[m\n",
            "\u001b[33mhint: is subject to change. To configure the initial branch name to use in all\u001b[m\n",
            "\u001b[33mhint: of your new repositories, which will suppress this warning, call:\u001b[m\n",
            "\u001b[33mhint: \u001b[m\n",
            "\u001b[33mhint: \tgit config --global init.defaultBranch <name>\u001b[m\n",
            "\u001b[33mhint: \u001b[m\n",
            "\u001b[33mhint: Names commonly chosen instead of 'master' are 'main', 'trunk' and\u001b[m\n",
            "\u001b[33mhint: 'development'. The just-created branch can be renamed via this command:\u001b[m\n",
            "\u001b[33mhint: \u001b[m\n",
            "\u001b[33mhint: \tgit branch -m <name>\u001b[m\n",
            "Initialized empty Git repository in /content/.git/\n"
          ]
        }
      ],
      "source": [
        "!git init\n",
        "# Initialized empty Git repository"
      ]
    },
    {
      "cell_type": "markdown",
      "metadata": {
        "id": "DK4PHgy52Lo6"
      },
      "source": [
        "We can check that our repository is there with `ls -a` which lists all files."
      ]
    },
    {
      "cell_type": "code",
      "execution_count": 6,
      "metadata": {
        "id": "MJMMYQpY2LpD",
        "outputId": "394f0635-dc55-4ce9-e678-de5464b6f0e6",
        "colab": {
          "base_uri": "https://localhost:8080/"
        }
      },
      "outputs": [
        {
          "output_type": "stream",
          "name": "stdout",
          "text": [
            ".  ..  album.py  .config  .git\tsample_data\n"
          ]
        }
      ],
      "source": [
        "\n",
        "!ls -a\n",
        "# ./                  .git/               album.py\n",
        "# ../                 .ipynb_checkpoints/ index.ipynb"
      ]
    },
    {
      "cell_type": "markdown",
      "metadata": {
        "id": "AmACzFU72LpE"
      },
      "source": [
        "Now add the code below to the `album.py` file.\n",
        "\n",
        "```python\n",
        "def find_by_name(album, name):\n",
        "    return [album for albums where album['name'] == name]\n",
        "```"
      ]
    },
    {
      "cell_type": "markdown",
      "metadata": {
        "id": "E8RkyxeN2LpF"
      },
      "source": [
        "### Git Commands"
      ]
    },
    {
      "cell_type": "markdown",
      "metadata": {
        "id": "Lh9rVkdx2LpF"
      },
      "source": [
        "1. Git status"
      ]
    },
    {
      "cell_type": "markdown",
      "metadata": {
        "id": "wc2_gNUr2LpG"
      },
      "source": [
        "Git status gives us an overview of the changes that we made thus far, and shows us any files that are staged to be committed.  Type `!git status` in the cell below."
      ]
    },
    {
      "cell_type": "code",
      "execution_count": 7,
      "metadata": {
        "id": "4R8Lb6jA2LpG",
        "outputId": "e022a18b-86e3-42b2-f141-4f0840d796c8",
        "colab": {
          "base_uri": "https://localhost:8080/"
        }
      },
      "outputs": [
        {
          "output_type": "stream",
          "name": "stdout",
          "text": [
            "On branch master\n",
            "\n",
            "No commits yet\n",
            "\n",
            "Untracked files:\n",
            "  (use \"git add <file>...\" to include in what will be committed)\n",
            "\t\u001b[31m.config/\u001b[m\n",
            "\t\u001b[31malbum.py\u001b[m\n",
            "\t\u001b[31msample_data/\u001b[m\n",
            "\n",
            "nothing added to commit but untracked files present (use \"git add\" to track)\n"
          ]
        }
      ],
      "source": [
        "!git status\n",
        "\n",
        "# On branch master\n",
        "\n",
        "# No commits yet\n",
        "\n",
        "# Untracked files:\n",
        "#   (use \"git add <file>...\" to include in what will be committed)"
      ]
    },
    {
      "cell_type": "markdown",
      "metadata": {
        "id": "AhSYsK7w2LpG"
      },
      "source": [
        "So we see that two files, and the `.ipynb_checkpoints` folder listed.  The next step is to specify which files we would like to commit."
      ]
    },
    {
      "cell_type": "markdown",
      "metadata": {
        "id": "jJjzdf6P2LpG"
      },
      "source": [
        "2. Git add"
      ]
    },
    {
      "cell_type": "markdown",
      "metadata": {
        "id": "LR43WGOe2LpH"
      },
      "source": [
        "If we want to commit certain files, we first need to add them to staging.  Let's just add the `album.py` file.\n",
        "\n",
        "Type `git add album.py` below."
      ]
    },
    {
      "cell_type": "code",
      "execution_count": 8,
      "metadata": {
        "id": "ZMguxiYa2LpH"
      },
      "outputs": [],
      "source": [
        "!git add album.py"
      ]
    },
    {
      "cell_type": "markdown",
      "metadata": {
        "id": "ygG2KwSu2LpH"
      },
      "source": [
        "> **Why `git add`?** Git has an `add` step before committing because, while we are coding, we could be working on multiple problems at the same time.  By giving us the option of adding only certain files, this allows to only add files related to a specific commit.  For example, above, only the `album.py` file has code related to searching for an album.  The `index.ipynb` file does not."
      ]
    },
    {
      "cell_type": "markdown",
      "metadata": {
        "id": "BIKIkoPW2LpI"
      },
      "source": [
        "Now let's see that we did this correctly by typing `git status`."
      ]
    },
    {
      "cell_type": "code",
      "execution_count": 9,
      "metadata": {
        "id": "S9Gx_uGo2LpI",
        "outputId": "e4735b9c-785d-4138-81b8-b16c23a9ab2a",
        "colab": {
          "base_uri": "https://localhost:8080/"
        }
      },
      "outputs": [
        {
          "output_type": "stream",
          "name": "stdout",
          "text": [
            "On branch master\n",
            "\n",
            "No commits yet\n",
            "\n",
            "Changes to be committed:\n",
            "  (use \"git rm --cached <file>...\" to unstage)\n",
            "\t\u001b[32mnew file:   album.py\u001b[m\n",
            "\n",
            "Untracked files:\n",
            "  (use \"git add <file>...\" to include in what will be committed)\n",
            "\t\u001b[31m.config/\u001b[m\n",
            "\t\u001b[31msample_data/\u001b[m\n",
            "\n"
          ]
        }
      ],
      "source": [
        "!git status"
      ]
    },
    {
      "cell_type": "markdown",
      "metadata": {
        "id": "g6eTbucX2LpJ"
      },
      "source": [
        "Ok, so we see that only the `album.py` file is to be committed."
      ]
    },
    {
      "cell_type": "markdown",
      "metadata": {
        "id": "NrIziPAF2LpJ"
      },
      "source": [
        "3. Git commit"
      ]
    },
    {
      "cell_type": "markdown",
      "metadata": {
        "id": "Ah6grS7F2LpJ"
      },
      "source": [
        "Now we can save our change by writing `git commit -m ` followed by a message, like `git commit -m 'add album search'`.  \n",
        "\n",
        "> The `-m` stands for message."
      ]
    },
    {
      "cell_type": "markdown",
      "metadata": {
        "id": "_WZUypbj2LpJ"
      },
      "source": [
        "Ok, now make a git commit with a related message below."
      ]
    },
    {
      "cell_type": "code",
      "execution_count": 10,
      "metadata": {
        "id": "GFUZw4vh2LpK",
        "outputId": "b4e88a7d-0006-45a6-c686-498858095807",
        "colab": {
          "base_uri": "https://localhost:8080/"
        }
      },
      "outputs": [
        {
          "output_type": "stream",
          "name": "stdout",
          "text": [
            "Author identity unknown\n",
            "\n",
            "*** Please tell me who you are.\n",
            "\n",
            "Run\n",
            "\n",
            "  git config --global user.email \"you@example.com\"\n",
            "  git config --global user.name \"Your Name\"\n",
            "\n",
            "to set your account's default identity.\n",
            "Omit --global to set the identity only in this repository.\n",
            "\n",
            "fatal: unable to auto-detect email address (got 'root@b2154c17cd7e.(none)')\n"
          ]
        }
      ],
      "source": [
        "!git commit -m \"add album search\""
      ]
    },
    {
      "cell_type": "markdown",
      "metadata": {
        "id": "9iT_K-Rg2LpK"
      },
      "source": [
        "So that's how we make a git commit.  We first write `git add` followed by the file we want to commit.  Then we write `git commit -m 'message'` to make the commit."
      ]
    },
    {
      "cell_type": "markdown",
      "metadata": {
        "id": "G7NX1KFx2LpL"
      },
      "source": [
        "### Viewing the Changes"
      ]
    },
    {
      "cell_type": "markdown",
      "metadata": {
        "id": "sGBtchRf2LpN"
      },
      "source": [
        "Once we have made our commit, we can view the commit with `git log`."
      ]
    },
    {
      "cell_type": "code",
      "execution_count": 11,
      "metadata": {
        "id": "UDuByfcL2LpN",
        "outputId": "3059a473-dfad-4210-f576-1411c80f53e5",
        "colab": {
          "base_uri": "https://localhost:8080/"
        }
      },
      "outputs": [
        {
          "output_type": "stream",
          "name": "stdout",
          "text": [
            "fatal: your current branch 'master' does not have any commits yet\n"
          ]
        }
      ],
      "source": [
        "!git log"
      ]
    },
    {
      "cell_type": "markdown",
      "metadata": {
        "id": "JSWNx0M42LpP"
      },
      "source": [
        "And then we can view the change saved in that commit with `git show`."
      ]
    },
    {
      "cell_type": "code",
      "execution_count": null,
      "metadata": {
        "id": "bWxLBYXn2LpU",
        "outputId": "db0cf84d-1801-4c24-a69f-587ac19f18af"
      },
      "outputs": [
        {
          "name": "stdout",
          "output_type": "stream",
          "text": [
            "\u001b[33mcommit 0fb3d7884011cff33a84bb8625e5f55835ccec4c\u001b[m\u001b[33m (\u001b[m\u001b[1;36mHEAD -> \u001b[m\u001b[1;32mmaster\u001b[m\u001b[33m)\u001b[m\n",
            "Author: Jeff Katz <JeffreyEricKatz@gmail.com>\n",
            "Date:   Wed Feb 5 12:21:18 2020 -0500\n",
            "\n",
            "    add album search\n",
            "\n",
            "\u001b[1mdiff --git a/album.py b/album.py\u001b[m\n",
            "\u001b[1mnew file mode 100644\u001b[m\n",
            "\u001b[1mindex 0000000..fae6ce5\u001b[m\n",
            "\u001b[1m--- /dev/null\u001b[m\n",
            "\u001b[1m+++ b/album.py\u001b[m\n",
            "\u001b[36m@@ -0,0 +1,2 @@\u001b[m\n",
            "\u001b[32m+\u001b[m\u001b[32mdef find_by_name(album, name):\u001b[m\n",
            "\u001b[32m+\u001b[m\u001b[32m    return [album for albums where album['name'] == name]\u001b[m\n",
            "\\ No newline at end of file\u001b[m\n"
          ]
        }
      ],
      "source": []
    },
    {
      "cell_type": "markdown",
      "metadata": {
        "id": "zi1n9R2x2Lqc"
      },
      "source": [
        "### Where we are now"
      ]
    },
    {
      "cell_type": "markdown",
      "metadata": {
        "id": "or_iTPUp2Lqd"
      },
      "source": [
        "Let's see what git status says now, now that we have our first commit.  Check the status below."
      ]
    },
    {
      "cell_type": "code",
      "execution_count": null,
      "metadata": {
        "id": "-n_-9Bn_2Lqd",
        "outputId": "9a96c87c-c70a-432d-97a3-7d4ddb65edde"
      },
      "outputs": [
        {
          "name": "stdout",
          "output_type": "stream",
          "text": [
            "On branch master\n",
            "Untracked files:\n",
            "  (use \"git add <file>...\" to include in what will be committed)\n",
            "\n",
            "\t\u001b[31m.ipynb_checkpoints/\u001b[m\n",
            "\t\u001b[31mindex.ipynb\u001b[m\n",
            "\n",
            "nothing added to commit but untracked files present (use \"git add\" to track)\n"
          ]
        }
      ],
      "source": []
    },
    {
      "cell_type": "markdown",
      "metadata": {
        "id": "qlxcs7pj2Lqo"
      },
      "source": [
        "Now let's make a commit related to the `index.ipynb` file.  The first step is to use the `git add ` command.  Add the `index.ipynb` file below."
      ]
    },
    {
      "cell_type": "code",
      "execution_count": null,
      "metadata": {
        "id": "59vjPeGu2Lqp"
      },
      "outputs": [],
      "source": []
    },
    {
      "cell_type": "markdown",
      "metadata": {
        "id": "FeX3wXWc2Lqp"
      },
      "source": [
        "Then check what was added."
      ]
    },
    {
      "cell_type": "code",
      "execution_count": null,
      "metadata": {
        "id": "E3lv2OnG2Lrc",
        "outputId": "4247f755-b0be-4b41-9099-2d67ec5d0472"
      },
      "outputs": [
        {
          "name": "stdout",
          "output_type": "stream",
          "text": [
            "/bin/sh: replace: command not found\n"
          ]
        }
      ],
      "source": [
        "\n",
        "#On branch master\n",
        "# Changes to be committed:\n",
        "#  (use \"git reset HEAD <file>...\" to unstage)\n",
        "# .."
      ]
    },
    {
      "cell_type": "markdown",
      "metadata": {
        "id": "msuyWbIi2Lrd"
      },
      "source": [
        "Finally make the commit along with a message `git practice`."
      ]
    },
    {
      "cell_type": "code",
      "execution_count": null,
      "metadata": {
        "id": "Tx1WbfYz2Lrd",
        "outputId": "9a04adcc-ce98-4ef6-adee-0705fe3b10ae"
      },
      "outputs": [
        {
          "name": "stdout",
          "output_type": "stream",
          "text": [
            "[master e825909] git practice\n",
            " 1 file changed, 74 insertions(+)\n"
          ]
        }
      ],
      "source": []
    },
    {
      "cell_type": "markdown",
      "metadata": {
        "id": "ZDlbu5VG2Lrg"
      },
      "source": [
        "* View your changes."
      ]
    },
    {
      "cell_type": "markdown",
      "metadata": {
        "id": "IhoDxfAP2Lrh"
      },
      "source": [
        "Now look at the log of all of the commits in our git repository.  We should now see two commits."
      ]
    },
    {
      "cell_type": "code",
      "execution_count": null,
      "metadata": {
        "id": "ujWdl7tH2Lrh",
        "outputId": "ce006274-98c1-48c2-b950-2f9d2d50f04e"
      },
      "outputs": [
        {
          "name": "stdout",
          "output_type": "stream",
          "text": [
            "\u001b[33mcommit e825909ea805a621697ad9ac0ee063e7c87cabdd\u001b[m\u001b[33m (\u001b[m\u001b[1;36mHEAD -> \u001b[m\u001b[1;32mmaster\u001b[m\u001b[33m)\u001b[m\n",
            "Author: Jeff Katz <JeffreyEricKatz@gmail.com>\n",
            "Date:   Wed Feb 5 12:34:35 2020 -0500\n",
            "\n",
            "    git practice\n",
            "\n",
            "\u001b[33mcommit 884aa7b720f1a30873dc59037493be207796d79f\u001b[m\n",
            "Author: Jeff Katz <JeffreyEricKatz@gmail.com>\n",
            "Date:   Wed Feb 5 12:33:53 2020 -0500\n",
            "\n",
            "    git practice\n",
            "\n",
            "\u001b[33mcommit 0fb3d7884011cff33a84bb8625e5f55835ccec4c\u001b[m\n",
            "Author: Jeff Katz <JeffreyEricKatz@gmail.com>\n",
            "Date:   Wed Feb 5 12:21:18 2020 -0500\n",
            "\n",
            "    add album search\n"
          ]
        }
      ],
      "source": []
    },
    {
      "cell_type": "markdown",
      "metadata": {
        "id": "Ow4LuOZV2Lrj"
      },
      "source": [
        "Now view our current status."
      ]
    },
    {
      "cell_type": "code",
      "execution_count": null,
      "metadata": {
        "id": "0eDMPObi2Lrj",
        "outputId": "e75f6a75-f12a-4ca9-f20c-a5f1590abccb"
      },
      "outputs": [
        {
          "name": "stdout",
          "output_type": "stream",
          "text": [
            "On branch master\n",
            "Changes not staged for commit:\n",
            "  (use \"git add <file>...\" to update what will be committed)\n",
            "  (use \"git checkout -- <file>...\" to discard changes in working directory)\n",
            "\n",
            "\t\u001b[31mmodified:   index.ipynb\u001b[m\n",
            "\n",
            "Untracked files:\n",
            "  (use \"git add <file>...\" to include in what will be committed)\n",
            "\n",
            "\t\u001b[31m.ipynb_checkpoints/\u001b[m\n",
            "\n",
            "no changes added to commit (use \"git add\" and/or \"git commit -a\")\n"
          ]
        }
      ],
      "source": []
    },
    {
      "cell_type": "markdown",
      "metadata": {
        "id": "5usUIDgZ2Lrk"
      },
      "source": [
        "Notice that we no longer see anything about `album.py` listed.  This is because `album.py` we already saved the changes we made to `album.py`.  There are no new changes to save in that file."
      ]
    },
    {
      "cell_type": "markdown",
      "metadata": {
        "id": "DwN3FrhC2Lrl"
      },
      "source": [
        "> If you add a couple of lines to the `album.py` file and run `git status` again, you will see the `album.py` file listed as something that was changed and can be added to a commit."
      ]
    },
    {
      "cell_type": "markdown",
      "metadata": {
        "id": "w-prN3Pl2Lrl"
      },
      "source": [
        "### Summary"
      ]
    },
    {
      "cell_type": "markdown",
      "metadata": {
        "id": "zSWdEuNa2Lrl"
      },
      "source": [
        "In this lesson, we better understood the commands for making a git commit.  To do so we start with `git add` to specify the files to commit, and then `git commit -m 'message'` to create a git commit along with the message.  \n",
        "\n",
        "Then we saw how to view our commits.  We do so with `git log`.  Finally, if we want to see the contents of a commit, we can view the most recent commit with `git show`."
      ]
    }
  ],
  "metadata": {
    "kernelspec": {
      "display_name": "Python 3",
      "language": "python",
      "name": "python3"
    },
    "language_info": {
      "codemirror_mode": {
        "name": "ipython",
        "version": 3
      },
      "file_extension": ".py",
      "mimetype": "text/x-python",
      "name": "python",
      "nbconvert_exporter": "python",
      "pygments_lexer": "ipython3",
      "version": "3.8.3"
    },
    "colab": {
      "provenance": [],
      "include_colab_link": true
    }
  },
  "nbformat": 4,
  "nbformat_minor": 0
}