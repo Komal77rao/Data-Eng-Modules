{
  "cells": [
    {
      "cell_type": "markdown",
      "metadata": {
        "id": "view-in-github",
        "colab_type": "text"
      },
      "source": [
        "<a href=\"https://colab.research.google.com/github/Komal77rao/Data-Eng-Modules/blob/main/91-git-and-github/3-git-branches/index.ipynb\" target=\"_parent\"><img src=\"https://colab.research.google.com/assets/colab-badge.svg\" alt=\"Open In Colab\"/></a>"
      ]
    },
    {
      "cell_type": "markdown",
      "metadata": {
        "id": "RkV03Dln2OMJ"
      },
      "source": [
        "# Branches in Git"
      ]
    },
    {
      "cell_type": "markdown",
      "metadata": {
        "id": "6c43sW9z2OMU"
      },
      "source": [
        "### Introduction"
      ]
    },
    {
      "cell_type": "markdown",
      "metadata": {
        "id": "w8liMHeJ2OMV"
      },
      "source": [
        "So far we have learned how to save our progress in git.  That is how to move forward by adding files and then making a commit.  And then another commit."
      ]
    },
    {
      "cell_type": "markdown",
      "metadata": {
        "id": "pxVozniD2OMY"
      },
      "source": [
        "<img src=\"https://github.com/data-eng-10-21/mod-1-a-data-structures/blob/master/91-git-and-github/3-git-branches/commit-draw.png?raw=1\" width=\"30%\">"
      ]
    },
    {
      "cell_type": "markdown",
      "metadata": {
        "id": "mElUiunh2OMY"
      },
      "source": [
        "But what if we want to add some new code but we're not sure how it will turn out?  We may want to branch off of this main path, and into a new one."
      ]
    },
    {
      "cell_type": "markdown",
      "metadata": {
        "id": "I41pD2Sw2OMZ"
      },
      "source": [
        "In this lesson we'll learn how to do that."
      ]
    },
    {
      "cell_type": "markdown",
      "metadata": {
        "id": "nYvUkh582OMb"
      },
      "source": [
        "### Branches in Git"
      ]
    },
    {
      "cell_type": "markdown",
      "metadata": {
        "id": "-kRFrstw2OMd"
      },
      "source": [
        "Let's initialize another git repository."
      ]
    },
    {
      "cell_type": "code",
      "execution_count": 2,
      "metadata": {
        "id": "mQ8ZHsOe2OMe",
        "outputId": "0ad5778c-67cd-4b46-9869-3f04e31843ab",
        "colab": {
          "base_uri": "https://localhost:8080/"
        }
      },
      "outputs": [
        {
          "output_type": "stream",
          "name": "stdout",
          "text": [
            "\u001b[33mhint: Using 'master' as the name for the initial branch. This default branch name\u001b[m\n",
            "\u001b[33mhint: is subject to change. To configure the initial branch name to use in all\u001b[m\n",
            "\u001b[33mhint: of your new repositories, which will suppress this warning, call:\u001b[m\n",
            "\u001b[33mhint: \u001b[m\n",
            "\u001b[33mhint: \tgit config --global init.defaultBranch <name>\u001b[m\n",
            "\u001b[33mhint: \u001b[m\n",
            "\u001b[33mhint: Names commonly chosen instead of 'master' are 'main', 'trunk' and\u001b[m\n",
            "\u001b[33mhint: 'development'. The just-created branch can be renamed via this command:\u001b[m\n",
            "\u001b[33mhint: \u001b[m\n",
            "\u001b[33mhint: \tgit branch -m <name>\u001b[m\n",
            "Initialized empty Git repository in /content/.git/\n"
          ]
        }
      ],
      "source": [
        "!git init"
      ]
    },
    {
      "cell_type": "markdown",
      "metadata": {
        "id": "pYAe0TQ32OMl"
      },
      "source": [
        "And then check our status."
      ]
    },
    {
      "cell_type": "code",
      "execution_count": 3,
      "metadata": {
        "id": "qLj1gu4G2OMm",
        "outputId": "3755c3af-d8fd-4ac3-c27e-6250925facba",
        "colab": {
          "base_uri": "https://localhost:8080/"
        }
      },
      "outputs": [
        {
          "output_type": "stream",
          "name": "stdout",
          "text": [
            "On branch master\n",
            "\n",
            "No commits yet\n",
            "\n",
            "Untracked files:\n",
            "  (use \"git add <file>...\" to include in what will be committed)\n",
            "\t\u001b[31m.config/\u001b[m\n",
            "\t\u001b[31msample_data/\u001b[m\n",
            "\n",
            "nothing added to commit but untracked files present (use \"git add\" to track)\n"
          ]
        }
      ],
      "source": [
        "!git status"
      ]
    },
    {
      "cell_type": "markdown",
      "metadata": {
        "id": "9dS3KgPT2OMn"
      },
      "source": [
        "The first line says that we are `On branch master`.  The master branch is the main branch of our repository.  If we think of our repository as a tree, then the master branch is the trunk.  Each commit is another knotch, moving sequentially further along that trunk."
      ]
    },
    {
      "cell_type": "markdown",
      "metadata": {
        "id": "L1EPnA202OMn"
      },
      "source": [
        "<img src=\"https://github.com/data-eng-10-21/mod-1-a-data-structures/blob/master/91-git-and-github/3-git-branches/master-branch-git.png?raw=1\" width=\"40%\">"
      ]
    },
    {
      "cell_type": "markdown",
      "metadata": {
        "id": "Sv68Ux3K2OMo"
      },
      "source": [
        "> Here we have laid our tree sideways."
      ]
    },
    {
      "cell_type": "markdown",
      "metadata": {
        "id": "nbabline2OMo"
      },
      "source": [
        "Let's add all of our files and make a commit."
      ]
    },
    {
      "cell_type": "markdown",
      "metadata": {
        "id": "yARZIZ7W2OMo"
      },
      "source": [
        "> `git add .` will add all of the files to staging."
      ]
    },
    {
      "cell_type": "code",
      "execution_count": 4,
      "metadata": {
        "id": "G074xu2Z2OMo",
        "outputId": "10ec913b-3079-4256-b197-4f93e0483952",
        "colab": {
          "base_uri": "https://localhost:8080/"
        }
      },
      "outputs": [
        {
          "output_type": "stream",
          "name": "stdout",
          "text": [
            "fatal: pathspec 'album.py' did not match any files\n",
            "Author identity unknown\n",
            "\n",
            "*** Please tell me who you are.\n",
            "\n",
            "Run\n",
            "\n",
            "  git config --global user.email \"you@example.com\"\n",
            "  git config --global user.name \"Your Name\"\n",
            "\n",
            "to set your account's default identity.\n",
            "Omit --global to set the identity only in this repository.\n",
            "\n",
            "fatal: unable to auto-detect email address (got 'root@6aab63681fe0.(none)')\n"
          ]
        }
      ],
      "source": [
        "!git add album.py\n",
        "!git commit -m 'first commit'"
      ]
    },
    {
      "cell_type": "markdown",
      "metadata": {
        "id": "NVzVADVa2OMp"
      },
      "source": [
        "Notice that at the top git says, `master (root-commit) ...]`."
      ]
    },
    {
      "cell_type": "markdown",
      "metadata": {
        "id": "xkJ0L3WT2OMp"
      },
      "source": [
        "Now let's create another file and make one more commit."
      ]
    },
    {
      "cell_type": "code",
      "execution_count": null,
      "metadata": {
        "id": "E5JCWQyx2OMp"
      },
      "outputs": [],
      "source": [
        "!touch album.py"
      ]
    },
    {
      "cell_type": "code",
      "execution_count": null,
      "metadata": {
        "id": "P7RSiefh2OMq",
        "outputId": "29bfefd3-8dc5-4f69-8c1b-1bb7ed60e816"
      },
      "outputs": [
        {
          "name": "stdout",
          "output_type": "stream",
          "text": [
            "[master 0c079aa] adding album.py\n",
            " 2 files changed, 73 insertions(+), 2 deletions(-)\n",
            " create mode 100644 album.py\n"
          ]
        }
      ],
      "source": [
        "!git add .\n",
        "! git commit -m 'adding album.py'"
      ]
    },
    {
      "cell_type": "markdown",
      "metadata": {
        "id": "EppnEVXe2OMr"
      },
      "source": [
        "If do a `git log`, we'll see our master branch now looks like the following."
      ]
    },
    {
      "cell_type": "markdown",
      "metadata": {
        "id": "efUEqsI72OMr"
      },
      "source": [
        "<img src=\"https://github.com/data-eng-10-21/mod-1-a-data-structures/blob/master/91-git-and-github/3-git-branches/adding-album-commit.png?raw=1\" width=\"50%\">"
      ]
    },
    {
      "cell_type": "code",
      "execution_count": null,
      "metadata": {
        "id": "CP-8obXP2OMr",
        "outputId": "947348e5-e735-4934-f8b8-ea4ebd77871c"
      },
      "outputs": [
        {
          "name": "stdout",
          "output_type": "stream",
          "text": [
            "\u001b[33mcommit 0c079aa1e802b4c3f5a455c10b6e97288a79dcd1\u001b[m\u001b[33m (\u001b[m\u001b[1;36mHEAD -> \u001b[m\u001b[1;32mmaster\u001b[m\u001b[33m)\u001b[m\n",
            "Author: Jeff Katz <JeffreyEricKatz@gmail.com>\n",
            "Date:   Wed Feb 5 15:56:42 2020 -0500\n",
            "\n",
            "    adding album.py\n",
            "\n",
            "\u001b[33mcommit f99c2039641ee41ca45caffb73684f09444ae130\u001b[m\n",
            "Author: Jeff Katz <JeffreyEricKatz@gmail.com>\n",
            "Date:   Wed Feb 5 15:53:50 2020 -0500\n",
            "\n",
            "    first commit\n"
          ]
        }
      ],
      "source": [
        "!git log"
      ]
    },
    {
      "cell_type": "markdown",
      "metadata": {
        "id": "CLv8dAG12OMu"
      },
      "source": [
        "### Moving to a New Branch"
      ]
    },
    {
      "cell_type": "markdown",
      "metadata": {
        "id": "mOwbB4N62OMu"
      },
      "source": [
        "Ok, before moving to a new branch, let's learn another git command."
      ]
    },
    {
      "cell_type": "code",
      "execution_count": null,
      "metadata": {
        "id": "qb9cEdZE2OMu",
        "outputId": "4442ec7e-7963-4f28-a7bd-b0f49a3458a5"
      },
      "outputs": [
        {
          "name": "stdout",
          "output_type": "stream",
          "text": [
            "* \u001b[32mmaster\u001b[m\n"
          ]
        }
      ],
      "source": [
        "!git branch -a"
      ]
    },
    {
      "cell_type": "markdown",
      "metadata": {
        "id": "Cif51Yo42OMy"
      },
      "source": [
        "This above lists all of the branches in the repostory.  We can see that we currently only have one branch master, and the `*` indicates that we are on the master branch."
      ]
    },
    {
      "cell_type": "markdown",
      "metadata": {
        "id": "sI6aYmmw2OMy"
      },
      "source": [
        "Now let's create a new branch."
      ]
    },
    {
      "cell_type": "code",
      "execution_count": null,
      "metadata": {
        "id": "exIlakIi2OMz",
        "outputId": "e93e8d67-b156-49f8-a4d1-7d00fb4bc94e"
      },
      "outputs": [
        {
          "name": "stdout",
          "output_type": "stream",
          "text": [
            "M\tindex.ipynb\n",
            "Switched to a new branch 'find_albums'\n"
          ]
        }
      ],
      "source": [
        "!git checkout -b find_albums"
      ]
    },
    {
      "cell_type": "markdown",
      "metadata": {
        "id": "X1xkKEr12OM0"
      },
      "source": [
        "We can see that we just created, and switched to a new branch `find_albums`.  Let's use `git branch -a` to confirm both of these facts."
      ]
    },
    {
      "cell_type": "code",
      "execution_count": null,
      "metadata": {
        "id": "mytYkuaW2OM0",
        "outputId": "a362ce78-b3bb-444f-d512-7c282064bbf6"
      },
      "outputs": [
        {
          "name": "stdout",
          "output_type": "stream",
          "text": [
            "* \u001b[32mfind_albums\u001b[m\n",
            "  master\u001b[m\n"
          ]
        }
      ],
      "source": [
        "!git branch -a"
      ]
    },
    {
      "cell_type": "markdown",
      "metadata": {
        "id": "rMPKZjIc2OM1"
      },
      "source": [
        "Excellent.  And now let's add a `find_albums` function to our code."
      ]
    },
    {
      "cell_type": "markdown",
      "metadata": {
        "id": "g25rMuLm2OM2"
      },
      "source": [
        "```python\n",
        "def find_albums(albums, title):\n",
        "    return [ album for album in albums if album['title'] == 'title' ]\n",
        "```"
      ]
    },
    {
      "cell_type": "markdown",
      "metadata": {
        "id": "v564kyED2OM2"
      },
      "source": [
        "> Actually copy and paste this into the `album.py` file.  Trust me, it's worth it."
      ]
    },
    {
      "cell_type": "markdown",
      "metadata": {
        "id": "DNqzE0gg2OM3"
      },
      "source": [
        "And just for good measure, let's also create a new file called `song.py`."
      ]
    },
    {
      "cell_type": "code",
      "execution_count": null,
      "metadata": {
        "id": "J-zuGqBz2OM3"
      },
      "outputs": [],
      "source": [
        "!touch song.py"
      ]
    },
    {
      "cell_type": "markdown",
      "metadata": {
        "id": "vYF5OQ8d2OM4"
      },
      "source": [
        "Ok, now let's add the changes to our files, and make a commit."
      ]
    },
    {
      "cell_type": "code",
      "execution_count": null,
      "metadata": {
        "id": "L6V3OTqw2OM4",
        "outputId": "be2c169a-664a-445a-a7fb-efc736439b82"
      },
      "outputs": [
        {
          "name": "stdout",
          "output_type": "stream",
          "text": [
            "[find_albums e06ae3c] search albums added\n",
            " 4 files changed, 78 insertions(+), 1 deletion(-)\n",
            " create mode 100644 .ipynb_checkpoints/album-checkpoint.py\n",
            " create mode 100644 feature-branch.png\n"
          ]
        }
      ],
      "source": [
        "!git add song.py album.py\n",
        "!git commit -m 'search albums added'"
      ]
    },
    {
      "cell_type": "markdown",
      "metadata": {
        "id": "Io4PYUye2ORi"
      },
      "source": [
        "Now here is the question.  If we ran `git log` right now, would we see all of the previous commits?"
      ]
    },
    {
      "cell_type": "code",
      "execution_count": null,
      "metadata": {
        "id": "OgtjBu3L2ORj",
        "outputId": "eb81c35f-c20f-48d1-8306-83c4028dbd0e"
      },
      "outputs": [
        {
          "name": "stdout",
          "output_type": "stream",
          "text": [
            "\u001b[33mcommit e06ae3c2140e12b1f348dc1b289f41d640734b7a\u001b[m\u001b[33m (\u001b[m\u001b[1;36mHEAD -> \u001b[m\u001b[1;32mfind_albums\u001b[m\u001b[33m)\u001b[m\n",
            "Author: Jeff Katz <JeffreyEricKatz@gmail.com>\n",
            "Date:   Wed Feb 5 16:13:07 2020 -0500\n",
            "\n",
            "    search albums added\n",
            "\n",
            "\u001b[33mcommit 1d947cac431d454dd1a125e762a7635d0aa727b2\u001b[m\n",
            "Author: Jeff Katz <JeffreyEricKatz@gmail.com>\n",
            "Date:   Wed Feb 5 16:05:27 2020 -0500\n",
            "\n",
            "    add song\n",
            "\n",
            "\u001b[33mcommit 0c079aa1e802b4c3f5a455c10b6e97288a79dcd1\u001b[m\u001b[33m (\u001b[m\u001b[1;32mmaster\u001b[m\u001b[33m)\u001b[m\n",
            "Author: Jeff Katz <JeffreyEricKatz@gmail.com>\n",
            "Date:   Wed Feb 5 15:56:42 2020 -0500\n",
            "\n",
            "    adding album.py\n",
            "\n",
            "\u001b[33mcommit f99c2039641ee41ca45caffb73684f09444ae130\u001b[m\n",
            "Author: Jeff Katz <JeffreyEricKatz@gmail.com>\n",
            "Date:   Wed Feb 5 15:53:50 2020 -0500\n",
            "\n",
            "    first commit\n"
          ]
        }
      ],
      "source": [
        "!git log"
      ]
    },
    {
      "cell_type": "markdown",
      "metadata": {
        "id": "3vq-pTVY2ORk"
      },
      "source": [
        "So the answer is yes."
      ]
    },
    {
      "cell_type": "markdown",
      "metadata": {
        "id": "OU_-26JV2ORl"
      },
      "source": [
        "Here is what our `find_albums` branch currently looks like."
      ]
    },
    {
      "cell_type": "markdown",
      "metadata": {
        "id": "AOOXhJsF2ORm"
      },
      "source": [
        "<img src=\"https://github.com/data-eng-10-21/mod-1-a-data-structures/blob/master/91-git-and-github/3-git-branches/find-albums-branch.png?raw=1\" width=\"60%\">"
      ]
    },
    {
      "cell_type": "markdown",
      "metadata": {
        "id": "ainmdYdQ2ORm"
      },
      "source": [
        "So the branch inherits or shares a history with all the commits that preceded it on the master branch."
      ]
    },
    {
      "cell_type": "markdown",
      "metadata": {
        "id": "nt62N8CE2ORn"
      },
      "source": [
        "Now let's switch back to the master branch.  We can do so with `git checkout master`."
      ]
    },
    {
      "cell_type": "code",
      "execution_count": null,
      "metadata": {
        "id": "xoyXxKRR2ORn",
        "outputId": "87b682fc-e4ab-4161-b379-0a546e057556"
      },
      "outputs": [
        {
          "name": "stdout",
          "output_type": "stream",
          "text": [
            "[find_albums 56e8280] making updates\n",
            " 4 files changed, 486 insertions(+), 21 deletions(-)\n",
            " create mode 100644 feature-branch-search.png\n",
            " create mode 100644 find-albums-branch.png\n",
            "Switched to branch 'master'\n"
          ]
        }
      ],
      "source": [
        "!git add -A\n",
        "!git commit -m 'making updates'\n",
        "!git checkout master"
      ]
    },
    {
      "cell_type": "markdown",
      "metadata": {
        "id": "mmSg1w9J2ORo"
      },
      "source": [
        "And then confirm that we are on the master branch."
      ]
    },
    {
      "cell_type": "code",
      "execution_count": null,
      "metadata": {
        "id": "Q67vu2VW2ORo",
        "outputId": "77d16c33-f9c3-431f-e661-f7586acc63f3"
      },
      "outputs": [
        {
          "name": "stdout",
          "output_type": "stream",
          "text": [
            "  find_albums\u001b[m\n",
            "* \u001b[32mmaster\u001b[m\n"
          ]
        }
      ],
      "source": [
        "!git branch -a"
      ]
    },
    {
      "cell_type": "markdown",
      "metadata": {
        "id": "WKYYt6KJ2ORp"
      },
      "source": [
        "Now if we take a look at git log, we'll see that we no longer have the code we wrote on the `adding_albums` branch."
      ]
    },
    {
      "cell_type": "code",
      "execution_count": null,
      "metadata": {
        "id": "l5bsCDWg2ORq",
        "outputId": "af6cf9b4-ba03-4a1d-d1f6-8073e072bc64"
      },
      "outputs": [
        {
          "name": "stdout",
          "output_type": "stream",
          "text": [
            "\u001b[33mcommit 0c079aa1e802b4c3f5a455c10b6e97288a79dcd1\u001b[m\u001b[33m (\u001b[m\u001b[1;36mHEAD -> \u001b[m\u001b[1;32mmaster\u001b[m\u001b[33m)\u001b[m\n",
            "Author: Jeff Katz <JeffreyEricKatz@gmail.com>\n",
            "Date:   Wed Feb 5 15:56:42 2020 -0500\n",
            "\n",
            "    adding album.py\n",
            "\n",
            "\u001b[33mcommit f99c2039641ee41ca45caffb73684f09444ae130\u001b[m\n",
            "Author: Jeff Katz <JeffreyEricKatz@gmail.com>\n",
            "Date:   Wed Feb 5 15:53:50 2020 -0500\n",
            "\n",
            "    first commit\n"
          ]
        }
      ],
      "source": [
        "!git log"
      ]
    },
    {
      "cell_type": "markdown",
      "metadata": {
        "id": "c2H_ER8j2ORq"
      },
      "source": [
        "While this may seem like a hindrance, it's actually the benefit of creating a new branch.  Our original, working code, is untouched by any changes we make.  And then if we decide to we like the code on the other branch, we can always merge it in."
      ]
    },
    {
      "cell_type": "code",
      "execution_count": null,
      "metadata": {
        "id": "Onu9xEbB2ORq",
        "outputId": "88c19725-c312-4def-dc34-51d4be6caa9a"
      },
      "outputs": [
        {
          "name": "stdout",
          "output_type": "stream",
          "text": [
            "  find_albums\u001b[m\n",
            "* \u001b[32mmaster\u001b[m\n"
          ]
        }
      ],
      "source": [
        "!git branch -a"
      ]
    },
    {
      "cell_type": "code",
      "execution_count": null,
      "metadata": {
        "id": "t3jKYxrV2ORr",
        "outputId": "d8e404f5-0ffb-43cb-c437-43995aa668c9"
      },
      "outputs": [
        {
          "name": "stdout",
          "output_type": "stream",
          "text": [
            "[master 614c9b9] updating\n",
            " 2 files changed, 353 insertions(+), 8 deletions(-)\n",
            "Auto-merging index.ipynb\n",
            "CONFLICT (content): Merge conflict in index.ipynb\n",
            "Automatic merge failed; fix conflicts and then commit the result.\n"
          ]
        }
      ],
      "source": [
        "!git add .\n",
        "!git commit -m 'updating'\n",
        "!git merge find_albums"
      ]
    },
    {
      "cell_type": "markdown",
      "metadata": {
        "id": "iKGPPXaY2ORr"
      },
      "source": [
        "So notice above, to merge the commits from our new branch onto master, we first had to `checkout` the master branch, and then specified the branch that we wanted to merge into master.  "
      ]
    },
    {
      "cell_type": "markdown",
      "metadata": {
        "id": "u9oc9KPz2ORs"
      },
      "source": [
        "Our repository now looks like the following:"
      ]
    },
    {
      "cell_type": "markdown",
      "metadata": {
        "id": "KgqjNivj2ORs"
      },
      "source": [
        "<img src=\"https://github.com/data-eng-10-21/mod-1-a-data-structures/blob/master/91-git-and-github/3-git-branches/merged-master.png?raw=1\">"
      ]
    },
    {
      "cell_type": "markdown",
      "metadata": {
        "id": "vokSdm4o2ORs"
      },
      "source": [
        "### Summary"
      ]
    },
    {
      "cell_type": "markdown",
      "metadata": {
        "id": "lP3llTxE2ORt"
      },
      "source": [
        "In this lesson, we saw how to work with different branches in git.  We first learned about the `master` branch, which is the branch that we start on in a git repository.\n",
        "\n",
        "Then we saw how to list the branches:\n",
        "* `git branch -a`\n",
        "\n",
        "And the how to create, and switch to a new branch:\n",
        "* `git checkout -b name_of_branch`\n",
        "\n",
        "We saw that on that new branch, the branch inherits all of the previous commits made on branch it spawned off of.  However when we make a commit on that branch, it is not automatically on the master branch.\n",
        "\n",
        "To move the commits from a different branch onto the master branch, we must first checkout the master branch, and then merge our branch onto the master branch.\n",
        "\n",
        "* `git checkout master`\n",
        "* `git merge name_of_branch`"
      ]
    }
  ],
  "metadata": {
    "kernelspec": {
      "display_name": "Python 3",
      "language": "python",
      "name": "python3"
    },
    "language_info": {
      "codemirror_mode": {
        "name": "ipython",
        "version": 3
      },
      "file_extension": ".py",
      "mimetype": "text/x-python",
      "name": "python",
      "nbconvert_exporter": "python",
      "pygments_lexer": "ipython3",
      "version": "3.8.3"
    },
    "colab": {
      "provenance": [],
      "include_colab_link": true
    }
  },
  "nbformat": 4,
  "nbformat_minor": 0
}