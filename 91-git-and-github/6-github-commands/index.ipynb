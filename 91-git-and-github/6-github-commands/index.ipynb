{
  "cells": [
    {
      "cell_type": "markdown",
      "metadata": {
        "id": "FmmhouiLUfDb"
      },
      "source": [
        "# Git Commands For Remote Repositories"
      ]
    },
    {
      "cell_type": "markdown",
      "metadata": {
        "id": "KW1HE3AqUfEh"
      },
      "source": [
        "### Introduction"
      ]
    },
    {
      "cell_type": "markdown",
      "metadata": {
        "id": "-IA2W8RHUfEi"
      },
      "source": [
        "In the last lesson, we saw how we can setup a Git repository.  In this lesson, let's better understand some of the commands for working with a repository."
      ]
    },
    {
      "cell_type": "markdown",
      "metadata": {
        "id": "4wO3hgJjUfEo"
      },
      "source": [
        "### Setting Up a Remote Repository"
      ]
    },
    {
      "cell_type": "markdown",
      "metadata": {
        "id": "eTPfzPY1UfEq"
      },
      "source": [
        "Let's focus in on the steps to set up a remote repository.  Just like before we can, create new repository on Github by going to [Github](github.com), signing in, and then clicking on the `+` button followed by `New Repository`."
      ]
    },
    {
      "cell_type": "markdown",
      "metadata": {
        "id": "Zr1aCwmkUfEr"
      },
      "source": [
        "<img src=\"https://github.com/data-eng-10-21/mod-1-a-data-structures/blob/master/91-git-and-github/6-github-commands/new-repo.png?raw=1\" width=\"50%\">"
      ]
    },
    {
      "cell_type": "markdown",
      "metadata": {
        "id": "48cxXYyhUfE_"
      },
      "source": [
        "Next, create a public repository and give the respository a name of your choosing."
      ]
    },
    {
      "cell_type": "markdown",
      "metadata": {
        "id": "sfCWnGFmUfFS"
      },
      "source": [
        "> I am calling my repository `albums_songs`."
      ]
    },
    {
      "cell_type": "markdown",
      "metadata": {
        "id": "mmsoUOKnUfFX"
      },
      "source": [
        "<img src=\"https://github.com/data-eng-10-21/mod-1-a-data-structures/blob/master/91-git-and-github/6-github-commands/albums-songs.png?raw=1\" width=\"50%\">"
      ]
    },
    {
      "cell_type": "markdown",
      "metadata": {
        "id": "szdnJHUgUfFZ"
      },
      "source": [
        "Now let's try to understand the commands on the next line."
      ]
    },
    {
      "cell_type": "markdown",
      "metadata": {
        "id": "eptVJaqXUfFd"
      },
      "source": [
        "```\n",
        "echo \"# albums_songs\" >> README.md\n",
        "git init\n",
        "git add README.md\n",
        "git commit -m \"first commit\"\n",
        "git remote add origin git@github.com:JeffKatzy/albums_songs.git\n",
        "git push -u origin master\n",
        "```"
      ]
    },
    {
      "cell_type": "markdown",
      "metadata": {
        "id": "D6e9M2alUfF7"
      },
      "source": [
        "The first line `echo \"# albums_songs\" >> README.md`, creates a README.md file and adds the line `# albums_songs` to the README.\n",
        "\n",
        "The next three lines we've seen before."
      ]
    },
    {
      "cell_type": "markdown",
      "metadata": {
        "id": "zCJWROPTUfF9"
      },
      "source": [
        "* `git init` creates a new repository on our local computer\n",
        "* `git add README.md` adds the README.md file to staging\n",
        "* `git commit -m \"first commit\"` makes a commit"
      ]
    },
    {
      "cell_type": "markdown",
      "metadata": {
        "id": "wl19yYJYUfF-"
      },
      "source": [
        "The next line deals with setting up a remote repository."
      ]
    },
    {
      "cell_type": "markdown",
      "metadata": {
        "id": "GAr0AWo1UfF_"
      },
      "source": [
        "`git remote add origin git@github.com:UserNameHere/albums_songs.git`"
      ]
    },
    {
      "cell_type": "markdown",
      "metadata": {
        "id": "RX88U-YWUfGA"
      },
      "source": [
        "Copy the line and paste it into the terminal, or run it through the Jupyter notebook."
      ]
    },
    {
      "cell_type": "code",
      "execution_count": null,
      "metadata": {
        "id": "EFkkyMOrUfGA",
        "outputId": "f9ef63a8-52e7-4aa0-93dc-8b17e431e1ff"
      },
      "outputs": [
        {
          "name": "stdout",
          "output_type": "stream",
          "text": [
            "Initialized empty Git repository in /Users/jeff/Documents/jigsaw/curriculum/1-section-content/mod-1/2-datatypes/a-fundamentals/91-git-and-github/6-github-commands/.git/\n"
          ]
        }
      ],
      "source": [
        "!git init"
      ]
    },
    {
      "cell_type": "code",
      "execution_count": null,
      "metadata": {
        "id": "0PRhGD5yUfGl"
      },
      "outputs": [],
      "source": [
        "!git remote add origin git@github.com:JeffKatzy/albums_songs.git"
      ]
    },
    {
      "cell_type": "markdown",
      "metadata": {
        "id": "t9BqnFolUfGm"
      },
      "source": [
        "To better understand the command above just did, run the following."
      ]
    },
    {
      "cell_type": "code",
      "execution_count": null,
      "metadata": {
        "id": "ZRqqyAfgUfGm",
        "outputId": "e09fc3a8-beb6-49f1-fcb7-14e7d44b61b5"
      },
      "outputs": [
        {
          "name": "stdout",
          "output_type": "stream",
          "text": [
            "origin\tgit@github.com:JeffKatzy/albums_songs.git (fetch)\n",
            "origin\tgit@github.com:JeffKatzy/albums_songs.git (push)\n"
          ]
        }
      ],
      "source": [
        "!git remote -v"
      ]
    },
    {
      "cell_type": "markdown",
      "metadata": {
        "id": "N8Fq9yU5UfGm"
      },
      "source": [
        "What this is showing is that the word `origin` is just an alias -- like a nickname, or a variable -- that represents the full address `git@github.com:UserName/albums_songs.git`.  So whenever we type the word `origin` in our terminal, we are really representing the address `git@github.com:...`."
      ]
    },
    {
      "cell_type": "markdown",
      "metadata": {
        "id": "QSaPthG8UfGm"
      },
      "source": [
        "Now let's think about the command we generally execute next.\n",
        "\n",
        "* `git push origin master`"
      ]
    },
    {
      "cell_type": "markdown",
      "metadata": {
        "id": "1T_AMBtxUfGn"
      },
      "source": [
        "This tells us to push to `origin`, which remember is just that web address above.  And to push our `master` branch, and to push our master branch.  \n",
        "\n",
        "So that's what happens.  We push our master branch to the specified web address."
      ]
    },
    {
      "cell_type": "markdown",
      "metadata": {
        "id": "dvQL5b5GUfGn"
      },
      "source": [
        "### Retrieving Data"
      ]
    },
    {
      "cell_type": "markdown",
      "metadata": {
        "id": "ZJkA39atUfGn"
      },
      "source": [
        "Now let's say there are updates made to our remote repository `git@github.com:UserName/albums_songs.git`.  We can download those changes into our git repository with the following command:\n",
        "\n",
        "`git pull origin master`"
      ]
    },
    {
      "cell_type": "markdown",
      "metadata": {
        "id": "_rOfE3VBUfGn"
      },
      "source": [
        "This will pull down the commits (and corresponding code) from the origin  web address's (the location on Github) and the master branch."
      ]
    },
    {
      "cell_type": "markdown",
      "metadata": {
        "id": "rq815HedUfGn"
      },
      "source": [
        "### One last thing"
      ]
    },
    {
      "cell_type": "markdown",
      "metadata": {
        "id": "K-mJ44MtUfGo"
      },
      "source": [
        "That is a good start for working with Github.  We have seen how to set our origin with `git remote add origin web_address`, push our changes up to that github address with `git push origin branch`, and then pull down changes with `git pull origin branch`.\n",
        "\n",
        "With github we can also download the commits of a codebase we have never worked with before.  For example, imagine that we would like to download the data of 538, which is available [here](https://github.com/fivethirtyeight/data).  \n",
        "\n",
        "> **Note:** Before downloading this data, note that we should not download one git repository into a folder that is already a git repository.  So before downloading the data, make sure you are in a folder that currently does not have a git repository.  \n",
        "\n",
        "> You can check this by running `git status`.  If you see `not a git repository` then you are good."
      ]
    },
    {
      "cell_type": "markdown",
      "metadata": {
        "id": "dibZggf1UfHA"
      },
      "source": [
        "Finally, once you ensured you are not currently in a git repository, you can download the repository from github with the command `git clone address`."
      ]
    },
    {
      "cell_type": "markdown",
      "metadata": {
        "id": "vKBp4gr7UfHB"
      },
      "source": [
        "Now what's that address, we can find it here:"
      ]
    },
    {
      "cell_type": "markdown",
      "metadata": {
        "id": "jCSgj1bHUfHC"
      },
      "source": [
        "<img src=\"https://github.com/data-eng-10-21/mod-1-a-data-structures/blob/master/91-git-and-github/6-github-commands/github-address.png?raw=1\">"
      ]
    },
    {
      "cell_type": "markdown",
      "metadata": {
        "id": "u7pGs_D9UfHC"
      },
      "source": [
        "Clicking on the button next to the address will copy the address to our computer, and we can press `cmd + v` to paste that address."
      ]
    },
    {
      "cell_type": "markdown",
      "metadata": {
        "id": "ss7ZLWrEUfHC"
      },
      "source": [
        "Ok, now that we have the web address, let's see the clone command for cloning the 538 data repository."
      ]
    },
    {
      "cell_type": "markdown",
      "metadata": {
        "id": "p5NLhyaNUfHE"
      },
      "source": [
        "`git clone https://github.com/fivethirtyeight/data.git`"
      ]
    },
    {
      "cell_type": "markdown",
      "metadata": {
        "id": "GxrC3maGUfHF"
      },
      "source": [
        "That's it."
      ]
    },
    {
      "cell_type": "markdown",
      "metadata": {
        "id": "MsDV0b4IUfHF"
      },
      "source": [
        "### Summary"
      ]
    },
    {
      "cell_type": "markdown",
      "metadata": {
        "id": "C_ojnqa0UfHF"
      },
      "source": [
        "In this lesson, we saw how to push code to a github repository, and pull code from a github repository.  \n",
        "\n",
        "We push code to a github repository, by specifying the `origin` address.  Origin is just an alias, like a variable, which represents a longer web address, `git@github...`.\n",
        "\n",
        "We specify origin with the command `git remote add origin git_address`.  And we can then check that address with `git remote -v`.  If we wish to change the address we can do so with `git remote set-url origin new_address`.  Once origin is setup, we can then push new local commits to github with `git push origin master`, which pushes new commits from our master branch to origin.\n",
        "\n",
        "Then we saw that we can download new updates to that repository with `git pull origin master`.  Finally, we saw that we can download a new repository with `git clone git_address`."
      ]
    }
  ],
  "metadata": {
    "kernelspec": {
      "display_name": "Python 3",
      "language": "python",
      "name": "python3"
    },
    "language_info": {
      "codemirror_mode": {
        "name": "ipython",
        "version": 3
      },
      "file_extension": ".py",
      "mimetype": "text/x-python",
      "name": "python",
      "nbconvert_exporter": "python",
      "pygments_lexer": "ipython3",
      "version": "3.8.3"
    },
    "colab": {
      "provenance": []
    }
  },
  "nbformat": 4,
  "nbformat_minor": 0
}