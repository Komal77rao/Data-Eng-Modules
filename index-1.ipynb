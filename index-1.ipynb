{
  "cells": [
    {
      "cell_type": "markdown",
      "metadata": {
        "id": "view-in-github",
        "colab_type": "text"
      },
      "source": [
        "<a href=\"https://colab.research.google.com/github/Komal77rao/Data-Eng-Modules/blob/main/index-1.ipynb\" target=\"_parent\"><img src=\"https://colab.research.google.com/assets/colab-badge.svg\" alt=\"Open In Colab\"/></a>"
      ]
    },
    {
      "cell_type": "markdown",
      "metadata": {
        "id": "CQSlLSo7de8l"
      },
      "source": [
        "# Connecting SQL Lab"
      ]
    },
    {
      "cell_type": "markdown",
      "metadata": {
        "id": "VE6aQvsmde86"
      },
      "source": [
        "### Introduction"
      ]
    },
    {
      "cell_type": "markdown",
      "metadata": {
        "id": "T7TsrUFFde87"
      },
      "source": [
        "In this lab, we'll build our database backed website for `squawk.io`.  We won't have any tests in this lab, because setting up our tests will involve a fairly complicated setup -- so we'll leave that for another lesson.  \n",
        "\n",
        "Let's get started."
      ]
    },
    {
      "cell_type": "markdown",
      "metadata": {
        "id": "AKYDJa_-de9B"
      },
      "source": [
        "### Some initial setup"
      ]
    },
    {
      "cell_type": "markdown",
      "metadata": {
        "id": "MHknvyhbde9B"
      },
      "source": [
        "A. Initializing the development database\n",
        "\n",
        "* Next let's create a postgres database called `squawk_deveopment`.\n",
        "* Then run the migrations.  The migrations are in the `migrations/create_tables.sql` file, and we need to run them to create the restaurants table.\n",
        "\n",
        "The development database is used so that developers can see how their application works with some mock data.  Here, our data will come from our `yelp_lunch_nyc.csv` file.  We can load the file by logging ito the psql shell from the `squawk` folder, connecting to the `squawk_development` database and running the following postgres command."
      ]
    },
    {
      "cell_type": "markdown",
      "metadata": {
        "id": "VExy76O1de9E"
      },
      "source": [
        "> `\\copy restaurants (name, address, city, category, rating, url) FROM 'yelp_lunch_nyc.csv' DELIMITER ',' CSV HEADER;`"
      ]
    },
    {
      "cell_type": "markdown",
      "metadata": {
        "id": "cayZW0GLde9H"
      },
      "source": [
        "Then, from the psql shell, verify that there our records are in fact loaded."
      ]
    },
    {
      "cell_type": "markdown",
      "metadata": {
        "id": "pju-P3zude9I"
      },
      "source": [
        "<img src=\"https://github.com/apis-jigsaw/connecting-sql-lab/blob/main/loading-db.png?raw=1\" width=\"90%\">"
      ]
    },
    {
      "cell_type": "markdown",
      "metadata": {
        "id": "POLa-W6Xde9J"
      },
      "source": [
        "### Connecting to postgres"
      ]
    },
    {
      "cell_type": "markdown",
      "metadata": {
        "id": "nXkT1AEZde9K"
      },
      "source": [
        "Now to connect to postgres, we'll use the `psycopg2` library.  We can see that we already listed this library in our `requirements.txt` file.\n",
        "\n",
        "Run `pip3 install -r requirements.txt` to install the libraries listed in that file.\n",
        "\n",
        "Once the psycopg2 library is installed we can use it to connect to the database like so:\n",
        "\n",
        "```python\n",
        "import psycopg2\n",
        "\n",
        "conn = psycopg2.connect(database = 'foursquare_development', user = 'postgres', password = 'postgres')\n",
        "cursor = conn.cursor()\n",
        "cursor.execute('SELECT * FROM users')\n",
        "```"
      ]
    },
    {
      "cell_type": "markdown",
      "metadata": {
        "id": "1K3PcGjWde9K"
      },
      "source": [
        "Now remember that we'll sometimes want to pass arguments into our SQL query.  While in `sqlite`, we do this by using the `?` as in\n",
        "```python\n",
        "cursor.execute(\"SELECT * FROM users where id = ?\", (1,))\n",
        "```\n",
        "In `psycopg2` we do this by using `%s`.\n",
        "\n",
        "```python\n",
        "cursor.execute(\"SELECT * FROM users where id = %s\", (1,))\n",
        "```"
      ]
    },
    {
      "cell_type": "markdown",
      "metadata": {
        "id": "71yDRXNhde9K"
      },
      "source": [
        "If you'd like you can try to set up a connection to the postgres database in a python file, and then connect to the database.  If you feel comfortable connecting to postgres, then let's move onto building the flask application."
      ]
    },
    {
      "cell_type": "markdown",
      "metadata": {
        "id": "m6haOU-Dde9L"
      },
      "source": [
        "### Building the Application"
      ]
    },
    {
      "cell_type": "markdown",
      "metadata": {
        "id": "rGcttmPwde9L"
      },
      "source": [
        "Ok, now it's time to get started with the application.  Begin by creating the flask app.\n",
        "\n",
        "1. In the src/app.py file, add a route so that when we visit root url, we see `Welcome to squawk!`.\n",
        "\n",
        "2. Finally, run `python src/app.py` to see that the website run.\n"
      ]
    },
    {
      "cell_type": "markdown",
      "metadata": {
        "id": "m1MceoG_de9L"
      },
      "source": [
        "> <img src=\"https://github.com/apis-jigsaw/connecting-sql-lab/blob/main/root_url.png?raw=1\" width=\"40%\">"
      ]
    },
    {
      "cell_type": "markdown",
      "metadata": {
        "id": "-xG3WMxmde9L"
      },
      "source": [
        "### Setting up some routes"
      ]
    },
    {
      "cell_type": "markdown",
      "metadata": {
        "id": "JbMewAQfde9L"
      },
      "source": [
        "Ok now let's set up some routes for the restaurants resource."
      ]
    },
    {
      "cell_type": "markdown",
      "metadata": {
        "id": "FGoY_vOkde9M"
      },
      "source": [
        "* The index route\n",
        "    * Begin with the index route so that when we go to `/restaurants` we see the list of restaurants.  \n",
        "    * Visit the `/restaurants` and we should see a list of restaurants loaded from the development database.\n",
        "    \n",
        "\n",
        "    > **Jsonify Warning**: One issue with our existing data is that the `jsonify` function that we normally use does not know how to convert Decimal or datetime objects into JSON.  Instead we can use the `simplejson` to convert our data to json.  Looking at the following [stackoverflow post](https://stackoverflow.com/questions/11875770/how-to-overcome-datetime-datetime-not-json-serializable), we can do so with something like the following:\n",
        "\n",
        "    ```python\n",
        "    json.dumps(data, default=str)\n",
        "    ```\n"
      ]
    },
    {
      "cell_type": "markdown",
      "metadata": {
        "id": "RXzkMcYCde9M"
      },
      "source": [
        "<img src=\"https://github.com/apis-jigsaw/connecting-sql-lab/blob/main/yelp_index.png?raw=1\" width=\"40%\">"
      ]
    },
    {
      "cell_type": "markdown",
      "metadata": {
        "id": "ytk1vpyede9M"
      },
      "source": [
        "* The show route\n",
        "    * Next, fill in the show route so that when we visit `restaurants/id`, we get the corresponding restaurant."
      ]
    },
    {
      "cell_type": "markdown",
      "metadata": {
        "id": "6pCD7t_nde9M"
      },
      "source": [
        "<img src=\"https://github.com/apis-jigsaw/connecting-sql-lab/blob/main/first_restaurant.png?raw=1\" width=\"50%\">"
      ]
    },
    {
      "cell_type": "markdown",
      "metadata": {
        "id": "-XeaOnYRde9O"
      },
      "source": [
        "### Quick Postgres Review"
      ]
    },
    {
      "cell_type": "markdown",
      "metadata": {
        "id": "sX7pPfVyde9O"
      },
      "source": [
        "Finally, let's review some of the commands in postgres.\n",
        "\n",
        "We can run commands from the terminal with something like the following:\n",
        "\n",
        "`psql -U postgres -d foursquare_development -f migrations/create_tables.sql`\n",
        "\n",
        "* Remember that tab completion works along the way.\n",
        "\n",
        "And then we can log into postgres simply by using `psql`.\n",
        "\n",
        "Once logged in we can run the following commands:\n",
        "\n",
        "* `\\l` list all databases in our postgres application\n",
        "* `\\c foursquare_development` connect to our `foursquare_development` database\n",
        "* `\\dt` display all tables in our connected database\n",
        "* `d restaurants` display the schema of the restaurants table."
      ]
    },
    {
      "cell_type": "markdown",
      "metadata": {
        "id": "40iz6eGgde9P"
      },
      "source": [
        "### Summary"
      ]
    },
    {
      "cell_type": "markdown",
      "metadata": {
        "id": "ELkg7SCide9P"
      },
      "source": [
        "In this lesson, we saw how to set up an API backed by a database.  We setup our index route, which allows someone to make a request to the `/restaurants` url and get back a list of restaurants from the database.  And then we also setup the show route, which allows some to request a specific restaurant by passing through the restaurant id to the url, and this triggers a call to our database to find the record with that id."
      ]
    },
    {
      "cell_type": "markdown",
      "metadata": {
        "id": "IQcRCP_Tde9P"
      },
      "source": [
        "### Resources\n",
        "\n",
        "[Flask Config](https://flask.palletsprojects.com/en/1.1.x/config/)"
      ]
    }
  ],
  "metadata": {
    "kernelspec": {
      "display_name": "Python 3",
      "language": "python",
      "name": "python3"
    },
    "language_info": {
      "codemirror_mode": {
        "name": "ipython",
        "version": 3
      },
      "file_extension": ".py",
      "mimetype": "text/x-python",
      "name": "python",
      "nbconvert_exporter": "python",
      "pygments_lexer": "ipython3",
      "version": "3.8.3"
    },
    "colab": {
      "provenance": [],
      "include_colab_link": true
    }
  },
  "nbformat": 4,
  "nbformat_minor": 0
}