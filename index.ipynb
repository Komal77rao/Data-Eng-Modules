{
  "cells": [
    {
      "cell_type": "markdown",
      "metadata": {
        "id": "view-in-github",
        "colab_type": "text"
      },
      "source": [
        "<a href=\"https://colab.research.google.com/github/Komal77rao/Data-Eng-Modules/blob/main/index.ipynb\" target=\"_parent\"><img src=\"https://colab.research.google.com/assets/colab-badge.svg\" alt=\"Open In Colab\"/></a>"
      ]
    },
    {
      "cell_type": "markdown",
      "metadata": {
        "id": "kL7ZdDLdVVKA"
      },
      "source": [
        "# Intro to the Adapter Pattern"
      ]
    },
    {
      "cell_type": "markdown",
      "metadata": {
        "id": "Rj3XpjcBVVKC"
      },
      "source": [
        "### Introduction"
      ]
    },
    {
      "cell_type": "markdown",
      "metadata": {
        "id": "kjiTv7LEVVKD"
      },
      "source": [
        "In the next lessons, we'll see how to use objects to better organize our code that makes requests to APIs.  As a first step, let's use our list of dictionaries from the API to construct a list of receipt objects.  Let's get started."
      ]
    },
    {
      "cell_type": "markdown",
      "metadata": {
        "id": "C_1_wxMRVVKD"
      },
      "source": [
        "### APIs"
      ]
    },
    {
      "cell_type": "markdown",
      "metadata": {
        "id": "GnHTbynGVVKD"
      },
      "source": [
        "First let's make a request for Max's Wine Dive."
      ]
    },
    {
      "cell_type": "code",
      "execution_count": 1,
      "metadata": {
        "id": "OZcTMb9MVVKD"
      },
      "outputs": [],
      "source": [
        "import requests\n",
        "response = requests.get(\"https://data.texas.gov/resource/naix-2893.json?location_name=MAX%27S%20WINE%20DIVE\")\n",
        "restaurant_receipts = response.json()"
      ]
    },
    {
      "cell_type": "code",
      "execution_count": null,
      "metadata": {
        "colab": {
          "base_uri": "https://localhost:8080/"
        },
        "id": "aNDFcVz2VVKE",
        "outputId": "675ea1ac-d8ba-4026-eda3-1afdbf09a1ee"
      },
      "outputs": [
        {
          "output_type": "execute_result",
          "data": {
            "text/plain": [
              "{'taxpayer_number': '12727298569',\n",
              " 'taxpayer_name': 'MWD AUSTIN DOWNTOWN, LLC',\n",
              " 'taxpayer_address': '3 MEEKER LN',\n",
              " 'taxpayer_city': 'COLORADO SPRINGS',\n",
              " 'taxpayer_state': 'CO',\n",
              " 'taxpayer_zip': '80921',\n",
              " 'taxpayer_county': '0',\n",
              " 'location_number': '1',\n",
              " 'location_name': \"MAX'S WINE DIVE\",\n",
              " 'location_address': '207 SAN JACINTO BLVD STE 200',\n",
              " 'location_city': 'AUSTIN',\n",
              " 'location_state': 'TX',\n",
              " 'location_zip': '78701',\n",
              " 'location_county': '227',\n",
              " 'inside_outside_city_limits_code_y_n': 'Y',\n",
              " 'tabc_permit_number': 'MB944126',\n",
              " 'responsibility_begin_date_yyyymmdd': '2016-05-13T00:00:00.000',\n",
              " 'responsibility_end_date_yyyymmdd': '2020-11-20T00:00:00.000',\n",
              " 'obligation_end_date_yyyymmdd': '2017-03-31T00:00:00.000',\n",
              " 'liquor_receipts': '28062',\n",
              " 'wine_receipts': '77831',\n",
              " 'beer_receipts': '14155',\n",
              " 'cover_charge_receipts': '0',\n",
              " 'total_receipts': '120048'}"
            ]
          },
          "metadata": {},
          "execution_count": 2
        }
      ],
      "source": [
        "restaurant_receipts[0]"
      ]
    },
    {
      "cell_type": "markdown",
      "metadata": {
        "id": "RxKfsxbfVVKF"
      },
      "source": [
        "### Our task"
      ]
    },
    {
      "cell_type": "markdown",
      "metadata": {
        "id": "LmZR1B_UVVKF"
      },
      "source": [
        "Now imagine that you are looking to analyze monthly revenue at Max's Wine Bar locations.  We would want relevant data from the dictionary organized into instances.  So refactor the code so that we still retrieve data from the api, but then we convert each of the dictionaries into instances and store them in a list.\n",
        "\n",
        "\n",
        "In pursuing the above task, aim for the following:\n",
        "\n",
        "1. Choose no more than five attributes and organize that information into a class so that we can turn each dictionary into an instance.\n",
        "2. Only data you decide is relevant should be stored in your instances\n",
        "3. Use the features of object orientation previously discussed -- __init__, custom methods -- where appropriate\n",
        "4. You should be able to justify the decisions that you make\n",
        "\n",
        "* Stretch goal\n",
        "\n",
        "Instead of using object orientation with *only* the model layer -- say to create receipt instances -- move all of your code currently not in your model into a separate class.  \n",
        "\n"
      ]
    },
    {
      "cell_type": "markdown",
      "metadata": {
        "id": "eA9U_tj-VVKF"
      },
      "source": [
        "### The steps of refactoring"
      ]
    },
    {
      "cell_type": "code",
      "source": [
        "import requests\n",
        "\n",
        "class Client:\n",
        "\n",
        "  def get_response(self):\n",
        "    response = requests.get(\"https://data.texas.gov/resource/naix-2893.json?location_name=MAX%27S%20WINE%20DIVE\")\n",
        "    restaurant_receipts = response.json()\n",
        "    return restaurant_receipts\n",
        "\n",
        "#location_name, total_receipts, location_city, location_state, location_county\n",
        "class Receipt:\n",
        "    class_dict = {'location_name':'name', 'total_receipts':'total','location_city':'city','location_state':'state','location_county':'county'}\n",
        "    def __init__(self,**kwargs):\n",
        "      self.__dict__ = {self.class_dict[k]:v for k,v in kwargs.items() if k in self.class_dict}"
      ],
      "metadata": {
        "id": "bvOVSk1xVtfc"
      },
      "execution_count": 2,
      "outputs": []
    },
    {
      "cell_type": "code",
      "source": [
        "client = Client()\n",
        "receipts_json = client.get_response()"
      ],
      "metadata": {
        "id": "jc4u8bAKZCqh"
      },
      "execution_count": 3,
      "outputs": []
    },
    {
      "cell_type": "code",
      "source": [
        "receipt = Receipt(**receipts_json[0])"
      ],
      "metadata": {
        "id": "yOGMrKHvZJoT"
      },
      "execution_count": 4,
      "outputs": []
    },
    {
      "cell_type": "code",
      "source": [
        "receipt.__dict__"
      ],
      "metadata": {
        "colab": {
          "base_uri": "https://localhost:8080/"
        },
        "id": "7i9jDu6YZTdE",
        "outputId": "0ccdf4e0-e36f-4383-d6be-c63b6990f527"
      },
      "execution_count": 8,
      "outputs": [
        {
          "output_type": "execute_result",
          "data": {
            "text/plain": [
              "{'name': \"MAX'S WINE DIVE\",\n",
              " 'city': 'DALLAS',\n",
              " 'state': 'TX',\n",
              " 'county': '57',\n",
              " 'total': '0'}"
            ]
          },
          "metadata": {},
          "execution_count": 8
        }
      ]
    },
    {
      "cell_type": "markdown",
      "metadata": {
        "id": "grNSDs0OVVKF"
      },
      "source": [
        "**Before you get started**, this is how to write refactored code.\n",
        "\n",
        "1. Get your code working first, and then refactor some of the code, and ensure that the code is still working, then refactor more\n",
        "    * This is called \"Red, Green, Refactor\".  \n",
        "    * Red is the code in a broken state, green is getting the code to work, and refactoring is refactoring.\n",
        "\n",
        "2. In refactoring the code think about:\n",
        "    * Reject, Coerce, Act, Return\n",
        "    * Write small code:\n",
        "        * Lots of small objects is often better than a few large objects\n",
        "        * Lots of small methods is better than a few large methods\n",
        "    "
      ]
    }
  ],
  "metadata": {
    "kernelspec": {
      "display_name": "Python 3 (ipykernel)",
      "language": "python",
      "name": "python3"
    },
    "language_info": {
      "codemirror_mode": {
        "name": "ipython",
        "version": 3
      },
      "file_extension": ".py",
      "mimetype": "text/x-python",
      "name": "python",
      "nbconvert_exporter": "python",
      "pygments_lexer": "ipython3",
      "version": "3.9.12"
    },
    "colab": {
      "provenance": [],
      "include_colab_link": true
    }
  },
  "nbformat": 4,
  "nbformat_minor": 0
}