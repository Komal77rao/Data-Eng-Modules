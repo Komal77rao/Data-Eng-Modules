{
  "cells": [
    {
      "cell_type": "markdown",
      "metadata": {
        "id": "view-in-github",
        "colab_type": "text"
      },
      "source": [
        "<a href=\"https://colab.research.google.com/github/Komal77rao/Data-Eng-Modules/blob/main/index.ipynb\" target=\"_parent\"><img src=\"https://colab.research.google.com/assets/colab-badge.svg\" alt=\"Open In Colab\"/></a>"
      ]
    },
    {
      "cell_type": "markdown",
      "metadata": {
        "id": "BMAOkFdB7d57"
      },
      "source": [
        "# NYC School Objects"
      ]
    },
    {
      "cell_type": "markdown",
      "metadata": {
        "id": "Fg3jWYsv7d6C"
      },
      "source": [
        "### Introduction"
      ]
    },
    {
      "cell_type": "markdown",
      "metadata": {
        "id": "aoJ1oSlR7d6C"
      },
      "source": [
        "In this lesson, we'll practice both creating objects and then using objects to more easily navigate and query data from an API.  Time to start."
      ]
    },
    {
      "cell_type": "markdown",
      "metadata": {
        "id": "yYg7tyJi7d6D"
      },
      "source": [
        "### An initial look"
      ]
    },
    {
      "cell_type": "markdown",
      "metadata": {
        "id": "uzgUrhvT7d6D"
      },
      "source": [
        "Let's load up and take a look at the data."
      ]
    },
    {
      "cell_type": "code",
      "execution_count": 2,
      "metadata": {
        "id": "3zlSH9jN7d6E"
      },
      "outputs": [],
      "source": [
        "import pandas as pd\n",
        "url = \"https://raw.githubusercontent.com/jigsawlabs-student/decision-trees-intro/master/3-practical-ds-4/nyc_hs_sat.csv\"\n",
        "df = pd.read_csv(url)\n",
        "schools = df.to_dict('records')"
      ]
    },
    {
      "cell_type": "code",
      "source": [
        "selected_attrs = ['dbn', 'name', 'boro', 'writing_score', 'math_avg',\n",
        "        'reading_avg', 'total_students', 'attendance_rate']\n",
        "\n",
        "class School:\n",
        "  # this is called class attibute and it sets a specific attribute for all the instances\n",
        "    city = 'New York City'\n",
        "\n",
        "  #the init method initiates assigning values to the attributes\n",
        "    #and have instance attributes\n",
        "\n",
        "    def __init__(self, **kwargs):\n",
        "        self.__dict__ = kwargs\n",
        "\n",
        "    def total_score(self):\n",
        "        return self.reading_avg +self.math_avg + self.writing_score\n",
        "\n",
        "    def avg_student_attendance(self):\n",
        "        return self.total_students*self.attendance_rate\n",
        "\n",
        "    def max_score(self):\n",
        "        return max(self.reading_avg,self.math_avg,self.writing_score)"
      ],
      "metadata": {
        "id": "v6ckn36e7i6_"
      },
      "execution_count": 36,
      "outputs": []
    },
    {
      "cell_type": "code",
      "source": [
        "selected_attrs = ['dbn', 'name', 'boro', 'writing_score', 'math_avg',\n",
        "        'reading_avg', 'total_students', 'attendance_rate']\n",
        "\n",
        "\n",
        "#everytime I use a list comp or dict comp, I create a new list or dict with the data.\n",
        "[{k:v for k,v in school.items() if k in selected_attrs} for school in schools ]\n",
        "\n",
        "\n",
        "#alternatively\n",
        "list1= []\n",
        "dict1={}\n",
        "for school in schools:\n",
        "  for k,v in school.items():\n",
        "    if k in selected_attrs:\n",
        "      dict1[k] = v\n",
        "    list1.append(dict1)\n",
        "\n",
        "#list1\n",
        "\n",
        "\n",
        " #so when I do [{k:v} for k,v in school.items() if k in selected_attrs]\n",
        "# I am creating a new dict that loops through all the results and puts it in the new dict\n",
        "\n",
        "for school in schools[:3]:\n",
        "  for k,v in school.items():\n",
        "    if k in selected_attrs:\n",
        "      creates_new_dict = {k:v}\n",
        "\n",
        "\n",
        "#creates_new_dict\n",
        "#dict1"
      ],
      "metadata": {
        "id": "nHlsZxSOEVBu"
      },
      "execution_count": 27,
      "outputs": []
    },
    {
      "cell_type": "code",
      "source": [
        "#if I want to create an instance of class School\n",
        "\n",
        "school_attributes = {'dbn': '01M292',\n",
        " 'name': 'HENRY STREET SCHOOL FOR INTERNATIONAL STUDIES',\n",
        " 'reading_avg': 355.0,\n",
        " 'math_avg': 404.0,\n",
        " 'writing_score': 363.0,\n",
        " 'boro': 'M',\n",
        " 'total_students': 171,\n",
        " 'attendance_rate': 0.87}\n",
        "\n",
        "Instance1 = School(**school_attributes)\n",
        "Instance1.__dict__\n",
        "\n",
        "#when using kwargs to assign dict of attrs, they aren't required attributes\n",
        "#so not providing attr values in School class wont throw an error\n",
        "Instance2 = School()\n",
        "Instance2.__dict__"
      ],
      "metadata": {
        "id": "oPCQZKcn05aZ",
        "outputId": "50254115-63a9-438c-9b1d-a157840fa8f3",
        "colab": {
          "base_uri": "https://localhost:8080/"
        }
      },
      "execution_count": 44,
      "outputs": [
        {
          "output_type": "execute_result",
          "data": {
            "text/plain": [
              "{}"
            ]
          },
          "metadata": {},
          "execution_count": 44
        }
      ]
    },
    {
      "cell_type": "code",
      "source": [
        "list_of_instances = [School(**{k:v for k,v in school.items() if k in selected_attrs}) for school in schools ]\n",
        "\n",
        "#do we need to know all the instances created from a class\n",
        "#how would we do that?\n"
      ],
      "metadata": {
        "id": "6ap6hggpxZrn"
      },
      "execution_count": 45,
      "outputs": []
    },
    {
      "cell_type": "code",
      "source": [
        "(School**{k:v for k,v in school_dict.items() if k in selected_attrs} for school_dict in schools)\n"
      ],
      "metadata": {
        "id": "WsVOYBhx8g2X",
        "outputId": "8de4c9b8-f566-4dde-81ca-8e40ead7706b",
        "colab": {
          "base_uri": "https://localhost:8080/"
        }
      },
      "execution_count": 24,
      "outputs": [
        {
          "output_type": "execute_result",
          "data": {
            "text/plain": [
              "<generator object <genexpr> at 0x798c339e1310>"
            ]
          },
          "metadata": {},
          "execution_count": 24
        }
      ]
    },
    {
      "cell_type": "markdown",
      "metadata": {
        "id": "lu3Qis5v7d6G"
      },
      "source": [
        "Let's take a look at the first school."
      ]
    },
    {
      "cell_type": "code",
      "execution_count": null,
      "metadata": {
        "id": "TjOu6M2C7d6H",
        "outputId": "4c957ab1-f951-4a09-ab1c-b38cc118d305"
      },
      "outputs": [
        {
          "data": {
            "text/plain": [
              "{'dbn': '01M292',\n",
              " 'name': 'HENRY STREET SCHOOL FOR INTERNATIONAL STUDIES',\n",
              " 'num_test_takers': 29.0,\n",
              " 'reading_avg': 355.0,\n",
              " 'math_avg': 404.0,\n",
              " 'writing_score': 363.0,\n",
              " 'boro': 'M',\n",
              " 'total_students': 171,\n",
              " 'graduation_rate': 0.66,\n",
              " 'attendance_rate': 0.87,\n",
              " 'college_career_rate': 0.36}"
            ]
          },
          "execution_count": 5,
          "metadata": {},
          "output_type": "execute_result"
        }
      ],
      "source": [
        "schools[0]"
      ]
    },
    {
      "cell_type": "markdown",
      "metadata": {
        "id": "w-7Y9w1j7d6I"
      },
      "source": [
        "So in this lesson, we'll first create a school instance with some of these attributes from the api.  And we'll create methods that calculate properties of a single school.  Afterwards, we'll write methods that query our collection of schools."
      ]
    },
    {
      "cell_type": "markdown",
      "metadata": {
        "id": "EBHbs0Hd7d6J"
      },
      "source": [
        "First take a look at the test_school.py file, and then move onto the `test_query_schools.py` file."
      ]
    },
    {
      "cell_type": "markdown",
      "metadata": {
        "id": "0rB1LXKA7d6J"
      },
      "source": [
        "### Resources"
      ]
    },
    {
      "cell_type": "markdown",
      "metadata": {
        "id": "vwPRCDfz7d6J"
      },
      "source": [
        "[Initialize with dict](https://codereview.stackexchange.com/questions/171107/python-class-initialize-with-dict)\n",
        "\n",
        "[Check raising exceptions](https://dev.to/wangonya/asserting-exceptions-with-pytest-8hl)"
      ]
    }
  ],
  "metadata": {
    "kernelspec": {
      "display_name": "Python 3",
      "language": "python",
      "name": "python3"
    },
    "language_info": {
      "codemirror_mode": {
        "name": "ipython",
        "version": 3
      },
      "file_extension": ".py",
      "mimetype": "text/x-python",
      "name": "python",
      "nbconvert_exporter": "python",
      "pygments_lexer": "ipython3",
      "version": "3.8.3"
    },
    "colab": {
      "provenance": [],
      "include_colab_link": true
    }
  },
  "nbformat": 4,
  "nbformat_minor": 0
}