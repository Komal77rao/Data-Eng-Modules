{
  "cells": [
    {
      "cell_type": "markdown",
      "metadata": {
        "id": "view-in-github",
        "colab_type": "text"
      },
      "source": [
        "<a href=\"https://colab.research.google.com/github/Komal77rao/Data-Eng-Modules/blob/main/index.ipynb\" target=\"_parent\"><img src=\"https://colab.research.google.com/assets/colab-badge.svg\" alt=\"Open In Colab\"/></a>"
      ]
    },
    {
      "cell_type": "markdown",
      "metadata": {
        "id": "6pES3RgL92Fr"
      },
      "source": [
        "# Objects Discussion Questions"
      ]
    },
    {
      "cell_type": "markdown",
      "metadata": {
        "id": "m8HF8Cg-92F5"
      },
      "source": [
        "### Introduction"
      ]
    },
    {
      "cell_type": "markdown",
      "metadata": {
        "id": "YduSvHTC92F6"
      },
      "source": [
        "Previously, we learned about object oriented programming.  Let's do some brief review in this lesson."
      ]
    },
    {
      "cell_type": "markdown",
      "metadata": {
        "id": "ckEKN94692F7"
      },
      "source": [
        "### 1. Creating Objects"
      ]
    },
    {
      "cell_type": "markdown",
      "metadata": {
        "id": "OauGgMQK92F8"
      },
      "source": [
        "1. Below, create a class called `Plane`, and initialize two different plane instances."
      ]
    },
    {
      "cell_type": "code",
      "execution_count": 19,
      "metadata": {
        "id": "38OBB48r92F9"
      },
      "outputs": [],
      "source": [
        "# create the plane class here\n",
        "import datetime\n",
        "class Plane:\n",
        "    def __init__(self,seats_per_row,year, number_of_rows = 20) -> None:\n",
        "        self.seats_per_row = seats_per_row\n",
        "        self.number_of_rows = number_of_rows\n",
        "        self.year= year\n",
        "\n",
        "    def total_seats(self):\n",
        "     return self.number_of_rows * self.seats_per_row\n",
        "\n",
        "    def age(self):\n",
        "      return datetime.datetime.now().year - self.year"
      ]
    },
    {
      "cell_type": "code",
      "source": [
        "datetime.datetime.now().year"
      ],
      "metadata": {
        "id": "ybB9MetqG_3G",
        "outputId": "78dcc13d-464a-435c-e631-c05186c034f4",
        "colab": {
          "base_uri": "https://localhost:8080/"
        }
      },
      "execution_count": 18,
      "outputs": [
        {
          "output_type": "execute_result",
          "data": {
            "text/plain": [
              "2023"
            ]
          },
          "metadata": {},
          "execution_count": 18
        }
      ]
    },
    {
      "cell_type": "code",
      "execution_count": 9,
      "metadata": {
        "id": "cSKq-g7l92GB"
      },
      "outputs": [],
      "source": [
        "boeing = Plane(5)"
      ]
    },
    {
      "cell_type": "code",
      "source": [
        "boeing.number_of_rows"
      ],
      "metadata": {
        "id": "T4v5SuXtF2zj",
        "outputId": "923d2919-22e2-4a37-fe7e-e39179986c9a",
        "colab": {
          "base_uri": "https://localhost:8080/"
        }
      },
      "execution_count": 10,
      "outputs": [
        {
          "output_type": "execute_result",
          "data": {
            "text/plain": [
              "20"
            ]
          },
          "metadata": {},
          "execution_count": 10
        }
      ]
    },
    {
      "cell_type": "code",
      "execution_count": 3,
      "metadata": {
        "id": "cVCGaKm-92GC"
      },
      "outputs": [],
      "source": [
        "twa = Plane()"
      ]
    },
    {
      "cell_type": "markdown",
      "metadata": {
        "id": "FJmNLDCV92GE"
      },
      "source": [
        "Next add a couple of attributes to the boeing plane."
      ]
    },
    {
      "cell_type": "markdown",
      "metadata": {
        "id": "0WUgxF1l92GE"
      },
      "source": [
        "Give the Boeing instance the following attributes:\n",
        "* Assign the `seats_per_row` to be `10`\n",
        "* And assign be and `number_of_rows` to be 30."
      ]
    },
    {
      "cell_type": "code",
      "source": [
        "boeing.seats_per_row = 10\n",
        "boeing.number_of_rows = 30\n",
        "\n",
        "boeing.__dict__"
      ],
      "metadata": {
        "id": "Gmh8juckFFnO",
        "outputId": "49739d40-e9ba-4d7a-971e-c71d0ca7b702",
        "colab": {
          "base_uri": "https://localhost:8080/"
        }
      },
      "execution_count": 5,
      "outputs": [
        {
          "output_type": "execute_result",
          "data": {
            "text/plain": [
              "{'seats_per_row': 10, 'number_of_rows': 30}"
            ]
          },
          "metadata": {},
          "execution_count": 5
        }
      ]
    },
    {
      "cell_type": "markdown",
      "metadata": {
        "id": "OgECe8fE92GF"
      },
      "source": [
        "Give the `twa` instance the following attributes:\n",
        "* Assign the `seats_per_row` to be `6`\n",
        "* And assign be and `number_of_rows` to be `25`."
      ]
    },
    {
      "cell_type": "code",
      "source": [
        "twa.seats_per_row = 6\n",
        "twa.number_of_rows = 25\n",
        "\n",
        "twa.__dict__"
      ],
      "metadata": {
        "id": "2wP81gVsFRnU",
        "outputId": "012f5b4d-fe96-40ba-d00f-dbf69ebab131",
        "colab": {
          "base_uri": "https://localhost:8080/"
        }
      },
      "execution_count": 6,
      "outputs": [
        {
          "output_type": "execute_result",
          "data": {
            "text/plain": [
              "{'seats_per_row': 6, 'number_of_rows': 25}"
            ]
          },
          "metadata": {},
          "execution_count": 6
        }
      ]
    },
    {
      "cell_type": "markdown",
      "metadata": {
        "id": "a-9eGHle92GF"
      },
      "source": [
        "### 2. Enforcing Attributes"
      ]
    },
    {
      "cell_type": "markdown",
      "metadata": {
        "id": "FY9bYoqT92GL"
      },
      "source": [
        "A. Next update the `Plane` class so that a plane cannot be created unless the `seat_per_row` is assigned.  \n",
        "\n",
        "B. The class also allows for the `number_of_rows` to be assigned upon initialization, but if not assigned, the instance assigns the default number of 20 seats to the plane.\n",
        "\n",
        "C. Finally an instance of the class must also be initialized with a `year` attribute to represent the year it was built."
      ]
    },
    {
      "cell_type": "code",
      "execution_count": 12,
      "metadata": {
        "id": "Ffd8x1f492GL",
        "outputId": "df7f87dc-b412-4423-c240-90fc34e261c3",
        "colab": {
          "base_uri": "https://localhost:8080/"
        }
      },
      "outputs": [
        {
          "output_type": "execute_result",
          "data": {
            "text/plain": [
              "{'seats_per_row': 10, 'number_of_rows': 20, 'year': 2020}"
            ]
          },
          "metadata": {},
          "execution_count": 12
        }
      ],
      "source": [
        "boeing_2020 = Plane(year = 2020, seats_per_row = 10)\n",
        "\n",
        "boeing_2020.__dict__\n",
        "# {'seats_per_row': 10, 'number_of_rows': 20, 'year': 2020}"
      ]
    },
    {
      "cell_type": "code",
      "execution_count": 13,
      "metadata": {
        "id": "a7xVZbfi92GM",
        "outputId": "3b942d7e-c387-4a40-e13a-b69eda85a393",
        "colab": {
          "base_uri": "https://localhost:8080/"
        }
      },
      "outputs": [
        {
          "output_type": "execute_result",
          "data": {
            "text/plain": [
              "{'seats_per_row': 17, 'number_of_rows': 10, 'year': 2017}"
            ]
          },
          "metadata": {},
          "execution_count": 13
        }
      ],
      "source": [
        "twa = Plane(year = 2017, seats_per_row = 17, number_of_rows = 10)\n",
        "\n",
        "twa.__dict__\n",
        "# {'seats_per_row': 17, 'number_of_rows': 10, 'year': 2017}"
      ]
    },
    {
      "cell_type": "markdown",
      "metadata": {
        "id": "-y82_1Jv92GN"
      },
      "source": [
        "### 3. Adding Methods\n",
        "\n",
        "Now let's add a couple of methods to the `Plane` class.  \n",
        "\n",
        "* `total_seats`\n",
        "    * Write a method that uses the `number_of_rows` and `seats_per_row` to calculate the total number of seats in the plane.\n",
        "\n",
        "* `age`\n",
        "    * Write a method that uses the `year` attribute to return the number of years old that the plane is.\n",
        "    * Try to use the `datetime` module so that the calculation will continue to be accurate in future years"
      ]
    },
    {
      "cell_type": "code",
      "execution_count": null,
      "metadata": {
        "id": "P-RNtBHH92GN"
      },
      "outputs": [],
      "source": [
        "twa = Plane(year = 2017, seats_per_row = 17, number_of_rows = 10)"
      ]
    },
    {
      "cell_type": "code",
      "execution_count": null,
      "metadata": {
        "id": "MadisZBA92GN",
        "outputId": "d9613abe-b7ba-43a8-e14b-fc14d2fe474d"
      },
      "outputs": [
        {
          "data": {
            "text/plain": [
              "170"
            ]
          },
          "execution_count": 28,
          "metadata": {},
          "output_type": "execute_result"
        }
      ],
      "source": [
        "twa.total_seats()\n",
        "# 170"
      ]
    },
    {
      "cell_type": "code",
      "execution_count": null,
      "metadata": {
        "id": "iTM_rumR92GN",
        "outputId": "cecdee5e-4a33-49b7-9b4e-2388c5a63cd1"
      },
      "outputs": [
        {
          "data": {
            "text/plain": [
              "3"
            ]
          },
          "execution_count": 29,
          "metadata": {},
          "output_type": "execute_result"
        }
      ],
      "source": [
        "twa.age()\n",
        "# 5"
      ]
    }
  ],
  "metadata": {
    "kernelspec": {
      "display_name": "Python 3",
      "language": "python",
      "name": "python3"
    },
    "language_info": {
      "codemirror_mode": {
        "name": "ipython",
        "version": 3
      },
      "file_extension": ".py",
      "mimetype": "text/x-python",
      "name": "python",
      "nbconvert_exporter": "python",
      "pygments_lexer": "ipython3",
      "version": "3.7.4"
    },
    "colab": {
      "provenance": [],
      "include_colab_link": true
    }
  },
  "nbformat": 4,
  "nbformat_minor": 0
}