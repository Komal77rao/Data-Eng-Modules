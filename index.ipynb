{
  "cells": [
    {
      "cell_type": "markdown",
      "metadata": {
        "id": "view-in-github",
        "colab_type": "text"
      },
      "source": [
        "<a href=\"https://colab.research.google.com/github/Komal77rao/Data-Eng-Modules/blob/main/index.ipynb\" target=\"_parent\"><img src=\"https://colab.research.google.com/assets/colab-badge.svg\" alt=\"Open In Colab\"/></a>"
      ]
    },
    {
      "cell_type": "markdown",
      "metadata": {
        "id": "qc_hdjAQRUib"
      },
      "source": [
        "# Recipes API Lab"
      ]
    },
    {
      "cell_type": "markdown",
      "metadata": {
        "id": "rmbKirYPRUjP"
      },
      "source": [
        "### Introduction\n",
        "\n",
        "In this lesson, we'll practice working with Python scripts while using a recipes API."
      ]
    },
    {
      "cell_type": "markdown",
      "metadata": {
        "id": "yU_Y0Wq8RUjQ"
      },
      "source": [
        "### Getting Set Up\n",
        "\n",
        "Begin by setting up a folder to place our code called `src`.  Then, inside of that folder, create a file called `client.py`.  Outside of the `src` folder, create the `console.py` and begin by importing all of the code in the `client` module."
      ]
    },
    {
      "cell_type": "markdown",
      "metadata": {
        "id": "5ysXXij_RUjh"
      },
      "source": [
        "### Accessing the API\n",
        "\n",
        "For this lesson, we'll use the API from [The MealDB](https://www.themealdb.com/).  Here is a link to [the documentation](https://www.themealdb.com/api.php).\n",
        "\n",
        "We also have tests in the `tests` folder.  From the `recipes-api` folder, run Pytest to view the tests.  Write functions for the following:\n",
        "\n",
        "* `recipe_url` - Take a look at how to `Search a meal by name` in the documentation.  This method allows us to pass in the name of a recipe, and returns the appropriate url.  \n",
        "\n",
        "* `main_ingredient_url` - Look at how to filter by main ingredient in the documentation.  Write a function that takes in a main ingredient, and returns the appropriate url.\n",
        "\n",
        "* `request_by_recipe` - Takes in a meal name, and then makes a request to the api to return the recipe for the related meal.  (Remember to use the console to check your work).  And of course, run the tests.\n",
        "\n",
        "* `request_by_main_ingredient` - Takes in an ingredient name, and then makes a request to the api to return the a list of related recipes.\n",
        "\n",
        "* `id_url` - Takes in an id, and returns the url to search by id.\n",
        "\n"
      ]
    },
    {
      "cell_type": "code",
      "source": [
        "import requests\n",
        "\n",
        "def request_by_recipe(meal_name):\n",
        "  url = f'https://www.themealdb.com/api/json/v1/1/search.php?s={meal_name}'\n",
        "  response = requests.get(url)\n",
        "  recipe = response.json()\n",
        "  return recipe\n",
        "\n",
        "\n",
        "request_by_recipe('Pizza')['meals'][0]"
      ],
      "metadata": {
        "id": "2wFWPkwUWmNS",
        "outputId": "2ab59574-ddad-4d82-ebe7-a4089f5b5f22",
        "colab": {
          "base_uri": "https://localhost:8080/"
        }
      },
      "execution_count": null,
      "outputs": [
        {
          "output_type": "execute_result",
          "data": {
            "text/plain": [
              "{'idMeal': '53014',\n",
              " 'strMeal': 'Pizza Express Margherita',\n",
              " 'strDrinkAlternate': None,\n",
              " 'strCategory': 'Miscellaneous',\n",
              " 'strArea': 'Italian',\n",
              " 'strInstructions': '1 Preheat the oven to 230°C.\\r\\n\\r\\n2 Add the sugar and crumble the fresh yeast into warm water.\\r\\n\\r\\n3 Allow the mixture to stand for 10 – 15 minutes in a warm place (we find a windowsill on a sunny day works best) until froth develops on the surface.\\r\\n\\r\\n4 Sift the flour and salt into a large mixing bowl, make a well in the middle and pour in the yeast mixture and olive oil.\\r\\n\\r\\n5 Lightly flour your hands, and slowly mix the ingredients together until they bind.\\r\\n\\r\\n6 Generously dust your surface with flour.\\r\\n\\r\\n7 Throw down the dough and begin kneading for 10 minutes until smooth, silky and soft.\\r\\n\\r\\n8 Place in a lightly oiled, non-stick baking tray (we use a round one, but any shape will do!)\\r\\n\\r\\n9 Spread the passata on top making sure you go to the edge.\\r\\n\\r\\n10 Evenly place the mozzarella (or other cheese) on top, season with the oregano and black pepper, then drizzle with a little olive oil.\\r\\n\\r\\n11 Cook in the oven for 10 – 12 minutes until the cheese slightly colours.\\r\\n\\r\\n12 When ready, place the basil leaf on top and tuck in!',\n",
              " 'strMealThumb': 'https://www.themealdb.com/images/media/meals/x0lk931587671540.jpg',\n",
              " 'strTags': None,\n",
              " 'strYoutube': 'https://www.youtube.com/watch?v=Mt5lgUZRoUg',\n",
              " 'strIngredient1': 'Water',\n",
              " 'strIngredient2': 'Sugar',\n",
              " 'strIngredient3': 'Yeast',\n",
              " 'strIngredient4': 'Plain Flour',\n",
              " 'strIngredient5': 'Salt',\n",
              " 'strIngredient6': 'Olive Oil',\n",
              " 'strIngredient7': 'Passata',\n",
              " 'strIngredient8': 'Mozzarella',\n",
              " 'strIngredient9': 'Oregano',\n",
              " 'strIngredient10': 'Basil',\n",
              " 'strIngredient11': 'Black Pepper',\n",
              " 'strIngredient12': '',\n",
              " 'strIngredient13': '',\n",
              " 'strIngredient14': '',\n",
              " 'strIngredient15': '',\n",
              " 'strIngredient16': '',\n",
              " 'strIngredient17': '',\n",
              " 'strIngredient18': '',\n",
              " 'strIngredient19': '',\n",
              " 'strIngredient20': '',\n",
              " 'strMeasure1': '150ml',\n",
              " 'strMeasure2': '1 tsp ',\n",
              " 'strMeasure3': '15g',\n",
              " 'strMeasure4': '225g',\n",
              " 'strMeasure5': '1 1/2 tsp ',\n",
              " 'strMeasure6': 'Drizzle',\n",
              " 'strMeasure7': '80g',\n",
              " 'strMeasure8': '70g',\n",
              " 'strMeasure9': 'Peeled and Sliced',\n",
              " 'strMeasure10': 'Leaves',\n",
              " 'strMeasure11': 'Pinch',\n",
              " 'strMeasure12': ' ',\n",
              " 'strMeasure13': ' ',\n",
              " 'strMeasure14': ' ',\n",
              " 'strMeasure15': ' ',\n",
              " 'strMeasure16': ' ',\n",
              " 'strMeasure17': ' ',\n",
              " 'strMeasure18': ' ',\n",
              " 'strMeasure19': ' ',\n",
              " 'strMeasure20': ' ',\n",
              " 'strSource': 'https://www.dailymail.co.uk/femail/food/article-8240361/Pizza-Express-release-secret-recipe-Margherita-Pizza-make-home.html',\n",
              " 'strImageSource': None,\n",
              " 'strCreativeCommonsConfirmed': None,\n",
              " 'dateModified': None}"
            ]
          },
          "metadata": {},
          "execution_count": 26
        }
      ]
    },
    {
      "cell_type": "code",
      "source": [
        "\n",
        "def main_ingredient_url(main_ingredient):\n",
        "    url = f'https://www.themealdb.com/api/json/v1/1/filter.php?i={main_ingredient}'\n",
        "    return url\n",
        "\n",
        "\n",
        "def request_by_main_ingredient(main_ingredient):\n",
        "  url = main_ingredient_url(main_ingredient)\n",
        "  response = requests.get(url)\n",
        "  recipe = response.json()\n",
        "  return recipe\n",
        "\n",
        "request_by_main_ingredient('Pizza')"
      ],
      "metadata": {
        "id": "2JjhUQ5RYm2e",
        "outputId": "987bdf54-ba2d-4718-8576-c99bb797cb37",
        "colab": {
          "base_uri": "https://localhost:8080/"
        }
      },
      "execution_count": null,
      "outputs": [
        {
          "output_type": "execute_result",
          "data": {
            "text/plain": [
              "{'meals': None}"
            ]
          },
          "metadata": {},
          "execution_count": 22
        }
      ]
    },
    {
      "cell_type": "code",
      "source": [
        "def id_url(id):\n",
        "  url = f'https://www.themealdb.com/api/json/v1/1/lookup.php?i={id}'\n",
        "  response = requests.get(url)\n",
        "  id = response.json()\n",
        "  return id['meals'][0]['idMeal']"
      ],
      "metadata": {
        "id": "pqCtWievacMV"
      },
      "execution_count": null,
      "outputs": []
    },
    {
      "cell_type": "markdown",
      "metadata": {
        "id": "M1vK8tzvRUjt"
      },
      "source": [
        "### Coercing the Data\n",
        "\n",
        "Now let's create an `adapter.py` file inside of the `src` directory.  This will be in charge of coercing the data.  Be sure to import this in the console."
      ]
    },
    {
      "cell_type": "markdown",
      "metadata": {
        "id": "OKx3TaHHRUjz"
      },
      "source": [
        "* `meal_recipe` - Write a function that takes the name of a meal and then hits the api to returns just the text of the corresponding recipe.  This should use the `request_by_recipe` function."
      ]
    },
    {
      "cell_type": "markdown",
      "metadata": {
        "id": "OKJ2DR3XRUj0"
      },
      "source": [
        "* `meal_names_and_ids` - Write a function that takes a list of sample meals and returns just the name and id of each meal.  Look at the tests to see how this works.  You can copy the `sample_meals` variable into the console to work with this."
      ]
    },
    {
      "cell_type": "code",
      "source": [
        "def meal_recipe(meal_name):\n",
        "  recipe_name = request_by_recipe(meal_name)\n",
        "  return recipe_name['meals'][0]['strInstructions']\n",
        "\n",
        "def meala_names_and_ids(sample_meals):\n",
        "  return [{'name': meal['strMeal'], 'id': meal['idMeal']} for meal in sample_meals]\n",
        "\n",
        "sample_meals = [{'strMeal': 'Brown Stew Chicken', 'strMealThumb': 'https://www.themealdb.com/images/media/meals/sypxpx1515365095.jpg', 'idMeal': '52940'}, {'strMeal': 'Chicken & mushroom Hotpot', 'strMealThumb': 'https://www.themealdb.com/images/media/meals/uuuspp1511297945.jpg', 'idMeal': '52846'}, {'strMeal': 'Chicken Alfredo Primavera', 'strMealThumb': 'https://www.themealdb.com/images/media/meals/syqypv1486981727.jpg', 'idMeal': '52796'}, {'strMeal': 'Chicken Basquaise', 'strMealThumb': 'https://www.themealdb.com/images/media/meals/wruvqv1511880994.jpg', 'idMeal': '52934'}, {'strMeal': 'Chicken Congee', 'strMealThumb': 'https://www.themealdb.com/images/media/meals/1529446352.jpg', 'idMeal': '52956'}, {'strMeal': 'Chicken Handi', 'strMealThumb': 'https://www.themealdb.com/images/media/meals/wyxwsp1486979827.jpg', 'idMeal': '52795'}, {'strMeal': 'Kentucky Fried Chicken', 'strMealThumb': 'https://www.themealdb.com/images/media/meals/xqusqy1487348868.jpg', 'idMeal': '52813'}, {'strMeal': 'Kung Pao Chicken', 'strMealThumb': 'https://www.themealdb.com/images/media/meals/1525872624.jpg', 'idMeal': '52945'}, {'strMeal': 'Pad See Ew', 'strMealThumb': 'https://www.themealdb.com/images/media/meals/uuuspp1468263334.jpg', 'idMeal': '52774'}, {'strMeal': 'Piri-piri chicken and slaw', 'strMealThumb': 'https://www.themealdb.com/images/media/meals/hglsbl1614346998.jpg', 'idMeal': '53039'}, {'strMeal': 'Thai Green Curry', 'strMealThumb': 'https://www.themealdb.com/images/media/meals/sstssx1487349585.jpg', 'idMeal': '52814'}]\n",
        "meala_names_and_ids(sample_meals)\n"
      ],
      "metadata": {
        "id": "cA4mW5yxbnY6",
        "outputId": "ec0be95a-e306-43bb-b5d9-36791e580839",
        "colab": {
          "base_uri": "https://localhost:8080/"
        }
      },
      "execution_count": null,
      "outputs": [
        {
          "output_type": "execute_result",
          "data": {
            "text/plain": [
              "[{'name': 'Brown Stew Chicken', 'id': '52940'},\n",
              " {'name': 'Chicken & mushroom Hotpot', 'id': '52846'},\n",
              " {'name': 'Chicken Alfredo Primavera', 'id': '52796'},\n",
              " {'name': 'Chicken Basquaise', 'id': '52934'},\n",
              " {'name': 'Chicken Congee', 'id': '52956'},\n",
              " {'name': 'Chicken Handi', 'id': '52795'},\n",
              " {'name': 'Kentucky Fried Chicken', 'id': '52813'},\n",
              " {'name': 'Kung Pao Chicken', 'id': '52945'},\n",
              " {'name': 'Pad See Ew', 'id': '52774'},\n",
              " {'name': 'Piri-piri chicken and slaw', 'id': '53039'},\n",
              " {'name': 'Thai Green Curry', 'id': '52814'}]"
            ]
          },
          "metadata": {},
          "execution_count": 2
        }
      ]
    },
    {
      "cell_type": "markdown",
      "metadata": {
        "id": "0OEJ8_vIRUj1"
      },
      "source": [
        "### Adding Tests\n",
        "\n",
        "Next take a look at the `test_adapter_again.py` file.  Fill in the tests for two new functions: `meal_names` and `meal_ids`.  These two functions should work similarly to the `meal_names_and_ids`.  Write each test and then get the test to pass.\n",
        "\n",
        "* `meal_names` - For the `meal_names` function, test that the given the sample_meals it returns just a list of strings with each string being the meal name\n",
        "\n",
        "* `meal_ids` - For the `meal_ids` function, test that the given the `sample_meals` it returns just a list of strings with each string being the meal id."
      ]
    },
    {
      "cell_type": "code",
      "source": [
        "def meal_names(sample_meals):\n",
        "  return [meal['strMeal'] for meal in sample_meals]\n",
        "\n",
        "\n",
        "def test_meal_names():\n",
        "  assert meal_names(sample_meals) ==   ['Brown Stew Chicken',\n",
        " 'Chicken & mushroom Hotpot',\n",
        " 'Chicken Alfredo Primavera',\n",
        " 'Chicken Basquaise',\n",
        " 'Chicken Congee',\n",
        " 'Chicken Handi',\n",
        " 'Kentucky Fried Chicken',\n",
        " 'Kung Pao Chicken',\n",
        " 'Pad See Ew',\n",
        " 'Piri-piri chicken and slaw',\n",
        " 'Thai Green Curry']\n",
        "\n",
        "test_meal_names()"
      ],
      "metadata": {
        "id": "wf0eNW_5-Gkw"
      },
      "execution_count": null,
      "outputs": []
    },
    {
      "cell_type": "code",
      "source": [
        "def meal_ids(sample_meals):\n",
        "  return [meal['idMeal'] for meal in sample_meals]\n",
        "\n",
        "\n",
        "def test_meal_ids():\n",
        "  assert meal_ids(sample_meals) ==   ['52940',\n",
        " '52846',\n",
        " '52796',\n",
        " '52934',\n",
        " '52956',\n",
        " '52795',\n",
        " '52813',\n",
        " '52945',\n",
        " '52774',\n",
        " '53039',\n",
        " '52814']\n",
        "\n",
        "meal_ids(sample_meals)"
      ],
      "metadata": {
        "id": "XknKQtRm_Vzz",
        "outputId": "e65e05d1-1d8a-462b-ada9-4fcf13fd1571",
        "colab": {
          "base_uri": "https://localhost:8080/"
        }
      },
      "execution_count": null,
      "outputs": [
        {
          "output_type": "execute_result",
          "data": {
            "text/plain": [
              "['52940',\n",
              " '52846',\n",
              " '52796',\n",
              " '52934',\n",
              " '52956',\n",
              " '52795',\n",
              " '52813',\n",
              " '52945',\n",
              " '52774',\n",
              " '53039',\n",
              " '52814']"
            ]
          },
          "metadata": {},
          "execution_count": 6
        }
      ]
    },
    {
      "cell_type": "markdown",
      "metadata": {
        "id": "asJdIL3ARUj-"
      },
      "source": [
        "### Back to the test_adapter"
      ]
    },
    {
      "cell_type": "markdown",
      "metadata": {
        "id": "ZGopCCJrRUj_"
      },
      "source": [
        "* `meal_ingredients` - If we look at the response from the api, we'll see that each recipe can return up to twenty ingredients.  Write a function that takes in a single meal and returns a list of ingredients.  View the related test for details.\n",
        "> **Hint**: You can see in the test file, we placed a `sample_meal` at the top of the file.  It may make sense to place this in the `console.py` file so that you can interact with a sample meal.\n",
        "\n",
        "> **Other hint**: Begin by seeing if use to Python to create a list of `strIngredients` from 1 to 20, and then use this list to select the appropriate ingredients.\n",
        "```python\n",
        "['strIngredient1', 'strIngredient2', 'strIngredient3', 'strIngredient4', 'strIngredient5', 'strIngredient6', 'strIngredient7', 'strIngredient8', 'strIngredient9', 'strIngredient10', 'strIngredient11', 'strIngredient12', 'strIngredient13', 'strIngredient14', 'strIngredient15', 'strIngredient16', 'strIngredient17', 'strIngredient18', 'strIngredient19', 'strIngredient20']\n",
        "```"
      ]
    },
    {
      "cell_type": "code",
      "source": [
        "\n",
        "sample_meal = {'idMeal': '52772', 'strMeal': 'Teriyaki Chicken Casserole', 'strDrinkAlternate': None,\n",
        "'strCategory': 'Chicken', 'strArea': 'Japanese',\n",
        " 'strInstructions': 'Preheat oven to 350° F. Spray a 9x13-inch baking pan with non-stick spray.\\r\\nCombine soy sauce, ½ cup water, brown sugar, ginger and garlic in a small saucepan and cover. Bring to a boil over medium heat. Remove lid and cook for one minute once boiling.\\r\\nMeanwhile, stir together the corn starch and 2 tablespoons of water in a separate dish until smooth. Once sauce is boiling, add mixture to the saucepan and stir to combine. Cook until the sauce starts to thicken then remove from heat.\\r\\nPlace the chicken breasts in the prepared pan. Pour one cup of the sauce over top of chicken. Place chicken in oven and bake 35 minutes or until cooked through. Remove from oven and shred chicken in the dish using two forks.\\r\\n*Meanwhile, steam or cook the vegetables according to package directions.\\r\\nAdd the cooked vegetables and rice to the casserole dish with the chicken. Add most of the remaining sauce, reserving a bit to drizzle over the top when serving. Gently toss everything together in the casserole dish until combined. Return to oven and cook 15 minutes. Remove from oven and let stand 5 minutes before serving. Drizzle each serving with remaining sauce. Enjoy!', 'strMealThumb': 'https://www.themealdb.com/images/media/meals/wvpsxx1468256321.jpg', 'strTags': 'Meat,Casserole', 'strYoutube': 'https://www.youtube.com/watch?v=4aZr5hZXP_s',\n",
        "  'strIngredient1': 'soy sauce', 'strIngredient2': 'water', 'strIngredient3': 'brown sugar', 'strIngredient4': 'ground ginger', 'strIngredient5': 'minced garlic', 'strIngredient6': 'cornstarch', 'strIngredient7': 'chicken breasts', 'strIngredient8': 'stir-fry vegetables', 'strIngredient9': 'brown rice', 'strIngredient10': '', 'strIngredient11': '', 'strIngredient12': '', 'strIngredient13': '', 'strIngredient14': '', 'strIngredient15': '', 'strIngredient16': None, 'strIngredient17': None, 'strIngredient18': None,\n",
        "  'strIngredient19': None, 'strIngredient20': None, 'strMeasure1': '3/4 cup', 'strMeasure2': '1/2 cup', 'strMeasure3': '1/4 cup', 'strMeasure4': '1/2 teaspoon', 'strMeasure5': '1/2 teaspoon', 'strMeasure6': '4 Tablespoons', 'strMeasure7': '2', 'strMeasure8': '1 (12 oz.)', 'strMeasure9': '3 cups', 'strMeasure10': '', 'strMeasure11': '',\n",
        " 'strMeasure12': '', 'strMeasure13': '', 'strMeasure14': '', 'strMeasure15': '', 'strMeasure16': None, 'strMeasure17': None, 'strMeasure18': None, 'strMeasure19': None, 'strMeasure20': None, 'strSource': None, 'strImageSource': None, 'strCreativeCommonsConfirmed': None, 'dateModified': None}\n",
        "\n",
        "\n",
        "def find_ingredients_from(sample_meal):\n",
        "  ingredients = []\n",
        "  for k,v in sample_meal.items():\n",
        "    for number in range(1,21):\n",
        "      if k == f'strIngredient{number}' and v:    #!= None and v != \"\"): no need to specify None, 0, \"\" as they are falsy values\n",
        "        ingredients.append(v)\n",
        "  return ingredients\n",
        "\n",
        "\n",
        "find_ingredients_from(sample_meal)"
      ],
      "metadata": {
        "id": "1KlihIFmfC_P",
        "outputId": "c5c38402-027f-4820-8f3a-569a6894eebf",
        "colab": {
          "base_uri": "https://localhost:8080/"
        }
      },
      "execution_count": 1,
      "outputs": [
        {
          "output_type": "execute_result",
          "data": {
            "text/plain": [
              "['soy sauce',\n",
              " 'water',\n",
              " 'brown sugar',\n",
              " 'ground ginger',\n",
              " 'minced garlic',\n",
              " 'cornstarch',\n",
              " 'chicken breasts',\n",
              " 'stir-fry vegetables',\n",
              " 'brown rice']"
            ]
          },
          "metadata": {},
          "execution_count": 1
        }
      ]
    },
    {
      "cell_type": "code",
      "source": [
        "\n",
        "def find_ingredients_from(sample_meal):\n",
        "  ingredients = []\n",
        "  for k,v in sample_meal.items():\n",
        "    if k.startswith('strIngredient') and v:\n",
        "      ingredients.append(v)\n",
        "  return ingredients\n",
        "\n",
        "\n",
        "find_ingredients_from(sample_meal)\n"
      ],
      "metadata": {
        "id": "QwKexuJFXmtj",
        "outputId": "0a386252-6907-4164-b17e-29b0f792cf5e",
        "colab": {
          "base_uri": "https://localhost:8080/"
        }
      },
      "execution_count": 2,
      "outputs": [
        {
          "output_type": "execute_result",
          "data": {
            "text/plain": [
              "['soy sauce',\n",
              " 'water',\n",
              " 'brown sugar',\n",
              " 'ground ginger',\n",
              " 'minced garlic',\n",
              " 'cornstarch',\n",
              " 'chicken breasts',\n",
              " 'stir-fry vegetables',\n",
              " 'brown rice']"
            ]
          },
          "metadata": {},
          "execution_count": 2
        }
      ]
    },
    {
      "cell_type": "code",
      "source": [
        "#one way to do it if we dont have the previous function\n",
        "\n",
        "# def find_ingredient_measurements(sample_meal):\n",
        "#   ingredients = []\n",
        "#   measures = []\n",
        "\n",
        "#   for k,v in sample_meal.items():\n",
        "#     for number in range(1,21):\n",
        "#       if k == f'strIngredient{number}' and (v != None and v != \"\"):\n",
        "#         meal_ingredient = v\n",
        "#         ingredients.append(meal_ingredient)\n",
        "\n",
        "#       elif k == f'strMeasure{number}' and (v != None and v != \"\"):\n",
        "#         meal_measure = v\n",
        "#         measures.append(meal_measure)\n",
        "\n",
        "#   ingredients_measures = dict(zip(ingredients,measures))\n",
        "#   return ingredients_measures\n",
        "\n",
        "# find_ingredient_measurements(sample_meal)\n",
        "\n",
        "#other way is to use the previous function that provides the list of ingredients\n",
        "\n",
        "def find_ingredient_measurements(sample_meal):\n",
        "  ingredients = find_ingredients_from(sample_meal)\n",
        "  measures = []\n",
        "\n",
        "  for k,v in sample_meal.items():\n",
        "    for number in range(1,21):\n",
        "      if k == f'strMeasure{number}' and v:   #(v != None and v != \"\"):\n",
        "        measures.append(v)\n",
        "\n",
        "  ingredients_measures = dict(zip(ingredients,measures))\n",
        "  return ingredients_measures\n",
        "\n",
        "find_ingredient_measurements(sample_meal)\n"
      ],
      "metadata": {
        "id": "wc-2kPbYa556",
        "outputId": "bb94b79a-60e5-425e-c74a-563cd4354a21",
        "colab": {
          "base_uri": "https://localhost:8080/"
        }
      },
      "execution_count": null,
      "outputs": [
        {
          "output_type": "execute_result",
          "data": {
            "text/plain": [
              "{'soy sauce': '3/4 cup',\n",
              " 'water': '1/2 cup',\n",
              " 'brown sugar': '1/4 cup',\n",
              " 'ground ginger': '1/2 teaspoon',\n",
              " 'minced garlic': '1/2 teaspoon',\n",
              " 'cornstarch': '4 Tablespoons',\n",
              " 'chicken breasts': '2',\n",
              " 'stir-fry vegetables': '1 (12 oz.)',\n",
              " 'brown rice': '3 cups'}"
            ]
          },
          "metadata": {},
          "execution_count": 29
        }
      ]
    },
    {
      "cell_type": "markdown",
      "metadata": {
        "id": "gbUpraJHRUj_"
      },
      "source": [
        "* `ingredients_and_measurements` - Write a function that takes a single meal and returns a dictionary where the keys are the ingredients and the value is each corresponding measuremment needed."
      ]
    },
    {
      "cell_type": "markdown",
      "metadata": {
        "id": "r2i11N3uRUj_"
      },
      "source": [
        "Ok that's it.  Review how to work with different files and practice by adding to this codebase and your tests."
      ]
    }
  ],
  "metadata": {
    "kernelspec": {
      "display_name": "Python 3.9.10 64-bit",
      "language": "python",
      "name": "python3"
    },
    "language_info": {
      "name": "python",
      "version": "3.9.10"
    },
    "orig_nbformat": 4,
    "vscode": {
      "interpreter": {
        "hash": "aee8b7b246df8f9039afb4144a1f6fd8d2ca17a180786b69acc140d282b71a49"
      }
    },
    "colab": {
      "provenance": [],
      "include_colab_link": true
    }
  },
  "nbformat": 4,
  "nbformat_minor": 0
}