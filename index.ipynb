{
  "cells": [
    {
      "cell_type": "markdown",
      "metadata": {
        "id": "view-in-github",
        "colab_type": "text"
      },
      "source": [
        "<a href=\"https://colab.research.google.com/github/Komal77rao/Data-Eng-Modules/blob/main/index.ipynb\" target=\"_parent\"><img src=\"https://colab.research.google.com/assets/colab-badge.svg\" alt=\"Open In Colab\"/></a>"
      ]
    },
    {
      "cell_type": "markdown",
      "metadata": {
        "id": "waT1ZYEe0m_k"
      },
      "source": [
        "# Saving Records with Objects"
      ]
    },
    {
      "cell_type": "markdown",
      "metadata": {
        "id": "90U9lYop0nAE"
      },
      "source": [
        "### Introduction\n",
        "\n",
        "As we may have noticed, certain SQL operations are a little tedious and tricky to perform.  For example, creating a new record in a database requires an INSERT INTO statement that is not so easy to get quite right.  Let's make it easier.  \n",
        "\n",
        "In this lesson, we'll walk through some operations for saving our records."
      ]
    },
    {
      "cell_type": "markdown",
      "metadata": {
        "id": "odsZSiHD0nAH"
      },
      "source": [
        "### Saving Made Easier"
      ]
    },
    {
      "cell_type": "markdown",
      "metadata": {
        "id": "J54PGefJ0nAI"
      },
      "source": [
        "Instead of writing a separate INSERT INTO statement for each table, we'll write a `save` function that will allow us to create an instance of a class, and then automatically store a new record with the correct attributes in the new table.  For example, if we create an instance of User with the following attributes:"
      ]
    },
    {
      "cell_type": "markdown",
      "metadata": {
        "id": "fXPb8fZX0nAL"
      },
      "source": [
        "```python\n",
        "user = User()\n",
        "user.name = 'bob'\n",
        "user.birthday = '8/3/1997'\n",
        "```"
      ]
    },
    {
      "cell_type": "markdown",
      "metadata": {
        "id": "WrOPk_ki0nAn"
      },
      "source": [
        "Then, ideally, we could just call the function `save` like so:\n",
        "    \n",
        "```python\n",
        "save(user, test_conn, test_cursor)\n",
        "```"
      ]
    },
    {
      "cell_type": "markdown",
      "metadata": {
        "id": "wGxceWYj0nBA"
      },
      "source": [
        "And save will execute the following command."
      ]
    },
    {
      "cell_type": "markdown",
      "metadata": {
        "id": "Ne0ttqvC0nBB"
      },
      "source": [
        "```python\n",
        "insert_str = f\"\"\"INSERT INTO users (name, birthday) VALUES (%s, %s);\"\"\"\n",
        "cursor.execute(insert_str, ('bob', '8/3/1997'))\n",
        "```"
      ]
    },
    {
      "cell_type": "markdown",
      "metadata": {
        "id": "OuJObLBg0nBF"
      },
      "source": [
        "### How it works"
      ]
    },
    {
      "cell_type": "markdown",
      "metadata": {
        "id": "EyAKt93U0nBJ"
      },
      "source": [
        "The key to automating this is to realize that every time we save a user instance, we are always inserting into the same table, and we want the attributes of the user instance, to be stored in a respective column in the database.  So we begin by telling each instance of user class about it's table, and the columns in the database with the following:"
      ]
    },
    {
      "cell_type": "code",
      "execution_count": null,
      "metadata": {
        "id": "LPczyo1j0nBL"
      },
      "outputs": [],
      "source": [
        "class User():\n",
        "    __table__ = 'users'\n",
        "    columns = ['id', 'name', 'birthday']"
      ]
    },
    {
      "cell_type": "code",
      "execution_count": null,
      "metadata": {
        "id": "xw59bRMd0nBu"
      },
      "outputs": [],
      "source": [
        "user = User()\n",
        "user.name = 'bob'\n",
        "user.birthday = '3/5/1997'"
      ]
    },
    {
      "cell_type": "code",
      "execution_count": null,
      "metadata": {
        "id": "odAxVXQD0nBu",
        "outputId": "9d376d38-0d4c-40d5-e76a-0521b3748bae"
      },
      "outputs": [
        {
          "data": {
            "text/plain": [
              "'users'"
            ]
          },
          "execution_count": 34,
          "metadata": {},
          "output_type": "execute_result"
        }
      ],
      "source": [
        "user.__table__"
      ]
    },
    {
      "cell_type": "code",
      "execution_count": null,
      "metadata": {
        "id": "aHdVI-4q0nBw",
        "outputId": "9014b7f2-6d13-4b4c-9769-2d1aba63166a"
      },
      "outputs": [
        {
          "data": {
            "text/plain": [
              "['id', 'name', 'birthday']"
            ]
          },
          "execution_count": 35,
          "metadata": {},
          "output_type": "execute_result"
        }
      ],
      "source": [
        "user.columns"
      ]
    },
    {
      "cell_type": "markdown",
      "metadata": {
        "id": "Tsj4yjmx0nBw"
      },
      "source": [
        "And so, if we call a save function, we can begin to remove some of the hardcoding, here the table name."
      ]
    },
    {
      "cell_type": "markdown",
      "metadata": {
        "id": "fiKhyhDQ0nBx"
      },
      "source": [
        "```python\n",
        "def save(obj):\n",
        "    insert_str = f\"\"\"INSERT INTO {obj.__table__} (name, birthday) VALUES (%s, %s);\"\"\"\n",
        "    cursor.execute(insert_str, ('bob', '8/3/1997'))\n",
        "    cursor.commit()\n",
        "````"
      ]
    },
    {
      "cell_type": "markdown",
      "metadata": {
        "id": "3ym_XOQl0nBx"
      },
      "source": [
        "So above, the tablename comes from the `__table__` attribute.  \n",
        "\n",
        "Now going forward, we'll want to move the remaining hard coded values, that will change from table to table.  So this means we'll need write functions to return:\n",
        "* the names of the columns we want to update,\n",
        "* the number of `%s` values we need after the word VALUES, and\n",
        "* the tuple that we pass into `cursor.execute()` (eg. ('bob', '8/3/1997') )."
      ]
    },
    {
      "cell_type": "markdown",
      "metadata": {
        "tags": [],
        "id": "R7zD_OQP0nBx"
      },
      "source": [
        "### Begin with the Tuple"
      ]
    },
    {
      "cell_type": "markdown",
      "metadata": {
        "id": "c9wW7lSx0nBx"
      },
      "source": [
        "Let's start with the tuple `('bob', '8/3/1997')`.  Given our User class, and user instance below, we'll need to find a way to automatically generate this tuple."
      ]
    },
    {
      "cell_type": "code",
      "execution_count": null,
      "metadata": {
        "id": "1V6yPTMk0nBx"
      },
      "outputs": [],
      "source": [
        "class User():\n",
        "    __table__ = 'users'\n",
        "    columns = ['id', 'name', 'birthday']\n",
        "\n",
        "user = User()\n",
        "user.name = 'bob'\n",
        "user.birthday = '3/5/1997'"
      ]
    },
    {
      "cell_type": "markdown",
      "metadata": {
        "id": "c2bQjt8F0nBz"
      },
      "source": [
        "A first though may be to simply gather the values on the user instance like so:"
      ]
    },
    {
      "cell_type": "code",
      "execution_count": null,
      "metadata": {
        "id": "jLOL0Mb_0nB0",
        "outputId": "6874b12c-40ad-4009-fe3b-e0c88f93af1b"
      },
      "outputs": [
        {
          "data": {
            "text/plain": [
              "dict_values(['bob', '3/5/1997'])"
            ]
          },
          "execution_count": 2,
          "metadata": {},
          "output_type": "execute_result"
        }
      ],
      "source": [
        "user.__dict__.values()"
      ]
    },
    {
      "cell_type": "markdown",
      "metadata": {
        "id": "oquAVo-r0nB3"
      },
      "source": [
        "But we should also make sure that each of these attributes have corresponding columns in the database.  This way, when we create a new record in a table, we make sure our attribute lines up with a column in that table.\n",
        "\n",
        "Well remember that we have hardcoded the list of columns in our class with `columns`."
      ]
    },
    {
      "cell_type": "code",
      "execution_count": null,
      "metadata": {
        "id": "-IUJeNsl0nB4",
        "outputId": "b3608ed8-d449-4355-ef66-4858b3400b42"
      },
      "outputs": [
        {
          "data": {
            "text/plain": [
              "['id', 'name', 'birthday']"
            ]
          },
          "execution_count": 36,
          "metadata": {},
          "output_type": "execute_result"
        }
      ],
      "source": [
        "user.columns"
      ]
    },
    {
      "cell_type": "markdown",
      "metadata": {
        "id": "1A_nJrLt0nB8"
      },
      "source": [
        "So we can go one by one through those columns, and retrieve the corresponding value in the user attributes."
      ]
    },
    {
      "cell_type": "code",
      "execution_count": null,
      "metadata": {
        "id": "Wfvdk23D0nCS",
        "outputId": "815d1828-6507-4fd8-b93a-791ca941446e"
      },
      "outputs": [
        {
          "data": {
            "text/plain": [
              "{'name': 'bob', 'birthday': '3/5/1997'}"
            ]
          },
          "execution_count": 3,
          "metadata": {},
          "output_type": "execute_result"
        }
      ],
      "source": [
        "obj_attrs = user.__dict__\n",
        "obj_attrs"
      ]
    },
    {
      "cell_type": "markdown",
      "metadata": {
        "id": "eNhDSqwF0nCc"
      },
      "source": [
        "> Below, we access the values of the dictionary that correspond to our database columns with the following."
      ]
    },
    {
      "cell_type": "code",
      "execution_count": null,
      "metadata": {
        "id": "BQ8_Sd6F0nCj",
        "outputId": "9cd64344-3c51-4abd-c007-3cb607b0b757"
      },
      "outputs": [
        {
          "data": {
            "text/plain": [
              "['bob', '3/5/1997']"
            ]
          },
          "execution_count": 29,
          "metadata": {},
          "output_type": "execute_result"
        }
      ],
      "source": [
        "obj_attrs = user.__dict__\n",
        "[obj_attrs[attr] for attr in user.columns if attr in obj_attrs.keys() ]"
      ]
    },
    {
      "cell_type": "markdown",
      "metadata": {
        "id": "j4aIxwdj0nCq"
      },
      "source": [
        "So that can be our `values` function."
      ]
    },
    {
      "cell_type": "code",
      "execution_count": null,
      "metadata": {
        "id": "3j0oeRpf0nCr"
      },
      "outputs": [],
      "source": [
        "def values(obj):\n",
        "    obj_attrs = obj.__dict__\n",
        "    return [obj_attrs[attr] for attr in obj.columns if attr in obj_attrs.keys()]"
      ]
    },
    {
      "cell_type": "markdown",
      "metadata": {
        "id": "-ezCHFIH0nCr"
      },
      "source": [
        "And now, given an instance, we can find the correct values to insert a new record with:"
      ]
    },
    {
      "cell_type": "code",
      "execution_count": null,
      "metadata": {
        "id": "Bgb7_ZiZ0nCr",
        "outputId": "d52e2bc3-6f0d-4d77-c7f4-0cf8b1a5308d"
      },
      "outputs": [
        {
          "data": {
            "text/plain": [
              "['bob', '3/5/1997']"
            ]
          },
          "execution_count": 43,
          "metadata": {},
          "output_type": "execute_result"
        }
      ],
      "source": [
        "values(user)"
      ]
    },
    {
      "cell_type": "markdown",
      "metadata": {
        "id": "3EGTNhxN0nCs"
      },
      "source": [
        "And use this `values` function in our `cursor.execute` statement."
      ]
    },
    {
      "cell_type": "markdown",
      "metadata": {
        "id": "86Fj19lu0nCs"
      },
      "source": [
        "```python\n",
        "insert_str = f\"\"\"INSERT INTO {obj.__table__} (name, birthday) VALUES (%s, %s);\"\"\"\n",
        "cursor.execute(insert_str, values(user))\n",
        "```"
      ]
    },
    {
      "cell_type": "markdown",
      "metadata": {
        "id": "jQZSTKrJ0nCs"
      },
      "source": [
        "### Finding the columns to update"
      ]
    },
    {
      "cell_type": "markdown",
      "metadata": {
        "id": "NWyBvYlA0nCt"
      },
      "source": [
        "The next part of the INSERT statement to tackle are the column names -- `(name, birthday)`.  We'd like to avoid hard coding them.\n",
        "\n",
        "We can get the name and birthday columns in a similar way to how we wrote the values function.  This time, we just return the key itself.  "
      ]
    },
    {
      "cell_type": "code",
      "execution_count": null,
      "metadata": {
        "id": "_r9NF7cJ0nCu"
      },
      "outputs": [],
      "source": [
        "def keys(obj):\n",
        "    obj_attrs = obj.__dict__\n",
        "    return [attr for attr in obj.columns if attr in obj_attrs.keys()]"
      ]
    },
    {
      "cell_type": "code",
      "execution_count": null,
      "metadata": {
        "id": "j7G2ZM750nCv",
        "outputId": "056c1b7f-5cf6-45cd-81c5-e458619ca9cd"
      },
      "outputs": [
        {
          "data": {
            "text/plain": [
              "['name', 'birthday']"
            ]
          },
          "execution_count": 45,
          "metadata": {},
          "output_type": "execute_result"
        }
      ],
      "source": [
        "keys(user)"
      ]
    },
    {
      "cell_type": "markdown",
      "metadata": {
        "id": "c-Eg9g390nCw"
      },
      "source": [
        "> Compare this with our values function."
      ]
    },
    {
      "cell_type": "code",
      "execution_count": null,
      "metadata": {
        "id": "2JqX5oFP0nD1"
      },
      "outputs": [],
      "source": [
        "# def values(obj):\n",
        "#     obj_attrs = obj.__dict__\n",
        "#     return [obj_attrs[attr] for attr in obj.columns if attr in obj_attrs.keys()]"
      ]
    },
    {
      "cell_type": "markdown",
      "metadata": {
        "id": "zlG-Yhnj0nD7"
      },
      "source": [
        "And then to add in our string, we join them together by a comma."
      ]
    },
    {
      "cell_type": "code",
      "execution_count": null,
      "metadata": {
        "id": "SoLHZlxm0nD8"
      },
      "outputs": [],
      "source": [
        "def keys(obj):\n",
        "    obj_attrs = obj.__dict__\n",
        "    selected = [attr for attr in obj.columns if attr in obj_attrs.keys()]\n",
        "    return ', '.join(selected)"
      ]
    },
    {
      "cell_type": "code",
      "execution_count": null,
      "metadata": {
        "id": "zKtnC2CE0nD9",
        "outputId": "80bf04aa-81d1-426f-9ab5-15996b1d3861"
      },
      "outputs": [
        {
          "data": {
            "text/plain": [
              "'name, birthday'"
            ]
          },
          "execution_count": 49,
          "metadata": {},
          "output_type": "execute_result"
        }
      ],
      "source": [
        "keys(user)"
      ]
    },
    {
      "cell_type": "markdown",
      "metadata": {
        "id": "91VqB_-d0nD-"
      },
      "source": [
        "So now if we update our INSERT INTO code to use our `keys` function, we'll see that we are almost there."
      ]
    },
    {
      "cell_type": "markdown",
      "metadata": {
        "id": "ugOwt3n-0nD-"
      },
      "source": [
        "```python\n",
        "insert_str = f\"\"\"INSERT INTO {obj.__table__} ({keys(obj)}) VALUES (%s, %s);\"\"\"\n",
        "cursor.execute(insert_str, values(obj))\n",
        "```"
      ]
    },
    {
      "cell_type": "markdown",
      "metadata": {
        "id": "GJUjMQf00nD-"
      },
      "source": [
        "The last item is to place in the correct number of `%s` values in our insert string.  We can place in the correct number of `%s` values with the following:"
      ]
    },
    {
      "cell_type": "code",
      "execution_count": null,
      "metadata": {
        "id": "aFAuMAOF0nD-",
        "outputId": "4f4b76d8-0299-4e4c-e547-04fc3e994422"
      },
      "outputs": [
        {
          "data": {
            "text/plain": [
              "'%s, %s'"
            ]
          },
          "execution_count": 51,
          "metadata": {},
          "output_type": "execute_result"
        }
      ],
      "source": [
        "', '.join(len(values(user)) * ['%s'])"
      ]
    },
    {
      "cell_type": "markdown",
      "metadata": {
        "id": "wQnQgk5V0nD_"
      },
      "source": [
        "So putting all of this together, we have a save function that looks like the following:"
      ]
    },
    {
      "cell_type": "code",
      "execution_count": null,
      "metadata": {
        "id": "qxsc-rCO0nD_"
      },
      "outputs": [],
      "source": [
        "def save(obj, conn, cursor):\n",
        "    s_str = ', '.join(len(values(obj)) * ['%s'])\n",
        "    insert_str = f\"\"\"INSERT INTO {obj.__table__} ({keys(obj)}) VALUES ({s_str});\"\"\"\n",
        "    cursor.execute(insert_str, list(values(obj)))\n",
        "    conn.commit()"
      ]
    },
    {
      "cell_type": "markdown",
      "metadata": {
        "id": "tIV4m1jm0nD_"
      },
      "source": [
        "And it relies on the keys and values functions."
      ]
    },
    {
      "cell_type": "code",
      "execution_count": null,
      "metadata": {
        "id": "K7C_jN-50nEA"
      },
      "outputs": [],
      "source": [
        "def keys(obj):\n",
        "    obj_attrs = obj.__dict__\n",
        "    return [attr for attr in obj.columns if attr in obj_attrs.keys()]"
      ]
    },
    {
      "cell_type": "code",
      "execution_count": null,
      "metadata": {
        "id": "vfdf7Ctx0nEA"
      },
      "outputs": [],
      "source": [
        "# def values(obj):\n",
        "#     obj_attrs = obj.__dict__\n",
        "#     return [obj_attrs[attr] for attr in obj.columns if attr in obj_attrs.keys()]"
      ]
    },
    {
      "cell_type": "markdown",
      "metadata": {
        "id": "xeSnGU9t0nEA"
      },
      "source": [
        "As well as defining the `__table__` and `columns` on each class."
      ]
    },
    {
      "cell_type": "code",
      "execution_count": null,
      "metadata": {
        "id": "o3OWYAJV0nEA"
      },
      "outputs": [],
      "source": [
        "class User():\n",
        "    __table__ = 'users'\n",
        "    columns = ['id', 'name', 'birthday']"
      ]
    },
    {
      "cell_type": "markdown",
      "metadata": {
        "id": "8ahGnuda0nEA"
      },
      "source": [
        "### Summary"
      ]
    },
    {
      "cell_type": "markdown",
      "metadata": {
        "id": "C6EmuXxu0nED"
      },
      "source": [
        "In this lesson, we walked through the fundamentals of writing a save function.  The key is to add the `__table__` attribute and list of columns to each class.  Then we can retreive the table name, columns to update and the values to insert into the table.  Our relevant code looks like the following:"
      ]
    },
    {
      "cell_type": "code",
      "execution_count": null,
      "metadata": {
        "id": "JJUTlNl60nEL"
      },
      "outputs": [],
      "source": [
        "class User():\n",
        "    __table__ = 'users'\n",
        "    columns = ['id', 'name', 'birthday']"
      ]
    },
    {
      "cell_type": "markdown",
      "metadata": {
        "id": "FAMZLXWj0nEN"
      },
      "source": [
        "And the code for our save function looks like:"
      ]
    },
    {
      "cell_type": "code",
      "execution_count": null,
      "metadata": {
        "id": "_C7Crtky0nEO"
      },
      "outputs": [],
      "source": [
        "def values(obj):\n",
        "    obj_attrs = obj.__dict__\n",
        "    return [obj_attrs[attr] for attr in obj.columns if attr in obj_attrs.keys()]\n",
        "\n",
        "def keys(obj):\n",
        "    obj_attrs = obj.__dict__\n",
        "    return [attr for attr in obj.columns if attr in obj_attrs.keys()]\n",
        "\n",
        "def save(obj, conn, cursor):\n",
        "    s_str = ', '.join(len(values(obj)) * ['%s'])\n",
        "    insert_str = f\"\"\"INSERT INTO {obj.__table__} ({keys(obj)}) VALUES ({s_str});\"\"\"\n",
        "    cursor.execute(insert_str, values(obj))\n",
        "    conn.commit()"
      ]
    }
  ],
  "metadata": {
    "kernelspec": {
      "display_name": "Python 3 (ipykernel)",
      "language": "python",
      "name": "python3"
    },
    "language_info": {
      "codemirror_mode": {
        "name": "ipython",
        "version": 3
      },
      "file_extension": ".py",
      "mimetype": "text/x-python",
      "name": "python",
      "nbconvert_exporter": "python",
      "pygments_lexer": "ipython3",
      "version": "3.9.12"
    },
    "colab": {
      "provenance": [],
      "include_colab_link": true
    }
  },
  "nbformat": 4,
  "nbformat_minor": 0
}