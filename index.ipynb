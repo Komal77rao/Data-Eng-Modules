{
  "cells": [
    {
      "cell_type": "markdown",
      "metadata": {
        "id": "view-in-github",
        "colab_type": "text"
      },
      "source": [
        "<a href=\"https://colab.research.google.com/github/Komal77rao/Data-Eng-Modules/blob/main/index.ipynb\" target=\"_parent\"><img src=\"https://colab.research.google.com/assets/colab-badge.svg\" alt=\"Open In Colab\"/></a>"
      ]
    },
    {
      "cell_type": "markdown",
      "metadata": {
        "id": "Y0hICQ6ogF-e"
      },
      "source": [
        "# Class Functions Reading"
      ]
    },
    {
      "cell_type": "code",
      "source": [
        "\n",
        "\n",
        "#git clone https://github.com/apis-jigsaw/class-functions-reading"
      ],
      "metadata": {
        "id": "Z8OjUY-EgIUK"
      },
      "execution_count": null,
      "outputs": []
    },
    {
      "cell_type": "markdown",
      "metadata": {
        "id": "-HX8G0nKgF-l"
      },
      "source": [
        "### Introduction"
      ]
    },
    {
      "cell_type": "markdown",
      "metadata": {
        "id": "URPy0fspgF-l"
      },
      "source": [
        "In this lesson we'll learn about class methods.  Class methods methods that allow us to ask questions or perform operations on a *collection* of instances, as opposed to an individual instance.  We'll see that these methods often align with the SELECT commands in our relational databases."
      ]
    },
    {
      "cell_type": "markdown",
      "metadata": {
        "id": "WxUJ84bEgF-m"
      },
      "source": [
        "### Sending Messages to Instances"
      ]
    },
    {
      "cell_type": "markdown",
      "metadata": {
        "id": "tpNNp855gF_P"
      },
      "source": [
        "So far, when we have written our classes we have relied on instance methods when coding out our functions.  For example, imagine we want to add a function called `is_expensive` to each `ingredient` instance."
      ]
    },
    {
      "cell_type": "code",
      "execution_count": null,
      "metadata": {
        "id": "Bxhxk5xngF_P"
      },
      "outputs": [],
      "source": [
        "class Ingredient:\n",
        "    def is_expensive(self):\n",
        "        return self.price > 10"
      ]
    },
    {
      "cell_type": "code",
      "execution_count": null,
      "metadata": {
        "id": "AvsQN_PPgF_R",
        "outputId": "1726880e-b3ef-4e59-a3e1-30af60d7db1b"
      },
      "outputs": [
        {
          "data": {
            "text/plain": [
              "True"
            ]
          },
          "execution_count": 3,
          "metadata": {},
          "output_type": "execute_result"
        }
      ],
      "source": [
        "salmon = Ingredient()\n",
        "salmon.price = 12\n",
        "salmon.is_expensive()"
      ]
    },
    {
      "cell_type": "markdown",
      "metadata": {
        "id": "laDe_oQzgF_U"
      },
      "source": [
        "Notice that we can think of our function as allowing us to ask a question of the instance.  When we call `is_expensive`, we send a message to the instance and it responds in turn.  From inside the class, the receiver of the method call is `self`."
      ]
    },
    {
      "cell_type": "markdown",
      "metadata": {
        "id": "u1WuMJ8hgF_W"
      },
      "source": [
        "### Sending messages to classes"
      ]
    },
    {
      "cell_type": "markdown",
      "metadata": {
        "id": "vz8UF11ZgF_X"
      },
      "source": [
        "Now we can also ask questions of our classes.  What types of questions?  Well, remember we think of our class as a factory.  And so we might ask our ingredient factory questions about the collection of records.  For example, what is the `most_expensive` ingredients, a list of all expensive ingredients, etc.  In other words, any questions where we have one or more instances returned should use a class method.  \n",
        "\n",
        "Ok, let's see how we can write a class method in Python."
      ]
    },
    {
      "cell_type": "code",
      "execution_count": null,
      "metadata": {
        "id": "Ie4vHo1QgF_X"
      },
      "outputs": [],
      "source": [
        "class Ingredient:\n",
        "    def is_expensive(self):\n",
        "        return self.price > 10\n",
        "\n",
        "    @classmethod\n",
        "    def most_expensive(self):\n",
        "        print(self)"
      ]
    },
    {
      "cell_type": "markdown",
      "metadata": {
        "id": "5YVQQH0egF_Y"
      },
      "source": [
        "So we specify a class method with the `@classmethod` decorator.  \n",
        "\n",
        "> For now, we are only printing out `self` in the body of the method.\n",
        "\n",
        "Ok, let's see how we can call our function."
      ]
    },
    {
      "cell_type": "code",
      "execution_count": null,
      "metadata": {
        "id": "qQsXQqSQgF_Y",
        "outputId": "b09be56f-7327-4bcb-cd7d-898be4ffa084"
      },
      "outputs": [
        {
          "name": "stdout",
          "output_type": "stream",
          "text": [
            "<class '__main__.Ingredient'>\n"
          ]
        }
      ],
      "source": [
        "Ingredient.most_expensive()"
      ]
    },
    {
      "cell_type": "markdown",
      "metadata": {
        "id": "GQ3Jt9yPgF_Z"
      },
      "source": [
        "Notice that we call a class method not on an instance, but on the class itself.  This makes sense: we are asking factory to answer a question.  Also, notice that when we print out `self` is not an instance but the `Ingredient` class.  \n",
        "\n",
        "> This follows our old rule that `self` is whatever is to the left of the `.`.  Here, we have `Ingredient.most_expensive()`."
      ]
    },
    {
      "cell_type": "markdown",
      "metadata": {
        "id": "9gDgqiUCgF_a"
      },
      "source": [
        "### Connecting Class Methods to the Database"
      ]
    },
    {
      "cell_type": "markdown",
      "metadata": {
        "id": "lGR6DNK0gF_a"
      },
      "source": [
        "If we think about class methods, like `Ingredient.most_expensive`, `Ingredient.expensive`, or `Ingredient.find_by_name`, we can see that these methods often translate to query methods in our SQL database.  For example here is how that `Ingredient.most_expensive` may look when it's filled in."
      ]
    },
    {
      "cell_type": "markdown",
      "metadata": {
        "id": "QB6hU_p0gF_a"
      },
      "source": [
        "> Let's load some data."
      ]
    },
    {
      "cell_type": "code",
      "execution_count": null,
      "metadata": {
        "id": "l87gM4kPgF_b",
        "outputId": "367761d9-3cb7-44fb-c57c-0d1484580fe3"
      },
      "outputs": [
        {
          "data": {
            "text/plain": [
              "[('bartenders',),\n",
              " ('customers',),\n",
              " ('drinks',),\n",
              " ('orders',),\n",
              " ('ingredients',),\n",
              " ('ingredients_drinks',)]"
            ]
          },
          "execution_count": 2,
          "metadata": {},
          "output_type": "execute_result"
        }
      ],
      "source": [
        "import sqlite3\n",
        "conn = sqlite3.connect('./moes_bar.db')\n",
        "cursor = conn.cursor()\n",
        "\n",
        "import pandas as pd\n",
        "root_url = \"https://raw.githubusercontent.com/jigsawlabs-student/curriculum-images/main/has-many-through-bar/data/\"\n",
        "names = ['bartenders', 'customers', 'drinks', 'orders', 'ingredients', 'ingredients_drinks']\n",
        "loaded_dfs = [pd.read_csv(f'{root_url}{name}.csv') for name in names]\n",
        "for index, name in enumerate(names):\n",
        "    loaded_dfs[index].to_sql(f'{name}', conn, index = False, if_exists = 'replace')\n",
        "cursor.execute(\"SELECT name FROM sqlite_master WHERE type='table';\")\n",
        "cursor.fetchall()"
      ]
    },
    {
      "cell_type": "code",
      "execution_count": null,
      "metadata": {
        "id": "Fi0xdvxrgF_d"
      },
      "outputs": [],
      "source": [
        "class Ingredient:\n",
        "    __table__ = 'ingredients'\n",
        "    columns = ['id', 'name', 'price']\n",
        "    def is_expensive(self):\n",
        "        return self.price > 10\n",
        "\n",
        "    @classmethod\n",
        "    def most_expensive(self, cursor):\n",
        "        cursor.execute(f\"SELECT * FROM {self.__table__} ORDER BY price DESC LIMIT 1\")\n",
        "        record = cursor.fetchone()\n",
        "        return record\n",
        "\n",
        "    @classmethod\n",
        "    def expensive(self, cursor, price = 3):\n",
        "        cursor.execute(f\"SELECT * FROM ingredients WHERE price > ?\", (price,))\n",
        "        records = cursor.fetchall()\n",
        "        return records"
      ]
    },
    {
      "cell_type": "code",
      "execution_count": null,
      "metadata": {
        "id": "KqWfAQtigF_d",
        "outputId": "d66d1b86-4e56-4f46-bc65-0a55c87b3303"
      },
      "outputs": [
        {
          "data": {
            "text/plain": [
              "[(2, 'tonic', 4), (8, 'duff beer', 5)]"
            ]
          },
          "execution_count": 4,
          "metadata": {},
          "output_type": "execute_result"
        }
      ],
      "source": [
        "Ingredient.expensive(cursor)"
      ]
    },
    {
      "cell_type": "code",
      "execution_count": null,
      "metadata": {
        "id": "oDolja9PgF_e",
        "outputId": "8326288f-1734-4715-9c03-d42ba3070136"
      },
      "outputs": [
        {
          "data": {
            "text/plain": [
              "(8, 'duff beer', 5)"
            ]
          },
          "execution_count": 5,
          "metadata": {},
          "output_type": "execute_result"
        }
      ],
      "source": [
        "Ingredient.most_expensive(cursor)"
      ]
    },
    {
      "cell_type": "markdown",
      "metadata": {
        "id": "OkpdRu6JgF_f"
      },
      "source": [
        "So notice that our class methods are called on the class itself, and that they relate to questions that are about the entire collection (eg. of all of the ingredients, which are expensive), and involve searching through the collection of ingredients to find an answer."
      ]
    },
    {
      "cell_type": "markdown",
      "metadata": {
        "id": "v-FdGdtTgF_w"
      },
      "source": [
        "### Summary"
      ]
    },
    {
      "cell_type": "markdown",
      "metadata": {
        "id": "72JbaISYgF_w"
      },
      "source": [
        "In this lesson, we saw how to implement class methods and how they align with our SQL queries. Now we use class methods when we want to ask a question that pertains to a collection of instances.  \n",
        "\n",
        "> Oftentimes, what's returned from our class method is an instance or a collection of instances.   "
      ]
    },
    {
      "cell_type": "markdown",
      "metadata": {
        "id": "Pd-hcF2LgF_w"
      },
      "source": [
        "To implement a `classmethod` we use `@classmethod` decorator.  "
      ]
    },
    {
      "cell_type": "code",
      "execution_count": null,
      "metadata": {
        "id": "eJhNLezEgF_w"
      },
      "outputs": [],
      "source": [
        "class Ingredient:\n",
        "    @classmethod\n",
        "    def most_expensive(self, cursor):\n",
        "        cursor.execute(f\"SELECT * FROM ingredients ORDER BY price DESC LIMIT 1\")\n",
        "        record = cursor.fetchone()\n",
        "        return record"
      ]
    },
    {
      "cell_type": "markdown",
      "metadata": {
        "id": "LxfZMAB-gF_w"
      },
      "source": [
        "And we call a class method with the name of the class followed by the method name."
      ]
    },
    {
      "cell_type": "code",
      "execution_count": null,
      "metadata": {
        "id": "5AVqt5HJgF_x",
        "outputId": "35c9a77c-2195-42e7-9c3c-e059fa8c4364"
      },
      "outputs": [
        {
          "data": {
            "text/plain": [
              "(8, 'duff beer', 5)"
            ]
          },
          "execution_count": 62,
          "metadata": {},
          "output_type": "execute_result"
        }
      ],
      "source": [
        "Ingredient.most_expensive(cursor)"
      ]
    },
    {
      "cell_type": "markdown",
      "metadata": {
        "id": "WSuRmPf3gF_x"
      },
      "source": [
        "Notice that when calling a class method, self is our class itself (here Ingredient).  And this follows our rule that self is whatever object is to the left of the dot, in our method call."
      ]
    },
    {
      "cell_type": "markdown",
      "metadata": {
        "id": "Js2gSCcCgF_x"
      },
      "source": [
        "These class methods align with our `where` select statements.  This is because, to answer a question about the collection, we need to perform a select statement to find the row or rows of data that contain the desired result."
      ]
    }
  ],
  "metadata": {
    "kernelspec": {
      "display_name": "Python 3 (ipykernel)",
      "language": "python",
      "name": "python3"
    },
    "language_info": {
      "codemirror_mode": {
        "name": "ipython",
        "version": 3
      },
      "file_extension": ".py",
      "mimetype": "text/x-python",
      "name": "python",
      "nbconvert_exporter": "python",
      "pygments_lexer": "ipython3",
      "version": "3.9.12"
    },
    "colab": {
      "provenance": [],
      "include_colab_link": true
    }
  },
  "nbformat": 4,
  "nbformat_minor": 0
}