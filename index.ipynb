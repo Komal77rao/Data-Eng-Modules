{
  "cells": [
    {
      "cell_type": "markdown",
      "metadata": {
        "id": "view-in-github",
        "colab_type": "text"
      },
      "source": [
        "<a href=\"https://colab.research.google.com/github/Komal77rao/Data-Eng-Modules/blob/main/index.ipynb\" target=\"_parent\"><img src=\"https://colab.research.google.com/assets/colab-badge.svg\" alt=\"Open In Colab\"/></a>"
      ]
    },
    {
      "cell_type": "markdown",
      "metadata": {
        "id": "rGM9osMdp_wO"
      },
      "source": [
        "# Connecting our Models"
      ]
    },
    {
      "cell_type": "markdown",
      "metadata": {
        "id": "k1ahCpVQp_wS"
      },
      "source": [
        "### Introduction"
      ]
    },
    {
      "cell_type": "markdown",
      "metadata": {
        "id": "D7qk2rjMp_wS"
      },
      "source": [
        "In this lesson, we'll see how we can use our objects to return a list of object instances instead of database records.  Let's get started."
      ]
    },
    {
      "cell_type": "markdown",
      "metadata": {
        "id": "KradPyENp_wT"
      },
      "source": [
        "### Using an Object"
      ]
    },
    {
      "cell_type": "markdown",
      "metadata": {
        "id": "hTayr9vNp_wb"
      },
      "source": [
        "Now so far, we have been successful at connecting a request to our API to a request to our database.  And we did so with code like the following:"
      ]
    },
    {
      "cell_type": "markdown",
      "metadata": {
        "id": "M03h_u7op_we"
      },
      "source": [
        "```python\n",
        "# application.py\n",
        "import sqlite3\n",
        "from flask import Flask, jsonify\n",
        "\n",
        "app = Flask(__name__)\n",
        "\n",
        "@app.route('/nhl/players/')\n",
        "def show_players():\n",
        "    conn = sqlite3.connect('nhl.db')\n",
        "    cursor = conn.cursor()\n",
        "    cursor.execute('select * from players;')\n",
        "    players = cursor.fetchall()\n",
        "    return jsonify(players)\n",
        "\n",
        "app.run(debug = True)\n",
        "```"
      ]
    },
    {
      "cell_type": "markdown",
      "metadata": {
        "id": "Fmk7s0Cnp_wk"
      },
      "source": [
        "Now when we make a request to the `/nhl/players` url, each player is represented as a list.\n",
        "\n",
        "<img src=\"https://github.com/apis-jigsaw/flask-models-reading/blob/main/nhl_players_json.png?raw=1\" width=\"40%\">"
      ]
    },
    {
      "cell_type": "markdown",
      "metadata": {
        "id": "q00adjlwp_wp"
      },
      "source": [
        "It would be better if our players were represented as dictionaries.  "
      ]
    },
    {
      "cell_type": "markdown",
      "metadata": {
        "id": "CjKlLlPdp_wv"
      },
      "source": [
        "Perhaps one way that we can get those list of dictionaries is to create a list of *player objects* with our return values from the database.  \n",
        "\n",
        "So this means that we would like to retrieve a record from the database, and for each record pass the through the data to create a corresponding instance.\n",
        "\n",
        "Let's see how we can do this."
      ]
    },
    {
      "cell_type": "markdown",
      "metadata": {
        "id": "OEsROd84p_wx"
      },
      "source": [
        "### Connecting to our database"
      ]
    },
    {
      "cell_type": "code",
      "execution_count": null,
      "metadata": {
        "id": "Hx6OT_Qgp_wy",
        "outputId": "69bae146-57bc-4b15-b8b0-9cf826e17e02"
      },
      "outputs": [
        {
          "data": {
            "text/html": [
              "<div>\n",
              "<style scoped>\n",
              "    .dataframe tbody tr th:only-of-type {\n",
              "        vertical-align: middle;\n",
              "    }\n",
              "\n",
              "    .dataframe tbody tr th {\n",
              "        vertical-align: top;\n",
              "    }\n",
              "\n",
              "    .dataframe thead th {\n",
              "        text-align: right;\n",
              "    }\n",
              "</style>\n",
              "<table border=\"1\" class=\"dataframe\">\n",
              "  <thead>\n",
              "    <tr style=\"text-align: right;\">\n",
              "      <th></th>\n",
              "      <th>name</th>\n",
              "      <th>age</th>\n",
              "      <th>ht</th>\n",
              "      <th>wt</th>\n",
              "      <th>shot</th>\n",
              "      <th>birth_place</th>\n",
              "      <th>birthdate</th>\n",
              "      <th>number</th>\n",
              "    </tr>\n",
              "    <tr>\n",
              "      <th>id</th>\n",
              "      <th></th>\n",
              "      <th></th>\n",
              "      <th></th>\n",
              "      <th></th>\n",
              "      <th></th>\n",
              "      <th></th>\n",
              "      <th></th>\n",
              "      <th></th>\n",
              "    </tr>\n",
              "  </thead>\n",
              "  <tbody>\n",
              "    <tr>\n",
              "      <th>0</th>\n",
              "      <td>Connor Bunnaman</td>\n",
              "      <td>21</td>\n",
              "      <td>6' 1\"</td>\n",
              "      <td>207 lbs</td>\n",
              "      <td>L</td>\n",
              "      <td>Guelph, ON</td>\n",
              "      <td>04/16/98</td>\n",
              "      <td>82</td>\n",
              "    </tr>\n",
              "    <tr>\n",
              "      <th>1</th>\n",
              "      <td>Sean Couturier</td>\n",
              "      <td>27</td>\n",
              "      <td>6' 3\"</td>\n",
              "      <td>211 lbs</td>\n",
              "      <td>L</td>\n",
              "      <td>Phoenix, AZ</td>\n",
              "      <td>12/07/92</td>\n",
              "      <td>14</td>\n",
              "    </tr>\n",
              "  </tbody>\n",
              "</table>\n",
              "</div>"
            ],
            "text/plain": [
              "               name  age     ht       wt shot  birth_place birthdate  number\n",
              "id                                                                          \n",
              "0   Connor Bunnaman   21  6' 1\"  207 lbs    L   Guelph, ON  04/16/98      82\n",
              "1    Sean Couturier   27  6' 3\"  211 lbs    L  Phoenix, AZ  12/07/92      14"
            ]
          },
          "execution_count": 1,
          "metadata": {},
          "output_type": "execute_result"
        }
      ],
      "source": [
        "import pandas as pd\n",
        "\n",
        "df = pd.read_csv('https://raw.githubusercontent.com/apis-jigsaw/flask-models-reading/main/nhl_players.csv', index_col = 0)\n",
        "\n",
        "df[:2]"
      ]
    },
    {
      "cell_type": "code",
      "execution_count": null,
      "metadata": {
        "id": "bekt8g_Cp_w7"
      },
      "outputs": [],
      "source": [
        "df.to_sql('players', conn, if_exists = 'replace')"
      ]
    },
    {
      "cell_type": "code",
      "execution_count": null,
      "metadata": {
        "id": "PXQUH6bQp_w8"
      },
      "outputs": [],
      "source": [
        "import sqlite3\n",
        "conn = sqlite3.connect('nhl.db')\n",
        "cursor = conn.cursor()\n",
        "cursor.execute('select * from players limit 1;')\n",
        "player_record = cursor.fetchone()"
      ]
    },
    {
      "cell_type": "code",
      "execution_count": null,
      "metadata": {
        "id": "LDBn_Zh1p_w8",
        "outputId": "67f6f721-9ea3-4aed-fdf1-695893c99ecb"
      },
      "outputs": [
        {
          "data": {
            "text/plain": [
              "(0,\n",
              " 'Connor Bunnaman',\n",
              " 21,\n",
              " '6\\' 1\"',\n",
              " '207 lbs',\n",
              " 'L',\n",
              " 'Guelph, ON',\n",
              " '04/16/98',\n",
              " 82)"
            ]
          },
          "execution_count": 12,
          "metadata": {},
          "output_type": "execute_result"
        }
      ],
      "source": [
        "player_record"
      ]
    },
    {
      "cell_type": "markdown",
      "metadata": {
        "id": "ctAvcRvNp_w9"
      },
      "source": [
        "Then, once we have this data, we can create a Player object with this data,  with something like the following."
      ]
    },
    {
      "cell_type": "code",
      "execution_count": null,
      "metadata": {
        "id": "5luM4KLKp_w9"
      },
      "outputs": [],
      "source": [
        "class Player:\n",
        "    def __init__(self, values):\n",
        "        self.values = values"
      ]
    },
    {
      "cell_type": "code",
      "execution_count": null,
      "metadata": {
        "id": "QHkR1rwop_w9",
        "outputId": "3022a8b3-ac47-4e50-a4ef-0932387159fa"
      },
      "outputs": [
        {
          "data": {
            "text/plain": [
              "(0,\n",
              " 'Connor Bunnaman',\n",
              " 21,\n",
              " '6\\' 1\"',\n",
              " '207 lbs',\n",
              " 'L',\n",
              " 'Guelph, ON',\n",
              " '04/16/98',\n",
              " 82)"
            ]
          },
          "execution_count": 15,
          "metadata": {},
          "output_type": "execute_result"
        }
      ],
      "source": [
        "player = Player(player_record)\n",
        "player.values"
      ]
    },
    {
      "cell_type": "markdown",
      "metadata": {
        "id": "q3zL9cV-p_w9"
      },
      "source": [
        "Now of course, what we would really like is to set each value to a corresponding attribute.  We can accomplish that, with something like the following:"
      ]
    },
    {
      "cell_type": "code",
      "execution_count": null,
      "metadata": {
        "id": "C9Y7IJf_p_w-"
      },
      "outputs": [],
      "source": [
        "class Player:\n",
        "\n",
        "    columns = ['id', 'name', 'age', 'height', 'weight',\n",
        "               'shot', 'birth_place', 'birthdate', 'number']\n",
        "\n",
        "    def __init__(self, values):\n",
        "        self.__dict__ = dict(zip(self.columns, values))"
      ]
    },
    {
      "cell_type": "markdown",
      "metadata": {
        "id": "bJm19Vflp_w-"
      },
      "source": [
        "Now let's see what happens when we pass in our values."
      ]
    },
    {
      "cell_type": "code",
      "execution_count": null,
      "metadata": {
        "id": "i7M-Hl46p_w_",
        "outputId": "adca627f-a5a9-4b7b-bb47-f03c960d3acb"
      },
      "outputs": [
        {
          "data": {
            "text/plain": [
              "{'id': 0,\n",
              " 'name': 'Connor Bunnaman',\n",
              " 'age': 21,\n",
              " 'height': '6\\' 1\"',\n",
              " 'weight': '207 lbs',\n",
              " 'shot': 'L',\n",
              " 'birth_place': 'Guelph, ON',\n",
              " 'birthdate': '04/16/98',\n",
              " 'number': 82}"
            ]
          },
          "execution_count": 18,
          "metadata": {},
          "output_type": "execute_result"
        }
      ],
      "source": [
        "player = Player(player_record)\n",
        "player.__dict__"
      ]
    },
    {
      "cell_type": "markdown",
      "metadata": {
        "id": "MjMO14hYp_xB"
      },
      "source": [
        "So we can see that this created a player with the proper attributes.  Let's take another look at how this worked."
      ]
    },
    {
      "cell_type": "code",
      "execution_count": null,
      "metadata": {
        "id": "X9TNMEJvp_xC"
      },
      "outputs": [],
      "source": [
        "class Player:\n",
        "\n",
        "    columns = ['id', 'name', 'age', 'height', 'weight',\n",
        "               'shot', 'birth_place', 'birthdate', 'number']\n",
        "\n",
        "    def __init__(self, values):\n",
        "        self.__dict__ = dict(zip(self.columns, values))"
      ]
    },
    {
      "cell_type": "markdown",
      "metadata": {
        "id": "zP_jKNMEp_xE"
      },
      "source": [
        "If we focus on the `__init__` function, self.columns is the list of columns, which we then align with the list of data that we retrieve from the database.  We then convert that data into a dictionary, and assign it as attributes of the object with the `__dict__` property."
      ]
    },
    {
      "cell_type": "markdown",
      "metadata": {
        "id": "tu7sHzPEp_xF"
      },
      "source": [
        "### A last step"
      ]
    },
    {
      "cell_type": "markdown",
      "metadata": {
        "id": "V_5g18Sop_xG"
      },
      "source": [
        "As a last step, remember that we have written a function in our orm to perform the proper `SELECT *` statement.  This is our `find_all` function.  Let's try using that here."
      ]
    },
    {
      "cell_type": "markdown",
      "metadata": {
        "id": "KVKDrSNLp_xH"
      },
      "source": [
        "```python\n",
        "@app.route('/nhl/players/')\n",
        "def show_players():\n",
        "    conn = sqlite3.connect('nhl.db')\n",
        "    cursor = conn.cursor()\n",
        "    player_records = cursor.execute('select * from players;')\n",
        "    players = [Player(player_record) for player_record in player_records]\n",
        "    player_dicts = [player.__dict__ for player in players]\n",
        "    return jsonify(player_dicts)\n",
        "```"
      ]
    },
    {
      "cell_type": "markdown",
      "metadata": {
        "id": "azKF0-rFp_xH"
      },
      "source": [
        "So we can see that we are able to retrieve a list of player instances from the database.  Then we turned these records into Player instances.  And finally, we needed to convert those instances into dictionaries with the `player.__dict__` attribute, so we could ultimately send the data back as json."
      ]
    },
    {
      "cell_type": "markdown",
      "metadata": {
        "id": "HhtqfX-Fp_xH"
      },
      "source": [
        "### Summary"
      ]
    },
    {
      "cell_type": "markdown",
      "metadata": {
        "id": "a1UiRLjip_xH"
      },
      "source": [
        "In this lesson, we saw how we can take data from a database and use it to create corresponding object instances.  We then needed to convert the data back into dictionaries to ultimately send back the data as json.\n",
        "\n",
        "We spent sometime understanding how we could convert our players into instances.  Let's take another look at the code.\n",
        "\n",
        "```python\n",
        "class Player:\n",
        "\n",
        "    columns = ['id', 'name', 'age', 'height', 'weight',\n",
        "               'shot', 'birth_place', 'birthdate', 'number']\n",
        "    \n",
        "    def __init__(self, values):\n",
        "        self.__dict__ = dict(zip(self.columns, values))\n",
        "```\n",
        "\n",
        "Above we pair together the tuple of values with a the corresponding columns.  Then we turn that paired data into a dictionary and assign the instance's attributes with the `__dict__` property."
      ]
    },
    {
      "cell_type": "code",
      "execution_count": null,
      "metadata": {
        "id": "15sKnj75p_xI"
      },
      "outputs": [],
      "source": []
    }
  ],
  "metadata": {
    "kernelspec": {
      "display_name": "Python 3 (ipykernel)",
      "language": "python",
      "name": "python3"
    },
    "language_info": {
      "codemirror_mode": {
        "name": "ipython",
        "version": 3
      },
      "file_extension": ".py",
      "mimetype": "text/x-python",
      "name": "python",
      "nbconvert_exporter": "python",
      "pygments_lexer": "ipython3",
      "version": "3.9.12"
    },
    "colab": {
      "provenance": [],
      "include_colab_link": true
    }
  },
  "nbformat": 4,
  "nbformat_minor": 0
}