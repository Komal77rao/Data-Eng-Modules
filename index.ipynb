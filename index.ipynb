{
  "cells": [
    {
      "cell_type": "markdown",
      "metadata": {
        "id": "view-in-github",
        "colab_type": "text"
      },
      "source": [
        "<a href=\"https://colab.research.google.com/github/Komal77rao/Data-Eng-Modules/blob/main/index.ipynb\" target=\"_parent\"><img src=\"https://colab.research.google.com/assets/colab-badge.svg\" alt=\"Open In Colab\"/></a>"
      ]
    },
    {
      "cell_type": "markdown",
      "metadata": {
        "id": "lZwPXTZtST3y"
      },
      "source": [
        "# Python Functions Review"
      ]
    },
    {
      "cell_type": "markdown",
      "metadata": {
        "id": "SDCb1brQST4F"
      },
      "source": [
        "### Introduction"
      ]
    },
    {
      "cell_type": "markdown",
      "metadata": {
        "id": "hZTeT7BdST4G"
      },
      "source": [
        "In this lesson, we'll review working with Python APIs and functions.  Let's get started."
      ]
    },
    {
      "cell_type": "markdown",
      "metadata": {
        "id": "uOjChVv4ST4G"
      },
      "source": [
        "### Getting our Data"
      ]
    },
    {
      "cell_type": "markdown",
      "metadata": {
        "id": "UJcdF8l_ST4Q"
      },
      "source": [
        "In this lesson, we'll work with the [Econdb api](https://www.econdb.com/api/series/?page=1).  As you can see on the page, we can make a request to the api with something like the following."
      ]
    },
    {
      "cell_type": "code",
      "execution_count": 2,
      "metadata": {
        "colab": {
          "base_uri": "https://localhost:8080/"
        },
        "id": "UqWpluP4ST4U",
        "outputId": "5d28e82f-4755-4d4a-c2fd-55ea71004f76"
      },
      "outputs": [
        {
          "output_type": "stream",
          "name": "stdout",
          "text": [
            "Requirement already satisfied: requests in /usr/local/lib/python3.10/dist-packages (2.31.0)\n",
            "Requirement already satisfied: charset-normalizer<4,>=2 in /usr/local/lib/python3.10/dist-packages (from requests) (3.3.2)\n",
            "Requirement already satisfied: idna<4,>=2.5 in /usr/local/lib/python3.10/dist-packages (from requests) (3.4)\n",
            "Requirement already satisfied: urllib3<3,>=1.21.1 in /usr/local/lib/python3.10/dist-packages (from requests) (2.0.7)\n",
            "Requirement already satisfied: certifi>=2017.4.17 in /usr/local/lib/python3.10/dist-packages (from requests) (2023.7.22)\n"
          ]
        }
      ],
      "source": [
        "!pip3 install requests"
      ]
    },
    {
      "cell_type": "code",
      "execution_count": null,
      "metadata": {
        "id": "CKJHaagvST4Y"
      },
      "outputs": [],
      "source": [
        "import requests\n",
        "\n",
        "url = \"https://www.econdb.com/api/series/CPIUS/?format=json&token=9afc69a45ef51e43572f21763759a877c77a714d\"\n",
        "\n",
        "response = requests.get(url)\n",
        "json_values = response.json()\n",
        "json_values"
      ]
    },
    {
      "cell_type": "markdown",
      "metadata": {
        "id": "QGCpryUCST4a"
      },
      "source": [
        "### Working with our data"
      ]
    },
    {
      "cell_type": "markdown",
      "metadata": {
        "id": "45pR1bubST4b"
      },
      "source": [
        "Begin by identifying all of the **keys** in `json_values`."
      ]
    },
    {
      "cell_type": "code",
      "execution_count": 16,
      "metadata": {
        "colab": {
          "base_uri": "https://localhost:8080/"
        },
        "id": "rsbWgAFpST4b",
        "outputId": "a4c596ee-62d2-46f4-bbbf-eb045cadd402"
      },
      "outputs": [
        {
          "output_type": "execute_result",
          "data": {
            "text/plain": [
              "dict_keys(['ticker', 'description', 'geography', 'frequency', 'dataset', 'units', 'additional_metadata', 'data'])"
            ]
          },
          "metadata": {},
          "execution_count": 16
        }
      ],
      "source": [
        "json_values.keys()\n",
        "\n",
        "# dict_keys(['ticker', 'description', 'geography', 'frequency', 'dataset', 'units', 'additional_metadata', 'data'])"
      ]
    },
    {
      "cell_type": "markdown",
      "metadata": {
        "id": "XRSjamlRST4d"
      },
      "source": [
        "And also identify all of the keys in under the `data` attribute."
      ]
    },
    {
      "cell_type": "code",
      "execution_count": null,
      "metadata": {
        "id": "duuuzn12ST4g"
      },
      "outputs": [],
      "source": [
        "json_values['data']['dates']\n",
        "\n",
        "# dict_keys(['values', 'dates', 'status'])"
      ]
    },
    {
      "cell_type": "markdown",
      "metadata": {
        "id": "ymdKOXi-ST4j"
      },
      "source": [
        "Ok, so we can see that we have keys of `values` and `dates`."
      ]
    },
    {
      "cell_type": "markdown",
      "metadata": {
        "id": "0KDDX_o2ST4k"
      },
      "source": [
        "So now create a list of the most recent 300 dates -- from earliest to latest."
      ]
    },
    {
      "cell_type": "code",
      "execution_count": 54,
      "metadata": {
        "colab": {
          "base_uri": "https://localhost:8080/"
        },
        "id": "8PYUZ3JCST4l",
        "outputId": "497afc1a-5e62-4095-9bce-5031f5f1378a"
      },
      "outputs": [
        {
          "output_type": "execute_result",
          "data": {
            "text/plain": [
              "['1998-11-01', '1998-12-01', '1999-01-01', '1999-02-01', '1999-03-01']"
            ]
          },
          "metadata": {},
          "execution_count": 54
        }
      ],
      "source": [
        "recent_dates = sorted([date for date in json_values['data']['dates']][-300:])\n",
        "recent_dates[:5]\n",
        "\n",
        "# ['1997-08-01', '1997-09-01', '1997-10-01', '1997-11-01', '1997-12-01']"
      ]
    },
    {
      "cell_type": "markdown",
      "metadata": {
        "id": "od7o0QX9ST4m"
      },
      "source": [
        "And create a list of the corresponding consumer price index values."
      ]
    },
    {
      "cell_type": "code",
      "execution_count": 55,
      "metadata": {
        "colab": {
          "base_uri": "https://localhost:8080/"
        },
        "id": "B1iEVrBjST4m",
        "outputId": "d9bb6932-a261-4dc6-f747-023c645dda21"
      },
      "outputs": [
        {
          "output_type": "execute_result",
          "data": {
            "text/plain": [
              "[164.1, 164.4, 164.7, 164.7, 164.8]"
            ]
          },
          "metadata": {},
          "execution_count": 55
        }
      ],
      "source": [
        "recent_values = sorted([date for date in json_values['data']['values']][-300:])\n",
        "recent_values[:5]"
      ]
    },
    {
      "cell_type": "markdown",
      "metadata": {
        "id": "4syrwK1AST4u"
      },
      "source": [
        "Now create a list of tuples called `cpis` that uses the `recent_dates` and `recent_values` list to return a list of tuples consisting of the date and the corresponding consumer price index."
      ]
    },
    {
      "cell_type": "code",
      "execution_count": 56,
      "metadata": {
        "colab": {
          "base_uri": "https://localhost:8080/"
        },
        "id": "JWLgoenoST4u",
        "outputId": "3100d48f-6c26-4d42-f242-7f2eeae8d155"
      },
      "outputs": [
        {
          "output_type": "execute_result",
          "data": {
            "text/plain": [
              "[('1998-11-01', 164.1),\n",
              " ('1998-12-01', 164.4),\n",
              " ('1999-01-01', 164.7),\n",
              " ('1999-02-01', 164.7),\n",
              " ('1999-03-01', 164.8)]"
            ]
          },
          "metadata": {},
          "execution_count": 56
        }
      ],
      "source": [
        "cpis = list(zip(recent_dates,recent_values))\n",
        "\n",
        "cpis[:5]\n",
        "\n",
        "# [('1997-08-01', 160.8),\n",
        "#  ('1997-09-01', 161.2),\n",
        "#  ('1997-10-01', 161.5),\n",
        "#  ('1997-11-01', 161.7),\n",
        "#  ('1997-12-01', 161.8)]"
      ]
    },
    {
      "cell_type": "markdown",
      "metadata": {
        "id": "RVcOvMo9ST43"
      },
      "source": [
        "And then, turn this list of tuples into a list of dictionaries with keys of date and price."
      ]
    },
    {
      "cell_type": "markdown",
      "metadata": {
        "id": "AxJFesd3ST44"
      },
      "source": [
        "> If you are unable to complete the below step, you can skip the problem and proceed to the next section."
      ]
    },
    {
      "cell_type": "code",
      "execution_count": null,
      "metadata": {
        "id": "0ab5WQdHST45"
      },
      "outputs": [],
      "source": [
        "price_json = [{'date':k, 'price':v} for k,v in cpis]\n",
        "price_json"
      ]
    },
    {
      "cell_type": "code",
      "execution_count": 59,
      "metadata": {
        "colab": {
          "base_uri": "https://localhost:8080/"
        },
        "id": "UM653rzPST46",
        "outputId": "2773f047-02eb-4a39-dacd-628cc551a2f0"
      },
      "outputs": [
        {
          "output_type": "execute_result",
          "data": {
            "text/plain": [
              "[{'date': '1998-11-01', 'price': 164.1},\n",
              " {'date': '1998-12-01', 'price': 164.4},\n",
              " {'date': '1999-01-01', 'price': 164.7},\n",
              " {'date': '1999-02-01', 'price': 164.7},\n",
              " {'date': '1999-03-01', 'price': 164.8}]"
            ]
          },
          "metadata": {},
          "execution_count": 59
        }
      ],
      "source": [
        "price_json[:5]"
      ]
    },
    {
      "cell_type": "markdown",
      "metadata": {
        "id": "we6JQ2akST47"
      },
      "source": [
        "### Working with Data"
      ]
    },
    {
      "cell_type": "code",
      "execution_count": 5,
      "metadata": {
        "id": "QYrqpFgwST47"
      },
      "outputs": [],
      "source": [
        "import pandas as pd\n",
        "url = \"https://raw.githubusercontent.com/apis-jigsaw/cpi-functions-quiz/main/cpi_json.json\"\n",
        "price_dates = pd.read_json(url).to_dict('records')"
      ]
    },
    {
      "cell_type": "code",
      "execution_count": 6,
      "metadata": {
        "colab": {
          "base_uri": "https://localhost:8080/"
        },
        "id": "Bskk_5XEST49",
        "outputId": "3726089b-2357-4134-b2d4-b952291e78a0"
      },
      "outputs": [
        {
          "output_type": "execute_result",
          "data": {
            "text/plain": [
              "[{'date': Timestamp('1997-09-01 00:00:00'), 'price': 161.2},\n",
              " {'date': Timestamp('1997-10-01 00:00:00'), 'price': 161.5},\n",
              " {'date': Timestamp('1997-11-01 00:00:00'), 'price': 161.7}]"
            ]
          },
          "metadata": {},
          "execution_count": 6
        }
      ],
      "source": [
        "price_dates[:3]"
      ]
    },
    {
      "cell_type": "markdown",
      "metadata": {
        "id": "AFlNoSDNST5C"
      },
      "source": [
        "* Filtering"
      ]
    },
    {
      "cell_type": "code",
      "execution_count": 7,
      "metadata": {
        "id": "mgkDQk9VST5D"
      },
      "outputs": [],
      "source": [
        "def price_greater_than(price_dates, amount):\n",
        "    return [price for price in price_dates if price['price'] > amount]"
      ]
    },
    {
      "cell_type": "code",
      "execution_count": 8,
      "metadata": {
        "colab": {
          "base_uri": "https://localhost:8080/"
        },
        "id": "kTKCS5KMST5D",
        "outputId": "fd2b246d-69ca-447f-c6d6-5e904c275907"
      },
      "outputs": [
        {
          "output_type": "execute_result",
          "data": {
            "text/plain": [
              "[{'date': Timestamp('2006-04-01 00:00:00'), 'price': 200.7},\n",
              " {'date': Timestamp('2006-05-01 00:00:00'), 'price': 201.3},\n",
              " {'date': Timestamp('2006-06-01 00:00:00'), 'price': 201.8}]"
            ]
          },
          "metadata": {},
          "execution_count": 8
        }
      ],
      "source": [
        "price_greater_than(price_dates, 200)[:3]\n",
        "\n",
        "# [{'date': Timestamp('2006-04-01 00:00:00'), 'price': 200.7},\n",
        "#  {'date': Timestamp('2006-05-01 00:00:00'), 'price': 201.3},\n",
        "#  {'date': Timestamp('2006-06-01 00:00:00'), 'price': 201.8}]"
      ]
    },
    {
      "cell_type": "markdown",
      "metadata": {
        "id": "_saq19Z-ST5E"
      },
      "source": [
        "* Exploring Timestamps  "
      ]
    },
    {
      "cell_type": "markdown",
      "metadata": {
        "id": "YBaZVZIqST5N"
      },
      "source": [
        "Now we can see that each date points to a timestamp object.  If we explore a timestamp, notice that we can extract certain attributes from it.\n",
        "\n",
        "> Let's start by pulling out the first date."
      ]
    },
    {
      "cell_type": "code",
      "execution_count": 60,
      "metadata": {
        "colab": {
          "base_uri": "https://localhost:8080/"
        },
        "id": "5TGSuILJST5O",
        "outputId": "492f29ce-6a41-41d1-942c-fcc43fa8ed5b"
      },
      "outputs": [
        {
          "output_type": "execute_result",
          "data": {
            "text/plain": [
              "Timestamp('1997-09-01 00:00:00')"
            ]
          },
          "metadata": {},
          "execution_count": 60
        }
      ],
      "source": [
        "first_price_date = price_dates[0]\n",
        "\n",
        "first_price_date # {'date': Timestamp('1997-09-01 00:00:00'), 'price': 161.2}\n",
        "\n",
        "first_date = first_price_date['date']\n",
        "first_date"
      ]
    },
    {
      "cell_type": "code",
      "execution_count": 61,
      "metadata": {
        "colab": {
          "base_uri": "https://localhost:8080/"
        },
        "id": "2yk20miiST5Q",
        "outputId": "d8b952a1-3f3f-4373-a92d-49819218f00d"
      },
      "outputs": [
        {
          "output_type": "execute_result",
          "data": {
            "text/plain": [
              "1997"
            ]
          },
          "metadata": {},
          "execution_count": 61
        }
      ],
      "source": [
        "first_date.year"
      ]
    },
    {
      "cell_type": "markdown",
      "metadata": {
        "id": "nrW4s1vKST5W"
      },
      "source": [
        "Then, write a function called `filter_price_by` that takes list of `price_dates` and given both a month and year, return the corresponding price."
      ]
    },
    {
      "cell_type": "code",
      "execution_count": 66,
      "metadata": {
        "id": "_hb0pYUEST5Y"
      },
      "outputs": [],
      "source": [
        "def filter_price_by(price_dates, month, year):\n",
        "  return [price['price'] for price in price_dates if price['date'].month == month and price['date'].year == year]"
      ]
    },
    {
      "cell_type": "code",
      "execution_count": 67,
      "metadata": {
        "colab": {
          "base_uri": "https://localhost:8080/"
        },
        "id": "SeVZ0aOyST5b",
        "outputId": "c7a875c7-9193-4a29-a666-25d9d9801481"
      },
      "outputs": [
        {
          "output_type": "execute_result",
          "data": {
            "text/plain": [
              "[258.2]"
            ]
          },
          "metadata": {},
          "execution_count": 67
        }
      ],
      "source": [
        "filter_price_by(price_dates, 3, 2020)\n",
        "\n",
        "# 258.2"
      ]
    },
    {
      "cell_type": "markdown",
      "metadata": {
        "id": "h5Eeb4lrST5d"
      },
      "source": [
        "Then let's write a method that allows us to filter by both prices and years."
      ]
    },
    {
      "cell_type": "code",
      "execution_count": 77,
      "metadata": {
        "id": "HTqOrlK7ST5d"
      },
      "outputs": [],
      "source": [
        "def filter_price_by(amount, year):\n",
        "  return [price for price in price_dates if price['price'] > amount and price['date'].year == year]"
      ]
    },
    {
      "cell_type": "code",
      "execution_count": 78,
      "metadata": {
        "colab": {
          "base_uri": "https://localhost:8080/"
        },
        "id": "NiStZ54gST5d",
        "outputId": "5d71cd6a-f954-4fa4-d3cf-f383121260da"
      },
      "outputs": [
        {
          "output_type": "execute_result",
          "data": {
            "text/plain": [
              "[{'date': Timestamp('2022-05-01 00:00:00'), 'price': 291.5},\n",
              " {'date': Timestamp('2022-06-01 00:00:00'), 'price': 295.3},\n",
              " {'date': Timestamp('2022-07-01 00:00:00'), 'price': 295.3},\n",
              " {'date': Timestamp('2022-08-01 00:00:00'), 'price': 295.6}]"
            ]
          },
          "metadata": {},
          "execution_count": 78
        }
      ],
      "source": [
        "filter_price_by(290, 2022)\n",
        "\n",
        "# [{'date': Timestamp('2022-05-01 00:00:00'), 'price': 291.5},\n",
        "#  {'date': Timestamp('2022-06-01 00:00:00'), 'price': 295.3},\n",
        "#  {'date': Timestamp('2022-07-01 00:00:00'), 'price': 295.3},\n",
        "#  {'date': Timestamp('2022-08-01 00:00:00'), 'price': 295.6}]"
      ]
    },
    {
      "cell_type": "markdown",
      "metadata": {
        "id": "H85JwfcoST5p"
      },
      "source": [
        "Now let's create a new list of dictionaries for each `price_date` has a key of `year`, a key of `month`, as well as the corresponding price."
      ]
    },
    {
      "cell_type": "code",
      "execution_count": 79,
      "metadata": {
        "colab": {
          "base_uri": "https://localhost:8080/"
        },
        "id": "2GfysgZBST5p",
        "outputId": "cb957a96-e93e-4acd-d7a9-25e771e70482"
      },
      "outputs": [
        {
          "output_type": "execute_result",
          "data": {
            "text/plain": [
              "[{'month': 9, 'year': 1997, 'price': 161.2},\n",
              " {'month': 10, 'year': 1997, 'price': 161.5},\n",
              " {'month': 11, 'year': 1997, 'price': 161.7}]"
            ]
          },
          "metadata": {},
          "execution_count": 79
        }
      ],
      "source": [
        "expanded_price_dates =   [{'month': price['date'].month,\n",
        "                           'year': price['date'].year,\n",
        "                           'price': price['price']}\n",
        "                          for price in price_dates]\n",
        "\n",
        "expanded_price_dates[:3]\n",
        "\n",
        "# [{'month': 9, 'year': 1997, 'price': 161.2},\n",
        "#  {'month': 10, 'year': 1997, 'price': 161.5},\n",
        "#  {'month': 11, 'year': 1997, 'price': 161.7}]"
      ]
    },
    {
      "cell_type": "code",
      "source": [],
      "metadata": {
        "id": "e-PY2Wvyaq-R"
      },
      "execution_count": null,
      "outputs": []
    }
  ],
  "metadata": {
    "kernelspec": {
      "display_name": "Python 3.8.9 64-bit",
      "language": "python",
      "name": "python3"
    },
    "language_info": {
      "codemirror_mode": {
        "name": "ipython",
        "version": 3
      },
      "file_extension": ".py",
      "mimetype": "text/x-python",
      "name": "python",
      "nbconvert_exporter": "python",
      "pygments_lexer": "ipython3",
      "version": "3.8.9"
    },
    "orig_nbformat": 4,
    "vscode": {
      "interpreter": {
        "hash": "31f2aee4e71d21fbe5cf8b01ff0e069b9275f58929596ceb00d14d90e3e16cd6"
      }
    },
    "colab": {
      "provenance": [],
      "include_colab_link": true
    }
  },
  "nbformat": 4,
  "nbformat_minor": 0
}