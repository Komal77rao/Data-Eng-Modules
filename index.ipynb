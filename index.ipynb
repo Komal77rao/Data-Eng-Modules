{
  "cells": [
    {
      "cell_type": "markdown",
      "metadata": {
        "id": "view-in-github",
        "colab_type": "text"
      },
      "source": [
        "<a href=\"https://colab.research.google.com/github/Komal77rao/Data-Eng-Modules/blob/main/index.ipynb\" target=\"_parent\"><img src=\"https://colab.research.google.com/assets/colab-badge.svg\" alt=\"Open In Colab\"/></a>"
      ]
    },
    {
      "cell_type": "markdown",
      "metadata": {
        "id": "i3uXyEFd3iXu"
      },
      "source": [
        "# ORM Mass Assignment Lab"
      ]
    },
    {
      "cell_type": "markdown",
      "metadata": {
        "id": "psYH4B5i3iYS"
      },
      "source": [
        "### Introduction"
      ]
    },
    {
      "cell_type": "markdown",
      "metadata": {
        "id": "wrbbDW1W3iYV"
      },
      "source": [
        "In this lesson, we'll familiarize ourselves with our new tools.  We'll practice working with mass assignment, our save function, and perhaps add a new function to our orm."
      ]
    },
    {
      "cell_type": "markdown",
      "metadata": {
        "id": "3QmS1Bhj3iYW"
      },
      "source": [
        "### Looking at Our Code"
      ]
    },
    {
      "cell_type": "markdown",
      "metadata": {
        "id": "MPiF2Jed3iYZ"
      },
      "source": [
        "Our codebase has two different folder, the `src` folder and our `migrations` folder.  Our migrations folder has sql code to create our tables.  In the `src` folder we'll see our `venue` and `category` classes, as well as the `orm` module."
      ]
    },
    {
      "cell_type": "markdown",
      "metadata": {
        "id": "OkrmvbYB3iYZ"
      },
      "source": [
        "### Creating Tables"
      ]
    },
    {
      "cell_type": "markdown",
      "metadata": {
        "id": "qFbP2rpR3iYd"
      },
      "source": [
        "Let's get started with setting up our database.  We should begin by creating a test database called `test_foursquare`, and then run the `create_tables.sql` file to create the tables on our database.\n",
        "\n",
        "Then let's login to our psql shell and view the tables.  We should see something like the following:"
      ]
    },
    {
      "cell_type": "markdown",
      "metadata": {
        "id": "ymenvvvo3iYj"
      },
      "source": [
        "<img src=\"https://github.com/apis-jigsaw/intro-orm-lab/blob/master/test_foursquare.png?raw=1\" width=\"60%\">"
      ]
    },
    {
      "cell_type": "markdown",
      "metadata": {
        "id": "SpR6UP823iYk"
      },
      "source": [
        "### Moving onto the tests"
      ]
    },
    {
      "cell_type": "markdown",
      "metadata": {
        "id": "pCTmCKLd3iYq"
      },
      "source": [
        "* Ok, now let's move onto the `test_venue.py` file.  That file connects to the database through the `test_conn` and `test_cursor` in the `db_utilities` file.  If we go to `db_utilities`, we'll see that `test_conn`  is not currently connected to our `test_foursquare` database.  So fix that by filling in the arguments of `dbname`, `user` and `password` to the `psycopg2.connect` function."
      ]
    },
    {
      "cell_type": "markdown",
      "metadata": {
        "id": "9k089U-v3iYs"
      },
      "source": [
        "* Then, we wrote out part of the `test_save_venue` for you.  But update the test so that it does in fact check that the `save` function works.  "
      ]
    },
    {
      "cell_type": "markdown",
      "metadata": {
        "id": "SnTAthel3iYs"
      },
      "source": [
        "* Now move onto the `test_category` file.  Fill in the `test_save_category` and `test_mass_assignment` tests, and then fill in the corresponding code in the `Category` class to get the tests working."
      ]
    },
    {
      "cell_type": "markdown",
      "metadata": {
        "id": "-7NrfcA-3iYv"
      },
      "source": [
        "### Adding to our Orm"
      ]
    },
    {
      "cell_type": "markdown",
      "metadata": {
        "id": "9hKUrXjB3iYx"
      },
      "source": [
        "* Next, up let's add some capability to the orm itself.  First, notice that the file has a new function there called `build_from_record`.  This function takes a record from the database, which is returned to us as a tuple, and instead returns to us a corresponding instance."
      ]
    },
    {
      "cell_type": "code",
      "execution_count": null,
      "metadata": {
        "id": "Ff8jwngZ3iYx"
      },
      "outputs": [],
      "source": [
        "def build_from_record(Class, record):\n",
        "    if not record: return None\n",
        "    attr = dict(zip(Class.columns, record))\n",
        "    obj = Class()\n",
        "    obj.__dict__ = attr\n",
        "    return obj"
      ]
    },
    {
      "cell_type": "markdown",
      "metadata": {
        "id": "4xZsI1153iY0"
      },
      "source": [
        "So for example, if we have our venue class:"
      ]
    },
    {
      "cell_type": "code",
      "execution_count": null,
      "metadata": {
        "id": "mY_PDTi_3iY0"
      },
      "outputs": [],
      "source": [
        "class Venue():\n",
        "    __table__ = 'venues'\n",
        "    columns = ['id','foursquare_id', 'name', 'price',\n",
        "            'rating', 'likes', 'menu_url']"
      ]
    },
    {
      "cell_type": "markdown",
      "metadata": {
        "id": "itWpUucu3iZA"
      },
      "source": [
        "And our query returns to us something like the following:"
      ]
    },
    {
      "cell_type": "code",
      "execution_count": null,
      "metadata": {
        "id": "nh1Gecsl3iZB"
      },
      "outputs": [],
      "source": [
        "from decimal import Decimal\n",
        "venue_record = (10, 'akjklsaj', 'Taco Place', 1, Decimal('3'), 12, 'www.foo.com', None)"
      ]
    },
    {
      "cell_type": "code",
      "execution_count": null,
      "metadata": {
        "id": "5axcVEvm3iZH"
      },
      "outputs": [],
      "source": [
        "venue = build_from_record(Venue, venue_record)"
      ]
    },
    {
      "cell_type": "code",
      "execution_count": null,
      "metadata": {
        "id": "Psk0trSu3iZH",
        "outputId": "bc555597-8f4a-46f4-f1af-1c8eb6673ac2"
      },
      "outputs": [
        {
          "data": {
            "text/plain": [
              "{'foursquare_id': 10,\n",
              " 'name': 'akjklsaj',\n",
              " 'price': 'Taco Place',\n",
              " 'rating': 1,\n",
              " 'likes': Decimal('3'),\n",
              " 'menu_url': 12}"
            ]
          },
          "execution_count": 11,
          "metadata": {},
          "output_type": "execute_result"
        }
      ],
      "source": [
        "venue.__dict__"
      ]
    },
    {
      "cell_type": "markdown",
      "metadata": {
        "id": "r1bUd5DR3iZy"
      },
      "source": [
        "Take a look and see if you can understand how the function works.  Now finish up by adding a new function to the orm file called `find_all`.  If we call `find_all(Category)`, `find_all` should return a list of all of the category records in the database, each one returned as a category instance."
      ]
    },
    {
      "cell_type": "markdown",
      "metadata": {
        "id": "uO8F3pBG3iZy"
      },
      "source": [
        "### Resources\n",
        "\n",
        "[Pytest](https://xvrdm.github.io/2017/07/03/testing-flask-sqlalchemy-database-with-pytest/)"
      ]
    },
    {
      "cell_type": "markdown",
      "metadata": {
        "id": "JH_umId43iZz"
      },
      "source": [
        "[Pytest fixtures](https://docs.pytest.org/en/stable/fixture.html)"
      ]
    }
  ],
  "metadata": {
    "kernelspec": {
      "display_name": "Python 3 (ipykernel)",
      "language": "python",
      "name": "python3"
    },
    "language_info": {
      "codemirror_mode": {
        "name": "ipython",
        "version": 3
      },
      "file_extension": ".py",
      "mimetype": "text/x-python",
      "name": "python",
      "nbconvert_exporter": "python",
      "pygments_lexer": "ipython3",
      "version": "3.9.12"
    },
    "colab": {
      "provenance": [],
      "include_colab_link": true
    }
  },
  "nbformat": 4,
  "nbformat_minor": 0
}