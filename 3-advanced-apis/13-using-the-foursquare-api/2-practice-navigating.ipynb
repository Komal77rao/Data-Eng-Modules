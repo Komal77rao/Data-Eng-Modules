{
  "cells": [
    {
      "cell_type": "markdown",
      "metadata": {
        "id": "QTh9JCrX-ETN"
      },
      "source": [
        "# Exploring Foursquare Lab"
      ]
    },
    {
      "cell_type": "markdown",
      "metadata": {
        "id": "UeuEILVo-ETT"
      },
      "source": [
        "### Introduction"
      ]
    },
    {
      "cell_type": "markdown",
      "metadata": {
        "id": "BoncIeEc-ETU"
      },
      "source": [
        "Ok, so in the last lesson, we practiced navigating the API."
      ]
    },
    {
      "cell_type": "markdown",
      "metadata": {
        "id": "PYS4qzlc-ETV"
      },
      "source": [
        "Now that we're able to make requests to the api, let's start pulling some data"
      ]
    },
    {
      "cell_type": "markdown",
      "metadata": {
        "id": "p7MrUyLw-ETW"
      },
      "source": [
        "### Using the API"
      ]
    },
    {
      "cell_type": "markdown",
      "metadata": {
        "id": "-0MKKrwg-ETW"
      },
      "source": [
        "Let's start by copying over the URL that Foursquare provided us in the documentation [here](https://location.foursquare.com/developer/reference/place-details)."
      ]
    },
    {
      "cell_type": "markdown",
      "metadata": {
        "id": "xNPD7Wql-ETX"
      },
      "source": [
        "1. First, we'll write a function that returns the root url for search."
      ]
    },
    {
      "cell_type": "markdown",
      "metadata": {
        "id": "mH2bI7xd-ETX"
      },
      "source": [
        "> We did it for you."
      ]
    },
    {
      "cell_type": "code",
      "execution_count": 11,
      "metadata": {
        "id": "oKW5jVCM-ETY"
      },
      "outputs": [],
      "source": [
        "import requests\n",
        "\n",
        "def search_url():\n",
        "    url = \"https://api.foursquare.com/v3/places/search\"\n",
        "    return url"
      ]
    },
    {
      "cell_type": "code",
      "execution_count": 12,
      "metadata": {
        "id": "CHqjpinI-ETa",
        "outputId": "ad63cc9f-9b89-436b-95f8-f7f6c6c8d14e",
        "colab": {
          "base_uri": "https://localhost:8080/",
          "height": 35
        }
      },
      "outputs": [
        {
          "output_type": "execute_result",
          "data": {
            "text/plain": [
              "'https://api.foursquare.com/v3/places/search'"
            ],
            "application/vnd.google.colaboratory.intrinsic+json": {
              "type": "string"
            }
          },
          "metadata": {},
          "execution_count": 12
        }
      ],
      "source": [
        "search_url()\n",
        "# \"url = \"https://api.foursquare.com/v3/places/search\""
      ]
    },
    {
      "cell_type": "markdown",
      "metadata": {
        "id": "2ltymqB3-ETd"
      },
      "source": [
        "2. Querying Params"
      ]
    },
    {
      "cell_type": "markdown",
      "metadata": {
        "id": "i5DPRX4I-ETd"
      },
      "source": [
        "Now write a function that will take in a dictionary of parameters (which you can see below) and then return the parameters string -- with each set of parameters separated by a `&`."
      ]
    },
    {
      "cell_type": "code",
      "execution_count": 110,
      "metadata": {
        "id": "r-_ANaEa-ETf",
        "outputId": "2fbcbda9-6541-4151-816b-1f575c52979a",
        "colab": {
          "base_uri": "https://localhost:8080/",
          "height": 35
        }
      },
      "outputs": [
        {
          "output_type": "execute_result",
          "data": {
            "text/plain": [
              "'ll=40.7,-74&query=tacos'"
            ],
            "application/vnd.google.colaboratory.intrinsic+json": {
              "type": "string"
            }
          },
          "metadata": {},
          "execution_count": 110
        }
      ],
      "source": [
        "def params_string(params):\n",
        "   return \"&\".join([param[0] + \"=\" +param[1] for param in list(params.items())])\n",
        "\n",
        "\n",
        "params = {'ll': \"40.7,-74\", \"query\": \"tacos\"}\n",
        "params_string(params)\n",
        "# 'll=40.7,-74&query=tacos'"
      ]
    },
    {
      "cell_type": "markdown",
      "metadata": {
        "id": "qo21olZo-ETg"
      },
      "source": [
        "3. Constructing the full string"
      ]
    },
    {
      "cell_type": "markdown",
      "metadata": {
        "id": "NcyDzp7T-ETg"
      },
      "source": [
        "Ok, now let's write a function that calls the `search_url` function to return the root_url, and calls the params string function to return the full url."
      ]
    },
    {
      "cell_type": "code",
      "execution_count": 14,
      "metadata": {
        "id": "ZYNuZSLD-ETg"
      },
      "outputs": [],
      "source": [
        "import requests\n",
        "\n",
        "def query_venues_url(params):\n",
        "    return search_url()+\"?\"+params_string(params)"
      ]
    },
    {
      "cell_type": "code",
      "execution_count": 15,
      "metadata": {
        "id": "tpyjTI-P-ETh",
        "outputId": "55aca839-ca66-4f49-a2d6-617173f31e99",
        "colab": {
          "base_uri": "https://localhost:8080/",
          "height": 35
        }
      },
      "outputs": [
        {
          "output_type": "execute_result",
          "data": {
            "text/plain": [
              "'https://api.foursquare.com/v3/places/search?ll=40.7,-74&query=tacos'"
            ],
            "application/vnd.google.colaboratory.intrinsic+json": {
              "type": "string"
            }
          },
          "metadata": {},
          "execution_count": 15
        }
      ],
      "source": [
        "params = {'ll': \"40.7,-74\", \"query\": \"tacos\"}\n",
        "query_venues_url(params)\n",
        "# # 'https://api.foursquare.com/v3/places/search?ll=40.7,-74&query=tacos'"
      ]
    },
    {
      "cell_type": "markdown",
      "metadata": {
        "id": "3dL3Fy8m-ETh"
      },
      "source": [
        "6. Querying the API"
      ]
    },
    {
      "cell_type": "markdown",
      "metadata": {
        "id": "WgpBIId9-ETh"
      },
      "source": [
        "Now query the API, using the `query_venues_url` function above.  \n",
        "\n",
        "Remember that you'll also need to pass through the headers with the authorization when making the request.\n",
        "\n",
        "But the url should be generated with the `query_venues_url` function."
      ]
    },
    {
      "cell_type": "code",
      "execution_count": 18,
      "metadata": {
        "id": "nnZcqQk6-ETh",
        "outputId": "02e22116-b3c2-4af0-99e0-8376fe164199",
        "colab": {
          "base_uri": "https://localhost:8080/"
        }
      },
      "outputs": [
        {
          "output_type": "execute_result",
          "data": {
            "text/plain": [
              "<Response [200]>"
            ]
          },
          "metadata": {},
          "execution_count": 18
        }
      ],
      "source": [
        "# fill in headers here\n",
        "headers = {\n",
        "     \"accept\": \"application/json\",\n",
        "    \"Authorization\": \"fsq3fb+kWITm5bT590a1mZkvfKsekW8VR7dj8XlttrYKpTU=\"\n",
        "}\n",
        "url = query_venues_url(params)\n",
        "response = requests.get(url, headers=headers)\n",
        "response"
      ]
    },
    {
      "cell_type": "markdown",
      "metadata": {
        "id": "385sWObh-ETi"
      },
      "source": [
        "Finally, let's create a function called `query_api` that provided parameters returns our json response data from the API."
      ]
    },
    {
      "cell_type": "code",
      "execution_count": 19,
      "metadata": {
        "id": "TIWQwp0q-ETi"
      },
      "outputs": [],
      "source": [
        "import requests\n",
        "def query_api(params):\n",
        "  headers = {\n",
        "     \"accept\": \"application/json\",\n",
        "    \"Authorization\": \"fsq3fb+kWITm5bT590a1mZkvfKsekW8VR7dj8XlttrYKpTU=\"}\n",
        "  url = query_venues_url(params)\n",
        "  response = requests.get(url, headers=headers)\n",
        "  return response.json()\n",
        "\n",
        ""
      ]
    },
    {
      "cell_type": "code",
      "execution_count": null,
      "metadata": {
        "id": "cJhTT7sR-ETi"
      },
      "outputs": [],
      "source": [
        "result = query_api(params)\n",
        "result\n",
        "# {'results': [{'fsq_id': '5d5f24ec09484500079aee00',\n",
        "#    'categories': [{'id': 13306,\n",
        "#      'name': 'Taco Restaurant',\n",
        "#      'icon': {'prefix': 'https://ss3.4sqi.net/img/categories_v2/food/taco_',\n",
        "#       'suffix': '.png'}}],"
      ]
    },
    {
      "cell_type": "markdown",
      "metadata": {
        "id": "dsd4Yq96-ETi"
      },
      "source": [
        "7. Query venues"
      ]
    },
    {
      "cell_type": "markdown",
      "metadata": {
        "id": "a1uhvpEW-ETi"
      },
      "source": [
        "Now write a method that only returns a list of venues.  Notice that each venue has a key of `fsq_id` which is the foursquare id."
      ]
    },
    {
      "cell_type": "code",
      "execution_count": 29,
      "metadata": {
        "id": "9UtIgPV0-ETj"
      },
      "outputs": [],
      "source": [
        "def venue_search(params):\n",
        "  result = query_api(params)\n",
        "  return [venue for venue in result['results']]\n",
        "\n",
        ""
      ]
    },
    {
      "cell_type": "code",
      "execution_count": 43,
      "metadata": {
        "id": "yBW3b3V2-ETj",
        "outputId": "4408dbb1-003b-4602-9f5e-914417619fa8",
        "colab": {
          "base_uri": "https://localhost:8080/"
        }
      },
      "outputs": [
        {
          "output_type": "execute_result",
          "data": {
            "text/plain": [
              "{'fsq_id': '5d5f24ec09484500079aee00',\n",
              " 'categories': [{'id': 13306,\n",
              "   'name': 'Taco Restaurant',\n",
              "   'short_name': 'Tacos',\n",
              "   'plural_name': 'Taco Restaurants',\n",
              "   'icon': {'prefix': 'https://ss3.4sqi.net/img/categories_v2/food/taco_',\n",
              "    'suffix': '.png'}}],\n",
              " 'chains': [],\n",
              " 'closed_bucket': 'VeryLikelyOpen',\n",
              " 'distance': 1748,\n",
              " 'geocodes': {'drop_off': {'latitude': 40.71416, 'longitude': -74.008566},\n",
              "  'main': {'latitude': 40.71429, 'longitude': -74.00873},\n",
              "  'roof': {'latitude': 40.71429, 'longitude': -74.00873}},\n",
              " 'link': '/v3/places/5d5f24ec09484500079aee00',\n",
              " 'location': {'address': '136 Church St',\n",
              "  'census_block': '360610021001006',\n",
              "  'country': 'US',\n",
              "  'cross_street': 'btw Murray & Warren',\n",
              "  'dma': 'New York',\n",
              "  'formatted_address': '136 Church St (btw Murray & Warren), New York, NY 10007',\n",
              "  'locality': 'New York',\n",
              "  'postcode': '10007',\n",
              "  'region': 'NY'},\n",
              " 'name': 'Los Tacos No. 1',\n",
              " 'related_places': {},\n",
              " 'timezone': 'America/New_York'}"
            ]
          },
          "metadata": {},
          "execution_count": 43
        }
      ],
      "source": [
        "venues = venue_search(params)\n",
        "\n",
        "venue = venues[0]\n",
        "venue\n",
        "# {'fsq_id': '5d5f24ec09484500079aee00',\n",
        "#  'categories': [{'id': 13306,\n",
        "#    'name': 'Taco Restaurant',\n",
        "#    'icon': {'prefix': 'https://ss3.4sqi.net/img/categories_v2/food/taco_',\n",
        "#     'suffix': '.png'}}],\n",
        "#  'chains': [],\n",
        "#  'distance': 1748,\n",
        "#  'geocodes': {'main': {'latitude': 40.714345, 'longitude': -74.008688},\n",
        "#   'roof': {'latitude': 40.714345, 'longitude': -74.008688}},\n",
        "#  'link': '/v3/places/5d5f24ec09484500079aee00',\n",
        "#  'location': {'address': '136 Church St',"
      ]
    },
    {
      "cell_type": "markdown",
      "metadata": {
        "id": "J_t4s_AA-ETj"
      },
      "source": [
        "8. Write a method that will take a venue, and just return the id, name, and location as values -- where the id from the api comes from the `fsq_id`."
      ]
    },
    {
      "cell_type": "code",
      "execution_count": 46,
      "metadata": {
        "id": "4eFPTr_r-ETk"
      },
      "outputs": [],
      "source": [
        "def extract_details_from_venue(venue):\n",
        "  id = venue['fsq_id']\n",
        "  name = venue['name']\n",
        "  location = [venue['geocodes']['roof']['latitude'], venue['geocodes']['roof']['longitude']]\n",
        "  return {'id' : id, 'name' : name, 'location' : location}\n"
      ]
    },
    {
      "cell_type": "code",
      "execution_count": 47,
      "metadata": {
        "id": "rrwYi4Tm-ETk",
        "outputId": "8a78bfcf-462e-4981-801b-7127cf65e821",
        "colab": {
          "base_uri": "https://localhost:8080/"
        }
      },
      "outputs": [
        {
          "output_type": "execute_result",
          "data": {
            "text/plain": [
              "{'id': '5d5f24ec09484500079aee00',\n",
              " 'name': 'Los Tacos No. 1',\n",
              " 'location': [40.71429, -74.00873]}"
            ]
          },
          "metadata": {},
          "execution_count": 47
        }
      ],
      "source": [
        "extract_details_from_venue(venue)\n",
        "# {'id': '5b2932a0f5e9d70039787cf2',\n",
        "#  'name': 'Los Tacos Al Pastor',\n",
        "#  'location': [40.70243624175102, -73.98753900608666]}"
      ]
    },
    {
      "cell_type": "markdown",
      "metadata": {
        "id": "fUSuFLGx-ETk"
      },
      "source": [
        "9. Now write a function that does this for a list of venues."
      ]
    },
    {
      "cell_type": "code",
      "execution_count": 48,
      "metadata": {
        "id": "gWOc2CJX-ETk"
      },
      "outputs": [],
      "source": [
        "def extract_details_from_venues(venues):\n",
        "  return [extract_details_from_venue(venue) for venue in venues]\n",
        "\n",
        "\n",
        ""
      ]
    },
    {
      "cell_type": "code",
      "execution_count": 49,
      "metadata": {
        "id": "mdVYGxsN-ETk",
        "outputId": "743199ff-f3de-4e7d-b267-7e4ff56bcde6",
        "colab": {
          "base_uri": "https://localhost:8080/"
        }
      },
      "outputs": [
        {
          "output_type": "execute_result",
          "data": {
            "text/plain": [
              "[{'id': '5d5f24ec09484500079aee00',\n",
              "  'name': 'Los Tacos No. 1',\n",
              "  'location': [40.71429, -74.00873]},\n",
              " {'id': '61d5d22d8882c054d234c406',\n",
              "  'name': 'Los Tacos No. 1',\n",
              "  'location': [40.726213, -73.994709]},\n",
              " {'id': '5519c8d2498e63bcb8cf4f58',\n",
              "  'name': \"Chilo's\",\n",
              "  'location': [40.6883, -73.956838]},\n",
              " {'id': '5196b9ff498e8a6be4336a03',\n",
              "  'name': 'Los Tacos No. 1',\n",
              "  'location': [40.742011, -74.004939]}]"
            ]
          },
          "metadata": {},
          "execution_count": 49
        }
      ],
      "source": [
        "extract_details_from_venues(venues)[:4]\n",
        "# [{'id': '5d5f24ec09484500079aee00',\n",
        "#   'name': 'Los Tacos No 1 Church',\n",
        "#   'location': [40.714345, -74.008688]},\n",
        "#  {'id': '61d5d22d8882c054d234c406',\n",
        "#   'name': 'Los Tacos No. 1',\n",
        "#   'location': [40.726168, -73.99466]},\n",
        "#  {'id': '4c38ced2ae2da593576301c6',\n",
        "#   'name': 'Tacombi',\n",
        "#   'location': [40.723916, -73.993876]},\n",
        "#  {'id': '5519c8d2498e63bcb8cf4f58',\n",
        "#   'name': \"Chilo's\",\n",
        "#   'location': [40.6883, -73.956838]}]"
      ]
    },
    {
      "cell_type": "markdown",
      "metadata": {
        "id": "3-1WBeXL-ETl"
      },
      "source": [
        "### Working with an Individual Venue"
      ]
    },
    {
      "cell_type": "markdown",
      "metadata": {
        "id": "nACXx4B6-ETl"
      },
      "source": [
        "For this section, you will need to move from working with the Search resource, as we have been above, to working with the [Foursquare Place Details](https://location.foursquare.com/developer/reference/place-details) resource."
      ]
    },
    {
      "cell_type": "markdown",
      "metadata": {
        "id": "9-v236HF-ETl"
      },
      "source": [
        "1. Write a function that provided an id returns the corresponding json of an individual restaurant."
      ]
    },
    {
      "cell_type": "code",
      "execution_count": 114,
      "metadata": {
        "id": "A8zHeXdW-ETl"
      },
      "outputs": [],
      "source": [
        "restaurant_id = \"5196b9ff498e8a6be4336a03\"\n",
        "def get_details(restaurant_id):\n",
        "    url = f\"https://api.foursquare.com/v3/places/{restaurant_id}\"\n",
        "\n",
        "    headers = {\n",
        "    \"accept\": \"application/json\",\n",
        "    \"Authorization\": \"fsq3fb+kWITm5bT590a1mZkvfKsekW8VR7dj8XlttrYKpTU=\"}\n",
        "\n",
        "    response = requests.get(url, headers=headers)\n",
        "\n",
        "    return response.json()"
      ]
    },
    {
      "cell_type": "code",
      "execution_count": 115,
      "metadata": {
        "id": "_VwOEXyj-ETl",
        "outputId": "caf3d9d4-517a-45cd-d2b5-7912b11fbc2f",
        "colab": {
          "base_uri": "https://localhost:8080/"
        }
      },
      "outputs": [
        {
          "output_type": "execute_result",
          "data": {
            "text/plain": [
              "{'fsq_id': '5196b9ff498e8a6be4336a03',\n",
              " 'categories': [{'id': 13145,\n",
              "   'name': 'Fast Food Restaurant',\n",
              "   'short_name': 'Fast Food',\n",
              "   'plural_name': 'Fast Food Restaurants',\n",
              "   'icon': {'prefix': 'https://ss3.4sqi.net/img/categories_v2/food/fastfood_',\n",
              "    'suffix': '.png'}},\n",
              "  {'id': 13297,\n",
              "   'name': 'Latin American Restaurant',\n",
              "   'short_name': 'Latin American',\n",
              "   'plural_name': 'Latin American Restaurants',\n",
              "   'icon': {'prefix': 'https://ss3.4sqi.net/img/categories_v2/food/latinamerican_',\n",
              "    'suffix': '.png'}},\n",
              "  {'id': 13306,\n",
              "   'name': 'Taco Restaurant',\n",
              "   'short_name': 'Tacos',\n",
              "   'plural_name': 'Taco Restaurants',\n",
              "   'icon': {'prefix': 'https://ss3.4sqi.net/img/categories_v2/food/taco_',\n",
              "    'suffix': '.png'}}],\n",
              " 'chains': [],\n",
              " 'closed_bucket': 'LikelyOpen',\n",
              " 'geocodes': {'main': {'latitude': 40.742011, 'longitude': -74.004939},\n",
              "  'roof': {'latitude': 40.742011, 'longitude': -74.004939}},\n",
              " 'link': '/v3/places/5196b9ff498e8a6be4336a03',\n",
              " 'location': {'address': '75 9th Ave',\n",
              "  'census_block': '360610083003002',\n",
              "  'country': 'US',\n",
              "  'cross_street': '',\n",
              "  'dma': 'New York',\n",
              "  'formatted_address': '75 9th Ave, New York, NY 10011',\n",
              "  'locality': 'New York',\n",
              "  'postcode': '10011',\n",
              "  'region': 'NY'},\n",
              " 'name': 'Los Tacos No. 1',\n",
              " 'related_places': {},\n",
              " 'timezone': 'America/New_York'}"
            ]
          },
          "metadata": {},
          "execution_count": 115
        }
      ],
      "source": [
        "venue_details = get_details(restaurant_id)\n",
        "venue_details\n",
        "\n",
        "# {'fsq_id': '5b2932a0f5e9d70039787cf2',\n",
        "#  'categories': [{'id': 13306,\n",
        "#    'name': 'Taco Restaurant',\n",
        "#    'icon': {'prefix': 'https://ss3.4sqi.net/img/categories_v2/food/taco_',\n",
        "#     'suffix': '.png'}}],\n",
        "#  'chains': [],\n",
        "#  'geocodes': {'main': {'latitude': 40.702628, 'longitude': -73.987366},\n",
        "#   'roof': {'latitude': 40.702628, 'longitude': -73.987366}},\n",
        "#  'link': '/v3/places/5b2932a0f5e9d70039787cf2',\n",
        "#  'location': {'address': '141 Front St',\n",
        "#   'census_block': '360470021002009',\n",
        "#   'country': 'US',\n",
        "#   'cross_street': 'Pearl St',\n",
        "#   'dma': 'New York',\n",
        "#   'formatted_address': '141 Front St (Pearl St), New York, NY 11201',\n",
        "#   'locality': 'New York',\n",
        "#   'postcode': '11201',\n",
        "#   'region': 'NY'},\n",
        "#  'name': 'Los Tacos Al Pastor',\n",
        "#  'related_places': {},\n",
        "#  'timezone': 'America/New_York'}\n"
      ]
    },
    {
      "cell_type": "markdown",
      "metadata": {
        "id": "jehFXiYU-ETl"
      },
      "source": [
        "2. Write a function that retrieves the list of categories from an individual restaurant."
      ]
    },
    {
      "cell_type": "code",
      "execution_count": 116,
      "metadata": {
        "id": "oCpbRQq0-ETt"
      },
      "outputs": [],
      "source": [
        "def extract_categories(venue):\n",
        "  category = venue['categories']\n",
        "  return [one_category['name'] for one_category in category]\n",
        "\n",
        ""
      ]
    },
    {
      "cell_type": "code",
      "execution_count": 102,
      "metadata": {
        "id": "HQTKS2_J-ETt",
        "outputId": "d864f423-1001-4ab3-d458-04afc033e509",
        "colab": {
          "base_uri": "https://localhost:8080/"
        }
      },
      "outputs": [
        {
          "output_type": "execute_result",
          "data": {
            "text/plain": [
              "['Fast Food Restaurant', 'Latin American Restaurant', 'Taco Restaurant']"
            ]
          },
          "metadata": {},
          "execution_count": 102
        }
      ],
      "source": [
        "extract_categories(venue_details)\n",
        "# ['Taco Restaurant']"
      ]
    },
    {
      "cell_type": "markdown",
      "metadata": {
        "id": "_AiFHp2a-ETu"
      },
      "source": [
        "3. Write a function that takes a query, and returns the restaurant name, location, and id (the fsq_id), and a list of categories.\n",
        "   \n",
        "> The list of dictionaries should be **sorted** by the id of each venue\n",
        "\n"
      ]
    },
    {
      "cell_type": "code",
      "execution_count": 119,
      "metadata": {
        "id": "fGCuG7jS-ETu"
      },
      "outputs": [],
      "source": [
        "def find_and_sort(params):\n",
        "\n",
        "  venues = venue_search(params)\n",
        "  details = extract_details_from_venues(venues)\n",
        "\n",
        "  for venue in details:\n",
        "     id = venue['id']\n",
        "     name = venue['name']\n",
        "     location = [venue['geocodes']['roof']['latitude'], venue['geocodes']['roof']['longitude']]\n",
        "     categories = extract_categories(venue)\n",
        "     return {'id' : id, 'name' : name, 'location' : location, 'categories' : categories}\n"
      ]
    },
    {
      "cell_type": "code",
      "execution_count": 120,
      "metadata": {
        "id": "vS3lu5ha-ETv",
        "outputId": "3e396788-7d6b-4796-dd59-66e9071a1ee4",
        "colab": {
          "base_uri": "https://localhost:8080/",
          "height": 367
        }
      },
      "outputs": [
        {
          "output_type": "error",
          "ename": "KeyError",
          "evalue": "ignored",
          "traceback": [
            "\u001b[0;31m---------------------------------------------------------------------------\u001b[0m",
            "\u001b[0;31mKeyError\u001b[0m                                  Traceback (most recent call last)",
            "\u001b[0;32m<ipython-input-120-4f7db1a91ac6>\u001b[0m in \u001b[0;36m<cell line: 1>\u001b[0;34m()\u001b[0m\n\u001b[0;32m----> 1\u001b[0;31m \u001b[0msorted_vens\u001b[0m \u001b[0;34m=\u001b[0m \u001b[0mfind_and_sort\u001b[0m\u001b[0;34m(\u001b[0m\u001b[0mparams\u001b[0m\u001b[0;34m)\u001b[0m\u001b[0;34m\u001b[0m\u001b[0;34m\u001b[0m\u001b[0m\n\u001b[0m\u001b[1;32m      2\u001b[0m \u001b[0msorted_vens\u001b[0m\u001b[0;34m\u001b[0m\u001b[0;34m\u001b[0m\u001b[0m\n\u001b[1;32m      3\u001b[0m \u001b[0;34m\u001b[0m\u001b[0m\n\u001b[1;32m      4\u001b[0m \u001b[0;31m# [{'id': '5196b9ff498e8a6be4336a03',\u001b[0m\u001b[0;34m\u001b[0m\u001b[0;34m\u001b[0m\u001b[0m\n\u001b[1;32m      5\u001b[0m \u001b[0;31m#   'name': 'Los Tacos No. 1',\u001b[0m\u001b[0;34m\u001b[0m\u001b[0;34m\u001b[0m\u001b[0m\n",
            "\u001b[0;32m<ipython-input-119-2f28741f8a13>\u001b[0m in \u001b[0;36mfind_and_sort\u001b[0;34m(params)\u001b[0m\n\u001b[1;32m      7\u001b[0m      \u001b[0mid\u001b[0m \u001b[0;34m=\u001b[0m \u001b[0mvenue\u001b[0m\u001b[0;34m[\u001b[0m\u001b[0;34m'id'\u001b[0m\u001b[0;34m]\u001b[0m\u001b[0;34m\u001b[0m\u001b[0;34m\u001b[0m\u001b[0m\n\u001b[1;32m      8\u001b[0m      \u001b[0mname\u001b[0m \u001b[0;34m=\u001b[0m \u001b[0mvenue\u001b[0m\u001b[0;34m[\u001b[0m\u001b[0;34m'name'\u001b[0m\u001b[0;34m]\u001b[0m\u001b[0;34m\u001b[0m\u001b[0;34m\u001b[0m\u001b[0m\n\u001b[0;32m----> 9\u001b[0;31m      \u001b[0mlocation\u001b[0m \u001b[0;34m=\u001b[0m \u001b[0;34m[\u001b[0m\u001b[0mvenue\u001b[0m\u001b[0;34m[\u001b[0m\u001b[0;34m'geocodes'\u001b[0m\u001b[0;34m]\u001b[0m\u001b[0;34m[\u001b[0m\u001b[0;34m'roof'\u001b[0m\u001b[0;34m]\u001b[0m\u001b[0;34m[\u001b[0m\u001b[0;34m'latitude'\u001b[0m\u001b[0;34m]\u001b[0m\u001b[0;34m,\u001b[0m \u001b[0mvenue\u001b[0m\u001b[0;34m[\u001b[0m\u001b[0;34m'geocodes'\u001b[0m\u001b[0;34m]\u001b[0m\u001b[0;34m[\u001b[0m\u001b[0;34m'roof'\u001b[0m\u001b[0;34m]\u001b[0m\u001b[0;34m[\u001b[0m\u001b[0;34m'longitude'\u001b[0m\u001b[0;34m]\u001b[0m\u001b[0;34m]\u001b[0m\u001b[0;34m\u001b[0m\u001b[0;34m\u001b[0m\u001b[0m\n\u001b[0m\u001b[1;32m     10\u001b[0m      \u001b[0mcategories\u001b[0m \u001b[0;34m=\u001b[0m \u001b[0mextract_categories\u001b[0m\u001b[0;34m(\u001b[0m\u001b[0mvenue\u001b[0m\u001b[0;34m)\u001b[0m\u001b[0;34m\u001b[0m\u001b[0;34m\u001b[0m\u001b[0m\n\u001b[1;32m     11\u001b[0m      \u001b[0;32mreturn\u001b[0m \u001b[0;34m{\u001b[0m\u001b[0;34m'id'\u001b[0m \u001b[0;34m:\u001b[0m \u001b[0mid\u001b[0m\u001b[0;34m,\u001b[0m \u001b[0;34m'name'\u001b[0m \u001b[0;34m:\u001b[0m \u001b[0mname\u001b[0m\u001b[0;34m,\u001b[0m \u001b[0;34m'location'\u001b[0m \u001b[0;34m:\u001b[0m \u001b[0mlocation\u001b[0m\u001b[0;34m,\u001b[0m \u001b[0;34m'categories'\u001b[0m \u001b[0;34m:\u001b[0m \u001b[0mcategories\u001b[0m\u001b[0;34m}\u001b[0m\u001b[0;34m\u001b[0m\u001b[0;34m\u001b[0m\u001b[0m\n",
            "\u001b[0;31mKeyError\u001b[0m: 'geocodes'"
          ]
        }
      ],
      "source": [
        "\n",
        "sorted_vens = find_and_sort(params)\n",
        "sorted_vens\n",
        "\n",
        "# [{'id': '5196b9ff498e8a6be4336a03',\n",
        "#   'name': 'Los Tacos No. 1',\n",
        "#   'location': [40.742011, -74.004939],\n",
        "#   'categories': ['Fast Food Restaurant',\n",
        "#    'Latin American Restaurant',\n",
        "#    'Taco Restaurant']},\n",
        "#  {'id': '5519c8d2498e63bcb8cf4f58',\n",
        "#   'name': \"Chilo's\",\n",
        "#   'location': [40.6883, -73.956838],\n",
        "#   'categories': ['Bar', 'Taco Restaurant']},\n",
        "#  {'id': '59580ce6db1d8148fee3d383',\n",
        "#   'name': 'Los Tacos No. 1',\n",
        "#   'location': [40.75743, -73.987507],\n",
        "#   'categories': ['Fast Food Restaurant',\n",
        "#    'Latin American Restaurant',\n",
        "#    'Taco Restaurant']},\n",
        "#  {'id': '5d5f24ec09484500079aee00',\n",
        "#   'name': 'Los Tacos No. 1',\n",
        "#   'location': [40.71429, -74.00873],\n",
        "#   'categories': ['Taco Restaurant']},\n",
        "#  {'id': '5e2f42dd354cad00073ba473',\n",
        "#   'name': 'Taqueria Al Pastor',\n",
        "#   'location': [40.703297, -73.918103],\n",
        "#   'categories': ['Taco Restaurant']}]"
      ]
    },
    {
      "cell_type": "markdown",
      "metadata": {
        "id": "vjxQuoOj-ETw"
      },
      "source": [
        "4. Write a function to take a search query, and then plot the top results in a map with the folium library"
      ]
    }
  ],
  "metadata": {
    "kernelspec": {
      "display_name": "Python 3 (ipykernel)",
      "language": "python",
      "name": "python3"
    },
    "language_info": {
      "codemirror_mode": {
        "name": "ipython",
        "version": 3
      },
      "file_extension": ".py",
      "mimetype": "text/x-python",
      "name": "python",
      "nbconvert_exporter": "python",
      "pygments_lexer": "ipython3",
      "version": "3.11.5"
    },
    "colab": {
      "provenance": []
    }
  },
  "nbformat": 4,
  "nbformat_minor": 0
}