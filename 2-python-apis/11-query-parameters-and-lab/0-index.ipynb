{
  "cells": [
    {
      "cell_type": "markdown",
      "metadata": {
        "id": "_sqhn8GqRnLE"
      },
      "source": [
        "# APIs with Query Parameters Lab"
      ]
    },
    {
      "cell_type": "markdown",
      "metadata": {
        "id": "joxZpujdRnLH"
      },
      "source": [
        "### Working with NYC Open Data\n",
        "\n",
        "In this lab, we'll become practice working with APIs with some of the data provided by NYC open data."
      ]
    },
    {
      "cell_type": "markdown",
      "metadata": {
        "id": "ApDbbXeNRnLH"
      },
      "source": [
        "<img src=\"https://github.com/jigsawlabs/curriculum-assets/blob/master/introduction-to-apis/10-query-parameters-and-lab/nyc-data-sets.png?raw=true\" width=\"60%\"/>"
      ]
    },
    {
      "cell_type": "markdown",
      "metadata": {
        "id": "WUbuvrekRnLI"
      },
      "source": [
        "Just [click here](https://opendata.cityofnewyork.us/data/) to reach the API.  There you will find datasets on anything from food carts in NYC, to NYC public school testing.  The one that we are looking for is NYC restaurant inspections, [found here](https://data.cityofnewyork.us/Health/DOHMH-New-York-City-Restaurant-Inspection-Results/43nn-pn8j).  Once you click there, you click on the button that says API to the right, and then onto API Docs (next to developer portal), you will find what we are looking for."
      ]
    },
    {
      "cell_type": "markdown",
      "metadata": {
        "id": "jug95C3gRnLI"
      },
      "source": [
        "<img src=\"https://github.com/jigsawlabs/curriculum-assets/blob/master/introduction-to-apis/10-query-parameters-and-lab/nyc-restaurant-api.png?raw=true\" >"
      ]
    },
    {
      "cell_type": "markdown",
      "metadata": {
        "id": "PVFONEGORnLI"
      },
      "source": [
        "Or you can just [click here](https://dev.socrata.com/foundry/data.cityofnewyork.us/9w7m-hzhe).  Now scroll down until you reach the Getting Started section."
      ]
    },
    {
      "cell_type": "markdown",
      "metadata": {
        "id": "XE9VVKcbRnLI"
      },
      "source": [
        "<img src=\"https://github.com/jigsawlabs/curriculum-assets/blob/master/introduction-to-apis/10-query-parameters-and-lab/getting-started.png?raw=true\" width=\"40%\"/>"
      ]
    },
    {
      "cell_type": "markdown",
      "metadata": {
        "id": "m_GPJJqARnLJ"
      },
      "source": [
        "In the documentation, you may see the word API endpoint.  API endpoint is just another word for url.  You can click on that URL to hit the API with your web browser."
      ]
    },
    {
      "cell_type": "markdown",
      "metadata": {
        "id": "Lmem2zfNRnLJ"
      },
      "source": [
        "If you did so, you may notice quite a long list of restaurants.  Let's try to avoid that by using query parameters to scope down our results.  If you scroll down in the documentation, you'll find a section called `Fields`, and then you'll see a number of blue bars that we can click on.  Let's click on the one that says `cuisine description`, so that we can see how to filter our results to only include American food."
      ]
    },
    {
      "cell_type": "markdown",
      "metadata": {
        "id": "h96EkdpZRnLJ"
      },
      "source": [
        "<img src=\"https://github.com/jigsawlabs/curriculum-assets/blob/master/introduction-to-apis/10-query-parameters-and-lab/cuisine-description.png?raw=true\" >"
      ]
    },
    {
      "cell_type": "markdown",
      "metadata": {
        "id": "V12lprDNRnLJ"
      },
      "source": [
        "That URL is what we are looking for, it filters the results appropriately using query parameters.  Notice our old pattern.\n",
        "\n",
        "We have the regular url.  Then the `?` kicks off the query parameters.  Then we have the `field=value` pattern of `cuisine_description=Caribbean`.  (Note that if the Carribean is not capitalized, the query will not work.)"
      ]
    },
    {
      "cell_type": "markdown",
      "metadata": {
        "id": "EzkBze6TRnLJ"
      },
      "source": [
        "### Combining Query Parameters\n",
        "\n",
        "Now, let's say if we want to see if American restaurants with violations that are in the zipcode 10001.  Well looking at [the documentation](https://dev.socrata.com/foundry/data.cityofnewyork.us/9w7m-hzhe), we should be to specify `zipcode=10001` to only see the first two Carribean restaurants.  How do we use more than one query parameter simultaneously?\n",
        "\n",
        "Everything is the same except that we separate the `field=value` pairs with a `&`.\n",
        "\n",
        "[`\"https://data.cityofnewyork.us/resource/9w7m-hzhe.json?cuisine_description=American&zipcode=10001\"`](https://data.cityofnewyork.us/resource/9w7m-hzhe.json?cuisine_description=American&zipcode=10001)\n",
        "\n",
        "If you'll click on the link above, you'll see data scoped down to those values.\n",
        "\n",
        "The main take away from query parameters is the following:\n",
        "\n",
        "1. Query parameters begin with a `?`\n",
        "2. To combine query parameters separate each `field=value` pair with a `&`\n",
        "3. We can generally combine many query parameters together\n",
        "\n",
        "### Limiting Values\n",
        "\n",
        "Now in many APIs we can limit the number of values that we can return.  This is simply with another query parameter.  You can find the the information on limiting data, by clicking on the link `paging through data`, or [clicking here](https://dev.socrata.com/docs/paging.html#2.1).\n",
        "\n",
        "As it says, we simply limit the number of results with the field `$limit` and a value indicating the number of results to limit to.  So if we only want to see the first 3 results, we use the query parameter, `$limit=3`.\n",
        "\n",
        "### Time for Python\n",
        "\n",
        "Ok, now it's time to make the request with Python.  \n",
        "\n",
        "In Python, write out the code to reach the url listed above, `\"https://data.cityofnewyork.us/resource/9w7m-hzhe.json\"` but limit the number of results to just one result.\n",
        "\n",
        "Next, make a request to look for restaurants in the zipcode 10001, that are Italian restaurants, and limit it to just three results.\n",
        "\n",
        "Finally, make a request to the API to find the three Italian restaurants in zipcode 10001 that received a grade of A for their health code."
      ]
    },
    {
      "cell_type": "code",
      "execution_count": 2,
      "metadata": {
        "id": "zWFPu78jRnLK",
        "outputId": "a3eac782-6914-452a-a9ff-c27ad577a002",
        "colab": {
          "base_uri": "https://localhost:8080/"
        }
      },
      "outputs": [
        {
          "output_type": "execute_result",
          "data": {
            "text/plain": [
              "[{'camis': '41709760',\n",
              "  'dba': 'STELLA 34',\n",
              "  'boro': 'Manhattan',\n",
              "  'building': '151',\n",
              "  'street': 'WEST   34 STREET',\n",
              "  'zipcode': '10001',\n",
              "  'phone': '2129679251',\n",
              "  'cuisine_description': 'Italian',\n",
              "  'inspection_date': '2022-06-08T00:00:00.000',\n",
              "  'action': 'Violations were cited in the following area(s).',\n",
              "  'violation_code': '10B',\n",
              "  'violation_description': 'Plumbing not properly installed or maintained; anti-siphonage or backflow prevention device not provided where required; equipment or floor not properly drained; sewage disposal system in disrepair or not functioning properly.',\n",
              "  'critical_flag': 'Not Critical',\n",
              "  'score': '0',\n",
              "  'record_date': '2023-11-01T06:00:07.000',\n",
              "  'inspection_type': 'Cycle Inspection / Initial Inspection',\n",
              "  'latitude': '40.750509164767',\n",
              "  'longitude': '-73.989479170444',\n",
              "  'community_board': '105',\n",
              "  'council_district': '03',\n",
              "  'census_tract': '010900',\n",
              "  'bin': '1015219',\n",
              "  'bbl': '1008100001',\n",
              "  'nta': 'MN17'},\n",
              " {'camis': '41709760',\n",
              "  'dba': 'STELLA 34',\n",
              "  'boro': 'Manhattan',\n",
              "  'building': '151',\n",
              "  'street': 'WEST   34 STREET',\n",
              "  'zipcode': '10001',\n",
              "  'phone': '2129679251',\n",
              "  'cuisine_description': 'Italian',\n",
              "  'inspection_date': '2020-03-05T00:00:00.000',\n",
              "  'action': 'Violations were cited in the following area(s).',\n",
              "  'violation_code': '06D',\n",
              "  'violation_description': 'Food contact surface not properly washed, rinsed and sanitized after each use and following any activity when contamination may have occurred.',\n",
              "  'critical_flag': 'Critical',\n",
              "  'score': '13',\n",
              "  'grade': 'A',\n",
              "  'grade_date': '2020-03-05T00:00:00.000',\n",
              "  'record_date': '2023-11-01T06:00:07.000',\n",
              "  'inspection_type': 'Cycle Inspection / Initial Inspection',\n",
              "  'latitude': '40.750509164767',\n",
              "  'longitude': '-73.989479170444',\n",
              "  'community_board': '105',\n",
              "  'council_district': '03',\n",
              "  'census_tract': '010900',\n",
              "  'bin': '1015219',\n",
              "  'bbl': '1008100001',\n",
              "  'nta': 'MN17'},\n",
              " {'camis': '40617736',\n",
              "  'dba': 'BOTTINO',\n",
              "  'boro': 'Manhattan',\n",
              "  'building': '248',\n",
              "  'street': '10 AVENUE',\n",
              "  'zipcode': '10001',\n",
              "  'phone': '2122066766',\n",
              "  'cuisine_description': 'Italian',\n",
              "  'inspection_date': '2020-01-24T00:00:00.000',\n",
              "  'action': 'Violations were cited in the following area(s).',\n",
              "  'violation_code': '02H',\n",
              "  'violation_description': 'Food not cooled by an approved method whereby the internal product temperature is reduced from 140º F to 70º F or less within 2  hours, and from 70º F to 41º F or less within 4 additional hours.',\n",
              "  'critical_flag': 'Critical',\n",
              "  'score': '40',\n",
              "  'record_date': '2023-11-01T06:00:07.000',\n",
              "  'inspection_type': 'Cycle Inspection / Initial Inspection',\n",
              "  'latitude': '40.748601985022',\n",
              "  'longitude': '-74.003493609025',\n",
              "  'community_board': '104',\n",
              "  'council_district': '03',\n",
              "  'census_tract': '009300',\n",
              "  'bin': '1012783',\n",
              "  'bbl': '1007220004',\n",
              "  'nta': 'MN13'}]"
            ]
          },
          "metadata": {},
          "execution_count": 2
        }
      ],
      "source": [
        "import requests\n",
        "response = requests.get(\"https://data.cityofnewyork.us/resource/9w7m-hzhe.json?cuisine_description=Italian&zipcode=10001&$limit=3\")\n",
        "response.json()"
      ]
    },
    {
      "cell_type": "markdown",
      "metadata": {
        "id": "USlHnp5DRnLK"
      },
      "source": [
        "### Summary\n",
        "\n",
        "Great job! In this lesson, we saw how to use query parameters to filter down the amount of information from an API.  Even more importantly, we spent some time seeing how we can read documentation online to solve our problems."
      ]
    }
  ],
  "metadata": {
    "kernelspec": {
      "display_name": "Python 3",
      "language": "python",
      "name": "python3"
    },
    "language_info": {
      "codemirror_mode": {
        "name": "ipython",
        "version": 3
      },
      "file_extension": ".py",
      "mimetype": "text/x-python",
      "name": "python",
      "nbconvert_exporter": "python",
      "pygments_lexer": "ipython3",
      "version": "3.7.4"
    },
    "colab": {
      "provenance": []
    }
  },
  "nbformat": 4,
  "nbformat_minor": 0
}