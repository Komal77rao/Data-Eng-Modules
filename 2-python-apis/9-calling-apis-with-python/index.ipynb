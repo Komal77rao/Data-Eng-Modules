{
  "cells": [
    {
      "cell_type": "markdown",
      "metadata": {
        "id": "jZPCZVvnQEs-"
      },
      "source": [
        "# Calling APIs with Python"
      ]
    },
    {
      "cell_type": "markdown",
      "metadata": {
        "id": "2l06A3woQEtB"
      },
      "source": [
        "### Introduction"
      ]
    },
    {
      "cell_type": "markdown",
      "metadata": {
        "id": "_BikFCh-QEtB"
      },
      "source": [
        "So now that we know about what an API is, and how we request information from an API, we can now try calling an API with Python"
      ]
    },
    {
      "cell_type": "markdown",
      "metadata": {
        "id": "MnOkpXHJQEtC"
      },
      "source": [
        "## Using Python to Make Web Requests  "
      ]
    },
    {
      "cell_type": "markdown",
      "metadata": {
        "id": "RcWZVeTHQEtC"
      },
      "source": [
        "Our task is to access the Google books API with Python.  \n",
        "\n",
        "We know how to access this API in general.  All we need to do go to a URL like the following: `https://www.googleapis.com/books/v1/volumes?q=Tom%20Sawyer`.  Also, as we know, what we are really doing is:\n",
        "\n",
        "1. Directing our browser to make a GET request to the URL above\n",
        "2. Capturing the response in our browser\n",
        "\n",
        "Let's try the same in Python."
      ]
    },
    {
      "cell_type": "markdown",
      "metadata": {
        "id": "vyiFg5eEQEtC"
      },
      "source": [
        "Now just as a browser has the ability to make requests, Python has this ability as well.  We just have to use the `requests` object.  The requests module is just a library that allows us to make web requests and capture responses.  "
      ]
    },
    {
      "cell_type": "markdown",
      "metadata": {
        "id": "v7Xf21xfQEtC"
      },
      "source": [
        "> By **module** we just mean library.  A library is a collection of methods that we can use.  Here we want to use a method that can make a request to a website."
      ]
    },
    {
      "cell_type": "code",
      "execution_count": 1,
      "metadata": {
        "id": "KIphdvxlQEtD"
      },
      "outputs": [],
      "source": [
        "import requests"
      ]
    },
    {
      "cell_type": "markdown",
      "metadata": {
        "id": "DzyIWoEaQEtE"
      },
      "source": [
        "Oops, we just got an error, indicating that Python does not know what `requests` means.  Unlike, say the ability to add two numbers, Python cannot make requests right out of the box. So we first need to tell Python we are about to use the module `requests`.  We do this with the line `import requests`, which tells Python to give us access to this module."
      ]
    },
    {
      "cell_type": "code",
      "execution_count": 2,
      "metadata": {
        "id": "bGTh8OJKQEtE"
      },
      "outputs": [],
      "source": [
        "import requests"
      ]
    },
    {
      "cell_type": "markdown",
      "metadata": {
        "id": "xL52RppIQEtE"
      },
      "source": [
        "And now we can use that module."
      ]
    },
    {
      "cell_type": "markdown",
      "metadata": {
        "id": "3mKuEeTDQEtE"
      },
      "source": [
        "> press shift + enter if you'd like to code along."
      ]
    },
    {
      "cell_type": "code",
      "execution_count": 3,
      "metadata": {
        "id": "GhGdYWdMQEtF",
        "outputId": "76ae6f41-3a1d-4c87-8ff9-95cf96327983",
        "colab": {
          "base_uri": "https://localhost:8080/"
        }
      },
      "outputs": [
        {
          "output_type": "execute_result",
          "data": {
            "text/plain": [
              "<module 'requests' from '/usr/local/lib/python3.10/dist-packages/requests/__init__.py'>"
            ]
          },
          "metadata": {},
          "execution_count": 3
        }
      ],
      "source": [
        "requests"
      ]
    },
    {
      "cell_type": "markdown",
      "metadata": {
        "id": "fuT85QofQEtF"
      },
      "source": [
        "> keep pressing shift + enter"
      ]
    },
    {
      "cell_type": "markdown",
      "metadata": {
        "id": "QxqcyTo_QEtF"
      },
      "source": [
        "Now to use this module to make our GET request to Google Books URL, we write the following."
      ]
    },
    {
      "cell_type": "code",
      "execution_count": 4,
      "metadata": {
        "id": "M8EhrA3kQEtF",
        "outputId": "63fa1559-7a4b-4f9d-8307-6384dfe781b3",
        "colab": {
          "base_uri": "https://localhost:8080/"
        }
      },
      "outputs": [
        {
          "output_type": "execute_result",
          "data": {
            "text/plain": [
              "<Response [200]>"
            ]
          },
          "metadata": {},
          "execution_count": 4
        }
      ],
      "source": [
        "requests.get(\"https://www.googleapis.com/books/v1/volumes?q=Tom%20Sawyer\")"
      ]
    },
    {
      "cell_type": "markdown",
      "metadata": {
        "id": "cdlWppa8QEtF"
      },
      "source": [
        "> Press `shift` and `enter` again."
      ]
    },
    {
      "cell_type": "markdown",
      "metadata": {
        "id": "3h9NGHfaQEtF"
      },
      "source": [
        "See that?  That `<Response [200]>` means not only did we make a request to the Google Books API, but that we also got back a Response from that API."
      ]
    },
    {
      "cell_type": "markdown",
      "metadata": {
        "id": "sxlJvC0sQEtF"
      },
      "source": [
        "If we want to see that response, we just need to first capture the response in a variable, by updating our code to be the following."
      ]
    },
    {
      "cell_type": "code",
      "execution_count": 5,
      "metadata": {
        "id": "RkLD_eVfQEtF"
      },
      "outputs": [],
      "source": [
        "response = requests.get(\"https://www.googleapis.com/books/v1/volumes?q=Tom%20Sawyer\")"
      ]
    },
    {
      "cell_type": "markdown",
      "metadata": {
        "id": "14kSzOrfQEtF"
      },
      "source": [
        "Now we have captured that response in the variable `response`."
      ]
    },
    {
      "cell_type": "code",
      "execution_count": 6,
      "metadata": {
        "id": "vss8-FyjQEtG",
        "outputId": "4cc90090-01c8-4d48-b607-d4b8251ed14d",
        "colab": {
          "base_uri": "https://localhost:8080/"
        }
      },
      "outputs": [
        {
          "output_type": "execute_result",
          "data": {
            "text/plain": [
              "<Response [200]>"
            ]
          },
          "metadata": {},
          "execution_count": 6
        }
      ],
      "source": [
        "response"
      ]
    },
    {
      "cell_type": "markdown",
      "metadata": {
        "id": "Xi3q9tLOQEtG"
      },
      "source": [
        "And just like we used the web inspector in Google Chrome to inspect our response, we can inspect various aspects of that response with Python.  So if we want to see the status code of the response, we can ask for it."
      ]
    },
    {
      "cell_type": "code",
      "execution_count": 7,
      "metadata": {
        "id": "7uuBvTR8QEtG",
        "outputId": "d96b7a2f-11aa-47a7-e2ee-ce8544dab0e8",
        "colab": {
          "base_uri": "https://localhost:8080/"
        }
      },
      "outputs": [
        {
          "output_type": "execute_result",
          "data": {
            "text/plain": [
              "200"
            ]
          },
          "metadata": {},
          "execution_count": 7
        }
      ],
      "source": [
        "response.status_code"
      ]
    },
    {
      "cell_type": "markdown",
      "metadata": {
        "id": "qYxB0INEQEtG"
      },
      "source": [
        "And if we want to see all of the JSON, we can ask for that as well. (Scroll down -- there's a lot of data sent to us -- and we'll meet up at the bottom of the page.)"
      ]
    },
    {
      "cell_type": "code",
      "execution_count": 8,
      "metadata": {
        "id": "SYxTgMGJQEtG"
      },
      "outputs": [],
      "source": [
        "# response.json()"
      ]
    },
    {
      "cell_type": "markdown",
      "metadata": {
        "id": "GoaE40YSQEtG"
      },
      "source": [
        "## Ok, back to the show"
      ]
    },
    {
      "cell_type": "markdown",
      "metadata": {
        "id": "qclUqtLLQEtG"
      },
      "source": [
        "Congrats! You just made a web request and received back the response in JSON. We did it with these three lines:"
      ]
    },
    {
      "cell_type": "markdown",
      "metadata": {
        "id": "Gr4KxoksQEtG"
      },
      "source": [
        "```python\n",
        "import requests\n",
        "response = requests.get(\"https://www.googleapis.com/books/v1/volumes?q=Tom%20Sawyer\")\n",
        "response.json()\n",
        "```"
      ]
    },
    {
      "cell_type": "markdown",
      "metadata": {
        "id": "iz55sfFDQEtG"
      },
      "source": [
        "As you may have guessed what's limiting us now, is that we don't know how all of the JSON we get back when we type in that information.  That's fine - we'll understand it when we learn Python, which  we'll focus on Python throughout the whole next unit.  For now, it's enough to appreciate that we are both able to write the code above, and understand why that code makes sense.  With this knowledge (and some practice), we can request information from a variety of APIs."
      ]
    },
    {
      "cell_type": "markdown",
      "metadata": {
        "id": "WY801ybvQEtH"
      },
      "source": [
        "### Summary"
      ]
    },
    {
      "cell_type": "markdown",
      "metadata": {
        "id": "yJg96--UQEtH"
      },
      "source": [
        "In this lesson, we ended up making an API call with Python.  This was both fun (hopefully).  It's fun because we can get a sense of all of the information that is available to us as data scientists.  And we can request that information in just a few steps:"
      ]
    },
    {
      "cell_type": "markdown",
      "metadata": {
        "id": "A9vmwaMxQEtH"
      },
      "source": [
        "First import the proper module so that we can make a GET request to an API."
      ]
    },
    {
      "cell_type": "code",
      "execution_count": 9,
      "metadata": {
        "id": "ty99sUVEQEtH"
      },
      "outputs": [],
      "source": [
        "import requests"
      ]
    },
    {
      "cell_type": "markdown",
      "metadata": {
        "id": "Y7WrKeSIQEtH"
      },
      "source": [
        "Then make the request and store the response in a variable."
      ]
    },
    {
      "cell_type": "code",
      "execution_count": 10,
      "metadata": {
        "id": "JyXXBsnEQEtH"
      },
      "outputs": [],
      "source": [
        "response = requests.get(\"https://www.googleapis.com/books/v1/volumes?q=Tom%20Sawyer\")"
      ]
    },
    {
      "cell_type": "markdown",
      "metadata": {
        "id": "lTS__6nHQEtH"
      },
      "source": [
        "Finally, display the data from that"
      ]
    },
    {
      "cell_type": "code",
      "execution_count": null,
      "metadata": {
        "id": "0qFpzitsQEtH"
      },
      "outputs": [],
      "source": [
        "response.json()"
      ]
    },
    {
      "cell_type": "markdown",
      "metadata": {
        "id": "egbkFExcQEtH"
      },
      "source": [
        "Next up, we'll ask you to work with some new APIs in Python."
      ]
    }
  ],
  "metadata": {
    "kernelspec": {
      "display_name": "Python 3",
      "language": "python",
      "name": "python3"
    },
    "language_info": {
      "codemirror_mode": {
        "name": "ipython",
        "version": 3
      },
      "file_extension": ".py",
      "mimetype": "text/x-python",
      "name": "python",
      "nbconvert_exporter": "python",
      "pygments_lexer": "ipython3",
      "version": "3.7.4"
    },
    "colab": {
      "provenance": []
    }
  },
  "nbformat": 4,
  "nbformat_minor": 0
}