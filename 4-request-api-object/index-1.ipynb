{
  "cells": [
    {
      "cell_type": "markdown",
      "metadata": {
        "id": "view-in-github",
        "colab_type": "text"
      },
      "source": [
        "<a href=\"https://colab.research.google.com/github/Komal77rao/Data-Eng-Modules/blob/main/4-request-api-object/index-1.ipynb\" target=\"_parent\"><img src=\"https://colab.research.google.com/assets/colab-badge.svg\" alt=\"Open In Colab\"/></a>"
      ]
    },
    {
      "cell_type": "markdown",
      "metadata": {
        "id": "kVO85jMqq0oi"
      },
      "source": [
        "## The Client Class"
      ]
    },
    {
      "cell_type": "markdown",
      "metadata": {
        "id": "510NQ7Rhq0o6"
      },
      "source": [
        "### Introduction"
      ]
    },
    {
      "cell_type": "markdown",
      "metadata": {
        "id": "SpAw2BXhq0o7"
      },
      "source": [
        "Ok, so far we have created two different classes, a `Receipt` class and a `ReceiptBuilder` class.  Let's review."
      ]
    },
    {
      "cell_type": "markdown",
      "metadata": {
        "id": "PhZyD2Lkq0pA"
      },
      "source": [
        "1. Our Receipt class\n",
        "    * This class simply contains setters and getters for the attributes that we find important."
      ]
    },
    {
      "cell_type": "code",
      "execution_count": null,
      "metadata": {
        "id": "foDHd7GSq0pt"
      },
      "outputs": [],
      "source": [
        "class Receipt:\n",
        "    def __init__(self, total, address, end_date, restaurant_name):\n",
        "        self.total = int(total)\n",
        "        self.address = address\n",
        "        self.end_date = end_date\n",
        "        self.restaurant_name = restaurant_name"
      ]
    },
    {
      "cell_type": "markdown",
      "metadata": {
        "id": "y91UyqICq0qn"
      },
      "source": [
        "2. The ReceiptBuilder class constructs new objects."
      ]
    },
    {
      "cell_type": "code",
      "execution_count": null,
      "metadata": {
        "id": "ctUq4Leaq0q5"
      },
      "outputs": [],
      "source": [
        "import requests\n",
        "class ReceiptBuilder:\n",
        "    def run(self):\n",
        "        self._receipts_data = self.retrieve_receipts()\n",
        "        self._receipts = self.receipts_data_to_objects(self._receipts_data)\n",
        "        return self._receipts\n",
        "\n",
        "    def retrieve_receipts(self):\n",
        "        response = requests.get(\"https://data.texas.gov/resource/naix-2893.json?location_name=MAX%27S%20WINE%20DIVE\")\n",
        "        return response.json()\n",
        "\n",
        "    def create_receipt(self, receipt_data):\n",
        "        receipt = Receipt(receipt_data['total_receipts'], receipt_data['location_address'],\n",
        "                          receipt_data['obligation_end_date_yyyymmdd'], receipt_data['location_name'])\n",
        "        return receipt\n",
        "\n",
        "    def receipts_data_to_objects(self, receipts_data):\n",
        "        receipts = []\n",
        "        for receipt_data in receipts_data:\n",
        "            receipt = self.create_receipt(receipt_data)\n",
        "            receipts.append(receipt)\n",
        "        return receipts"
      ]
    },
    {
      "cell_type": "markdown",
      "metadata": {
        "id": "tIIkt54uq0rE"
      },
      "source": [
        "### Going further"
      ]
    },
    {
      "cell_type": "markdown",
      "metadata": {
        "id": "HlFUi56-q0rI"
      },
      "source": [
        "Now looking at the code, there is some code that is different than the other.  We can identify it by looking at our `run` method."
      ]
    },
    {
      "cell_type": "markdown",
      "metadata": {
        "id": "Cfx4R-P6q0rR"
      },
      "source": [
        "```python\n",
        "def run(self):\n",
        "    self._receipts_data = self.retrieve_receipts()\n",
        "    self._receipts = self.receipts_data_to_objects(self._receipts_data)\n",
        "    return self._receipts\n",
        "```"
      ]
    },
    {
      "cell_type": "markdown",
      "metadata": {
        "id": "Hg3piOfXq0rS"
      },
      "source": [
        "We can see that this method does two things:\n",
        "1. retrieve data from the api\n",
        "2. coerce the data into Receipt objects.  \n",
        "\n",
        "These are two tasks that we may not always want to perform together.  For example, we may want to retreive data from the API and create new restaurant objects, or new location objects.  So it makes sense to isolate this code.  Here's how."
      ]
    },
    {
      "cell_type": "markdown",
      "metadata": {
        "id": "F2AUI4amq0rS"
      },
      "source": [
        "1. We just move the `retrieve_receipts` method into a new class."
      ]
    },
    {
      "cell_type": "code",
      "execution_count": 1,
      "metadata": {
        "id": "Lc6XVxlcq0rY"
      },
      "outputs": [],
      "source": [
        "class TexasDrinksClient:\n",
        "    URL = \"https://data.texas.gov/resource/naix-2893.json?location_name=MAX%27S%20WINE%20DIVE\"\n",
        "    def run(self):\n",
        "        response = requests.get(self.URL)\n",
        "        return response.json()"
      ]
    },
    {
      "cell_type": "markdown",
      "metadata": {
        "id": "i82wAbtkq0rk"
      },
      "source": [
        "And then we remove the related code from the `ReceiptBuilder`, and replace it with a call to the `TexasDrinksClient`."
      ]
    },
    {
      "cell_type": "code",
      "execution_count": 2,
      "metadata": {
        "id": "kNuWWYCbq0rl"
      },
      "outputs": [],
      "source": [
        "import requests\n",
        "class ReceiptBuilder:\n",
        "    def run(self):\n",
        "      #add the TexasDrinksClient class here\n",
        "        self._request_api = TexasDrinksClient()\n",
        "        self._receipts_data = self._request_api.run()\n",
        "        self._receipts = self.receipts_data_to_objects(self._receipts_data)\n",
        "        return self._receipts\n",
        "\n",
        "    # remove retrieve_receipts method\n",
        "\n",
        "    def select_data(self, receipt_data):\n",
        "        attributes = ('total_receipts', 'location_address', 'obligation_end_date_yyyymmdd', 'location_name')\n",
        "        return dict((k, receipt_data[k]) for k in attributes)\n",
        "\n",
        "    def create_receipt(self, receipt_data):\n",
        "        receipt = Receipt(receipt_data['total_receipts'], receipt_data['location_address'], receipt_data['obligation_end_date_yyyymmdd'], receipt_data['location_name'])\n",
        "        return receipt\n",
        "\n",
        "    def receipts_data_to_objects(self, receipts_data):\n",
        "        receipts = []\n",
        "        for receipt_data in receipts_data:\n",
        "            selected_data = self.select_data(receipt_data)\n",
        "            receipt = self.create_receipt(selected_data)\n",
        "            receipts.append(receipt)\n",
        "        return receipts"
      ]
    },
    {
      "cell_type": "markdown",
      "metadata": {
        "id": "A8mYildXq0rl"
      },
      "source": [
        "And then we check to make sure that this still works."
      ]
    },
    {
      "cell_type": "code",
      "execution_count": 3,
      "metadata": {
        "id": "ua-EEPKGq0rm",
        "outputId": "4dd738a3-94a9-4064-dfe2-a5bba9fba8d2",
        "colab": {
          "base_uri": "https://localhost:8080/",
          "height": 374
        }
      },
      "outputs": [
        {
          "output_type": "error",
          "ename": "NameError",
          "evalue": "ignored",
          "traceback": [
            "\u001b[0;31m---------------------------------------------------------------------------\u001b[0m",
            "\u001b[0;31mNameError\u001b[0m                                 Traceback (most recent call last)",
            "\u001b[0;32m<ipython-input-3-39c1631cb006>\u001b[0m in \u001b[0;36m<cell line: 2>\u001b[0;34m()\u001b[0m\n\u001b[1;32m      1\u001b[0m \u001b[0mbuilder\u001b[0m \u001b[0;34m=\u001b[0m \u001b[0mReceiptBuilder\u001b[0m\u001b[0;34m(\u001b[0m\u001b[0;34m)\u001b[0m\u001b[0;34m\u001b[0m\u001b[0;34m\u001b[0m\u001b[0m\n\u001b[0;32m----> 2\u001b[0;31m \u001b[0mreceipts\u001b[0m \u001b[0;34m=\u001b[0m \u001b[0mbuilder\u001b[0m\u001b[0;34m.\u001b[0m\u001b[0mrun\u001b[0m\u001b[0;34m(\u001b[0m\u001b[0;34m)\u001b[0m\u001b[0;34m\u001b[0m\u001b[0;34m\u001b[0m\u001b[0m\n\u001b[0m\u001b[1;32m      3\u001b[0m \u001b[0mreceipts\u001b[0m\u001b[0;34m[\u001b[0m\u001b[0;36m0\u001b[0m\u001b[0;34m:\u001b[0m\u001b[0;36m3\u001b[0m\u001b[0;34m]\u001b[0m\u001b[0;34m\u001b[0m\u001b[0;34m\u001b[0m\u001b[0m\n",
            "\u001b[0;32m<ipython-input-2-9f0a919f5556>\u001b[0m in \u001b[0;36mrun\u001b[0;34m(self)\u001b[0m\n\u001b[1;32m      5\u001b[0m         \u001b[0mself\u001b[0m\u001b[0;34m.\u001b[0m\u001b[0m_request_api\u001b[0m \u001b[0;34m=\u001b[0m \u001b[0mTexasDrinksClient\u001b[0m\u001b[0;34m(\u001b[0m\u001b[0;34m)\u001b[0m\u001b[0;34m\u001b[0m\u001b[0;34m\u001b[0m\u001b[0m\n\u001b[1;32m      6\u001b[0m         \u001b[0mself\u001b[0m\u001b[0;34m.\u001b[0m\u001b[0m_receipts_data\u001b[0m \u001b[0;34m=\u001b[0m \u001b[0mself\u001b[0m\u001b[0;34m.\u001b[0m\u001b[0m_request_api\u001b[0m\u001b[0;34m.\u001b[0m\u001b[0mrun\u001b[0m\u001b[0;34m(\u001b[0m\u001b[0;34m)\u001b[0m\u001b[0;34m\u001b[0m\u001b[0;34m\u001b[0m\u001b[0m\n\u001b[0;32m----> 7\u001b[0;31m         \u001b[0mself\u001b[0m\u001b[0;34m.\u001b[0m\u001b[0m_receipts\u001b[0m \u001b[0;34m=\u001b[0m \u001b[0mself\u001b[0m\u001b[0;34m.\u001b[0m\u001b[0mreceipts_data_to_objects\u001b[0m\u001b[0;34m(\u001b[0m\u001b[0mself\u001b[0m\u001b[0;34m.\u001b[0m\u001b[0m_receipts_data\u001b[0m\u001b[0;34m)\u001b[0m\u001b[0;34m\u001b[0m\u001b[0;34m\u001b[0m\u001b[0m\n\u001b[0m\u001b[1;32m      8\u001b[0m         \u001b[0;32mreturn\u001b[0m \u001b[0mself\u001b[0m\u001b[0;34m.\u001b[0m\u001b[0m_receipts\u001b[0m\u001b[0;34m\u001b[0m\u001b[0;34m\u001b[0m\u001b[0m\n\u001b[1;32m      9\u001b[0m \u001b[0;34m\u001b[0m\u001b[0m\n",
            "\u001b[0;32m<ipython-input-2-9f0a919f5556>\u001b[0m in \u001b[0;36mreceipts_data_to_objects\u001b[0;34m(self, receipts_data)\u001b[0m\n\u001b[1;32m     22\u001b[0m         \u001b[0;32mfor\u001b[0m \u001b[0mreceipt_data\u001b[0m \u001b[0;32min\u001b[0m \u001b[0mreceipts_data\u001b[0m\u001b[0;34m:\u001b[0m\u001b[0;34m\u001b[0m\u001b[0;34m\u001b[0m\u001b[0m\n\u001b[1;32m     23\u001b[0m             \u001b[0mselected_data\u001b[0m \u001b[0;34m=\u001b[0m \u001b[0mself\u001b[0m\u001b[0;34m.\u001b[0m\u001b[0mselect_data\u001b[0m\u001b[0;34m(\u001b[0m\u001b[0mreceipt_data\u001b[0m\u001b[0;34m)\u001b[0m\u001b[0;34m\u001b[0m\u001b[0;34m\u001b[0m\u001b[0m\n\u001b[0;32m---> 24\u001b[0;31m             \u001b[0mreceipt\u001b[0m \u001b[0;34m=\u001b[0m \u001b[0mself\u001b[0m\u001b[0;34m.\u001b[0m\u001b[0mcreate_receipt\u001b[0m\u001b[0;34m(\u001b[0m\u001b[0mselected_data\u001b[0m\u001b[0;34m)\u001b[0m\u001b[0;34m\u001b[0m\u001b[0;34m\u001b[0m\u001b[0m\n\u001b[0m\u001b[1;32m     25\u001b[0m             \u001b[0mreceipts\u001b[0m\u001b[0;34m.\u001b[0m\u001b[0mappend\u001b[0m\u001b[0;34m(\u001b[0m\u001b[0mreceipt\u001b[0m\u001b[0;34m)\u001b[0m\u001b[0;34m\u001b[0m\u001b[0;34m\u001b[0m\u001b[0m\n\u001b[1;32m     26\u001b[0m         \u001b[0;32mreturn\u001b[0m \u001b[0mreceipts\u001b[0m\u001b[0;34m\u001b[0m\u001b[0;34m\u001b[0m\u001b[0m\n",
            "\u001b[0;32m<ipython-input-2-9f0a919f5556>\u001b[0m in \u001b[0;36mcreate_receipt\u001b[0;34m(self, receipt_data)\u001b[0m\n\u001b[1;32m     15\u001b[0m \u001b[0;34m\u001b[0m\u001b[0m\n\u001b[1;32m     16\u001b[0m     \u001b[0;32mdef\u001b[0m \u001b[0mcreate_receipt\u001b[0m\u001b[0;34m(\u001b[0m\u001b[0mself\u001b[0m\u001b[0;34m,\u001b[0m \u001b[0mreceipt_data\u001b[0m\u001b[0;34m)\u001b[0m\u001b[0;34m:\u001b[0m\u001b[0;34m\u001b[0m\u001b[0;34m\u001b[0m\u001b[0m\n\u001b[0;32m---> 17\u001b[0;31m         \u001b[0mreceipt\u001b[0m \u001b[0;34m=\u001b[0m \u001b[0mReceipt\u001b[0m\u001b[0;34m(\u001b[0m\u001b[0mreceipt_data\u001b[0m\u001b[0;34m[\u001b[0m\u001b[0;34m'total_receipts'\u001b[0m\u001b[0;34m]\u001b[0m\u001b[0;34m,\u001b[0m \u001b[0mreceipt_data\u001b[0m\u001b[0;34m[\u001b[0m\u001b[0;34m'location_address'\u001b[0m\u001b[0;34m]\u001b[0m\u001b[0;34m,\u001b[0m \u001b[0mreceipt_data\u001b[0m\u001b[0;34m[\u001b[0m\u001b[0;34m'obligation_end_date_yyyymmdd'\u001b[0m\u001b[0;34m]\u001b[0m\u001b[0;34m,\u001b[0m \u001b[0mreceipt_data\u001b[0m\u001b[0;34m[\u001b[0m\u001b[0;34m'location_name'\u001b[0m\u001b[0;34m]\u001b[0m\u001b[0;34m)\u001b[0m\u001b[0;34m\u001b[0m\u001b[0;34m\u001b[0m\u001b[0m\n\u001b[0m\u001b[1;32m     18\u001b[0m         \u001b[0;32mreturn\u001b[0m \u001b[0mreceipt\u001b[0m\u001b[0;34m\u001b[0m\u001b[0;34m\u001b[0m\u001b[0m\n\u001b[1;32m     19\u001b[0m \u001b[0;34m\u001b[0m\u001b[0m\n",
            "\u001b[0;31mNameError\u001b[0m: name 'Receipt' is not defined"
          ]
        }
      ],
      "source": [
        "builder = ReceiptBuilder()\n",
        "receipts = builder.run()\n",
        "receipts[0:3]"
      ]
    },
    {
      "cell_type": "markdown",
      "metadata": {
        "id": "CYm56FdOq0rn"
      },
      "source": [
        "### Such small improvements?"
      ]
    },
    {
      "cell_type": "markdown",
      "metadata": {
        "id": "ar-PdaiOq0ro"
      },
      "source": [
        "It may seem silly to create a class for just one method.  Why do we?"
      ]
    },
    {
      "cell_type": "code",
      "execution_count": 4,
      "metadata": {
        "id": "4KQEawjaq0ro"
      },
      "outputs": [],
      "source": [
        "class TexasDrinksAPI:\n",
        "    URL = \"https://data.texas.gov/resource/naix-2893.json?location_name=MAX%27S%20WINE%20DIVE\"\n",
        "    def run(self):\n",
        "        response = requests.get(self.URL)\n",
        "        return response.json()"
      ]
    },
    {
      "cell_type": "code",
      "execution_count": 7,
      "metadata": {
        "id": "xoKjPWnNq0rp",
        "outputId": "146cff9b-a52d-40e5-fcbc-70caf6377b51",
        "colab": {
          "base_uri": "https://localhost:8080/"
        }
      },
      "outputs": [
        {
          "output_type": "execute_result",
          "data": {
            "text/plain": [
              "{'taxpayer_number': '32046798537',\n",
              " 'taxpayer_name': 'MWD DALLAS UPTOWN, LLC',\n",
              " 'taxpayer_address': '1000 N POST OAK RD STE 220',\n",
              " 'taxpayer_city': 'HOUSTON',\n",
              " 'taxpayer_state': 'TX',\n",
              " 'taxpayer_zip': '77055',\n",
              " 'taxpayer_county': '101',\n",
              " 'location_number': '1',\n",
              " 'location_name': \"MAX'S WINE DIVE\",\n",
              " 'location_address': '3600 MCKINNEY AVE STE 100',\n",
              " 'location_city': 'DALLAS',\n",
              " 'location_state': 'TX',\n",
              " 'location_zip': '75204',\n",
              " 'location_county': '57',\n",
              " 'inside_outside_city_limits_code_y_n': 'Y',\n",
              " 'tabc_permit_number': 'MB917035',\n",
              " 'responsibility_begin_date_yyyymmdd': '2015-08-11T00:00:00.000',\n",
              " 'responsibility_end_date_yyyymmdd': '2017-08-21T00:00:00.000',\n",
              " 'obligation_end_date_yyyymmdd': '2015-08-31T00:00:00.000',\n",
              " 'liquor_receipts': '0',\n",
              " 'wine_receipts': '0',\n",
              " 'beer_receipts': '0',\n",
              " 'cover_charge_receipts': '0',\n",
              " 'total_receipts': '0'}"
            ]
          },
          "metadata": {},
          "execution_count": 7
        }
      ],
      "source": [
        "client = TexasDrinksAPI()\n",
        "\n",
        "client.run()[0]"
      ]
    },
    {
      "cell_type": "markdown",
      "metadata": {
        "id": "Ulf7pSDSq0rq"
      },
      "source": [
        "In part we do this because we are following a standard recipe.  Generally, when we make a request to an API we require multiple pieces of information like the root_url, the client_id and the client_secret to make a request.\n",
        "\n",
        "Even above we could further refactor our Client class."
      ]
    },
    {
      "cell_type": "code",
      "execution_count": 8,
      "metadata": {
        "id": "QGxyTu9jq0r5"
      },
      "outputs": [],
      "source": [
        "class TexasDrinksAPI:\n",
        "    ROOT_URL = \"https://data.texas.gov/resource/naix-2893.json\"\n",
        "\n",
        "    def run(self, params = {'location_name': 'HYATT HOUSE DALLAS/UPTOWN'}):\n",
        "        response = requests.get(self.ROOT_URL, params)\n",
        "        return response.json()"
      ]
    },
    {
      "cell_type": "code",
      "execution_count": 9,
      "metadata": {
        "id": "r5yqlm59q0r7",
        "outputId": "5d6e42fd-578f-4dc8-8955-105cdc2fac28",
        "colab": {
          "base_uri": "https://localhost:8080/"
        }
      },
      "outputs": [
        {
          "output_type": "execute_result",
          "data": {
            "text/plain": [
              "dict_keys(['taxpayer_number', 'taxpayer_name', 'taxpayer_address', 'taxpayer_city', 'taxpayer_state', 'taxpayer_zip', 'taxpayer_county', 'location_number', 'location_name', 'location_address', 'location_city', 'location_state', 'location_zip', 'location_county', 'inside_outside_city_limits_code_y_n', 'tabc_permit_number', 'responsibility_begin_date_yyyymmdd', 'obligation_end_date_yyyymmdd', 'liquor_receipts', 'wine_receipts', 'beer_receipts', 'cover_charge_receipts', 'total_receipts'])"
            ]
          },
          "metadata": {},
          "execution_count": 9
        }
      ],
      "source": [
        "client = TexasDrinksAPI()\n",
        "\n",
        "client.run()[0].keys()"
      ]
    },
    {
      "cell_type": "markdown",
      "metadata": {
        "id": "p_47Lk7Qq0r9"
      },
      "source": [
        "### Summary"
      ]
    },
    {
      "cell_type": "markdown",
      "metadata": {
        "id": "NAWF6eTEq0r9"
      },
      "source": [
        "In this lesson, we learned to remove code related to the API into it's own class.  The reason why we do this is because requesting the Texas API has value even when not related to building receipts.  And we want an easy tool to do this."
      ]
    },
    {
      "cell_type": "markdown",
      "metadata": {
        "id": "QXY23LYCq0r-"
      },
      "source": [
        "We also saw a standard pattern for reaching an API.  The main idea is that we do not like working with messy dictionaries and instead would prefer to work with objects.  We accomplish this by creating three classes:\n",
        "\n",
        "1. A `TexasDrinksAPI` class that makes requests to the API\n",
        "2. A `ReceiptBuilder` class that turns the data into `Receipt` instances\n",
        "3. The `Receipt` class"
      ]
    }
  ],
  "metadata": {
    "kernelspec": {
      "display_name": "Python 3 (ipykernel)",
      "language": "python",
      "name": "python3"
    },
    "language_info": {
      "codemirror_mode": {
        "name": "ipython",
        "version": 3
      },
      "file_extension": ".py",
      "mimetype": "text/x-python",
      "name": "python",
      "nbconvert_exporter": "python",
      "pygments_lexer": "ipython3",
      "version": "3.9.7"
    },
    "colab": {
      "provenance": [],
      "include_colab_link": true
    }
  },
  "nbformat": 4,
  "nbformat_minor": 0
}