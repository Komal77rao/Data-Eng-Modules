{
  "cells": [
    {
      "cell_type": "markdown",
      "metadata": {
        "id": "tNiNukyft5BK"
      },
      "source": [
        "# Scraping to Plotting Lab"
      ]
    },
    {
      "cell_type": "markdown",
      "metadata": {
        "id": "5XICXBdyt5BR"
      },
      "source": [
        "### Introduction"
      ]
    },
    {
      "cell_type": "markdown",
      "metadata": {
        "id": "7bgSXbS-t5BS"
      },
      "source": [
        "Ok, now it's time to work through scraping to plotting data on our own.  "
      ]
    },
    {
      "cell_type": "markdown",
      "metadata": {
        "id": "y398iGGMt5BU"
      },
      "source": [
        "### Collecting our Data"
      ]
    },
    {
      "cell_type": "markdown",
      "metadata": {
        "id": "uMZnMTu-t5BU"
      },
      "source": [
        "Let's gather a list of popular songs.  From Wikipedia, we can gather the list of most streamed songs from Spotify.  It's located at the following url."
      ]
    },
    {
      "cell_type": "code",
      "execution_count": null,
      "metadata": {
        "id": "hajdmGXBt5BV"
      },
      "outputs": [],
      "source": [
        "url = 'https://en.wikipedia.org/wiki/List_of_most-streamed_songs_on_Spotify'"
      ]
    },
    {
      "cell_type": "markdown",
      "metadata": {
        "id": "xCYxQ2P8t5BW"
      },
      "source": [
        "Ok, now let's use pandas to find the list of tables from this url.  Store the list of tables to the variable `tables`."
      ]
    },
    {
      "cell_type": "code",
      "execution_count": 10,
      "metadata": {
        "id": "J18mtPa8t5BX",
        "outputId": "987282ba-23e4-451c-ad27-571d57414a56",
        "colab": {
          "base_uri": "https://localhost:8080/",
          "height": 476
        }
      },
      "outputs": [
        {
          "output_type": "execute_result",
          "data": {
            "text/plain": [
              "                    Song                                          Artist(s)  \\\n",
              "0                \"Seven\"                           Jungkook featuring Latto   \n",
              "1                 \"Lala\"                                        Myke Towers   \n",
              "2              \"Vampire\"                                     Olivia Rodrigo   \n",
              "3            \"Un x100to\"                       Grupo Frontera and Bad Bunny   \n",
              "4      \"Ella Baila Sola\"                      Eslabon Armado and Peso Pluma   \n",
              "..                   ...                                                ...   \n",
              "63   \"Despacito (remix)\"  Luis Fonsi and Daddy Yankee featuring Justin B...   \n",
              "64              \"Humble\"                                     Kendrick Lamar   \n",
              "65        \"Shape of You\"                                         Ed Sheeran   \n",
              "66             \"Starboy\"                     The Weeknd featuring Daft Punk   \n",
              "67  As of July 23rd 2023                               As of July 23rd 2023   \n",
              "\n",
              "          Weeks at No. 1 Average streams (millions)        Date published  \\\n",
              "0                      8                       63.9         July 14, 2023   \n",
              "1                      1                       39.4        March 23, 2023   \n",
              "2                      1                       52.0         June 30, 2023   \n",
              "3                      2                       53.2         17 April 2023   \n",
              "4                   9[E]                       44.6         17 March 2023   \n",
              "..                   ...                        ...                   ...   \n",
              "63                    14                       45.9         17 April 2017   \n",
              "64                     1                       41.4         30 March 2017   \n",
              "65                    14                       51.9        6 January 2017   \n",
              "66                     2                       25.5     21 September 2016   \n",
              "67  As of July 23rd 2023       As of July 23rd 2023  As of July 23rd 2023   \n",
              "\n",
              "           Date achieved                  Ref.  \n",
              "0          July 20, 2023                 [140]  \n",
              "1          July 13, 2023                 [141]  \n",
              "2           July 6, 2023                 [142]  \n",
              "3            May 4, 2023                 [143]  \n",
              "4          20 April 2023                 [144]  \n",
              "..                   ...                   ...  \n",
              "63         27 April 2017                 [203]  \n",
              "64         20 April 2017                 [204]  \n",
              "65       12 January 2017                 [205]  \n",
              "66      29 December 2016                 [206]  \n",
              "67  As of July 23rd 2023  As of July 23rd 2023  \n",
              "\n",
              "[68 rows x 7 columns]"
            ],
            "text/html": [
              "\n",
              "  <div id=\"df-e9eb0f44-c014-48e6-b531-9209e964d6c5\" class=\"colab-df-container\">\n",
              "    <div>\n",
              "<style scoped>\n",
              "    .dataframe tbody tr th:only-of-type {\n",
              "        vertical-align: middle;\n",
              "    }\n",
              "\n",
              "    .dataframe tbody tr th {\n",
              "        vertical-align: top;\n",
              "    }\n",
              "\n",
              "    .dataframe thead th {\n",
              "        text-align: right;\n",
              "    }\n",
              "</style>\n",
              "<table border=\"1\" class=\"dataframe\">\n",
              "  <thead>\n",
              "    <tr style=\"text-align: right;\">\n",
              "      <th></th>\n",
              "      <th>Song</th>\n",
              "      <th>Artist(s)</th>\n",
              "      <th>Weeks at No. 1</th>\n",
              "      <th>Average streams (millions)</th>\n",
              "      <th>Date published</th>\n",
              "      <th>Date achieved</th>\n",
              "      <th>Ref.</th>\n",
              "    </tr>\n",
              "  </thead>\n",
              "  <tbody>\n",
              "    <tr>\n",
              "      <th>0</th>\n",
              "      <td>\"Seven\"</td>\n",
              "      <td>Jungkook featuring Latto</td>\n",
              "      <td>8</td>\n",
              "      <td>63.9</td>\n",
              "      <td>July 14, 2023</td>\n",
              "      <td>July 20, 2023</td>\n",
              "      <td>[140]</td>\n",
              "    </tr>\n",
              "    <tr>\n",
              "      <th>1</th>\n",
              "      <td>\"Lala\"</td>\n",
              "      <td>Myke Towers</td>\n",
              "      <td>1</td>\n",
              "      <td>39.4</td>\n",
              "      <td>March 23, 2023</td>\n",
              "      <td>July 13, 2023</td>\n",
              "      <td>[141]</td>\n",
              "    </tr>\n",
              "    <tr>\n",
              "      <th>2</th>\n",
              "      <td>\"Vampire\"</td>\n",
              "      <td>Olivia Rodrigo</td>\n",
              "      <td>1</td>\n",
              "      <td>52.0</td>\n",
              "      <td>June 30, 2023</td>\n",
              "      <td>July 6, 2023</td>\n",
              "      <td>[142]</td>\n",
              "    </tr>\n",
              "    <tr>\n",
              "      <th>3</th>\n",
              "      <td>\"Un x100to\"</td>\n",
              "      <td>Grupo Frontera and Bad Bunny</td>\n",
              "      <td>2</td>\n",
              "      <td>53.2</td>\n",
              "      <td>17 April 2023</td>\n",
              "      <td>May 4, 2023</td>\n",
              "      <td>[143]</td>\n",
              "    </tr>\n",
              "    <tr>\n",
              "      <th>4</th>\n",
              "      <td>\"Ella Baila Sola\"</td>\n",
              "      <td>Eslabon Armado and Peso Pluma</td>\n",
              "      <td>9[E]</td>\n",
              "      <td>44.6</td>\n",
              "      <td>17 March 2023</td>\n",
              "      <td>20 April 2023</td>\n",
              "      <td>[144]</td>\n",
              "    </tr>\n",
              "    <tr>\n",
              "      <th>...</th>\n",
              "      <td>...</td>\n",
              "      <td>...</td>\n",
              "      <td>...</td>\n",
              "      <td>...</td>\n",
              "      <td>...</td>\n",
              "      <td>...</td>\n",
              "      <td>...</td>\n",
              "    </tr>\n",
              "    <tr>\n",
              "      <th>63</th>\n",
              "      <td>\"Despacito (remix)\"</td>\n",
              "      <td>Luis Fonsi and Daddy Yankee featuring Justin B...</td>\n",
              "      <td>14</td>\n",
              "      <td>45.9</td>\n",
              "      <td>17 April 2017</td>\n",
              "      <td>27 April 2017</td>\n",
              "      <td>[203]</td>\n",
              "    </tr>\n",
              "    <tr>\n",
              "      <th>64</th>\n",
              "      <td>\"Humble\"</td>\n",
              "      <td>Kendrick Lamar</td>\n",
              "      <td>1</td>\n",
              "      <td>41.4</td>\n",
              "      <td>30 March 2017</td>\n",
              "      <td>20 April 2017</td>\n",
              "      <td>[204]</td>\n",
              "    </tr>\n",
              "    <tr>\n",
              "      <th>65</th>\n",
              "      <td>\"Shape of You\"</td>\n",
              "      <td>Ed Sheeran</td>\n",
              "      <td>14</td>\n",
              "      <td>51.9</td>\n",
              "      <td>6 January 2017</td>\n",
              "      <td>12 January 2017</td>\n",
              "      <td>[205]</td>\n",
              "    </tr>\n",
              "    <tr>\n",
              "      <th>66</th>\n",
              "      <td>\"Starboy\"</td>\n",
              "      <td>The Weeknd featuring Daft Punk</td>\n",
              "      <td>2</td>\n",
              "      <td>25.5</td>\n",
              "      <td>21 September 2016</td>\n",
              "      <td>29 December 2016</td>\n",
              "      <td>[206]</td>\n",
              "    </tr>\n",
              "    <tr>\n",
              "      <th>67</th>\n",
              "      <td>As of July 23rd 2023</td>\n",
              "      <td>As of July 23rd 2023</td>\n",
              "      <td>As of July 23rd 2023</td>\n",
              "      <td>As of July 23rd 2023</td>\n",
              "      <td>As of July 23rd 2023</td>\n",
              "      <td>As of July 23rd 2023</td>\n",
              "      <td>As of July 23rd 2023</td>\n",
              "    </tr>\n",
              "  </tbody>\n",
              "</table>\n",
              "<p>68 rows × 7 columns</p>\n",
              "</div>\n",
              "    <div class=\"colab-df-buttons\">\n",
              "\n",
              "  <div class=\"colab-df-container\">\n",
              "    <button class=\"colab-df-convert\" onclick=\"convertToInteractive('df-e9eb0f44-c014-48e6-b531-9209e964d6c5')\"\n",
              "            title=\"Convert this dataframe to an interactive table.\"\n",
              "            style=\"display:none;\">\n",
              "\n",
              "  <svg xmlns=\"http://www.w3.org/2000/svg\" height=\"24px\" viewBox=\"0 -960 960 960\">\n",
              "    <path d=\"M120-120v-720h720v720H120Zm60-500h600v-160H180v160Zm220 220h160v-160H400v160Zm0 220h160v-160H400v160ZM180-400h160v-160H180v160Zm440 0h160v-160H620v160ZM180-180h160v-160H180v160Zm440 0h160v-160H620v160Z\"/>\n",
              "  </svg>\n",
              "    </button>\n",
              "\n",
              "  <style>\n",
              "    .colab-df-container {\n",
              "      display:flex;\n",
              "      gap: 12px;\n",
              "    }\n",
              "\n",
              "    .colab-df-convert {\n",
              "      background-color: #E8F0FE;\n",
              "      border: none;\n",
              "      border-radius: 50%;\n",
              "      cursor: pointer;\n",
              "      display: none;\n",
              "      fill: #1967D2;\n",
              "      height: 32px;\n",
              "      padding: 0 0 0 0;\n",
              "      width: 32px;\n",
              "    }\n",
              "\n",
              "    .colab-df-convert:hover {\n",
              "      background-color: #E2EBFA;\n",
              "      box-shadow: 0px 1px 2px rgba(60, 64, 67, 0.3), 0px 1px 3px 1px rgba(60, 64, 67, 0.15);\n",
              "      fill: #174EA6;\n",
              "    }\n",
              "\n",
              "    .colab-df-buttons div {\n",
              "      margin-bottom: 4px;\n",
              "    }\n",
              "\n",
              "    [theme=dark] .colab-df-convert {\n",
              "      background-color: #3B4455;\n",
              "      fill: #D2E3FC;\n",
              "    }\n",
              "\n",
              "    [theme=dark] .colab-df-convert:hover {\n",
              "      background-color: #434B5C;\n",
              "      box-shadow: 0px 1px 3px 1px rgba(0, 0, 0, 0.15);\n",
              "      filter: drop-shadow(0px 1px 2px rgba(0, 0, 0, 0.3));\n",
              "      fill: #FFFFFF;\n",
              "    }\n",
              "  </style>\n",
              "\n",
              "    <script>\n",
              "      const buttonEl =\n",
              "        document.querySelector('#df-e9eb0f44-c014-48e6-b531-9209e964d6c5 button.colab-df-convert');\n",
              "      buttonEl.style.display =\n",
              "        google.colab.kernel.accessAllowed ? 'block' : 'none';\n",
              "\n",
              "      async function convertToInteractive(key) {\n",
              "        const element = document.querySelector('#df-e9eb0f44-c014-48e6-b531-9209e964d6c5');\n",
              "        const dataTable =\n",
              "          await google.colab.kernel.invokeFunction('convertToInteractive',\n",
              "                                                    [key], {});\n",
              "        if (!dataTable) return;\n",
              "\n",
              "        const docLinkHtml = 'Like what you see? Visit the ' +\n",
              "          '<a target=\"_blank\" href=https://colab.research.google.com/notebooks/data_table.ipynb>data table notebook</a>'\n",
              "          + ' to learn more about interactive tables.';\n",
              "        element.innerHTML = '';\n",
              "        dataTable['output_type'] = 'display_data';\n",
              "        await google.colab.output.renderOutput(dataTable, element);\n",
              "        const docLink = document.createElement('div');\n",
              "        docLink.innerHTML = docLinkHtml;\n",
              "        element.appendChild(docLink);\n",
              "      }\n",
              "    </script>\n",
              "  </div>\n",
              "\n",
              "\n",
              "<div id=\"df-78708557-dd83-4dff-8299-114885fd20ef\">\n",
              "  <button class=\"colab-df-quickchart\" onclick=\"quickchart('df-78708557-dd83-4dff-8299-114885fd20ef')\"\n",
              "            title=\"Suggest charts.\"\n",
              "            style=\"display:none;\">\n",
              "\n",
              "<svg xmlns=\"http://www.w3.org/2000/svg\" height=\"24px\"viewBox=\"0 0 24 24\"\n",
              "     width=\"24px\">\n",
              "    <g>\n",
              "        <path d=\"M19 3H5c-1.1 0-2 .9-2 2v14c0 1.1.9 2 2 2h14c1.1 0 2-.9 2-2V5c0-1.1-.9-2-2-2zM9 17H7v-7h2v7zm4 0h-2V7h2v10zm4 0h-2v-4h2v4z\"/>\n",
              "    </g>\n",
              "</svg>\n",
              "  </button>\n",
              "\n",
              "<style>\n",
              "  .colab-df-quickchart {\n",
              "      --bg-color: #E8F0FE;\n",
              "      --fill-color: #1967D2;\n",
              "      --hover-bg-color: #E2EBFA;\n",
              "      --hover-fill-color: #174EA6;\n",
              "      --disabled-fill-color: #AAA;\n",
              "      --disabled-bg-color: #DDD;\n",
              "  }\n",
              "\n",
              "  [theme=dark] .colab-df-quickchart {\n",
              "      --bg-color: #3B4455;\n",
              "      --fill-color: #D2E3FC;\n",
              "      --hover-bg-color: #434B5C;\n",
              "      --hover-fill-color: #FFFFFF;\n",
              "      --disabled-bg-color: #3B4455;\n",
              "      --disabled-fill-color: #666;\n",
              "  }\n",
              "\n",
              "  .colab-df-quickchart {\n",
              "    background-color: var(--bg-color);\n",
              "    border: none;\n",
              "    border-radius: 50%;\n",
              "    cursor: pointer;\n",
              "    display: none;\n",
              "    fill: var(--fill-color);\n",
              "    height: 32px;\n",
              "    padding: 0;\n",
              "    width: 32px;\n",
              "  }\n",
              "\n",
              "  .colab-df-quickchart:hover {\n",
              "    background-color: var(--hover-bg-color);\n",
              "    box-shadow: 0 1px 2px rgba(60, 64, 67, 0.3), 0 1px 3px 1px rgba(60, 64, 67, 0.15);\n",
              "    fill: var(--button-hover-fill-color);\n",
              "  }\n",
              "\n",
              "  .colab-df-quickchart-complete:disabled,\n",
              "  .colab-df-quickchart-complete:disabled:hover {\n",
              "    background-color: var(--disabled-bg-color);\n",
              "    fill: var(--disabled-fill-color);\n",
              "    box-shadow: none;\n",
              "  }\n",
              "\n",
              "  .colab-df-spinner {\n",
              "    border: 2px solid var(--fill-color);\n",
              "    border-color: transparent;\n",
              "    border-bottom-color: var(--fill-color);\n",
              "    animation:\n",
              "      spin 1s steps(1) infinite;\n",
              "  }\n",
              "\n",
              "  @keyframes spin {\n",
              "    0% {\n",
              "      border-color: transparent;\n",
              "      border-bottom-color: var(--fill-color);\n",
              "      border-left-color: var(--fill-color);\n",
              "    }\n",
              "    20% {\n",
              "      border-color: transparent;\n",
              "      border-left-color: var(--fill-color);\n",
              "      border-top-color: var(--fill-color);\n",
              "    }\n",
              "    30% {\n",
              "      border-color: transparent;\n",
              "      border-left-color: var(--fill-color);\n",
              "      border-top-color: var(--fill-color);\n",
              "      border-right-color: var(--fill-color);\n",
              "    }\n",
              "    40% {\n",
              "      border-color: transparent;\n",
              "      border-right-color: var(--fill-color);\n",
              "      border-top-color: var(--fill-color);\n",
              "    }\n",
              "    60% {\n",
              "      border-color: transparent;\n",
              "      border-right-color: var(--fill-color);\n",
              "    }\n",
              "    80% {\n",
              "      border-color: transparent;\n",
              "      border-right-color: var(--fill-color);\n",
              "      border-bottom-color: var(--fill-color);\n",
              "    }\n",
              "    90% {\n",
              "      border-color: transparent;\n",
              "      border-bottom-color: var(--fill-color);\n",
              "    }\n",
              "  }\n",
              "</style>\n",
              "\n",
              "  <script>\n",
              "    async function quickchart(key) {\n",
              "      const quickchartButtonEl =\n",
              "        document.querySelector('#' + key + ' button');\n",
              "      quickchartButtonEl.disabled = true;  // To prevent multiple clicks.\n",
              "      quickchartButtonEl.classList.add('colab-df-spinner');\n",
              "      try {\n",
              "        const charts = await google.colab.kernel.invokeFunction(\n",
              "            'suggestCharts', [key], {});\n",
              "      } catch (error) {\n",
              "        console.error('Error during call to suggestCharts:', error);\n",
              "      }\n",
              "      quickchartButtonEl.classList.remove('colab-df-spinner');\n",
              "      quickchartButtonEl.classList.add('colab-df-quickchart-complete');\n",
              "    }\n",
              "    (() => {\n",
              "      let quickchartButtonEl =\n",
              "        document.querySelector('#df-78708557-dd83-4dff-8299-114885fd20ef button');\n",
              "      quickchartButtonEl.style.display =\n",
              "        google.colab.kernel.accessAllowed ? 'block' : 'none';\n",
              "    })();\n",
              "  </script>\n",
              "</div>\n",
              "    </div>\n",
              "  </div>\n"
            ]
          },
          "metadata": {},
          "execution_count": 10
        }
      ],
      "source": [
        "import pandas as pd\n",
        "\n",
        "tables = pd.read_html(url)\n",
        "tables[3]"
      ]
    },
    {
      "cell_type": "markdown",
      "metadata": {
        "id": "PhaK8xzpt5BY"
      },
      "source": [
        "Now that we have our list of tables, find the element that has the large table of songs, and store it as the variable `songs_table`."
      ]
    },
    {
      "cell_type": "code",
      "execution_count": 11,
      "metadata": {
        "id": "NesBVP5st5BY"
      },
      "outputs": [],
      "source": [
        "songs_table = tables[3]"
      ]
    },
    {
      "cell_type": "markdown",
      "metadata": {
        "id": "jNLCL8uRt5Bb"
      },
      "source": [
        "Once stored, we can convert our table, which is a pandas dataframe, to a list of dictionaries.  We can do this with the line `songs_table.to_dict('records')`.  Assign the result to the variable `songs`."
      ]
    },
    {
      "cell_type": "code",
      "execution_count": 15,
      "metadata": {
        "id": "BqhZD9ONt5Bc",
        "outputId": "64f258f4-8429-48ea-ff3f-b4abcaa77a09",
        "colab": {
          "base_uri": "https://localhost:8080/"
        }
      },
      "outputs": [
        {
          "output_type": "execute_result",
          "data": {
            "text/plain": [
              "[{'Song': '\"Seven\"',\n",
              "  'Artist(s)': 'Jungkook featuring Latto',\n",
              "  'Weeks at No. 1': '8',\n",
              "  'Average streams (millions)': '63.9',\n",
              "  'Date published': 'July 14, 2023',\n",
              "  'Date achieved': 'July 20, 2023',\n",
              "  'Ref.': '[140]'},\n",
              " {'Song': '\"Lala\"',\n",
              "  'Artist(s)': 'Myke Towers',\n",
              "  'Weeks at No. 1': '1',\n",
              "  'Average streams (millions)': '39.4',\n",
              "  'Date published': 'March 23, 2023',\n",
              "  'Date achieved': 'July 13, 2023',\n",
              "  'Ref.': '[141]'}]"
            ]
          },
          "metadata": {},
          "execution_count": 15
        }
      ],
      "source": [
        "songs = songs_table.to_dict('records')\n",
        "songs[:2]"
      ]
    },
    {
      "cell_type": "markdown",
      "metadata": {
        "id": "V-3I6Lfat5Bc"
      },
      "source": [
        "Check that your result matches the commented out data in the cell."
      ]
    },
    {
      "cell_type": "code",
      "execution_count": 16,
      "metadata": {
        "id": "2xYgeyiat5Bc",
        "outputId": "aec8739c-ee12-4eac-9aee-ba8cba1a6e37",
        "colab": {
          "base_uri": "https://localhost:8080/"
        }
      },
      "outputs": [
        {
          "output_type": "execute_result",
          "data": {
            "text/plain": [
              "[{'Song': '\"Seven\"',\n",
              "  'Artist(s)': 'Jungkook featuring Latto',\n",
              "  'Weeks at No. 1': '8',\n",
              "  'Average streams (millions)': '63.9',\n",
              "  'Date published': 'July 14, 2023',\n",
              "  'Date achieved': 'July 20, 2023',\n",
              "  'Ref.': '[140]'},\n",
              " {'Song': '\"Lala\"',\n",
              "  'Artist(s)': 'Myke Towers',\n",
              "  'Weeks at No. 1': '1',\n",
              "  'Average streams (millions)': '39.4',\n",
              "  'Date published': 'March 23, 2023',\n",
              "  'Date achieved': 'July 13, 2023',\n",
              "  'Ref.': '[141]'}]"
            ]
          },
          "metadata": {},
          "execution_count": 16
        }
      ],
      "source": [
        "songs[:2]\n",
        "\n",
        "# [{'Song': '\"Flowers\"',\n",
        "#   'Artist(s)': 'Miley Cyrus',\n",
        "#   'Weeksat No. 1[152]': '1',\n",
        "#   'Average streams(millions)': '96.0',\n",
        "#   'Date published': '13 January 2023',\n",
        "#   'Date achieved': '19 January 2023',\n",
        "#   'Ref.': '[153]'},\n",
        "#  {'Song': '\"Kill Bill\"',\n",
        "#   'Artist(s)': 'SZA',\n",
        "#   'Weeksat No. 1[152]': '2',\n",
        "#   'Average streams(millions)': '44.4',\n",
        "#   'Date published': '9 December 2022',\n",
        "#   'Date achieved': '5 January 2023',\n",
        "#   'Ref.': '[154]'}]"
      ]
    },
    {
      "cell_type": "markdown",
      "metadata": {
        "id": "Y6EwKR3st5Bd"
      },
      "source": [
        "### Converting our list of dictionaries"
      ]
    },
    {
      "cell_type": "markdown",
      "metadata": {
        "id": "j5ZN1JxQt5Bd"
      },
      "source": [
        "Ok, so now we have a list of dictionaries, and we would like to have two lists -- one for each of the top songs, and another for the related number of streams of that songs.\n",
        "\n",
        "First, use a for loop to create a list of the songs.  Store that as the variable `song_names`."
      ]
    },
    {
      "cell_type": "code",
      "execution_count": 20,
      "metadata": {
        "id": "WZQWDxrIt5Bd"
      },
      "outputs": [],
      "source": [
        "song_names = []\n",
        "\n",
        "for song in songs:\n",
        "  song_name = song['Song']\n",
        "  song_names.append(song_name)\n",
        "\n"
      ]
    },
    {
      "cell_type": "code",
      "execution_count": 21,
      "metadata": {
        "id": "97WQ-bXWt5Be",
        "outputId": "298f6a1d-49e1-48c8-9ed4-075e009e19d9",
        "colab": {
          "base_uri": "https://localhost:8080/"
        }
      },
      "outputs": [
        {
          "output_type": "execute_result",
          "data": {
            "text/plain": [
              "['\"Seven\"', '\"Lala\"', '\"Vampire\"']"
            ]
          },
          "metadata": {},
          "execution_count": 21
        }
      ],
      "source": [
        "song_names[:3]\n",
        "\n",
        "# ['\"Flowers\"', '\"Kill Bill\"', '\"Anti-Hero\"']"
      ]
    },
    {
      "cell_type": "markdown",
      "metadata": {
        "id": "QhNgoOKzt5Bf"
      },
      "source": [
        "Next we need a list of the number of streams."
      ]
    },
    {
      "cell_type": "code",
      "execution_count": 24,
      "metadata": {
        "id": "CoPabgd7t5Bf"
      },
      "outputs": [],
      "source": [
        "streams = []\n",
        "for stream in songs:\n",
        "  stream_name = stream['Average streams (millions)']\n",
        "  streams.append(stream_name)"
      ]
    },
    {
      "cell_type": "code",
      "execution_count": 25,
      "metadata": {
        "id": "NcdPND8nt5Bf",
        "outputId": "8511d525-6bb7-44d6-ccf4-c827d34f9dd4",
        "colab": {
          "base_uri": "https://localhost:8080/"
        }
      },
      "outputs": [
        {
          "output_type": "execute_result",
          "data": {
            "text/plain": [
              "['63.9', '39.4', '52.0']"
            ]
          },
          "metadata": {},
          "execution_count": 25
        }
      ],
      "source": [
        "streams[:3]\n",
        "# ['96.0', '44.4', '64.0']"
      ]
    },
    {
      "cell_type": "markdown",
      "metadata": {
        "id": "DZ1O9rQTt5Bg"
      },
      "source": [
        "### Plotting our Data"
      ]
    },
    {
      "cell_type": "markdown",
      "metadata": {
        "id": "duyv0vbht5Bg"
      },
      "source": [
        "Ok, now it's time for plotly. We start by importing our `plotly.graph_objects` library in such a way that we can reference it as `go`."
      ]
    },
    {
      "cell_type": "code",
      "execution_count": 26,
      "metadata": {
        "id": "LHMo6c8pt5Bg"
      },
      "outputs": [],
      "source": [
        "import plotly.graph_objects as go"
      ]
    },
    {
      "cell_type": "markdown",
      "metadata": {
        "id": "GnnKBP01t5Bg"
      },
      "source": [
        "Now we want to create a figure, and inside of the figure, place a trace.  Change the trace so that it prints out the correct information.  Remember our two lists are `song_names` and `streams`."
      ]
    },
    {
      "cell_type": "code",
      "execution_count": 28,
      "metadata": {
        "id": "5wllHTaNt5Bg",
        "outputId": "45f2b527-4b6b-4f62-8494-057b002d5de0",
        "colab": {
          "base_uri": "https://localhost:8080/",
          "height": 542
        }
      },
      "outputs": [
        {
          "output_type": "display_data",
          "data": {
            "text/html": [
              "<html>\n",
              "<head><meta charset=\"utf-8\" /></head>\n",
              "<body>\n",
              "    <div>            <script src=\"https://cdnjs.cloudflare.com/ajax/libs/mathjax/2.7.5/MathJax.js?config=TeX-AMS-MML_SVG\"></script><script type=\"text/javascript\">if (window.MathJax && window.MathJax.Hub && window.MathJax.Hub.Config) {window.MathJax.Hub.Config({SVG: {font: \"STIX-Web\"}});}</script>                <script type=\"text/javascript\">window.PlotlyConfig = {MathJaxConfig: 'local'};</script>\n",
              "        <script charset=\"utf-8\" src=\"https://cdn.plot.ly/plotly-2.24.1.min.js\"></script>                <div id=\"0dcfc7df-e58f-4687-a6f6-3aeae9e3ef8a\" class=\"plotly-graph-div\" style=\"height:525px; width:100%;\"></div>            <script type=\"text/javascript\">                                    window.PLOTLYENV=window.PLOTLYENV || {};                                    if (document.getElementById(\"0dcfc7df-e58f-4687-a6f6-3aeae9e3ef8a\")) {                    Plotly.newPlot(                        \"0dcfc7df-e58f-4687-a6f6-3aeae9e3ef8a\",                        [{\"hovertext\":[\"['63.9', '39.4', '52.0', '53.2', '44.6', '57.1', '68.4', '44.4', '63.9', '47.2', '39.2', '45.9', '57.4', '51.0', '62.5', '30.7', '32.7', '41.9', '51.9', '58.4', '51.0', '63.2', '49.4', '48.0', '50.0', '44.0', '41.5', '38.3', '46.0', '32.2', '35.7', '37.4', '41.6', '48.4', '42.0', '46.2', '47.2', '46.2', '48.2', '43.4', '53.0', '44.0', '42.6', '47.9', '33.6', '44.7', '44.2', '39.6', '35.9', '32.9', '34.9', '51.5', '43.7', '34.9', '32.9', '40.7', '40.6', '47.8', '30.9', '38.6', '30.7', '39.8', '32.1', '45.9', '41.4', '51.9', '25.5', 'As of July 23rd 2023']\"],\"mode\":\"markers\",\"y\":[[\"\\\"Seven\\\"\",\"\\\"Lala\\\"\",\"\\\"Vampire\\\"\",\"\\\"Un x100to\\\"\",\"\\\"Ella Baila Sola\\\"\",\"\\\"TQG\\\"\",\"\\\"Flowers\\\"\",\"\\\"Kill Bill\\\"\",\"\\\"Anti-Hero\\\"\",\"\\\"Unholy\\\"\",\"\\\"Shut Down\\\"\",\"\\\"Quevedo: Bzrp Music Sessions, Vol. 52\\\"\",\"\\\"Glimpse of Us\\\"\",\"\\\"Running Up That Hill (A Deal with God)\\\"\",\"\\\"As It Was\\\"\",\"\\\"Heat Waves\\\"\",\"\\\"ABCDEFU\\\"\",\"\\\"All Too Well (10 Minute Version)\\\"\",\"\\\"Easy On Me\\\"\",\"\\\"Stay\\\"\",\"\\\"Beggin'\\\"\",\"\\\"Good 4 U\\\"\",\"\\\"Montero (Call Me by Your Name)\\\"\",\"\\\"Peaches\\\"\",\"\\\"Drivers License\\\"\",\"\\\"Dakiti\\\"\",\"\\\"Positions\\\"\",\"\\\"Mood\\\"\",\"\\\"WAP\\\"\",\"\\\"Savage Love (Laxed \\u2013 Siren Beat)\\\"\",\"\\\"Cardigan\\\"\",\"\\\"Rockstar\\\"\",\"\\\"Rain on Me\\\"\",\"\\\"The Scotts\\\"\",\"\\\"Blinding Lights\\\"\",\"\\\"The Box\\\"\",\"\\\"Lose You to Love Me\\\"\",\"\\\"Dance Monkey\\\"\",\"\\\"Highest in the Room\\\"\",\"\\\"Circles\\\"\",\"\\\"Se\\u00f1orita\\\"\",\"\\\"I Don't Care\\\"\",\"\\\"Bad Guy\\\"\",\"\\\"7 Rings\\\"\",\"\\\"Sunflower\\\"\",\"\\\"All I Want for Christmas Is You\\\"\",\"\\\"Thank U, Next\\\"\",\"\\\"Mia\\\"\",\"\\\"Taki Taki\\\"\",\"\\\"I Love It\\\"\",\"\\\"Lucky You\\\"\",\"\\\"In My Feelings\\\"\",\"\\\"Nonstop\\\"\",\"\\\"This Is America\\\"\",\"\\\"Better Now\\\"\",\"\\\"Nice for What\\\"\",\"\\\"Call Out My Name\\\"\",\"\\\"God's Plan\\\"\",\"\\\"Havana\\\"\",\"\\\"Rockstar\\\"\",\"\\\"Too Good at Goodbyes\\\"\",\"\\\"Look What You Made Me Do\\\"\",\"\\\"Mi Gente\\\"\",\"\\\"Despacito (remix)\\\"\",\"\\\"Humble\\\"\",\"\\\"Shape of You\\\"\",\"\\\"Starboy\\\"\",\"As of July 23rd 2023\"]],\"type\":\"scatter\"}],                        {\"template\":{\"data\":{\"histogram2dcontour\":[{\"type\":\"histogram2dcontour\",\"colorbar\":{\"outlinewidth\":0,\"ticks\":\"\"},\"colorscale\":[[0.0,\"#0d0887\"],[0.1111111111111111,\"#46039f\"],[0.2222222222222222,\"#7201a8\"],[0.3333333333333333,\"#9c179e\"],[0.4444444444444444,\"#bd3786\"],[0.5555555555555556,\"#d8576b\"],[0.6666666666666666,\"#ed7953\"],[0.7777777777777778,\"#fb9f3a\"],[0.8888888888888888,\"#fdca26\"],[1.0,\"#f0f921\"]]}],\"choropleth\":[{\"type\":\"choropleth\",\"colorbar\":{\"outlinewidth\":0,\"ticks\":\"\"}}],\"histogram2d\":[{\"type\":\"histogram2d\",\"colorbar\":{\"outlinewidth\":0,\"ticks\":\"\"},\"colorscale\":[[0.0,\"#0d0887\"],[0.1111111111111111,\"#46039f\"],[0.2222222222222222,\"#7201a8\"],[0.3333333333333333,\"#9c179e\"],[0.4444444444444444,\"#bd3786\"],[0.5555555555555556,\"#d8576b\"],[0.6666666666666666,\"#ed7953\"],[0.7777777777777778,\"#fb9f3a\"],[0.8888888888888888,\"#fdca26\"],[1.0,\"#f0f921\"]]}],\"heatmap\":[{\"type\":\"heatmap\",\"colorbar\":{\"outlinewidth\":0,\"ticks\":\"\"},\"colorscale\":[[0.0,\"#0d0887\"],[0.1111111111111111,\"#46039f\"],[0.2222222222222222,\"#7201a8\"],[0.3333333333333333,\"#9c179e\"],[0.4444444444444444,\"#bd3786\"],[0.5555555555555556,\"#d8576b\"],[0.6666666666666666,\"#ed7953\"],[0.7777777777777778,\"#fb9f3a\"],[0.8888888888888888,\"#fdca26\"],[1.0,\"#f0f921\"]]}],\"heatmapgl\":[{\"type\":\"heatmapgl\",\"colorbar\":{\"outlinewidth\":0,\"ticks\":\"\"},\"colorscale\":[[0.0,\"#0d0887\"],[0.1111111111111111,\"#46039f\"],[0.2222222222222222,\"#7201a8\"],[0.3333333333333333,\"#9c179e\"],[0.4444444444444444,\"#bd3786\"],[0.5555555555555556,\"#d8576b\"],[0.6666666666666666,\"#ed7953\"],[0.7777777777777778,\"#fb9f3a\"],[0.8888888888888888,\"#fdca26\"],[1.0,\"#f0f921\"]]}],\"contourcarpet\":[{\"type\":\"contourcarpet\",\"colorbar\":{\"outlinewidth\":0,\"ticks\":\"\"}}],\"contour\":[{\"type\":\"contour\",\"colorbar\":{\"outlinewidth\":0,\"ticks\":\"\"},\"colorscale\":[[0.0,\"#0d0887\"],[0.1111111111111111,\"#46039f\"],[0.2222222222222222,\"#7201a8\"],[0.3333333333333333,\"#9c179e\"],[0.4444444444444444,\"#bd3786\"],[0.5555555555555556,\"#d8576b\"],[0.6666666666666666,\"#ed7953\"],[0.7777777777777778,\"#fb9f3a\"],[0.8888888888888888,\"#fdca26\"],[1.0,\"#f0f921\"]]}],\"surface\":[{\"type\":\"surface\",\"colorbar\":{\"outlinewidth\":0,\"ticks\":\"\"},\"colorscale\":[[0.0,\"#0d0887\"],[0.1111111111111111,\"#46039f\"],[0.2222222222222222,\"#7201a8\"],[0.3333333333333333,\"#9c179e\"],[0.4444444444444444,\"#bd3786\"],[0.5555555555555556,\"#d8576b\"],[0.6666666666666666,\"#ed7953\"],[0.7777777777777778,\"#fb9f3a\"],[0.8888888888888888,\"#fdca26\"],[1.0,\"#f0f921\"]]}],\"mesh3d\":[{\"type\":\"mesh3d\",\"colorbar\":{\"outlinewidth\":0,\"ticks\":\"\"}}],\"scatter\":[{\"fillpattern\":{\"fillmode\":\"overlay\",\"size\":10,\"solidity\":0.2},\"type\":\"scatter\"}],\"parcoords\":[{\"type\":\"parcoords\",\"line\":{\"colorbar\":{\"outlinewidth\":0,\"ticks\":\"\"}}}],\"scatterpolargl\":[{\"type\":\"scatterpolargl\",\"marker\":{\"colorbar\":{\"outlinewidth\":0,\"ticks\":\"\"}}}],\"bar\":[{\"error_x\":{\"color\":\"#2a3f5f\"},\"error_y\":{\"color\":\"#2a3f5f\"},\"marker\":{\"line\":{\"color\":\"#E5ECF6\",\"width\":0.5},\"pattern\":{\"fillmode\":\"overlay\",\"size\":10,\"solidity\":0.2}},\"type\":\"bar\"}],\"scattergeo\":[{\"type\":\"scattergeo\",\"marker\":{\"colorbar\":{\"outlinewidth\":0,\"ticks\":\"\"}}}],\"scatterpolar\":[{\"type\":\"scatterpolar\",\"marker\":{\"colorbar\":{\"outlinewidth\":0,\"ticks\":\"\"}}}],\"histogram\":[{\"marker\":{\"pattern\":{\"fillmode\":\"overlay\",\"size\":10,\"solidity\":0.2}},\"type\":\"histogram\"}],\"scattergl\":[{\"type\":\"scattergl\",\"marker\":{\"colorbar\":{\"outlinewidth\":0,\"ticks\":\"\"}}}],\"scatter3d\":[{\"type\":\"scatter3d\",\"line\":{\"colorbar\":{\"outlinewidth\":0,\"ticks\":\"\"}},\"marker\":{\"colorbar\":{\"outlinewidth\":0,\"ticks\":\"\"}}}],\"scattermapbox\":[{\"type\":\"scattermapbox\",\"marker\":{\"colorbar\":{\"outlinewidth\":0,\"ticks\":\"\"}}}],\"scatterternary\":[{\"type\":\"scatterternary\",\"marker\":{\"colorbar\":{\"outlinewidth\":0,\"ticks\":\"\"}}}],\"scattercarpet\":[{\"type\":\"scattercarpet\",\"marker\":{\"colorbar\":{\"outlinewidth\":0,\"ticks\":\"\"}}}],\"carpet\":[{\"aaxis\":{\"endlinecolor\":\"#2a3f5f\",\"gridcolor\":\"white\",\"linecolor\":\"white\",\"minorgridcolor\":\"white\",\"startlinecolor\":\"#2a3f5f\"},\"baxis\":{\"endlinecolor\":\"#2a3f5f\",\"gridcolor\":\"white\",\"linecolor\":\"white\",\"minorgridcolor\":\"white\",\"startlinecolor\":\"#2a3f5f\"},\"type\":\"carpet\"}],\"table\":[{\"cells\":{\"fill\":{\"color\":\"#EBF0F8\"},\"line\":{\"color\":\"white\"}},\"header\":{\"fill\":{\"color\":\"#C8D4E3\"},\"line\":{\"color\":\"white\"}},\"type\":\"table\"}],\"barpolar\":[{\"marker\":{\"line\":{\"color\":\"#E5ECF6\",\"width\":0.5},\"pattern\":{\"fillmode\":\"overlay\",\"size\":10,\"solidity\":0.2}},\"type\":\"barpolar\"}],\"pie\":[{\"automargin\":true,\"type\":\"pie\"}]},\"layout\":{\"autotypenumbers\":\"strict\",\"colorway\":[\"#636efa\",\"#EF553B\",\"#00cc96\",\"#ab63fa\",\"#FFA15A\",\"#19d3f3\",\"#FF6692\",\"#B6E880\",\"#FF97FF\",\"#FECB52\"],\"font\":{\"color\":\"#2a3f5f\"},\"hovermode\":\"closest\",\"hoverlabel\":{\"align\":\"left\"},\"paper_bgcolor\":\"white\",\"plot_bgcolor\":\"#E5ECF6\",\"polar\":{\"bgcolor\":\"#E5ECF6\",\"angularaxis\":{\"gridcolor\":\"white\",\"linecolor\":\"white\",\"ticks\":\"\"},\"radialaxis\":{\"gridcolor\":\"white\",\"linecolor\":\"white\",\"ticks\":\"\"}},\"ternary\":{\"bgcolor\":\"#E5ECF6\",\"aaxis\":{\"gridcolor\":\"white\",\"linecolor\":\"white\",\"ticks\":\"\"},\"baxis\":{\"gridcolor\":\"white\",\"linecolor\":\"white\",\"ticks\":\"\"},\"caxis\":{\"gridcolor\":\"white\",\"linecolor\":\"white\",\"ticks\":\"\"}},\"coloraxis\":{\"colorbar\":{\"outlinewidth\":0,\"ticks\":\"\"}},\"colorscale\":{\"sequential\":[[0.0,\"#0d0887\"],[0.1111111111111111,\"#46039f\"],[0.2222222222222222,\"#7201a8\"],[0.3333333333333333,\"#9c179e\"],[0.4444444444444444,\"#bd3786\"],[0.5555555555555556,\"#d8576b\"],[0.6666666666666666,\"#ed7953\"],[0.7777777777777778,\"#fb9f3a\"],[0.8888888888888888,\"#fdca26\"],[1.0,\"#f0f921\"]],\"sequentialminus\":[[0.0,\"#0d0887\"],[0.1111111111111111,\"#46039f\"],[0.2222222222222222,\"#7201a8\"],[0.3333333333333333,\"#9c179e\"],[0.4444444444444444,\"#bd3786\"],[0.5555555555555556,\"#d8576b\"],[0.6666666666666666,\"#ed7953\"],[0.7777777777777778,\"#fb9f3a\"],[0.8888888888888888,\"#fdca26\"],[1.0,\"#f0f921\"]],\"diverging\":[[0,\"#8e0152\"],[0.1,\"#c51b7d\"],[0.2,\"#de77ae\"],[0.3,\"#f1b6da\"],[0.4,\"#fde0ef\"],[0.5,\"#f7f7f7\"],[0.6,\"#e6f5d0\"],[0.7,\"#b8e186\"],[0.8,\"#7fbc41\"],[0.9,\"#4d9221\"],[1,\"#276419\"]]},\"xaxis\":{\"gridcolor\":\"white\",\"linecolor\":\"white\",\"ticks\":\"\",\"title\":{\"standoff\":15},\"zerolinecolor\":\"white\",\"automargin\":true,\"zerolinewidth\":2},\"yaxis\":{\"gridcolor\":\"white\",\"linecolor\":\"white\",\"ticks\":\"\",\"title\":{\"standoff\":15},\"zerolinecolor\":\"white\",\"automargin\":true,\"zerolinewidth\":2},\"scene\":{\"xaxis\":{\"backgroundcolor\":\"#E5ECF6\",\"gridcolor\":\"white\",\"linecolor\":\"white\",\"showbackground\":true,\"ticks\":\"\",\"zerolinecolor\":\"white\",\"gridwidth\":2},\"yaxis\":{\"backgroundcolor\":\"#E5ECF6\",\"gridcolor\":\"white\",\"linecolor\":\"white\",\"showbackground\":true,\"ticks\":\"\",\"zerolinecolor\":\"white\",\"gridwidth\":2},\"zaxis\":{\"backgroundcolor\":\"#E5ECF6\",\"gridcolor\":\"white\",\"linecolor\":\"white\",\"showbackground\":true,\"ticks\":\"\",\"zerolinecolor\":\"white\",\"gridwidth\":2}},\"shapedefaults\":{\"line\":{\"color\":\"#2a3f5f\"}},\"annotationdefaults\":{\"arrowcolor\":\"#2a3f5f\",\"arrowhead\":0,\"arrowwidth\":1},\"geo\":{\"bgcolor\":\"white\",\"landcolor\":\"#E5ECF6\",\"subunitcolor\":\"white\",\"showland\":true,\"showlakes\":true,\"lakecolor\":\"white\"},\"title\":{\"x\":0.05},\"mapbox\":{\"style\":\"light\"}}}},                        {\"responsive\": true}                    ).then(function(){\n",
              "                            \n",
              "var gd = document.getElementById('0dcfc7df-e58f-4687-a6f6-3aeae9e3ef8a');\n",
              "var x = new MutationObserver(function (mutations, observer) {{\n",
              "        var display = window.getComputedStyle(gd).display;\n",
              "        if (!display || display === 'none') {{\n",
              "            console.log([gd, 'removed!']);\n",
              "            Plotly.purge(gd);\n",
              "            observer.disconnect();\n",
              "        }}\n",
              "}});\n",
              "\n",
              "// Listen for the removal of the full notebook cells\n",
              "var notebookContainer = gd.closest('#notebook-container');\n",
              "if (notebookContainer) {{\n",
              "    x.observe(notebookContainer, {childList: true});\n",
              "}}\n",
              "\n",
              "// Listen for the clearing of the current output cell\n",
              "var outputEl = gd.closest('.output');\n",
              "if (outputEl) {{\n",
              "    x.observe(outputEl, {childList: true});\n",
              "}}\n",
              "\n",
              "                        })                };                            </script>        </div>\n",
              "</body>\n",
              "</html>"
            ]
          },
          "metadata": {}
        }
      ],
      "source": [
        "import plotly.graph_objects as go\n",
        "\n",
        "scatter = go.Scatter(y = [song_names], mode = 'markers', hovertext = [streams])\n",
        "\n",
        "go.Figure(scatter)"
      ]
    },
    {
      "cell_type": "markdown",
      "metadata": {
        "id": "MZd3LCwAt5Bh"
      },
      "source": [
        "### Summary"
      ]
    },
    {
      "cell_type": "markdown",
      "metadata": {
        "id": "LhqMzH9Bt5Bh"
      },
      "source": [
        "Well, that's a job well done.  If you started these lessons without ever having coded before, please go give yourself a well deserved reward.  You earned it.\n",
        "\n",
        "And if you'd like to keep going, check out one of our other courses or workshops.  You won't be disappointed :)"
      ]
    }
  ],
  "metadata": {
    "kernelspec": {
      "display_name": "Python 3 (ipykernel)",
      "language": "python",
      "name": "python3"
    },
    "language_info": {
      "codemirror_mode": {
        "name": "ipython",
        "version": 3
      },
      "file_extension": ".py",
      "mimetype": "text/x-python",
      "name": "python",
      "nbconvert_exporter": "python",
      "pygments_lexer": "ipython3",
      "version": "3.10.6"
    },
    "colab": {
      "provenance": []
    }
  },
  "nbformat": 4,
  "nbformat_minor": 0
}