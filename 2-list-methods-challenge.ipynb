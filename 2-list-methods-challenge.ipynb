{
  "cells": [
    {
      "cell_type": "markdown",
      "id": "0bda5ce3-04ef-4033-869c-6b718ce71a8f",
      "metadata": {
        "id": "0bda5ce3-04ef-4033-869c-6b718ce71a8f"
      },
      "source": [
        "# List Methods Challenge"
      ]
    },
    {
      "cell_type": "markdown",
      "id": "6579ce20-1319-4fca-9c58-b3a39784ff5b",
      "metadata": {
        "id": "6579ce20-1319-4fca-9c58-b3a39784ff5b"
      },
      "source": [
        "### Introduction"
      ]
    },
    {
      "cell_type": "markdown",
      "id": "ec18aae5-14e1-4da6-9493-3d6398679f5c",
      "metadata": {
        "id": "ec18aae5-14e1-4da6-9493-3d6398679f5c"
      },
      "source": [
        "Let's take another look at the list methods challenge from the last lab."
      ]
    },
    {
      "cell_type": "markdown",
      "id": "600df2d5-e44a-4630-9a55-27be02bcfd0d",
      "metadata": {
        "id": "600df2d5-e44a-4630-9a55-27be02bcfd0d"
      },
      "source": [
        "### Problem"
      ]
    },
    {
      "cell_type": "markdown",
      "id": "84ffd55f-8049-4a96-87c1-153fd44bc1b9",
      "metadata": {
        "id": "84ffd55f-8049-4a96-87c1-153fd44bc1b9"
      },
      "source": [
        "Now here are a list of customers that our restaurant had in the past day. Write code that outputs number of customers that showed up more than once."
      ]
    },
    {
      "cell_type": "markdown",
      "id": "a67dd6d4-5b0d-4382-9162-6a09cb449fb4",
      "metadata": {
        "id": "a67dd6d4-5b0d-4382-9162-6a09cb449fb4"
      },
      "source": [
        "> We can start with the scenario where a customer only shows up for a maximum of two times."
      ]
    },
    {
      "cell_type": "code",
      "execution_count": null,
      "id": "a45c0eaf-cb5e-4031-9d89-507daee5628f",
      "metadata": {
        "id": "a45c0eaf-cb5e-4031-9d89-507daee5628f"
      },
      "outputs": [],
      "source": [
        "customers = ['Lowell Appleberry', 'Elisha Guillen',\n",
        "             'Benita Ryals', 'Benita Ryals']"
      ]
    },
    {
      "cell_type": "code",
      "execution_count": null,
      "id": "4cd08e57-43ff-4262-8527-e4121a55d6b9",
      "metadata": {
        "id": "4cd08e57-43ff-4262-8527-e4121a55d6b9",
        "outputId": "bb78ce80-b6a5-4d7a-fbf6-c7e848398579"
      },
      "outputs": [
        {
          "data": {
            "text/plain": [
              "1"
            ]
          },
          "execution_count": 7,
          "metadata": {},
          "output_type": "execute_result"
        }
      ],
      "source": [
        "\n",
        "# 1"
      ]
    },
    {
      "cell_type": "markdown",
      "id": "51902a87-1d95-46ae-8214-710b78258120",
      "metadata": {
        "id": "51902a87-1d95-46ae-8214-710b78258120"
      },
      "source": [
        "> And now make sure the code also handles the below scenario where some of the individuals show up three or more times."
      ]
    },
    {
      "cell_type": "code",
      "execution_count": 10,
      "id": "da0d6094-0cb5-489a-ba7c-b3f5158c884c",
      "metadata": {
        "id": "da0d6094-0cb5-489a-ba7c-b3f5158c884c"
      },
      "outputs": [],
      "source": [
        "customers = ['Lowell Appleberry', 'Elisha Guillen',\n",
        "             'Benita Ryals', 'Benita Ryals', 'Benita Ryals', 'Lowell Appleberry']"
      ]
    },
    {
      "cell_type": "code",
      "execution_count": 19,
      "id": "a736e00f-937d-4fe2-ae66-e2c393ea8ad5",
      "metadata": {
        "colab": {
          "base_uri": "https://localhost:8080/"
        },
        "id": "a736e00f-937d-4fe2-ae66-e2c393ea8ad5",
        "outputId": "b44d9367-09e9-463d-c125-20ed3780bb5d"
      },
      "outputs": [
        {
          "output_type": "execute_result",
          "data": {
            "text/plain": [
              "{'Benita Ryals', 'Lowell Appleberry'}"
            ]
          },
          "metadata": {},
          "execution_count": 19
        }
      ],
      "source": [
        "counter = []\n",
        "cust = sorted(customers)\n",
        "for idx in list(range(len(cust)-1)):\n",
        "  ccust = cust[idx]\n",
        "  ncust = cust[idx+1]\n",
        "  if ccust == ncust:\n",
        "    counter.append(ccust)\n",
        "\n",
        "set(counter)\n",
        "\n",
        "\n",
        "# 2"
      ]
    },
    {
      "cell_type": "code",
      "source": [],
      "metadata": {
        "id": "YbB2tGhveRrd"
      },
      "id": "YbB2tGhveRrd",
      "execution_count": null,
      "outputs": []
    }
  ],
  "metadata": {
    "kernelspec": {
      "display_name": "Python 3 (ipykernel)",
      "language": "python",
      "name": "python3"
    },
    "language_info": {
      "codemirror_mode": {
        "name": "ipython",
        "version": 3
      },
      "file_extension": ".py",
      "mimetype": "text/x-python",
      "name": "python",
      "nbconvert_exporter": "python",
      "pygments_lexer": "ipython3",
      "version": "3.9.12"
    },
    "colab": {
      "provenance": []
    }
  },
  "nbformat": 4,
  "nbformat_minor": 5
}