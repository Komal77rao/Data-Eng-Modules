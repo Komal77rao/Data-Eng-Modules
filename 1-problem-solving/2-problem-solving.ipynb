{
  "cells": [
    {
      "cell_type": "markdown",
      "metadata": {
        "id": "view-in-github",
        "colab_type": "text"
      },
      "source": [
        "<a href=\"https://colab.research.google.com/github/Komal77rao/Data-Eng-Modules/blob/main/1-problem-solving/2-problem-solving.ipynb\" target=\"_parent\"><img src=\"https://colab.research.google.com/assets/colab-badge.svg\" alt=\"Open In Colab\"/></a>"
      ]
    },
    {
      "cell_type": "markdown",
      "id": "figured-spelling",
      "metadata": {
        "id": "figured-spelling"
      },
      "source": [
        "# 2. Problem Solving"
      ]
    },
    {
      "cell_type": "markdown",
      "id": "personalized-folks",
      "metadata": {
        "id": "personalized-folks"
      },
      "source": [
        "## Introduction"
      ]
    },
    {
      "cell_type": "markdown",
      "id": "22c363fd-7a22-40b3-a5d3-57da802482ce",
      "metadata": {
        "id": "22c363fd-7a22-40b3-a5d3-57da802482ce"
      },
      "source": [
        "In the last lesson, we moved through the steps of understanding a problem -- where we repeated the problem focusing on the inputs and outputs, determined the problem's scope, and then providing example problems and solutions."
      ]
    },
    {
      "cell_type": "markdown",
      "id": "08ccf8ad-fec5-4c8e-969b-845230b87610",
      "metadata": {
        "id": "08ccf8ad-fec5-4c8e-969b-845230b87610"
      },
      "source": [
        "In this lesson, we'll move onto a procedure for finding solutions to the problem."
      ]
    },
    {
      "cell_type": "markdown",
      "id": "db985a8f-c3b9-4ed8-a288-c05e2141c948",
      "metadata": {
        "id": "db985a8f-c3b9-4ed8-a288-c05e2141c948"
      },
      "source": [
        "### Problem Solving"
      ]
    },
    {
      "cell_type": "markdown",
      "id": "575d8cf7-19f0-429e-b898-670f5b02f8f1",
      "metadata": {
        "id": "575d8cf7-19f0-429e-b898-670f5b02f8f1"
      },
      "source": [
        "Let's remember where we last left off.  We are given a list of strings like those below."
      ]
    },
    {
      "cell_type": "code",
      "execution_count": null,
      "id": "3cc1a740-aa56-4bdb-8574-9ef12f18e3e4",
      "metadata": {
        "id": "3cc1a740-aa56-4bdb-8574-9ef12f18e3e4"
      },
      "outputs": [],
      "source": [
        "numbers = [\"2124443321\", \"2158861321\",\n",
        "           \"8564659988\", \"3121100845\",\n",
        "           \"8564659988\", \"2124443321\"]"
      ]
    },
    {
      "cell_type": "markdown",
      "id": "b53b8c3b-fc38-4b2d-8369-f96b5003899a",
      "metadata": {
        "id": "b53b8c3b-fc38-4b2d-8369-f96b5003899a"
      },
      "source": [
        "And we are asked to write a function that returns whether or not the string has been seen before.  "
      ]
    },
    {
      "cell_type": "code",
      "execution_count": null,
      "id": "84a5c1fb-2ded-4e05-b8c4-553f8879c6e1",
      "metadata": {
        "id": "84a5c1fb-2ded-4e05-b8c4-553f8879c6e1"
      },
      "outputs": [],
      "source": [
        "def find_repeat(numbers):\n",
        "    pass"
      ]
    },
    {
      "cell_type": "markdown",
      "id": "82b2d606-80e7-4282-b944-241e6f9626b4",
      "metadata": {
        "id": "82b2d606-80e7-4282-b944-241e6f9626b4"
      },
      "source": [
        "And after passing through the above list, we should see the following:"
      ]
    },
    {
      "cell_type": "code",
      "execution_count": null,
      "id": "55af65e0-5be7-4071-9ccb-399828d0b946",
      "metadata": {
        "id": "55af65e0-5be7-4071-9ccb-399828d0b946",
        "outputId": "43b78e9a-5a20-4333-a2c7-786424a3c272"
      },
      "outputs": [
        {
          "data": {
            "text/plain": [
              "{'2124443321': [0, 5], '8564659988': [2, 4]}"
            ]
          },
          "execution_count": 3,
          "metadata": {},
          "output_type": "execute_result"
        }
      ],
      "source": [
        "{\"2124443321\": [0, 5], \"8564659988\": [2, 4]}"
      ]
    },
    {
      "cell_type": "markdown",
      "id": "overhead-kennedy",
      "metadata": {
        "tags": [],
        "id": "overhead-kennedy"
      },
      "source": [
        "### Step 1: Problem Solving"
      ]
    },
    {
      "cell_type": "markdown",
      "id": "7e686240-1768-4d3d-8c4c-774e01a0fece",
      "metadata": {
        "id": "7e686240-1768-4d3d-8c4c-774e01a0fece"
      },
      "source": [
        "1. First, solve it without code"
      ]
    },
    {
      "cell_type": "markdown",
      "id": "f805f644-b482-472b-ac77-5e524194109d",
      "metadata": {
        "id": "f805f644-b482-472b-ac77-5e524194109d"
      },
      "source": [
        "Now the first step in problem solving is to first solve the problem without code.  Let's take a look at our inputs."
      ]
    },
    {
      "cell_type": "code",
      "execution_count": null,
      "id": "4d87cc8f-52c8-43ae-9f9a-81a8a2adbe17",
      "metadata": {
        "id": "4d87cc8f-52c8-43ae-9f9a-81a8a2adbe17"
      },
      "outputs": [],
      "source": [
        "numbers = [\"2124443321\", \"2158861321\",\n",
        "           \"8564659988\", \"3121100845\",\n",
        "           \"8564659988\", \"2124443321\"]"
      ]
    },
    {
      "cell_type": "markdown",
      "id": "8060ab07-d531-4951-b4d8-3c3996625168",
      "metadata": {
        "id": "8060ab07-d531-4951-b4d8-3c3996625168"
      },
      "source": [
        "Can you identify the numbers that are inputs?  Copy them below -- don't worry about formatting it into a dictionary, or collecting the indices.  Let's just use the space below to come to the solution -- and accomplish this in the easiest way we can.  \n",
        "\n",
        "This is what we get."
      ]
    },
    {
      "cell_type": "markdown",
      "id": "3af6b7fb-cc58-407f-a80c-467562b126d1",
      "metadata": {
        "id": "3af6b7fb-cc58-407f-a80c-467562b126d1"
      },
      "source": [
        "```text\n",
        "\"2124443321\" \"2158861321\" \"8564659988\" \"3121100845\"\n",
        "\"2124443321\"              \"8564659988\"\n",
        "```"
      ]
    },
    {
      "cell_type": "markdown",
      "id": "3ea74307-5343-4ca1-b848-74be4c582e9f",
      "metadata": {
        "id": "3ea74307-5343-4ca1-b848-74be4c582e9f"
      },
      "source": [
        "So what did we do above?  We essentially placed each of our unique numbers into a separate pile.  If you've ever played cards and organized your cards by some category you've likely done something similar."
      ]
    },
    {
      "cell_type": "markdown",
      "id": "e12c547e-0a81-448b-8516-f7e2c20e2a4e",
      "metadata": {
        "id": "e12c547e-0a81-448b-8516-f7e2c20e2a4e"
      },
      "source": [
        "<img src=\"https://github.com/data-eng-10-21/python-interviews/blob/main/1-problem-solving/playing_cards.png?raw=1\" width=\"40%\">"
      ]
    },
    {
      "cell_type": "markdown",
      "id": "c9c3f930-78f9-4019-8bc5-dab50e182947",
      "metadata": {
        "id": "c9c3f930-78f9-4019-8bc5-dab50e182947"
      },
      "source": [
        "Ok, so we just accomplished the first step, we solved it without code."
      ]
    },
    {
      "cell_type": "markdown",
      "id": "cc9c1dcf-8821-4f94-b177-25d207a84e95",
      "metadata": {
        "id": "cc9c1dcf-8821-4f94-b177-25d207a84e95"
      },
      "source": [
        "2. Translate what our brain just did into steps"
      ]
    },
    {
      "cell_type": "markdown",
      "id": "82a51314-46fe-4cde-aabf-ec8223068bcb",
      "metadata": {
        "id": "82a51314-46fe-4cde-aabf-ec8223068bcb"
      },
      "source": [
        "So previously we went from here to here."
      ]
    },
    {
      "cell_type": "code",
      "execution_count": null,
      "id": "dbb1ac47-c0d9-4354-b1cb-dfb3557d910e",
      "metadata": {
        "id": "dbb1ac47-c0d9-4354-b1cb-dfb3557d910e"
      },
      "outputs": [],
      "source": [
        "numbers = [\"2124443321\", \"2158861321\",\n",
        "           \"8564659988\", \"3121100845\",\n",
        "           \"8564659988\", \"2124443321\"]"
      ]
    },
    {
      "cell_type": "markdown",
      "id": "e105c2f7-87ae-4b85-bcca-7bd45f464772",
      "metadata": {
        "id": "e105c2f7-87ae-4b85-bcca-7bd45f464772"
      },
      "source": [
        "```text\n",
        "\"2124443321\" \"2158861321\" \"8564659988\" \"3121100845\"\n",
        "\"2124443321\"              \"8564659988\"\n",
        "```"
      ]
    },
    {
      "cell_type": "markdown",
      "id": "f84654eb-f8df-4eef-9260-67f121fdccc1",
      "metadata": {
        "id": "f84654eb-f8df-4eef-9260-67f121fdccc1"
      },
      "source": [
        "The next step is to understand how our brain was able to solve the problem above.  Here's the procedure our brain went through."
      ]
    },
    {
      "cell_type": "markdown",
      "id": "655db1ec-0d5d-47e0-900b-655228e70c76",
      "metadata": {
        "id": "655db1ec-0d5d-47e0-900b-655228e70c76"
      },
      "source": [
        "1. Go through the numbers one by one\n",
        "2. If we have not seen the number before, place it in a new pile\n",
        "3. If we have seen the number before, place it in the pile with the previous number"
      ]
    },
    {
      "cell_type": "markdown",
      "id": "b5520dfd-b960-4faf-ac99-5effc69d6821",
      "metadata": {
        "id": "b5520dfd-b960-4faf-ac99-5effc69d6821"
      },
      "source": [
        "Ok, now the next step is to translate this into code."
      ]
    },
    {
      "cell_type": "markdown",
      "id": "incredible-company",
      "metadata": {
        "tags": [],
        "id": "incredible-company"
      },
      "source": [
        "### Summary"
      ]
    },
    {
      "cell_type": "markdown",
      "id": "c2cb9e9b-76ad-425b-aa51-3239d6602f1d",
      "metadata": {
        "id": "c2cb9e9b-76ad-425b-aa51-3239d6602f1d"
      },
      "source": [
        "In this lesson, we moved through the key step in a engineering problem, which is problem solving.  The way we accomplished this was to first answer the question in our head -- which was to start from a list of strings and find the duplicate elements."
      ]
    },
    {
      "cell_type": "code",
      "execution_count": null,
      "id": "fa64bbeb-7393-4f59-87eb-4ac6ade4135c",
      "metadata": {
        "id": "fa64bbeb-7393-4f59-87eb-4ac6ade4135c"
      },
      "outputs": [],
      "source": [
        "numbers = [\"2124443321\", \"2158861321\",\n",
        "           \"8564659988\", \"3121100845\",\n",
        "           \"8564659988\", \"2124443321\"]"
      ]
    },
    {
      "cell_type": "markdown",
      "id": "628c30c3-2d8a-4fdb-9d10-551d5ea606da",
      "metadata": {
        "id": "628c30c3-2d8a-4fdb-9d10-551d5ea606da"
      },
      "source": [
        "```text\n",
        "\"2124443321\" \"2158861321\" \"8564659988\" \"3121100845\"\n",
        "\"2124443321\"              \"8564659988\"\n",
        "```"
      ]
    },
    {
      "cell_type": "markdown",
      "id": "5f7afcb0-d2f5-4d68-bada-ac61ca4df0de",
      "metadata": {
        "id": "5f7afcb0-d2f5-4d68-bada-ac61ca4df0de"
      },
      "source": [
        "We essentially did this by matching the elements.  We then broke down the procedure that our brain followed to come to this solution."
      ]
    },
    {
      "cell_type": "markdown",
      "id": "85326575-624a-4f8e-9316-54109d6e5d69",
      "metadata": {
        "id": "85326575-624a-4f8e-9316-54109d6e5d69"
      },
      "source": [
        "1. Go through the numbers one by one\n",
        "2. If we have not seen the number before, place it in a new pile\n",
        "3. If we have seen the number before, place it in the pile with the previous number"
      ]
    },
    {
      "cell_type": "markdown",
      "id": "7e00ff6d-aa62-4a50-9ae1-854264cde8e7",
      "metadata": {
        "id": "7e00ff6d-aa62-4a50-9ae1-854264cde8e7"
      },
      "source": [
        "Now that we have broken this down into steps, the next component is to translate this into code."
      ]
    },
    {
      "cell_type": "markdown",
      "id": "09297d38-103e-46b8-8a26-207346d77bcf",
      "metadata": {
        "id": "09297d38-103e-46b8-8a26-207346d77bcf"
      },
      "source": [
        "### Give it a shot"
      ]
    },
    {
      "cell_type": "markdown",
      "id": "416cebf1-9abb-432c-84f4-a1b7894997fb",
      "metadata": {
        "id": "416cebf1-9abb-432c-84f4-a1b7894997fb"
      },
      "source": [
        "We'll leave this as an exercise for you.  To make it a bit easier -- see if you can first produce the following data structure, where you place each of the elements into a separate pile."
      ]
    },
    {
      "cell_type": "code",
      "execution_count": 4,
      "id": "68fb57b9-cb35-4ccb-85b6-86c738d129f0",
      "metadata": {
        "id": "68fb57b9-cb35-4ccb-85b6-86c738d129f0",
        "outputId": "3a750fde-012d-474c-899f-be3060725d44",
        "colab": {
          "base_uri": "https://localhost:8080/"
        }
      },
      "outputs": [
        {
          "output_type": "stream",
          "name": "stdout",
          "text": [
            "{'2124443321': [0, 5], '8564659988': [2, 4]}\n"
          ]
        }
      ],
      "source": [
        "numbers = [\"2124443321\", \"2158861321\",\n",
        "           \"8564659988\", \"3121100845\",\n",
        "           \"8564659988\", \"2124443321\"]\n",
        "\n",
        "\n",
        "new_pile = {}\n",
        "for i,num in enumerate(numbers):\n",
        "  if num in new_pile.keys():\n",
        "    new_pile[num].append(i)\n",
        "  else:\n",
        "    new_pile[num] = [i]\n",
        "\n",
        "print({k:v for k,v in new_pile.items() if len(v) >1})\n",
        "\n",
        "\n"
      ]
    },
    {
      "cell_type": "code",
      "execution_count": null,
      "id": "8244c846-fc3d-4f58-9002-7c1f62e029c4",
      "metadata": {
        "id": "8244c846-fc3d-4f58-9002-7c1f62e029c4"
      },
      "outputs": [],
      "source": [
        "{'2124443321': ['2124443321', '2124443321'],\n",
        " '2158861321': ['2158861321'],\n",
        " '8564659988': ['8564659988', '8564659988'],\n",
        " '3121100845': ['3121100845']}"
      ]
    },
    {
      "cell_type": "markdown",
      "id": "3a92a92e-520d-46fa-a4db-e9af9822b233",
      "metadata": {
        "id": "3a92a92e-520d-46fa-a4db-e9af9822b233"
      },
      "source": [
        "Notice that the above data structure reflects our thinking above."
      ]
    },
    {
      "cell_type": "markdown",
      "id": "cd33765c-2ca4-44f1-8ee3-7535e6920945",
      "metadata": {
        "id": "cd33765c-2ca4-44f1-8ee3-7535e6920945"
      },
      "source": [
        "```text\n",
        "\"2124443321\" \"2158861321\" \"8564659988\" \"3121100845\"\n",
        "\"2124443321\"              \"8564659988\"\n",
        "```"
      ]
    },
    {
      "cell_type": "markdown",
      "id": "82f3d6ca-4c3f-46db-8697-f0a44f6a7003",
      "metadata": {
        "id": "82f3d6ca-4c3f-46db-8697-f0a44f6a7003"
      },
      "source": [
        "Then if you can get to the data structure above, see if you can produce a dictionary that whose keys are the duplicate values, and the values are the related indices."
      ]
    },
    {
      "cell_type": "code",
      "execution_count": null,
      "id": "a8df4689-4166-4fdd-adb7-97e02a092e62",
      "metadata": {
        "id": "a8df4689-4166-4fdd-adb7-97e02a092e62",
        "outputId": "4c335c99-6ce9-4f1a-d1af-e48b6c5204a4"
      },
      "outputs": [
        {
          "data": {
            "text/plain": [
              "{'2124443321': [0, 5], '8564659988': [2, 4]}"
            ]
          },
          "execution_count": 3,
          "metadata": {},
          "output_type": "execute_result"
        }
      ],
      "source": [
        "{\"2124443321\": [0, 5], \"8564659988\": [2, 4]}"
      ]
    }
  ],
  "metadata": {
    "kernelspec": {
      "display_name": "Python 3 (ipykernel)",
      "language": "python",
      "name": "python3"
    },
    "language_info": {
      "codemirror_mode": {
        "name": "ipython",
        "version": 3
      },
      "file_extension": ".py",
      "mimetype": "text/x-python",
      "name": "python",
      "nbconvert_exporter": "python",
      "pygments_lexer": "ipython3",
      "version": "3.9.7"
    },
    "colab": {
      "provenance": [],
      "include_colab_link": true
    }
  },
  "nbformat": 4,
  "nbformat_minor": 5
}