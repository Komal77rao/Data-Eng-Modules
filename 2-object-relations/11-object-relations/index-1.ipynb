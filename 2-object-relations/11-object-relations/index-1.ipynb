{
  "cells": [
    {
      "cell_type": "markdown",
      "metadata": {
        "id": "view-in-github",
        "colab_type": "text"
      },
      "source": [
        "<a href=\"https://colab.research.google.com/github/Komal77rao/Data-Eng-Modules/blob/main/2-object-relations/11-object-relations/index-1.ipynb\" target=\"_parent\"><img src=\"https://colab.research.google.com/assets/colab-badge.svg\" alt=\"Open In Colab\"/></a>"
      ]
    },
    {
      "cell_type": "markdown",
      "metadata": {
        "id": "-Ki8XM30iPV3"
      },
      "source": [
        "# Object Relations"
      ]
    },
    {
      "cell_type": "markdown",
      "metadata": {
        "id": "2xGv-7oxiPW0"
      },
      "source": [
        "### Introduction"
      ]
    },
    {
      "cell_type": "markdown",
      "metadata": {
        "id": "ztEvcNuLiPW1"
      },
      "source": [
        "Now so far we have worked with individual classes, but in a larger program, we'll need to create multiple classes, whose instances interact with one another.  Let's see\n",
        "how."
      ]
    },
    {
      "cell_type": "markdown",
      "metadata": {
        "id": "_8T5Nn7NiPW6"
      },
      "source": [
        "### Storing our instances"
      ]
    },
    {
      "cell_type": "markdown",
      "metadata": {
        "id": "QYnFRFpkiPXb"
      },
      "source": [
        "Let's move back to our plane example.  We can create a new plane with something like the following."
      ]
    },
    {
      "cell_type": "code",
      "execution_count": 1,
      "metadata": {
        "id": "2dy4KhRMiPXc"
      },
      "outputs": [],
      "source": [
        "import datetime\n",
        "class Plane:\n",
        "    def __init__(self, year):\n",
        "        self.year = year\n",
        "\n",
        "    def age(self):\n",
        "        now = datetime.datetime.now() #local variable\n",
        "        current_year = now.year\n",
        "        return current_year - self.year"
      ]
    },
    {
      "cell_type": "markdown",
      "metadata": {
        "id": "42Fm-on9iPX6"
      },
      "source": [
        "Now, in the life of our program, we may mant to create multiple planes, and after the plane is created may want an easy way to reference each of the planes that are created.  To do this, let's create a `store` object that looks like the following."
      ]
    },
    {
      "cell_type": "code",
      "execution_count": 2,
      "metadata": {
        "id": "eB-dNuzMiPX8"
      },
      "outputs": [],
      "source": [
        "store = {'planes': []}"
      ]
    },
    {
      "cell_type": "markdown",
      "metadata": {
        "id": "ErSRuTddiPYY"
      },
      "source": [
        "Now inside this dictionary, we can store each of the planes that are created.  Now, we can do this simply by creating a new plan, and then adding it to the store."
      ]
    },
    {
      "cell_type": "code",
      "execution_count": 3,
      "metadata": {
        "id": "9QyLd15OiPYZ"
      },
      "outputs": [],
      "source": [
        "plane = Plane(2010)"
      ]
    },
    {
      "cell_type": "code",
      "execution_count": 4,
      "metadata": {
        "id": "FNpJQrw8iPYa"
      },
      "outputs": [],
      "source": [
        "store['planes'].append(plane)"
      ]
    },
    {
      "cell_type": "code",
      "execution_count": 5,
      "metadata": {
        "id": "zGV1Q27-iPYc",
        "outputId": "cec5a199-4b0f-4d7a-ef62-230bd72696a8",
        "colab": {
          "base_uri": "https://localhost:8080/"
        }
      },
      "outputs": [
        {
          "output_type": "execute_result",
          "data": {
            "text/plain": [
              "{'planes': [<__main__.Plane at 0x7b6279f10670>]}"
            ]
          },
          "metadata": {},
          "execution_count": 5
        }
      ],
      "source": [
        "store"
      ]
    },
    {
      "cell_type": "markdown",
      "metadata": {
        "id": "bMINqBOXiPYg"
      },
      "source": [
        "However, to ensure that this occurs automatically, upon creating a plan, we should add this process into the `__init__` function like so."
      ]
    },
    {
      "cell_type": "code",
      "execution_count": 8,
      "metadata": {
        "id": "XNchyChqiPYh"
      },
      "outputs": [],
      "source": [
        "store = {'planes': []}\n",
        "\n",
        "class Plane:\n",
        "    def __init__(self, year):\n",
        "        # *** line we are adding ***\n",
        "        store['planes'].append(self)\n",
        "        self.year = year\n",
        "\n",
        "    def age(self):\n",
        "        now = datetime.datetime.now()\n",
        "        current_year = now.year\n",
        "        return current_year - self.year"
      ]
    },
    {
      "cell_type": "markdown",
      "metadata": {
        "id": "ktrM2cFDiPYi"
      },
      "source": [
        "So this time, each time a plan is created, we automatically add it to the store."
      ]
    },
    {
      "cell_type": "markdown",
      "metadata": {
        "id": "jlCc7Vn3iPYj"
      },
      "source": [
        "> Let's try this by creating two new planes."
      ]
    },
    {
      "cell_type": "code",
      "execution_count": 10,
      "metadata": {
        "id": "wEocDFlxiPYj",
        "outputId": "f86716ef-ace5-4a68-a62c-ea4da26737ff",
        "colab": {
          "base_uri": "https://localhost:8080/"
        }
      },
      "outputs": [
        {
          "output_type": "execute_result",
          "data": {
            "text/plain": [
              "{'planes': [<__main__.Plane at 0x7b6279f10280>,\n",
              "  <__main__.Plane at 0x7b6279f12770>,\n",
              "  <__main__.Plane at 0x7b6279f11360>,\n",
              "  <__main__.Plane at 0x7b6279f12650>]}"
            ]
          },
          "metadata": {},
          "execution_count": 10
        }
      ],
      "source": [
        "Plane(2010)\n",
        "Plane(2011)\n",
        "\n",
        "store"
      ]
    },
    {
      "cell_type": "markdown",
      "metadata": {
        "id": "BT5EhaOWiPYk"
      },
      "source": [
        "What's nice about this is that if we say, would like to see all of the years that our planes were made, we can do so with the following:"
      ]
    },
    {
      "cell_type": "code",
      "execution_count": 11,
      "metadata": {
        "id": "EfxHJQ69iPY9",
        "outputId": "09e0e946-6ef9-4949-b613-a25d223762dc",
        "colab": {
          "base_uri": "https://localhost:8080/"
        }
      },
      "outputs": [
        {
          "output_type": "execute_result",
          "data": {
            "text/plain": [
              "[2010, 2011, 2010, 2011]"
            ]
          },
          "metadata": {},
          "execution_count": 11
        }
      ],
      "source": [
        "planes = store['planes']\n",
        "[plane.year for plane in planes]"
      ]
    },
    {
      "cell_type": "markdown",
      "metadata": {
        "id": "qjZ7dw9ViPY_"
      },
      "source": [
        "So saving our instances in a collection is a nice way to see aggregate information about all of the planes created."
      ]
    },
    {
      "cell_type": "markdown",
      "metadata": {
        "id": "PoIi6PDUiPY_"
      },
      "source": [
        "Let's give each of these planes an id as well.  We can do so by updating our code to the following."
      ]
    },
    {
      "cell_type": "code",
      "execution_count": 12,
      "metadata": {
        "id": "qnu1FcH6iPY_"
      },
      "outputs": [],
      "source": [
        "store = {'planes': []}\n",
        "\n",
        "class Plane:\n",
        "    def __init__(self, year):\n",
        "        self.year = year\n",
        "        # plane counter\n",
        "        plane_id = len(store['planes']) + 1\n",
        "        store['planes'].append(self)\n",
        "        self.id = plane_id\n",
        "\n",
        "    def age(self):\n",
        "        now = datetime.datetime.now()\n",
        "        current_year = now.year\n",
        "        return current_year - self.year"
      ]
    },
    {
      "cell_type": "code",
      "source": [
        "Plane(2009)\n",
        "Plane(2010)\n",
        "Plane(2011)"
      ],
      "metadata": {
        "id": "ntUlc08Rlj1O",
        "outputId": "d72a03df-c18d-46c7-a2fa-bda39a61777d",
        "colab": {
          "base_uri": "https://localhost:8080/"
        }
      },
      "execution_count": 24,
      "outputs": [
        {
          "output_type": "execute_result",
          "data": {
            "text/plain": [
              "<__main__.Plane at 0x7b62659aee00>"
            ]
          },
          "metadata": {},
          "execution_count": 24
        }
      ]
    },
    {
      "cell_type": "code",
      "execution_count": 23,
      "metadata": {
        "id": "jAsrGKYMiPZC",
        "outputId": "6ae11cb3-2b4f-43ee-91e7-b4b37df9f730",
        "colab": {
          "base_uri": "https://localhost:8080/"
        }
      },
      "outputs": [
        {
          "output_type": "execute_result",
          "data": {
            "text/plain": [
              "[{'year': 2009, 'id': 1},\n",
              " {'year': 2010, 'id': 2},\n",
              " {'year': 2011, 'id': 3},\n",
              " {'year': 2015, 'id': 4},\n",
              " {'year': 2009, 'id': 5},\n",
              " {'year': 2010, 'id': 6},\n",
              " {'year': 2011, 'id': 7},\n",
              " {'year': 2009, 'id': 8},\n",
              " {'year': 2010, 'id': 9},\n",
              " {'year': 2011, 'id': 10},\n",
              " {'year': 2009, 'id': 11},\n",
              " {'year': 2010, 'id': 12},\n",
              " {'year': 2011, 'id': 13}]"
            ]
          },
          "metadata": {},
          "execution_count": 23
        }
      ],
      "source": [
        "[plane.__dict__\n",
        " for plane in store['planes']]"
      ]
    },
    {
      "cell_type": "code",
      "execution_count": 20,
      "metadata": {
        "id": "T9Xr1N_5iPZC",
        "outputId": "6a1c2963-25f2-49d7-a179-c4616001b918",
        "colab": {
          "base_uri": "https://localhost:8080/"
        }
      },
      "outputs": [
        {
          "output_type": "execute_result",
          "data": {
            "text/plain": [
              "4"
            ]
          },
          "metadata": {},
          "execution_count": 20
        }
      ],
      "source": [
        "plane = Plane(2015)\n",
        "\n",
        "plane.id"
      ]
    },
    {
      "cell_type": "markdown",
      "metadata": {
        "id": "PZOI-lGsiPZD"
      },
      "source": [
        "And now, this time, each of the planes has their own id."
      ]
    },
    {
      "cell_type": "markdown",
      "metadata": {
        "id": "g7yDOOaMiPZD"
      },
      "source": [
        "### Adding flights"
      ]
    },
    {
      "cell_type": "markdown",
      "metadata": {
        "id": "g-aCuOfyiPZE"
      },
      "source": [
        "Now let's say we want to keep track of flights.  We can do so with something like the following."
      ]
    },
    {
      "cell_type": "code",
      "execution_count": 15,
      "metadata": {
        "id": "YfY7fO0AiPZE"
      },
      "outputs": [],
      "source": [
        "store = {'planes': [], 'flights': []}\n",
        "\n",
        "class Flight:\n",
        "    def __init__(self, origin_city, destination_city):\n",
        "        store['flights'].append(self)\n",
        "        self.id = len(store['flights'])\n",
        "        self.origin_city = origin_city\n",
        "        self.destination_city = destination_city"
      ]
    },
    {
      "cell_type": "code",
      "execution_count": 16,
      "metadata": {
        "id": "h_NxbmkpiPZE"
      },
      "outputs": [],
      "source": [
        "flight_1 = Flight('NYC', 'CHI')\n",
        "flight_2 = Flight('NYC', 'LA')"
      ]
    },
    {
      "cell_type": "markdown",
      "metadata": {
        "id": "iC3zTDlSiPZF"
      },
      "source": [
        "And then we can look reference each of the flights created with something like the following."
      ]
    },
    {
      "cell_type": "code",
      "execution_count": 17,
      "metadata": {
        "id": "4Te12YeViPZF",
        "outputId": "30286f46-98b2-485d-95b6-e4212871331f",
        "colab": {
          "base_uri": "https://localhost:8080/"
        }
      },
      "outputs": [
        {
          "output_type": "execute_result",
          "data": {
            "text/plain": [
              "[<__main__.Flight at 0x7b6279f11420>, <__main__.Flight at 0x7b6279f10610>]"
            ]
          },
          "metadata": {},
          "execution_count": 17
        }
      ],
      "source": [
        "store['flights']"
      ]
    },
    {
      "cell_type": "code",
      "execution_count": 18,
      "metadata": {
        "id": "TvU5RqIciPZF",
        "outputId": "344c2e57-719c-4a16-a512-70316d146486",
        "colab": {
          "base_uri": "https://localhost:8080/"
        }
      },
      "outputs": [
        {
          "output_type": "execute_result",
          "data": {
            "text/plain": [
              "[{'id': 1, 'origin_city': 'NYC', 'destination_city': 'CHI'},\n",
              " {'id': 2, 'origin_city': 'NYC', 'destination_city': 'LA'}]"
            ]
          },
          "metadata": {},
          "execution_count": 18
        }
      ],
      "source": [
        "[flight.__dict__ for flight in store['flights']]"
      ]
    },
    {
      "cell_type": "markdown",
      "metadata": {
        "id": "vum2tT80iPZF"
      },
      "source": [
        "Now it probably makes sense to associate a flight with a plane.  If we were to describe the relationship between flights and planes, we would say that:\n",
        "\n",
        "* A flight **has one** plane\n",
        "* A plane **has many** flights"
      ]
    },
    {
      "cell_type": "markdown",
      "metadata": {
        "id": "wpZUhxSkiPZF"
      },
      "source": [
        "> Take a moment to think about the above.  It's one of the key relationships we'll see.  A flight can only have one particular plane associated with it, but a plane can have many associated flights."
      ]
    },
    {
      "cell_type": "markdown",
      "metadata": {
        "id": "RKYoPruSiPZG"
      },
      "source": [
        "Ok, now to link a a flight to a plane in code we can do something like the following."
      ]
    },
    {
      "cell_type": "code",
      "execution_count": 28,
      "metadata": {
        "id": "8nxQgvZViPZG"
      },
      "outputs": [],
      "source": [
        "class Flight:\n",
        "    def __init__(self, origin_city, destination_city, plane):\n",
        "\n",
        "        self.id = len(store['flights']) + 1\n",
        "        self.origin_city = origin_city\n",
        "        self.destination_city = destination_city\n",
        "\n",
        "        self.plane_id = plane.id\n",
        "        store['flights'].append(self)\n",
        "\n",
        "    def plane(self):\n",
        "        return [plane for plane in store['planes'] if plane.id == flight.plane_id][0]"
      ]
    },
    {
      "cell_type": "code",
      "source": [
        "[flight.__dict__ for flight in store['flights']]\n",
        "[plane.__dict__ for plane in store['planes']]"
      ],
      "metadata": {
        "id": "tSlJN0NYpabB",
        "outputId": "0314f89e-d308-4fb6-e5dd-4c8aac7ee794",
        "colab": {
          "base_uri": "https://localhost:8080/"
        }
      },
      "execution_count": 32,
      "outputs": [
        {
          "output_type": "execute_result",
          "data": {
            "text/plain": [
              "[{'year': 2009, 'id': 1},\n",
              " {'year': 2010, 'id': 2},\n",
              " {'year': 2011, 'id': 3},\n",
              " {'year': 2015, 'id': 4},\n",
              " {'year': 2009, 'id': 5},\n",
              " {'year': 2010, 'id': 6},\n",
              " {'year': 2011, 'id': 7},\n",
              " {'year': 2009, 'id': 8},\n",
              " {'year': 2010, 'id': 9},\n",
              " {'year': 2011, 'id': 10},\n",
              " {'year': 2009, 'id': 11},\n",
              " {'year': 2010, 'id': 12},\n",
              " {'year': 2011, 'id': 13},\n",
              " {'year': 2009, 'id': 14},\n",
              " {'year': 2010, 'id': 15},\n",
              " {'year': 2011, 'id': 16}]"
            ]
          },
          "metadata": {},
          "execution_count": 32
        }
      ]
    },
    {
      "cell_type": "code",
      "execution_count": 33,
      "metadata": {
        "id": "QQh8EjmviPZG"
      },
      "outputs": [],
      "source": [
        "store = {'planes': [], 'flights': []}\n",
        "\n",
        "plane = Plane(2015)"
      ]
    },
    {
      "cell_type": "code",
      "execution_count": 34,
      "metadata": {
        "id": "WPlRtq5TiPZJ"
      },
      "outputs": [],
      "source": [
        "flight = Flight('NYC', 'CHI', plane)"
      ]
    },
    {
      "cell_type": "code",
      "execution_count": 36,
      "metadata": {
        "id": "PQWdyKhNiPZJ",
        "outputId": "f067bf9d-0178-4f34-85df-5c0d5e17536a",
        "colab": {
          "base_uri": "https://localhost:8080/"
        }
      },
      "outputs": [
        {
          "output_type": "execute_result",
          "data": {
            "text/plain": [
              "{'year': 2015, 'id': 1}"
            ]
          },
          "metadata": {},
          "execution_count": 36
        }
      ],
      "source": [
        "flight.plane().__dict__"
      ]
    },
    {
      "cell_type": "markdown",
      "metadata": {
        "id": "eMDIZQ_ZiPZv"
      },
      "source": [
        "Let's break down what we did above.  First we stored the `plane_id` on our flight with the line `self.plane_id = plane.id` in our `__init__` function.  "
      ]
    },
    {
      "cell_type": "code",
      "execution_count": null,
      "metadata": {
        "id": "vpNkj8m4iPZv"
      },
      "outputs": [],
      "source": [
        "flight.plane_id"
      ]
    },
    {
      "cell_type": "markdown",
      "metadata": {
        "id": "Cq5Pb2ariPZv"
      },
      "source": [
        "Then in the `plane` function, to return the associated plane, we search through the associated planes until we find the plane whose id matches the flight's `plane_id`."
      ]
    },
    {
      "cell_type": "markdown",
      "metadata": {
        "id": "B4D9g2SOiPZ0"
      },
      "source": [
        "```python\n",
        "[plane for plane in store['planes'] if plane.id == flight.plane_id][0]\n",
        "```"
      ]
    },
    {
      "cell_type": "markdown",
      "metadata": {
        "id": "Jrbotz9riPZ0"
      },
      "source": [
        "### Adding a has many function"
      ]
    },
    {
      "cell_type": "markdown",
      "metadata": {
        "id": "qAhrWmHsiPZ0"
      },
      "source": [
        "So above, we saw how we can write a function to find the plane that belongs to the flight.  Now what if we want to find *all* of the flights associated with a plane."
      ]
    },
    {
      "cell_type": "markdown",
      "metadata": {
        "id": "y38WUgFqiPZ0"
      },
      "source": [
        "Let's start by creating another flight."
      ]
    },
    {
      "cell_type": "code",
      "execution_count": 37,
      "metadata": {
        "id": "uo59MyCXiPZ9"
      },
      "outputs": [],
      "source": [
        "store = {'planes': [], 'flights': []}\n",
        "plane = Plane(2015)\n",
        "plane_two = Plane(2018)\n",
        "\n",
        "flight = Flight('NYC', 'CHI', plane)\n",
        "flight_two = Flight('NYC', 'CHI', plane_two)\n",
        "flight_three = Flight('NYC', 'LA', plane)"
      ]
    },
    {
      "cell_type": "markdown",
      "metadata": {
        "id": "P3THFuuniPZ9"
      },
      "source": [
        "So we want to find all of the flights associated with our plane.  Notice that on our plane, there is no associating data to the flight."
      ]
    },
    {
      "cell_type": "code",
      "execution_count": 38,
      "metadata": {
        "id": "nmD-cYQ_iPZ-",
        "outputId": "a487649c-9799-4881-a5a1-73f84066ad9e",
        "colab": {
          "base_uri": "https://localhost:8080/"
        }
      },
      "outputs": [
        {
          "output_type": "execute_result",
          "data": {
            "text/plain": [
              "{'year': 2015, 'id': 1}"
            ]
          },
          "metadata": {},
          "execution_count": 38
        }
      ],
      "source": [
        "plane.__dict__"
      ]
    },
    {
      "cell_type": "markdown",
      "metadata": {
        "id": "ypfToNzkiPZ-"
      },
      "source": [
        "Rather, the link between planes and flights lives on the object that *has one*, that is the flight (as the flight has one plane)."
      ]
    },
    {
      "cell_type": "code",
      "execution_count": 39,
      "metadata": {
        "id": "RZ6ZBr3SiPZ-",
        "outputId": "44f90905-9063-4b60-b812-e6dd143d66b2",
        "colab": {
          "base_uri": "https://localhost:8080/"
        }
      },
      "outputs": [
        {
          "output_type": "execute_result",
          "data": {
            "text/plain": [
              "[{'id': 1, 'origin_city': 'NYC', 'destination_city': 'CHI', 'plane_id': 1},\n",
              " {'id': 2, 'origin_city': 'NYC', 'destination_city': 'CHI', 'plane_id': 2},\n",
              " {'id': 3, 'origin_city': 'NYC', 'destination_city': 'LA', 'plane_id': 1}]"
            ]
          },
          "metadata": {},
          "execution_count": 39
        }
      ],
      "source": [
        "[flight.__dict__ for flight in store['flights']]"
      ]
    },
    {
      "cell_type": "markdown",
      "metadata": {
        "id": "Xpty_nqBiPZ-"
      },
      "source": [
        "So to find all of the flights associated with the plane with id 1, we can do the following."
      ]
    },
    {
      "cell_type": "code",
      "execution_count": 40,
      "metadata": {
        "id": "2seB2driiPZ_"
      },
      "outputs": [],
      "source": [
        "class Plane:\n",
        "    def __init__(self, year):\n",
        "        self.year = year\n",
        "        self.id = len(store['planes']) + 1\n",
        "        store['planes'].append(self)\n",
        "\n",
        "    def age(self):\n",
        "        now = datetime.datetime.now()\n",
        "        current_year = now.year\n",
        "        return current_year - self.year\n",
        "\n",
        "    def flights(self):\n",
        "        return [flight for flight in store['flights'] if flight.plane_id == self.id]"
      ]
    },
    {
      "cell_type": "markdown",
      "metadata": {
        "id": "Psj8Ar0EiPZ_"
      },
      "source": [
        "So our flights method goes through each of the flights, returning only the flight that has the plane_id that matches the current instances id."
      ]
    },
    {
      "cell_type": "markdown",
      "metadata": {
        "id": "YYf0MpiZiPaA"
      },
      "source": [
        "Now let's try it by recreating some data."
      ]
    },
    {
      "cell_type": "code",
      "execution_count": 42,
      "metadata": {
        "id": "o-J7fHVHiPaA"
      },
      "outputs": [],
      "source": [
        "store = {'planes': [], 'flights': []}\n",
        "plane = Plane(2015)\n",
        "plane_two = Plane(2018)\n",
        "\n",
        "flight = Flight('NYC', 'CHI', plane)\n",
        "flight_two = Flight('NYC', 'CHI', plane_two)\n",
        "flight_three = Flight('NYC', 'LA', plane)"
      ]
    },
    {
      "cell_type": "code",
      "execution_count": 43,
      "metadata": {
        "id": "z7OmfW1IiPaB",
        "outputId": "8c4c45fb-e841-4812-9915-275a6f332151",
        "colab": {
          "base_uri": "https://localhost:8080/"
        }
      },
      "outputs": [
        {
          "output_type": "execute_result",
          "data": {
            "text/plain": [
              "1"
            ]
          },
          "metadata": {},
          "execution_count": 43
        }
      ],
      "source": [
        "plane.id"
      ]
    },
    {
      "cell_type": "markdown",
      "metadata": {
        "id": "OVpz0_ifiPaB"
      },
      "source": [
        "So each plane_id is stored on the flight, and to find all of the flights associated with a plane, we call the flights method, which looks for the flights with the matching `plane_id`."
      ]
    },
    {
      "cell_type": "code",
      "execution_count": 44,
      "metadata": {
        "id": "9Nit5rBEiPaC",
        "outputId": "4181bfff-14e3-4018-cc46-28f5111d3517",
        "colab": {
          "base_uri": "https://localhost:8080/"
        }
      },
      "outputs": [
        {
          "output_type": "execute_result",
          "data": {
            "text/plain": [
              "[<__main__.Flight at 0x7b62659ac340>, <__main__.Flight at 0x7b62659ad420>]"
            ]
          },
          "metadata": {},
          "execution_count": 44
        }
      ],
      "source": [
        "plane.flights()"
      ]
    },
    {
      "cell_type": "code",
      "execution_count": 45,
      "metadata": {
        "id": "xfS4iwgJiPaH",
        "outputId": "27da4594-6d3e-4d4b-b80f-9427460cf37a",
        "colab": {
          "base_uri": "https://localhost:8080/"
        }
      },
      "outputs": [
        {
          "output_type": "execute_result",
          "data": {
            "text/plain": [
              "[{'id': 1, 'origin_city': 'NYC', 'destination_city': 'CHI', 'plane_id': 1},\n",
              " {'id': 3, 'origin_city': 'NYC', 'destination_city': 'LA', 'plane_id': 1}]"
            ]
          },
          "metadata": {},
          "execution_count": 45
        }
      ],
      "source": [
        "[flight.__dict__ for flight in plane.flights()]"
      ]
    },
    {
      "cell_type": "markdown",
      "metadata": {
        "id": "yQDhFl6-iPaH"
      },
      "source": [
        "### Summary"
      ]
    },
    {
      "cell_type": "markdown",
      "metadata": {
        "id": "eN75f-BDiPaK"
      },
      "source": [
        "In this lesson, we learned how to associate objects with one another.  We first saw that we can store each of the instances created in a `store` where our store is a dictionary that has keys to store instances of each of the classes, as well as an associated counter.  Then, every time an instance is created we add the new instance to the store through the `__init__` function."
      ]
    },
    {
      "cell_type": "code",
      "execution_count": 52,
      "metadata": {
        "id": "KDSs4o1ViPaN"
      },
      "outputs": [],
      "source": [
        "store = {'planes': []}\n",
        "\n",
        "class Plane:\n",
        "    def __init__(self, year):\n",
        "        store['planes'].append(self)\n",
        "        self.id = len(store['planes'])\n",
        "        self.year = year"
      ]
    },
    {
      "cell_type": "code",
      "source": [
        "Plane(2011)"
      ],
      "metadata": {
        "id": "N9E9jIaBw33p",
        "outputId": "a4e9ccd8-fbf9-472f-d800-93c291f5df8a",
        "colab": {
          "base_uri": "https://localhost:8080/"
        }
      },
      "execution_count": 55,
      "outputs": [
        {
          "output_type": "execute_result",
          "data": {
            "text/plain": [
              "<__main__.Plane at 0x7b62479beb60>"
            ]
          },
          "metadata": {},
          "execution_count": 55
        }
      ]
    },
    {
      "cell_type": "code",
      "source": [
        "[plane.__dict__ for plane in store['planes']]"
      ],
      "metadata": {
        "id": "2-9JFgk5w-Y9",
        "outputId": "e1c73019-7476-466b-93a6-211c474bb989",
        "colab": {
          "base_uri": "https://localhost:8080/"
        }
      },
      "execution_count": 56,
      "outputs": [
        {
          "output_type": "execute_result",
          "data": {
            "text/plain": [
              "[{'id': 2, 'year': 2011}, {'id': 3, 'year': 2011}]"
            ]
          },
          "metadata": {},
          "execution_count": 56
        }
      ]
    },
    {
      "cell_type": "markdown",
      "metadata": {
        "id": "-gJfbv3biPaO"
      },
      "source": [
        "Then we saw how we can associate a flight with a plane by storing the `plane_id` on the flight."
      ]
    },
    {
      "cell_type": "code",
      "execution_count": 60,
      "metadata": {
        "id": "5JUySHcWiPaO"
      },
      "outputs": [],
      "source": [
        "store = {'planes': [], 'flights': []}\n",
        "\n",
        "class Flight:\n",
        "    def __init__(self, origin_city, destination_city, plane):\n",
        "        self.id = len(store['flights']) + 1\n",
        "        self.origin_city = origin_city\n",
        "        self.destination_city = destination_city\n",
        "        self.plane_id = plane.id\n",
        "        store['flights'].append(self)\n",
        "\n",
        "    def plane(self):\n",
        "        return [plane for plane in store['planes'] if plane.id == flight.plane_id][0]"
      ]
    },
    {
      "cell_type": "code",
      "execution_count": 61,
      "metadata": {
        "id": "oHNQZgeWiPaQ",
        "outputId": "4acabd96-6c21-4501-86a0-361a919af6f0",
        "colab": {
          "base_uri": "https://localhost:8080/"
        }
      },
      "outputs": [
        {
          "output_type": "execute_result",
          "data": {
            "text/plain": [
              "<__main__.Flight at 0x7b62479bf3d0>"
            ]
          },
          "metadata": {},
          "execution_count": 61
        }
      ],
      "source": [
        "#plane = Plane(2018)\n",
        "flight = Flight('NYC', 'CHI', plane)\n",
        "flight"
      ]
    },
    {
      "cell_type": "markdown",
      "metadata": {
        "id": "X8NFYfXXiPaQ"
      },
      "source": [
        "And we can find the plane associated with a flight by looping through each of the planes, finding the plane whose id matches the flight's `plane_id`."
      ]
    },
    {
      "cell_type": "code",
      "execution_count": null,
      "metadata": {
        "id": "11kYMt2HiPaS"
      },
      "outputs": [],
      "source": [
        "flight.plane()"
      ]
    },
    {
      "cell_type": "markdown",
      "metadata": {
        "id": "MfPdq8a_iPaS"
      },
      "source": [
        "And we can also find a plane's flights by  searching through all flights, returning the flight whose `plane_id` matches the current flight's `id`."
      ]
    },
    {
      "cell_type": "code",
      "execution_count": null,
      "metadata": {
        "id": "lS-CCcQmiPaS"
      },
      "outputs": [],
      "source": [
        "class Plane:\n",
        "    def __init__(self, year):\n",
        "        store['planes'].append(self)\n",
        "        self.id = len(store['planes']) + 1\n",
        "        self.year = year\n",
        "\n",
        "    def flights(self):\n",
        "        return [flight for flight in store['flights'] if flight.plane_id == self.id]"
      ]
    },
    {
      "cell_type": "code",
      "execution_count": null,
      "metadata": {
        "id": "XuFZrJediPaU"
      },
      "outputs": [],
      "source": []
    }
  ],
  "metadata": {
    "kernelspec": {
      "display_name": "Python 3 (ipykernel)",
      "language": "python",
      "name": "python3"
    },
    "language_info": {
      "codemirror_mode": {
        "name": "ipython",
        "version": 3
      },
      "file_extension": ".py",
      "mimetype": "text/x-python",
      "name": "python",
      "nbconvert_exporter": "python",
      "pygments_lexer": "ipython3",
      "version": "3.9.12"
    },
    "vscode": {
      "interpreter": {
        "hash": "aee8b7b246df8f9039afb4144a1f6fd8d2ca17a180786b69acc140d282b71a49"
      }
    },
    "colab": {
      "provenance": [],
      "include_colab_link": true
    }
  },
  "nbformat": 4,
  "nbformat_minor": 0
}