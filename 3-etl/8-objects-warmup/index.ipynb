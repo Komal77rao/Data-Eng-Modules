{
  "cells": [
    {
      "cell_type": "markdown",
      "metadata": {
        "id": "view-in-github",
        "colab_type": "text"
      },
      "source": [
        "<a href=\"https://colab.research.google.com/github/Komal77rao/Data-Eng-Modules/blob/main/3-etl/8-objects-warmup/index.ipynb\" target=\"_parent\"><img src=\"https://colab.research.google.com/assets/colab-badge.svg\" alt=\"Open In Colab\"/></a>"
      ]
    },
    {
      "cell_type": "markdown",
      "metadata": {
        "id": "kxrbRWVxWGbY"
      },
      "source": [
        "# Objects Warmup"
      ]
    },
    {
      "cell_type": "markdown",
      "metadata": {
        "id": "-oRF1MTXWGb4"
      },
      "source": [
        "### Selecting From an API"
      ]
    },
    {
      "cell_type": "markdown",
      "metadata": {
        "id": "neS75Q-GWGb6"
      },
      "source": [
        "Let's start with our movies imdb dataset."
      ]
    },
    {
      "cell_type": "code",
      "execution_count": 2,
      "metadata": {
        "tags": [],
        "id": "hmwAklODWGb7",
        "outputId": "031ea951-433a-412b-953d-febd97add8b9",
        "colab": {
          "base_uri": "https://localhost:8080/"
        }
      },
      "outputs": [
        {
          "output_type": "execute_result",
          "data": {
            "text/plain": [
              "{'title': 'Avatar',\n",
              " 'genre': 'Action',\n",
              " 'budget': 237000000,\n",
              " 'runtime': 162.0,\n",
              " 'year': 2009,\n",
              " 'month': 12,\n",
              " 'revenue': 2787965087}"
            ]
          },
          "metadata": {},
          "execution_count": 2
        }
      ],
      "source": [
        "import pandas as pd\n",
        "url = \"https://raw.githubusercontent.com/python-fundamentals-jigsaw/mod-1-a-data-structures/master/3-coercing-filtering-data/imdb_movies.csv\"\n",
        "movies_df = pd.read_csv(url)\n",
        "movies = movies_df.to_dict('records')\n",
        "movies[0]"
      ]
    },
    {
      "cell_type": "markdown",
      "metadata": {
        "id": "4oMYfVJmWGcD"
      },
      "source": [
        "1. Begin by looping through the movies and adding a list of `movie_titles`, where each element is a different movie title."
      ]
    },
    {
      "cell_type": "code",
      "execution_count": 4,
      "metadata": {
        "id": "Hfb4uko_WGcF",
        "outputId": "84187559-f938-4d07-d564-7d1848d86b6b",
        "colab": {
          "base_uri": "https://localhost:8080/"
        }
      },
      "outputs": [
        {
          "output_type": "execute_result",
          "data": {
            "text/plain": [
              "['Avatar', \"Pirates of the Caribbean: At World's End\", 'Spectre']"
            ]
          },
          "metadata": {},
          "execution_count": 4
        }
      ],
      "source": [
        "titles = [movie['title'] for movie in movies]\n",
        "titles[:3]\n",
        "# ['Avatar', \"Pirates of the Caribbean: At World's End\", 'Spectre']"
      ]
    },
    {
      "cell_type": "markdown",
      "metadata": {
        "id": "oq6ScxDBWGcF"
      },
      "source": [
        "2. Now let's select a single movie"
      ]
    },
    {
      "cell_type": "code",
      "execution_count": 5,
      "metadata": {
        "id": "24Aqrn8BWGcG"
      },
      "outputs": [],
      "source": [
        "first_movie = movies[0]"
      ]
    },
    {
      "cell_type": "code",
      "execution_count": 6,
      "metadata": {
        "id": "k52kNVMnWGcH",
        "outputId": "d88313df-2535-46e8-eb56-4180f613cb5e",
        "colab": {
          "base_uri": "https://localhost:8080/"
        }
      },
      "outputs": [
        {
          "output_type": "execute_result",
          "data": {
            "text/plain": [
              "{'title': 'Avatar',\n",
              " 'genre': 'Action',\n",
              " 'budget': 237000000,\n",
              " 'runtime': 162.0,\n",
              " 'year': 2009,\n",
              " 'month': 12,\n",
              " 'revenue': 2787965087}"
            ]
          },
          "metadata": {},
          "execution_count": 6
        }
      ],
      "source": [
        "first_movie"
      ]
    },
    {
      "cell_type": "markdown",
      "metadata": {
        "id": "49GYcZ2ZWGcK"
      },
      "source": [
        "Now call `items` to coerce this dictionary into a list of key value tuples."
      ]
    },
    {
      "cell_type": "code",
      "execution_count": 7,
      "metadata": {
        "id": "OFzIZK_dWGcL",
        "outputId": "a0f1c222-750b-4118-e254-8b1dc740ba59",
        "colab": {
          "base_uri": "https://localhost:8080/"
        }
      },
      "outputs": [
        {
          "output_type": "execute_result",
          "data": {
            "text/plain": [
              "[('title', 'Avatar'),\n",
              " ('genre', 'Action'),\n",
              " ('budget', 237000000),\n",
              " ('runtime', 162.0),\n",
              " ('year', 2009),\n",
              " ('month', 12),\n",
              " ('revenue', 2787965087)]"
            ]
          },
          "metadata": {},
          "execution_count": 7
        }
      ],
      "source": [
        "first_movie_items = [(k,v) for k,v in first_movie.items()]\n",
        "first_movie_items\n",
        "# dict_items([('title', 'Avatar'), ('genre', 'Action'),\n",
        "# ('budget', 237000000), ('runtime', 162.0), ('year', 2009),\n",
        "# ('month', 12), ('revenue', 2787965087)])"
      ]
    },
    {
      "cell_type": "code",
      "execution_count": 9,
      "metadata": {
        "id": "2oaY7R1sWGcf",
        "outputId": "7d8f0d2b-5b40-400b-cdbb-05444de27267",
        "colab": {
          "base_uri": "https://localhost:8080/"
        }
      },
      "outputs": [
        {
          "output_type": "execute_result",
          "data": {
            "text/plain": [
              "{'title': 'Avatar', 'budget': 237000000, 'revenue': 2787965087}"
            ]
          },
          "metadata": {},
          "execution_count": 9
        }
      ],
      "source": [
        "selected_attrs = ['title', 'budget', 'revenue']\n",
        "{k:v for k,v in first_movie.items() if k in selected_attrs}"
      ]
    },
    {
      "cell_type": "markdown",
      "metadata": {
        "id": "NFDdSnh8WGch"
      },
      "source": [
        "Use dictionary comprehension to select only those attributes listed in `selected_attrs`."
      ]
    },
    {
      "cell_type": "markdown",
      "metadata": {
        "id": "eOSOjQMFWGci"
      },
      "source": [
        "3. Then narrow down the list of attributes to just the `selected_attrs` for all movies."
      ]
    },
    {
      "cell_type": "code",
      "execution_count": 25,
      "metadata": {
        "id": "sG2ORLvqWGcj"
      },
      "outputs": [],
      "source": [
        "movie_dicts = [{k:v for k,v in movie.items() if k in selected_attrs} for movie in movies][:3]"
      ]
    },
    {
      "cell_type": "markdown",
      "metadata": {
        "id": "zqrcgieBWGcj"
      },
      "source": [
        "4. Next, create class called `Movie` that upon initialization takes the arguments of `title`, `budget` and revenue."
      ]
    },
    {
      "cell_type": "code",
      "execution_count": 16,
      "metadata": {
        "id": "nt0ze6YHWGcl"
      },
      "outputs": [],
      "source": [
        "class Movie:\n",
        "  def __init__(self, title, budget, revenue) -> None:\n",
        "    self.title = title\n",
        "    self.budget = budget\n",
        "    self.revenue = revenue"
      ]
    },
    {
      "cell_type": "markdown",
      "metadata": {
        "id": "rvJL2xQRWGcq"
      },
      "source": [
        "5. Finally, use `kwargs` to create a list of movies."
      ]
    },
    {
      "cell_type": "code",
      "execution_count": 26,
      "metadata": {
        "id": "DT-pWC2kWGcq"
      },
      "outputs": [],
      "source": [
        "list_of_instances = [Movie(**movie) for movie in movie_dicts]"
      ]
    },
    {
      "cell_type": "code",
      "source": [
        "list_of_instances[0].__dict__"
      ],
      "metadata": {
        "id": "BpH3AzJ1bRtd",
        "outputId": "cea97aff-d5a5-45ab-97bc-0dd06212a99e",
        "colab": {
          "base_uri": "https://localhost:8080/"
        }
      },
      "execution_count": 30,
      "outputs": [
        {
          "output_type": "execute_result",
          "data": {
            "text/plain": [
              "{'title': 'Avatar', 'budget': 237000000, 'revenue': 2787965087}"
            ]
          },
          "metadata": {},
          "execution_count": 30
        }
      ]
    },
    {
      "cell_type": "code",
      "source": [],
      "metadata": {
        "id": "-YsKGbWBcw34"
      },
      "execution_count": null,
      "outputs": []
    }
  ],
  "metadata": {
    "kernelspec": {
      "display_name": "Python 3 (ipykernel)",
      "language": "python",
      "name": "python3"
    },
    "language_info": {
      "codemirror_mode": {
        "name": "ipython",
        "version": 3
      },
      "file_extension": ".py",
      "mimetype": "text/x-python",
      "name": "python",
      "nbconvert_exporter": "python",
      "pygments_lexer": "ipython3",
      "version": "3.10.9"
    },
    "colab": {
      "provenance": [],
      "include_colab_link": true
    }
  },
  "nbformat": 4,
  "nbformat_minor": 0
}