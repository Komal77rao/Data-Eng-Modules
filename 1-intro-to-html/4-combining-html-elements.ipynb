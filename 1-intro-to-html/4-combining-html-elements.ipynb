{
  "cells": [
    {
      "cell_type": "markdown",
      "metadata": {
        "id": "view-in-github",
        "colab_type": "text"
      },
      "source": [
        "<a href=\"https://colab.research.google.com/github/Komal77rao/Data-Eng-Modules/blob/main/1-intro-to-html/4-combining-html-elements.ipynb\" target=\"_parent\"><img src=\"https://colab.research.google.com/assets/colab-badge.svg\" alt=\"Open In Colab\"/></a>"
      ]
    },
    {
      "cell_type": "markdown",
      "metadata": {
        "id": "wqkmulJtcnB_"
      },
      "source": [
        "# Combining HTML elements\n",
        "\n",
        "### Introduction\n",
        "\n",
        "Now that we understand know about different HTML elements, let's learn about how we can combine different HTML elements."
      ]
    },
    {
      "cell_type": "markdown",
      "metadata": {
        "id": "F6JXI7MTeYcE"
      },
      "source": [
        "### Combining HTML elements with text\n",
        "\n",
        "Let's look at a common example of using elements inside of elements -- this one from a [news article](https://www.nytimes.com/2019/01/10/arts/television/david-chase-edie-falco-sopranos-20th-anniversary.html) about the TV show The Sopranos."
      ]
    },
    {
      "cell_type": "markdown",
      "metadata": {
        "id": "JKXfEcVTlpZI"
      },
      "source": [
        "<img src=\"https://github.com/jigsawlabs-student/html-css/blob/master/1-intro-to-html/chase-paragraph.png?raw=1\" width=\"60%\">"
      ]
    },
    {
      "cell_type": "markdown",
      "metadata": {
        "id": "DILTLkAvlpZJ"
      },
      "source": [
        "What would that [look like in terms of HTML](https://glitch.com/embed/#!/embed/sprout-hedge?path=?path=index.html)?  Well **working from the outside in**, the whole section is a paragraph.  \n",
        "\n",
        "```html\n",
        "<p> David Chase, on the other hand...</p>\n",
        "```\n",
        "\n",
        "Then in the second sentence, **while still inside of the paragraph**, we place a link.    "
      ]
    },
    {
      "cell_type": "markdown",
      "metadata": {
        "id": "7D4uvVP-lpZK"
      },
      "source": [
        "```html\n",
        "<p>\n",
        "  David Chase, on the other hand, doesn’t exactly jump at the chance to look back.\n",
        "  “I thought revisiting the show would be more pleasurable,” the creator\n",
        "  <a href=\"https://www.nytimes.com/2019/01/07/arts/television/david-chase-sopranos-interview.html?module=inline\"> told The New York Times </a>.\n",
        "  “But it turns out I’ve forgotten a lot more than I thought I would.”\n",
        "</p>\n",
        "```"
      ]
    },
    {
      "cell_type": "markdown",
      "metadata": {
        "id": "I3tsoO9ggyIL"
      },
      "source": [
        "So notice that the ending `p` tag does arrive until the last line, and that the link is a part of that paragraph.   "
      ]
    },
    {
      "cell_type": "markdown",
      "metadata": {
        "id": "KTwe6iJOcgY6"
      },
      "source": [
        "## Outlining our HTML with divs\n",
        "\n",
        "So we just looked at a one paragraph in a webpage, and saw how the HTML would look.  But what if we were to zoom out, and consider the HTML for the entire article.  "
      ]
    },
    {
      "cell_type": "markdown",
      "metadata": {
        "id": "nj4i8a09lpZM"
      },
      "source": [
        "<img src=\"https://github.com/jigsawlabs-student/html-css/blob/master/1-intro-to-html/whole-article.png?raw=1\" width=\"50%\">"
      ]
    },
    {
      "cell_type": "markdown",
      "metadata": {
        "id": "x3JzejRJlpZN"
      },
      "source": [
        "### 1. Break our web page into sections\n",
        "\n",
        "This is our technique.  We break down the entire page into two or three sections.  It's almost like we were writing a broad outline of our webpage.  \n",
        "\n",
        "And this is what our outline would look like.  Outline:\n",
        "\n",
        ">   * A. Title\n",
        ">   * B. Content\n",
        "  \n",
        "And in HTML, this looks like the following:  \n",
        "\n",
        "```html\n",
        "<div>\n",
        "   <div class=\"title\">\n",
        "   </div>\n",
        "   \n",
        "   <div class=\"content\">\n",
        "   </div>\n",
        "</div>\n",
        "```"
      ]
    },
    {
      "cell_type": "markdown",
      "metadata": {
        "id": "QONc2NxulpZR"
      },
      "source": [
        "### 2. Break down these sections individually\n",
        "\n",
        "Now we need to (1) break down our title section and then (2) fill in the HTML for this section.  \n",
        "\n",
        "The title section looks like the following:"
      ]
    },
    {
      "cell_type": "markdown",
      "metadata": {
        "id": "4etkfq-DlpZT"
      },
      "source": [
        "<img src=\"https://github.com/jigsawlabs-student/html-css/blob/master/1-intro-to-html/title-section.png?raw=1\" width=\"40%\">"
      ]
    },
    {
      "cell_type": "markdown",
      "metadata": {
        "id": "vGNHMKoulpZT"
      },
      "source": [
        "1. Break down our title section\n",
        "Our title section can be divided into the following\n",
        "\n",
        "* A. Title Section\n",
        "    1. Headline\n",
        "    2. Description\n",
        "    3. Article Date and Sharing\n",
        "\n",
        "\n",
        "2. Fill in and update the HTML\n",
        "\n",
        "Update the html [here](https://glitch.com/embed/#!/embed/little-scowl?path=index.html&previewSize=33)."
      ]
    },
    {
      "cell_type": "markdown",
      "metadata": {
        "id": "gYNGhNJclpZT"
      },
      "source": [
        "```HTML\n",
        "<div class=\"article\">\n",
        "  <div class=\"title\">\n",
        "   <h1> Edie Falco and David Chase Reflect </h1>\n",
        "    \n",
        "    <h3> The creator and the star look back </h3>\n",
        "    \n",
        "    <div class=\"date_and_share\">\n",
        "       <div class=\"date\"> Jan 10, 2019</div>\n",
        "       <div class=\"share\"> twitter, facebook</div>\n",
        "    </div>\n",
        "  </div>  \n",
        "  \n",
        "  <div class=\"content\">\n",
        "   \n",
        "  </div>  \n",
        "</div>\n",
        "```"
      ]
    },
    {
      "cell_type": "markdown",
      "metadata": {
        "id": "1FEL5FpTtdvj"
      },
      "source": [
        "### Your turn\n",
        "\n",
        "Ok, now it's your turn to follow this process with the second half of the article.\n",
        "\n",
        "Once again, this is what the entire article looks like:\n",
        "\n",
        "<img src=\"https://github.com/jigsawlabs-student/html-css/blob/master/1-intro-to-html/whole-article.png?raw=1\" width=\"40%\">\n",
        "\n",
        "And here is our outline, just waiting for you to fill in the gaps for the content section:"
      ]
    },
    {
      "cell_type": "markdown",
      "metadata": {
        "id": "vlybcsdAuX46"
      },
      "source": [
        "* A. Title Section\n",
        "    1. Headline\n",
        "    2. Description\n",
        "    3. Article Date and Sharing\n",
        "    \n",
        "* B. Content Section\n",
        "    * `Fill In`\n",
        "    * `Fill In`"
      ]
    },
    {
      "cell_type": "markdown",
      "metadata": {
        "id": "M145GrTtlpZW"
      },
      "source": [
        "> Double click on the text above to edit."
      ]
    },
    {
      "cell_type": "markdown",
      "metadata": {
        "id": "HOFtBRTmvDgd"
      },
      "source": [
        "Once you are done with the outline, fill in the HTML in [Glitch here](https://glitch.com/embed/#!/little-scowl).  \n",
        "\n",
        "* You don't need to fill in the entire article.  \n",
        "* For an image of Edie Falco, use the link below:\n",
        "\n",
        "[Edie Falco](https://smartcdn.prod.postmedia.digital/torontosun/wp-content/uploads/2020/02/tommy-edie-falco.jpg?quality=100&strip=all)"
      ]
    },
    {
      "cell_type": "markdown",
      "metadata": {
        "id": "yh5E-LHxyWEb"
      },
      "source": [
        "## Check your work\n",
        "\n",
        "Finally, check your work.  Here, you can find the [original article](https://www.nytimes.com/2019/01/10/arts/television/david-chase-edie-falco-sopranos-20th-anniversary.html?action=click&module=Well&pgtype=Homepage&section=Television).  And remember that we can view the HTML in the developer console.  \n",
        "\n",
        "Let's see how we did with that first `title` section.  "
      ]
    },
    {
      "cell_type": "markdown",
      "metadata": {
        "id": "6fx4FWKZlpZW"
      },
      "source": [
        "### One More Example"
      ]
    },
    {
      "cell_type": "markdown",
      "metadata": {
        "id": "8KAaKdxVlpZW"
      },
      "source": [
        "Let's consider our example of Connor McDavid's profile on ESPN."
      ]
    },
    {
      "cell_type": "markdown",
      "metadata": {
        "id": "E5AFtII-lpZX"
      },
      "source": [
        "<img src=\"https://github.com/jigsawlabs-student/html-css/blob/master/1-intro-to-html/connor.png?raw=1\" width=\"60%\">"
      ]
    },
    {
      "cell_type": "markdown",
      "metadata": {
        "id": "__eVHPTclpZX"
      },
      "source": [
        "We could imagine that the HTML in this section looks something like the following:"
      ]
    },
    {
      "cell_type": "code",
      "metadata": {
        "id": "TvEOkKRlu0dJ"
      },
      "source": [
        "```html\n",
        "<div class=\"container\">\n",
        "    <div class=\"left\">\n",
        "        <img src=\"connor_mcdavid.png\" />\n",
        "    </div>\n",
        "    <div class=\"center\">\n",
        "        <h1> Connor McDavid </h1>\n",
        "        <ul>\n",
        "            <li> Born: Jan 13, 1997 </li>\n",
        "            <li> Age: 23 </li>\n",
        "            <li> Drafted 2015, First Round </li>\n",
        "        </ul>\n",
        "\n",
        "    </div>\n",
        "     <div class=\"right\">\n",
        "        <table>\n",
        "        </table>\n",
        "    </div>\n",
        "</div>\n",
        "```"
      ],
      "execution_count": null,
      "outputs": []
    },
    {
      "cell_type": "markdown",
      "metadata": {
        "id": "eU70-Aa5lpZc"
      },
      "source": [
        "If you can get a sense of how the HTML above corresponds to our picture, then you are on your way."
      ]
    }
  ],
  "metadata": {
    "colab": {
      "name": "5. Combining HTML elements.ipynb",
      "provenance": [],
      "include_colab_link": true
    },
    "kernelspec": {
      "display_name": "Python 3 (ipykernel)",
      "language": "python",
      "name": "python3"
    },
    "language_info": {
      "codemirror_mode": {
        "name": "ipython",
        "version": 3
      },
      "file_extension": ".py",
      "mimetype": "text/x-python",
      "name": "python",
      "nbconvert_exporter": "python",
      "pygments_lexer": "ipython3",
      "version": "3.9.7"
    }
  },
  "nbformat": 4,
  "nbformat_minor": 0
}