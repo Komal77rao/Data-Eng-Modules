{
  "cells": [
    {
      "cell_type": "markdown",
      "metadata": {
        "id": "view-in-github",
        "colab_type": "text"
      },
      "source": [
        "<a href=\"https://colab.research.google.com/github/Komal77rao/Data-Eng-Modules/blob/main/1-intro-to-html/3-anchors-images-divs.ipynb\" target=\"_parent\"><img src=\"https://colab.research.google.com/assets/colab-badge.svg\" alt=\"Open In Colab\"/></a>"
      ]
    },
    {
      "cell_type": "markdown",
      "metadata": {
        "id": "Dl1TFYjgI0rw"
      },
      "source": [
        "# Anchors, images, and divs"
      ]
    },
    {
      "cell_type": "markdown",
      "metadata": {
        "id": "5XyFHuZDgtBY"
      },
      "source": [
        "### Introduction"
      ]
    },
    {
      "cell_type": "markdown",
      "metadata": {
        "id": "3-ISRR8XgtBZ"
      },
      "source": [
        "In the last lesson, we learned about headers, paragraphs, and lists.  In this lesson, let's work with anchors, images and divs."
      ]
    },
    {
      "cell_type": "markdown",
      "metadata": {
        "id": "r3skTvifK1R9",
        "tags": []
      },
      "source": [
        "## Anchor Tags\n",
        "\n",
        "Anchors are links.  When you go to a website and click on an article to go to that article, you are clicking on a link, or an anchor tag.  Anchor tags are the **most important** HTML tag -- they connect one webpage to another."
      ]
    },
    {
      "cell_type": "markdown",
      "metadata": {
        "id": "Zz_Qsyr-gtBc"
      },
      "source": [
        "To create an anchor tag, we need two things:\n",
        "\n",
        "1. the text the user will see and\n",
        "2. the web address that the user will go to when clicking that link."
      ]
    },
    {
      "cell_type": "markdown",
      "metadata": {
        "id": "MWIVPeGdgtBj"
      },
      "source": [
        "Both of these components are in the code below:\n",
        "\n",
        "```html\n",
        "\n",
        "<a href=\"http://www.espn.com\">Go to ESPN </a>\n",
        "\n",
        "```\n",
        "\n",
        "Let's walk through this code step by step:\n",
        "\n",
        "* The `<a` indicates that this will be an anchor tag.\n",
        "* And `href=` indicates the address to link to.  \n",
        "* In the middle is the text the user sees, \"Go to ESPN\"."
      ]
    },
    {
      "cell_type": "markdown",
      "metadata": {
        "id": "nzyfsB4rgtBm"
      },
      "source": [
        "> **Take note:** This pattern for an `a` tag is pretty similar to the pattern we saw with `p` tags.  With `p` tags, we also had an open and closing `p`, with the displayed content in between.  `<p> This was our paragraph </p>`.  \n",
        "\n",
        "> The only difference is that our opening `<a>` tag expands to include the `href=\"some_value\"`, as in `<a href=\"some_value\">`.  The `href=` part is an example of an *HTML attribute*.  Here the `href=` attribute indicates which website to take the user to upon a click.\n"
      ]
    },
    {
      "cell_type": "markdown",
      "metadata": {
        "id": "XV3SuWnoOabo"
      },
      "source": [
        "Take a look at an `a` tag in [Glitch anchor tag](https://glitch.com/embed/#!/embed/amazing-broker?path=index.html), or in the cell below."
      ]
    },
    {
      "cell_type": "markdown",
      "metadata": {
        "id": "fzLtkPFlgtBs"
      },
      "source": [
        "```html\n",
        "<a href=\"http://www.espn.com\">Go to ESPN </a>\n",
        "```"
      ]
    },
    {
      "cell_type": "markdown",
      "metadata": {
        "id": "fvxkfJAigtBt"
      },
      "source": [
        "And this produces the following."
      ]
    },
    {
      "cell_type": "code",
      "metadata": {
        "cellView": "form",
        "id": "0X3ThvcYICom"
      },
      "source": [
        "<a href=\"http://www.espn.com\">Go to ESPN </a>"
      ],
      "execution_count": null,
      "outputs": []
    },
    {
      "cell_type": "markdown",
      "metadata": {
        "id": "D9NL0TFLIZWT"
      },
      "source": [
        "> **If you want**: double click on the cell above, and change the cell, so that the link takes us to a different website."
      ]
    },
    {
      "cell_type": "markdown",
      "metadata": {
        "id": "DoTzdvcZPV8M"
      },
      "source": [
        "## Images\n",
        "\n",
        "Image tags are similar to link tags.  With a link, we need to point to the location of a website on the Internet.  And with an image tag we point to the location of an image file on the Internet."
      ]
    },
    {
      "cell_type": "markdown",
      "metadata": {
        "id": "wjdCIUwTgtBz"
      },
      "source": [
        "  For example, the images of puppies [are here](https://www.google.com/search?hl=en&tbm=isch&source=hp&biw=1440&bih=717&ei=Ca83XM2vMevM5gKLl424DA&q=puppies&oq=puppies&gs_l=img.3..0l10.1243.2299..2372...0.0..0.57.373.7......1....1..gws-wiz-img.....0.ghLOfM2myLY).  Click on one of the images, and then right click (or two finger click on a Mac) on an image, and then click on \"copy image address\", and you will copy the address in the url of where to link."
      ]
    },
    {
      "cell_type": "markdown",
      "metadata": {
        "id": "sNztR5wegtB0"
      },
      "source": [
        "<img src=\"https://github.com/jigsawlabs-student/html-css/blob/master/1-intro-to-html/copy-image.png?raw=1\" width=\"40%\">"
      ]
    },
    {
      "cell_type": "markdown",
      "metadata": {
        "id": "uevuC23zg2gL"
      },
      "source": [
        "In the code below, we will use that copied image address for the puppy image by using `<img src=\"\" />`.  "
      ]
    },
    {
      "cell_type": "markdown",
      "metadata": {
        "id": "obufxyeMgtB5"
      },
      "source": [
        "```html\n",
        "<img src=\"https://cdn3-www.dogtime.com/assets/uploads/2018/10/puppies-cover.jpg\" />\n",
        "\n",
        "```"
      ]
    },
    {
      "cell_type": "markdown",
      "metadata": {
        "id": "ki-0gGv3gtB5"
      },
      "source": [
        "<img src=\"https://cdn3-www.dogtime.com/assets/uploads/2018/10/puppies-cover.jpg\" width=\"40%\"/>\n",
        "\n",
        "You can read more info about images [here](https://developer.mozilla.org/en-US/docs/Learn/HTML/Multimedia_and_embedding/Images_in_HTML).  But for now, let's move onto Div tags."
      ]
    },
    {
      "cell_type": "markdown",
      "metadata": {
        "id": "aECG4l_TLsqm"
      },
      "source": [
        "## Div Tags\n",
        "\n",
        "Divs stand for dividers, and if that seems like a vague term, you are correct!"
      ]
    },
    {
      "cell_type": "markdown",
      "metadata": {
        "id": "CBVu7HorgtB6"
      },
      "source": [
        "`Div` tags are often used for dividing sections of a web page.  For example, in the [Connor Mcdavid page below](http://www.espn.com/nhl/player/_/id/3895074/connor-mcdavid), you might divide that top dark portion with Connor's picture into three sections: one for the picture area, one for his content in the center, and one for the G, A, PTS table to the right.  And of course, that entire dark top section itself is also a `div`.  "
      ]
    },
    {
      "cell_type": "markdown",
      "metadata": {
        "id": "WZbEuc5CgtB6"
      },
      "source": [
        "<img src=\"https://github.com/jigsawlabs-student/html-css/blob/master/1-intro-to-html/connor.png?raw=1\" width=\"50%\">"
      ]
    },
    {
      "cell_type": "markdown",
      "metadata": {
        "id": "Pn6c8cK9gtB6"
      },
      "source": [
        "\n",
        "We'll talk about divs more in the section on CSS.  Here, we're really just getting started with them.\n",
        "\n",
        "Div's are pretty bland, so sometimes we label them by setting a class attribute to describe the div.  In the div to the right we set the class attribute to \"summary\".   Inside the div is the text \"content\".\n",
        "\n",
        "```html\n",
        "<div class=\"summary\"> Content </div>\n",
        "```"
      ]
    },
    {
      "cell_type": "markdown",
      "metadata": {
        "id": "pEn3Z5rJRTRE"
      },
      "source": [
        "## Your turn\n",
        "\n",
        "We added a playground for you to experiment with HTML code.  Click the run button at the top to see what your code looks like.  You have learned about headers, paragraphs, lists, anchor tags, images,  and divs.  So there is plenty to experiment with!"
      ]
    },
    {
      "cell_type": "markdown",
      "metadata": {
        "id": "oLvyG-H1gtB7"
      },
      "source": [
        "[Click here, then click remix to edit.](https://glitch.com/embed/#!/embed/tender-twister?path=index.html&previewSize=0)"
      ]
    }
  ],
  "metadata": {
    "colab": {
      "name": "4-RoundingOutHTML.ipynb",
      "provenance": [],
      "include_colab_link": true
    },
    "kernelspec": {
      "display_name": "Python 3 (ipykernel)",
      "language": "python",
      "name": "python3"
    },
    "language_info": {
      "codemirror_mode": {
        "name": "ipython",
        "version": 3
      },
      "file_extension": ".py",
      "mimetype": "text/x-python",
      "name": "python",
      "nbconvert_exporter": "python",
      "pygments_lexer": "ipython3",
      "version": "3.9.7"
    }
  },
  "nbformat": 4,
  "nbformat_minor": 0
}