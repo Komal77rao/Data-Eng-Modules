{
  "cells": [
    {
      "cell_type": "markdown",
      "metadata": {
        "id": "view-in-github",
        "colab_type": "text"
      },
      "source": [
        "<a href=\"https://colab.research.google.com/github/Komal77rao/Data-Eng-Modules/blob/main/1-intro-to-html/6-adding_css_attributes.ipynb\" target=\"_parent\"><img src=\"https://colab.research.google.com/assets/colab-badge.svg\" alt=\"Open In Colab\"/></a>"
      ]
    },
    {
      "cell_type": "markdown",
      "metadata": {
        "id": "HVUJSl-Zg2MQ"
      },
      "source": [
        "# Working With CSS - Adding CSS Attributes"
      ]
    },
    {
      "cell_type": "markdown",
      "metadata": {
        "id": "Re9NAkaRhAlh"
      },
      "source": [
        "## Assigning Attributes\n",
        "\n",
        "\n",
        "Once we get into the world of CSS, there are lots of options available to us, even just on fonts.  \n",
        "\n",
        "Click through the CSS documentation [here](https://developer.mozilla.org/en-US/docs/Web/CSS/font) to see all of the different ways that we can change fonts.  And we can see an example of changing the font in the link below."
      ]
    },
    {
      "cell_type": "markdown",
      "metadata": {
        "id": "J5ETQSNIwB4R"
      },
      "source": [
        "[Glitch with code](https://glitch.com/embed/#!/embed/beryl-print?path=index.html&previewSize=33)"
      ]
    },
    {
      "cell_type": "markdown",
      "metadata": {
        "id": "KHdd7UbRgCQX"
      },
      "source": [
        "Just by looking at the code, hopefully you can get a sense of what it's doing.   Try changing some of the code.  The first part is the font-size, the second part is the font style, and the last is best seen by removing it and seeing what happens.  "
      ]
    },
    {
      "cell_type": "markdown",
      "metadata": {
        "id": "83mlFik9jRyB"
      },
      "source": [
        "## Becoming Self-Taught\n",
        "\n",
        "The main skill with learning HTML attributes is not to learn all of them: there's simply too many.  Instead, it's to be able to see examples and try them out on your own.  \n",
        "\n",
        "Where can you find examples?  Well one place is in the [documentation for CSS](https://developer.mozilla.org/en-US/docs/Web/CSS).  Another way, is again by inspecting websites."
      ]
    },
    {
      "cell_type": "markdown",
      "metadata": {
        "id": "EI1p4vJEwB4U"
      },
      "source": [
        "Let's take a look at our web inspector again:\n",
        "\n"
      ]
    },
    {
      "cell_type": "markdown",
      "metadata": {
        "id": "2Q8R-oFFwB4V"
      },
      "source": [
        "<img src=\"https://github.com/jigsawlabs-student/html-css/blob/master/1-intro-to-html/inspector-checks.png?raw=1\" width=\"60%\">"
      ]
    },
    {
      "cell_type": "markdown",
      "metadata": {
        "id": "MV_ncV3vkTE2"
      },
      "source": [
        "Take a look at all of the attributes.  It's possible to check and uncheck these attributes to see what each of these do."
      ]
    },
    {
      "cell_type": "markdown",
      "metadata": {
        "id": "ElevTA_HkccH"
      },
      "source": [
        "## Linking to an external stylesheet"
      ]
    },
    {
      "cell_type": "markdown",
      "metadata": {
        "id": "rStVFX6Gml9X"
      },
      "source": [
        "So far we have been adding our styles directly in the HTML file with the `<style>` tag.  \n",
        "\n",
        "However, generally developers like to separate out the CSS from the HTML.  The way to do that is to write the CSS in a separate file, and then link to that file from the HTML.  \n",
        "\n",
        "\n",
        "\n",
        "In the link below you can see that we have a new file called `styles.css`.  If you click on it, you can see we have some CSS inside of there.  Press the play button, and you will see that the styles in that `styles.css` file are applied.  Our styles are applied because of the following line:\n",
        "\n",
        "```html\n",
        "<link href=\"styles.css\" rel=\"stylesheet\" type=\"text/css\" />\n",
        "\n",
        "```\n",
        "\n",
        "That line is equivalent to copying and pasting the code in the styles.css file into some `<style>` tags directly in our HTML."
      ]
    },
    {
      "cell_type": "markdown",
      "metadata": {
        "id": "y6AatRuFwB4X"
      },
      "source": [
        "[Glitch code](https://glitch.com/embed/#!/embed/great-headlight?path=index.html&previewSize=33)"
      ]
    }
  ],
  "metadata": {
    "colab": {
      "name": "8_adding_css_attributes.ipynb",
      "provenance": [],
      "include_colab_link": true
    },
    "kernelspec": {
      "display_name": "Python 3 (ipykernel)",
      "language": "python",
      "name": "python3"
    },
    "language_info": {
      "codemirror_mode": {
        "name": "ipython",
        "version": 3
      },
      "file_extension": ".py",
      "mimetype": "text/x-python",
      "name": "python",
      "nbconvert_exporter": "python",
      "pygments_lexer": "ipython3",
      "version": "3.9.7"
    }
  },
  "nbformat": 4,
  "nbformat_minor": 0
}