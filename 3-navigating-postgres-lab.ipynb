{
  "cells": [
    {
      "cell_type": "markdown",
      "metadata": {
        "id": "view-in-github",
        "colab_type": "text"
      },
      "source": [
        "<a href=\"https://colab.research.google.com/github/Komal77rao/Data-Eng-Modules/blob/main/3-navigating-postgres-lab.ipynb\" target=\"_parent\"><img src=\"https://colab.research.google.com/assets/colab-badge.svg\" alt=\"Open In Colab\"/></a>"
      ]
    },
    {
      "cell_type": "markdown",
      "metadata": {
        "id": "7BJGMPWJqn-h"
      },
      "source": [
        "# Navigating Postgres Lab"
      ]
    },
    {
      "cell_type": "markdown",
      "metadata": {
        "id": "I7mRiY94qn-o"
      },
      "source": [
        "### Introduction"
      ]
    },
    {
      "cell_type": "markdown",
      "metadata": {
        "id": "KyRwsBv-qn-p"
      },
      "source": [
        "In this lesson, we'll practice working with the postgres shell to manage databases and tables, and how to learn about additional capabilities we can perform in postgres."
      ]
    },
    {
      "cell_type": "markdown",
      "metadata": {
        "id": "IORjygc_qn-q"
      },
      "source": [
        "### Creating Databases and Tables"
      ]
    },
    {
      "cell_type": "markdown",
      "metadata": {
        "id": "zgWKCUbRqn-r"
      },
      "source": [
        "To begin, let's login to postgres while connecting to the `postgres` database."
      ]
    },
    {
      "cell_type": "markdown",
      "metadata": {
        "id": "Mk7qsh93qn-s"
      },
      "source": [
        "> <img src=\"https://github.com/sql-fundamentals-jigsaw/postgres-curriculum/blob/master/psql-logged-in.png?raw=1\" width=\"70%\">"
      ]
    },
    {
      "cell_type": "markdown",
      "metadata": {
        "id": "QUAQi-_yqn-t"
      },
      "source": [
        "From here, list all of the databases."
      ]
    },
    {
      "cell_type": "markdown",
      "metadata": {
        "id": "B2nITgIfqn-u"
      },
      "source": [
        "> You will see different database names than the ones below."
      ]
    },
    {
      "cell_type": "markdown",
      "metadata": {
        "id": "Ag5kQ2m0qn-v"
      },
      "source": [
        "> <img src=\"https://github.com/sql-fundamentals-jigsaw/postgres-curriculum/blob/master/pg-databases.png?raw=1\" width=\"80%\">\n"
      ]
    },
    {
      "cell_type": "markdown",
      "metadata": {
        "id": "xxvuwUk3qn-w"
      },
      "source": [
        "Next let's create and connect to a new database called blogger."
      ]
    },
    {
      "cell_type": "markdown",
      "metadata": {
        "id": "Ob2Ykx4Cqn-w"
      },
      "source": [
        "> Once connected, you'll see blogger in your command prompt."
      ]
    },
    {
      "cell_type": "markdown",
      "metadata": {
        "id": "fjJvdA7tqn-x"
      },
      "source": [
        "> <img src=\"https://github.com/sql-fundamentals-jigsaw/postgres-curriculum/blob/master/blogger-db.png?raw=1\" width=\"70%\">"
      ]
    },
    {
      "cell_type": "markdown",
      "metadata": {
        "id": "p7f9Qvamqn-y"
      },
      "source": [
        "Now that we're connected, we can create a new table.  "
      ]
    },
    {
      "cell_type": "markdown",
      "metadata": {
        "id": "r12IcpM7qn-z"
      },
      "source": [
        "```SQL\n",
        "CREATE TABLE posts (id serial PRIMARY KEY,\n",
        "                   title VARCHAR(255));\n",
        "```"
      ]
    },
    {
      "cell_type": "markdown",
      "metadata": {
        "id": "ElA4RbGcqn-z"
      },
      "source": [
        "> Copy and paste the above into the shell and press return."
      ]
    },
    {
      "cell_type": "markdown",
      "metadata": {
        "id": "H4mfAFpXqn-z"
      },
      "source": [
        "Then display all of tables in the database."
      ]
    },
    {
      "cell_type": "markdown",
      "metadata": {
        "id": "lUFngiJXqn-0"
      },
      "source": [
        "> <img src=\"https://github.com/sql-fundamentals-jigsaw/postgres-curriculum/blob/master/posts-table.png?raw=1\" width=\"50%\">"
      ]
    },
    {
      "cell_type": "markdown",
      "metadata": {
        "id": "w6FAy3dNqn-0"
      },
      "source": [
        "And from here, let's view the schema of the posts table."
      ]
    },
    {
      "cell_type": "markdown",
      "metadata": {
        "id": "r1316ToIqn-0"
      },
      "source": [
        "> <img src=\"https://github.com/sql-fundamentals-jigsaw/postgres-curriculum/blob/master/posts-schema.png?raw=1\" width=\"70%\">"
      ]
    },
    {
      "cell_type": "markdown",
      "metadata": {
        "id": "MoUBgIVAqn-0"
      },
      "source": [
        "### Navigating Postgres"
      ]
    },
    {
      "cell_type": "markdown",
      "metadata": {
        "id": "cNgZhgJlqn-0"
      },
      "source": [
        "Ok, now that we worked created a postgres command, let's work with navigating postgres.  To begin, view the connected database and current user.  You'll see something like the following:\n",
        "\n",
        "> `You are connected to database \"blogger\" as user \"postgres\" via socket in \"/tmp\" at port \"5432\".`"
      ]
    },
    {
      "cell_type": "markdown",
      "metadata": {
        "id": "s73ef5-Tqn-0"
      },
      "source": [
        "Ok, let's see if we can explore a different capability we can perform in postgres.  Type the command to see the list of postgres commands."
      ]
    },
    {
      "cell_type": "markdown",
      "metadata": {
        "id": "Y_ZSTeQvqn_T"
      },
      "source": [
        "> <img src=\"https://github.com/sql-fundamentals-jigsaw/postgres-curriculum/blob/master/some-commands.png?raw=1\" width=\"70%\">"
      ]
    },
    {
      "cell_type": "markdown",
      "metadata": {
        "id": "yOQYuPItqn_W"
      },
      "source": [
        "Let's take a look at the `\\watch` command which states that it executes a query every number of seconds.  Try it with the following:\n",
        "\n",
        "```SQL\n",
        "SELECT * FROM posts; \\watch 1\n",
        "```\n",
        "\n"
      ]
    },
    {
      "cell_type": "markdown",
      "metadata": {
        "id": "TSc7ro-Dqn_W"
      },
      "source": [
        "We can stop the query by calling `ctl + c`."
      ]
    },
    {
      "cell_type": "markdown",
      "metadata": {
        "id": "nsZa6eoKqn_X"
      },
      "source": [
        "### Logging commands in postgres"
      ]
    },
    {
      "cell_type": "markdown",
      "metadata": {
        "id": "b5oM0-lzqn_X"
      },
      "source": [
        "Finally, navigate to the log file and in the bash terminal, use the command `tail -f` to follow updates to the log file.  Make some commands through the postgres tab to see updates to the log file.  The log file, by default, only displays error messages.  We can update this to display all SQL commands by updating the configuration file as described [here](https://tableplus.com/blog/2018/10/how-to-show-queries-log-in-postgresql.html)."
      ]
    },
    {
      "cell_type": "markdown",
      "metadata": {
        "id": "TYgwKZy1qn_X"
      },
      "source": [
        "### Resources\n",
        "\n",
        "[Results to a File](https://stackoverflow.com/questions/5331320/psql-save-results-of-command-to-a-file?rq=1)"
      ]
    }
  ],
  "metadata": {
    "kernelspec": {
      "display_name": "Python 3",
      "language": "python",
      "name": "python3"
    },
    "language_info": {
      "codemirror_mode": {
        "name": "ipython",
        "version": 3
      },
      "file_extension": ".py",
      "mimetype": "text/x-python",
      "name": "python",
      "nbconvert_exporter": "python",
      "pygments_lexer": "ipython3",
      "version": "3.8.3"
    },
    "colab": {
      "provenance": [],
      "include_colab_link": true
    }
  },
  "nbformat": 4,
  "nbformat_minor": 0
}