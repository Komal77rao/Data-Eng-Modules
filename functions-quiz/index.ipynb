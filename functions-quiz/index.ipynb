{
  "cells": [
    {
      "cell_type": "markdown",
      "id": "c67a1e95-8483-443b-96aa-dadf61fa2de6",
      "metadata": {
        "id": "c67a1e95-8483-443b-96aa-dadf61fa2de6"
      },
      "source": [
        "# Functions and APIs Quiz"
      ]
    },
    {
      "cell_type": "markdown",
      "id": "f9c78744-d6ae-40d6-8b30-3d6fc68922ee",
      "metadata": {
        "id": "f9c78744-d6ae-40d6-8b30-3d6fc68922ee"
      },
      "source": [
        "### Building a function"
      ]
    },
    {
      "cell_type": "markdown",
      "id": "a3c653c4-2c00-428e-a4ee-9ca308461204",
      "metadata": {
        "id": "a3c653c4-2c00-428e-a4ee-9ca308461204"
      },
      "source": [
        "The below makes a request to the to the [Google Books API](https://developers.google.com/books/docs/v1/reference/volumes/list#parameters)."
      ]
    },
    {
      "cell_type": "code",
      "execution_count": 18,
      "id": "386cf3b9-0544-456a-80da-9784af80c4a9",
      "metadata": {
        "colab": {
          "base_uri": "https://localhost:8080/",
          "height": 35
        },
        "id": "386cf3b9-0544-456a-80da-9784af80c4a9",
        "outputId": "7725d17e-33fd-437b-94bc-77e6c61c98f9"
      },
      "outputs": [
        {
          "output_type": "execute_result",
          "data": {
            "text/plain": [
              "'XWyPDQAAQBAJ'"
            ],
            "application/vnd.google.colaboratory.intrinsic+json": {
              "type": "string"
            }
          },
          "metadata": {},
          "execution_count": 18
        }
      ],
      "source": [
        "import requests\n",
        "\n",
        "root_url = \"https://www.googleapis.com/books/v1/volumes?q=mark twain\"\n",
        "response = requests.get(root_url)\n",
        "book_results = response.json()\n",
        "book_results['items'][0]['id']\n",
        "\n"
      ]
    },
    {
      "cell_type": "markdown",
      "id": "7dbb79b7-1f58-4e03-a78a-feefb5bd79c7",
      "metadata": {
        "id": "7dbb79b7-1f58-4e03-a78a-feefb5bd79c7"
      },
      "source": [
        "We can confirm this by viewing the `book_results` variable -- of course, its a bit long."
      ]
    },
    {
      "cell_type": "markdown",
      "id": "d2bdeea0-afa1-408e-ba50-0d3c55d48333",
      "metadata": {
        "id": "d2bdeea0-afa1-408e-ba50-0d3c55d48333"
      },
      "source": [
        "1. Create a function called `make_request` that takes in the url as an argument and returns the results."
      ]
    },
    {
      "cell_type": "code",
      "execution_count": 5,
      "id": "351cfc1c-ee9a-409e-b23f-4b99e522fab5",
      "metadata": {
        "id": "351cfc1c-ee9a-409e-b23f-4b99e522fab5"
      },
      "outputs": [],
      "source": [
        "def make_request(root_url):\n",
        "  response = requests.get(root_url)\n",
        "  book_results = response.json()\n",
        "  return book_results\n"
      ]
    },
    {
      "cell_type": "markdown",
      "id": "aa0977c0-9d40-4020-b209-501910c4322d",
      "metadata": {
        "id": "aa0977c0-9d40-4020-b209-501910c4322d"
      },
      "source": [
        "2. Next write a function called `make_params` that takes in a dictionary of parameters and then returns a string of those query parameters.\n",
        "\n",
        "For example if we provide as an input to the function the following:"
      ]
    },
    {
      "cell_type": "code",
      "execution_count": 10,
      "id": "3e9fb784-17ac-4d01-80fa-60c46de21701",
      "metadata": {
        "colab": {
          "base_uri": "https://localhost:8080/",
          "height": 35
        },
        "id": "3e9fb784-17ac-4d01-80fa-60c46de21701",
        "outputId": "4e91bb8b-6ab0-4e3d-c047-a6a228fd9d60"
      },
      "outputs": [
        {
          "output_type": "execute_result",
          "data": {
            "text/plain": [
              "'mark twain'"
            ],
            "application/vnd.google.colaboratory.intrinsic+json": {
              "type": "string"
            }
          },
          "metadata": {},
          "execution_count": 10
        }
      ],
      "source": [
        "params = {'q': 'mark twain', 'maxResults': '20'}\n",
        "list(params.items())[0][1]"
      ]
    },
    {
      "cell_type": "markdown",
      "id": "74cbbcac-2a0f-4967-bc9d-a70c4c5e7bcc",
      "metadata": {
        "id": "74cbbcac-2a0f-4967-bc9d-a70c4c5e7bcc"
      },
      "source": [
        "We should be returned:"
      ]
    },
    {
      "cell_type": "code",
      "execution_count": null,
      "id": "e15ba903-43c4-425a-ba10-7a6631633386",
      "metadata": {
        "id": "e15ba903-43c4-425a-ba10-7a6631633386",
        "outputId": "06119976-48e7-41a0-f8f0-5cea7f5301d0"
      },
      "outputs": [
        {
          "data": {
            "text/plain": [
              "'q=mark twain&maxResults=20'"
            ]
          },
          "execution_count": 14,
          "metadata": {},
          "output_type": "execute_result"
        }
      ],
      "source": [
        "'q=mark twain&maxResults=20'"
      ]
    },
    {
      "cell_type": "markdown",
      "id": "3e0f1e77-6862-43af-937a-c571b0bc3b4a",
      "metadata": {
        "id": "3e0f1e77-6862-43af-937a-c571b0bc3b4a"
      },
      "source": [
        "And if we provide to the function the following:"
      ]
    },
    {
      "cell_type": "code",
      "execution_count": null,
      "id": "0dc657ba-e2fc-4a2a-8d43-39aa40b5b5a2",
      "metadata": {
        "id": "0dc657ba-e2fc-4a2a-8d43-39aa40b5b5a2"
      },
      "outputs": [],
      "source": [
        "params = {'q': 'mark twain', 'maxResults': '20', 'filter': 'ebooks'}"
      ]
    },
    {
      "cell_type": "markdown",
      "id": "8a50de1c-ccfc-4e35-a63c-28aba78e286a",
      "metadata": {
        "id": "8a50de1c-ccfc-4e35-a63c-28aba78e286a"
      },
      "source": [
        "We should be returned:"
      ]
    },
    {
      "cell_type": "code",
      "execution_count": null,
      "id": "daccd6a8-60c0-4650-ba4d-98f726185bf4",
      "metadata": {
        "id": "daccd6a8-60c0-4650-ba4d-98f726185bf4"
      },
      "outputs": [],
      "source": [
        "'q=mark twain&maxResults=20&filter=ebooks'"
      ]
    },
    {
      "cell_type": "markdown",
      "id": "b678a523-e268-47cf-9d01-d281a3fd0ead",
      "metadata": {
        "id": "b678a523-e268-47cf-9d01-d281a3fd0ead"
      },
      "source": [
        "> Write the function in the cell below."
      ]
    },
    {
      "cell_type": "code",
      "source": [
        "def make_params(params):\n",
        "  return '&'.join([param[0]+ '=' + param[1] for param in list(params.items())])\n"
      ],
      "metadata": {
        "id": "srYEyl8EnjYv"
      },
      "id": "srYEyl8EnjYv",
      "execution_count": 11,
      "outputs": []
    },
    {
      "cell_type": "markdown",
      "id": "b646643a-086b-45f7-948a-f8c78377c20b",
      "metadata": {
        "id": "b646643a-086b-45f7-948a-f8c78377c20b"
      },
      "source": [
        "3. Parsing Parameters"
      ]
    },
    {
      "cell_type": "markdown",
      "id": "7e2d39e1-1e51-4834-b4f6-36a911d22b85",
      "metadata": {
        "id": "7e2d39e1-1e51-4834-b4f6-36a911d22b85"
      },
      "source": [
        "Now write a function called `parse_ids` that given a `response` from the google books volumes endpoint returns a list of the book ids."
      ]
    },
    {
      "cell_type": "markdown",
      "id": "a862f0cb-0de4-4f77-9f06-ff9be8990f1b",
      "metadata": {
        "id": "a862f0cb-0de4-4f77-9f06-ff9be8990f1b"
      },
      "source": [
        "> For example, if we pass the following `book_response` to the `parse_ids` function."
      ]
    },
    {
      "cell_type": "code",
      "execution_count": 36,
      "id": "1a194e6a-1efa-4ea0-85e6-270ef860232e",
      "metadata": {
        "colab": {
          "base_uri": "https://localhost:8080/"
        },
        "id": "1a194e6a-1efa-4ea0-85e6-270ef860232e",
        "outputId": "aba9d6e9-9097-4a68-8b81-129467222c3f"
      },
      "outputs": [
        {
          "output_type": "execute_result",
          "data": {
            "text/plain": [
              "[{'kind': 'books#volume',\n",
              "  'id': 'XWyPDQAAQBAJ',\n",
              "  'etag': 'OD9MmCRIWUM',\n",
              "  'selfLink': 'https://www.googleapis.com/books/v1/volumes/XWyPDQAAQBAJ',\n",
              "  'volumeInfo': {'title': 'Mark Twain',\n",
              "   'authors': ['Geoffrey C. Ward', 'Dayton Duncan'],\n",
              "   'publisher': 'Knopf',\n",
              "   'publishedDate': '2001',\n",
              "   'description': 'Here the master storytellers Geoffrey Ward, Ken Burns, and Dayton Duncan give us the first fully illustrated biography of Mark Twain, American literature\\'s touchstone, its funniest and most inventive figure.\".',\n",
              "   'industryIdentifiers': [{'type': 'ISBN_13', 'identifier': '9780375405617'},\n",
              "    {'type': 'ISBN_10', 'identifier': '0375405615'}],\n",
              "   'readingModes': {'text': False, 'image': False},\n",
              "   'pageCount': 290,\n",
              "   'printType': 'BOOK',\n",
              "   'categories': ['Authors, American'],\n",
              "   'maturityRating': 'NOT_MATURE',\n",
              "   'allowAnonLogging': False,\n",
              "   'contentVersion': '0.1.0.0.preview.0',\n",
              "   'panelizationSummary': {'containsEpubBubbles': False,\n",
              "    'containsImageBubbles': False},\n",
              "   'imageLinks': {'smallThumbnail': 'http://books.google.com/books/content?id=XWyPDQAAQBAJ&printsec=frontcover&img=1&zoom=5&edge=curl&source=gbs_api',\n",
              "    'thumbnail': 'http://books.google.com/books/content?id=XWyPDQAAQBAJ&printsec=frontcover&img=1&zoom=1&edge=curl&source=gbs_api'},\n",
              "   'language': 'en',\n",
              "   'previewLink': 'http://books.google.com/books?id=XWyPDQAAQBAJ&printsec=frontcover&dq=mark+twain&hl=&cd=1&source=gbs_api',\n",
              "   'infoLink': 'http://books.google.com/books?id=XWyPDQAAQBAJ&dq=mark+twain&hl=&source=gbs_api',\n",
              "   'canonicalVolumeLink': 'https://books.google.com/books/about/Mark_Twain.html?hl=&id=XWyPDQAAQBAJ'},\n",
              "  'saleInfo': {'country': 'US',\n",
              "   'saleability': 'NOT_FOR_SALE',\n",
              "   'isEbook': False},\n",
              "  'accessInfo': {'country': 'US',\n",
              "   'viewability': 'PARTIAL',\n",
              "   'embeddable': True,\n",
              "   'publicDomain': False,\n",
              "   'textToSpeechPermission': 'ALLOWED',\n",
              "   'epub': {'isAvailable': False},\n",
              "   'pdf': {'isAvailable': False},\n",
              "   'webReaderLink': 'http://play.google.com/books/reader?id=XWyPDQAAQBAJ&hl=&source=gbs_api',\n",
              "   'accessViewStatus': 'SAMPLE',\n",
              "   'quoteSharingAllowed': False},\n",
              "  'searchInfo': {'textSnippet': 'Here the master storytellers Geoffrey Ward, Ken Burns, and Dayton Duncan give us the first fully illustrated biography of Mark Twain, American literature&#39;s touchstone, its funniest and most inventive figure.&quot;.'}},\n",
              " {'kind': 'books#volume',\n",
              "  'id': 'lj1Rc68iZ0YC',\n",
              "  'etag': 'WTqJ7i2GmOI',\n",
              "  'selfLink': 'https://www.googleapis.com/books/v1/volumes/lj1Rc68iZ0YC',\n",
              "  'volumeInfo': {'title': 'Mr. Clemens and Mark Twain',\n",
              "   'subtitle': 'A Biography',\n",
              "   'authors': ['Justin Kaplan'],\n",
              "   'publisher': 'Simon and Schuster',\n",
              "   'publishedDate': '2008-06-30',\n",
              "   'description': 'Mark Twain, the American comic genius who portrayed, named, and in part exemplified America’s “Gilded Age,” comes alive in Justin Kaplan’s extraordinary biography. With brilliant immediacy, Mr. Clemens and Mark Twain brings to life a towering literary figure whose dual persona symbolized the emerging American conflict between down-to-earth morality and freewheeling ambition. As Mark Twain, he was the Mississippi riverboat pilot, the satirist with a fiery hatred of pretension, and the author of such classics as Tom Sawyer andHuckleberry Finn. As Mr. Clemens, he was the star who married an heiress, built a palatial estate, threw away fortunes on harebrained financial schemes, and lived the extravagant life that Mark Twain despised. Kaplan effectively portrays the triumphant-tragic man whose achievements and failures, laughter and anger, reflect a crucial generation in our past as well as his own dark, divided, and remarkably contemporary spirit. Mr. Clemens and Mark Twain brilliantly conveys this towering literary figure who was himself a symbol of the peculiarly American conflict between moral scrutiny and the drive to succeed. Mr. Clemens lived the Gilded Life that Mark Twain despised. The merging and fragmenting of these and other identities, as the biography unfolds, results in a magnificent projection of the whole man; the great comic spirit; and the exuberant, tragic human being, who, his friend William Dean Howells said, was “sole, incomparable, the Lincoln of our literature.”',\n",
              "   'industryIdentifiers': [{'type': 'ISBN_13', 'identifier': '9781439129319'},\n",
              "    {'type': 'ISBN_10', 'identifier': '1439129312'}],\n",
              "   'readingModes': {'text': True, 'image': False},\n",
              "   'pageCount': 432,\n",
              "   'printType': 'BOOK',\n",
              "   'categories': ['Biography & Autobiography'],\n",
              "   'maturityRating': 'NOT_MATURE',\n",
              "   'allowAnonLogging': False,\n",
              "   'contentVersion': '1.4.4.0.preview.2',\n",
              "   'panelizationSummary': {'containsEpubBubbles': False,\n",
              "    'containsImageBubbles': False},\n",
              "   'imageLinks': {'smallThumbnail': 'http://books.google.com/books/content?id=lj1Rc68iZ0YC&printsec=frontcover&img=1&zoom=5&edge=curl&source=gbs_api',\n",
              "    'thumbnail': 'http://books.google.com/books/content?id=lj1Rc68iZ0YC&printsec=frontcover&img=1&zoom=1&edge=curl&source=gbs_api'},\n",
              "   'language': 'en',\n",
              "   'previewLink': 'http://books.google.com/books?id=lj1Rc68iZ0YC&printsec=frontcover&dq=mark+twain&hl=&cd=2&source=gbs_api',\n",
              "   'infoLink': 'https://play.google.com/store/books/details?id=lj1Rc68iZ0YC&source=gbs_api',\n",
              "   'canonicalVolumeLink': 'https://play.google.com/store/books/details?id=lj1Rc68iZ0YC'},\n",
              "  'saleInfo': {'country': 'US',\n",
              "   'saleability': 'FOR_SALE',\n",
              "   'isEbook': True,\n",
              "   'listPrice': {'amount': 15.99, 'currencyCode': 'USD'},\n",
              "   'retailPrice': {'amount': 15.99, 'currencyCode': 'USD'},\n",
              "   'buyLink': 'https://play.google.com/store/books/details?id=lj1Rc68iZ0YC&rdid=book-lj1Rc68iZ0YC&rdot=1&source=gbs_api',\n",
              "   'offers': [{'finskyOfferType': 1,\n",
              "     'listPrice': {'amountInMicros': 15990000, 'currencyCode': 'USD'},\n",
              "     'retailPrice': {'amountInMicros': 15990000, 'currencyCode': 'USD'},\n",
              "     'giftable': True}]},\n",
              "  'accessInfo': {'country': 'US',\n",
              "   'viewability': 'PARTIAL',\n",
              "   'embeddable': True,\n",
              "   'publicDomain': False,\n",
              "   'textToSpeechPermission': 'ALLOWED_FOR_ACCESSIBILITY',\n",
              "   'epub': {'isAvailable': True,\n",
              "    'acsTokenLink': 'http://books.google.com/books/download/Mr_Clemens_and_Mark_Twain-sample-epub.acsm?id=lj1Rc68iZ0YC&format=epub&output=acs4_fulfillment_token&dl_type=sample&source=gbs_api'},\n",
              "   'pdf': {'isAvailable': False},\n",
              "   'webReaderLink': 'http://play.google.com/books/reader?id=lj1Rc68iZ0YC&hl=&source=gbs_api',\n",
              "   'accessViewStatus': 'SAMPLE',\n",
              "   'quoteSharingAllowed': False},\n",
              "  'searchInfo': {'textSnippet': 'With brilliant immediacy, Mr. Clemens and Mark Twain brings to life a towering literary figure whose dual persona symbolized the emerging American conflict between down-to-earth morality and freewheeling ambition.'}},\n",
              " {'kind': 'books#volume',\n",
              "  'id': 'YqceBgAAQBAJ',\n",
              "  'etag': 'c+tz7ssk4KE',\n",
              "  'selfLink': 'https://www.googleapis.com/books/v1/volumes/YqceBgAAQBAJ',\n",
              "  'volumeInfo': {'title': 'Mark Twain And The South',\n",
              "   'authors': ['Arthur G. Pettit'],\n",
              "   'publisher': 'University Press of Kentucky',\n",
              "   'publishedDate': '2014-07-11',\n",
              "   'description': \"The South was many things to Mark Twain: boyhood home, testing ground for manhood, and the principal source of creative inspiration. Although he left the South while a young man, seldom to return, it remained for him always a haunting presence, alternately loved and loathed. Mark Twain and the South was the first book on this major yet largely ignored aspect of the private life of Samuel Clemens and one of the major themes in his writing from 1863 until his death. Arthur G. Pettit clearly demonstrates that Mark Twain's feelings on race and region moved in an intelligible direction from the white Southern point of view he was exposed to in his youth to self-censorship, disillusionment, and, ultimately, a deeply pessimistic and sardonic outlook in which the dream of racial brotherhood was forever dead. Approaching his subject as a historian with a deep appreciation for literature, he bases his study on a wide variety of Mark Twain's published and unpublished works, including his notebooks, scrapbooks, and letters. An interesting feature of this illuminating work is an examination of Clemens's relations with the only two black men he knew well in his adult years.\",\n",
              "   'industryIdentifiers': [{'type': 'ISBN_13', 'identifier': '9780813148786'},\n",
              "    {'type': 'ISBN_10', 'identifier': '0813148782'}],\n",
              "   'readingModes': {'text': False, 'image': True},\n",
              "   'pageCount': 236,\n",
              "   'printType': 'BOOK',\n",
              "   'categories': ['Literary Criticism'],\n",
              "   'maturityRating': 'NOT_MATURE',\n",
              "   'allowAnonLogging': False,\n",
              "   'contentVersion': '1.4.1.0.preview.1',\n",
              "   'panelizationSummary': {'containsEpubBubbles': False,\n",
              "    'containsImageBubbles': False},\n",
              "   'imageLinks': {'smallThumbnail': 'http://books.google.com/books/content?id=YqceBgAAQBAJ&printsec=frontcover&img=1&zoom=5&edge=curl&source=gbs_api',\n",
              "    'thumbnail': 'http://books.google.com/books/content?id=YqceBgAAQBAJ&printsec=frontcover&img=1&zoom=1&edge=curl&source=gbs_api'},\n",
              "   'language': 'en',\n",
              "   'previewLink': 'http://books.google.com/books?id=YqceBgAAQBAJ&printsec=frontcover&dq=mark+twain&hl=&cd=3&source=gbs_api',\n",
              "   'infoLink': 'https://play.google.com/store/books/details?id=YqceBgAAQBAJ&source=gbs_api',\n",
              "   'canonicalVolumeLink': 'https://play.google.com/store/books/details?id=YqceBgAAQBAJ'},\n",
              "  'saleInfo': {'country': 'US',\n",
              "   'saleability': 'FOR_SALE',\n",
              "   'isEbook': True,\n",
              "   'listPrice': {'amount': 25, 'currencyCode': 'USD'},\n",
              "   'retailPrice': {'amount': 25, 'currencyCode': 'USD'},\n",
              "   'buyLink': 'https://play.google.com/store/books/details?id=YqceBgAAQBAJ&rdid=book-YqceBgAAQBAJ&rdot=1&source=gbs_api',\n",
              "   'offers': [{'finskyOfferType': 1,\n",
              "     'listPrice': {'amountInMicros': 25000000, 'currencyCode': 'USD'},\n",
              "     'retailPrice': {'amountInMicros': 25000000, 'currencyCode': 'USD'},\n",
              "     'giftable': True}]},\n",
              "  'accessInfo': {'country': 'US',\n",
              "   'viewability': 'PARTIAL',\n",
              "   'embeddable': True,\n",
              "   'publicDomain': False,\n",
              "   'textToSpeechPermission': 'ALLOWED',\n",
              "   'epub': {'isAvailable': False},\n",
              "   'pdf': {'isAvailable': True},\n",
              "   'webReaderLink': 'http://play.google.com/books/reader?id=YqceBgAAQBAJ&hl=&source=gbs_api',\n",
              "   'accessViewStatus': 'SAMPLE',\n",
              "   'quoteSharingAllowed': False},\n",
              "  'searchInfo': {'textSnippet': 'An interesting feature of this illuminating work is an examination of Clemens&#39;s relations with the only two black men he knew well in his adult years.'}},\n",
              " {'kind': 'books#volume',\n",
              "  'id': 'qwGgE6LbWuoC',\n",
              "  'etag': '25V11wMbto8',\n",
              "  'selfLink': 'https://www.googleapis.com/books/v1/volumes/qwGgE6LbWuoC',\n",
              "  'volumeInfo': {'title': 'Who Is Mark Twain?',\n",
              "   'authors': ['Mark Twain'],\n",
              "   'publisher': 'Harper Collins',\n",
              "   'publishedDate': '2010-06-22',\n",
              "   'description': '“More than 100 years after [Twain] wrote these stories, they remain not only remarkably funny but remarkably modern. . . . Ninety-nine years after his death, Twain still manages to get the last laugh.” — Vanity Fair Who Is Mark Twain? is a collection of twenty six wickedly funny, thought-provoking essays by Samuel Langhorne Clemens—aka Mark Twain—none of which have ever been published before. \"You had better shove this in the stove,\" Mark Twain said at the top of an 1865 letter to his brother, \"for I don\\'t want any absurd ‘literary remains\\' and ‘unpublished letters of Mark Twain\\' published after I am planted.\" He was joking, of course. But when Mark Twain died in 1910, he left behind the largest collection of personal papers created by any nineteenth-century American author. Who Is Mark Twain? presents twenty-six wickedly funny, disarmingly relevant pieces by the American master—a man who was well ahead of his time.',\n",
              "   'industryIdentifiers': [{'type': 'ISBN_13', 'identifier': '9780062020857'},\n",
              "    {'type': 'ISBN_10', 'identifier': '0062020854'}],\n",
              "   'readingModes': {'text': True, 'image': False},\n",
              "   'pageCount': 261,\n",
              "   'printType': 'BOOK',\n",
              "   'categories': ['Literary Collections'],\n",
              "   'maturityRating': 'NOT_MATURE',\n",
              "   'allowAnonLogging': True,\n",
              "   'contentVersion': '0.1.3.0.preview.2',\n",
              "   'panelizationSummary': {'containsEpubBubbles': False,\n",
              "    'containsImageBubbles': False},\n",
              "   'imageLinks': {'smallThumbnail': 'http://books.google.com/books/content?id=qwGgE6LbWuoC&printsec=frontcover&img=1&zoom=5&edge=curl&source=gbs_api',\n",
              "    'thumbnail': 'http://books.google.com/books/content?id=qwGgE6LbWuoC&printsec=frontcover&img=1&zoom=1&edge=curl&source=gbs_api'},\n",
              "   'language': 'en',\n",
              "   'previewLink': 'http://books.google.com/books?id=qwGgE6LbWuoC&printsec=frontcover&dq=mark+twain&hl=&cd=4&source=gbs_api',\n",
              "   'infoLink': 'https://play.google.com/store/books/details?id=qwGgE6LbWuoC&source=gbs_api',\n",
              "   'canonicalVolumeLink': 'https://play.google.com/store/books/details?id=qwGgE6LbWuoC'},\n",
              "  'saleInfo': {'country': 'US',\n",
              "   'saleability': 'FOR_SALE',\n",
              "   'isEbook': True,\n",
              "   'listPrice': {'amount': 6.99, 'currencyCode': 'USD'},\n",
              "   'retailPrice': {'amount': 6.99, 'currencyCode': 'USD'},\n",
              "   'buyLink': 'https://play.google.com/store/books/details?id=qwGgE6LbWuoC&rdid=book-qwGgE6LbWuoC&rdot=1&source=gbs_api',\n",
              "   'offers': [{'finskyOfferType': 1,\n",
              "     'listPrice': {'amountInMicros': 6990000, 'currencyCode': 'USD'},\n",
              "     'retailPrice': {'amountInMicros': 6990000, 'currencyCode': 'USD'},\n",
              "     'giftable': True}]},\n",
              "  'accessInfo': {'country': 'US',\n",
              "   'viewability': 'PARTIAL',\n",
              "   'embeddable': True,\n",
              "   'publicDomain': False,\n",
              "   'textToSpeechPermission': 'ALLOWED',\n",
              "   'epub': {'isAvailable': True,\n",
              "    'acsTokenLink': 'http://books.google.com/books/download/Who_Is_Mark_Twain-sample-epub.acsm?id=qwGgE6LbWuoC&format=epub&output=acs4_fulfillment_token&dl_type=sample&source=gbs_api'},\n",
              "   'pdf': {'isAvailable': False},\n",
              "   'webReaderLink': 'http://play.google.com/books/reader?id=qwGgE6LbWuoC&hl=&source=gbs_api',\n",
              "   'accessViewStatus': 'SAMPLE',\n",
              "   'quoteSharingAllowed': False},\n",
              "  'searchInfo': {'textSnippet': '“More than 100 years after [Twain] wrote these stories, they remain not only remarkably funny but remarkably modern.'}},\n",
              " {'kind': 'books#volume',\n",
              "  'id': 'iMiUtgEACAAJ',\n",
              "  'etag': '8wJWvB6ikww',\n",
              "  'selfLink': 'https://www.googleapis.com/books/v1/volumes/iMiUtgEACAAJ',\n",
              "  'volumeInfo': {'title': 'The Mark Twain Collection (Box Set)',\n",
              "   'authors': ['Mark Twain'],\n",
              "   'publishedDate': '2018-10',\n",
              "   'industryIdentifiers': [{'type': 'ISBN_10', 'identifier': '1788285913'},\n",
              "    {'type': 'ISBN_13', 'identifier': '9781788285919'}],\n",
              "   'readingModes': {'text': False, 'image': False},\n",
              "   'printType': 'BOOK',\n",
              "   'maturityRating': 'NOT_MATURE',\n",
              "   'allowAnonLogging': False,\n",
              "   'contentVersion': 'preview-1.0.0',\n",
              "   'panelizationSummary': {'containsEpubBubbles': False,\n",
              "    'containsImageBubbles': False},\n",
              "   'imageLinks': {'smallThumbnail': 'http://books.google.com/books/content?id=iMiUtgEACAAJ&printsec=frontcover&img=1&zoom=5&source=gbs_api',\n",
              "    'thumbnail': 'http://books.google.com/books/content?id=iMiUtgEACAAJ&printsec=frontcover&img=1&zoom=1&source=gbs_api'},\n",
              "   'language': 'en',\n",
              "   'previewLink': 'http://books.google.com/books?id=iMiUtgEACAAJ&dq=mark+twain&hl=&cd=5&source=gbs_api',\n",
              "   'infoLink': 'http://books.google.com/books?id=iMiUtgEACAAJ&dq=mark+twain&hl=&source=gbs_api',\n",
              "   'canonicalVolumeLink': 'https://books.google.com/books/about/The_Mark_Twain_Collection_Box_Set.html?hl=&id=iMiUtgEACAAJ'},\n",
              "  'saleInfo': {'country': 'US',\n",
              "   'saleability': 'NOT_FOR_SALE',\n",
              "   'isEbook': False},\n",
              "  'accessInfo': {'country': 'US',\n",
              "   'viewability': 'NO_PAGES',\n",
              "   'embeddable': False,\n",
              "   'publicDomain': False,\n",
              "   'textToSpeechPermission': 'ALLOWED',\n",
              "   'epub': {'isAvailable': False},\n",
              "   'pdf': {'isAvailable': False},\n",
              "   'webReaderLink': 'http://play.google.com/books/reader?id=iMiUtgEACAAJ&hl=&source=gbs_api',\n",
              "   'accessViewStatus': 'NONE',\n",
              "   'quoteSharingAllowed': False}},\n",
              " {'kind': 'books#volume',\n",
              "  'id': 'j4kOAAAAMAAJ',\n",
              "  'etag': 'UAyvdTH46G0',\n",
              "  'selfLink': 'https://www.googleapis.com/books/v1/volumes/j4kOAAAAMAAJ',\n",
              "  'volumeInfo': {'title': \"Mark Twain's Library of Humor\",\n",
              "   'authors': ['Mark Twain'],\n",
              "   'publisher': 'Cosimo Classics',\n",
              "   'publishedDate': '1888',\n",
              "   'description': 'Anthology of poems, short stories, and jokes by various authors including Mark Twain. Compiled by Mark Twain.',\n",
              "   'industryIdentifiers': [{'type': 'OTHER',\n",
              "     'identifier': 'UOM:39015031222634'}],\n",
              "   'readingModes': {'text': False, 'image': True},\n",
              "   'pageCount': 744,\n",
              "   'printType': 'BOOK',\n",
              "   'categories': ['American wit and humor'],\n",
              "   'maturityRating': 'NOT_MATURE',\n",
              "   'allowAnonLogging': False,\n",
              "   'contentVersion': '0.6.8.0.full.1',\n",
              "   'panelizationSummary': {'containsEpubBubbles': False,\n",
              "    'containsImageBubbles': False},\n",
              "   'imageLinks': {'smallThumbnail': 'http://books.google.com/books/content?id=j4kOAAAAMAAJ&printsec=frontcover&img=1&zoom=5&edge=curl&source=gbs_api',\n",
              "    'thumbnail': 'http://books.google.com/books/content?id=j4kOAAAAMAAJ&printsec=frontcover&img=1&zoom=1&edge=curl&source=gbs_api'},\n",
              "   'language': 'en',\n",
              "   'previewLink': 'http://books.google.com/books?id=j4kOAAAAMAAJ&printsec=frontcover&dq=mark+twain&hl=&cd=6&source=gbs_api',\n",
              "   'infoLink': 'https://play.google.com/store/books/details?id=j4kOAAAAMAAJ&source=gbs_api',\n",
              "   'canonicalVolumeLink': 'https://play.google.com/store/books/details?id=j4kOAAAAMAAJ'},\n",
              "  'saleInfo': {'country': 'US',\n",
              "   'saleability': 'FREE',\n",
              "   'isEbook': True,\n",
              "   'buyLink': 'https://play.google.com/store/books/details?id=j4kOAAAAMAAJ&rdid=book-j4kOAAAAMAAJ&rdot=1&source=gbs_api'},\n",
              "  'accessInfo': {'country': 'US',\n",
              "   'viewability': 'ALL_PAGES',\n",
              "   'embeddable': True,\n",
              "   'publicDomain': True,\n",
              "   'textToSpeechPermission': 'ALLOWED',\n",
              "   'epub': {'isAvailable': False,\n",
              "    'downloadLink': 'http://books.google.com/books/download/Mark_Twain_s_Library_of_Humor.epub?id=j4kOAAAAMAAJ&hl=&output=epub&source=gbs_api'},\n",
              "   'pdf': {'isAvailable': True,\n",
              "    'downloadLink': 'http://books.google.com/books/download/Mark_Twain_s_Library_of_Humor.pdf?id=j4kOAAAAMAAJ&hl=&output=pdf&sig=ACfU3U2vS_NRsWWzMR8_zZPslo4X7sFnXg&source=gbs_api'},\n",
              "   'webReaderLink': 'http://play.google.com/books/reader?id=j4kOAAAAMAAJ&hl=&source=gbs_api',\n",
              "   'accessViewStatus': 'FULL_PUBLIC_DOMAIN',\n",
              "   'quoteSharingAllowed': False},\n",
              "  'searchInfo': {'textSnippet': 'Anthology of poems, short stories, and jokes by various authors including Mark Twain. Compiled by Mark Twain.'}},\n",
              " {'kind': 'books#volume',\n",
              "  'id': 'S6kwDwAAQBAJ',\n",
              "  'etag': '0jwCMom7lRY',\n",
              "  'selfLink': 'https://www.googleapis.com/books/v1/volumes/S6kwDwAAQBAJ',\n",
              "  'volumeInfo': {'title': 'Mark Twain’s Book of Animals',\n",
              "   'authors': ['Mark Twain', 'Shelley Fisher Fishkin', 'Barry Moser'],\n",
              "   'publisher': 'Univ of California Press',\n",
              "   'publishedDate': '2011-07',\n",
              "   'description': '\"For those unaware—as I was until I read this book—that Mark Twain was one of America\\'s early animal advocates, Shelley Fisher Fishkin\\'s collection of his writings on animals will come as a revelation. Many of these pieces are as fresh and lively as when they were first written, and it\\'s wonderful to have them gathered in one place.\" —Peter Singer, author of Animal Liberation and The Life You Can Save “A truly exhilarating work. Mark Twain\\'s animal-friendly views would not be out of place today, and indeed, in certain respects, Twain is still ahead of us: claiming, correctly, that there are certain degraded practices that only humans inflict on one another and upon other animals. Fishkin has done a splendid job: I cannot remember reading something so consistently excellent.\"—Jeffrey Moussaieff Masson, author of When Elephants Weep and The Face on Your Plate \"Shelley Fisher Fishkin has given us the lifelong arc of the great man\\'s antic, hilarious, and subtly profound explorations of the animal world, and she\\'s guided us through it with her own trademark wit and acumen. Dogged if she hasn\\'t.\" —Ron Powers, author of Dangerous Water: A Biography of the Boy Who Became Mark Twain and Mark Twain: A Life',\n",
              "   'industryIdentifiers': [{'type': 'ISBN_13', 'identifier': '9780520271524'},\n",
              "    {'type': 'ISBN_10', 'identifier': '0520271521'}],\n",
              "   'readingModes': {'text': False, 'image': True},\n",
              "   'pageCount': 338,\n",
              "   'printType': 'BOOK',\n",
              "   'categories': ['Literary Criticism'],\n",
              "   'maturityRating': 'NOT_MATURE',\n",
              "   'allowAnonLogging': False,\n",
              "   'contentVersion': '1.1.1.0.preview.1',\n",
              "   'panelizationSummary': {'containsEpubBubbles': False,\n",
              "    'containsImageBubbles': False},\n",
              "   'imageLinks': {'smallThumbnail': 'http://books.google.com/books/content?id=S6kwDwAAQBAJ&printsec=frontcover&img=1&zoom=5&edge=curl&source=gbs_api',\n",
              "    'thumbnail': 'http://books.google.com/books/content?id=S6kwDwAAQBAJ&printsec=frontcover&img=1&zoom=1&edge=curl&source=gbs_api'},\n",
              "   'language': 'en',\n",
              "   'previewLink': 'http://books.google.com/books?id=S6kwDwAAQBAJ&printsec=frontcover&dq=mark+twain&hl=&cd=7&source=gbs_api',\n",
              "   'infoLink': 'http://books.google.com/books?id=S6kwDwAAQBAJ&dq=mark+twain&hl=&source=gbs_api',\n",
              "   'canonicalVolumeLink': 'https://books.google.com/books/about/Mark_Twain_s_Book_of_Animals.html?hl=&id=S6kwDwAAQBAJ'},\n",
              "  'saleInfo': {'country': 'US',\n",
              "   'saleability': 'NOT_FOR_SALE',\n",
              "   'isEbook': False},\n",
              "  'accessInfo': {'country': 'US',\n",
              "   'viewability': 'PARTIAL',\n",
              "   'embeddable': True,\n",
              "   'publicDomain': False,\n",
              "   'textToSpeechPermission': 'ALLOWED',\n",
              "   'epub': {'isAvailable': False},\n",
              "   'pdf': {'isAvailable': True,\n",
              "    'acsTokenLink': 'http://books.google.com/books/download/Mark_Twain_s_Book_of_Animals-sample-pdf.acsm?id=S6kwDwAAQBAJ&format=pdf&output=acs4_fulfillment_token&dl_type=sample&source=gbs_api'},\n",
              "   'webReaderLink': 'http://play.google.com/books/reader?id=S6kwDwAAQBAJ&hl=&source=gbs_api',\n",
              "   'accessViewStatus': 'SAMPLE',\n",
              "   'quoteSharingAllowed': False},\n",
              "  'searchInfo': {'textSnippet': '&quot;For those unaware—as I was until I read this book—that Mark Twain was one of America&#39;s early animal advocates, Shelley Fisher Fishkin&#39;s collection of his writings on animals will come as a revelation.'}},\n",
              " {'kind': 'books#volume',\n",
              "  'id': 'svkyM1SmbHkC',\n",
              "  'etag': 'MgVIGfd1hMg',\n",
              "  'selfLink': 'https://www.googleapis.com/books/v1/volumes/svkyM1SmbHkC',\n",
              "  'volumeInfo': {'title': 'The Extraordinary Mark Twain (according to Susy)',\n",
              "   'authors': ['Barbara Kerley'],\n",
              "   'publisher': 'Scholastic Inc.',\n",
              "   'publishedDate': '2010',\n",
              "   'description': 'Thirteen-year-old Susy Clemens wants the world to know that her papa, Mark Twain, is more than just a humorist and sets out to write a comprehensive biography of the American icon.',\n",
              "   'industryIdentifiers': [{'type': 'ISBN_13', 'identifier': '9780545125086'},\n",
              "    {'type': 'ISBN_10', 'identifier': '0545125081'}],\n",
              "   'readingModes': {'text': False, 'image': True},\n",
              "   'pageCount': 26,\n",
              "   'printType': 'BOOK',\n",
              "   'categories': ['Authors, American'],\n",
              "   'averageRating': 5,\n",
              "   'ratingsCount': 2,\n",
              "   'maturityRating': 'NOT_MATURE',\n",
              "   'allowAnonLogging': False,\n",
              "   'contentVersion': '0.1.0.0.preview.1',\n",
              "   'panelizationSummary': {'containsEpubBubbles': False,\n",
              "    'containsImageBubbles': False},\n",
              "   'imageLinks': {'smallThumbnail': 'http://books.google.com/books/content?id=svkyM1SmbHkC&printsec=frontcover&img=1&zoom=5&edge=curl&source=gbs_api',\n",
              "    'thumbnail': 'http://books.google.com/books/content?id=svkyM1SmbHkC&printsec=frontcover&img=1&zoom=1&edge=curl&source=gbs_api'},\n",
              "   'language': 'en',\n",
              "   'previewLink': 'http://books.google.com/books?id=svkyM1SmbHkC&printsec=frontcover&dq=mark+twain&hl=&cd=8&source=gbs_api',\n",
              "   'infoLink': 'http://books.google.com/books?id=svkyM1SmbHkC&dq=mark+twain&hl=&source=gbs_api',\n",
              "   'canonicalVolumeLink': 'https://books.google.com/books/about/The_Extraordinary_Mark_Twain_according_t.html?hl=&id=svkyM1SmbHkC'},\n",
              "  'saleInfo': {'country': 'US',\n",
              "   'saleability': 'NOT_FOR_SALE',\n",
              "   'isEbook': False},\n",
              "  'accessInfo': {'country': 'US',\n",
              "   'viewability': 'PARTIAL',\n",
              "   'embeddable': True,\n",
              "   'publicDomain': False,\n",
              "   'textToSpeechPermission': 'ALLOWED',\n",
              "   'epub': {'isAvailable': False},\n",
              "   'pdf': {'isAvailable': True,\n",
              "    'acsTokenLink': 'http://books.google.com/books/download/The_Extraordinary_Mark_Twain_according_t-sample-pdf.acsm?id=svkyM1SmbHkC&format=pdf&output=acs4_fulfillment_token&dl_type=sample&source=gbs_api'},\n",
              "   'webReaderLink': 'http://play.google.com/books/reader?id=svkyM1SmbHkC&hl=&source=gbs_api',\n",
              "   'accessViewStatus': 'SAMPLE',\n",
              "   'quoteSharingAllowed': False},\n",
              "  'searchInfo': {'textSnippet': 'Thirteen-year-old Susy Clemens wants the world to know that her papa, Mark Twain, is more than just a humorist and sets out to write a comprehensive biography of the American icon.'}},\n",
              " {'kind': 'books#volume',\n",
              "  'id': 'CzNMEAAAQBAJ',\n",
              "  'etag': 'zhFW5aPWYXk',\n",
              "  'selfLink': 'https://www.googleapis.com/books/v1/volumes/CzNMEAAAQBAJ',\n",
              "  'volumeInfo': {'title': 'Mark Twain Essays',\n",
              "   'authors': ['Mark Twain'],\n",
              "   'publisher': 'Phoemixx Classics Ebooks',\n",
              "   'publishedDate': '2021-11-13',\n",
              "   'description': 'Mark Twain Essays Mark Twain - Samuel Langhorne Clemens, better known as Mark Twain, is perhaps the most distinguished author of American Literature. Next to William Shakespeare, Clemens is arguably the most prominent writer the world has ever seen. In 1818, Jane Lampton found interest in a serious young lawyer named John Clemens. With the Lampton family in heavy debt and Jane only 15 years of age, she soon arried John. The family moved to Gainesboro, Tennessee where Jane gave birth to Orion Clemens. In the summer of 1827 the Clemenses relocated to Virginia where John purchased thousands of acres of land and opened a legal advice store.',\n",
              "   'industryIdentifiers': [{'type': 'ISBN_13', 'identifier': '9783986777166'},\n",
              "    {'type': 'ISBN_10', 'identifier': '3986777164'}],\n",
              "   'readingModes': {'text': True, 'image': True},\n",
              "   'pageCount': 21,\n",
              "   'printType': 'BOOK',\n",
              "   'categories': ['Biography & Autobiography'],\n",
              "   'maturityRating': 'NOT_MATURE',\n",
              "   'allowAnonLogging': False,\n",
              "   'contentVersion': '1.3.3.0.preview.3',\n",
              "   'panelizationSummary': {'containsEpubBubbles': False,\n",
              "    'containsImageBubbles': False},\n",
              "   'imageLinks': {'smallThumbnail': 'http://books.google.com/books/content?id=CzNMEAAAQBAJ&printsec=frontcover&img=1&zoom=5&edge=curl&source=gbs_api',\n",
              "    'thumbnail': 'http://books.google.com/books/content?id=CzNMEAAAQBAJ&printsec=frontcover&img=1&zoom=1&edge=curl&source=gbs_api'},\n",
              "   'language': 'en',\n",
              "   'previewLink': 'http://books.google.com/books?id=CzNMEAAAQBAJ&printsec=frontcover&dq=mark+twain&hl=&cd=9&source=gbs_api',\n",
              "   'infoLink': 'https://play.google.com/store/books/details?id=CzNMEAAAQBAJ&source=gbs_api',\n",
              "   'canonicalVolumeLink': 'https://play.google.com/store/books/details?id=CzNMEAAAQBAJ'},\n",
              "  'saleInfo': {'country': 'US',\n",
              "   'saleability': 'FOR_SALE',\n",
              "   'isEbook': True,\n",
              "   'listPrice': {'amount': 3.99, 'currencyCode': 'USD'},\n",
              "   'retailPrice': {'amount': 3.99, 'currencyCode': 'USD'},\n",
              "   'buyLink': 'https://play.google.com/store/books/details?id=CzNMEAAAQBAJ&rdid=book-CzNMEAAAQBAJ&rdot=1&source=gbs_api',\n",
              "   'offers': [{'finskyOfferType': 1,\n",
              "     'listPrice': {'amountInMicros': 3990000, 'currencyCode': 'USD'},\n",
              "     'retailPrice': {'amountInMicros': 3990000, 'currencyCode': 'USD'},\n",
              "     'giftable': True}]},\n",
              "  'accessInfo': {'country': 'US',\n",
              "   'viewability': 'PARTIAL',\n",
              "   'embeddable': True,\n",
              "   'publicDomain': False,\n",
              "   'textToSpeechPermission': 'ALLOWED',\n",
              "   'epub': {'isAvailable': True,\n",
              "    'acsTokenLink': 'http://books.google.com/books/download/Mark_Twain_Essays-sample-epub.acsm?id=CzNMEAAAQBAJ&format=epub&output=acs4_fulfillment_token&dl_type=sample&source=gbs_api'},\n",
              "   'pdf': {'isAvailable': True,\n",
              "    'acsTokenLink': 'http://books.google.com/books/download/Mark_Twain_Essays-sample-pdf.acsm?id=CzNMEAAAQBAJ&format=pdf&output=acs4_fulfillment_token&dl_type=sample&source=gbs_api'},\n",
              "   'webReaderLink': 'http://play.google.com/books/reader?id=CzNMEAAAQBAJ&hl=&source=gbs_api',\n",
              "   'accessViewStatus': 'SAMPLE',\n",
              "   'quoteSharingAllowed': False},\n",
              "  'searchInfo': {'textSnippet': 'Mark Twain Essays Mark Twain - Samuel Langhorne Clemens, better known as Mark Twain, is perhaps the most distinguished author of American Literature.'}},\n",
              " {'kind': 'books#volume',\n",
              "  'id': 'KRHNCQAAQBAJ',\n",
              "  'etag': 'e9TAj1A8MpQ',\n",
              "  'selfLink': 'https://www.googleapis.com/books/v1/volumes/KRHNCQAAQBAJ',\n",
              "  'volumeInfo': {'title': \"Mark Twain's Autobiography\",\n",
              "   'authors': ['Twain, Mark'],\n",
              "   'publisher': 'Aegitas',\n",
              "   'publishedDate': '2015-06-05',\n",
              "   'description': \"Autobiography of Mark Twain or Mark Twain’s Autobiography refers to a lengthy set of reminiscences, dictated, for the most part, in the last few years of American author Mark Twain's life and left in typescript and manuscript at his death. The Autobiography comprises a rambling collection of anecdotes and ruminations rather than a conventional autobiography.\",\n",
              "   'industryIdentifiers': [{'type': 'ISBN_13', 'identifier': '9781772467291'},\n",
              "    {'type': 'ISBN_10', 'identifier': '1772467294'}],\n",
              "   'readingModes': {'text': True, 'image': True},\n",
              "   'pageCount': 265,\n",
              "   'printType': 'BOOK',\n",
              "   'categories': ['Biography & Autobiography'],\n",
              "   'averageRating': 5,\n",
              "   'ratingsCount': 1,\n",
              "   'maturityRating': 'NOT_MATURE',\n",
              "   'allowAnonLogging': True,\n",
              "   'contentVersion': '1.4.3.0.preview.3',\n",
              "   'panelizationSummary': {'containsEpubBubbles': False,\n",
              "    'containsImageBubbles': False},\n",
              "   'imageLinks': {'smallThumbnail': 'http://books.google.com/books/content?id=KRHNCQAAQBAJ&printsec=frontcover&img=1&zoom=5&edge=curl&source=gbs_api',\n",
              "    'thumbnail': 'http://books.google.com/books/content?id=KRHNCQAAQBAJ&printsec=frontcover&img=1&zoom=1&edge=curl&source=gbs_api'},\n",
              "   'language': 'en',\n",
              "   'previewLink': 'http://books.google.com/books?id=KRHNCQAAQBAJ&printsec=frontcover&dq=mark+twain&hl=&cd=10&source=gbs_api',\n",
              "   'infoLink': 'https://play.google.com/store/books/details?id=KRHNCQAAQBAJ&source=gbs_api',\n",
              "   'canonicalVolumeLink': 'https://play.google.com/store/books/details?id=KRHNCQAAQBAJ'},\n",
              "  'saleInfo': {'country': 'US',\n",
              "   'saleability': 'FOR_SALE',\n",
              "   'isEbook': True,\n",
              "   'listPrice': {'amount': 0.99, 'currencyCode': 'USD'},\n",
              "   'retailPrice': {'amount': 0.99, 'currencyCode': 'USD'},\n",
              "   'buyLink': 'https://play.google.com/store/books/details?id=KRHNCQAAQBAJ&rdid=book-KRHNCQAAQBAJ&rdot=1&source=gbs_api',\n",
              "   'offers': [{'finskyOfferType': 1,\n",
              "     'listPrice': {'amountInMicros': 990000, 'currencyCode': 'USD'},\n",
              "     'retailPrice': {'amountInMicros': 990000, 'currencyCode': 'USD'},\n",
              "     'giftable': True}]},\n",
              "  'accessInfo': {'country': 'US',\n",
              "   'viewability': 'PARTIAL',\n",
              "   'embeddable': True,\n",
              "   'publicDomain': False,\n",
              "   'textToSpeechPermission': 'ALLOWED',\n",
              "   'epub': {'isAvailable': True,\n",
              "    'acsTokenLink': 'http://books.google.com/books/download/Mark_Twain_s_Autobiography-sample-epub.acsm?id=KRHNCQAAQBAJ&format=epub&output=acs4_fulfillment_token&dl_type=sample&source=gbs_api'},\n",
              "   'pdf': {'isAvailable': True,\n",
              "    'acsTokenLink': 'http://books.google.com/books/download/Mark_Twain_s_Autobiography-sample-pdf.acsm?id=KRHNCQAAQBAJ&format=pdf&output=acs4_fulfillment_token&dl_type=sample&source=gbs_api'},\n",
              "   'webReaderLink': 'http://play.google.com/books/reader?id=KRHNCQAAQBAJ&hl=&source=gbs_api',\n",
              "   'accessViewStatus': 'SAMPLE',\n",
              "   'quoteSharingAllowed': False},\n",
              "  'searchInfo': {'textSnippet': 'Autobiography of Mark Twain or Mark Twain’s Autobiography refers to a lengthy set of reminiscences, dictated, for the most part, in the last few years of American author Mark Twain&#39;s life and left in typescript and manuscript at his death ...'}}]"
            ]
          },
          "metadata": {},
          "execution_count": 36
        }
      ],
      "source": [
        "import json\n",
        "root_url = \"https://www.googleapis.com/books/v1/volumes?q=mark twain\"\n",
        "response = requests.get(root_url)\n",
        "book_response = response.json()\n",
        "book_response['items']"
      ]
    },
    {
      "cell_type": "markdown",
      "id": "a822e9b6-6241-4da3-81e4-a7608213e703",
      "metadata": {
        "id": "a822e9b6-6241-4da3-81e4-a7608213e703"
      },
      "source": [
        "We should get the following."
      ]
    },
    {
      "cell_type": "code",
      "execution_count": 41,
      "id": "7392c0ae-2c29-45f7-938a-c57c100393ca",
      "metadata": {
        "colab": {
          "base_uri": "https://localhost:8080/"
        },
        "id": "7392c0ae-2c29-45f7-938a-c57c100393ca",
        "outputId": "d7463f18-e30f-4f9e-c278-0595cb8eebcb"
      },
      "outputs": [
        {
          "output_type": "execute_result",
          "data": {
            "text/plain": [
              "[{'title': 'Mark Twain',\n",
              "  'authors': ['Geoffrey C. Ward', 'Dayton Duncan'],\n",
              "  'publisher': 'Knopf',\n",
              "  'publishedDate': '2001',\n",
              "  'description': 'Here the master storytellers Geoffrey Ward, Ken Burns, and Dayton Duncan give us the first fully illustrated biography of Mark Twain, American literature\\'s touchstone, its funniest and most inventive figure.\".',\n",
              "  'industryIdentifiers': [{'type': 'ISBN_13', 'identifier': '9780375405617'},\n",
              "   {'type': 'ISBN_10', 'identifier': '0375405615'}],\n",
              "  'readingModes': {'text': False, 'image': False},\n",
              "  'pageCount': 290,\n",
              "  'printType': 'BOOK',\n",
              "  'categories': ['Authors, American'],\n",
              "  'maturityRating': 'NOT_MATURE',\n",
              "  'allowAnonLogging': False,\n",
              "  'contentVersion': '0.1.0.0.preview.0',\n",
              "  'panelizationSummary': {'containsEpubBubbles': False,\n",
              "   'containsImageBubbles': False},\n",
              "  'imageLinks': {'smallThumbnail': 'http://books.google.com/books/content?id=XWyPDQAAQBAJ&printsec=frontcover&img=1&zoom=5&edge=curl&source=gbs_api',\n",
              "   'thumbnail': 'http://books.google.com/books/content?id=XWyPDQAAQBAJ&printsec=frontcover&img=1&zoom=1&edge=curl&source=gbs_api'},\n",
              "  'language': 'en',\n",
              "  'previewLink': 'http://books.google.com/books?id=XWyPDQAAQBAJ&printsec=frontcover&dq=mark+twain&hl=&cd=1&source=gbs_api',\n",
              "  'infoLink': 'http://books.google.com/books?id=XWyPDQAAQBAJ&dq=mark+twain&hl=&source=gbs_api',\n",
              "  'canonicalVolumeLink': 'https://books.google.com/books/about/Mark_Twain.html?hl=&id=XWyPDQAAQBAJ'},\n",
              " {'title': 'Mr. Clemens and Mark Twain',\n",
              "  'subtitle': 'A Biography',\n",
              "  'authors': ['Justin Kaplan'],\n",
              "  'publisher': 'Simon and Schuster',\n",
              "  'publishedDate': '2008-06-30',\n",
              "  'description': 'Mark Twain, the American comic genius who portrayed, named, and in part exemplified America’s “Gilded Age,” comes alive in Justin Kaplan’s extraordinary biography. With brilliant immediacy, Mr. Clemens and Mark Twain brings to life a towering literary figure whose dual persona symbolized the emerging American conflict between down-to-earth morality and freewheeling ambition. As Mark Twain, he was the Mississippi riverboat pilot, the satirist with a fiery hatred of pretension, and the author of such classics as Tom Sawyer andHuckleberry Finn. As Mr. Clemens, he was the star who married an heiress, built a palatial estate, threw away fortunes on harebrained financial schemes, and lived the extravagant life that Mark Twain despised. Kaplan effectively portrays the triumphant-tragic man whose achievements and failures, laughter and anger, reflect a crucial generation in our past as well as his own dark, divided, and remarkably contemporary spirit. Mr. Clemens and Mark Twain brilliantly conveys this towering literary figure who was himself a symbol of the peculiarly American conflict between moral scrutiny and the drive to succeed. Mr. Clemens lived the Gilded Life that Mark Twain despised. The merging and fragmenting of these and other identities, as the biography unfolds, results in a magnificent projection of the whole man; the great comic spirit; and the exuberant, tragic human being, who, his friend William Dean Howells said, was “sole, incomparable, the Lincoln of our literature.”',\n",
              "  'industryIdentifiers': [{'type': 'ISBN_13', 'identifier': '9781439129319'},\n",
              "   {'type': 'ISBN_10', 'identifier': '1439129312'}],\n",
              "  'readingModes': {'text': True, 'image': False},\n",
              "  'pageCount': 432,\n",
              "  'printType': 'BOOK',\n",
              "  'categories': ['Biography & Autobiography'],\n",
              "  'maturityRating': 'NOT_MATURE',\n",
              "  'allowAnonLogging': False,\n",
              "  'contentVersion': '1.4.4.0.preview.2',\n",
              "  'panelizationSummary': {'containsEpubBubbles': False,\n",
              "   'containsImageBubbles': False},\n",
              "  'imageLinks': {'smallThumbnail': 'http://books.google.com/books/content?id=lj1Rc68iZ0YC&printsec=frontcover&img=1&zoom=5&edge=curl&source=gbs_api',\n",
              "   'thumbnail': 'http://books.google.com/books/content?id=lj1Rc68iZ0YC&printsec=frontcover&img=1&zoom=1&edge=curl&source=gbs_api'},\n",
              "  'language': 'en',\n",
              "  'previewLink': 'http://books.google.com/books?id=lj1Rc68iZ0YC&printsec=frontcover&dq=mark+twain&hl=&cd=2&source=gbs_api',\n",
              "  'infoLink': 'https://play.google.com/store/books/details?id=lj1Rc68iZ0YC&source=gbs_api',\n",
              "  'canonicalVolumeLink': 'https://play.google.com/store/books/details?id=lj1Rc68iZ0YC'},\n",
              " {'title': 'Mark Twain And The South',\n",
              "  'authors': ['Arthur G. Pettit'],\n",
              "  'publisher': 'University Press of Kentucky',\n",
              "  'publishedDate': '2014-07-11',\n",
              "  'description': \"The South was many things to Mark Twain: boyhood home, testing ground for manhood, and the principal source of creative inspiration. Although he left the South while a young man, seldom to return, it remained for him always a haunting presence, alternately loved and loathed. Mark Twain and the South was the first book on this major yet largely ignored aspect of the private life of Samuel Clemens and one of the major themes in his writing from 1863 until his death. Arthur G. Pettit clearly demonstrates that Mark Twain's feelings on race and region moved in an intelligible direction from the white Southern point of view he was exposed to in his youth to self-censorship, disillusionment, and, ultimately, a deeply pessimistic and sardonic outlook in which the dream of racial brotherhood was forever dead. Approaching his subject as a historian with a deep appreciation for literature, he bases his study on a wide variety of Mark Twain's published and unpublished works, including his notebooks, scrapbooks, and letters. An interesting feature of this illuminating work is an examination of Clemens's relations with the only two black men he knew well in his adult years.\",\n",
              "  'industryIdentifiers': [{'type': 'ISBN_13', 'identifier': '9780813148786'},\n",
              "   {'type': 'ISBN_10', 'identifier': '0813148782'}],\n",
              "  'readingModes': {'text': False, 'image': True},\n",
              "  'pageCount': 236,\n",
              "  'printType': 'BOOK',\n",
              "  'categories': ['Literary Criticism'],\n",
              "  'maturityRating': 'NOT_MATURE',\n",
              "  'allowAnonLogging': False,\n",
              "  'contentVersion': '1.4.1.0.preview.1',\n",
              "  'panelizationSummary': {'containsEpubBubbles': False,\n",
              "   'containsImageBubbles': False},\n",
              "  'imageLinks': {'smallThumbnail': 'http://books.google.com/books/content?id=YqceBgAAQBAJ&printsec=frontcover&img=1&zoom=5&edge=curl&source=gbs_api',\n",
              "   'thumbnail': 'http://books.google.com/books/content?id=YqceBgAAQBAJ&printsec=frontcover&img=1&zoom=1&edge=curl&source=gbs_api'},\n",
              "  'language': 'en',\n",
              "  'previewLink': 'http://books.google.com/books?id=YqceBgAAQBAJ&printsec=frontcover&dq=mark+twain&hl=&cd=3&source=gbs_api',\n",
              "  'infoLink': 'https://play.google.com/store/books/details?id=YqceBgAAQBAJ&source=gbs_api',\n",
              "  'canonicalVolumeLink': 'https://play.google.com/store/books/details?id=YqceBgAAQBAJ'},\n",
              " {'title': 'Who Is Mark Twain?',\n",
              "  'authors': ['Mark Twain'],\n",
              "  'publisher': 'Harper Collins',\n",
              "  'publishedDate': '2010-06-22',\n",
              "  'description': '“More than 100 years after [Twain] wrote these stories, they remain not only remarkably funny but remarkably modern. . . . Ninety-nine years after his death, Twain still manages to get the last laugh.” — Vanity Fair Who Is Mark Twain? is a collection of twenty six wickedly funny, thought-provoking essays by Samuel Langhorne Clemens—aka Mark Twain—none of which have ever been published before. \"You had better shove this in the stove,\" Mark Twain said at the top of an 1865 letter to his brother, \"for I don\\'t want any absurd ‘literary remains\\' and ‘unpublished letters of Mark Twain\\' published after I am planted.\" He was joking, of course. But when Mark Twain died in 1910, he left behind the largest collection of personal papers created by any nineteenth-century American author. Who Is Mark Twain? presents twenty-six wickedly funny, disarmingly relevant pieces by the American master—a man who was well ahead of his time.',\n",
              "  'industryIdentifiers': [{'type': 'ISBN_13', 'identifier': '9780062020857'},\n",
              "   {'type': 'ISBN_10', 'identifier': '0062020854'}],\n",
              "  'readingModes': {'text': True, 'image': False},\n",
              "  'pageCount': 261,\n",
              "  'printType': 'BOOK',\n",
              "  'categories': ['Literary Collections'],\n",
              "  'maturityRating': 'NOT_MATURE',\n",
              "  'allowAnonLogging': True,\n",
              "  'contentVersion': '0.1.3.0.preview.2',\n",
              "  'panelizationSummary': {'containsEpubBubbles': False,\n",
              "   'containsImageBubbles': False},\n",
              "  'imageLinks': {'smallThumbnail': 'http://books.google.com/books/content?id=qwGgE6LbWuoC&printsec=frontcover&img=1&zoom=5&edge=curl&source=gbs_api',\n",
              "   'thumbnail': 'http://books.google.com/books/content?id=qwGgE6LbWuoC&printsec=frontcover&img=1&zoom=1&edge=curl&source=gbs_api'},\n",
              "  'language': 'en',\n",
              "  'previewLink': 'http://books.google.com/books?id=qwGgE6LbWuoC&printsec=frontcover&dq=mark+twain&hl=&cd=4&source=gbs_api',\n",
              "  'infoLink': 'https://play.google.com/store/books/details?id=qwGgE6LbWuoC&source=gbs_api',\n",
              "  'canonicalVolumeLink': 'https://play.google.com/store/books/details?id=qwGgE6LbWuoC'},\n",
              " {'title': 'The Mark Twain Collection (Box Set)',\n",
              "  'authors': ['Mark Twain'],\n",
              "  'publishedDate': '2018-10',\n",
              "  'industryIdentifiers': [{'type': 'ISBN_10', 'identifier': '1788285913'},\n",
              "   {'type': 'ISBN_13', 'identifier': '9781788285919'}],\n",
              "  'readingModes': {'text': False, 'image': False},\n",
              "  'printType': 'BOOK',\n",
              "  'maturityRating': 'NOT_MATURE',\n",
              "  'allowAnonLogging': False,\n",
              "  'contentVersion': 'preview-1.0.0',\n",
              "  'panelizationSummary': {'containsEpubBubbles': False,\n",
              "   'containsImageBubbles': False},\n",
              "  'imageLinks': {'smallThumbnail': 'http://books.google.com/books/content?id=iMiUtgEACAAJ&printsec=frontcover&img=1&zoom=5&source=gbs_api',\n",
              "   'thumbnail': 'http://books.google.com/books/content?id=iMiUtgEACAAJ&printsec=frontcover&img=1&zoom=1&source=gbs_api'},\n",
              "  'language': 'en',\n",
              "  'previewLink': 'http://books.google.com/books?id=iMiUtgEACAAJ&dq=mark+twain&hl=&cd=5&source=gbs_api',\n",
              "  'infoLink': 'http://books.google.com/books?id=iMiUtgEACAAJ&dq=mark+twain&hl=&source=gbs_api',\n",
              "  'canonicalVolumeLink': 'https://books.google.com/books/about/The_Mark_Twain_Collection_Box_Set.html?hl=&id=iMiUtgEACAAJ'},\n",
              " {'title': \"Mark Twain's Library of Humor\",\n",
              "  'authors': ['Mark Twain'],\n",
              "  'publisher': 'Cosimo Classics',\n",
              "  'publishedDate': '1888',\n",
              "  'description': 'Anthology of poems, short stories, and jokes by various authors including Mark Twain. Compiled by Mark Twain.',\n",
              "  'industryIdentifiers': [{'type': 'OTHER',\n",
              "    'identifier': 'UOM:39015031222634'}],\n",
              "  'readingModes': {'text': False, 'image': True},\n",
              "  'pageCount': 744,\n",
              "  'printType': 'BOOK',\n",
              "  'categories': ['American wit and humor'],\n",
              "  'maturityRating': 'NOT_MATURE',\n",
              "  'allowAnonLogging': False,\n",
              "  'contentVersion': '0.6.8.0.full.1',\n",
              "  'panelizationSummary': {'containsEpubBubbles': False,\n",
              "   'containsImageBubbles': False},\n",
              "  'imageLinks': {'smallThumbnail': 'http://books.google.com/books/content?id=j4kOAAAAMAAJ&printsec=frontcover&img=1&zoom=5&edge=curl&source=gbs_api',\n",
              "   'thumbnail': 'http://books.google.com/books/content?id=j4kOAAAAMAAJ&printsec=frontcover&img=1&zoom=1&edge=curl&source=gbs_api'},\n",
              "  'language': 'en',\n",
              "  'previewLink': 'http://books.google.com/books?id=j4kOAAAAMAAJ&printsec=frontcover&dq=mark+twain&hl=&cd=6&source=gbs_api',\n",
              "  'infoLink': 'https://play.google.com/store/books/details?id=j4kOAAAAMAAJ&source=gbs_api',\n",
              "  'canonicalVolumeLink': 'https://play.google.com/store/books/details?id=j4kOAAAAMAAJ'},\n",
              " {'title': 'Mark Twain’s Book of Animals',\n",
              "  'authors': ['Mark Twain', 'Shelley Fisher Fishkin', 'Barry Moser'],\n",
              "  'publisher': 'Univ of California Press',\n",
              "  'publishedDate': '2011-07',\n",
              "  'description': '\"For those unaware—as I was until I read this book—that Mark Twain was one of America\\'s early animal advocates, Shelley Fisher Fishkin\\'s collection of his writings on animals will come as a revelation. Many of these pieces are as fresh and lively as when they were first written, and it\\'s wonderful to have them gathered in one place.\" —Peter Singer, author of Animal Liberation and The Life You Can Save “A truly exhilarating work. Mark Twain\\'s animal-friendly views would not be out of place today, and indeed, in certain respects, Twain is still ahead of us: claiming, correctly, that there are certain degraded practices that only humans inflict on one another and upon other animals. Fishkin has done a splendid job: I cannot remember reading something so consistently excellent.\"—Jeffrey Moussaieff Masson, author of When Elephants Weep and The Face on Your Plate \"Shelley Fisher Fishkin has given us the lifelong arc of the great man\\'s antic, hilarious, and subtly profound explorations of the animal world, and she\\'s guided us through it with her own trademark wit and acumen. Dogged if she hasn\\'t.\" —Ron Powers, author of Dangerous Water: A Biography of the Boy Who Became Mark Twain and Mark Twain: A Life',\n",
              "  'industryIdentifiers': [{'type': 'ISBN_13', 'identifier': '9780520271524'},\n",
              "   {'type': 'ISBN_10', 'identifier': '0520271521'}],\n",
              "  'readingModes': {'text': False, 'image': True},\n",
              "  'pageCount': 338,\n",
              "  'printType': 'BOOK',\n",
              "  'categories': ['Literary Criticism'],\n",
              "  'maturityRating': 'NOT_MATURE',\n",
              "  'allowAnonLogging': False,\n",
              "  'contentVersion': '1.1.1.0.preview.1',\n",
              "  'panelizationSummary': {'containsEpubBubbles': False,\n",
              "   'containsImageBubbles': False},\n",
              "  'imageLinks': {'smallThumbnail': 'http://books.google.com/books/content?id=S6kwDwAAQBAJ&printsec=frontcover&img=1&zoom=5&edge=curl&source=gbs_api',\n",
              "   'thumbnail': 'http://books.google.com/books/content?id=S6kwDwAAQBAJ&printsec=frontcover&img=1&zoom=1&edge=curl&source=gbs_api'},\n",
              "  'language': 'en',\n",
              "  'previewLink': 'http://books.google.com/books?id=S6kwDwAAQBAJ&printsec=frontcover&dq=mark+twain&hl=&cd=7&source=gbs_api',\n",
              "  'infoLink': 'http://books.google.com/books?id=S6kwDwAAQBAJ&dq=mark+twain&hl=&source=gbs_api',\n",
              "  'canonicalVolumeLink': 'https://books.google.com/books/about/Mark_Twain_s_Book_of_Animals.html?hl=&id=S6kwDwAAQBAJ'},\n",
              " {'title': 'The Extraordinary Mark Twain (according to Susy)',\n",
              "  'authors': ['Barbara Kerley'],\n",
              "  'publisher': 'Scholastic Inc.',\n",
              "  'publishedDate': '2010',\n",
              "  'description': 'Thirteen-year-old Susy Clemens wants the world to know that her papa, Mark Twain, is more than just a humorist and sets out to write a comprehensive biography of the American icon.',\n",
              "  'industryIdentifiers': [{'type': 'ISBN_13', 'identifier': '9780545125086'},\n",
              "   {'type': 'ISBN_10', 'identifier': '0545125081'}],\n",
              "  'readingModes': {'text': False, 'image': True},\n",
              "  'pageCount': 26,\n",
              "  'printType': 'BOOK',\n",
              "  'categories': ['Authors, American'],\n",
              "  'averageRating': 5,\n",
              "  'ratingsCount': 2,\n",
              "  'maturityRating': 'NOT_MATURE',\n",
              "  'allowAnonLogging': False,\n",
              "  'contentVersion': '0.1.0.0.preview.1',\n",
              "  'panelizationSummary': {'containsEpubBubbles': False,\n",
              "   'containsImageBubbles': False},\n",
              "  'imageLinks': {'smallThumbnail': 'http://books.google.com/books/content?id=svkyM1SmbHkC&printsec=frontcover&img=1&zoom=5&edge=curl&source=gbs_api',\n",
              "   'thumbnail': 'http://books.google.com/books/content?id=svkyM1SmbHkC&printsec=frontcover&img=1&zoom=1&edge=curl&source=gbs_api'},\n",
              "  'language': 'en',\n",
              "  'previewLink': 'http://books.google.com/books?id=svkyM1SmbHkC&printsec=frontcover&dq=mark+twain&hl=&cd=8&source=gbs_api',\n",
              "  'infoLink': 'http://books.google.com/books?id=svkyM1SmbHkC&dq=mark+twain&hl=&source=gbs_api',\n",
              "  'canonicalVolumeLink': 'https://books.google.com/books/about/The_Extraordinary_Mark_Twain_according_t.html?hl=&id=svkyM1SmbHkC'},\n",
              " {'title': 'Mark Twain Essays',\n",
              "  'authors': ['Mark Twain'],\n",
              "  'publisher': 'Phoemixx Classics Ebooks',\n",
              "  'publishedDate': '2021-11-13',\n",
              "  'description': 'Mark Twain Essays Mark Twain - Samuel Langhorne Clemens, better known as Mark Twain, is perhaps the most distinguished author of American Literature. Next to William Shakespeare, Clemens is arguably the most prominent writer the world has ever seen. In 1818, Jane Lampton found interest in a serious young lawyer named John Clemens. With the Lampton family in heavy debt and Jane only 15 years of age, she soon arried John. The family moved to Gainesboro, Tennessee where Jane gave birth to Orion Clemens. In the summer of 1827 the Clemenses relocated to Virginia where John purchased thousands of acres of land and opened a legal advice store.',\n",
              "  'industryIdentifiers': [{'type': 'ISBN_13', 'identifier': '9783986777166'},\n",
              "   {'type': 'ISBN_10', 'identifier': '3986777164'}],\n",
              "  'readingModes': {'text': True, 'image': True},\n",
              "  'pageCount': 21,\n",
              "  'printType': 'BOOK',\n",
              "  'categories': ['Biography & Autobiography'],\n",
              "  'maturityRating': 'NOT_MATURE',\n",
              "  'allowAnonLogging': False,\n",
              "  'contentVersion': '1.3.3.0.preview.3',\n",
              "  'panelizationSummary': {'containsEpubBubbles': False,\n",
              "   'containsImageBubbles': False},\n",
              "  'imageLinks': {'smallThumbnail': 'http://books.google.com/books/content?id=CzNMEAAAQBAJ&printsec=frontcover&img=1&zoom=5&edge=curl&source=gbs_api',\n",
              "   'thumbnail': 'http://books.google.com/books/content?id=CzNMEAAAQBAJ&printsec=frontcover&img=1&zoom=1&edge=curl&source=gbs_api'},\n",
              "  'language': 'en',\n",
              "  'previewLink': 'http://books.google.com/books?id=CzNMEAAAQBAJ&printsec=frontcover&dq=mark+twain&hl=&cd=9&source=gbs_api',\n",
              "  'infoLink': 'https://play.google.com/store/books/details?id=CzNMEAAAQBAJ&source=gbs_api',\n",
              "  'canonicalVolumeLink': 'https://play.google.com/store/books/details?id=CzNMEAAAQBAJ'},\n",
              " {'title': \"Mark Twain's Autobiography\",\n",
              "  'authors': ['Twain, Mark'],\n",
              "  'publisher': 'Aegitas',\n",
              "  'publishedDate': '2015-06-05',\n",
              "  'description': \"Autobiography of Mark Twain or Mark Twain’s Autobiography refers to a lengthy set of reminiscences, dictated, for the most part, in the last few years of American author Mark Twain's life and left in typescript and manuscript at his death. The Autobiography comprises a rambling collection of anecdotes and ruminations rather than a conventional autobiography.\",\n",
              "  'industryIdentifiers': [{'type': 'ISBN_13', 'identifier': '9781772467291'},\n",
              "   {'type': 'ISBN_10', 'identifier': '1772467294'}],\n",
              "  'readingModes': {'text': True, 'image': True},\n",
              "  'pageCount': 265,\n",
              "  'printType': 'BOOK',\n",
              "  'categories': ['Biography & Autobiography'],\n",
              "  'averageRating': 5,\n",
              "  'ratingsCount': 1,\n",
              "  'maturityRating': 'NOT_MATURE',\n",
              "  'allowAnonLogging': True,\n",
              "  'contentVersion': '1.4.3.0.preview.3',\n",
              "  'panelizationSummary': {'containsEpubBubbles': False,\n",
              "   'containsImageBubbles': False},\n",
              "  'imageLinks': {'smallThumbnail': 'http://books.google.com/books/content?id=KRHNCQAAQBAJ&printsec=frontcover&img=1&zoom=5&edge=curl&source=gbs_api',\n",
              "   'thumbnail': 'http://books.google.com/books/content?id=KRHNCQAAQBAJ&printsec=frontcover&img=1&zoom=1&edge=curl&source=gbs_api'},\n",
              "  'language': 'en',\n",
              "  'previewLink': 'http://books.google.com/books?id=KRHNCQAAQBAJ&printsec=frontcover&dq=mark+twain&hl=&cd=10&source=gbs_api',\n",
              "  'infoLink': 'https://play.google.com/store/books/details?id=KRHNCQAAQBAJ&source=gbs_api',\n",
              "  'canonicalVolumeLink': 'https://play.google.com/store/books/details?id=KRHNCQAAQBAJ'}]"
            ]
          },
          "metadata": {},
          "execution_count": 41
        }
      ],
      "source": [
        "def parse_ids(responses):\n",
        "  return [response['id'] for response in responses['items']]\n",
        "\n",
        "\n",
        "parse_ids(book_response)\n",
        "\n",
        "# ['lj1Rc68iZ0YC',\n",
        "#  'InlaAAAAMAAJ',\n",
        "#  'LxLYQjAz180C',\n",
        "#  'NaMOWJwb0-4C',\n",
        "#  'svkyM1SmbHkC',\n",
        "#  '4zdalyq897AC',\n",
        "#  '19jnAgAAQBAJ',\n",
        "#  'HXQKAQAAQBAJ',\n",
        "#  's5yymAEACAAJ',\n",
        "#  'N2MqDwAAQBAJ']"
      ]
    },
    {
      "cell_type": "markdown",
      "id": "b6f8475f-7888-43c1-a7ac-df28c2f98d2a",
      "metadata": {
        "id": "b6f8475f-7888-43c1-a7ac-df28c2f98d2a"
      },
      "source": [
        "Finally write a function that allows us to pass through a response from the API as one argument, and a list of keys as the other argument.  The function should return to us a list of dictionaries where the keys of each dictionary are the keys passed through the function.\n",
        "\n",
        "The possible returned attributes should be any of:\n",
        "\n",
        "`'title', subtitle', 'authors', 'publisher', 'publishedDate', or 'description'`."
      ]
    },
    {
      "cell_type": "markdown",
      "id": "77d2f49a-7c4b-4d08-9733-a898ceb38e2a",
      "metadata": {
        "id": "77d2f49a-7c4b-4d08-9733-a898ceb38e2a"
      },
      "source": [
        "> Notice that these attributes are under the `volumeInfo` key of each book."
      ]
    },
    {
      "cell_type": "markdown",
      "id": "86c98f2c-f32a-457e-839b-263101fb9fdc",
      "metadata": {
        "id": "86c98f2c-f32a-457e-839b-263101fb9fdc"
      },
      "source": [
        "> **Hint**: It may help to write a function that solves this for a single book first, or simply to solve this outside of a function altogether."
      ]
    },
    {
      "cell_type": "code",
      "execution_count": 79,
      "id": "4ffe1062-7e1d-4541-880b-e185a8a3ac80",
      "metadata": {
        "colab": {
          "base_uri": "https://localhost:8080/"
        },
        "id": "4ffe1062-7e1d-4541-880b-e185a8a3ac80",
        "outputId": "0e3c770a-b177-4453-c5ff-b529d2345c82"
      },
      "outputs": [
        {
          "output_type": "execute_result",
          "data": {
            "text/plain": [
              "[{'title': 'Mark Twain', 'authors': ['Geoffrey C. Ward', 'Dayton Duncan']},\n",
              " {'title': 'Mr. Clemens and Mark Twain', 'authors': ['Justin Kaplan']},\n",
              " {'title': 'Mark Twain And The South', 'authors': ['Arthur G. Pettit']},\n",
              " {'title': 'Who Is Mark Twain?', 'authors': ['Mark Twain']},\n",
              " {'title': 'The Mark Twain Collection (Box Set)', 'authors': ['Mark Twain']},\n",
              " {'title': \"Mark Twain's Library of Humor\", 'authors': ['Mark Twain']},\n",
              " {'title': 'Mark Twain’s Book of Animals',\n",
              "  'authors': ['Mark Twain', 'Shelley Fisher Fishkin', 'Barry Moser']},\n",
              " {'title': 'The Extraordinary Mark Twain (according to Susy)',\n",
              "  'authors': ['Barbara Kerley']},\n",
              " {'title': 'Mark Twain Essays', 'authors': ['Mark Twain']},\n",
              " {'title': \"Mark Twain's Autobiography\", 'authors': ['Twain, Mark']}]"
            ]
          },
          "metadata": {},
          "execution_count": 79
        }
      ],
      "source": [
        "def selected_attrs(response, keys = ['title', 'authors']):\n",
        "  final_result=[]\n",
        "  list_of_volumes =[response['volumeInfo'] for response in book_response['items']]\n",
        "  for item in list_of_volumes:\n",
        "    result = {k:v for k,v in item.items() if k in keys}\n",
        "    final_result.append(result)\n",
        "  return final_result\n",
        "\n",
        "selected_attrs(book_response, keys = ['title', 'authors'])\n",
        ""
      ]
    },
    {
      "cell_type": "markdown",
      "id": "1703544c-d424-4abd-96fc-4efc61a65f15",
      "metadata": {
        "id": "1703544c-d424-4abd-96fc-4efc61a65f15"
      },
      "source": [
        "```\n",
        "[{'title': 'Mr. Clemens and Mark Twain', 'subtitle': 'A Biography'},\n",
        " {'title': \"Mark Twain's Autobiography\"},\n",
        " {'title': 'The Complete Short Stories of Mark Twain'}]\n",
        "```"
      ]
    },
    {
      "cell_type": "code",
      "execution_count": 80,
      "id": "db8be82e-be73-4bb8-9743-e42169199664",
      "metadata": {
        "colab": {
          "base_uri": "https://localhost:8080/"
        },
        "id": "db8be82e-be73-4bb8-9743-e42169199664",
        "outputId": "f4db7290-f09d-403f-978c-91d30d8a886a"
      },
      "outputs": [
        {
          "output_type": "execute_result",
          "data": {
            "text/plain": [
              "[{'title': 'Mark Twain'},\n",
              " {'title': 'Mr. Clemens and Mark Twain', 'subtitle': 'A Biography'},\n",
              " {'title': 'Mark Twain And The South'},\n",
              " {'title': 'Who Is Mark Twain?'},\n",
              " {'title': 'The Mark Twain Collection (Box Set)'},\n",
              " {'title': \"Mark Twain's Library of Humor\"},\n",
              " {'title': 'Mark Twain’s Book of Animals'},\n",
              " {'title': 'The Extraordinary Mark Twain (according to Susy)'},\n",
              " {'title': 'Mark Twain Essays'},\n",
              " {'title': \"Mark Twain's Autobiography\"}]"
            ]
          },
          "metadata": {},
          "execution_count": 80
        }
      ],
      "source": [
        "selected_attrs(book_response, keys = ['title', 'subtitle'])\n",
        "\n",
        "# [{'title': 'Mr. Clemens and Mark Twain', 'subtitle': 'A Biography'},\n",
        "#  {'title': \"Mark Twain's Autobiography\"},\n",
        "#  {'title': 'The Complete Short Stories of Mark Twain'},\n",
        "#  {'title': 'Roughing It'},\n",
        "#  {'title': 'The Extraordinary Mark Twain (according to Susy)'},\n",
        "#  {'title': 'Mississippi Writings'},\n",
        "#  {'title': 'The Adventures of Mark Twain by Huckleberry Finn',\n",
        "#   'subtitle': 'with audio recording'},\n",
        "#  {'title': 'Autobiography of Mark Twain, Volume 2',\n",
        "#   'subtitle': 'The Complete and Authoritative Edition'},\n",
        "#  {'title': 'Mark Twain',\n",
        "#   'subtitle': 'Man in White : the Grand Adventure of His Final Years'},\n",
        "#  {'title': 'Mark Twain and Philosophy'}]"
      ]
    },
    {
      "cell_type": "markdown",
      "id": "c5450582-0ca3-46bb-bd13-59946d0f7446",
      "metadata": {
        "id": "c5450582-0ca3-46bb-bd13-59946d0f7446"
      },
      "source": [
        "And if no keys are provided, the function should return `title` and `authors` like so."
      ]
    },
    {
      "cell_type": "code",
      "execution_count": 81,
      "id": "aa96c069-f3f2-468d-8f2c-889cb35570c7",
      "metadata": {
        "colab": {
          "base_uri": "https://localhost:8080/"
        },
        "id": "aa96c069-f3f2-468d-8f2c-889cb35570c7",
        "outputId": "2737f6f3-7534-42ac-f840-417d48f7d5c4"
      },
      "outputs": [
        {
          "output_type": "execute_result",
          "data": {
            "text/plain": [
              "[{'title': 'Mark Twain', 'authors': ['Geoffrey C. Ward', 'Dayton Duncan']},\n",
              " {'title': 'Mr. Clemens and Mark Twain', 'authors': ['Justin Kaplan']},\n",
              " {'title': 'Mark Twain And The South', 'authors': ['Arthur G. Pettit']},\n",
              " {'title': 'Who Is Mark Twain?', 'authors': ['Mark Twain']},\n",
              " {'title': 'The Mark Twain Collection (Box Set)', 'authors': ['Mark Twain']},\n",
              " {'title': \"Mark Twain's Library of Humor\", 'authors': ['Mark Twain']},\n",
              " {'title': 'Mark Twain’s Book of Animals',\n",
              "  'authors': ['Mark Twain', 'Shelley Fisher Fishkin', 'Barry Moser']},\n",
              " {'title': 'The Extraordinary Mark Twain (according to Susy)',\n",
              "  'authors': ['Barbara Kerley']},\n",
              " {'title': 'Mark Twain Essays', 'authors': ['Mark Twain']},\n",
              " {'title': \"Mark Twain's Autobiography\", 'authors': ['Twain, Mark']}]"
            ]
          },
          "metadata": {},
          "execution_count": 81
        }
      ],
      "source": [
        "selected_attrs(book_response)\n",
        "\n",
        "# [{'title': 'Mr. Clemens and Mark Twain', 'authors': ['Justin Kaplan']},\n",
        "#  {'title': \"Mark Twain's Autobiography\", 'authors': ['Mark Twain']},\n",
        "#  {'title': 'The Complete Short Stories of Mark Twain',\n",
        "#   'authors': ['Mark Twain']},\n",
        "#  {'title': 'Roughing It', 'authors': ['Mark Twain']},\n",
        "#  {'title': 'The Extraordinary Mark Twain (according to Susy)',\n",
        "#   'authors': ['Barbara Kerley']},\n",
        "#  {'title': 'Mississippi Writings',\n",
        "#   'authors': ['Theophilus Parvin', 'Mark Twain']},\n",
        "#  {'title': 'The Adventures of Mark Twain by Huckleberry Finn',\n",
        "#   'authors': ['Robert Burleigh']},\n",
        "#  {'title': 'Autobiography of Mark Twain, Volume 2', 'authors': ['Mark Twain']},\n",
        "#  {'title': 'Mark Twain', 'authors': ['Michael Shelden']},\n",
        "#  {'title': 'Mark Twain and Philosophy', 'authors': ['Alan Goldman']}]"
      ]
    },
    {
      "cell_type": "markdown",
      "id": "43e25f51-dd27-4dbb-ac9b-143522e89587",
      "metadata": {
        "id": "43e25f51-dd27-4dbb-ac9b-143522e89587"
      },
      "source": [
        "The end."
      ]
    },
    {
      "cell_type": "code",
      "execution_count": null,
      "id": "d362d6e6-4cd9-403c-9434-1784c244ec09",
      "metadata": {
        "id": "d362d6e6-4cd9-403c-9434-1784c244ec09"
      },
      "outputs": [],
      "source": []
    }
  ],
  "metadata": {
    "kernelspec": {
      "display_name": "Python 3 (ipykernel)",
      "language": "python",
      "name": "python3"
    },
    "language_info": {
      "codemirror_mode": {
        "name": "ipython",
        "version": 3
      },
      "file_extension": ".py",
      "mimetype": "text/x-python",
      "name": "python",
      "nbconvert_exporter": "python",
      "pygments_lexer": "ipython3",
      "version": "3.9.7"
    },
    "colab": {
      "provenance": []
    }
  },
  "nbformat": 4,
  "nbformat_minor": 5
}