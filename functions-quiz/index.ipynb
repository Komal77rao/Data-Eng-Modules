{
  "cells": [
    {
      "cell_type": "markdown",
      "metadata": {
        "id": "view-in-github",
        "colab_type": "text"
      },
      "source": [
        "<a href=\"https://colab.research.google.com/github/Komal77rao/Data-Eng-Modules/blob/main/functions-quiz/index.ipynb\" target=\"_parent\"><img src=\"https://colab.research.google.com/assets/colab-badge.svg\" alt=\"Open In Colab\"/></a>"
      ]
    },
    {
      "cell_type": "markdown",
      "id": "c67a1e95-8483-443b-96aa-dadf61fa2de6",
      "metadata": {
        "id": "c67a1e95-8483-443b-96aa-dadf61fa2de6"
      },
      "source": [
        "# Functions and APIs Quiz"
      ]
    },
    {
      "cell_type": "markdown",
      "id": "f9c78744-d6ae-40d6-8b30-3d6fc68922ee",
      "metadata": {
        "id": "f9c78744-d6ae-40d6-8b30-3d6fc68922ee"
      },
      "source": [
        "### Building a function"
      ]
    },
    {
      "cell_type": "markdown",
      "id": "a3c653c4-2c00-428e-a4ee-9ca308461204",
      "metadata": {
        "id": "a3c653c4-2c00-428e-a4ee-9ca308461204"
      },
      "source": [
        "The below makes a request to the to the [Google Books API](https://developers.google.com/books/docs/v1/reference/volumes/list#parameters)."
      ]
    },
    {
      "cell_type": "code",
      "execution_count": 1,
      "id": "386cf3b9-0544-456a-80da-9784af80c4a9",
      "metadata": {
        "colab": {
          "base_uri": "https://localhost:8080/",
          "height": 35
        },
        "id": "386cf3b9-0544-456a-80da-9784af80c4a9",
        "outputId": "a2621f18-fda6-4525-ac76-b05366f875ee"
      },
      "outputs": [
        {
          "output_type": "execute_result",
          "data": {
            "text/plain": [
              "'XWyPDQAAQBAJ'"
            ],
            "application/vnd.google.colaboratory.intrinsic+json": {
              "type": "string"
            }
          },
          "metadata": {},
          "execution_count": 1
        }
      ],
      "source": [
        "import requests\n",
        "\n",
        "root_url = \"https://www.googleapis.com/books/v1/volumes?q=mark twain\"\n",
        "response = requests.get(root_url)\n",
        "book_results = response.json()\n",
        "book_results['items'][0]['id']\n",
        "\n"
      ]
    },
    {
      "cell_type": "markdown",
      "id": "7dbb79b7-1f58-4e03-a78a-feefb5bd79c7",
      "metadata": {
        "id": "7dbb79b7-1f58-4e03-a78a-feefb5bd79c7"
      },
      "source": [
        "We can confirm this by viewing the `book_results` variable -- of course, its a bit long."
      ]
    },
    {
      "cell_type": "markdown",
      "id": "d2bdeea0-afa1-408e-ba50-0d3c55d48333",
      "metadata": {
        "id": "d2bdeea0-afa1-408e-ba50-0d3c55d48333"
      },
      "source": [
        "1. Create a function called `make_request` that takes in the url as an argument and returns the results."
      ]
    },
    {
      "cell_type": "code",
      "execution_count": 2,
      "id": "351cfc1c-ee9a-409e-b23f-4b99e522fab5",
      "metadata": {
        "id": "351cfc1c-ee9a-409e-b23f-4b99e522fab5"
      },
      "outputs": [],
      "source": [
        "def make_request(root_url):\n",
        "  response = requests.get(root_url)\n",
        "  book_results = response.json()\n",
        "  return book_results\n"
      ]
    },
    {
      "cell_type": "markdown",
      "id": "aa0977c0-9d40-4020-b209-501910c4322d",
      "metadata": {
        "id": "aa0977c0-9d40-4020-b209-501910c4322d"
      },
      "source": [
        "2. Next write a function called `make_params` that takes in a dictionary of parameters and then returns a string of those query parameters.\n",
        "\n",
        "For example if we provide as an input to the function the following:"
      ]
    },
    {
      "cell_type": "code",
      "execution_count": 3,
      "id": "3e9fb784-17ac-4d01-80fa-60c46de21701",
      "metadata": {
        "colab": {
          "base_uri": "https://localhost:8080/",
          "height": 35
        },
        "id": "3e9fb784-17ac-4d01-80fa-60c46de21701",
        "outputId": "99120ef4-6534-44f5-c40e-867f34cfd644"
      },
      "outputs": [
        {
          "output_type": "execute_result",
          "data": {
            "text/plain": [
              "'mark twain'"
            ],
            "application/vnd.google.colaboratory.intrinsic+json": {
              "type": "string"
            }
          },
          "metadata": {},
          "execution_count": 3
        }
      ],
      "source": [
        "params = {'q': 'mark twain', 'maxResults': '20'}\n",
        "list(params.items())[0][1]"
      ]
    },
    {
      "cell_type": "markdown",
      "id": "74cbbcac-2a0f-4967-bc9d-a70c4c5e7bcc",
      "metadata": {
        "id": "74cbbcac-2a0f-4967-bc9d-a70c4c5e7bcc"
      },
      "source": [
        "We should be returned:"
      ]
    },
    {
      "cell_type": "code",
      "execution_count": null,
      "id": "e15ba903-43c4-425a-ba10-7a6631633386",
      "metadata": {
        "id": "e15ba903-43c4-425a-ba10-7a6631633386",
        "outputId": "06119976-48e7-41a0-f8f0-5cea7f5301d0"
      },
      "outputs": [
        {
          "data": {
            "text/plain": [
              "'q=mark twain&maxResults=20'"
            ]
          },
          "execution_count": 14,
          "metadata": {},
          "output_type": "execute_result"
        }
      ],
      "source": [
        "'q=mark twain&maxResults=20'"
      ]
    },
    {
      "cell_type": "markdown",
      "id": "3e0f1e77-6862-43af-937a-c571b0bc3b4a",
      "metadata": {
        "id": "3e0f1e77-6862-43af-937a-c571b0bc3b4a"
      },
      "source": [
        "And if we provide to the function the following:"
      ]
    },
    {
      "cell_type": "code",
      "execution_count": 4,
      "id": "0dc657ba-e2fc-4a2a-8d43-39aa40b5b5a2",
      "metadata": {
        "id": "0dc657ba-e2fc-4a2a-8d43-39aa40b5b5a2"
      },
      "outputs": [],
      "source": [
        "params = {'q': 'mark twain', 'maxResults': '20', 'filter': 'ebooks'}"
      ]
    },
    {
      "cell_type": "markdown",
      "id": "8a50de1c-ccfc-4e35-a63c-28aba78e286a",
      "metadata": {
        "id": "8a50de1c-ccfc-4e35-a63c-28aba78e286a"
      },
      "source": [
        "We should be returned:"
      ]
    },
    {
      "cell_type": "code",
      "execution_count": null,
      "id": "daccd6a8-60c0-4650-ba4d-98f726185bf4",
      "metadata": {
        "id": "daccd6a8-60c0-4650-ba4d-98f726185bf4"
      },
      "outputs": [],
      "source": [
        "'q=mark twain&maxResults=20&filter=ebooks'"
      ]
    },
    {
      "cell_type": "markdown",
      "id": "b678a523-e268-47cf-9d01-d281a3fd0ead",
      "metadata": {
        "id": "b678a523-e268-47cf-9d01-d281a3fd0ead"
      },
      "source": [
        "> Write the function in the cell below."
      ]
    },
    {
      "cell_type": "code",
      "source": [
        "def make_params(params):\n",
        "  return '&'.join([param[0]+ '=' + param[1] for param in list(params.items())])\n",
        "\n",
        "make_params(params)"
      ],
      "metadata": {
        "id": "srYEyl8EnjYv",
        "outputId": "28310f45-7741-4092-db1c-526e5ddc4fe7",
        "colab": {
          "base_uri": "https://localhost:8080/",
          "height": 35
        }
      },
      "id": "srYEyl8EnjYv",
      "execution_count": 5,
      "outputs": [
        {
          "output_type": "execute_result",
          "data": {
            "text/plain": [
              "'q=mark twain&maxResults=20&filter=ebooks'"
            ],
            "application/vnd.google.colaboratory.intrinsic+json": {
              "type": "string"
            }
          },
          "metadata": {},
          "execution_count": 5
        }
      ]
    },
    {
      "cell_type": "markdown",
      "id": "b646643a-086b-45f7-948a-f8c78377c20b",
      "metadata": {
        "id": "b646643a-086b-45f7-948a-f8c78377c20b"
      },
      "source": [
        "3. Parsing Parameters"
      ]
    },
    {
      "cell_type": "markdown",
      "id": "7e2d39e1-1e51-4834-b4f6-36a911d22b85",
      "metadata": {
        "id": "7e2d39e1-1e51-4834-b4f6-36a911d22b85"
      },
      "source": [
        "Now write a function called `parse_ids` that given a `response` from the google books volumes endpoint returns a list of the book ids."
      ]
    },
    {
      "cell_type": "markdown",
      "id": "a862f0cb-0de4-4f77-9f06-ff9be8990f1b",
      "metadata": {
        "id": "a862f0cb-0de4-4f77-9f06-ff9be8990f1b"
      },
      "source": [
        "> For example, if we pass the following `book_response` to the `parse_ids` function."
      ]
    },
    {
      "cell_type": "code",
      "execution_count": null,
      "id": "1a194e6a-1efa-4ea0-85e6-270ef860232e",
      "metadata": {
        "id": "1a194e6a-1efa-4ea0-85e6-270ef860232e"
      },
      "outputs": [],
      "source": [
        "import json\n",
        "root_url = \"https://www.googleapis.com/books/v1/volumes?q=mark twain\"\n",
        "response = requests.get(root_url)\n",
        "book_response = response.json()\n",
        "book_response['items']"
      ]
    },
    {
      "cell_type": "markdown",
      "id": "a822e9b6-6241-4da3-81e4-a7608213e703",
      "metadata": {
        "id": "a822e9b6-6241-4da3-81e4-a7608213e703"
      },
      "source": [
        "We should get the following."
      ]
    },
    {
      "cell_type": "code",
      "execution_count": null,
      "id": "7392c0ae-2c29-45f7-938a-c57c100393ca",
      "metadata": {
        "colab": {
          "base_uri": "https://localhost:8080/"
        },
        "id": "7392c0ae-2c29-45f7-938a-c57c100393ca",
        "outputId": "bbd3aee4-1cd8-4719-e43c-7b10d1ec8b43"
      },
      "outputs": [
        {
          "output_type": "execute_result",
          "data": {
            "text/plain": [
              "['XWyPDQAAQBAJ',\n",
              " 'lj1Rc68iZ0YC',\n",
              " 'YqceBgAAQBAJ',\n",
              " 'qwGgE6LbWuoC',\n",
              " 'iMiUtgEACAAJ',\n",
              " 'j4kOAAAAMAAJ',\n",
              " 'S6kwDwAAQBAJ',\n",
              " 'svkyM1SmbHkC',\n",
              " 'CzNMEAAAQBAJ',\n",
              " 'KRHNCQAAQBAJ']"
            ]
          },
          "metadata": {},
          "execution_count": 82
        }
      ],
      "source": [
        "def parse_ids(responses):\n",
        "  return [response['id'] for response in responses['items']]\n",
        "\n",
        "\n",
        "parse_ids(book_response)\n",
        "\n",
        "# ['lj1Rc68iZ0YC',\n",
        "#  'InlaAAAAMAAJ',\n",
        "#  'LxLYQjAz180C',\n",
        "#  'NaMOWJwb0-4C',\n",
        "#  'svkyM1SmbHkC',\n",
        "#  '4zdalyq897AC',\n",
        "#  '19jnAgAAQBAJ',\n",
        "#  'HXQKAQAAQBAJ',\n",
        "#  's5yymAEACAAJ',\n",
        "#  'N2MqDwAAQBAJ']"
      ]
    },
    {
      "cell_type": "markdown",
      "id": "b6f8475f-7888-43c1-a7ac-df28c2f98d2a",
      "metadata": {
        "id": "b6f8475f-7888-43c1-a7ac-df28c2f98d2a"
      },
      "source": [
        "Finally write a function that allows us to pass through a response from the API as one argument, and a list of keys as the other argument.  The function should return to us a list of dictionaries where the keys of each dictionary are the keys passed through the function.\n",
        "\n",
        "The possible returned attributes should be any of:\n",
        "\n",
        "`'title', subtitle', 'authors', 'publisher', 'publishedDate', or 'description'`."
      ]
    },
    {
      "cell_type": "markdown",
      "id": "77d2f49a-7c4b-4d08-9733-a898ceb38e2a",
      "metadata": {
        "id": "77d2f49a-7c4b-4d08-9733-a898ceb38e2a"
      },
      "source": [
        "> Notice that these attributes are under the `volumeInfo` key of each book."
      ]
    },
    {
      "cell_type": "markdown",
      "id": "86c98f2c-f32a-457e-839b-263101fb9fdc",
      "metadata": {
        "id": "86c98f2c-f32a-457e-839b-263101fb9fdc"
      },
      "source": [
        "> **Hint**: It may help to write a function that solves this for a single book first, or simply to solve this outside of a function altogether."
      ]
    },
    {
      "cell_type": "code",
      "execution_count": null,
      "id": "4ffe1062-7e1d-4541-880b-e185a8a3ac80",
      "metadata": {
        "colab": {
          "base_uri": "https://localhost:8080/"
        },
        "id": "4ffe1062-7e1d-4541-880b-e185a8a3ac80",
        "outputId": "b02546ac-79ac-46ba-f128-3e0cd82057dc"
      },
      "outputs": [
        {
          "output_type": "execute_result",
          "data": {
            "text/plain": [
              "[{'title': 'Mark Twain', 'authors': ['Geoffrey C. Ward', 'Dayton Duncan']},\n",
              " {'title': 'Mr. Clemens and Mark Twain', 'authors': ['Justin Kaplan']},\n",
              " {'title': 'Mark Twain And The South', 'authors': ['Arthur G. Pettit']},\n",
              " {'title': 'Who Is Mark Twain?', 'authors': ['Mark Twain']},\n",
              " {'title': 'The Mark Twain Collection (Box Set)', 'authors': ['Mark Twain']},\n",
              " {'title': \"Mark Twain's Library of Humor\", 'authors': ['Mark Twain']},\n",
              " {'title': 'Mark Twain’s Book of Animals',\n",
              "  'authors': ['Mark Twain', 'Shelley Fisher Fishkin', 'Barry Moser']},\n",
              " {'title': 'The Extraordinary Mark Twain (according to Susy)',\n",
              "  'authors': ['Barbara Kerley']},\n",
              " {'title': 'Mark Twain Essays', 'authors': ['Mark Twain']},\n",
              " {'title': \"Mark Twain's Autobiography\", 'authors': ['Twain, Mark']}]"
            ]
          },
          "metadata": {},
          "execution_count": 83
        }
      ],
      "source": [
        "def selected_attrs(response, keys = ['title', 'authors']):\n",
        "  final_result=[]\n",
        "  items =[response['volumeInfo'] for response in book_response['items']]\n",
        "  for item in items:\n",
        "    result = {k:v for k,v in item.items() if k in keys}\n",
        "    final_result.append(result)\n",
        "  return final_result\n",
        "\n",
        "selected_attrs(book_response, keys = ['title', 'authors'])\n"
      ]
    },
    {
      "cell_type": "markdown",
      "id": "1703544c-d424-4abd-96fc-4efc61a65f15",
      "metadata": {
        "id": "1703544c-d424-4abd-96fc-4efc61a65f15"
      },
      "source": [
        "```\n",
        "[{'title': 'Mr. Clemens and Mark Twain', 'subtitle': 'A Biography'},\n",
        " {'title': \"Mark Twain's Autobiography\"},\n",
        " {'title': 'The Complete Short Stories of Mark Twain'}]\n",
        "```"
      ]
    },
    {
      "cell_type": "code",
      "execution_count": null,
      "id": "db8be82e-be73-4bb8-9743-e42169199664",
      "metadata": {
        "colab": {
          "base_uri": "https://localhost:8080/"
        },
        "id": "db8be82e-be73-4bb8-9743-e42169199664",
        "outputId": "e8b649c5-27c7-4ddb-af80-52e0cbf15756"
      },
      "outputs": [
        {
          "output_type": "execute_result",
          "data": {
            "text/plain": [
              "[{'title': 'Mark Twain'},\n",
              " {'title': 'Mr. Clemens and Mark Twain', 'subtitle': 'A Biography'},\n",
              " {'title': 'Mark Twain And The South'},\n",
              " {'title': 'Who Is Mark Twain?'},\n",
              " {'title': 'The Mark Twain Collection (Box Set)'},\n",
              " {'title': \"Mark Twain's Library of Humor\"},\n",
              " {'title': 'Mark Twain’s Book of Animals'},\n",
              " {'title': 'The Extraordinary Mark Twain (according to Susy)'},\n",
              " {'title': 'Mark Twain Essays'},\n",
              " {'title': \"Mark Twain's Autobiography\"}]"
            ]
          },
          "metadata": {},
          "execution_count": 84
        }
      ],
      "source": [
        "selected_attrs(book_response, keys = ['title', 'subtitle'])\n",
        "\n",
        "# [{'title': 'Mr. Clemens and Mark Twain', 'subtitle': 'A Biography'},\n",
        "#  {'title': \"Mark Twain's Autobiography\"},\n",
        "#  {'title': 'The Complete Short Stories of Mark Twain'},\n",
        "#  {'title': 'Roughing It'},\n",
        "#  {'title': 'The Extraordinary Mark Twain (according to Susy)'},\n",
        "#  {'title': 'Mississippi Writings'},\n",
        "#  {'title': 'The Adventures of Mark Twain by Huckleberry Finn',\n",
        "#   'subtitle': 'with audio recording'},\n",
        "#  {'title': 'Autobiography of Mark Twain, Volume 2',\n",
        "#   'subtitle': 'The Complete and Authoritative Edition'},\n",
        "#  {'title': 'Mark Twain',\n",
        "#   'subtitle': 'Man in White : the Grand Adventure of His Final Years'},\n",
        "#  {'title': 'Mark Twain and Philosophy'}]"
      ]
    },
    {
      "cell_type": "markdown",
      "id": "c5450582-0ca3-46bb-bd13-59946d0f7446",
      "metadata": {
        "id": "c5450582-0ca3-46bb-bd13-59946d0f7446"
      },
      "source": [
        "And if no keys are provided, the function should return `title` and `authors` like so."
      ]
    },
    {
      "cell_type": "code",
      "execution_count": null,
      "id": "aa96c069-f3f2-468d-8f2c-889cb35570c7",
      "metadata": {
        "colab": {
          "base_uri": "https://localhost:8080/"
        },
        "id": "aa96c069-f3f2-468d-8f2c-889cb35570c7",
        "outputId": "8f89720a-4c10-4946-b138-2015e99de821"
      },
      "outputs": [
        {
          "output_type": "execute_result",
          "data": {
            "text/plain": [
              "[{'title': 'Mark Twain', 'authors': ['Geoffrey C. Ward', 'Dayton Duncan']},\n",
              " {'title': 'Mr. Clemens and Mark Twain', 'authors': ['Justin Kaplan']},\n",
              " {'title': 'Mark Twain And The South', 'authors': ['Arthur G. Pettit']},\n",
              " {'title': 'Who Is Mark Twain?', 'authors': ['Mark Twain']},\n",
              " {'title': 'The Mark Twain Collection (Box Set)', 'authors': ['Mark Twain']},\n",
              " {'title': \"Mark Twain's Library of Humor\", 'authors': ['Mark Twain']},\n",
              " {'title': 'Mark Twain’s Book of Animals',\n",
              "  'authors': ['Mark Twain', 'Shelley Fisher Fishkin', 'Barry Moser']},\n",
              " {'title': 'The Extraordinary Mark Twain (according to Susy)',\n",
              "  'authors': ['Barbara Kerley']},\n",
              " {'title': 'Mark Twain Essays', 'authors': ['Mark Twain']},\n",
              " {'title': \"Mark Twain's Autobiography\", 'authors': ['Twain, Mark']}]"
            ]
          },
          "metadata": {},
          "execution_count": 85
        }
      ],
      "source": [
        "selected_attrs(book_response)\n",
        "\n",
        "# [{'title': 'Mr. Clemens and Mark Twain', 'authors': ['Justin Kaplan']},\n",
        "#  {'title': \"Mark Twain's Autobiography\", 'authors': ['Mark Twain']},\n",
        "#  {'title': 'The Complete Short Stories of Mark Twain',\n",
        "#   'authors': ['Mark Twain']},\n",
        "#  {'title': 'Roughing It', 'authors': ['Mark Twain']},\n",
        "#  {'title': 'The Extraordinary Mark Twain (according to Susy)',\n",
        "#   'authors': ['Barbara Kerley']},\n",
        "#  {'title': 'Mississippi Writings',\n",
        "#   'authors': ['Theophilus Parvin', 'Mark Twain']},\n",
        "#  {'title': 'The Adventures of Mark Twain by Huckleberry Finn',\n",
        "#   'authors': ['Robert Burleigh']},\n",
        "#  {'title': 'Autobiography of Mark Twain, Volume 2', 'authors': ['Mark Twain']},\n",
        "#  {'title': 'Mark Twain', 'authors': ['Michael Shelden']},\n",
        "#  {'title': 'Mark Twain and Philosophy', 'authors': ['Alan Goldman']}]"
      ]
    },
    {
      "cell_type": "markdown",
      "id": "43e25f51-dd27-4dbb-ac9b-143522e89587",
      "metadata": {
        "id": "43e25f51-dd27-4dbb-ac9b-143522e89587"
      },
      "source": [
        "The end."
      ]
    },
    {
      "cell_type": "code",
      "execution_count": null,
      "id": "d362d6e6-4cd9-403c-9434-1784c244ec09",
      "metadata": {
        "id": "d362d6e6-4cd9-403c-9434-1784c244ec09"
      },
      "outputs": [],
      "source": []
    }
  ],
  "metadata": {
    "kernelspec": {
      "display_name": "Python 3 (ipykernel)",
      "language": "python",
      "name": "python3"
    },
    "language_info": {
      "codemirror_mode": {
        "name": "ipython",
        "version": 3
      },
      "file_extension": ".py",
      "mimetype": "text/x-python",
      "name": "python",
      "nbconvert_exporter": "python",
      "pygments_lexer": "ipython3",
      "version": "3.9.7"
    },
    "colab": {
      "provenance": [],
      "include_colab_link": true
    }
  },
  "nbformat": 4,
  "nbformat_minor": 5
}